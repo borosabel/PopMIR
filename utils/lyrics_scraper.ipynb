{
 "cells": [
  {
   "cell_type": "code",
   "execution_count": 9,
   "outputs": [],
   "source": [
    "import json\n",
    "import lyricsgenius as lg\n",
    "import re\n",
    "import configparser"
   ],
   "metadata": {
    "collapsed": false,
    "ExecuteTime": {
     "end_time": "2023-12-07T10:31:37.114748Z",
     "start_time": "2023-12-07T10:31:37.112711Z"
    }
   },
   "id": "d1a9da52"
  },
  {
   "cell_type": "code",
   "execution_count": 10,
   "outputs": [
    {
     "name": "stdout",
     "output_type": "stream",
     "text": [
      "'8YJsBNbm6a9MqlszdNubBh9ORu240TJ_4NNS9VeFQ7nF0N2zXY9Wx3vwe4wdQtrS'\n"
     ]
    }
   ],
   "source": [
    "# Create a ConfigParser object\n",
    "config = configparser.ConfigParser()\n",
    "\n",
    "# Load the config file\n",
    "config.read('./config.ini')  # Update with the correct path to your config file\n",
    "\n",
    "# Get the API key\n",
    "api_key = config['API']['api_key']\n",
    "\n",
    "# Now you can use the api_key variable in your code\n",
    "print(api_key)"
   ],
   "metadata": {
    "collapsed": false,
    "ExecuteTime": {
     "end_time": "2023-12-07T10:31:37.994760Z",
     "start_time": "2023-12-07T10:31:37.992261Z"
    }
   },
   "id": "93c0bdfca269ead7"
  },
  {
   "cell_type": "code",
   "execution_count": 4,
   "id": "13f342fd",
   "metadata": {
    "ExecuteTime": {
     "end_time": "2023-12-07T10:29:27.915256Z",
     "start_time": "2023-12-07T10:29:27.908997Z"
    }
   },
   "outputs": [],
   "source": [
    "def save_json(save_name, dictionary):\n",
    "    with open(f'{save_name}.json', 'w') as json_file:\n",
    "        json.dump(dictionary, json_file, ensure_ascii=False, indent=4)\n",
    "    print(f'Data has been saved to \"{save_name}.json\"')\n",
    "    \n",
    "def load_json(file_name):\n",
    "    with open(f'{file_name}.json', 'r') as json_file:\n",
    "        loaded_data = json.load(json_file)\n",
    "\n",
    "    return loaded_data"
   ]
  },
  {
   "cell_type": "code",
   "execution_count": 5,
   "id": "e83e8918",
   "metadata": {
    "ExecuteTime": {
     "end_time": "2023-12-07T10:29:28.366211Z",
     "start_time": "2023-12-07T10:29:28.364015Z"
    }
   },
   "outputs": [],
   "source": [
    "songArtistPattern = r'\"title\":\"(.*?)\"'\n",
    "songTitlePattern = r'\"additionalDescription\":\"(.*?)\"'\n",
    "songPositionPattern=r'\"positionDisplay\":(\\d+)'\n",
    "songYoutubeLinkPattern=r'https:\\/\\/youtube\\.com\\/embed\\/(\\w+)'\n",
    "\n",
    "def build_dict(text1):\n",
    "    \"\"\"\n",
    "    Input: String\n",
    "    Function to build up the dictionary by extracting the defined patterns from the text.\n",
    "    Returns a dictionary.\n",
    "    \"\"\"\n",
    "    _dict = {}\n",
    "    songTitleMatches = re.findall(songTitlePattern, text1)\n",
    "    songArtistMatches = re.findall(songArtistPattern, text1)\n",
    "    songPositionMatches = re.findall(songPositionPattern, text1)\n",
    "    youtubeLinkMatches = re.findall(songYoutubeLinkPattern, text1)\n",
    "    \n",
    "    for title, artist, position, youtube_url in zip(songTitleMatches, songArtistMatches, songPositionMatches, youtubeLinkMatches):\n",
    "        entry = {\"title\": title, \"artist\": artist, \"youtube_url\": youtube_url}\n",
    "        _dict[int(position)] = entry\n",
    " \n",
    "    return _dict\n",
    "\n",
    "def cleanup(text):\n",
    "    \"\"\"\n",
    "    Input: string\n",
    "    Function to clean up the text.\n",
    "    Returns a string.\n",
    "    \"\"\"\n",
    "    _text = text.lower()\n",
    "    _text = _text.replace('.', '')\n",
    "    _text = _text.replace('.', '')\n",
    "    _text = _text.replace('-', ' ')\n",
    "    _text = _text.replace(\"’\", '')\n",
    "    _text = _text.replace(\"?\", '')\n",
    "    _text = _text.replace(\"!\", '')\n",
    "    _text = _text.replace(\"*\", 'i')\n",
    "    _text = _text.replace('&#8217;', '')\n",
    "    _text = _text.replace(',', '')\n",
    "    _text = _text.replace('&amp;', '&')\n",
    "    return _text"
   ]
  },
  {
   "cell_type": "code",
   "execution_count": null,
   "outputs": [],
   "source": [
    "def lyrics_download(dict, genius_object, save_dict_name):\n",
    "    for position, data in dict.items():\n",
    "        artist = data['artist']\n",
    "\n",
    "        if 'feat.' in artist:\n",
    "            artist = artist.split('feat.')[0]\n",
    "    \n",
    "        artist = cleanup(artist)\n",
    "        title = cleanup(data['title'])\n",
    "    \n",
    "        print(f'-- AT POSITION:{position} --')\n",
    "    \n",
    "        if data['lyrics'] != '' or data['lyrics'] == 'skip':\n",
    "            if data['lyrics'] != '' and data['lyrics'] != 'skip':\n",
    "                print(\"-- DUE TO LYRICS ALREADY FOUND -- \\n\")\n",
    "            elif data['lyrics'] == 'skip':\n",
    "                print(\"-- DUE TO LYRICS SET TO 'SKIP' -- \\n\")\n",
    "            continue\n",
    "    \n",
    "        found_lyrics = False\n",
    "        songs_by_artist = genius_object.search_artist(artist, max_songs=10, sort='popularity')\n",
    "    \n",
    "        try:\n",
    "            for song_object in songs_by_artist.songs:\n",
    "                song_title = cleanup(song_object.title)\n",
    "                if(title in song_title):\n",
    "                    print(f'--- FOUND the lyrics url for: {artist} - {title} ---\\n')\n",
    "                    dict[position]['lyrics'] = song_object.lyrics\n",
    "                    save_json(save_dict_name, dict)\n",
    "                    found_lyrics = True\n",
    "                    continue\n",
    "    \n",
    "            if found_lyrics is False:\n",
    "                print(f'--- Lyrics NOT found for: {artist} - {title} --- \\n')\n",
    "                dict[position]['lyrics'] = 'skip'\n",
    "                save_json(save_dict_name, dict)\n",
    "    \n",
    "        except AttributeError:\n",
    "            print(f'--- EXCEPTION AT: {artist} - {title} --- \\n')\n",
    "            dict[position]['lyrics'] = 'skip'\n",
    "            save_json(save_dict_name, dict)"
   ],
   "metadata": {
    "collapsed": false
   },
   "id": "48d6a81614151491"
  },
  {
   "cell_type": "code",
   "execution_count": 6,
   "id": "6ee16da8",
   "metadata": {
    "ExecuteTime": {
     "end_time": "2023-12-07T10:29:28.689986Z",
     "start_time": "2023-12-07T10:29:28.679186Z"
    }
   },
   "outputs": [
    {
     "name": "stdout",
     "output_type": "stream",
     "text": [
      "Data has been saved to \"east_coast.json\"\n",
      "Data has been saved to \"west_coast.json\"\n"
     ]
    }
   ],
   "source": [
    "# Specify the path to your text file\n",
    "east_coast_file_path = './rolling_stones_east_coast.txt'\n",
    "west_coast_file_path = './rolling_stones_west_coast.txt'\n",
    "\n",
    "with open(east_coast_file_path, 'r') as file:\n",
    "    east_coast_text = file.read()\n",
    "    \n",
    "with open(west_coast_file_path, 'r') as file:\n",
    "    west_coast_text = file.read()\n",
    "\n",
    "east_coast_dict = build_dict(east_coast_text)\n",
    "save_json('east_coast', east_coast_dict)\n",
    "\n",
    "west_coast_dict = build_dict(west_coast_text)\n",
    "save_json('west_coast', west_coast_dict)"
   ]
  },
  {
   "cell_type": "code",
   "execution_count": 7,
   "id": "85bcac43",
   "metadata": {
    "ExecuteTime": {
     "end_time": "2023-12-07T10:29:28.961888Z",
     "start_time": "2023-12-07T10:29:28.960148Z"
    }
   },
   "outputs": [],
   "source": [
    "genius = lg.Genius(api_key, skip_non_songs=True, excluded_terms=[\"(Live)\"], remove_section_headers=True)"
   ]
  },
  {
   "cell_type": "code",
   "execution_count": 8,
   "id": "1ab38a13",
   "metadata": {
    "ExecuteTime": {
     "end_time": "2023-12-07T10:29:29.350977Z",
     "start_time": "2023-12-07T10:29:29.348884Z"
    }
   },
   "outputs": [],
   "source": [
    "# This part is needed because if for some reason we couldn't get the lyrics of a song we just set it to skip so we won't deal with it during the automated process.\n",
    "# This part will set the lyrics back to an empty string if previously it was set to skip so we can try again fetching them.\n",
    "\n",
    "for position, data in east_coast_dict.items():\n",
    "    if east_coast_dict[position]['lyrics'] == 'skip':\n",
    "        east_coast_dict[position]['lyrics'] = ''\n",
    "        \n",
    "for position, data in west_coast_dict.items():\n",
    "    if west_coast_dict[position]['lyrics'] == 'skip':\n",
    "        west_coast_dict[position]['lyrics'] = ''"
   ]
  },
  {
   "cell_type": "code",
   "execution_count": null,
   "id": "65426662",
   "metadata": {
    "scrolled": false
   },
   "outputs": [],
   "source": [
    "lyrics_download(east_coast_dict, genius, 'east_coast')\n",
    "lyrics_download(west_coast_dict, genius, 'west_coast')"
   ]
  }
 ],
 "metadata": {
  "kernelspec": {
   "display_name": "Python 3 (ipykernel)",
   "language": "python",
   "name": "python3"
  },
  "language_info": {
   "codemirror_mode": {
    "name": "ipython",
    "version": 3
   },
   "file_extension": ".py",
   "mimetype": "text/x-python",
   "name": "python",
   "nbconvert_exporter": "python",
   "pygments_lexer": "ipython3",
   "version": "3.9.16"
  }
 },
 "nbformat": 4,
 "nbformat_minor": 5
}
