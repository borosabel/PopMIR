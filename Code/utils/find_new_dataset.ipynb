{
 "cells": [
  {
   "cell_type": "code",
   "execution_count": 31,
   "source": [
    "import utility_functions as utils\n",
    "import importlib\n",
    "import requests\n",
    "from requests.exceptions import Timeout\n",
    "import time\n",
    "import json\n",
    "from openpyxl import load_workbook\n",
    "from openpyxl.styles import PatternFill\n",
    "importlib.reload(utils)"
   ],
   "metadata": {
    "collapsed": false,
    "ExecuteTime": {
     "end_time": "2024-04-05T13:10:16.480750Z",
     "start_time": "2024-04-05T13:10:16.473736Z"
    }
   },
   "id": "40361cd2047eae42",
   "outputs": []
  },
  {
   "cell_type": "code",
   "execution_count": 32,
   "source": [
    "east_coast, west_coast = utils.load_east_west_json()"
   ],
   "metadata": {
    "collapsed": false,
    "ExecuteTime": {
     "end_time": "2024-04-05T13:10:17.691906Z",
     "start_time": "2024-04-05T13:10:17.682594Z"
    }
   },
   "id": "78ac676c7eb2b72",
   "outputs": []
  },
  {
   "cell_type": "code",
   "execution_count": 33,
   "source": [
    "east_coast_filtered = utils.filter_data_between_years(east_coast, 1986, 1996)\n",
    "west_coast_filtered = utils.filter_data_between_years(west_coast, 1986, 1996)"
   ],
   "metadata": {
    "collapsed": false,
    "ExecuteTime": {
     "end_time": "2024-04-05T13:10:18.591728Z",
     "start_time": "2024-04-05T13:10:18.589704Z"
    }
   },
   "id": "e74e82c3d52f439",
   "outputs": []
  },
  {
   "cell_type": "code",
   "execution_count": 34,
   "source": [
    "east_coast_artists = utils.get_set_of_artists(east_coast_filtered)\n",
    "west_coast_artists = utils.get_set_of_artists(west_coast_filtered)"
   ],
   "metadata": {
    "collapsed": false,
    "ExecuteTime": {
     "end_time": "2024-04-05T13:10:20.370644Z",
     "start_time": "2024-04-05T13:10:20.355679Z"
    }
   },
   "id": "7519ef13ca782c93",
   "outputs": []
  },
  {
   "cell_type": "code",
   "execution_count": 21,
   "source": [
    "east_coast_artists"
   ],
   "metadata": {
    "collapsed": false,
    "ExecuteTime": {
     "end_time": "2024-04-05T11:47:30.221035Z",
     "start_time": "2024-04-05T11:47:30.216057Z"
    }
   },
   "id": "fb8eb0978246291f",
   "outputs": []
  },
  {
   "cell_type": "code",
   "execution_count": 35,
   "source": [
    "# Load the existing workbook\n",
    "wb = load_workbook('/Users/borosabel/Documents/Uni/Thesis/PopMIR/Artists.xlsx')\n",
    "ws = wb['East Coast']"
   ],
   "metadata": {
    "collapsed": false,
    "ExecuteTime": {
     "end_time": "2024-04-05T13:12:15.369598Z",
     "start_time": "2024-04-05T13:12:15.325381Z"
    }
   },
   "id": "3233912658f6da6a",
   "outputs": []
  },
  {
   "cell_type": "code",
   "execution_count": 36,
   "source": [
    "# Replace 'path_to_your_file.json' with the actual file path\n",
    "with open('/Users/borosabel/Documents/Uni/Thesis/PopMIR/Data/rolling_stone_100_east_coast.json', 'r') as file:\n",
    "    data = json.load(file)\n",
    "\n",
    "row = 2  # Start from the second row\n",
    "for key, value in data.items():\n",
    "    artist = value[\"artist\"]\n",
    "    song = value['title']\n",
    "    year = value['date']\n",
    "    ws[f'A{row}'] = artist\n",
    "    ws[f'B{row}'] = song\n",
    "    ws[f'C{row}'] = year\n",
    "    row += 1"
   ],
   "metadata": {
    "collapsed": false,
    "ExecuteTime": {
     "end_time": "2024-04-05T13:12:23.060847Z",
     "start_time": "2024-04-05T13:12:23.052849Z"
    }
   },
   "id": "cc2e501ea461dc69",
   "outputs": []
  },
  {
   "cell_type": "code",
   "execution_count": 38,
   "source": [
    "# Load the existing workbook\n",
    "wb = load_workbook('/Users/borosabel/Documents/Uni/Thesis/PopMIR/Artists.xlsx')\n",
    "ws = wb['East Coast']\n",
    "\n",
    "# Strings to look for and the fill color\n",
    "strings_to_color = east_coast_artists\n",
    "fill_color_green = 'AFBE8F'\n",
    "fill_color_red = 'E64C54'\n",
    "\n",
    "# Define the fill\n",
    "fill_green = PatternFill(start_color=fill_color_green, end_color=fill_color_green, fill_type='solid')\n",
    "fill_red = PatternFill(start_color=fill_color_red, end_color=fill_color_red, fill_type='solid')\n",
    "\n",
    "for cell in ws['A']:\n",
    "    if cell.value in strings_to_color:\n",
    "        cell.fill = fill_green\n",
    "    else:\n",
    "        cell.fill = fill_red\n",
    "\n",
    "# Save the workbook\n",
    "wb.save('/Users/borosabel/Documents/Uni/Thesis/PopMIR/Artists.xlsx')"
   ],
   "metadata": {
    "collapsed": false,
    "ExecuteTime": {
     "end_time": "2024-04-05T13:13:52.111995Z",
     "start_time": "2024-04-05T13:13:52.050180Z"
    }
   },
   "id": "42f16c827767d092",
   "outputs": []
  },
  {
   "cell_type": "code",
   "execution_count": 30,
   "source": [
    "# Load the existing workbook\n",
    "wb = load_workbook('/Users/borosabel/Documents/Uni/Thesis/PopMIR/Artists.xlsx')\n",
    "ws = wb.active\n",
    "\n",
    "# Strings to look for and the fill color\n",
    "strings_to_color = west_coast_artists\n",
    "fill_color_green = 'AFBE8F'\n",
    "fill_color_red = 'E64C54'\n",
    "\n",
    "# Define the fill\n",
    "fill_green = PatternFill(start_color=fill_color_green, end_color=fill_color_green, fill_type='solid')\n",
    "fill_red = PatternFill(start_color=fill_color_red, end_color=fill_color_red, fill_type='solid')\n",
    "\n",
    "for cell in ws['A']:\n",
    "    if cell.value in strings_to_color:\n",
    "        cell.fill = fill_green\n",
    "    else:\n",
    "        cell.fill = fill_red\n",
    "\n",
    "# Save the workbook\n",
    "wb.save('/Users/borosabel/Documents/Uni/Thesis/PopMIR/Artists.xlsx')"
   ],
   "metadata": {
    "collapsed": false,
    "ExecuteTime": {
     "end_time": "2024-04-05T12:09:46.041945Z",
     "start_time": "2024-04-05T12:09:45.986689Z"
    }
   },
   "id": "dd1a866ac4260a30",
   "outputs": []
  },
  {
   "cell_type": "code",
   "execution_count": 39,
   "source": [
    "from openpyxl import load_workbook\n",
    "\n",
    "# Load the existing workbook\n",
    "wb = load_workbook('/Users/borosabel/Documents/Uni/Thesis/PopMIR/Artists.xlsx')\n",
    "ws = wb['East Coast']\n",
    "\n",
    "row = 2\n",
    "for i in east_coast_artists:\n",
    "    ws[f'D{row}'] = i\n",
    "    row += 1\n",
    "\n",
    "wb.save('/Users/borosabel/Documents/Uni/Thesis/PopMIR/Artists.xlsx')"
   ],
   "metadata": {
    "collapsed": false,
    "ExecuteTime": {
     "end_time": "2024-04-05T13:15:42.332274Z",
     "start_time": "2024-04-05T13:15:42.269940Z"
    }
   },
   "id": "496b853f7c08492b",
   "outputs": []
  },
  {
   "cell_type": "code",
   "execution_count": 16,
   "source": [
    "# Cleanup\n",
    "for index, artist in enumerate(east_coast_artists):\n",
    "    east_coast_artists[index] = utils.artist_cleanup(artist)\n",
    "\n",
    "for index, artist in enumerate(west_coast_artists):\n",
    "    west_coast_artists[index] = utils.artist_cleanup(artist)"
   ],
   "metadata": {
    "collapsed": false,
    "ExecuteTime": {
     "end_time": "2024-04-05T11:47:20.109631Z",
     "start_time": "2024-04-05T11:47:20.107229Z"
    }
   },
   "id": "6988ff13135293c0",
   "outputs": []
  },
  {
   "cell_type": "code",
   "execution_count": 5,
   "source": [
    "east_coast_artists"
   ],
   "metadata": {
    "collapsed": false,
    "ExecuteTime": {
     "end_time": "2024-03-15T09:32:33.579035Z",
     "start_time": "2024-03-15T09:32:33.574589Z"
    }
   },
   "id": "cb46c7e7d7c16345",
   "outputs": []
  },
  {
   "cell_type": "code",
   "execution_count": 235,
   "source": [
    "genius = utils.get_genius_object()"
   ],
   "metadata": {
    "collapsed": false,
    "ExecuteTime": {
     "end_time": "2024-02-23T07:38:34.015004Z",
     "start_time": "2024-02-23T07:38:33.972816Z"
    }
   },
   "id": "dca1a896eab5f1c3",
   "outputs": []
  },
  {
   "cell_type": "code",
   "execution_count": 14,
   "source": [
    "east_coast_artists_json = utils.load_json('east_coast_artists.json')\n",
    "west_coast_artists_json = utils.load_json('west_coast_artists.json')"
   ],
   "metadata": {
    "collapsed": false,
    "ExecuteTime": {
     "end_time": "2024-03-06T16:04:00.278505Z",
     "start_time": "2024-03-06T16:04:00.274074Z"
    }
   },
   "id": "74f1f73c28a31c38",
   "outputs": []
  },
  {
   "cell_type": "code",
   "execution_count": 6,
   "source": [
    "# utils.save_json('west_coast_artists.json', west_coast_artists)\n",
    "# utils.save_json('east_coast_artists.json', east_coast_artists)"
   ],
   "metadata": {
    "collapsed": false,
    "ExecuteTime": {
     "end_time": "2024-02-27T22:33:08.446407Z",
     "start_time": "2024-02-27T22:33:08.429606Z"
    }
   },
   "id": "d0246d99fdac0d40",
   "outputs": []
  },
  {
   "cell_type": "code",
   "execution_count": 230,
   "source": [
    "for artist in west_coast_artists_json.keys():\n",
    "    if west_coast_artists_json[artist] != 'SKIP':\n",
    "        try:\n",
    "            artist_object = genius.search_artist(artist, max_songs=1)\n",
    "            artist_information = genius.artist(artist_object.id)['artist']\n",
    "\n",
    "            if artist_information and west_coast_artists_json[artist] == '':\n",
    "                temp = {\n",
    "                    \"id\": artist_information['id']\n",
    "                }\n",
    "                new_key = artist_information['name']\n",
    "                west_coast_artists_json[new_key] = temp\n",
    "                del west_coast_artists_json[artist]\n",
    "            else:\n",
    "                print(f'--- SKIPPING: {artist} ---- \\n')\n",
    "\n",
    "        except AttributeError:\n",
    "            print(f'--- ATTRITBUTE ERROR EXCEPTION AT: {artist} ---- \\n')\n",
    "            west_coast_artists_json[artist] = 'SKIP'\n",
    "        except Timeout:\n",
    "            print(f'--- TIMEOUT AT: {artist} ---- \\n')\n",
    "            west_coast_artists_json[artist] = 'SKIP'\n",
    "        except requests.exceptions.RequestException as e:\n",
    "            # Handle other requests exceptions\n",
    "            print(f'--- REQUEST EXCEPTION AT: {artist}: {e} ---- \\n')\n",
    "            west_coast_artists_json[artist] = 'SKIP'\n",
    "        finally:\n",
    "            utils.save_json('west_coast_artists.json', west_coast_artists_json)\n",
    "\n",
    "        time.sleep(1)"
   ],
   "metadata": {
    "collapsed": false,
    "ExecuteTime": {
     "end_time": "2024-02-22T20:58:09.693354Z",
     "start_time": "2024-02-22T20:53:55.972935Z"
    }
   },
   "id": "95703cca7e50cd1f",
   "outputs": []
  },
  {
   "cell_type": "markdown",
   "source": [],
   "metadata": {
    "collapsed": false
   },
   "id": "b7d22ac668243424"
  },
  {
   "cell_type": "code",
   "execution_count": 220,
   "source": [
    "for artist in east_coast_artists_json.keys():\n",
    "    if east_coast_artists_json[artist] != 'SKIP':\n",
    "        try:\n",
    "            artist_object = genius.search_artist(artist, max_songs=1)\n",
    "            artist_information = genius.artist(artist_object.id)['artist']\n",
    "    \n",
    "            if artist_information and east_coast_artists_json[artist] == '':\n",
    "                temp = {\n",
    "                    \"id\": artist_information['id']\n",
    "                }\n",
    "                new_key = artist_information['name']\n",
    "                east_coast_artists_json[new_key] = temp\n",
    "                del east_coast_artists_json[artist]\n",
    "            else:\n",
    "                print(f'--- SKIPPING: {artist} ---- \\n')\n",
    "    \n",
    "        except AttributeError:\n",
    "            print(f'--- ATTRITBUTE ERROR EXCEPTION AT: {artist} ---- \\n')\n",
    "            east_coast_artists_json[artist] = 'SKIP'\n",
    "        except Timeout:\n",
    "            print(f'--- TIMEOUT AT: {artist} ---- \\n')\n",
    "            east_coast_artists_json[artist] = 'SKIP'\n",
    "        except requests.exceptions.RequestException as e:\n",
    "            # Handle other requests exceptions\n",
    "            print(f'--- REQUEST EXCEPTION AT: {artist}: {e} ---- \\n')\n",
    "            east_coast_artists_json[artist] = 'SKIP'\n",
    "        finally:\n",
    "            utils.save_json('east_coast_artists.json', east_coast_artists_json)\n",
    "            \n",
    "        time.sleep(1)"
   ],
   "metadata": {
    "collapsed": false,
    "ExecuteTime": {
     "end_time": "2024-02-22T18:36:59.101105Z",
     "start_time": "2024-02-22T18:28:45.382423Z"
    }
   },
   "id": "da8d7dedc0a6ff73",
   "outputs": []
  },
  {
   "cell_type": "code",
   "execution_count": 245,
   "source": [
    "a = genius.artist(west_coast_artists_json['N.W.A']['id'])['artist']"
   ],
   "metadata": {
    "collapsed": false,
    "ExecuteTime": {
     "end_time": "2024-02-23T07:41:52.185456Z",
     "start_time": "2024-02-23T07:41:51.612218Z"
    }
   },
   "id": "bb3c3cdeb243593b",
   "outputs": []
  },
  {
   "cell_type": "code",
   "execution_count": 250,
   "source": [
    "b = genius.artist_albums(west_coast_artists_json['N.W.A']['id'])['albums']"
   ],
   "metadata": {
    "collapsed": false,
    "ExecuteTime": {
     "end_time": "2024-02-23T07:45:18.089457Z",
     "start_time": "2024-02-23T07:45:17.830353Z"
    }
   },
   "id": "a4069233491d3718",
   "outputs": []
  },
  {
   "cell_type": "code",
   "execution_count": 262,
   "source": [
    "for artist in east_coast_artists_json.keys():\n",
    "    if east_coast_artists_json[artist] != 'SKIP' and isinstance(east_coast_artists_json[artist], dict):\n",
    "        try:\n",
    "            artist_id = east_coast_artists_json[artist]['id']\n",
    "            artist_albums = genius.search_albums(artist_id)\n",
    "\n",
    "            if artist_albums and 'albums' not in east_coast_artists_json[artist]:\n",
    "                for album in artist_albums:\n",
    "                    if(1980 <= album['release_date_components']['year'] <= 1998):\n",
    "                        temp = {\n",
    "                            \"id\": album['id'],\n",
    "                            \"full_title\": album['full_title'] \n",
    "                        }\n",
    "                        east_coast_artists_json['artist']['album'] = temp\n",
    "            else:\n",
    "                print(f'--- SKIPPING: {artist} ---- \\n')\n",
    "\n",
    "        except AttributeError:\n",
    "            print(f'--- ATTRITBUTE ERROR EXCEPTION AT: {artist} ---- \\n')\n",
    "            east_coast_artists_json[artist] = 'SKIP'\n",
    "        except Timeout:\n",
    "            print(f'--- TIMEOUT AT: {artist} ---- \\n')\n",
    "            east_coast_artists_json[artist] = 'SKIP'\n",
    "        except requests.exceptions.RequestException as e:\n",
    "            # Handle other requests exceptions\n",
    "            print(f'--- REQUEST EXCEPTION AT: {artist}: {e} ---- \\n')\n",
    "            east_coast_artists_json[artist] = 'SKIP'\n",
    "        finally:\n",
    "            utils.save_json('east_coast_artists.json', east_coast_artists_json)\n",
    "\n",
    "        time.sleep(1)"
   ],
   "metadata": {
    "collapsed": false,
    "ExecuteTime": {
     "end_time": "2024-02-23T08:04:44.474881Z",
     "start_time": "2024-02-23T08:04:43.906593Z"
    }
   },
   "id": "dfddac326f2da4c",
   "outputs": []
  },
  {
   "cell_type": "code",
   "execution_count": 254,
   "source": [],
   "metadata": {
    "collapsed": false,
    "ExecuteTime": {
     "end_time": "2024-02-23T07:53:49.638552Z",
     "start_time": "2024-02-23T07:53:49.626300Z"
    }
   },
   "id": "896ee65ea34d5a21",
   "outputs": []
  },
  {
   "cell_type": "code",
   "execution_count": null,
   "source": [],
   "metadata": {
    "collapsed": false
   },
   "id": "2fa2854e41f0e1b",
   "outputs": []
  }
 ],
 "metadata": {
  "kernelspec": {
   "display_name": "Python 3",
   "language": "python",
   "name": "python3"
  },
  "language_info": {
   "codemirror_mode": {
    "name": "ipython",
    "version": 2
   },
   "file_extension": ".py",
   "mimetype": "text/x-python",
   "name": "python",
   "nbconvert_exporter": "python",
   "pygments_lexer": "ipython2",
   "version": "2.7.6"
  }
 },
 "nbformat": 4,
 "nbformat_minor": 5
}
