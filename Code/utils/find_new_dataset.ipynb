{
 "cells": [
  {
   "cell_type": "code",
   "execution_count": 31,
   "outputs": [
    {
     "data": {
      "text/plain": "<module 'utility_functions' from '/Users/borosabel/Documents/Uni/Thesis/PopMIR/Code/utils/utility_functions.py'>"
     },
     "execution_count": 31,
     "metadata": {},
     "output_type": "execute_result"
    }
   ],
   "source": [
    "import utility_functions as utils\n",
    "import importlib\n",
    "import requests\n",
    "from requests.exceptions import Timeout\n",
    "import time\n",
    "import json\n",
    "from openpyxl import load_workbook\n",
    "from openpyxl.styles import PatternFill\n",
    "importlib.reload(utils)"
   ],
   "metadata": {
    "collapsed": false,
    "ExecuteTime": {
     "end_time": "2024-04-05T13:10:16.480750Z",
     "start_time": "2024-04-05T13:10:16.473736Z"
    }
   },
   "id": "40361cd2047eae42"
  },
  {
   "cell_type": "code",
   "execution_count": 32,
   "outputs": [],
   "source": [
    "east_coast, west_coast = utils.load_east_west_json()"
   ],
   "metadata": {
    "collapsed": false,
    "ExecuteTime": {
     "end_time": "2024-04-05T13:10:17.691906Z",
     "start_time": "2024-04-05T13:10:17.682594Z"
    }
   },
   "id": "78ac676c7eb2b72"
  },
  {
   "cell_type": "code",
   "execution_count": 33,
   "outputs": [],
   "source": [
    "east_coast_filtered = utils.filter_data_between_years(east_coast, 1986, 1996)\n",
    "west_coast_filtered = utils.filter_data_between_years(west_coast, 1986, 1996)"
   ],
   "metadata": {
    "collapsed": false,
    "ExecuteTime": {
     "end_time": "2024-04-05T13:10:18.591728Z",
     "start_time": "2024-04-05T13:10:18.589704Z"
    }
   },
   "id": "e74e82c3d52f439"
  },
  {
   "cell_type": "code",
   "execution_count": 34,
   "outputs": [],
   "source": [
    "east_coast_artists = utils.get_set_of_artists(east_coast_filtered)\n",
    "west_coast_artists = utils.get_set_of_artists(west_coast_filtered)"
   ],
   "metadata": {
    "collapsed": false,
    "ExecuteTime": {
     "end_time": "2024-04-05T13:10:20.370644Z",
     "start_time": "2024-04-05T13:10:20.355679Z"
    }
   },
   "id": "7519ef13ca782c93"
  },
  {
   "cell_type": "code",
   "execution_count": 21,
   "outputs": [
    {
     "data": {
      "text/plain": "['MC Shan',\n 'Organized Konfusion',\n 'Eric B. and Rakim',\n 'A Tribe Called Quest feat. Leaders of the New School',\n 'Big Daddy Kane',\n 'Rob Base and DJ E-Z Rock',\n 'Ol&#8217; Dirty Bastard',\n 'Raekwon feat. Ghostface Killah, Method Man, and Cappadonna',\n 'Slick Rick',\n 'Public Enemy',\n 'Black Moon',\n 'The Notorious B.I.G.',\n 'EPMD',\n 'Audio Two',\n 'Boogie Down Productions',\n 'Salt-N-Pepa',\n 'Jeru the Damaja',\n 'Marley Marl feat. Big Daddy Kane, Masta Ace, Kool G Rap, and Craig G',\n 'Run-D.M.C.',\n 'A Tribe Called Quest',\n 'Craig Mack feat. the Notorious B.I.G., Busta Rhymes, LL Cool J, and Rampage',\n 'Nas',\n 'Mobb Deep',\n 'De La Soul',\n 'Nice &amp; Smooth',\n 'Ultramagenetic MCs',\n 'Queen Latifah feat. Monie Love',\n 'Beastie Boys',\n 'Wu-Tang Clan',\n 'Biz Markie',\n 'Redman',\n 'Kool G. Rap &amp; DJ Polo',\n 'Roxanne Shante',\n 'Naughty by Nature',\n 'MC Lyte',\n 'Gang Starr',\n 'Pete Rock and C.L. Smooth']"
     },
     "execution_count": 21,
     "metadata": {},
     "output_type": "execute_result"
    }
   ],
   "source": [
    "east_coast_artists"
   ],
   "metadata": {
    "collapsed": false,
    "ExecuteTime": {
     "end_time": "2024-04-05T11:47:30.221035Z",
     "start_time": "2024-04-05T11:47:30.216057Z"
    }
   },
   "id": "fb8eb0978246291f"
  },
  {
   "cell_type": "code",
   "execution_count": 35,
   "outputs": [],
   "source": [
    "# Load the existing workbook\n",
    "wb = load_workbook('/Users/borosabel/Documents/Uni/Thesis/PopMIR/Artists.xlsx')\n",
    "ws = wb['East Coast']"
   ],
   "metadata": {
    "collapsed": false,
    "ExecuteTime": {
     "end_time": "2024-04-05T13:12:15.369598Z",
     "start_time": "2024-04-05T13:12:15.325381Z"
    }
   },
   "id": "3233912658f6da6a"
  },
  {
   "cell_type": "code",
   "execution_count": 36,
   "outputs": [],
   "source": [
    "# Replace 'path_to_your_file.json' with the actual file path\n",
    "with open('/Users/borosabel/Documents/Uni/Thesis/PopMIR/Data/rolling_stone_100_east_coast.json', 'r') as file:\n",
    "    data = json.load(file)\n",
    "\n",
    "row = 2  # Start from the second row\n",
    "for key, value in data.items():\n",
    "    artist = value[\"artist\"]\n",
    "    song = value['title']\n",
    "    year = value['date']\n",
    "    ws[f'A{row}'] = artist\n",
    "    ws[f'B{row}'] = song\n",
    "    ws[f'C{row}'] = year\n",
    "    row += 1"
   ],
   "metadata": {
    "collapsed": false,
    "ExecuteTime": {
     "end_time": "2024-04-05T13:12:23.060847Z",
     "start_time": "2024-04-05T13:12:23.052849Z"
    }
   },
   "id": "cc2e501ea461dc69"
  },
  {
   "cell_type": "code",
   "execution_count": 38,
   "outputs": [],
   "source": [
    "# Load the existing workbook\n",
    "wb = load_workbook('/Users/borosabel/Documents/Uni/Thesis/PopMIR/Artists.xlsx')\n",
    "ws = wb['East Coast']\n",
    "\n",
    "# Strings to look for and the fill color\n",
    "strings_to_color = east_coast_artists\n",
    "fill_color_green = 'AFBE8F'\n",
    "fill_color_red = 'E64C54'\n",
    "\n",
    "# Define the fill\n",
    "fill_green = PatternFill(start_color=fill_color_green, end_color=fill_color_green, fill_type='solid')\n",
    "fill_red = PatternFill(start_color=fill_color_red, end_color=fill_color_red, fill_type='solid')\n",
    "\n",
    "for cell in ws['A']:\n",
    "    if cell.value in strings_to_color:\n",
    "        cell.fill = fill_green\n",
    "    else:\n",
    "        cell.fill = fill_red\n",
    "\n",
    "# Save the workbook\n",
    "wb.save('/Users/borosabel/Documents/Uni/Thesis/PopMIR/Artists.xlsx')"
   ],
   "metadata": {
    "collapsed": false,
    "ExecuteTime": {
     "end_time": "2024-04-05T13:13:52.111995Z",
     "start_time": "2024-04-05T13:13:52.050180Z"
    }
   },
   "id": "42f16c827767d092"
  },
  {
   "cell_type": "code",
   "execution_count": 30,
   "outputs": [],
   "source": [
    "# Load the existing workbook\n",
    "wb = load_workbook('/Users/borosabel/Documents/Uni/Thesis/PopMIR/Artists.xlsx')\n",
    "ws = wb.active\n",
    "\n",
    "# Strings to look for and the fill color\n",
    "strings_to_color = west_coast_artists\n",
    "fill_color_green = 'AFBE8F'\n",
    "fill_color_red = 'E64C54'\n",
    "\n",
    "# Define the fill\n",
    "fill_green = PatternFill(start_color=fill_color_green, end_color=fill_color_green, fill_type='solid')\n",
    "fill_red = PatternFill(start_color=fill_color_red, end_color=fill_color_red, fill_type='solid')\n",
    "\n",
    "for cell in ws['A']:\n",
    "    if cell.value in strings_to_color:\n",
    "        cell.fill = fill_green\n",
    "    else:\n",
    "        cell.fill = fill_red\n",
    "\n",
    "# Save the workbook\n",
    "wb.save('/Users/borosabel/Documents/Uni/Thesis/PopMIR/Artists.xlsx')"
   ],
   "metadata": {
    "collapsed": false,
    "ExecuteTime": {
     "end_time": "2024-04-05T12:09:46.041945Z",
     "start_time": "2024-04-05T12:09:45.986689Z"
    }
   },
   "id": "dd1a866ac4260a30"
  },
  {
   "cell_type": "code",
   "execution_count": 39,
   "outputs": [],
   "source": [
    "from openpyxl import load_workbook\n",
    "\n",
    "# Load the existing workbook\n",
    "wb = load_workbook('/Users/borosabel/Documents/Uni/Thesis/PopMIR/Artists.xlsx')\n",
    "ws = wb['East Coast']\n",
    "\n",
    "row = 2\n",
    "for i in east_coast_artists:\n",
    "    ws[f'D{row}'] = i\n",
    "    row += 1\n",
    "\n",
    "wb.save('/Users/borosabel/Documents/Uni/Thesis/PopMIR/Artists.xlsx')"
   ],
   "metadata": {
    "collapsed": false,
    "ExecuteTime": {
     "end_time": "2024-04-05T13:15:42.332274Z",
     "start_time": "2024-04-05T13:15:42.269940Z"
    }
   },
   "id": "496b853f7c08492b"
  },
  {
   "cell_type": "code",
   "execution_count": 16,
   "outputs": [],
   "source": [
    "# Cleanup\n",
    "for index, artist in enumerate(east_coast_artists):\n",
    "    east_coast_artists[index] = utils.artist_cleanup(artist)\n",
    "\n",
    "for index, artist in enumerate(west_coast_artists):\n",
    "    west_coast_artists[index] = utils.artist_cleanup(artist)"
   ],
   "metadata": {
    "collapsed": false,
    "ExecuteTime": {
     "end_time": "2024-04-05T11:47:20.109631Z",
     "start_time": "2024-04-05T11:47:20.107229Z"
    }
   },
   "id": "6988ff13135293c0"
  },
  {
   "cell_type": "code",
   "execution_count": 5,
   "outputs": [
    {
     "data": {
      "text/plain": "['kool g rap & dj polo',\n 'rob base and dj e z rock',\n 'nice & smooth',\n 'public enemy',\n 'mc shan',\n 'roxanne shante',\n 'slick rick',\n 'biz markie',\n 'ol dirty bastard',\n 'a tribe called quest ',\n 'pete rock and cl smooth',\n 'mobb deep',\n 'de la soul',\n 'ultramagenetic mcs',\n 'black moon',\n 'the notorious big',\n 'nas',\n 'craig mack ',\n 'run dmc',\n 'organized konfusion',\n 'queen latifah ',\n 'beastie boys',\n 'a tribe called quest',\n 'epmd',\n 'jeru the damaja',\n 'audio two',\n 'raekwon ',\n 'boogie down productions',\n 'naughty by nature',\n 'marley marl ',\n 'salt n pepa',\n 'gang starr',\n 'mc lyte',\n 'eric b and rakim',\n 'big daddy kane',\n 'redman',\n 'wu tang clan']"
     },
     "execution_count": 5,
     "metadata": {},
     "output_type": "execute_result"
    }
   ],
   "source": [
    "east_coast_artists"
   ],
   "metadata": {
    "collapsed": false,
    "ExecuteTime": {
     "end_time": "2024-03-15T09:32:33.579035Z",
     "start_time": "2024-03-15T09:32:33.574589Z"
    }
   },
   "id": "cb46c7e7d7c16345"
  },
  {
   "cell_type": "code",
   "execution_count": 235,
   "outputs": [],
   "source": [
    "genius = utils.get_genius_object()"
   ],
   "metadata": {
    "collapsed": false,
    "ExecuteTime": {
     "end_time": "2024-02-23T07:38:34.015004Z",
     "start_time": "2024-02-23T07:38:33.972816Z"
    }
   },
   "id": "dca1a896eab5f1c3"
  },
  {
   "cell_type": "code",
   "execution_count": 14,
   "outputs": [],
   "source": [
    "east_coast_artists_json = utils.load_json('east_coast_artists.json')\n",
    "west_coast_artists_json = utils.load_json('west_coast_artists.json')"
   ],
   "metadata": {
    "collapsed": false,
    "ExecuteTime": {
     "end_time": "2024-03-06T16:04:00.278505Z",
     "start_time": "2024-03-06T16:04:00.274074Z"
    }
   },
   "id": "74f1f73c28a31c38"
  },
  {
   "cell_type": "code",
   "execution_count": 6,
   "outputs": [
    {
     "name": "stdout",
     "output_type": "stream",
     "text": [
      "Data has been saved to \"west_coast_artists.json\"\n",
      "Data has been saved to \"east_coast_artists.json\"\n"
     ]
    }
   ],
   "source": [
    "# utils.save_json('west_coast_artists.json', west_coast_artists)\n",
    "# utils.save_json('east_coast_artists.json', east_coast_artists)"
   ],
   "metadata": {
    "collapsed": false,
    "ExecuteTime": {
     "end_time": "2024-02-27T22:33:08.446407Z",
     "start_time": "2024-02-27T22:33:08.429606Z"
    }
   },
   "id": "d0246d99fdac0d40"
  },
  {
   "cell_type": "code",
   "execution_count": 230,
   "outputs": [
    {
     "name": "stdout",
     "output_type": "stream",
     "text": [
      "Searching for songs by e 40 ...\n",
      "Changing artist name to 'E-40'\n",
      "--- TIMEOUT AT: e 40  ---- \n",
      "\n",
      "Data has been saved to \"west_coast_artists.json\"\n",
      "Searching for songs by souls of mischief...\n",
      "Changing artist name to 'Souls of Mischief'\n",
      "Song 1: \"’93 ’Til Infinity\"\n",
      "\n",
      "Reached user-specified song limit (1).\n",
      "Done. Found 1 songs.\n",
      "Data has been saved to \"west_coast_artists.json\"\n",
      "Searching for songs by spice 1...\n",
      "Changing artist name to 'Spice 1'\n",
      "Song 1: \"The Murda Show\"\n",
      "\n",
      "Reached user-specified song limit (1).\n",
      "Done. Found 1 songs.\n",
      "Data has been saved to \"west_coast_artists.json\"\n",
      "Searching for songs by king tee...\n",
      "Changing artist name to 'King T'\n",
      "Song 1: \"Played Like a Piano\"\n",
      "\n",
      "Reached user-specified song limit (1).\n",
      "Done. Found 1 songs.\n",
      "Data has been saved to \"west_coast_artists.json\"\n",
      "Searching for songs by rodney o and dj joe cooley...\n",
      "No results found for 'rodney o and dj joe cooley'.\n",
      "--- ATTRITBUTE ERROR EXCEPTION AT: rodney o and dj joe cooley ---- \n",
      "\n",
      "Data has been saved to \"west_coast_artists.json\"\n",
      "Searching for songs by freestyle fellowship...\n",
      "Changing artist name to 'Freestyle Fellowship'\n",
      "Song 1: \"Hot Potato\"\n",
      "\n",
      "Reached user-specified song limit (1).\n",
      "Done. Found 1 songs.\n",
      "Data has been saved to \"west_coast_artists.json\"\n",
      "Searching for songs by the conscious daughters...\n",
      "Changing artist name to 'The Conscious Daughters'\n",
      "Song 1: \"We Roll Deep\"\n",
      "\n",
      "Reached user-specified song limit (1).\n",
      "Done. Found 1 songs.\n",
      "Data has been saved to \"west_coast_artists.json\"\n",
      "Searching for songs by the pharcyde...\n",
      "Changing artist name to 'The Pharcyde'\n",
      "Song 1: \"Passin’ Me By\"\n",
      "\n",
      "Reached user-specified song limit (1).\n",
      "Done. Found 1 songs.\n",
      "Data has been saved to \"west_coast_artists.json\"\n",
      "Searching for songs by the alkaholiks...\n",
      "Changing artist name to 'Tha Alkaholiks'\n",
      "Song 1: \"Aww Shit!\"\n",
      "\n",
      "Reached user-specified song limit (1).\n",
      "Done. Found 1 songs.\n",
      "Data has been saved to \"west_coast_artists.json\"\n",
      "Searching for songs by snoop dogg ...\n",
      "Changing artist name to 'Snoop Dogg'\n",
      "--- TIMEOUT AT: snoop dogg  ---- \n",
      "\n",
      "Data has been saved to \"west_coast_artists.json\"\n",
      "Searching for songs by N.W.A...\n",
      "Song 1: \"Fuck tha Police\"\n",
      "\n",
      "Reached user-specified song limit (1).\n",
      "Done. Found 1 songs.\n",
      "--- SKIPPING: N.W.A ---- \n",
      "\n",
      "Data has been saved to \"west_coast_artists.json\"\n",
      "Searching for songs by Brotha Lynch Hung...\n",
      "Song 1: \"Meat Cleaver\"\n",
      "\n",
      "Reached user-specified song limit (1).\n",
      "Done. Found 1 songs.\n",
      "--- SKIPPING: Brotha Lynch Hung ---- \n",
      "\n",
      "Data has been saved to \"west_coast_artists.json\"\n",
      "Searching for songs by Young MC...\n",
      "Song 1: \"Bust a Move\"\n",
      "\n",
      "Reached user-specified song limit (1).\n",
      "Done. Found 1 songs.\n",
      "--- SKIPPING: Young MC ---- \n",
      "\n",
      "Data has been saved to \"west_coast_artists.json\"\n",
      "Searching for songs by Yo Yo Honey Singh...\n",
      "Song 1: \"Choot Vol. 1\"\n",
      "\n",
      "Reached user-specified song limit (1).\n",
      "Done. Found 1 songs.\n",
      "--- SKIPPING: Yo Yo Honey Singh ---- \n",
      "\n",
      "Data has been saved to \"west_coast_artists.json\"\n",
      "Searching for songs by DJ Shadow...\n",
      "Song 1: \"Nobody Speak\"\n",
      "\n",
      "Reached user-specified song limit (1).\n",
      "Done. Found 1 songs.\n",
      "--- SKIPPING: DJ Shadow ---- \n",
      "\n",
      "Data has been saved to \"west_coast_artists.json\"\n",
      "Searching for songs by MC Hammer...\n",
      "Song 1: \"U Can’t Touch This\"\n",
      "\n",
      "Reached user-specified song limit (1).\n",
      "Done. Found 1 songs.\n",
      "--- SKIPPING: MC Hammer ---- \n",
      "\n",
      "Data has been saved to \"west_coast_artists.json\"\n",
      "Searching for songs by Ice-T...\n",
      "Song 1: \"Colors\"\n",
      "\n",
      "Reached user-specified song limit (1).\n",
      "Done. Found 1 songs.\n",
      "--- SKIPPING: Ice-T ---- \n",
      "\n",
      "Data has been saved to \"west_coast_artists.json\"\n",
      "Searching for songs by 2Pac...\n",
      "Song 1: \"Hit ’Em Up\"\n",
      "\n",
      "Reached user-specified song limit (1).\n",
      "Done. Found 1 songs.\n",
      "--- SKIPPING: 2Pac ---- \n",
      "\n",
      "Data has been saved to \"west_coast_artists.json\"\n",
      "Searching for songs by RBL Posse...\n",
      "Song 1: \"Don’t Give Me No Bammer Weed\"\n",
      "\n",
      "Reached user-specified song limit (1).\n",
      "Done. Found 1 songs.\n",
      "--- SKIPPING: RBL Posse ---- \n",
      "\n",
      "Data has been saved to \"west_coast_artists.json\"\n",
      "Searching for songs by Captain Rapp...\n",
      "Song 1: \"Bad Times (I Can’t Stand It)\"\n",
      "\n",
      "Reached user-specified song limit (1).\n",
      "Done. Found 1 songs.\n",
      "--- SKIPPING: Captain Rapp ---- \n",
      "\n",
      "Data has been saved to \"west_coast_artists.json\"\n",
      "Searching for songs by The Lady of Rage...\n",
      "Song 1: \"Afro Puffs\"\n",
      "\n",
      "Reached user-specified song limit (1).\n",
      "Done. Found 1 songs.\n",
      "--- SKIPPING: The Lady of Rage ---- \n",
      "\n",
      "Data has been saved to \"west_coast_artists.json\"\n",
      "Searching for songs by Saafir...\n",
      "Song 1: \"Light Sleeper\"\n",
      "\n",
      "Reached user-specified song limit (1).\n",
      "Done. Found 1 songs.\n",
      "--- SKIPPING: Saafir ---- \n",
      "\n",
      "Data has been saved to \"west_coast_artists.json\"\n",
      "Searching for songs by World Class Wreckin Cru...\n",
      "Song 1: \"Turn Off the Lights\"\n",
      "\n",
      "Reached user-specified song limit (1).\n",
      "Done. Found 1 songs.\n",
      "--- SKIPPING: World Class Wreckin Cru ---- \n",
      "\n",
      "Data has been saved to \"west_coast_artists.json\"\n",
      "Searching for songs by LA Dream Team...\n",
      "Song 1: \"The Dream Team Is in the House\"\n",
      "\n",
      "Reached user-specified song limit (1).\n",
      "Done. Found 1 songs.\n",
      "--- SKIPPING: LA Dream Team ---- \n",
      "\n",
      "Data has been saved to \"west_coast_artists.json\"\n",
      "Searching for songs by Suga Free...\n",
      "Song 1: \"Why U Bullshittin’?\"\n",
      "\n",
      "Reached user-specified song limit (1).\n",
      "Done. Found 1 songs.\n",
      "--- SKIPPING: Suga Free ---- \n",
      "\n",
      "Data has been saved to \"west_coast_artists.json\"\n",
      "Searching for songs by Westside Connection...\n",
      "Data has been saved to \"west_coast_artists.json\"\n"
     ]
    },
    {
     "ename": "KeyboardInterrupt",
     "evalue": "",
     "output_type": "error",
     "traceback": [
      "\u001B[0;31m---------------------------------------------------------------------------\u001B[0m",
      "\u001B[0;31mKeyboardInterrupt\u001B[0m                         Traceback (most recent call last)",
      "Cell \u001B[0;32mIn[230], line 4\u001B[0m\n\u001B[1;32m      2\u001B[0m \u001B[38;5;28;01mif\u001B[39;00m west_coast_artists_json[artist] \u001B[38;5;241m!=\u001B[39m \u001B[38;5;124m'\u001B[39m\u001B[38;5;124mSKIP\u001B[39m\u001B[38;5;124m'\u001B[39m:\n\u001B[1;32m      3\u001B[0m     \u001B[38;5;28;01mtry\u001B[39;00m:\n\u001B[0;32m----> 4\u001B[0m         artist_object \u001B[38;5;241m=\u001B[39m \u001B[43mgenius\u001B[49m\u001B[38;5;241;43m.\u001B[39;49m\u001B[43msearch_artist\u001B[49m\u001B[43m(\u001B[49m\u001B[43martist\u001B[49m\u001B[43m,\u001B[49m\u001B[43m \u001B[49m\u001B[43mmax_songs\u001B[49m\u001B[38;5;241;43m=\u001B[39;49m\u001B[38;5;241;43m1\u001B[39;49m\u001B[43m)\u001B[49m\n\u001B[1;32m      5\u001B[0m         artist_information \u001B[38;5;241m=\u001B[39m genius\u001B[38;5;241m.\u001B[39martist(artist_object\u001B[38;5;241m.\u001B[39mid)[\u001B[38;5;124m'\u001B[39m\u001B[38;5;124martist\u001B[39m\u001B[38;5;124m'\u001B[39m]\n\u001B[1;32m      7\u001B[0m         \u001B[38;5;28;01mif\u001B[39;00m artist_information \u001B[38;5;129;01mand\u001B[39;00m west_coast_artists_json[artist] \u001B[38;5;241m==\u001B[39m \u001B[38;5;124m'\u001B[39m\u001B[38;5;124m'\u001B[39m:\n",
      "File \u001B[0;32m~/lib/python3.9/site-packages/lyricsgenius/genius.py:522\u001B[0m, in \u001B[0;36mGenius.search_artist\u001B[0;34m(self, artist_name, max_songs, sort, per_page, get_full_info, allow_name_change, artist_id, include_features)\u001B[0m\n\u001B[1;32m    519\u001B[0m     \u001B[38;5;28;01mreturn\u001B[39;00m found_artist[\u001B[38;5;124m'\u001B[39m\u001B[38;5;124mid\u001B[39m\u001B[38;5;124m'\u001B[39m]\n\u001B[1;32m    521\u001B[0m \u001B[38;5;66;03m# Get the artist ID (or use the one supplied)\u001B[39;00m\n\u001B[0;32m--> 522\u001B[0m artist_id \u001B[38;5;241m=\u001B[39m artist_id \u001B[38;5;28;01mif\u001B[39;00m artist_id \u001B[38;5;28;01melse\u001B[39;00m \u001B[43mfind_artist_id\u001B[49m\u001B[43m(\u001B[49m\u001B[43martist_name\u001B[49m\u001B[43m)\u001B[49m\n\u001B[1;32m    523\u001B[0m \u001B[38;5;28;01mif\u001B[39;00m \u001B[38;5;129;01mnot\u001B[39;00m artist_id:\n\u001B[1;32m    524\u001B[0m     \u001B[38;5;28;01mreturn\u001B[39;00m \u001B[38;5;28;01mNone\u001B[39;00m\n",
      "File \u001B[0;32m~/lib/python3.9/site-packages/lyricsgenius/genius.py:507\u001B[0m, in \u001B[0;36mGenius.search_artist.<locals>.find_artist_id\u001B[0;34m(search_term)\u001B[0m\n\u001B[1;32m    505\u001B[0m \u001B[38;5;66;03m# Perform a Genius API search for the artist\u001B[39;00m\n\u001B[1;32m    506\u001B[0m found_artist \u001B[38;5;241m=\u001B[39m \u001B[38;5;28;01mNone\u001B[39;00m\n\u001B[0;32m--> 507\u001B[0m response \u001B[38;5;241m=\u001B[39m \u001B[38;5;28;43mself\u001B[39;49m\u001B[38;5;241;43m.\u001B[39;49m\u001B[43msearch_all\u001B[49m\u001B[43m(\u001B[49m\u001B[43msearch_term\u001B[49m\u001B[43m)\u001B[49m\n\u001B[1;32m    508\u001B[0m found_artist \u001B[38;5;241m=\u001B[39m \u001B[38;5;28mself\u001B[39m\u001B[38;5;241m.\u001B[39m_get_item_from_search_response(response,\n\u001B[1;32m    509\u001B[0m                                                    search_term,\n\u001B[1;32m    510\u001B[0m                                                    type_\u001B[38;5;241m=\u001B[39m\u001B[38;5;124m\"\u001B[39m\u001B[38;5;124martist\u001B[39m\u001B[38;5;124m\"\u001B[39m,\n\u001B[1;32m    511\u001B[0m                                                    result_type\u001B[38;5;241m=\u001B[39m\u001B[38;5;124m\"\u001B[39m\u001B[38;5;124mname\u001B[39m\u001B[38;5;124m\"\u001B[39m)\n\u001B[1;32m    513\u001B[0m \u001B[38;5;66;03m# Exit the search if we couldn't find an artist by the given name\u001B[39;00m\n",
      "File \u001B[0;32m~/lib/python3.9/site-packages/lyricsgenius/api/public_methods/search.py:210\u001B[0m, in \u001B[0;36mSearchMethods.search_all\u001B[0;34m(self, search_term, per_page, page)\u001B[0m\n\u001B[1;32m    188\u001B[0m \u001B[38;5;250m\u001B[39m\u001B[38;5;124;03m\"\"\"Searches all types.\u001B[39;00m\n\u001B[1;32m    189\u001B[0m \n\u001B[1;32m    190\u001B[0m \u001B[38;5;124;03mIncluding: albums, articles, lyrics, songs, users and\u001B[39;00m\n\u001B[0;32m   (...)\u001B[0m\n\u001B[1;32m    207\u001B[0m \n\u001B[1;32m    208\u001B[0m \u001B[38;5;124;03m\"\"\"\u001B[39;00m\n\u001B[1;32m    209\u001B[0m endpoint \u001B[38;5;241m=\u001B[39m \u001B[38;5;124m'\u001B[39m\u001B[38;5;124mmulti\u001B[39m\u001B[38;5;124m'\u001B[39m\n\u001B[0;32m--> 210\u001B[0m \u001B[38;5;28;01mreturn\u001B[39;00m \u001B[38;5;28;43mself\u001B[39;49m\u001B[38;5;241;43m.\u001B[39;49m\u001B[43msearch\u001B[49m\u001B[43m(\u001B[49m\u001B[43msearch_term\u001B[49m\u001B[43m,\u001B[49m\u001B[43m \u001B[49m\u001B[43mper_page\u001B[49m\u001B[43m,\u001B[49m\u001B[43m \u001B[49m\u001B[43mpage\u001B[49m\u001B[43m,\u001B[49m\u001B[43m \u001B[49m\u001B[43mendpoint\u001B[49m\u001B[43m)\u001B[49m\n",
      "File \u001B[0;32m~/lib/python3.9/site-packages/lyricsgenius/api/public_methods/search.py:45\u001B[0m, in \u001B[0;36mSearchMethods.search\u001B[0;34m(self, search_term, per_page, page, type_)\u001B[0m\n\u001B[1;32m     41\u001B[0m     path \u001B[38;5;241m=\u001B[39m \u001B[38;5;124m'\u001B[39m\u001B[38;5;124msearch/\u001B[39m\u001B[38;5;124m'\u001B[39m \u001B[38;5;241m+\u001B[39m type_\n\u001B[1;32m     42\u001B[0m params \u001B[38;5;241m=\u001B[39m {\u001B[38;5;124m'\u001B[39m\u001B[38;5;124mq\u001B[39m\u001B[38;5;124m'\u001B[39m: search_term,\n\u001B[1;32m     43\u001B[0m           \u001B[38;5;124m'\u001B[39m\u001B[38;5;124mper_page\u001B[39m\u001B[38;5;124m'\u001B[39m: per_page,\n\u001B[1;32m     44\u001B[0m           \u001B[38;5;124m'\u001B[39m\u001B[38;5;124mpage\u001B[39m\u001B[38;5;124m'\u001B[39m: page}\n\u001B[0;32m---> 45\u001B[0m \u001B[38;5;28;01mreturn\u001B[39;00m \u001B[38;5;28;43mself\u001B[39;49m\u001B[38;5;241;43m.\u001B[39;49m\u001B[43m_make_request\u001B[49m\u001B[43m(\u001B[49m\u001B[43mpath\u001B[49m\u001B[43m,\u001B[49m\u001B[43m \u001B[49m\u001B[43mparams_\u001B[49m\u001B[38;5;241;43m=\u001B[39;49m\u001B[43mparams\u001B[49m\u001B[43m,\u001B[49m\u001B[43m \u001B[49m\u001B[43mpublic_api\u001B[49m\u001B[38;5;241;43m=\u001B[39;49m\u001B[38;5;28;43;01mTrue\u001B[39;49;00m\u001B[43m)\u001B[49m\n",
      "File \u001B[0;32m~/lib/python3.9/site-packages/lyricsgenius/api/base.py:75\u001B[0m, in \u001B[0;36mSender._make_request\u001B[0;34m(self, path, method, params_, public_api, web, **kwargs)\u001B[0m\n\u001B[1;32m     73\u001B[0m tries \u001B[38;5;241m+\u001B[39m\u001B[38;5;241m=\u001B[39m \u001B[38;5;241m1\u001B[39m\n\u001B[1;32m     74\u001B[0m \u001B[38;5;28;01mtry\u001B[39;00m:\n\u001B[0;32m---> 75\u001B[0m     response \u001B[38;5;241m=\u001B[39m \u001B[38;5;28;43mself\u001B[39;49m\u001B[38;5;241;43m.\u001B[39;49m\u001B[43m_session\u001B[49m\u001B[38;5;241;43m.\u001B[39;49m\u001B[43mrequest\u001B[49m\u001B[43m(\u001B[49m\u001B[43mmethod\u001B[49m\u001B[43m,\u001B[49m\u001B[43m \u001B[49m\u001B[43muri\u001B[49m\u001B[43m,\u001B[49m\n\u001B[1;32m     76\u001B[0m \u001B[43m                                     \u001B[49m\u001B[43mtimeout\u001B[49m\u001B[38;5;241;43m=\u001B[39;49m\u001B[38;5;28;43mself\u001B[39;49m\u001B[38;5;241;43m.\u001B[39;49m\u001B[43mtimeout\u001B[49m\u001B[43m,\u001B[49m\n\u001B[1;32m     77\u001B[0m \u001B[43m                                     \u001B[49m\u001B[43mparams\u001B[49m\u001B[38;5;241;43m=\u001B[39;49m\u001B[43mparams_\u001B[49m\u001B[43m,\u001B[49m\n\u001B[1;32m     78\u001B[0m \u001B[43m                                     \u001B[49m\u001B[43mheaders\u001B[49m\u001B[38;5;241;43m=\u001B[39;49m\u001B[43mheader\u001B[49m\u001B[43m,\u001B[49m\n\u001B[1;32m     79\u001B[0m \u001B[43m                                     \u001B[49m\u001B[38;5;241;43m*\u001B[39;49m\u001B[38;5;241;43m*\u001B[39;49m\u001B[43mkwargs\u001B[49m\u001B[43m)\u001B[49m\n\u001B[1;32m     80\u001B[0m     response\u001B[38;5;241m.\u001B[39mraise_for_status()\n\u001B[1;32m     81\u001B[0m \u001B[38;5;28;01mexcept\u001B[39;00m Timeout \u001B[38;5;28;01mas\u001B[39;00m e:\n",
      "File \u001B[0;32m~/lib/python3.9/site-packages/requests/sessions.py:589\u001B[0m, in \u001B[0;36mSession.request\u001B[0;34m(self, method, url, params, data, headers, cookies, files, auth, timeout, allow_redirects, proxies, hooks, stream, verify, cert, json)\u001B[0m\n\u001B[1;32m    584\u001B[0m send_kwargs \u001B[38;5;241m=\u001B[39m {\n\u001B[1;32m    585\u001B[0m     \u001B[38;5;124m\"\u001B[39m\u001B[38;5;124mtimeout\u001B[39m\u001B[38;5;124m\"\u001B[39m: timeout,\n\u001B[1;32m    586\u001B[0m     \u001B[38;5;124m\"\u001B[39m\u001B[38;5;124mallow_redirects\u001B[39m\u001B[38;5;124m\"\u001B[39m: allow_redirects,\n\u001B[1;32m    587\u001B[0m }\n\u001B[1;32m    588\u001B[0m send_kwargs\u001B[38;5;241m.\u001B[39mupdate(settings)\n\u001B[0;32m--> 589\u001B[0m resp \u001B[38;5;241m=\u001B[39m \u001B[38;5;28;43mself\u001B[39;49m\u001B[38;5;241;43m.\u001B[39;49m\u001B[43msend\u001B[49m\u001B[43m(\u001B[49m\u001B[43mprep\u001B[49m\u001B[43m,\u001B[49m\u001B[43m \u001B[49m\u001B[38;5;241;43m*\u001B[39;49m\u001B[38;5;241;43m*\u001B[39;49m\u001B[43msend_kwargs\u001B[49m\u001B[43m)\u001B[49m\n\u001B[1;32m    591\u001B[0m \u001B[38;5;28;01mreturn\u001B[39;00m resp\n",
      "File \u001B[0;32m~/lib/python3.9/site-packages/requests/sessions.py:703\u001B[0m, in \u001B[0;36mSession.send\u001B[0;34m(self, request, **kwargs)\u001B[0m\n\u001B[1;32m    700\u001B[0m start \u001B[38;5;241m=\u001B[39m preferred_clock()\n\u001B[1;32m    702\u001B[0m \u001B[38;5;66;03m# Send the request\u001B[39;00m\n\u001B[0;32m--> 703\u001B[0m r \u001B[38;5;241m=\u001B[39m \u001B[43madapter\u001B[49m\u001B[38;5;241;43m.\u001B[39;49m\u001B[43msend\u001B[49m\u001B[43m(\u001B[49m\u001B[43mrequest\u001B[49m\u001B[43m,\u001B[49m\u001B[43m \u001B[49m\u001B[38;5;241;43m*\u001B[39;49m\u001B[38;5;241;43m*\u001B[39;49m\u001B[43mkwargs\u001B[49m\u001B[43m)\u001B[49m\n\u001B[1;32m    705\u001B[0m \u001B[38;5;66;03m# Total elapsed time of the request (approximately)\u001B[39;00m\n\u001B[1;32m    706\u001B[0m elapsed \u001B[38;5;241m=\u001B[39m preferred_clock() \u001B[38;5;241m-\u001B[39m start\n",
      "File \u001B[0;32m~/lib/python3.9/site-packages/requests/adapters.py:486\u001B[0m, in \u001B[0;36mHTTPAdapter.send\u001B[0;34m(self, request, stream, timeout, verify, cert, proxies)\u001B[0m\n\u001B[1;32m    483\u001B[0m     timeout \u001B[38;5;241m=\u001B[39m TimeoutSauce(connect\u001B[38;5;241m=\u001B[39mtimeout, read\u001B[38;5;241m=\u001B[39mtimeout)\n\u001B[1;32m    485\u001B[0m \u001B[38;5;28;01mtry\u001B[39;00m:\n\u001B[0;32m--> 486\u001B[0m     resp \u001B[38;5;241m=\u001B[39m \u001B[43mconn\u001B[49m\u001B[38;5;241;43m.\u001B[39;49m\u001B[43murlopen\u001B[49m\u001B[43m(\u001B[49m\n\u001B[1;32m    487\u001B[0m \u001B[43m        \u001B[49m\u001B[43mmethod\u001B[49m\u001B[38;5;241;43m=\u001B[39;49m\u001B[43mrequest\u001B[49m\u001B[38;5;241;43m.\u001B[39;49m\u001B[43mmethod\u001B[49m\u001B[43m,\u001B[49m\n\u001B[1;32m    488\u001B[0m \u001B[43m        \u001B[49m\u001B[43murl\u001B[49m\u001B[38;5;241;43m=\u001B[39;49m\u001B[43murl\u001B[49m\u001B[43m,\u001B[49m\n\u001B[1;32m    489\u001B[0m \u001B[43m        \u001B[49m\u001B[43mbody\u001B[49m\u001B[38;5;241;43m=\u001B[39;49m\u001B[43mrequest\u001B[49m\u001B[38;5;241;43m.\u001B[39;49m\u001B[43mbody\u001B[49m\u001B[43m,\u001B[49m\n\u001B[1;32m    490\u001B[0m \u001B[43m        \u001B[49m\u001B[43mheaders\u001B[49m\u001B[38;5;241;43m=\u001B[39;49m\u001B[43mrequest\u001B[49m\u001B[38;5;241;43m.\u001B[39;49m\u001B[43mheaders\u001B[49m\u001B[43m,\u001B[49m\n\u001B[1;32m    491\u001B[0m \u001B[43m        \u001B[49m\u001B[43mredirect\u001B[49m\u001B[38;5;241;43m=\u001B[39;49m\u001B[38;5;28;43;01mFalse\u001B[39;49;00m\u001B[43m,\u001B[49m\n\u001B[1;32m    492\u001B[0m \u001B[43m        \u001B[49m\u001B[43massert_same_host\u001B[49m\u001B[38;5;241;43m=\u001B[39;49m\u001B[38;5;28;43;01mFalse\u001B[39;49;00m\u001B[43m,\u001B[49m\n\u001B[1;32m    493\u001B[0m \u001B[43m        \u001B[49m\u001B[43mpreload_content\u001B[49m\u001B[38;5;241;43m=\u001B[39;49m\u001B[38;5;28;43;01mFalse\u001B[39;49;00m\u001B[43m,\u001B[49m\n\u001B[1;32m    494\u001B[0m \u001B[43m        \u001B[49m\u001B[43mdecode_content\u001B[49m\u001B[38;5;241;43m=\u001B[39;49m\u001B[38;5;28;43;01mFalse\u001B[39;49;00m\u001B[43m,\u001B[49m\n\u001B[1;32m    495\u001B[0m \u001B[43m        \u001B[49m\u001B[43mretries\u001B[49m\u001B[38;5;241;43m=\u001B[39;49m\u001B[38;5;28;43mself\u001B[39;49m\u001B[38;5;241;43m.\u001B[39;49m\u001B[43mmax_retries\u001B[49m\u001B[43m,\u001B[49m\n\u001B[1;32m    496\u001B[0m \u001B[43m        \u001B[49m\u001B[43mtimeout\u001B[49m\u001B[38;5;241;43m=\u001B[39;49m\u001B[43mtimeout\u001B[49m\u001B[43m,\u001B[49m\n\u001B[1;32m    497\u001B[0m \u001B[43m        \u001B[49m\u001B[43mchunked\u001B[49m\u001B[38;5;241;43m=\u001B[39;49m\u001B[43mchunked\u001B[49m\u001B[43m,\u001B[49m\n\u001B[1;32m    498\u001B[0m \u001B[43m    \u001B[49m\u001B[43m)\u001B[49m\n\u001B[1;32m    500\u001B[0m \u001B[38;5;28;01mexcept\u001B[39;00m (ProtocolError, \u001B[38;5;167;01mOSError\u001B[39;00m) \u001B[38;5;28;01mas\u001B[39;00m err:\n\u001B[1;32m    501\u001B[0m     \u001B[38;5;28;01mraise\u001B[39;00m \u001B[38;5;167;01mConnectionError\u001B[39;00m(err, request\u001B[38;5;241m=\u001B[39mrequest)\n",
      "File \u001B[0;32m~/lib/python3.9/site-packages/urllib3/connectionpool.py:791\u001B[0m, in \u001B[0;36mHTTPConnectionPool.urlopen\u001B[0;34m(self, method, url, body, headers, retries, redirect, assert_same_host, timeout, pool_timeout, release_conn, chunked, body_pos, preload_content, decode_content, **response_kw)\u001B[0m\n\u001B[1;32m    788\u001B[0m response_conn \u001B[38;5;241m=\u001B[39m conn \u001B[38;5;28;01mif\u001B[39;00m \u001B[38;5;129;01mnot\u001B[39;00m release_conn \u001B[38;5;28;01melse\u001B[39;00m \u001B[38;5;28;01mNone\u001B[39;00m\n\u001B[1;32m    790\u001B[0m \u001B[38;5;66;03m# Make the request on the HTTPConnection object\u001B[39;00m\n\u001B[0;32m--> 791\u001B[0m response \u001B[38;5;241m=\u001B[39m \u001B[38;5;28;43mself\u001B[39;49m\u001B[38;5;241;43m.\u001B[39;49m\u001B[43m_make_request\u001B[49m\u001B[43m(\u001B[49m\n\u001B[1;32m    792\u001B[0m \u001B[43m    \u001B[49m\u001B[43mconn\u001B[49m\u001B[43m,\u001B[49m\n\u001B[1;32m    793\u001B[0m \u001B[43m    \u001B[49m\u001B[43mmethod\u001B[49m\u001B[43m,\u001B[49m\n\u001B[1;32m    794\u001B[0m \u001B[43m    \u001B[49m\u001B[43murl\u001B[49m\u001B[43m,\u001B[49m\n\u001B[1;32m    795\u001B[0m \u001B[43m    \u001B[49m\u001B[43mtimeout\u001B[49m\u001B[38;5;241;43m=\u001B[39;49m\u001B[43mtimeout_obj\u001B[49m\u001B[43m,\u001B[49m\n\u001B[1;32m    796\u001B[0m \u001B[43m    \u001B[49m\u001B[43mbody\u001B[49m\u001B[38;5;241;43m=\u001B[39;49m\u001B[43mbody\u001B[49m\u001B[43m,\u001B[49m\n\u001B[1;32m    797\u001B[0m \u001B[43m    \u001B[49m\u001B[43mheaders\u001B[49m\u001B[38;5;241;43m=\u001B[39;49m\u001B[43mheaders\u001B[49m\u001B[43m,\u001B[49m\n\u001B[1;32m    798\u001B[0m \u001B[43m    \u001B[49m\u001B[43mchunked\u001B[49m\u001B[38;5;241;43m=\u001B[39;49m\u001B[43mchunked\u001B[49m\u001B[43m,\u001B[49m\n\u001B[1;32m    799\u001B[0m \u001B[43m    \u001B[49m\u001B[43mretries\u001B[49m\u001B[38;5;241;43m=\u001B[39;49m\u001B[43mretries\u001B[49m\u001B[43m,\u001B[49m\n\u001B[1;32m    800\u001B[0m \u001B[43m    \u001B[49m\u001B[43mresponse_conn\u001B[49m\u001B[38;5;241;43m=\u001B[39;49m\u001B[43mresponse_conn\u001B[49m\u001B[43m,\u001B[49m\n\u001B[1;32m    801\u001B[0m \u001B[43m    \u001B[49m\u001B[43mpreload_content\u001B[49m\u001B[38;5;241;43m=\u001B[39;49m\u001B[43mpreload_content\u001B[49m\u001B[43m,\u001B[49m\n\u001B[1;32m    802\u001B[0m \u001B[43m    \u001B[49m\u001B[43mdecode_content\u001B[49m\u001B[38;5;241;43m=\u001B[39;49m\u001B[43mdecode_content\u001B[49m\u001B[43m,\u001B[49m\n\u001B[1;32m    803\u001B[0m \u001B[43m    \u001B[49m\u001B[38;5;241;43m*\u001B[39;49m\u001B[38;5;241;43m*\u001B[39;49m\u001B[43mresponse_kw\u001B[49m\u001B[43m,\u001B[49m\n\u001B[1;32m    804\u001B[0m \u001B[43m\u001B[49m\u001B[43m)\u001B[49m\n\u001B[1;32m    806\u001B[0m \u001B[38;5;66;03m# Everything went great!\u001B[39;00m\n\u001B[1;32m    807\u001B[0m clean_exit \u001B[38;5;241m=\u001B[39m \u001B[38;5;28;01mTrue\u001B[39;00m\n",
      "File \u001B[0;32m~/lib/python3.9/site-packages/urllib3/connectionpool.py:537\u001B[0m, in \u001B[0;36mHTTPConnectionPool._make_request\u001B[0;34m(self, conn, method, url, body, headers, retries, timeout, chunked, response_conn, preload_content, decode_content, enforce_content_length)\u001B[0m\n\u001B[1;32m    535\u001B[0m \u001B[38;5;66;03m# Receive the response from the server\u001B[39;00m\n\u001B[1;32m    536\u001B[0m \u001B[38;5;28;01mtry\u001B[39;00m:\n\u001B[0;32m--> 537\u001B[0m     response \u001B[38;5;241m=\u001B[39m \u001B[43mconn\u001B[49m\u001B[38;5;241;43m.\u001B[39;49m\u001B[43mgetresponse\u001B[49m\u001B[43m(\u001B[49m\u001B[43m)\u001B[49m\n\u001B[1;32m    538\u001B[0m \u001B[38;5;28;01mexcept\u001B[39;00m (BaseSSLError, \u001B[38;5;167;01mOSError\u001B[39;00m) \u001B[38;5;28;01mas\u001B[39;00m e:\n\u001B[1;32m    539\u001B[0m     \u001B[38;5;28mself\u001B[39m\u001B[38;5;241m.\u001B[39m_raise_timeout(err\u001B[38;5;241m=\u001B[39me, url\u001B[38;5;241m=\u001B[39murl, timeout_value\u001B[38;5;241m=\u001B[39mread_timeout)\n",
      "File \u001B[0;32m~/lib/python3.9/site-packages/urllib3/connection.py:461\u001B[0m, in \u001B[0;36mHTTPConnection.getresponse\u001B[0;34m(self)\u001B[0m\n\u001B[1;32m    458\u001B[0m \u001B[38;5;28;01mfrom\u001B[39;00m \u001B[38;5;21;01m.\u001B[39;00m\u001B[38;5;21;01mresponse\u001B[39;00m \u001B[38;5;28;01mimport\u001B[39;00m HTTPResponse\n\u001B[1;32m    460\u001B[0m \u001B[38;5;66;03m# Get the response from http.client.HTTPConnection\u001B[39;00m\n\u001B[0;32m--> 461\u001B[0m httplib_response \u001B[38;5;241m=\u001B[39m \u001B[38;5;28;43msuper\u001B[39;49m\u001B[43m(\u001B[49m\u001B[43m)\u001B[49m\u001B[38;5;241;43m.\u001B[39;49m\u001B[43mgetresponse\u001B[49m\u001B[43m(\u001B[49m\u001B[43m)\u001B[49m\n\u001B[1;32m    463\u001B[0m \u001B[38;5;28;01mtry\u001B[39;00m:\n\u001B[1;32m    464\u001B[0m     assert_header_parsing(httplib_response\u001B[38;5;241m.\u001B[39mmsg)\n",
      "File \u001B[0;32m/Library/Developer/CommandLineTools/Library/Frameworks/Python3.framework/Versions/3.9/lib/python3.9/http/client.py:1349\u001B[0m, in \u001B[0;36mHTTPConnection.getresponse\u001B[0;34m(self)\u001B[0m\n\u001B[1;32m   1347\u001B[0m \u001B[38;5;28;01mtry\u001B[39;00m:\n\u001B[1;32m   1348\u001B[0m     \u001B[38;5;28;01mtry\u001B[39;00m:\n\u001B[0;32m-> 1349\u001B[0m         \u001B[43mresponse\u001B[49m\u001B[38;5;241;43m.\u001B[39;49m\u001B[43mbegin\u001B[49m\u001B[43m(\u001B[49m\u001B[43m)\u001B[49m\n\u001B[1;32m   1350\u001B[0m     \u001B[38;5;28;01mexcept\u001B[39;00m \u001B[38;5;167;01mConnectionError\u001B[39;00m:\n\u001B[1;32m   1351\u001B[0m         \u001B[38;5;28mself\u001B[39m\u001B[38;5;241m.\u001B[39mclose()\n",
      "File \u001B[0;32m/Library/Developer/CommandLineTools/Library/Frameworks/Python3.framework/Versions/3.9/lib/python3.9/http/client.py:316\u001B[0m, in \u001B[0;36mHTTPResponse.begin\u001B[0;34m(self)\u001B[0m\n\u001B[1;32m    314\u001B[0m \u001B[38;5;66;03m# read until we get a non-100 response\u001B[39;00m\n\u001B[1;32m    315\u001B[0m \u001B[38;5;28;01mwhile\u001B[39;00m \u001B[38;5;28;01mTrue\u001B[39;00m:\n\u001B[0;32m--> 316\u001B[0m     version, status, reason \u001B[38;5;241m=\u001B[39m \u001B[38;5;28;43mself\u001B[39;49m\u001B[38;5;241;43m.\u001B[39;49m\u001B[43m_read_status\u001B[49m\u001B[43m(\u001B[49m\u001B[43m)\u001B[49m\n\u001B[1;32m    317\u001B[0m     \u001B[38;5;28;01mif\u001B[39;00m status \u001B[38;5;241m!=\u001B[39m CONTINUE:\n\u001B[1;32m    318\u001B[0m         \u001B[38;5;28;01mbreak\u001B[39;00m\n",
      "File \u001B[0;32m/Library/Developer/CommandLineTools/Library/Frameworks/Python3.framework/Versions/3.9/lib/python3.9/http/client.py:277\u001B[0m, in \u001B[0;36mHTTPResponse._read_status\u001B[0;34m(self)\u001B[0m\n\u001B[1;32m    276\u001B[0m \u001B[38;5;28;01mdef\u001B[39;00m \u001B[38;5;21m_read_status\u001B[39m(\u001B[38;5;28mself\u001B[39m):\n\u001B[0;32m--> 277\u001B[0m     line \u001B[38;5;241m=\u001B[39m \u001B[38;5;28mstr\u001B[39m(\u001B[38;5;28;43mself\u001B[39;49m\u001B[38;5;241;43m.\u001B[39;49m\u001B[43mfp\u001B[49m\u001B[38;5;241;43m.\u001B[39;49m\u001B[43mreadline\u001B[49m\u001B[43m(\u001B[49m\u001B[43m_MAXLINE\u001B[49m\u001B[43m \u001B[49m\u001B[38;5;241;43m+\u001B[39;49m\u001B[43m \u001B[49m\u001B[38;5;241;43m1\u001B[39;49m\u001B[43m)\u001B[49m, \u001B[38;5;124m\"\u001B[39m\u001B[38;5;124miso-8859-1\u001B[39m\u001B[38;5;124m\"\u001B[39m)\n\u001B[1;32m    278\u001B[0m     \u001B[38;5;28;01mif\u001B[39;00m \u001B[38;5;28mlen\u001B[39m(line) \u001B[38;5;241m>\u001B[39m _MAXLINE:\n\u001B[1;32m    279\u001B[0m         \u001B[38;5;28;01mraise\u001B[39;00m LineTooLong(\u001B[38;5;124m\"\u001B[39m\u001B[38;5;124mstatus line\u001B[39m\u001B[38;5;124m\"\u001B[39m)\n",
      "File \u001B[0;32m/Library/Developer/CommandLineTools/Library/Frameworks/Python3.framework/Versions/3.9/lib/python3.9/socket.py:704\u001B[0m, in \u001B[0;36mSocketIO.readinto\u001B[0;34m(self, b)\u001B[0m\n\u001B[1;32m    702\u001B[0m \u001B[38;5;28;01mwhile\u001B[39;00m \u001B[38;5;28;01mTrue\u001B[39;00m:\n\u001B[1;32m    703\u001B[0m     \u001B[38;5;28;01mtry\u001B[39;00m:\n\u001B[0;32m--> 704\u001B[0m         \u001B[38;5;28;01mreturn\u001B[39;00m \u001B[38;5;28;43mself\u001B[39;49m\u001B[38;5;241;43m.\u001B[39;49m\u001B[43m_sock\u001B[49m\u001B[38;5;241;43m.\u001B[39;49m\u001B[43mrecv_into\u001B[49m\u001B[43m(\u001B[49m\u001B[43mb\u001B[49m\u001B[43m)\u001B[49m\n\u001B[1;32m    705\u001B[0m     \u001B[38;5;28;01mexcept\u001B[39;00m timeout:\n\u001B[1;32m    706\u001B[0m         \u001B[38;5;28mself\u001B[39m\u001B[38;5;241m.\u001B[39m_timeout_occurred \u001B[38;5;241m=\u001B[39m \u001B[38;5;28;01mTrue\u001B[39;00m\n",
      "File \u001B[0;32m/Library/Developer/CommandLineTools/Library/Frameworks/Python3.framework/Versions/3.9/lib/python3.9/ssl.py:1241\u001B[0m, in \u001B[0;36mSSLSocket.recv_into\u001B[0;34m(self, buffer, nbytes, flags)\u001B[0m\n\u001B[1;32m   1237\u001B[0m     \u001B[38;5;28;01mif\u001B[39;00m flags \u001B[38;5;241m!=\u001B[39m \u001B[38;5;241m0\u001B[39m:\n\u001B[1;32m   1238\u001B[0m         \u001B[38;5;28;01mraise\u001B[39;00m \u001B[38;5;167;01mValueError\u001B[39;00m(\n\u001B[1;32m   1239\u001B[0m           \u001B[38;5;124m\"\u001B[39m\u001B[38;5;124mnon-zero flags not allowed in calls to recv_into() on \u001B[39m\u001B[38;5;132;01m%s\u001B[39;00m\u001B[38;5;124m\"\u001B[39m \u001B[38;5;241m%\u001B[39m\n\u001B[1;32m   1240\u001B[0m           \u001B[38;5;28mself\u001B[39m\u001B[38;5;241m.\u001B[39m\u001B[38;5;18m__class__\u001B[39m)\n\u001B[0;32m-> 1241\u001B[0m     \u001B[38;5;28;01mreturn\u001B[39;00m \u001B[38;5;28;43mself\u001B[39;49m\u001B[38;5;241;43m.\u001B[39;49m\u001B[43mread\u001B[49m\u001B[43m(\u001B[49m\u001B[43mnbytes\u001B[49m\u001B[43m,\u001B[49m\u001B[43m \u001B[49m\u001B[43mbuffer\u001B[49m\u001B[43m)\u001B[49m\n\u001B[1;32m   1242\u001B[0m \u001B[38;5;28;01melse\u001B[39;00m:\n\u001B[1;32m   1243\u001B[0m     \u001B[38;5;28;01mreturn\u001B[39;00m \u001B[38;5;28msuper\u001B[39m()\u001B[38;5;241m.\u001B[39mrecv_into(buffer, nbytes, flags)\n",
      "File \u001B[0;32m/Library/Developer/CommandLineTools/Library/Frameworks/Python3.framework/Versions/3.9/lib/python3.9/ssl.py:1099\u001B[0m, in \u001B[0;36mSSLSocket.read\u001B[0;34m(self, len, buffer)\u001B[0m\n\u001B[1;32m   1097\u001B[0m \u001B[38;5;28;01mtry\u001B[39;00m:\n\u001B[1;32m   1098\u001B[0m     \u001B[38;5;28;01mif\u001B[39;00m buffer \u001B[38;5;129;01mis\u001B[39;00m \u001B[38;5;129;01mnot\u001B[39;00m \u001B[38;5;28;01mNone\u001B[39;00m:\n\u001B[0;32m-> 1099\u001B[0m         \u001B[38;5;28;01mreturn\u001B[39;00m \u001B[38;5;28;43mself\u001B[39;49m\u001B[38;5;241;43m.\u001B[39;49m\u001B[43m_sslobj\u001B[49m\u001B[38;5;241;43m.\u001B[39;49m\u001B[43mread\u001B[49m\u001B[43m(\u001B[49m\u001B[38;5;28;43mlen\u001B[39;49m\u001B[43m,\u001B[49m\u001B[43m \u001B[49m\u001B[43mbuffer\u001B[49m\u001B[43m)\u001B[49m\n\u001B[1;32m   1100\u001B[0m     \u001B[38;5;28;01melse\u001B[39;00m:\n\u001B[1;32m   1101\u001B[0m         \u001B[38;5;28;01mreturn\u001B[39;00m \u001B[38;5;28mself\u001B[39m\u001B[38;5;241m.\u001B[39m_sslobj\u001B[38;5;241m.\u001B[39mread(\u001B[38;5;28mlen\u001B[39m)\n",
      "\u001B[0;31mKeyboardInterrupt\u001B[0m: "
     ]
    }
   ],
   "source": [
    "for artist in west_coast_artists_json.keys():\n",
    "    if west_coast_artists_json[artist] != 'SKIP':\n",
    "        try:\n",
    "            artist_object = genius.search_artist(artist, max_songs=1)\n",
    "            artist_information = genius.artist(artist_object.id)['artist']\n",
    "\n",
    "            if artist_information and west_coast_artists_json[artist] == '':\n",
    "                temp = {\n",
    "                    \"id\": artist_information['id']\n",
    "                }\n",
    "                new_key = artist_information['name']\n",
    "                west_coast_artists_json[new_key] = temp\n",
    "                del west_coast_artists_json[artist]\n",
    "            else:\n",
    "                print(f'--- SKIPPING: {artist} ---- \\n')\n",
    "\n",
    "        except AttributeError:\n",
    "            print(f'--- ATTRITBUTE ERROR EXCEPTION AT: {artist} ---- \\n')\n",
    "            west_coast_artists_json[artist] = 'SKIP'\n",
    "        except Timeout:\n",
    "            print(f'--- TIMEOUT AT: {artist} ---- \\n')\n",
    "            west_coast_artists_json[artist] = 'SKIP'\n",
    "        except requests.exceptions.RequestException as e:\n",
    "            # Handle other requests exceptions\n",
    "            print(f'--- REQUEST EXCEPTION AT: {artist}: {e} ---- \\n')\n",
    "            west_coast_artists_json[artist] = 'SKIP'\n",
    "        finally:\n",
    "            utils.save_json('west_coast_artists.json', west_coast_artists_json)\n",
    "\n",
    "        time.sleep(1)"
   ],
   "metadata": {
    "collapsed": false,
    "ExecuteTime": {
     "end_time": "2024-02-22T20:58:09.693354Z",
     "start_time": "2024-02-22T20:53:55.972935Z"
    }
   },
   "id": "95703cca7e50cd1f"
  },
  {
   "cell_type": "markdown",
   "source": [],
   "metadata": {
    "collapsed": false
   },
   "id": "b7d22ac668243424"
  },
  {
   "cell_type": "code",
   "execution_count": 220,
   "outputs": [
    {
     "name": "stdout",
     "output_type": "stream",
     "text": [
      "Searching for songs by slick rick...\n",
      "Changing artist name to 'Slick Rick'\n",
      "--- TIMEOUT AT: slick rick ---- \n",
      "\n",
      "Data has been saved to \"east_coast_artists.json\"\n",
      "Searching for songs by a tribe called quest...\n",
      "Changing artist name to 'A Tribe Called Quest'\n",
      "--- TIMEOUT AT: a tribe called quest ---- \n",
      "\n",
      "Data has been saved to \"east_coast_artists.json\"\n",
      "Searching for songs by salt n pepa...\n",
      "Changing artist name to 'Salt-N-Pepa'\n",
      "Song 1: \"Shoop\"\n",
      "\n",
      "Reached user-specified song limit (1).\n",
      "Done. Found 1 songs.\n",
      "Data has been saved to \"east_coast_artists.json\"\n",
      "Searching for songs by fugees...\n",
      "Changing artist name to 'Fugees'\n",
      "--- TIMEOUT AT: fugees ---- \n",
      "\n",
      "Data has been saved to \"east_coast_artists.json\"\n",
      "Searching for songs by slick rick ...\n",
      "Changing artist name to 'Slick Rick'\n",
      "--- TIMEOUT AT: slick rick  ---- \n",
      "\n",
      "Data has been saved to \"east_coast_artists.json\"\n",
      "Searching for songs by company flow...\n",
      "Changing artist name to 'Company Flow'\n",
      "Song 1: \"8 Steps to Perfection\"\n",
      "\n",
      "Reached user-specified song limit (1).\n",
      "Done. Found 1 songs.\n",
      "Data has been saved to \"east_coast_artists.json\"\n",
      "Searching for songs by eric b and rakim...\n",
      "No results found for 'eric b and rakim'.\n",
      "--- ATTRITBUTE ERROR EXCEPTION AT: eric b and rakim ---- \n",
      "\n",
      "Data has been saved to \"east_coast_artists.json\"\n",
      "Searching for songs by audio two...\n",
      "Changing artist name to 'Audio Two'\n",
      "--- TIMEOUT AT: audio two ---- \n",
      "\n",
      "Data has been saved to \"east_coast_artists.json\"\n",
      "Searching for songs by kurtis blow...\n",
      "Changing artist name to 'Kurtis Blow'\n",
      "--- TIMEOUT AT: kurtis blow ---- \n",
      "\n",
      "Data has been saved to \"east_coast_artists.json\"\n",
      "Searching for songs by schoolly d...\n",
      "Changing artist name to 'Schoolly D'\n",
      "Song 1: \"Aqua Teen Hunger Force Theme\"\n",
      "\n",
      "Reached user-specified song limit (1).\n",
      "Done. Found 1 songs.\n",
      "Data has been saved to \"east_coast_artists.json\"\n",
      "Searching for songs by ll cool j...\n",
      "Changing artist name to 'LL Cool J'\n",
      "--- TIMEOUT AT: ll cool j ---- \n",
      "\n",
      "Data has been saved to \"east_coast_artists.json\"\n",
      "Searching for songs by craig mack ...\n",
      "Changing artist name to 'Craig Mack'\n",
      "--- TIMEOUT AT: craig mack  ---- \n",
      "\n",
      "Data has been saved to \"east_coast_artists.json\"\n",
      "Searching for songs by funky 4+1...\n",
      "Changing artist name to 'Funky 4 + 1'\n",
      "Song 1: \"That’s The Joint\"\n",
      "\n",
      "Reached user-specified song limit (1).\n",
      "Done. Found 1 songs.\n",
      "Data has been saved to \"east_coast_artists.json\"\n",
      "Searching for songs by redman...\n",
      "Changing artist name to 'Redman'\n",
      "Song 1: \"Tonight’s Da Night\"\n",
      "\n",
      "Reached user-specified song limit (1).\n",
      "Done. Found 1 songs.\n",
      "Data has been saved to \"east_coast_artists.json\"\n",
      "Searching for songs by public enemy...\n",
      "Changing artist name to 'Public Enemy'\n",
      "Song 1: \"Fight the Power\"\n",
      "\n",
      "Reached user-specified song limit (1).\n",
      "Done. Found 1 songs.\n",
      "Data has been saved to \"east_coast_artists.json\"\n",
      "Searching for songs by foxy brown ...\n",
      "Changing artist name to 'Foxy Brown'\n",
      "--- TIMEOUT AT: foxy brown  ---- \n",
      "\n",
      "Data has been saved to \"east_coast_artists.json\"\n",
      "Searching for songs by busta rhymes...\n",
      "Changing artist name to 'Busta Rhymes'\n",
      "--- TIMEOUT AT: busta rhymes ---- \n",
      "\n",
      "Data has been saved to \"east_coast_artists.json\"\n",
      "Searching for songs by wu tang clan...\n",
      "Changing artist name to 'Wu-Tang Clan'\n",
      "--- TIMEOUT AT: wu tang clan ---- \n",
      "\n",
      "Data has been saved to \"east_coast_artists.json\"\n",
      "Searching for songs by beastie boys...\n",
      "Changing artist name to 'Beastie Boys'\n",
      "Song 1: \"Intergalactic\"\n",
      "\n",
      "Reached user-specified song limit (1).\n",
      "Done. Found 1 songs.\n",
      "Data has been saved to \"east_coast_artists.json\"\n",
      "Searching for songs by the notorious big...\n",
      "Changing artist name to 'The Notorious B.I.G.'\n",
      "--- TIMEOUT AT: the notorious big ---- \n",
      "\n",
      "Data has been saved to \"east_coast_artists.json\"\n",
      "Searching for songs by nonchalant...\n",
      "Changing artist name to 'Nonchalant'\n",
      "Song 1: \"5 O’Clock\"\n",
      "\n",
      "Reached user-specified song limit (1).\n",
      "Done. Found 1 songs.\n",
      "Data has been saved to \"east_coast_artists.json\"\n",
      "Searching for songs by kool g rap & dj polo...\n",
      "Changing artist name to 'Kool G Rap & DJ Polo'\n",
      "Song 1: \"On the Run (Untouchable)\"\n",
      "\n",
      "Reached user-specified song limit (1).\n",
      "Done. Found 1 songs.\n",
      "Data has been saved to \"east_coast_artists.json\"\n",
      "Searching for songs by a tribe called quest ...\n",
      "Changing artist name to 'A Tribe Called Quest'\n",
      "Song 1: \"Electric Relaxation\"\n",
      "\n",
      "Reached user-specified song limit (1).\n",
      "Done. Found 1 songs.\n",
      "Data has been saved to \"east_coast_artists.json\"\n",
      "Searching for songs by ol dirty bastard...\n",
      "Changing artist name to 'Ol’ Dirty Bastard'\n",
      "--- TIMEOUT AT: ol dirty bastard ---- \n",
      "\n",
      "Data has been saved to \"east_coast_artists.json\"\n",
      "Searching for songs by raekwon ...\n",
      "Changing artist name to 'Raekwon'\n",
      "--- TIMEOUT AT: raekwon  ---- \n",
      "\n",
      "Data has been saved to \"east_coast_artists.json\"\n",
      "Searching for songs by black moon...\n",
      "Changing artist name to 'Black Moon'\n",
      "Song 1: \"Who Got da Props?\"\n",
      "\n",
      "Reached user-specified song limit (1).\n",
      "Done. Found 1 songs.\n",
      "Data has been saved to \"east_coast_artists.json\"\n",
      "Searching for songs by afrika bambaataa and the soulsonic force...\n",
      "No results found for 'afrika bambaataa and the soulsonic force'.\n",
      "--- ATTRITBUTE ERROR EXCEPTION AT: afrika bambaataa and the soulsonic force ---- \n",
      "\n",
      "Data has been saved to \"east_coast_artists.json\"\n",
      "Searching for songs by lil kim ...\n",
      "Changing artist name to 'Lil’ Kim'\n",
      "--- TIMEOUT AT: lil kim  ---- \n",
      "\n",
      "Data has been saved to \"east_coast_artists.json\"\n",
      "Searching for songs by pete rock and cl smooth...\n",
      "No results found for 'pete rock and cl smooth'.\n",
      "--- ATTRITBUTE ERROR EXCEPTION AT: pete rock and cl smooth ---- \n",
      "\n",
      "Data has been saved to \"east_coast_artists.json\"\n",
      "Searching for songs by biz markie...\n",
      "Changing artist name to 'Biz Markie'\n",
      "--- TIMEOUT AT: biz markie ---- \n",
      "\n",
      "Data has been saved to \"east_coast_artists.json\"\n",
      "Searching for songs by mobb deep...\n",
      "Changing artist name to 'Mobb Deep'\n",
      "--- TIMEOUT AT: mobb deep ---- \n",
      "\n",
      "Data has been saved to \"east_coast_artists.json\"\n",
      "Searching for songs by queen latifah ...\n",
      "Changing artist name to 'Queen Latifah'\n",
      "--- TIMEOUT AT: queen latifah  ---- \n",
      "\n",
      "Data has been saved to \"east_coast_artists.json\"\n",
      "Searching for songs by mc lyte...\n",
      "Changing artist name to 'MC Lyte'\n",
      "Song 1: \"Cold Rock A Party (Bad Boy Remix)\"\n",
      "\n",
      "Reached user-specified song limit (1).\n",
      "Done. Found 1 songs.\n",
      "Data has been saved to \"east_coast_artists.json\"\n",
      "Searching for songs by run dmc...\n",
      "Changing artist name to 'Run–DMC'\n",
      "Song 1: \"It’s Tricky\"\n",
      "\n",
      "Reached user-specified song limit (1).\n",
      "Done. Found 1 songs.\n",
      "Data has been saved to \"east_coast_artists.json\"\n",
      "Searching for songs by ultramagenetic mcs...\n",
      "Changing artist name to 'Ultramagnetic MC’s'\n",
      "Song 1: \"Poppa Large\"\n",
      "\n",
      "Reached user-specified song limit (1).\n",
      "Done. Found 1 songs.\n",
      "Data has been saved to \"east_coast_artists.json\"\n",
      "Searching for songs by rob base and dj e z rock...\n",
      "No results found for 'rob base and dj e z rock'.\n",
      "--- ATTRITBUTE ERROR EXCEPTION AT: rob base and dj e z rock ---- \n",
      "\n",
      "Data has been saved to \"east_coast_artists.json\"\n",
      "Searching for songs by nas...\n",
      "Changing artist name to 'Nas'\n",
      "--- TIMEOUT AT: nas ---- \n",
      "\n",
      "Data has been saved to \"east_coast_artists.json\"\n",
      "Searching for songs by gang starr...\n",
      "Changing artist name to 'Gang Starr'\n",
      "Song 1: \"Moment of Truth\"\n",
      "\n",
      "Reached user-specified song limit (1).\n",
      "Done. Found 1 songs.\n",
      "Data has been saved to \"east_coast_artists.json\"\n",
      "Searching for songs by boogie down productions...\n",
      "Changing artist name to 'Boogie Down Productions'\n",
      "--- TIMEOUT AT: boogie down productions ---- \n",
      "\n",
      "Data has been saved to \"east_coast_artists.json\"\n",
      "Searching for songs by marley marl ...\n",
      "Changing artist name to 'Marley Marl'\n",
      "--- TIMEOUT AT: marley marl  ---- \n",
      "\n",
      "Data has been saved to \"east_coast_artists.json\"\n",
      "Searching for songs by big daddy kane...\n",
      "\n",
      "Changing artist name to 'Big Daddy Kane'\n",
      "--- TIMEOUT AT: big daddy kane ---- \n",
      "\n",
      "Data has been saved to \"east_coast_artists.json\"\n",
      "Searching for songs by epmd...\n",
      "Changing artist name to 'EPMD'\n",
      "Data has been saved to \"east_coast_artists.json\"\n"
     ]
    },
    {
     "ename": "KeyboardInterrupt",
     "evalue": "",
     "output_type": "error",
     "traceback": [
      "\u001B[0;31m---------------------------------------------------------------------------\u001B[0m",
      "\u001B[0;31mKeyboardInterrupt\u001B[0m                         Traceback (most recent call last)",
      "Cell \u001B[0;32mIn[220], line 4\u001B[0m\n\u001B[1;32m      2\u001B[0m \u001B[38;5;28;01mif\u001B[39;00m(east_coast_artists_json[artist] \u001B[38;5;241m!=\u001B[39m \u001B[38;5;124m'\u001B[39m\u001B[38;5;124mSKIP\u001B[39m\u001B[38;5;124m'\u001B[39m):\n\u001B[1;32m      3\u001B[0m     \u001B[38;5;28;01mtry\u001B[39;00m:\n\u001B[0;32m----> 4\u001B[0m         artist_object \u001B[38;5;241m=\u001B[39m \u001B[43mgenius\u001B[49m\u001B[38;5;241;43m.\u001B[39;49m\u001B[43msearch_artist\u001B[49m\u001B[43m(\u001B[49m\u001B[43martist\u001B[49m\u001B[43m,\u001B[49m\u001B[43m \u001B[49m\u001B[43mmax_songs\u001B[49m\u001B[38;5;241;43m=\u001B[39;49m\u001B[38;5;241;43m1\u001B[39;49m\u001B[43m)\u001B[49m\n\u001B[1;32m      5\u001B[0m         artist_information \u001B[38;5;241m=\u001B[39m genius\u001B[38;5;241m.\u001B[39martist(artist_object\u001B[38;5;241m.\u001B[39mid)[\u001B[38;5;124m'\u001B[39m\u001B[38;5;124martist\u001B[39m\u001B[38;5;124m'\u001B[39m]\n\u001B[1;32m      7\u001B[0m         \u001B[38;5;28;01mif\u001B[39;00m artist_information \u001B[38;5;129;01mand\u001B[39;00m east_coast_artists_json[artist] \u001B[38;5;241m==\u001B[39m \u001B[38;5;124m'\u001B[39m\u001B[38;5;124m'\u001B[39m:\n",
      "File \u001B[0;32m~/lib/python3.9/site-packages/lyricsgenius/genius.py:568\u001B[0m, in \u001B[0;36mGenius.search_artist\u001B[0;34m(self, artist_name, max_songs, sort, per_page, get_full_info, allow_name_change, artist_id, include_features)\u001B[0m\n\u001B[1;32m    566\u001B[0m     lyrics \u001B[38;5;241m=\u001B[39m \u001B[38;5;124m\"\u001B[39m\u001B[38;5;124m\"\u001B[39m\n\u001B[1;32m    567\u001B[0m \u001B[38;5;28;01mif\u001B[39;00m get_full_info:\n\u001B[0;32m--> 568\u001B[0m     new_info \u001B[38;5;241m=\u001B[39m \u001B[38;5;28;43mself\u001B[39;49m\u001B[38;5;241;43m.\u001B[39;49m\u001B[43msong\u001B[49m\u001B[43m(\u001B[49m\u001B[43msong_info\u001B[49m\u001B[43m[\u001B[49m\u001B[38;5;124;43m'\u001B[39;49m\u001B[38;5;124;43mid\u001B[39;49m\u001B[38;5;124;43m'\u001B[39;49m\u001B[43m]\u001B[49m\u001B[43m)\u001B[49m[\u001B[38;5;124m'\u001B[39m\u001B[38;5;124msong\u001B[39m\u001B[38;5;124m'\u001B[39m]\n\u001B[1;32m    569\u001B[0m     song_info\u001B[38;5;241m.\u001B[39mupdate(new_info)\n\u001B[1;32m    570\u001B[0m song \u001B[38;5;241m=\u001B[39m Song(\u001B[38;5;28mself\u001B[39m, song_info, lyrics)\n",
      "File \u001B[0;32m~/lib/python3.9/site-packages/lyricsgenius/api/api.py:437\u001B[0m, in \u001B[0;36mAPI.song\u001B[0;34m(self, song_id, text_format)\u001B[0m\n\u001B[1;32m    435\u001B[0m endpoint \u001B[38;5;241m=\u001B[39m \u001B[38;5;124m\"\u001B[39m\u001B[38;5;124msongs/\u001B[39m\u001B[38;5;132;01m{id}\u001B[39;00m\u001B[38;5;124m\"\u001B[39m\u001B[38;5;241m.\u001B[39mformat(\u001B[38;5;28mid\u001B[39m\u001B[38;5;241m=\u001B[39msong_id)\n\u001B[1;32m    436\u001B[0m params \u001B[38;5;241m=\u001B[39m {\u001B[38;5;124m'\u001B[39m\u001B[38;5;124mtext_format\u001B[39m\u001B[38;5;124m'\u001B[39m: text_format \u001B[38;5;129;01mor\u001B[39;00m \u001B[38;5;28mself\u001B[39m\u001B[38;5;241m.\u001B[39mresponse_format}\n\u001B[0;32m--> 437\u001B[0m \u001B[38;5;28;01mreturn\u001B[39;00m \u001B[38;5;28;43mself\u001B[39;49m\u001B[38;5;241;43m.\u001B[39;49m\u001B[43m_make_request\u001B[49m\u001B[43m(\u001B[49m\u001B[43mendpoint\u001B[49m\u001B[43m,\u001B[49m\u001B[43m \u001B[49m\u001B[43mparams_\u001B[49m\u001B[38;5;241;43m=\u001B[39;49m\u001B[43mparams\u001B[49m\u001B[43m)\u001B[49m\n",
      "File \u001B[0;32m~/lib/python3.9/site-packages/lyricsgenius/api/base.py:75\u001B[0m, in \u001B[0;36mSender._make_request\u001B[0;34m(self, path, method, params_, public_api, web, **kwargs)\u001B[0m\n\u001B[1;32m     73\u001B[0m tries \u001B[38;5;241m+\u001B[39m\u001B[38;5;241m=\u001B[39m \u001B[38;5;241m1\u001B[39m\n\u001B[1;32m     74\u001B[0m \u001B[38;5;28;01mtry\u001B[39;00m:\n\u001B[0;32m---> 75\u001B[0m     response \u001B[38;5;241m=\u001B[39m \u001B[38;5;28;43mself\u001B[39;49m\u001B[38;5;241;43m.\u001B[39;49m\u001B[43m_session\u001B[49m\u001B[38;5;241;43m.\u001B[39;49m\u001B[43mrequest\u001B[49m\u001B[43m(\u001B[49m\u001B[43mmethod\u001B[49m\u001B[43m,\u001B[49m\u001B[43m \u001B[49m\u001B[43muri\u001B[49m\u001B[43m,\u001B[49m\n\u001B[1;32m     76\u001B[0m \u001B[43m                                     \u001B[49m\u001B[43mtimeout\u001B[49m\u001B[38;5;241;43m=\u001B[39;49m\u001B[38;5;28;43mself\u001B[39;49m\u001B[38;5;241;43m.\u001B[39;49m\u001B[43mtimeout\u001B[49m\u001B[43m,\u001B[49m\n\u001B[1;32m     77\u001B[0m \u001B[43m                                     \u001B[49m\u001B[43mparams\u001B[49m\u001B[38;5;241;43m=\u001B[39;49m\u001B[43mparams_\u001B[49m\u001B[43m,\u001B[49m\n\u001B[1;32m     78\u001B[0m \u001B[43m                                     \u001B[49m\u001B[43mheaders\u001B[49m\u001B[38;5;241;43m=\u001B[39;49m\u001B[43mheader\u001B[49m\u001B[43m,\u001B[49m\n\u001B[1;32m     79\u001B[0m \u001B[43m                                     \u001B[49m\u001B[38;5;241;43m*\u001B[39;49m\u001B[38;5;241;43m*\u001B[39;49m\u001B[43mkwargs\u001B[49m\u001B[43m)\u001B[49m\n\u001B[1;32m     80\u001B[0m     response\u001B[38;5;241m.\u001B[39mraise_for_status()\n\u001B[1;32m     81\u001B[0m \u001B[38;5;28;01mexcept\u001B[39;00m Timeout \u001B[38;5;28;01mas\u001B[39;00m e:\n",
      "File \u001B[0;32m~/lib/python3.9/site-packages/requests/sessions.py:589\u001B[0m, in \u001B[0;36mSession.request\u001B[0;34m(self, method, url, params, data, headers, cookies, files, auth, timeout, allow_redirects, proxies, hooks, stream, verify, cert, json)\u001B[0m\n\u001B[1;32m    584\u001B[0m send_kwargs \u001B[38;5;241m=\u001B[39m {\n\u001B[1;32m    585\u001B[0m     \u001B[38;5;124m\"\u001B[39m\u001B[38;5;124mtimeout\u001B[39m\u001B[38;5;124m\"\u001B[39m: timeout,\n\u001B[1;32m    586\u001B[0m     \u001B[38;5;124m\"\u001B[39m\u001B[38;5;124mallow_redirects\u001B[39m\u001B[38;5;124m\"\u001B[39m: allow_redirects,\n\u001B[1;32m    587\u001B[0m }\n\u001B[1;32m    588\u001B[0m send_kwargs\u001B[38;5;241m.\u001B[39mupdate(settings)\n\u001B[0;32m--> 589\u001B[0m resp \u001B[38;5;241m=\u001B[39m \u001B[38;5;28;43mself\u001B[39;49m\u001B[38;5;241;43m.\u001B[39;49m\u001B[43msend\u001B[49m\u001B[43m(\u001B[49m\u001B[43mprep\u001B[49m\u001B[43m,\u001B[49m\u001B[43m \u001B[49m\u001B[38;5;241;43m*\u001B[39;49m\u001B[38;5;241;43m*\u001B[39;49m\u001B[43msend_kwargs\u001B[49m\u001B[43m)\u001B[49m\n\u001B[1;32m    591\u001B[0m \u001B[38;5;28;01mreturn\u001B[39;00m resp\n",
      "File \u001B[0;32m~/lib/python3.9/site-packages/requests/sessions.py:703\u001B[0m, in \u001B[0;36mSession.send\u001B[0;34m(self, request, **kwargs)\u001B[0m\n\u001B[1;32m    700\u001B[0m start \u001B[38;5;241m=\u001B[39m preferred_clock()\n\u001B[1;32m    702\u001B[0m \u001B[38;5;66;03m# Send the request\u001B[39;00m\n\u001B[0;32m--> 703\u001B[0m r \u001B[38;5;241m=\u001B[39m \u001B[43madapter\u001B[49m\u001B[38;5;241;43m.\u001B[39;49m\u001B[43msend\u001B[49m\u001B[43m(\u001B[49m\u001B[43mrequest\u001B[49m\u001B[43m,\u001B[49m\u001B[43m \u001B[49m\u001B[38;5;241;43m*\u001B[39;49m\u001B[38;5;241;43m*\u001B[39;49m\u001B[43mkwargs\u001B[49m\u001B[43m)\u001B[49m\n\u001B[1;32m    705\u001B[0m \u001B[38;5;66;03m# Total elapsed time of the request (approximately)\u001B[39;00m\n\u001B[1;32m    706\u001B[0m elapsed \u001B[38;5;241m=\u001B[39m preferred_clock() \u001B[38;5;241m-\u001B[39m start\n",
      "File \u001B[0;32m~/lib/python3.9/site-packages/requests/adapters.py:486\u001B[0m, in \u001B[0;36mHTTPAdapter.send\u001B[0;34m(self, request, stream, timeout, verify, cert, proxies)\u001B[0m\n\u001B[1;32m    483\u001B[0m     timeout \u001B[38;5;241m=\u001B[39m TimeoutSauce(connect\u001B[38;5;241m=\u001B[39mtimeout, read\u001B[38;5;241m=\u001B[39mtimeout)\n\u001B[1;32m    485\u001B[0m \u001B[38;5;28;01mtry\u001B[39;00m:\n\u001B[0;32m--> 486\u001B[0m     resp \u001B[38;5;241m=\u001B[39m \u001B[43mconn\u001B[49m\u001B[38;5;241;43m.\u001B[39;49m\u001B[43murlopen\u001B[49m\u001B[43m(\u001B[49m\n\u001B[1;32m    487\u001B[0m \u001B[43m        \u001B[49m\u001B[43mmethod\u001B[49m\u001B[38;5;241;43m=\u001B[39;49m\u001B[43mrequest\u001B[49m\u001B[38;5;241;43m.\u001B[39;49m\u001B[43mmethod\u001B[49m\u001B[43m,\u001B[49m\n\u001B[1;32m    488\u001B[0m \u001B[43m        \u001B[49m\u001B[43murl\u001B[49m\u001B[38;5;241;43m=\u001B[39;49m\u001B[43murl\u001B[49m\u001B[43m,\u001B[49m\n\u001B[1;32m    489\u001B[0m \u001B[43m        \u001B[49m\u001B[43mbody\u001B[49m\u001B[38;5;241;43m=\u001B[39;49m\u001B[43mrequest\u001B[49m\u001B[38;5;241;43m.\u001B[39;49m\u001B[43mbody\u001B[49m\u001B[43m,\u001B[49m\n\u001B[1;32m    490\u001B[0m \u001B[43m        \u001B[49m\u001B[43mheaders\u001B[49m\u001B[38;5;241;43m=\u001B[39;49m\u001B[43mrequest\u001B[49m\u001B[38;5;241;43m.\u001B[39;49m\u001B[43mheaders\u001B[49m\u001B[43m,\u001B[49m\n\u001B[1;32m    491\u001B[0m \u001B[43m        \u001B[49m\u001B[43mredirect\u001B[49m\u001B[38;5;241;43m=\u001B[39;49m\u001B[38;5;28;43;01mFalse\u001B[39;49;00m\u001B[43m,\u001B[49m\n\u001B[1;32m    492\u001B[0m \u001B[43m        \u001B[49m\u001B[43massert_same_host\u001B[49m\u001B[38;5;241;43m=\u001B[39;49m\u001B[38;5;28;43;01mFalse\u001B[39;49;00m\u001B[43m,\u001B[49m\n\u001B[1;32m    493\u001B[0m \u001B[43m        \u001B[49m\u001B[43mpreload_content\u001B[49m\u001B[38;5;241;43m=\u001B[39;49m\u001B[38;5;28;43;01mFalse\u001B[39;49;00m\u001B[43m,\u001B[49m\n\u001B[1;32m    494\u001B[0m \u001B[43m        \u001B[49m\u001B[43mdecode_content\u001B[49m\u001B[38;5;241;43m=\u001B[39;49m\u001B[38;5;28;43;01mFalse\u001B[39;49;00m\u001B[43m,\u001B[49m\n\u001B[1;32m    495\u001B[0m \u001B[43m        \u001B[49m\u001B[43mretries\u001B[49m\u001B[38;5;241;43m=\u001B[39;49m\u001B[38;5;28;43mself\u001B[39;49m\u001B[38;5;241;43m.\u001B[39;49m\u001B[43mmax_retries\u001B[49m\u001B[43m,\u001B[49m\n\u001B[1;32m    496\u001B[0m \u001B[43m        \u001B[49m\u001B[43mtimeout\u001B[49m\u001B[38;5;241;43m=\u001B[39;49m\u001B[43mtimeout\u001B[49m\u001B[43m,\u001B[49m\n\u001B[1;32m    497\u001B[0m \u001B[43m        \u001B[49m\u001B[43mchunked\u001B[49m\u001B[38;5;241;43m=\u001B[39;49m\u001B[43mchunked\u001B[49m\u001B[43m,\u001B[49m\n\u001B[1;32m    498\u001B[0m \u001B[43m    \u001B[49m\u001B[43m)\u001B[49m\n\u001B[1;32m    500\u001B[0m \u001B[38;5;28;01mexcept\u001B[39;00m (ProtocolError, \u001B[38;5;167;01mOSError\u001B[39;00m) \u001B[38;5;28;01mas\u001B[39;00m err:\n\u001B[1;32m    501\u001B[0m     \u001B[38;5;28;01mraise\u001B[39;00m \u001B[38;5;167;01mConnectionError\u001B[39;00m(err, request\u001B[38;5;241m=\u001B[39mrequest)\n",
      "File \u001B[0;32m~/lib/python3.9/site-packages/urllib3/connectionpool.py:791\u001B[0m, in \u001B[0;36mHTTPConnectionPool.urlopen\u001B[0;34m(self, method, url, body, headers, retries, redirect, assert_same_host, timeout, pool_timeout, release_conn, chunked, body_pos, preload_content, decode_content, **response_kw)\u001B[0m\n\u001B[1;32m    788\u001B[0m response_conn \u001B[38;5;241m=\u001B[39m conn \u001B[38;5;28;01mif\u001B[39;00m \u001B[38;5;129;01mnot\u001B[39;00m release_conn \u001B[38;5;28;01melse\u001B[39;00m \u001B[38;5;28;01mNone\u001B[39;00m\n\u001B[1;32m    790\u001B[0m \u001B[38;5;66;03m# Make the request on the HTTPConnection object\u001B[39;00m\n\u001B[0;32m--> 791\u001B[0m response \u001B[38;5;241m=\u001B[39m \u001B[38;5;28;43mself\u001B[39;49m\u001B[38;5;241;43m.\u001B[39;49m\u001B[43m_make_request\u001B[49m\u001B[43m(\u001B[49m\n\u001B[1;32m    792\u001B[0m \u001B[43m    \u001B[49m\u001B[43mconn\u001B[49m\u001B[43m,\u001B[49m\n\u001B[1;32m    793\u001B[0m \u001B[43m    \u001B[49m\u001B[43mmethod\u001B[49m\u001B[43m,\u001B[49m\n\u001B[1;32m    794\u001B[0m \u001B[43m    \u001B[49m\u001B[43murl\u001B[49m\u001B[43m,\u001B[49m\n\u001B[1;32m    795\u001B[0m \u001B[43m    \u001B[49m\u001B[43mtimeout\u001B[49m\u001B[38;5;241;43m=\u001B[39;49m\u001B[43mtimeout_obj\u001B[49m\u001B[43m,\u001B[49m\n\u001B[1;32m    796\u001B[0m \u001B[43m    \u001B[49m\u001B[43mbody\u001B[49m\u001B[38;5;241;43m=\u001B[39;49m\u001B[43mbody\u001B[49m\u001B[43m,\u001B[49m\n\u001B[1;32m    797\u001B[0m \u001B[43m    \u001B[49m\u001B[43mheaders\u001B[49m\u001B[38;5;241;43m=\u001B[39;49m\u001B[43mheaders\u001B[49m\u001B[43m,\u001B[49m\n\u001B[1;32m    798\u001B[0m \u001B[43m    \u001B[49m\u001B[43mchunked\u001B[49m\u001B[38;5;241;43m=\u001B[39;49m\u001B[43mchunked\u001B[49m\u001B[43m,\u001B[49m\n\u001B[1;32m    799\u001B[0m \u001B[43m    \u001B[49m\u001B[43mretries\u001B[49m\u001B[38;5;241;43m=\u001B[39;49m\u001B[43mretries\u001B[49m\u001B[43m,\u001B[49m\n\u001B[1;32m    800\u001B[0m \u001B[43m    \u001B[49m\u001B[43mresponse_conn\u001B[49m\u001B[38;5;241;43m=\u001B[39;49m\u001B[43mresponse_conn\u001B[49m\u001B[43m,\u001B[49m\n\u001B[1;32m    801\u001B[0m \u001B[43m    \u001B[49m\u001B[43mpreload_content\u001B[49m\u001B[38;5;241;43m=\u001B[39;49m\u001B[43mpreload_content\u001B[49m\u001B[43m,\u001B[49m\n\u001B[1;32m    802\u001B[0m \u001B[43m    \u001B[49m\u001B[43mdecode_content\u001B[49m\u001B[38;5;241;43m=\u001B[39;49m\u001B[43mdecode_content\u001B[49m\u001B[43m,\u001B[49m\n\u001B[1;32m    803\u001B[0m \u001B[43m    \u001B[49m\u001B[38;5;241;43m*\u001B[39;49m\u001B[38;5;241;43m*\u001B[39;49m\u001B[43mresponse_kw\u001B[49m\u001B[43m,\u001B[49m\n\u001B[1;32m    804\u001B[0m \u001B[43m\u001B[49m\u001B[43m)\u001B[49m\n\u001B[1;32m    806\u001B[0m \u001B[38;5;66;03m# Everything went great!\u001B[39;00m\n\u001B[1;32m    807\u001B[0m clean_exit \u001B[38;5;241m=\u001B[39m \u001B[38;5;28;01mTrue\u001B[39;00m\n",
      "File \u001B[0;32m~/lib/python3.9/site-packages/urllib3/connectionpool.py:537\u001B[0m, in \u001B[0;36mHTTPConnectionPool._make_request\u001B[0;34m(self, conn, method, url, body, headers, retries, timeout, chunked, response_conn, preload_content, decode_content, enforce_content_length)\u001B[0m\n\u001B[1;32m    535\u001B[0m \u001B[38;5;66;03m# Receive the response from the server\u001B[39;00m\n\u001B[1;32m    536\u001B[0m \u001B[38;5;28;01mtry\u001B[39;00m:\n\u001B[0;32m--> 537\u001B[0m     response \u001B[38;5;241m=\u001B[39m \u001B[43mconn\u001B[49m\u001B[38;5;241;43m.\u001B[39;49m\u001B[43mgetresponse\u001B[49m\u001B[43m(\u001B[49m\u001B[43m)\u001B[49m\n\u001B[1;32m    538\u001B[0m \u001B[38;5;28;01mexcept\u001B[39;00m (BaseSSLError, \u001B[38;5;167;01mOSError\u001B[39;00m) \u001B[38;5;28;01mas\u001B[39;00m e:\n\u001B[1;32m    539\u001B[0m     \u001B[38;5;28mself\u001B[39m\u001B[38;5;241m.\u001B[39m_raise_timeout(err\u001B[38;5;241m=\u001B[39me, url\u001B[38;5;241m=\u001B[39murl, timeout_value\u001B[38;5;241m=\u001B[39mread_timeout)\n",
      "File \u001B[0;32m~/lib/python3.9/site-packages/urllib3/connection.py:461\u001B[0m, in \u001B[0;36mHTTPConnection.getresponse\u001B[0;34m(self)\u001B[0m\n\u001B[1;32m    458\u001B[0m \u001B[38;5;28;01mfrom\u001B[39;00m \u001B[38;5;21;01m.\u001B[39;00m\u001B[38;5;21;01mresponse\u001B[39;00m \u001B[38;5;28;01mimport\u001B[39;00m HTTPResponse\n\u001B[1;32m    460\u001B[0m \u001B[38;5;66;03m# Get the response from http.client.HTTPConnection\u001B[39;00m\n\u001B[0;32m--> 461\u001B[0m httplib_response \u001B[38;5;241m=\u001B[39m \u001B[38;5;28;43msuper\u001B[39;49m\u001B[43m(\u001B[49m\u001B[43m)\u001B[49m\u001B[38;5;241;43m.\u001B[39;49m\u001B[43mgetresponse\u001B[49m\u001B[43m(\u001B[49m\u001B[43m)\u001B[49m\n\u001B[1;32m    463\u001B[0m \u001B[38;5;28;01mtry\u001B[39;00m:\n\u001B[1;32m    464\u001B[0m     assert_header_parsing(httplib_response\u001B[38;5;241m.\u001B[39mmsg)\n",
      "File \u001B[0;32m/Library/Developer/CommandLineTools/Library/Frameworks/Python3.framework/Versions/3.9/lib/python3.9/http/client.py:1349\u001B[0m, in \u001B[0;36mHTTPConnection.getresponse\u001B[0;34m(self)\u001B[0m\n\u001B[1;32m   1347\u001B[0m \u001B[38;5;28;01mtry\u001B[39;00m:\n\u001B[1;32m   1348\u001B[0m     \u001B[38;5;28;01mtry\u001B[39;00m:\n\u001B[0;32m-> 1349\u001B[0m         \u001B[43mresponse\u001B[49m\u001B[38;5;241;43m.\u001B[39;49m\u001B[43mbegin\u001B[49m\u001B[43m(\u001B[49m\u001B[43m)\u001B[49m\n\u001B[1;32m   1350\u001B[0m     \u001B[38;5;28;01mexcept\u001B[39;00m \u001B[38;5;167;01mConnectionError\u001B[39;00m:\n\u001B[1;32m   1351\u001B[0m         \u001B[38;5;28mself\u001B[39m\u001B[38;5;241m.\u001B[39mclose()\n",
      "File \u001B[0;32m/Library/Developer/CommandLineTools/Library/Frameworks/Python3.framework/Versions/3.9/lib/python3.9/http/client.py:316\u001B[0m, in \u001B[0;36mHTTPResponse.begin\u001B[0;34m(self)\u001B[0m\n\u001B[1;32m    314\u001B[0m \u001B[38;5;66;03m# read until we get a non-100 response\u001B[39;00m\n\u001B[1;32m    315\u001B[0m \u001B[38;5;28;01mwhile\u001B[39;00m \u001B[38;5;28;01mTrue\u001B[39;00m:\n\u001B[0;32m--> 316\u001B[0m     version, status, reason \u001B[38;5;241m=\u001B[39m \u001B[38;5;28;43mself\u001B[39;49m\u001B[38;5;241;43m.\u001B[39;49m\u001B[43m_read_status\u001B[49m\u001B[43m(\u001B[49m\u001B[43m)\u001B[49m\n\u001B[1;32m    317\u001B[0m     \u001B[38;5;28;01mif\u001B[39;00m status \u001B[38;5;241m!=\u001B[39m CONTINUE:\n\u001B[1;32m    318\u001B[0m         \u001B[38;5;28;01mbreak\u001B[39;00m\n",
      "File \u001B[0;32m/Library/Developer/CommandLineTools/Library/Frameworks/Python3.framework/Versions/3.9/lib/python3.9/http/client.py:277\u001B[0m, in \u001B[0;36mHTTPResponse._read_status\u001B[0;34m(self)\u001B[0m\n\u001B[1;32m    276\u001B[0m \u001B[38;5;28;01mdef\u001B[39;00m \u001B[38;5;21m_read_status\u001B[39m(\u001B[38;5;28mself\u001B[39m):\n\u001B[0;32m--> 277\u001B[0m     line \u001B[38;5;241m=\u001B[39m \u001B[38;5;28mstr\u001B[39m(\u001B[38;5;28;43mself\u001B[39;49m\u001B[38;5;241;43m.\u001B[39;49m\u001B[43mfp\u001B[49m\u001B[38;5;241;43m.\u001B[39;49m\u001B[43mreadline\u001B[49m\u001B[43m(\u001B[49m\u001B[43m_MAXLINE\u001B[49m\u001B[43m \u001B[49m\u001B[38;5;241;43m+\u001B[39;49m\u001B[43m \u001B[49m\u001B[38;5;241;43m1\u001B[39;49m\u001B[43m)\u001B[49m, \u001B[38;5;124m\"\u001B[39m\u001B[38;5;124miso-8859-1\u001B[39m\u001B[38;5;124m\"\u001B[39m)\n\u001B[1;32m    278\u001B[0m     \u001B[38;5;28;01mif\u001B[39;00m \u001B[38;5;28mlen\u001B[39m(line) \u001B[38;5;241m>\u001B[39m _MAXLINE:\n\u001B[1;32m    279\u001B[0m         \u001B[38;5;28;01mraise\u001B[39;00m LineTooLong(\u001B[38;5;124m\"\u001B[39m\u001B[38;5;124mstatus line\u001B[39m\u001B[38;5;124m\"\u001B[39m)\n",
      "File \u001B[0;32m/Library/Developer/CommandLineTools/Library/Frameworks/Python3.framework/Versions/3.9/lib/python3.9/socket.py:704\u001B[0m, in \u001B[0;36mSocketIO.readinto\u001B[0;34m(self, b)\u001B[0m\n\u001B[1;32m    702\u001B[0m \u001B[38;5;28;01mwhile\u001B[39;00m \u001B[38;5;28;01mTrue\u001B[39;00m:\n\u001B[1;32m    703\u001B[0m     \u001B[38;5;28;01mtry\u001B[39;00m:\n\u001B[0;32m--> 704\u001B[0m         \u001B[38;5;28;01mreturn\u001B[39;00m \u001B[38;5;28;43mself\u001B[39;49m\u001B[38;5;241;43m.\u001B[39;49m\u001B[43m_sock\u001B[49m\u001B[38;5;241;43m.\u001B[39;49m\u001B[43mrecv_into\u001B[49m\u001B[43m(\u001B[49m\u001B[43mb\u001B[49m\u001B[43m)\u001B[49m\n\u001B[1;32m    705\u001B[0m     \u001B[38;5;28;01mexcept\u001B[39;00m timeout:\n\u001B[1;32m    706\u001B[0m         \u001B[38;5;28mself\u001B[39m\u001B[38;5;241m.\u001B[39m_timeout_occurred \u001B[38;5;241m=\u001B[39m \u001B[38;5;28;01mTrue\u001B[39;00m\n",
      "File \u001B[0;32m/Library/Developer/CommandLineTools/Library/Frameworks/Python3.framework/Versions/3.9/lib/python3.9/ssl.py:1241\u001B[0m, in \u001B[0;36mSSLSocket.recv_into\u001B[0;34m(self, buffer, nbytes, flags)\u001B[0m\n\u001B[1;32m   1237\u001B[0m     \u001B[38;5;28;01mif\u001B[39;00m flags \u001B[38;5;241m!=\u001B[39m \u001B[38;5;241m0\u001B[39m:\n\u001B[1;32m   1238\u001B[0m         \u001B[38;5;28;01mraise\u001B[39;00m \u001B[38;5;167;01mValueError\u001B[39;00m(\n\u001B[1;32m   1239\u001B[0m           \u001B[38;5;124m\"\u001B[39m\u001B[38;5;124mnon-zero flags not allowed in calls to recv_into() on \u001B[39m\u001B[38;5;132;01m%s\u001B[39;00m\u001B[38;5;124m\"\u001B[39m \u001B[38;5;241m%\u001B[39m\n\u001B[1;32m   1240\u001B[0m           \u001B[38;5;28mself\u001B[39m\u001B[38;5;241m.\u001B[39m\u001B[38;5;18m__class__\u001B[39m)\n\u001B[0;32m-> 1241\u001B[0m     \u001B[38;5;28;01mreturn\u001B[39;00m \u001B[38;5;28;43mself\u001B[39;49m\u001B[38;5;241;43m.\u001B[39;49m\u001B[43mread\u001B[49m\u001B[43m(\u001B[49m\u001B[43mnbytes\u001B[49m\u001B[43m,\u001B[49m\u001B[43m \u001B[49m\u001B[43mbuffer\u001B[49m\u001B[43m)\u001B[49m\n\u001B[1;32m   1242\u001B[0m \u001B[38;5;28;01melse\u001B[39;00m:\n\u001B[1;32m   1243\u001B[0m     \u001B[38;5;28;01mreturn\u001B[39;00m \u001B[38;5;28msuper\u001B[39m()\u001B[38;5;241m.\u001B[39mrecv_into(buffer, nbytes, flags)\n",
      "File \u001B[0;32m/Library/Developer/CommandLineTools/Library/Frameworks/Python3.framework/Versions/3.9/lib/python3.9/ssl.py:1099\u001B[0m, in \u001B[0;36mSSLSocket.read\u001B[0;34m(self, len, buffer)\u001B[0m\n\u001B[1;32m   1097\u001B[0m \u001B[38;5;28;01mtry\u001B[39;00m:\n\u001B[1;32m   1098\u001B[0m     \u001B[38;5;28;01mif\u001B[39;00m buffer \u001B[38;5;129;01mis\u001B[39;00m \u001B[38;5;129;01mnot\u001B[39;00m \u001B[38;5;28;01mNone\u001B[39;00m:\n\u001B[0;32m-> 1099\u001B[0m         \u001B[38;5;28;01mreturn\u001B[39;00m \u001B[38;5;28;43mself\u001B[39;49m\u001B[38;5;241;43m.\u001B[39;49m\u001B[43m_sslobj\u001B[49m\u001B[38;5;241;43m.\u001B[39;49m\u001B[43mread\u001B[49m\u001B[43m(\u001B[49m\u001B[38;5;28;43mlen\u001B[39;49m\u001B[43m,\u001B[49m\u001B[43m \u001B[49m\u001B[43mbuffer\u001B[49m\u001B[43m)\u001B[49m\n\u001B[1;32m   1100\u001B[0m     \u001B[38;5;28;01melse\u001B[39;00m:\n\u001B[1;32m   1101\u001B[0m         \u001B[38;5;28;01mreturn\u001B[39;00m \u001B[38;5;28mself\u001B[39m\u001B[38;5;241m.\u001B[39m_sslobj\u001B[38;5;241m.\u001B[39mread(\u001B[38;5;28mlen\u001B[39m)\n",
      "\u001B[0;31mKeyboardInterrupt\u001B[0m: "
     ]
    }
   ],
   "source": [
    "for artist in east_coast_artists_json.keys():\n",
    "    if east_coast_artists_json[artist] != 'SKIP':\n",
    "        try:\n",
    "            artist_object = genius.search_artist(artist, max_songs=1)\n",
    "            artist_information = genius.artist(artist_object.id)['artist']\n",
    "    \n",
    "            if artist_information and east_coast_artists_json[artist] == '':\n",
    "                temp = {\n",
    "                    \"id\": artist_information['id']\n",
    "                }\n",
    "                new_key = artist_information['name']\n",
    "                east_coast_artists_json[new_key] = temp\n",
    "                del east_coast_artists_json[artist]\n",
    "            else:\n",
    "                print(f'--- SKIPPING: {artist} ---- \\n')\n",
    "    \n",
    "        except AttributeError:\n",
    "            print(f'--- ATTRITBUTE ERROR EXCEPTION AT: {artist} ---- \\n')\n",
    "            east_coast_artists_json[artist] = 'SKIP'\n",
    "        except Timeout:\n",
    "            print(f'--- TIMEOUT AT: {artist} ---- \\n')\n",
    "            east_coast_artists_json[artist] = 'SKIP'\n",
    "        except requests.exceptions.RequestException as e:\n",
    "            # Handle other requests exceptions\n",
    "            print(f'--- REQUEST EXCEPTION AT: {artist}: {e} ---- \\n')\n",
    "            east_coast_artists_json[artist] = 'SKIP'\n",
    "        finally:\n",
    "            utils.save_json('east_coast_artists.json', east_coast_artists_json)\n",
    "            \n",
    "        time.sleep(1)"
   ],
   "metadata": {
    "collapsed": false,
    "ExecuteTime": {
     "end_time": "2024-02-22T18:36:59.101105Z",
     "start_time": "2024-02-22T18:28:45.382423Z"
    }
   },
   "id": "da8d7dedc0a6ff73"
  },
  {
   "cell_type": "code",
   "execution_count": 245,
   "outputs": [],
   "source": [
    "a = genius.artist(west_coast_artists_json['N.W.A']['id'])['artist']"
   ],
   "metadata": {
    "collapsed": false,
    "ExecuteTime": {
     "end_time": "2024-02-23T07:41:52.185456Z",
     "start_time": "2024-02-23T07:41:51.612218Z"
    }
   },
   "id": "bb3c3cdeb243593b"
  },
  {
   "cell_type": "code",
   "execution_count": 250,
   "outputs": [],
   "source": [
    "b = genius.artist_albums(west_coast_artists_json['N.W.A']['id'])['albums']"
   ],
   "metadata": {
    "collapsed": false,
    "ExecuteTime": {
     "end_time": "2024-02-23T07:45:18.089457Z",
     "start_time": "2024-02-23T07:45:17.830353Z"
    }
   },
   "id": "a4069233491d3718"
  },
  {
   "cell_type": "code",
   "execution_count": 262,
   "outputs": [
    {
     "name": "stdout",
     "output_type": "stream",
     "text": [
      "Data has been saved to \"east_coast_artists.json\"\n"
     ]
    },
    {
     "ename": "TypeError",
     "evalue": "string indices must be integers",
     "output_type": "error",
     "traceback": [
      "\u001B[0;31m---------------------------------------------------------------------------\u001B[0m",
      "\u001B[0;31mTypeError\u001B[0m                                 Traceback (most recent call last)",
      "Cell \u001B[0;32mIn[262], line 9\u001B[0m\n\u001B[1;32m      7\u001B[0m \u001B[38;5;28;01mif\u001B[39;00m artist_albums \u001B[38;5;129;01mand\u001B[39;00m \u001B[38;5;124m'\u001B[39m\u001B[38;5;124malbums\u001B[39m\u001B[38;5;124m'\u001B[39m \u001B[38;5;129;01mnot\u001B[39;00m \u001B[38;5;129;01min\u001B[39;00m east_coast_artists_json[artist]:\n\u001B[1;32m      8\u001B[0m     \u001B[38;5;28;01mfor\u001B[39;00m album \u001B[38;5;129;01min\u001B[39;00m artist_albums:\n\u001B[0;32m----> 9\u001B[0m         \u001B[38;5;28;01mif\u001B[39;00m(\u001B[38;5;241m1980\u001B[39m \u001B[38;5;241m<\u001B[39m\u001B[38;5;241m=\u001B[39m \u001B[43malbum\u001B[49m\u001B[43m[\u001B[49m\u001B[38;5;124;43m'\u001B[39;49m\u001B[38;5;124;43mrelease_date_components\u001B[39;49m\u001B[38;5;124;43m'\u001B[39;49m\u001B[43m]\u001B[49m[\u001B[38;5;124m'\u001B[39m\u001B[38;5;124myear\u001B[39m\u001B[38;5;124m'\u001B[39m] \u001B[38;5;241m<\u001B[39m\u001B[38;5;241m=\u001B[39m \u001B[38;5;241m1998\u001B[39m):\n\u001B[1;32m     10\u001B[0m             temp \u001B[38;5;241m=\u001B[39m {\n\u001B[1;32m     11\u001B[0m                 \u001B[38;5;124m\"\u001B[39m\u001B[38;5;124mid\u001B[39m\u001B[38;5;124m\"\u001B[39m: album[\u001B[38;5;124m'\u001B[39m\u001B[38;5;124mid\u001B[39m\u001B[38;5;124m'\u001B[39m],\n\u001B[1;32m     12\u001B[0m                 \u001B[38;5;124m\"\u001B[39m\u001B[38;5;124mfull_title\u001B[39m\u001B[38;5;124m\"\u001B[39m: album[\u001B[38;5;124m'\u001B[39m\u001B[38;5;124mfull_title\u001B[39m\u001B[38;5;124m'\u001B[39m] \n\u001B[1;32m     13\u001B[0m             }\n\u001B[1;32m     14\u001B[0m             east_coast_artists_json[\u001B[38;5;124m'\u001B[39m\u001B[38;5;124martist\u001B[39m\u001B[38;5;124m'\u001B[39m][\u001B[38;5;124m'\u001B[39m\u001B[38;5;124malbum\u001B[39m\u001B[38;5;124m'\u001B[39m] \u001B[38;5;241m=\u001B[39m temp\n",
      "\u001B[0;31mTypeError\u001B[0m: string indices must be integers"
     ]
    }
   ],
   "source": [
    "for artist in east_coast_artists_json.keys():\n",
    "    if east_coast_artists_json[artist] != 'SKIP' and isinstance(east_coast_artists_json[artist], dict):\n",
    "        try:\n",
    "            artist_id = east_coast_artists_json[artist]['id']\n",
    "            artist_albums = genius.search_albums(artist_id)\n",
    "\n",
    "            if artist_albums and 'albums' not in east_coast_artists_json[artist]:\n",
    "                for album in artist_albums:\n",
    "                    if(1980 <= album['release_date_components']['year'] <= 1998):\n",
    "                        temp = {\n",
    "                            \"id\": album['id'],\n",
    "                            \"full_title\": album['full_title'] \n",
    "                        }\n",
    "                        east_coast_artists_json['artist']['album'] = temp\n",
    "            else:\n",
    "                print(f'--- SKIPPING: {artist} ---- \\n')\n",
    "\n",
    "        except AttributeError:\n",
    "            print(f'--- ATTRITBUTE ERROR EXCEPTION AT: {artist} ---- \\n')\n",
    "            east_coast_artists_json[artist] = 'SKIP'\n",
    "        except Timeout:\n",
    "            print(f'--- TIMEOUT AT: {artist} ---- \\n')\n",
    "            east_coast_artists_json[artist] = 'SKIP'\n",
    "        except requests.exceptions.RequestException as e:\n",
    "            # Handle other requests exceptions\n",
    "            print(f'--- REQUEST EXCEPTION AT: {artist}: {e} ---- \\n')\n",
    "            east_coast_artists_json[artist] = 'SKIP'\n",
    "        finally:\n",
    "            utils.save_json('east_coast_artists.json', east_coast_artists_json)\n",
    "\n",
    "        time.sleep(1)"
   ],
   "metadata": {
    "collapsed": false,
    "ExecuteTime": {
     "end_time": "2024-02-23T08:04:44.474881Z",
     "start_time": "2024-02-23T08:04:43.906593Z"
    }
   },
   "id": "dfddac326f2da4c"
  },
  {
   "cell_type": "code",
   "execution_count": 254,
   "outputs": [
    {
     "data": {
      "text/plain": "[{'_type': 'album',\n  'api_path': '/albums/304839',\n  'cover_art_thumbnail_url': 'https://images.genius.com/70ff10faaa2a21f1a0118c89276f2277.300x300x1.jpg',\n  'cover_art_url': 'https://images.genius.com/70ff10faaa2a21f1a0118c89276f2277.700x700x1.jpg',\n  'full_title': 'N.W.A And Their Family Reunion by N.W.A',\n  'id': 304839,\n  'name': 'N.W.A And Their Family Reunion',\n  'name_with_artist': 'N.W.A And Their Family Reunion (artist: N.W.A)',\n  'release_date_components': {'year': 2008, 'month': None, 'day': None},\n  'release_date_for_display': 'November 25, 2008',\n  'url': 'https://genius.com/albums/Nwa/N-w-a-and-their-family-reunion',\n  'artist': {'_type': 'artist',\n   'api_path': '/artists/974',\n   'header_image_url': 'https://images.genius.com/d43317fab47dddb344fa764247a4a47e.1000x750x1.png',\n   'id': 974,\n   'image_url': 'https://images.genius.com/403a2a7e32f6c523df77a2a436502d0f.1000x1000x1.jpg',\n   'index_character': 'n',\n   'is_meme_verified': False,\n   'is_verified': False,\n   'name': 'N.W.A',\n   'slug': 'Nwa',\n   'url': 'https://genius.com/artists/Nwa'}},\n {'_type': 'album',\n  'api_path': '/albums/426756',\n  'cover_art_thumbnail_url': 'https://images.genius.com/2ce1f102eb81a0d6daa4fab3e3252c0f.300x300x1.jpg',\n  'cover_art_url': 'https://images.genius.com/2ce1f102eb81a0d6daa4fab3e3252c0f.500x500x1.jpg',\n  'full_title': 'The Strength of Street Knowledge by N.W.A',\n  'id': 426756,\n  'name': 'The Strength of Street Knowledge',\n  'name_with_artist': 'The Strength of Street Knowledge (artist: N.W.A)',\n  'release_date_components': {'year': 2006, 'month': 12, 'day': 26},\n  'release_date_for_display': 'December 26, 2006',\n  'url': 'https://genius.com/albums/Nwa/The-strength-of-street-knowledge',\n  'artist': {'_type': 'artist',\n   'api_path': '/artists/974',\n   'header_image_url': 'https://images.genius.com/d43317fab47dddb344fa764247a4a47e.1000x750x1.png',\n   'id': 974,\n   'image_url': 'https://images.genius.com/403a2a7e32f6c523df77a2a436502d0f.1000x1000x1.jpg',\n   'index_character': 'n',\n   'is_meme_verified': False,\n   'is_verified': False,\n   'name': 'N.W.A',\n   'slug': 'Nwa',\n   'url': 'https://genius.com/artists/Nwa'}},\n {'_type': 'album',\n  'api_path': '/albums/18177',\n  'cover_art_thumbnail_url': 'https://images.genius.com/44027d636d1f8df0a42b07ddaafe142d.287x287x1.jpg',\n  'cover_art_url': 'https://images.genius.com/44027d636d1f8df0a42b07ddaafe142d.287x287x1.jpg',\n  'full_title': 'The N.W.A. Legacy, Vol. 2 by N.W.A',\n  'id': 18177,\n  'name': 'The N.W.A. Legacy, Vol. 2',\n  'name_with_artist': 'The N.W.A. Legacy, Vol. 2 (artist: N.W.A)',\n  'release_date_components': {'year': 2002, 'month': 8, 'day': 27},\n  'release_date_for_display': 'August 27, 2002',\n  'url': 'https://genius.com/albums/Nwa/The-n-w-a-legacy-vol-2',\n  'artist': {'_type': 'artist',\n   'api_path': '/artists/974',\n   'header_image_url': 'https://images.genius.com/d43317fab47dddb344fa764247a4a47e.1000x750x1.png',\n   'id': 974,\n   'image_url': 'https://images.genius.com/403a2a7e32f6c523df77a2a436502d0f.1000x1000x1.jpg',\n   'index_character': 'n',\n   'is_meme_verified': False,\n   'is_verified': False,\n   'name': 'N.W.A',\n   'slug': 'Nwa',\n   'url': 'https://genius.com/artists/Nwa'}},\n {'_type': 'album',\n  'api_path': '/albums/651015',\n  'cover_art_thumbnail_url': 'https://images.genius.com/a2e43ec6c19174556f91b066ebe13596.297x297x1.jpg',\n  'cover_art_url': 'https://images.genius.com/a2e43ec6c19174556f91b066ebe13596.297x297x1.jpg',\n  'full_title': 'The N.W.A. Legacy, Vol. 1: 1988-1998 by N.W.A',\n  'id': 651015,\n  'name': 'The N.W.A. Legacy, Vol. 1: 1988-1998',\n  'name_with_artist': 'The N.W.A. Legacy, Vol. 1: 1988-1998 (artist: N.W.A)',\n  'release_date_components': {'year': 1999, 'month': 3, 'day': 23},\n  'release_date_for_display': 'March 23, 1999',\n  'url': 'https://genius.com/albums/Nwa/The-n-w-a-legacy-vol-1-1988-1998',\n  'artist': {'_type': 'artist',\n   'api_path': '/artists/974',\n   'header_image_url': 'https://images.genius.com/d43317fab47dddb344fa764247a4a47e.1000x750x1.png',\n   'id': 974,\n   'image_url': 'https://images.genius.com/403a2a7e32f6c523df77a2a436502d0f.1000x1000x1.jpg',\n   'index_character': 'n',\n   'is_meme_verified': False,\n   'is_verified': False,\n   'name': 'N.W.A',\n   'slug': 'Nwa',\n   'url': 'https://genius.com/artists/Nwa'}},\n {'_type': 'album',\n  'api_path': '/albums/38041',\n  'cover_art_thumbnail_url': 'https://images.genius.com/929cacd7483396413e8968b427318292.300x300x1.jpg',\n  'cover_art_url': 'https://images.genius.com/929cacd7483396413e8968b427318292.968x968x1.jpg',\n  'full_title': 'Straight Outta Compton: N.W.A 10th Anniversary Tribute  by N.W.A',\n  'id': 38041,\n  'name': 'Straight Outta Compton: N.W.A 10th Anniversary Tribute ',\n  'name_with_artist': 'Straight Outta Compton: N.W.A 10th Anniversary Tribute  (artist: N.W.A)',\n  'release_date_components': {'year': 1998, 'month': None, 'day': None},\n  'release_date_for_display': 'October 13, 1998',\n  'url': 'https://genius.com/albums/Nwa/Straight-outta-compton-n-w-a-10th-anniversary-tribute',\n  'artist': {'_type': 'artist',\n   'api_path': '/artists/974',\n   'header_image_url': 'https://images.genius.com/d43317fab47dddb344fa764247a4a47e.1000x750x1.png',\n   'id': 974,\n   'image_url': 'https://images.genius.com/403a2a7e32f6c523df77a2a436502d0f.1000x1000x1.jpg',\n   'index_character': 'n',\n   'is_meme_verified': False,\n   'is_verified': False,\n   'name': 'N.W.A',\n   'slug': 'Nwa',\n   'url': 'https://genius.com/artists/Nwa'}},\n {'_type': 'album',\n  'api_path': '/albums/7239',\n  'cover_art_thumbnail_url': 'https://images.genius.com/9d0ba3a690d9816750a7d66f86166147.300x300x1.jpg',\n  'cover_art_url': 'https://images.genius.com/9d0ba3a690d9816750a7d66f86166147.500x500x1.jpg',\n  'full_title': 'N.W.A. Greatest Hits by N.W.A',\n  'id': 7239,\n  'name': 'N.W.A. Greatest Hits',\n  'name_with_artist': 'N.W.A. Greatest Hits (artist: N.W.A)',\n  'release_date_components': {'year': 1996, 'month': 7, 'day': 2},\n  'release_date_for_display': 'July 2, 1996',\n  'url': 'https://genius.com/albums/Nwa/N-w-a-greatest-hits',\n  'artist': {'_type': 'artist',\n   'api_path': '/artists/974',\n   'header_image_url': 'https://images.genius.com/d43317fab47dddb344fa764247a4a47e.1000x750x1.png',\n   'id': 974,\n   'image_url': 'https://images.genius.com/403a2a7e32f6c523df77a2a436502d0f.1000x1000x1.jpg',\n   'index_character': 'n',\n   'is_meme_verified': False,\n   'is_verified': False,\n   'name': 'N.W.A',\n   'slug': 'Nwa',\n   'url': 'https://genius.com/artists/Nwa'}},\n {'_type': 'album',\n  'api_path': '/albums/7232',\n  'cover_art_thumbnail_url': 'https://images.genius.com/378262f83025b434fc5375a332bd1a1f.300x300x1.png',\n  'cover_art_url': 'https://images.genius.com/378262f83025b434fc5375a332bd1a1f.800x800x1.png',\n  'full_title': 'Efil4zaggin by N.W.A',\n  'id': 7232,\n  'name': 'Efil4zaggin',\n  'name_with_artist': 'Efil4zaggin (artist: N.W.A)',\n  'release_date_components': {'year': 1991, 'month': 5, 'day': 28},\n  'release_date_for_display': 'May 28, 1991',\n  'url': 'https://genius.com/albums/Nwa/Efil4zaggin',\n  'artist': {'_type': 'artist',\n   'api_path': '/artists/974',\n   'header_image_url': 'https://images.genius.com/d43317fab47dddb344fa764247a4a47e.1000x750x1.png',\n   'id': 974,\n   'image_url': 'https://images.genius.com/403a2a7e32f6c523df77a2a436502d0f.1000x1000x1.jpg',\n   'index_character': 'n',\n   'is_meme_verified': False,\n   'is_verified': False,\n   'name': 'N.W.A',\n   'slug': 'Nwa',\n   'url': 'https://genius.com/artists/Nwa'}},\n {'_type': 'album',\n  'api_path': '/albums/1137058',\n  'cover_art_thumbnail_url': 'https://images.genius.com/c88063eaa5d32759f4e5751c1d106617.300x300x1.jpg',\n  'cover_art_url': 'https://images.genius.com/c88063eaa5d32759f4e5751c1d106617.1000x1000x1.jpg',\n  'full_title': 'N.W.A. - Efil4zaggin (Український Переклад) by N.W.A',\n  'id': 1137058,\n  'name': 'N.W.A. - Efil4zaggin (Український Переклад)',\n  'name_with_artist': 'N.W.A. - Efil4zaggin (Український Переклад) (artist: N.W.A)',\n  'release_date_components': {'year': 1991, 'month': 5, 'day': 28},\n  'release_date_for_display': 'May 28, 1991',\n  'url': 'https://genius.com/albums/Nwa/N-w-a-efil4zaggin',\n  'artist': {'_type': 'artist',\n   'api_path': '/artists/974',\n   'header_image_url': 'https://images.genius.com/d43317fab47dddb344fa764247a4a47e.1000x750x1.png',\n   'id': 974,\n   'image_url': 'https://images.genius.com/403a2a7e32f6c523df77a2a436502d0f.1000x1000x1.jpg',\n   'index_character': 'n',\n   'is_meme_verified': False,\n   'is_verified': False,\n   'name': 'N.W.A',\n   'slug': 'Nwa',\n   'url': 'https://genius.com/artists/Nwa'}},\n {'_type': 'album',\n  'api_path': '/albums/11052',\n  'cover_art_thumbnail_url': 'https://images.genius.com/2925631a13a9e7d24ef1425a21fd58cb.300x300x1.jpg',\n  'cover_art_url': 'https://images.genius.com/2925631a13a9e7d24ef1425a21fd58cb.1000x1000x1.jpg',\n  'full_title': '100 Miles and Runnin’ - EP by N.W.A',\n  'id': 11052,\n  'name': '100 Miles and Runnin’ - EP',\n  'name_with_artist': '100 Miles and Runnin’ - EP (artist: N.W.A)',\n  'release_date_components': {'year': 1990, 'month': 5, 'day': 29},\n  'release_date_for_display': 'May 29, 1990',\n  'url': 'https://genius.com/albums/Nwa/100-miles-and-runnin-ep',\n  'artist': {'_type': 'artist',\n   'api_path': '/artists/974',\n   'header_image_url': 'https://images.genius.com/d43317fab47dddb344fa764247a4a47e.1000x750x1.png',\n   'id': 974,\n   'image_url': 'https://images.genius.com/403a2a7e32f6c523df77a2a436502d0f.1000x1000x1.jpg',\n   'index_character': 'n',\n   'is_meme_verified': False,\n   'is_verified': False,\n   'name': 'N.W.A',\n   'slug': 'Nwa',\n   'url': 'https://genius.com/artists/Nwa'}},\n {'_type': 'album',\n  'api_path': '/albums/166064',\n  'cover_art_thumbnail_url': 'https://images.genius.com/63640a8509f6ee90d27dcfd2601d7660.300x300x1.jpg',\n  'cover_art_url': 'https://images.genius.com/63640a8509f6ee90d27dcfd2601d7660.1000x1000x1.jpg',\n  'full_title': 'Express Yourself - EP by N.W.A',\n  'id': 166064,\n  'name': 'Express Yourself - EP',\n  'name_with_artist': 'Express Yourself - EP (artist: N.W.A)',\n  'release_date_components': {'year': 1989, 'month': None, 'day': None},\n  'release_date_for_display': '1989',\n  'url': 'https://genius.com/albums/Nwa/Express-yourself-ep',\n  'artist': {'_type': 'artist',\n   'api_path': '/artists/974',\n   'header_image_url': 'https://images.genius.com/d43317fab47dddb344fa764247a4a47e.1000x750x1.png',\n   'id': 974,\n   'image_url': 'https://images.genius.com/403a2a7e32f6c523df77a2a436502d0f.1000x1000x1.jpg',\n   'index_character': 'n',\n   'is_meme_verified': False,\n   'is_verified': False,\n   'name': 'N.W.A',\n   'slug': 'Nwa',\n   'url': 'https://genius.com/artists/Nwa'}},\n {'_type': 'album',\n  'api_path': '/albums/165499',\n  'cover_art_thumbnail_url': 'https://images.genius.com/cf6cbda0b09812dba8e939e35431c042.300x300x1.jpg',\n  'cover_art_url': 'https://images.genius.com/cf6cbda0b09812dba8e939e35431c042.1000x1000x1.jpg',\n  'full_title': 'Straight Outta Compton (Clean) by N.W.A',\n  'id': 165499,\n  'name': 'Straight Outta Compton (Clean)',\n  'name_with_artist': 'Straight Outta Compton (Clean) (artist: N.W.A)',\n  'release_date_components': {'year': 1988, 'month': None, 'day': None},\n  'release_date_for_display': 'October 13, 1988',\n  'url': 'https://genius.com/albums/Nwa/Straight-outta-compton-clean',\n  'artist': {'_type': 'artist',\n   'api_path': '/artists/974',\n   'header_image_url': 'https://images.genius.com/d43317fab47dddb344fa764247a4a47e.1000x750x1.png',\n   'id': 974,\n   'image_url': 'https://images.genius.com/403a2a7e32f6c523df77a2a436502d0f.1000x1000x1.jpg',\n   'index_character': 'n',\n   'is_meme_verified': False,\n   'is_verified': False,\n   'name': 'N.W.A',\n   'slug': 'Nwa',\n   'url': 'https://genius.com/artists/Nwa'}},\n {'_type': 'album',\n  'api_path': '/albums/7242',\n  'cover_art_thumbnail_url': 'https://images.genius.com/0ec6f769fde231f68fadfff699d2b94c.300x300x1.jpg',\n  'cover_art_url': 'https://images.genius.com/0ec6f769fde231f68fadfff699d2b94c.1000x1000x1.jpg',\n  'full_title': 'Straight Outta Compton by N.W.A',\n  'id': 7242,\n  'name': 'Straight Outta Compton',\n  'name_with_artist': 'Straight Outta Compton (artist: N.W.A)',\n  'release_date_components': {'year': 1988, 'month': 8, 'day': 8},\n  'release_date_for_display': 'August 8, 1988',\n  'url': 'https://genius.com/albums/Nwa/Straight-outta-compton',\n  'artist': {'_type': 'artist',\n   'api_path': '/artists/974',\n   'header_image_url': 'https://images.genius.com/d43317fab47dddb344fa764247a4a47e.1000x750x1.png',\n   'id': 974,\n   'image_url': 'https://images.genius.com/403a2a7e32f6c523df77a2a436502d0f.1000x1000x1.jpg',\n   'index_character': 'n',\n   'is_meme_verified': False,\n   'is_verified': False,\n   'name': 'N.W.A',\n   'slug': 'Nwa',\n   'url': 'https://genius.com/artists/Nwa'}},\n {'_type': 'album',\n  'api_path': '/albums/304273',\n  'cover_art_thumbnail_url': 'https://images.genius.com/8191a97fd105997fb61e5996682df781.300x300x1.jpg',\n  'cover_art_url': 'https://images.genius.com/8191a97fd105997fb61e5996682df781.300x300x1.jpg',\n  'full_title': 'Eazy-Duz-It by N.W.A',\n  'id': 304273,\n  'name': 'Eazy-Duz-It',\n  'name_with_artist': 'Eazy-Duz-It (artist: N.W.A)',\n  'release_date_components': {'year': 1988, 'month': None, 'day': None},\n  'release_date_for_display': '1988',\n  'url': 'https://genius.com/albums/Nwa/Eazy-duz-it',\n  'artist': {'_type': 'artist',\n   'api_path': '/artists/974',\n   'header_image_url': 'https://images.genius.com/d43317fab47dddb344fa764247a4a47e.1000x750x1.png',\n   'id': 974,\n   'image_url': 'https://images.genius.com/403a2a7e32f6c523df77a2a436502d0f.1000x1000x1.jpg',\n   'index_character': 'n',\n   'is_meme_verified': False,\n   'is_verified': False,\n   'name': 'N.W.A',\n   'slug': 'Nwa',\n   'url': 'https://genius.com/artists/Nwa'}},\n {'_type': 'album',\n  'api_path': '/albums/7236',\n  'cover_art_thumbnail_url': 'https://images.genius.com/f5e8dafde11502fa1ee8f5966086617a.300x300x1.jpg',\n  'cover_art_url': 'https://images.genius.com/f5e8dafde11502fa1ee8f5966086617a.1000x1000x1.jpg',\n  'full_title': 'N.W.A. and the Posse by N.W.A',\n  'id': 7236,\n  'name': 'N.W.A. and the Posse',\n  'name_with_artist': 'N.W.A. and the Posse (artist: N.W.A)',\n  'release_date_components': {'year': 1987, 'month': 11, 'day': 6},\n  'release_date_for_display': 'November 6, 1987',\n  'url': 'https://genius.com/albums/Nwa/N-w-a-and-the-posse',\n  'artist': {'_type': 'artist',\n   'api_path': '/artists/974',\n   'header_image_url': 'https://images.genius.com/d43317fab47dddb344fa764247a4a47e.1000x750x1.png',\n   'id': 974,\n   'image_url': 'https://images.genius.com/403a2a7e32f6c523df77a2a436502d0f.1000x1000x1.jpg',\n   'index_character': 'n',\n   'is_meme_verified': False,\n   'is_verified': False,\n   'name': 'N.W.A',\n   'slug': 'Nwa',\n   'url': 'https://genius.com/artists/Nwa'}}]"
     },
     "execution_count": 254,
     "metadata": {},
     "output_type": "execute_result"
    }
   ],
   "source": [],
   "metadata": {
    "collapsed": false,
    "ExecuteTime": {
     "end_time": "2024-02-23T07:53:49.638552Z",
     "start_time": "2024-02-23T07:53:49.626300Z"
    }
   },
   "id": "896ee65ea34d5a21"
  },
  {
   "cell_type": "code",
   "execution_count": null,
   "outputs": [],
   "source": [],
   "metadata": {
    "collapsed": false
   },
   "id": "2fa2854e41f0e1b"
  }
 ],
 "metadata": {
  "kernelspec": {
   "display_name": "Python 3",
   "language": "python",
   "name": "python3"
  },
  "language_info": {
   "codemirror_mode": {
    "name": "ipython",
    "version": 2
   },
   "file_extension": ".py",
   "mimetype": "text/x-python",
   "name": "python",
   "nbconvert_exporter": "python",
   "pygments_lexer": "ipython2",
   "version": "2.7.6"
  }
 },
 "nbformat": 4,
 "nbformat_minor": 5
}
