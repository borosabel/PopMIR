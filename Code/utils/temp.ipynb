{
 "cells": [
  {
   "cell_type": "code",
   "execution_count": 57,
   "id": "initial_id",
   "metadata": {
    "collapsed": true,
    "ExecuteTime": {
     "end_time": "2024-04-08T16:23:54.220461Z",
     "start_time": "2024-04-08T16:23:54.209750Z"
    }
   },
   "source": [
    "import pandas as pd\n",
    "import utility_functions as utils\n",
    "import json\n",
    "from openpyxl import load_workbook\n",
    "import importlib\n",
    "import requests\n",
    "from requests.exceptions import Timeout\n",
    "import time\n",
    "importlib.reload(utils)"
   ],
   "outputs": []
  },
  {
   "cell_type": "code",
   "execution_count": 24,
   "source": [
    "# Load the existing workbook\n",
    "wb = load_workbook('/Users/borosabel/Documents/Uni/Thesis/PopMIR/Artists.xlsx')\n",
    "ws = wb.active"
   ],
   "metadata": {
    "collapsed": false,
    "ExecuteTime": {
     "end_time": "2024-04-05T11:39:15.216420Z",
     "start_time": "2024-04-05T11:39:15.206061Z"
    }
   },
   "id": "3a884110977fef0c",
   "outputs": []
  },
  {
   "cell_type": "code",
   "execution_count": 25,
   "source": [
    "# Replace 'path_to_your_file.json' with the actual file path\n",
    "with open('/Users/borosabel/Documents/Uni/Thesis/PopMIR/Data/rolling_stone_100_west_coast.json', 'r') as file:\n",
    "    data = json.load(file)"
   ],
   "metadata": {
    "collapsed": false,
    "ExecuteTime": {
     "end_time": "2024-04-05T11:39:15.375627Z",
     "start_time": "2024-04-05T11:39:15.370007Z"
    }
   },
   "id": "7741657c85e2efde",
   "outputs": []
  },
  {
   "cell_type": "code",
   "execution_count": 26,
   "source": [
    "row = 2  # Start from the second row\n",
    "for key, value in data.items():\n",
    "    artist = value[\"artist\"]\n",
    "    song = value['title']\n",
    "    year = value['date']\n",
    "    ws[f'A{row}'] = artist\n",
    "    ws[f'B{row}'] = song\n",
    "    ws[f'C{row}'] = year\n",
    "    row += 1"
   ],
   "metadata": {
    "collapsed": false,
    "ExecuteTime": {
     "end_time": "2024-04-05T11:39:15.570736Z",
     "start_time": "2024-04-05T11:39:15.567315Z"
    }
   },
   "id": "b992da79462d345",
   "outputs": []
  },
  {
   "cell_type": "code",
   "execution_count": 27,
   "source": [
    "wb.save('/Users/borosabel/Documents/Uni/Thesis/PopMIR/Artists.xlsx')"
   ],
   "metadata": {
    "collapsed": false,
    "ExecuteTime": {
     "end_time": "2024-04-05T11:39:15.865993Z",
     "start_time": "2024-04-05T11:39:15.854398Z"
    }
   },
   "id": "934e19df15ac1c8f",
   "outputs": []
  },
  {
   "cell_type": "code",
   "execution_count": 11,
   "source": [
    "json = utils.get_all_artists('/Users/borosabel/Documents/Uni/Thesis/PopMIR/Data/Lyrics/artist_albums.json')"
   ],
   "metadata": {
    "collapsed": false,
    "ExecuteTime": {
     "end_time": "2024-04-08T15:28:07.856713Z",
     "start_time": "2024-04-08T15:28:07.852746Z"
    }
   },
   "id": "887d02bd823f3e6e",
   "outputs": []
  },
  {
   "cell_type": "code",
   "execution_count": 63,
   "source": [
    "importlib.reload(utils)"
   ],
   "metadata": {
    "collapsed": false,
    "ExecuteTime": {
     "end_time": "2024-04-08T16:29:19.987096Z",
     "start_time": "2024-04-08T16:29:19.974518Z"
    }
   },
   "id": "9575e80e7bd2af3d",
   "outputs": []
  },
  {
   "cell_type": "code",
   "execution_count": 29,
   "source": [
    "a = utils.get_all_lyrics_of_an_artist('pac','/Users/borosabel/Documents/Uni/Thesis/PopMIR/Data/Audio/test.json')"
   ],
   "metadata": {
    "collapsed": false,
    "ExecuteTime": {
     "end_time": "2024-04-08T15:46:39.850980Z",
     "start_time": "2024-04-08T15:46:39.818218Z"
    }
   },
   "id": "bd6477af18a2993d",
   "outputs": []
  },
  {
   "cell_type": "code",
   "execution_count": 59,
   "source": [
    "b = utils.get_all_audio_of_an_artist_between_years('pac','/Users/borosabel/Documents/Uni/Thesis/PopMIR/Data/Audio/test.json', 1991, 1993)"
   ],
   "metadata": {
    "collapsed": false,
    "ExecuteTime": {
     "end_time": "2024-04-08T16:24:06.342141Z",
     "start_time": "2024-04-08T16:23:57.511072Z"
    }
   },
   "id": "7ef91121248cfd15",
   "outputs": []
  },
  {
   "cell_type": "code",
   "execution_count": 64,
   "source": [
    "utils.get_all_artist_lyrics_between_years('/Users/borosabel/Documents/Uni/Thesis/PopMIR/Data/Audio/test.json', 1991, 1993)"
   ],
   "metadata": {
    "collapsed": false,
    "ExecuteTime": {
     "end_time": "2024-04-08T16:29:21.284781Z",
     "start_time": "2024-04-08T16:29:21.279695Z"
    }
   },
   "id": "e0134749850c8d7e",
   "outputs": []
  },
  {
   "cell_type": "code",
   "execution_count": null,
   "source": [],
   "metadata": {
    "collapsed": false
   },
   "id": "594980cfc21937cd",
   "outputs": []
  }
 ],
 "metadata": {
  "kernelspec": {
   "display_name": "Python 3",
   "language": "python",
   "name": "python3"
  },
  "language_info": {
   "codemirror_mode": {
    "name": "ipython",
    "version": 2
   },
   "file_extension": ".py",
   "mimetype": "text/x-python",
   "name": "python",
   "nbconvert_exporter": "python",
   "pygments_lexer": "ipython2",
   "version": "2.7.6"
  }
 },
 "nbformat": 4,
 "nbformat_minor": 5
}
