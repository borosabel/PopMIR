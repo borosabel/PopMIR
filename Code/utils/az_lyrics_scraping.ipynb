{
 "cells": [
  {
   "cell_type": "code",
   "execution_count": 1,
   "id": "initial_id",
   "metadata": {
    "collapsed": true,
    "ExecuteTime": {
     "end_time": "2024-04-08T15:01:33.627466Z",
     "start_time": "2024-04-08T15:01:33.550700Z"
    }
   },
   "outputs": [
    {
     "name": "stderr",
     "output_type": "stream",
     "text": [
      "/Users/borosabel/lib/python3.9/site-packages/urllib3/__init__.py:35: NotOpenSSLWarning: urllib3 v2 only supports OpenSSL 1.1.1+, currently the 'ssl' module is compiled with 'LibreSSL 2.8.3'. See: https://github.com/urllib3/urllib3/issues/3020\n",
      "  warnings.warn(\n"
     ]
    },
    {
     "data": {
      "text/plain": "<module 'scrape_functions' from '/Users/borosabel/Documents/Uni/Thesis/PopMIR/Code/utils/scrape_functions.py'>"
     },
     "execution_count": 1,
     "metadata": {},
     "output_type": "execute_result"
    }
   ],
   "source": [
    "import json\n",
    "import lyricsgenius as lg\n",
    "import re\n",
    "import requests\n",
    "import importlib\n",
    "import configparser\n",
    "from bs4 import BeautifulSoup\n",
    "import scrape_functions as scrape\n",
    "import utility_functions as utils\n",
    "importlib.reload(scrape)"
   ]
  },
  {
   "cell_type": "code",
   "execution_count": 10,
   "outputs": [],
   "source": [
    "east_coast_artists_json = utils.load_json('east_coast_artists.json')\n",
    "west_coast_artists_json = utils.load_json('west_coast_artists.json')"
   ],
   "metadata": {
    "collapsed": false,
    "ExecuteTime": {
     "end_time": "2024-04-08T16:35:22.144941Z",
     "start_time": "2024-04-08T16:35:22.141890Z"
    }
   },
   "id": "8a9212ed58d71049"
  },
  {
   "cell_type": "code",
   "execution_count": 12,
   "outputs": [
    {
     "name": "stdout",
     "output_type": "stream",
     "text": [
      "Slick_Rick\n",
      "album: \"The Great Adventures Of Slick Rick\" (1988)\n",
      "File path: /Users/borosabel/Documents/Uni/Thesis/PopMIR/Data/Lyrics/west_coast/Slick_Rick/The Great Adventures Of Slick Rick (1988)/Treat_Her_Like_A_Prostitute.txt\n",
      "Songs downloaded: 1 / 60  -  ETA: 9.83 minutes\n",
      "album: \"The Great Adventures Of Slick Rick\" (1988)\n",
      "File path: /Users/borosabel/Documents/Uni/Thesis/PopMIR/Data/Lyrics/west_coast/Slick_Rick/The Great Adventures Of Slick Rick (1988)/The_Ruler_s_Back.txt\n",
      "Songs downloaded: 2 / 60  -  ETA: 9.67 minutes\n",
      "album: \"The Great Adventures Of Slick Rick\" (1988)\n",
      "File path: /Users/borosabel/Documents/Uni/Thesis/PopMIR/Data/Lyrics/west_coast/Slick_Rick/The Great Adventures Of Slick Rick (1988)/Children_s_Story.txt\n",
      "Songs downloaded: 3 / 60  -  ETA: 9.5 minutes\n",
      "album: \"The Great Adventures Of Slick Rick\" (1988)\n",
      "File path: /Users/borosabel/Documents/Uni/Thesis/PopMIR/Data/Lyrics/west_coast/Slick_Rick/The Great Adventures Of Slick Rick (1988)/The_Moment_I_Feared.txt\n",
      "Songs downloaded: 4 / 60  -  ETA: 9.33 minutes\n",
      "album: \"The Great Adventures Of Slick Rick\" (1988)\n",
      "File path: /Users/borosabel/Documents/Uni/Thesis/PopMIR/Data/Lyrics/west_coast/Slick_Rick/The Great Adventures Of Slick Rick (1988)/Let_s_Get_Crazy.txt\n",
      "Songs downloaded: 5 / 60  -  ETA: 9.17 minutes\n",
      "album: \"The Great Adventures Of Slick Rick\" (1988)\n",
      "File path: /Users/borosabel/Documents/Uni/Thesis/PopMIR/Data/Lyrics/west_coast/Slick_Rick/The Great Adventures Of Slick Rick (1988)/Indian_Girl__An_Adult_Story_.txt\n",
      "Songs downloaded: 6 / 60  -  ETA: 9.0 minutes\n",
      "album: \"The Great Adventures Of Slick Rick\" (1988)\n",
      "File path: /Users/borosabel/Documents/Uni/Thesis/PopMIR/Data/Lyrics/west_coast/Slick_Rick/The Great Adventures Of Slick Rick (1988)/Teenage_Love.txt\n",
      "Songs downloaded: 7 / 60  -  ETA: 8.83 minutes\n",
      "album: \"The Great Adventures Of Slick Rick\" (1988)\n",
      "File path: /Users/borosabel/Documents/Uni/Thesis/PopMIR/Data/Lyrics/west_coast/Slick_Rick/The Great Adventures Of Slick Rick (1988)/Mona_Lisa.txt\n",
      "Songs downloaded: 8 / 60  -  ETA: 8.67 minutes\n",
      "album: \"The Great Adventures Of Slick Rick\" (1988)\n",
      "File path: /Users/borosabel/Documents/Uni/Thesis/PopMIR/Data/Lyrics/west_coast/Slick_Rick/The Great Adventures Of Slick Rick (1988)/Kit__What_s_The_Scoop_.txt\n",
      "Songs downloaded: 9 / 60  -  ETA: 8.5 minutes\n",
      "album: \"The Great Adventures Of Slick Rick\" (1988)\n",
      "File path: /Users/borosabel/Documents/Uni/Thesis/PopMIR/Data/Lyrics/west_coast/Slick_Rick/The Great Adventures Of Slick Rick (1988)/Hey_Young_World.txt\n",
      "Songs downloaded: 10 / 60  -  ETA: 8.33 minutes\n",
      "album: \"The Great Adventures Of Slick Rick\" (1988)\n",
      "File path: /Users/borosabel/Documents/Uni/Thesis/PopMIR/Data/Lyrics/west_coast/Slick_Rick/The Great Adventures Of Slick Rick (1988)/Teacher__Teacher.txt\n",
      "Songs downloaded: 11 / 60  -  ETA: 8.17 minutes\n",
      "album: \"The Great Adventures Of Slick Rick\" (1988)\n",
      "File path: /Users/borosabel/Documents/Uni/Thesis/PopMIR/Data/Lyrics/west_coast/Slick_Rick/The Great Adventures Of Slick Rick (1988)/Lick_The_Balls.txt\n",
      "Songs downloaded: 12 / 60  -  ETA: 8.0 minutes\n",
      "album: \"The Ruler's Back\" (1991)\n",
      "File path: /Users/borosabel/Documents/Uni/Thesis/PopMIR/Data/Lyrics/west_coast/Slick_Rick/The Ruler's Back (1991)/King.txt\n",
      "Songs downloaded: 13 / 60  -  ETA: 7.83 minutes\n",
      "album: \"The Ruler's Back\" (1991)\n",
      "File path: /Users/borosabel/Documents/Uni/Thesis/PopMIR/Data/Lyrics/west_coast/Slick_Rick/The Ruler's Back (1991)/I_Shouldn_t_Have_Done_It.txt\n",
      "Songs downloaded: 14 / 60  -  ETA: 7.67 minutes\n",
      "album: \"The Ruler's Back\" (1991)\n",
      "File path: /Users/borosabel/Documents/Uni/Thesis/PopMIR/Data/Lyrics/west_coast/Slick_Rick/The Ruler's Back (1991)/Bond.txt\n",
      "Songs downloaded: 15 / 60  -  ETA: 7.5 minutes\n",
      "album: \"The Ruler's Back\" (1991)\n",
      "File path: /Users/borosabel/Documents/Uni/Thesis/PopMIR/Data/Lyrics/west_coast/Slick_Rick/The Ruler's Back (1991)/Moses.txt\n",
      "Songs downloaded: 16 / 60  -  ETA: 7.33 minutes\n",
      "album: \"The Ruler's Back\" (1991)\n",
      "File path: /Users/borosabel/Documents/Uni/Thesis/PopMIR/Data/Lyrics/west_coast/Slick_Rick/The Ruler's Back (1991)/Tonto.txt\n",
      "Songs downloaded: 17 / 60  -  ETA: 7.17 minutes\n",
      "album: \"The Ruler's Back\" (1991)\n",
      "File path: /Users/borosabel/Documents/Uni/Thesis/PopMIR/Data/Lyrics/west_coast/Slick_Rick/The Ruler's Back (1991)/Mistakes_Of_A_Woman_In_Love_With_Other_Men.txt\n",
      "Songs downloaded: 18 / 60  -  ETA: 7.0 minutes\n",
      "album: \"The Ruler's Back\" (1991)\n",
      "File path: /Users/borosabel/Documents/Uni/Thesis/PopMIR/Data/Lyrics/west_coast/Slick_Rick/The Ruler's Back (1991)/Venus.txt\n",
      "Songs downloaded: 19 / 60  -  ETA: 6.83 minutes\n",
      "album: \"The Ruler's Back\" (1991)\n",
      "File path: /Users/borosabel/Documents/Uni/Thesis/PopMIR/Data/Lyrics/west_coast/Slick_Rick/The Ruler's Back (1991)/Ship.txt\n",
      "Songs downloaded: 20 / 60  -  ETA: 6.67 minutes\n",
      "album: \"The Ruler's Back\" (1991)\n",
      "File path: /Users/borosabel/Documents/Uni/Thesis/PopMIR/Data/Lyrics/west_coast/Slick_Rick/The Ruler's Back (1991)/It_s_A_Boy.txt\n",
      "Songs downloaded: 21 / 60  -  ETA: 6.5 minutes\n",
      "album: \"The Ruler's Back\" (1991)\n",
      "File path: /Users/borosabel/Documents/Uni/Thesis/PopMIR/Data/Lyrics/west_coast/Slick_Rick/The Ruler's Back (1991)/Top_Cat.txt\n",
      "Songs downloaded: 22 / 60  -  ETA: 6.33 minutes\n",
      "album: \"The Ruler's Back\" (1991)\n",
      "File path: /Users/borosabel/Documents/Uni/Thesis/PopMIR/Data/Lyrics/west_coast/Slick_Rick/The Ruler's Back (1991)/Runaway.txt\n",
      "Songs downloaded: 23 / 60  -  ETA: 6.17 minutes\n",
      "album: \"The Ruler's Back\" (1991)\n",
      "File path: /Users/borosabel/Documents/Uni/Thesis/PopMIR/Data/Lyrics/west_coast/Slick_Rick/The Ruler's Back (1991)/Slick_Rick___The_Ruler.txt\n",
      "Songs downloaded: 24 / 60  -  ETA: 6.0 minutes\n",
      "album: \"Behind Bars\" (1994)\n",
      "File path: /Users/borosabel/Documents/Uni/Thesis/PopMIR/Data/Lyrics/west_coast/Slick_Rick/Behind Bars (1994)/Behind_Bars.txt\n",
      "Songs downloaded: 25 / 60  -  ETA: 5.83 minutes\n",
      "album: \"Behind Bars\" (1994)\n",
      "File path: /Users/borosabel/Documents/Uni/Thesis/PopMIR/Data/Lyrics/west_coast/Slick_Rick/Behind Bars (1994)/All_Alone__No_One_To_Be_With_.txt\n",
      "Songs downloaded: 26 / 60  -  ETA: 5.67 minutes\n",
      "album: \"Behind Bars\" (1994)\n",
      "File path: /Users/borosabel/Documents/Uni/Thesis/PopMIR/Data/Lyrics/west_coast/Slick_Rick/Behind Bars (1994)/Sittin__In_My_Car.txt\n",
      "Songs downloaded: 27 / 60  -  ETA: 5.5 minutes\n",
      "album: \"Behind Bars\" (1994)\n",
      "File path: /Users/borosabel/Documents/Uni/Thesis/PopMIR/Data/Lyrics/west_coast/Slick_Rick/Behind Bars (1994)/A_Love_That_s_True__Part_I_.txt\n",
      "Songs downloaded: 28 / 60  -  ETA: 5.33 minutes\n",
      "album: \"Behind Bars\" (1994)\n",
      "File path: /Users/borosabel/Documents/Uni/Thesis/PopMIR/Data/Lyrics/west_coast/Slick_Rick/Behind Bars (1994)/Cuz_It_s_Wrong.txt\n",
      "Songs downloaded: 29 / 60  -  ETA: 5.17 minutes\n",
      "album: \"Behind Bars\" (1994)\n",
      "File path: /Users/borosabel/Documents/Uni/Thesis/PopMIR/Data/Lyrics/west_coast/Slick_Rick/Behind Bars (1994)/Let_s_All_Get_Down.txt\n",
      "Songs downloaded: 30 / 60  -  ETA: 5.0 minutes\n",
      "album: \"Behind Bars\" (1994)\n",
      "File path: /Users/borosabel/Documents/Uni/Thesis/PopMIR/Data/Lyrics/west_coast/Slick_Rick/Behind Bars (1994)/I_m_Captive.txt\n",
      "Songs downloaded: 31 / 60  -  ETA: 4.83 minutes\n",
      "album: \"Behind Bars\" (1994)\n",
      "File path: /Users/borosabel/Documents/Uni/Thesis/PopMIR/Data/Lyrics/west_coast/Slick_Rick/Behind Bars (1994)/Get_A_Job.txt\n",
      "Songs downloaded: 32 / 60  -  ETA: 4.67 minutes\n",
      "album: \"Behind Bars\" (1994)\n",
      "File path: /Users/borosabel/Documents/Uni/Thesis/PopMIR/Data/Lyrics/west_coast/Slick_Rick/Behind Bars (1994)/A_Love_That_s_True__Part_II_.txt\n",
      "Songs downloaded: 33 / 60  -  ETA: 4.5 minutes\n",
      "album: \"Behind Bars\" (1994)\n",
      "File path: /Users/borosabel/Documents/Uni/Thesis/PopMIR/Data/Lyrics/west_coast/Slick_Rick/Behind Bars (1994)/It_s_A_Boy__Large_Professor_Remix_.txt\n",
      "Songs downloaded: 34 / 60  -  ETA: 4.33 minutes\n",
      "album: \"Behind Bars\" (1994)\n",
      "File path: /Users/borosabel/Documents/Uni/Thesis/PopMIR/Data/Lyrics/west_coast/Slick_Rick/Behind Bars (1994)/Behind_Bars__Dum_Ditty_Dum_Mix_.txt\n",
      "Songs downloaded: 35 / 60  -  ETA: 4.17 minutes\n",
      "album: \"The Art Of Storytelling\" (1999)\n",
      "File 'Jail_Skit' not in the range. Skipping...\n",
      "Songs downloaded: 36 / 60  -  ETA: 4.0 minutes\n",
      "album: \"The Art Of Storytelling\" (1999)\n",
      "File 'Kill_Niggaz' not in the range. Skipping...\n",
      "Songs downloaded: 37 / 60  -  ETA: 3.83 minutes\n",
      "album: \"The Art Of Storytelling\" (1999)\n",
      "File 'Street_Talkin_' not in the range. Skipping...\n",
      "Songs downloaded: 38 / 60  -  ETA: 3.67 minutes\n",
      "album: \"The Art Of Storytelling\" (1999)\n",
      "File 'Me_And_Nas_Bring_It_To_Your_Hardest' not in the range. Skipping...\n",
      "Songs downloaded: 39 / 60  -  ETA: 3.5 minutes\n",
      "album: \"The Art Of Storytelling\" (1999)\n",
      "File 'I_Own_America_Part_1' not in the range. Skipping...\n",
      "Songs downloaded: 40 / 60  -  ETA: 3.33 minutes\n",
      "album: \"The Art Of Storytelling\" (1999)\n",
      "File 'Who_Rotten__Em' not in the range. Skipping...\n",
      "Songs downloaded: 41 / 60  -  ETA: 3.17 minutes\n",
      "album: \"The Art Of Storytelling\" (1999)\n",
      "File '2_Way_Street' not in the range. Skipping...\n",
      "Songs downloaded: 42 / 60  -  ETA: 3.0 minutes\n",
      "album: \"The Art Of Storytelling\" (1999)\n",
      "File 'King_Piece_In_The_Chess_Game' not in the range. Skipping...\n",
      "Songs downloaded: 43 / 60  -  ETA: 2.83 minutes\n",
      "album: \"The Art Of Storytelling\" (1999)\n",
      "File 'Trapped_In_Me' not in the range. Skipping...\n",
      "Songs downloaded: 44 / 60  -  ETA: 2.67 minutes\n",
      "album: \"The Art Of Storytelling\" (1999)\n",
      "File 'Impress_The_Kid' not in the range. Skipping...\n",
      "Songs downloaded: 45 / 60  -  ETA: 2.5 minutes\n",
      "album: \"The Art Of Storytelling\" (1999)\n",
      "File 'Q_Tip___Peter_Gunz_Skit' not in the range. Skipping...\n",
      "Songs downloaded: 46 / 60  -  ETA: 2.33 minutes\n",
      "album: \"The Art Of Storytelling\" (1999)\n",
      "File 'I_Run_This' not in the range. Skipping...\n",
      "Songs downloaded: 47 / 60  -  ETA: 2.17 minutes\n",
      "album: \"The Art Of Storytelling\" (1999)\n",
      "File 'Frozen' not in the range. Skipping...\n",
      "Songs downloaded: 48 / 60  -  ETA: 2.0 minutes\n",
      "album: \"The Art Of Storytelling\" (1999)\n",
      "File 'Why__Why__Why' not in the range. Skipping...\n",
      "Songs downloaded: 49 / 60  -  ETA: 1.83 minutes\n",
      "album: \"The Art Of Storytelling\" (1999)\n",
      "File 'Adults_Only' not in the range. Skipping...\n",
      "Songs downloaded: 50 / 60  -  ETA: 1.67 minutes\n",
      "album: \"The Art Of Storytelling\" (1999)\n",
      "File 'Memories' not in the range. Skipping...\n",
      "Songs downloaded: 51 / 60  -  ETA: 1.5 minutes\n",
      "album: \"The Art Of Storytelling\" (1999)\n",
      "File 'Unify' not in the range. Skipping...\n",
      "Songs downloaded: 52 / 60  -  ETA: 1.33 minutes\n",
      "album: \"The Art Of Storytelling\" (1999)\n",
      "File 'I_Own_America_Part_2' not in the range. Skipping...\n",
      "Songs downloaded: 53 / 60  -  ETA: 1.17 minutes\n",
      "album: \"The Art Of Storytelling\" (1999)\n",
      "File 'CEO_Outro' not in the range. Skipping...\n",
      "Songs downloaded: 54 / 60  -  ETA: 1.0 minutes\n",
      "album: \"The Art Of Storytelling\" (1999)\n",
      "File 'We_Turn_It_On' not in the range. Skipping...\n",
      "Songs downloaded: 55 / 60  -  ETA: 0.83 minutes\n",
      "album: \"The Art Of Storytelling\" (1999)\n",
      "File 'La_Di_Da_Di_Live' not in the range. Skipping...\n",
      "Songs downloaded: 56 / 60  -  ETA: 0.67 minutes\n",
      "album: \"The Art Of Storytelling\" (1999)\n",
      "File 'The_Show_Live' not in the range. Skipping...\n",
      "Songs downloaded: 57 / 60  -  ETA: 0.5 minutes\n",
      "You May Also Like\n",
      "File 'I_Sparkle' something is wrong with the comparison...\n",
      "Songs downloaded: 58 / 60  -  ETA: 0.33 minutes\n",
      "You May Also Like\n",
      "File 'Pimpin__Ain_t_Easy__The_Godfather_Theme_' something is wrong with the comparison...\n",
      "Songs downloaded: 59 / 60  -  ETA: 0.17 minutes\n",
      "You May Also Like\n",
      "File 'Snakes_Of_The_World_Today' something is wrong with the comparison...\n",
      "Songs downloaded: 60 / 60  -  ETA: 0.0 minutes\n"
     ]
    },
    {
     "ename": "KeyError",
     "evalue": "'Slick Rick'",
     "output_type": "error",
     "traceback": [
      "\u001B[0;31m---------------------------------------------------------------------------\u001B[0m",
      "\u001B[0;31mKeyError\u001B[0m                                  Traceback (most recent call last)",
      "Cell \u001B[0;32mIn[12], line 7\u001B[0m\n\u001B[1;32m      5\u001B[0m artist_url \u001B[38;5;241m=\u001B[39m value[\u001B[38;5;124m'\u001B[39m\u001B[38;5;124mazlyrics\u001B[39m\u001B[38;5;124m'\u001B[39m]\n\u001B[1;32m      6\u001B[0m scrape\u001B[38;5;241m.\u001B[39mscrape_artist(artist_url, folder\u001B[38;5;241m=\u001B[39m\u001B[38;5;124mf\u001B[39m\u001B[38;5;124m'\u001B[39m\u001B[38;5;124m/Users/borosabel/Documents/Uni/Thesis/PopMIR/Data/Lyrics/west_coast/\u001B[39m\u001B[38;5;132;01m{\u001B[39;00martist_folder\u001B[38;5;132;01m}\u001B[39;00m\u001B[38;5;124m'\u001B[39m)\n\u001B[0;32m----> 7\u001B[0m \u001B[43mwest_coast_artists_json\u001B[49m\u001B[43m[\u001B[49m\u001B[43mkey\u001B[49m\u001B[43m]\u001B[49m[\u001B[38;5;124m'\u001B[39m\u001B[38;5;124mdone\u001B[39m\u001B[38;5;124m'\u001B[39m] \u001B[38;5;241m=\u001B[39m \u001B[38;5;28;01mTrue\u001B[39;00m\n\u001B[1;32m      8\u001B[0m utils\u001B[38;5;241m.\u001B[39msave_json(\u001B[38;5;124m'\u001B[39m\u001B[38;5;124mwest_coast_artists.json\u001B[39m\u001B[38;5;124m'\u001B[39m, west_coast_artists_json)\n\u001B[1;32m      9\u001B[0m utils\u001B[38;5;241m.\u001B[39msave_json(\u001B[38;5;124m'\u001B[39m\u001B[38;5;124meast_coast_artists.json\u001B[39m\u001B[38;5;124m'\u001B[39m, east_coast_artists_json)\n",
      "\u001B[0;31mKeyError\u001B[0m: 'Slick Rick'"
     ]
    }
   ],
   "source": [
    "for key, value in east_coast_artists_json.items():\n",
    "    if not east_coast_artists_json[key]['done']:\n",
    "        artist_folder = key.replace(' ', '_')\n",
    "        print(artist_folder)\n",
    "        artist_url = value['azlyrics']\n",
    "        scrape.scrape_artist(artist_url, folder=f'/Users/borosabel/Documents/Uni/Thesis/PopMIR/Data/Lyrics/west_coast/{artist_folder}')\n",
    "        west_coast_artists_json[key]['done'] = True\n",
    "        utils.save_json('west_coast_artists.json', west_coast_artists_json)\n",
    "        utils.save_json('east_coast_artists.json', east_coast_artists_json)"
   ],
   "metadata": {
    "collapsed": false,
    "ExecuteTime": {
     "end_time": "2024-04-08T16:46:07.192982Z",
     "start_time": "2024-04-08T16:35:31.714346Z"
    }
   },
   "id": "9899c6235b799ffc"
  },
  {
   "cell_type": "code",
   "execution_count": 4,
   "outputs": [
    {
     "name": "stdout",
     "output_type": "stream",
     "text": [
      "Data has been saved to \"west_coast_artists.json\"\n",
      "Data has been saved to \"east_coast_artists.json\"\n"
     ]
    }
   ],
   "source": [
    "utils.save_json('west_coast_artists.json', west_coast_artists_json)\n",
    "utils.save_json('east_coast_artists.json', east_coast_artists_json)"
   ],
   "metadata": {
    "collapsed": false,
    "ExecuteTime": {
     "end_time": "2024-03-07T14:16:37.166346Z",
     "start_time": "2024-03-07T14:16:37.161355Z"
    }
   },
   "id": "ebf06087576a97e6"
  },
  {
   "cell_type": "code",
   "execution_count": null,
   "outputs": [],
   "source": [],
   "metadata": {
    "collapsed": false
   },
   "id": "904052a28ce29a28"
  }
 ],
 "metadata": {
  "kernelspec": {
   "display_name": "Python 3",
   "language": "python",
   "name": "python3"
  },
  "language_info": {
   "codemirror_mode": {
    "name": "ipython",
    "version": 2
   },
   "file_extension": ".py",
   "mimetype": "text/x-python",
   "name": "python",
   "nbconvert_exporter": "python",
   "pygments_lexer": "ipython2",
   "version": "2.7.6"
  }
 },
 "nbformat": 4,
 "nbformat_minor": 5
}
