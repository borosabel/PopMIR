{
 "cells": [
  {
   "cell_type": "code",
   "execution_count": 1,
   "id": "initial_id",
   "metadata": {
    "collapsed": true,
    "ExecuteTime": {
     "end_time": "2024-04-08T15:01:33.627466Z",
     "start_time": "2024-04-08T15:01:33.550700Z"
    }
   },
   "source": [
    "import json\n",
    "import lyricsgenius as lg\n",
    "import re\n",
    "import requests\n",
    "import importlib\n",
    "import configparser\n",
    "from bs4 import BeautifulSoup\n",
    "import scrape_functions as scrape\n",
    "import utility_functions as utils\n",
    "importlib.reload(scrape)"
   ],
   "outputs": []
  },
  {
   "cell_type": "code",
   "execution_count": 10,
   "source": [
    "east_coast_artists_json = utils.load_json('east_coast_artists.json')\n",
    "west_coast_artists_json = utils.load_json('west_coast_artists.json')"
   ],
   "metadata": {
    "collapsed": false,
    "ExecuteTime": {
     "end_time": "2024-04-08T16:35:22.144941Z",
     "start_time": "2024-04-08T16:35:22.141890Z"
    }
   },
   "id": "8a9212ed58d71049",
   "outputs": []
  },
  {
   "cell_type": "code",
   "execution_count": 12,
   "source": [
    "for key, value in east_coast_artists_json.items():\n",
    "    if not east_coast_artists_json[key]['done']:\n",
    "        artist_folder = key.replace(' ', '_')\n",
    "        print(artist_folder)\n",
    "        artist_url = value['azlyrics']\n",
    "        scrape.scrape_artist(artist_url, folder=f'/Users/borosabel/Documents/Uni/Thesis/PopMIR/Data/Lyrics/west_coast/{artist_folder}')\n",
    "        west_coast_artists_json[key]['done'] = True\n",
    "        utils.save_json('west_coast_artists.json', west_coast_artists_json)\n",
    "        utils.save_json('east_coast_artists.json', east_coast_artists_json)"
   ],
   "metadata": {
    "collapsed": false,
    "ExecuteTime": {
     "end_time": "2024-04-08T16:46:07.192982Z",
     "start_time": "2024-04-08T16:35:31.714346Z"
    }
   },
   "id": "9899c6235b799ffc",
   "outputs": []
  },
  {
   "cell_type": "code",
   "execution_count": 4,
   "source": [
    "utils.save_json('west_coast_artists.json', west_coast_artists_json)\n",
    "utils.save_json('east_coast_artists.json', east_coast_artists_json)"
   ],
   "metadata": {
    "collapsed": false,
    "ExecuteTime": {
     "end_time": "2024-03-07T14:16:37.166346Z",
     "start_time": "2024-03-07T14:16:37.161355Z"
    }
   },
   "id": "ebf06087576a97e6",
   "outputs": []
  },
  {
   "cell_type": "code",
   "execution_count": null,
   "source": [],
   "metadata": {
    "collapsed": false
   },
   "id": "904052a28ce29a28",
   "outputs": []
  }
 ],
 "metadata": {
  "kernelspec": {
   "display_name": "Python 3",
   "language": "python",
   "name": "python3"
  },
  "language_info": {
   "codemirror_mode": {
    "name": "ipython",
    "version": 2
   },
   "file_extension": ".py",
   "mimetype": "text/x-python",
   "name": "python",
   "nbconvert_exporter": "python",
   "pygments_lexer": "ipython2",
   "version": "2.7.6"
  }
 },
 "nbformat": 4,
 "nbformat_minor": 5
}
