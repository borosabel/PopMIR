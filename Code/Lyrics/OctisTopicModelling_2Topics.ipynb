{
 "cells": [
  {
   "cell_type": "code",
   "execution_count": 1,
   "outputs": [
    {
     "name": "stderr",
     "output_type": "stream",
     "text": [
      "/Users/borosabel/lib/python3.9/site-packages/urllib3/__init__.py:35: NotOpenSSLWarning: urllib3 v2 only supports OpenSSL 1.1.1+, currently the 'ssl' module is compiled with 'LibreSSL 2.8.3'. See: https://github.com/urllib3/urllib3/issues/3020\n",
      "  warnings.warn(\n"
     ]
    }
   ],
   "source": [
    "import string\n",
    "import spacy\n",
    "spacy_nlp = spacy.load(\"en_core_web_sm\")\n",
    "import numpy as np\n",
    "from spacy.lang.en.stop_words import STOP_WORDS\n",
    "import utility_functions as utils\n",
    "import importlib\n",
    "import pandas as pd\n",
    "import matplotlib.pyplot as plt\n",
    "\n",
    "# Octis is the library which can use different implemented topic modelling techniques\n",
    "from octis.preprocessing.preprocessing import Preprocessing\n",
    "from octis.evaluation_metrics.coherence_metrics import Coherence\n",
    "from octis.evaluation_metrics.diversity_metrics import TopicDiversity\n",
    "from octis.models.CTM import CTM\n",
    "\n",
    "importlib.reload(utils)\n",
    "\n",
    "data = '/Users/borosabel/Documents/Uni/Thesis/PopMIR/Data/Audio/test.json'\n",
    "\n",
    "custom_stop_words = list(STOP_WORDS)  # Existing stop words\n",
    "custom_stop_words.extend([\"ll\", \"ve\", \"'em\", \"em\", \"ho\", \"fo\", \"ah\", \"de\"])  # Tokens which doesn't really make sense to have them."
   ],
   "metadata": {
    "collapsed": false,
    "ExecuteTime": {
     "end_time": "2024-05-10T16:32:59.644166Z",
     "start_time": "2024-05-10T16:32:56.742170Z"
    }
   },
   "id": "b6f14235403a4958"
  },
  {
   "cell_type": "code",
   "execution_count": 2,
   "outputs": [],
   "source": [
    "df = pd.read_excel('/Users/borosabel/Documents/Uni/Thesis/PopMIR/Code/Audio/baseline_data.xlsx', engine='openpyxl')"
   ],
   "metadata": {
    "collapsed": false,
    "ExecuteTime": {
     "end_time": "2024-05-10T16:32:59.886111Z",
     "start_time": "2024-05-10T16:32:59.646701Z"
    }
   },
   "id": "a7b79420c1bc27c3"
  },
  {
   "cell_type": "code",
   "execution_count": 3,
   "outputs": [],
   "source": [
    "df['Lyrics'] = df['Lyrics'].apply(utils.cleanup)"
   ],
   "metadata": {
    "collapsed": false,
    "ExecuteTime": {
     "end_time": "2024-05-10T16:35:00.135129Z",
     "start_time": "2024-05-10T16:32:59.898422Z"
    }
   },
   "id": "a1e9676ce91637d5"
  },
  {
   "cell_type": "code",
   "execution_count": 4,
   "outputs": [],
   "source": [
    "with open('corpus.tsv', 'w', encoding='utf-8') as file:\n",
    "    for lyrics in df['Lyrics']:\n",
    "        if pd.notna(lyrics):  # Check if the lyrics data is not NaN\n",
    "            file.write(lyrics + '\\n')"
   ],
   "metadata": {
    "collapsed": false,
    "ExecuteTime": {
     "end_time": "2024-05-10T16:36:34.940463Z",
     "start_time": "2024-05-10T16:36:34.923462Z"
    }
   },
   "id": "b3ffa58cb535ef35"
  },
  {
   "cell_type": "code",
   "execution_count": 6,
   "outputs": [
    {
     "name": "stderr",
     "output_type": "stream",
     "text": [
      "100%|██████████| 1368/1368 [02:00<00:00, 11.31it/s]\n"
     ]
    },
    {
     "name": "stdout",
     "output_type": "stream",
     "text": [
      "created vocab\n",
      "645\n"
     ]
    }
   ],
   "source": [
    "# Initialize preprocessing\n",
    "preprocessor = Preprocessing(\n",
    "    vocabulary=None,\n",
    "    max_features=None,\n",
    "    remove_punctuation=True,\n",
    "    punctuation=string.punctuation,\n",
    "    lemmatize=True,\n",
    "    stopword_list=custom_stop_words,\n",
    "    min_chars=2,\n",
    "    min_words_docs=0,\n",
    "    save_original_indexes=True,\n",
    "    min_df=0.05, # a term must appear in at least 5% of the documents; otherwise, it will be discarded.\n",
    "    max_df=0.8, # a term appearing in more than 80% of the documents will be discarded, as it might be too common and potentially less informative.\n",
    "    split=False # We don't want train, validation and test split\n",
    ")\n",
    "\n",
    "dataset = preprocessor.preprocess_dataset(documents_path=\"/Users/borosabel/Documents/Uni/Thesis/PopMIR/Code/Lyrics/octis_dataset/corpus.tsv\")"
   ],
   "metadata": {
    "collapsed": false,
    "ExecuteTime": {
     "end_time": "2024-05-10T16:38:55.697950Z",
     "start_time": "2024-05-10T16:36:54.288283Z"
    }
   },
   "id": "c76ddb5f1dc48013"
  },
  {
   "cell_type": "markdown",
   "source": [
    "<b>As you can see there are 658 unique words in the vocabulary</b>"
   ],
   "metadata": {
    "collapsed": false
   },
   "id": "8665ca5152e0f35f"
  },
  {
   "cell_type": "code",
   "execution_count": 7,
   "outputs": [],
   "source": [
    "# I save the dataset because it exports a file called indexes.txt. It is important because during the preprocessing steps the preprocessor\n",
    "# can get rid of a few documents if they don't have enough words or maybe they are too short. (For example intro files).\n",
    "# I can load the indexes.txt file and use it as a list of indexes and apply it on the original dataframe so I don't have size mismatch.\n",
    "dataset.save('./')"
   ],
   "metadata": {
    "collapsed": false,
    "ExecuteTime": {
     "end_time": "2024-05-10T16:40:22.190880Z",
     "start_time": "2024-05-10T16:40:22.135711Z"
    }
   },
   "id": "383df33da500216c"
  },
  {
   "cell_type": "code",
   "execution_count": 8,
   "outputs": [
    {
     "name": "stdout",
     "output_type": "stream",
     "text": [
      "Best Coherence: 0.023616748019630183\n",
      "Best Parameters: {'num_topics': 2, 'num_epochs': 300}\n"
     ]
    }
   ],
   "source": [
    "best_coherence = -1\n",
    "best_params = {}\n",
    "topic_nums = [2, 3, 4, 5, 10, 15]\n",
    "epoch_nums = [100, 200, 300]\n",
    "\n",
    "for num_topics in topic_nums:\n",
    "    for num_epochs in epoch_nums:\n",
    "        model = CTM(num_topics=num_topics, inference_type=\"combined\", num_epochs=num_epochs, use_partitions=False, bert_model=\"bert-base-nli-mean-tokens\")\n",
    "        model_output = model.train_model(dataset)\n",
    "        # Assuming the model has a method to compute coherence\n",
    "        coherence = Coherence(texts=dataset.get_corpus(), topk=10)  # Adjust 'topk' as needed\n",
    "        # Setting up Diversity Metric\n",
    "        topic_diversity = TopicDiversity(topk=10)\n",
    "        # Calculate Metrics\n",
    "        coherence = coherence.score(model_output)\n",
    "\n",
    "        if coherence > best_coherence:\n",
    "            best_coherence = coherence\n",
    "            best_params = {'num_topics': num_topics, 'num_epochs': num_epochs}\n",
    "\n",
    "print(f\"Best Coherence: {best_coherence}\")\n",
    "print(f\"Best Parameters: {best_params}\")"
   ],
   "metadata": {
    "collapsed": false,
    "ExecuteTime": {
     "end_time": "2024-05-10T16:48:19.223241Z",
     "start_time": "2024-05-10T16:40:22.607135Z"
    }
   },
   "id": "a2d5efab6d1b0429"
  },
  {
   "cell_type": "code",
   "execution_count": 10,
   "outputs": [],
   "source": [
    "model = CTM(num_topics=best_params['num_topics'], inference_type=\"combined\", num_epochs=best_params['num_epochs'], use_partitions=False, bert_model=\"bert-base-nli-mean-tokens\")\n",
    "model_output = model.train_model(dataset)"
   ],
   "metadata": {
    "collapsed": false,
    "ExecuteTime": {
     "end_time": "2024-05-10T16:51:22.509328Z",
     "start_time": "2024-05-10T16:50:56.618108Z"
    }
   },
   "id": "49a3f68ea6fd3586"
  },
  {
   "cell_type": "code",
   "execution_count": 11,
   "outputs": [
    {
     "data": {
      "text/plain": "['nigga',\n 'bitch',\n 'bust',\n 'shit',\n 'fuck',\n 'fucking',\n 'baby',\n 'let',\n 'ride',\n 'right']"
     },
     "execution_count": 11,
     "metadata": {},
     "output_type": "execute_result"
    }
   ],
   "source": [
    "model_output['topics'][0] # Vulgarity"
   ],
   "metadata": {
    "collapsed": false,
    "ExecuteTime": {
     "end_time": "2024-05-10T16:51:24.937760Z",
     "start_time": "2024-05-10T16:51:24.927956Z"
    }
   },
   "id": "f2a204d8fd0b2fa8"
  },
  {
   "cell_type": "code",
   "execution_count": 12,
   "outputs": [
    {
     "data": {
      "text/plain": "['rhyme',\n 'people',\n 'dance',\n 'la',\n 'music',\n 'rhythm',\n 'sound',\n 'ooh',\n 'soul',\n 'tip']"
     },
     "execution_count": 12,
     "metadata": {},
     "output_type": "execute_result"
    }
   ],
   "source": [
    "model_output['topics'][1]"
   ],
   "metadata": {
    "collapsed": false,
    "ExecuteTime": {
     "end_time": "2024-05-10T16:51:25.254928Z",
     "start_time": "2024-05-10T16:51:25.244396Z"
    }
   },
   "id": "b2550f1fdef5fe94"
  },
  {
   "cell_type": "code",
   "execution_count": 13,
   "outputs": [],
   "source": [
    "# model_output['topics'][2] # Romance"
   ],
   "metadata": {
    "collapsed": false,
    "ExecuteTime": {
     "end_time": "2024-05-10T16:51:32.920493Z",
     "start_time": "2024-05-10T16:51:32.871003Z"
    }
   },
   "id": "ba1dda54ae4808b9"
  },
  {
   "cell_type": "code",
   "execution_count": 14,
   "outputs": [],
   "source": [
    "# model_output['topics'][3] # Music"
   ],
   "metadata": {
    "collapsed": false,
    "ExecuteTime": {
     "end_time": "2024-05-10T16:51:33.731656Z",
     "start_time": "2024-05-10T16:51:33.682279Z"
    }
   },
   "id": "9ed42c081249c24"
  },
  {
   "cell_type": "code",
   "execution_count": 15,
   "outputs": [],
   "source": [
    "# model_output['topics'][4] # Day, Street-Life, Struggle"
   ],
   "metadata": {
    "collapsed": false,
    "ExecuteTime": {
     "end_time": "2024-05-10T16:51:34.750622Z",
     "start_time": "2024-05-10T16:51:34.702263Z"
    }
   },
   "id": "3ca8d4b45dccc3f"
  },
  {
   "cell_type": "code",
   "execution_count": 16,
   "outputs": [
    {
     "name": "stdout",
     "output_type": "stream",
     "text": [
      "Coherence Score: 0.013335900465097313\n",
      "Diversity Score: 1.0\n"
     ]
    }
   ],
   "source": [
    "coherence = Coherence(texts=dataset.get_corpus(), topk=10)  # Adjust 'topk' as needed\n",
    "\n",
    "# Setting up Diversity Metric\n",
    "topic_diversity = TopicDiversity(topk=10)\n",
    "\n",
    "# Calculate Metrics\n",
    "coherence_score = coherence.score(model_output)\n",
    "diversity_score = topic_diversity.score(model_output)\n",
    "\n",
    "print(\"Coherence Score:\", coherence_score)\n",
    "print(\"Diversity Score:\", diversity_score)"
   ],
   "metadata": {
    "collapsed": false,
    "ExecuteTime": {
     "end_time": "2024-05-10T16:51:37.877249Z",
     "start_time": "2024-05-10T16:51:37.141730Z"
    }
   },
   "id": "688ded37e1fdb1b7"
  },
  {
   "cell_type": "markdown",
   "source": [
    "<b>Let's check which document belongs mostly to which topic</b>"
   ],
   "metadata": {
    "collapsed": false
   },
   "id": "ff87aba29b30742e"
  },
  {
   "cell_type": "code",
   "execution_count": 17,
   "outputs": [
    {
     "data": {
      "text/plain": "array([[0.81044566, 0.97014826, 0.19725078, ..., 0.81349054, 0.79708362,\n        0.97080759],\n       [0.18955433, 0.02985172, 0.80274922, ..., 0.18650947, 0.20291638,\n        0.02919243]])"
     },
     "execution_count": 17,
     "metadata": {},
     "output_type": "execute_result"
    }
   ],
   "source": [
    "model_output['topic-document-matrix']"
   ],
   "metadata": {
    "collapsed": false,
    "ExecuteTime": {
     "end_time": "2024-05-10T16:51:39.209840Z",
     "start_time": "2024-05-10T16:51:39.204426Z"
    }
   },
   "id": "fccf9954abf5eba4"
  },
  {
   "cell_type": "code",
   "execution_count": 18,
   "outputs": [],
   "source": [
    "# We decide on the topic based on the maximum probability of the topic.\n",
    "dominant_topic_indices = np.argmax(model_output['topic-document-matrix'], axis=0)"
   ],
   "metadata": {
    "collapsed": false,
    "ExecuteTime": {
     "end_time": "2024-05-10T16:51:44.164464Z",
     "start_time": "2024-05-10T16:51:44.146299Z"
    }
   },
   "id": "94b25466d479dc04"
  },
  {
   "cell_type": "code",
   "execution_count": 19,
   "outputs": [
    {
     "data": {
      "text/plain": "array([0, 0, 1, ..., 0, 0, 0])"
     },
     "execution_count": 19,
     "metadata": {},
     "output_type": "execute_result"
    }
   ],
   "source": [
    "# Every row is a document and the colum shows which is the most probable topic index.\n",
    "dominant_topic_indices"
   ],
   "metadata": {
    "collapsed": false,
    "ExecuteTime": {
     "end_time": "2024-05-10T16:51:44.804913Z",
     "start_time": "2024-05-10T16:51:44.792010Z"
    }
   },
   "id": "b9bdcfa289c79d49"
  },
  {
   "cell_type": "code",
   "execution_count": 20,
   "outputs": [],
   "source": [
    "# We load the previously saved indexes file because in this way we can filter the documents by index. Some documents may not included in the analysis due to the preprocessing steps\n",
    "file_path = 'indexes.txt'\n",
    "\n",
    "# Read the file and convert each line to an integer\n",
    "with open(file_path, 'r') as file:\n",
    "    indices = [int(line.strip()) for line in file]"
   ],
   "metadata": {
    "collapsed": false,
    "ExecuteTime": {
     "end_time": "2024-05-10T16:51:47.527803Z",
     "start_time": "2024-05-10T16:51:47.507628Z"
    }
   },
   "id": "6bae65f55be8bd38"
  },
  {
   "cell_type": "code",
   "execution_count": 21,
   "outputs": [
    {
     "data": {
      "text/plain": "      Artist                                Album  \\\n0      Big L  Lifestylez Ov Da Poor and Dangerous   \n1      Big L  Lifestylez Ov Da Poor and Dangerous   \n2      Big L  Lifestylez Ov Da Poor and Dangerous   \n3      Big L  Lifestylez Ov Da Poor and Dangerous   \n4      Big L  Lifestylez Ov Da Poor and Dangerous   \n...      ...                                  ...   \n1363  Dr.Dre                          The Chronic   \n1364  Dr.Dre                          The Chronic   \n1365  Dr.Dre                          The Chronic   \n1366  Dr.Dre                          The Chronic   \n1367  Dr.Dre                          The Chronic   \n\n                                                   Song       Coast  \\\n0                                        8 Iz Enuff.mp3  east_coast   \n1                                      Da Graveyard.mp3  east_coast   \n2                             I Don't Understand It.mp3  east_coast   \n3                                 No Endz, No Skinz.mp3  east_coast   \n4                                               MVP.mp3  east_coast   \n...                                                 ...         ...   \n1363  Dr. Dre - The Day the Niggaz Took Over (feat. ...  west_coast   \n1364  Dr. Dre - Bitches Ain't Shit (feat. Jewell, Sn...  west_coast   \n1365  Dr. Dre - Stranded On Death Row (feat. Bushwic...  west_coast   \n1366  Dr. Dre - Nuthin' but a ＂G＂ Thang (feat. Snoop...  west_coast   \n1367  Dr. Dre - The Roach (ft. Ruben Cruz, Daz Dilli...  west_coast   \n\n      Release Year      Tempo1     Tempo2  Duration (s)  Sample Rate (Hz)  \\\n0             1995   96.774194  48.000000    298.840000             48000   \n1             1995   93.750000  46.511628    323.760000             48000   \n2             1995   93.750000  47.244094    260.226667             48000   \n3             1995  100.000000  50.420168    208.733333             48000   \n4             1995   86.956522  43.478261    218.866667             48000   \n...            ...         ...        ...           ...               ...   \n1363          1992   93.750000  46.875000    273.206000             48000   \n1364          1992   92.307692  46.153846    287.207625             48000   \n1365          1992   90.909091  45.801527    287.335333             48000   \n1366          1992   95.238095  47.244094    238.677917             48000   \n1367          1992   89.552239  44.117647    277.072125             48000   \n\n                                                   Path  \\\n0     /Users/borosabel/Documents/Uni/Thesis/PopMIR/D...   \n1     /Users/borosabel/Documents/Uni/Thesis/PopMIR/D...   \n2     /Users/borosabel/Documents/Uni/Thesis/PopMIR/D...   \n3     /Users/borosabel/Documents/Uni/Thesis/PopMIR/D...   \n4     /Users/borosabel/Documents/Uni/Thesis/PopMIR/D...   \n...                                                 ...   \n1363  /Users/borosabel/Documents/Uni/Thesis/PopMIR/D...   \n1364  /Users/borosabel/Documents/Uni/Thesis/PopMIR/D...   \n1365  /Users/borosabel/Documents/Uni/Thesis/PopMIR/D...   \n1366  /Users/borosabel/Documents/Uni/Thesis/PopMIR/D...   \n1367  /Users/borosabel/Documents/Uni/Thesis/PopMIR/D...   \n\n                                                 Lyrics  \n0     yeah my crew be in the house terra herb mcgruf...  \n1     it be the number one crew in the area big l be...  \n2     there be too many mc 's who be overrate yeah a...  \n3     let I get to the point real quick when yeah po...  \n4     a yeah spark up the phillie and pass the stout...  \n...                                                 ...  \n1363  I be a say this and I be a end mine if yeah be...  \n1364  bitch be not shit but hoe and trick bitch be n...  \n1365  yes it be I say I and all who agree be more th...  \n1366  one two three and to the four snoop doggy dogg...  \n1367  cannabis sativa ha ha or in the heart of la kn...  \n\n[1368 rows x 11 columns]",
      "text/html": "<div>\n<style scoped>\n    .dataframe tbody tr th:only-of-type {\n        vertical-align: middle;\n    }\n\n    .dataframe tbody tr th {\n        vertical-align: top;\n    }\n\n    .dataframe thead th {\n        text-align: right;\n    }\n</style>\n<table border=\"1\" class=\"dataframe\">\n  <thead>\n    <tr style=\"text-align: right;\">\n      <th></th>\n      <th>Artist</th>\n      <th>Album</th>\n      <th>Song</th>\n      <th>Coast</th>\n      <th>Release Year</th>\n      <th>Tempo1</th>\n      <th>Tempo2</th>\n      <th>Duration (s)</th>\n      <th>Sample Rate (Hz)</th>\n      <th>Path</th>\n      <th>Lyrics</th>\n    </tr>\n  </thead>\n  <tbody>\n    <tr>\n      <th>0</th>\n      <td>Big L</td>\n      <td>Lifestylez Ov Da Poor and Dangerous</td>\n      <td>8 Iz Enuff.mp3</td>\n      <td>east_coast</td>\n      <td>1995</td>\n      <td>96.774194</td>\n      <td>48.000000</td>\n      <td>298.840000</td>\n      <td>48000</td>\n      <td>/Users/borosabel/Documents/Uni/Thesis/PopMIR/D...</td>\n      <td>yeah my crew be in the house terra herb mcgruf...</td>\n    </tr>\n    <tr>\n      <th>1</th>\n      <td>Big L</td>\n      <td>Lifestylez Ov Da Poor and Dangerous</td>\n      <td>Da Graveyard.mp3</td>\n      <td>east_coast</td>\n      <td>1995</td>\n      <td>93.750000</td>\n      <td>46.511628</td>\n      <td>323.760000</td>\n      <td>48000</td>\n      <td>/Users/borosabel/Documents/Uni/Thesis/PopMIR/D...</td>\n      <td>it be the number one crew in the area big l be...</td>\n    </tr>\n    <tr>\n      <th>2</th>\n      <td>Big L</td>\n      <td>Lifestylez Ov Da Poor and Dangerous</td>\n      <td>I Don't Understand It.mp3</td>\n      <td>east_coast</td>\n      <td>1995</td>\n      <td>93.750000</td>\n      <td>47.244094</td>\n      <td>260.226667</td>\n      <td>48000</td>\n      <td>/Users/borosabel/Documents/Uni/Thesis/PopMIR/D...</td>\n      <td>there be too many mc 's who be overrate yeah a...</td>\n    </tr>\n    <tr>\n      <th>3</th>\n      <td>Big L</td>\n      <td>Lifestylez Ov Da Poor and Dangerous</td>\n      <td>No Endz, No Skinz.mp3</td>\n      <td>east_coast</td>\n      <td>1995</td>\n      <td>100.000000</td>\n      <td>50.420168</td>\n      <td>208.733333</td>\n      <td>48000</td>\n      <td>/Users/borosabel/Documents/Uni/Thesis/PopMIR/D...</td>\n      <td>let I get to the point real quick when yeah po...</td>\n    </tr>\n    <tr>\n      <th>4</th>\n      <td>Big L</td>\n      <td>Lifestylez Ov Da Poor and Dangerous</td>\n      <td>MVP.mp3</td>\n      <td>east_coast</td>\n      <td>1995</td>\n      <td>86.956522</td>\n      <td>43.478261</td>\n      <td>218.866667</td>\n      <td>48000</td>\n      <td>/Users/borosabel/Documents/Uni/Thesis/PopMIR/D...</td>\n      <td>a yeah spark up the phillie and pass the stout...</td>\n    </tr>\n    <tr>\n      <th>...</th>\n      <td>...</td>\n      <td>...</td>\n      <td>...</td>\n      <td>...</td>\n      <td>...</td>\n      <td>...</td>\n      <td>...</td>\n      <td>...</td>\n      <td>...</td>\n      <td>...</td>\n      <td>...</td>\n    </tr>\n    <tr>\n      <th>1363</th>\n      <td>Dr.Dre</td>\n      <td>The Chronic</td>\n      <td>Dr. Dre - The Day the Niggaz Took Over (feat. ...</td>\n      <td>west_coast</td>\n      <td>1992</td>\n      <td>93.750000</td>\n      <td>46.875000</td>\n      <td>273.206000</td>\n      <td>48000</td>\n      <td>/Users/borosabel/Documents/Uni/Thesis/PopMIR/D...</td>\n      <td>I be a say this and I be a end mine if yeah be...</td>\n    </tr>\n    <tr>\n      <th>1364</th>\n      <td>Dr.Dre</td>\n      <td>The Chronic</td>\n      <td>Dr. Dre - Bitches Ain't Shit (feat. Jewell, Sn...</td>\n      <td>west_coast</td>\n      <td>1992</td>\n      <td>92.307692</td>\n      <td>46.153846</td>\n      <td>287.207625</td>\n      <td>48000</td>\n      <td>/Users/borosabel/Documents/Uni/Thesis/PopMIR/D...</td>\n      <td>bitch be not shit but hoe and trick bitch be n...</td>\n    </tr>\n    <tr>\n      <th>1365</th>\n      <td>Dr.Dre</td>\n      <td>The Chronic</td>\n      <td>Dr. Dre - Stranded On Death Row (feat. Bushwic...</td>\n      <td>west_coast</td>\n      <td>1992</td>\n      <td>90.909091</td>\n      <td>45.801527</td>\n      <td>287.335333</td>\n      <td>48000</td>\n      <td>/Users/borosabel/Documents/Uni/Thesis/PopMIR/D...</td>\n      <td>yes it be I say I and all who agree be more th...</td>\n    </tr>\n    <tr>\n      <th>1366</th>\n      <td>Dr.Dre</td>\n      <td>The Chronic</td>\n      <td>Dr. Dre - Nuthin' but a ＂G＂ Thang (feat. Snoop...</td>\n      <td>west_coast</td>\n      <td>1992</td>\n      <td>95.238095</td>\n      <td>47.244094</td>\n      <td>238.677917</td>\n      <td>48000</td>\n      <td>/Users/borosabel/Documents/Uni/Thesis/PopMIR/D...</td>\n      <td>one two three and to the four snoop doggy dogg...</td>\n    </tr>\n    <tr>\n      <th>1367</th>\n      <td>Dr.Dre</td>\n      <td>The Chronic</td>\n      <td>Dr. Dre - The Roach (ft. Ruben Cruz, Daz Dilli...</td>\n      <td>west_coast</td>\n      <td>1992</td>\n      <td>89.552239</td>\n      <td>44.117647</td>\n      <td>277.072125</td>\n      <td>48000</td>\n      <td>/Users/borosabel/Documents/Uni/Thesis/PopMIR/D...</td>\n      <td>cannabis sativa ha ha or in the heart of la kn...</td>\n    </tr>\n  </tbody>\n</table>\n<p>1368 rows × 11 columns</p>\n</div>"
     },
     "execution_count": 21,
     "metadata": {},
     "output_type": "execute_result"
    }
   ],
   "source": [
    "# We have 1368 rows in the original dataset\n",
    "df"
   ],
   "metadata": {
    "collapsed": false,
    "ExecuteTime": {
     "end_time": "2024-05-10T16:51:47.993205Z",
     "start_time": "2024-05-10T16:51:47.979333Z"
    }
   },
   "id": "80e61a505b1c67e7"
  },
  {
   "cell_type": "code",
   "execution_count": 22,
   "outputs": [],
   "source": [
    "filtered_df = df.iloc[indices]"
   ],
   "metadata": {
    "collapsed": false,
    "ExecuteTime": {
     "end_time": "2024-05-10T16:51:48.499065Z",
     "start_time": "2024-05-10T16:51:48.488636Z"
    }
   },
   "id": "eb337912882ea1fd"
  },
  {
   "cell_type": "code",
   "execution_count": 23,
   "outputs": [
    {
     "data": {
      "text/plain": "      Artist                                Album  \\\n0      Big L  Lifestylez Ov Da Poor and Dangerous   \n1      Big L  Lifestylez Ov Da Poor and Dangerous   \n2      Big L  Lifestylez Ov Da Poor and Dangerous   \n3      Big L  Lifestylez Ov Da Poor and Dangerous   \n4      Big L  Lifestylez Ov Da Poor and Dangerous   \n...      ...                                  ...   \n1363  Dr.Dre                          The Chronic   \n1364  Dr.Dre                          The Chronic   \n1365  Dr.Dre                          The Chronic   \n1366  Dr.Dre                          The Chronic   \n1367  Dr.Dre                          The Chronic   \n\n                                                   Song       Coast  \\\n0                                        8 Iz Enuff.mp3  east_coast   \n1                                      Da Graveyard.mp3  east_coast   \n2                             I Don't Understand It.mp3  east_coast   \n3                                 No Endz, No Skinz.mp3  east_coast   \n4                                               MVP.mp3  east_coast   \n...                                                 ...         ...   \n1363  Dr. Dre - The Day the Niggaz Took Over (feat. ...  west_coast   \n1364  Dr. Dre - Bitches Ain't Shit (feat. Jewell, Sn...  west_coast   \n1365  Dr. Dre - Stranded On Death Row (feat. Bushwic...  west_coast   \n1366  Dr. Dre - Nuthin' but a ＂G＂ Thang (feat. Snoop...  west_coast   \n1367  Dr. Dre - The Roach (ft. Ruben Cruz, Daz Dilli...  west_coast   \n\n      Release Year      Tempo1     Tempo2  Duration (s)  Sample Rate (Hz)  \\\n0             1995   96.774194  48.000000    298.840000             48000   \n1             1995   93.750000  46.511628    323.760000             48000   \n2             1995   93.750000  47.244094    260.226667             48000   \n3             1995  100.000000  50.420168    208.733333             48000   \n4             1995   86.956522  43.478261    218.866667             48000   \n...            ...         ...        ...           ...               ...   \n1363          1992   93.750000  46.875000    273.206000             48000   \n1364          1992   92.307692  46.153846    287.207625             48000   \n1365          1992   90.909091  45.801527    287.335333             48000   \n1366          1992   95.238095  47.244094    238.677917             48000   \n1367          1992   89.552239  44.117647    277.072125             48000   \n\n                                                   Path  \\\n0     /Users/borosabel/Documents/Uni/Thesis/PopMIR/D...   \n1     /Users/borosabel/Documents/Uni/Thesis/PopMIR/D...   \n2     /Users/borosabel/Documents/Uni/Thesis/PopMIR/D...   \n3     /Users/borosabel/Documents/Uni/Thesis/PopMIR/D...   \n4     /Users/borosabel/Documents/Uni/Thesis/PopMIR/D...   \n...                                                 ...   \n1363  /Users/borosabel/Documents/Uni/Thesis/PopMIR/D...   \n1364  /Users/borosabel/Documents/Uni/Thesis/PopMIR/D...   \n1365  /Users/borosabel/Documents/Uni/Thesis/PopMIR/D...   \n1366  /Users/borosabel/Documents/Uni/Thesis/PopMIR/D...   \n1367  /Users/borosabel/Documents/Uni/Thesis/PopMIR/D...   \n\n                                                 Lyrics  \n0     yeah my crew be in the house terra herb mcgruf...  \n1     it be the number one crew in the area big l be...  \n2     there be too many mc 's who be overrate yeah a...  \n3     let I get to the point real quick when yeah po...  \n4     a yeah spark up the phillie and pass the stout...  \n...                                                 ...  \n1363  I be a say this and I be a end mine if yeah be...  \n1364  bitch be not shit but hoe and trick bitch be n...  \n1365  yes it be I say I and all who agree be more th...  \n1366  one two three and to the four snoop doggy dogg...  \n1367  cannabis sativa ha ha or in the heart of la kn...  \n\n[1364 rows x 11 columns]",
      "text/html": "<div>\n<style scoped>\n    .dataframe tbody tr th:only-of-type {\n        vertical-align: middle;\n    }\n\n    .dataframe tbody tr th {\n        vertical-align: top;\n    }\n\n    .dataframe thead th {\n        text-align: right;\n    }\n</style>\n<table border=\"1\" class=\"dataframe\">\n  <thead>\n    <tr style=\"text-align: right;\">\n      <th></th>\n      <th>Artist</th>\n      <th>Album</th>\n      <th>Song</th>\n      <th>Coast</th>\n      <th>Release Year</th>\n      <th>Tempo1</th>\n      <th>Tempo2</th>\n      <th>Duration (s)</th>\n      <th>Sample Rate (Hz)</th>\n      <th>Path</th>\n      <th>Lyrics</th>\n    </tr>\n  </thead>\n  <tbody>\n    <tr>\n      <th>0</th>\n      <td>Big L</td>\n      <td>Lifestylez Ov Da Poor and Dangerous</td>\n      <td>8 Iz Enuff.mp3</td>\n      <td>east_coast</td>\n      <td>1995</td>\n      <td>96.774194</td>\n      <td>48.000000</td>\n      <td>298.840000</td>\n      <td>48000</td>\n      <td>/Users/borosabel/Documents/Uni/Thesis/PopMIR/D...</td>\n      <td>yeah my crew be in the house terra herb mcgruf...</td>\n    </tr>\n    <tr>\n      <th>1</th>\n      <td>Big L</td>\n      <td>Lifestylez Ov Da Poor and Dangerous</td>\n      <td>Da Graveyard.mp3</td>\n      <td>east_coast</td>\n      <td>1995</td>\n      <td>93.750000</td>\n      <td>46.511628</td>\n      <td>323.760000</td>\n      <td>48000</td>\n      <td>/Users/borosabel/Documents/Uni/Thesis/PopMIR/D...</td>\n      <td>it be the number one crew in the area big l be...</td>\n    </tr>\n    <tr>\n      <th>2</th>\n      <td>Big L</td>\n      <td>Lifestylez Ov Da Poor and Dangerous</td>\n      <td>I Don't Understand It.mp3</td>\n      <td>east_coast</td>\n      <td>1995</td>\n      <td>93.750000</td>\n      <td>47.244094</td>\n      <td>260.226667</td>\n      <td>48000</td>\n      <td>/Users/borosabel/Documents/Uni/Thesis/PopMIR/D...</td>\n      <td>there be too many mc 's who be overrate yeah a...</td>\n    </tr>\n    <tr>\n      <th>3</th>\n      <td>Big L</td>\n      <td>Lifestylez Ov Da Poor and Dangerous</td>\n      <td>No Endz, No Skinz.mp3</td>\n      <td>east_coast</td>\n      <td>1995</td>\n      <td>100.000000</td>\n      <td>50.420168</td>\n      <td>208.733333</td>\n      <td>48000</td>\n      <td>/Users/borosabel/Documents/Uni/Thesis/PopMIR/D...</td>\n      <td>let I get to the point real quick when yeah po...</td>\n    </tr>\n    <tr>\n      <th>4</th>\n      <td>Big L</td>\n      <td>Lifestylez Ov Da Poor and Dangerous</td>\n      <td>MVP.mp3</td>\n      <td>east_coast</td>\n      <td>1995</td>\n      <td>86.956522</td>\n      <td>43.478261</td>\n      <td>218.866667</td>\n      <td>48000</td>\n      <td>/Users/borosabel/Documents/Uni/Thesis/PopMIR/D...</td>\n      <td>a yeah spark up the phillie and pass the stout...</td>\n    </tr>\n    <tr>\n      <th>...</th>\n      <td>...</td>\n      <td>...</td>\n      <td>...</td>\n      <td>...</td>\n      <td>...</td>\n      <td>...</td>\n      <td>...</td>\n      <td>...</td>\n      <td>...</td>\n      <td>...</td>\n      <td>...</td>\n    </tr>\n    <tr>\n      <th>1363</th>\n      <td>Dr.Dre</td>\n      <td>The Chronic</td>\n      <td>Dr. Dre - The Day the Niggaz Took Over (feat. ...</td>\n      <td>west_coast</td>\n      <td>1992</td>\n      <td>93.750000</td>\n      <td>46.875000</td>\n      <td>273.206000</td>\n      <td>48000</td>\n      <td>/Users/borosabel/Documents/Uni/Thesis/PopMIR/D...</td>\n      <td>I be a say this and I be a end mine if yeah be...</td>\n    </tr>\n    <tr>\n      <th>1364</th>\n      <td>Dr.Dre</td>\n      <td>The Chronic</td>\n      <td>Dr. Dre - Bitches Ain't Shit (feat. Jewell, Sn...</td>\n      <td>west_coast</td>\n      <td>1992</td>\n      <td>92.307692</td>\n      <td>46.153846</td>\n      <td>287.207625</td>\n      <td>48000</td>\n      <td>/Users/borosabel/Documents/Uni/Thesis/PopMIR/D...</td>\n      <td>bitch be not shit but hoe and trick bitch be n...</td>\n    </tr>\n    <tr>\n      <th>1365</th>\n      <td>Dr.Dre</td>\n      <td>The Chronic</td>\n      <td>Dr. Dre - Stranded On Death Row (feat. Bushwic...</td>\n      <td>west_coast</td>\n      <td>1992</td>\n      <td>90.909091</td>\n      <td>45.801527</td>\n      <td>287.335333</td>\n      <td>48000</td>\n      <td>/Users/borosabel/Documents/Uni/Thesis/PopMIR/D...</td>\n      <td>yes it be I say I and all who agree be more th...</td>\n    </tr>\n    <tr>\n      <th>1366</th>\n      <td>Dr.Dre</td>\n      <td>The Chronic</td>\n      <td>Dr. Dre - Nuthin' but a ＂G＂ Thang (feat. Snoop...</td>\n      <td>west_coast</td>\n      <td>1992</td>\n      <td>95.238095</td>\n      <td>47.244094</td>\n      <td>238.677917</td>\n      <td>48000</td>\n      <td>/Users/borosabel/Documents/Uni/Thesis/PopMIR/D...</td>\n      <td>one two three and to the four snoop doggy dogg...</td>\n    </tr>\n    <tr>\n      <th>1367</th>\n      <td>Dr.Dre</td>\n      <td>The Chronic</td>\n      <td>Dr. Dre - The Roach (ft. Ruben Cruz, Daz Dilli...</td>\n      <td>west_coast</td>\n      <td>1992</td>\n      <td>89.552239</td>\n      <td>44.117647</td>\n      <td>277.072125</td>\n      <td>48000</td>\n      <td>/Users/borosabel/Documents/Uni/Thesis/PopMIR/D...</td>\n      <td>cannabis sativa ha ha or in the heart of la kn...</td>\n    </tr>\n  </tbody>\n</table>\n<p>1364 rows × 11 columns</p>\n</div>"
     },
     "execution_count": 23,
     "metadata": {},
     "output_type": "execute_result"
    }
   ],
   "source": [
    "filtered_df"
   ],
   "metadata": {
    "collapsed": false,
    "ExecuteTime": {
     "end_time": "2024-05-10T16:51:48.924468Z",
     "start_time": "2024-05-10T16:51:48.914842Z"
    }
   },
   "id": "cdfd95372ecd01c3"
  },
  {
   "cell_type": "code",
   "execution_count": 24,
   "outputs": [
    {
     "data": {
      "text/plain": "True"
     },
     "execution_count": 24,
     "metadata": {},
     "output_type": "execute_result"
    }
   ],
   "source": [
    "# This is just to make sure that in the filtered dataframe we have the same ammount of songs than in the preprocessed dataset.\n",
    "filtered_df.shape[0] == dominant_topic_indices.shape[0]"
   ],
   "metadata": {
    "collapsed": false,
    "ExecuteTime": {
     "end_time": "2024-05-10T16:51:49.218902Z",
     "start_time": "2024-05-10T16:51:49.206860Z"
    }
   },
   "id": "40efe416f3b60be2"
  },
  {
   "cell_type": "code",
   "execution_count": 25,
   "outputs": [
    {
     "name": "stderr",
     "output_type": "stream",
     "text": [
      "/var/folders/99/617f3z715_g8nc26tll89ddc0000gn/T/ipykernel_14319/1676926741.py:1: SettingWithCopyWarning: \n",
      "A value is trying to be set on a copy of a slice from a DataFrame.\n",
      "Try using .loc[row_indexer,col_indexer] = value instead\n",
      "\n",
      "See the caveats in the documentation: https://pandas.pydata.org/pandas-docs/stable/user_guide/indexing.html#returning-a-view-versus-a-copy\n",
      "  filtered_df['Topic Model'] = dominant_topic_indices\n"
     ]
    }
   ],
   "source": [
    "filtered_df['Topic Model'] = dominant_topic_indices"
   ],
   "metadata": {
    "collapsed": false,
    "ExecuteTime": {
     "end_time": "2024-05-10T16:51:49.834233Z",
     "start_time": "2024-05-10T16:51:49.823001Z"
    }
   },
   "id": "80772513b62840b6"
  },
  {
   "cell_type": "code",
   "execution_count": 26,
   "outputs": [
    {
     "data": {
      "text/plain": "  Artist                                Album                       Song  \\\n0  Big L  Lifestylez Ov Da Poor and Dangerous             8 Iz Enuff.mp3   \n1  Big L  Lifestylez Ov Da Poor and Dangerous           Da Graveyard.mp3   \n2  Big L  Lifestylez Ov Da Poor and Dangerous  I Don't Understand It.mp3   \n3  Big L  Lifestylez Ov Da Poor and Dangerous      No Endz, No Skinz.mp3   \n4  Big L  Lifestylez Ov Da Poor and Dangerous                    MVP.mp3   \n\n        Coast  Release Year      Tempo1     Tempo2  Duration (s)  \\\n0  east_coast          1995   96.774194  48.000000    298.840000   \n1  east_coast          1995   93.750000  46.511628    323.760000   \n2  east_coast          1995   93.750000  47.244094    260.226667   \n3  east_coast          1995  100.000000  50.420168    208.733333   \n4  east_coast          1995   86.956522  43.478261    218.866667   \n\n   Sample Rate (Hz)                                               Path  \\\n0             48000  /Users/borosabel/Documents/Uni/Thesis/PopMIR/D...   \n1             48000  /Users/borosabel/Documents/Uni/Thesis/PopMIR/D...   \n2             48000  /Users/borosabel/Documents/Uni/Thesis/PopMIR/D...   \n3             48000  /Users/borosabel/Documents/Uni/Thesis/PopMIR/D...   \n4             48000  /Users/borosabel/Documents/Uni/Thesis/PopMIR/D...   \n\n                                              Lyrics  Topic Model  \n0  yeah my crew be in the house terra herb mcgruf...            0  \n1  it be the number one crew in the area big l be...            0  \n2  there be too many mc 's who be overrate yeah a...            1  \n3  let I get to the point real quick when yeah po...            0  \n4  a yeah spark up the phillie and pass the stout...            0  ",
      "text/html": "<div>\n<style scoped>\n    .dataframe tbody tr th:only-of-type {\n        vertical-align: middle;\n    }\n\n    .dataframe tbody tr th {\n        vertical-align: top;\n    }\n\n    .dataframe thead th {\n        text-align: right;\n    }\n</style>\n<table border=\"1\" class=\"dataframe\">\n  <thead>\n    <tr style=\"text-align: right;\">\n      <th></th>\n      <th>Artist</th>\n      <th>Album</th>\n      <th>Song</th>\n      <th>Coast</th>\n      <th>Release Year</th>\n      <th>Tempo1</th>\n      <th>Tempo2</th>\n      <th>Duration (s)</th>\n      <th>Sample Rate (Hz)</th>\n      <th>Path</th>\n      <th>Lyrics</th>\n      <th>Topic Model</th>\n    </tr>\n  </thead>\n  <tbody>\n    <tr>\n      <th>0</th>\n      <td>Big L</td>\n      <td>Lifestylez Ov Da Poor and Dangerous</td>\n      <td>8 Iz Enuff.mp3</td>\n      <td>east_coast</td>\n      <td>1995</td>\n      <td>96.774194</td>\n      <td>48.000000</td>\n      <td>298.840000</td>\n      <td>48000</td>\n      <td>/Users/borosabel/Documents/Uni/Thesis/PopMIR/D...</td>\n      <td>yeah my crew be in the house terra herb mcgruf...</td>\n      <td>0</td>\n    </tr>\n    <tr>\n      <th>1</th>\n      <td>Big L</td>\n      <td>Lifestylez Ov Da Poor and Dangerous</td>\n      <td>Da Graveyard.mp3</td>\n      <td>east_coast</td>\n      <td>1995</td>\n      <td>93.750000</td>\n      <td>46.511628</td>\n      <td>323.760000</td>\n      <td>48000</td>\n      <td>/Users/borosabel/Documents/Uni/Thesis/PopMIR/D...</td>\n      <td>it be the number one crew in the area big l be...</td>\n      <td>0</td>\n    </tr>\n    <tr>\n      <th>2</th>\n      <td>Big L</td>\n      <td>Lifestylez Ov Da Poor and Dangerous</td>\n      <td>I Don't Understand It.mp3</td>\n      <td>east_coast</td>\n      <td>1995</td>\n      <td>93.750000</td>\n      <td>47.244094</td>\n      <td>260.226667</td>\n      <td>48000</td>\n      <td>/Users/borosabel/Documents/Uni/Thesis/PopMIR/D...</td>\n      <td>there be too many mc 's who be overrate yeah a...</td>\n      <td>1</td>\n    </tr>\n    <tr>\n      <th>3</th>\n      <td>Big L</td>\n      <td>Lifestylez Ov Da Poor and Dangerous</td>\n      <td>No Endz, No Skinz.mp3</td>\n      <td>east_coast</td>\n      <td>1995</td>\n      <td>100.000000</td>\n      <td>50.420168</td>\n      <td>208.733333</td>\n      <td>48000</td>\n      <td>/Users/borosabel/Documents/Uni/Thesis/PopMIR/D...</td>\n      <td>let I get to the point real quick when yeah po...</td>\n      <td>0</td>\n    </tr>\n    <tr>\n      <th>4</th>\n      <td>Big L</td>\n      <td>Lifestylez Ov Da Poor and Dangerous</td>\n      <td>MVP.mp3</td>\n      <td>east_coast</td>\n      <td>1995</td>\n      <td>86.956522</td>\n      <td>43.478261</td>\n      <td>218.866667</td>\n      <td>48000</td>\n      <td>/Users/borosabel/Documents/Uni/Thesis/PopMIR/D...</td>\n      <td>a yeah spark up the phillie and pass the stout...</td>\n      <td>0</td>\n    </tr>\n  </tbody>\n</table>\n</div>"
     },
     "execution_count": 26,
     "metadata": {},
     "output_type": "execute_result"
    }
   ],
   "source": [
    "filtered_df.head()"
   ],
   "metadata": {
    "collapsed": false,
    "ExecuteTime": {
     "end_time": "2024-05-10T16:51:50.740204Z",
     "start_time": "2024-05-10T16:51:50.724982Z"
    }
   },
   "id": "c8d794249511269c"
  },
  {
   "cell_type": "code",
   "execution_count": 27,
   "outputs": [],
   "source": [
    "# Save the data:\n",
    "# filtered_df.to_excel(\"baseline_data_w_topics.xlsx\", sheet_name=\"Sheet1\", index=False)"
   ],
   "metadata": {
    "collapsed": false,
    "ExecuteTime": {
     "end_time": "2024-05-10T16:52:00.535741Z",
     "start_time": "2024-05-10T16:52:00.502218Z"
    }
   },
   "id": "e7ddf1b7d10485d6"
  },
  {
   "cell_type": "markdown",
   "source": [
    "<b>Check The Topic Distribution</b>"
   ],
   "metadata": {
    "collapsed": false
   },
   "id": "caaf8381db32fc92"
  },
  {
   "cell_type": "code",
   "execution_count": 28,
   "outputs": [
    {
     "name": "stdout",
     "output_type": "stream",
     "text": [
      "Coast        east_coast  west_coast\n",
      "Topic Model                        \n",
      "0                   285         458\n",
      "1                   413         208\n"
     ]
    }
   ],
   "source": [
    "topic_coast_distribution = pd.crosstab(filtered_df['Topic Model'], filtered_df['Coast'])\n",
    "print(topic_coast_distribution)"
   ],
   "metadata": {
    "collapsed": false,
    "ExecuteTime": {
     "end_time": "2024-05-10T16:52:08.054919Z",
     "start_time": "2024-05-10T16:52:08.038261Z"
    }
   },
   "id": "8253a9dc4fa01559"
  },
  {
   "cell_type": "code",
   "execution_count": 29,
   "outputs": [],
   "source": [
    "# Normalization of the topic distribution over the entire dataset\n",
    "total_songs = topic_coast_distribution.sum().sum()\n",
    "topic_coast_distribution_normalized = topic_coast_distribution / total_songs"
   ],
   "metadata": {
    "collapsed": false,
    "ExecuteTime": {
     "end_time": "2024-05-10T16:52:13.434836Z",
     "start_time": "2024-05-10T16:52:13.417540Z"
    }
   },
   "id": "de98c2669453ba7b"
  },
  {
   "cell_type": "markdown",
   "source": [
    "Here we can see that one of the topic's large contributors are the west coast songs.\n",
    "Also there should be a topic where the east coast contribution is larger than the west coast contribution.\n",
    "The other "
   ],
   "metadata": {
    "collapsed": false
   },
   "id": "e1afbbe5320979b7"
  },
  {
   "cell_type": "code",
   "execution_count": 30,
   "outputs": [
    {
     "data": {
      "text/plain": "<Figure size 1000x600 with 1 Axes>",
      "image/png": "[encoded data removed]"
     },
     "metadata": {},
     "output_type": "display_data"
    }
   ],
   "source": [
    "colors = ['blue', 'red']\n",
    "ax = (topic_coast_distribution_normalized * 100).plot(kind='bar', figsize=(10, 6), color=colors)\n",
    "plt.title('Proportional Contribution of Each Coast to Topics (Global Normalization)')\n",
    "plt.xlabel('Dominant Topic')\n",
    "plt.ylabel('Percentage of Total Songs')\n",
    "plt.xticks(rotation=0)\n",
    "plt.legend(title='Coast')\n",
    "\n",
    "# Adding percentage labels\n",
    "for p in ax.patches:\n",
    "    width = p.get_width()\n",
    "    height = p.get_height()\n",
    "    x, y = p.get_xy()\n",
    "    if height > 0:  # Only add annotations for non-zero values\n",
    "        ax.annotate(f'{height:.2f}%', (x + width/2, y + height*0.5), ha='center')\n",
    "\n",
    "plt.show()"
   ],
   "metadata": {
    "collapsed": false,
    "ExecuteTime": {
     "end_time": "2024-05-10T16:52:27.888703Z",
     "start_time": "2024-05-10T16:52:27.692183Z"
    }
   },
   "id": "510613ff828f8ebc"
  },
  {
   "cell_type": "markdown",
   "source": [
    "<b>Let's check the characteristics of the two topics which has huge differences between the coast distributions.</b>"
   ],
   "metadata": {
    "collapsed": false
   },
   "id": "42686a16f9aaffe5"
  },
  {
   "cell_type": "code",
   "execution_count": 41,
   "outputs": [],
   "source": [
    "topic2_df = filtered_df[filtered_df['Topic Model'] == 0]\n",
    "topic4_df = filtered_df[filtered_df['Topic Model'] == 1]"
   ],
   "metadata": {
    "collapsed": false,
    "ExecuteTime": {
     "end_time": "2024-05-05T21:33:33.630727Z",
     "start_time": "2024-05-05T21:33:33.572381Z"
    }
   },
   "id": "e99d2907e6ada52c"
  },
  {
   "cell_type": "markdown",
   "source": [
    "<b>Vulgarity/Bad Words Topic</b>"
   ],
   "metadata": {
    "collapsed": false
   },
   "id": "d44bb8fceb3560c6"
  },
  {
   "cell_type": "code",
   "execution_count": 42,
   "outputs": [],
   "source": [
    "topic2_artists = topic2_df[['Artist', 'Coast']]"
   ],
   "metadata": {
    "collapsed": false,
    "ExecuteTime": {
     "end_time": "2024-05-05T21:33:35.112534Z",
     "start_time": "2024-05-05T21:33:35.098126Z"
    }
   },
   "id": "4726b203d21e812a"
  },
  {
   "cell_type": "code",
   "execution_count": 43,
   "outputs": [
    {
     "name": "stdout",
     "output_type": "stream",
     "text": [
      "Coast                 east_coast  west_coast\n",
      "Artist                                      \n",
      "A Tribe Called Quest           8           0\n",
      "Beastie Boys                   8           0\n",
      "Big L                          6           0\n",
      "Busta Rhymes                  40           0\n",
      "Coolio                         0          24\n",
      "Cypress Hill                   0          20\n",
      "De La Soul                    14           0\n",
      "Digital Underground            0          11\n",
      "Dr.Dre                         0          20\n",
      "Eazy-E                         0          23\n",
      "Erik B and Rakim               7           0\n",
      "Gang Starr                     8           0\n",
      "Ice Cube                       0          31\n",
      "Ice-T                          0          46\n",
      "Jay-Z                         35           0\n",
      "LL cool J                     27           0\n",
      "Luniz                          0          12\n",
      "Mobb Deep                     28           0\n",
      "N.W.A                          0          31\n",
      "Nas                           22           0\n",
      "Pac                            0          74\n",
      "Public Enemy                  10           0\n",
      "Puff Daddy                    11           0\n",
      "Run-DMC                        2           0\n",
      "Snoop Dogg                     0          26\n",
      "Souls Of Mischief              0          19\n",
      "The Notorious B.I.G           15           0\n",
      "The Pharcyde                   0           7\n",
      "Too Short                      0          48\n",
      "Warren G                       0           7\n",
      "Westside Connection            0           9\n",
      "Wu Tang Clan                  11           0\n"
     ]
    }
   ],
   "source": [
    "topic2_artist_topic_distribution = pd.crosstab(topic2_artists['Artist'], topic2_artists['Coast'])\n",
    "print(topic2_artist_topic_distribution)"
   ],
   "metadata": {
    "collapsed": false,
    "ExecuteTime": {
     "end_time": "2024-05-05T21:33:36.207212Z",
     "start_time": "2024-05-05T21:33:36.184192Z"
    }
   },
   "id": "65f9ffd055d80a5e"
  },
  {
   "cell_type": "code",
   "execution_count": 44,
   "outputs": [],
   "source": [
    "total_songs_in_topic2 = topic2_artist_topic_distribution.sum().sum()\n",
    "topic2_coast_distribution_normalized = topic2_artist_topic_distribution / total_songs_in_topic2"
   ],
   "metadata": {
    "collapsed": false,
    "ExecuteTime": {
     "end_time": "2024-05-05T21:33:37.510463Z",
     "start_time": "2024-05-05T21:33:37.485946Z"
    }
   },
   "id": "2fe6d9bb197a2cd2"
  },
  {
   "cell_type": "markdown",
   "source": [
    "<b>Here we can see that the biggest contributor artists to this topic is Ice Cube, Too Short, Eazy-E</b>"
   ],
   "metadata": {
    "collapsed": false
   },
   "id": "2ebbf7502cf16fad"
  },
  {
   "cell_type": "code",
   "execution_count": 45,
   "outputs": [
    {
     "data": {
      "text/plain": "<Figure size 1600x600 with 1 Axes>",
      "image/png": "[encoded data removed]"
     },
     "metadata": {},
     "output_type": "display_data"
    }
   ],
   "source": [
    "colors = ['blue', 'red']\n",
    "ax = (topic2_coast_distribution_normalized * 100).plot(kind='bar', figsize=(16, 6), color=colors)\n",
    "plt.title('Proportional Contribution of Artists to The Current Topic')\n",
    "plt.xlabel('Artist')\n",
    "plt.ylabel('Percentage of Contribution')\n",
    "plt.xticks(rotation=90)\n",
    "plt.legend(title='Coast')\n",
    "\n",
    "# Adding percentage labels\n",
    "for p in ax.patches:\n",
    "    width = p.get_width()\n",
    "    height = p.get_height()\n",
    "    x, y = p.get_xy()\n",
    "    if height > 0:  # Only add annotations for non-zero values\n",
    "        ax.annotate(f'{height:.2f}%', (x + width/2, y + height*0.5), ha='center')\n",
    "\n",
    "plt.show()"
   ],
   "metadata": {
    "collapsed": false,
    "ExecuteTime": {
     "end_time": "2024-05-05T21:33:40.465685Z",
     "start_time": "2024-05-05T21:33:40.182Z"
    }
   },
   "id": "dafdb30731b8c3f7"
  },
  {
   "cell_type": "code",
   "execution_count": 46,
   "outputs": [],
   "source": [
    "topic4_artists = topic4_df[['Artist', 'Coast']]"
   ],
   "metadata": {
    "collapsed": false,
    "ExecuteTime": {
     "end_time": "2024-05-05T21:33:53.037949Z",
     "start_time": "2024-05-05T21:33:53.018271Z"
    }
   },
   "id": "a96b60b27c0c1e28"
  },
  {
   "cell_type": "code",
   "execution_count": 47,
   "outputs": [
    {
     "name": "stdout",
     "output_type": "stream",
     "text": [
      "Coast                 east_coast  west_coast\n",
      "Artist                                      \n",
      "A Tribe Called Quest          49           0\n",
      "Beastie Boys                  54           0\n",
      "Big L                          6           0\n",
      "Busta Rhymes                   6           0\n",
      "Coolio                         0          25\n",
      "Cypress Hill                   0          24\n",
      "De La Soul                    67           0\n",
      "Digital Underground            0          36\n",
      "Dr.Dre                         0           5\n",
      "Eazy-E                         0          10\n",
      "Erik B and Rakim              32           0\n",
      "Gang Starr                    50           0\n",
      "Ice Cube                       0          24\n",
      "Ice-T                          0          52\n",
      "Jay-Z                          6           0\n",
      "LL cool J                     45           0\n",
      "Luniz                          0           2\n",
      "Mobb Deep                      4           0\n",
      "N.W.A                          0          10\n",
      "Nas                            2           0\n",
      "Pac                            0          13\n",
      "Public Enemy                  64           0\n",
      "Puff Daddy                     5           0\n",
      "Run-DMC                       53           0\n",
      "Snoop Dogg                     0           7\n",
      "Souls Of Mischief              0          11\n",
      "The Notorious B.I.G            2           0\n",
      "The Pharcyde                   0          25\n",
      "Too Short                      0           7\n",
      "Warren G                       0           3\n",
      "Westside Connection            0           4\n",
      "Wu Tang Clan                   1           0\n"
     ]
    }
   ],
   "source": [
    "topic4_artist_topic_distribution = pd.crosstab(topic4_artists['Artist'], topic4_artists['Coast'])\n",
    "print(topic4_artist_topic_distribution)"
   ],
   "metadata": {
    "collapsed": false,
    "ExecuteTime": {
     "end_time": "2024-05-05T21:33:53.477372Z",
     "start_time": "2024-05-05T21:33:53.455568Z"
    }
   },
   "id": "42e362536be20532"
  },
  {
   "cell_type": "code",
   "execution_count": 48,
   "outputs": [],
   "source": [
    "total_songs_in_topic4 = topic4_artist_topic_distribution.sum().sum()\n",
    "topic4_coast_distribution_normalized = topic4_artist_topic_distribution / total_songs_in_topic4"
   ],
   "metadata": {
    "collapsed": false,
    "ExecuteTime": {
     "end_time": "2024-05-05T21:33:54.364905Z",
     "start_time": "2024-05-05T21:33:54.340248Z"
    }
   },
   "id": "c669365392661a9"
  },
  {
   "cell_type": "markdown",
   "source": [
    "<b>At this topic the east coast artists gets distributed in a much more equal way. Most of the artist contributes to the topic from 6 to 10%</b>"
   ],
   "metadata": {
    "collapsed": false
   },
   "id": "2ee9a6be1b0838ff"
  },
  {
   "cell_type": "code",
   "execution_count": 49,
   "outputs": [
    {
     "data": {
      "text/plain": "<Figure size 1600x600 with 1 Axes>",
      "image/png": "[encoded data removed]"
     },
     "metadata": {},
     "output_type": "display_data"
    }
   ],
   "source": [
    "colors = ['blue', 'red']\n",
    "ax = (topic4_coast_distribution_normalized * 100).plot(kind='bar', figsize=(16, 6), color=colors)\n",
    "plt.title('Proportional Contribution of Artists to The Current Topic')\n",
    "plt.xlabel('Artist')\n",
    "plt.ylabel('Percentage of Contribution')\n",
    "plt.xticks(rotation=90)\n",
    "plt.legend(title='Coast')\n",
    "\n",
    "# Adding percentage labels\n",
    "for p in ax.patches:\n",
    "    width = p.get_width()\n",
    "    height = p.get_height()\n",
    "    x, y = p.get_xy()\n",
    "    if height > 0:  # Only add annotations for non-zero values\n",
    "        ax.annotate(f'{height:.2f}%', (x + width/2, y + height*0.5), ha='center')\n",
    "\n",
    "plt.show()"
   ],
   "metadata": {
    "collapsed": false,
    "ExecuteTime": {
     "end_time": "2024-05-05T21:33:55.567855Z",
     "start_time": "2024-05-05T21:33:55.290346Z"
    }
   },
   "id": "1d0de91e8f2214ce"
  },
  {
   "cell_type": "code",
   "execution_count": 144,
   "outputs": [
    {
     "name": "stdout",
     "output_type": "stream",
     "text": [
      "Topic Model            0   1   2   3   4\n",
      "Artist                                  \n",
      "Dr.Dre                 9   2   5   3  10\n",
      "a_tribe_called_quest   1  25  15  14   2\n",
      "beastie_boys           4  38  20  26   0\n",
      "big_l                  4   1   1   4   2\n",
      "busta_rhymes           3   2   8   1  32\n",
      "coolio                16  16   6   3   8\n",
      "cypress_hill          12  16   9   5   7\n",
      "de_la_soul             0  34  26  28   2\n",
      "digital_underground    1  15  11  20   0\n",
      "eazy_e                20   4   3   8   9\n",
      "erikb_&_rakim          1   8   1  29   0\n",
      "gang_starr             2  18   2  32   4\n",
      "ice-t                 20  25  12  18  13\n",
      "ice_cube              38  21   3   1   3\n",
      "jay-z                 11   3   2   3  24\n",
      "ll_cool_j              0  13  26  33   4\n",
      "luniz                 10   1   0   0   3\n",
      "mack_10                9   1   0   1   3\n",
      "mobb_deep              2   5   1   2  30\n",
      "nas                    0   0   4   3  18\n",
      "nwa                   23   3   4   4   8\n",
      "pac                   12   3  24  13  70\n",
      "public_enemy           2  34  12  26   1\n",
      "puff_daddy             5   2   4   3  18\n",
      "run-dmc                0  13   2  28   0\n",
      "snoop_dogg            17   9   2   4   8\n",
      "soulsofmischief        8   4   3   6   9\n",
      "the_notorious_big      6   2   3   0   8\n",
      "the_pharcyde           6   5  14   8   2\n",
      "too_short             39   4   5  13   1\n",
      "warren_g_              3   1   0   2   4\n",
      "westside_connection    6   3   0   0   4\n",
      "wu_tang_clan           2   2   1   0   8\n"
     ]
    }
   ],
   "source": [
    "artist_topic_distribution = pd.crosstab(df_artists_only['Artist'], df_artists_only['Topic Model'])\n",
    "print(artist_topic_distribution)"
   ],
   "metadata": {
    "collapsed": false
   },
   "id": "bb5922d3d5c1bb69"
  },
  {
   "cell_type": "code",
   "execution_count": 152,
   "outputs": [
    {
     "name": "stderr",
     "output_type": "stream",
     "text": [
      "/var/folders/99/617f3z715_g8nc26tll89ddc0000gn/T/ipykernel_27757/1413891858.py:11: UserWarning: The palette list has more values (10) than needed (5), which may not be intended.\n",
      "  sns.barplot(x='Artist', y='Number of Songs', hue='Topic Model', data=df_melted, palette=palette)\n"
     ]
    },
    {
     "data": {
      "text/plain": "<Figure size 1500x1000 with 1 Axes>",
      "image/png": "[encoded data removed]"
     },
     "metadata": {},
     "output_type": "display_data"
    }
   ],
   "source": [
    "import seaborn as sns\n",
    "\n",
    "# Reset index to use \"Artist\" as a normal column\n",
    "df_melted = artist_topic_distribution.reset_index().melt(id_vars='Artist', value_name='Number of Songs', var_name='Topic Model')\n",
    "\n",
    "# Using a predefined palette\n",
    "palette = sns.color_palette(\"bright\")  # You can change \"pastel\" to \"deep\", \"muted\", \"bright\", \"dark\", or \"colorblind\"\n",
    "\n",
    "# Create the plot\n",
    "plt.figure(figsize=(15, 10))\n",
    "sns.barplot(x='Artist', y='Number of Songs', hue='Topic Model', data=df_melted, palette=palette)\n",
    "plt.title('Topic Distribution Across Different Artists')\n",
    "plt.xlabel('Artist')\n",
    "plt.ylabel('Number of Songs')\n",
    "plt.xticks(rotation=90)  # Rotate labels to make them readable\n",
    "plt.legend(title='Dominant Topic')\n",
    "plt.show()"
   ],
   "metadata": {
    "collapsed": false,
    "ExecuteTime": {
     "end_time": "2024-04-29T20:24:16.659632Z",
     "start_time": "2024-04-29T20:24:16.241965Z"
    }
   },
   "id": "deccd4f7baae87cf"
  },
  {
   "cell_type": "code",
   "execution_count": 155,
   "outputs": [],
   "source": [
    "topic_word_matrix = model_output['topic-word-matrix']"
   ],
   "metadata": {
    "collapsed": false,
    "ExecuteTime": {
     "end_time": "2024-04-29T22:13:30.016563Z",
     "start_time": "2024-04-29T22:13:30.003799Z"
    }
   },
   "id": "1c82f604cb78c419"
  },
  {
   "cell_type": "code",
   "execution_count": 158,
   "outputs": [
    {
     "data": {
      "text/plain": "<Figure size 2000x1000 with 2 Axes>",
      "image/png": "[encoded data removed]"
     },
     "metadata": {},
     "output_type": "display_data"
    }
   ],
   "source": [
    "plt.figure(figsize=(20, 10))\n",
    "sns.heatmap(topic_word_matrix, cmap='viridis', linewidths=.5)\n",
    "plt.title('Topic-Word Matrix')\n",
    "plt.xlabel('Words')\n",
    "plt.ylabel('Topics')\n",
    "plt.show()"
   ],
   "metadata": {
    "collapsed": false,
    "ExecuteTime": {
     "end_time": "2024-04-29T22:14:54.117220Z",
     "start_time": "2024-04-29T22:14:53.465089Z"
    }
   },
   "id": "a958b0fe1917d17c"
  },
  {
   "cell_type": "code",
   "execution_count": 7,
   "outputs": [
    {
     "data": {
      "text/plain": "Batches:   0%|          | 0/16 [00:00<?, ?it/s]",
      "application/vnd.jupyter.widget-view+json": {
       "version_major": 2,
       "version_minor": 0,
       "model_id": "f4084b8b240145059fa10109f37ba38d"
      }
     },
     "metadata": {},
     "output_type": "display_data"
    },
    {
     "name": "stdout",
     "output_type": "stream",
     "text": [
      "Best Coherence: 0.02905395765279088\n",
      "Best Parameters: {'num_topics': 5, 'num_epochs': 300}\n"
     ]
    }
   ],
   "source": [
    "best_coherence = -1\n",
    "best_params = {}\n",
    "topic_nums = [5, 10, 15]\n",
    "epoch_nums = [100, 200, 300]\n",
    "\n",
    "for num_topics in topic_nums:\n",
    "    for num_epochs in epoch_nums:\n",
    "        model = CTM(num_topics=num_topics, inference_type=\"combined\", num_epochs=num_epochs, use_partitions=False, bert_model=\"bert-base-nli-mean-tokens\")\n",
    "        model_output = model.train_model(dataset)\n",
    "        # Assuming the model has a method to compute coherence\n",
    "        coherence = Coherence(texts=dataset.get_corpus(), topk=10)  # Adjust 'topk' as needed\n",
    "        # Setting up Diversity Metric\n",
    "        topic_diversity = TopicDiversity(topk=10)\n",
    "        # Calculate Metrics\n",
    "        coherence = coherence.score(model_output)\n",
    "\n",
    "        if coherence > best_coherence:\n",
    "            best_coherence = coherence\n",
    "            best_params = {'num_topics': num_topics, 'num_epochs': num_epochs}\n",
    "\n",
    "print(f\"Best Coherence: {best_coherence}\")\n",
    "print(f\"Best Parameters: {best_params}\")"
   ],
   "metadata": {
    "collapsed": false,
    "ExecuteTime": {
     "end_time": "2024-05-02T22:00:44.503375Z",
     "start_time": "2024-05-02T21:57:52.007368Z"
    }
   },
   "id": "29dd2aabfb06a470"
  },
  {
   "cell_type": "code",
   "execution_count": 41,
   "outputs": [
    {
     "data": {
      "text/plain": "{'topics': [['count',\n   'suppose',\n   'dip',\n   'rich',\n   'load',\n   'police',\n   'glock',\n   'fire',\n   'getting',\n   'bullshit'],\n  ['rhyme',\n   'mic',\n   'mc',\n   'watch',\n   'cool',\n   'count',\n   'suppose',\n   'sucker',\n   'sound',\n   'rap'],\n  ['nigga',\n   'shit',\n   'die',\n   'life',\n   'live',\n   'god',\n   'thug',\n   'fuck',\n   'motherfucker',\n   'pain'],\n  ['bitch',\n   'fuck',\n   'shit',\n   'nigga',\n   'dick',\n   'cause',\n   'ass',\n   'hoe',\n   'pimp',\n   'pussy'],\n  ['baby',\n   'girl',\n   'love',\n   'let',\n   'lady',\n   'meet',\n   'man',\n   'hey',\n   'world',\n   'woman']],\n 'topic-document-matrix': array([[0.14888467, 0.06934158, 0.06180276, ..., 0.03603857, 0.18080038,\n         0.14472517],\n        [0.2914982 , 0.11448529, 0.57811195, ..., 0.09502198, 0.22802945,\n         0.11112121],\n        [0.31442441, 0.34921903, 0.12986823, ..., 0.31811446, 0.18106172,\n         0.16332806],\n        [0.17011587, 0.37094741, 0.08037342, ..., 0.5195852 , 0.29761671,\n         0.42625716],\n        [0.07507684, 0.09600671, 0.14984365, ..., 0.03123983, 0.11249174,\n         0.15456839]]),\n 'topic-word-matrix': array([[ 0.34867793,  0.44588134,  0.5609208 , ...,  0.38780585,\n          0.29244626,  0.24511158],\n        [ 0.18546851,  0.18954608,  0.22171134, ...,  0.19656709,\n          0.17057253,  0.18914942],\n        [-0.12993881, -0.17895404, -0.21674137, ..., -0.02630447,\n         -0.14354545, -0.17343345],\n        [-0.11158343, -0.17431091, -0.17769508, ..., -0.22901346,\n         -0.09239873, -0.20454024],\n        [ 0.04386109,  0.05920525,  0.00371236, ...,  0.04807771,\n          0.02313888,  0.09021151]], dtype=float32)}"
     },
     "execution_count": 41,
     "metadata": {},
     "output_type": "execute_result"
    }
   ],
   "source": [
    "model_output"
   ],
   "metadata": {
    "collapsed": false,
    "ExecuteTime": {
     "end_time": "2024-05-03T13:18:30.755726Z",
     "start_time": "2024-05-03T13:18:30.693954Z"
    }
   },
   "id": "cdcefcad233127e2"
  },
  {
   "cell_type": "code",
   "execution_count": 78,
   "outputs": [],
   "source": [
    "# Assuming `model` is your trained topic model from OCTIS\n",
    "topic_word_matrix = model_output['topic-word-matrix']\n",
    "topic_document_matrix = model_output['topic-document-matrix']\n",
    "vocabulary = dataset.get_vocabulary()\n",
    "document_ids = range(len(topic_document_matrix[0]))  # Adjust based on how you've stored documents\n",
    "\n",
    "# Assuming topic_document_matrix is an array where rows are topics and columns are documents\n",
    "topic_sizes = np.sum(topic_document_matrix, axis=1)  # Sum over columns to get size per topic\n",
    "normalized_sizes = (topic_sizes - np.min(topic_sizes)) / (np.max(topic_sizes) - np.min(topic_sizes)) * 100 + 10  # Normalize and scale"
   ],
   "metadata": {
    "collapsed": false,
    "ExecuteTime": {
     "end_time": "2024-05-03T13:36:51.718950Z",
     "start_time": "2024-05-03T13:36:51.524777Z"
    }
   },
   "id": "d88cf167714e0659"
  },
  {
   "cell_type": "code",
   "execution_count": 79,
   "outputs": [],
   "source": [
    "# Prepare top 10 words for tooltips\n",
    "top_words_per_topic = []\n",
    "for idx in range(len(topic_word_matrix)):\n",
    "    top_words = sorted([(vocabulary[i], weight) for i, weight in enumerate(topic_word_matrix[idx])],\n",
    "                       key=lambda x: x[1], reverse=True)[:10]  # Get top 10 words\n",
    "    top_words_per_topic.append(\", \".join([word for word, weight in top_words]))"
   ],
   "metadata": {
    "collapsed": false,
    "ExecuteTime": {
     "end_time": "2024-05-03T13:37:01.197695Z",
     "start_time": "2024-05-03T13:37:01.015145Z"
    }
   },
   "id": "2c1b701085ffbcfb"
  },
  {
   "cell_type": "code",
   "execution_count": 74,
   "outputs": [
    {
     "name": "stderr",
     "output_type": "stream",
     "text": [
      "/Users/borosabel/lib/python3.9/site-packages/sklearn/manifold/_t_sne.py:805: FutureWarning: The default learning rate in TSNE will change from 200.0 to 'auto' in 1.2.\n",
      "  warnings.warn(\n",
      "/Users/borosabel/lib/python3.9/site-packages/sklearn/manifold/_t_sne.py:991: FutureWarning: The PCA initialization in TSNE will change to have the standard deviation of PC1 equal to 1e-4 in 1.2. This will ensure better convergence.\n",
      "  warnings.warn(\n"
     ]
    },
    {
     "name": "stdout",
     "output_type": "stream",
     "text": [
      "[t-SNE] Computing 4 nearest neighbors...\n",
      "[t-SNE] Indexed 5 samples in 0.000s...\n",
      "[t-SNE] Computed neighbors for 5 samples in 0.001s...\n",
      "[t-SNE] Computed conditional probabilities for sample 5 / 5\n",
      "[t-SNE] Mean sigma: 1125899906842624.000000\n",
      "[t-SNE] KL divergence after 250 iterations with early exaggeration: 35.654984\n",
      "[t-SNE] KL divergence after 750 iterations: 0.103591\n"
     ]
    }
   ],
   "source": [
    "from sklearn.manifold import TSNE\n",
    "\n",
    "tsne_model = TSNE(n_components=2, verbose=1, random_state=0, angle=.99, init='pca')\n",
    "tsne_results = tsne_model.fit_transform(topic_word_matrix)"
   ],
   "metadata": {
    "collapsed": false,
    "ExecuteTime": {
     "end_time": "2024-05-03T13:33:26.193417Z",
     "start_time": "2024-05-03T13:33:25.740852Z"
    }
   },
   "id": "37a13d06b7c35aa8"
  },
  {
   "cell_type": "code",
   "execution_count": 87,
   "outputs": [
    {
     "data": {
      "application/vnd.plotly.v1+json": {
       "data": [
        {
         "hoverinfo": "text",
         "marker": {
          "size": 63.527847546608754
         },
         "name": "Topic 0",
         "text": "Topic 0: bitch, fuck, shit, nigga, dick, hoe, cause, ass, pimp, pussy",
         "x": [
          318.8372802734375
         ],
         "y": [
          -1656.885009765625
         ],
         "type": "scatter"
        },
        {
         "hoverinfo": "text",
         "marker": {
          "size": 39.30182361989854
         },
         "name": "Topic 1",
         "text": "Topic 1: motherfucke, level, second, cream, taste, jail, gat, doin, fade, park",
         "x": [
          949.4217529296875
         ],
         "y": [
          -1254.4150390625
         ],
         "type": "scatter"
        },
        {
         "hoverinfo": "text",
         "marker": {
          "size": 110.0
         },
         "name": "Topic 2",
         "text": "Topic 2: rhyme, lyric, mc, step, hip, sucker, level, style, song, rap",
         "x": [
          739.802490234375
         ],
         "y": [
          -376.66143798828125
         ],
         "type": "scatter"
        },
        {
         "hoverinfo": "text",
         "marker": {
          "size": 10.0
         },
         "name": "Topic 3",
         "text": "Topic 3: man, baby, girl, love, let, woman, uh, hey, head, feel",
         "x": [
          -270.27813720703125
         ],
         "y": [
          -1172.7017822265625
         ],
         "type": "scatter"
        },
        {
         "hoverinfo": "text",
         "marker": {
          "size": 42.431412973519876
         },
         "name": "Topic 4",
         "text": "Topic 4: nigga, shit, die, live, life, fuck, motherfucker, thug, la, gun",
         "x": [
          -126.58929443359375
         ],
         "y": [
          -494.33856201171875
         ],
         "type": "scatter"
        }
       ],
       "layout": {
        "template": {
         "data": {
          "histogram2dcontour": [
           {
            "type": "histogram2dcontour",
            "colorbar": {
             "outlinewidth": 0,
             "ticks": ""
            },
            "colorscale": [
             [
              0.0,
              "#0d0887"
             ],
             [
              0.1111111111111111,
              "#46039f"
             ],
             [
              0.2222222222222222,
              "#7201a8"
             ],
             [
              0.3333333333333333,
              "#9c179e"
             ],
             [
              0.4444444444444444,
              "#bd3786"
             ],
             [
              0.5555555555555556,
              "#d8576b"
             ],
             [
              0.6666666666666666,
              "#ed7953"
             ],
             [
              0.7777777777777778,
              "#fb9f3a"
             ],
             [
              0.8888888888888888,
              "#fdca26"
             ],
             [
              1.0,
              "#f0f921"
             ]
            ]
           }
          ],
          "choropleth": [
           {
            "type": "choropleth",
            "colorbar": {
             "outlinewidth": 0,
             "ticks": ""
            }
           }
          ],
          "histogram2d": [
           {
            "type": "histogram2d",
            "colorbar": {
             "outlinewidth": 0,
             "ticks": ""
            },
            "colorscale": [
             [
              0.0,
              "#0d0887"
             ],
             [
              0.1111111111111111,
              "#46039f"
             ],
             [
              0.2222222222222222,
              "#7201a8"
             ],
             [
              0.3333333333333333,
              "#9c179e"
             ],
             [
              0.4444444444444444,
              "#bd3786"
             ],
             [
              0.5555555555555556,
              "#d8576b"
             ],
             [
              0.6666666666666666,
              "#ed7953"
             ],
             [
              0.7777777777777778,
              "#fb9f3a"
             ],
             [
              0.8888888888888888,
              "#fdca26"
             ],
             [
              1.0,
              "#f0f921"
             ]
            ]
           }
          ],
          "heatmap": [
           {
            "type": "heatmap",
            "colorbar": {
             "outlinewidth": 0,
             "ticks": ""
            },
            "colorscale": [
             [
              0.0,
              "#0d0887"
             ],
             [
              0.1111111111111111,
              "#46039f"
             ],
             [
              0.2222222222222222,
              "#7201a8"
             ],
             [
              0.3333333333333333,
              "#9c179e"
             ],
             [
              0.4444444444444444,
              "#bd3786"
             ],
             [
              0.5555555555555556,
              "#d8576b"
             ],
             [
              0.6666666666666666,
              "#ed7953"
             ],
             [
              0.7777777777777778,
              "#fb9f3a"
             ],
             [
              0.8888888888888888,
              "#fdca26"
             ],
             [
              1.0,
              "#f0f921"
             ]
            ]
           }
          ],
          "heatmapgl": [
           {
            "type": "heatmapgl",
            "colorbar": {
             "outlinewidth": 0,
             "ticks": ""
            },
            "colorscale": [
             [
              0.0,
              "#0d0887"
             ],
             [
              0.1111111111111111,
              "#46039f"
             ],
             [
              0.2222222222222222,
              "#7201a8"
             ],
             [
              0.3333333333333333,
              "#9c179e"
             ],
             [
              0.4444444444444444,
              "#bd3786"
             ],
             [
              0.5555555555555556,
              "#d8576b"
             ],
             [
              0.6666666666666666,
              "#ed7953"
             ],
             [
              0.7777777777777778,
              "#fb9f3a"
             ],
             [
              0.8888888888888888,
              "#fdca26"
             ],
             [
              1.0,
              "#f0f921"
             ]
            ]
           }
          ],
          "contourcarpet": [
           {
            "type": "contourcarpet",
            "colorbar": {
             "outlinewidth": 0,
             "ticks": ""
            }
           }
          ],
          "contour": [
           {
            "type": "contour",
            "colorbar": {
             "outlinewidth": 0,
             "ticks": ""
            },
            "colorscale": [
             [
              0.0,
              "#0d0887"
             ],
             [
              0.1111111111111111,
              "#46039f"
             ],
             [
              0.2222222222222222,
              "#7201a8"
             ],
             [
              0.3333333333333333,
              "#9c179e"
             ],
             [
              0.4444444444444444,
              "#bd3786"
             ],
             [
              0.5555555555555556,
              "#d8576b"
             ],
             [
              0.6666666666666666,
              "#ed7953"
             ],
             [
              0.7777777777777778,
              "#fb9f3a"
             ],
             [
              0.8888888888888888,
              "#fdca26"
             ],
             [
              1.0,
              "#f0f921"
             ]
            ]
           }
          ],
          "surface": [
           {
            "type": "surface",
            "colorbar": {
             "outlinewidth": 0,
             "ticks": ""
            },
            "colorscale": [
             [
              0.0,
              "#0d0887"
             ],
             [
              0.1111111111111111,
              "#46039f"
             ],
             [
              0.2222222222222222,
              "#7201a8"
             ],
             [
              0.3333333333333333,
              "#9c179e"
             ],
             [
              0.4444444444444444,
              "#bd3786"
             ],
             [
              0.5555555555555556,
              "#d8576b"
             ],
             [
              0.6666666666666666,
              "#ed7953"
             ],
             [
              0.7777777777777778,
              "#fb9f3a"
             ],
             [
              0.8888888888888888,
              "#fdca26"
             ],
             [
              1.0,
              "#f0f921"
             ]
            ]
           }
          ],
          "mesh3d": [
           {
            "type": "mesh3d",
            "colorbar": {
             "outlinewidth": 0,
             "ticks": ""
            }
           }
          ],
          "scatter": [
           {
            "marker": {
             "line": {
              "color": "#283442"
             }
            },
            "type": "scatter"
           }
          ],
          "parcoords": [
           {
            "type": "parcoords",
            "line": {
             "colorbar": {
              "outlinewidth": 0,
              "ticks": ""
             }
            }
           }
          ],
          "scatterpolargl": [
           {
            "type": "scatterpolargl",
            "marker": {
             "colorbar": {
              "outlinewidth": 0,
              "ticks": ""
             }
            }
           }
          ],
          "bar": [
           {
            "error_x": {
             "color": "#f2f5fa"
            },
            "error_y": {
             "color": "#f2f5fa"
            },
            "marker": {
             "line": {
              "color": "rgb(17,17,17)",
              "width": 0.5
             },
             "pattern": {
              "fillmode": "overlay",
              "size": 10,
              "solidity": 0.2
             }
            },
            "type": "bar"
           }
          ],
          "scattergeo": [
           {
            "type": "scattergeo",
            "marker": {
             "colorbar": {
              "outlinewidth": 0,
              "ticks": ""
             }
            }
           }
          ],
          "scatterpolar": [
           {
            "type": "scatterpolar",
            "marker": {
             "colorbar": {
              "outlinewidth": 0,
              "ticks": ""
             }
            }
           }
          ],
          "histogram": [
           {
            "marker": {
             "pattern": {
              "fillmode": "overlay",
              "size": 10,
              "solidity": 0.2
             }
            },
            "type": "histogram"
           }
          ],
          "scattergl": [
           {
            "marker": {
             "line": {
              "color": "#283442"
             }
            },
            "type": "scattergl"
           }
          ],
          "scatter3d": [
           {
            "type": "scatter3d",
            "line": {
             "colorbar": {
              "outlinewidth": 0,
              "ticks": ""
             }
            },
            "marker": {
             "colorbar": {
              "outlinewidth": 0,
              "ticks": ""
             }
            }
           }
          ],
          "scattermapbox": [
           {
            "type": "scattermapbox",
            "marker": {
             "colorbar": {
              "outlinewidth": 0,
              "ticks": ""
             }
            }
           }
          ],
          "scatterternary": [
           {
            "type": "scatterternary",
            "marker": {
             "colorbar": {
              "outlinewidth": 0,
              "ticks": ""
             }
            }
           }
          ],
          "scattercarpet": [
           {
            "type": "scattercarpet",
            "marker": {
             "colorbar": {
              "outlinewidth": 0,
              "ticks": ""
             }
            }
           }
          ],
          "carpet": [
           {
            "aaxis": {
             "endlinecolor": "#A2B1C6",
             "gridcolor": "#506784",
             "linecolor": "#506784",
             "minorgridcolor": "#506784",
             "startlinecolor": "#A2B1C6"
            },
            "baxis": {
             "endlinecolor": "#A2B1C6",
             "gridcolor": "#506784",
             "linecolor": "#506784",
             "minorgridcolor": "#506784",
             "startlinecolor": "#A2B1C6"
            },
            "type": "carpet"
           }
          ],
          "table": [
           {
            "cells": {
             "fill": {
              "color": "#506784"
             },
             "line": {
              "color": "rgb(17,17,17)"
             }
            },
            "header": {
             "fill": {
              "color": "#2a3f5f"
             },
             "line": {
              "color": "rgb(17,17,17)"
             }
            },
            "type": "table"
           }
          ],
          "barpolar": [
           {
            "marker": {
             "line": {
              "color": "rgb(17,17,17)",
              "width": 0.5
             },
             "pattern": {
              "fillmode": "overlay",
              "size": 10,
              "solidity": 0.2
             }
            },
            "type": "barpolar"
           }
          ],
          "pie": [
           {
            "automargin": true,
            "type": "pie"
           }
          ]
         },
         "layout": {
          "autotypenumbers": "strict",
          "colorway": [
           "#636efa",
           "#EF553B",
           "#00cc96",
           "#ab63fa",
           "#FFA15A",
           "#19d3f3",
           "#FF6692",
           "#B6E880",
           "#FF97FF",
           "#FECB52"
          ],
          "font": {
           "color": "#f2f5fa"
          },
          "hovermode": "closest",
          "hoverlabel": {
           "align": "left"
          },
          "paper_bgcolor": "rgb(17,17,17)",
          "plot_bgcolor": "rgb(17,17,17)",
          "polar": {
           "bgcolor": "rgb(17,17,17)",
           "angularaxis": {
            "gridcolor": "#506784",
            "linecolor": "#506784",
            "ticks": ""
           },
           "radialaxis": {
            "gridcolor": "#506784",
            "linecolor": "#506784",
            "ticks": ""
           }
          },
          "ternary": {
           "bgcolor": "rgb(17,17,17)",
           "aaxis": {
            "gridcolor": "#506784",
            "linecolor": "#506784",
            "ticks": ""
           },
           "baxis": {
            "gridcolor": "#506784",
            "linecolor": "#506784",
            "ticks": ""
           },
           "caxis": {
            "gridcolor": "#506784",
            "linecolor": "#506784",
            "ticks": ""
           }
          },
          "coloraxis": {
           "colorbar": {
            "outlinewidth": 0,
            "ticks": ""
           }
          },
          "colorscale": {
           "sequential": [
            [
             0.0,
             "#0d0887"
            ],
            [
             0.1111111111111111,
             "#46039f"
            ],
            [
             0.2222222222222222,
             "#7201a8"
            ],
            [
             0.3333333333333333,
             "#9c179e"
            ],
            [
             0.4444444444444444,
             "#bd3786"
            ],
            [
             0.5555555555555556,
             "#d8576b"
            ],
            [
             0.6666666666666666,
             "#ed7953"
            ],
            [
             0.7777777777777778,
             "#fb9f3a"
            ],
            [
             0.8888888888888888,
             "#fdca26"
            ],
            [
             1.0,
             "#f0f921"
            ]
           ],
           "sequentialminus": [
            [
             0.0,
             "#0d0887"
            ],
            [
             0.1111111111111111,
             "#46039f"
            ],
            [
             0.2222222222222222,
             "#7201a8"
            ],
            [
             0.3333333333333333,
             "#9c179e"
            ],
            [
             0.4444444444444444,
             "#bd3786"
            ],
            [
             0.5555555555555556,
             "#d8576b"
            ],
            [
             0.6666666666666666,
             "#ed7953"
            ],
            [
             0.7777777777777778,
             "#fb9f3a"
            ],
            [
             0.8888888888888888,
             "#fdca26"
            ],
            [
             1.0,
             "#f0f921"
            ]
           ],
           "diverging": [
            [
             0,
             "#8e0152"
            ],
            [
             0.1,
             "#c51b7d"
            ],
            [
             0.2,
             "#de77ae"
            ],
            [
             0.3,
             "#f1b6da"
            ],
            [
             0.4,
             "#fde0ef"
            ],
            [
             0.5,
             "#f7f7f7"
            ],
            [
             0.6,
             "#e6f5d0"
            ],
            [
             0.7,
             "#b8e186"
            ],
            [
             0.8,
             "#7fbc41"
            ],
            [
             0.9,
             "#4d9221"
            ],
            [
             1,
             "#276419"
            ]
           ]
          },
          "xaxis": {
           "gridcolor": "#283442",
           "linecolor": "#506784",
           "ticks": "",
           "title": {
            "standoff": 15
           },
           "zerolinecolor": "#283442",
           "automargin": true,
           "zerolinewidth": 2
          },
          "yaxis": {
           "gridcolor": "#283442",
           "linecolor": "#506784",
           "ticks": "",
           "title": {
            "standoff": 15
           },
           "zerolinecolor": "#283442",
           "automargin": true,
           "zerolinewidth": 2
          },
          "scene": {
           "xaxis": {
            "backgroundcolor": "rgb(17,17,17)",
            "gridcolor": "#506784",
            "linecolor": "#506784",
            "showbackground": true,
            "ticks": "",
            "zerolinecolor": "#C8D4E3",
            "gridwidth": 2
           },
           "yaxis": {
            "backgroundcolor": "rgb(17,17,17)",
            "gridcolor": "#506784",
            "linecolor": "#506784",
            "showbackground": true,
            "ticks": "",
            "zerolinecolor": "#C8D4E3",
            "gridwidth": 2
           },
           "zaxis": {
            "backgroundcolor": "rgb(17,17,17)",
            "gridcolor": "#506784",
            "linecolor": "#506784",
            "showbackground": true,
            "ticks": "",
            "zerolinecolor": "#C8D4E3",
            "gridwidth": 2
           }
          },
          "shapedefaults": {
           "line": {
            "color": "#f2f5fa"
           }
          },
          "annotationdefaults": {
           "arrowcolor": "#f2f5fa",
           "arrowhead": 0,
           "arrowwidth": 1
          },
          "geo": {
           "bgcolor": "rgb(17,17,17)",
           "landcolor": "rgb(17,17,17)",
           "subunitcolor": "#506784",
           "showland": true,
           "showlakes": true,
           "lakecolor": "rgb(17,17,17)"
          },
          "title": {
           "x": 0.05
          },
          "updatemenudefaults": {
           "bgcolor": "#506784",
           "borderwidth": 0
          },
          "sliderdefaults": {
           "bgcolor": "#C8D4E3",
           "borderwidth": 1,
           "bordercolor": "rgb(17,17,17)",
           "tickwidth": 0
          },
          "mapbox": {
           "style": "dark"
          }
         }
        },
        "title": {
         "text": "Topic Visualization"
        },
        "xaxis": {
         "title": {
          "text": "Component 1"
         }
        },
        "yaxis": {
         "title": {
          "text": "Component 2"
         }
        },
        "hovermode": "closest"
       },
       "config": {
        "plotlyServerURL": "https://plot.ly"
       }
      },
      "text/html": "<div>                            <div id=\"46daa703-5ef5-43d1-93ec-913807861bec\" class=\"plotly-graph-div\" style=\"height:525px; width:100%;\"></div>            <script type=\"text/javascript\">                require([\"plotly\"], function(Plotly) {                    window.PLOTLYENV=window.PLOTLYENV || {};                                    if (document.getElementById(\"46daa703-5ef5-43d1-93ec-913807861bec\")) {                    Plotly.newPlot(                        \"46daa703-5ef5-43d1-93ec-913807861bec\",                        [{\"hoverinfo\":\"text\",\"marker\":{\"size\":63.527847546608754},\"name\":\"Topic 0\",\"text\":\"Topic 0: bitch, fuck, shit, nigga, dick, hoe, cause, ass, pimp, pussy\",\"x\":[318.8372802734375],\"y\":[-1656.885009765625],\"type\":\"scatter\"},{\"hoverinfo\":\"text\",\"marker\":{\"size\":39.30182361989854},\"name\":\"Topic 1\",\"text\":\"Topic 1: motherfucke, level, second, cream, taste, jail, gat, doin, fade, park\",\"x\":[949.4217529296875],\"y\":[-1254.4150390625],\"type\":\"scatter\"},{\"hoverinfo\":\"text\",\"marker\":{\"size\":110.0},\"name\":\"Topic 2\",\"text\":\"Topic 2: rhyme, lyric, mc, step, hip, sucker, level, style, song, rap\",\"x\":[739.802490234375],\"y\":[-376.66143798828125],\"type\":\"scatter\"},{\"hoverinfo\":\"text\",\"marker\":{\"size\":10.0},\"name\":\"Topic 3\",\"text\":\"Topic 3: man, baby, girl, love, let, woman, uh, hey, head, feel\",\"x\":[-270.27813720703125],\"y\":[-1172.7017822265625],\"type\":\"scatter\"},{\"hoverinfo\":\"text\",\"marker\":{\"size\":42.431412973519876},\"name\":\"Topic 4\",\"text\":\"Topic 4: nigga, shit, die, live, life, fuck, motherfucker, thug, la, gun\",\"x\":[-126.58929443359375],\"y\":[-494.33856201171875],\"type\":\"scatter\"}],                        {\"template\":{\"data\":{\"histogram2dcontour\":[{\"type\":\"histogram2dcontour\",\"colorbar\":{\"outlinewidth\":0,\"ticks\":\"\"},\"colorscale\":[[0.0,\"#0d0887\"],[0.1111111111111111,\"#46039f\"],[0.2222222222222222,\"#7201a8\"],[0.3333333333333333,\"#9c179e\"],[0.4444444444444444,\"#bd3786\"],[0.5555555555555556,\"#d8576b\"],[0.6666666666666666,\"#ed7953\"],[0.7777777777777778,\"#fb9f3a\"],[0.8888888888888888,\"#fdca26\"],[1.0,\"#f0f921\"]]}],\"choropleth\":[{\"type\":\"choropleth\",\"colorbar\":{\"outlinewidth\":0,\"ticks\":\"\"}}],\"histogram2d\":[{\"type\":\"histogram2d\",\"colorbar\":{\"outlinewidth\":0,\"ticks\":\"\"},\"colorscale\":[[0.0,\"#0d0887\"],[0.1111111111111111,\"#46039f\"],[0.2222222222222222,\"#7201a8\"],[0.3333333333333333,\"#9c179e\"],[0.4444444444444444,\"#bd3786\"],[0.5555555555555556,\"#d8576b\"],[0.6666666666666666,\"#ed7953\"],[0.7777777777777778,\"#fb9f3a\"],[0.8888888888888888,\"#fdca26\"],[1.0,\"#f0f921\"]]}],\"heatmap\":[{\"type\":\"heatmap\",\"colorbar\":{\"outlinewidth\":0,\"ticks\":\"\"},\"colorscale\":[[0.0,\"#0d0887\"],[0.1111111111111111,\"#46039f\"],[0.2222222222222222,\"#7201a8\"],[0.3333333333333333,\"#9c179e\"],[0.4444444444444444,\"#bd3786\"],[0.5555555555555556,\"#d8576b\"],[0.6666666666666666,\"#ed7953\"],[0.7777777777777778,\"#fb9f3a\"],[0.8888888888888888,\"#fdca26\"],[1.0,\"#f0f921\"]]}],\"heatmapgl\":[{\"type\":\"heatmapgl\",\"colorbar\":{\"outlinewidth\":0,\"ticks\":\"\"},\"colorscale\":[[0.0,\"#0d0887\"],[0.1111111111111111,\"#46039f\"],[0.2222222222222222,\"#7201a8\"],[0.3333333333333333,\"#9c179e\"],[0.4444444444444444,\"#bd3786\"],[0.5555555555555556,\"#d8576b\"],[0.6666666666666666,\"#ed7953\"],[0.7777777777777778,\"#fb9f3a\"],[0.8888888888888888,\"#fdca26\"],[1.0,\"#f0f921\"]]}],\"contourcarpet\":[{\"type\":\"contourcarpet\",\"colorbar\":{\"outlinewidth\":0,\"ticks\":\"\"}}],\"contour\":[{\"type\":\"contour\",\"colorbar\":{\"outlinewidth\":0,\"ticks\":\"\"},\"colorscale\":[[0.0,\"#0d0887\"],[0.1111111111111111,\"#46039f\"],[0.2222222222222222,\"#7201a8\"],[0.3333333333333333,\"#9c179e\"],[0.4444444444444444,\"#bd3786\"],[0.5555555555555556,\"#d8576b\"],[0.6666666666666666,\"#ed7953\"],[0.7777777777777778,\"#fb9f3a\"],[0.8888888888888888,\"#fdca26\"],[1.0,\"#f0f921\"]]}],\"surface\":[{\"type\":\"surface\",\"colorbar\":{\"outlinewidth\":0,\"ticks\":\"\"},\"colorscale\":[[0.0,\"#0d0887\"],[0.1111111111111111,\"#46039f\"],[0.2222222222222222,\"#7201a8\"],[0.3333333333333333,\"#9c179e\"],[0.4444444444444444,\"#bd3786\"],[0.5555555555555556,\"#d8576b\"],[0.6666666666666666,\"#ed7953\"],[0.7777777777777778,\"#fb9f3a\"],[0.8888888888888888,\"#fdca26\"],[1.0,\"#f0f921\"]]}],\"mesh3d\":[{\"type\":\"mesh3d\",\"colorbar\":{\"outlinewidth\":0,\"ticks\":\"\"}}],\"scatter\":[{\"marker\":{\"line\":{\"color\":\"#283442\"}},\"type\":\"scatter\"}],\"parcoords\":[{\"type\":\"parcoords\",\"line\":{\"colorbar\":{\"outlinewidth\":0,\"ticks\":\"\"}}}],\"scatterpolargl\":[{\"type\":\"scatterpolargl\",\"marker\":{\"colorbar\":{\"outlinewidth\":0,\"ticks\":\"\"}}}],\"bar\":[{\"error_x\":{\"color\":\"#f2f5fa\"},\"error_y\":{\"color\":\"#f2f5fa\"},\"marker\":{\"line\":{\"color\":\"rgb(17,17,17)\",\"width\":0.5},\"pattern\":{\"fillmode\":\"overlay\",\"size\":10,\"solidity\":0.2}},\"type\":\"bar\"}],\"scattergeo\":[{\"type\":\"scattergeo\",\"marker\":{\"colorbar\":{\"outlinewidth\":0,\"ticks\":\"\"}}}],\"scatterpolar\":[{\"type\":\"scatterpolar\",\"marker\":{\"colorbar\":{\"outlinewidth\":0,\"ticks\":\"\"}}}],\"histogram\":[{\"marker\":{\"pattern\":{\"fillmode\":\"overlay\",\"size\":10,\"solidity\":0.2}},\"type\":\"histogram\"}],\"scattergl\":[{\"marker\":{\"line\":{\"color\":\"#283442\"}},\"type\":\"scattergl\"}],\"scatter3d\":[{\"type\":\"scatter3d\",\"line\":{\"colorbar\":{\"outlinewidth\":0,\"ticks\":\"\"}},\"marker\":{\"colorbar\":{\"outlinewidth\":0,\"ticks\":\"\"}}}],\"scattermapbox\":[{\"type\":\"scattermapbox\",\"marker\":{\"colorbar\":{\"outlinewidth\":0,\"ticks\":\"\"}}}],\"scatterternary\":[{\"type\":\"scatterternary\",\"marker\":{\"colorbar\":{\"outlinewidth\":0,\"ticks\":\"\"}}}],\"scattercarpet\":[{\"type\":\"scattercarpet\",\"marker\":{\"colorbar\":{\"outlinewidth\":0,\"ticks\":\"\"}}}],\"carpet\":[{\"aaxis\":{\"endlinecolor\":\"#A2B1C6\",\"gridcolor\":\"#506784\",\"linecolor\":\"#506784\",\"minorgridcolor\":\"#506784\",\"startlinecolor\":\"#A2B1C6\"},\"baxis\":{\"endlinecolor\":\"#A2B1C6\",\"gridcolor\":\"#506784\",\"linecolor\":\"#506784\",\"minorgridcolor\":\"#506784\",\"startlinecolor\":\"#A2B1C6\"},\"type\":\"carpet\"}],\"table\":[{\"cells\":{\"fill\":{\"color\":\"#506784\"},\"line\":{\"color\":\"rgb(17,17,17)\"}},\"header\":{\"fill\":{\"color\":\"#2a3f5f\"},\"line\":{\"color\":\"rgb(17,17,17)\"}},\"type\":\"table\"}],\"barpolar\":[{\"marker\":{\"line\":{\"color\":\"rgb(17,17,17)\",\"width\":0.5},\"pattern\":{\"fillmode\":\"overlay\",\"size\":10,\"solidity\":0.2}},\"type\":\"barpolar\"}],\"pie\":[{\"automargin\":true,\"type\":\"pie\"}]},\"layout\":{\"autotypenumbers\":\"strict\",\"colorway\":[\"#636efa\",\"#EF553B\",\"#00cc96\",\"#ab63fa\",\"#FFA15A\",\"#19d3f3\",\"#FF6692\",\"#B6E880\",\"#FF97FF\",\"#FECB52\"],\"font\":{\"color\":\"#f2f5fa\"},\"hovermode\":\"closest\",\"hoverlabel\":{\"align\":\"left\"},\"paper_bgcolor\":\"rgb(17,17,17)\",\"plot_bgcolor\":\"rgb(17,17,17)\",\"polar\":{\"bgcolor\":\"rgb(17,17,17)\",\"angularaxis\":{\"gridcolor\":\"#506784\",\"linecolor\":\"#506784\",\"ticks\":\"\"},\"radialaxis\":{\"gridcolor\":\"#506784\",\"linecolor\":\"#506784\",\"ticks\":\"\"}},\"ternary\":{\"bgcolor\":\"rgb(17,17,17)\",\"aaxis\":{\"gridcolor\":\"#506784\",\"linecolor\":\"#506784\",\"ticks\":\"\"},\"baxis\":{\"gridcolor\":\"#506784\",\"linecolor\":\"#506784\",\"ticks\":\"\"},\"caxis\":{\"gridcolor\":\"#506784\",\"linecolor\":\"#506784\",\"ticks\":\"\"}},\"coloraxis\":{\"colorbar\":{\"outlinewidth\":0,\"ticks\":\"\"}},\"colorscale\":{\"sequential\":[[0.0,\"#0d0887\"],[0.1111111111111111,\"#46039f\"],[0.2222222222222222,\"#7201a8\"],[0.3333333333333333,\"#9c179e\"],[0.4444444444444444,\"#bd3786\"],[0.5555555555555556,\"#d8576b\"],[0.6666666666666666,\"#ed7953\"],[0.7777777777777778,\"#fb9f3a\"],[0.8888888888888888,\"#fdca26\"],[1.0,\"#f0f921\"]],\"sequentialminus\":[[0.0,\"#0d0887\"],[0.1111111111111111,\"#46039f\"],[0.2222222222222222,\"#7201a8\"],[0.3333333333333333,\"#9c179e\"],[0.4444444444444444,\"#bd3786\"],[0.5555555555555556,\"#d8576b\"],[0.6666666666666666,\"#ed7953\"],[0.7777777777777778,\"#fb9f3a\"],[0.8888888888888888,\"#fdca26\"],[1.0,\"#f0f921\"]],\"diverging\":[[0,\"#8e0152\"],[0.1,\"#c51b7d\"],[0.2,\"#de77ae\"],[0.3,\"#f1b6da\"],[0.4,\"#fde0ef\"],[0.5,\"#f7f7f7\"],[0.6,\"#e6f5d0\"],[0.7,\"#b8e186\"],[0.8,\"#7fbc41\"],[0.9,\"#4d9221\"],[1,\"#276419\"]]},\"xaxis\":{\"gridcolor\":\"#283442\",\"linecolor\":\"#506784\",\"ticks\":\"\",\"title\":{\"standoff\":15},\"zerolinecolor\":\"#283442\",\"automargin\":true,\"zerolinewidth\":2},\"yaxis\":{\"gridcolor\":\"#283442\",\"linecolor\":\"#506784\",\"ticks\":\"\",\"title\":{\"standoff\":15},\"zerolinecolor\":\"#283442\",\"automargin\":true,\"zerolinewidth\":2},\"scene\":{\"xaxis\":{\"backgroundcolor\":\"rgb(17,17,17)\",\"gridcolor\":\"#506784\",\"linecolor\":\"#506784\",\"showbackground\":true,\"ticks\":\"\",\"zerolinecolor\":\"#C8D4E3\",\"gridwidth\":2},\"yaxis\":{\"backgroundcolor\":\"rgb(17,17,17)\",\"gridcolor\":\"#506784\",\"linecolor\":\"#506784\",\"showbackground\":true,\"ticks\":\"\",\"zerolinecolor\":\"#C8D4E3\",\"gridwidth\":2},\"zaxis\":{\"backgroundcolor\":\"rgb(17,17,17)\",\"gridcolor\":\"#506784\",\"linecolor\":\"#506784\",\"showbackground\":true,\"ticks\":\"\",\"zerolinecolor\":\"#C8D4E3\",\"gridwidth\":2}},\"shapedefaults\":{\"line\":{\"color\":\"#f2f5fa\"}},\"annotationdefaults\":{\"arrowcolor\":\"#f2f5fa\",\"arrowhead\":0,\"arrowwidth\":1},\"geo\":{\"bgcolor\":\"rgb(17,17,17)\",\"landcolor\":\"rgb(17,17,17)\",\"subunitcolor\":\"#506784\",\"showland\":true,\"showlakes\":true,\"lakecolor\":\"rgb(17,17,17)\"},\"title\":{\"x\":0.05},\"updatemenudefaults\":{\"bgcolor\":\"#506784\",\"borderwidth\":0},\"sliderdefaults\":{\"bgcolor\":\"#C8D4E3\",\"borderwidth\":1,\"bordercolor\":\"rgb(17,17,17)\",\"tickwidth\":0},\"mapbox\":{\"style\":\"dark\"}}},\"title\":{\"text\":\"Topic Visualization\"},\"xaxis\":{\"title\":{\"text\":\"Component 1\"}},\"yaxis\":{\"title\":{\"text\":\"Component 2\"}},\"hovermode\":\"closest\"},                        {\"responsive\": true}                    ).then(function(){\n                            \nvar gd = document.getElementById('46daa703-5ef5-43d1-93ec-913807861bec');\nvar x = new MutationObserver(function (mutations, observer) {{\n        var display = window.getComputedStyle(gd).display;\n        if (!display || display === 'none') {{\n            console.log([gd, 'removed!']);\n            Plotly.purge(gd);\n            observer.disconnect();\n        }}\n}});\n\n// Listen for the removal of the full notebook cells\nvar notebookContainer = gd.closest('#notebook-container');\nif (notebookContainer) {{\n    x.observe(notebookContainer, {childList: true});\n}}\n\n// Listen for the clearing of the current output cell\nvar outputEl = gd.closest('.output');\nif (outputEl) {{\n    x.observe(outputEl, {childList: true});\n}}\n\n                        })                };                });            </script>        </div>"
     },
     "metadata": {},
     "output_type": "display_data"
    }
   ],
   "source": [
    "import plotly.graph_objects as go\n",
    "import plotly.express as px\n",
    "\n",
    "fig = go.Figure()\n",
    "\n",
    "for idx, coords in enumerate(tsne_results):\n",
    "    topic_label = f\"Topic {idx}\"\n",
    "    tooltip_info = f\"{topic_label}: {top_words_per_topic[idx]}\"\n",
    "\n",
    "    fig.add_trace(go.Scatter(\n",
    "        x=[coords[0]],\n",
    "        y=[coords[1]],\n",
    "        name=topic_label,\n",
    "        marker=dict(size=normalized_sizes[idx]),  # Use normalized sizes for marker size\n",
    "        text=tooltip_info,\n",
    "        hoverinfo='text'\n",
    "    ))\n",
    "\n",
    "fig.update_layout(title=\"Topic Visualization\",\n",
    "                  xaxis_title=\"Component 1\",\n",
    "                  yaxis_title=\"Component 2\",\n",
    "                  hovermode='closest')\n",
    "fig.show()"
   ],
   "metadata": {
    "collapsed": false,
    "ExecuteTime": {
     "end_time": "2024-05-03T13:59:23.973915Z",
     "start_time": "2024-05-03T13:59:23.871528Z"
    }
   },
   "id": "78acb802ff65174"
  },
  {
   "cell_type": "code",
   "execution_count": 81,
   "outputs": [
    {
     "data": {
      "text/plain": "[['bitch',\n  'fuck',\n  'shit',\n  'nigga',\n  'dick',\n  'hoe',\n  'cause',\n  'ass',\n  'pimp',\n  'pussy'],\n ['motherfucke',\n  'level',\n  'second',\n  'cream',\n  'taste',\n  'jail',\n  'gat',\n  'doin',\n  'fade',\n  'park'],\n ['rhyme',\n  'lyric',\n  'mc',\n  'step',\n  'hip',\n  'sucker',\n  'level',\n  'style',\n  'song',\n  'rap'],\n ['man', 'baby', 'girl', 'love', 'let', 'woman', 'uh', 'hey', 'head', 'feel'],\n ['nigga',\n  'shit',\n  'die',\n  'live',\n  'life',\n  'fuck',\n  'motherfucker',\n  'thug',\n  'la',\n  'gun']]"
     },
     "execution_count": 81,
     "metadata": {},
     "output_type": "execute_result"
    }
   ],
   "source": [
    "model_output['topics']"
   ],
   "metadata": {
    "collapsed": false,
    "ExecuteTime": {
     "end_time": "2024-05-03T13:37:26.859549Z",
     "start_time": "2024-05-03T13:37:26.854238Z"
    }
   },
   "id": "86b5cc8622b26a4d"
  },
  {
   "cell_type": "code",
   "execution_count": 1,
   "outputs": [],
   "source": [],
   "metadata": {
    "collapsed": false,
    "ExecuteTime": {
     "end_time": "2024-05-05T08:48:38.550762Z",
     "start_time": "2024-05-05T08:48:38.541595Z"
    }
   },
   "id": "cb0860abf5300de5"
  },
  {
   "cell_type": "code",
   "execution_count": 88,
   "outputs": [],
   "source": [
    "unique_topics = np.unique(filtered_df['Topic Model'])"
   ],
   "metadata": {
    "collapsed": false,
    "ExecuteTime": {
     "end_time": "2024-05-03T13:59:48.304590Z",
     "start_time": "2024-05-03T13:59:48.282746Z"
    }
   },
   "id": "b969e372007d21d4"
  },
  {
   "cell_type": "code",
   "execution_count": 90,
   "outputs": [
    {
     "name": "stderr",
     "output_type": "stream",
     "text": [
      "/Users/borosabel/lib/python3.9/site-packages/sklearn/manifold/_t_sne.py:795: FutureWarning:\n",
      "\n",
      "The default initialization in TSNE will change from 'random' to 'pca' in 1.2.\n",
      "\n",
      "/Users/borosabel/lib/python3.9/site-packages/sklearn/manifold/_t_sne.py:805: FutureWarning:\n",
      "\n",
      "The default learning rate in TSNE will change from 200.0 to 'auto' in 1.2.\n",
      "\n"
     ]
    }
   ],
   "source": [
    "document_topic_matrix = topic_document_matrix.T\n",
    "\n",
    "# Apply t-SNE to the document-topic matrix\n",
    "tsne = TSNE(n_components=2, random_state=42)\n",
    "document_tsne_results = tsne.fit_transform(document_topic_matrix)"
   ],
   "metadata": {
    "collapsed": false,
    "ExecuteTime": {
     "end_time": "2024-05-03T14:00:13.009134Z",
     "start_time": "2024-05-03T14:00:10.541860Z"
    }
   },
   "id": "69fd2b6901e0374e"
  },
  {
   "cell_type": "code",
   "execution_count": 89,
   "outputs": [
    {
     "name": "stderr",
     "output_type": "stream",
     "text": [
      "/var/folders/99/617f3z715_g8nc26tll89ddc0000gn/T/ipykernel_62803/3588960685.py:3: SettingWithCopyWarning:\n",
      "\n",
      "\n",
      "A value is trying to be set on a copy of a slice from a DataFrame.\n",
      "Try using .loc[row_indexer,col_indexer] = value instead\n",
      "\n",
      "See the caveats in the documentation: https://pandas.pydata.org/pandas-docs/stable/user_guide/indexing.html#returning-a-view-versus-a-copy\n",
      "\n"
     ]
    }
   ],
   "source": [
    "colors = px.colors.qualitative.Set1  # Using Plotly's qualitative color sets\n",
    "topic_color_map = {topic: colors[i % len(colors)] for i, topic in enumerate(unique_topics)}\n",
    "filtered_df['color'] = filtered_df['Topic Model'].map(topic_color_map)"
   ],
   "metadata": {
    "collapsed": false,
    "ExecuteTime": {
     "end_time": "2024-05-03T13:59:48.510036Z",
     "start_time": "2024-05-03T13:59:48.493385Z"
    }
   },
   "id": "15342a8bf1e63a40"
  },
  {
   "cell_type": "code",
   "execution_count": 92,
   "outputs": [
    {
     "data": {
      "application/vnd.plotly.v1+json": {
       "data": [
        {
         "customdata": [
          [
           "Fed_Up_With_the_Bullshit",
           "big_l"
          ],
          [
           "Street_Struck",
           "big_l"
          ],
          [
           "M_V_P_",
           "big_l"
          ],
          [
           "Let__Em_Have_It__L_",
           "big_l"
          ],
          [
           "I_Don_t_Understand_It",
           "big_l"
          ],
          [
           "Lifestylez_Ov_Da_Poor___Dangerous",
           "big_l"
          ],
          [
           "Live_At_P_J__s",
           "beastie_boys"
          ],
          [
           "Pass_The_Mic",
           "beastie_boys"
          ],
          [
           "Jimmy_James",
           "beastie_boys"
          ],
          [
           "Skills_To_Pay_The_Bills",
           "beastie_boys"
          ],
          [
           "Just_A_Test",
           "beastie_boys"
          ],
          [
           "Putting_Shame_In_Your_Game",
           "beastie_boys"
          ],
          [
           "Intergalactic",
           "beastie_boys"
          ],
          [
           "Unite",
           "beastie_boys"
          ],
          [
           "Super_Disco_Breakin_",
           "beastie_boys"
          ],
          [
           "Root_Down",
           "beastie_boys"
          ],
          [
           "B_Boys_Makin__With_The_Freak_Freak",
           "beastie_boys"
          ],
          [
           "Sure_Shot",
           "beastie_boys"
          ],
          [
           "The_Scoop",
           "beastie_boys"
          ],
          [
           "Resolution_Time",
           "beastie_boys"
          ],
          [
           "The_Vibes",
           "beastie_boys"
          ],
          [
           "Root_Down___Free_Zone_Mix___Prunes",
           "beastie_boys"
          ],
          [
           "Mullet_Head",
           "beastie_boys"
          ],
          [
           "Do_It",
           "beastie_boys"
          ],
          [
           "Dope_Little_Song",
           "beastie_boys"
          ],
          [
           "Looking_Down_The_Barrel_of_a_Gun",
           "beastie_boys"
          ],
          [
           "3_Minute_Rule_2",
           "beastie_boys"
          ],
          [
           "The_Sounds_Of_Science_2",
           "beastie_boys"
          ],
          [
           "Shake_Your_Rump",
           "beastie_boys"
          ],
          [
           "High_Plains_Drifter",
           "beastie_boys"
          ],
          [
           "The_Sounds_Of_Science",
           "beastie_boys"
          ],
          [
           "High_Plains_Drifter_2",
           "beastie_boys"
          ],
          [
           "B_Boy_Bouillabaisse",
           "beastie_boys"
          ],
          [
           "Car_Thief",
           "beastie_boys"
          ],
          [
           "Johnny_Ryall",
           "beastie_boys"
          ],
          [
           "Shake_Your_Rump_2",
           "beastie_boys"
          ],
          [
           "Looking_Down_The_Barrel_of_a_Gun_2",
           "beastie_boys"
          ],
          [
           "Motivators",
           "a_tribe_called_quest"
          ],
          [
           "Word_Play",
           "a_tribe_called_quest"
          ],
          [
           "The_Hop",
           "a_tribe_called_quest"
          ],
          [
           "Jam",
           "a_tribe_called_quest"
          ],
          [
           "The_Pressure",
           "a_tribe_called_quest"
          ],
          [
           "1nce_Again",
           "a_tribe_called_quest"
          ],
          [
           "Phony_Rappers",
           "a_tribe_called_quest"
          ],
          [
           "Scenario",
           "a_tribe_called_quest"
          ],
          [
           "Verses_from_the_Abstract",
           "a_tribe_called_quest"
          ],
          [
           "Rap_Promoter",
           "a_tribe_called_quest"
          ],
          [
           "Check_the_Rhime",
           "a_tribe_called_quest"
          ],
          [
           "Excursions",
           "a_tribe_called_quest"
          ],
          [
           "Vibes_and_Stuff",
           "a_tribe_called_quest"
          ],
          [
           "Buggin__Out",
           "a_tribe_called_quest"
          ],
          [
           "Jazz__We_Got_the____",
           "a_tribe_called_quest"
          ],
          [
           "Luck_of_Lucien",
           "a_tribe_called_quest"
          ],
          [
           "After_Hours",
           "a_tribe_called_quest"
          ],
          [
           "We_Can_Get_Down",
           "a_tribe_called_quest"
          ],
          [
           "Lyrics_To_Go",
           "a_tribe_called_quest"
          ],
          [
           "Award_Tour",
           "a_tribe_called_quest"
          ],
          [
           "Oh_My_God",
           "a_tribe_called_quest"
          ],
          [
           "Keep_It_Rollin_",
           "a_tribe_called_quest"
          ],
          [
           "The_Chase_Pt__II",
           "a_tribe_called_quest"
          ],
          [
           "Electric_Relaxation",
           "a_tribe_called_quest"
          ],
          [
           "Can_I_Get_A_Witness",
           "run-dmc"
          ],
          [
           "Hit__Em_Hard",
           "run-dmc"
          ],
          [
           "Big_Willie",
           "run-dmc"
          ],
          [
           "Down_With_The_King",
           "run-dmc"
          ],
          [
           "Wreck_Shop",
           "run-dmc"
          ],
          [
           "3_In_The_Head",
           "run-dmc"
          ],
          [
           "Can_I_Get_it__Yo",
           "run-dmc"
          ],
          [
           "Ooh__Whatcha_Gonna_Do",
           "run-dmc"
          ],
          [
           "Get_Open",
           "run-dmc"
          ],
          [
           "Three_Little_Indians",
           "run-dmc"
          ],
          [
           "In_The_House",
           "run-dmc"
          ],
          [
           "Come_On_Everybody",
           "run-dmc"
          ],
          [
           "What_s_Next",
           "run-dmc"
          ],
          [
           "Soul_To_Rock_And_Roll",
           "run-dmc"
          ],
          [
           "Mary__Mary",
           "run-dmc"
          ],
          [
           "Papa_Crazy",
           "run-dmc"
          ],
          [
           "Run_s_House",
           "run-dmc"
          ],
          [
           "Ragtime",
           "run-dmc"
          ],
          [
           "Tougher_Than_Leather",
           "run-dmc"
          ],
          [
           "Beats_To_The_Rhyme",
           "run-dmc"
          ],
          [
           "They_Call_Us_Run_D_M_C_",
           "run-dmc"
          ],
          [
           "I_m_Not_Going_Out_Like_That",
           "run-dmc"
          ],
          [
           "How_d_Ya_Do_It_Dee",
           "run-dmc"
          ],
          [
           "Radio_Station",
           "run-dmc"
          ],
          [
           "Bob_Your_Head",
           "run-dmc"
          ],
          [
           "Naughty",
           "run-dmc"
          ],
          [
           "Groove_To_The_Sound",
           "run-dmc"
          ],
          [
           "Don_t_Stop",
           "run-dmc"
          ],
          [
           "What_s_It_All_About_",
           "run-dmc"
          ],
          [
           "The_Ave_",
           "run-dmc"
          ],
          [
           "Word_Is_Born",
           "run-dmc"
          ],
          [
           "Party_Time",
           "run-dmc"
          ],
          [
           "Back_From_Hell",
           "run-dmc"
          ],
          [
           "Not_Just_Another_Groove",
           "run-dmc"
          ],
          [
           "Pause",
           "run-dmc"
          ],
          [
           "Faces",
           "run-dmc"
          ],
          [
           "22_Two_s",
           "jay-z"
          ],
          [
           "Can_I_Live",
           "jay-z"
          ],
          [
           "One_Time_4_Your_Mind",
           "nas"
          ],
          [
           "It_Ain_t_Hard_To_Tell",
           "nas"
          ],
          [
           "N_Y__State_Of_Mind",
           "nas"
          ],
          [
           "Halftime",
           "nas"
          ],
          [
           "Get_Down",
           "ll_cool_j"
          ],
          [
           "My_Rhyme_Ain_t_Done",
           "ll_cool_j"
          ],
          [
           "_357_Break_It_On_Down",
           "ll_cool_j"
          ],
          [
           "The_Do_Wop",
           "ll_cool_j"
          ],
          [
           "The_Breakthrough",
           "ll_cool_j"
          ],
          [
           "I_m_Bad",
           "ll_cool_j"
          ],
          [
           "Go_Cut_Creator_Go",
           "ll_cool_j"
          ],
          [
           "Funkadelic_Relic",
           "ll_cool_j"
          ],
          [
           "Diggy_Down",
           "ll_cool_j"
          ],
          [
           "Crossroads",
           "ll_cool_j"
          ],
          [
           "Straight_From_Queens",
           "ll_cool_j"
          ],
          [
           "_NFA__No_Frontin_Allowed",
           "ll_cool_j"
          ],
          [
           "Ain_t_No_Stoppin__This",
           "ll_cool_j"
          ],
          [
           "Jealous",
           "ll_cool_j"
          ],
          [
           "Def_Jam_In_The_Motherland",
           "ll_cool_j"
          ],
          [
           "Crime_Stories",
           "ll_cool_j"
          ],
          [
           "Nitro",
           "ll_cool_j"
          ],
          [
           "It_Gets_No_Rougher",
           "ll_cool_j"
          ],
          [
           "Why_Do_You_Think_They_Call_It_Dope_",
           "ll_cool_j"
          ],
          [
           "Jack_The_Ripper",
           "ll_cool_j"
          ],
          [
           "Droppin_Em",
           "ll_cool_j"
          ],
          [
           "1_900_L_L__Cool_J",
           "ll_cool_j"
          ],
          [
           "Clap_Your_Hands",
           "ll_cool_j"
          ],
          [
           "Strictly_Business",
           "ll_cool_j"
          ],
          [
           "The_Power_Of_God",
           "ll_cool_j"
          ],
          [
           "Murdergram",
           "ll_cool_j"
          ],
          [
           "Farmers_Blvd___Our_Anthem_",
           "ll_cool_j"
          ],
          [
           "The_Boomin__System",
           "ll_cool_j"
          ],
          [
           "To_Da_Break_Of_Dawn",
           "ll_cool_j"
          ],
          [
           "Eat__Em_Up_L_Chill",
           "ll_cool_j"
          ],
          [
           "Peer_Pressure__The_Large_Professor_Remix_",
           "mobb_deep"
          ],
          [
           "Flavor_For_The_Non_Believes",
           "mobb_deep"
          ],
          [
           "Paid_In_Full",
           "erikb_&_rakim"
          ],
          [
           "My_Melody",
           "erikb_&_rakim"
          ],
          [
           "As_The_Rhyme_Goes_On",
           "erikb_&_rakim"
          ],
          [
           "Eric_B_Is_President",
           "erikb_&_rakim"
          ],
          [
           "I_Know_You_Got_Soul",
           "erikb_&_rakim"
          ],
          [
           "I_Ain_t_No_Joke",
           "erikb_&_rakim"
          ],
          [
           "Set__Em_Straight",
           "erikb_&_rakim"
          ],
          [
           "In_The_Ghetto",
           "erikb_&_rakim"
          ],
          [
           "Untouchables",
           "erikb_&_rakim"
          ],
          [
           "Step_Back",
           "erikb_&_rakim"
          ],
          [
           "Run_For_Cover",
           "erikb_&_rakim"
          ],
          [
           "Keep__em_Eager_To_Listen",
           "erikb_&_rakim"
          ],
          [
           "No_Omega",
           "erikb_&_rakim"
          ],
          [
           "What_s_On_Your_Mind_",
           "erikb_&_rakim"
          ],
          [
           "Teach_The_Children",
           "erikb_&_rakim"
          ],
          [
           "Kick_Along",
           "erikb_&_rakim"
          ],
          [
           "What_s_Going_On_",
           "erikb_&_rakim"
          ],
          [
           "The_Punisher",
           "erikb_&_rakim"
          ],
          [
           "Casualties_Of_War",
           "erikb_&_rakim"
          ],
          [
           "Know_The_Ledge__Juice_",
           "erikb_&_rakim"
          ],
          [
           "Lyrics_Of_Fury",
           "erikb_&_rakim"
          ],
          [
           "Follow_The_Leader",
           "erikb_&_rakim"
          ],
          [
           "Put_Your_Hands_Together",
           "erikb_&_rakim"
          ],
          [
           "Microphone_Fiend",
           "erikb_&_rakim"
          ],
          [
           "Musical_Massacre",
           "erikb_&_rakim"
          ],
          [
           "To_The_Listeners",
           "erikb_&_rakim"
          ],
          [
           "Terminator_X_To_The_Edge_Of_Panic",
           "public_enemy"
          ],
          [
           "Louder_Than_A_Bomb",
           "public_enemy"
          ],
          [
           "Prophets_Of_Rage",
           "public_enemy"
          ],
          [
           "Black_Steel_In_The_Hour_Of_Chaos",
           "public_enemy"
          ],
          [
           "Don_t_Believe_The_Hype",
           "public_enemy"
          ],
          [
           "Cold_Lampin__With_Flavor",
           "public_enemy"
          ],
          [
           "Rebel_Without_A_Pause",
           "public_enemy"
          ],
          [
           "Bring_The_Noise",
           "public_enemy"
          ],
          [
           "B_Side_Wins_Again",
           "public_enemy"
          ],
          [
           "Welcome_To_The_Terrordome",
           "public_enemy"
          ],
          [
           "Anti_Nigger_Machine",
           "public_enemy"
          ],
          [
           "Fight_The_Power",
           "public_enemy"
          ],
          [
           "Who_Stole_The_Soul",
           "public_enemy"
          ],
          [
           "You_re_Gonna_Get_Yours",
           "public_enemy"
          ],
          [
           "Miuzi_Weighs_A_Ton",
           "public_enemy"
          ],
          [
           "Public_Enemy_No__1",
           "public_enemy"
          ],
          [
           "Timebomb",
           "public_enemy"
          ],
          [
           "MPE",
           "public_enemy"
          ],
          [
           "Too_Much_Posse",
           "public_enemy"
          ],
          [
           "I_Ain_t_Mad_At_All",
           "public_enemy"
          ],
          [
           "Thin_Line_Between_Law_And_Rape",
           "public_enemy"
          ],
          [
           "Give_It_Up",
           "public_enemy"
          ],
          [
           "Live_And_Undrugged_Pt__1___2",
           "public_enemy"
          ],
          [
           "What_Side_You_On_",
           "public_enemy"
          ],
          [
           "What_Kind_Of_Power_We_Got_",
           "public_enemy"
          ],
          [
           "Race_Against_Time",
           "public_enemy"
          ],
          [
           "Move",
           "public_enemy"
          ],
          [
           "A_Letter_To_The_New_York_Post",
           "public_enemy"
          ],
          [
           "How_To_Kill_A_Radio_Consultant",
           "public_enemy"
          ],
          [
           "Nighttrain",
           "public_enemy"
          ],
          [
           "Can_t_Truss_It",
           "public_enemy"
          ],
          [
           "Bring_Tha_Noize",
           "public_enemy"
          ],
          [
           "Da_Mystery_Of_Chessboxin_",
           "wu_tang_clan"
          ],
          [
           "Do_the_Bus_a_Bus",
           "busta_rhymes"
          ],
          [
           "Ill_Vibe",
           "busta_rhymes"
          ],
          [
           "Eye_Patch",
           "de_la_soul"
          ],
          [
           "Stone_Age",
           "de_la_soul"
          ],
          [
           "I_Am_I_Be",
           "de_la_soul"
          ],
          [
           "Ego_Trippin___Part_Two_",
           "de_la_soul"
          ],
          [
           "Sh__Fe__MC_s",
           "de_la_soul"
          ],
          [
           "Mindstate",
           "de_la_soul"
          ],
          [
           "Lovely_How_I_Let_My_Mind_Float",
           "de_la_soul"
          ],
          [
           "Plug_Tunin__Home_Demo_",
           "de_la_soul"
          ],
          [
           "Say_No_Go",
           "de_la_soul"
          ],
          [
           "Freedom_Of_Speak__Home_Demo_",
           "de_la_soul"
          ],
          [
           "This_Is_A_Recording_For_Living_In_A_Fulltime_Era__L_I_F_E__",
           "de_la_soul"
          ],
          [
           "The_Magic_Number",
           "de_la_soul"
          ],
          [
           "Ghetto_Thang",
           "de_la_soul"
          ],
          [
           "Plug_Tunin___Last_Chance_To_Comprehend_",
           "de_la_soul"
          ],
          [
           "Brakes",
           "de_la_soul"
          ],
          [
           "Dog_Eat_Dog",
           "de_la_soul"
          ],
          [
           "4_More",
           "de_la_soul"
          ],
          [
           "Sunshine",
           "de_la_soul"
          ],
          [
           "Wonce_Again_Long_Island",
           "de_la_soul"
          ],
          [
           "Long_Island_Degrees",
           "de_la_soul"
          ],
          [
           "Down_Syndrome",
           "de_la_soul"
          ],
          [
           "Intro__Stakes_Is_High_",
           "de_la_soul"
          ],
          [
           "Supa_Emcees",
           "de_la_soul"
          ],
          [
           "Millie_Pulled_A_Pistol_On_Santa",
           "de_la_soul"
          ],
          [
           "Johnny_s_Dead_AKA_Vincent_Mason__Live_From_The_BK_Lounge_",
           "de_la_soul"
          ],
          [
           "Afro_Connections_At_A_Hi_5__In_The_Eyes_Of_The_Hoodlum_",
           "de_la_soul"
          ],
          [
           "Kicked_Out_The_House",
           "de_la_soul"
          ],
          [
           "Who_Do_U_Worship_",
           "de_la_soul"
          ],
          [
           "I_ll_Be_Missing_You",
           "puff_daddy"
          ],
          [
           "Premier___The_Guru",
           "gang_starr"
          ],
          [
           "Gusto",
           "gang_starr"
          ],
          [
           "Gotch_U",
           "gang_starr"
          ],
          [
           "Cause_And_Effect",
           "gang_starr"
          ],
          [
           "Knowledge",
           "gang_starr"
          ],
          [
           "2_Steps_Ahead",
           "gang_starr"
          ],
          [
           "Positivity__Remix_",
           "gang_starr"
          ],
          [
           "Code_Of_The_Streets",
           "gang_starr"
          ],
          [
           "The_Planet",
           "gang_starr"
          ],
          [
           "Comin__For_Datazz",
           "gang_starr"
          ],
          [
           "Suckas_Need_Bodyguards",
           "gang_starr"
          ],
          [
           "DWYCK",
           "gang_starr"
          ],
          [
           "Speak_Ya_Clout",
           "gang_starr"
          ],
          [
           "Now_You_re_Mine",
           "gang_starr"
          ],
          [
           "Mass_Appeal",
           "gang_starr"
          ],
          [
           "Take_A_Rest",
           "gang_starr"
          ],
          [
           "Check_The_Technique",
           "gang_starr"
          ],
          [
           "Form_Of_Intellect",
           "gang_starr"
          ],
          [
           "Just_To_Get_A_Rep__LP_version_",
           "gang_starr"
          ],
          [
           "Here_Today__Gone_Tomorrow",
           "gang_starr"
          ],
          [
           "Precisely_The_Right_Rhymes",
           "gang_starr"
          ],
          [
           "Step_In_The_Arena",
           "gang_starr"
          ],
          [
           "Stay_Tuned",
           "gang_starr"
          ],
          [
           "I_m_The_Man",
           "gang_starr"
          ],
          [
           "Take_It_Personal",
           "gang_starr"
          ],
          [
           "The_Illest_Brother",
           "gang_starr"
          ],
          [
           "No_Shame_In_My_Game",
           "gang_starr"
          ],
          [
           "Flip_The_Script",
           "gang_starr"
          ],
          [
           "Much_Too_Much__Mack_A_Mil_",
           "gang_starr"
          ],
          [
           "Hardcore_Composer",
           "gang_starr"
          ],
          [
           "B_Y_S_",
           "gang_starr"
          ],
          [
           "Soliloquy_Of_Chaos",
           "gang_starr"
          ],
          [
           "2_Deep",
           "gang_starr"
          ],
          [
           "That_s_When_Ya_Lost",
           "soulsofmischief"
          ],
          [
           "93__Til_Infinity",
           "soulsofmischief"
          ],
          [
           "Never_No_More",
           "soulsofmischief"
          ],
          [
           "Anything_Can_Happen",
           "soulsofmischief"
          ],
          [
           "Make_Your_Mind_Up",
           "soulsofmischief"
          ],
          [
           "Yeah_It_Was_You",
           "soulsofmischief"
          ],
          [
           "Rock_It_Like_That",
           "soulsofmischief"
          ],
          [
           "No_Man_s_Land",
           "soulsofmischief"
          ],
          [
           "Freshdopedope",
           "soulsofmischief"
          ],
          [
           "Ya_Don_t_Stop",
           "soulsofmischief"
          ],
          [
           "Bumpshit",
           "soulsofmischief"
          ],
          [
           "Fa_Sho_Fo_Real",
           "soulsofmischief"
          ],
          [
           "Dirty_D_s_Theme__Hoe_Or_Die_",
           "soulsofmischief"
          ],
          [
           "L_A__Is_The_Place",
           "nwa"
          ],
          [
           "Express_Yourself",
           "nwa"
          ],
          [
           "Quiet_On_Tha_Set",
           "nwa"
          ],
          [
           "If_It_Ain_t_Ruff",
           "nwa"
          ],
          [
           "That_s_How_It_Is",
           "coolio"
          ],
          [
           "Bright_As_The_Sun",
           "coolio"
          ],
          [
           "For_My_Sistas",
           "coolio"
          ],
          [
           "I_Remember",
           "coolio"
          ],
          [
           "On_My_Way_To_Harlem",
           "coolio"
          ],
          [
           "The_Devil_Is_Dope",
           "coolio"
          ],
          [
           "Can_I_Get_Down_One_Time",
           "coolio"
          ],
          [
           "Us",
           "ice_cube"
          ],
          [
           "A_Bird_In_The_Hand",
           "ice_cube"
          ],
          [
           "Color_Blind",
           "ice_cube"
          ],
          [
           "Jackin_For_Beats",
           "ice_cube"
          ],
          [
           "Rollin__Wit_The_Lench_Mob",
           "ice_cube"
          ],
          [
           "The_Bomb",
           "ice_cube"
          ],
          [
           "I_Ain_t_Trippin_",
           "too_short"
          ],
          [
           "Life_Is____Too_Short",
           "too_short"
          ],
          [
           "Rhymes",
           "too_short"
          ],
          [
           "City_Of_Dope",
           "too_short"
          ],
          [
           "Nobody_Does_It_Better",
           "too_short"
          ],
          [
           "Mack_Attack",
           "too_short"
          ],
          [
           "Partytime",
           "too_short"
          ],
          [
           "Dead_Or_Alive",
           "too_short"
          ],
          [
           "The_Ghetto",
           "too_short"
          ],
          [
           "In_The_Oaktown",
           "too_short"
          ],
          [
           "Short_But_Funky",
           "too_short"
          ],
          [
           "Short_Dog_s_In_The_House",
           "too_short"
          ],
          [
           "It_s_Your_Life",
           "too_short"
          ],
          [
           "Lodi_Dodi",
           "snoop_dogg"
          ],
          [
           "Vapors",
           "snoop_dogg"
          ],
          [
           "Holler_If_Ya__Hear_Me__New_York_Stretch_Mix_",
           "pac"
          ],
          [
           "Holla_If_Ya_Hear_Me",
           "pac"
          ],
          [
           "The_Streetz_R_Deathrow",
           "pac"
          ],
          [
           "Guess_Who_s_Back",
           "pac"
          ],
          [
           "Hold_Ya_Head",
           "pac"
          ],
          [
           "If_My_Homie_Calls",
           "pac"
          ],
          [
           "Rebel_Of_The_Underground",
           "pac"
          ],
          [
           "Teardrops_And_Closed_Caskets",
           "pac"
          ],
          [
           "Make_A_Move",
           "cypress_hill"
          ],
          [
           "Illusions",
           "cypress_hill"
          ],
          [
           "3_Lil__Putos",
           "cypress_hill"
          ],
          [
           "Break_It_Up",
           "cypress_hill"
          ],
          [
           "Latin_Lingo",
           "cypress_hill"
          ],
          [
           "Hand_On_The_Pump",
           "cypress_hill"
          ],
          [
           "How_I_Could_Just_Kill_A_Man",
           "cypress_hill"
          ],
          [
           "8_Ball",
           "eazy_e"
          ],
          [
           "No_More___s",
           "eazy_e"
          ],
          [
           "We_Want_Eazy",
           "eazy_e"
          ],
          [
           "Eazy_Er_Said_Than_Dunn_2",
           "eazy_e"
          ],
          [
           "Radio",
           "eazy_e"
          ],
          [
           "Radio_2",
           "eazy_e"
          ],
          [
           "Eazy_Er_Said_Than_Dunn",
           "eazy_e"
          ],
          [
           "I_mma_Break_It_Down",
           "eazy_e"
          ],
          [
           "No_More___s_2",
           "eazy_e"
          ],
          [
           "The_Way_We_Swing",
           "digital_underground"
          ],
          [
           "Rhymin__On_The_Funk",
           "digital_underground"
          ],
          [
           "The_Danger_Zone",
           "digital_underground"
          ],
          [
           "Flowin__On_The_D_Line",
           "digital_underground"
          ],
          [
           "Family_Of_The_Underground",
           "digital_underground"
          ],
          [
           "Tales_Of_The_Funky",
           "digital_underground"
          ],
          [
           "The_Return_Of_The_Crazy_One",
           "digital_underground"
          ],
          [
           "Holly_Wanstaho",
           "digital_underground"
          ],
          [
           "Dope_A_Delic__Do_U_B_Leeve_In_D_Flo__",
           "digital_underground"
          ],
          [
           "Stylin_",
           "digital_underground"
          ],
          [
           "Walk_Real_Kool",
           "digital_underground"
          ],
          [
           "This_D_J_",
           "warren_g_"
          ],
          [
           "And_Ya_Don_t_Stop",
           "warren_g_"
          ],
          [
           "Super_Soul_Sis",
           "warren_g_"
          ],
          [
           "Regulate",
           "warren_g_"
          ],
          [
           "Power",
           "ice-t"
          ],
          [
           "I_m_Your_Pusher",
           "ice-t"
          ],
          [
           "High_Rollers",
           "ice-t"
          ],
          [
           "Grand_Larceny",
           "ice-t"
          ],
          [
           "Personal",
           "ice-t"
          ],
          [
           "The_Syndicate",
           "ice-t"
          ],
          [
           "Drama",
           "ice-t"
          ],
          [
           "Heartbeat",
           "ice-t"
          ],
          [
           "Radio_Suckers",
           "ice-t"
          ],
          [
           "Dear_Homie",
           "ice-t"
          ],
          [
           "The_Lane",
           "ice-t"
          ],
          [
           "Pain",
           "ice-t"
          ],
          [
           "Intro_Rhyme_Pays",
           "ice-t"
          ],
          [
           "6_n_The_Mornin_",
           "ice-t"
          ],
          [
           "Make_it_Funky",
           "ice-t"
          ],
          [
           "Squeeze_the_Trigger",
           "ice-t"
          ],
          [
           "409",
           "ice-t"
          ],
          [
           "Somebody_Gotta_Do_It__Pimpin__Ain_t_Easy______12_Mix_",
           "ice-t"
          ],
          [
           "Mic_Contract",
           "ice-t"
          ],
          [
           "Pulse_Of_The_Rhyme",
           "ice-t"
          ],
          [
           "Mind_Over_Matter",
           "ice-t"
          ],
          [
           "O_G__Original_Gangster",
           "ice-t"
          ],
          [
           "The_Tower",
           "ice-t"
          ],
          [
           "Lifestyles_Of_The_Rich_And_Infamous",
           "ice-t"
          ],
          [
           "New_Jack_Hustler",
           "ice-t"
          ],
          [
           "Message_To_The_Soldier",
           "ice-t"
          ],
          [
           "I_Ain_t_New_To_This",
           "ice-t"
          ],
          [
           "Watch_The_Ice_Break",
           "ice-t"
          ],
          [
           "Just_Don_t_Matter",
           "the_pharcyde"
          ],
          [
           "Bullshit",
           "the_pharcyde"
          ],
          [
           "Drop",
           "the_pharcyde"
          ],
          [
           "Y_",
           "the_pharcyde"
          ],
          [
           "It_s_Jiggaboo_Time__Skit_",
           "the_pharcyde"
          ],
          [
           "Return_Of_The_B_Boy",
           "the_pharcyde"
          ],
          [
           "Blunt_Time",
           "Dr.Dre"
          ],
          [
           "L_A_W___Lyrical_Assault_Weapon_",
           "Dr.Dre"
          ],
          [
           "Lil__Ghetto_Boy",
           "Dr.Dre"
          ]
         ],
         "hovertemplate": "Topic=2<br>x=%{x}<br>y=%{y}<br>Song=%{customdata[0]}<br>Artist=%{customdata[1]}<extra></extra>",
         "legendgroup": "2",
         "marker": {
          "color": "#636efa",
          "symbol": "circle",
          "line": {
           "color": "DarkSlateGrey",
           "width": 1
          },
          "size": 10
         },
         "mode": "markers",
         "name": "2",
         "showlegend": true,
         "x": [
          -14.865596771240234,
          -41.782958984375,
          -12.001968383789062,
          -19.662593841552734,
          -50.394657135009766,
          0.990284264087677,
          1.3926475048065186,
          -31.25704002380371,
          -29.82164764404297,
          -43.72427749633789,
          -12.27734088897705,
          -40.02830123901367,
          -10.409820556640625,
          -2.116442918777466,
          -11.204731941223145,
          -41.59154510498047,
          -15.539097785949707,
          -35.6218376159668,
          -31.392122268676758,
          -30.453664779663086,
          -6.67003870010376,
          -14.399185180664062,
          -0.2768239676952362,
          -6.232290267944336,
          -1.6930726766586304,
          2.4505374431610107,
          -13.005732536315918,
          -27.170377731323242,
          -44.82216262817383,
          -3.5285191535949707,
          -22.787508010864258,
          -4.018777370452881,
          -33.81023406982422,
          -14.644586563110352,
          -24.728408813476562,
          -43.646305084228516,
          -8.936732292175293,
          -27.644733428955078,
          -0.879275918006897,
          -12.508448600769043,
          -28.66206932067871,
          -8.43107795715332,
          -31.81195640563965,
          -18.28647232055664,
          -13.379515647888184,
          -31.559261322021484,
          -13.26573371887207,
          -48.43120193481445,
          -31.43516731262207,
          -30.684917449951172,
          -30.382156372070312,
          -33.31451416015625,
          -7.503593921661377,
          2.241650342941284,
          -29.54845428466797,
          -40.10087966918945,
          -24.9127140045166,
          -4.13026237487793,
          -10.800517082214355,
          -38.249794006347656,
          -13.434597969055176,
          -32.63404846191406,
          -17.059545516967773,
          -41.974525451660156,
          -48.758731842041016,
          -38.9694709777832,
          -33.31989669799805,
          -45.015567779541016,
          -25.67361831665039,
          -44.18003463745117,
          -42.5211296081543,
          -13.571775436401367,
          -37.42696762084961,
          -9.20693302154541,
          -49.030853271484375,
          -1.2056479454040527,
          -20.301860809326172,
          -34.62253189086914,
          -19.34258270263672,
          -26.793628692626953,
          -48.6859245300293,
          -2.142066240310669,
          -47.35247039794922,
          -47.427955627441406,
          -25.385055541992188,
          -15.115928649902344,
          -35.812721252441406,
          -17.030832290649414,
          -32.89200973510742,
          -10.469694137573242,
          -3.944899082183838,
          -7.986306190490723,
          -34.56599044799805,
          -4.430660247802734,
          -44.08882522583008,
          -29.829296112060547,
          -15.58896541595459,
          -10.629322052001953,
          3.73842191696167,
          -14.888260841369629,
          -33.96504211425781,
          -21.76569366455078,
          -38.49873733520508,
          -49.421817779541016,
          -31.477737426757812,
          -49.875579833984375,
          -34.76933670043945,
          -39.25139617919922,
          -44.60198974609375,
          -51.93122100830078,
          -18.854305267333984,
          -15.223332405090332,
          -39.30655288696289,
          -31.005903244018555,
          -45.535499572753906,
          -18.440221786499023,
          -32.906707763671875,
          -50.79031753540039,
          -41.51279830932617,
          -50.8873176574707,
          -41.589908599853516,
          -48.66541290283203,
          -50.446250915527344,
          -48.26680374145508,
          -28.132492065429688,
          -15.854557991027832,
          -13.707549095153809,
          -13.544853210449219,
          -29.523962020874023,
          -16.157155990600586,
          -29.82694435119629,
          -42.21369171142578,
          -31.5621337890625,
          -10.104781150817871,
          -13.330081939697266,
          -12.705214500427246,
          -48.31581497192383,
          -45.1842155456543,
          0.9007431864738464,
          -46.56667709350586,
          -44.469078063964844,
          -39.914154052734375,
          -33.04047775268555,
          -44.49203109741211,
          -45.44902801513672,
          -51.00222396850586,
          -40.983951568603516,
          -49.62223815917969,
          -16.337905883789062,
          0.8162792921066284,
          -44.33871078491211,
          -7.1181817054748535,
          -42.55068588256836,
          -5.816451072692871,
          -20.73728370666504,
          -40.995052337646484,
          -37.52324295043945,
          -47.493892669677734,
          -44.49490737915039,
          -35.435333251953125,
          -37.00825881958008,
          1.0212122201919556,
          -34.465721130371094,
          -22.829572677612305,
          -30.593528747558594,
          -41.56502914428711,
          -34.12291717529297,
          -38.58612823486328,
          -47.992698669433594,
          -46.765010833740234,
          -28.185213088989258,
          1.239810824394226,
          -22.700706481933594,
          -1.2955710887908936,
          -42.24705123901367,
          -51.78793716430664,
          -31.966402053833008,
          -15.958025932312012,
          -29.180591583251953,
          -26.274049758911133,
          -1.3279671669006348,
          -8.806584358215332,
          -1.648634672164917,
          -26.979337692260742,
          -3.5440988540649414,
          -40.88252639770508,
          -40.837890625,
          -3.0988216400146484,
          -25.029680252075195,
          -33.817283630371094,
          -24.09486961364746,
          -26.18383026123047,
          -48.553829193115234,
          -20.770986557006836,
          -18.555797576904297,
          -19.511383056640625,
          -0.04318130761384964,
          -5.3907694816589355,
          -20.020017623901367,
          -32.48228073120117,
          -9.422075271606445,
          -34.52692413330078,
          -29.221818923950195,
          0.24623914062976837,
          -29.4708251953125,
          -6.751915454864502,
          -40.81767654418945,
          -0.6439433693885803,
          -2.968555450439453,
          -20.429691314697266,
          -16.019865036010742,
          -25.097171783447266,
          -15.563996315002441,
          -16.070343017578125,
          -20.13520050048828,
          -14.279457092285156,
          -8.454720497131348,
          -2.3761403560638428,
          -7.463311195373535,
          -11.085945129394531,
          -4.492064476013184,
          -31.033199310302734,
          2.213474750518799,
          -6.1403045654296875,
          -17.236906051635742,
          -1.0555230379104614,
          -9.969380378723145,
          -35.49468994140625,
          -33.14589309692383,
          0.7038904428482056,
          -19.883882522583008,
          -15.502569198608398,
          -1.154859185218811,
          -20.02884292602539,
          -17.3438663482666,
          -40.659706115722656,
          -5.762320518493652,
          -18.50200843811035,
          -13.121005058288574,
          -31.133352279663086,
          -45.80998992919922,
          -29.47340965270996,
          -35.86355972290039,
          -15.51147174835205,
          -4.681254863739014,
          -36.579010009765625,
          -38.29267120361328,
          -37.01042938232422,
          -17.934730529785156,
          -24.1893253326416,
          -26.869844436645508,
          -27.006582260131836,
          -38.23664474487305,
          -15.03770637512207,
          -31.763988494873047,
          -33.11310577392578,
          -37.42761993408203,
          -14.676220893859863,
          -21.298097610473633,
          -7.21705961227417,
          1.765794038772583,
          -5.585095405578613,
          -17.675209045410156,
          -4.536524295806885,
          -29.187522888183594,
          -13.674423217773438,
          -13.876614570617676,
          -12.489251136779785,
          -14.998381614685059,
          -17.610382080078125,
          -9.56303596496582,
          -13.57545280456543,
          -37.42650604248047,
          -39.89994812011719,
          -33.98187255859375,
          -5.85917329788208,
          -13.274181365966797,
          -0.9044486284255981,
          -30.395387649536133,
          -3.0970609188079834,
          -13.557756423950195,
          -3.2603578567504883,
          -1.2951970100402832,
          -0.395568311214447,
          -9.977001190185547,
          -13.36704158782959,
          -12.36733627319336,
          -25.431095123291016,
          -28.33978271484375,
          -35.499053955078125,
          -49.26595687866211,
          -30.523128509521484,
          -37.18588638305664,
          -15.274198532104492,
          -30.659170150756836,
          -42.7265739440918,
          -31.18186378479004,
          -44.504478454589844,
          -21.93812370300293,
          -24.533781051635742,
          -30.979490280151367,
          -17.260610580444336,
          -32.36479568481445,
          -22.05011558532715,
          -17.002840042114258,
          2.2752628326416016,
          -4.539064884185791,
          2.9083735942840576,
          -31.5976505279541,
          -26.512842178344727,
          1.6920785903930664,
          -7.106142997741699,
          -1.1562855243682861,
          -15.54796028137207,
          -11.527929306030273,
          -7.079457759857178,
          2.0817575454711914,
          -12.994168281555176,
          -4.042733192443848,
          -1.1404074430465698,
          -1.034104347229004,
          -17.562929153442383,
          -49.92878723144531,
          -42.7227897644043,
          -25.57143783569336,
          -33.26749801635742,
          -4.0002546310424805,
          -51.44367980957031,
          -33.63887405395508,
          -17.987028121948242,
          -14.867474555969238,
          -17.449533462524414,
          -6.975613594055176,
          -1.5772072076797485,
          1.0055367946624756,
          -17.40557861328125,
          -41.906333923339844,
          -8.99660587310791,
          2.099959373474121,
          -25.461225509643555,
          -18.62798309326172,
          -9.166747093200684,
          -37.1986198425293,
          -43.847198486328125,
          -7.886470794677734,
          -44.06040954589844,
          -44.668724060058594,
          -45.85381317138672,
          -23.582448959350586,
          -51.04605484008789,
          -49.24349594116211,
          -4.157905101776123,
          0.6919955611228943,
          -5.900759220123291,
          -51.770931243896484,
          -17.67404556274414,
          -45.55309295654297,
          -43.92841339111328,
          -47.35749053955078,
          -8.632424354553223,
          -27.458484649658203,
          -20.11068344116211,
          -46.09822082519531,
          -18.516902923583984,
          -9.98622989654541,
          -29.836612701416016,
          -18.295551300048828,
          -31.71719741821289,
          -19.451770782470703,
          -15.43982219696045,
          -17.399272918701172,
          -13.320932388305664,
          -4.787580966949463,
          -4.336258888244629,
          -13.834476470947266,
          -42.0870361328125,
          -2.503635883331299,
          -38.42638397216797,
          -17.41562843322754
         ],
         "xaxis": "x",
         "y": [
          -7.202097415924072,
          -11.932154655456543,
          0.838816225528717,
          -4.8848958015441895,
          -12.622610092163086,
          -7.001310348510742,
          -7.03195858001709,
          2.9804012775421143,
          0.591248095035553,
          -7.577228546142578,
          9.482400894165039,
          -5.071995735168457,
          4.096316814422607,
          1.9061182737350464,
          2.673201084136963,
          -8.896342277526855,
          -8.460773468017578,
          1.4596103429794312,
          3.60019850730896,
          2.176819324493408,
          14.356805801391602,
          -7.525014400482178,
          -8.667363166809082,
          12.893924713134766,
          8.579158782958984,
          1.2720882892608643,
          0.5810357332229614,
          -0.9379374384880066,
          -5.989666938781738,
          6.522411346435547,
          2.461298704147339,
          4.032917499542236,
          1.8516035079956055,
          -0.9796726107597351,
          1.6128543615341187,
          -10.796592712402344,
          6.844702243804932,
          0.17755034565925598,
          1.9786874055862427,
          8.914894104003906,
          -1.4319525957107544,
          5.523566722869873,
          -7.2696661949157715,
          -8.26583480834961,
          6.569521427154541,
          1.4148191213607788,
          -0.2350781261920929,
          -8.900362968444824,
          -4.655077934265137,
          3.7079660892486572,
          -0.6394136548042297,
          2.444958209991455,
          13.716885566711426,
          4.016270637512207,
          -2.298067331314087,
          -8.182336807250977,
          -2.9391846656799316,
          8.103372573852539,
          -1.0500563383102417,
          -0.4062959551811218,
          10.256693840026855,
          -0.8321601748466492,
          -4.053944110870361,
          -10.968121528625488,
          -10.984945297241211,
          -6.249759674072266,
          -0.22100451588630676,
          -10.661375999450684,
          0.38117715716362,
          -7.764374256134033,
          -7.7566022872924805,
          -0.6105947494506836,
          -9.099786758422852,
          14.809381484985352,
          -10.871745109558105,
          6.469235897064209,
          -2.8942577838897705,
          1.3983222246170044,
          2.1514172554016113,
          0.37767332792282104,
          -8.625859260559082,
          4.784920692443848,
          -10.142759323120117,
          -12.260902404785156,
          1.754221796989441,
          9.880456924438477,
          -0.18227094411849976,
          0.41743773221969604,
          -7.319881439208984,
          5.651522159576416,
          -3.9070992469787598,
          6.66563081741333,
          0.8081434369087219,
          7.544842720031738,
          -11.766915321350098,
          -4.939329147338867,
          -0.13953647017478943,
          -2.3258121013641357,
          -2.4040560722351074,
          3.353020429611206,
          -2.467512845993042,
          -5.269220352172852,
          -9.362581253051758,
          -12.712258338928223,
          -0.24745236337184906,
          -11.693099021911621,
          0.33097079396247864,
          -11.177286148071289,
          -9.125550270080566,
          -13.433948516845703,
          1.6608459949493408,
          6.42617654800415,
          -9.733926773071289,
          0.4447214901447296,
          -8.179266929626465,
          3.7817509174346924,
          2.842222213745117,
          -10.53796100616455,
          -4.838928699493408,
          -11.754815101623535,
          -9.736221313476562,
          -12.507471084594727,
          -12.36897087097168,
          -11.115044593811035,
          -1.1667944192886353,
          8.319570541381836,
          3.022580146789551,
          5.291982650756836,
          -5.669755458831787,
          7.929724216461182,
          -5.975538730621338,
          -9.328042984008789,
          -2.2372612953186035,
          7.838415145874023,
          -9.490545272827148,
          -0.35224148631095886,
          -11.988536834716797,
          -5.499969005584717,
          12.220566749572754,
          -9.888070106506348,
          -5.479910850524902,
          -7.909031867980957,
          1.3972806930541992,
          -12.199386596679688,
          -9.324822425842285,
          -12.050065040588379,
          -10.455799102783203,
          -10.814797401428223,
          3.1531293392181396,
          -6.0070624351501465,
          -8.407133102416992,
          -0.16271013021469116,
          -4.663539409637451,
          7.262710094451904,
          -2.7809383869171143,
          -4.624545574188232,
          -8.043795585632324,
          -8.111244201660156,
          -4.87510871887207,
          -5.076598167419434,
          -4.286168098449707,
          8.68027114868164,
          -4.141842842102051,
          0.8728955984115601,
          -6.65771484375,
          -8.511125564575195,
          -5.2637786865234375,
          -4.387762546539307,
          -9.87005615234375,
          -8.07831859588623,
          1.0530942678451538,
          12.247276306152344,
          2.8256239891052246,
          8.538897514343262,
          -11.202577590942383,
          -11.500701904296875,
          -5.014768600463867,
          7.265546798706055,
          -4.536789894104004,
          -0.05161095783114433,
          4.804559707641602,
          0.22749121487140656,
          7.984193801879883,
          -6.556557655334473,
          3.8750956058502197,
          -10.364217758178711,
          -4.042558193206787,
          2.7816169261932373,
          -0.6077402234077454,
          -3.8840978145599365,
          0.8811529874801636,
          -1.5264431238174438,
          -9.51464557647705,
          -4.531578063964844,
          -7.4930267333984375,
          1.6844148635864258,
          13.040878295898438,
          12.639430046081543,
          -1.4005619287490845,
          -7.227062225341797,
          -1.5749272108078003,
          -4.697629928588867,
          2.6261203289031982,
          8.830957412719727,
          -0.02037273533642292,
          13.829097747802734,
          -6.543424129486084,
          8.43547248840332,
          13.409019470214844,
          1.6474868059158325,
          3.776153564453125,
          -3.7251198291778564,
          12.403120994567871,
          4.512413501739502,
          -1.6493009328842163,
          4.632641315460205,
          -1.0184115171432495,
          2.2392466068267822,
          -3.006934881210327,
          -0.4481954574584961,
          8.009859085083008,
          1.9628698825836182,
          2.046900987625122,
          14.872076988220215,
          -2.0090787410736084,
          9.000354766845703,
          0.28707221150398254,
          -4.698291778564453,
          2.141930103302002,
          11.399120330810547,
          1.866471529006958,
          3.9528114795684814,
          7.280235290527344,
          -3.653768301010132,
          -3.5581467151641846,
          -5.417811870574951,
          2.572504758834839,
          -3.6577811241149902,
          -2.0215671062469482,
          -6.675535202026367,
          -10.386017799377441,
          -2.902958393096924,
          -4.624307155609131,
          8.918100357055664,
          6.7118377685546875,
          -0.39272648096084595,
          -4.524672508239746,
          -10.25024700164795,
          -6.927153587341309,
          -0.6398404836654663,
          -4.37921142578125,
          -6.466355800628662,
          -7.595175743103027,
          -6.931668281555176,
          -1.6512821912765503,
          -3.5609819889068604,
          -8.860535621643066,
          5.806912899017334,
          0.6715701818466187,
          -3.265566110610962,
          7.636351108551025,
          8.135419845581055,
          -7.354240894317627,
          2.614657402038574,
          -7.939403533935547,
          -7.880673885345459,
          -8.331389427185059,
          -9.314281463623047,
          -9.320564270019531,
          -2.5459065437316895,
          -1.2078890800476074,
          6.813667297363281,
          -0.3146921992301941,
          -4.443347930908203,
          -1.9521558284759521,
          14.325955390930176,
          -4.735799312591553,
          4.397271633148193,
          -3.0785646438598633,
          3.5146665573120117,
          -7.879955291748047,
          12.565157890319824,
          -8.77447509765625,
          4.844981670379639,
          -0.029905512928962708,
          -5.439915180206299,
          -9.377019882202148,
          -1.8612515926361084,
          -4.908788681030273,
          -0.6934464573860168,
          -11.836739540100098,
          -5.690561294555664,
          0.2813084125518799,
          9.601799011230469,
          2.4545929431915283,
          -6.306564807891846,
          -5.281465530395508,
          -9.789905548095703,
          -0.023823270574212074,
          -3.9093565940856934,
          -1.7826354503631592,
          -6.733395576477051,
          -0.5346294641494751,
          -5.3521809577941895,
          3.8064982891082764,
          -3.674262762069702,
          7.014934539794922,
          -3.3449957370758057,
          0.6850022673606873,
          -3.2881052494049072,
          -7.634362697601318,
          -1.3985083103179932,
          -8.760656356811523,
          -9.655097007751465,
          -9.79825210571289,
          13.552552223205566,
          -3.5996668338775635,
          -1.6808606386184692,
          2.118274688720703,
          2.184725522994995,
          7.972953796386719,
          0.9174296259880066,
          -11.335639953613281,
          -8.188517570495605,
          -2.7752997875213623,
          -1.988656997680664,
          6.098667144775391,
          -13.301377296447754,
          -0.6221984624862671,
          2.3463125228881836,
          -0.48379144072532654,
          -1.6138347387313843,
          15.226227760314941,
          3.877061367034912,
          2.294374465942383,
          -7.978308200836182,
          -7.320058345794678,
          -2.600590229034424,
          3.4950103759765625,
          1.1979368925094604,
          -5.603885173797607,
          -0.7996900081634521,
          -8.608850479125977,
          -9.165182113647461,
          -3.4308922290802,
          -6.982149600982666,
          -8.030353546142578,
          -9.582773208618164,
          0.9444184899330139,
          -11.398630142211914,
          -11.6870698928833,
          12.40792465209961,
          -9.466118812561035,
          4.40573787689209,
          -12.804779052734375,
          -6.601382732391357,
          -8.533276557922363,
          -12.499263763427734,
          -9.316699981689453,
          -3.429028034210205,
          -6.064886569976807,
          -3.675886392593384,
          -11.079097747802734,
          -6.797490119934082,
          7.92636251449585,
          4.089453220367432,
          -5.984047889709473,
          3.075676441192627,
          -9.02830696105957,
          -9.953401565551758,
          -5.7182769775390625,
          3.2665436267852783,
          7.564381122589111,
          -4.102489948272705,
          3.424180030822754,
          -8.143675804138184,
          4.825071811676025,
          -9.082796096801758,
          -4.888455390930176
         ],
         "yaxis": "y",
         "type": "scattergl"
        },
        {
         "customdata": [
          [
           "All_Black",
           "big_l"
          ],
          [
           "Danger_Zone",
           "big_l"
          ],
          [
           "Da_Graveyard",
           "big_l"
          ],
          [
           "Get_It_Together",
           "beastie_boys"
          ],
          [
           "Get_It_Together__Buck_Wild_Remix_",
           "beastie_boys"
          ],
          [
           "8_Million_Stories",
           "a_tribe_called_quest"
          ],
          [
           "Me___My_Bitch",
           "the_notorious_big"
          ],
          [
           "The_What",
           "the_notorious_big"
          ],
          [
           "One_More_Chance",
           "the_notorious_big"
          ],
          [
           "Just_Playing__Dreams_",
           "the_notorious_big"
          ],
          [
           "Friend_Of_Mine",
           "the_notorious_big"
          ],
          [
           "Gimme_The_Loot",
           "the_notorious_big"
          ],
          [
           "Who_You_Wit_II",
           "jay-z"
          ],
          [
           "Imaginary_Player",
           "jay-z"
          ],
          [
           "Rap_Game___Crack_Game",
           "jay-z"
          ],
          [
           "Money__Cash__Hoes",
           "jay-z"
          ],
          [
           "Nigga_What__Nigga_Who__Originator__99_",
           "jay-z"
          ],
          [
           "Cashmere_Thoughts",
           "jay-z"
          ],
          [
           "The_Genesis",
           "nas"
          ],
          [
           "Mr__Smith",
           "ll_cool_j"
          ],
          [
           "Bloodsport",
           "mobb_deep"
          ],
          [
           "Extortion",
           "mobb_deep"
          ],
          [
           "More_Trife_Life",
           "mobb_deep"
          ],
          [
           "Hit_It_From_The_Back",
           "mobb_deep"
          ],
          [
           "Eric_B__Never_Scared",
           "erikb_&_rakim"
          ],
          [
           "Sophisticated_Bitch",
           "public_enemy"
          ],
          [
           "Protect_Ya_Neck",
           "wu_tang_clan"
          ],
          [
           "Wu_Tang_Clan_Ain_t_Nuthing_Ta_F__Wit",
           "wu_tang_clan"
          ],
          [
           "Method_Man",
           "wu_tang_clan"
          ],
          [
           "Wu_Tang__7th_Chamber___Part_2",
           "wu_tang_clan"
          ],
          [
           "It_s_All_Good",
           "busta_rhymes"
          ],
          [
           "Take_it_Off",
           "busta_rhymes"
          ],
          [
           "Just_Give_It_To_Me_Raw",
           "busta_rhymes"
          ],
          [
           "Woo_Hah___Got_You_All_in_Check",
           "busta_rhymes"
          ],
          [
           "Still_Shining",
           "busta_rhymes"
          ],
          [
           "Gangsta_Shit",
           "puff_daddy"
          ],
          [
           "What_A_Way_To_Go_Out",
           "soulsofmischief"
          ],
          [
           "Let__Em_Know",
           "soulsofmischief"
          ],
          [
           "Limitations",
           "soulsofmischief"
          ],
          [
           "Disseshowedo",
           "soulsofmischief"
          ],
          [
           "Where_The_Fuck_You_At_",
           "soulsofmischief"
          ],
          [
           "_94_Via_Satellite",
           "soulsofmischief"
          ],
          [
           "Real_Niggaz",
           "nwa"
          ],
          [
           "Just_Don_t_Bite_It",
           "nwa"
          ],
          [
           "Boyz_N_The_Hood",
           "nwa"
          ],
          [
           "3_The_Hard_Way",
           "nwa"
          ],
          [
           "Dopeman",
           "nwa"
          ],
          [
           "Tuffest_Man_Alive",
           "nwa"
          ],
          [
           "A_Bitch_Iz_A_Bitch",
           "nwa"
          ],
          [
           "8_Ball",
           "nwa"
          ],
          [
           "Gangsta_Gangsta",
           "nwa"
          ],
          [
           "Dopeman__Remix_",
           "nwa"
          ],
          [
           "Straight_Outta_Compton",
           "nwa"
          ],
          [
           "Parental_Discretion_Iz_Advised",
           "nwa"
          ],
          [
           "Fuck_The_Police",
           "nwa"
          ],
          [
           "Compton_s_N_The_House",
           "nwa"
          ],
          [
           "Something_Like_That",
           "nwa"
          ],
          [
           "8_Ball__Remix_",
           "nwa"
          ],
          [
           "Automobile",
           "nwa"
          ],
          [
           "Prelude",
           "nwa"
          ],
          [
           "The_Dayz_Of_Wayback",
           "nwa"
          ],
          [
           "One_Less_Bitch",
           "nwa"
          ],
          [
           "I_d_Rather_Fuck_You",
           "nwa"
          ],
          [
           "Findum__Fuckum__And_Flee",
           "nwa"
          ],
          [
           "Always_Into_Somethin_",
           "nwa"
          ],
          [
           "She_Swallowed_It",
           "nwa"
          ],
          [
           "1_900_2_Compton",
           "nwa"
          ],
          [
           "Get_Up__Get_Down",
           "coolio"
          ],
          [
           "The_Revolution",
           "coolio"
          ],
          [
           "Exercise_Yo_Game",
           "coolio"
          ],
          [
           "Geto_Highlites",
           "coolio"
          ],
          [
           "Mama_I_m_In_Love_Wit_A_Gangsta",
           "coolio"
          ],
          [
           "Sticky_Fingers",
           "coolio"
          ],
          [
           "Thought_You_Knew",
           "coolio"
          ],
          [
           "N_Da_Closet",
           "coolio"
          ],
          [
           "Ugly_Bitches",
           "coolio"
          ],
          [
           "U_Know_Hoo_",
           "coolio"
          ],
          [
           "Can_U_Dig_It",
           "coolio"
          ],
          [
           "Nature_Of_The_Business",
           "coolio"
          ],
          [
           "Throwndown_2000",
           "coolio"
          ],
          [
           "Hit__Em",
           "coolio"
          ],
          [
           "Man_s_Best_Friend",
           "ice_cube"
          ],
          [
           "Givin__Up_The_Nappy_Dug_Out",
           "ice_cube"
          ],
          [
           "Only_One_Me",
           "ice_cube"
          ],
          [
           "Horny_Little_Devil",
           "ice_cube"
          ],
          [
           "Doing_Dumb_Shit",
           "ice_cube"
          ],
          [
           "No_Vaseline",
           "ice_cube"
          ],
          [
           "The_Wrong_Nigga_To_Fuck_With",
           "ice_cube"
          ],
          [
           "I_Wanna_Kill_Sam",
           "ice_cube"
          ],
          [
           "Look_Who_s_Burnin_",
           "ice_cube"
          ],
          [
           "True_To_The_Game",
           "ice_cube"
          ],
          [
           "Steady_Mobbin",
           "ice_cube"
          ],
          [
           "Check_Yo_Self",
           "ice_cube"
          ],
          [
           "Say_Hi_To_The_Bad_Guy",
           "ice_cube"
          ],
          [
           "The_Predator",
           "ice_cube"
          ],
          [
           "It_Was_A_Good_Day",
           "ice_cube"
          ],
          [
           "Don_t_Trust__em",
           "ice_cube"
          ],
          [
           "Dirty_Mack",
           "ice_cube"
          ],
          [
           "Who_Got_The_Camera_",
           "ice_cube"
          ],
          [
           "Gangsta_Fairytale_2",
           "ice_cube"
          ],
          [
           "Get_Off_My_Dick_And_Tell_Yo_Bitch_To_Come_Here__Remix_",
           "ice_cube"
          ],
          [
           "The_Product",
           "ice_cube"
          ],
          [
           "Once_Upon_A_Time_In_The_Projects",
           "ice_cube"
          ],
          [
           "Who_s_The_Mack_",
           "ice_cube"
          ],
          [
           "Tales_From_The_Darkside",
           "ice_cube"
          ],
          [
           "What_They_Hittin__Foe_",
           "ice_cube"
          ],
          [
           "AmeriKKKa_s_Most_Wanted",
           "ice_cube"
          ],
          [
           "A_Gangsta_s_Fairytale",
           "ice_cube"
          ],
          [
           "The_Nigga_Ya_Love_To_Hate",
           "ice_cube"
          ],
          [
           "Down_For_Whatever",
           "ice_cube"
          ],
          [
           "Make_It_Ruff__Make_It_Smooth",
           "ice_cube"
          ],
          [
           "Lil_Ass_Gee",
           "ice_cube"
          ],
          [
           "Ghetto_Bird",
           "ice_cube"
          ],
          [
           "Really_Doe",
           "ice_cube"
          ],
          [
           "Cocktales",
           "too_short"
          ],
          [
           "Sample_The_Funk",
           "too_short"
          ],
          [
           "Don_t_Fuck_For_Free",
           "too_short"
          ],
          [
           "We_Do_This",
           "too_short"
          ],
          [
           "Coming_Up__hort",
           "too_short"
          ],
          [
           "Giving_Up_The_Funk",
           "too_short"
          ],
          [
           "Game",
           "too_short"
          ],
          [
           "Top_Down",
           "too_short"
          ],
          [
           "Paystyle",
           "too_short"
          ],
          [
           "Ain_t_Nothing_Like_Pimpin_",
           "too_short"
          ],
          [
           "Can_I_Get_A_Bitch",
           "too_short"
          ],
          [
           "That_s_Why",
           "too_short"
          ],
          [
           "I_Must_Confess",
           "too_short"
          ],
          [
           "Survivin__The_Game",
           "too_short"
          ],
          [
           "Bad_Ways",
           "too_short"
          ],
          [
           "Nasty_Rhymes",
           "too_short"
          ],
          [
           "Never_Talk_Down",
           "too_short"
          ],
          [
           "Fuck_My_Car",
           "too_short"
          ],
          [
           "Pimp_Me",
           "too_short"
          ],
          [
           "Buy_You_Some",
           "too_short"
          ],
          [
           "Take_My_Bitch",
           "too_short"
          ],
          [
           "Cusswords",
           "too_short"
          ],
          [
           "Don_t_Fight_The_Feelin_",
           "too_short"
          ],
          [
           "Pimp_The_Hoe",
           "too_short"
          ],
          [
           "All_My_Bitches_Are_Gone",
           "too_short"
          ],
          [
           "Get_In_Where_You_Fit_In",
           "too_short"
          ],
          [
           "Just_Another_Day",
           "too_short"
          ],
          [
           "I_m_A_Player",
           "too_short"
          ],
          [
           "Gotta_Get_Some_Lovin_",
           "too_short"
          ],
          [
           "Way_Too_Real",
           "too_short"
          ],
          [
           "The_Dangerous_Crew",
           "too_short"
          ],
          [
           "Dope_Fiend_Beat",
           "too_short"
          ],
          [
           "Rap_Like_Me",
           "too_short"
          ],
          [
           "Pimpology",
           "too_short"
          ],
          [
           "Ain_t_Nothin__But_A_Word_To_Me",
           "too_short"
          ],
          [
           "Punk_Bitch",
           "too_short"
          ],
          [
           "Paula___Janet",
           "too_short"
          ],
          [
           "Hard_On_The_Boulevard",
           "too_short"
          ],
          [
           "Gz_And_Hustlas",
           "snoop_dogg"
          ],
          [
           "Ain_t_No_Fun__If_The_Homies_Can_t_Have_None_",
           "snoop_dogg"
          ],
          [
           "Gz_Up__Hoes_Down",
           "snoop_dogg"
          ],
          [
           "For_All_My_Niggaz___Bitches",
           "snoop_dogg"
          ],
          [
           "G_Funk_Intro",
           "snoop_dogg"
          ],
          [
           "Bathtub",
           "snoop_dogg"
          ],
          [
           "Pump_Pump",
           "snoop_dogg"
          ],
          [
           "Gin_And_Juice",
           "snoop_dogg"
          ],
          [
           "Doggy_Dogg_World",
           "snoop_dogg"
          ],
          [
           "Tha_Shiznit",
           "snoop_dogg"
          ],
          [
           "_O_J___Wake_Up",
           "snoop_dogg"
          ],
          [
           "Groupie",
           "snoop_dogg"
          ],
          [
           "Up_Jump_Tha_Boogie",
           "snoop_dogg"
          ],
          [
           "_Tear__Em_Off__Me___My_Doggz",
           "snoop_dogg"
          ],
          [
           "Freestyle_Conversation",
           "snoop_dogg"
          ],
          [
           "You_Thought",
           "snoop_dogg"
          ],
          [
           "So_Much_Drama",
           "luniz"
          ],
          [
           "Broke_Niggaz",
           "luniz"
          ],
          [
           "Operation_Stackola",
           "luniz"
          ],
          [
           "She_s_Just_A_Freak",
           "luniz"
          ],
          [
           "Yellow_Brick_Road",
           "luniz"
          ],
          [
           "Pimps__Playas___Hustlas",
           "luniz"
          ],
          [
           "Put_The_Lead_On_Ya",
           "luniz"
          ],
          [
           "I_Got_5_On_It__Reprise_",
           "luniz"
          ],
          [
           "Broke_Ho_s",
           "luniz"
          ],
          [
           "Plead_Guilty",
           "luniz"
          ],
          [
           "All_Bout_U_2",
           "pac"
          ],
          [
           "All_Bout_U",
           "pac"
          ],
          [
           "Wonder_Why_They_Call_U",
           "pac"
          ],
          [
           "Skandalouz",
           "pac"
          ],
          [
           "Flex",
           "pac"
          ],
          [
           "Peep_Game",
           "pac"
          ],
          [
           "Representin__93",
           "pac"
          ],
          [
           "Strugglin_",
           "pac"
          ],
          [
           "Tha_Lunatic",
           "pac"
          ],
          [
           "No_Rest_For_The_Wicked",
           "cypress_hill"
          ],
          [
           "Strictly_Hip_Hop",
           "cypress_hill"
          ],
          [
           "Smuggler_s_Blues",
           "cypress_hill"
          ],
          [
           "Real_Estate",
           "cypress_hill"
          ],
          [
           "Pigs",
           "cypress_hill"
          ],
          [
           "I_d_Rather_Fuck_You",
           "eazy_e"
          ],
          [
           "Eazy_Street",
           "eazy_e"
          ],
          [
           "Eazy_Duz_It",
           "eazy_e"
          ],
          [
           "Nobody_Move_2",
           "eazy_e"
          ],
          [
           "Boyz_N_The_Hood__Remix__2",
           "eazy_e"
          ],
          [
           "Boyz_N_The_Hood__Remix_",
           "eazy_e"
          ],
          [
           "2_Hard_Mutha_s",
           "eazy_e"
          ],
          [
           "Ruthless_Villain",
           "eazy_e"
          ],
          [
           "Still_Talkin_",
           "eazy_e"
          ],
          [
           "Eazy_Duz_It_2",
           "eazy_e"
          ],
          [
           "Nobody_Move",
           "eazy_e"
          ],
          [
           "Boyz_N_Tha_Hood__G_Mix_",
           "eazy_e"
          ],
          [
           "Gimmie_That_Nutt",
           "eazy_e"
          ],
          [
           "Real_Muthaphuckkin_G_s",
           "eazy_e"
          ],
          [
           "Still_A_Nigga",
           "eazy_e"
          ],
          [
           "It_s_On",
           "eazy_e"
          ],
          [
           "My_Baby_z_Mama",
           "eazy_e"
          ],
          [
           "Ole_School_Shit",
           "eazy_e"
          ],
          [
           "Sorry_Louie",
           "eazy_e"
          ],
          [
           "Gangsta_Beat_4_Tha_Street",
           "eazy_e"
          ],
          [
           "Sippin_On_A_40",
           "eazy_e"
          ],
          [
           "Hit_The_Hooker",
           "eazy_e"
          ],
          [
           "Just_Tah_Let_U_Know",
           "eazy_e"
          ],
          [
           "Wut_Would_You_Do",
           "eazy_e"
          ],
          [
           "Eternal_E",
           "eazy_e"
          ],
          [
           "Nutz_On_Ya_Chin",
           "eazy_e"
          ],
          [
           "Good_Thing_We_re_Rappin_",
           "digital_underground"
          ],
          [
           "Shake___Bake",
           "digital_underground"
          ],
          [
           "Fool_Get_A_Clue",
           "digital_underground"
          ],
          [
           "This_Is_The_Shack",
           "warren_g_"
          ],
          [
           "Runnin__Wit_No_Breaks",
           "warren_g_"
          ],
          [
           "Soul_On_Ice",
           "ice-t"
          ],
          [
           "Rap_Games_Hijacked",
           "ice-t"
          ],
          [
           "Haters",
           "ice-t"
          ],
          [
           "Return_Of_The_Real",
           "ice-t"
          ],
          [
           "Forced_To_Do_Dirt",
           "ice-t"
          ],
          [
           "Bouncin__Down_The_Strezeet",
           "ice-t"
          ],
          [
           "Make_The_Loot_Loop",
           "ice-t"
          ],
          [
           "Pimp_Anthem",
           "ice-t"
          ],
          [
           "Bitches_2",
           "ice-t"
          ],
          [
           "Midnight",
           "ice-t"
          ],
          [
           "M_V_P_S_",
           "ice-t"
          ],
          [
           "Pimp_Behind_The_Wheels",
           "ice-t"
          ],
          [
           "Ice_M_F__T",
           "ice-t"
          ],
          [
           "99_Problems",
           "ice-t"
          ],
          [
           "Depths_Of_Hell",
           "ice-t"
          ],
          [
           "It_s_On",
           "ice-t"
          ],
          [
           "Home_Invasion",
           "ice-t"
          ],
          [
           "Funky_Gripsta",
           "ice-t"
          ],
          [
           "Westward_Ho",
           "westside_connection"
          ],
          [
           "King_Of_The_Hill",
           "westside_connection"
          ],
          [
           "Do_You_Like_Criminals",
           "westside_connection"
          ],
          [
           "3_Time_Felons",
           "westside_connection"
          ],
          [
           "The_Gangsta__The_Killa_And_The_Dope_Dealer",
           "westside_connection"
          ],
          [
           "All_The_Critics_In_New_York",
           "westside_connection"
          ],
          [
           "Cross__Em_Out_And_Put_A__K",
           "westside_connection"
          ],
          [
           "Bow_Down",
           "westside_connection"
          ],
          [
           "Hoo_Bangin___WSCG_Style_",
           "westside_connection"
          ],
          [
           "I_m_That_Type_Of_Nigga",
           "the_pharcyde"
          ],
          [
           "Oh_Shit",
           "the_pharcyde"
          ],
          [
           "On_The_DL",
           "the_pharcyde"
          ],
          [
           "Pork",
           "the_pharcyde"
          ],
          [
           "Soul_Flower__Remix_",
           "the_pharcyde"
          ],
          [
           "Str_8_Gone",
           "Dr.Dre"
          ],
          [
           "Nationowl",
           "Dr.Dre"
          ],
          [
           "East_Coast_West_Coast_Killas",
           "Dr.Dre"
          ],
          [
           "Shittin__On_The_World",
           "Dr.Dre"
          ],
          [
           "The_Chronic__Intro_",
           "Dr.Dre"
          ],
          [
           "Let_Me_Ride",
           "Dr.Dre"
          ],
          [
           "Stranded_On_Death_Row",
           "Dr.Dre"
          ],
          [
           "Fuck_Wit_Dre_Day",
           "Dr.Dre"
          ],
          [
           "Nuthin_But_A_G_Thang",
           "Dr.Dre"
          ],
          [
           "Deeez_Nuuuts",
           "Dr.Dre"
          ],
          [
           "Bitches_Ain_t_Shit",
           "Dr.Dre"
          ],
          [
           "The_Roach__The_Chronic_Outro_",
           "Dr.Dre"
          ],
          [
           "Rat_Tat_Tat_Tat",
           "Dr.Dre"
          ],
          [
           "Foe_Life",
           "mack_10"
          ],
          [
           "Armed___Dangerous",
           "mack_10"
          ],
          [
           "Mozi_Wozi",
           "mack_10"
          ],
          [
           "10_Million_Ways",
           "mack_10"
          ],
          [
           "Chicken_Hawk",
           "mack_10"
          ],
          [
           "Mack_10_s_The_Name",
           "mack_10"
          ],
          [
           "H_O_E_K",
           "mack_10"
          ],
          [
           "On_Them_Thangs",
           "mack_10"
          ],
          [
           "Here_Comes_The_G",
           "mack_10"
          ]
         ],
         "hovertemplate": "Topic=0<br>x=%{x}<br>y=%{y}<br>Song=%{customdata[0]}<br>Artist=%{customdata[1]}<extra></extra>",
         "legendgroup": "0",
         "marker": {
          "color": "#EF553B",
          "symbol": "circle",
          "line": {
           "color": "DarkSlateGrey",
           "width": 1
          },
          "size": 10
         },
         "mode": "markers",
         "name": "0",
         "showlegend": true,
         "x": [
          1.650412678718567,
          5.851878643035889,
          21.004228591918945,
          -4.41680908203125,
          2.025792121887207,
          -4.737176418304443,
          -11.473836898803711,
          2.8445701599121094,
          -9.802945137023926,
          -2.006307601928711,
          -3.99357008934021,
          6.051881313323975,
          -6.107059001922607,
          7.498857021331787,
          6.645110607147217,
          -12.825743675231934,
          9.289691925048828,
          -1.5493700504302979,
          9.485516548156738,
          9.265987396240234,
          16.793197631835938,
          1.7090023756027222,
          5.662685871124268,
          2.071183681488037,
          4.586934566497803,
          -1.1376720666885376,
          10.232707977294922,
          6.478190898895264,
          -4.5540571212768555,
          4.124535083770752,
          -5.294419288635254,
          9.530241966247559,
          17.396631240844727,
          -1.9529550075531006,
          8.383068084716797,
          0.7144955992698669,
          -3.888603687286377,
          7.88794469833374,
          2.2277719974517822,
          1.9489163160324097,
          -0.7002355456352234,
          0.9975364804267883,
          4.197026252746582,
          -11.235084533691406,
          -4.946676254272461,
          -4.7406463623046875,
          -5.685705661773682,
          -0.6861518621444702,
          -12.989652633666992,
          -3.1561291217803955,
          -4.464890956878662,
          -6.033726692199707,
          -3.0796315670013428,
          -3.6226115226745605,
          5.812142372131348,
          -4.574751853942871,
          -10.177743911743164,
          -9.306655883789062,
          -2.3958942890167236,
          5.131869316101074,
          20.623132705688477,
          -11.428238868713379,
          -2.3726541996002197,
          -12.10383129119873,
          0.7244240045547485,
          -12.578207015991211,
          -2.7788517475128174,
          0.06521023064851761,
          -0.0035925402771681547,
          -6.0560760498046875,
          8.132115364074707,
          4.091692924499512,
          0.4204903542995453,
          8.511475563049316,
          8.211136817932129,
          -9.658509254455566,
          -4.619469165802002,
          -1.9931050539016724,
          7.138294696807861,
          -1.9877523183822632,
          -11.490336418151855,
          7.480000972747803,
          -10.530543327331543,
          5.465394020080566,
          -4.516374111175537,
          0.48261499404907227,
          -5.331425189971924,
          0.4723259508609772,
          4.659196376800537,
          -5.908878803253174,
          2.599242925643921,
          -1.1449369192123413,
          -2.2219767570495605,
          4.5517048835754395,
          -1.8551025390625,
          -1.5215137004852295,
          0.321977823972702,
          -3.49088191986084,
          1.7881191968917847,
          -1.2477329969406128,
          -7.120799541473389,
          5.0344157218933105,
          -0.7868241667747498,
          -6.3161115646362305,
          6.284102916717529,
          7.340917110443115,
          7.951667308807373,
          -0.4688675105571747,
          -4.415748119354248,
          9.407261848449707,
          -0.3695431351661682,
          -2.549004554748535,
          -3.8262715339660645,
          -2.960554838180542,
          -11.842159271240234,
          2.3758325576782227,
          -9.318779945373535,
          -3.8708927631378174,
          -7.324540615081787,
          -11.167196273803711,
          -11.839892387390137,
          -8.01753044128418,
          -9.313572883605957,
          -10.276058197021484,
          -9.340481758117676,
          1.269991397857666,
          -0.14843858778476715,
          2.316269874572754,
          6.3597331047058105,
          -5.172605514526367,
          -4.4032087326049805,
          -9.894495964050293,
          -11.33841609954834,
          1.3678079843521118,
          -7.951416015625,
          -9.614116668701172,
          -6.9215593338012695,
          -4.928060531616211,
          -12.19957447052002,
          7.1310248374938965,
          0.1186046153306961,
          -8.5553617477417,
          -10.670912742614746,
          2.4443976879119873,
          -12.120287895202637,
          -12.96810245513916,
          -5.143571853637695,
          0.09021499752998352,
          -13.39004135131836,
          -10.973443984985352,
          -10.383978843688965,
          -7.0989580154418945,
          3.51340389251709,
          -8.507841110229492,
          -2.4468319416046143,
          4.128639221191406,
          6.560731887817383,
          -2.3879804611206055,
          4.010989665985107,
          3.121145725250244,
          1.2803386449813843,
          4.981983184814453,
          -0.06394273787736893,
          9.216927528381348,
          0.22498738765716553,
          6.958679676055908,
          2.2857308387756348,
          -6.527299404144287,
          -4.121192455291748,
          -2.0542590618133545,
          -2.6299383640289307,
          -13.389385223388672,
          1.9295854568481445,
          -5.49758768081665,
          20.089054107666016,
          6.99261474609375,
          -8.824152946472168,
          -1.551796793937683,
          1.384697675704956,
          -2.3479838371276855,
          -10.22297477722168,
          -2.8827292919158936,
          7.326127052307129,
          -4.429169654846191,
          1.0243209600448608,
          6.846785545349121,
          -4.466322422027588,
          -6.152523994445801,
          -7.424412727355957,
          0.5285808444023132,
          1.0965479612350464,
          0.945319652557373,
          -2.427410364151001,
          -7.471867084503174,
          -7.541990756988525,
          1.3002519607543945,
          -4.361907005310059,
          -5.3474273681640625,
          -3.0365045070648193,
          -4.867398262023926,
          -10.797454833984375,
          -7.818367004394531,
          5.284976005554199,
          0.07965923100709915,
          -3.9836251735687256,
          -5.028554916381836,
          0.7442921996116638,
          -3.177605390548706,
          -1.81589937210083,
          -4.493811130523682,
          6.660367012023926,
          -2.9716317653656006,
          -2.911595106124878,
          -8.452609062194824,
          5.446741580963135,
          2.2551355361938477,
          8.447997093200684,
          0.8952897787094116,
          -10.644309043884277,
          7.33621883392334,
          -0.1485140472650528,
          1.6322643756866455,
          4.5402913093566895,
          0.6159728169441223,
          -8.23901653289795,
          4.227431774139404,
          6.124792575836182,
          4.363033771514893,
          -0.8342613577842712,
          7.656494140625,
          -2.9693377017974854,
          1.8179974555969238,
          2.1199545860290527,
          -5.797196388244629,
          -6.617214202880859,
          8.159542083740234,
          -12.261767387390137,
          0.6816955208778381,
          8.412028312683105,
          0.9005592465400696,
          20.50465202331543,
          -8.325129508972168,
          -4.55259370803833,
          6.318430423736572,
          7.246102809906006,
          8.203210830688477,
          -6.840374946594238,
          3.3112401962280273,
          2.61491322517395,
          4.711037635803223,
          6.407020092010498,
          -12.29840087890625,
          1.4363763332366943,
          -5.823163986206055,
          -5.0733819007873535,
          4.53109073638916,
          -2.8560311794281006,
          -8.627272605895996,
          7.967617034912109,
          6.1210126876831055,
          5.495613098144531,
          7.587841033935547,
          -8.535475730895996,
          1.8619633913040161,
          -7.784811496734619,
          -12.586334228515625,
          6.776515483856201,
          4.416656970977783,
          2.9093594551086426,
          -2.043095827102661,
          -1.958851933479309,
          7.257266998291016,
          -1.5226417779922485,
          -3.1762146949768066,
          -10.456783294677734,
          5.911443710327148,
          1.038622260093689
         ],
         "xaxis": "x",
         "y": [
          -28.199275970458984,
          -28.157161712646484,
          -26.756061553955078,
          -22.38321876525879,
          -26.032161712646484,
          -20.98953628540039,
          -56.74811935424805,
          -39.0992317199707,
          -53.061744689941406,
          -31.736209869384766,
          -47.43312454223633,
          -33.62601852416992,
          -41.78084945678711,
          -33.081748962402344,
          -28.976438522338867,
          -57.84174346923828,
          -33.76261520385742,
          -17.462574005126953,
          -20.669410705566406,
          -20.971508026123047,
          -23.057937622070312,
          -16.15003776550293,
          -15.539421081542969,
          -37.66567611694336,
          -33.46499252319336,
          -16.702178955078125,
          -20.47443389892578,
          -28.48780059814453,
          -22.092517852783203,
          -14.860429763793945,
          -23.797189712524414,
          -20.771024703979492,
          -23.39293670654297,
          -19.429872512817383,
          -20.885635375976562,
          -28.47541046142578,
          -21.93804359436035,
          -19.383073806762695,
          -15.458656311035156,
          -17.202775955200195,
          -29.54014015197754,
          -28.499691009521484,
          -39.67005157470703,
          -54.6650390625,
          -33.782005310058594,
          -21.49498748779297,
          -49.52760314941406,
          -15.679156303405762,
          -56.97116470336914,
          -38.730960845947266,
          -50.46794128417969,
          -42.904788970947266,
          -43.313507080078125,
          -35.4978141784668,
          -37.45756149291992,
          -35.633670806884766,
          -51.424869537353516,
          -51.48240661621094,
          -17.4116268157959,
          -38.01621627807617,
          -26.211801528930664,
          -55.96989440917969,
          -29.245141983032227,
          -56.48927688598633,
          -38.195308685302734,
          -56.045143127441406,
          -41.45521545410156,
          -37.09591293334961,
          -17.829910278320312,
          -40.469566345214844,
          -21.674118041992188,
          -29.58843421936035,
          -15.699382781982422,
          -31.13650131225586,
          -19.100412368774414,
          -52.68009567260742,
          -46.333492279052734,
          -26.85163116455078,
          -31.537710189819336,
          -17.139188766479492,
          -54.41953659057617,
          -12.777430534362793,
          -52.14369201660156,
          -30.34953498840332,
          -42.98033142089844,
          -26.86996841430664,
          -45.48442459106445,
          -38.08246994018555,
          -15.8578462600708,
          -41.51383590698242,
          -37.48175811767578,
          -36.87466049194336,
          -35.447166442871094,
          -29.380765914916992,
          -29.79996681213379,
          -19.239225387573242,
          -33.29059982299805,
          -40.8957405090332,
          -34.15840148925781,
          -42.479026794433594,
          -50.87357711791992,
          -28.680171966552734,
          -17.12876319885254,
          -44.948204040527344,
          -11.2677583694458,
          -16.71576690673828,
          -14.301066398620605,
          -39.14496994018555,
          -49.70246124267578,
          5.288886070251465,
          -40.91714096069336,
          -34.043617248535156,
          -21.246055603027344,
          -44.11418914794922,
          -55.83513641357422,
          -28.052927017211914,
          -52.3878173828125,
          -49.037933349609375,
          -50.780860900878906,
          -56.64940643310547,
          -57.47237777709961,
          -44.59831619262695,
          -46.01294708251953,
          -56.112518310546875,
          -53.80799102783203,
          -39.16486358642578,
          -33.98086166381836,
          -27.654823303222656,
          -32.05605697631836,
          -44.410221099853516,
          -44.10884094238281,
          -52.14833450317383,
          -53.71562576293945,
          -26.768890380859375,
          -50.21532440185547,
          -46.385555267333984,
          -42.09797668457031,
          -35.4587287902832,
          -56.949485778808594,
          -37.37203598022461,
          -38.053192138671875,
          -50.41695022583008,
          -51.15459060668945,
          -31.206310272216797,
          -55.53681945800781,
          -55.96017837524414,
          -34.674617767333984,
          -20.969640731811523,
          -57.56869125366211,
          -55.684574127197266,
          -50.6727180480957,
          -45.69637680053711,
          -30.416595458984375,
          -48.79485321044922,
          -30.084060668945312,
          -39.87914276123047,
          -16.720279693603516,
          -18.288272857666016,
          -33.268333435058594,
          -29.896554946899414,
          -36.84119415283203,
          -36.81289291381836,
          -31.9332332611084,
          -21.96527862548828,
          -34.866180419921875,
          -32.917118072509766,
          -36.8159294128418,
          -50.16133117675781,
          -46.267330169677734,
          -38.542999267578125,
          -38.60244369506836,
          -56.70036697387695,
          -40.3843994140625,
          -46.67145538330078,
          -26.07699966430664,
          -34.44806671142578,
          -52.80280685424805,
          -34.477996826171875,
          -33.37446975708008,
          -36.547054290771484,
          -53.36283874511719,
          -45.965755462646484,
          -33.418704986572266,
          -46.67692947387695,
          -37.72637176513672,
          -28.205190658569336,
          -49.02145767211914,
          -48.685550689697266,
          -44.563682556152344,
          -17.91402244567871,
          -27.11136245727539,
          1.3930344581604004,
          -32.996803283691406,
          -49.255741119384766,
          -52.06034469604492,
          -34.56018829345703,
          -45.4082145690918,
          -45.599281311035156,
          -46.52476119995117,
          -45.80718231201172,
          -54.670867919921875,
          -51.620094299316406,
          -37.46403884887695,
          -39.64362335205078,
          -22.114421844482422,
          -47.902095794677734,
          -39.55387878417969,
          -43.917171478271484,
          -40.18080139160156,
          -47.60483932495117,
          -35.27680206298828,
          -35.96135711669922,
          -29.43596839904785,
          -49.44838333129883,
          -33.12861633300781,
          -31.887975692749023,
          -22.15298843383789,
          -33.732704162597656,
          -49.595367431640625,
          4.371317386627197,
          -15.559480667114258,
          1.7021390199661255,
          -31.00579071044922,
          -15.864895820617676,
          -44.423458099365234,
          -38.266239166259766,
          -35.525630950927734,
          -15.26432991027832,
          -19.25359344482422,
          -14.641326904296875,
          -35.00370407104492,
          -17.480066299438477,
          -16.141847610473633,
          -42.032806396484375,
          -47.075225830078125,
          -31.300413131713867,
          -57.87356948852539,
          -35.12623977661133,
          -33.22456741333008,
          -34.449066162109375,
          -26.4368839263916,
          -52.05760192871094,
          -48.61914825439453,
          -36.9088249206543,
          -35.66083526611328,
          -15.451576232910156,
          -46.48551559448242,
          -40.00390625,
          -35.596946716308594,
          -32.4525032043457,
          -36.18108367919922,
          -54.83777618408203,
          -15.753515243530273,
          -44.48710250854492,
          -21.997207641601562,
          -37.374267578125,
          -38.06732940673828,
          -48.2579345703125,
          -17.88785171508789,
          -18.455692291259766,
          -35.956844329833984,
          -16.805103302001953,
          -52.772342681884766,
          -27.275373458862305,
          -49.57921600341797,
          -57.18947219848633,
          -36.01586151123047,
          -32.97869873046875,
          -15.617328643798828,
          -33.50347900390625,
          -27.438095092773438,
          -15.313899993896484,
          -30.402198791503906,
          -28.7658634185791,
          -49.854339599609375,
          -11.536199569702148,
          -29.218809127807617
         ],
         "yaxis": "y",
         "type": "scattergl"
        },
        {
         "customdata": [
          [
           "No_Endz__No_Skinz",
           "big_l"
          ],
          [
           "Put_it_On",
           "big_l"
          ],
          [
           "Stand_Together",
           "beastie_boys"
          ],
          [
           "Professor_Booty",
           "beastie_boys"
          ],
          [
           "So_What_cha_Want",
           "beastie_boys"
          ],
          [
           "Finger_Lickin__Good",
           "beastie_boys"
          ],
          [
           "Netty_s_Girl",
           "beastie_boys"
          ],
          [
           "Body_Movin_",
           "beastie_boys"
          ],
          [
           "Heart_Attack_Man",
           "beastie_boys"
          ],
          [
           "Alright_Hear_This",
           "beastie_boys"
          ],
          [
           "Heart_Attack_Man___Unplugged",
           "beastie_boys"
          ],
          [
           "Egg_Man_2",
           "beastie_boys"
          ],
          [
           "Dis_Yourself_In__89__Just_Do_It_",
           "beastie_boys"
          ],
          [
           "3_Minute_Rule",
           "beastie_boys"
          ],
          [
           "Hey_Ladies",
           "beastie_boys"
          ],
          [
           "Egg_Man",
           "beastie_boys"
          ],
          [
           "Hey_Ladies_2",
           "beastie_boys"
          ],
          [
           "Shadrach",
           "beastie_boys"
          ],
          [
           "What_Comes_Around",
           "beastie_boys"
          ],
          [
           "Seperate_Together",
           "a_tribe_called_quest"
          ],
          [
           "Stressed_Out",
           "a_tribe_called_quest"
          ],
          [
           "Get_A_Hold",
           "a_tribe_called_quest"
          ],
          [
           "Baby_Phife_s_Return",
           "a_tribe_called_quest"
          ],
          [
           "Keeping_It_Moving",
           "a_tribe_called_quest"
          ],
          [
           "Mind_Power",
           "a_tribe_called_quest"
          ],
          [
           "Everything_is_Fair",
           "a_tribe_called_quest"
          ],
          [
           "Butter",
           "a_tribe_called_quest"
          ],
          [
           "Show_Business",
           "a_tribe_called_quest"
          ],
          [
           "The_Infamous_Date_Rape",
           "a_tribe_called_quest"
          ],
          [
           "Description_Of_A_Fool",
           "a_tribe_called_quest"
          ],
          [
           "Go_Ahead_in_the_Rain",
           "a_tribe_called_quest"
          ],
          [
           "I_Left_My_Wallet_in_El_Segundo",
           "a_tribe_called_quest"
          ],
          [
           "God_Lives_Through",
           "a_tribe_called_quest"
          ],
          [
           "Midnight",
           "a_tribe_called_quest"
          ],
          [
           "Kick_The_Frama_Lama_Lama",
           "run-dmc"
          ],
          [
           "Big_Poppa",
           "the_notorious_big"
          ],
          [
           "Juicy",
           "the_notorious_big"
          ],
          [
           "Friend_Or_Foe__98",
           "jay-z"
          ],
          [
           "Sunshine",
           "jay-z"
          ],
          [
           "I_Know_What_Girls_Like",
           "jay-z"
          ],
          [
           "You_Must_Love_Me",
           "jay-z"
          ],
          [
           "A_Week_Ago",
           "jay-z"
          ],
          [
           "If_I_Ruled_The_World",
           "nas"
          ],
          [
           "Album_Intro",
           "nas"
          ],
          [
           "Black_Girl_Lost",
           "nas"
          ],
          [
           "One_Love",
           "nas"
          ],
          [
           "The_World_Is_Yours",
           "nas"
          ],
          [
           "Ahh__Let_s_Get_Ill",
           "ll_cool_j"
          ],
          [
           "Kanday",
           "ll_cool_j"
          ],
          [
           "I_Need_Love",
           "ll_cool_j"
          ],
          [
           "Soul_Survivor",
           "ll_cool_j"
          ],
          [
           "Pink_Cookies_In_A_Plastic_Bag_Getting_Crushed_By_Buildings",
           "ll_cool_j"
          ],
          [
           "A_Little_Somethin_",
           "ll_cool_j"
          ],
          [
           "How_I_m_Comin_",
           "ll_cool_j"
          ],
          [
           "Back_Seat",
           "ll_cool_j"
          ],
          [
           "Stand_By_Your_Man",
           "ll_cool_j"
          ],
          [
           "All_We_Got_Left_Is_The_Beat",
           "ll_cool_j"
          ],
          [
           "Hip_Hop",
           "ll_cool_j"
          ],
          [
           "God_Bless",
           "ll_cool_j"
          ],
          [
           "Hollis_To_Hollywood",
           "ll_cool_j"
          ],
          [
           "Make_It_Hot",
           "ll_cool_j"
          ],
          [
           "Loungin",
           "ll_cool_j"
          ],
          [
           "Doin_It",
           "ll_cool_j"
          ],
          [
           "I_Shot_Ya",
           "ll_cool_j"
          ],
          [
           "Papa_Luv_It_a_k_a_Poppa_Luv_It",
           "ll_cool_j"
          ],
          [
           "Hey_Lover",
           "ll_cool_j"
          ],
          [
           "One_Shot_At_Love",
           "ll_cool_j"
          ],
          [
           "Jingling_Baby",
           "ll_cool_j"
          ],
          [
           "Big_Ole_Butt",
           "ll_cool_j"
          ],
          [
           "You_re_My_Heart",
           "ll_cool_j"
          ],
          [
           "Change_Your_Ways",
           "ll_cool_j"
          ],
          [
           "Fast_Peg",
           "ll_cool_j"
          ],
          [
           "Two_Different_Worlds",
           "ll_cool_j"
          ],
          [
           "I_m_That_Type_Of_Guy",
           "ll_cool_j"
          ],
          [
           "Smokin__Dopin_",
           "ll_cool_j"
          ],
          [
           "Around_The_Way_Girl",
           "ll_cool_j"
          ],
          [
           "Mr__Good_Bar",
           "ll_cool_j"
          ],
          [
           "Cheesy_Rat_Blues",
           "ll_cool_j"
          ],
          [
           "Jingling_Baby__Remixed_But_Still_Jingling_",
           "ll_cool_j"
          ],
          [
           "6_Minutes_Of_Pleasure",
           "ll_cool_j"
          ],
          [
           "Milky_Cereal",
           "ll_cool_j"
          ],
          [
           "Chinese_Arithmetic",
           "erikb_&_rakim"
          ],
          [
           "Mahogany",
           "erikb_&_rakim"
          ],
          [
           "Let_The_Rhythm_Hit__em__12_Vocal_Version_Remix_",
           "erikb_&_rakim"
          ],
          [
           "Let_The_Rhythm_Hit_Em",
           "erikb_&_rakim"
          ],
          [
           "Keep_The_Beat",
           "erikb_&_rakim"
          ],
          [
           "Reggie_Jax",
           "public_enemy"
          ],
          [
           "Revolutionary_Generation",
           "public_enemy"
          ],
          [
           "Brothers_Gonna_Work_It_Out",
           "public_enemy"
          ],
          [
           "Raise_The_Roof",
           "public_enemy"
          ],
          [
           "Yo__Bumrush_The_Show",
           "public_enemy"
          ],
          [
           "Righstarter__Message_To_A_Black_Man_",
           "public_enemy"
          ],
          [
           "Godd_Complexx",
           "public_enemy"
          ],
          [
           "Bedlam_13_13",
           "public_enemy"
          ],
          [
           "By_The_Time_I_Get_To_Arizona",
           "public_enemy"
          ],
          [
           "Tearz",
           "wu_tang_clan"
          ],
          [
           "Turn_It_Up",
           "busta_rhymes"
          ],
          [
           "One",
           "busta_rhymes"
          ],
          [
           "What_s_It_Gonna_Be__",
           "busta_rhymes"
          ],
          [
           "Do_My_Thing",
           "busta_rhymes"
          ],
          [
           "It_s_A_Party",
           "busta_rhymes"
          ],
          [
           "In_The_Woods",
           "de_la_soul"
          ],
          [
           "Breakadawn",
           "de_la_soul"
          ],
          [
           "Eye_Know",
           "de_la_soul"
          ],
          [
           "Jenifa_Taught_Me__Derwin_s_Revenge_",
           "de_la_soul"
          ],
          [
           "Freedom_Of_Speak__We_Got_Three_Minutes_",
           "de_la_soul"
          ],
          [
           "Buddy",
           "de_la_soul"
          ],
          [
           "Baby_Baby_Baby_Baby_Ooh_Baby",
           "de_la_soul"
          ],
          [
           "Dinninit",
           "de_la_soul"
          ],
          [
           "Pony_Ride",
           "de_la_soul"
          ],
          [
           "The_Bizness",
           "de_la_soul"
          ],
          [
           "Betta_Listen",
           "de_la_soul"
          ],
          [
           "Big_Brother_Beat",
           "de_la_soul"
          ],
          [
           "Itsoweezee__HOT_",
           "de_la_soul"
          ],
          [
           "Let__Let_Me_In",
           "de_la_soul"
          ],
          [
           "Bitties_In_The_BK_Lounge",
           "de_la_soul"
          ],
          [
           "A_Roller_Skating_Jam_Named_Saturdays",
           "de_la_soul"
          ],
          [
           "Intro__Da_La_Soal_Is_Dead_",
           "de_la_soul"
          ],
          [
           "Oodles_Of_O_s",
           "de_la_soul"
          ],
          [
           "Fanatic_Of_The_B_Word",
           "de_la_soul"
          ],
          [
           "Talkin__Bout_Hey_Love",
           "de_la_soul"
          ],
          [
           "Keepin_The_Faith",
           "de_la_soul"
          ],
          [
           "Rap_De_Rap_Show",
           "de_la_soul"
          ],
          [
           "Pease_Porridge",
           "de_la_soul"
          ],
          [
           "My_Brother_s_A_Basehead",
           "de_la_soul"
          ],
          [
           "Ring_Ring_Ring__Ha_Ha_Hey_",
           "de_la_soul"
          ],
          [
           "Satisfy_You",
           "puff_daddy"
          ],
          [
           "I_ll_Do_This_For_You",
           "puff_daddy"
          ],
          [
           "Best_Friend",
           "puff_daddy"
          ],
          [
           "Angels_With_Dirty_Faces",
           "puff_daddy"
          ],
          [
           "Can_t_Nobody_Hold_Me_Down",
           "puff_daddy"
          ],
          [
           "I_Love_You_Baby",
           "puff_daddy"
          ],
          [
           "Senorita",
           "puff_daddy"
          ],
          [
           "It_s_All_About_The_Benjamins__Remix_",
           "puff_daddy"
          ],
          [
           "Conscience_Be_Free",
           "gang_starr"
          ],
          [
           "Manifest",
           "gang_starr"
          ],
          [
           "Mostly_Tha_Voice",
           "gang_starr"
          ],
          [
           "Alongwaytogo",
           "gang_starr"
          ],
          [
           "Love_Sick",
           "gang_starr"
          ],
          [
           "Conspiracy",
           "gang_starr"
          ],
          [
           "Ex_Girl_To_Next_Girl",
           "gang_starr"
          ],
          [
           "A_Name_I_Call_Myself",
           "soulsofmischief"
          ],
          [
           "Hotel__Motel",
           "soulsofmischief"
          ],
          [
           "Times_Ain_t_Fair",
           "soulsofmischief"
          ],
          [
           "I_Ain_t_Tha_1",
           "nwa"
          ],
          [
           "A_Thing_Goin__On",
           "coolio"
          ],
          [
           "Cruisin_",
           "coolio"
          ],
          [
           "Smilin_",
           "coolio"
          ],
          [
           "Kinda_High_Kinda_Drunk",
           "coolio"
          ],
          [
           "County_Line",
           "coolio"
          ],
          [
           "C_U_When_U_Get_There",
           "coolio"
          ],
          [
           "Interlude",
           "coolio"
          ],
          [
           "Let_s_Do_It",
           "coolio"
          ],
          [
           "Ooh_La_La",
           "coolio"
          ],
          [
           "It_s_A_Man_s_World",
           "ice_cube"
          ],
          [
           "You_Can_t_Fade_Me",
           "ice_cube"
          ],
          [
           "Gettin__It",
           "too_short"
          ],
          [
           "Oakland",
           "too_short"
          ],
          [
           "Money_In_The_Ghetto",
           "too_short"
          ],
          [
           "It_s_All_Good",
           "too_short"
          ],
          [
           "Freaky_Tales",
           "too_short"
          ],
          [
           "Little_Girls",
           "too_short"
          ],
          [
           "Sixx_Minutes",
           "snoop_dogg"
          ],
          [
           "Snoop_s_Upside_Ya_Head",
           "snoop_dogg"
          ],
          [
           "When_I_Grow_Up",
           "snoop_dogg"
          ],
          [
           "Tha_Doggfather",
           "snoop_dogg"
          ],
          [
           "Doggyland",
           "snoop_dogg"
          ],
          [
           "I_Got_5_On_It",
           "luniz"
          ],
          [
           "Me_Against_The_World",
           "pac"
          ],
          [
           "Me_Against_The_World_2",
           "pac"
          ],
          [
           "Dear_Mama_2",
           "pac"
          ],
          [
           "Temptations",
           "pac"
          ],
          [
           "Can_U_Get_Away",
           "pac"
          ],
          [
           "Temptations_2",
           "pac"
          ],
          [
           "Dear_Mama",
           "pac"
          ],
          [
           "Heaven_Ain_t_Hard_2_Find",
           "pac"
          ],
          [
           "California_Love_2",
           "pac"
          ],
          [
           "What_z_Ya_Phone__",
           "pac"
          ],
          [
           "California_Love",
           "pac"
          ],
          [
           "Ratha_Be_Ya_Nigga",
           "pac"
          ],
          [
           "I_Get_Around_2",
           "pac"
          ],
          [
           "Papa_z_Song",
           "pac"
          ],
          [
           "I_Get_Around",
           "pac"
          ],
          [
           "Keep_Ya_Head_Up_2",
           "pac"
          ],
          [
           "Keep_Ya_Head_Up",
           "pac"
          ],
          [
           "I_Get_Around__Remix_",
           "pac"
          ],
          [
           "Papa_z_Song__Vibe_Tribe_Remix_",
           "pac"
          ],
          [
           "Keep_Ya_Head_Up__Madukey_Remix_",
           "pac"
          ],
          [
           "Toss_It_Up_2",
           "pac"
          ],
          [
           "Just_Like_Daddy",
           "pac"
          ],
          [
           "Toss_It_Up",
           "pac"
          ],
          [
           "White_Man_s_World",
           "pac"
          ],
          [
           "Brenda_s_Got_A_Baby",
           "pac"
          ],
          [
           "Trapped",
           "pac"
          ],
          [
           "Part_Time_Mutha",
           "pac"
          ],
          [
           "Something_Wicked",
           "pac"
          ],
          [
           "Brenda_s_Got_A_Baby_2",
           "pac"
          ],
          [
           "Baby_Don_t_Cry__Keep_Ya_Head_Up_II_",
           "pac"
          ],
          [
           "Everybody_Must_Get_Stoned",
           "cypress_hill"
          ],
          [
           "Killa_Hill_Niggas",
           "cypress_hill"
          ],
          [
           "What_Go_Around_Come_Around__Kid",
           "cypress_hill"
          ],
          [
           "Hits_From_The_Bong",
           "cypress_hill"
          ],
          [
           "The_Phuncky_Feel_One",
           "cypress_hill"
          ],
          [
           "Latin_Lingo_2",
           "cypress_hill"
          ],
          [
           "The_Funky_Cypress_Hill_Shit",
           "cypress_hill"
          ],
          [
           "Light_Another",
           "cypress_hill"
          ],
          [
           "Born_To_Get_Busy",
           "cypress_hill"
          ],
          [
           "Hole_In_The_Head",
           "cypress_hill"
          ],
          [
           "Automobile",
           "eazy_e"
          ],
          [
           "We_Want_Eazy_2",
           "eazy_e"
          ],
          [
           "Gutfest__89",
           "digital_underground"
          ],
          [
           "Doowutchyalike",
           "digital_underground"
          ],
          [
           "Sex_Packets",
           "digital_underground"
          ],
          [
           "Freaks_Of_The_Industry",
           "digital_underground"
          ],
          [
           "The_Packet_Man",
           "digital_underground"
          ],
          [
           "The_Humpty_Dance",
           "digital_underground"
          ],
          [
           "Sons_Of_The_P",
           "digital_underground"
          ],
          [
           "Heartbeat_Props",
           "digital_underground"
          ],
          [
           "No_Nose_Job",
           "digital_underground"
          ],
          [
           "Kiss_You_Back",
           "digital_underground"
          ],
          [
           "Bran_Nu_Swetta",
           "digital_underground"
          ],
          [
           "Wussup_Wit_The_Luv",
           "digital_underground"
          ],
          [
           "Wheee_",
           "digital_underground"
          ],
          [
           "Doo_Woo_You",
           "digital_underground"
          ],
          [
           "Jerkit_Circus",
           "digital_underground"
          ],
          [
           "Do_Ya_Like_Dirty_",
           "digital_underground"
          ],
          [
           "Want_It_All",
           "digital_underground"
          ],
          [
           "Oregano_Flow",
           "digital_underground"
          ],
          [
           "Girls_L_G_B_N_A_F_",
           "ice-t"
          ],
          [
           "Inside_Of_A_Gangsta",
           "ice-t"
          ],
          [
           "I_Must_Stand",
           "ice-t"
          ],
          [
           "How_Does_It_Feel",
           "ice-t"
          ],
          [
           "Sex",
           "ice-t"
          ],
          [
           "I_Love_Ladies",
           "ice-t"
          ],
          [
           "Our_Most_Requested_Record",
           "ice-t"
          ],
          [
           "Evil_E_What_About_Sex_",
           "ice-t"
          ],
          [
           "Hit_The_Fan",
           "ice-t"
          ],
          [
           "Gotta_Lotta_Love",
           "ice-t"
          ],
          [
           "She_Said",
           "the_pharcyde"
          ],
          [
           "Groupie_Therapy",
           "the_pharcyde"
          ],
          [
           "Splattitorium",
           "the_pharcyde"
          ],
          [
           "Heart___Soul",
           "the_pharcyde"
          ],
          [
           "The_E_N_D_",
           "the_pharcyde"
          ],
          [
           "Ya_Mama",
           "the_pharcyde"
          ],
          [
           "Otha_Fish",
           "the_pharcyde"
          ],
          [
           "4_Better_Or_4_Worse",
           "the_pharcyde"
          ],
          [
           "Pack_The_Pipe",
           "the_pharcyde"
          ],
          [
           "Passing_Me_By",
           "the_pharcyde"
          ],
          [
           "Please",
           "Dr.Dre"
          ],
          [
           "Do_4_Love",
           "Dr.Dre"
          ],
          [
           "Aftermath__The_Intro_",
           "Dr.Dre"
          ],
          [
           "Fame",
           "Dr.Dre"
          ],
          [
           "Got_Me_Open",
           "Dr.Dre"
          ]
         ],
         "hovertemplate": "Topic=3<br>x=%{x}<br>y=%{y}<br>Song=%{customdata[0]}<br>Artist=%{customdata[1]}<extra></extra>",
         "legendgroup": "3",
         "marker": {
          "color": "#00cc96",
          "symbol": "circle",
          "line": {
           "color": "DarkSlateGrey",
           "width": 1
          },
          "size": 10
         },
         "mode": "markers",
         "name": "3",
         "showlegend": true,
         "x": [
          -16.07354164123535,
          -15.575834274291992,
          -20.708240509033203,
          -8.731542587280273,
          -16.161544799804688,
          -15.823705673217773,
          -25.832019805908203,
          -15.357612609863281,
          -18.0535888671875,
          -15.943486213684082,
          -13.960394859313965,
          -20.365243911743164,
          -29.46843719482422,
          -6.256503105163574,
          -28.6052303314209,
          -19.35146141052246,
          -28.51543426513672,
          -20.805845260620117,
          -21.84222984313965,
          -0.13634495437145233,
          -3.1817409992218018,
          -13.222862243652344,
          -14.98549747467041,
          -20.839813232421875,
          -15.122560501098633,
          -13.508570671081543,
          -21.47123146057129,
          -17.880157470703125,
          -5.259056568145752,
          -3.9974753856658936,
          -4.596016883850098,
          -11.308091163635254,
          -24.259641647338867,
          -15.661227226257324,
          -2.5821316242218018,
          -14.397254943847656,
          -18.57933235168457,
          -10.106375694274902,
          -20.040966033935547,
          -12.423664093017578,
          -21.622159957885742,
          12.01594352722168,
          -26.674381256103516,
          -10.235344886779785,
          -19.87302589416504,
          -21.512243270874023,
          -24.16543197631836,
          -30.95536994934082,
          -29.33233070373535,
          -30.996978759765625,
          -32.4237174987793,
          -18.637821197509766,
          -17.658588409423828,
          -17.946149826049805,
          -23.228015899658203,
          -31.80060577392578,
          -16.33135414123535,
          -26.344173431396484,
          -14.46122932434082,
          -25.39222526550293,
          -22.21721076965332,
          -14.005122184753418,
          -15.775327682495117,
          -24.192203521728516,
          -23.858612060546875,
          -27.26487922668457,
          -29.49664306640625,
          -28.651351928710938,
          -19.042747497558594,
          -30.82466697692871,
          -30.253311157226562,
          -7.278586387634277,
          -30.96741485595703,
          -12.843982696533203,
          -20.913406372070312,
          -28.481863021850586,
          -16.61358070373535,
          -24.978883743286133,
          -31.479278564453125,
          -32.10542678833008,
          -18.61819076538086,
          -27.87447738647461,
          -19.806678771972656,
          -23.764802932739258,
          -18.144411087036133,
          -14.725985527038574,
          -3.1913154125213623,
          -14.721278190612793,
          -23.69334602355957,
          -14.83123779296875,
          -13.364543914794922,
          -21.461759567260742,
          -15.218179702758789,
          -8.866375923156738,
          -10.970022201538086,
          -18.976728439331055,
          -16.933935165405273,
          -30.224023818969727,
          -27.571767807006836,
          -27.039979934692383,
          -29.05034637451172,
          -8.272119522094727,
          -14.291630744934082,
          -16.04653549194336,
          -14.97914981842041,
          -5.264880657196045,
          -18.883615493774414,
          -30.766462326049805,
          -27.549755096435547,
          -21.59564208984375,
          -19.369516372680664,
          -11.70388412475586,
          -21.734758377075195,
          -16.921091079711914,
          -32.571048736572266,
          -25.945655822753906,
          -23.749303817749023,
          -12.927738189697266,
          -7.800861835479736,
          -31.974849700927734,
          -21.953262329101562,
          -15.580864906311035,
          -20.93625831604004,
          -22.085018157958984,
          -20.135892868041992,
          -15.15965747833252,
          -23.046178817749023,
          -19.668058395385742,
          -25.769800186157227,
          -15.19177532196045,
          -1.024870753288269,
          -1.2618885040283203,
          -13.709100723266602,
          -15.05211067199707,
          -14.244325637817383,
          -6.691896438598633,
          -4.48576545715332,
          -7.756883144378662,
          -18.273801803588867,
          -10.991495132446289,
          -22.16006851196289,
          -15.292737007141113,
          -12.761480331420898,
          -17.166791915893555,
          -16.132415771484375,
          -3.7361209392547607,
          -19.893604278564453,
          -17.78594970703125,
          -10.819089889526367,
          -10.228096961975098,
          -17.979482650756836,
          -10.720322608947754,
          -27.267263412475586,
          -22.15287208557129,
          -24.361738204956055,
          -12.631634712219238,
          -8.283395767211914,
          -9.388959884643555,
          -3.3259472846984863,
          -25.694900512695312,
          -12.536725044250488,
          -18.12250518798828,
          -19.86603546142578,
          -16.438013076782227,
          -4.740536689758301,
          -4.1293864250183105,
          -21.96115493774414,
          -16.907756805419922,
          -27.974109649658203,
          -30.588153839111328,
          -28.91130256652832,
          -25.968740463256836,
          -25.694272994995117,
          -26.677555084228516,
          -28.67778778076172,
          -26.90447425842285,
          -15.363395690917969,
          -14.438694953918457,
          -17.438344955444336,
          -21.28154182434082,
          -23.368392944335938,
          -20.775184631347656,
          -19.250852584838867,
          -29.26471519470215,
          -30.27521324157715,
          -22.777795791625977,
          -21.60072135925293,
          -27.020139694213867,
          -27.76537322998047,
          -26.137887954711914,
          -29.859848022460938,
          -25.542076110839844,
          -17.087026596069336,
          24.886125564575195,
          -18.90041732788086,
          -18.289226531982422,
          -21.859575271606445,
          -31.5648136138916,
          -14.83297348022461,
          -21.620037078857422,
          -14.670185089111328,
          -9.049020767211914,
          -3.966423988342285,
          -10.28272533416748,
          -4.9300127029418945,
          -24.357608795166016,
          -1.2243707180023193,
          -14.622994422912598,
          -9.492197036743164,
          -11.729033470153809,
          -25.433879852294922,
          -31.440523147583008,
          -27.72279167175293,
          -12.54447078704834,
          -24.74089241027832,
          -20.48288345336914,
          -3.7759432792663574,
          -2.2613816261291504,
          -11.810687065124512,
          -30.947595596313477,
          -20.064300537109375,
          -25.782855987548828,
          -13.291268348693848,
          -17.67401123046875,
          -17.017715454101562,
          -18.066781997680664,
          -25.386411666870117,
          -21.949146270751953,
          -17.80396842956543,
          -17.00919532775879,
          -17.65715789794922,
          -31.195661544799805,
          -20.022497177124023,
          -23.01386833190918,
          -24.846202850341797,
          -1.9709148406982422,
          -25.594179153442383,
          -2.0151028633117676,
          -22.59227752685547,
          -16.773746490478516,
          0.34288036823272705,
          -18.6815242767334,
          -11.697362899780273,
          -12.73914909362793,
          -13.573060035705566,
          -9.446399688720703,
          -21.74489402770996,
          -17.87396812438965,
          -27.16493034362793,
          -29.544475555419922,
          -5.225375652313232,
          -18.568613052368164,
          -25.328601837158203
         ],
         "xaxis": "x",
         "y": [
          15.320422172546387,
          21.80975341796875,
          34.3256721496582,
          11.846029281616211,
          24.35482406616211,
          35.377044677734375,
          42.55484390258789,
          14.425264358520508,
          39.074554443359375,
          17.036401748657227,
          31.71739959716797,
          31.364978790283203,
          48.88248062133789,
          19.598695755004883,
          46.891483306884766,
          32.307254791259766,
          48.23222351074219,
          39.83430862426758,
          40.55305862426758,
          24.523006439208984,
          22.204193115234375,
          23.619211196899414,
          14.499095916748047,
          39.345951080322266,
          22.02519989013672,
          32.66324996948242,
          31.950279235839844,
          30.332080841064453,
          19.025863647460938,
          23.074867248535156,
          22.5980281829834,
          15.324678421020508,
          35.35784149169922,
          15.384181022644043,
          -15.870274543762207,
          28.925107955932617,
          28.16012191772461,
          14.89775562286377,
          27.17328643798828,
          27.52775764465332,
          30.92725944519043,
          -19.472667694091797,
          40.203182220458984,
          24.224817276000977,
          25.453414916992188,
          26.051380157470703,
          34.68561553955078,
          49.50511169433594,
          46.06999206542969,
          47.909873962402344,
          51.502174377441406,
          30.50265121459961,
          33.5881233215332,
          25.322521209716797,
          40.40922164916992,
          51.1288948059082,
          17.206254959106445,
          40.458213806152344,
          34.347103118896484,
          44.471946716308594,
          38.1588134765625,
          34.72865676879883,
          34.149898529052734,
          36.22813415527344,
          44.27446365356445,
          48.02151107788086,
          46.688270568847656,
          49.485931396484375,
          30.90880584716797,
          47.517845153808594,
          49.41557312011719,
          22.27056121826172,
          50.4901123046875,
          34.49745559692383,
          37.13288116455078,
          47.896358489990234,
          36.46138381958008,
          40.76966857910156,
          48.79295349121094,
          49.970035552978516,
          32.230220794677734,
          48.80785369873047,
          30.536815643310547,
          35.205848693847656,
          29.34329605102539,
          17.06684684753418,
          22.76837158203125,
          16.206375122070312,
          36.84333038330078,
          15.8101167678833,
          28.059547424316406,
          34.05379867553711,
          25.50733757019043,
          21.94265365600586,
          19.694913864135742,
          29.740320205688477,
          27.445730209350586,
          47.548648834228516,
          41.44879913330078,
          41.27745819091797,
          45.22581481933594,
          -4.101995944976807,
          17.13395881652832,
          33.87968826293945,
          27.285627365112305,
          23.19087028503418,
          34.15934753417969,
          50.13124084472656,
          46.014286041259766,
          29.833271026611328,
          31.59337043762207,
          23.63991928100586,
          41.47720718383789,
          30.450885772705078,
          50.83620071411133,
          44.858272552490234,
          44.089935302734375,
          34.434932708740234,
          13.123510360717773,
          50.5395622253418,
          41.51824188232422,
          16.792438507080078,
          34.51866149902344,
          35.56745147705078,
          32.949092864990234,
          15.447504043579102,
          39.65479278564453,
          24.70502471923828,
          40.87643051147461,
          24.362064361572266,
          -10.79361629486084,
          -11.531816482543945,
          30.864200592041016,
          25.516357421875,
          33.78059768676758,
          12.857660293579102,
          -14.463285446166992,
          12.42354679107666,
          34.771217346191406,
          8.121707916259766,
          35.387088775634766,
          28.962955474853516,
          32.612403869628906,
          22.709129333496094,
          16.33356285095215,
          22.109716415405273,
          35.40205001831055,
          36.36434555053711,
          18.76591682434082,
          21.564376831054688,
          23.06043243408203,
          21.254608154296875,
          46.63098907470703,
          39.24232864379883,
          38.2175407409668,
          27.997591018676758,
          -3.9624197483062744,
          24.658279418945312,
          -15.348897933959961,
          45.53913497924805,
          28.723060607910156,
          39.86851119995117,
          26.891151428222656,
          25.681495666503906,
          20.696508407592773,
          20.938426971435547,
          36.74384307861328,
          22.611751556396484,
          47.451480865478516,
          46.25093460083008,
          47.600982666015625,
          39.43682861328125,
          40.103519439697266,
          43.966190338134766,
          46.30035400390625,
          42.49171829223633,
          35.29439163208008,
          28.508262634277344,
          36.80870819091797,
          25.98395538330078,
          41.93819046020508,
          30.53844451904297,
          33.34535217285156,
          47.133094787597656,
          48.881752014160156,
          41.80735397338867,
          34.25606918334961,
          45.592811584472656,
          46.875099182128906,
          38.31446075439453,
          50.1099739074707,
          35.88665771484375,
          33.71091079711914,
          -5.520878314971924,
          26.59308433532715,
          39.57887268066406,
          39.815914154052734,
          49.58390426635742,
          21.45071029663086,
          37.95177459716797,
          29.255231857299805,
          25.411422729492188,
          -14.893505096435547,
          15.70928955078125,
          -20.04119110107422,
          37.13069534301758,
          22.428905487060547,
          26.817991256713867,
          26.05721664428711,
          24.337604522705078,
          43.65913391113281,
          50.092994689941406,
          47.948883056640625,
          31.948055267333984,
          42.57169723510742,
          29.101240158081055,
          23.896284103393555,
          -12.052403450012207,
          19.670591354370117,
          50.95730209350586,
          35.844749450683594,
          44.17403793334961,
          24.385026931762695,
          22.665908813476562,
          29.8370418548584,
          38.894264221191406,
          36.96829605102539,
          30.564838409423828,
          34.21088790893555,
          21.993818283081055,
          28.220102310180664,
          48.76437759399414,
          36.970184326171875,
          41.4046745300293,
          45.5745964050293,
          21.912832260131836,
          44.692787170410156,
          -12.073357582092285,
          40.28479766845703,
          30.857297897338867,
          -10.857877731323242,
          27.874160766601562,
          19.084392547607422,
          32.69596481323242,
          32.072120666503906,
          24.76335334777832,
          32.502132415771484,
          32.579803466796875,
          45.302425384521484,
          47.98444747924805,
          21.13277816772461,
          29.8579044342041,
          39.43846893310547
         ],
         "yaxis": "y",
         "type": "scattergl"
        },
        {
         "customdata": [
          [
           "8_Iz_Enuff",
           "big_l"
          ],
          [
           "The_Update",
           "beastie_boys"
          ],
          [
           "Sucka_Nigga",
           "a_tribe_called_quest"
          ],
          [
           "Things_Done_Changed",
           "the_notorious_big"
          ],
          [
           "Who_Shot_Ya_",
           "the_notorious_big"
          ],
          [
           "Intro",
           "the_notorious_big"
          ],
          [
           "Warning",
           "the_notorious_big"
          ],
          [
           "Everyday_Struggle",
           "the_notorious_big"
          ],
          [
           "Machine_Gun_Funk",
           "the_notorious_big"
          ],
          [
           "Suicidal_Thoughts",
           "the_notorious_big"
          ],
          [
           "Ready_To_Die",
           "the_notorious_big"
          ],
          [
           "Respect",
           "the_notorious_big"
          ],
          [
           "Lucky_Me",
           "jay-z"
          ],
          [
           "Face_Off",
           "jay-z"
          ],
          [
           "Where_I_m_From",
           "jay-z"
          ],
          [
           "The_City_Is_Mine",
           "jay-z"
          ],
          [
           "Real_Niggaz",
           "jay-z"
          ],
          [
           "The_Streets_Is_Watching",
           "jay-z"
          ],
          [
           "Reservoir_Dogs",
           "jay-z"
          ],
          [
           "Can_I_Get_A___",
           "jay-z"
          ],
          [
           "It_s_Alright",
           "jay-z"
          ],
          [
           "If_I_Should_Die",
           "jay-z"
          ],
          [
           "Money_Ain_t_A_Thang",
           "jay-z"
          ],
          [
           "Intro___Hand_It_Down",
           "jay-z"
          ],
          [
           "Hard_Knock_Life__Ghetto_Anthem_",
           "jay-z"
          ],
          [
           "Ride_Or_Die",
           "jay-z"
          ],
          [
           "Paper_Chase",
           "jay-z"
          ],
          [
           "It_s_Like_That",
           "jay-z"
          ],
          [
           "Coming_Of_Age__Da_Sequel_",
           "jay-z"
          ],
          [
           "Can_t_Knock_The_Hustle",
           "jay-z"
          ],
          [
           "Regrets",
           "jay-z"
          ],
          [
           "Bring_It_On",
           "jay-z"
          ],
          [
           "Politics_As_Usual",
           "jay-z"
          ],
          [
           "Brooklyn_s_Finest",
           "jay-z"
          ],
          [
           "Feelin_It",
           "jay-z"
          ],
          [
           "Dead_Presidents_II",
           "jay-z"
          ],
          [
           "Ain_t_No_Nigga",
           "jay-z"
          ],
          [
           "D_Evils",
           "jay-z"
          ],
          [
           "Can_I_Live_II",
           "jay-z"
          ],
          [
           "Coming_Of_Age",
           "jay-z"
          ],
          [
           "Shootouts",
           "nas"
          ],
          [
           "The_Set_Up",
           "nas"
          ],
          [
           "Nas_Is_Coming",
           "nas"
          ],
          [
           "Street_Dreams",
           "nas"
          ],
          [
           "Suspect",
           "nas"
          ],
          [
           "The_Message",
           "nas"
          ],
          [
           "Take_It_In_Blood",
           "nas"
          ],
          [
           "I_Gave_You_Power",
           "nas"
          ],
          [
           "Live_Nigga_Rap",
           "nas"
          ],
          [
           "Affirmative_Action",
           "nas"
          ],
          [
           "Watch_Dem_Niggas",
           "nas"
          ],
          [
           "Silent_Murder",
           "nas"
          ],
          [
           "Memory_Lane__Sittin__In_Da_Park_",
           "nas"
          ],
          [
           "Life_s_A_Bitch",
           "nas"
          ],
          [
           "Represent",
           "nas"
          ],
          [
           "I_Shot_Ya__Remix_",
           "ll_cool_j"
          ],
          [
           "Get_Da_Drop_On_Em",
           "ll_cool_j"
          ],
          [
           "No_Airplay",
           "ll_cool_j"
          ],
          [
           "Apostle_s_Warning",
           "mobb_deep"
          ],
          [
           "Man_Down",
           "mobb_deep"
          ],
          [
           "Hell_On_Earth__Front_Lines_",
           "mobb_deep"
          ],
          [
           "Still_Shinin_",
           "mobb_deep"
          ],
          [
           "Can_t_Get_Enough_Of_It",
           "mobb_deep"
          ],
          [
           "Give_It_Up_Fast",
           "mobb_deep"
          ],
          [
           "Get_Dealt_With",
           "mobb_deep"
          ],
          [
           "Nighttime_Vultures",
           "mobb_deep"
          ],
          [
           "G_O_D__Pt__III",
           "mobb_deep"
          ],
          [
           "Drop_A_Gem_On__Em",
           "mobb_deep"
          ],
          [
           "Animal_Instinct",
           "mobb_deep"
          ],
          [
           "Survival_Of_The_Fittest",
           "mobb_deep"
          ],
          [
           "Eye_For_An_Eye__Your_Beef_Is_Mines_",
           "mobb_deep"
          ],
          [
           "Trife_Life",
           "mobb_deep"
          ],
          [
           "Give_Up_The_Goods__Just_Step_",
           "mobb_deep"
          ],
          [
           "Q_U__Hectic",
           "mobb_deep"
          ],
          [
           "Shook_Ones_Pt__II",
           "mobb_deep"
          ],
          [
           "Cradle_To_The_Grave",
           "mobb_deep"
          ],
          [
           "Right_Back_At_You",
           "mobb_deep"
          ],
          [
           "Party_Over",
           "mobb_deep"
          ],
          [
           "Up_North_Trip",
           "mobb_deep"
          ],
          [
           "The_Start_Of_Your_Ending__41st_Side_",
           "mobb_deep"
          ],
          [
           "Drink_Away_The_Pain__Situations_",
           "mobb_deep"
          ],
          [
           "Locked_In_Spofford",
           "mobb_deep"
          ],
          [
           "Bitch_Ass_Nigga",
           "mobb_deep"
          ],
          [
           "Me___My_Crew",
           "mobb_deep"
          ],
          [
           "Stomp_Em_Out",
           "mobb_deep"
          ],
          [
           "Hold_Down_The_Fort",
           "mobb_deep"
          ],
          [
           "Project_Hallways",
           "mobb_deep"
          ],
          [
           "Can_It_Be_All_So_Simple",
           "wu_tang_clan"
          ],
          [
           "Shame_On_A_Nigga",
           "wu_tang_clan"
          ],
          [
           "Clan_In_Da_Front",
           "wu_tang_clan"
          ],
          [
           "Bring_Da_Ruckus",
           "wu_tang_clan"
          ],
          [
           "Wu_Tang__7th_Chamber",
           "wu_tang_clan"
          ],
          [
           "C_R_E_A_M_",
           "wu_tang_clan"
          ],
          [
           "Intro",
           "busta_rhymes"
          ],
          [
           "We_Could_Take_It_Outside",
           "busta_rhymes"
          ],
          [
           "So_Hardcore",
           "busta_rhymes"
          ],
          [
           "Things_We_Be_Doin__For_Money__Part_One_",
           "busta_rhymes"
          ],
          [
           "Get_Off_My_Block",
           "busta_rhymes"
          ],
          [
           "Survival_Hungry",
           "busta_rhymes"
          ],
          [
           "The_Body_Rock",
           "busta_rhymes"
          ],
          [
           "Dangerous",
           "busta_rhymes"
          ],
          [
           "There_s_Not_a_Problem_My_Squad_Can_t_Fix",
           "busta_rhymes"
          ],
          [
           "Rhymes_Galore",
           "busta_rhymes"
          ],
          [
           "Things_We_Be_Doin__For_Money__Part_Two_",
           "busta_rhymes"
          ],
          [
           "When_Disaster_Strikes",
           "busta_rhymes"
          ],
          [
           "Put_Your_Hands_Where_My_Eyes_Could_See",
           "busta_rhymes"
          ],
          [
           "Get_High_Tonight",
           "busta_rhymes"
          ],
          [
           "Party_Is_Goin_On_Over_Here",
           "busta_rhymes"
          ],
          [
           "Extinction_Level_Event",
           "busta_rhymes"
          ],
          [
           "Gimme_Some_More",
           "busta_rhymes"
          ],
          [
           "Against_All_Odds",
           "busta_rhymes"
          ],
          [
           "Everybody_Rise",
           "busta_rhymes"
          ],
          [
           "What_The_Fuck_You_Want__",
           "busta_rhymes"
          ],
          [
           "Where_We_Are_About_To_Take_It",
           "busta_rhymes"
          ],
          [
           "Hot_Shit_Makin__Ya_Bounce",
           "busta_rhymes"
          ],
          [
           "This_Means_War__",
           "busta_rhymes"
          ],
          [
           "Keepin__It_Tight",
           "busta_rhymes"
          ],
          [
           "Tear_Da_Roof_Off",
           "busta_rhymes"
          ],
          [
           "Iz_They_Wildin__Wit__Us___Getting__Rowdy_Wit__Us",
           "busta_rhymes"
          ],
          [
           "Finish_Line",
           "busta_rhymes"
          ],
          [
           "Flipmode_Squad_Meets_Def_Squad",
           "busta_rhymes"
          ],
          [
           "Keep_It_Movin_",
           "busta_rhymes"
          ],
          [
           "Hot_Fudge",
           "busta_rhymes"
          ],
          [
           "Everything_Remains_Raw",
           "busta_rhymes"
          ],
          [
           "Abandon_Ship",
           "busta_rhymes"
          ],
          [
           "D_A_I_S_Y__AGE",
           "de_la_soul"
          ],
          [
           "Stakes_Is_High",
           "de_la_soul"
          ],
          [
           "I_Hear_Voices",
           "puff_daddy"
          ],
          [
           "Is_This_The_End___Part_Two_",
           "puff_daddy"
          ],
          [
           "Real_Niggas",
           "puff_daddy"
          ],
          [
           "PE_2000",
           "puff_daddy"
          ],
          [
           "Fake_Thugs_Dedication",
           "puff_daddy"
          ],
          [
           "Journey_Through_The_Life",
           "puff_daddy"
          ],
          [
           "What_You_Want",
           "puff_daddy"
          ],
          [
           "Do_You_Like_It__Do_You_Want_It",
           "puff_daddy"
          ],
          [
           "Reverse",
           "puff_daddy"
          ],
          [
           "Victory",
           "puff_daddy"
          ],
          [
           "Been_Around_The_World",
           "puff_daddy"
          ],
          [
           "Young_G_s",
           "puff_daddy"
          ],
          [
           "What_You_Gonna_Do_",
           "puff_daddy"
          ],
          [
           "I_Got_The_Power",
           "puff_daddy"
          ],
          [
           "Is_This_The_End_",
           "puff_daddy"
          ],
          [
           "Pain",
           "puff_daddy"
          ],
          [
           "Do_You_Know_",
           "puff_daddy"
          ],
          [
           "Don_t_Stop_What_You_re_Doing",
           "puff_daddy"
          ],
          [
           "Friends",
           "puff_daddy"
          ],
          [
           "Pain_2",
           "puff_daddy"
          ],
          [
           "Blowin__Up_The_Spot",
           "gang_starr"
          ],
          [
           "F_A_L_A_",
           "gang_starr"
          ],
          [
           "Tonz__O__Gunz",
           "gang_starr"
          ],
          [
           "Tell_Me_Who_Profits",
           "soulsofmischief"
          ],
          [
           "Live_And_Let_Live",
           "soulsofmischief"
          ],
          [
           "Secret_Service",
           "soulsofmischief"
          ],
          [
           "Do_You_Want_It_",
           "soulsofmischief"
          ],
          [
           "Sa_Prize__Part_2_",
           "nwa"
          ],
          [
           "100_Miles_And_Runnin_",
           "nwa"
          ],
          [
           "Kamurshol",
           "nwa"
          ],
          [
           "Approach_To_Danger",
           "nwa"
          ],
          [
           "Appetite_For_Destruction",
           "nwa"
          ],
          [
           "Real_Niggaz_Don_t_Die",
           "nwa"
          ],
          [
           "Niggaz_4_Life",
           "nwa"
          ],
          [
           "Gangsta_s_Paradise",
           "coolio"
          ],
          [
           "Is_This_Me_",
           "coolio"
          ],
          [
           "Hand_On_My_Nutsac",
           "coolio"
          ],
          [
           "Bring_Back_Somethin_Fo_Da_Hood",
           "coolio"
          ],
          [
           "Fantastic_Voyage",
           "coolio"
          ],
          [
           "2_Minutes___21_Seconds_Of_Funk",
           "coolio"
          ],
          [
           "One_Mo",
           "coolio"
          ],
          [
           "My_Summer_Vacation",
           "ice_cube"
          ],
          [
           "Good_Cop_Bad_Cop",
           "ice_cube"
          ],
          [
           "When_Will_They_Shoot_",
           "ice_cube"
          ],
          [
           "Enemy",
           "ice_cube"
          ],
          [
           "Bop_Gun__One_Nation_",
           "ice_cube"
          ],
          [
           "Thangs_Change",
           "too_short"
          ],
          [
           "Murder_Was_The_Case__DeathAfterVisualizingEternity_",
           "snoop_dogg"
          ],
          [
           "Lodi_Dodi_Intro",
           "snoop_dogg"
          ],
          [
           "Serial_Killa",
           "snoop_dogg"
          ],
          [
           "Downtown_Assassins",
           "snoop_dogg"
          ],
          [
           "2001",
           "snoop_dogg"
          ],
          [
           "Blueberry",
           "snoop_dogg"
          ],
          [
           "Gold_Rush",
           "snoop_dogg"
          ],
          [
           "Ride_4_Me",
           "snoop_dogg"
          ],
          [
           "5150",
           "luniz"
          ],
          [
           "900_Blame_A_Nigga",
           "luniz"
          ],
          [
           "So_Many_Tears_2",
           "pac"
          ],
          [
           "If_I_Die_2Nite",
           "pac"
          ],
          [
           "Death_Around_The_Corner",
           "pac"
          ],
          [
           "So_Many_Tears",
           "pac"
          ],
          [
           "Fuck_The_World",
           "pac"
          ],
          [
           "Lord_Knows",
           "pac"
          ],
          [
           "It_Ain_t_Easy",
           "pac"
          ],
          [
           "Outlaw",
           "pac"
          ],
          [
           "Young_Niggaz",
           "pac"
          ],
          [
           "Heavy_In_The_Game",
           "pac"
          ],
          [
           "Thug_Passion",
           "pac"
          ],
          [
           "I_Ain_t_Mad_At_Cha_2",
           "pac"
          ],
          [
           "Life_Goes_On_2",
           "pac"
          ],
          [
           "Got_My_Mind_Made_Up",
           "pac"
          ],
          [
           "All_Eyez_On_Me",
           "pac"
          ],
          [
           "Heartz_Of_Men",
           "pac"
          ],
          [
           "Picture_Me_Rollin_",
           "pac"
          ],
          [
           "2_Of_Amerikaz_Most_Wanted",
           "pac"
          ],
          [
           "When_We_Ride",
           "pac"
          ],
          [
           "Ambitionz_Az_A_Ridah",
           "pac"
          ],
          [
           "I_Ain_t_Mad_At_Cha",
           "pac"
          ],
          [
           "How_Do_You_Want_It_2",
           "pac"
          ],
          [
           "Life_Goes_On",
           "pac"
          ],
          [
           "Only_God_Can_Judge_Me",
           "pac"
          ],
          [
           "How_Do_You_Want_It",
           "pac"
          ],
          [
           "Ain_t_Hard_2_Find",
           "pac"
          ],
          [
           "No_More_Pain",
           "pac"
          ],
          [
           "Heartz_Of_Men_2",
           "pac"
          ],
          [
           "Check_Out_Time",
           "pac"
          ],
          [
           "Shorty_Wanna_Be_A_Thug",
           "pac"
          ],
          [
           "Run_Tha_Streetz",
           "pac"
          ],
          [
           "Can_t_C_Me",
           "pac"
          ],
          [
           "Picture_Me_Rollin__2",
           "pac"
          ],
          [
           "2_Of_Amerikaz_Most_Wanted_2",
           "pac"
          ],
          [
           "Holla_At_Me",
           "pac"
          ],
          [
           "Tradin_War_Stories",
           "pac"
          ],
          [
           "Last_Wordz",
           "pac"
          ],
          [
           "Souljah_s_Revenge",
           "pac"
          ],
          [
           "Point_The_Finga",
           "pac"
          ],
          [
           "5_Deadly_Venomz",
           "pac"
          ],
          [
           "Strictly_4_My_N_I_G_G_A_Z_",
           "pac"
          ],
          [
           "Let_s_Get_It_On",
           "pac"
          ],
          [
           "Hail_Mary",
           "pac"
          ],
          [
           "To_Live___Die_In_L_A_",
           "pac"
          ],
          [
           "Against_All_Odds",
           "pac"
          ],
          [
           "Krazy",
           "pac"
          ],
          [
           "To_Live___Die_In_L_A__2",
           "pac"
          ],
          [
           "Hail_Mary_2",
           "pac"
          ],
          [
           "Blasphemy",
           "pac"
          ],
          [
           "Me_And_My_Girlfriend",
           "pac"
          ],
          [
           "Intro_Bomb_First__My_Second_Reply_",
           "pac"
          ],
          [
           "Life_Of_An_Outlaw",
           "pac"
          ],
          [
           "I_Don_t_Give_A_Fuck",
           "pac"
          ],
          [
           "Young_Black_Male",
           "pac"
          ],
          [
           "Crooked_Ass_Nigga",
           "pac"
          ],
          [
           "Trapped_2",
           "pac"
          ],
          [
           "Violent",
           "pac"
          ],
          [
           "Soulja_s_Story",
           "pac"
          ],
          [
           "Words_Of_Wisdom",
           "pac"
          ],
          [
           "The_Good_Die_Young",
           "pac"
          ],
          [
           "Still_I_Rise",
           "pac"
          ],
          [
           "Killuminati",
           "pac"
          ],
          [
           "Hell_4_A_Hustler",
           "pac"
          ],
          [
           "Black_Jesuz",
           "pac"
          ],
          [
           "Letter_To_The_President",
           "pac"
          ],
          [
           "Homeboyz",
           "pac"
          ],
          [
           "High_Speed",
           "pac"
          ],
          [
           "U_Can_Be_Touched",
           "pac"
          ],
          [
           "Tattoo_Tears",
           "pac"
          ],
          [
           "As_The_World_Turns",
           "pac"
          ],
          [
           "Secretz_Of_War",
           "pac"
          ],
          [
           "Y_all_Don_t_Know_Us",
           "pac"
          ],
          [
           "Throw_Your_Set_In_The_Air",
           "cypress_hill"
          ],
          [
           "Killafornia",
           "cypress_hill"
          ],
          [
           "Locotes",
           "cypress_hill"
          ],
          [
           "Boom_Biddy_Bye_Bye",
           "cypress_hill"
          ],
          [
           "Hand_On_The_Glock",
           "cypress_hill"
          ],
          [
           "Scooby_Doo",
           "cypress_hill"
          ],
          [
           "Stoned_Is_The_Way_Of_The_Walk",
           "cypress_hill"
          ],
          [
           "Down_2_Tha_Last_Roach",
           "eazy_e"
          ],
          [
           "Amy_Last_Wordz",
           "eazy_e"
          ],
          [
           "Tha_Muthaphukkin__Real",
           "eazy_e"
          ],
          [
           "So_Many_Ways",
           "warren_g_"
          ],
          [
           "Recognize",
           "warren_g_"
          ],
          [
           "What_s_Next",
           "warren_g_"
          ],
          [
           "Do_You_See",
           "warren_g_"
          ],
          [
           "Where_The_Shit_Goes_Down_",
           "ice-t"
          ],
          [
           "A_Lotta_Niggas",
           "ice-t"
          ],
          [
           "The_5th",
           "ice-t"
          ],
          [
           "Cramp_Your_Style",
           "ice-t"
          ],
          [
           "Syndicate_4_Ever",
           "ice-t"
          ],
          [
           "They_Want_Me_Back_In",
           "ice-t"
          ],
          [
           "Race_War",
           "ice-t"
          ],
          [
           "Addicted_To_Danger",
           "ice-t"
          ],
          [
           "G_Style",
           "ice-t"
          ],
          [
           "That_s_How_I_m_Livin",
           "ice-t"
          ],
          [
           "Gangstas_Make_The_World_Go_Round",
           "westside_connection"
          ],
          [
           "The_Hustle",
           "the_pharcyde"
          ],
          [
           "As_The_World_Keeps_Turning",
           "Dr.Dre"
          ],
          [
           "Been_There__Done_That",
           "Dr.Dre"
          ],
          [
           "No_Second_Chance",
           "Dr.Dre"
          ],
          [
           "Lyrical_Gangbang",
           "Dr.Dre"
          ],
          [
           "High_Powered",
           "Dr.Dre"
          ],
          [
           "The_Day_The_Niggaz_Took_Over",
           "Dr.Dre"
          ],
          [
           "A_Nigga_Witta_Gun",
           "Dr.Dre"
          ],
          [
           "Wanted_Dead",
           "mack_10"
          ],
          [
           "Westside_Slaughterhouse",
           "mack_10"
          ]
         ],
         "hovertemplate": "Topic=4<br>x=%{x}<br>y=%{y}<br>Song=%{customdata[0]}<br>Artist=%{customdata[1]}<extra></extra>",
         "legendgroup": "4",
         "marker": {
          "color": "#ab63fa",
          "symbol": "circle",
          "line": {
           "color": "DarkSlateGrey",
           "width": 1
          },
          "size": 10
         },
         "mode": "markers",
         "name": "4",
         "showlegend": true,
         "x": [
          18.774311065673828,
          -3.7284693717956543,
          25.852563858032227,
          39.466033935546875,
          48.001041412353516,
          24.847028732299805,
          31.166629791259766,
          41.533851623535156,
          50.385921478271484,
          32.472599029541016,
          46.416561126708984,
          18.39271354675293,
          24.691064834594727,
          32.1464958190918,
          36.128482818603516,
          12.130505561828613,
          26.10012435913086,
          50.657508850097656,
          28.853927612304688,
          46.71317672729492,
          28.569875717163086,
          54.26030349731445,
          17.14267349243164,
          25.11077117919922,
          24.32207679748535,
          54.55550765991211,
          25.32740592956543,
          25.11785125732422,
          38.712242126464844,
          19.006704330444336,
          23.279890060424805,
          42.30898666381836,
          20.806156158447266,
          27.40102195739746,
          28.95581817626953,
          27.459566116333008,
          26.68560028076172,
          23.910663604736328,
          39.66045379638672,
          23.700063705444336,
          32.091270446777344,
          32.81774139404297,
          23.733154296875,
          44.90648651123047,
          26.63030242919922,
          39.3015022277832,
          13.937542915344238,
          39.0261116027832,
          41.72571563720703,
          21.0019588470459,
          21.443927764892578,
          26.672508239746094,
          21.506433486938477,
          36.53471374511719,
          37.215087890625,
          30.8973445892334,
          52.686302185058594,
          24.56584358215332,
          24.79299545288086,
          26.39866828918457,
          49.812896728515625,
          24.866710662841797,
          31.656307220458984,
          25.218618392944336,
          23.21781349182129,
          27.27484130859375,
          37.852909088134766,
          20.013835906982422,
          22.456146240234375,
          39.76202392578125,
          19.97076988220215,
          41.71396255493164,
          33.027950286865234,
          46.234798431396484,
          20.32379150390625,
          23.103883743286133,
          38.37198257446289,
          41.270286560058594,
          38.63442611694336,
          20.66474723815918,
          25.225130081176758,
          23.712867736816406,
          25.739526748657227,
          26.659210205078125,
          33.9190559387207,
          51.60276794433594,
          47.672035217285156,
          27.91146469116211,
          18.196060180664062,
          17.444961547851562,
          37.06950759887695,
          47.280513763427734,
          10.522920608520508,
          26.621944427490234,
          27.136486053466797,
          18.586570739746094,
          24.026180267333984,
          23.062755584716797,
          24.39593505859375,
          19.016420364379883,
          28.08370590209961,
          30.583274841308594,
          20.6549015045166,
          46.76403045654297,
          38.42024230957031,
          27.928173065185547,
          10.818732261657715,
          19.322647094726562,
          49.57268142700195,
          32.11930847167969,
          8.713768005371094,
          24.546741485595703,
          30.1081600189209,
          22.259397506713867,
          48.59366226196289,
          -3.8169636726379395,
          9.260252952575684,
          30.30097770690918,
          27.429006576538086,
          36.7767448425293,
          28.246950149536133,
          29.97435760498047,
          11.910381317138672,
          25.22092628479004,
          31.256412506103516,
          13.069904327392578,
          25.107746124267578,
          32.84184265136719,
          39.38209533691406,
          29.402814865112305,
          18.898975372314453,
          20.549470901489258,
          45.217185974121094,
          22.062646865844727,
          25.344722747802734,
          31.521726608276367,
          18.86817169189453,
          47.54220962524414,
          33.20268630981445,
          23.641347885131836,
          28.17954444885254,
          27.19899559020996,
          50.45989227294922,
          1.201173186302185,
          18.673795700073242,
          19.063655853271484,
          52.045597076416016,
          7.916595458984375,
          28.922786712646484,
          34.22978973388672,
          1.7022441625595093,
          40.46625900268555,
          20.564353942871094,
          2.7107620239257812,
          21.905988693237305,
          24.02060317993164,
          31.376262664794922,
          29.670032501220703,
          20.81896209716797,
          44.15313720703125,
          44.96903610229492,
          10.468917846679688,
          24.81092643737793,
          10.074228286743164,
          8.755341529846191,
          21.828815460205078,
          10.828479766845703,
          9.671614646911621,
          19.776338577270508,
          26.08350372314453,
          23.7308292388916,
          22.147111892700195,
          19.012765884399414,
          18.022844314575195,
          39.73881530761719,
          10.061071395874023,
          19.953590393066406,
          19.05213737487793,
          24.50912857055664,
          3.9394214153289795,
          11.330025672912598,
          10.68945598602295,
          29.315738677978516,
          27.720623016357422,
          23.932493209838867,
          49.69224548339844,
          41.69264602661133,
          22.90132713317871,
          27.951496124267578,
          26.696369171142578,
          26.24995994567871,
          49.923702239990234,
          40.49608612060547,
          22.648452758789062,
          26.120906829833984,
          32.59389114379883,
          52.23582077026367,
          3.8917055130004883,
          54.73797607421875,
          50.35969161987305,
          44.69171905517578,
          42.981529235839844,
          52.766597747802734,
          43.23520278930664,
          32.57494354248047,
          51.780487060546875,
          51.4058723449707,
          37.71879196166992,
          53.1680793762207,
          43.43134307861328,
          53.99909973144531,
          48.6005973815918,
          25.85186767578125,
          47.00798416137695,
          43.49000549316406,
          42.08979797363281,
          44.27880859375,
          43.10659408569336,
          40.202388763427734,
          52.6428337097168,
          20.8382568359375,
          48.37617874145508,
          40.13564682006836,
          23.85382080078125,
          29.00111198425293,
          8.859013557434082,
          52.790836334228516,
          46.04644775390625,
          48.27449035644531,
          52.7231559753418,
          45.33743667602539,
          52.259605407714844,
          29.227947235107422,
          44.738380432128906,
          48.489986419677734,
          48.499549865722656,
          25.212757110595703,
          21.032428741455078,
          25.61171531677246,
          25.387706756591797,
          18.460433959960938,
          32.883060455322266,
          1.0655945539474487,
          38.708274841308594,
          37.52244186401367,
          47.830909729003906,
          50.77418518066406,
          36.209896087646484,
          49.727230072021484,
          47.21469497680664,
          44.33766174316406,
          48.66453552246094,
          53.722930908203125,
          47.46898651123047,
          49.362735748291016,
          37.491146087646484,
          24.88272476196289,
          19.41268539428711,
          16.694841384887695,
          25.253746032714844,
          23.878889083862305,
          4.742063045501709,
          2.5218265056610107,
          19.9686222076416,
          49.3013916015625,
          24.63542938232422,
          19.312021255493164,
          24.500755310058594,
          3.215440273284912,
          34.10346221923828,
          23.055572509765625,
          7.6739654541015625,
          24.53141975402832,
          9.601142883300781,
          22.510433197021484,
          24.102012634277344,
          19.21356201171875,
          17.95945930480957,
          4.856775760650635,
          2.110475778579712,
          28.12418556213379,
          21.99418830871582,
          37.882789611816406,
          18.178415298461914,
          9.070219993591309,
          21.148717880249023,
          21.0028076171875,
          40.77497482299805,
          46.24467849731445,
          8.678897857666016,
          21.15047264099121
         ],
         "xaxis": "x",
         "y": [
          -8.525726318359375,
          -4.144922256469727,
          -22.36298179626465,
          -14.48875617980957,
          -15.222070693969727,
          -25.22530746459961,
          -20.75751304626465,
          -11.991721153259277,
          -13.475860595703125,
          -16.77035140991211,
          -13.701947212219238,
          -14.332369804382324,
          -7.7842631340026855,
          -22.872098922729492,
          -14.467589378356934,
          -6.2596755027771,
          -24.31764793395996,
          -12.329448699951172,
          -24.03386116027832,
          -16.75765037536621,
          -9.05771541595459,
          -12.258777618408203,
          -14.145358085632324,
          -16.455467224121094,
          -8.720738410949707,
          -13.13514232635498,
          -23.706600189208984,
          -9.560665130615234,
          -14.849142074584961,
          -16.311420440673828,
          -9.71390151977539,
          -18.538902282714844,
          -11.483010292053223,
          -22.22470474243164,
          -8.974112510681152,
          -13.338912963867188,
          -19.59606170654297,
          -9.884977340698242,
          -16.4276180267334,
          -8.885560989379883,
          -17.48134422302246,
          -16.558351516723633,
          -24.363611221313477,
          -13.090152740478516,
          -18.16823959350586,
          -15.399048805236816,
          -9.027304649353027,
          -16.344154357910156,
          -15.737039566040039,
          -13.019041061401367,
          -9.930026054382324,
          -13.6696195602417,
          -10.638300895690918,
          -15.752452850341797,
          -15.50600528717041,
          -19.734792709350586,
          -13.79273509979248,
          -23.969179153442383,
          -12.979593276977539,
          -19.408960342407227,
          -13.083330154418945,
          -18.21830177307129,
          -21.074480056762695,
          -18.68549346923828,
          -13.730718612670898,
          -17.944543838500977,
          -15.684892654418945,
          -20.131750106811523,
          -12.933279037475586,
          -12.70788288116455,
          -8.461189270019531,
          -17.254552841186523,
          -16.426593780517578,
          -14.516819953918457,
          -8.614013671875,
          -9.0951566696167,
          -15.00866985321045,
          -12.069859504699707,
          -17.200883865356445,
          -10.89415168762207,
          -7.612776756286621,
          -14.072732925415039,
          -23.41953468322754,
          -21.395967483520508,
          -20.758424758911133,
          -13.298088073730469,
          -12.97901725769043,
          -17.34722328186035,
          -20.559785842895508,
          -22.53464698791504,
          -18.303646087646484,
          -17.243492126464844,
          -6.2701029777526855,
          -23.447328567504883,
          -18.65622901916504,
          -23.59786033630371,
          -15.62636661529541,
          -14.92448902130127,
          -14.180702209472656,
          -13.119236946105957,
          -17.02520751953125,
          -22.315567016601562,
          -18.838010787963867,
          -14.633438110351562,
          -13.88106918334961,
          -16.457202911376953,
          -5.9777069091796875,
          -21.586729049682617,
          -11.732877731323242,
          -22.14166831970215,
          -9.357922554016113,
          -14.593680381774902,
          -21.50006675720215,
          -18.45892906188965,
          -15.33528995513916,
          -4.549754619598389,
          -12.203842163085938,
          -20.858163833618164,
          -22.51113510131836,
          -16.878923416137695,
          -22.551034927368164,
          -15.844263076782227,
          -19.553953170776367,
          -13.333099365234375,
          -22.201831817626953,
          -5.840205192565918,
          -6.350805759429932,
          -21.767301559448242,
          -14.958091735839844,
          -23.447519302368164,
          -14.769124984741211,
          -20.256166458129883,
          -13.752155303955078,
          -14.320009231567383,
          -12.64972972869873,
          -22.94464111328125,
          -16.867807388305664,
          -16.057226181030273,
          -20.82996368408203,
          -13.062273025512695,
          -20.09827423095703,
          -9.163110733032227,
          -13.755603790283203,
          -10.1249418258667,
          -10.04773998260498,
          -16.58845329284668,
          -12.715580940246582,
          -11.934337615966797,
          -21.286989212036133,
          -15.720808982849121,
          -6.0544891357421875,
          -12.336517333984375,
          -22.527250289916992,
          -13.44533634185791,
          -26.642539978027344,
          -18.348857879638672,
          -20.235410690307617,
          -20.422889709472656,
          -21.519775390625,
          -18.37035369873047,
          -18.089366912841797,
          -5.702826499938965,
          -8.322437286376953,
          -11.262357711791992,
          -14.607669830322266,
          -9.554749488830566,
          -13.66501235961914,
          -8.19909954071045,
          -20.996320724487305,
          -15.163805961608887,
          -18.668283462524414,
          -9.92027759552002,
          -20.695587158203125,
          -14.863595962524414,
          -15.7311372756958,
          -9.123702049255371,
          -9.779635429382324,
          -9.92402172088623,
          -6.38983678817749,
          -13.404092788696289,
          -6.350491046905518,
          -13.541598320007324,
          -21.728378295898438,
          -23.57613182067871,
          -10.841958045959473,
          -12.260414123535156,
          -14.823294639587402,
          -10.55367374420166,
          -13.352596282958984,
          -11.084973335266113,
          -10.413581848144531,
          -15.013700485229492,
          -14.759432792663574,
          -24.155433654785156,
          -9.00255012512207,
          -20.10951805114746,
          -13.151261329650879,
          -13.395110130310059,
          -12.639992713928223,
          -14.299325942993164,
          -14.378690719604492,
          -14.951189994812012,
          -14.017579078674316,
          -18.207218170166016,
          -20.55742645263672,
          -14.096879005432129,
          -12.079886436462402,
          -12.552635192871094,
          -13.032510757446289,
          -17.51107406616211,
          -12.61786937713623,
          -16.4534854888916,
          -24.733112335205078,
          -11.894917488098145,
          -18.285682678222656,
          -16.8230037689209,
          -14.665534973144531,
          -16.656400680541992,
          -15.414990425109863,
          -13.110559463500977,
          -21.198076248168945,
          -16.152097702026367,
          -16.159523010253906,
          -24.10759162902832,
          -23.480056762695312,
          -10.887276649475098,
          -12.508145332336426,
          -12.863533973693848,
          -17.06372833251953,
          -12.065622329711914,
          -13.868830680847168,
          -12.020026206970215,
          -9.062366485595703,
          -12.131303787231445,
          -14.619714736938477,
          -12.97225284576416,
          -25.481924057006836,
          -24.012022018432617,
          -25.300182342529297,
          -6.466856479644775,
          -9.645103454589844,
          -19.67340850830078,
          -4.557309150695801,
          -13.810453414916992,
          -14.404152870178223,
          -14.156428337097168,
          -12.905359268188477,
          -14.313385009765625,
          -13.530009269714355,
          -16.797887802124023,
          -13.491023063659668,
          -12.321846008300781,
          -13.32939338684082,
          -11.685089111328125,
          -14.102766036987305,
          -13.864391326904297,
          -15.804656982421875,
          -22.256711959838867,
          -14.467042922973633,
          -15.092860221862793,
          -6.999922752380371,
          -13.417251586914062,
          -9.553106307983398,
          -18.854984283447266,
          -15.305642127990723,
          -24.882627487182617,
          -13.486621856689453,
          -6.7117462158203125,
          -13.983484268188477,
          -14.886380195617676,
          -24.82811164855957,
          -10.741301536560059,
          -18.351791381835938,
          -13.136615753173828,
          -26.383853912353516,
          -25.65387535095215,
          -8.708616256713867,
          -13.57449722290039,
          -14.149138450622559,
          -6.635406017303467,
          -18.543563842773438,
          -13.745357513427734,
          -16.584531784057617,
          -22.746353149414062,
          -5.621179580688477,
          -22.687152862548828,
          -21.712039947509766,
          -16.012170791625977,
          -17.58172035217285,
          -13.609440803527832,
          -25.56409454345703
         ],
         "yaxis": "y",
         "type": "scattergl"
        },
        {
         "customdata": [
          [
           "The_Biz_Vs__The_Nuge",
           "beastie_boys"
          ],
          [
           "Mark_On_The_Bus",
           "beastie_boys"
          ],
          [
           "Gratitude",
           "beastie_boys"
          ],
          [
           "Namaste",
           "beastie_boys"
          ],
          [
           "The_Blue_Nun",
           "beastie_boys"
          ],
          [
           "Something_s_Got_To_Give",
           "beastie_boys"
          ],
          [
           "Funky_Boss",
           "beastie_boys"
          ],
          [
           "Time_For_Livin_",
           "beastie_boys"
          ],
          [
           "Drunken_Praying_Mantis_Style",
           "beastie_boys"
          ],
          [
           "Lighten_Up",
           "beastie_boys"
          ],
          [
           "The_Maestro",
           "beastie_boys"
          ],
          [
           "Three_MC_s_And_One_DJ",
           "beastie_boys"
          ],
          [
           "I_Don_t_Know",
           "beastie_boys"
          ],
          [
           "Flowin__Prose",
           "beastie_boys"
          ],
          [
           "The_Negotiation_Limerick_File",
           "beastie_boys"
          ],
          [
           "Dedication",
           "beastie_boys"
          ],
          [
           "Picture_This",
           "beastie_boys"
          ],
          [
           "Instant_Death",
           "beastie_boys"
          ],
          [
           "Song_For_Junior",
           "beastie_boys"
          ],
          [
           "And_Me",
           "beastie_boys"
          ],
          [
           "The_Grasshopper_Unit__Keep_Movin__",
           "beastie_boys"
          ],
          [
           "Song_For_The_Man",
           "beastie_boys"
          ],
          [
           "Remote_Control",
           "beastie_boys"
          ],
          [
           "Electrify",
           "beastie_boys"
          ],
          [
           "The_Move",
           "beastie_boys"
          ],
          [
           "Dr__Lee__PhD",
           "beastie_boys"
          ],
          [
           "Bodhisattva_Vow",
           "beastie_boys"
          ],
          [
           "Flute_Loop",
           "beastie_boys"
          ],
          [
           "Sabotage",
           "beastie_boys"
          ],
          [
           "Tough_Guy",
           "beastie_boys"
          ],
          [
           "Futterman_s_Rule",
           "beastie_boys"
          ],
          [
           "To_All_The_Girls",
           "beastie_boys"
          ],
          [
           "Ask_For_Janice",
           "beastie_boys"
          ],
          [
           "33__God",
           "beastie_boys"
          ],
          [
           "5_Piece_Chicken_Dinner_2",
           "beastie_boys"
          ],
          [
           "5_Piece_Chicken_Dinner",
           "beastie_boys"
          ],
          [
           "To_All_The_Girls_2",
           "beastie_boys"
          ],
          [
           "Johnny_Ryall_2",
           "beastie_boys"
          ],
          [
           "Crew",
           "a_tribe_called_quest"
          ],
          [
           "What_Really_Goes_On",
           "a_tribe_called_quest"
          ],
          [
           "Skypager",
           "a_tribe_called_quest"
          ],
          [
           "What_",
           "a_tribe_called_quest"
          ],
          [
           "Youthful_Expression",
           "a_tribe_called_quest"
          ],
          [
           "Rhythm__Devoted_to_the_Art_of_Moving_Butts_",
           "a_tribe_called_quest"
          ],
          [
           "Ham_n__Eggs",
           "a_tribe_called_quest"
          ],
          [
           "Push_It_Along",
           "a_tribe_called_quest"
          ],
          [
           "Bonita_Applebum",
           "a_tribe_called_quest"
          ],
          [
           "Pubic_Enemy",
           "a_tribe_called_quest"
          ],
          [
           "Can_I_Kick_It_",
           "a_tribe_called_quest"
          ],
          [
           "Mr__Muhammad",
           "a_tribe_called_quest"
          ],
          [
           "Footprints",
           "a_tribe_called_quest"
          ],
          [
           "Midnight_Marauders_Tour_Guide",
           "a_tribe_called_quest"
          ],
          [
           "Steve_Biko__Stir_It_Up_",
           "a_tribe_called_quest"
          ],
          [
           "Clap_Your_Hands",
           "a_tribe_called_quest"
          ],
          [
           "For_10_Years",
           "run-dmc"
          ],
          [
           "To_The_Maker",
           "run-dmc"
          ],
          [
           "Miss_Elaine",
           "run-dmc"
          ],
          [
           "Sucker_D_J__s",
           "run-dmc"
          ],
          [
           "P_Upon_A_Tree",
           "run-dmc"
          ],
          [
           "Livin__In_The_City",
           "run-dmc"
          ],
          [
           "Fuck_Me__Interlude_",
           "the_notorious_big"
          ],
          [
           "Unbelieveable",
           "the_notorious_big"
          ],
          [
           "Intro___A_Million_And_One_Questions___Rhyme_No_More",
           "jay-z"
          ],
          [
           "Friend_Or_Foe",
           "jay-z"
          ],
          [
           "On_The_Ill_Tip",
           "ll_cool_j"
          ],
          [
           "The_Bristol_Hotel",
           "ll_cool_j"
          ],
          [
           "Buckin__Em_Down",
           "ll_cool_j"
          ],
          [
           "Life_As",
           "ll_cool_j"
          ],
          [
           "The_Intro__Skit_",
           "ll_cool_j"
          ],
          [
           "Going_Back_To_Cali",
           "ll_cool_j"
          ],
          [
           "Illegal_Search",
           "ll_cool_j"
          ],
          [
           "Mama_Said_Knock_You_Out",
           "ll_cool_j"
          ],
          [
           "Temperature_s_Rising",
           "mobb_deep"
          ],
          [
           "_Just_Step_Prelude_",
           "mobb_deep"
          ],
          [
           "Intro",
           "mobb_deep"
          ],
          [
           "Peer_Pressure",
           "mobb_deep"
          ],
          [
           "Skit__2",
           "mobb_deep"
          ],
          [
           "Move_The_Crowd",
           "erikb_&_rakim"
          ],
          [
           "Rest_Assured",
           "erikb_&_rakim"
          ],
          [
           "Relax_With_Pep",
           "erikb_&_rakim"
          ],
          [
           "Pass_The_Hand_Grenade",
           "erikb_&_rakim"
          ],
          [
           "Don_t_Sweat_The_Technique",
           "erikb_&_rakim"
          ],
          [
           "The_R",
           "erikb_&_rakim"
          ],
          [
           "No_Competition",
           "erikb_&_rakim"
          ],
          [
           "Party_For_Your_Right_To_Fight",
           "public_enemy"
          ],
          [
           "Mind_Terrorist",
           "public_enemy"
          ],
          [
           "Night_Of_The_Living_Basheads",
           "public_enemy"
          ],
          [
           "She_Watch_Channel_Zero__",
           "public_enemy"
          ],
          [
           "Show_Em_Whatcha_Got",
           "public_enemy"
          ],
          [
           "Caught__Can_We_Get_A_Witness_",
           "public_enemy"
          ],
          [
           "911_Is_A_Joke",
           "public_enemy"
          ],
          [
           "Power_To_The_People",
           "public_enemy"
          ],
          [
           "Fear_Of_A_Black_Planet",
           "public_enemy"
          ],
          [
           "Pollywanacraka",
           "public_enemy"
          ],
          [
           "War_At_33_1_3",
           "public_enemy"
          ],
          [
           "Burn_Hollywood_Burn",
           "public_enemy"
          ],
          [
           "Meet_The_G_That_Killed_Me",
           "public_enemy"
          ],
          [
           "Can_t_Do_Nuttin__For_Ya_Man",
           "public_enemy"
          ],
          [
           "Megablast",
           "public_enemy"
          ],
          [
           "Terminator_X_Speaks_With_His_Hands",
           "public_enemy"
          ],
          [
           "Hitler_Day",
           "public_enemy"
          ],
          [
           "They_Used_To_Call_It_Dope",
           "public_enemy"
          ],
          [
           "Stop_In_The_Name___",
           "public_enemy"
          ],
          [
           "Death_Of_A_Carjacka",
           "public_enemy"
          ],
          [
           "Whole_Lotta_Love_Goin_On_In_The_Middle_Of_Hell",
           "public_enemy"
          ],
          [
           "White_Heaven___Black_Hell",
           "public_enemy"
          ],
          [
           "So_Whatcha_Gone_Do_Now_",
           "public_enemy"
          ],
          [
           "I_Stand_Accused",
           "public_enemy"
          ],
          [
           "Livin_In_A_Zoo__Remix_",
           "public_enemy"
          ],
          [
           "Ain_tnuttin_Buttersong",
           "public_enemy"
          ],
          [
           "1_Million_Bottlebags",
           "public_enemy"
          ],
          [
           "Rebirth",
           "public_enemy"
          ],
          [
           "Get_The_Fck_Outta_Dodge",
           "public_enemy"
          ],
          [
           "I_Dont_Wanna_Be_Called_Yo_Niga",
           "public_enemy"
          ],
          [
           "More_News_At_11",
           "public_enemy"
          ],
          [
           "Lost_At_Birth",
           "public_enemy"
          ],
          [
           "Shut_Em_Down",
           "public_enemy"
          ],
          [
           "Conclusion",
           "wu_tang_clan"
          ],
          [
           "The_Whole_World_Lookin__At_Me",
           "busta_rhymes"
          ],
          [
           "Do_It_To_Death",
           "busta_rhymes"
          ],
          [
           "En_Focus",
           "de_la_soul"
          ],
          [
           "3_Days_Later",
           "de_la_soul"
          ],
          [
           "Paul_s_Revenge",
           "de_la_soul"
          ],
          [
           "Area",
           "de_la_soul"
          ],
          [
           "Patti_Dooke",
           "de_la_soul"
          ],
          [
           "Dave_Has_A_Problem____Seriously",
           "de_la_soul"
          ],
          [
           "Long_Island_Wildin_",
           "de_la_soul"
          ],
          [
           "I_Be_Blowin_",
           "de_la_soul"
          ],
          [
           "Potholes_In_My_Lawn",
           "de_la_soul"
          ],
          [
           "Take_It_Off",
           "de_la_soul"
          ],
          [
           "A_Little_Bit_Of_Soap",
           "de_la_soul"
          ],
          [
           "Intro",
           "de_la_soul"
          ],
          [
           "Plug_Tunin___Original_12_Version_",
           "de_la_soul"
          ],
          [
           "Can_U_Keep_A_Secret_",
           "de_la_soul"
          ],
          [
           "Jenifa_Taught_Me__12_Version_",
           "de_la_soul"
          ],
          [
           "Tread_Water",
           "de_la_soul"
          ],
          [
           "Transmitting_Live_From_Mars",
           "de_la_soul"
          ],
          [
           "Change_In_Speak",
           "de_la_soul"
          ],
          [
           "Me__Myself_And_I",
           "de_la_soul"
          ],
          [
           "De_La_Orgee",
           "de_la_soul"
          ],
          [
           "Do_As_De_La_Does",
           "de_la_soul"
          ],
          [
           "What_s_More",
           "de_la_soul"
          ],
          [
           "Description",
           "de_la_soul"
          ],
          [
           "Ain_t_Hip_To_Be_Labelled_A_Hippie",
           "de_la_soul"
          ],
          [
           "Cool_Breeze_On_The_Rocks",
           "de_la_soul"
          ],
          [
           "I_Can_Do_Anything__Delacratic_",
           "de_la_soul"
          ],
          [
           "Yunonstop",
           "de_la_soul"
          ],
          [
           "Skit_1",
           "de_la_soul"
          ],
          [
           "Pass_The_Plugs",
           "de_la_soul"
          ],
          [
           "Skit_2",
           "de_la_soul"
          ],
          [
           "Skit_3",
           "de_la_soul"
          ],
          [
           "WRMS__Cat_s_In_Control",
           "de_la_soul"
          ],
          [
           "Skit_4",
           "de_la_soul"
          ],
          [
           "Skit_5",
           "de_la_soul"
          ],
          [
           "Not_Over_Till_The_Fat_Lady_Plays_The_Demo",
           "de_la_soul"
          ],
          [
           "WRMS__Dedication_To_The_Bitty",
           "de_la_soul"
          ],
          [
           "Shwingalokate",
           "de_la_soul"
          ],
          [
           "No_Way_Out__Intro_",
           "puff_daddy"
          ],
          [
           "If_I_Should_Die_Tonight__Interlude_",
           "puff_daddy"
          ],
          [
           "No_More_Mr__Nice_Guy",
           "gang_starr"
          ],
          [
           "Jazz_Music",
           "gang_starr"
          ],
          [
           "Positivity",
           "gang_starr"
          ],
          [
           "Words_From_The_Nutcracker",
           "gang_starr"
          ],
          [
           "Brainstorm",
           "gang_starr"
          ],
          [
           "The_Meaning_Of_The_Name",
           "gang_starr"
          ],
          [
           "Beyond_Comprehension",
           "gang_starr"
          ],
          [
           "Say_Your_Prayers",
           "gang_starr"
          ],
          [
           "Street_Ministry",
           "gang_starr"
          ],
          [
           "What_You_Want_This_Time_",
           "gang_starr"
          ],
          [
           "As_I_Read_My_S_A",
           "gang_starr"
          ],
          [
           "Name_Tag__Premier___The_Guru_",
           "gang_starr"
          ],
          [
           "Execution_Of_A_Chump__No_More_Mr__Nice_Guy_Pt__2_",
           "gang_starr"
          ],
          [
           "Who_s_Gonna_Take_The_Weight_",
           "gang_starr"
          ],
          [
           "The_Place_Where_We_Dwell",
           "gang_starr"
          ],
          [
           "Take_Two_And_Pass",
           "gang_starr"
          ],
          [
           "Batting_Practice",
           "soulsofmischief"
          ],
          [
           "Outro",
           "soulsofmischief"
          ],
          [
           "So_You_Wanna_Be_A___",
           "soulsofmischief"
          ],
          [
           "Come_Anew",
           "soulsofmischief"
          ],
          [
           "Fat_Girl",
           "nwa"
          ],
          [
           "Drink_It_Up",
           "nwa"
          ],
          [
           "Panic_Zone",
           "nwa"
          ],
          [
           "Something_2_Dance_2",
           "nwa"
          ],
          [
           "Don_t_Drink_That_Wine",
           "nwa"
          ],
          [
           "1__2__3__4__Sumpin__New_",
           "coolio"
          ],
          [
           "Recoup_This",
           "coolio"
          ],
          [
           "Too_Hot",
           "coolio"
          ],
          [
           "Fucc_Coolio",
           "coolio"
          ],
          [
           "Can_O_Corn",
           "coolio"
          ],
          [
           "Smokin__Stix",
           "coolio"
          ],
          [
           "It_Takes_A_Thief",
           "coolio"
          ],
          [
           "Ghetto_Cartoon",
           "coolio"
          ],
          [
           "Homeboy",
           "coolio"
          ],
          [
           "Intro",
           "coolio"
          ],
          [
           "My_Soul",
           "coolio"
          ],
          [
           "Knight_Falls",
           "coolio"
          ],
          [
           "Black_Korea",
           "ice_cube"
          ],
          [
           "The_Funeral__Intro_",
           "ice_cube"
          ],
          [
           "Dominate_The_Weak",
           "ice_cube"
          ],
          [
           "Trying_To_Maintain",
           "ice_cube"
          ],
          [
           "Death",
           "ice_cube"
          ],
          [
           "The_Birth",
           "ice_cube"
          ],
          [
           "Alive_On_Arrival",
           "ice_cube"
          ],
          [
           "Robin_Lench__Interlude_",
           "ice_cube"
          ],
          [
           "We_Had_To_Tear_This_Muthafucka_Up",
           "ice_cube"
          ],
          [
           "Now_I_Gotta_Wet_Cha",
           "ice_cube"
          ],
          [
           "Wicked",
           "ice_cube"
          ],
          [
           "Dead_Homiez",
           "ice_cube"
          ],
          [
           "Turn_Off_The_Radio",
           "ice_cube"
          ],
          [
           "I_m_Only_Out_For_One_Thang",
           "ice_cube"
          ],
          [
           "Get_Off_My_Dick_And_Tell_Yo_Bitch_To_Come_Here",
           "ice_cube"
          ],
          [
           "Cave_Bitch",
           "ice_cube"
          ],
          [
           "The_Shot__Intro_",
           "ice_cube"
          ],
          [
           "You_Know_How_We_Do_It",
           "ice_cube"
          ],
          [
           "Heaven",
           "ice_cube"
          ],
          [
           "What_Can_I_Do_",
           "ice_cube"
          ],
          [
           "So_Watcha_Sayin_",
           "too_short"
          ],
          [
           "Baby_D",
           "too_short"
          ],
          [
           "Oakland_Style",
           "too_short"
          ],
          [
           "Don_t_Fight_The_Intro",
           "too_short"
          ],
          [
           "You_Betta_Ask_Somebody__Gz_And_Hustlas_Intro_",
           "snoop_dogg"
          ],
          [
           "Chronic_Break",
           "snoop_dogg"
          ],
          [
           "U_Betta_Recognize__Pump_Pump_Intro_",
           "snoop_dogg"
          ],
          [
           "W_Balls",
           "snoop_dogg"
          ],
          [
           "Who_Am_I__What_s_My_Name__",
           "snoop_dogg"
          ],
          [
           "Outro",
           "snoop_dogg"
          ],
          [
           "Intro",
           "snoop_dogg"
          ],
          [
           "Snoop_Bounce",
           "snoop_dogg"
          ],
          [
           "Traffic_Jam",
           "snoop_dogg"
          ],
          [
           "Playa_Hata",
           "luniz"
          ],
          [
           "Old_School",
           "pac"
          ],
          [
           "Pac_s_Theme__Interlude_",
           "pac"
          ],
          [
           "Something_2_Die_4__Interlude_",
           "pac"
          ],
          [
           "Let_It_Rain",
           "cypress_hill"
          ],
          [
           "Spark_Another_Owl",
           "cypress_hill"
          ],
          [
           "Red_Light_Visions",
           "cypress_hill"
          ],
          [
           "Stoned_Raiders",
           "cypress_hill"
          ],
          [
           "Funk_Freakers",
           "cypress_hill"
          ],
          [
           "Cock_The_Hammer",
           "cypress_hill"
          ],
          [
           "I_Ain_t_Goin__Out_Like_That",
           "cypress_hill"
          ],
          [
           "Break__Em_Off_Some",
           "cypress_hill"
          ],
          [
           "Lick_A_Shot",
           "cypress_hill"
          ],
          [
           "When_The_Shit_Goes_Down",
           "cypress_hill"
          ],
          [
           "Legalize_It",
           "cypress_hill"
          ],
          [
           "Loco_En_El_Coco__Insane_In_The_Brain___Spanish_Version_",
           "cypress_hill"
          ],
          [
           "I_Wanna_Get_High",
           "cypress_hill"
          ],
          [
           "A_To_The_K",
           "cypress_hill"
          ],
          [
           "Insane_In_The_Brain",
           "cypress_hill"
          ],
          [
           "Psycobetabuckdown",
           "cypress_hill"
          ],
          [
           "Tres_Equis",
           "cypress_hill"
          ],
          [
           "Tres_Equis_2",
           "cypress_hill"
          ],
          [
           "Ultraviolet_Dreams",
           "cypress_hill"
          ],
          [
           "Something_For_The_Blunted",
           "cypress_hill"
          ],
          [
           "Eazy_Chapter_8_Verse_10__B_U_L_L_S_H_I_T__",
           "eazy_e"
          ],
          [
           "Creep_N_Crawl",
           "eazy_e"
          ],
          [
           "First_Power",
           "eazy_e"
          ],
          [
           "Licking__Sucking__Fucking",
           "eazy_e"
          ],
          [
           "The_Higher_Heights_Of_Spirituality",
           "digital_underground"
          ],
          [
           "The_DFLO_Shuttle",
           "digital_underground"
          ],
          [
           "Digital_Lover",
           "digital_underground"
          ],
          [
           "Body_Hats__Part_Two_",
           "digital_underground"
          ],
          [
           "Body_Hats__Part_One_",
           "digital_underground"
          ],
          [
           "Body_Hats__Part_Three_",
           "digital_underground"
          ],
          [
           "Circus_Exit__The_After_Nut_",
           "digital_underground"
          ],
          [
           "Circus_Entrance",
           "digital_underground"
          ],
          [
           "Intermission",
           "digital_underground"
          ],
          [
           "Rumpty_Rump",
           "digital_underground"
          ],
          [
           "Hokis_Pokis__A_Classic_Case_",
           "digital_underground"
          ],
          [
           "Future_Rhythm",
           "digital_underground"
          ],
          [
           "Food_Fight",
           "digital_underground"
          ],
          [
           "Hella_Bump",
           "digital_underground"
          ],
          [
           "We_Got_More",
           "digital_underground"
          ],
          [
           "Outro",
           "ice-t"
          ],
          [
           "Intro",
           "ice-t"
          ],
          [
           "It_s_Goin__Down",
           "ice-t"
          ],
          [
           "Real_",
           "ice-t"
          ],
          [
           "Rap_Is_Fake",
           "ice-t"
          ],
          [
           "Somebody_Gotta_Do_It__Pimpin__Ain_t_Easy____",
           "ice-t"
          ],
          [
           "Fried_Chicken",
           "ice-t"
          ],
          [
           "Body_Count",
           "ice-t"
          ],
          [
           "Prepared_To_Die",
           "ice-t"
          ],
          [
           "The_House",
           "ice-t"
          ],
          [
           "Ziplock",
           "ice-t"
          ],
          [
           "First_Impression",
           "ice-t"
          ],
          [
           "Fly_By",
           "ice-t"
          ],
          [
           "Straight_Up_Nigga",
           "ice-t"
          ],
          [
           "Street_Killer",
           "ice-t"
          ],
          [
           "Escape_From_The_Killing_Fields",
           "ice-t"
          ],
          [
           "Ya_Shoulda_Killed_Me_Last_Year",
           "ice-t"
          ],
          [
           "Ed",
           "ice-t"
          ],
          [
           "Home_Of_The_Bodybag",
           "ice-t"
          ],
          [
           "Warning",
           "ice-t"
          ],
          [
           "Ain_t_A_Damn_Thing_Changed",
           "ice-t"
          ],
          [
           "Question_And_Answer",
           "ice-t"
          ],
          [
           "Gangstas_Don_t_Dance__Insert_",
           "westside_connection"
          ],
          [
           "The_Pledge__Insert_",
           "westside_connection"
          ],
          [
           "World_Domination__Intro_",
           "westside_connection"
          ],
          [
           "Emerald_Butterfly",
           "the_pharcyde"
          ],
          [
           "Devil_Music",
           "the_pharcyde"
          ],
          [
           "Runnin_",
           "the_pharcyde"
          ],
          [
           "Little_D",
           "the_pharcyde"
          ],
          [
           "Moment_In_Time",
           "the_pharcyde"
          ],
          [
           "Pharcyde",
           "the_pharcyde"
          ],
          [
           "It_s_All_Good_",
           "the_pharcyde"
          ],
          [
           "Hey_You",
           "the_pharcyde"
          ],
          [
           "All_Live",
           "the_pharcyde"
          ],
          [
           "Somethin__That_Means_Somethin_",
           "the_pharcyde"
          ],
          [
           "Officer",
           "the_pharcyde"
          ],
          [
           "Quinton_s_On_The_Way__Skit_",
           "the_pharcyde"
          ],
          [
           "If_I_Were_President__Skit_",
           "the_pharcyde"
          ],
          [
           "Pack_The_Pipe__Interlude_",
           "the_pharcyde"
          ],
          [
           "Choices",
           "Dr.Dre"
          ],
          [
           "Pigeon_Coup",
           "mack_10"
          ],
          [
           "Niggas_Dog_Scrapping",
           "mack_10"
          ],
          [
           "Mickey_D_s_Lick__Intro_",
           "mack_10"
          ]
         ],
         "hovertemplate": "Topic=1<br>x=%{x}<br>y=%{y}<br>Song=%{customdata[0]}<br>Artist=%{customdata[1]}<extra></extra>",
         "legendgroup": "1",
         "marker": {
          "color": "#FFA15A",
          "symbol": "circle",
          "line": {
           "color": "DarkSlateGrey",
           "width": 1
          },
          "size": 10
         },
         "mode": "markers",
         "name": "1",
         "showlegend": true,
         "x": [
          25.635740280151367,
          24.73874855041504,
          2.3479318618774414,
          20.46331787109375,
          28.94147491455078,
          29.639827728271484,
          21.069595336914062,
          7.458913803100586,
          0.9193208813667297,
          25.91996955871582,
          2.595193386077881,
          -0.9398458003997803,
          28.13968849182129,
          2.843775510787964,
          -2.1098058223724365,
          29.406673431396484,
          27.76776885986328,
          28.364866256713867,
          28.924047470092773,
          26.723718643188477,
          18.756696701049805,
          25.75458335876465,
          3.5560317039489746,
          20.891368865966797,
          0.3654765188694,
          26.897380828857422,
          0.9375818371772766,
          11.374436378479004,
          15.45221996307373,
          24.187910079956055,
          30.82992935180664,
          22.640705108642578,
          27.37728500366211,
          27.337121963500977,
          29.231857299804688,
          27.950857162475586,
          25.485157012939453,
          3.1151468753814697,
          6.832370281219482,
          -0.5024363994598389,
          8.2074613571167,
          17.870845794677734,
          3.1124472618103027,
          5.567317962646484,
          21.20079803466797,
          8.253073692321777,
          23.11739730834961,
          6.5888566970825195,
          7.651177883148193,
          17.5249080657959,
          1.3013558387756348,
          30.880348205566406,
          3.0043768882751465,
          -1.5994610786437988,
          25.116226196289062,
          26.32634162902832,
          21.487503051757812,
          11.435895919799805,
          14.659150123596191,
          25.69945526123047,
          23.96600914001465,
          8.116362571716309,
          8.538582801818848,
          1.04995596408844,
          30.06766128540039,
          4.0369181632995605,
          23.477571487426758,
          -3.755514144897461,
          29.9932918548584,
          5.307077407836914,
          1.78798508644104,
          2.0925862789154053,
          9.398957252502441,
          11.981134414672852,
          29.704633712768555,
          5.271536827087402,
          25.175399780273438,
          15.15253734588623,
          19.843891143798828,
          -2.871785879135132,
          19.301372528076172,
          10.884380340576172,
          10.61835765838623,
          7.668265342712402,
          25.690704345703125,
          23.3291072845459,
          10.259905815124512,
          4.804116249084473,
          9.137282371520996,
          6.614645004272461,
          5.944784164428711,
          19.71671485900879,
          11.725517272949219,
          19.660362243652344,
          13.65439224243164,
          8.628583908081055,
          28.515348434448242,
          -3.731355667114258,
          7.705040454864502,
          27.214872360229492,
          10.82401180267334,
          24.806238174438477,
          26.14443016052246,
          18.265642166137695,
          16.75899314880371,
          29.777549743652344,
          16.594650268554688,
          3.2555294036865234,
          4.062435150146484,
          18.304611206054688,
          10.217065811157227,
          21.102102279663086,
          14.253368377685547,
          18.06960678100586,
          20.664676666259766,
          15.350849151611328,
          3.5078206062316895,
          21.366085052490234,
          2.091597080230713,
          11.464269638061523,
          12.619860649108887,
          -0.7759552001953125,
          27.651962280273438,
          6.607326030731201,
          4.790863990783691,
          26.429533004760742,
          20.510801315307617,
          29.733264923095703,
          10.377006530761719,
          28.07164192199707,
          30.06318473815918,
          18.9195613861084,
          12.753259658813477,
          25.212753295898438,
          10.628340721130371,
          3.415069341659546,
          28.99991226196289,
          10.711871147155762,
          22.446157455444336,
          22.159860610961914,
          2.350820541381836,
          -1.5380604267120361,
          28.435649871826172,
          22.390127182006836,
          11.266969680786133,
          23.877735137939453,
          15.406303405761719,
          16.689374923706055,
          18.79719352722168,
          24.078683853149414,
          19.127347946166992,
          28.035358428955078,
          22.646650314331055,
          25.37212562561035,
          5.989458084106445,
          22.62116813659668,
          10.407832145690918,
          29.081851959228516,
          21.850675582885742,
          0.5037270188331604,
          19.922374725341797,
          3.0882997512817383,
          8.372896194458008,
          2.954550266265869,
          1.9835355281829834,
          6.016880035400391,
          18.81309700012207,
          23.588483810424805,
          1.442623496055603,
          14.931769371032715,
          29.400829315185547,
          11.690007209777832,
          8.673458099365234,
          3.8975658416748047,
          2.3812663555145264,
          4.865850448608398,
          -2.120781660079956,
          25.142986297607422,
          13.655158996582031,
          5.715522766113281,
          -1.888127088546753,
          2.04609751701355,
          3.694012403488159,
          25.442827224731445,
          8.017799377441406,
          -2.490211009979248,
          2.913132667541504,
          4.022695064544678,
          6.419839859008789,
          17.584815979003906,
          12.336669921875,
          10.464327812194824,
          3.5851023197174072,
          24.282575607299805,
          13.497215270996094,
          4.269672393798828,
          15.631452560424805,
          13.341865539550781,
          19.217117309570312,
          14.441375732421875,
          18.22652816772461,
          23.273536682128906,
          8.216999053955078,
          24.99795150756836,
          6.668780326843262,
          13.695749282836914,
          17.463960647583008,
          5.541952610015869,
          16.68930435180664,
          17.455617904663086,
          13.140268325805664,
          13.165421485900879,
          22.268951416015625,
          16.355443954467773,
          3.1869325637817383,
          2.688133955001831,
          5.6065473556518555,
          5.050642490386963,
          -0.6732644438743591,
          6.514804840087891,
          23.907270431518555,
          22.952190399169922,
          15.283987045288086,
          21.00586700439453,
          15.551111221313477,
          28.525358200073242,
          27.221694946289062,
          3.6113131046295166,
          26.136938095092773,
          9.031611442565918,
          9.677996635437012,
          27.332895278930664,
          12.753894805908203,
          9.632316589355469,
          3.534349203109741,
          13.633586883544922,
          2.7537007331848145,
          2.0553646087646484,
          11.797599792480469,
          13.462244033813477,
          4.8795623779296875,
          12.847559928894043,
          18.838918685913086,
          27.418777465820312,
          27.901470184326172,
          -1.572813630104065,
          20.814096450805664,
          11.264280319213867,
          10.197622299194336,
          27.69132423400879,
          31.012210845947266,
          22.502817153930664,
          23.86101531982422,
          7.006038188934326,
          15.427933692932129,
          14.648001670837402,
          15.182812690734863,
          30.339229583740234,
          -3.5028016567230225,
          5.669249534606934,
          0.3443136215209961,
          0.4240003228187561,
          14.656063079833984,
          26.990121841430664,
          22.295799255371094,
          27.37525749206543,
          24.42012596130371,
          4.945989608764648,
          15.465832710266113,
          13.071504592895508,
          15.431631088256836,
          9.791358947753906,
          13.49126148223877,
          19.718578338623047,
          19.336761474609375,
          2.8517279624938965,
          21.511262893676758,
          22.121957778930664,
          30.302021026611328,
          20.790536880493164,
          18.324872970581055,
          17.357757568359375,
          14.90560531616211,
          24.899391174316406,
          8.836532592773438,
          14.62818717956543,
          18.404638290405273,
          3.4112370014190674,
          3.4321703910827637,
          16.379295349121094,
          29.327062606811523,
          23.452341079711914,
          3.9604666233062744,
          23.84898567199707,
          29.02312469482422,
          29.120830535888672,
          26.337928771972656,
          14.068199157714844,
          0.4394267201423645,
          9.264296531677246,
          13.404622077941895,
          22.015178680419922,
          3.500314712524414,
          19.485559463500977,
          3.396129846572876,
          23.483186721801758,
          3.9446375370025635,
          8.65214729309082,
          15.759126663208008,
          19.169523239135742,
          28.822975158691406,
          13.849010467529297,
          28.728084564208984,
          20.93036651611328,
          18.962156295776367
         ],
         "xaxis": "x",
         "y": [
          36.112823486328125,
          38.544986724853516,
          12.666512489318848,
          30.15662956237793,
          43.27686309814453,
          41.54499435424805,
          28.552934646606445,
          14.974530220031738,
          22.799646377563477,
          35.44691467285156,
          24.217945098876953,
          17.070728302001953,
          46.33106231689453,
          16.980979919433594,
          13.773845672607422,
          47.36831283569336,
          43.22026062011719,
          41.586647033691406,
          45.51778030395508,
          38.192909240722656,
          29.550500869750977,
          39.304168701171875,
          8.73787784576416,
          25.758258819580078,
          14.228547096252441,
          41.277793884277344,
          21.35401725769043,
          24.065290451049805,
          25.233810424804688,
          37.51273727416992,
          47.64707565307617,
          32.92006301879883,
          44.67851638793945,
          36.52367401123047,
          43.06989288330078,
          41.9060173034668,
          34.36620330810547,
          24.535810470581055,
          21.378231048583984,
          20.11856460571289,
          21.067031860351562,
          29.40752601623535,
          14.302891731262207,
          -1.9204647541046143,
          23.263608932495117,
          19.189773559570312,
          29.832202911376953,
          5.307326316833496,
          20.744029998779297,
          22.124452590942383,
          13.261906623840332,
          48.171417236328125,
          11.957768440246582,
          17.709135055541992,
          34.605255126953125,
          42.100929260253906,
          27.92731475830078,
          18.408021926879883,
          25.102874755859375,
          34.64242172241211,
          31.712011337280273,
          14.609834671020508,
          -8.73639965057373,
          20.320514678955078,
          45.7113151550293,
          23.397640228271484,
          33.32574462890625,
          20.21266746520996,
          48.004058837890625,
          12.389245986938477,
          21.69463539123535,
          23.32878303527832,
          19.350807189941406,
          25.212308883666992,
          43.85982894897461,
          -2.5133814811706543,
          35.22521209716797,
          13.690193176269531,
          23.78884506225586,
          15.880581855773926,
          21.529417037963867,
          24.225732803344727,
          24.071592330932617,
          12.390390396118164,
          41.090518951416016,
          29.148656845092773,
          23.834522247314453,
          25.74088478088379,
          -8.129859924316406,
          13.140892028808594,
          22.9167423248291,
          27.995391845703125,
          18.883432388305664,
          22.011974334716797,
          25.907808303833008,
          12.338032722473145,
          40.734134674072266,
          19.428020477294922,
          13.914990425109863,
          44.47786331176758,
          25.093055725097656,
          40.4053955078125,
          40.391090393066406,
          27.826684951782227,
          24.6853084564209,
          44.29076385498047,
          18.865144729614258,
          2.1487655639648438,
          12.833687782287598,
          22.338167190551758,
          17.57743263244629,
          31.882795333862305,
          11.773736000061035,
          20.17254066467285,
          28.873931884765625,
          25.77620506286621,
          12.503053665161133,
          26.132675170898438,
          8.799382209777832,
          15.414339065551758,
          11.352164268493652,
          21.81877326965332,
          39.44710922241211,
          -1.8683462142944336,
          0.27353835105895996,
          36.00695037841797,
          29.894121170043945,
          47.13841247558594,
          22.492469787597656,
          44.6674690246582,
          46.796443939208984,
          22.89706039428711,
          24.171239852905273,
          32.64474868774414,
          16.721698760986328,
          20.178546905517578,
          43.95433807373047,
          23.479406356811523,
          25.406614303588867,
          32.29280471801758,
          23.247352600097656,
          16.502927780151367,
          43.42820739746094,
          31.925771713256836,
          16.395824432373047,
          35.12059783935547,
          12.77457332611084,
          20.66786003112793,
          26.754812240600586,
          33.70875549316406,
          28.269678115844727,
          44.674102783203125,
          36.00062561035156,
          37.710575103759766,
          15.535346031188965,
          29.228797912597656,
          22.275529861450195,
          47.63766098022461,
          30.54598617553711,
          17.518760681152344,
          21.923961639404297,
          3.094630479812622,
          21.54462432861328,
          12.930174827575684,
          14.092706680297852,
          18.86178970336914,
          20.178180694580078,
          39.332515716552734,
          16.087602615356445,
          14.47909927368164,
          45.88460922241211,
          14.201519012451172,
          12.86649227142334,
          16.16571044921875,
          18.276630401611328,
          -0.42736345529556274,
          18.771080017089844,
          35.79945373535156,
          14.044036865234375,
          10.790685653686523,
          23.409921646118164,
          19.70853614807129,
          19.4312744140625,
          39.1791877746582,
          13.041766166687012,
          20.560161590576172,
          20.189916610717773,
          15.049593925476074,
          -2.595741033554077,
          24.759950637817383,
          13.593061447143555,
          17.241899490356445,
          9.114047050476074,
          34.56776428222656,
          18.293182373046875,
          2.386713981628418,
          12.140031814575195,
          24.188627243041992,
          19.862422943115234,
          9.219664573669434,
          26.629150390625,
          33.85468673706055,
          18.527873992919922,
          39.097782135009766,
          -9.126090049743652,
          9.984800338745117,
          23.4884033203125,
          9.455992698669434,
          24.331493377685547,
          18.84696388244629,
          10.531184196472168,
          11.122296333312988,
          24.684473037719727,
          21.935081481933594,
          3.656498432159424,
          16.050983428955078,
          9.93350887298584,
          1.149367332458496,
          20.35934829711914,
          5.114768028259277,
          36.721168518066406,
          34.76537322998047,
          11.02109432220459,
          29.080242156982422,
          11.336139678955078,
          45.635440826416016,
          42.454715728759766,
          24.576343536376953,
          42.17498016357422,
          5.913456439971924,
          -8.235506057739258,
          38.3435173034668,
          17.38271141052246,
          20.523740768432617,
          4.456826210021973,
          13.32909870147705,
          12.509050369262695,
          16.39797019958496,
          17.703908920288086,
          17.998342514038086,
          2.299921751022339,
          13.916812896728516,
          18.771739959716797,
          43.80024719238281,
          40.988616943359375,
          18.5302791595459,
          20.513301849365234,
          17.495485305786133,
          14.360930442810059,
          45.243385314941406,
          47.09090805053711,
          28.382978439331055,
          37.22118377685547,
          11.005477905273438,
          10.45936107635498,
          22.65584945678711,
          24.517568588256836,
          48.060569763183594,
          16.62254524230957,
          14.958792686462402,
          16.932804107666016,
          17.39340591430664,
          19.666229248046875,
          37.474849700927734,
          24.300334930419922,
          40.346622467041016,
          33.456485748291016,
          23.005884170532227,
          20.09876251220703,
          23.0218448638916,
          23.88764190673828,
          15.5361967086792,
          15.244927406311035,
          28.913753509521484,
          21.004268646240234,
          25.144908905029297,
          31.149520874023438,
          25.578670501708984,
          47.056724548339844,
          20.40390396118164,
          24.006237030029297,
          17.818775177001953,
          26.032596588134766,
          39.94780349731445,
          19.654163360595703,
          9.813271522521973,
          23.743078231811523,
          12.393482208251953,
          19.61902618408203,
          22.71532440185547,
          44.722957611083984,
          38.275814056396484,
          10.032368659973145,
          38.80821228027344,
          44.51496505737305,
          42.313087463378906,
          36.50358200073242,
          24.546628952026367,
          15.206735610961914,
          13.551983833312988,
          14.701742172241211,
          25.06015396118164,
          10.194957733154297,
          22.646568298339844,
          23.21389389038086,
          31.95416831970215,
          15.34423828125,
          5.799081325531006,
          13.98383903503418,
          23.36285400390625,
          46.44618606567383,
          15.742231369018555,
          42.24013137817383,
          31.089183807373047,
          19.109704971313477
         ],
         "yaxis": "y",
         "type": "scattergl"
        }
       ],
       "layout": {
        "template": {
         "data": {
          "histogram2dcontour": [
           {
            "type": "histogram2dcontour",
            "colorbar": {
             "outlinewidth": 0,
             "ticks": ""
            },
            "colorscale": [
             [
              0.0,
              "#0d0887"
             ],
             [
              0.1111111111111111,
              "#46039f"
             ],
             [
              0.2222222222222222,
              "#7201a8"
             ],
             [
              0.3333333333333333,
              "#9c179e"
             ],
             [
              0.4444444444444444,
              "#bd3786"
             ],
             [
              0.5555555555555556,
              "#d8576b"
             ],
             [
              0.6666666666666666,
              "#ed7953"
             ],
             [
              0.7777777777777778,
              "#fb9f3a"
             ],
             [
              0.8888888888888888,
              "#fdca26"
             ],
             [
              1.0,
              "#f0f921"
             ]
            ]
           }
          ],
          "choropleth": [
           {
            "type": "choropleth",
            "colorbar": {
             "outlinewidth": 0,
             "ticks": ""
            }
           }
          ],
          "histogram2d": [
           {
            "type": "histogram2d",
            "colorbar": {
             "outlinewidth": 0,
             "ticks": ""
            },
            "colorscale": [
             [
              0.0,
              "#0d0887"
             ],
             [
              0.1111111111111111,
              "#46039f"
             ],
             [
              0.2222222222222222,
              "#7201a8"
             ],
             [
              0.3333333333333333,
              "#9c179e"
             ],
             [
              0.4444444444444444,
              "#bd3786"
             ],
             [
              0.5555555555555556,
              "#d8576b"
             ],
             [
              0.6666666666666666,
              "#ed7953"
             ],
             [
              0.7777777777777778,
              "#fb9f3a"
             ],
             [
              0.8888888888888888,
              "#fdca26"
             ],
             [
              1.0,
              "#f0f921"
             ]
            ]
           }
          ],
          "heatmap": [
           {
            "type": "heatmap",
            "colorbar": {
             "outlinewidth": 0,
             "ticks": ""
            },
            "colorscale": [
             [
              0.0,
              "#0d0887"
             ],
             [
              0.1111111111111111,
              "#46039f"
             ],
             [
              0.2222222222222222,
              "#7201a8"
             ],
             [
              0.3333333333333333,
              "#9c179e"
             ],
             [
              0.4444444444444444,
              "#bd3786"
             ],
             [
              0.5555555555555556,
              "#d8576b"
             ],
             [
              0.6666666666666666,
              "#ed7953"
             ],
             [
              0.7777777777777778,
              "#fb9f3a"
             ],
             [
              0.8888888888888888,
              "#fdca26"
             ],
             [
              1.0,
              "#f0f921"
             ]
            ]
           }
          ],
          "heatmapgl": [
           {
            "type": "heatmapgl",
            "colorbar": {
             "outlinewidth": 0,
             "ticks": ""
            },
            "colorscale": [
             [
              0.0,
              "#0d0887"
             ],
             [
              0.1111111111111111,
              "#46039f"
             ],
             [
              0.2222222222222222,
              "#7201a8"
             ],
             [
              0.3333333333333333,
              "#9c179e"
             ],
             [
              0.4444444444444444,
              "#bd3786"
             ],
             [
              0.5555555555555556,
              "#d8576b"
             ],
             [
              0.6666666666666666,
              "#ed7953"
             ],
             [
              0.7777777777777778,
              "#fb9f3a"
             ],
             [
              0.8888888888888888,
              "#fdca26"
             ],
             [
              1.0,
              "#f0f921"
             ]
            ]
           }
          ],
          "contourcarpet": [
           {
            "type": "contourcarpet",
            "colorbar": {
             "outlinewidth": 0,
             "ticks": ""
            }
           }
          ],
          "contour": [
           {
            "type": "contour",
            "colorbar": {
             "outlinewidth": 0,
             "ticks": ""
            },
            "colorscale": [
             [
              0.0,
              "#0d0887"
             ],
             [
              0.1111111111111111,
              "#46039f"
             ],
             [
              0.2222222222222222,
              "#7201a8"
             ],
             [
              0.3333333333333333,
              "#9c179e"
             ],
             [
              0.4444444444444444,
              "#bd3786"
             ],
             [
              0.5555555555555556,
              "#d8576b"
             ],
             [
              0.6666666666666666,
              "#ed7953"
             ],
             [
              0.7777777777777778,
              "#fb9f3a"
             ],
             [
              0.8888888888888888,
              "#fdca26"
             ],
             [
              1.0,
              "#f0f921"
             ]
            ]
           }
          ],
          "surface": [
           {
            "type": "surface",
            "colorbar": {
             "outlinewidth": 0,
             "ticks": ""
            },
            "colorscale": [
             [
              0.0,
              "#0d0887"
             ],
             [
              0.1111111111111111,
              "#46039f"
             ],
             [
              0.2222222222222222,
              "#7201a8"
             ],
             [
              0.3333333333333333,
              "#9c179e"
             ],
             [
              0.4444444444444444,
              "#bd3786"
             ],
             [
              0.5555555555555556,
              "#d8576b"
             ],
             [
              0.6666666666666666,
              "#ed7953"
             ],
             [
              0.7777777777777778,
              "#fb9f3a"
             ],
             [
              0.8888888888888888,
              "#fdca26"
             ],
             [
              1.0,
              "#f0f921"
             ]
            ]
           }
          ],
          "mesh3d": [
           {
            "type": "mesh3d",
            "colorbar": {
             "outlinewidth": 0,
             "ticks": ""
            }
           }
          ],
          "scatter": [
           {
            "marker": {
             "line": {
              "color": "#283442"
             }
            },
            "type": "scatter"
           }
          ],
          "parcoords": [
           {
            "type": "parcoords",
            "line": {
             "colorbar": {
              "outlinewidth": 0,
              "ticks": ""
             }
            }
           }
          ],
          "scatterpolargl": [
           {
            "type": "scatterpolargl",
            "marker": {
             "colorbar": {
              "outlinewidth": 0,
              "ticks": ""
             }
            }
           }
          ],
          "bar": [
           {
            "error_x": {
             "color": "#f2f5fa"
            },
            "error_y": {
             "color": "#f2f5fa"
            },
            "marker": {
             "line": {
              "color": "rgb(17,17,17)",
              "width": 0.5
             },
             "pattern": {
              "fillmode": "overlay",
              "size": 10,
              "solidity": 0.2
             }
            },
            "type": "bar"
           }
          ],
          "scattergeo": [
           {
            "type": "scattergeo",
            "marker": {
             "colorbar": {
              "outlinewidth": 0,
              "ticks": ""
             }
            }
           }
          ],
          "scatterpolar": [
           {
            "type": "scatterpolar",
            "marker": {
             "colorbar": {
              "outlinewidth": 0,
              "ticks": ""
             }
            }
           }
          ],
          "histogram": [
           {
            "marker": {
             "pattern": {
              "fillmode": "overlay",
              "size": 10,
              "solidity": 0.2
             }
            },
            "type": "histogram"
           }
          ],
          "scattergl": [
           {
            "marker": {
             "line": {
              "color": "#283442"
             }
            },
            "type": "scattergl"
           }
          ],
          "scatter3d": [
           {
            "type": "scatter3d",
            "line": {
             "colorbar": {
              "outlinewidth": 0,
              "ticks": ""
             }
            },
            "marker": {
             "colorbar": {
              "outlinewidth": 0,
              "ticks": ""
             }
            }
           }
          ],
          "scattermapbox": [
           {
            "type": "scattermapbox",
            "marker": {
             "colorbar": {
              "outlinewidth": 0,
              "ticks": ""
             }
            }
           }
          ],
          "scatterternary": [
           {
            "type": "scatterternary",
            "marker": {
             "colorbar": {
              "outlinewidth": 0,
              "ticks": ""
             }
            }
           }
          ],
          "scattercarpet": [
           {
            "type": "scattercarpet",
            "marker": {
             "colorbar": {
              "outlinewidth": 0,
              "ticks": ""
             }
            }
           }
          ],
          "carpet": [
           {
            "aaxis": {
             "endlinecolor": "#A2B1C6",
             "gridcolor": "#506784",
             "linecolor": "#506784",
             "minorgridcolor": "#506784",
             "startlinecolor": "#A2B1C6"
            },
            "baxis": {
             "endlinecolor": "#A2B1C6",
             "gridcolor": "#506784",
             "linecolor": "#506784",
             "minorgridcolor": "#506784",
             "startlinecolor": "#A2B1C6"
            },
            "type": "carpet"
           }
          ],
          "table": [
           {
            "cells": {
             "fill": {
              "color": "#506784"
             },
             "line": {
              "color": "rgb(17,17,17)"
             }
            },
            "header": {
             "fill": {
              "color": "#2a3f5f"
             },
             "line": {
              "color": "rgb(17,17,17)"
             }
            },
            "type": "table"
           }
          ],
          "barpolar": [
           {
            "marker": {
             "line": {
              "color": "rgb(17,17,17)",
              "width": 0.5
             },
             "pattern": {
              "fillmode": "overlay",
              "size": 10,
              "solidity": 0.2
             }
            },
            "type": "barpolar"
           }
          ],
          "pie": [
           {
            "automargin": true,
            "type": "pie"
           }
          ]
         },
         "layout": {
          "autotypenumbers": "strict",
          "colorway": [
           "#636efa",
           "#EF553B",
           "#00cc96",
           "#ab63fa",
           "#FFA15A",
           "#19d3f3",
           "#FF6692",
           "#B6E880",
           "#FF97FF",
           "#FECB52"
          ],
          "font": {
           "color": "#f2f5fa"
          },
          "hovermode": "closest",
          "hoverlabel": {
           "align": "left"
          },
          "paper_bgcolor": "rgb(17,17,17)",
          "plot_bgcolor": "rgb(17,17,17)",
          "polar": {
           "bgcolor": "rgb(17,17,17)",
           "angularaxis": {
            "gridcolor": "#506784",
            "linecolor": "#506784",
            "ticks": ""
           },
           "radialaxis": {
            "gridcolor": "#506784",
            "linecolor": "#506784",
            "ticks": ""
           }
          },
          "ternary": {
           "bgcolor": "rgb(17,17,17)",
           "aaxis": {
            "gridcolor": "#506784",
            "linecolor": "#506784",
            "ticks": ""
           },
           "baxis": {
            "gridcolor": "#506784",
            "linecolor": "#506784",
            "ticks": ""
           },
           "caxis": {
            "gridcolor": "#506784",
            "linecolor": "#506784",
            "ticks": ""
           }
          },
          "coloraxis": {
           "colorbar": {
            "outlinewidth": 0,
            "ticks": ""
           }
          },
          "colorscale": {
           "sequential": [
            [
             0.0,
             "#0d0887"
            ],
            [
             0.1111111111111111,
             "#46039f"
            ],
            [
             0.2222222222222222,
             "#7201a8"
            ],
            [
             0.3333333333333333,
             "#9c179e"
            ],
            [
             0.4444444444444444,
             "#bd3786"
            ],
            [
             0.5555555555555556,
             "#d8576b"
            ],
            [
             0.6666666666666666,
             "#ed7953"
            ],
            [
             0.7777777777777778,
             "#fb9f3a"
            ],
            [
             0.8888888888888888,
             "#fdca26"
            ],
            [
             1.0,
             "#f0f921"
            ]
           ],
           "sequentialminus": [
            [
             0.0,
             "#0d0887"
            ],
            [
             0.1111111111111111,
             "#46039f"
            ],
            [
             0.2222222222222222,
             "#7201a8"
            ],
            [
             0.3333333333333333,
             "#9c179e"
            ],
            [
             0.4444444444444444,
             "#bd3786"
            ],
            [
             0.5555555555555556,
             "#d8576b"
            ],
            [
             0.6666666666666666,
             "#ed7953"
            ],
            [
             0.7777777777777778,
             "#fb9f3a"
            ],
            [
             0.8888888888888888,
             "#fdca26"
            ],
            [
             1.0,
             "#f0f921"
            ]
           ],
           "diverging": [
            [
             0,
             "#8e0152"
            ],
            [
             0.1,
             "#c51b7d"
            ],
            [
             0.2,
             "#de77ae"
            ],
            [
             0.3,
             "#f1b6da"
            ],
            [
             0.4,
             "#fde0ef"
            ],
            [
             0.5,
             "#f7f7f7"
            ],
            [
             0.6,
             "#e6f5d0"
            ],
            [
             0.7,
             "#b8e186"
            ],
            [
             0.8,
             "#7fbc41"
            ],
            [
             0.9,
             "#4d9221"
            ],
            [
             1,
             "#276419"
            ]
           ]
          },
          "xaxis": {
           "gridcolor": "#283442",
           "linecolor": "#506784",
           "ticks": "",
           "title": {
            "standoff": 15
           },
           "zerolinecolor": "#283442",
           "automargin": true,
           "zerolinewidth": 2
          },
          "yaxis": {
           "gridcolor": "#283442",
           "linecolor": "#506784",
           "ticks": "",
           "title": {
            "standoff": 15
           },
           "zerolinecolor": "#283442",
           "automargin": true,
           "zerolinewidth": 2
          },
          "scene": {
           "xaxis": {
            "backgroundcolor": "rgb(17,17,17)",
            "gridcolor": "#506784",
            "linecolor": "#506784",
            "showbackground": true,
            "ticks": "",
            "zerolinecolor": "#C8D4E3",
            "gridwidth": 2
           },
           "yaxis": {
            "backgroundcolor": "rgb(17,17,17)",
            "gridcolor": "#506784",
            "linecolor": "#506784",
            "showbackground": true,
            "ticks": "",
            "zerolinecolor": "#C8D4E3",
            "gridwidth": 2
           },
           "zaxis": {
            "backgroundcolor": "rgb(17,17,17)",
            "gridcolor": "#506784",
            "linecolor": "#506784",
            "showbackground": true,
            "ticks": "",
            "zerolinecolor": "#C8D4E3",
            "gridwidth": 2
           }
          },
          "shapedefaults": {
           "line": {
            "color": "#f2f5fa"
           }
          },
          "annotationdefaults": {
           "arrowcolor": "#f2f5fa",
           "arrowhead": 0,
           "arrowwidth": 1
          },
          "geo": {
           "bgcolor": "rgb(17,17,17)",
           "landcolor": "rgb(17,17,17)",
           "subunitcolor": "#506784",
           "showland": true,
           "showlakes": true,
           "lakecolor": "rgb(17,17,17)"
          },
          "title": {
           "x": 0.05
          },
          "updatemenudefaults": {
           "bgcolor": "#506784",
           "borderwidth": 0
          },
          "sliderdefaults": {
           "bgcolor": "#C8D4E3",
           "borderwidth": 1,
           "bordercolor": "rgb(17,17,17)",
           "tickwidth": 0
          },
          "mapbox": {
           "style": "dark"
          }
         }
        },
        "xaxis": {
         "anchor": "y",
         "domain": [
          0.0,
          1.0
         ],
         "title": {
          "text": "x"
         }
        },
        "yaxis": {
         "anchor": "x",
         "domain": [
          0.0,
          1.0
         ],
         "title": {
          "text": "y"
         }
        },
        "legend": {
         "title": {
          "text": "Topic"
         },
         "tracegroupgap": 0
        },
        "title": {
         "text": "Songs in 2D Space by Topic"
        }
       },
       "config": {
        "plotlyServerURL": "https://plot.ly"
       }
      },
      "text/html": "<div>                            <div id=\"d95aa995-4e14-4c89-8dc4-1a7551faa774\" class=\"plotly-graph-div\" style=\"height:525px; width:100%;\"></div>            <script type=\"text/javascript\">                require([\"plotly\"], function(Plotly) {                    window.PLOTLYENV=window.PLOTLYENV || {};                                    if (document.getElementById(\"d95aa995-4e14-4c89-8dc4-1a7551faa774\")) {                    Plotly.newPlot(                        \"d95aa995-4e14-4c89-8dc4-1a7551faa774\",                        [{\"customdata\":[[\"Fed_Up_With_the_Bullshit\",\"big_l\"],[\"Street_Struck\",\"big_l\"],[\"M_V_P_\",\"big_l\"],[\"Let__Em_Have_It__L_\",\"big_l\"],[\"I_Don_t_Understand_It\",\"big_l\"],[\"Lifestylez_Ov_Da_Poor___Dangerous\",\"big_l\"],[\"Live_At_P_J__s\",\"beastie_boys\"],[\"Pass_The_Mic\",\"beastie_boys\"],[\"Jimmy_James\",\"beastie_boys\"],[\"Skills_To_Pay_The_Bills\",\"beastie_boys\"],[\"Just_A_Test\",\"beastie_boys\"],[\"Putting_Shame_In_Your_Game\",\"beastie_boys\"],[\"Intergalactic\",\"beastie_boys\"],[\"Unite\",\"beastie_boys\"],[\"Super_Disco_Breakin_\",\"beastie_boys\"],[\"Root_Down\",\"beastie_boys\"],[\"B_Boys_Makin__With_The_Freak_Freak\",\"beastie_boys\"],[\"Sure_Shot\",\"beastie_boys\"],[\"The_Scoop\",\"beastie_boys\"],[\"Resolution_Time\",\"beastie_boys\"],[\"The_Vibes\",\"beastie_boys\"],[\"Root_Down___Free_Zone_Mix___Prunes\",\"beastie_boys\"],[\"Mullet_Head\",\"beastie_boys\"],[\"Do_It\",\"beastie_boys\"],[\"Dope_Little_Song\",\"beastie_boys\"],[\"Looking_Down_The_Barrel_of_a_Gun\",\"beastie_boys\"],[\"3_Minute_Rule_2\",\"beastie_boys\"],[\"The_Sounds_Of_Science_2\",\"beastie_boys\"],[\"Shake_Your_Rump\",\"beastie_boys\"],[\"High_Plains_Drifter\",\"beastie_boys\"],[\"The_Sounds_Of_Science\",\"beastie_boys\"],[\"High_Plains_Drifter_2\",\"beastie_boys\"],[\"B_Boy_Bouillabaisse\",\"beastie_boys\"],[\"Car_Thief\",\"beastie_boys\"],[\"Johnny_Ryall\",\"beastie_boys\"],[\"Shake_Your_Rump_2\",\"beastie_boys\"],[\"Looking_Down_The_Barrel_of_a_Gun_2\",\"beastie_boys\"],[\"Motivators\",\"a_tribe_called_quest\"],[\"Word_Play\",\"a_tribe_called_quest\"],[\"The_Hop\",\"a_tribe_called_quest\"],[\"Jam\",\"a_tribe_called_quest\"],[\"The_Pressure\",\"a_tribe_called_quest\"],[\"1nce_Again\",\"a_tribe_called_quest\"],[\"Phony_Rappers\",\"a_tribe_called_quest\"],[\"Scenario\",\"a_tribe_called_quest\"],[\"Verses_from_the_Abstract\",\"a_tribe_called_quest\"],[\"Rap_Promoter\",\"a_tribe_called_quest\"],[\"Check_the_Rhime\",\"a_tribe_called_quest\"],[\"Excursions\",\"a_tribe_called_quest\"],[\"Vibes_and_Stuff\",\"a_tribe_called_quest\"],[\"Buggin__Out\",\"a_tribe_called_quest\"],[\"Jazz__We_Got_the____\",\"a_tribe_called_quest\"],[\"Luck_of_Lucien\",\"a_tribe_called_quest\"],[\"After_Hours\",\"a_tribe_called_quest\"],[\"We_Can_Get_Down\",\"a_tribe_called_quest\"],[\"Lyrics_To_Go\",\"a_tribe_called_quest\"],[\"Award_Tour\",\"a_tribe_called_quest\"],[\"Oh_My_God\",\"a_tribe_called_quest\"],[\"Keep_It_Rollin_\",\"a_tribe_called_quest\"],[\"The_Chase_Pt__II\",\"a_tribe_called_quest\"],[\"Electric_Relaxation\",\"a_tribe_called_quest\"],[\"Can_I_Get_A_Witness\",\"run-dmc\"],[\"Hit__Em_Hard\",\"run-dmc\"],[\"Big_Willie\",\"run-dmc\"],[\"Down_With_The_King\",\"run-dmc\"],[\"Wreck_Shop\",\"run-dmc\"],[\"3_In_The_Head\",\"run-dmc\"],[\"Can_I_Get_it__Yo\",\"run-dmc\"],[\"Ooh__Whatcha_Gonna_Do\",\"run-dmc\"],[\"Get_Open\",\"run-dmc\"],[\"Three_Little_Indians\",\"run-dmc\"],[\"In_The_House\",\"run-dmc\"],[\"Come_On_Everybody\",\"run-dmc\"],[\"What_s_Next\",\"run-dmc\"],[\"Soul_To_Rock_And_Roll\",\"run-dmc\"],[\"Mary__Mary\",\"run-dmc\"],[\"Papa_Crazy\",\"run-dmc\"],[\"Run_s_House\",\"run-dmc\"],[\"Ragtime\",\"run-dmc\"],[\"Tougher_Than_Leather\",\"run-dmc\"],[\"Beats_To_The_Rhyme\",\"run-dmc\"],[\"They_Call_Us_Run_D_M_C_\",\"run-dmc\"],[\"I_m_Not_Going_Out_Like_That\",\"run-dmc\"],[\"How_d_Ya_Do_It_Dee\",\"run-dmc\"],[\"Radio_Station\",\"run-dmc\"],[\"Bob_Your_Head\",\"run-dmc\"],[\"Naughty\",\"run-dmc\"],[\"Groove_To_The_Sound\",\"run-dmc\"],[\"Don_t_Stop\",\"run-dmc\"],[\"What_s_It_All_About_\",\"run-dmc\"],[\"The_Ave_\",\"run-dmc\"],[\"Word_Is_Born\",\"run-dmc\"],[\"Party_Time\",\"run-dmc\"],[\"Back_From_Hell\",\"run-dmc\"],[\"Not_Just_Another_Groove\",\"run-dmc\"],[\"Pause\",\"run-dmc\"],[\"Faces\",\"run-dmc\"],[\"22_Two_s\",\"jay-z\"],[\"Can_I_Live\",\"jay-z\"],[\"One_Time_4_Your_Mind\",\"nas\"],[\"It_Ain_t_Hard_To_Tell\",\"nas\"],[\"N_Y__State_Of_Mind\",\"nas\"],[\"Halftime\",\"nas\"],[\"Get_Down\",\"ll_cool_j\"],[\"My_Rhyme_Ain_t_Done\",\"ll_cool_j\"],[\"_357_Break_It_On_Down\",\"ll_cool_j\"],[\"The_Do_Wop\",\"ll_cool_j\"],[\"The_Breakthrough\",\"ll_cool_j\"],[\"I_m_Bad\",\"ll_cool_j\"],[\"Go_Cut_Creator_Go\",\"ll_cool_j\"],[\"Funkadelic_Relic\",\"ll_cool_j\"],[\"Diggy_Down\",\"ll_cool_j\"],[\"Crossroads\",\"ll_cool_j\"],[\"Straight_From_Queens\",\"ll_cool_j\"],[\"_NFA__No_Frontin_Allowed\",\"ll_cool_j\"],[\"Ain_t_No_Stoppin__This\",\"ll_cool_j\"],[\"Jealous\",\"ll_cool_j\"],[\"Def_Jam_In_The_Motherland\",\"ll_cool_j\"],[\"Crime_Stories\",\"ll_cool_j\"],[\"Nitro\",\"ll_cool_j\"],[\"It_Gets_No_Rougher\",\"ll_cool_j\"],[\"Why_Do_You_Think_They_Call_It_Dope_\",\"ll_cool_j\"],[\"Jack_The_Ripper\",\"ll_cool_j\"],[\"Droppin_Em\",\"ll_cool_j\"],[\"1_900_L_L__Cool_J\",\"ll_cool_j\"],[\"Clap_Your_Hands\",\"ll_cool_j\"],[\"Strictly_Business\",\"ll_cool_j\"],[\"The_Power_Of_God\",\"ll_cool_j\"],[\"Murdergram\",\"ll_cool_j\"],[\"Farmers_Blvd___Our_Anthem_\",\"ll_cool_j\"],[\"The_Boomin__System\",\"ll_cool_j\"],[\"To_Da_Break_Of_Dawn\",\"ll_cool_j\"],[\"Eat__Em_Up_L_Chill\",\"ll_cool_j\"],[\"Peer_Pressure__The_Large_Professor_Remix_\",\"mobb_deep\"],[\"Flavor_For_The_Non_Believes\",\"mobb_deep\"],[\"Paid_In_Full\",\"erikb_&_rakim\"],[\"My_Melody\",\"erikb_&_rakim\"],[\"As_The_Rhyme_Goes_On\",\"erikb_&_rakim\"],[\"Eric_B_Is_President\",\"erikb_&_rakim\"],[\"I_Know_You_Got_Soul\",\"erikb_&_rakim\"],[\"I_Ain_t_No_Joke\",\"erikb_&_rakim\"],[\"Set__Em_Straight\",\"erikb_&_rakim\"],[\"In_The_Ghetto\",\"erikb_&_rakim\"],[\"Untouchables\",\"erikb_&_rakim\"],[\"Step_Back\",\"erikb_&_rakim\"],[\"Run_For_Cover\",\"erikb_&_rakim\"],[\"Keep__em_Eager_To_Listen\",\"erikb_&_rakim\"],[\"No_Omega\",\"erikb_&_rakim\"],[\"What_s_On_Your_Mind_\",\"erikb_&_rakim\"],[\"Teach_The_Children\",\"erikb_&_rakim\"],[\"Kick_Along\",\"erikb_&_rakim\"],[\"What_s_Going_On_\",\"erikb_&_rakim\"],[\"The_Punisher\",\"erikb_&_rakim\"],[\"Casualties_Of_War\",\"erikb_&_rakim\"],[\"Know_The_Ledge__Juice_\",\"erikb_&_rakim\"],[\"Lyrics_Of_Fury\",\"erikb_&_rakim\"],[\"Follow_The_Leader\",\"erikb_&_rakim\"],[\"Put_Your_Hands_Together\",\"erikb_&_rakim\"],[\"Microphone_Fiend\",\"erikb_&_rakim\"],[\"Musical_Massacre\",\"erikb_&_rakim\"],[\"To_The_Listeners\",\"erikb_&_rakim\"],[\"Terminator_X_To_The_Edge_Of_Panic\",\"public_enemy\"],[\"Louder_Than_A_Bomb\",\"public_enemy\"],[\"Prophets_Of_Rage\",\"public_enemy\"],[\"Black_Steel_In_The_Hour_Of_Chaos\",\"public_enemy\"],[\"Don_t_Believe_The_Hype\",\"public_enemy\"],[\"Cold_Lampin__With_Flavor\",\"public_enemy\"],[\"Rebel_Without_A_Pause\",\"public_enemy\"],[\"Bring_The_Noise\",\"public_enemy\"],[\"B_Side_Wins_Again\",\"public_enemy\"],[\"Welcome_To_The_Terrordome\",\"public_enemy\"],[\"Anti_Nigger_Machine\",\"public_enemy\"],[\"Fight_The_Power\",\"public_enemy\"],[\"Who_Stole_The_Soul\",\"public_enemy\"],[\"You_re_Gonna_Get_Yours\",\"public_enemy\"],[\"Miuzi_Weighs_A_Ton\",\"public_enemy\"],[\"Public_Enemy_No__1\",\"public_enemy\"],[\"Timebomb\",\"public_enemy\"],[\"MPE\",\"public_enemy\"],[\"Too_Much_Posse\",\"public_enemy\"],[\"I_Ain_t_Mad_At_All\",\"public_enemy\"],[\"Thin_Line_Between_Law_And_Rape\",\"public_enemy\"],[\"Give_It_Up\",\"public_enemy\"],[\"Live_And_Undrugged_Pt__1___2\",\"public_enemy\"],[\"What_Side_You_On_\",\"public_enemy\"],[\"What_Kind_Of_Power_We_Got_\",\"public_enemy\"],[\"Race_Against_Time\",\"public_enemy\"],[\"Move\",\"public_enemy\"],[\"A_Letter_To_The_New_York_Post\",\"public_enemy\"],[\"How_To_Kill_A_Radio_Consultant\",\"public_enemy\"],[\"Nighttrain\",\"public_enemy\"],[\"Can_t_Truss_It\",\"public_enemy\"],[\"Bring_Tha_Noize\",\"public_enemy\"],[\"Da_Mystery_Of_Chessboxin_\",\"wu_tang_clan\"],[\"Do_the_Bus_a_Bus\",\"busta_rhymes\"],[\"Ill_Vibe\",\"busta_rhymes\"],[\"Eye_Patch\",\"de_la_soul\"],[\"Stone_Age\",\"de_la_soul\"],[\"I_Am_I_Be\",\"de_la_soul\"],[\"Ego_Trippin___Part_Two_\",\"de_la_soul\"],[\"Sh__Fe__MC_s\",\"de_la_soul\"],[\"Mindstate\",\"de_la_soul\"],[\"Lovely_How_I_Let_My_Mind_Float\",\"de_la_soul\"],[\"Plug_Tunin__Home_Demo_\",\"de_la_soul\"],[\"Say_No_Go\",\"de_la_soul\"],[\"Freedom_Of_Speak__Home_Demo_\",\"de_la_soul\"],[\"This_Is_A_Recording_For_Living_In_A_Fulltime_Era__L_I_F_E__\",\"de_la_soul\"],[\"The_Magic_Number\",\"de_la_soul\"],[\"Ghetto_Thang\",\"de_la_soul\"],[\"Plug_Tunin___Last_Chance_To_Comprehend_\",\"de_la_soul\"],[\"Brakes\",\"de_la_soul\"],[\"Dog_Eat_Dog\",\"de_la_soul\"],[\"4_More\",\"de_la_soul\"],[\"Sunshine\",\"de_la_soul\"],[\"Wonce_Again_Long_Island\",\"de_la_soul\"],[\"Long_Island_Degrees\",\"de_la_soul\"],[\"Down_Syndrome\",\"de_la_soul\"],[\"Intro__Stakes_Is_High_\",\"de_la_soul\"],[\"Supa_Emcees\",\"de_la_soul\"],[\"Millie_Pulled_A_Pistol_On_Santa\",\"de_la_soul\"],[\"Johnny_s_Dead_AKA_Vincent_Mason__Live_From_The_BK_Lounge_\",\"de_la_soul\"],[\"Afro_Connections_At_A_Hi_5__In_The_Eyes_Of_The_Hoodlum_\",\"de_la_soul\"],[\"Kicked_Out_The_House\",\"de_la_soul\"],[\"Who_Do_U_Worship_\",\"de_la_soul\"],[\"I_ll_Be_Missing_You\",\"puff_daddy\"],[\"Premier___The_Guru\",\"gang_starr\"],[\"Gusto\",\"gang_starr\"],[\"Gotch_U\",\"gang_starr\"],[\"Cause_And_Effect\",\"gang_starr\"],[\"Knowledge\",\"gang_starr\"],[\"2_Steps_Ahead\",\"gang_starr\"],[\"Positivity__Remix_\",\"gang_starr\"],[\"Code_Of_The_Streets\",\"gang_starr\"],[\"The_Planet\",\"gang_starr\"],[\"Comin__For_Datazz\",\"gang_starr\"],[\"Suckas_Need_Bodyguards\",\"gang_starr\"],[\"DWYCK\",\"gang_starr\"],[\"Speak_Ya_Clout\",\"gang_starr\"],[\"Now_You_re_Mine\",\"gang_starr\"],[\"Mass_Appeal\",\"gang_starr\"],[\"Take_A_Rest\",\"gang_starr\"],[\"Check_The_Technique\",\"gang_starr\"],[\"Form_Of_Intellect\",\"gang_starr\"],[\"Just_To_Get_A_Rep__LP_version_\",\"gang_starr\"],[\"Here_Today__Gone_Tomorrow\",\"gang_starr\"],[\"Precisely_The_Right_Rhymes\",\"gang_starr\"],[\"Step_In_The_Arena\",\"gang_starr\"],[\"Stay_Tuned\",\"gang_starr\"],[\"I_m_The_Man\",\"gang_starr\"],[\"Take_It_Personal\",\"gang_starr\"],[\"The_Illest_Brother\",\"gang_starr\"],[\"No_Shame_In_My_Game\",\"gang_starr\"],[\"Flip_The_Script\",\"gang_starr\"],[\"Much_Too_Much__Mack_A_Mil_\",\"gang_starr\"],[\"Hardcore_Composer\",\"gang_starr\"],[\"B_Y_S_\",\"gang_starr\"],[\"Soliloquy_Of_Chaos\",\"gang_starr\"],[\"2_Deep\",\"gang_starr\"],[\"That_s_When_Ya_Lost\",\"soulsofmischief\"],[\"93__Til_Infinity\",\"soulsofmischief\"],[\"Never_No_More\",\"soulsofmischief\"],[\"Anything_Can_Happen\",\"soulsofmischief\"],[\"Make_Your_Mind_Up\",\"soulsofmischief\"],[\"Yeah_It_Was_You\",\"soulsofmischief\"],[\"Rock_It_Like_That\",\"soulsofmischief\"],[\"No_Man_s_Land\",\"soulsofmischief\"],[\"Freshdopedope\",\"soulsofmischief\"],[\"Ya_Don_t_Stop\",\"soulsofmischief\"],[\"Bumpshit\",\"soulsofmischief\"],[\"Fa_Sho_Fo_Real\",\"soulsofmischief\"],[\"Dirty_D_s_Theme__Hoe_Or_Die_\",\"soulsofmischief\"],[\"L_A__Is_The_Place\",\"nwa\"],[\"Express_Yourself\",\"nwa\"],[\"Quiet_On_Tha_Set\",\"nwa\"],[\"If_It_Ain_t_Ruff\",\"nwa\"],[\"That_s_How_It_Is\",\"coolio\"],[\"Bright_As_The_Sun\",\"coolio\"],[\"For_My_Sistas\",\"coolio\"],[\"I_Remember\",\"coolio\"],[\"On_My_Way_To_Harlem\",\"coolio\"],[\"The_Devil_Is_Dope\",\"coolio\"],[\"Can_I_Get_Down_One_Time\",\"coolio\"],[\"Us\",\"ice_cube\"],[\"A_Bird_In_The_Hand\",\"ice_cube\"],[\"Color_Blind\",\"ice_cube\"],[\"Jackin_For_Beats\",\"ice_cube\"],[\"Rollin__Wit_The_Lench_Mob\",\"ice_cube\"],[\"The_Bomb\",\"ice_cube\"],[\"I_Ain_t_Trippin_\",\"too_short\"],[\"Life_Is____Too_Short\",\"too_short\"],[\"Rhymes\",\"too_short\"],[\"City_Of_Dope\",\"too_short\"],[\"Nobody_Does_It_Better\",\"too_short\"],[\"Mack_Attack\",\"too_short\"],[\"Partytime\",\"too_short\"],[\"Dead_Or_Alive\",\"too_short\"],[\"The_Ghetto\",\"too_short\"],[\"In_The_Oaktown\",\"too_short\"],[\"Short_But_Funky\",\"too_short\"],[\"Short_Dog_s_In_The_House\",\"too_short\"],[\"It_s_Your_Life\",\"too_short\"],[\"Lodi_Dodi\",\"snoop_dogg\"],[\"Vapors\",\"snoop_dogg\"],[\"Holler_If_Ya__Hear_Me__New_York_Stretch_Mix_\",\"pac\"],[\"Holla_If_Ya_Hear_Me\",\"pac\"],[\"The_Streetz_R_Deathrow\",\"pac\"],[\"Guess_Who_s_Back\",\"pac\"],[\"Hold_Ya_Head\",\"pac\"],[\"If_My_Homie_Calls\",\"pac\"],[\"Rebel_Of_The_Underground\",\"pac\"],[\"Teardrops_And_Closed_Caskets\",\"pac\"],[\"Make_A_Move\",\"cypress_hill\"],[\"Illusions\",\"cypress_hill\"],[\"3_Lil__Putos\",\"cypress_hill\"],[\"Break_It_Up\",\"cypress_hill\"],[\"Latin_Lingo\",\"cypress_hill\"],[\"Hand_On_The_Pump\",\"cypress_hill\"],[\"How_I_Could_Just_Kill_A_Man\",\"cypress_hill\"],[\"8_Ball\",\"eazy_e\"],[\"No_More___s\",\"eazy_e\"],[\"We_Want_Eazy\",\"eazy_e\"],[\"Eazy_Er_Said_Than_Dunn_2\",\"eazy_e\"],[\"Radio\",\"eazy_e\"],[\"Radio_2\",\"eazy_e\"],[\"Eazy_Er_Said_Than_Dunn\",\"eazy_e\"],[\"I_mma_Break_It_Down\",\"eazy_e\"],[\"No_More___s_2\",\"eazy_e\"],[\"The_Way_We_Swing\",\"digital_underground\"],[\"Rhymin__On_The_Funk\",\"digital_underground\"],[\"The_Danger_Zone\",\"digital_underground\"],[\"Flowin__On_The_D_Line\",\"digital_underground\"],[\"Family_Of_The_Underground\",\"digital_underground\"],[\"Tales_Of_The_Funky\",\"digital_underground\"],[\"The_Return_Of_The_Crazy_One\",\"digital_underground\"],[\"Holly_Wanstaho\",\"digital_underground\"],[\"Dope_A_Delic__Do_U_B_Leeve_In_D_Flo__\",\"digital_underground\"],[\"Stylin_\",\"digital_underground\"],[\"Walk_Real_Kool\",\"digital_underground\"],[\"This_D_J_\",\"warren_g_\"],[\"And_Ya_Don_t_Stop\",\"warren_g_\"],[\"Super_Soul_Sis\",\"warren_g_\"],[\"Regulate\",\"warren_g_\"],[\"Power\",\"ice-t\"],[\"I_m_Your_Pusher\",\"ice-t\"],[\"High_Rollers\",\"ice-t\"],[\"Grand_Larceny\",\"ice-t\"],[\"Personal\",\"ice-t\"],[\"The_Syndicate\",\"ice-t\"],[\"Drama\",\"ice-t\"],[\"Heartbeat\",\"ice-t\"],[\"Radio_Suckers\",\"ice-t\"],[\"Dear_Homie\",\"ice-t\"],[\"The_Lane\",\"ice-t\"],[\"Pain\",\"ice-t\"],[\"Intro_Rhyme_Pays\",\"ice-t\"],[\"6_n_The_Mornin_\",\"ice-t\"],[\"Make_it_Funky\",\"ice-t\"],[\"Squeeze_the_Trigger\",\"ice-t\"],[\"409\",\"ice-t\"],[\"Somebody_Gotta_Do_It__Pimpin__Ain_t_Easy______12_Mix_\",\"ice-t\"],[\"Mic_Contract\",\"ice-t\"],[\"Pulse_Of_The_Rhyme\",\"ice-t\"],[\"Mind_Over_Matter\",\"ice-t\"],[\"O_G__Original_Gangster\",\"ice-t\"],[\"The_Tower\",\"ice-t\"],[\"Lifestyles_Of_The_Rich_And_Infamous\",\"ice-t\"],[\"New_Jack_Hustler\",\"ice-t\"],[\"Message_To_The_Soldier\",\"ice-t\"],[\"I_Ain_t_New_To_This\",\"ice-t\"],[\"Watch_The_Ice_Break\",\"ice-t\"],[\"Just_Don_t_Matter\",\"the_pharcyde\"],[\"Bullshit\",\"the_pharcyde\"],[\"Drop\",\"the_pharcyde\"],[\"Y_\",\"the_pharcyde\"],[\"It_s_Jiggaboo_Time__Skit_\",\"the_pharcyde\"],[\"Return_Of_The_B_Boy\",\"the_pharcyde\"],[\"Blunt_Time\",\"Dr.Dre\"],[\"L_A_W___Lyrical_Assault_Weapon_\",\"Dr.Dre\"],[\"Lil__Ghetto_Boy\",\"Dr.Dre\"]],\"hovertemplate\":\"Topic=2\\u003cbr\\u003ex=%{x}\\u003cbr\\u003ey=%{y}\\u003cbr\\u003eSong=%{customdata[0]}\\u003cbr\\u003eArtist=%{customdata[1]}\\u003cextra\\u003e\\u003c\\u002fextra\\u003e\",\"legendgroup\":\"2\",\"marker\":{\"color\":\"#636efa\",\"symbol\":\"circle\",\"line\":{\"color\":\"DarkSlateGrey\",\"width\":1},\"size\":10},\"mode\":\"markers\",\"name\":\"2\",\"showlegend\":true,\"x\":[-14.865596771240234,-41.782958984375,-12.001968383789062,-19.662593841552734,-50.394657135009766,0.990284264087677,1.3926475048065186,-31.25704002380371,-29.82164764404297,-43.72427749633789,-12.27734088897705,-40.02830123901367,-10.409820556640625,-2.116442918777466,-11.204731941223145,-41.59154510498047,-15.539097785949707,-35.6218376159668,-31.392122268676758,-30.453664779663086,-6.67003870010376,-14.399185180664062,-0.2768239676952362,-6.232290267944336,-1.6930726766586304,2.4505374431610107,-13.005732536315918,-27.170377731323242,-44.82216262817383,-3.5285191535949707,-22.787508010864258,-4.018777370452881,-33.81023406982422,-14.644586563110352,-24.728408813476562,-43.646305084228516,-8.936732292175293,-27.644733428955078,-0.879275918006897,-12.508448600769043,-28.66206932067871,-8.43107795715332,-31.81195640563965,-18.28647232055664,-13.379515647888184,-31.559261322021484,-13.26573371887207,-48.43120193481445,-31.43516731262207,-30.684917449951172,-30.382156372070312,-33.31451416015625,-7.503593921661377,2.241650342941284,-29.54845428466797,-40.10087966918945,-24.9127140045166,-4.13026237487793,-10.800517082214355,-38.249794006347656,-13.434597969055176,-32.63404846191406,-17.059545516967773,-41.974525451660156,-48.758731842041016,-38.9694709777832,-33.31989669799805,-45.015567779541016,-25.67361831665039,-44.18003463745117,-42.5211296081543,-13.571775436401367,-37.42696762084961,-9.20693302154541,-49.030853271484375,-1.2056479454040527,-20.301860809326172,-34.62253189086914,-19.34258270263672,-26.793628692626953,-48.6859245300293,-2.142066240310669,-47.35247039794922,-47.427955627441406,-25.385055541992188,-15.115928649902344,-35.812721252441406,-17.030832290649414,-32.89200973510742,-10.469694137573242,-3.944899082183838,-7.986306190490723,-34.56599044799805,-4.430660247802734,-44.08882522583008,-29.829296112060547,-15.58896541595459,-10.629322052001953,3.73842191696167,-14.888260841369629,-33.96504211425781,-21.76569366455078,-38.49873733520508,-49.421817779541016,-31.477737426757812,-49.875579833984375,-34.76933670043945,-39.25139617919922,-44.60198974609375,-51.93122100830078,-18.854305267333984,-15.223332405090332,-39.30655288696289,-31.005903244018555,-45.535499572753906,-18.440221786499023,-32.906707763671875,-50.79031753540039,-41.51279830932617,-50.8873176574707,-41.589908599853516,-48.66541290283203,-50.446250915527344,-48.26680374145508,-28.132492065429688,-15.854557991027832,-13.707549095153809,-13.544853210449219,-29.523962020874023,-16.157155990600586,-29.82694435119629,-42.21369171142578,-31.5621337890625,-10.104781150817871,-13.330081939697266,-12.705214500427246,-48.31581497192383,-45.1842155456543,0.9007431864738464,-46.56667709350586,-44.469078063964844,-39.914154052734375,-33.04047775268555,-44.49203109741211,-45.44902801513672,-51.00222396850586,-40.983951568603516,-49.62223815917969,-16.337905883789062,0.8162792921066284,-44.33871078491211,-7.1181817054748535,-42.55068588256836,-5.816451072692871,-20.73728370666504,-40.995052337646484,-37.52324295043945,-47.493892669677734,-44.49490737915039,-35.435333251953125,-37.00825881958008,1.0212122201919556,-34.465721130371094,-22.829572677612305,-30.593528747558594,-41.56502914428711,-34.12291717529297,-38.58612823486328,-47.992698669433594,-46.765010833740234,-28.185213088989258,1.239810824394226,-22.700706481933594,-1.2955710887908936,-42.24705123901367,-51.78793716430664,-31.966402053833008,-15.958025932312012,-29.180591583251953,-26.274049758911133,-1.3279671669006348,-8.806584358215332,-1.648634672164917,-26.979337692260742,-3.5440988540649414,-40.88252639770508,-40.837890625,-3.0988216400146484,-25.029680252075195,-33.817283630371094,-24.09486961364746,-26.18383026123047,-48.553829193115234,-20.770986557006836,-18.555797576904297,-19.511383056640625,-0.04318130761384964,-5.3907694816589355,-20.020017623901367,-32.48228073120117,-9.422075271606445,-34.52692413330078,-29.221818923950195,0.24623914062976837,-29.4708251953125,-6.751915454864502,-40.81767654418945,-0.6439433693885803,-2.968555450439453,-20.429691314697266,-16.019865036010742,-25.097171783447266,-15.563996315002441,-16.070343017578125,-20.13520050048828,-14.279457092285156,-8.454720497131348,-2.3761403560638428,-7.463311195373535,-11.085945129394531,-4.492064476013184,-31.033199310302734,2.213474750518799,-6.1403045654296875,-17.236906051635742,-1.0555230379104614,-9.969380378723145,-35.49468994140625,-33.14589309692383,0.7038904428482056,-19.883882522583008,-15.502569198608398,-1.154859185218811,-20.02884292602539,-17.3438663482666,-40.659706115722656,-5.762320518493652,-18.50200843811035,-13.121005058288574,-31.133352279663086,-45.80998992919922,-29.47340965270996,-35.86355972290039,-15.51147174835205,-4.681254863739014,-36.579010009765625,-38.29267120361328,-37.01042938232422,-17.934730529785156,-24.1893253326416,-26.869844436645508,-27.006582260131836,-38.23664474487305,-15.03770637512207,-31.763988494873047,-33.11310577392578,-37.42761993408203,-14.676220893859863,-21.298097610473633,-7.21705961227417,1.765794038772583,-5.585095405578613,-17.675209045410156,-4.536524295806885,-29.187522888183594,-13.674423217773438,-13.876614570617676,-12.489251136779785,-14.998381614685059,-17.610382080078125,-9.56303596496582,-13.57545280456543,-37.42650604248047,-39.89994812011719,-33.98187255859375,-5.85917329788208,-13.274181365966797,-0.9044486284255981,-30.395387649536133,-3.0970609188079834,-13.557756423950195,-3.2603578567504883,-1.2951970100402832,-0.395568311214447,-9.977001190185547,-13.36704158782959,-12.36733627319336,-25.431095123291016,-28.33978271484375,-35.499053955078125,-49.26595687866211,-30.523128509521484,-37.18588638305664,-15.274198532104492,-30.659170150756836,-42.7265739440918,-31.18186378479004,-44.504478454589844,-21.93812370300293,-24.533781051635742,-30.979490280151367,-17.260610580444336,-32.36479568481445,-22.05011558532715,-17.002840042114258,2.2752628326416016,-4.539064884185791,2.9083735942840576,-31.5976505279541,-26.512842178344727,1.6920785903930664,-7.106142997741699,-1.1562855243682861,-15.54796028137207,-11.527929306030273,-7.079457759857178,2.0817575454711914,-12.994168281555176,-4.042733192443848,-1.1404074430465698,-1.034104347229004,-17.562929153442383,-49.92878723144531,-42.7227897644043,-25.57143783569336,-33.26749801635742,-4.0002546310424805,-51.44367980957031,-33.63887405395508,-17.987028121948242,-14.867474555969238,-17.449533462524414,-6.975613594055176,-1.5772072076797485,1.0055367946624756,-17.40557861328125,-41.906333923339844,-8.99660587310791,2.099959373474121,-25.461225509643555,-18.62798309326172,-9.166747093200684,-37.1986198425293,-43.847198486328125,-7.886470794677734,-44.06040954589844,-44.668724060058594,-45.85381317138672,-23.582448959350586,-51.04605484008789,-49.24349594116211,-4.157905101776123,0.6919955611228943,-5.900759220123291,-51.770931243896484,-17.67404556274414,-45.55309295654297,-43.92841339111328,-47.35749053955078,-8.632424354553223,-27.458484649658203,-20.11068344116211,-46.09822082519531,-18.516902923583984,-9.98622989654541,-29.836612701416016,-18.295551300048828,-31.71719741821289,-19.451770782470703,-15.43982219696045,-17.399272918701172,-13.320932388305664,-4.787580966949463,-4.336258888244629,-13.834476470947266,-42.0870361328125,-2.503635883331299,-38.42638397216797,-17.41562843322754],\"xaxis\":\"x\",\"y\":[-7.202097415924072,-11.932154655456543,0.838816225528717,-4.8848958015441895,-12.622610092163086,-7.001310348510742,-7.03195858001709,2.9804012775421143,0.591248095035553,-7.577228546142578,9.482400894165039,-5.071995735168457,4.096316814422607,1.9061182737350464,2.673201084136963,-8.896342277526855,-8.460773468017578,1.4596103429794312,3.60019850730896,2.176819324493408,14.356805801391602,-7.525014400482178,-8.667363166809082,12.893924713134766,8.579158782958984,1.2720882892608643,0.5810357332229614,-0.9379374384880066,-5.989666938781738,6.522411346435547,2.461298704147339,4.032917499542236,1.8516035079956055,-0.9796726107597351,1.6128543615341187,-10.796592712402344,6.844702243804932,0.17755034565925598,1.9786874055862427,8.914894104003906,-1.4319525957107544,5.523566722869873,-7.2696661949157715,-8.26583480834961,6.569521427154541,1.4148191213607788,-0.2350781261920929,-8.900362968444824,-4.655077934265137,3.7079660892486572,-0.6394136548042297,2.444958209991455,13.716885566711426,4.016270637512207,-2.298067331314087,-8.182336807250977,-2.9391846656799316,8.103372573852539,-1.0500563383102417,-0.4062959551811218,10.256693840026855,-0.8321601748466492,-4.053944110870361,-10.968121528625488,-10.984945297241211,-6.249759674072266,-0.22100451588630676,-10.661375999450684,0.38117715716362,-7.764374256134033,-7.7566022872924805,-0.6105947494506836,-9.099786758422852,14.809381484985352,-10.871745109558105,6.469235897064209,-2.8942577838897705,1.3983222246170044,2.1514172554016113,0.37767332792282104,-8.625859260559082,4.784920692443848,-10.142759323120117,-12.260902404785156,1.754221796989441,9.880456924438477,-0.18227094411849976,0.41743773221969604,-7.319881439208984,5.651522159576416,-3.9070992469787598,6.66563081741333,0.8081434369087219,7.544842720031738,-11.766915321350098,-4.939329147338867,-0.13953647017478943,-2.3258121013641357,-2.4040560722351074,3.353020429611206,-2.467512845993042,-5.269220352172852,-9.362581253051758,-12.712258338928223,-0.24745236337184906,-11.693099021911621,0.33097079396247864,-11.177286148071289,-9.125550270080566,-13.433948516845703,1.6608459949493408,6.42617654800415,-9.733926773071289,0.4447214901447296,-8.179266929626465,3.7817509174346924,2.842222213745117,-10.53796100616455,-4.838928699493408,-11.754815101623535,-9.736221313476562,-12.507471084594727,-12.36897087097168,-11.115044593811035,-1.1667944192886353,8.319570541381836,3.022580146789551,5.291982650756836,-5.669755458831787,7.929724216461182,-5.975538730621338,-9.328042984008789,-2.2372612953186035,7.838415145874023,-9.490545272827148,-0.35224148631095886,-11.988536834716797,-5.499969005584717,12.220566749572754,-9.888070106506348,-5.479910850524902,-7.909031867980957,1.3972806930541992,-12.199386596679688,-9.324822425842285,-12.050065040588379,-10.455799102783203,-10.814797401428223,3.1531293392181396,-6.0070624351501465,-8.407133102416992,-0.16271013021469116,-4.663539409637451,7.262710094451904,-2.7809383869171143,-4.624545574188232,-8.043795585632324,-8.111244201660156,-4.87510871887207,-5.076598167419434,-4.286168098449707,8.68027114868164,-4.141842842102051,0.8728955984115601,-6.65771484375,-8.511125564575195,-5.2637786865234375,-4.387762546539307,-9.87005615234375,-8.07831859588623,1.0530942678451538,12.247276306152344,2.8256239891052246,8.538897514343262,-11.202577590942383,-11.500701904296875,-5.014768600463867,7.265546798706055,-4.536789894104004,-0.05161095783114433,4.804559707641602,0.22749121487140656,7.984193801879883,-6.556557655334473,3.8750956058502197,-10.364217758178711,-4.042558193206787,2.7816169261932373,-0.6077402234077454,-3.8840978145599365,0.8811529874801636,-1.5264431238174438,-9.51464557647705,-4.531578063964844,-7.4930267333984375,1.6844148635864258,13.040878295898438,12.639430046081543,-1.4005619287490845,-7.227062225341797,-1.5749272108078003,-4.697629928588867,2.6261203289031982,8.830957412719727,-0.02037273533642292,13.829097747802734,-6.543424129486084,8.43547248840332,13.409019470214844,1.6474868059158325,3.776153564453125,-3.7251198291778564,12.403120994567871,4.512413501739502,-1.6493009328842163,4.632641315460205,-1.0184115171432495,2.2392466068267822,-3.006934881210327,-0.4481954574584961,8.009859085083008,1.9628698825836182,2.046900987625122,14.872076988220215,-2.0090787410736084,9.000354766845703,0.28707221150398254,-4.698291778564453,2.141930103302002,11.399120330810547,1.866471529006958,3.9528114795684814,7.280235290527344,-3.653768301010132,-3.5581467151641846,-5.417811870574951,2.572504758834839,-3.6577811241149902,-2.0215671062469482,-6.675535202026367,-10.386017799377441,-2.902958393096924,-4.624307155609131,8.918100357055664,6.7118377685546875,-0.39272648096084595,-4.524672508239746,-10.25024700164795,-6.927153587341309,-0.6398404836654663,-4.37921142578125,-6.466355800628662,-7.595175743103027,-6.931668281555176,-1.6512821912765503,-3.5609819889068604,-8.860535621643066,5.806912899017334,0.6715701818466187,-3.265566110610962,7.636351108551025,8.135419845581055,-7.354240894317627,2.614657402038574,-7.939403533935547,-7.880673885345459,-8.331389427185059,-9.314281463623047,-9.320564270019531,-2.5459065437316895,-1.2078890800476074,6.813667297363281,-0.3146921992301941,-4.443347930908203,-1.9521558284759521,14.325955390930176,-4.735799312591553,4.397271633148193,-3.0785646438598633,3.5146665573120117,-7.879955291748047,12.565157890319824,-8.77447509765625,4.844981670379639,-0.029905512928962708,-5.439915180206299,-9.377019882202148,-1.8612515926361084,-4.908788681030273,-0.6934464573860168,-11.836739540100098,-5.690561294555664,0.2813084125518799,9.601799011230469,2.4545929431915283,-6.306564807891846,-5.281465530395508,-9.789905548095703,-0.023823270574212074,-3.9093565940856934,-1.7826354503631592,-6.733395576477051,-0.5346294641494751,-5.3521809577941895,3.8064982891082764,-3.674262762069702,7.014934539794922,-3.3449957370758057,0.6850022673606873,-3.2881052494049072,-7.634362697601318,-1.3985083103179932,-8.760656356811523,-9.655097007751465,-9.79825210571289,13.552552223205566,-3.5996668338775635,-1.6808606386184692,2.118274688720703,2.184725522994995,7.972953796386719,0.9174296259880066,-11.335639953613281,-8.188517570495605,-2.7752997875213623,-1.988656997680664,6.098667144775391,-13.301377296447754,-0.6221984624862671,2.3463125228881836,-0.48379144072532654,-1.6138347387313843,15.226227760314941,3.877061367034912,2.294374465942383,-7.978308200836182,-7.320058345794678,-2.600590229034424,3.4950103759765625,1.1979368925094604,-5.603885173797607,-0.7996900081634521,-8.608850479125977,-9.165182113647461,-3.4308922290802,-6.982149600982666,-8.030353546142578,-9.582773208618164,0.9444184899330139,-11.398630142211914,-11.6870698928833,12.40792465209961,-9.466118812561035,4.40573787689209,-12.804779052734375,-6.601382732391357,-8.533276557922363,-12.499263763427734,-9.316699981689453,-3.429028034210205,-6.064886569976807,-3.675886392593384,-11.079097747802734,-6.797490119934082,7.92636251449585,4.089453220367432,-5.984047889709473,3.075676441192627,-9.02830696105957,-9.953401565551758,-5.7182769775390625,3.2665436267852783,7.564381122589111,-4.102489948272705,3.424180030822754,-8.143675804138184,4.825071811676025,-9.082796096801758,-4.888455390930176],\"yaxis\":\"y\",\"type\":\"scattergl\"},{\"customdata\":[[\"All_Black\",\"big_l\"],[\"Danger_Zone\",\"big_l\"],[\"Da_Graveyard\",\"big_l\"],[\"Get_It_Together\",\"beastie_boys\"],[\"Get_It_Together__Buck_Wild_Remix_\",\"beastie_boys\"],[\"8_Million_Stories\",\"a_tribe_called_quest\"],[\"Me___My_Bitch\",\"the_notorious_big\"],[\"The_What\",\"the_notorious_big\"],[\"One_More_Chance\",\"the_notorious_big\"],[\"Just_Playing__Dreams_\",\"the_notorious_big\"],[\"Friend_Of_Mine\",\"the_notorious_big\"],[\"Gimme_The_Loot\",\"the_notorious_big\"],[\"Who_You_Wit_II\",\"jay-z\"],[\"Imaginary_Player\",\"jay-z\"],[\"Rap_Game___Crack_Game\",\"jay-z\"],[\"Money__Cash__Hoes\",\"jay-z\"],[\"Nigga_What__Nigga_Who__Originator__99_\",\"jay-z\"],[\"Cashmere_Thoughts\",\"jay-z\"],[\"The_Genesis\",\"nas\"],[\"Mr__Smith\",\"ll_cool_j\"],[\"Bloodsport\",\"mobb_deep\"],[\"Extortion\",\"mobb_deep\"],[\"More_Trife_Life\",\"mobb_deep\"],[\"Hit_It_From_The_Back\",\"mobb_deep\"],[\"Eric_B__Never_Scared\",\"erikb_&_rakim\"],[\"Sophisticated_Bitch\",\"public_enemy\"],[\"Protect_Ya_Neck\",\"wu_tang_clan\"],[\"Wu_Tang_Clan_Ain_t_Nuthing_Ta_F__Wit\",\"wu_tang_clan\"],[\"Method_Man\",\"wu_tang_clan\"],[\"Wu_Tang__7th_Chamber___Part_2\",\"wu_tang_clan\"],[\"It_s_All_Good\",\"busta_rhymes\"],[\"Take_it_Off\",\"busta_rhymes\"],[\"Just_Give_It_To_Me_Raw\",\"busta_rhymes\"],[\"Woo_Hah___Got_You_All_in_Check\",\"busta_rhymes\"],[\"Still_Shining\",\"busta_rhymes\"],[\"Gangsta_Shit\",\"puff_daddy\"],[\"What_A_Way_To_Go_Out\",\"soulsofmischief\"],[\"Let__Em_Know\",\"soulsofmischief\"],[\"Limitations\",\"soulsofmischief\"],[\"Disseshowedo\",\"soulsofmischief\"],[\"Where_The_Fuck_You_At_\",\"soulsofmischief\"],[\"_94_Via_Satellite\",\"soulsofmischief\"],[\"Real_Niggaz\",\"nwa\"],[\"Just_Don_t_Bite_It\",\"nwa\"],[\"Boyz_N_The_Hood\",\"nwa\"],[\"3_The_Hard_Way\",\"nwa\"],[\"Dopeman\",\"nwa\"],[\"Tuffest_Man_Alive\",\"nwa\"],[\"A_Bitch_Iz_A_Bitch\",\"nwa\"],[\"8_Ball\",\"nwa\"],[\"Gangsta_Gangsta\",\"nwa\"],[\"Dopeman__Remix_\",\"nwa\"],[\"Straight_Outta_Compton\",\"nwa\"],[\"Parental_Discretion_Iz_Advised\",\"nwa\"],[\"Fuck_The_Police\",\"nwa\"],[\"Compton_s_N_The_House\",\"nwa\"],[\"Something_Like_That\",\"nwa\"],[\"8_Ball__Remix_\",\"nwa\"],[\"Automobile\",\"nwa\"],[\"Prelude\",\"nwa\"],[\"The_Dayz_Of_Wayback\",\"nwa\"],[\"One_Less_Bitch\",\"nwa\"],[\"I_d_Rather_Fuck_You\",\"nwa\"],[\"Findum__Fuckum__And_Flee\",\"nwa\"],[\"Always_Into_Somethin_\",\"nwa\"],[\"She_Swallowed_It\",\"nwa\"],[\"1_900_2_Compton\",\"nwa\"],[\"Get_Up__Get_Down\",\"coolio\"],[\"The_Revolution\",\"coolio\"],[\"Exercise_Yo_Game\",\"coolio\"],[\"Geto_Highlites\",\"coolio\"],[\"Mama_I_m_In_Love_Wit_A_Gangsta\",\"coolio\"],[\"Sticky_Fingers\",\"coolio\"],[\"Thought_You_Knew\",\"coolio\"],[\"N_Da_Closet\",\"coolio\"],[\"Ugly_Bitches\",\"coolio\"],[\"U_Know_Hoo_\",\"coolio\"],[\"Can_U_Dig_It\",\"coolio\"],[\"Nature_Of_The_Business\",\"coolio\"],[\"Throwndown_2000\",\"coolio\"],[\"Hit__Em\",\"coolio\"],[\"Man_s_Best_Friend\",\"ice_cube\"],[\"Givin__Up_The_Nappy_Dug_Out\",\"ice_cube\"],[\"Only_One_Me\",\"ice_cube\"],[\"Horny_Little_Devil\",\"ice_cube\"],[\"Doing_Dumb_Shit\",\"ice_cube\"],[\"No_Vaseline\",\"ice_cube\"],[\"The_Wrong_Nigga_To_Fuck_With\",\"ice_cube\"],[\"I_Wanna_Kill_Sam\",\"ice_cube\"],[\"Look_Who_s_Burnin_\",\"ice_cube\"],[\"True_To_The_Game\",\"ice_cube\"],[\"Steady_Mobbin\",\"ice_cube\"],[\"Check_Yo_Self\",\"ice_cube\"],[\"Say_Hi_To_The_Bad_Guy\",\"ice_cube\"],[\"The_Predator\",\"ice_cube\"],[\"It_Was_A_Good_Day\",\"ice_cube\"],[\"Don_t_Trust__em\",\"ice_cube\"],[\"Dirty_Mack\",\"ice_cube\"],[\"Who_Got_The_Camera_\",\"ice_cube\"],[\"Gangsta_Fairytale_2\",\"ice_cube\"],[\"Get_Off_My_Dick_And_Tell_Yo_Bitch_To_Come_Here__Remix_\",\"ice_cube\"],[\"The_Product\",\"ice_cube\"],[\"Once_Upon_A_Time_In_The_Projects\",\"ice_cube\"],[\"Who_s_The_Mack_\",\"ice_cube\"],[\"Tales_From_The_Darkside\",\"ice_cube\"],[\"What_They_Hittin__Foe_\",\"ice_cube\"],[\"AmeriKKKa_s_Most_Wanted\",\"ice_cube\"],[\"A_Gangsta_s_Fairytale\",\"ice_cube\"],[\"The_Nigga_Ya_Love_To_Hate\",\"ice_cube\"],[\"Down_For_Whatever\",\"ice_cube\"],[\"Make_It_Ruff__Make_It_Smooth\",\"ice_cube\"],[\"Lil_Ass_Gee\",\"ice_cube\"],[\"Ghetto_Bird\",\"ice_cube\"],[\"Really_Doe\",\"ice_cube\"],[\"Cocktales\",\"too_short\"],[\"Sample_The_Funk\",\"too_short\"],[\"Don_t_Fuck_For_Free\",\"too_short\"],[\"We_Do_This\",\"too_short\"],[\"Coming_Up__hort\",\"too_short\"],[\"Giving_Up_The_Funk\",\"too_short\"],[\"Game\",\"too_short\"],[\"Top_Down\",\"too_short\"],[\"Paystyle\",\"too_short\"],[\"Ain_t_Nothing_Like_Pimpin_\",\"too_short\"],[\"Can_I_Get_A_Bitch\",\"too_short\"],[\"That_s_Why\",\"too_short\"],[\"I_Must_Confess\",\"too_short\"],[\"Survivin__The_Game\",\"too_short\"],[\"Bad_Ways\",\"too_short\"],[\"Nasty_Rhymes\",\"too_short\"],[\"Never_Talk_Down\",\"too_short\"],[\"Fuck_My_Car\",\"too_short\"],[\"Pimp_Me\",\"too_short\"],[\"Buy_You_Some\",\"too_short\"],[\"Take_My_Bitch\",\"too_short\"],[\"Cusswords\",\"too_short\"],[\"Don_t_Fight_The_Feelin_\",\"too_short\"],[\"Pimp_The_Hoe\",\"too_short\"],[\"All_My_Bitches_Are_Gone\",\"too_short\"],[\"Get_In_Where_You_Fit_In\",\"too_short\"],[\"Just_Another_Day\",\"too_short\"],[\"I_m_A_Player\",\"too_short\"],[\"Gotta_Get_Some_Lovin_\",\"too_short\"],[\"Way_Too_Real\",\"too_short\"],[\"The_Dangerous_Crew\",\"too_short\"],[\"Dope_Fiend_Beat\",\"too_short\"],[\"Rap_Like_Me\",\"too_short\"],[\"Pimpology\",\"too_short\"],[\"Ain_t_Nothin__But_A_Word_To_Me\",\"too_short\"],[\"Punk_Bitch\",\"too_short\"],[\"Paula___Janet\",\"too_short\"],[\"Hard_On_The_Boulevard\",\"too_short\"],[\"Gz_And_Hustlas\",\"snoop_dogg\"],[\"Ain_t_No_Fun__If_The_Homies_Can_t_Have_None_\",\"snoop_dogg\"],[\"Gz_Up__Hoes_Down\",\"snoop_dogg\"],[\"For_All_My_Niggaz___Bitches\",\"snoop_dogg\"],[\"G_Funk_Intro\",\"snoop_dogg\"],[\"Bathtub\",\"snoop_dogg\"],[\"Pump_Pump\",\"snoop_dogg\"],[\"Gin_And_Juice\",\"snoop_dogg\"],[\"Doggy_Dogg_World\",\"snoop_dogg\"],[\"Tha_Shiznit\",\"snoop_dogg\"],[\"_O_J___Wake_Up\",\"snoop_dogg\"],[\"Groupie\",\"snoop_dogg\"],[\"Up_Jump_Tha_Boogie\",\"snoop_dogg\"],[\"_Tear__Em_Off__Me___My_Doggz\",\"snoop_dogg\"],[\"Freestyle_Conversation\",\"snoop_dogg\"],[\"You_Thought\",\"snoop_dogg\"],[\"So_Much_Drama\",\"luniz\"],[\"Broke_Niggaz\",\"luniz\"],[\"Operation_Stackola\",\"luniz\"],[\"She_s_Just_A_Freak\",\"luniz\"],[\"Yellow_Brick_Road\",\"luniz\"],[\"Pimps__Playas___Hustlas\",\"luniz\"],[\"Put_The_Lead_On_Ya\",\"luniz\"],[\"I_Got_5_On_It__Reprise_\",\"luniz\"],[\"Broke_Ho_s\",\"luniz\"],[\"Plead_Guilty\",\"luniz\"],[\"All_Bout_U_2\",\"pac\"],[\"All_Bout_U\",\"pac\"],[\"Wonder_Why_They_Call_U\",\"pac\"],[\"Skandalouz\",\"pac\"],[\"Flex\",\"pac\"],[\"Peep_Game\",\"pac\"],[\"Representin__93\",\"pac\"],[\"Strugglin_\",\"pac\"],[\"Tha_Lunatic\",\"pac\"],[\"No_Rest_For_The_Wicked\",\"cypress_hill\"],[\"Strictly_Hip_Hop\",\"cypress_hill\"],[\"Smuggler_s_Blues\",\"cypress_hill\"],[\"Real_Estate\",\"cypress_hill\"],[\"Pigs\",\"cypress_hill\"],[\"I_d_Rather_Fuck_You\",\"eazy_e\"],[\"Eazy_Street\",\"eazy_e\"],[\"Eazy_Duz_It\",\"eazy_e\"],[\"Nobody_Move_2\",\"eazy_e\"],[\"Boyz_N_The_Hood__Remix__2\",\"eazy_e\"],[\"Boyz_N_The_Hood__Remix_\",\"eazy_e\"],[\"2_Hard_Mutha_s\",\"eazy_e\"],[\"Ruthless_Villain\",\"eazy_e\"],[\"Still_Talkin_\",\"eazy_e\"],[\"Eazy_Duz_It_2\",\"eazy_e\"],[\"Nobody_Move\",\"eazy_e\"],[\"Boyz_N_Tha_Hood__G_Mix_\",\"eazy_e\"],[\"Gimmie_That_Nutt\",\"eazy_e\"],[\"Real_Muthaphuckkin_G_s\",\"eazy_e\"],[\"Still_A_Nigga\",\"eazy_e\"],[\"It_s_On\",\"eazy_e\"],[\"My_Baby_z_Mama\",\"eazy_e\"],[\"Ole_School_Shit\",\"eazy_e\"],[\"Sorry_Louie\",\"eazy_e\"],[\"Gangsta_Beat_4_Tha_Street\",\"eazy_e\"],[\"Sippin_On_A_40\",\"eazy_e\"],[\"Hit_The_Hooker\",\"eazy_e\"],[\"Just_Tah_Let_U_Know\",\"eazy_e\"],[\"Wut_Would_You_Do\",\"eazy_e\"],[\"Eternal_E\",\"eazy_e\"],[\"Nutz_On_Ya_Chin\",\"eazy_e\"],[\"Good_Thing_We_re_Rappin_\",\"digital_underground\"],[\"Shake___Bake\",\"digital_underground\"],[\"Fool_Get_A_Clue\",\"digital_underground\"],[\"This_Is_The_Shack\",\"warren_g_\"],[\"Runnin__Wit_No_Breaks\",\"warren_g_\"],[\"Soul_On_Ice\",\"ice-t\"],[\"Rap_Games_Hijacked\",\"ice-t\"],[\"Haters\",\"ice-t\"],[\"Return_Of_The_Real\",\"ice-t\"],[\"Forced_To_Do_Dirt\",\"ice-t\"],[\"Bouncin__Down_The_Strezeet\",\"ice-t\"],[\"Make_The_Loot_Loop\",\"ice-t\"],[\"Pimp_Anthem\",\"ice-t\"],[\"Bitches_2\",\"ice-t\"],[\"Midnight\",\"ice-t\"],[\"M_V_P_S_\",\"ice-t\"],[\"Pimp_Behind_The_Wheels\",\"ice-t\"],[\"Ice_M_F__T\",\"ice-t\"],[\"99_Problems\",\"ice-t\"],[\"Depths_Of_Hell\",\"ice-t\"],[\"It_s_On\",\"ice-t\"],[\"Home_Invasion\",\"ice-t\"],[\"Funky_Gripsta\",\"ice-t\"],[\"Westward_Ho\",\"westside_connection\"],[\"King_Of_The_Hill\",\"westside_connection\"],[\"Do_You_Like_Criminals\",\"westside_connection\"],[\"3_Time_Felons\",\"westside_connection\"],[\"The_Gangsta__The_Killa_And_The_Dope_Dealer\",\"westside_connection\"],[\"All_The_Critics_In_New_York\",\"westside_connection\"],[\"Cross__Em_Out_And_Put_A__K\",\"westside_connection\"],[\"Bow_Down\",\"westside_connection\"],[\"Hoo_Bangin___WSCG_Style_\",\"westside_connection\"],[\"I_m_That_Type_Of_Nigga\",\"the_pharcyde\"],[\"Oh_Shit\",\"the_pharcyde\"],[\"On_The_DL\",\"the_pharcyde\"],[\"Pork\",\"the_pharcyde\"],[\"Soul_Flower__Remix_\",\"the_pharcyde\"],[\"Str_8_Gone\",\"Dr.Dre\"],[\"Nationowl\",\"Dr.Dre\"],[\"East_Coast_West_Coast_Killas\",\"Dr.Dre\"],[\"Shittin__On_The_World\",\"Dr.Dre\"],[\"The_Chronic__Intro_\",\"Dr.Dre\"],[\"Let_Me_Ride\",\"Dr.Dre\"],[\"Stranded_On_Death_Row\",\"Dr.Dre\"],[\"Fuck_Wit_Dre_Day\",\"Dr.Dre\"],[\"Nuthin_But_A_G_Thang\",\"Dr.Dre\"],[\"Deeez_Nuuuts\",\"Dr.Dre\"],[\"Bitches_Ain_t_Shit\",\"Dr.Dre\"],[\"The_Roach__The_Chronic_Outro_\",\"Dr.Dre\"],[\"Rat_Tat_Tat_Tat\",\"Dr.Dre\"],[\"Foe_Life\",\"mack_10\"],[\"Armed___Dangerous\",\"mack_10\"],[\"Mozi_Wozi\",\"mack_10\"],[\"10_Million_Ways\",\"mack_10\"],[\"Chicken_Hawk\",\"mack_10\"],[\"Mack_10_s_The_Name\",\"mack_10\"],[\"H_O_E_K\",\"mack_10\"],[\"On_Them_Thangs\",\"mack_10\"],[\"Here_Comes_The_G\",\"mack_10\"]],\"hovertemplate\":\"Topic=0\\u003cbr\\u003ex=%{x}\\u003cbr\\u003ey=%{y}\\u003cbr\\u003eSong=%{customdata[0]}\\u003cbr\\u003eArtist=%{customdata[1]}\\u003cextra\\u003e\\u003c\\u002fextra\\u003e\",\"legendgroup\":\"0\",\"marker\":{\"color\":\"#EF553B\",\"symbol\":\"circle\",\"line\":{\"color\":\"DarkSlateGrey\",\"width\":1},\"size\":10},\"mode\":\"markers\",\"name\":\"0\",\"showlegend\":true,\"x\":[1.650412678718567,5.851878643035889,21.004228591918945,-4.41680908203125,2.025792121887207,-4.737176418304443,-11.473836898803711,2.8445701599121094,-9.802945137023926,-2.006307601928711,-3.99357008934021,6.051881313323975,-6.107059001922607,7.498857021331787,6.645110607147217,-12.825743675231934,9.289691925048828,-1.5493700504302979,9.485516548156738,9.265987396240234,16.793197631835938,1.7090023756027222,5.662685871124268,2.071183681488037,4.586934566497803,-1.1376720666885376,10.232707977294922,6.478190898895264,-4.5540571212768555,4.124535083770752,-5.294419288635254,9.530241966247559,17.396631240844727,-1.9529550075531006,8.383068084716797,0.7144955992698669,-3.888603687286377,7.88794469833374,2.2277719974517822,1.9489163160324097,-0.7002355456352234,0.9975364804267883,4.197026252746582,-11.235084533691406,-4.946676254272461,-4.7406463623046875,-5.685705661773682,-0.6861518621444702,-12.989652633666992,-3.1561291217803955,-4.464890956878662,-6.033726692199707,-3.0796315670013428,-3.6226115226745605,5.812142372131348,-4.574751853942871,-10.177743911743164,-9.306655883789062,-2.3958942890167236,5.131869316101074,20.623132705688477,-11.428238868713379,-2.3726541996002197,-12.10383129119873,0.7244240045547485,-12.578207015991211,-2.7788517475128174,0.06521023064851761,-0.0035925402771681547,-6.0560760498046875,8.132115364074707,4.091692924499512,0.4204903542995453,8.511475563049316,8.211136817932129,-9.658509254455566,-4.619469165802002,-1.9931050539016724,7.138294696807861,-1.9877523183822632,-11.490336418151855,7.480000972747803,-10.530543327331543,5.465394020080566,-4.516374111175537,0.48261499404907227,-5.331425189971924,0.4723259508609772,4.659196376800537,-5.908878803253174,2.599242925643921,-1.1449369192123413,-2.2219767570495605,4.5517048835754395,-1.8551025390625,-1.5215137004852295,0.321977823972702,-3.49088191986084,1.7881191968917847,-1.2477329969406128,-7.120799541473389,5.0344157218933105,-0.7868241667747498,-6.3161115646362305,6.284102916717529,7.340917110443115,7.951667308807373,-0.4688675105571747,-4.415748119354248,9.407261848449707,-0.3695431351661682,-2.549004554748535,-3.8262715339660645,-2.960554838180542,-11.842159271240234,2.3758325576782227,-9.318779945373535,-3.8708927631378174,-7.324540615081787,-11.167196273803711,-11.839892387390137,-8.01753044128418,-9.313572883605957,-10.276058197021484,-9.340481758117676,1.269991397857666,-0.14843858778476715,2.316269874572754,6.3597331047058105,-5.172605514526367,-4.4032087326049805,-9.894495964050293,-11.33841609954834,1.3678079843521118,-7.951416015625,-9.614116668701172,-6.9215593338012695,-4.928060531616211,-12.19957447052002,7.1310248374938965,0.1186046153306961,-8.5553617477417,-10.670912742614746,2.4443976879119873,-12.120287895202637,-12.96810245513916,-5.143571853637695,0.09021499752998352,-13.39004135131836,-10.973443984985352,-10.383978843688965,-7.0989580154418945,3.51340389251709,-8.507841110229492,-2.4468319416046143,4.128639221191406,6.560731887817383,-2.3879804611206055,4.010989665985107,3.121145725250244,1.2803386449813843,4.981983184814453,-0.06394273787736893,9.216927528381348,0.22498738765716553,6.958679676055908,2.2857308387756348,-6.527299404144287,-4.121192455291748,-2.0542590618133545,-2.6299383640289307,-13.389385223388672,1.9295854568481445,-5.49758768081665,20.089054107666016,6.99261474609375,-8.824152946472168,-1.551796793937683,1.384697675704956,-2.3479838371276855,-10.22297477722168,-2.8827292919158936,7.326127052307129,-4.429169654846191,1.0243209600448608,6.846785545349121,-4.466322422027588,-6.152523994445801,-7.424412727355957,0.5285808444023132,1.0965479612350464,0.945319652557373,-2.427410364151001,-7.471867084503174,-7.541990756988525,1.3002519607543945,-4.361907005310059,-5.3474273681640625,-3.0365045070648193,-4.867398262023926,-10.797454833984375,-7.818367004394531,5.284976005554199,0.07965923100709915,-3.9836251735687256,-5.028554916381836,0.7442921996116638,-3.177605390548706,-1.81589937210083,-4.493811130523682,6.660367012023926,-2.9716317653656006,-2.911595106124878,-8.452609062194824,5.446741580963135,2.2551355361938477,8.447997093200684,0.8952897787094116,-10.644309043884277,7.33621883392334,-0.1485140472650528,1.6322643756866455,4.5402913093566895,0.6159728169441223,-8.23901653289795,4.227431774139404,6.124792575836182,4.363033771514893,-0.8342613577842712,7.656494140625,-2.9693377017974854,1.8179974555969238,2.1199545860290527,-5.797196388244629,-6.617214202880859,8.159542083740234,-12.261767387390137,0.6816955208778381,8.412028312683105,0.9005592465400696,20.50465202331543,-8.325129508972168,-4.55259370803833,6.318430423736572,7.246102809906006,8.203210830688477,-6.840374946594238,3.3112401962280273,2.61491322517395,4.711037635803223,6.407020092010498,-12.29840087890625,1.4363763332366943,-5.823163986206055,-5.0733819007873535,4.53109073638916,-2.8560311794281006,-8.627272605895996,7.967617034912109,6.1210126876831055,5.495613098144531,7.587841033935547,-8.535475730895996,1.8619633913040161,-7.784811496734619,-12.586334228515625,6.776515483856201,4.416656970977783,2.9093594551086426,-2.043095827102661,-1.958851933479309,7.257266998291016,-1.5226417779922485,-3.1762146949768066,-10.456783294677734,5.911443710327148,1.038622260093689],\"xaxis\":\"x\",\"y\":[-28.199275970458984,-28.157161712646484,-26.756061553955078,-22.38321876525879,-26.032161712646484,-20.98953628540039,-56.74811935424805,-39.0992317199707,-53.061744689941406,-31.736209869384766,-47.43312454223633,-33.62601852416992,-41.78084945678711,-33.081748962402344,-28.976438522338867,-57.84174346923828,-33.76261520385742,-17.462574005126953,-20.669410705566406,-20.971508026123047,-23.057937622070312,-16.15003776550293,-15.539421081542969,-37.66567611694336,-33.46499252319336,-16.702178955078125,-20.47443389892578,-28.48780059814453,-22.092517852783203,-14.860429763793945,-23.797189712524414,-20.771024703979492,-23.39293670654297,-19.429872512817383,-20.885635375976562,-28.47541046142578,-21.93804359436035,-19.383073806762695,-15.458656311035156,-17.202775955200195,-29.54014015197754,-28.499691009521484,-39.67005157470703,-54.6650390625,-33.782005310058594,-21.49498748779297,-49.52760314941406,-15.679156303405762,-56.97116470336914,-38.730960845947266,-50.46794128417969,-42.904788970947266,-43.313507080078125,-35.4978141784668,-37.45756149291992,-35.633670806884766,-51.424869537353516,-51.48240661621094,-17.4116268157959,-38.01621627807617,-26.211801528930664,-55.96989440917969,-29.245141983032227,-56.48927688598633,-38.195308685302734,-56.045143127441406,-41.45521545410156,-37.09591293334961,-17.829910278320312,-40.469566345214844,-21.674118041992188,-29.58843421936035,-15.699382781982422,-31.13650131225586,-19.100412368774414,-52.68009567260742,-46.333492279052734,-26.85163116455078,-31.537710189819336,-17.139188766479492,-54.41953659057617,-12.777430534362793,-52.14369201660156,-30.34953498840332,-42.98033142089844,-26.86996841430664,-45.48442459106445,-38.08246994018555,-15.8578462600708,-41.51383590698242,-37.48175811767578,-36.87466049194336,-35.447166442871094,-29.380765914916992,-29.79996681213379,-19.239225387573242,-33.29059982299805,-40.8957405090332,-34.15840148925781,-42.479026794433594,-50.87357711791992,-28.680171966552734,-17.12876319885254,-44.948204040527344,-11.2677583694458,-16.71576690673828,-14.301066398620605,-39.14496994018555,-49.70246124267578,5.288886070251465,-40.91714096069336,-34.043617248535156,-21.246055603027344,-44.11418914794922,-55.83513641357422,-28.052927017211914,-52.3878173828125,-49.037933349609375,-50.780860900878906,-56.64940643310547,-57.47237777709961,-44.59831619262695,-46.01294708251953,-56.112518310546875,-53.80799102783203,-39.16486358642578,-33.98086166381836,-27.654823303222656,-32.05605697631836,-44.410221099853516,-44.10884094238281,-52.14833450317383,-53.71562576293945,-26.768890380859375,-50.21532440185547,-46.385555267333984,-42.09797668457031,-35.4587287902832,-56.949485778808594,-37.37203598022461,-38.053192138671875,-50.41695022583008,-51.15459060668945,-31.206310272216797,-55.53681945800781,-55.96017837524414,-34.674617767333984,-20.969640731811523,-57.56869125366211,-55.684574127197266,-50.6727180480957,-45.69637680053711,-30.416595458984375,-48.79485321044922,-30.084060668945312,-39.87914276123047,-16.720279693603516,-18.288272857666016,-33.268333435058594,-29.896554946899414,-36.84119415283203,-36.81289291381836,-31.9332332611084,-21.96527862548828,-34.866180419921875,-32.917118072509766,-36.8159294128418,-50.16133117675781,-46.267330169677734,-38.542999267578125,-38.60244369506836,-56.70036697387695,-40.3843994140625,-46.67145538330078,-26.07699966430664,-34.44806671142578,-52.80280685424805,-34.477996826171875,-33.37446975708008,-36.547054290771484,-53.36283874511719,-45.965755462646484,-33.418704986572266,-46.67692947387695,-37.72637176513672,-28.205190658569336,-49.02145767211914,-48.685550689697266,-44.563682556152344,-17.91402244567871,-27.11136245727539,1.3930344581604004,-32.996803283691406,-49.255741119384766,-52.06034469604492,-34.56018829345703,-45.4082145690918,-45.599281311035156,-46.52476119995117,-45.80718231201172,-54.670867919921875,-51.620094299316406,-37.46403884887695,-39.64362335205078,-22.114421844482422,-47.902095794677734,-39.55387878417969,-43.917171478271484,-40.18080139160156,-47.60483932495117,-35.27680206298828,-35.96135711669922,-29.43596839904785,-49.44838333129883,-33.12861633300781,-31.887975692749023,-22.15298843383789,-33.732704162597656,-49.595367431640625,4.371317386627197,-15.559480667114258,1.7021390199661255,-31.00579071044922,-15.864895820617676,-44.423458099365234,-38.266239166259766,-35.525630950927734,-15.26432991027832,-19.25359344482422,-14.641326904296875,-35.00370407104492,-17.480066299438477,-16.141847610473633,-42.032806396484375,-47.075225830078125,-31.300413131713867,-57.87356948852539,-35.12623977661133,-33.22456741333008,-34.449066162109375,-26.4368839263916,-52.05760192871094,-48.61914825439453,-36.9088249206543,-35.66083526611328,-15.451576232910156,-46.48551559448242,-40.00390625,-35.596946716308594,-32.4525032043457,-36.18108367919922,-54.83777618408203,-15.753515243530273,-44.48710250854492,-21.997207641601562,-37.374267578125,-38.06732940673828,-48.2579345703125,-17.88785171508789,-18.455692291259766,-35.956844329833984,-16.805103302001953,-52.772342681884766,-27.275373458862305,-49.57921600341797,-57.18947219848633,-36.01586151123047,-32.97869873046875,-15.617328643798828,-33.50347900390625,-27.438095092773438,-15.313899993896484,-30.402198791503906,-28.7658634185791,-49.854339599609375,-11.536199569702148,-29.218809127807617],\"yaxis\":\"y\",\"type\":\"scattergl\"},{\"customdata\":[[\"No_Endz__No_Skinz\",\"big_l\"],[\"Put_it_On\",\"big_l\"],[\"Stand_Together\",\"beastie_boys\"],[\"Professor_Booty\",\"beastie_boys\"],[\"So_What_cha_Want\",\"beastie_boys\"],[\"Finger_Lickin__Good\",\"beastie_boys\"],[\"Netty_s_Girl\",\"beastie_boys\"],[\"Body_Movin_\",\"beastie_boys\"],[\"Heart_Attack_Man\",\"beastie_boys\"],[\"Alright_Hear_This\",\"beastie_boys\"],[\"Heart_Attack_Man___Unplugged\",\"beastie_boys\"],[\"Egg_Man_2\",\"beastie_boys\"],[\"Dis_Yourself_In__89__Just_Do_It_\",\"beastie_boys\"],[\"3_Minute_Rule\",\"beastie_boys\"],[\"Hey_Ladies\",\"beastie_boys\"],[\"Egg_Man\",\"beastie_boys\"],[\"Hey_Ladies_2\",\"beastie_boys\"],[\"Shadrach\",\"beastie_boys\"],[\"What_Comes_Around\",\"beastie_boys\"],[\"Seperate_Together\",\"a_tribe_called_quest\"],[\"Stressed_Out\",\"a_tribe_called_quest\"],[\"Get_A_Hold\",\"a_tribe_called_quest\"],[\"Baby_Phife_s_Return\",\"a_tribe_called_quest\"],[\"Keeping_It_Moving\",\"a_tribe_called_quest\"],[\"Mind_Power\",\"a_tribe_called_quest\"],[\"Everything_is_Fair\",\"a_tribe_called_quest\"],[\"Butter\",\"a_tribe_called_quest\"],[\"Show_Business\",\"a_tribe_called_quest\"],[\"The_Infamous_Date_Rape\",\"a_tribe_called_quest\"],[\"Description_Of_A_Fool\",\"a_tribe_called_quest\"],[\"Go_Ahead_in_the_Rain\",\"a_tribe_called_quest\"],[\"I_Left_My_Wallet_in_El_Segundo\",\"a_tribe_called_quest\"],[\"God_Lives_Through\",\"a_tribe_called_quest\"],[\"Midnight\",\"a_tribe_called_quest\"],[\"Kick_The_Frama_Lama_Lama\",\"run-dmc\"],[\"Big_Poppa\",\"the_notorious_big\"],[\"Juicy\",\"the_notorious_big\"],[\"Friend_Or_Foe__98\",\"jay-z\"],[\"Sunshine\",\"jay-z\"],[\"I_Know_What_Girls_Like\",\"jay-z\"],[\"You_Must_Love_Me\",\"jay-z\"],[\"A_Week_Ago\",\"jay-z\"],[\"If_I_Ruled_The_World\",\"nas\"],[\"Album_Intro\",\"nas\"],[\"Black_Girl_Lost\",\"nas\"],[\"One_Love\",\"nas\"],[\"The_World_Is_Yours\",\"nas\"],[\"Ahh__Let_s_Get_Ill\",\"ll_cool_j\"],[\"Kanday\",\"ll_cool_j\"],[\"I_Need_Love\",\"ll_cool_j\"],[\"Soul_Survivor\",\"ll_cool_j\"],[\"Pink_Cookies_In_A_Plastic_Bag_Getting_Crushed_By_Buildings\",\"ll_cool_j\"],[\"A_Little_Somethin_\",\"ll_cool_j\"],[\"How_I_m_Comin_\",\"ll_cool_j\"],[\"Back_Seat\",\"ll_cool_j\"],[\"Stand_By_Your_Man\",\"ll_cool_j\"],[\"All_We_Got_Left_Is_The_Beat\",\"ll_cool_j\"],[\"Hip_Hop\",\"ll_cool_j\"],[\"God_Bless\",\"ll_cool_j\"],[\"Hollis_To_Hollywood\",\"ll_cool_j\"],[\"Make_It_Hot\",\"ll_cool_j\"],[\"Loungin\",\"ll_cool_j\"],[\"Doin_It\",\"ll_cool_j\"],[\"I_Shot_Ya\",\"ll_cool_j\"],[\"Papa_Luv_It_a_k_a_Poppa_Luv_It\",\"ll_cool_j\"],[\"Hey_Lover\",\"ll_cool_j\"],[\"One_Shot_At_Love\",\"ll_cool_j\"],[\"Jingling_Baby\",\"ll_cool_j\"],[\"Big_Ole_Butt\",\"ll_cool_j\"],[\"You_re_My_Heart\",\"ll_cool_j\"],[\"Change_Your_Ways\",\"ll_cool_j\"],[\"Fast_Peg\",\"ll_cool_j\"],[\"Two_Different_Worlds\",\"ll_cool_j\"],[\"I_m_That_Type_Of_Guy\",\"ll_cool_j\"],[\"Smokin__Dopin_\",\"ll_cool_j\"],[\"Around_The_Way_Girl\",\"ll_cool_j\"],[\"Mr__Good_Bar\",\"ll_cool_j\"],[\"Cheesy_Rat_Blues\",\"ll_cool_j\"],[\"Jingling_Baby__Remixed_But_Still_Jingling_\",\"ll_cool_j\"],[\"6_Minutes_Of_Pleasure\",\"ll_cool_j\"],[\"Milky_Cereal\",\"ll_cool_j\"],[\"Chinese_Arithmetic\",\"erikb_&_rakim\"],[\"Mahogany\",\"erikb_&_rakim\"],[\"Let_The_Rhythm_Hit__em__12_Vocal_Version_Remix_\",\"erikb_&_rakim\"],[\"Let_The_Rhythm_Hit_Em\",\"erikb_&_rakim\"],[\"Keep_The_Beat\",\"erikb_&_rakim\"],[\"Reggie_Jax\",\"public_enemy\"],[\"Revolutionary_Generation\",\"public_enemy\"],[\"Brothers_Gonna_Work_It_Out\",\"public_enemy\"],[\"Raise_The_Roof\",\"public_enemy\"],[\"Yo__Bumrush_The_Show\",\"public_enemy\"],[\"Righstarter__Message_To_A_Black_Man_\",\"public_enemy\"],[\"Godd_Complexx\",\"public_enemy\"],[\"Bedlam_13_13\",\"public_enemy\"],[\"By_The_Time_I_Get_To_Arizona\",\"public_enemy\"],[\"Tearz\",\"wu_tang_clan\"],[\"Turn_It_Up\",\"busta_rhymes\"],[\"One\",\"busta_rhymes\"],[\"What_s_It_Gonna_Be__\",\"busta_rhymes\"],[\"Do_My_Thing\",\"busta_rhymes\"],[\"It_s_A_Party\",\"busta_rhymes\"],[\"In_The_Woods\",\"de_la_soul\"],[\"Breakadawn\",\"de_la_soul\"],[\"Eye_Know\",\"de_la_soul\"],[\"Jenifa_Taught_Me__Derwin_s_Revenge_\",\"de_la_soul\"],[\"Freedom_Of_Speak__We_Got_Three_Minutes_\",\"de_la_soul\"],[\"Buddy\",\"de_la_soul\"],[\"Baby_Baby_Baby_Baby_Ooh_Baby\",\"de_la_soul\"],[\"Dinninit\",\"de_la_soul\"],[\"Pony_Ride\",\"de_la_soul\"],[\"The_Bizness\",\"de_la_soul\"],[\"Betta_Listen\",\"de_la_soul\"],[\"Big_Brother_Beat\",\"de_la_soul\"],[\"Itsoweezee__HOT_\",\"de_la_soul\"],[\"Let__Let_Me_In\",\"de_la_soul\"],[\"Bitties_In_The_BK_Lounge\",\"de_la_soul\"],[\"A_Roller_Skating_Jam_Named_Saturdays\",\"de_la_soul\"],[\"Intro__Da_La_Soal_Is_Dead_\",\"de_la_soul\"],[\"Oodles_Of_O_s\",\"de_la_soul\"],[\"Fanatic_Of_The_B_Word\",\"de_la_soul\"],[\"Talkin__Bout_Hey_Love\",\"de_la_soul\"],[\"Keepin_The_Faith\",\"de_la_soul\"],[\"Rap_De_Rap_Show\",\"de_la_soul\"],[\"Pease_Porridge\",\"de_la_soul\"],[\"My_Brother_s_A_Basehead\",\"de_la_soul\"],[\"Ring_Ring_Ring__Ha_Ha_Hey_\",\"de_la_soul\"],[\"Satisfy_You\",\"puff_daddy\"],[\"I_ll_Do_This_For_You\",\"puff_daddy\"],[\"Best_Friend\",\"puff_daddy\"],[\"Angels_With_Dirty_Faces\",\"puff_daddy\"],[\"Can_t_Nobody_Hold_Me_Down\",\"puff_daddy\"],[\"I_Love_You_Baby\",\"puff_daddy\"],[\"Senorita\",\"puff_daddy\"],[\"It_s_All_About_The_Benjamins__Remix_\",\"puff_daddy\"],[\"Conscience_Be_Free\",\"gang_starr\"],[\"Manifest\",\"gang_starr\"],[\"Mostly_Tha_Voice\",\"gang_starr\"],[\"Alongwaytogo\",\"gang_starr\"],[\"Love_Sick\",\"gang_starr\"],[\"Conspiracy\",\"gang_starr\"],[\"Ex_Girl_To_Next_Girl\",\"gang_starr\"],[\"A_Name_I_Call_Myself\",\"soulsofmischief\"],[\"Hotel__Motel\",\"soulsofmischief\"],[\"Times_Ain_t_Fair\",\"soulsofmischief\"],[\"I_Ain_t_Tha_1\",\"nwa\"],[\"A_Thing_Goin__On\",\"coolio\"],[\"Cruisin_\",\"coolio\"],[\"Smilin_\",\"coolio\"],[\"Kinda_High_Kinda_Drunk\",\"coolio\"],[\"County_Line\",\"coolio\"],[\"C_U_When_U_Get_There\",\"coolio\"],[\"Interlude\",\"coolio\"],[\"Let_s_Do_It\",\"coolio\"],[\"Ooh_La_La\",\"coolio\"],[\"It_s_A_Man_s_World\",\"ice_cube\"],[\"You_Can_t_Fade_Me\",\"ice_cube\"],[\"Gettin__It\",\"too_short\"],[\"Oakland\",\"too_short\"],[\"Money_In_The_Ghetto\",\"too_short\"],[\"It_s_All_Good\",\"too_short\"],[\"Freaky_Tales\",\"too_short\"],[\"Little_Girls\",\"too_short\"],[\"Sixx_Minutes\",\"snoop_dogg\"],[\"Snoop_s_Upside_Ya_Head\",\"snoop_dogg\"],[\"When_I_Grow_Up\",\"snoop_dogg\"],[\"Tha_Doggfather\",\"snoop_dogg\"],[\"Doggyland\",\"snoop_dogg\"],[\"I_Got_5_On_It\",\"luniz\"],[\"Me_Against_The_World\",\"pac\"],[\"Me_Against_The_World_2\",\"pac\"],[\"Dear_Mama_2\",\"pac\"],[\"Temptations\",\"pac\"],[\"Can_U_Get_Away\",\"pac\"],[\"Temptations_2\",\"pac\"],[\"Dear_Mama\",\"pac\"],[\"Heaven_Ain_t_Hard_2_Find\",\"pac\"],[\"California_Love_2\",\"pac\"],[\"What_z_Ya_Phone__\",\"pac\"],[\"California_Love\",\"pac\"],[\"Ratha_Be_Ya_Nigga\",\"pac\"],[\"I_Get_Around_2\",\"pac\"],[\"Papa_z_Song\",\"pac\"],[\"I_Get_Around\",\"pac\"],[\"Keep_Ya_Head_Up_2\",\"pac\"],[\"Keep_Ya_Head_Up\",\"pac\"],[\"I_Get_Around__Remix_\",\"pac\"],[\"Papa_z_Song__Vibe_Tribe_Remix_\",\"pac\"],[\"Keep_Ya_Head_Up__Madukey_Remix_\",\"pac\"],[\"Toss_It_Up_2\",\"pac\"],[\"Just_Like_Daddy\",\"pac\"],[\"Toss_It_Up\",\"pac\"],[\"White_Man_s_World\",\"pac\"],[\"Brenda_s_Got_A_Baby\",\"pac\"],[\"Trapped\",\"pac\"],[\"Part_Time_Mutha\",\"pac\"],[\"Something_Wicked\",\"pac\"],[\"Brenda_s_Got_A_Baby_2\",\"pac\"],[\"Baby_Don_t_Cry__Keep_Ya_Head_Up_II_\",\"pac\"],[\"Everybody_Must_Get_Stoned\",\"cypress_hill\"],[\"Killa_Hill_Niggas\",\"cypress_hill\"],[\"What_Go_Around_Come_Around__Kid\",\"cypress_hill\"],[\"Hits_From_The_Bong\",\"cypress_hill\"],[\"The_Phuncky_Feel_One\",\"cypress_hill\"],[\"Latin_Lingo_2\",\"cypress_hill\"],[\"The_Funky_Cypress_Hill_Shit\",\"cypress_hill\"],[\"Light_Another\",\"cypress_hill\"],[\"Born_To_Get_Busy\",\"cypress_hill\"],[\"Hole_In_The_Head\",\"cypress_hill\"],[\"Automobile\",\"eazy_e\"],[\"We_Want_Eazy_2\",\"eazy_e\"],[\"Gutfest__89\",\"digital_underground\"],[\"Doowutchyalike\",\"digital_underground\"],[\"Sex_Packets\",\"digital_underground\"],[\"Freaks_Of_The_Industry\",\"digital_underground\"],[\"The_Packet_Man\",\"digital_underground\"],[\"The_Humpty_Dance\",\"digital_underground\"],[\"Sons_Of_The_P\",\"digital_underground\"],[\"Heartbeat_Props\",\"digital_underground\"],[\"No_Nose_Job\",\"digital_underground\"],[\"Kiss_You_Back\",\"digital_underground\"],[\"Bran_Nu_Swetta\",\"digital_underground\"],[\"Wussup_Wit_The_Luv\",\"digital_underground\"],[\"Wheee_\",\"digital_underground\"],[\"Doo_Woo_You\",\"digital_underground\"],[\"Jerkit_Circus\",\"digital_underground\"],[\"Do_Ya_Like_Dirty_\",\"digital_underground\"],[\"Want_It_All\",\"digital_underground\"],[\"Oregano_Flow\",\"digital_underground\"],[\"Girls_L_G_B_N_A_F_\",\"ice-t\"],[\"Inside_Of_A_Gangsta\",\"ice-t\"],[\"I_Must_Stand\",\"ice-t\"],[\"How_Does_It_Feel\",\"ice-t\"],[\"Sex\",\"ice-t\"],[\"I_Love_Ladies\",\"ice-t\"],[\"Our_Most_Requested_Record\",\"ice-t\"],[\"Evil_E_What_About_Sex_\",\"ice-t\"],[\"Hit_The_Fan\",\"ice-t\"],[\"Gotta_Lotta_Love\",\"ice-t\"],[\"She_Said\",\"the_pharcyde\"],[\"Groupie_Therapy\",\"the_pharcyde\"],[\"Splattitorium\",\"the_pharcyde\"],[\"Heart___Soul\",\"the_pharcyde\"],[\"The_E_N_D_\",\"the_pharcyde\"],[\"Ya_Mama\",\"the_pharcyde\"],[\"Otha_Fish\",\"the_pharcyde\"],[\"4_Better_Or_4_Worse\",\"the_pharcyde\"],[\"Pack_The_Pipe\",\"the_pharcyde\"],[\"Passing_Me_By\",\"the_pharcyde\"],[\"Please\",\"Dr.Dre\"],[\"Do_4_Love\",\"Dr.Dre\"],[\"Aftermath__The_Intro_\",\"Dr.Dre\"],[\"Fame\",\"Dr.Dre\"],[\"Got_Me_Open\",\"Dr.Dre\"]],\"hovertemplate\":\"Topic=3\\u003cbr\\u003ex=%{x}\\u003cbr\\u003ey=%{y}\\u003cbr\\u003eSong=%{customdata[0]}\\u003cbr\\u003eArtist=%{customdata[1]}\\u003cextra\\u003e\\u003c\\u002fextra\\u003e\",\"legendgroup\":\"3\",\"marker\":{\"color\":\"#00cc96\",\"symbol\":\"circle\",\"line\":{\"color\":\"DarkSlateGrey\",\"width\":1},\"size\":10},\"mode\":\"markers\",\"name\":\"3\",\"showlegend\":true,\"x\":[-16.07354164123535,-15.575834274291992,-20.708240509033203,-8.731542587280273,-16.161544799804688,-15.823705673217773,-25.832019805908203,-15.357612609863281,-18.0535888671875,-15.943486213684082,-13.960394859313965,-20.365243911743164,-29.46843719482422,-6.256503105163574,-28.6052303314209,-19.35146141052246,-28.51543426513672,-20.805845260620117,-21.84222984313965,-0.13634495437145233,-3.1817409992218018,-13.222862243652344,-14.98549747467041,-20.839813232421875,-15.122560501098633,-13.508570671081543,-21.47123146057129,-17.880157470703125,-5.259056568145752,-3.9974753856658936,-4.596016883850098,-11.308091163635254,-24.259641647338867,-15.661227226257324,-2.5821316242218018,-14.397254943847656,-18.57933235168457,-10.106375694274902,-20.040966033935547,-12.423664093017578,-21.622159957885742,12.01594352722168,-26.674381256103516,-10.235344886779785,-19.87302589416504,-21.512243270874023,-24.16543197631836,-30.95536994934082,-29.33233070373535,-30.996978759765625,-32.4237174987793,-18.637821197509766,-17.658588409423828,-17.946149826049805,-23.228015899658203,-31.80060577392578,-16.33135414123535,-26.344173431396484,-14.46122932434082,-25.39222526550293,-22.21721076965332,-14.005122184753418,-15.775327682495117,-24.192203521728516,-23.858612060546875,-27.26487922668457,-29.49664306640625,-28.651351928710938,-19.042747497558594,-30.82466697692871,-30.253311157226562,-7.278586387634277,-30.96741485595703,-12.843982696533203,-20.913406372070312,-28.481863021850586,-16.61358070373535,-24.978883743286133,-31.479278564453125,-32.10542678833008,-18.61819076538086,-27.87447738647461,-19.806678771972656,-23.764802932739258,-18.144411087036133,-14.725985527038574,-3.1913154125213623,-14.721278190612793,-23.69334602355957,-14.83123779296875,-13.364543914794922,-21.461759567260742,-15.218179702758789,-8.866375923156738,-10.970022201538086,-18.976728439331055,-16.933935165405273,-30.224023818969727,-27.571767807006836,-27.039979934692383,-29.05034637451172,-8.272119522094727,-14.291630744934082,-16.04653549194336,-14.97914981842041,-5.264880657196045,-18.883615493774414,-30.766462326049805,-27.549755096435547,-21.59564208984375,-19.369516372680664,-11.70388412475586,-21.734758377075195,-16.921091079711914,-32.571048736572266,-25.945655822753906,-23.749303817749023,-12.927738189697266,-7.800861835479736,-31.974849700927734,-21.953262329101562,-15.580864906311035,-20.93625831604004,-22.085018157958984,-20.135892868041992,-15.15965747833252,-23.046178817749023,-19.668058395385742,-25.769800186157227,-15.19177532196045,-1.024870753288269,-1.2618885040283203,-13.709100723266602,-15.05211067199707,-14.244325637817383,-6.691896438598633,-4.48576545715332,-7.756883144378662,-18.273801803588867,-10.991495132446289,-22.16006851196289,-15.292737007141113,-12.761480331420898,-17.166791915893555,-16.132415771484375,-3.7361209392547607,-19.893604278564453,-17.78594970703125,-10.819089889526367,-10.228096961975098,-17.979482650756836,-10.720322608947754,-27.267263412475586,-22.15287208557129,-24.361738204956055,-12.631634712219238,-8.283395767211914,-9.388959884643555,-3.3259472846984863,-25.694900512695312,-12.536725044250488,-18.12250518798828,-19.86603546142578,-16.438013076782227,-4.740536689758301,-4.1293864250183105,-21.96115493774414,-16.907756805419922,-27.974109649658203,-30.588153839111328,-28.91130256652832,-25.968740463256836,-25.694272994995117,-26.677555084228516,-28.67778778076172,-26.90447425842285,-15.363395690917969,-14.438694953918457,-17.438344955444336,-21.28154182434082,-23.368392944335938,-20.775184631347656,-19.250852584838867,-29.26471519470215,-30.27521324157715,-22.777795791625977,-21.60072135925293,-27.020139694213867,-27.76537322998047,-26.137887954711914,-29.859848022460938,-25.542076110839844,-17.087026596069336,24.886125564575195,-18.90041732788086,-18.289226531982422,-21.859575271606445,-31.5648136138916,-14.83297348022461,-21.620037078857422,-14.670185089111328,-9.049020767211914,-3.966423988342285,-10.28272533416748,-4.9300127029418945,-24.357608795166016,-1.2243707180023193,-14.622994422912598,-9.492197036743164,-11.729033470153809,-25.433879852294922,-31.440523147583008,-27.72279167175293,-12.54447078704834,-24.74089241027832,-20.48288345336914,-3.7759432792663574,-2.2613816261291504,-11.810687065124512,-30.947595596313477,-20.064300537109375,-25.782855987548828,-13.291268348693848,-17.67401123046875,-17.017715454101562,-18.066781997680664,-25.386411666870117,-21.949146270751953,-17.80396842956543,-17.00919532775879,-17.65715789794922,-31.195661544799805,-20.022497177124023,-23.01386833190918,-24.846202850341797,-1.9709148406982422,-25.594179153442383,-2.0151028633117676,-22.59227752685547,-16.773746490478516,0.34288036823272705,-18.6815242767334,-11.697362899780273,-12.73914909362793,-13.573060035705566,-9.446399688720703,-21.74489402770996,-17.87396812438965,-27.16493034362793,-29.544475555419922,-5.225375652313232,-18.568613052368164,-25.328601837158203],\"xaxis\":\"x\",\"y\":[15.320422172546387,21.80975341796875,34.3256721496582,11.846029281616211,24.35482406616211,35.377044677734375,42.55484390258789,14.425264358520508,39.074554443359375,17.036401748657227,31.71739959716797,31.364978790283203,48.88248062133789,19.598695755004883,46.891483306884766,32.307254791259766,48.23222351074219,39.83430862426758,40.55305862426758,24.523006439208984,22.204193115234375,23.619211196899414,14.499095916748047,39.345951080322266,22.02519989013672,32.66324996948242,31.950279235839844,30.332080841064453,19.025863647460938,23.074867248535156,22.5980281829834,15.324678421020508,35.35784149169922,15.384181022644043,-15.870274543762207,28.925107955932617,28.16012191772461,14.89775562286377,27.17328643798828,27.52775764465332,30.92725944519043,-19.472667694091797,40.203182220458984,24.224817276000977,25.453414916992188,26.051380157470703,34.68561553955078,49.50511169433594,46.06999206542969,47.909873962402344,51.502174377441406,30.50265121459961,33.5881233215332,25.322521209716797,40.40922164916992,51.1288948059082,17.206254959106445,40.458213806152344,34.347103118896484,44.471946716308594,38.1588134765625,34.72865676879883,34.149898529052734,36.22813415527344,44.27446365356445,48.02151107788086,46.688270568847656,49.485931396484375,30.90880584716797,47.517845153808594,49.41557312011719,22.27056121826172,50.4901123046875,34.49745559692383,37.13288116455078,47.896358489990234,36.46138381958008,40.76966857910156,48.79295349121094,49.970035552978516,32.230220794677734,48.80785369873047,30.536815643310547,35.205848693847656,29.34329605102539,17.06684684753418,22.76837158203125,16.206375122070312,36.84333038330078,15.8101167678833,28.059547424316406,34.05379867553711,25.50733757019043,21.94265365600586,19.694913864135742,29.740320205688477,27.445730209350586,47.548648834228516,41.44879913330078,41.27745819091797,45.22581481933594,-4.101995944976807,17.13395881652832,33.87968826293945,27.285627365112305,23.19087028503418,34.15934753417969,50.13124084472656,46.014286041259766,29.833271026611328,31.59337043762207,23.63991928100586,41.47720718383789,30.450885772705078,50.83620071411133,44.858272552490234,44.089935302734375,34.434932708740234,13.123510360717773,50.5395622253418,41.51824188232422,16.792438507080078,34.51866149902344,35.56745147705078,32.949092864990234,15.447504043579102,39.65479278564453,24.70502471923828,40.87643051147461,24.362064361572266,-10.79361629486084,-11.531816482543945,30.864200592041016,25.516357421875,33.78059768676758,12.857660293579102,-14.463285446166992,12.42354679107666,34.771217346191406,8.121707916259766,35.387088775634766,28.962955474853516,32.612403869628906,22.709129333496094,16.33356285095215,22.109716415405273,35.40205001831055,36.36434555053711,18.76591682434082,21.564376831054688,23.06043243408203,21.254608154296875,46.63098907470703,39.24232864379883,38.2175407409668,27.997591018676758,-3.9624197483062744,24.658279418945312,-15.348897933959961,45.53913497924805,28.723060607910156,39.86851119995117,26.891151428222656,25.681495666503906,20.696508407592773,20.938426971435547,36.74384307861328,22.611751556396484,47.451480865478516,46.25093460083008,47.600982666015625,39.43682861328125,40.103519439697266,43.966190338134766,46.30035400390625,42.49171829223633,35.29439163208008,28.508262634277344,36.80870819091797,25.98395538330078,41.93819046020508,30.53844451904297,33.34535217285156,47.133094787597656,48.881752014160156,41.80735397338867,34.25606918334961,45.592811584472656,46.875099182128906,38.31446075439453,50.1099739074707,35.88665771484375,33.71091079711914,-5.520878314971924,26.59308433532715,39.57887268066406,39.815914154052734,49.58390426635742,21.45071029663086,37.95177459716797,29.255231857299805,25.411422729492188,-14.893505096435547,15.70928955078125,-20.04119110107422,37.13069534301758,22.428905487060547,26.817991256713867,26.05721664428711,24.337604522705078,43.65913391113281,50.092994689941406,47.948883056640625,31.948055267333984,42.57169723510742,29.101240158081055,23.896284103393555,-12.052403450012207,19.670591354370117,50.95730209350586,35.844749450683594,44.17403793334961,24.385026931762695,22.665908813476562,29.8370418548584,38.894264221191406,36.96829605102539,30.564838409423828,34.21088790893555,21.993818283081055,28.220102310180664,48.76437759399414,36.970184326171875,41.4046745300293,45.5745964050293,21.912832260131836,44.692787170410156,-12.073357582092285,40.28479766845703,30.857297897338867,-10.857877731323242,27.874160766601562,19.084392547607422,32.69596481323242,32.072120666503906,24.76335334777832,32.502132415771484,32.579803466796875,45.302425384521484,47.98444747924805,21.13277816772461,29.8579044342041,39.43846893310547],\"yaxis\":\"y\",\"type\":\"scattergl\"},{\"customdata\":[[\"8_Iz_Enuff\",\"big_l\"],[\"The_Update\",\"beastie_boys\"],[\"Sucka_Nigga\",\"a_tribe_called_quest\"],[\"Things_Done_Changed\",\"the_notorious_big\"],[\"Who_Shot_Ya_\",\"the_notorious_big\"],[\"Intro\",\"the_notorious_big\"],[\"Warning\",\"the_notorious_big\"],[\"Everyday_Struggle\",\"the_notorious_big\"],[\"Machine_Gun_Funk\",\"the_notorious_big\"],[\"Suicidal_Thoughts\",\"the_notorious_big\"],[\"Ready_To_Die\",\"the_notorious_big\"],[\"Respect\",\"the_notorious_big\"],[\"Lucky_Me\",\"jay-z\"],[\"Face_Off\",\"jay-z\"],[\"Where_I_m_From\",\"jay-z\"],[\"The_City_Is_Mine\",\"jay-z\"],[\"Real_Niggaz\",\"jay-z\"],[\"The_Streets_Is_Watching\",\"jay-z\"],[\"Reservoir_Dogs\",\"jay-z\"],[\"Can_I_Get_A___\",\"jay-z\"],[\"It_s_Alright\",\"jay-z\"],[\"If_I_Should_Die\",\"jay-z\"],[\"Money_Ain_t_A_Thang\",\"jay-z\"],[\"Intro___Hand_It_Down\",\"jay-z\"],[\"Hard_Knock_Life__Ghetto_Anthem_\",\"jay-z\"],[\"Ride_Or_Die\",\"jay-z\"],[\"Paper_Chase\",\"jay-z\"],[\"It_s_Like_That\",\"jay-z\"],[\"Coming_Of_Age__Da_Sequel_\",\"jay-z\"],[\"Can_t_Knock_The_Hustle\",\"jay-z\"],[\"Regrets\",\"jay-z\"],[\"Bring_It_On\",\"jay-z\"],[\"Politics_As_Usual\",\"jay-z\"],[\"Brooklyn_s_Finest\",\"jay-z\"],[\"Feelin_It\",\"jay-z\"],[\"Dead_Presidents_II\",\"jay-z\"],[\"Ain_t_No_Nigga\",\"jay-z\"],[\"D_Evils\",\"jay-z\"],[\"Can_I_Live_II\",\"jay-z\"],[\"Coming_Of_Age\",\"jay-z\"],[\"Shootouts\",\"nas\"],[\"The_Set_Up\",\"nas\"],[\"Nas_Is_Coming\",\"nas\"],[\"Street_Dreams\",\"nas\"],[\"Suspect\",\"nas\"],[\"The_Message\",\"nas\"],[\"Take_It_In_Blood\",\"nas\"],[\"I_Gave_You_Power\",\"nas\"],[\"Live_Nigga_Rap\",\"nas\"],[\"Affirmative_Action\",\"nas\"],[\"Watch_Dem_Niggas\",\"nas\"],[\"Silent_Murder\",\"nas\"],[\"Memory_Lane__Sittin__In_Da_Park_\",\"nas\"],[\"Life_s_A_Bitch\",\"nas\"],[\"Represent\",\"nas\"],[\"I_Shot_Ya__Remix_\",\"ll_cool_j\"],[\"Get_Da_Drop_On_Em\",\"ll_cool_j\"],[\"No_Airplay\",\"ll_cool_j\"],[\"Apostle_s_Warning\",\"mobb_deep\"],[\"Man_Down\",\"mobb_deep\"],[\"Hell_On_Earth__Front_Lines_\",\"mobb_deep\"],[\"Still_Shinin_\",\"mobb_deep\"],[\"Can_t_Get_Enough_Of_It\",\"mobb_deep\"],[\"Give_It_Up_Fast\",\"mobb_deep\"],[\"Get_Dealt_With\",\"mobb_deep\"],[\"Nighttime_Vultures\",\"mobb_deep\"],[\"G_O_D__Pt__III\",\"mobb_deep\"],[\"Drop_A_Gem_On__Em\",\"mobb_deep\"],[\"Animal_Instinct\",\"mobb_deep\"],[\"Survival_Of_The_Fittest\",\"mobb_deep\"],[\"Eye_For_An_Eye__Your_Beef_Is_Mines_\",\"mobb_deep\"],[\"Trife_Life\",\"mobb_deep\"],[\"Give_Up_The_Goods__Just_Step_\",\"mobb_deep\"],[\"Q_U__Hectic\",\"mobb_deep\"],[\"Shook_Ones_Pt__II\",\"mobb_deep\"],[\"Cradle_To_The_Grave\",\"mobb_deep\"],[\"Right_Back_At_You\",\"mobb_deep\"],[\"Party_Over\",\"mobb_deep\"],[\"Up_North_Trip\",\"mobb_deep\"],[\"The_Start_Of_Your_Ending__41st_Side_\",\"mobb_deep\"],[\"Drink_Away_The_Pain__Situations_\",\"mobb_deep\"],[\"Locked_In_Spofford\",\"mobb_deep\"],[\"Bitch_Ass_Nigga\",\"mobb_deep\"],[\"Me___My_Crew\",\"mobb_deep\"],[\"Stomp_Em_Out\",\"mobb_deep\"],[\"Hold_Down_The_Fort\",\"mobb_deep\"],[\"Project_Hallways\",\"mobb_deep\"],[\"Can_It_Be_All_So_Simple\",\"wu_tang_clan\"],[\"Shame_On_A_Nigga\",\"wu_tang_clan\"],[\"Clan_In_Da_Front\",\"wu_tang_clan\"],[\"Bring_Da_Ruckus\",\"wu_tang_clan\"],[\"Wu_Tang__7th_Chamber\",\"wu_tang_clan\"],[\"C_R_E_A_M_\",\"wu_tang_clan\"],[\"Intro\",\"busta_rhymes\"],[\"We_Could_Take_It_Outside\",\"busta_rhymes\"],[\"So_Hardcore\",\"busta_rhymes\"],[\"Things_We_Be_Doin__For_Money__Part_One_\",\"busta_rhymes\"],[\"Get_Off_My_Block\",\"busta_rhymes\"],[\"Survival_Hungry\",\"busta_rhymes\"],[\"The_Body_Rock\",\"busta_rhymes\"],[\"Dangerous\",\"busta_rhymes\"],[\"There_s_Not_a_Problem_My_Squad_Can_t_Fix\",\"busta_rhymes\"],[\"Rhymes_Galore\",\"busta_rhymes\"],[\"Things_We_Be_Doin__For_Money__Part_Two_\",\"busta_rhymes\"],[\"When_Disaster_Strikes\",\"busta_rhymes\"],[\"Put_Your_Hands_Where_My_Eyes_Could_See\",\"busta_rhymes\"],[\"Get_High_Tonight\",\"busta_rhymes\"],[\"Party_Is_Goin_On_Over_Here\",\"busta_rhymes\"],[\"Extinction_Level_Event\",\"busta_rhymes\"],[\"Gimme_Some_More\",\"busta_rhymes\"],[\"Against_All_Odds\",\"busta_rhymes\"],[\"Everybody_Rise\",\"busta_rhymes\"],[\"What_The_Fuck_You_Want__\",\"busta_rhymes\"],[\"Where_We_Are_About_To_Take_It\",\"busta_rhymes\"],[\"Hot_Shit_Makin__Ya_Bounce\",\"busta_rhymes\"],[\"This_Means_War__\",\"busta_rhymes\"],[\"Keepin__It_Tight\",\"busta_rhymes\"],[\"Tear_Da_Roof_Off\",\"busta_rhymes\"],[\"Iz_They_Wildin__Wit__Us___Getting__Rowdy_Wit__Us\",\"busta_rhymes\"],[\"Finish_Line\",\"busta_rhymes\"],[\"Flipmode_Squad_Meets_Def_Squad\",\"busta_rhymes\"],[\"Keep_It_Movin_\",\"busta_rhymes\"],[\"Hot_Fudge\",\"busta_rhymes\"],[\"Everything_Remains_Raw\",\"busta_rhymes\"],[\"Abandon_Ship\",\"busta_rhymes\"],[\"D_A_I_S_Y__AGE\",\"de_la_soul\"],[\"Stakes_Is_High\",\"de_la_soul\"],[\"I_Hear_Voices\",\"puff_daddy\"],[\"Is_This_The_End___Part_Two_\",\"puff_daddy\"],[\"Real_Niggas\",\"puff_daddy\"],[\"PE_2000\",\"puff_daddy\"],[\"Fake_Thugs_Dedication\",\"puff_daddy\"],[\"Journey_Through_The_Life\",\"puff_daddy\"],[\"What_You_Want\",\"puff_daddy\"],[\"Do_You_Like_It__Do_You_Want_It\",\"puff_daddy\"],[\"Reverse\",\"puff_daddy\"],[\"Victory\",\"puff_daddy\"],[\"Been_Around_The_World\",\"puff_daddy\"],[\"Young_G_s\",\"puff_daddy\"],[\"What_You_Gonna_Do_\",\"puff_daddy\"],[\"I_Got_The_Power\",\"puff_daddy\"],[\"Is_This_The_End_\",\"puff_daddy\"],[\"Pain\",\"puff_daddy\"],[\"Do_You_Know_\",\"puff_daddy\"],[\"Don_t_Stop_What_You_re_Doing\",\"puff_daddy\"],[\"Friends\",\"puff_daddy\"],[\"Pain_2\",\"puff_daddy\"],[\"Blowin__Up_The_Spot\",\"gang_starr\"],[\"F_A_L_A_\",\"gang_starr\"],[\"Tonz__O__Gunz\",\"gang_starr\"],[\"Tell_Me_Who_Profits\",\"soulsofmischief\"],[\"Live_And_Let_Live\",\"soulsofmischief\"],[\"Secret_Service\",\"soulsofmischief\"],[\"Do_You_Want_It_\",\"soulsofmischief\"],[\"Sa_Prize__Part_2_\",\"nwa\"],[\"100_Miles_And_Runnin_\",\"nwa\"],[\"Kamurshol\",\"nwa\"],[\"Approach_To_Danger\",\"nwa\"],[\"Appetite_For_Destruction\",\"nwa\"],[\"Real_Niggaz_Don_t_Die\",\"nwa\"],[\"Niggaz_4_Life\",\"nwa\"],[\"Gangsta_s_Paradise\",\"coolio\"],[\"Is_This_Me_\",\"coolio\"],[\"Hand_On_My_Nutsac\",\"coolio\"],[\"Bring_Back_Somethin_Fo_Da_Hood\",\"coolio\"],[\"Fantastic_Voyage\",\"coolio\"],[\"2_Minutes___21_Seconds_Of_Funk\",\"coolio\"],[\"One_Mo\",\"coolio\"],[\"My_Summer_Vacation\",\"ice_cube\"],[\"Good_Cop_Bad_Cop\",\"ice_cube\"],[\"When_Will_They_Shoot_\",\"ice_cube\"],[\"Enemy\",\"ice_cube\"],[\"Bop_Gun__One_Nation_\",\"ice_cube\"],[\"Thangs_Change\",\"too_short\"],[\"Murder_Was_The_Case__DeathAfterVisualizingEternity_\",\"snoop_dogg\"],[\"Lodi_Dodi_Intro\",\"snoop_dogg\"],[\"Serial_Killa\",\"snoop_dogg\"],[\"Downtown_Assassins\",\"snoop_dogg\"],[\"2001\",\"snoop_dogg\"],[\"Blueberry\",\"snoop_dogg\"],[\"Gold_Rush\",\"snoop_dogg\"],[\"Ride_4_Me\",\"snoop_dogg\"],[\"5150\",\"luniz\"],[\"900_Blame_A_Nigga\",\"luniz\"],[\"So_Many_Tears_2\",\"pac\"],[\"If_I_Die_2Nite\",\"pac\"],[\"Death_Around_The_Corner\",\"pac\"],[\"So_Many_Tears\",\"pac\"],[\"Fuck_The_World\",\"pac\"],[\"Lord_Knows\",\"pac\"],[\"It_Ain_t_Easy\",\"pac\"],[\"Outlaw\",\"pac\"],[\"Young_Niggaz\",\"pac\"],[\"Heavy_In_The_Game\",\"pac\"],[\"Thug_Passion\",\"pac\"],[\"I_Ain_t_Mad_At_Cha_2\",\"pac\"],[\"Life_Goes_On_2\",\"pac\"],[\"Got_My_Mind_Made_Up\",\"pac\"],[\"All_Eyez_On_Me\",\"pac\"],[\"Heartz_Of_Men\",\"pac\"],[\"Picture_Me_Rollin_\",\"pac\"],[\"2_Of_Amerikaz_Most_Wanted\",\"pac\"],[\"When_We_Ride\",\"pac\"],[\"Ambitionz_Az_A_Ridah\",\"pac\"],[\"I_Ain_t_Mad_At_Cha\",\"pac\"],[\"How_Do_You_Want_It_2\",\"pac\"],[\"Life_Goes_On\",\"pac\"],[\"Only_God_Can_Judge_Me\",\"pac\"],[\"How_Do_You_Want_It\",\"pac\"],[\"Ain_t_Hard_2_Find\",\"pac\"],[\"No_More_Pain\",\"pac\"],[\"Heartz_Of_Men_2\",\"pac\"],[\"Check_Out_Time\",\"pac\"],[\"Shorty_Wanna_Be_A_Thug\",\"pac\"],[\"Run_Tha_Streetz\",\"pac\"],[\"Can_t_C_Me\",\"pac\"],[\"Picture_Me_Rollin__2\",\"pac\"],[\"2_Of_Amerikaz_Most_Wanted_2\",\"pac\"],[\"Holla_At_Me\",\"pac\"],[\"Tradin_War_Stories\",\"pac\"],[\"Last_Wordz\",\"pac\"],[\"Souljah_s_Revenge\",\"pac\"],[\"Point_The_Finga\",\"pac\"],[\"5_Deadly_Venomz\",\"pac\"],[\"Strictly_4_My_N_I_G_G_A_Z_\",\"pac\"],[\"Let_s_Get_It_On\",\"pac\"],[\"Hail_Mary\",\"pac\"],[\"To_Live___Die_In_L_A_\",\"pac\"],[\"Against_All_Odds\",\"pac\"],[\"Krazy\",\"pac\"],[\"To_Live___Die_In_L_A__2\",\"pac\"],[\"Hail_Mary_2\",\"pac\"],[\"Blasphemy\",\"pac\"],[\"Me_And_My_Girlfriend\",\"pac\"],[\"Intro_Bomb_First__My_Second_Reply_\",\"pac\"],[\"Life_Of_An_Outlaw\",\"pac\"],[\"I_Don_t_Give_A_Fuck\",\"pac\"],[\"Young_Black_Male\",\"pac\"],[\"Crooked_Ass_Nigga\",\"pac\"],[\"Trapped_2\",\"pac\"],[\"Violent\",\"pac\"],[\"Soulja_s_Story\",\"pac\"],[\"Words_Of_Wisdom\",\"pac\"],[\"The_Good_Die_Young\",\"pac\"],[\"Still_I_Rise\",\"pac\"],[\"Killuminati\",\"pac\"],[\"Hell_4_A_Hustler\",\"pac\"],[\"Black_Jesuz\",\"pac\"],[\"Letter_To_The_President\",\"pac\"],[\"Homeboyz\",\"pac\"],[\"High_Speed\",\"pac\"],[\"U_Can_Be_Touched\",\"pac\"],[\"Tattoo_Tears\",\"pac\"],[\"As_The_World_Turns\",\"pac\"],[\"Secretz_Of_War\",\"pac\"],[\"Y_all_Don_t_Know_Us\",\"pac\"],[\"Throw_Your_Set_In_The_Air\",\"cypress_hill\"],[\"Killafornia\",\"cypress_hill\"],[\"Locotes\",\"cypress_hill\"],[\"Boom_Biddy_Bye_Bye\",\"cypress_hill\"],[\"Hand_On_The_Glock\",\"cypress_hill\"],[\"Scooby_Doo\",\"cypress_hill\"],[\"Stoned_Is_The_Way_Of_The_Walk\",\"cypress_hill\"],[\"Down_2_Tha_Last_Roach\",\"eazy_e\"],[\"Amy_Last_Wordz\",\"eazy_e\"],[\"Tha_Muthaphukkin__Real\",\"eazy_e\"],[\"So_Many_Ways\",\"warren_g_\"],[\"Recognize\",\"warren_g_\"],[\"What_s_Next\",\"warren_g_\"],[\"Do_You_See\",\"warren_g_\"],[\"Where_The_Shit_Goes_Down_\",\"ice-t\"],[\"A_Lotta_Niggas\",\"ice-t\"],[\"The_5th\",\"ice-t\"],[\"Cramp_Your_Style\",\"ice-t\"],[\"Syndicate_4_Ever\",\"ice-t\"],[\"They_Want_Me_Back_In\",\"ice-t\"],[\"Race_War\",\"ice-t\"],[\"Addicted_To_Danger\",\"ice-t\"],[\"G_Style\",\"ice-t\"],[\"That_s_How_I_m_Livin\",\"ice-t\"],[\"Gangstas_Make_The_World_Go_Round\",\"westside_connection\"],[\"The_Hustle\",\"the_pharcyde\"],[\"As_The_World_Keeps_Turning\",\"Dr.Dre\"],[\"Been_There__Done_That\",\"Dr.Dre\"],[\"No_Second_Chance\",\"Dr.Dre\"],[\"Lyrical_Gangbang\",\"Dr.Dre\"],[\"High_Powered\",\"Dr.Dre\"],[\"The_Day_The_Niggaz_Took_Over\",\"Dr.Dre\"],[\"A_Nigga_Witta_Gun\",\"Dr.Dre\"],[\"Wanted_Dead\",\"mack_10\"],[\"Westside_Slaughterhouse\",\"mack_10\"]],\"hovertemplate\":\"Topic=4\\u003cbr\\u003ex=%{x}\\u003cbr\\u003ey=%{y}\\u003cbr\\u003eSong=%{customdata[0]}\\u003cbr\\u003eArtist=%{customdata[1]}\\u003cextra\\u003e\\u003c\\u002fextra\\u003e\",\"legendgroup\":\"4\",\"marker\":{\"color\":\"#ab63fa\",\"symbol\":\"circle\",\"line\":{\"color\":\"DarkSlateGrey\",\"width\":1},\"size\":10},\"mode\":\"markers\",\"name\":\"4\",\"showlegend\":true,\"x\":[18.774311065673828,-3.7284693717956543,25.852563858032227,39.466033935546875,48.001041412353516,24.847028732299805,31.166629791259766,41.533851623535156,50.385921478271484,32.472599029541016,46.416561126708984,18.39271354675293,24.691064834594727,32.1464958190918,36.128482818603516,12.130505561828613,26.10012435913086,50.657508850097656,28.853927612304688,46.71317672729492,28.569875717163086,54.26030349731445,17.14267349243164,25.11077117919922,24.32207679748535,54.55550765991211,25.32740592956543,25.11785125732422,38.712242126464844,19.006704330444336,23.279890060424805,42.30898666381836,20.806156158447266,27.40102195739746,28.95581817626953,27.459566116333008,26.68560028076172,23.910663604736328,39.66045379638672,23.700063705444336,32.091270446777344,32.81774139404297,23.733154296875,44.90648651123047,26.63030242919922,39.3015022277832,13.937542915344238,39.0261116027832,41.72571563720703,21.0019588470459,21.443927764892578,26.672508239746094,21.506433486938477,36.53471374511719,37.215087890625,30.8973445892334,52.686302185058594,24.56584358215332,24.79299545288086,26.39866828918457,49.812896728515625,24.866710662841797,31.656307220458984,25.218618392944336,23.21781349182129,27.27484130859375,37.852909088134766,20.013835906982422,22.456146240234375,39.76202392578125,19.97076988220215,41.71396255493164,33.027950286865234,46.234798431396484,20.32379150390625,23.103883743286133,38.37198257446289,41.270286560058594,38.63442611694336,20.66474723815918,25.225130081176758,23.712867736816406,25.739526748657227,26.659210205078125,33.9190559387207,51.60276794433594,47.672035217285156,27.91146469116211,18.196060180664062,17.444961547851562,37.06950759887695,47.280513763427734,10.522920608520508,26.621944427490234,27.136486053466797,18.586570739746094,24.026180267333984,23.062755584716797,24.39593505859375,19.016420364379883,28.08370590209961,30.583274841308594,20.6549015045166,46.76403045654297,38.42024230957031,27.928173065185547,10.818732261657715,19.322647094726562,49.57268142700195,32.11930847167969,8.713768005371094,24.546741485595703,30.1081600189209,22.259397506713867,48.59366226196289,-3.8169636726379395,9.260252952575684,30.30097770690918,27.429006576538086,36.7767448425293,28.246950149536133,29.97435760498047,11.910381317138672,25.22092628479004,31.256412506103516,13.069904327392578,25.107746124267578,32.84184265136719,39.38209533691406,29.402814865112305,18.898975372314453,20.549470901489258,45.217185974121094,22.062646865844727,25.344722747802734,31.521726608276367,18.86817169189453,47.54220962524414,33.20268630981445,23.641347885131836,28.17954444885254,27.19899559020996,50.45989227294922,1.201173186302185,18.673795700073242,19.063655853271484,52.045597076416016,7.916595458984375,28.922786712646484,34.22978973388672,1.7022441625595093,40.46625900268555,20.564353942871094,2.7107620239257812,21.905988693237305,24.02060317993164,31.376262664794922,29.670032501220703,20.81896209716797,44.15313720703125,44.96903610229492,10.468917846679688,24.81092643737793,10.074228286743164,8.755341529846191,21.828815460205078,10.828479766845703,9.671614646911621,19.776338577270508,26.08350372314453,23.7308292388916,22.147111892700195,19.012765884399414,18.022844314575195,39.73881530761719,10.061071395874023,19.953590393066406,19.05213737487793,24.50912857055664,3.9394214153289795,11.330025672912598,10.68945598602295,29.315738677978516,27.720623016357422,23.932493209838867,49.69224548339844,41.69264602661133,22.90132713317871,27.951496124267578,26.696369171142578,26.24995994567871,49.923702239990234,40.49608612060547,22.648452758789062,26.120906829833984,32.59389114379883,52.23582077026367,3.8917055130004883,54.73797607421875,50.35969161987305,44.69171905517578,42.981529235839844,52.766597747802734,43.23520278930664,32.57494354248047,51.780487060546875,51.4058723449707,37.71879196166992,53.1680793762207,43.43134307861328,53.99909973144531,48.6005973815918,25.85186767578125,47.00798416137695,43.49000549316406,42.08979797363281,44.27880859375,43.10659408569336,40.202388763427734,52.6428337097168,20.8382568359375,48.37617874145508,40.13564682006836,23.85382080078125,29.00111198425293,8.859013557434082,52.790836334228516,46.04644775390625,48.27449035644531,52.7231559753418,45.33743667602539,52.259605407714844,29.227947235107422,44.738380432128906,48.489986419677734,48.499549865722656,25.212757110595703,21.032428741455078,25.61171531677246,25.387706756591797,18.460433959960938,32.883060455322266,1.0655945539474487,38.708274841308594,37.52244186401367,47.830909729003906,50.77418518066406,36.209896087646484,49.727230072021484,47.21469497680664,44.33766174316406,48.66453552246094,53.722930908203125,47.46898651123047,49.362735748291016,37.491146087646484,24.88272476196289,19.41268539428711,16.694841384887695,25.253746032714844,23.878889083862305,4.742063045501709,2.5218265056610107,19.9686222076416,49.3013916015625,24.63542938232422,19.312021255493164,24.500755310058594,3.215440273284912,34.10346221923828,23.055572509765625,7.6739654541015625,24.53141975402832,9.601142883300781,22.510433197021484,24.102012634277344,19.21356201171875,17.95945930480957,4.856775760650635,2.110475778579712,28.12418556213379,21.99418830871582,37.882789611816406,18.178415298461914,9.070219993591309,21.148717880249023,21.0028076171875,40.77497482299805,46.24467849731445,8.678897857666016,21.15047264099121],\"xaxis\":\"x\",\"y\":[-8.525726318359375,-4.144922256469727,-22.36298179626465,-14.48875617980957,-15.222070693969727,-25.22530746459961,-20.75751304626465,-11.991721153259277,-13.475860595703125,-16.77035140991211,-13.701947212219238,-14.332369804382324,-7.7842631340026855,-22.872098922729492,-14.467589378356934,-6.2596755027771,-24.31764793395996,-12.329448699951172,-24.03386116027832,-16.75765037536621,-9.05771541595459,-12.258777618408203,-14.145358085632324,-16.455467224121094,-8.720738410949707,-13.13514232635498,-23.706600189208984,-9.560665130615234,-14.849142074584961,-16.311420440673828,-9.71390151977539,-18.538902282714844,-11.483010292053223,-22.22470474243164,-8.974112510681152,-13.338912963867188,-19.59606170654297,-9.884977340698242,-16.4276180267334,-8.885560989379883,-17.48134422302246,-16.558351516723633,-24.363611221313477,-13.090152740478516,-18.16823959350586,-15.399048805236816,-9.027304649353027,-16.344154357910156,-15.737039566040039,-13.019041061401367,-9.930026054382324,-13.6696195602417,-10.638300895690918,-15.752452850341797,-15.50600528717041,-19.734792709350586,-13.79273509979248,-23.969179153442383,-12.979593276977539,-19.408960342407227,-13.083330154418945,-18.21830177307129,-21.074480056762695,-18.68549346923828,-13.730718612670898,-17.944543838500977,-15.684892654418945,-20.131750106811523,-12.933279037475586,-12.70788288116455,-8.461189270019531,-17.254552841186523,-16.426593780517578,-14.516819953918457,-8.614013671875,-9.0951566696167,-15.00866985321045,-12.069859504699707,-17.200883865356445,-10.89415168762207,-7.612776756286621,-14.072732925415039,-23.41953468322754,-21.395967483520508,-20.758424758911133,-13.298088073730469,-12.97901725769043,-17.34722328186035,-20.559785842895508,-22.53464698791504,-18.303646087646484,-17.243492126464844,-6.2701029777526855,-23.447328567504883,-18.65622901916504,-23.59786033630371,-15.62636661529541,-14.92448902130127,-14.180702209472656,-13.119236946105957,-17.02520751953125,-22.315567016601562,-18.838010787963867,-14.633438110351562,-13.88106918334961,-16.457202911376953,-5.9777069091796875,-21.586729049682617,-11.732877731323242,-22.14166831970215,-9.357922554016113,-14.593680381774902,-21.50006675720215,-18.45892906188965,-15.33528995513916,-4.549754619598389,-12.203842163085938,-20.858163833618164,-22.51113510131836,-16.878923416137695,-22.551034927368164,-15.844263076782227,-19.553953170776367,-13.333099365234375,-22.201831817626953,-5.840205192565918,-6.350805759429932,-21.767301559448242,-14.958091735839844,-23.447519302368164,-14.769124984741211,-20.256166458129883,-13.752155303955078,-14.320009231567383,-12.64972972869873,-22.94464111328125,-16.867807388305664,-16.057226181030273,-20.82996368408203,-13.062273025512695,-20.09827423095703,-9.163110733032227,-13.755603790283203,-10.1249418258667,-10.04773998260498,-16.58845329284668,-12.715580940246582,-11.934337615966797,-21.286989212036133,-15.720808982849121,-6.0544891357421875,-12.336517333984375,-22.527250289916992,-13.44533634185791,-26.642539978027344,-18.348857879638672,-20.235410690307617,-20.422889709472656,-21.519775390625,-18.37035369873047,-18.089366912841797,-5.702826499938965,-8.322437286376953,-11.262357711791992,-14.607669830322266,-9.554749488830566,-13.66501235961914,-8.19909954071045,-20.996320724487305,-15.163805961608887,-18.668283462524414,-9.92027759552002,-20.695587158203125,-14.863595962524414,-15.7311372756958,-9.123702049255371,-9.779635429382324,-9.92402172088623,-6.38983678817749,-13.404092788696289,-6.350491046905518,-13.541598320007324,-21.728378295898438,-23.57613182067871,-10.841958045959473,-12.260414123535156,-14.823294639587402,-10.55367374420166,-13.352596282958984,-11.084973335266113,-10.413581848144531,-15.013700485229492,-14.759432792663574,-24.155433654785156,-9.00255012512207,-20.10951805114746,-13.151261329650879,-13.395110130310059,-12.639992713928223,-14.299325942993164,-14.378690719604492,-14.951189994812012,-14.017579078674316,-18.207218170166016,-20.55742645263672,-14.096879005432129,-12.079886436462402,-12.552635192871094,-13.032510757446289,-17.51107406616211,-12.61786937713623,-16.4534854888916,-24.733112335205078,-11.894917488098145,-18.285682678222656,-16.8230037689209,-14.665534973144531,-16.656400680541992,-15.414990425109863,-13.110559463500977,-21.198076248168945,-16.152097702026367,-16.159523010253906,-24.10759162902832,-23.480056762695312,-10.887276649475098,-12.508145332336426,-12.863533973693848,-17.06372833251953,-12.065622329711914,-13.868830680847168,-12.020026206970215,-9.062366485595703,-12.131303787231445,-14.619714736938477,-12.97225284576416,-25.481924057006836,-24.012022018432617,-25.300182342529297,-6.466856479644775,-9.645103454589844,-19.67340850830078,-4.557309150695801,-13.810453414916992,-14.404152870178223,-14.156428337097168,-12.905359268188477,-14.313385009765625,-13.530009269714355,-16.797887802124023,-13.491023063659668,-12.321846008300781,-13.32939338684082,-11.685089111328125,-14.102766036987305,-13.864391326904297,-15.804656982421875,-22.256711959838867,-14.467042922973633,-15.092860221862793,-6.999922752380371,-13.417251586914062,-9.553106307983398,-18.854984283447266,-15.305642127990723,-24.882627487182617,-13.486621856689453,-6.7117462158203125,-13.983484268188477,-14.886380195617676,-24.82811164855957,-10.741301536560059,-18.351791381835938,-13.136615753173828,-26.383853912353516,-25.65387535095215,-8.708616256713867,-13.57449722290039,-14.149138450622559,-6.635406017303467,-18.543563842773438,-13.745357513427734,-16.584531784057617,-22.746353149414062,-5.621179580688477,-22.687152862548828,-21.712039947509766,-16.012170791625977,-17.58172035217285,-13.609440803527832,-25.56409454345703],\"yaxis\":\"y\",\"type\":\"scattergl\"},{\"customdata\":[[\"The_Biz_Vs__The_Nuge\",\"beastie_boys\"],[\"Mark_On_The_Bus\",\"beastie_boys\"],[\"Gratitude\",\"beastie_boys\"],[\"Namaste\",\"beastie_boys\"],[\"The_Blue_Nun\",\"beastie_boys\"],[\"Something_s_Got_To_Give\",\"beastie_boys\"],[\"Funky_Boss\",\"beastie_boys\"],[\"Time_For_Livin_\",\"beastie_boys\"],[\"Drunken_Praying_Mantis_Style\",\"beastie_boys\"],[\"Lighten_Up\",\"beastie_boys\"],[\"The_Maestro\",\"beastie_boys\"],[\"Three_MC_s_And_One_DJ\",\"beastie_boys\"],[\"I_Don_t_Know\",\"beastie_boys\"],[\"Flowin__Prose\",\"beastie_boys\"],[\"The_Negotiation_Limerick_File\",\"beastie_boys\"],[\"Dedication\",\"beastie_boys\"],[\"Picture_This\",\"beastie_boys\"],[\"Instant_Death\",\"beastie_boys\"],[\"Song_For_Junior\",\"beastie_boys\"],[\"And_Me\",\"beastie_boys\"],[\"The_Grasshopper_Unit__Keep_Movin__\",\"beastie_boys\"],[\"Song_For_The_Man\",\"beastie_boys\"],[\"Remote_Control\",\"beastie_boys\"],[\"Electrify\",\"beastie_boys\"],[\"The_Move\",\"beastie_boys\"],[\"Dr__Lee__PhD\",\"beastie_boys\"],[\"Bodhisattva_Vow\",\"beastie_boys\"],[\"Flute_Loop\",\"beastie_boys\"],[\"Sabotage\",\"beastie_boys\"],[\"Tough_Guy\",\"beastie_boys\"],[\"Futterman_s_Rule\",\"beastie_boys\"],[\"To_All_The_Girls\",\"beastie_boys\"],[\"Ask_For_Janice\",\"beastie_boys\"],[\"33__God\",\"beastie_boys\"],[\"5_Piece_Chicken_Dinner_2\",\"beastie_boys\"],[\"5_Piece_Chicken_Dinner\",\"beastie_boys\"],[\"To_All_The_Girls_2\",\"beastie_boys\"],[\"Johnny_Ryall_2\",\"beastie_boys\"],[\"Crew\",\"a_tribe_called_quest\"],[\"What_Really_Goes_On\",\"a_tribe_called_quest\"],[\"Skypager\",\"a_tribe_called_quest\"],[\"What_\",\"a_tribe_called_quest\"],[\"Youthful_Expression\",\"a_tribe_called_quest\"],[\"Rhythm__Devoted_to_the_Art_of_Moving_Butts_\",\"a_tribe_called_quest\"],[\"Ham_n__Eggs\",\"a_tribe_called_quest\"],[\"Push_It_Along\",\"a_tribe_called_quest\"],[\"Bonita_Applebum\",\"a_tribe_called_quest\"],[\"Pubic_Enemy\",\"a_tribe_called_quest\"],[\"Can_I_Kick_It_\",\"a_tribe_called_quest\"],[\"Mr__Muhammad\",\"a_tribe_called_quest\"],[\"Footprints\",\"a_tribe_called_quest\"],[\"Midnight_Marauders_Tour_Guide\",\"a_tribe_called_quest\"],[\"Steve_Biko__Stir_It_Up_\",\"a_tribe_called_quest\"],[\"Clap_Your_Hands\",\"a_tribe_called_quest\"],[\"For_10_Years\",\"run-dmc\"],[\"To_The_Maker\",\"run-dmc\"],[\"Miss_Elaine\",\"run-dmc\"],[\"Sucker_D_J__s\",\"run-dmc\"],[\"P_Upon_A_Tree\",\"run-dmc\"],[\"Livin__In_The_City\",\"run-dmc\"],[\"Fuck_Me__Interlude_\",\"the_notorious_big\"],[\"Unbelieveable\",\"the_notorious_big\"],[\"Intro___A_Million_And_One_Questions___Rhyme_No_More\",\"jay-z\"],[\"Friend_Or_Foe\",\"jay-z\"],[\"On_The_Ill_Tip\",\"ll_cool_j\"],[\"The_Bristol_Hotel\",\"ll_cool_j\"],[\"Buckin__Em_Down\",\"ll_cool_j\"],[\"Life_As\",\"ll_cool_j\"],[\"The_Intro__Skit_\",\"ll_cool_j\"],[\"Going_Back_To_Cali\",\"ll_cool_j\"],[\"Illegal_Search\",\"ll_cool_j\"],[\"Mama_Said_Knock_You_Out\",\"ll_cool_j\"],[\"Temperature_s_Rising\",\"mobb_deep\"],[\"_Just_Step_Prelude_\",\"mobb_deep\"],[\"Intro\",\"mobb_deep\"],[\"Peer_Pressure\",\"mobb_deep\"],[\"Skit__2\",\"mobb_deep\"],[\"Move_The_Crowd\",\"erikb_&_rakim\"],[\"Rest_Assured\",\"erikb_&_rakim\"],[\"Relax_With_Pep\",\"erikb_&_rakim\"],[\"Pass_The_Hand_Grenade\",\"erikb_&_rakim\"],[\"Don_t_Sweat_The_Technique\",\"erikb_&_rakim\"],[\"The_R\",\"erikb_&_rakim\"],[\"No_Competition\",\"erikb_&_rakim\"],[\"Party_For_Your_Right_To_Fight\",\"public_enemy\"],[\"Mind_Terrorist\",\"public_enemy\"],[\"Night_Of_The_Living_Basheads\",\"public_enemy\"],[\"She_Watch_Channel_Zero__\",\"public_enemy\"],[\"Show_Em_Whatcha_Got\",\"public_enemy\"],[\"Caught__Can_We_Get_A_Witness_\",\"public_enemy\"],[\"911_Is_A_Joke\",\"public_enemy\"],[\"Power_To_The_People\",\"public_enemy\"],[\"Fear_Of_A_Black_Planet\",\"public_enemy\"],[\"Pollywanacraka\",\"public_enemy\"],[\"War_At_33_1_3\",\"public_enemy\"],[\"Burn_Hollywood_Burn\",\"public_enemy\"],[\"Meet_The_G_That_Killed_Me\",\"public_enemy\"],[\"Can_t_Do_Nuttin__For_Ya_Man\",\"public_enemy\"],[\"Megablast\",\"public_enemy\"],[\"Terminator_X_Speaks_With_His_Hands\",\"public_enemy\"],[\"Hitler_Day\",\"public_enemy\"],[\"They_Used_To_Call_It_Dope\",\"public_enemy\"],[\"Stop_In_The_Name___\",\"public_enemy\"],[\"Death_Of_A_Carjacka\",\"public_enemy\"],[\"Whole_Lotta_Love_Goin_On_In_The_Middle_Of_Hell\",\"public_enemy\"],[\"White_Heaven___Black_Hell\",\"public_enemy\"],[\"So_Whatcha_Gone_Do_Now_\",\"public_enemy\"],[\"I_Stand_Accused\",\"public_enemy\"],[\"Livin_In_A_Zoo__Remix_\",\"public_enemy\"],[\"Ain_tnuttin_Buttersong\",\"public_enemy\"],[\"1_Million_Bottlebags\",\"public_enemy\"],[\"Rebirth\",\"public_enemy\"],[\"Get_The_Fck_Outta_Dodge\",\"public_enemy\"],[\"I_Dont_Wanna_Be_Called_Yo_Niga\",\"public_enemy\"],[\"More_News_At_11\",\"public_enemy\"],[\"Lost_At_Birth\",\"public_enemy\"],[\"Shut_Em_Down\",\"public_enemy\"],[\"Conclusion\",\"wu_tang_clan\"],[\"The_Whole_World_Lookin__At_Me\",\"busta_rhymes\"],[\"Do_It_To_Death\",\"busta_rhymes\"],[\"En_Focus\",\"de_la_soul\"],[\"3_Days_Later\",\"de_la_soul\"],[\"Paul_s_Revenge\",\"de_la_soul\"],[\"Area\",\"de_la_soul\"],[\"Patti_Dooke\",\"de_la_soul\"],[\"Dave_Has_A_Problem____Seriously\",\"de_la_soul\"],[\"Long_Island_Wildin_\",\"de_la_soul\"],[\"I_Be_Blowin_\",\"de_la_soul\"],[\"Potholes_In_My_Lawn\",\"de_la_soul\"],[\"Take_It_Off\",\"de_la_soul\"],[\"A_Little_Bit_Of_Soap\",\"de_la_soul\"],[\"Intro\",\"de_la_soul\"],[\"Plug_Tunin___Original_12_Version_\",\"de_la_soul\"],[\"Can_U_Keep_A_Secret_\",\"de_la_soul\"],[\"Jenifa_Taught_Me__12_Version_\",\"de_la_soul\"],[\"Tread_Water\",\"de_la_soul\"],[\"Transmitting_Live_From_Mars\",\"de_la_soul\"],[\"Change_In_Speak\",\"de_la_soul\"],[\"Me__Myself_And_I\",\"de_la_soul\"],[\"De_La_Orgee\",\"de_la_soul\"],[\"Do_As_De_La_Does\",\"de_la_soul\"],[\"What_s_More\",\"de_la_soul\"],[\"Description\",\"de_la_soul\"],[\"Ain_t_Hip_To_Be_Labelled_A_Hippie\",\"de_la_soul\"],[\"Cool_Breeze_On_The_Rocks\",\"de_la_soul\"],[\"I_Can_Do_Anything__Delacratic_\",\"de_la_soul\"],[\"Yunonstop\",\"de_la_soul\"],[\"Skit_1\",\"de_la_soul\"],[\"Pass_The_Plugs\",\"de_la_soul\"],[\"Skit_2\",\"de_la_soul\"],[\"Skit_3\",\"de_la_soul\"],[\"WRMS__Cat_s_In_Control\",\"de_la_soul\"],[\"Skit_4\",\"de_la_soul\"],[\"Skit_5\",\"de_la_soul\"],[\"Not_Over_Till_The_Fat_Lady_Plays_The_Demo\",\"de_la_soul\"],[\"WRMS__Dedication_To_The_Bitty\",\"de_la_soul\"],[\"Shwingalokate\",\"de_la_soul\"],[\"No_Way_Out__Intro_\",\"puff_daddy\"],[\"If_I_Should_Die_Tonight__Interlude_\",\"puff_daddy\"],[\"No_More_Mr__Nice_Guy\",\"gang_starr\"],[\"Jazz_Music\",\"gang_starr\"],[\"Positivity\",\"gang_starr\"],[\"Words_From_The_Nutcracker\",\"gang_starr\"],[\"Brainstorm\",\"gang_starr\"],[\"The_Meaning_Of_The_Name\",\"gang_starr\"],[\"Beyond_Comprehension\",\"gang_starr\"],[\"Say_Your_Prayers\",\"gang_starr\"],[\"Street_Ministry\",\"gang_starr\"],[\"What_You_Want_This_Time_\",\"gang_starr\"],[\"As_I_Read_My_S_A\",\"gang_starr\"],[\"Name_Tag__Premier___The_Guru_\",\"gang_starr\"],[\"Execution_Of_A_Chump__No_More_Mr__Nice_Guy_Pt__2_\",\"gang_starr\"],[\"Who_s_Gonna_Take_The_Weight_\",\"gang_starr\"],[\"The_Place_Where_We_Dwell\",\"gang_starr\"],[\"Take_Two_And_Pass\",\"gang_starr\"],[\"Batting_Practice\",\"soulsofmischief\"],[\"Outro\",\"soulsofmischief\"],[\"So_You_Wanna_Be_A___\",\"soulsofmischief\"],[\"Come_Anew\",\"soulsofmischief\"],[\"Fat_Girl\",\"nwa\"],[\"Drink_It_Up\",\"nwa\"],[\"Panic_Zone\",\"nwa\"],[\"Something_2_Dance_2\",\"nwa\"],[\"Don_t_Drink_That_Wine\",\"nwa\"],[\"1__2__3__4__Sumpin__New_\",\"coolio\"],[\"Recoup_This\",\"coolio\"],[\"Too_Hot\",\"coolio\"],[\"Fucc_Coolio\",\"coolio\"],[\"Can_O_Corn\",\"coolio\"],[\"Smokin__Stix\",\"coolio\"],[\"It_Takes_A_Thief\",\"coolio\"],[\"Ghetto_Cartoon\",\"coolio\"],[\"Homeboy\",\"coolio\"],[\"Intro\",\"coolio\"],[\"My_Soul\",\"coolio\"],[\"Knight_Falls\",\"coolio\"],[\"Black_Korea\",\"ice_cube\"],[\"The_Funeral__Intro_\",\"ice_cube\"],[\"Dominate_The_Weak\",\"ice_cube\"],[\"Trying_To_Maintain\",\"ice_cube\"],[\"Death\",\"ice_cube\"],[\"The_Birth\",\"ice_cube\"],[\"Alive_On_Arrival\",\"ice_cube\"],[\"Robin_Lench__Interlude_\",\"ice_cube\"],[\"We_Had_To_Tear_This_Muthafucka_Up\",\"ice_cube\"],[\"Now_I_Gotta_Wet_Cha\",\"ice_cube\"],[\"Wicked\",\"ice_cube\"],[\"Dead_Homiez\",\"ice_cube\"],[\"Turn_Off_The_Radio\",\"ice_cube\"],[\"I_m_Only_Out_For_One_Thang\",\"ice_cube\"],[\"Get_Off_My_Dick_And_Tell_Yo_Bitch_To_Come_Here\",\"ice_cube\"],[\"Cave_Bitch\",\"ice_cube\"],[\"The_Shot__Intro_\",\"ice_cube\"],[\"You_Know_How_We_Do_It\",\"ice_cube\"],[\"Heaven\",\"ice_cube\"],[\"What_Can_I_Do_\",\"ice_cube\"],[\"So_Watcha_Sayin_\",\"too_short\"],[\"Baby_D\",\"too_short\"],[\"Oakland_Style\",\"too_short\"],[\"Don_t_Fight_The_Intro\",\"too_short\"],[\"You_Betta_Ask_Somebody__Gz_And_Hustlas_Intro_\",\"snoop_dogg\"],[\"Chronic_Break\",\"snoop_dogg\"],[\"U_Betta_Recognize__Pump_Pump_Intro_\",\"snoop_dogg\"],[\"W_Balls\",\"snoop_dogg\"],[\"Who_Am_I__What_s_My_Name__\",\"snoop_dogg\"],[\"Outro\",\"snoop_dogg\"],[\"Intro\",\"snoop_dogg\"],[\"Snoop_Bounce\",\"snoop_dogg\"],[\"Traffic_Jam\",\"snoop_dogg\"],[\"Playa_Hata\",\"luniz\"],[\"Old_School\",\"pac\"],[\"Pac_s_Theme__Interlude_\",\"pac\"],[\"Something_2_Die_4__Interlude_\",\"pac\"],[\"Let_It_Rain\",\"cypress_hill\"],[\"Spark_Another_Owl\",\"cypress_hill\"],[\"Red_Light_Visions\",\"cypress_hill\"],[\"Stoned_Raiders\",\"cypress_hill\"],[\"Funk_Freakers\",\"cypress_hill\"],[\"Cock_The_Hammer\",\"cypress_hill\"],[\"I_Ain_t_Goin__Out_Like_That\",\"cypress_hill\"],[\"Break__Em_Off_Some\",\"cypress_hill\"],[\"Lick_A_Shot\",\"cypress_hill\"],[\"When_The_Shit_Goes_Down\",\"cypress_hill\"],[\"Legalize_It\",\"cypress_hill\"],[\"Loco_En_El_Coco__Insane_In_The_Brain___Spanish_Version_\",\"cypress_hill\"],[\"I_Wanna_Get_High\",\"cypress_hill\"],[\"A_To_The_K\",\"cypress_hill\"],[\"Insane_In_The_Brain\",\"cypress_hill\"],[\"Psycobetabuckdown\",\"cypress_hill\"],[\"Tres_Equis\",\"cypress_hill\"],[\"Tres_Equis_2\",\"cypress_hill\"],[\"Ultraviolet_Dreams\",\"cypress_hill\"],[\"Something_For_The_Blunted\",\"cypress_hill\"],[\"Eazy_Chapter_8_Verse_10__B_U_L_L_S_H_I_T__\",\"eazy_e\"],[\"Creep_N_Crawl\",\"eazy_e\"],[\"First_Power\",\"eazy_e\"],[\"Licking__Sucking__Fucking\",\"eazy_e\"],[\"The_Higher_Heights_Of_Spirituality\",\"digital_underground\"],[\"The_DFLO_Shuttle\",\"digital_underground\"],[\"Digital_Lover\",\"digital_underground\"],[\"Body_Hats__Part_Two_\",\"digital_underground\"],[\"Body_Hats__Part_One_\",\"digital_underground\"],[\"Body_Hats__Part_Three_\",\"digital_underground\"],[\"Circus_Exit__The_After_Nut_\",\"digital_underground\"],[\"Circus_Entrance\",\"digital_underground\"],[\"Intermission\",\"digital_underground\"],[\"Rumpty_Rump\",\"digital_underground\"],[\"Hokis_Pokis__A_Classic_Case_\",\"digital_underground\"],[\"Future_Rhythm\",\"digital_underground\"],[\"Food_Fight\",\"digital_underground\"],[\"Hella_Bump\",\"digital_underground\"],[\"We_Got_More\",\"digital_underground\"],[\"Outro\",\"ice-t\"],[\"Intro\",\"ice-t\"],[\"It_s_Goin__Down\",\"ice-t\"],[\"Real_\",\"ice-t\"],[\"Rap_Is_Fake\",\"ice-t\"],[\"Somebody_Gotta_Do_It__Pimpin__Ain_t_Easy____\",\"ice-t\"],[\"Fried_Chicken\",\"ice-t\"],[\"Body_Count\",\"ice-t\"],[\"Prepared_To_Die\",\"ice-t\"],[\"The_House\",\"ice-t\"],[\"Ziplock\",\"ice-t\"],[\"First_Impression\",\"ice-t\"],[\"Fly_By\",\"ice-t\"],[\"Straight_Up_Nigga\",\"ice-t\"],[\"Street_Killer\",\"ice-t\"],[\"Escape_From_The_Killing_Fields\",\"ice-t\"],[\"Ya_Shoulda_Killed_Me_Last_Year\",\"ice-t\"],[\"Ed\",\"ice-t\"],[\"Home_Of_The_Bodybag\",\"ice-t\"],[\"Warning\",\"ice-t\"],[\"Ain_t_A_Damn_Thing_Changed\",\"ice-t\"],[\"Question_And_Answer\",\"ice-t\"],[\"Gangstas_Don_t_Dance__Insert_\",\"westside_connection\"],[\"The_Pledge__Insert_\",\"westside_connection\"],[\"World_Domination__Intro_\",\"westside_connection\"],[\"Emerald_Butterfly\",\"the_pharcyde\"],[\"Devil_Music\",\"the_pharcyde\"],[\"Runnin_\",\"the_pharcyde\"],[\"Little_D\",\"the_pharcyde\"],[\"Moment_In_Time\",\"the_pharcyde\"],[\"Pharcyde\",\"the_pharcyde\"],[\"It_s_All_Good_\",\"the_pharcyde\"],[\"Hey_You\",\"the_pharcyde\"],[\"All_Live\",\"the_pharcyde\"],[\"Somethin__That_Means_Somethin_\",\"the_pharcyde\"],[\"Officer\",\"the_pharcyde\"],[\"Quinton_s_On_The_Way__Skit_\",\"the_pharcyde\"],[\"If_I_Were_President__Skit_\",\"the_pharcyde\"],[\"Pack_The_Pipe__Interlude_\",\"the_pharcyde\"],[\"Choices\",\"Dr.Dre\"],[\"Pigeon_Coup\",\"mack_10\"],[\"Niggas_Dog_Scrapping\",\"mack_10\"],[\"Mickey_D_s_Lick__Intro_\",\"mack_10\"]],\"hovertemplate\":\"Topic=1\\u003cbr\\u003ex=%{x}\\u003cbr\\u003ey=%{y}\\u003cbr\\u003eSong=%{customdata[0]}\\u003cbr\\u003eArtist=%{customdata[1]}\\u003cextra\\u003e\\u003c\\u002fextra\\u003e\",\"legendgroup\":\"1\",\"marker\":{\"color\":\"#FFA15A\",\"symbol\":\"circle\",\"line\":{\"color\":\"DarkSlateGrey\",\"width\":1},\"size\":10},\"mode\":\"markers\",\"name\":\"1\",\"showlegend\":true,\"x\":[25.635740280151367,24.73874855041504,2.3479318618774414,20.46331787109375,28.94147491455078,29.639827728271484,21.069595336914062,7.458913803100586,0.9193208813667297,25.91996955871582,2.595193386077881,-0.9398458003997803,28.13968849182129,2.843775510787964,-2.1098058223724365,29.406673431396484,27.76776885986328,28.364866256713867,28.924047470092773,26.723718643188477,18.756696701049805,25.75458335876465,3.5560317039489746,20.891368865966797,0.3654765188694,26.897380828857422,0.9375818371772766,11.374436378479004,15.45221996307373,24.187910079956055,30.82992935180664,22.640705108642578,27.37728500366211,27.337121963500977,29.231857299804688,27.950857162475586,25.485157012939453,3.1151468753814697,6.832370281219482,-0.5024363994598389,8.2074613571167,17.870845794677734,3.1124472618103027,5.567317962646484,21.20079803466797,8.253073692321777,23.11739730834961,6.5888566970825195,7.651177883148193,17.5249080657959,1.3013558387756348,30.880348205566406,3.0043768882751465,-1.5994610786437988,25.116226196289062,26.32634162902832,21.487503051757812,11.435895919799805,14.659150123596191,25.69945526123047,23.96600914001465,8.116362571716309,8.538582801818848,1.04995596408844,30.06766128540039,4.0369181632995605,23.477571487426758,-3.755514144897461,29.9932918548584,5.307077407836914,1.78798508644104,2.0925862789154053,9.398957252502441,11.981134414672852,29.704633712768555,5.271536827087402,25.175399780273438,15.15253734588623,19.843891143798828,-2.871785879135132,19.301372528076172,10.884380340576172,10.61835765838623,7.668265342712402,25.690704345703125,23.3291072845459,10.259905815124512,4.804116249084473,9.137282371520996,6.614645004272461,5.944784164428711,19.71671485900879,11.725517272949219,19.660362243652344,13.65439224243164,8.628583908081055,28.515348434448242,-3.731355667114258,7.705040454864502,27.214872360229492,10.82401180267334,24.806238174438477,26.14443016052246,18.265642166137695,16.75899314880371,29.777549743652344,16.594650268554688,3.2555294036865234,4.062435150146484,18.304611206054688,10.217065811157227,21.102102279663086,14.253368377685547,18.06960678100586,20.664676666259766,15.350849151611328,3.5078206062316895,21.366085052490234,2.091597080230713,11.464269638061523,12.619860649108887,-0.7759552001953125,27.651962280273438,6.607326030731201,4.790863990783691,26.429533004760742,20.510801315307617,29.733264923095703,10.377006530761719,28.07164192199707,30.06318473815918,18.9195613861084,12.753259658813477,25.212753295898438,10.628340721130371,3.415069341659546,28.99991226196289,10.711871147155762,22.446157455444336,22.159860610961914,2.350820541381836,-1.5380604267120361,28.435649871826172,22.390127182006836,11.266969680786133,23.877735137939453,15.406303405761719,16.689374923706055,18.79719352722168,24.078683853149414,19.127347946166992,28.035358428955078,22.646650314331055,25.37212562561035,5.989458084106445,22.62116813659668,10.407832145690918,29.081851959228516,21.850675582885742,0.5037270188331604,19.922374725341797,3.0882997512817383,8.372896194458008,2.954550266265869,1.9835355281829834,6.016880035400391,18.81309700012207,23.588483810424805,1.442623496055603,14.931769371032715,29.400829315185547,11.690007209777832,8.673458099365234,3.8975658416748047,2.3812663555145264,4.865850448608398,-2.120781660079956,25.142986297607422,13.655158996582031,5.715522766113281,-1.888127088546753,2.04609751701355,3.694012403488159,25.442827224731445,8.017799377441406,-2.490211009979248,2.913132667541504,4.022695064544678,6.419839859008789,17.584815979003906,12.336669921875,10.464327812194824,3.5851023197174072,24.282575607299805,13.497215270996094,4.269672393798828,15.631452560424805,13.341865539550781,19.217117309570312,14.441375732421875,18.22652816772461,23.273536682128906,8.216999053955078,24.99795150756836,6.668780326843262,13.695749282836914,17.463960647583008,5.541952610015869,16.68930435180664,17.455617904663086,13.140268325805664,13.165421485900879,22.268951416015625,16.355443954467773,3.1869325637817383,2.688133955001831,5.6065473556518555,5.050642490386963,-0.6732644438743591,6.514804840087891,23.907270431518555,22.952190399169922,15.283987045288086,21.00586700439453,15.551111221313477,28.525358200073242,27.221694946289062,3.6113131046295166,26.136938095092773,9.031611442565918,9.677996635437012,27.332895278930664,12.753894805908203,9.632316589355469,3.534349203109741,13.633586883544922,2.7537007331848145,2.0553646087646484,11.797599792480469,13.462244033813477,4.8795623779296875,12.847559928894043,18.838918685913086,27.418777465820312,27.901470184326172,-1.572813630104065,20.814096450805664,11.264280319213867,10.197622299194336,27.69132423400879,31.012210845947266,22.502817153930664,23.86101531982422,7.006038188934326,15.427933692932129,14.648001670837402,15.182812690734863,30.339229583740234,-3.5028016567230225,5.669249534606934,0.3443136215209961,0.4240003228187561,14.656063079833984,26.990121841430664,22.295799255371094,27.37525749206543,24.42012596130371,4.945989608764648,15.465832710266113,13.071504592895508,15.431631088256836,9.791358947753906,13.49126148223877,19.718578338623047,19.336761474609375,2.8517279624938965,21.511262893676758,22.121957778930664,30.302021026611328,20.790536880493164,18.324872970581055,17.357757568359375,14.90560531616211,24.899391174316406,8.836532592773438,14.62818717956543,18.404638290405273,3.4112370014190674,3.4321703910827637,16.379295349121094,29.327062606811523,23.452341079711914,3.9604666233062744,23.84898567199707,29.02312469482422,29.120830535888672,26.337928771972656,14.068199157714844,0.4394267201423645,9.264296531677246,13.404622077941895,22.015178680419922,3.500314712524414,19.485559463500977,3.396129846572876,23.483186721801758,3.9446375370025635,8.65214729309082,15.759126663208008,19.169523239135742,28.822975158691406,13.849010467529297,28.728084564208984,20.93036651611328,18.962156295776367],\"xaxis\":\"x\",\"y\":[36.112823486328125,38.544986724853516,12.666512489318848,30.15662956237793,43.27686309814453,41.54499435424805,28.552934646606445,14.974530220031738,22.799646377563477,35.44691467285156,24.217945098876953,17.070728302001953,46.33106231689453,16.980979919433594,13.773845672607422,47.36831283569336,43.22026062011719,41.586647033691406,45.51778030395508,38.192909240722656,29.550500869750977,39.304168701171875,8.73787784576416,25.758258819580078,14.228547096252441,41.277793884277344,21.35401725769043,24.065290451049805,25.233810424804688,37.51273727416992,47.64707565307617,32.92006301879883,44.67851638793945,36.52367401123047,43.06989288330078,41.9060173034668,34.36620330810547,24.535810470581055,21.378231048583984,20.11856460571289,21.067031860351562,29.40752601623535,14.302891731262207,-1.9204647541046143,23.263608932495117,19.189773559570312,29.832202911376953,5.307326316833496,20.744029998779297,22.124452590942383,13.261906623840332,48.171417236328125,11.957768440246582,17.709135055541992,34.605255126953125,42.100929260253906,27.92731475830078,18.408021926879883,25.102874755859375,34.64242172241211,31.712011337280273,14.609834671020508,-8.73639965057373,20.320514678955078,45.7113151550293,23.397640228271484,33.32574462890625,20.21266746520996,48.004058837890625,12.389245986938477,21.69463539123535,23.32878303527832,19.350807189941406,25.212308883666992,43.85982894897461,-2.5133814811706543,35.22521209716797,13.690193176269531,23.78884506225586,15.880581855773926,21.529417037963867,24.225732803344727,24.071592330932617,12.390390396118164,41.090518951416016,29.148656845092773,23.834522247314453,25.74088478088379,-8.129859924316406,13.140892028808594,22.9167423248291,27.995391845703125,18.883432388305664,22.011974334716797,25.907808303833008,12.338032722473145,40.734134674072266,19.428020477294922,13.914990425109863,44.47786331176758,25.093055725097656,40.4053955078125,40.391090393066406,27.826684951782227,24.6853084564209,44.29076385498047,18.865144729614258,2.1487655639648438,12.833687782287598,22.338167190551758,17.57743263244629,31.882795333862305,11.773736000061035,20.17254066467285,28.873931884765625,25.77620506286621,12.503053665161133,26.132675170898438,8.799382209777832,15.414339065551758,11.352164268493652,21.81877326965332,39.44710922241211,-1.8683462142944336,0.27353835105895996,36.00695037841797,29.894121170043945,47.13841247558594,22.492469787597656,44.6674690246582,46.796443939208984,22.89706039428711,24.171239852905273,32.64474868774414,16.721698760986328,20.178546905517578,43.95433807373047,23.479406356811523,25.406614303588867,32.29280471801758,23.247352600097656,16.502927780151367,43.42820739746094,31.925771713256836,16.395824432373047,35.12059783935547,12.77457332611084,20.66786003112793,26.754812240600586,33.70875549316406,28.269678115844727,44.674102783203125,36.00062561035156,37.710575103759766,15.535346031188965,29.228797912597656,22.275529861450195,47.63766098022461,30.54598617553711,17.518760681152344,21.923961639404297,3.094630479812622,21.54462432861328,12.930174827575684,14.092706680297852,18.86178970336914,20.178180694580078,39.332515716552734,16.087602615356445,14.47909927368164,45.88460922241211,14.201519012451172,12.86649227142334,16.16571044921875,18.276630401611328,-0.42736345529556274,18.771080017089844,35.79945373535156,14.044036865234375,10.790685653686523,23.409921646118164,19.70853614807129,19.4312744140625,39.1791877746582,13.041766166687012,20.560161590576172,20.189916610717773,15.049593925476074,-2.595741033554077,24.759950637817383,13.593061447143555,17.241899490356445,9.114047050476074,34.56776428222656,18.293182373046875,2.386713981628418,12.140031814575195,24.188627243041992,19.862422943115234,9.219664573669434,26.629150390625,33.85468673706055,18.527873992919922,39.097782135009766,-9.126090049743652,9.984800338745117,23.4884033203125,9.455992698669434,24.331493377685547,18.84696388244629,10.531184196472168,11.122296333312988,24.684473037719727,21.935081481933594,3.656498432159424,16.050983428955078,9.93350887298584,1.149367332458496,20.35934829711914,5.114768028259277,36.721168518066406,34.76537322998047,11.02109432220459,29.080242156982422,11.336139678955078,45.635440826416016,42.454715728759766,24.576343536376953,42.17498016357422,5.913456439971924,-8.235506057739258,38.3435173034668,17.38271141052246,20.523740768432617,4.456826210021973,13.32909870147705,12.509050369262695,16.39797019958496,17.703908920288086,17.998342514038086,2.299921751022339,13.916812896728516,18.771739959716797,43.80024719238281,40.988616943359375,18.5302791595459,20.513301849365234,17.495485305786133,14.360930442810059,45.243385314941406,47.09090805053711,28.382978439331055,37.22118377685547,11.005477905273438,10.45936107635498,22.65584945678711,24.517568588256836,48.060569763183594,16.62254524230957,14.958792686462402,16.932804107666016,17.39340591430664,19.666229248046875,37.474849700927734,24.300334930419922,40.346622467041016,33.456485748291016,23.005884170532227,20.09876251220703,23.0218448638916,23.88764190673828,15.5361967086792,15.244927406311035,28.913753509521484,21.004268646240234,25.144908905029297,31.149520874023438,25.578670501708984,47.056724548339844,20.40390396118164,24.006237030029297,17.818775177001953,26.032596588134766,39.94780349731445,19.654163360595703,9.813271522521973,23.743078231811523,12.393482208251953,19.61902618408203,22.71532440185547,44.722957611083984,38.275814056396484,10.032368659973145,38.80821228027344,44.51496505737305,42.313087463378906,36.50358200073242,24.546628952026367,15.206735610961914,13.551983833312988,14.701742172241211,25.06015396118164,10.194957733154297,22.646568298339844,23.21389389038086,31.95416831970215,15.34423828125,5.799081325531006,13.98383903503418,23.36285400390625,46.44618606567383,15.742231369018555,42.24013137817383,31.089183807373047,19.109704971313477],\"yaxis\":\"y\",\"type\":\"scattergl\"}],                        {\"template\":{\"data\":{\"histogram2dcontour\":[{\"type\":\"histogram2dcontour\",\"colorbar\":{\"outlinewidth\":0,\"ticks\":\"\"},\"colorscale\":[[0.0,\"#0d0887\"],[0.1111111111111111,\"#46039f\"],[0.2222222222222222,\"#7201a8\"],[0.3333333333333333,\"#9c179e\"],[0.4444444444444444,\"#bd3786\"],[0.5555555555555556,\"#d8576b\"],[0.6666666666666666,\"#ed7953\"],[0.7777777777777778,\"#fb9f3a\"],[0.8888888888888888,\"#fdca26\"],[1.0,\"#f0f921\"]]}],\"choropleth\":[{\"type\":\"choropleth\",\"colorbar\":{\"outlinewidth\":0,\"ticks\":\"\"}}],\"histogram2d\":[{\"type\":\"histogram2d\",\"colorbar\":{\"outlinewidth\":0,\"ticks\":\"\"},\"colorscale\":[[0.0,\"#0d0887\"],[0.1111111111111111,\"#46039f\"],[0.2222222222222222,\"#7201a8\"],[0.3333333333333333,\"#9c179e\"],[0.4444444444444444,\"#bd3786\"],[0.5555555555555556,\"#d8576b\"],[0.6666666666666666,\"#ed7953\"],[0.7777777777777778,\"#fb9f3a\"],[0.8888888888888888,\"#fdca26\"],[1.0,\"#f0f921\"]]}],\"heatmap\":[{\"type\":\"heatmap\",\"colorbar\":{\"outlinewidth\":0,\"ticks\":\"\"},\"colorscale\":[[0.0,\"#0d0887\"],[0.1111111111111111,\"#46039f\"],[0.2222222222222222,\"#7201a8\"],[0.3333333333333333,\"#9c179e\"],[0.4444444444444444,\"#bd3786\"],[0.5555555555555556,\"#d8576b\"],[0.6666666666666666,\"#ed7953\"],[0.7777777777777778,\"#fb9f3a\"],[0.8888888888888888,\"#fdca26\"],[1.0,\"#f0f921\"]]}],\"heatmapgl\":[{\"type\":\"heatmapgl\",\"colorbar\":{\"outlinewidth\":0,\"ticks\":\"\"},\"colorscale\":[[0.0,\"#0d0887\"],[0.1111111111111111,\"#46039f\"],[0.2222222222222222,\"#7201a8\"],[0.3333333333333333,\"#9c179e\"],[0.4444444444444444,\"#bd3786\"],[0.5555555555555556,\"#d8576b\"],[0.6666666666666666,\"#ed7953\"],[0.7777777777777778,\"#fb9f3a\"],[0.8888888888888888,\"#fdca26\"],[1.0,\"#f0f921\"]]}],\"contourcarpet\":[{\"type\":\"contourcarpet\",\"colorbar\":{\"outlinewidth\":0,\"ticks\":\"\"}}],\"contour\":[{\"type\":\"contour\",\"colorbar\":{\"outlinewidth\":0,\"ticks\":\"\"},\"colorscale\":[[0.0,\"#0d0887\"],[0.1111111111111111,\"#46039f\"],[0.2222222222222222,\"#7201a8\"],[0.3333333333333333,\"#9c179e\"],[0.4444444444444444,\"#bd3786\"],[0.5555555555555556,\"#d8576b\"],[0.6666666666666666,\"#ed7953\"],[0.7777777777777778,\"#fb9f3a\"],[0.8888888888888888,\"#fdca26\"],[1.0,\"#f0f921\"]]}],\"surface\":[{\"type\":\"surface\",\"colorbar\":{\"outlinewidth\":0,\"ticks\":\"\"},\"colorscale\":[[0.0,\"#0d0887\"],[0.1111111111111111,\"#46039f\"],[0.2222222222222222,\"#7201a8\"],[0.3333333333333333,\"#9c179e\"],[0.4444444444444444,\"#bd3786\"],[0.5555555555555556,\"#d8576b\"],[0.6666666666666666,\"#ed7953\"],[0.7777777777777778,\"#fb9f3a\"],[0.8888888888888888,\"#fdca26\"],[1.0,\"#f0f921\"]]}],\"mesh3d\":[{\"type\":\"mesh3d\",\"colorbar\":{\"outlinewidth\":0,\"ticks\":\"\"}}],\"scatter\":[{\"marker\":{\"line\":{\"color\":\"#283442\"}},\"type\":\"scatter\"}],\"parcoords\":[{\"type\":\"parcoords\",\"line\":{\"colorbar\":{\"outlinewidth\":0,\"ticks\":\"\"}}}],\"scatterpolargl\":[{\"type\":\"scatterpolargl\",\"marker\":{\"colorbar\":{\"outlinewidth\":0,\"ticks\":\"\"}}}],\"bar\":[{\"error_x\":{\"color\":\"#f2f5fa\"},\"error_y\":{\"color\":\"#f2f5fa\"},\"marker\":{\"line\":{\"color\":\"rgb(17,17,17)\",\"width\":0.5},\"pattern\":{\"fillmode\":\"overlay\",\"size\":10,\"solidity\":0.2}},\"type\":\"bar\"}],\"scattergeo\":[{\"type\":\"scattergeo\",\"marker\":{\"colorbar\":{\"outlinewidth\":0,\"ticks\":\"\"}}}],\"scatterpolar\":[{\"type\":\"scatterpolar\",\"marker\":{\"colorbar\":{\"outlinewidth\":0,\"ticks\":\"\"}}}],\"histogram\":[{\"marker\":{\"pattern\":{\"fillmode\":\"overlay\",\"size\":10,\"solidity\":0.2}},\"type\":\"histogram\"}],\"scattergl\":[{\"marker\":{\"line\":{\"color\":\"#283442\"}},\"type\":\"scattergl\"}],\"scatter3d\":[{\"type\":\"scatter3d\",\"line\":{\"colorbar\":{\"outlinewidth\":0,\"ticks\":\"\"}},\"marker\":{\"colorbar\":{\"outlinewidth\":0,\"ticks\":\"\"}}}],\"scattermapbox\":[{\"type\":\"scattermapbox\",\"marker\":{\"colorbar\":{\"outlinewidth\":0,\"ticks\":\"\"}}}],\"scatterternary\":[{\"type\":\"scatterternary\",\"marker\":{\"colorbar\":{\"outlinewidth\":0,\"ticks\":\"\"}}}],\"scattercarpet\":[{\"type\":\"scattercarpet\",\"marker\":{\"colorbar\":{\"outlinewidth\":0,\"ticks\":\"\"}}}],\"carpet\":[{\"aaxis\":{\"endlinecolor\":\"#A2B1C6\",\"gridcolor\":\"#506784\",\"linecolor\":\"#506784\",\"minorgridcolor\":\"#506784\",\"startlinecolor\":\"#A2B1C6\"},\"baxis\":{\"endlinecolor\":\"#A2B1C6\",\"gridcolor\":\"#506784\",\"linecolor\":\"#506784\",\"minorgridcolor\":\"#506784\",\"startlinecolor\":\"#A2B1C6\"},\"type\":\"carpet\"}],\"table\":[{\"cells\":{\"fill\":{\"color\":\"#506784\"},\"line\":{\"color\":\"rgb(17,17,17)\"}},\"header\":{\"fill\":{\"color\":\"#2a3f5f\"},\"line\":{\"color\":\"rgb(17,17,17)\"}},\"type\":\"table\"}],\"barpolar\":[{\"marker\":{\"line\":{\"color\":\"rgb(17,17,17)\",\"width\":0.5},\"pattern\":{\"fillmode\":\"overlay\",\"size\":10,\"solidity\":0.2}},\"type\":\"barpolar\"}],\"pie\":[{\"automargin\":true,\"type\":\"pie\"}]},\"layout\":{\"autotypenumbers\":\"strict\",\"colorway\":[\"#636efa\",\"#EF553B\",\"#00cc96\",\"#ab63fa\",\"#FFA15A\",\"#19d3f3\",\"#FF6692\",\"#B6E880\",\"#FF97FF\",\"#FECB52\"],\"font\":{\"color\":\"#f2f5fa\"},\"hovermode\":\"closest\",\"hoverlabel\":{\"align\":\"left\"},\"paper_bgcolor\":\"rgb(17,17,17)\",\"plot_bgcolor\":\"rgb(17,17,17)\",\"polar\":{\"bgcolor\":\"rgb(17,17,17)\",\"angularaxis\":{\"gridcolor\":\"#506784\",\"linecolor\":\"#506784\",\"ticks\":\"\"},\"radialaxis\":{\"gridcolor\":\"#506784\",\"linecolor\":\"#506784\",\"ticks\":\"\"}},\"ternary\":{\"bgcolor\":\"rgb(17,17,17)\",\"aaxis\":{\"gridcolor\":\"#506784\",\"linecolor\":\"#506784\",\"ticks\":\"\"},\"baxis\":{\"gridcolor\":\"#506784\",\"linecolor\":\"#506784\",\"ticks\":\"\"},\"caxis\":{\"gridcolor\":\"#506784\",\"linecolor\":\"#506784\",\"ticks\":\"\"}},\"coloraxis\":{\"colorbar\":{\"outlinewidth\":0,\"ticks\":\"\"}},\"colorscale\":{\"sequential\":[[0.0,\"#0d0887\"],[0.1111111111111111,\"#46039f\"],[0.2222222222222222,\"#7201a8\"],[0.3333333333333333,\"#9c179e\"],[0.4444444444444444,\"#bd3786\"],[0.5555555555555556,\"#d8576b\"],[0.6666666666666666,\"#ed7953\"],[0.7777777777777778,\"#fb9f3a\"],[0.8888888888888888,\"#fdca26\"],[1.0,\"#f0f921\"]],\"sequentialminus\":[[0.0,\"#0d0887\"],[0.1111111111111111,\"#46039f\"],[0.2222222222222222,\"#7201a8\"],[0.3333333333333333,\"#9c179e\"],[0.4444444444444444,\"#bd3786\"],[0.5555555555555556,\"#d8576b\"],[0.6666666666666666,\"#ed7953\"],[0.7777777777777778,\"#fb9f3a\"],[0.8888888888888888,\"#fdca26\"],[1.0,\"#f0f921\"]],\"diverging\":[[0,\"#8e0152\"],[0.1,\"#c51b7d\"],[0.2,\"#de77ae\"],[0.3,\"#f1b6da\"],[0.4,\"#fde0ef\"],[0.5,\"#f7f7f7\"],[0.6,\"#e6f5d0\"],[0.7,\"#b8e186\"],[0.8,\"#7fbc41\"],[0.9,\"#4d9221\"],[1,\"#276419\"]]},\"xaxis\":{\"gridcolor\":\"#283442\",\"linecolor\":\"#506784\",\"ticks\":\"\",\"title\":{\"standoff\":15},\"zerolinecolor\":\"#283442\",\"automargin\":true,\"zerolinewidth\":2},\"yaxis\":{\"gridcolor\":\"#283442\",\"linecolor\":\"#506784\",\"ticks\":\"\",\"title\":{\"standoff\":15},\"zerolinecolor\":\"#283442\",\"automargin\":true,\"zerolinewidth\":2},\"scene\":{\"xaxis\":{\"backgroundcolor\":\"rgb(17,17,17)\",\"gridcolor\":\"#506784\",\"linecolor\":\"#506784\",\"showbackground\":true,\"ticks\":\"\",\"zerolinecolor\":\"#C8D4E3\",\"gridwidth\":2},\"yaxis\":{\"backgroundcolor\":\"rgb(17,17,17)\",\"gridcolor\":\"#506784\",\"linecolor\":\"#506784\",\"showbackground\":true,\"ticks\":\"\",\"zerolinecolor\":\"#C8D4E3\",\"gridwidth\":2},\"zaxis\":{\"backgroundcolor\":\"rgb(17,17,17)\",\"gridcolor\":\"#506784\",\"linecolor\":\"#506784\",\"showbackground\":true,\"ticks\":\"\",\"zerolinecolor\":\"#C8D4E3\",\"gridwidth\":2}},\"shapedefaults\":{\"line\":{\"color\":\"#f2f5fa\"}},\"annotationdefaults\":{\"arrowcolor\":\"#f2f5fa\",\"arrowhead\":0,\"arrowwidth\":1},\"geo\":{\"bgcolor\":\"rgb(17,17,17)\",\"landcolor\":\"rgb(17,17,17)\",\"subunitcolor\":\"#506784\",\"showland\":true,\"showlakes\":true,\"lakecolor\":\"rgb(17,17,17)\"},\"title\":{\"x\":0.05},\"updatemenudefaults\":{\"bgcolor\":\"#506784\",\"borderwidth\":0},\"sliderdefaults\":{\"bgcolor\":\"#C8D4E3\",\"borderwidth\":1,\"bordercolor\":\"rgb(17,17,17)\",\"tickwidth\":0},\"mapbox\":{\"style\":\"dark\"}}},\"xaxis\":{\"anchor\":\"y\",\"domain\":[0.0,1.0],\"title\":{\"text\":\"x\"}},\"yaxis\":{\"anchor\":\"x\",\"domain\":[0.0,1.0],\"title\":{\"text\":\"y\"}},\"legend\":{\"title\":{\"text\":\"Topic\"},\"tracegroupgap\":0},\"title\":{\"text\":\"Songs in 2D Space by Topic\"}},                        {\"responsive\": true}                    ).then(function(){\n                            \nvar gd = document.getElementById('d95aa995-4e14-4c89-8dc4-1a7551faa774');\nvar x = new MutationObserver(function (mutations, observer) {{\n        var display = window.getComputedStyle(gd).display;\n        if (!display || display === 'none') {{\n            console.log([gd, 'removed!']);\n            Plotly.purge(gd);\n            observer.disconnect();\n        }}\n}});\n\n// Listen for the removal of the full notebook cells\nvar notebookContainer = gd.closest('#notebook-container');\nif (notebookContainer) {{\n    x.observe(notebookContainer, {childList: true});\n}}\n\n// Listen for the clearing of the current output cell\nvar outputEl = gd.closest('.output');\nif (outputEl) {{\n    x.observe(outputEl, {childList: true});\n}}\n\n                        })                };                });            </script>        </div>"
     },
     "metadata": {},
     "output_type": "display_data"
    }
   ],
   "source": [
    "import plotly.express as px\n",
    "\n",
    "fig = px.scatter(\n",
    "    filtered_df,\n",
    "    x=document_tsne_results[:, 0],\n",
    "    y=document_tsne_results[:, 1],\n",
    "    color=filtered_df['Topic Model'].astype(str),  # Convert topics to string for coloring\n",
    "    hover_data=['Song', 'Artist'],  # Assuming these columns exist in _df\n",
    "    title=\"Songs in 2D Space by Topic\",\n",
    "    labels={\"color\": \"Topic\"}\n",
    ")\n",
    "\n",
    "fig.update_traces(marker=dict(size=10, line=dict(width=1, color='DarkSlateGrey')))\n",
    "fig.show()\n"
   ],
   "metadata": {
    "collapsed": false,
    "ExecuteTime": {
     "end_time": "2024-05-03T14:00:49.542525Z",
     "start_time": "2024-05-03T14:00:49.410701Z"
    }
   },
   "id": "2cd80a83f1917b20"
  },
  {
   "cell_type": "code",
   "execution_count": null,
   "outputs": [],
   "source": [],
   "metadata": {
    "collapsed": false
   },
   "id": "2590a4aa5af031a0"
  }
 ],
 "metadata": {
  "kernelspec": {
   "display_name": "Python 3",
   "language": "python",
   "name": "python3"
  },
  "language_info": {
   "codemirror_mode": {
    "name": "ipython",
    "version": 2
   },
   "file_extension": ".py",
   "mimetype": "text/x-python",
   "name": "python",
   "nbconvert_exporter": "python",
   "pygments_lexer": "ipython2",
   "version": "2.7.6"
  }
 },
 "nbformat": 4,
 "nbformat_minor": 5
}
