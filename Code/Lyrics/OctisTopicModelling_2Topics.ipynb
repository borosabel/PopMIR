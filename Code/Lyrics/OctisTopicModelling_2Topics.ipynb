{
 "cells": [
  {
   "cell_type": "code",
   "source": [
    "import string\n",
    "import spacy\n",
    "spacy_nlp = spacy.load(\"en_core_web_sm\")\n",
    "import numpy as np\n",
    "from spacy.lang.en.stop_words import STOP_WORDS\n",
    "import utility_functions as utils\n",
    "import importlib\n",
    "import pandas as pd\n",
    "import matplotlib.pyplot as plt\n",
    "\n",
    "# Octis is the library which can use different implemented topic modelling techniques\n",
    "from octis.preprocessing.preprocessing import Preprocessing\n",
    "from octis.evaluation_metrics.coherence_metrics import Coherence\n",
    "from octis.evaluation_metrics.diversity_metrics import TopicDiversity\n",
    "from octis.models.CTM import CTM\n",
    "\n",
    "importlib.reload(utils)\n",
    "\n",
    "data = '/Users/borosabel/Documents/Uni/Thesis/PopMIR/Data/Audio/test.json'\n",
    "\n",
    "custom_stop_words = list(STOP_WORDS)  # Existing stop words\n",
    "custom_stop_words.extend([\"ll\", \"ve\", \"'em\", \"em\", \"ho\", \"fo\", \"ah\", \"de\"])  # Tokens which doesn't really make sense to have them."
   ],
   "metadata": {
    "collapsed": false,
    "ExecuteTime": {
     "end_time": "2024-10-13T12:45:15.391813Z",
     "start_time": "2024-10-13T12:45:14.785360Z"
    }
   },
   "id": "b6f14235403a4958",
   "execution_count": 2,
   "outputs": []
  },
  {
   "cell_type": "code",
   "source": [
    "df = pd.read_excel('/Users/borosabel/Documents/Uni/Thesis/PopMIR/Data/Excel/baseline_data.xlsx', engine='openpyxl')"
   ],
   "metadata": {
    "collapsed": false,
    "ExecuteTime": {
     "end_time": "2024-10-13T12:45:15.790588Z",
     "start_time": "2024-10-13T12:45:15.542378Z"
    }
   },
   "id": "a7b79420c1bc27c3",
   "execution_count": 3,
   "outputs": []
  },
  {
   "cell_type": "code",
   "source": [
    "df['Lyrics'] = df['Lyrics'].apply(utils.cleanup)"
   ],
   "metadata": {
    "collapsed": false,
    "ExecuteTime": {
     "end_time": "2024-10-13T12:47:20.646793Z",
     "start_time": "2024-10-13T12:45:15.818859Z"
    }
   },
   "id": "a1e9676ce91637d5",
   "execution_count": 4,
   "outputs": []
  },
  {
   "cell_type": "code",
   "source": [
    "with open('corpus.tsv', 'w', encoding='utf-8') as file:\n",
    "    for lyrics in df['Lyrics']:\n",
    "        if pd.notna(lyrics):\n",
    "            file.write(lyrics + '\\n')"
   ],
   "metadata": {
    "collapsed": false,
    "ExecuteTime": {
     "end_time": "2024-10-13T12:47:20.655551Z",
     "start_time": "2024-10-13T12:47:20.648385Z"
    }
   },
   "id": "b3ffa58cb535ef35",
   "execution_count": 5,
   "outputs": []
  },
  {
   "cell_type": "code",
   "source": [
    "# Initialize preprocessing\n",
    "preprocessor = Preprocessing(\n",
    "    vocabulary=None,\n",
    "    max_features=None,\n",
    "    remove_punctuation=True,\n",
    "    punctuation=string.punctuation,\n",
    "    lemmatize=True,\n",
    "    stopword_list=custom_stop_words,\n",
    "    min_chars=2,\n",
    "    min_words_docs=0,\n",
    "    save_original_indexes=True,\n",
    "    min_df=0.05, # a term must appear in at least 5% of the documents; otherwise, it will be discarded.\n",
    "    max_df=0.8, # a term appearing in more than 80% of the documents will be discarded, as it might be too common and potentially less informative.\n",
    "    split=False # We don't want train, validation and test split\n",
    ")\n",
    "\n",
    "dataset = preprocessor.preprocess_dataset(documents_path=\"/Users/borosabel/Documents/Uni/Thesis/PopMIR/Code/Lyrics/octis_dataset/corpus.tsv\")"
   ],
   "metadata": {
    "collapsed": false,
    "ExecuteTime": {
     "end_time": "2024-10-13T12:49:23.223109Z",
     "start_time": "2024-10-13T12:47:20.656183Z"
    }
   },
   "id": "c76ddb5f1dc48013",
   "execution_count": 6,
   "outputs": []
  },
  {
   "cell_type": "markdown",
   "source": [
    "<b>As you can see there are 658 unique words in the vocabulary</b>"
   ],
   "metadata": {
    "collapsed": false
   },
   "id": "8665ca5152e0f35f"
  },
  {
   "cell_type": "code",
   "execution_count": 23,
   "source": [
    "# I save the dataset because it exports a file called indexes.txt. It is important because during the preprocessing steps the preprocessor\n",
    "# can get rid of a few documents if they don't have enough words or maybe they are too short. (For example intro files).\n",
    "# I can load the indexes.txt file and use it as a list of indexes and apply it on the original dataframe so I don't have size mismatch.\n",
    "dataset.save('./')"
   ],
   "metadata": {
    "collapsed": false,
    "ExecuteTime": {
     "end_time": "2024-05-19T12:19:53.543750Z",
     "start_time": "2024-05-19T12:19:53.498908Z"
    }
   },
   "id": "383df33da500216c",
   "outputs": []
  },
  {
   "cell_type": "code",
   "execution_count": 16,
   "source": [
    "import pandas as pd\n",
    "import seaborn as sns\n",
    "import matplotlib.pyplot as plt\n",
    "\n",
    "best_coherence = -1\n",
    "best_diversity = -1\n",
    "best_params = {}\n",
    "\n",
    "topic_nums = [2, 3, 4, 5, 10, 15]\n",
    "epoch_nums = [100, 200, 300]\n",
    "\n",
    "results = []\n",
    "\n",
    "for num_topics in topic_nums:\n",
    "    for num_epochs in epoch_nums:\n",
    "        model = CTM(num_topics=num_topics, inference_type=\"combined\", num_epochs=num_epochs, use_partitions=False, bert_model=\"bert-base-nli-mean-tokens\")\n",
    "        model_output = model.train_model(dataset)\n",
    "\n",
    "        # Coherence\n",
    "        coherence = Coherence(texts=dataset.get_corpus(), topk=10)\n",
    "        coherence_score = coherence.score(model_output)\n",
    "\n",
    "        # Topic Diversity\n",
    "        diversity = TopicDiversity(topk=10)\n",
    "        diversity_score = diversity.score(model_output)\n",
    "\n",
    "        # Collect results for plotting and evaluation\n",
    "        results.append({\n",
    "            'num_topics': num_topics,\n",
    "            'num_epochs': num_epochs,\n",
    "            'coherence': coherence_score,\n",
    "            'diversity': diversity_score\n",
    "        })\n",
    "\n",
    "        # Update best model conditions\n",
    "        if coherence_score > best_coherence and diversity_score > best_diversity:\n",
    "            best_coherence = coherence_score\n",
    "            best_diversity = diversity_score\n",
    "            best_params = {'num_topics': num_topics, 'num_epochs': num_epochs}\n",
    "\n",
    "print(f\"Best Coherence: {best_coherence}\")\n",
    "print(f\"Best Diversity: {best_diversity}\")\n",
    "print(f\"Best Parameters: {best_params}\")\n",
    "\n",
    "# Plotting results\n",
    "results_df = pd.DataFrame(results)\n",
    "plt.figure(figsize=(16, 6))\n",
    "sns.lineplot(data=results_df, x='num_topics', y='coherence', hue='num_epochs', marker='o', label='Coherence')\n",
    "sns.lineplot(data=results_df, x='num_topics', y='diversity', hue='num_epochs', marker='o', label='Diversity')\n",
    "plt.title('Coherence and Diversity by Topics and Epochs')\n",
    "plt.xlabel('Number of Topics')\n",
    "plt.ylabel('Score')\n",
    "plt.legend()\n",
    "plt.grid(True)\n",
    "plt.show()"
   ],
   "metadata": {
    "collapsed": false,
    "ExecuteTime": {
     "end_time": "2024-05-19T10:54:28.136850Z",
     "start_time": "2024-05-19T10:47:55.105084Z"
    }
   },
   "id": "a2d5efab6d1b0429",
   "outputs": []
  },
  {
   "cell_type": "code",
   "execution_count": 17,
   "source": [
    "results"
   ],
   "metadata": {
    "collapsed": false,
    "ExecuteTime": {
     "end_time": "2024-05-19T10:55:06.655968Z",
     "start_time": "2024-05-19T10:55:06.560125Z"
    }
   },
   "id": "7bbba0429ce2d208",
   "outputs": []
  },
  {
   "cell_type": "code",
   "execution_count": 10,
   "source": [
    "model = CTM(num_topics=best_params['num_topics'], inference_type=\"combined\", num_epochs=best_params['num_epochs'], use_partitions=False, bert_model=\"bert-base-nli-mean-tokens\")\n",
    "model_output = model.train_model(dataset)"
   ],
   "metadata": {
    "collapsed": false,
    "ExecuteTime": {
     "end_time": "2024-05-10T16:51:22.509328Z",
     "start_time": "2024-05-10T16:50:56.618108Z"
    }
   },
   "id": "49a3f68ea6fd3586",
   "outputs": []
  },
  {
   "cell_type": "code",
   "execution_count": 28,
   "source": [
    "model = CTM(num_topics=3, inference_type=\"combined\", num_epochs=100, use_partitions=False, bert_model=\"bert-base-nli-mean-tokens\")\n",
    "model_output = model.train_model(dataset)"
   ],
   "metadata": {
    "collapsed": false,
    "ExecuteTime": {
     "end_time": "2024-05-19T12:32:55.011841Z",
     "start_time": "2024-05-19T12:32:45.427978Z"
    }
   },
   "id": "75195705449e3b81",
   "outputs": []
  },
  {
   "cell_type": "code",
   "execution_count": 29,
   "source": [
    "np.array(model_output['topics'])"
   ],
   "metadata": {
    "collapsed": false,
    "ExecuteTime": {
     "end_time": "2024-05-19T12:32:55.018777Z",
     "start_time": "2024-05-19T12:32:55.013751Z"
    }
   },
   "id": "26e401542bf20092",
   "outputs": []
  },
  {
   "cell_type": "code",
   "execution_count": 11,
   "source": [
    "model_output['topics'][0] # Vulgarity"
   ],
   "metadata": {
    "collapsed": false,
    "ExecuteTime": {
     "end_time": "2024-05-10T16:51:24.937760Z",
     "start_time": "2024-05-10T16:51:24.927956Z"
    }
   },
   "id": "f2a204d8fd0b2fa8",
   "outputs": []
  },
  {
   "cell_type": "code",
   "execution_count": 12,
   "source": [
    "model_output['topics'][1]"
   ],
   "metadata": {
    "collapsed": false,
    "ExecuteTime": {
     "end_time": "2024-05-10T16:51:25.254928Z",
     "start_time": "2024-05-10T16:51:25.244396Z"
    }
   },
   "id": "b2550f1fdef5fe94",
   "outputs": []
  },
  {
   "cell_type": "code",
   "execution_count": 13,
   "source": [
    "# model_output['topics'][2] # Romance"
   ],
   "metadata": {
    "collapsed": false,
    "ExecuteTime": {
     "end_time": "2024-05-10T16:51:32.920493Z",
     "start_time": "2024-05-10T16:51:32.871003Z"
    }
   },
   "id": "ba1dda54ae4808b9",
   "outputs": []
  },
  {
   "cell_type": "code",
   "execution_count": 14,
   "source": [
    "# model_output['topics'][3] # Music"
   ],
   "metadata": {
    "collapsed": false,
    "ExecuteTime": {
     "end_time": "2024-05-10T16:51:33.731656Z",
     "start_time": "2024-05-10T16:51:33.682279Z"
    }
   },
   "id": "9ed42c081249c24",
   "outputs": []
  },
  {
   "cell_type": "code",
   "execution_count": 15,
   "source": [
    "# model_output['topics'][4] # Day, Street-Life, Struggle"
   ],
   "metadata": {
    "collapsed": false,
    "ExecuteTime": {
     "end_time": "2024-05-10T16:51:34.750622Z",
     "start_time": "2024-05-10T16:51:34.702263Z"
    }
   },
   "id": "3ca8d4b45dccc3f",
   "outputs": []
  },
  {
   "cell_type": "code",
   "execution_count": 16,
   "source": [
    "coherence = Coherence(texts=dataset.get_corpus(), topk=10)  # Adjust 'topk' as needed\n",
    "\n",
    "# Setting up Diversity Metric\n",
    "topic_diversity = TopicDiversity(topk=10)\n",
    "\n",
    "# Calculate Metrics\n",
    "coherence_score = coherence.score(model_output)\n",
    "diversity_score = topic_diversity.score(model_output)\n",
    "\n",
    "print(\"Coherence Score:\", coherence_score)\n",
    "print(\"Diversity Score:\", diversity_score)"
   ],
   "metadata": {
    "collapsed": false,
    "ExecuteTime": {
     "end_time": "2024-05-10T16:51:37.877249Z",
     "start_time": "2024-05-10T16:51:37.141730Z"
    }
   },
   "id": "688ded37e1fdb1b7",
   "outputs": []
  },
  {
   "cell_type": "markdown",
   "source": [
    "<b>Let's check which document belongs mostly to which topic</b>"
   ],
   "metadata": {
    "collapsed": false
   },
   "id": "ff87aba29b30742e"
  },
  {
   "cell_type": "code",
   "execution_count": 17,
   "source": [
    "model_output['topic-document-matrix']"
   ],
   "metadata": {
    "collapsed": false,
    "ExecuteTime": {
     "end_time": "2024-05-10T16:51:39.209840Z",
     "start_time": "2024-05-10T16:51:39.204426Z"
    }
   },
   "id": "fccf9954abf5eba4",
   "outputs": []
  },
  {
   "cell_type": "code",
   "execution_count": 18,
   "source": [
    "# We decide on the topic based on the maximum probability of the topic.\n",
    "dominant_topic_indices = np.argmax(model_output['topic-document-matrix'], axis=0)"
   ],
   "metadata": {
    "collapsed": false,
    "ExecuteTime": {
     "end_time": "2024-05-10T16:51:44.164464Z",
     "start_time": "2024-05-10T16:51:44.146299Z"
    }
   },
   "id": "94b25466d479dc04",
   "outputs": []
  },
  {
   "cell_type": "code",
   "execution_count": 19,
   "source": [
    "# Every row is a document and the colum shows which is the most probable topic index.\n",
    "dominant_topic_indices"
   ],
   "metadata": {
    "collapsed": false,
    "ExecuteTime": {
     "end_time": "2024-05-10T16:51:44.804913Z",
     "start_time": "2024-05-10T16:51:44.792010Z"
    }
   },
   "id": "b9bdcfa289c79d49",
   "outputs": []
  },
  {
   "cell_type": "code",
   "execution_count": 20,
   "source": [
    "# We load the previously saved indexes file because in this way we can filter the documents by index. Some documents may not included in the analysis due to the preprocessing steps\n",
    "file_path = 'indexes.txt'\n",
    "\n",
    "# Read the file and convert each line to an integer\n",
    "with open(file_path, 'r') as file:\n",
    "    indices = [int(line.strip()) for line in file]"
   ],
   "metadata": {
    "collapsed": false,
    "ExecuteTime": {
     "end_time": "2024-05-10T16:51:47.527803Z",
     "start_time": "2024-05-10T16:51:47.507628Z"
    }
   },
   "id": "6bae65f55be8bd38",
   "outputs": []
  },
  {
   "cell_type": "code",
   "execution_count": 21,
   "source": [
    "# We have 1368 rows in the original dataset\n",
    "df"
   ],
   "metadata": {
    "collapsed": false,
    "ExecuteTime": {
     "end_time": "2024-05-10T16:51:47.993205Z",
     "start_time": "2024-05-10T16:51:47.979333Z"
    }
   },
   "id": "80e61a505b1c67e7",
   "outputs": []
  },
  {
   "cell_type": "code",
   "execution_count": 22,
   "source": [
    "filtered_df = df.iloc[indices]"
   ],
   "metadata": {
    "collapsed": false,
    "ExecuteTime": {
     "end_time": "2024-05-10T16:51:48.499065Z",
     "start_time": "2024-05-10T16:51:48.488636Z"
    }
   },
   "id": "eb337912882ea1fd",
   "outputs": []
  },
  {
   "cell_type": "code",
   "execution_count": 23,
   "source": [
    "filtered_df"
   ],
   "metadata": {
    "collapsed": false,
    "ExecuteTime": {
     "end_time": "2024-05-10T16:51:48.924468Z",
     "start_time": "2024-05-10T16:51:48.914842Z"
    }
   },
   "id": "cdfd95372ecd01c3",
   "outputs": []
  },
  {
   "cell_type": "code",
   "execution_count": 24,
   "source": [
    "# This is just to make sure that in the filtered dataframe we have the same ammount of songs than in the preprocessed dataset.\n",
    "filtered_df.shape[0] == dominant_topic_indices.shape[0]"
   ],
   "metadata": {
    "collapsed": false,
    "ExecuteTime": {
     "end_time": "2024-05-10T16:51:49.218902Z",
     "start_time": "2024-05-10T16:51:49.206860Z"
    }
   },
   "id": "40efe416f3b60be2",
   "outputs": []
  },
  {
   "cell_type": "code",
   "execution_count": 25,
   "source": [
    "filtered_df['Topic Model'] = dominant_topic_indices"
   ],
   "metadata": {
    "collapsed": false,
    "ExecuteTime": {
     "end_time": "2024-05-10T16:51:49.834233Z",
     "start_time": "2024-05-10T16:51:49.823001Z"
    }
   },
   "id": "80772513b62840b6",
   "outputs": []
  },
  {
   "cell_type": "code",
   "execution_count": 26,
   "source": [
    "filtered_df.head()"
   ],
   "metadata": {
    "collapsed": false,
    "ExecuteTime": {
     "end_time": "2024-05-10T16:51:50.740204Z",
     "start_time": "2024-05-10T16:51:50.724982Z"
    }
   },
   "id": "c8d794249511269c",
   "outputs": []
  },
  {
   "cell_type": "code",
   "execution_count": 27,
   "source": [
    "# Save the data:\n",
    "# filtered_df.to_excel(\"baseline_data_w_topics.xlsx\", sheet_name=\"Sheet1\", index=False)"
   ],
   "metadata": {
    "collapsed": false,
    "ExecuteTime": {
     "end_time": "2024-05-10T16:52:00.535741Z",
     "start_time": "2024-05-10T16:52:00.502218Z"
    }
   },
   "id": "e7ddf1b7d10485d6",
   "outputs": []
  },
  {
   "cell_type": "markdown",
   "source": [
    "<b>Check The Topic Distribution</b>"
   ],
   "metadata": {
    "collapsed": false
   },
   "id": "caaf8381db32fc92"
  },
  {
   "cell_type": "code",
   "execution_count": 28,
   "source": [
    "topic_coast_distribution = pd.crosstab(filtered_df['Topic Model'], filtered_df['Coast'])\n",
    "print(topic_coast_distribution)"
   ],
   "metadata": {
    "collapsed": false,
    "ExecuteTime": {
     "end_time": "2024-05-10T16:52:08.054919Z",
     "start_time": "2024-05-10T16:52:08.038261Z"
    }
   },
   "id": "8253a9dc4fa01559",
   "outputs": []
  },
  {
   "cell_type": "code",
   "execution_count": 29,
   "source": [
    "# Normalization of the topic distribution over the entire dataset\n",
    "total_songs = topic_coast_distribution.sum().sum()\n",
    "topic_coast_distribution_normalized = topic_coast_distribution / total_songs"
   ],
   "metadata": {
    "collapsed": false,
    "ExecuteTime": {
     "end_time": "2024-05-10T16:52:13.434836Z",
     "start_time": "2024-05-10T16:52:13.417540Z"
    }
   },
   "id": "de98c2669453ba7b",
   "outputs": []
  },
  {
   "cell_type": "markdown",
   "source": [
    "Here we can see that one of the topic's large contributors are the west coast songs.\n",
    "Also there should be a topic where the east coast contribution is larger than the west coast contribution.\n",
    "The other "
   ],
   "metadata": {
    "collapsed": false
   },
   "id": "e1afbbe5320979b7"
  },
  {
   "cell_type": "code",
   "execution_count": 30,
   "source": [
    "colors = ['blue', 'red']\n",
    "ax = (topic_coast_distribution_normalized * 100).plot(kind='bar', figsize=(10, 6), color=colors)\n",
    "plt.title('Proportional Contribution of Each Coast to Topics (Global Normalization)')\n",
    "plt.xlabel('Dominant Topic')\n",
    "plt.ylabel('Percentage of Total Songs')\n",
    "plt.xticks(rotation=0)\n",
    "plt.legend(title='Coast')\n",
    "\n",
    "# Adding percentage labels\n",
    "for p in ax.patches:\n",
    "    width = p.get_width()\n",
    "    height = p.get_height()\n",
    "    x, y = p.get_xy()\n",
    "    if height > 0:  # Only add annotations for non-zero values\n",
    "        ax.annotate(f'{height:.2f}%', (x + width/2, y + height*0.5), ha='center')\n",
    "\n",
    "plt.show()"
   ],
   "metadata": {
    "collapsed": false,
    "ExecuteTime": {
     "end_time": "2024-05-10T16:52:27.888703Z",
     "start_time": "2024-05-10T16:52:27.692183Z"
    }
   },
   "id": "510613ff828f8ebc",
   "outputs": []
  },
  {
   "cell_type": "markdown",
   "source": [
    "<b>Let's check the characteristics of the two topics which has huge differences between the coast distributions.</b>"
   ],
   "metadata": {
    "collapsed": false
   },
   "id": "42686a16f9aaffe5"
  },
  {
   "cell_type": "code",
   "execution_count": 41,
   "source": [
    "topic2_df = filtered_df[filtered_df['Topic Model'] == 0]\n",
    "topic4_df = filtered_df[filtered_df['Topic Model'] == 1]"
   ],
   "metadata": {
    "collapsed": false,
    "ExecuteTime": {
     "end_time": "2024-05-05T21:33:33.630727Z",
     "start_time": "2024-05-05T21:33:33.572381Z"
    }
   },
   "id": "e99d2907e6ada52c",
   "outputs": []
  },
  {
   "cell_type": "markdown",
   "source": [
    "<b>Vulgarity/Bad Words Topic</b>"
   ],
   "metadata": {
    "collapsed": false
   },
   "id": "d44bb8fceb3560c6"
  },
  {
   "cell_type": "code",
   "execution_count": 42,
   "source": [
    "topic2_artists = topic2_df[['Artist', 'Coast']]"
   ],
   "metadata": {
    "collapsed": false,
    "ExecuteTime": {
     "end_time": "2024-05-05T21:33:35.112534Z",
     "start_time": "2024-05-05T21:33:35.098126Z"
    }
   },
   "id": "4726b203d21e812a",
   "outputs": []
  },
  {
   "cell_type": "code",
   "execution_count": 43,
   "source": [
    "topic2_artist_topic_distribution = pd.crosstab(topic2_artists['Artist'], topic2_artists['Coast'])\n",
    "print(topic2_artist_topic_distribution)"
   ],
   "metadata": {
    "collapsed": false,
    "ExecuteTime": {
     "end_time": "2024-05-05T21:33:36.207212Z",
     "start_time": "2024-05-05T21:33:36.184192Z"
    }
   },
   "id": "65f9ffd055d80a5e",
   "outputs": []
  },
  {
   "cell_type": "code",
   "execution_count": 44,
   "source": [
    "total_songs_in_topic2 = topic2_artist_topic_distribution.sum().sum()\n",
    "topic2_coast_distribution_normalized = topic2_artist_topic_distribution / total_songs_in_topic2"
   ],
   "metadata": {
    "collapsed": false,
    "ExecuteTime": {
     "end_time": "2024-05-05T21:33:37.510463Z",
     "start_time": "2024-05-05T21:33:37.485946Z"
    }
   },
   "id": "2fe6d9bb197a2cd2",
   "outputs": []
  },
  {
   "cell_type": "markdown",
   "source": [
    "<b>Here we can see that the biggest contributor artists to this topic is Ice Cube, Too Short, Eazy-E</b>"
   ],
   "metadata": {
    "collapsed": false
   },
   "id": "2ebbf7502cf16fad"
  },
  {
   "cell_type": "code",
   "execution_count": 45,
   "source": [
    "colors = ['blue', 'red']\n",
    "ax = (topic2_coast_distribution_normalized * 100).plot(kind='bar', figsize=(16, 6), color=colors)\n",
    "plt.title('Proportional Contribution of Artists to The Current Topic')\n",
    "plt.xlabel('Artist')\n",
    "plt.ylabel('Percentage of Contribution')\n",
    "plt.xticks(rotation=90)\n",
    "plt.legend(title='Coast')\n",
    "\n",
    "# Adding percentage labels\n",
    "for p in ax.patches:\n",
    "    width = p.get_width()\n",
    "    height = p.get_height()\n",
    "    x, y = p.get_xy()\n",
    "    if height > 0:  # Only add annotations for non-zero values\n",
    "        ax.annotate(f'{height:.2f}%', (x + width/2, y + height*0.5), ha='center')\n",
    "\n",
    "plt.show()"
   ],
   "metadata": {
    "collapsed": false,
    "ExecuteTime": {
     "end_time": "2024-05-05T21:33:40.465685Z",
     "start_time": "2024-05-05T21:33:40.182Z"
    }
   },
   "id": "dafdb30731b8c3f7",
   "outputs": []
  },
  {
   "cell_type": "code",
   "execution_count": 46,
   "source": [
    "topic4_artists = topic4_df[['Artist', 'Coast']]"
   ],
   "metadata": {
    "collapsed": false,
    "ExecuteTime": {
     "end_time": "2024-05-05T21:33:53.037949Z",
     "start_time": "2024-05-05T21:33:53.018271Z"
    }
   },
   "id": "a96b60b27c0c1e28",
   "outputs": []
  },
  {
   "cell_type": "code",
   "execution_count": 47,
   "source": [
    "topic4_artist_topic_distribution = pd.crosstab(topic4_artists['Artist'], topic4_artists['Coast'])\n",
    "print(topic4_artist_topic_distribution)"
   ],
   "metadata": {
    "collapsed": false,
    "ExecuteTime": {
     "end_time": "2024-05-05T21:33:53.477372Z",
     "start_time": "2024-05-05T21:33:53.455568Z"
    }
   },
   "id": "42e362536be20532",
   "outputs": []
  },
  {
   "cell_type": "code",
   "execution_count": 48,
   "source": [
    "total_songs_in_topic4 = topic4_artist_topic_distribution.sum().sum()\n",
    "topic4_coast_distribution_normalized = topic4_artist_topic_distribution / total_songs_in_topic4"
   ],
   "metadata": {
    "collapsed": false,
    "ExecuteTime": {
     "end_time": "2024-05-05T21:33:54.364905Z",
     "start_time": "2024-05-05T21:33:54.340248Z"
    }
   },
   "id": "c669365392661a9",
   "outputs": []
  },
  {
   "cell_type": "markdown",
   "source": [
    "<b>At this topic the east coast artists gets distributed in a much more equal way. Most of the artist contributes to the topic from 6 to 10%</b>"
   ],
   "metadata": {
    "collapsed": false
   },
   "id": "2ee9a6be1b0838ff"
  },
  {
   "cell_type": "code",
   "execution_count": 49,
   "source": [
    "colors = ['blue', 'red']\n",
    "ax = (topic4_coast_distribution_normalized * 100).plot(kind='bar', figsize=(16, 6), color=colors)\n",
    "plt.title('Proportional Contribution of Artists to The Current Topic')\n",
    "plt.xlabel('Artist')\n",
    "plt.ylabel('Percentage of Contribution')\n",
    "plt.xticks(rotation=90)\n",
    "plt.legend(title='Coast')\n",
    "\n",
    "# Adding percentage labels\n",
    "for p in ax.patches:\n",
    "    width = p.get_width()\n",
    "    height = p.get_height()\n",
    "    x, y = p.get_xy()\n",
    "    if height > 0:  # Only add annotations for non-zero values\n",
    "        ax.annotate(f'{height:.2f}%', (x + width/2, y + height*0.5), ha='center')\n",
    "\n",
    "plt.show()"
   ],
   "metadata": {
    "collapsed": false,
    "ExecuteTime": {
     "end_time": "2024-05-05T21:33:55.567855Z",
     "start_time": "2024-05-05T21:33:55.290346Z"
    }
   },
   "id": "1d0de91e8f2214ce",
   "outputs": []
  },
  {
   "cell_type": "code",
   "execution_count": 144,
   "source": [
    "artist_topic_distribution = pd.crosstab(df_artists_only['Artist'], df_artists_only['Topic Model'])\n",
    "print(artist_topic_distribution)"
   ],
   "metadata": {
    "collapsed": false
   },
   "id": "bb5922d3d5c1bb69",
   "outputs": []
  },
  {
   "cell_type": "code",
   "execution_count": 152,
   "source": [
    "import seaborn as sns\n",
    "\n",
    "# Reset index to use \"Artist\" as a normal column\n",
    "df_melted = artist_topic_distribution.reset_index().melt(id_vars='Artist', value_name='Number of Songs', var_name='Topic Model')\n",
    "\n",
    "# Using a predefined palette\n",
    "palette = sns.color_palette(\"bright\")  # You can change \"pastel\" to \"deep\", \"muted\", \"bright\", \"dark\", or \"colorblind\"\n",
    "\n",
    "# Create the plot\n",
    "plt.figure(figsize=(15, 10))\n",
    "sns.barplot(x='Artist', y='Number of Songs', hue='Topic Model', data=df_melted, palette=palette)\n",
    "plt.title('Topic Distribution Across Different Artists')\n",
    "plt.xlabel('Artist')\n",
    "plt.ylabel('Number of Songs')\n",
    "plt.xticks(rotation=90)  # Rotate labels to make them readable\n",
    "plt.legend(title='Dominant Topic')\n",
    "plt.show()"
   ],
   "metadata": {
    "collapsed": false,
    "ExecuteTime": {
     "end_time": "2024-04-29T20:24:16.659632Z",
     "start_time": "2024-04-29T20:24:16.241965Z"
    }
   },
   "id": "deccd4f7baae87cf",
   "outputs": []
  },
  {
   "cell_type": "code",
   "execution_count": 155,
   "source": [
    "topic_word_matrix = model_output['topic-word-matrix']"
   ],
   "metadata": {
    "collapsed": false,
    "ExecuteTime": {
     "end_time": "2024-04-29T22:13:30.016563Z",
     "start_time": "2024-04-29T22:13:30.003799Z"
    }
   },
   "id": "1c82f604cb78c419",
   "outputs": []
  },
  {
   "cell_type": "code",
   "execution_count": 158,
   "source": [
    "plt.figure(figsize=(20, 10))\n",
    "sns.heatmap(topic_word_matrix, cmap='viridis', linewidths=.5)\n",
    "plt.title('Topic-Word Matrix')\n",
    "plt.xlabel('Words')\n",
    "plt.ylabel('Topics')\n",
    "plt.show()"
   ],
   "metadata": {
    "collapsed": false,
    "ExecuteTime": {
     "end_time": "2024-04-29T22:14:54.117220Z",
     "start_time": "2024-04-29T22:14:53.465089Z"
    }
   },
   "id": "a958b0fe1917d17c",
   "outputs": []
  },
  {
   "cell_type": "code",
   "execution_count": 7,
   "source": [
    "best_coherence = -1\n",
    "best_params = {}\n",
    "topic_nums = [5, 10, 15]\n",
    "epoch_nums = [100, 200, 300]\n",
    "\n",
    "for num_topics in topic_nums:\n",
    "    for num_epochs in epoch_nums:\n",
    "        model = CTM(num_topics=num_topics, inference_type=\"combined\", num_epochs=num_epochs, use_partitions=False, bert_model=\"bert-base-nli-mean-tokens\")\n",
    "        model_output = model.train_model(dataset)\n",
    "        # Assuming the model has a method to compute coherence\n",
    "        coherence = Coherence(texts=dataset.get_corpus(), topk=10)  # Adjust 'topk' as needed\n",
    "        # Setting up Diversity Metric\n",
    "        topic_diversity = TopicDiversity(topk=10)\n",
    "        # Calculate Metrics\n",
    "        coherence = coherence.score(model_output)\n",
    "\n",
    "        if coherence > best_coherence:\n",
    "            best_coherence = coherence\n",
    "            best_params = {'num_topics': num_topics, 'num_epochs': num_epochs}\n",
    "\n",
    "print(f\"Best Coherence: {best_coherence}\")\n",
    "print(f\"Best Parameters: {best_params}\")"
   ],
   "metadata": {
    "collapsed": false,
    "ExecuteTime": {
     "end_time": "2024-05-02T22:00:44.503375Z",
     "start_time": "2024-05-02T21:57:52.007368Z"
    }
   },
   "id": "29dd2aabfb06a470",
   "outputs": []
  },
  {
   "cell_type": "code",
   "execution_count": 41,
   "source": [
    "model_output"
   ],
   "metadata": {
    "collapsed": false,
    "ExecuteTime": {
     "end_time": "2024-05-03T13:18:30.755726Z",
     "start_time": "2024-05-03T13:18:30.693954Z"
    }
   },
   "id": "cdcefcad233127e2",
   "outputs": []
  },
  {
   "cell_type": "code",
   "execution_count": 78,
   "source": [
    "# Assuming `model` is your trained topic model from OCTIS\n",
    "topic_word_matrix = model_output['topic-word-matrix']\n",
    "topic_document_matrix = model_output['topic-document-matrix']\n",
    "vocabulary = dataset.get_vocabulary()\n",
    "document_ids = range(len(topic_document_matrix[0]))  # Adjust based on how you've stored documents\n",
    "\n",
    "# Assuming topic_document_matrix is an array where rows are topics and columns are documents\n",
    "topic_sizes = np.sum(topic_document_matrix, axis=1)  # Sum over columns to get size per topic\n",
    "normalized_sizes = (topic_sizes - np.min(topic_sizes)) / (np.max(topic_sizes) - np.min(topic_sizes)) * 100 + 10  # Normalize and scale"
   ],
   "metadata": {
    "collapsed": false,
    "ExecuteTime": {
     "end_time": "2024-05-03T13:36:51.718950Z",
     "start_time": "2024-05-03T13:36:51.524777Z"
    }
   },
   "id": "d88cf167714e0659",
   "outputs": []
  },
  {
   "cell_type": "code",
   "execution_count": 79,
   "source": [
    "# Prepare top 10 words for tooltips\n",
    "top_words_per_topic = []\n",
    "for idx in range(len(topic_word_matrix)):\n",
    "    top_words = sorted([(vocabulary[i], weight) for i, weight in enumerate(topic_word_matrix[idx])],\n",
    "                       key=lambda x: x[1], reverse=True)[:10]  # Get top 10 words\n",
    "    top_words_per_topic.append(\", \".join([word for word, weight in top_words]))"
   ],
   "metadata": {
    "collapsed": false,
    "ExecuteTime": {
     "end_time": "2024-05-03T13:37:01.197695Z",
     "start_time": "2024-05-03T13:37:01.015145Z"
    }
   },
   "id": "2c1b701085ffbcfb",
   "outputs": []
  },
  {
   "cell_type": "code",
   "execution_count": 74,
   "source": [
    "from sklearn.manifold import TSNE\n",
    "\n",
    "tsne_model = TSNE(n_components=2, verbose=1, random_state=0, angle=.99, init='pca')\n",
    "tsne_results = tsne_model.fit_transform(topic_word_matrix)"
   ],
   "metadata": {
    "collapsed": false,
    "ExecuteTime": {
     "end_time": "2024-05-03T13:33:26.193417Z",
     "start_time": "2024-05-03T13:33:25.740852Z"
    }
   },
   "id": "37a13d06b7c35aa8",
   "outputs": []
  },
  {
   "cell_type": "code",
   "execution_count": 87,
   "source": [
    "import plotly.graph_objects as go\n",
    "import plotly.express as px\n",
    "\n",
    "fig = go.Figure()\n",
    "\n",
    "for idx, coords in enumerate(tsne_results):\n",
    "    topic_label = f\"Topic {idx}\"\n",
    "    tooltip_info = f\"{topic_label}: {top_words_per_topic[idx]}\"\n",
    "\n",
    "    fig.add_trace(go.Scatter(\n",
    "        x=[coords[0]],\n",
    "        y=[coords[1]],\n",
    "        name=topic_label,\n",
    "        marker=dict(size=normalized_sizes[idx]),  # Use normalized sizes for marker size\n",
    "        text=tooltip_info,\n",
    "        hoverinfo='text'\n",
    "    ))\n",
    "\n",
    "fig.update_layout(title=\"Topic Visualization\",\n",
    "                  xaxis_title=\"Component 1\",\n",
    "                  yaxis_title=\"Component 2\",\n",
    "                  hovermode='closest')\n",
    "fig.show()"
   ],
   "metadata": {
    "collapsed": false,
    "ExecuteTime": {
     "end_time": "2024-05-03T13:59:23.973915Z",
     "start_time": "2024-05-03T13:59:23.871528Z"
    }
   },
   "id": "78acb802ff65174",
   "outputs": []
  },
  {
   "cell_type": "code",
   "execution_count": 81,
   "source": [
    "model_output['topics']"
   ],
   "metadata": {
    "collapsed": false,
    "ExecuteTime": {
     "end_time": "2024-05-03T13:37:26.859549Z",
     "start_time": "2024-05-03T13:37:26.854238Z"
    }
   },
   "id": "86b5cc8622b26a4d",
   "outputs": []
  },
  {
   "cell_type": "code",
   "execution_count": 1,
   "source": [],
   "metadata": {
    "collapsed": false,
    "ExecuteTime": {
     "end_time": "2024-05-05T08:48:38.550762Z",
     "start_time": "2024-05-05T08:48:38.541595Z"
    }
   },
   "id": "cb0860abf5300de5",
   "outputs": []
  },
  {
   "cell_type": "code",
   "execution_count": 88,
   "source": [
    "unique_topics = np.unique(filtered_df['Topic Model'])"
   ],
   "metadata": {
    "collapsed": false,
    "ExecuteTime": {
     "end_time": "2024-05-03T13:59:48.304590Z",
     "start_time": "2024-05-03T13:59:48.282746Z"
    }
   },
   "id": "b969e372007d21d4",
   "outputs": []
  },
  {
   "cell_type": "code",
   "execution_count": 90,
   "source": [
    "document_topic_matrix = topic_document_matrix.T\n",
    "\n",
    "# Apply t-SNE to the document-topic matrix\n",
    "tsne = TSNE(n_components=2, random_state=42)\n",
    "document_tsne_results = tsne.fit_transform(document_topic_matrix)"
   ],
   "metadata": {
    "collapsed": false,
    "ExecuteTime": {
     "end_time": "2024-05-03T14:00:13.009134Z",
     "start_time": "2024-05-03T14:00:10.541860Z"
    }
   },
   "id": "69fd2b6901e0374e",
   "outputs": []
  },
  {
   "cell_type": "code",
   "execution_count": 89,
   "source": [
    "colors = px.colors.qualitative.Set1  # Using Plotly's qualitative color sets\n",
    "topic_color_map = {topic: colors[i % len(colors)] for i, topic in enumerate(unique_topics)}\n",
    "filtered_df['color'] = filtered_df['Topic Model'].map(topic_color_map)"
   ],
   "metadata": {
    "collapsed": false,
    "ExecuteTime": {
     "end_time": "2024-05-03T13:59:48.510036Z",
     "start_time": "2024-05-03T13:59:48.493385Z"
    }
   },
   "id": "15342a8bf1e63a40",
   "outputs": []
  },
  {
   "cell_type": "code",
   "execution_count": 92,
   "source": [
    "import plotly.express as px\n",
    "\n",
    "fig = px.scatter(\n",
    "    filtered_df,\n",
    "    x=document_tsne_results[:, 0],\n",
    "    y=document_tsne_results[:, 1],\n",
    "    color=filtered_df['Topic Model'].astype(str),  # Convert topics to string for coloring\n",
    "    hover_data=['Song', 'Artist'],  # Assuming these columns exist in _df\n",
    "    title=\"Songs in 2D Space by Topic\",\n",
    "    labels={\"color\": \"Topic\"}\n",
    ")\n",
    "\n",
    "fig.update_traces(marker=dict(size=10, line=dict(width=1, color='DarkSlateGrey')))\n",
    "fig.show()\n"
   ],
   "metadata": {
    "collapsed": false,
    "ExecuteTime": {
     "end_time": "2024-05-03T14:00:49.542525Z",
     "start_time": "2024-05-03T14:00:49.410701Z"
    }
   },
   "id": "2cd80a83f1917b20",
   "outputs": []
  },
  {
   "cell_type": "code",
   "execution_count": null,
   "source": [],
   "metadata": {
    "collapsed": false
   },
   "id": "2590a4aa5af031a0",
   "outputs": []
  }
 ],
 "metadata": {
  "kernelspec": {
   "display_name": "Python 3",
   "language": "python",
   "name": "python3"
  },
  "language_info": {
   "codemirror_mode": {
    "name": "ipython",
    "version": 2
   },
   "file_extension": ".py",
   "mimetype": "text/x-python",
   "name": "python",
   "nbconvert_exporter": "python",
   "pygments_lexer": "ipython2",
   "version": "2.7.6"
  }
 },
 "nbformat": 4,
 "nbformat_minor": 5
}
