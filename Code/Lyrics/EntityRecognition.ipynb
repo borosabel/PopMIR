{
 "cells": [
  {
   "cell_type": "code",
   "execution_count": 1,
   "id": "initial_id",
   "metadata": {
    "collapsed": true,
    "ExecuteTime": {
     "end_time": "2024-05-31T13:34:25.920185Z",
     "start_time": "2024-05-31T13:34:18.466291Z"
    }
   },
   "outputs": [
    {
     "name": "stderr",
     "output_type": "stream",
     "text": [
      "/Users/borosabel/lib/python3.9/site-packages/urllib3/__init__.py:35: NotOpenSSLWarning: urllib3 v2 only supports OpenSSL 1.1.1+, currently the 'ssl' module is compiled with 'LibreSSL 2.8.3'. See: https://github.com/urllib3/urllib3/issues/3020\n",
      "  warnings.warn(\n"
     ]
    }
   ],
   "source": [
    "import string\n",
    "import spacy\n",
    "spacy_nlp = spacy.load(\"en_core_web_sm\")\n",
    "import numpy as np\n",
    "from spacy.lang.en.stop_words import STOP_WORDS\n",
    "import utility_functions as utils\n",
    "import importlib\n",
    "import pandas as pd\n",
    "from collections import defaultdict\n",
    "import pandas as pd\n",
    "from collections import Counter\n",
    "import matplotlib.pyplot as plt\n",
    "from transformers import pipeline\n",
    "from tqdm import tqdm\n",
    "import seaborn as sns\n",
    "\n",
    "importlib.reload(utils)\n",
    "\n",
    "custom_stop_words = list(STOP_WORDS)  # Existing stop words\n",
    "custom_stop_words.extend([\"ll\", \"ve\", \"'em\", \"em\", \"ho\", \"fo\", \"ah\", \"de\"])  # Tokens which doesn't really make sense to hav`e them."
   ]
  },
  {
   "cell_type": "code",
   "execution_count": 5,
   "outputs": [],
   "source": [
    "topics0 = df[df['Topic Model Index'] == 0]['Topic Model'].iloc[0]\n",
    "topics1 = df[df['Topic Model Index'] == 1]['Topic Model'].iloc[0]"
   ],
   "metadata": {
    "collapsed": false,
    "ExecuteTime": {
     "end_time": "2024-05-17T16:37:51.247509Z",
     "start_time": "2024-05-17T16:37:51.243378Z"
    }
   },
   "id": "5d38104ad16e5a4e"
  },
  {
   "cell_type": "code",
   "execution_count": 2,
   "outputs": [],
   "source": [
    "df = pd.read_excel('/Users/borosabel/Documents/Uni/Thesis/PopMIR/Data/Excel/baseline_w_topics_w_entity.xlsx', engine='openpyxl')\n",
    "_df = pd.read_excel('/Users/borosabel/Documents/Uni/Thesis/PopMIR/Data/Excel/baseline_data.xlsx', engine='openpyxl')"
   ],
   "metadata": {
    "collapsed": false,
    "ExecuteTime": {
     "end_time": "2024-05-31T13:34:42.722318Z",
     "start_time": "2024-05-31T13:34:42.108543Z"
    }
   },
   "id": "72d5586ddc206c07"
  },
  {
   "cell_type": "code",
   "execution_count": 3,
   "outputs": [],
   "source": [
    "df['Lyrics'] = _df['Lyrics'].apply(utils.cleanup_entity_rec)"
   ],
   "metadata": {
    "collapsed": false,
    "ExecuteTime": {
     "end_time": "2024-05-31T13:34:43.509839Z",
     "start_time": "2024-05-31T13:34:43.146374Z"
    }
   },
   "id": "10e3e1af7638a0a9"
  },
  {
   "cell_type": "code",
   "execution_count": 4,
   "outputs": [
    {
     "name": "stderr",
     "output_type": "stream",
     "text": [
      "Some weights of the model checkpoint at dbmdz/bert-large-cased-finetuned-conll03-english were not used when initializing BertForTokenClassification: ['bert.pooler.dense.bias', 'bert.pooler.dense.weight']\n",
      "- This IS expected if you are initializing BertForTokenClassification from the checkpoint of a model trained on another task or with another architecture (e.g. initializing a BertForSequenceClassification model from a BertForPreTraining model).\n",
      "- This IS NOT expected if you are initializing BertForTokenClassification from the checkpoint of a model that you expect to be exactly identical (initializing a BertForSequenceClassification model from a BertForSequenceClassification model).\n",
      "Extracting entities: 100%|██████████| 1360/1360 [24:41<00:00,  1.09s/it] \n"
     ]
    }
   ],
   "source": [
    "# Initialize the NER pipeline\n",
    "ner_pipeline = pipeline(\"ner\", model=\"dbmdz/bert-large-cased-finetuned-conll03-english\", aggregation_strategy=\"simple\")\n",
    "\n",
    "def extract_entities(text):\n",
    "    entities = ner_pipeline(text)\n",
    "    return [{'entity': entity['word'], 'type': entity['entity_group'], 'score': entity['score']} for entity in entities]\n",
    "\n",
    "tqdm.pandas(desc=\"Extracting entities\")\n",
    "df['Named_Entities'] = df['Lyrics'].progress_apply(extract_entities)"
   ],
   "metadata": {
    "collapsed": false,
    "ExecuteTime": {
     "end_time": "2024-05-31T13:59:31.544284Z",
     "start_time": "2024-05-31T13:34:44.288777Z"
    }
   },
   "id": "2acade43f4d0f7e8"
  },
  {
   "cell_type": "code",
   "execution_count": 7,
   "outputs": [],
   "source": [
    "df.to_pickle('df_w_entity.pkl')"
   ],
   "metadata": {
    "collapsed": false,
    "ExecuteTime": {
     "end_time": "2024-05-31T14:04:37.999056Z",
     "start_time": "2024-05-31T14:04:37.964925Z"
    }
   },
   "id": "c4e908922976f2eb"
  },
  {
   "cell_type": "code",
   "execution_count": 8,
   "outputs": [],
   "source": [
    "with open('corpus_entity.txt', 'w', encoding='utf-8') as file:\n",
    "    for lyrics in df['Lyrics']:\n",
    "        if pd.notna(lyrics):\n",
    "            file.write(lyrics + '\\n')"
   ],
   "metadata": {
    "collapsed": false,
    "ExecuteTime": {
     "end_time": "2024-05-17T17:09:55.324642Z",
     "start_time": "2024-05-17T17:09:55.311590Z"
    }
   },
   "id": "eac35b30bf74e951"
  },
  {
   "cell_type": "code",
   "execution_count": 9,
   "outputs": [],
   "source": [
    "df_east = df[df['Coast'] == 'east_coast']\n",
    "df_west = df[df['Coast'] == 'west_coast']\n",
    "\n",
    "df_east_1 = df_east[df_east['Topic Model Index'] == 0]\n",
    "df_east_2 = df_east[df_east['Topic Model Index'] == 1]\n",
    "# df_east_3 = df_east[df_east['Topic Model Index'] == 2]\n",
    "# df_east_4 = df_east[df_east['Topic Model Index'] == 3]\n",
    "\n",
    "df_west_1 = df_west[df_west['Topic Model Index'] == 0]\n",
    "df_west_2 = df_west[df_west['Topic Model Index'] == 1]\n",
    "# df_west_3 = df_west[df_west['Topic Model Index'] == 2]\n",
    "# df_west_4 = df_west[df_west['Topic Model Index'] == 3]"
   ],
   "metadata": {
    "collapsed": false,
    "ExecuteTime": {
     "end_time": "2024-05-17T17:09:59.371157Z",
     "start_time": "2024-05-17T17:09:59.363707Z"
    }
   },
   "id": "ba848957add01f06"
  },
  {
   "cell_type": "code",
   "execution_count": 10,
   "outputs": [],
   "source": [
    "def populate_entities_by_type(df):\n",
    "    entities_by_type = defaultdict(list)\n",
    "    entity_indices = defaultdict(list)\n",
    "\n",
    "    for index, entities in enumerate(df['Named_Entities']):\n",
    "        if isinstance(entities, list):\n",
    "            for entity in entities:\n",
    "                if entity['score'] > 0.7:\n",
    "                    entities_by_type[entity['type']].append(entity['entity'])\n",
    "                    entity_indices[entity['entity']].append(index)\n",
    "\n",
    "    return entities_by_type, entity_indices\n",
    "\n",
    "def find_entries_containing_entities(df, entity_indices, search_entities):\n",
    "    # Collect indices of rows that contain the search entities\n",
    "    matching_indices = set()\n",
    "    for entity in search_entities:\n",
    "        if entity in entity_indices:\n",
    "            matching_indices.update(entity_indices[entity])\n",
    "\n",
    "    # Convert the set of matching indices to a list\n",
    "    matching_indices = list(matching_indices)\n",
    "\n",
    "    # Create a subset of the DataFrame with the matching rows\n",
    "    subset_df = df.loc[matching_indices]\n",
    "\n",
    "    return subset_df"
   ],
   "metadata": {
    "collapsed": false,
    "ExecuteTime": {
     "end_time": "2024-05-17T17:10:03.830131Z",
     "start_time": "2024-05-17T17:10:03.827185Z"
    }
   },
   "id": "5b581321bfc71993"
  },
  {
   "cell_type": "code",
   "execution_count": 11,
   "outputs": [],
   "source": [
    "entities_by_type_east, entity_indices_east = populate_entities_by_type(df_east)\n",
    "entities_by_type_east_1, entity_indices_east_1 = populate_entities_by_type(df_east_1)\n",
    "entities_by_type_east_2, entity_indices_east_2 = populate_entities_by_type(df_east_2)\n",
    "# entities_by_type_east_3 = populate_entities_by_type(df_east_3)\n",
    "# entities_by_type_east_4 = populate_entities_by_type(df_east_4)\n",
    "\n",
    "entities_by_type_west, entity_indices_west = populate_entities_by_type(df_west)\n",
    "entities_by_type_west_1, entity_indices_west_1 = populate_entities_by_type(df_west_1)\n",
    "entities_by_type_west_2, entity_indices_west_2 = populate_entities_by_type(df_west_2)\n",
    "# entities_by_type_west_3 = populate_entities_by_type(df_west_3)\n",
    "# entities_by_type_west_4 = populate_entities_by_type(df_west_4)"
   ],
   "metadata": {
    "collapsed": false,
    "ExecuteTime": {
     "end_time": "2024-05-17T17:10:06.750915Z",
     "start_time": "2024-05-17T17:10:06.749123Z"
    }
   },
   "id": "bfc9945962934d47"
  },
  {
   "cell_type": "code",
   "execution_count": 11,
   "outputs": [],
   "source": [
    "def most_common_entities_by_type(entities_by_type):\n",
    "    most_common_by_type = {}\n",
    "    for entity_type, entities in entities_by_type.items():\n",
    "        entity_counter = Counter(entities)\n",
    "        most_common_by_type[entity_type] = entity_counter.most_common(20)\n",
    "    return most_common_by_type\n",
    "\n",
    "def print_most_common_entities(most_common_by_type, label):\n",
    "    print(f\"Most common entities for {label}:\")\n",
    "    for entity_type, common_entities in most_common_by_type.items():\n",
    "        print(f\"Top 10 common entities for type {entity_type}:\")\n",
    "        for entity, count in common_entities:\n",
    "            print(f\"{entity}: {count}\")\n",
    "    print()\n",
    "\n",
    "most_common_by_type_east = most_common_entities_by_type(entities_by_type_east)\n",
    "most_common_by_type_east_1 = most_common_entities_by_type(entities_by_type_east_1)\n",
    "most_common_by_type_east_2 = most_common_entities_by_type(entities_by_type_east_2)\n",
    "# most_common_by_type_east_3 = most_common_entities_by_type(entities_by_type_east_3)\n",
    "# most_common_by_type_east_4 = most_common_entities_by_type(entities_by_type_east_4)\n",
    "\n",
    "most_common_by_type_west = most_common_entities_by_type(entities_by_type_west)\n",
    "most_common_by_type_west_1 = most_common_entities_by_type(entities_by_type_west_1)\n",
    "most_common_by_type_west_2 = most_common_entities_by_type(entities_by_type_west_2)\n",
    "# most_common_by_type_west_3 = most_common_entities_by_type(entities_by_type_west_3)\n",
    "# most_common_by_type_west_4 = most_common_entities_by_type(entities_by_type_west_4)"
   ],
   "metadata": {
    "collapsed": false,
    "ExecuteTime": {
     "end_time": "2024-05-17T10:35:01.037481Z",
     "start_time": "2024-05-17T10:35:01.034543Z"
    }
   },
   "id": "774533b5da9febea"
  },
  {
   "cell_type": "code",
   "execution_count": 12,
   "outputs": [
    {
     "name": "stdout",
     "output_type": "stream",
     "text": [
      "Most common entities for East Coast:\n",
      "Top 10 common entities for type PER:\n",
      "God: 124\n",
      "Jay: 43\n",
      "Jack: 20\n",
      "Joe: 17\n",
      "Jimmy: 17\n",
      "Mary: 17\n",
      "Muhammad: 17\n",
      "D: 16\n",
      "Mike: 15\n",
      "Smith: 14\n",
      "Chuck: 13\n",
      "Mike D: 13\n",
      "Cool J: 13\n",
      "Po: 13\n",
      "Shortie: 13\n",
      "Prince Paul: 12\n",
      "Rakim: 11\n",
      "Ma: 10\n",
      "P: 10\n",
      "Eric B: 10\n",
      "Top 10 common entities for type MISC:\n",
      "Black: 47\n",
      "G: 15\n",
      "R & B: 12\n",
      "Afro: 11\n",
      "White: 9\n",
      "A: 8\n",
      "French: 7\n",
      "De La: 7\n",
      "Wu - Tang: 6\n",
      "Adidas: 6\n",
      "Jamaican: 5\n",
      "Lexus: 5\n",
      "Asiatic: 5\n",
      "Strike: 5\n",
      "Luden: 5\n",
      "African: 4\n",
      "L: 4\n",
      "AIDS: 4\n",
      "R: 4\n",
      "Swiss: 4\n",
      "Top 10 common entities for type LOC:\n",
      "New York: 49\n",
      "California: 38\n",
      "Brooklyn: 28\n",
      "Motherland: 16\n",
      "Queens: 16\n",
      "Harlem: 11\n",
      "Manhattan: 10\n",
      "York: 9\n",
      "Hollywood: 9\n",
      "America: 8\n",
      "Earth: 8\n",
      "South: 7\n",
      "Queensbridge: 7\n",
      "Jersey: 6\n",
      "Island: 6\n",
      "Paris: 5\n",
      "Los Angeles: 5\n",
      "North: 5\n",
      "Vegas: 5\n",
      "Chicago: 5\n",
      "Top 10 common entities for type ORG:\n",
      "M: 24\n",
      "D: 20\n",
      "C: 18\n",
      "G: 14\n",
      "L: 12\n",
      "De La Soul: 11\n",
      "I: 10\n",
      "R: 10\n",
      "WRMS: 10\n",
      "Public Enemy: 9\n",
      "Tribe: 8\n",
      "LL: 8\n",
      "Wu - Tang Clan: 8\n",
      "Tribe Called Quest: 7\n",
      "B: 6\n",
      "Adidas: 6\n",
      "MAC: 6\n",
      "Phillies: 6\n",
      "QBC: 6\n",
      "Quest: 5\n",
      "\n",
      "Most common entities for East Coast, Topic Model ['rhyme', 'cuz', 'soul', 'rhythm', 'stage', 'lyric', 'music', 'cut', 'funky', 'skill']:\n",
      "Top 10 common entities for type PER:\n",
      "God: 56\n",
      "Jay: 26\n",
      "Jack: 18\n",
      "Muhammad: 17\n",
      "Joe: 16\n",
      "Mary: 16\n",
      "D: 15\n",
      "Jimmy: 15\n",
      "Mike: 13\n",
      "Prince Paul: 12\n",
      "Rakim: 11\n",
      "Mike D: 10\n",
      "Jenny: 10\n",
      "Chuck: 9\n",
      "Paul: 8\n",
      "Ali: 8\n",
      "Lucien: 8\n",
      "Eric B: 8\n",
      "Jam Master Jay: 8\n",
      "Po: 8\n",
      "Top 10 common entities for type LOC:\n",
      "New York: 25\n",
      "Brooklyn: 16\n",
      "Manhattan: 8\n",
      "Queens: 8\n",
      "America: 7\n",
      "Harlem: 5\n",
      "Paris: 4\n",
      "Earth: 4\n",
      "Los Angeles: 4\n",
      "North: 4\n",
      "Jamaica: 4\n",
      "Houston: 4\n",
      "Bronx: 4\n",
      "York: 3\n",
      "California: 3\n",
      "West coast: 3\n",
      "London: 3\n",
      "Georgia: 3\n",
      "Jersey: 3\n",
      "Island: 3\n",
      "Top 10 common entities for type ORG:\n",
      "M: 21\n",
      "C: 16\n",
      "D: 15\n",
      "L: 9\n",
      "De La Soul: 9\n",
      "Tribe: 8\n",
      "G: 6\n",
      "Tribe Called Quest: 6\n",
      "R: 6\n",
      "Phillies: 6\n",
      "LL: 6\n",
      "Run: 5\n",
      "Public Enemy: 5\n",
      "K: 4\n",
      "E: 4\n",
      "Quest: 4\n",
      "Run - D: 4\n",
      "DMC: 4\n",
      "V: 3\n",
      "I: 3\n",
      "Top 10 common entities for type MISC:\n",
      "Black: 43\n",
      "Afro: 10\n",
      "White: 8\n",
      "De La: 7\n",
      "R & B: 6\n",
      "G: 5\n",
      "Luden: 5\n",
      "L: 4\n",
      "French: 4\n",
      "Jamaican: 4\n",
      "A: 4\n",
      "##dian: 4\n",
      "Puerto Rican: 3\n",
      "R: 3\n",
      "Caddy: 3\n",
      "Award Tour: 3\n",
      "Indian: 3\n",
      "Lexus: 3\n",
      "D: 3\n",
      "Asiatic: 3\n",
      "\n",
      "Most common entities for East Coast, Topic Model ['nigga', 'shit', 'ride', 'dick', 'bitch', 'die', 'big', 'street', 'man', 'fuck']:\n",
      "Top 10 common entities for type PER:\n",
      "God: 68\n",
      "Jay: 17\n",
      "Smith: 13\n",
      "Shortie: 11\n",
      "Cool J: 9\n",
      "Johnny Ryall: 7\n",
      "Marc: 7\n",
      "Z: 7\n",
      "Millie: 7\n",
      "Jay - Z: 6\n",
      "A: 6\n",
      "Kill: 5\n",
      "Dr: 5\n",
      "Biggie: 5\n",
      "Nas: 5\n",
      "R: 5\n",
      "Po: 5\n",
      "Dan: 5\n",
      "Bus: 5\n",
      "Terra: 4\n",
      "Top 10 common entities for type MISC:\n",
      "G: 10\n",
      "Wu - Tang: 6\n",
      "R & B: 6\n",
      "Adidas: 5\n",
      "Strike: 5\n",
      "Black: 4\n",
      "A: 4\n",
      "English: 3\n",
      "Asian: 3\n",
      "Dutch: 3\n",
      "Caucasian: 3\n",
      "Japanese: 3\n",
      "Filipino: 3\n",
      "C: 3\n",
      "French: 3\n",
      "E: 3\n",
      "Roc: 3\n",
      "Benz: 3\n",
      "U: 3\n",
      "Illmatic: 3\n",
      "Top 10 common entities for type LOC:\n",
      "California: 35\n",
      "New York: 24\n",
      "Motherland: 15\n",
      "Brooklyn: 12\n",
      "Queens: 8\n",
      "Hollywood: 7\n",
      "Harlem: 6\n",
      "York: 6\n",
      "South: 5\n",
      "Queensbridge: 5\n",
      "Texas: 4\n",
      "Vegas: 4\n",
      "Earth: 4\n",
      "Bristol: 4\n",
      "U: 3\n",
      "S: 3\n",
      "East Coast: 3\n",
      "L: 3\n",
      "A: 3\n",
      "Africa: 3\n",
      "Top 10 common entities for type ORG:\n",
      "G: 8\n",
      "WRMS: 8\n",
      "I: 7\n",
      "Wu - Tang Clan: 7\n",
      "Adidas: 6\n",
      "QBC: 6\n",
      "B: 5\n",
      "D: 5\n",
      "New York Post: 5\n",
      "Def Jam: 4\n",
      "Public Enemy: 4\n",
      "R: 4\n",
      "Wu - Tang Killa Beez: 4\n",
      "Flipmode Squad: 4\n",
      "MAC: 3\n",
      "M: 3\n",
      "TEC: 3\n",
      "A: 3\n",
      "Burger King: 3\n",
      "L: 3\n",
      "\n",
      "Most common entities for West Coast:\n",
      "Top 10 common entities for type LOC:\n",
      "California: 59\n",
      "L: 51\n",
      "A: 48\n",
      "Oakland: 39\n",
      "Compton: 31\n",
      "New York: 25\n",
      "America: 20\n",
      "South Central: 19\n",
      "Brooklyn: 17\n",
      "Cypress Hill: 17\n",
      "Cy: 16\n",
      "Los Angeles: 13\n",
      "West: 11\n",
      "West Coast: 10\n",
      "coast: 8\n",
      "South: 8\n",
      "East: 8\n",
      "Long Beach: 8\n",
      "East Oakland: 7\n",
      "Oaktown: 7\n",
      "Top 10 common entities for type PER:\n",
      "God: 63\n",
      "E: 50\n",
      "Ice Cube: 33\n",
      "Too: 24\n",
      "Dr: 22\n",
      "Dre: 21\n",
      "Ren: 20\n",
      "S: 18\n",
      "Warren G: 16\n",
      "Donald: 15\n",
      "Ice: 15\n",
      "T: 15\n",
      "Warren: 14\n",
      "Holly: 14\n",
      "Quinton: 13\n",
      "Jones: 11\n",
      "Ice - T: 11\n",
      "Lord: 11\n",
      "Brenda: 11\n",
      "Snoop Dogg: 10\n",
      "Top 10 common entities for type ORG:\n",
      "Dangerous Crew: 15\n",
      "Underground: 14\n",
      "N: 10\n",
      "C: 10\n",
      "LBC: 10\n",
      "D: 9\n",
      "Syndicate: 9\n",
      "O: 8\n",
      "##press: 8\n",
      "W: 7\n",
      "NWA: 7\n",
      "L: 7\n",
      "P: 7\n",
      "Jerkit Circus: 7\n",
      "Souls of Mischief: 4\n",
      "Ice Cube: 4\n",
      "Lench Mob: 4\n",
      "R: 4\n",
      "Cypress Hill: 4\n",
      "A: 3\n",
      "Top 10 common entities for type MISC:\n",
      "G: 24\n",
      "Benz: 11\n",
      "AK: 11\n",
      "Black: 10\n",
      "Mexican: 8\n",
      "Zone: 8\n",
      "B: 8\n",
      "Latin: 8\n",
      "White: 7\n",
      "Gutfest: 7\n",
      "English: 6\n",
      "Glock: 6\n",
      "U: 6\n",
      "West: 6\n",
      "Rolex: 6\n",
      "R: 6\n",
      "American: 6\n",
      "S: 5\n",
      "Alpine: 5\n",
      "Indo: 5\n",
      "\n",
      "Most common entities for West Coast, Topic Model ['rhyme', 'cuz', 'soul', 'rhythm', 'stage', 'lyric', 'music', 'cut', 'funky', 'skill']:\n",
      "Top 10 common entities for type LOC:\n",
      "L: 24\n",
      "A: 24\n",
      "New York: 21\n",
      "South Central: 15\n",
      "Brooklyn: 13\n",
      "America: 10\n",
      "California: 9\n",
      "Oakland: 8\n",
      "Los Angeles: 8\n",
      "West Coast: 7\n",
      "coast: 6\n",
      "Compton: 6\n",
      "South: 5\n",
      "Miami: 4\n",
      "East: 4\n",
      "Texas: 3\n",
      "Kansas: 3\n",
      "Long Beach: 3\n",
      "Detroit: 3\n",
      "Uptown: 2\n",
      "Top 10 common entities for type PER:\n",
      "God: 23\n",
      "Holly: 13\n",
      "Ice Cube: 9\n",
      "Yo: 8\n",
      "Jack: 7\n",
      "E: 7\n",
      "Warren: 7\n",
      "Dre: 6\n",
      "G: 5\n",
      "Ren: 5\n",
      "Mike: 5\n",
      "Ice - T: 5\n",
      "Too: 5\n",
      "Mary: 5\n",
      "Donald: 5\n",
      "Warren G: 5\n",
      "T: 5\n",
      "Ho: 5\n",
      "Dr: 4\n",
      "Ice: 4\n",
      "Top 10 common entities for type ORG:\n",
      "Underground: 11\n",
      "Jerkit Circus: 7\n",
      "Syndicate: 7\n",
      "C: 6\n",
      "D: 5\n",
      "P: 5\n",
      "N: 4\n",
      "Ice Cube: 4\n",
      "O: 3\n",
      "W: 2\n",
      "MAAD Circle: 2\n",
      "M: 2\n",
      "Lench Mob: 2\n",
      "Four Horsemen: 2\n",
      "W - Balls: 2\n",
      "R: 2\n",
      "I: 2\n",
      "Mothership: 2\n",
      "A - Delic: 2\n",
      "Rhyme Syndicate: 2\n",
      "Top 10 common entities for type MISC:\n",
      "G: 11\n",
      "Zone: 8\n",
      "Black: 8\n",
      "Latin: 8\n",
      "U: 4\n",
      "B: 4\n",
      "AK: 4\n",
      "Benz: 4\n",
      "Smith & Wesson: 4\n",
      "La: 4\n",
      "English: 3\n",
      "Alpine: 3\n",
      "R: 3\n",
      "Child: 3\n",
      "Seville: 2\n",
      "Arabian: 2\n",
      "El Camino: 2\n",
      "GTA: 2\n",
      "Impala: 2\n",
      "Do: 2\n",
      "\n",
      "Most common entities for West Coast, Topic Model ['nigga', 'shit', 'ride', 'dick', 'bitch', 'die', 'big', 'street', 'man', 'fuck']:\n",
      "Top 10 common entities for type PER:\n",
      "E: 43\n",
      "God: 40\n",
      "Ice Cube: 24\n",
      "Too: 19\n",
      "Dr: 18\n",
      "S: 16\n",
      "Ren: 15\n",
      "Dre: 15\n",
      "Quinton: 13\n",
      "Jones: 11\n",
      "Ice: 11\n",
      "Brenda: 11\n",
      "Warren G: 11\n",
      "Donald: 10\n",
      "T: 10\n",
      "Lord: 9\n",
      "Snoop: 9\n",
      "Louie: 7\n",
      "Snoop Dogg: 7\n",
      "Warren: 7\n",
      "Top 10 common entities for type LOC:\n",
      "California: 50\n",
      "Oakland: 31\n",
      "L: 27\n",
      "Compton: 25\n",
      "A: 24\n",
      "Cypress Hill: 16\n",
      "Cy: 16\n",
      "America: 10\n",
      "West: 9\n",
      "East Oakland: 6\n",
      "City: 5\n",
      "Los Angeles: 5\n",
      "Oaktown: 5\n",
      "Vegas: 5\n",
      "Long Beach: 5\n",
      "##land: 5\n",
      "New York: 4\n",
      "Eastside: 4\n",
      "Brooklyn: 4\n",
      "Chicago: 4\n",
      "Top 10 common entities for type ORG:\n",
      "Dangerous Crew: 14\n",
      "LBC: 10\n",
      "##press: 8\n",
      "N: 6\n",
      "NWA: 6\n",
      "L: 6\n",
      "O: 5\n",
      "W: 5\n",
      "Souls of Mischief: 4\n",
      "D: 4\n",
      "C: 4\n",
      "Cypress Hill: 4\n",
      "A: 3\n",
      "Compton: 3\n",
      "Death Row: 3\n",
      "Underground: 3\n",
      "##press Hill: 3\n",
      "Lench Mob: 2\n",
      "Billboard: 2\n",
      "The Lench Mob: 2\n",
      "Top 10 common entities for type MISC:\n",
      "G: 13\n",
      "Benz: 7\n",
      "AK: 7\n",
      "Gutfest: 7\n",
      "Mexican: 6\n",
      "American: 6\n",
      "White: 6\n",
      "Rolex: 5\n",
      "Indo: 5\n",
      "Glock: 4\n",
      "Wayback: 4\n",
      "West: 4\n",
      "A: 4\n",
      "Blacks: 4\n",
      "B: 4\n",
      "AIDS: 3\n",
      "S: 3\n",
      "Nike: 3\n",
      "English: 3\n",
      "Day: 3\n"
     ]
    }
   ],
   "source": [
    "print_most_common_entities(most_common_by_type_east, 'East Coast')\n",
    "print_most_common_entities(most_common_by_type_east_1, f'East Coast, Topic Model {topics0}')\n",
    "print_most_common_entities(most_common_by_type_east_2, f'East Coast, Topic Model {topics1}')\n",
    "# print_most_common_entities(most_common_by_type_east_3, f'East Coast, Topic Model {topics2}')\n",
    "# print_most_common_entities(most_common_by_type_east_4, f'East Coast, Topic Model {topics3}')\n",
    "\n",
    "print_most_common_entities(most_common_by_type_west, 'West Coast')\n",
    "print_most_common_entities(most_common_by_type_west_1, f'West Coast, Topic Model {topics0}')\n",
    "print_most_common_entities(most_common_by_type_west_2, f'West Coast, Topic Model {topics1}')\n",
    "# print_most_common_entities(most_common_by_type_west_3, f'West Coast, Topic Model {topics2}')\n",
    "# print_most_common_entities(most_common_by_type_west_4, f'West Coast, Topic Model {topics3}')"
   ],
   "metadata": {
    "collapsed": false,
    "ExecuteTime": {
     "end_time": "2024-05-17T10:35:01.458944Z",
     "start_time": "2024-05-17T10:35:01.456746Z"
    }
   },
   "id": "997292b36178262f"
  },
  {
   "cell_type": "code",
   "execution_count": 114,
   "outputs": [],
   "source": [
    "def extract_contexts(df, entity_indices, search_tearm, window_size=5):\n",
    "    contexts = defaultdict(list)\n",
    "\n",
    "    if search_tearm in entity_indices:\n",
    "        for index in entity_indices[search_tearm]:\n",
    "            row_text = df.iloc[index]['Named_Entities']\n",
    "            if isinstance(row_text, list):\n",
    "                for entity_data in row_text:\n",
    "                    if entity_data['entity'] == search_tearm and entity_data['score'] > 0.7:\n",
    "                        contexts[search_tearm].append({\n",
    "                            'context': extract_window(df.iloc[index]['Lyrics'], entity, window_size),\n",
    "                            'row_index': index\n",
    "                        })\n",
    "\n",
    "    return contexts\n",
    "\n",
    "def extract_window(text, entity, window_size):\n",
    "    # Split text into words\n",
    "    words = text.split()\n",
    "    # Find the positions of the entity in the text\n",
    "    positions = [i for i, word in enumerate(words) if entity.lower() in word.lower()]\n",
    "    windows = []\n",
    "    for pos in positions:\n",
    "        start = max(0, pos - window_size)\n",
    "        end = min(len(words), pos + window_size + 1)\n",
    "        windows.append(' '.join(words[start:end]))\n",
    "\n",
    "    return windows"
   ],
   "metadata": {
    "collapsed": false,
    "ExecuteTime": {
     "end_time": "2024-05-15T19:50:47.291687Z",
     "start_time": "2024-05-15T19:50:47.289085Z"
    }
   },
   "id": "d889a6ecddf30d8c"
  },
  {
   "cell_type": "code",
   "execution_count": 122,
   "outputs": [],
   "source": [
    "search_cities = ['God']\n",
    "\n",
    "entries_with_cities = find_entries_containing_entities(df_east, entity_indices_east, search_cities)"
   ],
   "metadata": {
    "collapsed": false,
    "ExecuteTime": {
     "end_time": "2024-05-15T19:56:25.840957Z",
     "start_time": "2024-05-15T19:56:25.773042Z"
    }
   },
   "id": "ea5bca8ddc93d37f"
  },
  {
   "cell_type": "code",
   "execution_count": 124,
   "outputs": [
    {
     "data": {
      "text/plain": "               Artist                  Album  \\\n256               Nas               Illmatic   \n259               Nas               Illmatic   \n132           Run-DMC     Down With The King   \n261               Nas               Illmatic   \n637        Gang Starr   No More Mr. Nice Guy   \n..                ...                    ...   \n251               Nas         It Was Written   \n252               Nas         It Was Written   \n253               Nas         It Was Written   \n638        Gang Starr   No More Mr. Nice Guy   \n383  Erik B and Rakim  Let the Rhythm Hit em   \n\n                                        Song       Coast  Release Year  \\\n256                It Ain't Hard to Tell.mp3  east_coast          1994   \n259                   The World Is Yours.mp3  east_coast          1994   \n132                         To The Maker.mp3  east_coast          1993   \n261                             Halftime.mp3  east_coast          1994   \n637                 Gang Starr - Gotch U.mp3  east_coast          1989   \n..                                       ...         ...           ...   \n251                        Street Dreams.mp3  east_coast          1996   \n252                           The Set Up.mp3  east_coast          1996   \n253  If I Ruled the World (Imagine That).mp3  east_coast          1996   \n638            Gang Starr - 2 Step Ahead.mp3  east_coast          1989   \n383              KEEP EM EAGER TO LISTEN.mp3  east_coast          1990   \n\n         Tempo1     Tempo2  Duration (s)  Sample Rate (Hz)  \\\n256   90.909091  45.801527    202.106667             48000   \n259   86.956522  43.795620    290.573333             48000   \n132  171.428571  86.956522     24.800000             48000   \n261   92.307692  45.801527    260.800000             48000   \n637  117.647059  58.823529    189.323917             48000   \n..          ...        ...           ...               ...   \n251   90.909091  45.454545    279.933333             48000   \n252   96.774194  48.000000    241.640000             48000   \n253   93.750000  46.875000    282.373333             48000   \n638  117.647059  59.405941    230.446458             48000   \n383   95.238095   0.251943    278.291167             48000   \n\n                                                  Path  \\\n256  /Users/borosabel/Documents/Uni/Thesis/PopMIR/D...   \n259  /Users/borosabel/Documents/Uni/Thesis/PopMIR/D...   \n132  /Users/borosabel/Documents/Uni/Thesis/PopMIR/D...   \n261  /Users/borosabel/Documents/Uni/Thesis/PopMIR/D...   \n637  /Users/borosabel/Documents/Uni/Thesis/PopMIR/D...   \n..                                                 ...   \n251  /Users/borosabel/Documents/Uni/Thesis/PopMIR/D...   \n252  /Users/borosabel/Documents/Uni/Thesis/PopMIR/D...   \n253  /Users/borosabel/Documents/Uni/Thesis/PopMIR/D...   \n638  /Users/borosabel/Documents/Uni/Thesis/PopMIR/D...   \n383  /Users/borosabel/Documents/Uni/Thesis/PopMIR/D...   \n\n                                                Lyrics  \\\n256  Uh Q. B. since 1933 To nine-six Check the shit...   \n259  Motherfucking Dre, whassup my nigga? Sup Nas? ...   \n132  Linden Boulevard represent, represent Tribe Ca...   \n261  Street's disciple, my raps are trifle I shoot ...   \n637  It's a Hell Up in Harlem, fuckit, another day ...   \n..                                                 ...   \n251  Yo, release what's in me Besides the Henny, it...   \n252  Fresh out the motherfuckin' pack For niggas do...   \n253  They never realized how real Nas is, so decisi...   \n638  One, one two Check me out right here yo Yo, th...   \n383  Planet Earth was my place of birth Born to be ...   \n\n                                           Topic Model  \\\n256  ['nigga', 'shit', 'ride', 'dick', 'bitch', 'di...   \n259  ['nigga', 'shit', 'ride', 'dick', 'bitch', 'di...   \n132  ['rhyme', 'cuz', 'soul', 'rhythm', 'stage', 'l...   \n261  ['rhyme', 'cuz', 'soul', 'rhythm', 'stage', 'l...   \n637  ['rhyme', 'cuz', 'soul', 'rhythm', 'stage', 'l...   \n..                                                 ...   \n251  ['nigga', 'shit', 'ride', 'dick', 'bitch', 'di...   \n252  ['nigga', 'shit', 'ride', 'dick', 'bitch', 'di...   \n253  ['nigga', 'shit', 'ride', 'dick', 'bitch', 'di...   \n638  ['nigga', 'shit', 'ride', 'dick', 'bitch', 'di...   \n383  ['nigga', 'shit', 'ride', 'dick', 'bitch', 'di...   \n\n                                        Named_Entities  Topic Model Index  \n256  [{'entity': 'Escobar', 'type': 'PER', 'score':...                  1  \n259  [{'entity': 'Dr', 'type': 'PER', 'score': 0.81...                  1  \n132  [{'entity': 'Linden Boulevard', 'type': 'ORG',...                  0  \n261  [{'entity': 'Mr', 'type': 'PER', 'score': 0.86...                  0  \n637  [{'entity': 'Harlem', 'type': 'LOC', 'score': ...                  0  \n..                                                 ...                ...  \n251  [{'entity': 'He', 'type': 'PER', 'score': 0.45...                  1  \n252  [{'entity': 'NYC', 'type': 'ORG', 'score': 0.7...                  1  \n253  [{'entity': 'Nas', 'type': 'PER', 'score': 0.8...                  1  \n638  [{'entity': 'P', 'type': 'PER', 'score': 0.936...                  1  \n383  [{'entity': 'Planet Earth', 'type': 'LOC', 'sc...                  1  \n\n[72 rows x 14 columns]",
      "text/html": "<div>\n<style scoped>\n    .dataframe tbody tr th:only-of-type {\n        vertical-align: middle;\n    }\n\n    .dataframe tbody tr th {\n        vertical-align: top;\n    }\n\n    .dataframe thead th {\n        text-align: right;\n    }\n</style>\n<table border=\"1\" class=\"dataframe\">\n  <thead>\n    <tr style=\"text-align: right;\">\n      <th></th>\n      <th>Artist</th>\n      <th>Album</th>\n      <th>Song</th>\n      <th>Coast</th>\n      <th>Release Year</th>\n      <th>Tempo1</th>\n      <th>Tempo2</th>\n      <th>Duration (s)</th>\n      <th>Sample Rate (Hz)</th>\n      <th>Path</th>\n      <th>Lyrics</th>\n      <th>Topic Model</th>\n      <th>Named_Entities</th>\n      <th>Topic Model Index</th>\n    </tr>\n  </thead>\n  <tbody>\n    <tr>\n      <th>256</th>\n      <td>Nas</td>\n      <td>Illmatic</td>\n      <td>It Ain't Hard to Tell.mp3</td>\n      <td>east_coast</td>\n      <td>1994</td>\n      <td>90.909091</td>\n      <td>45.801527</td>\n      <td>202.106667</td>\n      <td>48000</td>\n      <td>/Users/borosabel/Documents/Uni/Thesis/PopMIR/D...</td>\n      <td>Uh Q. B. since 1933 To nine-six Check the shit...</td>\n      <td>['nigga', 'shit', 'ride', 'dick', 'bitch', 'di...</td>\n      <td>[{'entity': 'Escobar', 'type': 'PER', 'score':...</td>\n      <td>1</td>\n    </tr>\n    <tr>\n      <th>259</th>\n      <td>Nas</td>\n      <td>Illmatic</td>\n      <td>The World Is Yours.mp3</td>\n      <td>east_coast</td>\n      <td>1994</td>\n      <td>86.956522</td>\n      <td>43.795620</td>\n      <td>290.573333</td>\n      <td>48000</td>\n      <td>/Users/borosabel/Documents/Uni/Thesis/PopMIR/D...</td>\n      <td>Motherfucking Dre, whassup my nigga? Sup Nas? ...</td>\n      <td>['nigga', 'shit', 'ride', 'dick', 'bitch', 'di...</td>\n      <td>[{'entity': 'Dr', 'type': 'PER', 'score': 0.81...</td>\n      <td>1</td>\n    </tr>\n    <tr>\n      <th>132</th>\n      <td>Run-DMC</td>\n      <td>Down With The King</td>\n      <td>To The Maker.mp3</td>\n      <td>east_coast</td>\n      <td>1993</td>\n      <td>171.428571</td>\n      <td>86.956522</td>\n      <td>24.800000</td>\n      <td>48000</td>\n      <td>/Users/borosabel/Documents/Uni/Thesis/PopMIR/D...</td>\n      <td>Linden Boulevard represent, represent Tribe Ca...</td>\n      <td>['rhyme', 'cuz', 'soul', 'rhythm', 'stage', 'l...</td>\n      <td>[{'entity': 'Linden Boulevard', 'type': 'ORG',...</td>\n      <td>0</td>\n    </tr>\n    <tr>\n      <th>261</th>\n      <td>Nas</td>\n      <td>Illmatic</td>\n      <td>Halftime.mp3</td>\n      <td>east_coast</td>\n      <td>1994</td>\n      <td>92.307692</td>\n      <td>45.801527</td>\n      <td>260.800000</td>\n      <td>48000</td>\n      <td>/Users/borosabel/Documents/Uni/Thesis/PopMIR/D...</td>\n      <td>Street's disciple, my raps are trifle I shoot ...</td>\n      <td>['rhyme', 'cuz', 'soul', 'rhythm', 'stage', 'l...</td>\n      <td>[{'entity': 'Mr', 'type': 'PER', 'score': 0.86...</td>\n      <td>0</td>\n    </tr>\n    <tr>\n      <th>637</th>\n      <td>Gang Starr</td>\n      <td>No More Mr. Nice Guy</td>\n      <td>Gang Starr - Gotch U.mp3</td>\n      <td>east_coast</td>\n      <td>1989</td>\n      <td>117.647059</td>\n      <td>58.823529</td>\n      <td>189.323917</td>\n      <td>48000</td>\n      <td>/Users/borosabel/Documents/Uni/Thesis/PopMIR/D...</td>\n      <td>It's a Hell Up in Harlem, fuckit, another day ...</td>\n      <td>['rhyme', 'cuz', 'soul', 'rhythm', 'stage', 'l...</td>\n      <td>[{'entity': 'Harlem', 'type': 'LOC', 'score': ...</td>\n      <td>0</td>\n    </tr>\n    <tr>\n      <th>...</th>\n      <td>...</td>\n      <td>...</td>\n      <td>...</td>\n      <td>...</td>\n      <td>...</td>\n      <td>...</td>\n      <td>...</td>\n      <td>...</td>\n      <td>...</td>\n      <td>...</td>\n      <td>...</td>\n      <td>...</td>\n      <td>...</td>\n      <td>...</td>\n    </tr>\n    <tr>\n      <th>251</th>\n      <td>Nas</td>\n      <td>It Was Written</td>\n      <td>Street Dreams.mp3</td>\n      <td>east_coast</td>\n      <td>1996</td>\n      <td>90.909091</td>\n      <td>45.454545</td>\n      <td>279.933333</td>\n      <td>48000</td>\n      <td>/Users/borosabel/Documents/Uni/Thesis/PopMIR/D...</td>\n      <td>Yo, release what's in me Besides the Henny, it...</td>\n      <td>['nigga', 'shit', 'ride', 'dick', 'bitch', 'di...</td>\n      <td>[{'entity': 'He', 'type': 'PER', 'score': 0.45...</td>\n      <td>1</td>\n    </tr>\n    <tr>\n      <th>252</th>\n      <td>Nas</td>\n      <td>It Was Written</td>\n      <td>The Set Up.mp3</td>\n      <td>east_coast</td>\n      <td>1996</td>\n      <td>96.774194</td>\n      <td>48.000000</td>\n      <td>241.640000</td>\n      <td>48000</td>\n      <td>/Users/borosabel/Documents/Uni/Thesis/PopMIR/D...</td>\n      <td>Fresh out the motherfuckin' pack For niggas do...</td>\n      <td>['nigga', 'shit', 'ride', 'dick', 'bitch', 'di...</td>\n      <td>[{'entity': 'NYC', 'type': 'ORG', 'score': 0.7...</td>\n      <td>1</td>\n    </tr>\n    <tr>\n      <th>253</th>\n      <td>Nas</td>\n      <td>It Was Written</td>\n      <td>If I Ruled the World (Imagine That).mp3</td>\n      <td>east_coast</td>\n      <td>1996</td>\n      <td>93.750000</td>\n      <td>46.875000</td>\n      <td>282.373333</td>\n      <td>48000</td>\n      <td>/Users/borosabel/Documents/Uni/Thesis/PopMIR/D...</td>\n      <td>They never realized how real Nas is, so decisi...</td>\n      <td>['nigga', 'shit', 'ride', 'dick', 'bitch', 'di...</td>\n      <td>[{'entity': 'Nas', 'type': 'PER', 'score': 0.8...</td>\n      <td>1</td>\n    </tr>\n    <tr>\n      <th>638</th>\n      <td>Gang Starr</td>\n      <td>No More Mr. Nice Guy</td>\n      <td>Gang Starr - 2 Step Ahead.mp3</td>\n      <td>east_coast</td>\n      <td>1989</td>\n      <td>117.647059</td>\n      <td>59.405941</td>\n      <td>230.446458</td>\n      <td>48000</td>\n      <td>/Users/borosabel/Documents/Uni/Thesis/PopMIR/D...</td>\n      <td>One, one two Check me out right here yo Yo, th...</td>\n      <td>['nigga', 'shit', 'ride', 'dick', 'bitch', 'di...</td>\n      <td>[{'entity': 'P', 'type': 'PER', 'score': 0.936...</td>\n      <td>1</td>\n    </tr>\n    <tr>\n      <th>383</th>\n      <td>Erik B and Rakim</td>\n      <td>Let the Rhythm Hit em</td>\n      <td>KEEP EM EAGER TO LISTEN.mp3</td>\n      <td>east_coast</td>\n      <td>1990</td>\n      <td>95.238095</td>\n      <td>0.251943</td>\n      <td>278.291167</td>\n      <td>48000</td>\n      <td>/Users/borosabel/Documents/Uni/Thesis/PopMIR/D...</td>\n      <td>Planet Earth was my place of birth Born to be ...</td>\n      <td>['nigga', 'shit', 'ride', 'dick', 'bitch', 'di...</td>\n      <td>[{'entity': 'Planet Earth', 'type': 'LOC', 'sc...</td>\n      <td>1</td>\n    </tr>\n  </tbody>\n</table>\n<p>72 rows × 14 columns</p>\n</div>"
     },
     "execution_count": 124,
     "metadata": {},
     "output_type": "execute_result"
    }
   ],
   "source": [
    "entries_with_cities"
   ],
   "metadata": {
    "collapsed": false,
    "ExecuteTime": {
     "end_time": "2024-05-15T19:56:36.287372Z",
     "start_time": "2024-05-15T19:56:36.242280Z"
    }
   },
   "id": "fcddf962ec5223c5"
  },
  {
   "cell_type": "code",
   "execution_count": 125,
   "outputs": [],
   "source": [
    "# context_word = 'California'\n",
    "# contexts = extract_contexts(df_east_2, entity_indices_east_2, context_word)\n",
    "# \n",
    "# # Print or inspect the contexts\n",
    "# for entity, context_list in contexts.items():\n",
    "#     print(f\"Contexts for {entity}:\")\n",
    "#     for context in context_list:\n",
    "#         print(f\"Row Index: {context['row_index']}, Context: {context['context']}\")"
   ],
   "metadata": {
    "collapsed": false,
    "ExecuteTime": {
     "end_time": "2024-05-15T20:00:44.124737Z",
     "start_time": "2024-05-15T20:00:44.091869Z"
    }
   },
   "id": "bb80f45487e1a975"
  },
  {
   "cell_type": "code",
   "execution_count": 137,
   "outputs": [],
   "source": [
    "def plot_top_person_entities(most_common_east, most_common_west):\n",
    "    # Extract top person entities and their counts\n",
    "    top_persons_east = {entity: count for entity, count in most_common_east.get('PER', [])[:1]}\n",
    "    top_persons_west = {entity: count for entity, count in most_common_west.get('PER', [])[:1]}\n",
    "\n",
    "    # Calculate total counts for each coast\n",
    "    total_east = sum(count for entity, count in most_common_east.get('PER', []))\n",
    "    total_west = sum(count for entity, count in most_common_west.get('PER', []))\n",
    "\n",
    "    # Combine the data into a DataFrame for plotting\n",
    "    data = []\n",
    "    for entity, count in top_persons_east.items():\n",
    "        percentage = (count / total_east) * 100 if total_east > 0 else 0\n",
    "        data.append({'Entity': entity, 'Count': count, 'Percentage': percentage, 'Coast': 'East'})\n",
    "    for entity, count in top_persons_west.items():\n",
    "        percentage = (count / total_west) * 100 if total_west > 0 else 0\n",
    "        data.append({'Entity': entity, 'Count': count, 'Percentage': percentage, 'Coast': 'West'})\n",
    "\n",
    "    df_plot = pd.DataFrame(data)\n",
    "\n",
    "    # Plot the data\n",
    "    plt.figure(figsize=(12, 6))\n",
    "    ax = sns.barplot(x='Entity', y='Count', hue='Coast', data=df_plot, palette={'East': 'blue', 'West': 'red'})\n",
    "    plt.title('Most Popular Person Entity in East Coast and West Coast')\n",
    "    plt.xticks(rotation=45)\n",
    "\n",
    "    # Add count and percentage labels on top of the bars\n",
    "    for p in ax.patches:\n",
    "        height = p.get_height()\n",
    "        if height > 0:\n",
    "            ax.annotate(f'{int(height)}',\n",
    "                        (p.get_x() + p.get_width() / 2., height),\n",
    "                        ha='center', va='bottom', fontsize=10)\n",
    "\n",
    "    plt.show()"
   ],
   "metadata": {
    "collapsed": false,
    "ExecuteTime": {
     "end_time": "2024-05-15T20:15:58.667241Z",
     "start_time": "2024-05-15T20:15:58.663793Z"
    }
   },
   "id": "78ced9b47a0a2c7b"
  },
  {
   "cell_type": "code",
   "execution_count": 138,
   "outputs": [
    {
     "data": {
      "text/plain": "<Figure size 1200x600 with 1 Axes>",
      "image/png": "[encoded data removed]"
     },
     "metadata": {},
     "output_type": "display_data"
    }
   ],
   "source": [
    "plot_top_person_entities(most_common_by_type_east, most_common_by_type_west)"
   ],
   "metadata": {
    "collapsed": false,
    "ExecuteTime": {
     "end_time": "2024-05-15T20:15:59.300320Z",
     "start_time": "2024-05-15T20:15:59.218257Z"
    }
   },
   "id": "207fb0fa88e086b3"
  },
  {
   "cell_type": "code",
   "execution_count": 6,
   "outputs": [],
   "source": [
    "def plot_top_location_entities(most_common_east, most_common_west):\n",
    "    # Extract top person entities and their counts\n",
    "    top_persons_east = {entity: count for entity, count in most_common_east.get('LOC', [])[:10]}\n",
    "    top_persons_west = {entity: count for entity, count in most_common_west.get('LOC', [])[:10]}\n",
    "\n",
    "    # Calculate total counts for each coast\n",
    "    total_east = sum(count for entity, count in most_common_east.get('LOC', []))\n",
    "    total_west = sum(count for entity, count in most_common_west.get('LOC', []))\n",
    "\n",
    "    # Combine the data into a DataFrame for plotting\n",
    "    data = []\n",
    "    for entity, count in top_persons_east.items():\n",
    "        percentage = (count / total_east) * 100 if total_east > 0 else 0\n",
    "        data.append({'Entity': entity, 'Count': count, 'Percentage': percentage, 'Coast': 'East'})\n",
    "    for entity, count in top_persons_west.items():\n",
    "        percentage = (count / total_west) * 100 if total_west > 0 else 0\n",
    "        data.append({'Entity': entity, 'Count': count, 'Percentage': percentage, 'Coast': 'West'})\n",
    "\n",
    "    df_plot = pd.DataFrame(data)\n",
    "\n",
    "    # Plot the data\n",
    "    plt.figure(figsize=(12, 6))\n",
    "    ax = sns.barplot(x='Entity', y='Count', hue='Coast', data=df_plot, palette={'East': 'blue', 'West': 'red'})\n",
    "    plt.title('Most Popular Person Entity in East Coast and West Coast')\n",
    "    plt.xticks(rotation=45)\n",
    "\n",
    "    # Add count and percentage labels on top of the bars\n",
    "    for p in ax.patches:\n",
    "        height = p.get_height()\n",
    "        if height > 0:\n",
    "            ax.annotate(f'{int(height)}',\n",
    "                        (p.get_x() + p.get_width() / 2., height),\n",
    "                        ha='center', va='bottom', fontsize=10)\n",
    "\n",
    "    plt.show()"
   ],
   "metadata": {
    "collapsed": false,
    "ExecuteTime": {
     "end_time": "2024-05-17T10:34:49.952746Z",
     "start_time": "2024-05-17T10:34:49.951493Z"
    }
   },
   "id": "574db8e7cfc601e8"
  },
  {
   "cell_type": "code",
   "execution_count": 7,
   "outputs": [
    {
     "ename": "NameError",
     "evalue": "name 'most_common_by_type_east' is not defined",
     "output_type": "error",
     "traceback": [
      "\u001B[0;31m---------------------------------------------------------------------------\u001B[0m",
      "\u001B[0;31mNameError\u001B[0m                                 Traceback (most recent call last)",
      "Cell \u001B[0;32mIn[7], line 1\u001B[0m\n\u001B[0;32m----> 1\u001B[0m plot_top_location_entities(\u001B[43mmost_common_by_type_east\u001B[49m, most_common_by_type_west)\n",
      "\u001B[0;31mNameError\u001B[0m: name 'most_common_by_type_east' is not defined"
     ]
    }
   ],
   "source": [
    "plot_top_location_entities(most_common_by_type_east, most_common_by_type_west)"
   ],
   "metadata": {
    "collapsed": false,
    "ExecuteTime": {
     "end_time": "2024-05-17T10:34:51.268537Z",
     "start_time": "2024-05-17T10:34:51.084754Z"
    }
   },
   "id": "8085aa148ac55dad"
  },
  {
   "cell_type": "code",
   "execution_count": 16,
   "outputs": [],
   "source": [
    "def populate_locations_by_coast(df):\n",
    "    locations_by_coast = defaultdict(list)\n",
    "\n",
    "    for index, row in df.iterrows():\n",
    "        if isinstance(row['Named_Entities'], list):\n",
    "            for entity in row['Named_Entities']:\n",
    "                if entity['type'] == 'LOC' and entity['score'] > 0.5:  # Assuming 'LOC' is the type for locations\n",
    "                    locations_by_coast[row['Coast']].append(entity['entity'])\n",
    "\n",
    "    return locations_by_coast"
   ],
   "metadata": {
    "collapsed": false,
    "ExecuteTime": {
     "end_time": "2024-05-17T17:17:09.470316Z",
     "start_time": "2024-05-17T17:17:09.467353Z"
    }
   },
   "id": "f2c63ffaecace20f"
  },
  {
   "cell_type": "code",
   "execution_count": 17,
   "outputs": [],
   "source": [
    "locations_by_coast = populate_locations_by_coast(df)\n",
    "\n",
    "# Convert the dictionary to a DataFrame for easier handling\n",
    "location_data = []\n",
    "for coast, locations in locations_by_coast.items():\n",
    "    for location in locations:\n",
    "            location_data.append({'Coast': coast, 'Location': location})\n",
    "\n",
    "location_df = pd.DataFrame(location_data)"
   ],
   "metadata": {
    "collapsed": false,
    "ExecuteTime": {
     "end_time": "2024-05-17T17:17:15.264492Z",
     "start_time": "2024-05-17T17:17:15.212413Z"
    }
   },
   "id": "81ff3a88210da4a2"
  },
  {
   "cell_type": "code",
   "execution_count": 18,
   "outputs": [
    {
     "data": {
      "text/plain": "           Coast    Location\n0     east_coast    New York\n1     east_coast  California\n2     east_coast    New York\n3     east_coast      Canada\n4     east_coast           N\n...          ...         ...\n1600  west_coast        Phil\n1601  west_coast        Phil\n1602  west_coast     Compton\n1603  west_coast           L\n1604  west_coast           A\n\n[1605 rows x 2 columns]",
      "text/html": "<div>\n<style scoped>\n    .dataframe tbody tr th:only-of-type {\n        vertical-align: middle;\n    }\n\n    .dataframe tbody tr th {\n        vertical-align: top;\n    }\n\n    .dataframe thead th {\n        text-align: right;\n    }\n</style>\n<table border=\"1\" class=\"dataframe\">\n  <thead>\n    <tr style=\"text-align: right;\">\n      <th></th>\n      <th>Coast</th>\n      <th>Location</th>\n    </tr>\n  </thead>\n  <tbody>\n    <tr>\n      <th>0</th>\n      <td>east_coast</td>\n      <td>New York</td>\n    </tr>\n    <tr>\n      <th>1</th>\n      <td>east_coast</td>\n      <td>California</td>\n    </tr>\n    <tr>\n      <th>2</th>\n      <td>east_coast</td>\n      <td>New York</td>\n    </tr>\n    <tr>\n      <th>3</th>\n      <td>east_coast</td>\n      <td>Canada</td>\n    </tr>\n    <tr>\n      <th>4</th>\n      <td>east_coast</td>\n      <td>N</td>\n    </tr>\n    <tr>\n      <th>...</th>\n      <td>...</td>\n      <td>...</td>\n    </tr>\n    <tr>\n      <th>1600</th>\n      <td>west_coast</td>\n      <td>Phil</td>\n    </tr>\n    <tr>\n      <th>1601</th>\n      <td>west_coast</td>\n      <td>Phil</td>\n    </tr>\n    <tr>\n      <th>1602</th>\n      <td>west_coast</td>\n      <td>Compton</td>\n    </tr>\n    <tr>\n      <th>1603</th>\n      <td>west_coast</td>\n      <td>L</td>\n    </tr>\n    <tr>\n      <th>1604</th>\n      <td>west_coast</td>\n      <td>A</td>\n    </tr>\n  </tbody>\n</table>\n<p>1605 rows × 2 columns</p>\n</div>"
     },
     "execution_count": 18,
     "metadata": {},
     "output_type": "execute_result"
    }
   ],
   "source": [
    "location_df"
   ],
   "metadata": {
    "collapsed": false,
    "ExecuteTime": {
     "end_time": "2024-05-17T17:17:16.349452Z",
     "start_time": "2024-05-17T17:17:16.340948Z"
    }
   },
   "id": "4d6a8ed37d6c4282"
  },
  {
   "cell_type": "code",
   "execution_count": 20,
   "outputs": [],
   "source": [
    "# Save the DataFrame to an Excel file\n",
    "location_df.to_excel('locations_by_coast.xlsx', index=False)"
   ],
   "metadata": {
    "collapsed": false,
    "ExecuteTime": {
     "end_time": "2024-05-17T17:17:33.974418Z",
     "start_time": "2024-05-17T17:17:33.905081Z"
    }
   },
   "id": "6be377c47f65a5b8"
  },
  {
   "cell_type": "code",
   "execution_count": null,
   "outputs": [],
   "source": [],
   "metadata": {
    "collapsed": false
   },
   "id": "68bdfc3b6c5eb133"
  }
 ],
 "metadata": {
  "kernelspec": {
   "display_name": "Python 3",
   "language": "python",
   "name": "python3"
  },
  "language_info": {
   "codemirror_mode": {
    "name": "ipython",
    "version": 2
   },
   "file_extension": ".py",
   "mimetype": "text/x-python",
   "name": "python",
   "nbconvert_exporter": "python",
   "pygments_lexer": "ipython2",
   "version": "2.7.6"
  }
 },
 "nbformat": 4,
 "nbformat_minor": 5
}
