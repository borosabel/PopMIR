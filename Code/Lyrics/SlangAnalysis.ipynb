{
 "cells": [
  {
   "cell_type": "code",
   "execution_count": 23,
   "id": "initial_id",
   "metadata": {
    "collapsed": true,
    "ExecuteTime": {
     "end_time": "2024-05-10T12:09:58.016209Z",
     "start_time": "2024-05-10T12:09:57.388755Z"
    }
   },
   "source": [
    "import string\n",
    "import spacy\n",
    "spacy_nlp = spacy.load(\"en_core_web_sm\")\n",
    "import numpy as np\n",
    "from spacy.lang.en.stop_words import STOP_WORDS\n",
    "import utility_functions as utils\n",
    "import importlib\n",
    "import pandas as pd\n",
    "from collections import defaultdict\n",
    "import pandas as pd\n",
    "import matplotlib.pyplot as plt\n",
    "\n",
    "importlib.reload(utils)\n",
    "\n",
    "data = '/Users/borosabel/Documents/Uni/Thesis/PopMIR/Data/Audio/test.json'\n",
    "\n",
    "custom_stop_words = list(STOP_WORDS)  # Existing stop words\n",
    "custom_stop_words.extend([\"ll\", \"ve\", \"'em\", \"em\", \"ho\", \"fo\", \"ah\", \"de\"])  # Tokens which doesn't really make sense to have them."
   ],
   "outputs": []
  },
  {
   "cell_type": "code",
   "execution_count": 24,
   "source": [
    "df = pd.read_excel('/Users/borosabel/Documents/Uni/Thesis/PopMIR/Code/Audio/baseline_data.xlsx', engine='openpyxl')"
   ],
   "metadata": {
    "collapsed": false,
    "ExecuteTime": {
     "end_time": "2024-05-10T12:09:59.043720Z",
     "start_time": "2024-05-10T12:09:58.867888Z"
    }
   },
   "id": "990346a5aec9b7c",
   "outputs": []
  },
  {
   "cell_type": "code",
   "execution_count": 25,
   "source": [
    "# I apply a general cleanup function to the lyrics (Either way it gets preprocessed later with Octis)\n",
    "df['Lyrics'] = df['Lyrics'].apply(utils.cleanup) "
   ],
   "metadata": {
    "collapsed": false,
    "ExecuteTime": {
     "end_time": "2024-05-10T12:12:02.657833Z",
     "start_time": "2024-05-10T12:09:59.223725Z"
    }
   },
   "id": "69aaf43d0ae986c4",
   "outputs": []
  },
  {
   "cell_type": "code",
   "execution_count": 26,
   "source": [
    "from nltk.tokenize import word_tokenize\n",
    "\n",
    "def tokenize_lyrics(text):\n",
    "    return word_tokenize(text)"
   ],
   "metadata": {
    "collapsed": false,
    "ExecuteTime": {
     "end_time": "2024-05-10T12:12:02.662811Z",
     "start_time": "2024-05-10T12:12:02.658451Z"
    }
   },
   "id": "71d98e93cf30dc84",
   "outputs": []
  },
  {
   "cell_type": "code",
   "execution_count": 27,
   "source": [
    "df['tokens'] = df['Lyrics'].apply(tokenize_lyrics)\n",
    "\n",
    "from collections import defaultdict\n",
    "import pandas as pd\n",
    "import matplotlib.pyplot as plt\n",
    "\n",
    "# Assuming df['Lyrics'] is already cleaned and tokenized\n",
    "df['tokens'] = df['Lyrics'].apply(tokenize_lyrics)\n",
    "\n",
    "def get_yearly_frequency(tokens_list, year):\n",
    "    freq_dict = defaultdict(int)\n",
    "    for token in tokens_list:\n",
    "        freq_dict[token] += 1\n",
    "    return pd.DataFrame.from_dict(freq_dict, orient='index', columns=[year])\n",
    "\n",
    "# Initialize dictionaries for each coast\n",
    "yearly_data_east = {}\n",
    "yearly_data_west = {}\n",
    "\n",
    "# Group by year and coast\n",
    "for (year, coast), group in df.groupby(['Release Year', 'Coast']):\n",
    "    yearly_freq = pd.concat([get_yearly_frequency(row['tokens'], year) for index, row in group.iterrows()])\n",
    "    yearly_freq = yearly_freq.groupby(yearly_freq.index).sum()\n",
    "    if coast == 'east_coast':\n",
    "        yearly_data_east[year] = yearly_freq\n",
    "    elif coast == 'west_coast':\n",
    "        yearly_data_west[year] = yearly_freq\n",
    "\n",
    "# Combine all years into a single DataFrame for each coast\n",
    "freq_df_east = pd.concat(yearly_data_east, axis=1).fillna(0)\n",
    "freq_df_west = pd.concat(yearly_data_west, axis=1).fillna(0)\n",
    "\n",
    "def normalize_frequency(freq_df):\n",
    "    # Sum the total words for each year and normalize frequencies per 100,000 words\n",
    "    total_words_per_year = freq_df.sum(axis=0)\n",
    "    normalized_df = (freq_df.div(total_words_per_year, axis=1) * 100000)  # Normalize per 100,000 words\n",
    "    return normalized_df\n",
    "\n",
    "# Calculate frequencies and then normalize them\n",
    "freq_df_east_normalized = normalize_frequency(freq_df_east)\n",
    "freq_df_west_normalized = normalize_frequency(freq_df_west)\n",
    "\n",
    "def plot_word_trends(word, freq_df_east, freq_df_west):\n",
    "    if word in freq_df_east.index or word in freq_df_west.index:\n",
    "        ax = freq_df_east.loc[word].plot(kind='line', color='blue', title=f'Trend for \"{word}\"', label='East Coast')\n",
    "        freq_df_west.loc[word].plot(ax=ax, kind='line', color='red', label='West Coast')\n",
    "\n",
    "        # Make sure all_years is a sorted list of unique, flat years suitable for x-ticks\n",
    "        all_years = sorted(set(freq_df_east.columns.union(freq_df_west.columns)))\n",
    "        ax.set_xticks(all_years)  # Set x-ticks to these years\n",
    "        ax.set_xticklabels(all_years, rotation=45)  # Set labels to the same years, rotate for visibility\n",
    "\n",
    "        plt.xlabel('Year')\n",
    "        plt.ylabel('Frequency per 100,000 Words')\n",
    "        plt.legend()\n",
    "        plt.tight_layout()  # Adjust layout to make room for label rotation\n",
    "        plt.show()\n",
    "    else:\n",
    "        print(f'Word \"{word}\" not found in the lyrics.')\n",
    "\n",
    "\n",
    "# Example usage of the function with normalized data\n",
    "plot_word_trends('nigga', freq_df_east_normalized, freq_df_west_normalized)"
   ],
   "metadata": {
    "collapsed": false,
    "ExecuteTime": {
     "end_time": "2024-05-10T12:12:05.317913Z",
     "start_time": "2024-05-10T12:12:02.679301Z"
    }
   },
   "id": "5620bf38ddabc4b6",
   "outputs": []
  },
  {
   "cell_type": "code",
   "execution_count": 13,
   "source": [
    "plot_word_trends('shit', freq_df_east, freq_df_west)"
   ],
   "metadata": {
    "collapsed": false,
    "ExecuteTime": {
     "end_time": "2024-05-09T20:42:12.346089Z",
     "start_time": "2024-05-09T20:42:12.255778Z"
    }
   },
   "id": "643f607d115fdda5",
   "outputs": []
  },
  {
   "cell_type": "code",
   "execution_count": 14,
   "source": [
    "plot_word_trends('fuck', freq_df_east, freq_df_west)"
   ],
   "metadata": {
    "collapsed": false,
    "ExecuteTime": {
     "end_time": "2024-05-09T20:42:22.304745Z",
     "start_time": "2024-05-09T20:42:22.196781Z"
    }
   },
   "id": "e3ed1ef677e40cfe",
   "outputs": []
  },
  {
   "cell_type": "code",
   "execution_count": 15,
   "source": [
    "plot_word_trends('bitch', freq_df_east, freq_df_west)"
   ],
   "metadata": {
    "collapsed": false,
    "ExecuteTime": {
     "end_time": "2024-05-09T20:42:31.953263Z",
     "start_time": "2024-05-09T20:42:31.842057Z"
    }
   },
   "id": "3c754b9f69b5ee42",
   "outputs": []
  },
  {
   "cell_type": "code",
   "execution_count": 16,
   "source": [
    "plot_word_trends('love', freq_df_east, freq_df_west)"
   ],
   "metadata": {
    "collapsed": false,
    "ExecuteTime": {
     "end_time": "2024-05-09T20:42:59.098023Z",
     "start_time": "2024-05-09T20:42:58.977769Z"
    }
   },
   "id": "17d8223654dd6a9",
   "outputs": []
  },
  {
   "cell_type": "code",
   "execution_count": 22,
   "source": [
    "plot_word_trends('rhyme', freq_df_east, freq_df_west)"
   ],
   "metadata": {
    "collapsed": false,
    "ExecuteTime": {
     "end_time": "2024-05-09T21:46:03.879961Z",
     "start_time": "2024-05-09T21:46:03.780124Z"
    }
   },
   "id": "218b14acd9e1e3ae",
   "outputs": []
  },
  {
   "cell_type": "code",
   "execution_count": 20,
   "source": [
    "import spacy\n",
    "\n",
    "# Load the small English model\n",
    "nlp = spacy.load('en_core_web_sm')"
   ],
   "metadata": {
    "collapsed": false,
    "ExecuteTime": {
     "end_time": "2024-05-09T21:33:59.881369Z",
     "start_time": "2024-05-09T21:33:59.608712Z"
    }
   },
   "id": "505fb095dc52b4e",
   "outputs": []
  },
  {
   "cell_type": "code",
   "execution_count": 21,
   "source": [
    "def extract_entities(lyrics):\n",
    "    doc = nlp(lyrics)\n",
    "    entities = []\n",
    "    for ent in doc.ents:\n",
    "        entities.append((ent.text, ent.label_))\n",
    "    return entities\n",
    "\n",
    "entities = extract_entities(lyrics)\n",
    "for entity in entities:\n",
    "    print(entity)\n"
   ],
   "metadata": {
    "collapsed": false,
    "ExecuteTime": {
     "end_time": "2024-05-09T21:34:08.834352Z",
     "start_time": "2024-05-09T21:34:08.821384Z"
    }
   },
   "id": "d36966ee5b6d737",
   "outputs": []
  },
  {
   "cell_type": "code",
   "execution_count": null,
   "source": [],
   "metadata": {
    "collapsed": false
   },
   "id": "1ac34243f495bf24",
   "outputs": []
  }
 ],
 "metadata": {
  "kernelspec": {
   "display_name": "Python 3",
   "language": "python",
   "name": "python3"
  },
  "language_info": {
   "codemirror_mode": {
    "name": "ipython",
    "version": 2
   },
   "file_extension": ".py",
   "mimetype": "text/x-python",
   "name": "python",
   "nbconvert_exporter": "python",
   "pygments_lexer": "ipython2",
   "version": "2.7.6"
  }
 },
 "nbformat": 4,
 "nbformat_minor": 5
}
