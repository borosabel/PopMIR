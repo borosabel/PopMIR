{
 "cells": [
  {
   "cell_type": "code",
   "id": "initial_id",
   "metadata": {
    "collapsed": true,
    "ExecuteTime": {
     "end_time": "2024-11-02T19:07:41.809296Z",
     "start_time": "2024-11-02T19:07:41.290359Z"
    }
   },
   "source": [
    "import spacy\n",
    "spacy_nlp = spacy.load(\"en_core_web_sm\")\n",
    "from spacy.lang.en.stop_words import STOP_WORDS\n",
    "import utility_functions as utils\n",
    "import importlib\n",
    "import pandas as pd\n",
    "from transformers import pipeline, DistilBertTokenizer\n",
    "\n",
    "importlib.reload(utils)\n",
    "\n",
    "custom_stop_words = list(STOP_WORDS)  # Existing stop words\n",
    "custom_stop_words.extend([\"ll\", \"ve\", \"'em\", \"em\", \"ho\", \"fo\", \"ah\", \"de\"])  # Tokens which doesn't really make sense to have them.\n",
    "\n",
    "# Topic Model 0 - Street\n",
    "# Topic Model 1 - Violence"
   ],
   "execution_count": 8,
   "outputs": []
  },
  {
   "cell_type": "code",
   "source": [
    "df = pd.read_pickle('/Users/borosabel/Documents/Uni/Thesis/PopMIR/Data/Excel/df_w_emotion.pkl')"
   ],
   "metadata": {
    "collapsed": false,
    "ExecuteTime": {
     "end_time": "2024-11-02T19:07:41.819365Z",
     "start_time": "2024-11-02T19:07:41.810514Z"
    }
   },
   "id": "77cb28e6a3c75f44",
   "execution_count": 9,
   "outputs": []
  },
  {
   "cell_type": "code",
   "source": [
    "# df['Lyrics'] = df['Lyrics'].apply(utils.cleanup)"
   ],
   "metadata": {
    "collapsed": false,
    "ExecuteTime": {
     "end_time": "2024-11-02T19:07:41.821744Z",
     "start_time": "2024-11-02T19:07:41.820055Z"
    }
   },
   "id": "fe202c64a575c1f5",
   "execution_count": 10,
   "outputs": []
  },
  {
   "cell_type": "code",
   "source": [
    "tokenizer = DistilBertTokenizer.from_pretrained('bhadresh-savani/distilbert-base-uncased-emotion')\n",
    "classifier = pipeline(\"text-classification\", model='bhadresh-savani/distilbert-base-uncased-emotion', top_k=None)\n",
    "\n",
    "def get_sentiment(text):\n",
    "    max_length = 512\n",
    "    chunk_overlap = 50\n",
    "\n",
    "    tokens = tokenizer.tokenize(text)\n",
    "    chunks = [tokens[i:i + max_length] for i in range(0, len(tokens), max_length - chunk_overlap)]\n",
    "\n",
    "    all_scores = []\n",
    "\n",
    "    for chunk in chunks:\n",
    "        # Convert tokens to text\n",
    "        chunk_text = tokenizer.convert_tokens_to_string(chunk)\n",
    "\n",
    "        # Get sentiment for each chunk, use truncation and padding to handle input size\n",
    "        results = classifier(chunk_text, truncation=True, max_length=max_length, padding='max_length')\n",
    "\n",
    "        # Append scores for each emotion\n",
    "        for result in results:\n",
    "            all_scores.append({emotion['label']: emotion['score'] for emotion in result})\n",
    "\n",
    "    # Aggregate scores across chunks\n",
    "    aggregated_scores = {}\n",
    "    for score_dict in all_scores:\n",
    "        for emotion, score in score_dict.items():\n",
    "            if emotion in aggregated_scores:\n",
    "                aggregated_scores[emotion] += score\n",
    "            else:\n",
    "                aggregated_scores[emotion] = score\n",
    "\n",
    "    # Average the scores\n",
    "    num_entries = len(all_scores)\n",
    "    aggregated_scores = {emotion: score / num_entries for emotion, score in aggregated_scores.items()}\n",
    "\n",
    "    return aggregated_scores\n"
   ],
   "metadata": {
    "collapsed": false,
    "ExecuteTime": {
     "end_time": "2024-11-02T19:07:43.106089Z",
     "start_time": "2024-11-02T19:07:41.979919Z"
    }
   },
   "id": "85467526d3b8f387",
   "execution_count": 11,
   "outputs": []
  },
  {
   "cell_type": "code",
   "source": [
    "from tqdm.auto import tqdm\n",
    "\n",
    "tqdm.pandas(desc=\"Extracting entities\")\n",
    "df['Emotion Scores'] = df['Lyrics'].progress_apply(get_sentiment)"
   ],
   "metadata": {
    "collapsed": false,
    "ExecuteTime": {
     "end_time": "2024-11-02T19:13:48.264568Z",
     "start_time": "2024-11-02T19:07:43.108260Z"
    }
   },
   "id": "6724394fc4280811",
   "execution_count": 12,
   "outputs": []
  },
  {
   "cell_type": "code",
   "source": [
    "emotion_df = df['Emotion Scores'].apply(pd.Series)\n",
    "df = pd.concat([df, emotion_df], axis=1).drop('Emotion Scores', axis=1)\n",
    "emotion_columns = emotion_df.columns.tolist()"
   ],
   "metadata": {
    "collapsed": false,
    "ExecuteTime": {
     "end_time": "2024-11-02T19:13:48.443054Z",
     "start_time": "2024-11-02T19:13:48.267546Z"
    }
   },
   "id": "3a3408a53bc1194",
   "execution_count": 13,
   "outputs": []
  },
  {
   "cell_type": "code",
   "source": [
    "df"
   ],
   "metadata": {
    "collapsed": false,
    "ExecuteTime": {
     "end_time": "2024-11-02T19:13:48.467650Z",
     "start_time": "2024-11-02T19:13:48.446936Z"
    }
   },
   "id": "bc25a8be822eceec",
   "execution_count": 14,
   "outputs": []
  },
  {
   "cell_type": "code",
   "source": [
    "# df.to_pickle('df_w_emotion.pkl')"
   ],
   "metadata": {
    "collapsed": false,
    "ExecuteTime": {
     "end_time": "2024-11-02T19:13:48.471051Z",
     "start_time": "2024-11-02T19:13:48.468810Z"
    }
   },
   "id": "40c670b0a20abcd5",
   "execution_count": 15,
   "outputs": []
  },
  {
   "cell_type": "code",
   "source": [
    "# Calculating average emotion scores by coast\n",
    "average_emotions = df.groupby('Coast')[['joy', 'anger', 'sadness', 'fear', 'love', 'surprise']].mean().reset_index()"
   ],
   "metadata": {
    "collapsed": false,
    "ExecuteTime": {
     "end_time": "2024-11-02T19:13:48.480408Z",
     "start_time": "2024-11-02T19:13:48.473696Z"
    }
   },
   "id": "63fafe7a5cc80100",
   "execution_count": 16,
   "outputs": []
  },
  {
   "cell_type": "code",
   "source": [
    "import seaborn as sns\n",
    "import matplotlib.pyplot as plt\n",
    "\n",
    "# Set the aesthetic style of the plots\n",
    "sns.set_style(\"whitegrid\")\n",
    "\n",
    "# Initialize the matplotlib figure\n",
    "plt.figure(figsize=(12, 6))\n",
    "\n",
    "# Plotting\n",
    "sns.barplot(data=average_emotions.melt(id_vars=['Coast']), x='variable', y='value', hue='Coast', palette={\"east_coast\": \"red\", \"west_coast\": \"blue\"})\n",
    "plt.title('Comparison of Average Emotion Scores between East Coast and West Coast')\n",
    "plt.xlabel('Emotions')\n",
    "plt.ylabel('Average Score')\n",
    "plt.legend(title='Coast')\n",
    "plt.savefig('avg_emotions_per_coast.png')\n",
    "plt.show()"
   ],
   "metadata": {
    "collapsed": false,
    "ExecuteTime": {
     "end_time": "2024-11-02T19:13:49.243387Z",
     "start_time": "2024-11-02T19:13:48.481457Z"
    }
   },
   "id": "d8800dfcf08f4dbe",
   "execution_count": 17,
   "outputs": []
  },
  {
   "cell_type": "code",
   "execution_count": 19,
   "source": [
    "df_w_topics_0 = df[df['Topic Model Index'] == 0]\n",
    "df_w_topics_1 = df[df['Topic Model Index'] == 1]"
   ],
   "metadata": {
    "collapsed": false,
    "ExecuteTime": {
     "end_time": "2024-06-04T18:02:49.497155Z",
     "start_time": "2024-06-04T18:02:49.494405Z"
    }
   },
   "id": "4e4607e01db46b09",
   "outputs": []
  },
  {
   "cell_type": "code",
   "execution_count": 20,
   "source": [
    "# Calculating average emotion scores by coast\n",
    "average_emotions_0 = df_w_topics_0.groupby('Coast')[['joy', 'anger', 'sadness', 'fear', 'love', 'surprise']].mean().reset_index()\n",
    "average_emotions_1 = df_w_topics_1.groupby('Coast')[['joy', 'anger', 'sadness', 'fear', 'love', 'surprise']].mean().reset_index()"
   ],
   "metadata": {
    "collapsed": false,
    "ExecuteTime": {
     "end_time": "2024-06-04T18:02:49.807680Z",
     "start_time": "2024-06-04T18:02:49.803875Z"
    }
   },
   "id": "f238d096520a6e91",
   "outputs": []
  },
  {
   "cell_type": "code",
   "execution_count": 21,
   "source": [
    "import seaborn as sns\n",
    "import matplotlib.pyplot as plt\n",
    "\n",
    "# Set the aesthetic style of the plots\n",
    "sns.set_style(\"whitegrid\")\n",
    "\n",
    "# Initialize the matplotlib figure\n",
    "plt.figure(figsize=(12, 6))\n",
    "\n",
    "# Plotting\n",
    "sns.barplot(data=average_emotions_0.melt(id_vars=['Coast']), x='variable', y='value', hue='Coast', palette={\"east_coast\": \"red\", \"west_coast\": \"blue\"})\n",
    "plt.title('Comparison of Average Emotion Scores between East Coast and West Coast for the 0 label Topic Model')\n",
    "plt.xlabel('Emotions')\n",
    "plt.ylabel('Average Score')\n",
    "plt.legend(title='Coast')\n",
    "\n",
    "plt.show()"
   ],
   "metadata": {
    "collapsed": false,
    "ExecuteTime": {
     "end_time": "2024-06-04T18:02:50.183025Z",
     "start_time": "2024-06-04T18:02:50.059826Z"
    }
   },
   "id": "4b09e06703cd8a3f",
   "outputs": []
  },
  {
   "cell_type": "code",
   "execution_count": 22,
   "source": [
    "import seaborn as sns\n",
    "import matplotlib.pyplot as plt\n",
    "\n",
    "# Set the aesthetic style of the plots\n",
    "sns.set_style(\"whitegrid\")\n",
    "\n",
    "# Initialize the matplotlib figure\n",
    "plt.figure(figsize=(12, 6))\n",
    "\n",
    "# Plotting\n",
    "sns.barplot(data=average_emotions_1.melt(id_vars=['Coast']), x='variable', y='value', hue='Coast', palette={\"east_coast\": \"red\", \"west_coast\": \"blue\"})\n",
    "plt.title('Comparison of Average Emotion Scores between East Coast and West Coast for the 1 label Topic Model')\n",
    "plt.xlabel('Emotions')\n",
    "plt.ylabel('Average Score')\n",
    "plt.legend(title='Coast')\n",
    "\n",
    "plt.show()"
   ],
   "metadata": {
    "collapsed": false,
    "ExecuteTime": {
     "end_time": "2024-06-04T18:03:13.120172Z",
     "start_time": "2024-06-04T18:03:12.959675Z"
    }
   },
   "id": "16de61de9dea6754",
   "outputs": []
  },
  {
   "cell_type": "code",
   "execution_count": 165,
   "source": [
    "# Coherent multimodal analysis"
   ],
   "metadata": {
    "collapsed": false,
    "ExecuteTime": {
     "end_time": "2024-05-26T19:13:07.445756Z",
     "start_time": "2024-05-26T19:13:07.438721Z"
    }
   },
   "id": "84f2f9e260282775",
   "outputs": []
  },
  {
   "cell_type": "code",
   "execution_count": 191,
   "source": [
    "import pandas as pd\n",
    "import matplotlib.pyplot as plt\n",
    "import seaborn as sns\n",
    "from sklearn.manifold import TSNE"
   ],
   "metadata": {
    "collapsed": false,
    "ExecuteTime": {
     "end_time": "2024-05-26T19:29:19.252134Z",
     "start_time": "2024-05-26T19:29:19.152639Z"
    }
   },
   "id": "742c07241e9073a5",
   "outputs": []
  },
  {
   "cell_type": "code",
   "execution_count": 192,
   "source": [
    "emotion_data = df[emotion_columns]"
   ],
   "metadata": {
    "collapsed": false,
    "ExecuteTime": {
     "end_time": "2024-05-26T19:29:20.134697Z",
     "start_time": "2024-05-26T19:29:20.131143Z"
    }
   },
   "id": "649b41a8f3f202b7",
   "outputs": []
  },
  {
   "cell_type": "code",
   "execution_count": 198,
   "source": [
    "# Apply PCA\n",
    "tsne = TSNE(n_components=2, random_state=42)\n",
    "tsne_result = tsne.fit_transform(emotion_data.values)\n",
    "\n",
    "# Create a DataFrame with t-SNE results\n",
    "tsne_df = pd.DataFrame(tsne_result, columns=['t-SNE1', 't-SNE2'])\n",
    "\n",
    "# Determine the predominant emotion for coloring\n",
    "df['predominant_emotion'] = emotion_df.idxmax(axis=1)\n",
    "\n",
    "# Plotting\n",
    "plt.figure(figsize=(12, 8))\n",
    "# sns.scatterplot(x='t-SNE1', y='t-SNE2', hue=df['predominant_emotion'], data=tsne_df)\n",
    "sns.scatterplot(x='t-SNE1', y='t-SNE2', hue=df['Coast'], data=tsne_df, palette={'east_coast': 'red', 'west_coast': 'blue'})\n",
    "plt.title('2D Visualization of Songs Based on Emotion Analysis')\n",
    "plt.xlabel('TSNE-1')\n",
    "plt.ylabel('TSNE-2')\n",
    "plt.legend(title='Predominant Emotion')\n",
    "plt.show()"
   ],
   "metadata": {
    "collapsed": false,
    "ExecuteTime": {
     "end_time": "2024-05-26T19:32:23.990486Z",
     "start_time": "2024-05-26T19:32:21.714010Z"
    }
   },
   "id": "f99b6a8e7c6390e1",
   "outputs": []
  },
  {
   "cell_type": "code",
   "execution_count": 185,
   "source": [
    "df_0 = df[df['Topic Model Index'] == 0].reset_index(drop=True)"
   ],
   "metadata": {
    "collapsed": false,
    "ExecuteTime": {
     "end_time": "2024-05-26T19:23:07.480418Z",
     "start_time": "2024-05-26T19:23:07.475672Z"
    }
   },
   "id": "d67df5ff54d8011a",
   "outputs": []
  },
  {
   "cell_type": "code",
   "execution_count": 186,
   "source": [
    "emotion_data = df_0[emotion_columns]"
   ],
   "metadata": {
    "collapsed": false,
    "ExecuteTime": {
     "end_time": "2024-05-26T19:23:07.927079Z",
     "start_time": "2024-05-26T19:23:07.923541Z"
    }
   },
   "id": "d30a6987f5085135",
   "outputs": []
  },
  {
   "cell_type": "code",
   "execution_count": 199,
   "source": [
    "# Apply PCA\n",
    "tsne = TSNE(n_components=2, random_state=42)\n",
    "tsne_result = tsne.fit_transform(emotion_data.values)\n",
    "\n",
    "# Create a DataFrame with t-SNE results\n",
    "tsne_df = pd.DataFrame(tsne_result, columns=['t-SNE1', 't-SNE2'])\n",
    "\n",
    "# Determine the predominant emotion for coloring\n",
    "df['predominant_emotion'] = emotion_df.idxmax(axis=1)\n",
    "\n",
    "# Plotting\n",
    "plt.figure(figsize=(12, 8))\n",
    "# sns.scatterplot(x='t-SNE1', y='t-SNE2', hue=df['predominant_emotion'], data=tsne_df)\n",
    "sns.scatterplot(x='t-SNE1', y='t-SNE2', hue=df_0['Coast'], data=tsne_df, palette={'east_coast': 'red', 'west_coast': 'blue'})\n",
    "plt.title('2D Visualization of Songs Based on Emotion Analysis')\n",
    "plt.xlabel('TSNE-1')\n",
    "plt.ylabel('TSNE-2')\n",
    "plt.legend(title='Predominant Emotion')\n",
    "plt.show()"
   ],
   "metadata": {
    "collapsed": false,
    "ExecuteTime": {
     "end_time": "2024-05-26T19:33:01.552614Z",
     "start_time": "2024-05-26T19:32:59.217405Z"
    }
   },
   "id": "8daba62de100dea8",
   "outputs": []
  },
  {
   "cell_type": "code",
   "execution_count": 200,
   "source": [
    "df_1 = df[df['Topic Model Index'] == 1].reset_index(drop=True)"
   ],
   "metadata": {
    "collapsed": false,
    "ExecuteTime": {
     "end_time": "2024-05-26T19:33:10.933240Z",
     "start_time": "2024-05-26T19:33:10.922563Z"
    }
   },
   "id": "69232ab1106838d8",
   "outputs": []
  },
  {
   "cell_type": "code",
   "execution_count": 201,
   "source": [
    "emotion_data = df_1[emotion_columns]"
   ],
   "metadata": {
    "collapsed": false,
    "ExecuteTime": {
     "end_time": "2024-05-26T19:33:11.834436Z",
     "start_time": "2024-05-26T19:33:11.830806Z"
    }
   },
   "id": "22973d86d30b26af",
   "outputs": []
  },
  {
   "cell_type": "code",
   "execution_count": 202,
   "source": [
    "# Apply PCA\n",
    "tsne = TSNE(n_components=2, random_state=42)\n",
    "tsne_result = tsne.fit_transform(emotion_data.values)\n",
    "\n",
    "# Create a DataFrame with t-SNE results\n",
    "tsne_df = pd.DataFrame(tsne_result, columns=['t-SNE1', 't-SNE2'])\n",
    "\n",
    "# Determine the predominant emotion for coloring\n",
    "df['predominant_emotion'] = emotion_df.idxmax(axis=1)\n",
    "\n",
    "# Plotting\n",
    "plt.figure(figsize=(12, 8))\n",
    "# sns.scatterplot(x='t-SNE1', y='t-SNE2', hue=df['predominant_emotion'], data=tsne_df)\n",
    "sns.scatterplot(x='t-SNE1', y='t-SNE2', hue=df_1['Coast'], data=tsne_df, palette={'east_coast': 'red', 'west_coast': 'blue'})\n",
    "plt.title('2D Visualization of Songs Based on Emotion Analysis')\n",
    "plt.xlabel('TSNE-1')\n",
    "plt.ylabel('TSNE-2')\n",
    "plt.legend(title='Predominant Emotion')\n",
    "plt.show()"
   ],
   "metadata": {
    "collapsed": false,
    "ExecuteTime": {
     "end_time": "2024-05-26T19:33:17.889762Z",
     "start_time": "2024-05-26T19:33:16.449235Z"
    }
   },
   "id": "4f7aa5ce2f46eda1",
   "outputs": []
  },
  {
   "cell_type": "code",
   "execution_count": null,
   "source": [],
   "metadata": {
    "collapsed": false
   },
   "id": "73fb846692819e4c",
   "outputs": []
  }
 ],
 "metadata": {
  "kernelspec": {
   "display_name": "Python 3",
   "language": "python",
   "name": "python3"
  },
  "language_info": {
   "codemirror_mode": {
    "name": "ipython",
    "version": 2
   },
   "file_extension": ".py",
   "mimetype": "text/x-python",
   "name": "python",
   "nbconvert_exporter": "python",
   "pygments_lexer": "ipython2",
   "version": "2.7.6"
  }
 },
 "nbformat": 4,
 "nbformat_minor": 5
}
