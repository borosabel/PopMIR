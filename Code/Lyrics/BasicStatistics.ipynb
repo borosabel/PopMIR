{
 "cells": [
  {
   "cell_type": "code",
   "execution_count": 2,
   "id": "initial_id",
   "metadata": {
    "collapsed": true,
    "ExecuteTime": {
     "end_time": "2024-06-04T17:04:10.784137Z",
     "start_time": "2024-06-04T17:04:07.724281Z"
    }
   },
   "source": [
    "import spacy\n",
    "spacy_nlp = spacy.load(\"en_core_web_sm\")\n",
    "\n",
    "import utility_functions as utils\n",
    "import importlib\n",
    "import pandas as pd\n",
    "import matplotlib.pyplot as plt\n",
    "import seaborn as sns\n",
    "import numpy as np\n",
    "\n",
    "from spacy.lang.en.stop_words import STOP_WORDS\n",
    "\n",
    "importlib.reload(utils)\n",
    "\n",
    "data = '/Users/borosabel/Documents/Uni/Thesis/PopMIR/Data/Audio/test.json'\n",
    "\n",
    "custom_stop_words = list(STOP_WORDS)  # Existing stop words\n",
    "custom_stop_words.extend([\"ll\", \"ve\", \"'em\", \"em\", \"ho\", \"fo\", \"ah\", \"de\"])  # Tokens which doesn't really make sense to have them."
   ],
   "outputs": []
  },
  {
   "cell_type": "code",
   "execution_count": 3,
   "source": [
    "df = pd.read_excel('/Users/borosabel/Documents/Uni/Thesis/PopMIR/Data/Excel/baseline_data.xlsx', engine='openpyxl')"
   ],
   "metadata": {
    "collapsed": false,
    "ExecuteTime": {
     "end_time": "2024-06-04T17:04:22.071780Z",
     "start_time": "2024-06-04T17:04:21.818521Z"
    }
   },
   "id": "2bab920ae05e8eb6",
   "outputs": []
  },
  {
   "cell_type": "code",
   "execution_count": 4,
   "source": [
    "# I apply a general cleanup function to the lyrics (Either way it gets preprocessed later with Octis)\n",
    "df['Lyrics'] = df['Lyrics'].apply(utils.cleanup)"
   ],
   "metadata": {
    "collapsed": false,
    "ExecuteTime": {
     "end_time": "2024-06-04T17:06:31.787552Z",
     "start_time": "2024-06-04T17:04:22.988003Z"
    }
   },
   "id": "7d7d2eb8ef13c57f",
   "outputs": []
  },
  {
   "cell_type": "code",
   "execution_count": 23,
   "source": [
    "# NUMBER OF SONGS BY RELEASE_YEAR AND COAST\n",
    "grouped = df.groupby(['Release Year', 'Coast']).size().reset_index(name='Counts')\n",
    "\n",
    "plt.style.use('ggplot')\n",
    "\n",
    "# Create a bar plot with custom colors\n",
    "color_scheme = ['red', 'blue']  # Define your color scheme\n",
    "pivot_table = grouped.pivot(index='Release Year', columns='Coast', values='Counts')\n",
    "ax = pivot_table.plot(kind='bar', figsize=(10, 6), color=color_scheme)\n",
    "\n",
    "# Adding titles and labels\n",
    "plt.title('Counts of Songs by Coast and Year')\n",
    "plt.xlabel('Release Year')\n",
    "plt.ylabel('Count of Songs')\n",
    "plt.xticks(rotation=0)  # Rotate the x labels for better readability\n",
    "\n",
    "# Show legend and plot\n",
    "plt.legend(title='Coast')\n",
    "\n",
    "# Save the figure\n",
    "plt.savefig('song_counts_by_coast_and_year.png')  # Saves the plot as a PNG file\n",
    "plt.show()"
   ],
   "metadata": {
    "collapsed": false,
    "ExecuteTime": {
     "end_time": "2024-05-10T13:05:29.813935Z",
     "start_time": "2024-05-10T13:05:29.581292Z"
    }
   },
   "id": "bc2384ae8bd49cc4",
   "outputs": []
  },
  {
   "cell_type": "code",
   "execution_count": null,
   "source": [],
   "metadata": {
    "collapsed": false
   },
   "id": "a5f2ec9deff9c9ac",
   "outputs": []
  },
  {
   "cell_type": "code",
   "execution_count": 24,
   "source": [
    "# NUMBER OF SONGS BY COAST\n",
    "grouped = df.groupby(['Coast']).size().reset_index(name='Counts')"
   ],
   "metadata": {
    "collapsed": false,
    "ExecuteTime": {
     "end_time": "2024-05-10T13:05:47.712217Z",
     "start_time": "2024-05-10T13:05:47.704799Z"
    }
   },
   "id": "ab10c9e17d3cfa0c",
   "outputs": []
  },
  {
   "cell_type": "code",
   "execution_count": 25,
   "source": [
    "grouped"
   ],
   "metadata": {
    "collapsed": false,
    "ExecuteTime": {
     "end_time": "2024-05-10T13:05:49.771877Z",
     "start_time": "2024-05-10T13:05:49.755436Z"
    }
   },
   "id": "ea3de87c9e010a26",
   "outputs": []
  },
  {
   "cell_type": "code",
   "execution_count": 29,
   "source": [
    "# NUMBER OF DIFFERENT ARTISTS\n",
    "grouped = df.groupby(['Coast', 'Artist']).size().reset_index(name='Counts')"
   ],
   "metadata": {
    "collapsed": false,
    "ExecuteTime": {
     "end_time": "2024-05-10T14:09:20.879008Z",
     "start_time": "2024-05-10T14:09:20.868473Z"
    }
   },
   "id": "c9d94f48fa318cd1",
   "outputs": []
  },
  {
   "cell_type": "code",
   "execution_count": 33,
   "source": [
    "grouped[grouped['Coast'] == 'east_coast']"
   ],
   "metadata": {
    "collapsed": false,
    "ExecuteTime": {
     "end_time": "2024-05-10T14:09:55.353589Z",
     "start_time": "2024-05-10T14:09:55.347900Z"
    }
   },
   "id": "2a11469d8b89e4",
   "outputs": []
  },
  {
   "cell_type": "code",
   "execution_count": 34,
   "source": [
    "grouped[grouped['Coast'] == 'west_coast']"
   ],
   "metadata": {
    "collapsed": false,
    "ExecuteTime": {
     "end_time": "2024-05-10T14:10:00.121925Z",
     "start_time": "2024-05-10T14:10:00.104780Z"
    }
   },
   "id": "aa34a92efe69c6a6",
   "outputs": []
  },
  {
   "cell_type": "code",
   "execution_count": null,
   "source": [],
   "metadata": {
    "collapsed": false
   },
   "id": "68cd5ab6444c0222",
   "outputs": []
  },
  {
   "cell_type": "code",
   "execution_count": 43,
   "source": [
    "grouped = df.groupby(['Artist', 'Coast']).size().reset_index(name='Counts')\n",
    "pivot_table = grouped.pivot(index='Artist', columns='Coast', values='Counts')\n",
    "\n",
    "pivot_table['Total'] = pivot_table.sum(axis=1)\n",
    "pivot_table_sorted = pivot_table.sort_values(by='Total', ascending=False)\n",
    "pivot_table_sorted = pivot_table_sorted.drop(columns=['Total'])\n",
    "\n",
    "ax = pivot_table_sorted.plot(kind='bar', figsize=(10, 6), color=['red', 'blue'])\n",
    "\n",
    "# Add plot title and labels\n",
    "plt.title('Counts of Songs by Artist and Coast (Sorted)')\n",
    "plt.xlabel('Artist')\n",
    "plt.ylabel('Count of Songs')\n",
    "plt.xticks(rotation=90)  # Rotate artist names for better visibility\n",
    "\n",
    "# Add a legend to the plot\n",
    "plt.legend(title='Coast', loc='upper right')\n",
    "plt.tight_layout()  # Adjust layout\n",
    "\n",
    "# Save the figure with appropriate bounding box settings\n",
    "plt.savefig('sorted_song_counts_by_artist_and_coast.png', bbox_inches='tight')\n",
    "\n",
    "# Display the plot\n",
    "plt.show()"
   ],
   "metadata": {
    "collapsed": false,
    "ExecuteTime": {
     "end_time": "2024-05-10T16:21:52.636236Z",
     "start_time": "2024-05-10T16:21:52.156764Z"
    }
   },
   "id": "2c811509cfa76000",
   "outputs": []
  },
  {
   "cell_type": "code",
   "execution_count": null,
   "source": [],
   "metadata": {
    "collapsed": false
   },
   "id": "77eb3d42c760015b",
   "outputs": []
  },
  {
   "cell_type": "code",
   "execution_count": 5,
   "source": [
    "df['Lyrics_Length'] = df['Lyrics'].apply(len)"
   ],
   "metadata": {
    "collapsed": false,
    "ExecuteTime": {
     "end_time": "2024-06-04T17:07:48.861318Z",
     "start_time": "2024-06-04T17:07:48.854144Z"
    }
   },
   "id": "a73778e66c209c5f",
   "outputs": []
  },
  {
   "cell_type": "code",
   "execution_count": 6,
   "source": [
    "df"
   ],
   "metadata": {
    "collapsed": false,
    "ExecuteTime": {
     "end_time": "2024-06-04T17:07:49.314939Z",
     "start_time": "2024-06-04T17:07:49.302594Z"
    }
   },
   "id": "b417555c2ed952fe",
   "outputs": []
  },
  {
   "cell_type": "code",
   "execution_count": 8,
   "source": [
    "plt.figure(figsize=(12, 6))\n",
    "sns.histplot(data=df, x='Lyrics_Length', hue='Coast', kde=True, element='step',\n",
    "             palette={'east_coast': 'red', 'west_coast': 'blue'}, multiple=\"layer\", alpha=0.5)  # Adjust alpha for transparency\n",
    "plt.title('Distribution of Lyrics Length by Coast')\n",
    "plt.xlabel('Lyrics Length')\n",
    "plt.ylabel('Frequency')\n",
    "\n",
    "plt.savefig('lyrics_length_distribution.png')\n",
    "plt.show()"
   ],
   "metadata": {
    "collapsed": false,
    "ExecuteTime": {
     "end_time": "2024-06-04T17:10:49.585543Z",
     "start_time": "2024-06-04T17:10:49.167051Z"
    }
   },
   "id": "1dd8fb7e4fdb3bb7",
   "outputs": []
  },
  {
   "cell_type": "code",
   "execution_count": 25,
   "source": [
    "# Average east coast lyrics length:\n",
    "np.mean(df[df['Coast'] == 'east_coast']['Lyrics_Length'])"
   ],
   "metadata": {
    "collapsed": false,
    "ExecuteTime": {
     "end_time": "2024-05-16T20:53:08.446166Z",
     "start_time": "2024-05-16T20:53:08.440897Z"
    }
   },
   "id": "5e5ea4efbfc79ef3",
   "outputs": []
  },
  {
   "cell_type": "code",
   "execution_count": 26,
   "source": [
    "# Average west coast lyrics length:\n",
    "np.mean(df[df['Coast'] == 'west_coast']['Lyrics_Length'])"
   ],
   "metadata": {
    "collapsed": false,
    "ExecuteTime": {
     "end_time": "2024-05-16T20:53:26.424817Z",
     "start_time": "2024-05-16T20:53:26.406502Z"
    }
   },
   "id": "8ffef4fcd525e815",
   "outputs": []
  },
  {
   "cell_type": "code",
   "execution_count": null,
   "source": [],
   "metadata": {
    "collapsed": false
   },
   "id": "a0bfe23a40d6f909",
   "outputs": []
  },
  {
   "cell_type": "code",
   "execution_count": 40,
   "source": [
    "import nltk\n",
    "from collections import Counter\n",
    "from nltk.tokenize import word_tokenize\n",
    "from nltk.corpus import stopwords\n",
    "\n",
    "# Download NLTK resources\n",
    "nltk.download('punkt')\n",
    "nltk.download('stopwords')\n",
    "\n",
    "# Set of English stopwords\n",
    "stop_words = set(stopwords.words('english'))\n",
    "\n",
    "custom_stop_words = ['yeah', 'oh', 'like', 'just', 'know', 'got', 'gonna', 'na', 'ain', 'cause', 'let', 'get']\n",
    "stop_words.update(custom_stop_words)\n",
    "\n",
    "def tokenize_lyrics(lyrics):\n",
    "    # Convert to lowercase to ensure uniformity\n",
    "    tokens = word_tokenize(lyrics.lower())\n",
    "    # Remove stopwords and non-alphabetic tokens\n",
    "    words = [word for word in tokens if word.isalpha() and word not in stop_words]\n",
    "    return words\n",
    "\n",
    "# Apply the tokenization to each row\n",
    "df['Tokens'] = df['Lyrics'].apply(tokenize_lyrics)\n",
    "\n",
    "# Function to count words by coast\n",
    "def count_words(df, coast):\n",
    "    # Concatenate all lists of tokens from the given coast into a single list\n",
    "    words = sum(df[df['Coast'] == coast]['Tokens'].tolist(), [])\n",
    "    # Count the words and return the most common ones\n",
    "    return Counter(words).most_common(10)\n",
    "\n",
    "# Get the top 10 words for each coast\n",
    "east_words = count_words(df, 'east_coast')\n",
    "west_words = count_words(df, 'west_coast')\n",
    "\n",
    "print(\"East Coast Top Words:\", east_words)\n",
    "print(\"West Coast Top Words:\", west_words)"
   ],
   "metadata": {
    "collapsed": false,
    "ExecuteTime": {
     "end_time": "2024-05-16T21:39:15.084542Z",
     "start_time": "2024-05-16T21:39:13.455575Z"
    }
   },
   "id": "e35f41b45689a01d",
   "outputs": []
  },
  {
   "cell_type": "code",
   "execution_count": 41,
   "source": [
    "def plot_word_frequencies(word_frequencies, title, color, filename):\n",
    "    # Unpack words and their frequencies\n",
    "    words, frequencies = zip(*word_frequencies)\n",
    "\n",
    "    # Create figure and axis\n",
    "    plt.figure(figsize=(10, 5))\n",
    "    plt.bar(words, frequencies, color=color)\n",
    "    plt.title(title)\n",
    "    plt.xlabel('Words')\n",
    "    plt.ylabel('Frequency')\n",
    "    plt.xticks(rotation=45)  # Rotate labels to avoid overlap\n",
    "\n",
    "    # Save the plot to a file\n",
    "    plt.savefig(filename, format='png', bbox_inches='tight')  # Adjust format as needed\n",
    "\n",
    "    # Display the plot\n",
    "    plt.show()\n",
    "\n",
    "plot_word_frequencies(east_words, 'Top Words on the East Coast', 'red', 'east_coast_words_freq.png')\n",
    "plot_word_frequencies(west_words, 'Top Words on the West Coast', 'blue', 'west_coast_words_freq.png')"
   ],
   "metadata": {
    "collapsed": false,
    "ExecuteTime": {
     "end_time": "2024-05-16T21:39:15.474312Z",
     "start_time": "2024-05-16T21:39:15.090324Z"
    }
   },
   "id": "840183d03468530b",
   "outputs": []
  },
  {
   "cell_type": "code",
   "execution_count": null,
   "source": [],
   "metadata": {
    "collapsed": false
   },
   "id": "7cc0155490b4d6f6",
   "outputs": []
  }
 ],
 "metadata": {
  "kernelspec": {
   "display_name": "Python 3",
   "language": "python",
   "name": "python3"
  },
  "language_info": {
   "codemirror_mode": {
    "name": "ipython",
    "version": 2
   },
   "file_extension": ".py",
   "mimetype": "text/x-python",
   "name": "python",
   "nbconvert_exporter": "python",
   "pygments_lexer": "ipython2",
   "version": "2.7.6"
  }
 },
 "nbformat": 4,
 "nbformat_minor": 5
}
