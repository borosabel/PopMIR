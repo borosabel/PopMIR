{
 "cells": [
  {
   "cell_type": "code",
   "execution_count": 67,
   "id": "initial_id",
   "metadata": {
    "collapsed": true,
    "ExecuteTime": {
     "end_time": "2024-05-14T20:32:25.846946Z",
     "start_time": "2024-05-14T20:32:25.098963Z"
    }
   },
   "outputs": [],
   "source": [
    "import string\n",
    "import spacy\n",
    "spacy_nlp = spacy.load(\"en_core_web_sm\")\n",
    "import numpy as np\n",
    "from spacy.lang.en.stop_words import STOP_WORDS\n",
    "import utility_functions as utils\n",
    "import importlib\n",
    "import pandas as pd\n",
    "import matplotlib.pyplot as plt\n",
    "import pickle\n",
    "\n",
    "# Octis is the library which can use different implemented topic modelling techniques\n",
    "from octis.preprocessing.preprocessing import Preprocessing\n",
    "from octis.evaluation_metrics.coherence_metrics import Coherence\n",
    "from octis.evaluation_metrics.diversity_metrics import TopicDiversity\n",
    "from octis.models.CTM import CTM\n",
    "\n",
    "importlib.reload(utils)\n",
    "\n",
    "data = '/Users/borosabel/Documents/Uni/Thesis/PopMIR/Data/Audio/test.json'\n",
    "\n",
    "custom_stop_words = list(STOP_WORDS)  # Existing stop words\n",
    "custom_stop_words.extend([\"ll\", \"ve\", \"'em\", \"em\", \"ho\", \"fo\", \"ah\", \"de\"])  # Tokens which doesn't really make sense to have them."
   ]
  },
  {
   "cell_type": "code",
   "execution_count": 53,
   "outputs": [],
   "source": [
    "df = pd.read_excel('/Users/borosabel/Documents/Uni/Thesis/PopMIR/Code/Lyrics/baseline_w_topics_w_entity.xlsx', engine='openpyxl')"
   ],
   "metadata": {
    "collapsed": false,
    "ExecuteTime": {
     "end_time": "2024-05-14T19:59:37.087459Z",
     "start_time": "2024-05-14T19:59:36.882810Z"
    }
   },
   "id": "e6cd140007b55929"
  },
  {
   "cell_type": "code",
   "execution_count": 54,
   "outputs": [],
   "source": [
    "# I apply a general cleanup function to the lyrics (Either way it gets preprocessed later with Octis)\n",
    "df['Lyrics'] = df['Lyrics'].apply(utils.cleanup) "
   ],
   "metadata": {
    "collapsed": false,
    "ExecuteTime": {
     "end_time": "2024-05-14T20:01:39.078037Z",
     "start_time": "2024-05-14T19:59:40.346406Z"
    }
   },
   "id": "359640a2272fca87"
  },
  {
   "cell_type": "code",
   "execution_count": 55,
   "outputs": [],
   "source": [
    "# We need to export the lyrics line-by-line into a corpus.tsv so it can be used with Octis\n",
    "with open('corpus.tsv', 'w', encoding='utf-8') as file:\n",
    "    for lyrics in df['Lyrics']:\n",
    "        if pd.notna(lyrics):  # Check if the lyrics data is not NaN\n",
    "            file.write(lyrics + '\\n')"
   ],
   "metadata": {
    "collapsed": false,
    "ExecuteTime": {
     "end_time": "2024-05-14T20:02:21.540317Z",
     "start_time": "2024-05-14T20:02:21.527786Z"
    }
   },
   "id": "96d13729e2d1c2c7"
  },
  {
   "cell_type": "code",
   "execution_count": 57,
   "outputs": [
    {
     "name": "stderr",
     "output_type": "stream",
     "text": [
      "100%|██████████| 1360/1360 [02:00<00:00, 11.31it/s]"
     ]
    },
    {
     "name": "stdout",
     "output_type": "stream",
     "text": [
      "created vocab\n",
      "647\n"
     ]
    },
    {
     "name": "stderr",
     "output_type": "stream",
     "text": [
      "\n"
     ]
    }
   ],
   "source": [
    "# Initialize preprocessing\n",
    "preprocessor = Preprocessing(\n",
    "    vocabulary=None,\n",
    "    max_features=None,\n",
    "    remove_punctuation=True,\n",
    "    punctuation=string.punctuation,\n",
    "    lemmatize=True,\n",
    "    stopword_list=custom_stop_words,\n",
    "    min_chars=2,\n",
    "    min_words_docs=0,\n",
    "    save_original_indexes=True,\n",
    "    min_df=0.05, # a term must appear in at least 5% of the documents; otherwise, it will be discarded.\n",
    "    max_df=0.80, # a term appearing in more than 80% of the documents will be discarded, as it might be too common and potentially less informative.\n",
    "    split=False # We don't want train, validation and test split\n",
    ")\n",
    "\n",
    "dataset = preprocessor.preprocess_dataset(documents_path=\"/Users/borosabel/Documents/Uni/Thesis/PopMIR/Code/Lyrics/octis_dataset/corpus.tsv\")"
   ],
   "metadata": {
    "collapsed": false,
    "ExecuteTime": {
     "end_time": "2024-05-14T20:04:34.971547Z",
     "start_time": "2024-05-14T20:02:34.313584Z"
    }
   },
   "id": "5c7d33fc891b610e"
  },
  {
   "cell_type": "code",
   "execution_count": 75,
   "outputs": [],
   "source": [
    "# I save the dataset because it exports a file called indexes.txt. It is important because during the preprocessing steps the preprocessor\n",
    "# can get rid of a few documents if they don't have enough words or maybe they are too short. (For example intro files).\n",
    "# I can load the indexes.txt file and use it as a list of indexes and apply it on the original dataframe so I don't have size mismatch.\n",
    "dataset.save('./')"
   ],
   "metadata": {
    "collapsed": false,
    "ExecuteTime": {
     "end_time": "2024-05-14T20:44:25.661467Z",
     "start_time": "2024-05-14T20:44:25.634237Z"
    }
   },
   "id": "1a21210dfd9b6a64"
  },
  {
   "cell_type": "code",
   "execution_count": 68,
   "outputs": [
    {
     "name": "stdout",
     "output_type": "stream",
     "text": [
      "Best Coherence: 0.010023768120886796\n",
      "Best Diversity: 1.0\n",
      "Best Parameters: {'num_topics': 2, 'num_epochs': 300}\n"
     ]
    }
   ],
   "source": [
    "best_coherence = -1\n",
    "best_diversity = -1\n",
    "best_params = {}\n",
    "topic_nums = [2, 3, 4, 5, 10]\n",
    "epoch_nums = [100, 200, 300]\n",
    "\n",
    "for num_topics in topic_nums:\n",
    "    for num_epochs in epoch_nums:\n",
    "        # Initialize and train the CTM model\n",
    "        model = CTM(num_topics=num_topics, inference_type=\"combined\", num_epochs=num_epochs, use_partitions=False, bert_model=\"bert-base-nli-mean-tokens\")\n",
    "        model_output = model.train_model(dataset)\n",
    "\n",
    "        # Calculate Coherence Score\n",
    "        coherence = Coherence(texts=dataset.get_corpus(), topk=10)  # Adjust 'topk' as needed\n",
    "        coherence = coherence.score(model_output)\n",
    "\n",
    "        # Calculate Topic Diversity\n",
    "        diversity_model = TopicDiversity(topk=10)\n",
    "        diversity = diversity_model.score(model_output)\n",
    "\n",
    "        # Evaluate based on coherence\n",
    "        if coherence > best_coherence or (coherence == best_coherence and diversity > best_diversity):\n",
    "            best_coherence = coherence\n",
    "            best_diversity = diversity\n",
    "            best_params = {'num_topics': num_topics, 'num_epochs': num_epochs}\n",
    "\n",
    "        with open(f'ctm_model_{num_topics}_{num_epochs}.pkl', 'wb') as f:\n",
    "            pickle.dump(model, f)\n",
    "\n",
    "print(f\"Best Coherence: {best_coherence}\")\n",
    "print(f\"Best Diversity: {best_diversity}\")\n",
    "print(f\"Best Parameters: {best_params}\")"
   ],
   "metadata": {
    "collapsed": false,
    "ExecuteTime": {
     "end_time": "2024-05-14T20:41:24.155051Z",
     "start_time": "2024-05-14T20:32:50.251153Z"
    }
   },
   "id": "ce56f2fcd05453e3"
  },
  {
   "cell_type": "code",
   "execution_count": 69,
   "outputs": [],
   "source": [
    "model = CTM(num_topics=best_params['num_topics'], inference_type=\"combined\", num_epochs=best_params['num_epochs'], use_partitions=False, bert_model=\"bert-base-nli-mean-tokens\")\n",
    "model_output = model.train_model(dataset)"
   ],
   "metadata": {
    "collapsed": false,
    "ExecuteTime": {
     "end_time": "2024-05-14T20:43:17.248320Z",
     "start_time": "2024-05-14T20:42:52.298795Z"
    }
   },
   "id": "c55a8ec6fea90239"
  },
  {
   "cell_type": "code",
   "execution_count": 71,
   "outputs": [
    {
     "name": "stdout",
     "output_type": "stream",
     "text": [
      "Coherence Score: 0.029126800317266936\n",
      "Diversity Score: 1.0\n"
     ]
    }
   ],
   "source": [
    "coherence = Coherence(texts=dataset.get_corpus(), topk=10)  # Adjust 'topk' as needed\n",
    "topic_diversity = TopicDiversity(topk=10)\n",
    "coherence_score = coherence.score(model_output)\n",
    "diversity_score = topic_diversity.score(model_output)\n",
    "\n",
    "print(\"Coherence Score:\", coherence_score)\n",
    "print(\"Diversity Score:\", diversity_score)"
   ],
   "metadata": {
    "collapsed": false,
    "ExecuteTime": {
     "end_time": "2024-05-14T20:43:46.736273Z",
     "start_time": "2024-05-14T20:43:45.953836Z"
    }
   },
   "id": "e0d28f2f2fe6d786"
  },
  {
   "cell_type": "code",
   "execution_count": 72,
   "outputs": [],
   "source": [
    "# We decide on the topic based on the maximum probability of the topic.\n",
    "dominant_topic_indices = np.argmax(model_output['topic-document-matrix'], axis=0)"
   ],
   "metadata": {
    "collapsed": false,
    "ExecuteTime": {
     "end_time": "2024-05-14T20:43:56.513418Z",
     "start_time": "2024-05-14T20:43:56.506744Z"
    }
   },
   "id": "4c5c38a0953df2a9"
  },
  {
   "cell_type": "code",
   "execution_count": 73,
   "outputs": [],
   "source": [
    "dominant_topics = []\n",
    "for i in dominant_topic_indices:\n",
    "    dominant_topics.append(model_output['topics'][i])\n"
   ],
   "metadata": {
    "collapsed": false,
    "ExecuteTime": {
     "end_time": "2024-05-14T20:44:04.132183Z",
     "start_time": "2024-05-14T20:44:04.117297Z"
    }
   },
   "id": "aaecf1bfb755b8cb"
  },
  {
   "cell_type": "code",
   "execution_count": 76,
   "outputs": [],
   "source": [
    "# We load the previously saved indexes file because in this way we can filter the documents by index. Some documents may not included in the analysis due to the preprocessing steps\n",
    "file_path = 'indexes.txt'\n",
    "with open(file_path, 'r') as file:\n",
    "    indices = [int(line.strip()) for line in file]"
   ],
   "metadata": {
    "collapsed": false,
    "ExecuteTime": {
     "end_time": "2024-05-14T20:44:29.627610Z",
     "start_time": "2024-05-14T20:44:29.621917Z"
    }
   },
   "id": "a0942d7d2e314d48"
  },
  {
   "cell_type": "code",
   "execution_count": 77,
   "outputs": [],
   "source": [
    "filtered_df = df.iloc[indices]"
   ],
   "metadata": {
    "collapsed": false,
    "ExecuteTime": {
     "end_time": "2024-05-14T20:44:30.910560Z",
     "start_time": "2024-05-14T20:44:30.903258Z"
    }
   },
   "id": "692afeb3e4b22722"
  },
  {
   "cell_type": "code",
   "execution_count": 78,
   "outputs": [
    {
     "data": {
      "text/plain": "True"
     },
     "execution_count": 78,
     "metadata": {},
     "output_type": "execute_result"
    }
   ],
   "source": [
    "# This is just to make sure that in the filtered dataframe we have the same ammount of songs than in the preprocessed dataset.\n",
    "filtered_df.shape[0] == dominant_topic_indices.shape[0]"
   ],
   "metadata": {
    "collapsed": false,
    "ExecuteTime": {
     "end_time": "2024-05-14T20:44:31.807454Z",
     "start_time": "2024-05-14T20:44:31.803491Z"
    }
   },
   "id": "4054c8e1b285b57b"
  },
  {
   "cell_type": "code",
   "execution_count": 95,
   "outputs": [],
   "source": [
    "filtered_df['Topic Model Index'] = dominant_topic_indices\n",
    "filtered_df['Topic Model'] = dominant_topics"
   ],
   "metadata": {
    "collapsed": false,
    "ExecuteTime": {
     "end_time": "2024-05-14T21:06:46.039448Z",
     "start_time": "2024-05-14T21:06:46.033695Z"
    }
   },
   "id": "3ff8aede95940992"
  },
  {
   "cell_type": "code",
   "execution_count": 96,
   "outputs": [
    {
     "data": {
      "text/plain": "      Artist                                Album  \\\n0      Big L  Lifestylez Ov Da Poor and Dangerous   \n1      Big L  Lifestylez Ov Da Poor and Dangerous   \n2      Big L  Lifestylez Ov Da Poor and Dangerous   \n3      Big L  Lifestylez Ov Da Poor and Dangerous   \n4      Big L  Lifestylez Ov Da Poor and Dangerous   \n...      ...                                  ...   \n1355  Dr.Dre                          The Chronic   \n1356  Dr.Dre                          The Chronic   \n1357  Dr.Dre                          The Chronic   \n1358  Dr.Dre                          The Chronic   \n1359  Dr.Dre                          The Chronic   \n\n                                                   Song       Coast  \\\n0                                        8 Iz Enuff.mp3  east_coast   \n1                                      Da Graveyard.mp3  east_coast   \n2                             I Don't Understand It.mp3  east_coast   \n3                                 No Endz, No Skinz.mp3  east_coast   \n4                                               MVP.mp3  east_coast   \n...                                                 ...         ...   \n1355  Dr. Dre - The Day the Niggaz Took Over (feat. ...  west_coast   \n1356  Dr. Dre - Bitches Ain't Shit (feat. Jewell, Sn...  west_coast   \n1357  Dr. Dre - Stranded On Death Row (feat. Bushwic...  west_coast   \n1358  Dr. Dre - Nuthin' but a ＂G＂ Thang (feat. Snoop...  west_coast   \n1359  Dr. Dre - The Roach (ft. Ruben Cruz, Daz Dilli...  west_coast   \n\n      Release Year      Tempo1     Tempo2  Duration (s)  Sample Rate (Hz)  \\\n0             1995   96.774194  48.000000    298.840000             48000   \n1             1995   93.750000  46.511628    323.760000             48000   \n2             1995   93.750000  47.244094    260.226667             48000   \n3             1995  100.000000  50.420168    208.733333             48000   \n4             1995   86.956522  43.478261    218.866667             48000   \n...            ...         ...        ...           ...               ...   \n1355          1992   93.750000  46.875000    273.206000             48000   \n1356          1992   92.307692  46.153846    287.207625             48000   \n1357          1992   90.909091  45.801527    287.335333             48000   \n1358          1992   95.238095  47.244094    238.677917             48000   \n1359          1992   89.552239  44.117647    277.072125             48000   \n\n                                                   Path  \\\n0     /Users/borosabel/Documents/Uni/Thesis/PopMIR/D...   \n1     /Users/borosabel/Documents/Uni/Thesis/PopMIR/D...   \n2     /Users/borosabel/Documents/Uni/Thesis/PopMIR/D...   \n3     /Users/borosabel/Documents/Uni/Thesis/PopMIR/D...   \n4     /Users/borosabel/Documents/Uni/Thesis/PopMIR/D...   \n...                                                 ...   \n1355  /Users/borosabel/Documents/Uni/Thesis/PopMIR/D...   \n1356  /Users/borosabel/Documents/Uni/Thesis/PopMIR/D...   \n1357  /Users/borosabel/Documents/Uni/Thesis/PopMIR/D...   \n1358  /Users/borosabel/Documents/Uni/Thesis/PopMIR/D...   \n1359  /Users/borosabel/Documents/Uni/Thesis/PopMIR/D...   \n\n                                                 Lyrics  \\\n0     yeah my crew be in the house terra herb mcgruf...   \n1     it be the number one crew in the area big l be...   \n2     there be too many mc 's who be overrate yeah a...   \n3     let I get to the point real quick when yeah po...   \n4     a yeah spark up the phillie and pass the stout...   \n...                                                 ...   \n1355  yeah nigga what be up with all that motherfuck...   \n1356  — so all of yeah african all of yeah african t...   \n1357  yeah really do not understand do yeah hey man ...   \n1358  yeah yeah what be up yeah man give I some of t...   \n1359  I be a say this and I be a end mine if yeah be...   \n\n                                            Topic Model  \\\n0     [nigga, shit, ride, dick, bitch, die, big, str...   \n1     [nigga, shit, ride, dick, bitch, die, big, str...   \n2     [rhyme, cuz, soul, rhythm, stage, lyric, music...   \n3     [rhyme, cuz, soul, rhythm, stage, lyric, music...   \n4     [rhyme, cuz, soul, rhythm, stage, lyric, music...   \n...                                                 ...   \n1355  [nigga, shit, ride, dick, bitch, die, big, str...   \n1356  [nigga, shit, ride, dick, bitch, die, big, str...   \n1357  [nigga, shit, ride, dick, bitch, die, big, str...   \n1358  [nigga, shit, ride, dick, bitch, die, big, str...   \n1359  [nigga, shit, ride, dick, bitch, die, big, str...   \n\n                                         Named_Entities  Topic Model Index  \n0     [{'entity': 'Terra', 'type': 'PER', 'score': 0...                  1  \n1     [{'entity': 'Big', 'type': 'PER', 'score': 0.5...                  1  \n2     [{'entity': 'L', 'type': 'PER', 'score': 0.571...                  0  \n3     [{'entity': 'Benz', 'type': 'MISC', 'score': 0...                  0  \n4     [{'entity': 'L', 'type': 'PER', 'score': 0.444...                  0  \n...                                                 ...                ...  \n1355  [{'entity': 'Lucifer', 'type': 'PER', 'score':...                  1  \n1356  [{'entity': 'Africans', 'type': 'MISC', 'score...                  1  \n1357  [{'entity': 'Death Row', 'type': 'ORG', 'score...                  1  \n1358  [{'entity': 'RBX', 'type': 'ORG', 'score': 0.7...                  1  \n1359  [{'entity': 'Africans', 'type': 'MISC', 'score...                  1  \n\n[1360 rows x 14 columns]",
      "text/html": "<div>\n<style scoped>\n    .dataframe tbody tr th:only-of-type {\n        vertical-align: middle;\n    }\n\n    .dataframe tbody tr th {\n        vertical-align: top;\n    }\n\n    .dataframe thead th {\n        text-align: right;\n    }\n</style>\n<table border=\"1\" class=\"dataframe\">\n  <thead>\n    <tr style=\"text-align: right;\">\n      <th></th>\n      <th>Artist</th>\n      <th>Album</th>\n      <th>Song</th>\n      <th>Coast</th>\n      <th>Release Year</th>\n      <th>Tempo1</th>\n      <th>Tempo2</th>\n      <th>Duration (s)</th>\n      <th>Sample Rate (Hz)</th>\n      <th>Path</th>\n      <th>Lyrics</th>\n      <th>Topic Model</th>\n      <th>Named_Entities</th>\n      <th>Topic Model Index</th>\n    </tr>\n  </thead>\n  <tbody>\n    <tr>\n      <th>0</th>\n      <td>Big L</td>\n      <td>Lifestylez Ov Da Poor and Dangerous</td>\n      <td>8 Iz Enuff.mp3</td>\n      <td>east_coast</td>\n      <td>1995</td>\n      <td>96.774194</td>\n      <td>48.000000</td>\n      <td>298.840000</td>\n      <td>48000</td>\n      <td>/Users/borosabel/Documents/Uni/Thesis/PopMIR/D...</td>\n      <td>yeah my crew be in the house terra herb mcgruf...</td>\n      <td>[nigga, shit, ride, dick, bitch, die, big, str...</td>\n      <td>[{'entity': 'Terra', 'type': 'PER', 'score': 0...</td>\n      <td>1</td>\n    </tr>\n    <tr>\n      <th>1</th>\n      <td>Big L</td>\n      <td>Lifestylez Ov Da Poor and Dangerous</td>\n      <td>Da Graveyard.mp3</td>\n      <td>east_coast</td>\n      <td>1995</td>\n      <td>93.750000</td>\n      <td>46.511628</td>\n      <td>323.760000</td>\n      <td>48000</td>\n      <td>/Users/borosabel/Documents/Uni/Thesis/PopMIR/D...</td>\n      <td>it be the number one crew in the area big l be...</td>\n      <td>[nigga, shit, ride, dick, bitch, die, big, str...</td>\n      <td>[{'entity': 'Big', 'type': 'PER', 'score': 0.5...</td>\n      <td>1</td>\n    </tr>\n    <tr>\n      <th>2</th>\n      <td>Big L</td>\n      <td>Lifestylez Ov Da Poor and Dangerous</td>\n      <td>I Don't Understand It.mp3</td>\n      <td>east_coast</td>\n      <td>1995</td>\n      <td>93.750000</td>\n      <td>47.244094</td>\n      <td>260.226667</td>\n      <td>48000</td>\n      <td>/Users/borosabel/Documents/Uni/Thesis/PopMIR/D...</td>\n      <td>there be too many mc 's who be overrate yeah a...</td>\n      <td>[rhyme, cuz, soul, rhythm, stage, lyric, music...</td>\n      <td>[{'entity': 'L', 'type': 'PER', 'score': 0.571...</td>\n      <td>0</td>\n    </tr>\n    <tr>\n      <th>3</th>\n      <td>Big L</td>\n      <td>Lifestylez Ov Da Poor and Dangerous</td>\n      <td>No Endz, No Skinz.mp3</td>\n      <td>east_coast</td>\n      <td>1995</td>\n      <td>100.000000</td>\n      <td>50.420168</td>\n      <td>208.733333</td>\n      <td>48000</td>\n      <td>/Users/borosabel/Documents/Uni/Thesis/PopMIR/D...</td>\n      <td>let I get to the point real quick when yeah po...</td>\n      <td>[rhyme, cuz, soul, rhythm, stage, lyric, music...</td>\n      <td>[{'entity': 'Benz', 'type': 'MISC', 'score': 0...</td>\n      <td>0</td>\n    </tr>\n    <tr>\n      <th>4</th>\n      <td>Big L</td>\n      <td>Lifestylez Ov Da Poor and Dangerous</td>\n      <td>MVP.mp3</td>\n      <td>east_coast</td>\n      <td>1995</td>\n      <td>86.956522</td>\n      <td>43.478261</td>\n      <td>218.866667</td>\n      <td>48000</td>\n      <td>/Users/borosabel/Documents/Uni/Thesis/PopMIR/D...</td>\n      <td>a yeah spark up the phillie and pass the stout...</td>\n      <td>[rhyme, cuz, soul, rhythm, stage, lyric, music...</td>\n      <td>[{'entity': 'L', 'type': 'PER', 'score': 0.444...</td>\n      <td>0</td>\n    </tr>\n    <tr>\n      <th>...</th>\n      <td>...</td>\n      <td>...</td>\n      <td>...</td>\n      <td>...</td>\n      <td>...</td>\n      <td>...</td>\n      <td>...</td>\n      <td>...</td>\n      <td>...</td>\n      <td>...</td>\n      <td>...</td>\n      <td>...</td>\n      <td>...</td>\n      <td>...</td>\n    </tr>\n    <tr>\n      <th>1355</th>\n      <td>Dr.Dre</td>\n      <td>The Chronic</td>\n      <td>Dr. Dre - The Day the Niggaz Took Over (feat. ...</td>\n      <td>west_coast</td>\n      <td>1992</td>\n      <td>93.750000</td>\n      <td>46.875000</td>\n      <td>273.206000</td>\n      <td>48000</td>\n      <td>/Users/borosabel/Documents/Uni/Thesis/PopMIR/D...</td>\n      <td>yeah nigga what be up with all that motherfuck...</td>\n      <td>[nigga, shit, ride, dick, bitch, die, big, str...</td>\n      <td>[{'entity': 'Lucifer', 'type': 'PER', 'score':...</td>\n      <td>1</td>\n    </tr>\n    <tr>\n      <th>1356</th>\n      <td>Dr.Dre</td>\n      <td>The Chronic</td>\n      <td>Dr. Dre - Bitches Ain't Shit (feat. Jewell, Sn...</td>\n      <td>west_coast</td>\n      <td>1992</td>\n      <td>92.307692</td>\n      <td>46.153846</td>\n      <td>287.207625</td>\n      <td>48000</td>\n      <td>/Users/borosabel/Documents/Uni/Thesis/PopMIR/D...</td>\n      <td>— so all of yeah african all of yeah african t...</td>\n      <td>[nigga, shit, ride, dick, bitch, die, big, str...</td>\n      <td>[{'entity': 'Africans', 'type': 'MISC', 'score...</td>\n      <td>1</td>\n    </tr>\n    <tr>\n      <th>1357</th>\n      <td>Dr.Dre</td>\n      <td>The Chronic</td>\n      <td>Dr. Dre - Stranded On Death Row (feat. Bushwic...</td>\n      <td>west_coast</td>\n      <td>1992</td>\n      <td>90.909091</td>\n      <td>45.801527</td>\n      <td>287.335333</td>\n      <td>48000</td>\n      <td>/Users/borosabel/Documents/Uni/Thesis/PopMIR/D...</td>\n      <td>yeah really do not understand do yeah hey man ...</td>\n      <td>[nigga, shit, ride, dick, bitch, die, big, str...</td>\n      <td>[{'entity': 'Death Row', 'type': 'ORG', 'score...</td>\n      <td>1</td>\n    </tr>\n    <tr>\n      <th>1358</th>\n      <td>Dr.Dre</td>\n      <td>The Chronic</td>\n      <td>Dr. Dre - Nuthin' but a ＂G＂ Thang (feat. Snoop...</td>\n      <td>west_coast</td>\n      <td>1992</td>\n      <td>95.238095</td>\n      <td>47.244094</td>\n      <td>238.677917</td>\n      <td>48000</td>\n      <td>/Users/borosabel/Documents/Uni/Thesis/PopMIR/D...</td>\n      <td>yeah yeah what be up yeah man give I some of t...</td>\n      <td>[nigga, shit, ride, dick, bitch, die, big, str...</td>\n      <td>[{'entity': 'RBX', 'type': 'ORG', 'score': 0.7...</td>\n      <td>1</td>\n    </tr>\n    <tr>\n      <th>1359</th>\n      <td>Dr.Dre</td>\n      <td>The Chronic</td>\n      <td>Dr. Dre - The Roach (ft. Ruben Cruz, Daz Dilli...</td>\n      <td>west_coast</td>\n      <td>1992</td>\n      <td>89.552239</td>\n      <td>44.117647</td>\n      <td>277.072125</td>\n      <td>48000</td>\n      <td>/Users/borosabel/Documents/Uni/Thesis/PopMIR/D...</td>\n      <td>I be a say this and I be a end mine if yeah be...</td>\n      <td>[nigga, shit, ride, dick, bitch, die, big, str...</td>\n      <td>[{'entity': 'Africans', 'type': 'MISC', 'score...</td>\n      <td>1</td>\n    </tr>\n  </tbody>\n</table>\n<p>1360 rows × 14 columns</p>\n</div>"
     },
     "execution_count": 96,
     "metadata": {},
     "output_type": "execute_result"
    }
   ],
   "source": [
    "filtered_df"
   ],
   "metadata": {
    "collapsed": false,
    "ExecuteTime": {
     "end_time": "2024-05-14T21:06:47.442589Z",
     "start_time": "2024-05-14T21:06:47.435170Z"
    }
   },
   "id": "7527e93a500d6269"
  },
  {
   "cell_type": "code",
   "execution_count": 97,
   "outputs": [],
   "source": [
    "filtered_df.to_excel('baseline_w_topics_w_entity.xlsx', index=False)"
   ],
   "metadata": {
    "collapsed": false,
    "ExecuteTime": {
     "end_time": "2024-05-14T21:07:01.774373Z",
     "start_time": "2024-05-14T21:07:01.148326Z"
    }
   },
   "id": "7674beed1686da32"
  },
  {
   "cell_type": "code",
   "execution_count": 81,
   "outputs": [
    {
     "name": "stdout",
     "output_type": "stream",
     "text": [
      "Coast              east_coast  west_coast\n",
      "Topic Model Index                        \n",
      "0                         433         251\n",
      "1                         261         415\n"
     ]
    }
   ],
   "source": [
    "topic_coast_distribution = pd.crosstab(filtered_df['Topic Model Index'], filtered_df['Coast'])\n",
    "print(topic_coast_distribution)"
   ],
   "metadata": {
    "collapsed": false,
    "ExecuteTime": {
     "end_time": "2024-05-14T20:47:22.686379Z",
     "start_time": "2024-05-14T20:47:22.670817Z"
    }
   },
   "id": "b70a9bfa7995a321"
  },
  {
   "cell_type": "code",
   "execution_count": 87,
   "outputs": [],
   "source": [
    "# Normalization of the topic distribution over the entire dataset\n",
    "total_songs = topic_coast_distribution.sum().sum()\n",
    "topic_coast_distribution_normalized = topic_coast_distribution / total_songs"
   ],
   "metadata": {
    "collapsed": false,
    "ExecuteTime": {
     "end_time": "2024-05-14T20:51:34.396811Z",
     "start_time": "2024-05-14T20:51:34.389879Z"
    }
   },
   "id": "a89b3bb643b1de7b"
  },
  {
   "cell_type": "code",
   "execution_count": 90,
   "outputs": [
    {
     "data": {
      "text/plain": "[['rhyme',\n  'cuz',\n  'soul',\n  'rhythm',\n  'stage',\n  'lyric',\n  'music',\n  'cut',\n  'funky',\n  'skill'],\n ['nigga',\n  'shit',\n  'ride',\n  'dick',\n  'bitch',\n  'die',\n  'big',\n  'street',\n  'man',\n  'fuck']]"
     },
     "execution_count": 90,
     "metadata": {},
     "output_type": "execute_result"
    }
   ],
   "source": [
    "model_output['topics']"
   ],
   "metadata": {
    "collapsed": false,
    "ExecuteTime": {
     "end_time": "2024-05-14T20:52:11.715413Z",
     "start_time": "2024-05-14T20:52:11.700375Z"
    }
   },
   "id": "3c8a911a7f67269b"
  },
  {
   "cell_type": "code",
   "execution_count": 94,
   "outputs": [
    {
     "data": {
      "text/plain": "<Figure size 1000x600 with 1 Axes>",
      "image/png": "[encoded data removed]"
     },
     "metadata": {},
     "output_type": "display_data"
    }
   ],
   "source": [
    "# Assuming topic_coast_distribution_normalized is already defined\n",
    "colors = ['blue', 'red']\n",
    "topic_labels = ['Rhyme, Rapper Lifestyle', 'Violence, Street']\n",
    "\n",
    "# Create the bar plot\n",
    "ax = (topic_coast_distribution_normalized * 100).plot(kind='bar', figsize=(10, 6), color=colors)\n",
    "plt.title('Proportional Contribution of Each Coast to Topics (Global Normalization)')\n",
    "plt.xlabel('Dominant Topic')\n",
    "plt.ylabel('Percentage of Total Songs')\n",
    "plt.xticks(rotation=0)\n",
    "plt.legend(title='Coast')\n",
    "\n",
    "# Change the x-axis labels to the topic descriptions\n",
    "ax.set_xticklabels(topic_labels)\n",
    "\n",
    "# Adding percentage labels\n",
    "for p in ax.patches:\n",
    "    width = p.get_width()\n",
    "    height = p.get_height()\n",
    "    x, y = p.get_xy()\n",
    "    if height > 0:  # Only add annotations for non-zero values\n",
    "        ax.annotate(f'{height:.2f}%', (x + width/2, y + height*0.5), ha='center')\n",
    "\n",
    "plt.savefig('coast_topic_contribution.png', dpi=300, bbox_inches='tight')\n",
    "# Show the plot\n",
    "plt.show()"
   ],
   "metadata": {
    "collapsed": false,
    "ExecuteTime": {
     "end_time": "2024-05-14T20:59:38.392723Z",
     "start_time": "2024-05-14T20:59:37.622520Z"
    }
   },
   "id": "6b1938315188537a"
  },
  {
   "cell_type": "code",
   "execution_count": null,
   "outputs": [],
   "source": [],
   "metadata": {
    "collapsed": false
   },
   "id": "e91a1939fb46e2ee"
  }
 ],
 "metadata": {
  "kernelspec": {
   "display_name": "Python 3",
   "language": "python",
   "name": "python3"
  },
  "language_info": {
   "codemirror_mode": {
    "name": "ipython",
    "version": 2
   },
   "file_extension": ".py",
   "mimetype": "text/x-python",
   "name": "python",
   "nbconvert_exporter": "python",
   "pygments_lexer": "ipython2",
   "version": "2.7.6"
  }
 },
 "nbformat": 4,
 "nbformat_minor": 5
}
