{
 "cells": [
  {
   "cell_type": "code",
   "execution_count": 20,
   "outputs": [
    {
     "data": {
      "text/plain": "<module 'utility_functions' from '/Users/borosabel/Documents/Uni/Thesis/PopMIR/Code/Lyrics/utility_functions.py'>"
     },
     "execution_count": 20,
     "metadata": {},
     "output_type": "execute_result"
    }
   ],
   "source": [
    "import pyLDAvis\n",
    "import utility_functions as utils\n",
    "import importlib\n",
    "import pandas as pd\n",
    "import seaborn as sns\n",
    "import matplotlib.pyplot as plt\n",
    "import numpy as np\n",
    "from nltk.corpus import stopwords\n",
    "import itertools\n",
    "from collections import Counter\n",
    "import os\n",
    "from contextualized_topic_models.models.ctm import CombinedTM\n",
    "from contextualized_topic_models.utils.data_preparation import TopicModelDataPreparation\n",
    "from contextualized_topic_models.utils.preprocessing import WhiteSpacePreprocessingStopwords\n",
    "import nltk\n",
    "from nltk.corpus import stopwords as stop_words\n",
    "\n",
    "importlib.reload(utils)\n",
    "path_to_east_coast_lyrics = '/Users/borosabel/Documents/Uni/Thesis/PopMIR/Data/Lyrics/east_coast'\n",
    "path_to_west_coast_lyrics = '/Users/borosabel/Documents/Uni/Thesis/PopMIR/Data/Lyrics/west_coast'\n",
    "\n",
    "concreteness_df = pd.read_excel('./concreteness_scores.xlsx')\n",
    "concreteness_ratings = concreteness_df.set_index('Word')['Conc.M'].to_dict()\n",
    "\n",
    "importlib.reload(utils)"
   ],
   "metadata": {
    "collapsed": false,
    "ExecuteTime": {
     "end_time": "2024-04-29T18:47:00.589771Z",
     "start_time": "2024-04-29T18:46:58.152064Z"
    }
   },
   "id": "92809f487ef368c"
  },
  {
   "cell_type": "code",
   "execution_count": 2,
   "outputs": [],
   "source": [
    "# Load data into dataframes\n",
    "east_coast_df = utils.load_txt_into_dataframe(path_to_east_coast_lyrics)\n",
    "west_coast_df = utils.load_txt_into_dataframe(path_to_west_coast_lyrics)"
   ],
   "metadata": {
    "collapsed": false,
    "ExecuteTime": {
     "end_time": "2024-04-29T18:09:39.676719Z",
     "start_time": "2024-04-29T18:09:39.495477Z"
    }
   },
   "id": "21bf6b13161541b5"
  },
  {
   "cell_type": "code",
   "execution_count": 3,
   "outputs": [],
   "source": [
    "# Clean up lyrics column\n",
    "east_coast_df['Lyrics'] = east_coast_df['Lyrics'].apply(utils.cleanup)\n",
    "west_coast_df['Lyrics'] = west_coast_df['Lyrics'].apply(utils.cleanup)"
   ],
   "metadata": {
    "collapsed": false,
    "ExecuteTime": {
     "end_time": "2024-04-29T18:09:40.738616Z",
     "start_time": "2024-04-29T18:09:40.275235Z"
    }
   },
   "id": "efa44f25c1d6b50d"
  },
  {
   "cell_type": "code",
   "execution_count": 4,
   "outputs": [],
   "source": [
    "# Assuming 'df' is your DataFrame and 'text_column' is the name of the column containing text\n",
    "east_coast_df.to_csv('east_coast_lyrics_line_by_line.txt', columns=['Lyrics'], index=False, header=False, encoding='utf-8')\n",
    "west_coast_df.to_csv('west_coast_lyrics_line_by_line.txt', columns=['Lyrics'], index=False, header=False, encoding='utf-8')"
   ],
   "metadata": {
    "collapsed": false,
    "ExecuteTime": {
     "end_time": "2024-04-29T18:09:42.020328Z",
     "start_time": "2024-04-29T18:09:41.952230Z"
    }
   },
   "id": "39e1db344030c301"
  },
  {
   "cell_type": "code",
   "execution_count": 5,
   "outputs": [],
   "source": [
    "text_file_east = 'east_coast_lyrics_line_by_line.txt'\n",
    "text_file_west = 'west_coast_lyrics_line_by_line.txt'\n",
    "\n",
    "documents_east = [line.strip() for line in open(text_file_east, encoding=\"utf-8\").readlines()[0:2000]]\n",
    "documents_west = [line.strip() for line in open(text_file_west, encoding=\"utf-8\").readlines()[0:2000]]"
   ],
   "metadata": {
    "collapsed": false,
    "ExecuteTime": {
     "end_time": "2024-04-29T18:10:21.991753Z",
     "start_time": "2024-04-29T18:10:21.982795Z"
    }
   },
   "id": "6454148ba61cef8"
  },
  {
   "cell_type": "code",
   "execution_count": 6,
   "outputs": [],
   "source": [
    "stopwords = list(stop_words.words(\"english\"))\n",
    "\n",
    "sp_east = WhiteSpacePreprocessingStopwords(documents_east, stopwords_list=stopwords)\n",
    "sp_west = WhiteSpacePreprocessingStopwords(documents_west, stopwords_list=stopwords)\n",
    "\n",
    "preprocessed_documents_east, unpreprocessed_corpus_east, vocab_east, retained_indices_east = sp_east.preprocess()\n",
    "preprocessed_documents_west, unpreprocessed_corpus_west, vocab_west, retained_indices_west = sp_west.preprocess()"
   ],
   "metadata": {
    "collapsed": false,
    "ExecuteTime": {
     "end_time": "2024-04-29T18:10:43.896832Z",
     "start_time": "2024-04-29T18:10:42.838287Z"
    }
   },
   "id": "9a0a9e1cb4b00de5"
  },
  {
   "cell_type": "code",
   "execution_count": 7,
   "outputs": [
    {
     "name": "stderr",
     "output_type": "stream",
     "text": [
      "/Users/borosabel/lib/python3.9/site-packages/contextualized_topic_models/utils/data_preparation.py:64: UserWarning: the longest document in your collection has 1917 words, the model instead truncates to 128 tokens.\n",
      "  warnings.warn(\n",
      "/Users/borosabel/lib/python3.9/site-packages/ipywidgets/widgets/widget.py:438: DeprecationWarning: The `ipykernel.comm.Comm` class has been deprecated. Please use the `comm` module instead.For creating comms, use the function `from comm import create_comm`.\n",
      "  self.comm = Comm(**args)\n",
      "/Users/borosabel/lib/python3.9/site-packages/ipywidgets/widgets/widget.py:438: DeprecationWarning: The `ipykernel.comm.Comm` class has been deprecated. Please use the `comm` module instead.For creating comms, use the function `from comm import create_comm`.\n",
      "  self.comm = Comm(**args)\n",
      "/Users/borosabel/lib/python3.9/site-packages/ipywidgets/widgets/widget.py:438: DeprecationWarning: The `ipykernel.comm.Comm` class has been deprecated. Please use the `comm` module instead.For creating comms, use the function `from comm import create_comm`.\n",
      "  self.comm = Comm(**args)\n",
      "/Users/borosabel/lib/python3.9/site-packages/ipywidgets/widgets/widget.py:438: DeprecationWarning: The `ipykernel.comm.Comm` class has been deprecated. Please use the `comm` module instead.For creating comms, use the function `from comm import create_comm`.\n",
      "  self.comm = Comm(**args)\n",
      "/Users/borosabel/lib/python3.9/site-packages/ipywidgets/widgets/widget.py:438: DeprecationWarning: The `ipykernel.comm.Comm` class has been deprecated. Please use the `comm` module instead.For creating comms, use the function `from comm import create_comm`.\n",
      "  self.comm = Comm(**args)\n",
      "/Users/borosabel/lib/python3.9/site-packages/ipywidgets/widgets/widget.py:438: DeprecationWarning: The `ipykernel.comm.Comm` class has been deprecated. Please use the `comm` module instead.For creating comms, use the function `from comm import create_comm`.\n",
      "  self.comm = Comm(**args)\n",
      "/Users/borosabel/lib/python3.9/site-packages/ipywidgets/widgets/widget.py:438: DeprecationWarning: The `ipykernel.comm.Comm` class has been deprecated. Please use the `comm` module instead.For creating comms, use the function `from comm import create_comm`.\n",
      "  self.comm = Comm(**args)\n",
      "/Users/borosabel/lib/python3.9/site-packages/ipywidgets/widgets/widget.py:438: DeprecationWarning: The `ipykernel.comm.Comm` class has been deprecated. Please use the `comm` module instead.For creating comms, use the function `from comm import create_comm`.\n",
      "  self.comm = Comm(**args)\n",
      "/Users/borosabel/lib/python3.9/site-packages/ipywidgets/widgets/widget.py:438: DeprecationWarning: The `ipykernel.comm.Comm` class has been deprecated. Please use the `comm` module instead.For creating comms, use the function `from comm import create_comm`.\n",
      "  self.comm = Comm(**args)\n",
      "/Users/borosabel/lib/python3.9/site-packages/ipywidgets/widgets/widget.py:438: DeprecationWarning: The `ipykernel.comm.Comm` class has been deprecated. Please use the `comm` module instead.For creating comms, use the function `from comm import create_comm`.\n",
      "  self.comm = Comm(**args)\n",
      "/Users/borosabel/lib/python3.9/site-packages/ipywidgets/widgets/widget.py:438: DeprecationWarning: The `ipykernel.comm.Comm` class has been deprecated. Please use the `comm` module instead.For creating comms, use the function `from comm import create_comm`.\n",
      "  self.comm = Comm(**args)\n"
     ]
    },
    {
     "data": {
      "text/plain": "Batches:   0%|          | 0/5 [00:00<?, ?it/s]",
      "application/vnd.jupyter.widget-view+json": {
       "version_major": 2,
       "version_minor": 0,
       "model_id": "943237df73dd468e9e4091f9b738403c"
      }
     },
     "metadata": {},
     "output_type": "display_data"
    },
    {
     "name": "stderr",
     "output_type": "stream",
     "text": [
      "/Users/borosabel/lib/python3.9/site-packages/contextualized_topic_models/utils/data_preparation.py:64: UserWarning: the longest document in your collection has 1876 words, the model instead truncates to 128 tokens.\n",
      "  warnings.warn(\n",
      "/Users/borosabel/lib/python3.9/site-packages/ipywidgets/widgets/widget.py:438: DeprecationWarning: The `ipykernel.comm.Comm` class has been deprecated. Please use the `comm` module instead.For creating comms, use the function `from comm import create_comm`.\n",
      "  self.comm = Comm(**args)\n",
      "/Users/borosabel/lib/python3.9/site-packages/ipywidgets/widgets/widget.py:438: DeprecationWarning: The `ipykernel.comm.Comm` class has been deprecated. Please use the `comm` module instead.For creating comms, use the function `from comm import create_comm`.\n",
      "  self.comm = Comm(**args)\n",
      "/Users/borosabel/lib/python3.9/site-packages/ipywidgets/widgets/widget.py:438: DeprecationWarning: The `ipykernel.comm.Comm` class has been deprecated. Please use the `comm` module instead.For creating comms, use the function `from comm import create_comm`.\n",
      "  self.comm = Comm(**args)\n",
      "/Users/borosabel/lib/python3.9/site-packages/ipywidgets/widgets/widget.py:438: DeprecationWarning: The `ipykernel.comm.Comm` class has been deprecated. Please use the `comm` module instead.For creating comms, use the function `from comm import create_comm`.\n",
      "  self.comm = Comm(**args)\n",
      "/Users/borosabel/lib/python3.9/site-packages/ipywidgets/widgets/widget.py:438: DeprecationWarning: The `ipykernel.comm.Comm` class has been deprecated. Please use the `comm` module instead.For creating comms, use the function `from comm import create_comm`.\n",
      "  self.comm = Comm(**args)\n",
      "/Users/borosabel/lib/python3.9/site-packages/ipywidgets/widgets/widget.py:438: DeprecationWarning: The `ipykernel.comm.Comm` class has been deprecated. Please use the `comm` module instead.For creating comms, use the function `from comm import create_comm`.\n",
      "  self.comm = Comm(**args)\n",
      "/Users/borosabel/lib/python3.9/site-packages/ipywidgets/widgets/widget.py:438: DeprecationWarning: The `ipykernel.comm.Comm` class has been deprecated. Please use the `comm` module instead.For creating comms, use the function `from comm import create_comm`.\n",
      "  self.comm = Comm(**args)\n",
      "/Users/borosabel/lib/python3.9/site-packages/ipywidgets/widgets/widget.py:438: DeprecationWarning: The `ipykernel.comm.Comm` class has been deprecated. Please use the `comm` module instead.For creating comms, use the function `from comm import create_comm`.\n",
      "  self.comm = Comm(**args)\n",
      "/Users/borosabel/lib/python3.9/site-packages/ipywidgets/widgets/widget.py:438: DeprecationWarning: The `ipykernel.comm.Comm` class has been deprecated. Please use the `comm` module instead.For creating comms, use the function `from comm import create_comm`.\n",
      "  self.comm = Comm(**args)\n",
      "/Users/borosabel/lib/python3.9/site-packages/ipywidgets/widgets/widget.py:438: DeprecationWarning: The `ipykernel.comm.Comm` class has been deprecated. Please use the `comm` module instead.For creating comms, use the function `from comm import create_comm`.\n",
      "  self.comm = Comm(**args)\n",
      "/Users/borosabel/lib/python3.9/site-packages/ipywidgets/widgets/widget.py:438: DeprecationWarning: The `ipykernel.comm.Comm` class has been deprecated. Please use the `comm` module instead.For creating comms, use the function `from comm import create_comm`.\n",
      "  self.comm = Comm(**args)\n"
     ]
    },
    {
     "data": {
      "text/plain": "Batches:   0%|          | 0/5 [00:00<?, ?it/s]",
      "application/vnd.jupyter.widget-view+json": {
       "version_major": 2,
       "version_minor": 0,
       "model_id": "9eebf68b4fdf42bd81272d865a47c3fb"
      }
     },
     "metadata": {},
     "output_type": "display_data"
    }
   ],
   "source": [
    "tp_east = TopicModelDataPreparation(\"all-mpnet-base-v2\")\n",
    "tp_west = TopicModelDataPreparation(\"all-mpnet-base-v2\")\n",
    "\n",
    "training_dataset_east = tp_east.fit(text_for_contextual=unpreprocessed_corpus_east, text_for_bow=preprocessed_documents_east)\n",
    "training_dataset_west = tp_west.fit(text_for_contextual=unpreprocessed_corpus_west, text_for_bow=preprocessed_documents_west)"
   ],
   "metadata": {
    "collapsed": false,
    "ExecuteTime": {
     "end_time": "2024-04-29T18:12:06.835675Z",
     "start_time": "2024-04-29T18:11:30.964961Z"
    }
   },
   "id": "28c981971ff4603a"
  },
  {
   "cell_type": "code",
   "execution_count": 8,
   "outputs": [
    {
     "name": "stderr",
     "output_type": "stream",
     "text": [
      "/Users/borosabel/lib/python3.9/site-packages/contextualized_topic_models/models/ctm.py:669: Warning: This is an experimental feature that we has not been fully tested. Refer to the following issue:https://github.com/MilaNLProc/contextualized-topic-models/issues/38\n",
      "  warnings.warn(\n"
     ]
    }
   ],
   "source": [
    "model_path_east = '/Users/borosabel/Documents/Uni/Thesis/PopMIR/Code/Lyrics/contextualized_topic_model_east/epoch_9.pth'\n",
    "ctm_east = CombinedTM(bow_size=len(tp_east.vocab), contextual_size=768, n_components=5, num_epochs=10)\n",
    "\n",
    "if os.path.exists(model_path_east):\n",
    "    ctm_east.load(\"/Users/borosabel/Documents/Uni/Thesis/PopMIR/Code/Lyrics/contextualized_topic_model_east\", epoch=9)\n",
    "else:\n",
    "    ctm_east.fit(training_dataset_east) # run the model"
   ],
   "metadata": {
    "collapsed": false,
    "ExecuteTime": {
     "end_time": "2024-04-29T18:12:33.495604Z",
     "start_time": "2024-04-29T18:12:33.461779Z"
    }
   },
   "id": "38b0430a65378ec8"
  },
  {
   "cell_type": "code",
   "execution_count": 10,
   "outputs": [
    {
     "data": {
      "text/plain": "array(['across', 'act', 'actin', ..., 'yes', 'yet', 'zone'], dtype=object)"
     },
     "execution_count": 10,
     "metadata": {},
     "output_type": "execute_result"
    }
   ],
   "source": [
    "tp_west"
   ],
   "metadata": {
    "collapsed": false,
    "ExecuteTime": {
     "end_time": "2024-04-29T18:13:02.939632Z",
     "start_time": "2024-04-29T18:13:02.913071Z"
    }
   },
   "id": "9e63620e6fe60b27"
  },
  {
   "cell_type": "code",
   "execution_count": 8,
   "outputs": [
    {
     "name": "stderr",
     "output_type": "stream",
     "text": [
      "/Users/borosabel/lib/python3.9/site-packages/contextualized_topic_models/models/ctm.py:669: Warning: This is an experimental feature that we has not been fully tested. Refer to the following issue:https://github.com/MilaNLProc/contextualized-topic-models/issues/38\n",
      "  warnings.warn(\n"
     ]
    }
   ],
   "source": [
    "model_path = '/Users/borosabel/Documents/Uni/Thesis/PopMIR/Code/Lyrics/contextualized_topic_model_west/epoch_9.pth'\n",
    "ctm_west = CombinedTM(bow_size=len(tp_west.vocab), contextual_size=768, n_components=5, num_epochs=10)\n",
    "\n",
    "if os.path.exists(model_path):\n",
    "    ctm_west.load(\"/Users/borosabel/Documents/Uni/Thesis/PopMIR/Code/Lyrics/contextualized_topic_model_west\", epoch=9)\n",
    "else:\n",
    "    ctm_west.fit(training_dataset_west) # run the model"
   ],
   "metadata": {
    "collapsed": false,
    "ExecuteTime": {
     "end_time": "2024-03-27T13:37:47.903708Z",
     "start_time": "2024-03-27T13:37:47.867507Z"
    }
   },
   "id": "56617ada9483ed67"
  },
  {
   "cell_type": "code",
   "execution_count": 14,
   "outputs": [
    {
     "data": {
      "text/plain": "<contextualized_topic_models.datasets.dataset.CTMDataset at 0x17bed4820>"
     },
     "execution_count": 14,
     "metadata": {},
     "output_type": "execute_result"
    }
   ],
   "source": [
    "training_dataset_east"
   ],
   "metadata": {
    "collapsed": false,
    "ExecuteTime": {
     "end_time": "2024-04-29T18:22:42.130664Z",
     "start_time": "2024-04-29T18:22:42.112725Z"
    }
   },
   "id": "de97fcb037586985"
  },
  {
   "cell_type": "code",
   "execution_count": 21,
   "outputs": [
    {
     "name": "stderr",
     "output_type": "stream",
     "text": [
      "  0%|          | 0/13 [00:00<?, ?it/s]huggingface/tokenizers: The current process just got forked, after parallelism has already been used. Disabling parallelism to avoid deadlocks...\n",
      "To disable this warning, you can either:\n",
      "\t- Avoid using `tokenizers` before the fork if possible\n",
      "\t- Explicitly set the environment variable TOKENIZERS_PARALLELISM=(true | false)\n",
      "huggingface/tokenizers: The current process just got forked, after parallelism has already been used. Disabling parallelism to avoid deadlocks...\n",
      "To disable this warning, you can either:\n",
      "\t- Avoid using `tokenizers` before the fork if possible\n",
      "\t- Explicitly set the environment variable TOKENIZERS_PARALLELISM=(true | false)\n",
      "huggingface/tokenizers: The current process just got forked, after parallelism has already been used. Disabling parallelism to avoid deadlocks...\n",
      "To disable this warning, you can either:\n",
      "\t- Avoid using `tokenizers` before the fork if possible\n",
      "\t- Explicitly set the environment variable TOKENIZERS_PARALLELISM=(true | false)\n",
      "huggingface/tokenizers: The current process just got forked, after parallelism has already been used. Disabling parallelism to avoid deadlocks...\n",
      "To disable this warning, you can either:\n",
      "\t- Avoid using `tokenizers` before the fork if possible\n",
      "\t- Explicitly set the environment variable TOKENIZERS_PARALLELISM=(true | false)\n",
      "huggingface/tokenizers: The current process just got forked, after parallelism has already been used. Disabling parallelism to avoid deadlocks...\n",
      "To disable this warning, you can either:\n",
      "\t- Avoid using `tokenizers` before the fork if possible\n",
      "\t- Explicitly set the environment variable TOKENIZERS_PARALLELISM=(true | false)\n",
      "huggingface/tokenizers: The current process just got forked, after parallelism has already been used. Disabling parallelism to avoid deadlocks...\n",
      "To disable this warning, you can either:\n",
      "\t- Avoid using `tokenizers` before the fork if possible\n",
      "\t- Explicitly set the environment variable TOKENIZERS_PARALLELISM=(true | false)\n",
      "huggingface/tokenizers: The current process just got forked, after parallelism has already been used. Disabling parallelism to avoid deadlocks...\n",
      "To disable this warning, you can either:\n",
      "\t- Avoid using `tokenizers` before the fork if possible\n",
      "\t- Explicitly set the environment variable TOKENIZERS_PARALLELISM=(true | false)\n",
      "huggingface/tokenizers: The current process just got forked, after parallelism has already been used. Disabling parallelism to avoid deadlocks...\n",
      "To disable this warning, you can either:\n",
      "\t- Avoid using `tokenizers` before the fork if possible\n",
      "\t- Explicitly set the environment variable TOKENIZERS_PARALLELISM=(true | false)\n",
      "/Users/borosabel/lib/python3.9/site-packages/urllib3/__init__.py:35: NotOpenSSLWarning: urllib3 v2 only supports OpenSSL 1.1.1+, currently the 'ssl' module is compiled with 'LibreSSL 2.8.3'. See: https://github.com/urllib3/urllib3/issues/3020\n",
      "  warnings.warn(\n",
      "/Users/borosabel/lib/python3.9/site-packages/urllib3/__init__.py:35: NotOpenSSLWarning: urllib3 v2 only supports OpenSSL 1.1.1+, currently the 'ssl' module is compiled with 'LibreSSL 2.8.3'. See: https://github.com/urllib3/urllib3/issues/3020\n",
      "  warnings.warn(\n",
      "/Users/borosabel/lib/python3.9/site-packages/urllib3/__init__.py:35: NotOpenSSLWarning: urllib3 v2 only supports OpenSSL 1.1.1+, currently the 'ssl' module is compiled with 'LibreSSL 2.8.3'. See: https://github.com/urllib3/urllib3/issues/3020\n",
      "  warnings.warn(\n",
      "/Users/borosabel/lib/python3.9/site-packages/urllib3/__init__.py:35: NotOpenSSLWarning: urllib3 v2 only supports OpenSSL 1.1.1+, currently the 'ssl' module is compiled with 'LibreSSL 2.8.3'. See: https://github.com/urllib3/urllib3/issues/3020\n",
      "  warnings.warn(\n",
      "/Users/borosabel/lib/python3.9/site-packages/urllib3/__init__.py:35: NotOpenSSLWarning: urllib3 v2 only supports OpenSSL 1.1.1+, currently the 'ssl' module is compiled with 'LibreSSL 2.8.3'. See: https://github.com/urllib3/urllib3/issues/3020\n",
      "  warnings.warn(\n",
      "/Users/borosabel/lib/python3.9/site-packages/urllib3/__init__.py:35: NotOpenSSLWarning: urllib3 v2 only supports OpenSSL 1.1.1+, currently the 'ssl' module is compiled with 'LibreSSL 2.8.3'. See: https://github.com/urllib3/urllib3/issues/3020\n",
      "  warnings.warn(\n",
      "/Users/borosabel/lib/python3.9/site-packages/urllib3/__init__.py:35: NotOpenSSLWarning: urllib3 v2 only supports OpenSSL 1.1.1+, currently the 'ssl' module is compiled with 'LibreSSL 2.8.3'. See: https://github.com/urllib3/urllib3/issues/3020\n",
      "  warnings.warn(\n",
      "/Users/borosabel/lib/python3.9/site-packages/urllib3/__init__.py:35: NotOpenSSLWarning: urllib3 v2 only supports OpenSSL 1.1.1+, currently the 'ssl' module is compiled with 'LibreSSL 2.8.3'. See: https://github.com/urllib3/urllib3/issues/3020\n",
      "  warnings.warn(\n",
      "100%|██████████| 13/13 [00:48<00:00,  3.70s/it]\n",
      "huggingface/tokenizers: The current process just got forked, after parallelism has already been used. Disabling parallelism to avoid deadlocks...\n",
      "To disable this warning, you can either:\n",
      "\t- Avoid using `tokenizers` before the fork if possible\n",
      "\t- Explicitly set the environment variable TOKENIZERS_PARALLELISM=(true | false)\n",
      "huggingface/tokenizers: The current process just got forked, after parallelism has already been used. Disabling parallelism to avoid deadlocks...\n",
      "To disable this warning, you can either:\n",
      "\t- Avoid using `tokenizers` before the fork if possible\n",
      "\t- Explicitly set the environment variable TOKENIZERS_PARALLELISM=(true | false)\n",
      "huggingface/tokenizers: The current process just got forked, after parallelism has already been used. Disabling parallelism to avoid deadlocks...\n",
      "To disable this warning, you can either:\n",
      "\t- Avoid using `tokenizers` before the fork if possible\n",
      "\t- Explicitly set the environment variable TOKENIZERS_PARALLELISM=(true | false)\n",
      "huggingface/tokenizers: The current process just got forked, after parallelism has already been used. Disabling parallelism to avoid deadlocks...\n",
      "To disable this warning, you can either:\n",
      "\t- Avoid using `tokenizers` before the fork if possible\n",
      "\t- Explicitly set the environment variable TOKENIZERS_PARALLELISM=(true | false)\n",
      "huggingface/tokenizers: The current process just got forked, after parallelism has already been used. Disabling parallelism to avoid deadlocks...\n",
      "To disable this warning, you can either:\n",
      "\t- Avoid using `tokenizers` before the fork if possible\n",
      "\t- Explicitly set the environment variable TOKENIZERS_PARALLELISM=(true | false)\n",
      "huggingface/tokenizers: The current process just got forked, after parallelism has already been used. Disabling parallelism to avoid deadlocks...\n",
      "To disable this warning, you can either:\n",
      "\t- Avoid using `tokenizers` before the fork if possible\n",
      "\t- Explicitly set the environment variable TOKENIZERS_PARALLELISM=(true | false)\n",
      "huggingface/tokenizers: The current process just got forked, after parallelism has already been used. Disabling parallelism to avoid deadlocks...\n",
      "To disable this warning, you can either:\n",
      "\t- Avoid using `tokenizers` before the fork if possible\n",
      "\t- Explicitly set the environment variable TOKENIZERS_PARALLELISM=(true | false)\n",
      "huggingface/tokenizers: The current process just got forked, after parallelism has already been used. Disabling parallelism to avoid deadlocks...\n",
      "To disable this warning, you can either:\n",
      "\t- Avoid using `tokenizers` before the fork if possible\n",
      "\t- Explicitly set the environment variable TOKENIZERS_PARALLELISM=(true | false)\n",
      "huggingface/tokenizers: The current process just got forked, after parallelism has already been used. Disabling parallelism to avoid deadlocks...\n",
      "To disable this warning, you can either:\n",
      "\t- Avoid using `tokenizers` before the fork if possible\n",
      "\t- Explicitly set the environment variable TOKENIZERS_PARALLELISM=(true | false)\n",
      "  0%|          | 0/15 [00:00<?, ?it/s]huggingface/tokenizers: The current process just got forked, after parallelism has already been used. Disabling parallelism to avoid deadlocks...\n",
      "To disable this warning, you can either:\n",
      "\t- Avoid using `tokenizers` before the fork if possible\n",
      "\t- Explicitly set the environment variable TOKENIZERS_PARALLELISM=(true | false)\n",
      "huggingface/tokenizers: The current process just got forked, after parallelism has already been used. Disabling parallelism to avoid deadlocks...\n",
      "To disable this warning, you can either:\n",
      "\t- Avoid using `tokenizers` before the fork if possible\n",
      "\t- Explicitly set the environment variable TOKENIZERS_PARALLELISM=(true | false)\n",
      "huggingface/tokenizers: The current process just got forked, after parallelism has already been used. Disabling parallelism to avoid deadlocks...\n",
      "To disable this warning, you can either:\n",
      "\t- Avoid using `tokenizers` before the fork if possible\n",
      "\t- Explicitly set the environment variable TOKENIZERS_PARALLELISM=(true | false)\n",
      "huggingface/tokenizers: The current process just got forked, after parallelism has already been used. Disabling parallelism to avoid deadlocks...\n",
      "To disable this warning, you can either:\n",
      "\t- Avoid using `tokenizers` before the fork if possible\n",
      "\t- Explicitly set the environment variable TOKENIZERS_PARALLELISM=(true | false)\n",
      "huggingface/tokenizers: The current process just got forked, after parallelism has already been used. Disabling parallelism to avoid deadlocks...\n",
      "To disable this warning, you can either:\n",
      "\t- Avoid using `tokenizers` before the fork if possible\n",
      "\t- Explicitly set the environment variable TOKENIZERS_PARALLELISM=(true | false)\n",
      "huggingface/tokenizers: The current process just got forked, after parallelism has already been used. Disabling parallelism to avoid deadlocks...\n",
      "To disable this warning, you can either:\n",
      "\t- Avoid using `tokenizers` before the fork if possible\n",
      "\t- Explicitly set the environment variable TOKENIZERS_PARALLELISM=(true | false)\n",
      "huggingface/tokenizers: The current process just got forked, after parallelism has already been used. Disabling parallelism to avoid deadlocks...\n",
      "To disable this warning, you can either:\n",
      "\t- Avoid using `tokenizers` before the fork if possible\n",
      "\t- Explicitly set the environment variable TOKENIZERS_PARALLELISM=(true | false)\n",
      "huggingface/tokenizers: The current process just got forked, after parallelism has already been used. Disabling parallelism to avoid deadlocks...\n",
      "To disable this warning, you can either:\n",
      "\t- Avoid using `tokenizers` before the fork if possible\n",
      "\t- Explicitly set the environment variable TOKENIZERS_PARALLELISM=(true | false)\n",
      "/Users/borosabel/lib/python3.9/site-packages/urllib3/__init__.py:35: NotOpenSSLWarning: urllib3 v2 only supports OpenSSL 1.1.1+, currently the 'ssl' module is compiled with 'LibreSSL 2.8.3'. See: https://github.com/urllib3/urllib3/issues/3020\n",
      "  warnings.warn(\n",
      "/Users/borosabel/lib/python3.9/site-packages/urllib3/__init__.py:35: NotOpenSSLWarning: urllib3 v2 only supports OpenSSL 1.1.1+, currently the 'ssl' module is compiled with 'LibreSSL 2.8.3'. See: https://github.com/urllib3/urllib3/issues/3020\n",
      "  warnings.warn(\n",
      "/Users/borosabel/lib/python3.9/site-packages/urllib3/__init__.py:35: NotOpenSSLWarning: urllib3 v2 only supports OpenSSL 1.1.1+, currently the 'ssl' module is compiled with 'LibreSSL 2.8.3'. See: https://github.com/urllib3/urllib3/issues/3020\n",
      "  warnings.warn(\n",
      "/Users/borosabel/lib/python3.9/site-packages/urllib3/__init__.py:35: NotOpenSSLWarning: urllib3 v2 only supports OpenSSL 1.1.1+, currently the 'ssl' module is compiled with 'LibreSSL 2.8.3'. See: https://github.com/urllib3/urllib3/issues/3020\n",
      "  warnings.warn(\n",
      "/Users/borosabel/lib/python3.9/site-packages/urllib3/__init__.py:35: NotOpenSSLWarning: urllib3 v2 only supports OpenSSL 1.1.1+, currently the 'ssl' module is compiled with 'LibreSSL 2.8.3'. See: https://github.com/urllib3/urllib3/issues/3020\n",
      "  warnings.warn(\n",
      "/Users/borosabel/lib/python3.9/site-packages/urllib3/__init__.py:35: NotOpenSSLWarning: urllib3 v2 only supports OpenSSL 1.1.1+, currently the 'ssl' module is compiled with 'LibreSSL 2.8.3'. See: https://github.com/urllib3/urllib3/issues/3020\n",
      "  warnings.warn(\n",
      "/Users/borosabel/lib/python3.9/site-packages/urllib3/__init__.py:35: NotOpenSSLWarning: urllib3 v2 only supports OpenSSL 1.1.1+, currently the 'ssl' module is compiled with 'LibreSSL 2.8.3'. See: https://github.com/urllib3/urllib3/issues/3020\n",
      "  warnings.warn(\n",
      "/Users/borosabel/lib/python3.9/site-packages/urllib3/__init__.py:35: NotOpenSSLWarning: urllib3 v2 only supports OpenSSL 1.1.1+, currently the 'ssl' module is compiled with 'LibreSSL 2.8.3'. See: https://github.com/urllib3/urllib3/issues/3020\n",
      "  warnings.warn(\n",
      "100%|██████████| 15/15 [00:48<00:00,  3.21s/it]\n"
     ]
    }
   ],
   "source": [
    "lda_vis_data_east = ctm_east.get_ldavis_data_format(tp_east.vocab, training_dataset_east, n_samples=10)\n",
    "ctm_pd_east = pyLDAvis.prepare(**lda_vis_data_east)\n",
    "\n",
    "lda_vis_data_west = ctm_east.get_ldavis_data_format(tp_west.vocab, training_dataset_west, n_samples=10)\n",
    "ctm_pd_west = pyLDAvis.prepare(**lda_vis_data_west)"
   ],
   "metadata": {
    "collapsed": false,
    "ExecuteTime": {
     "end_time": "2024-04-29T18:49:07.423133Z",
     "start_time": "2024-04-29T18:47:29.636485Z"
    }
   },
   "id": "dd69de091e3e19d8"
  },
  {
   "cell_type": "code",
   "execution_count": 22,
   "outputs": [
    {
     "data": {
      "text/plain": "PreparedData(topic_coordinates=              x         y  topics  cluster       Freq\ntopic                                                \n1      0.000568 -0.000314       1        1  25.484515\n4     -0.000501 -0.000394       2        1  19.867892\n2     -0.000049  0.000264       3        1  19.721823\n3     -0.000022  0.000296       4        1  18.457562\n0      0.000004  0.000147       5        1  16.468208, topic_info=         Term        Freq       Total Category  logprob  loglift\n464   dollars  124.000000  124.000000  Default  30.0000  30.0000\n1190     nuff  121.000000  121.000000  Default  29.0000  29.0000\n200   brother  120.000000  120.000000  Default  28.0000  28.0000\n443    diggin  126.000000  126.000000  Default  27.0000  27.0000\n1845   trying  121.000000  121.000000  Default  26.0000  26.0000\n...       ...         ...         ...      ...      ...      ...\n433   diamond   22.217295  127.907489   Topic5  -7.5323   0.0533\n1210     ones   22.132581  126.170778   Topic5  -7.5361   0.0632\n63       baby   22.111938  125.865615   Topic5  -7.5371   0.0646\n1296    point   22.108206  126.198239   Topic5  -7.5373   0.0618\n1163      naw   22.046293  126.507156   Topic5  -7.5401   0.0566\n\n[229 rows x 6 columns], token_table=      Topic      Freq   Term\nterm                        \n6         1  0.240519  admit\n6         2  0.182463  admit\n6         3  0.207344  admit\n6         4  0.190757  admit\n6         5  0.182463  admit\n...     ...       ...    ...\n1992      1  0.232048  yeahy\n1992      2  0.184038  yeahy\n1992      3  0.216045  yeahy\n1992      4  0.200042  yeahy\n1992      5  0.160033  yeahy\n\n[960 rows x 3 columns], R=30, lambda_step=0.01, plot_opts={'xlab': 'PC1', 'ylab': 'PC2'}, topic_order=[2, 5, 3, 4, 1])"
     },
     "execution_count": 22,
     "metadata": {},
     "output_type": "execute_result"
    }
   ],
   "source": [
    "ctm_pd_west"
   ],
   "metadata": {
    "collapsed": false,
    "ExecuteTime": {
     "end_time": "2024-04-29T18:49:28.702541Z",
     "start_time": "2024-04-29T18:49:28.676279Z"
    }
   },
   "id": "aa330b02d27d79d7"
  },
  {
   "cell_type": "code",
   "execution_count": 209,
   "outputs": [],
   "source": [
    "east_topic_df = ctm_pd_east[0]\n",
    "west_topic_df = ctm_pd_west[0]"
   ],
   "metadata": {
    "collapsed": false,
    "ExecuteTime": {
     "end_time": "2024-03-15T11:50:13.977876Z",
     "start_time": "2024-03-15T11:50:13.971239Z"
    }
   },
   "id": "ad1e64a71fd10900"
  },
  {
   "cell_type": "code",
   "execution_count": 210,
   "outputs": [],
   "source": [
    "colors = ['#4EF9F3', '#3AF8F2', '#26F7F0', '#13F6EF', '#09ECE5', '#C5596E', '#BF4A61', '#B54057', '#A63A50', '#973549'] "
   ],
   "metadata": {
    "collapsed": false,
    "ExecuteTime": {
     "end_time": "2024-03-15T11:50:14.476155Z",
     "start_time": "2024-03-15T11:50:14.471483Z"
    }
   },
   "id": "a7d47394f1911fd2"
  },
  {
   "cell_type": "code",
   "execution_count": 211,
   "outputs": [],
   "source": [
    "combined_df = pd.concat([east_topic_df, west_topic_df])"
   ],
   "metadata": {
    "collapsed": false,
    "ExecuteTime": {
     "end_time": "2024-03-15T11:50:15.707198Z",
     "start_time": "2024-03-15T11:50:15.701518Z"
    }
   },
   "id": "9eec540dd8d6b1dd"
  },
  {
   "cell_type": "code",
   "execution_count": 212,
   "outputs": [],
   "source": [
    "combined_df['Color'] = colors"
   ],
   "metadata": {
    "collapsed": false,
    "ExecuteTime": {
     "end_time": "2024-03-15T11:50:16.137670Z",
     "start_time": "2024-03-15T11:50:16.131882Z"
    }
   },
   "id": "eb52d0b423bf28e3"
  },
  {
   "cell_type": "code",
   "execution_count": 213,
   "outputs": [
    {
     "data": {
      "text/plain": "<Axes: xlabel='x', ylabel='y'>"
     },
     "execution_count": 213,
     "metadata": {},
     "output_type": "execute_result"
    },
    {
     "data": {
      "text/plain": "<Figure size 640x480 with 1 Axes>",
      "image/png": "[encoded data removed]"
     },
     "metadata": {},
     "output_type": "display_data"
    }
   ],
   "source": [
    "sns.scatterplot(combined_df, x='x', y='y', size='Freq', sizes=(100, 2000), color=combined_df['Color'], legend=False)"
   ],
   "metadata": {
    "collapsed": false,
    "ExecuteTime": {
     "end_time": "2024-03-15T11:50:16.916972Z",
     "start_time": "2024-03-15T11:50:16.672891Z"
    }
   },
   "id": "db9cd4ff2643d10"
  },
  {
   "cell_type": "code",
   "execution_count": 18,
   "outputs": [
    {
     "ename": "NameError",
     "evalue": "name 'ctm_pd_west' is not defined",
     "output_type": "error",
     "traceback": [
      "\u001B[0;31m---------------------------------------------------------------------------\u001B[0m",
      "\u001B[0;31mNameError\u001B[0m                                 Traceback (most recent call last)",
      "Cell \u001B[0;32mIn[18], line 1\u001B[0m\n\u001B[0;32m----> 1\u001B[0m \u001B[43mctm_pd_west\u001B[49m\n",
      "\u001B[0;31mNameError\u001B[0m: name 'ctm_pd_west' is not defined"
     ]
    }
   ],
   "source": [
    "ctm_pd_west"
   ],
   "metadata": {
    "collapsed": false,
    "ExecuteTime": {
     "end_time": "2024-04-29T18:44:36.551624Z",
     "start_time": "2024-04-29T18:44:36.533957Z"
    }
   },
   "id": "712f9a5f602fe787"
  },
  {
   "cell_type": "code",
   "execution_count": 10,
   "outputs": [
    {
     "data": {
      "text/plain": "<IPython.core.display.HTML object>",
      "text/html": "\n<link rel=\"stylesheet\" type=\"text/css\" href=\"https://cdn.jsdelivr.net/gh/bmabey/pyLDAvis@3.4.0/pyLDAvis/js/ldavis.v1.0.0.css\">\n\n\n<div id=\"ldavis_el1771161055349766059014019\" style=\"background-color:white;\"></div>\n<script type=\"text/javascript\">\n\nvar ldavis_el1771161055349766059014019_data = {\"mdsDat\": {\"x\": [-3.639878212283534e-06, -0.0005681781244576185, 0.0005007729526779709, 2.2350126784018147e-05, 4.869492320791479e-05], \"y\": [-0.00014737414058867148, 0.0003138165134038304, 0.000393875716747749, -0.00029643784829173165, -0.000263880241271176], \"topics\": [1, 2, 3, 4, 5], \"cluster\": [1, 1, 1, 1, 1], \"Freq\": [24.927185244919027, 23.84135520021528, 20.491169221300805, 15.909844295128108, 14.83044603843678]}, \"tinfo\": {\"Term\": [\"nowadays\", \"nowhere\", \"show\", \"asked\", \"gang\", \"gives\", \"game\", \"every\", \"cause\", \"movin\", \"thick\", \"gets\", \"rocks\", \"wrote\", \"white\", \"send\", \"lord\", \"hollywood\", \"grill\", \"late\", \"matter\", \"cocked\", \"lit\", \"raise\", \"away\", \"arm\", \"nonstop\", \"knowin\", \"stop\", \"uncle\", \"beat\", \"treat\", \"packin\", \"watchin\", \"feed\", \"act\", \"bye\", \"entire\", \"holdin\", \"da\", \"position\", \"everyday\", \"drugs\", \"fair\", \"mo\", \"stronger\", \"alot\", \"tryna\", \"buy\", \"sink\", \"pay\", \"em\", \"floor\", \"lean\", \"ham\", \"goes\", \"laced\", \"screamin\", \"caught\", \"picked\", \"lover\", \"thought\", \"tree\", \"dope\", \"fear\", \"afraid\", \"dream\", \"make\", \"aw\", \"box\", \"dj\", \"peace\", \"probably\", \"like\", \"nuff\", \"rise\", \"title\", \"raw\", \"relate\", \"scene\", \"positive\", \"figured\", \"pocket\", \"thousand\", \"strike\", \"trash\", \"whose\", \"water\", \"snap\", \"sometimes\", \"break\", \"drop\", \"grow\", \"lettin\", \"hour\", \"vibrations\", \"chrome\", \"relax\", \"alive\", \"looking\", \"holla\", \"start\", \"juice\", \"joke\", \"fellas\", \"queen\", \"read\", \"bitches\", \"hype\", \"least\", \"steppin\", \"tribe\", \"swing\", \"needs\", \"sat\", \"fire\", \"def\", \"though\", \"boots\", \"approach\", \"jack\", \"seems\", \"rolling\", \"bought\", \"street\", \"cough\", \"course\", \"travel\", \"bug\", \"spit\", \"fo\", \"missin\", \"arf\", \"chain\", \"original\", \"born\", \"chips\", \"busy\", \"sendin\", \"burnin\", \"representin\", \"type\", \"dice\", \"watching\", \"moms\", \"explode\", \"lips\", \"cake\", \"buddy\", \"little\", \"askin\", \"crush\", \"swing\", \"chill\", \"blaze\", \"asked\", \"gives\", \"cause\", \"grill\", \"show\", \"lord\", \"nowhere\", \"raise\", \"uncle\", \"nowadays\", \"every\", \"arm\", \"chase\", \"gets\", \"duke\", \"load\", \"creator\", \"send\", \"bid\", \"movin\", \"game\", \"thick\", \"rocks\", \"lit\", \"presidents\", \"rocking\", \"keepin\", \"late\", \"knowin\", \"rear\", \"away\", \"gotti\", \"matter\", \"cats\", \"bite\", \"slide\", \"like\", \"nuff\", \"queensbridge\", \"sit\", \"nowadays\", \"nowhere\", \"gang\", \"show\", \"game\", \"hollywood\", \"cocked\", \"rocks\", \"wrote\", \"movin\", \"every\", \"white\", \"twenty\", \"thick\", \"gives\", \"send\", \"gets\", \"stop\", \"matter\", \"yeahhrd\", \"nonstop\", \"knockin\", \"late\", \"remains\", \"away\", \"waitin\", \"mean\", \"bite\", \"biz\", \"lit\", \"yeahrself\", \"goin\", \"blow\", \"take\", \"trust\", \"cause\"], \"Freq\": [102.0, 103.0, 104.0, 101.0, 100.0, 101.0, 101.0, 103.0, 104.0, 101.0, 101.0, 101.0, 102.0, 101.0, 101.0, 103.0, 102.0, 102.0, 102.0, 103.0, 105.0, 101.0, 101.0, 101.0, 102.0, 100.0, 102.0, 102.0, 102.0, 102.0, 28.55474246364799, 27.623609260461397, 28.079471438688085, 28.90750538193795, 27.886541799028926, 27.582695363010487, 27.691191362293637, 27.38829747048811, 28.708174887854426, 27.752324072416773, 27.682906654505512, 28.04200672203362, 28.390486224945757, 27.36412286911002, 28.351938520125653, 27.476726336113828, 27.548861841970226, 27.75824258757409, 27.705819286480505, 28.04739739421945, 28.106816131475398, 27.489015369892552, 27.575396568818533, 28.10428005834802, 27.28688184761561, 27.37687300709372, 27.343145661363813, 28.126431261668742, 28.268530229889663, 27.209340501671903, 27.483770309560928, 27.88587441136383, 27.922826452948282, 28.108235847053884, 27.58252244893362, 27.75629199544382, 28.44011559858681, 27.768847984288584, 27.77551579377899, 27.800809786286273, 27.907858767768275, 27.80144683814841, 27.770828912221813, 27.68218769597538, 27.69305701417562, 27.590179407863335, 27.527627320844957, 27.977854954361817, 27.689681299055334, 27.59389614906054, 27.43858801260153, 27.770454412395686, 27.40112465402361, 27.543878271231797, 27.563410747218985, 27.20154058417713, 27.72775395946886, 27.52753447485096, 27.874935170015792, 27.467100437070645, 27.68678276318023, 27.719748893923903, 27.359903934126116, 27.335166279600458, 27.10858143412463, 27.46332566712719, 27.26500372251161, 27.449723729006582, 27.013010990490958, 26.981858258067547, 27.56692438780432, 26.716193953430786, 27.313208202020093, 27.142374474502343, 27.20212667451424, 27.535104324799054, 27.223173700778506, 27.387641674832814, 27.501807430201765, 27.31158339712514, 27.51946847912244, 27.338346254894866, 27.357388387976254, 27.387598153273128, 27.316843702972548, 23.551969416143127, 23.991693372590863, 23.813573898886755, 24.15646142929283, 23.605636925538537, 23.677600913556418, 24.24324314607924, 23.63857158454998, 23.89517364994092, 23.208308830213955, 23.48072611537097, 23.944053202548115, 23.73082453945792, 23.559527904177024, 23.392468111908194, 23.566058976483447, 23.633030522058615, 23.397867031932407, 23.6561972504766, 23.661862999342652, 23.789646583583146, 23.84120439951875, 23.718882078489816, 24.07481679114378, 23.231577801459185, 23.46101319953199, 23.160673647626197, 23.68097243312812, 23.56863000952962, 23.894188627580846, 23.71294700705442, 23.625185255362926, 23.713365953273392, 23.765347702882952, 23.647152500856357, 23.639401995805432, 23.62974129549421, 23.63544195654518, 23.622242656920168, 23.574353114128034, 19.283079295600064, 18.70718640796072, 19.279739366233148, 18.66494065789885, 18.91988666338246, 18.48658262113275, 18.67014707532936, 18.304375436783214, 18.485953359078113, 18.4340769952939, 18.503967679559146, 18.070078907646362, 18.58100484457412, 18.077777202813234, 17.892549560601445, 18.397482986578133, 18.14890511308744, 18.334188904836413, 18.09830469913094, 17.822291000058105, 17.914289112445925, 17.86845947295903, 18.010788868763065, 17.910062407629706, 18.19654315490981, 17.598771309678497, 17.933319933169063, 18.16076428257866, 17.948182134804103, 18.465871186676, 18.059226557442557, 18.21243153774164, 18.236477092992494, 18.01858784585868, 18.017553919898138, 18.106479297268397, 18.025838880919025, 18.04987669140613, 18.08136302842919, 18.040278992929725, 18.406374453884677, 18.175915623404453, 17.42809846670591, 17.930312458625856, 17.212816457476436, 17.285255141947847, 17.091066188962575, 17.134804455842186, 17.053458931928223, 16.86474403041798, 17.232314043392936, 16.944154775835003, 16.92409408274402, 16.801600223986927, 16.76051866787924, 17.139284045608434, 16.84198150578789, 16.891432061793274, 17.48458425273097, 16.78071472327178, 16.94049457920086, 16.664774204740816, 17.010460645630463, 16.604716658785296, 16.91470174384654, 16.990268199899297, 16.70343367806595, 16.85974464941375, 16.699970207976737, 16.593416613851186, 16.74955612628368, 16.9256065308601, 16.891796637592137, 16.779458561113316, 16.740571679121565, 16.749882800638108], \"Total\": [102.0, 103.0, 104.0, 101.0, 100.0, 101.0, 101.0, 103.0, 104.0, 101.0, 101.0, 101.0, 102.0, 101.0, 101.0, 103.0, 102.0, 102.0, 102.0, 103.0, 105.0, 101.0, 101.0, 101.0, 102.0, 100.0, 102.0, 102.0, 102.0, 102.0, 101.58625070888186, 100.01855840764388, 101.73154026228865, 105.00126781519833, 101.61958627824285, 100.6404879387292, 101.0420227123276, 99.99972207891759, 104.90341145917405, 101.51679188116518, 101.30473266284508, 102.68030620663086, 103.95674965919437, 100.23711195763269, 104.07032979625582, 100.87316745328138, 101.27870770197032, 102.15548702023094, 102.0165493361098, 103.30834069748028, 103.78218166640747, 101.73141097207514, 102.05622951365201, 104.12164137830939, 101.13875077850439, 101.65562014073174, 101.54865753172469, 104.48460379751734, 105.03158806200896, 101.09885795823013, 102.18260195373153, 103.88645716962573, 104.38224639470397, 105.5316450811467, 102.76638983943505, 104.0968677024215, 109.77382376848439, 104.24451913795298, 104.62096209631407, 104.99900783290931, 106.6652781132161, 105.19878152834985, 105.42462415626463, 104.23562915387514, 105.10369267399759, 104.46140588768114, 104.32012777430316, 106.07606117145231, 105.02324493169662, 104.7160932808252, 104.2643806758982, 105.68441235665628, 104.31732966650705, 104.99916535980788, 105.13324576174566, 103.78911326169066, 105.83144820475951, 105.14234033001968, 106.5737293189625, 105.05717609958336, 105.96348521744228, 106.11626411448194, 104.79387442193116, 104.78673638992069, 103.93678345521164, 105.32343452556592, 104.63391741888313, 105.34861083643581, 103.71148177109114, 103.63940882236582, 105.91522652315001, 102.69375478067045, 105.00842754863969, 104.4135620087842, 104.65679795573723, 106.08321577068531, 104.89732145198188, 105.80598142169707, 106.66315382575306, 105.49202074670077, 107.79206037670396, 106.2776153339444, 107.07877165313981, 107.81325695438561, 107.06732264817582, 101.76286647591466, 104.30364487673266, 103.61586003788824, 105.17009735770228, 102.807615705894, 103.18118501422498, 105.96060718634072, 103.38236521452141, 104.54006290602584, 101.80993848711695, 103.0147816515122, 105.13967475734125, 104.29637666009614, 103.55647990743395, 102.9905732500456, 103.77035097125099, 104.16321748527972, 103.14528957085804, 104.45672755783119, 104.51980772368478, 105.085713292498, 105.33208006111391, 104.92007458540319, 106.53918916115163, 102.83284382088694, 103.85361821270934, 102.53145698380914, 104.88116661711199, 104.40432300917209, 105.90781800342356, 105.12995556036184, 104.83925400268802, 105.4425492085581, 106.19456635922604, 105.32204028903031, 105.31427589067377, 105.37611427021307, 107.07877165313981, 107.28923235031449, 108.49316561620927, 101.51391814430697, 101.18189075745367, 104.2951286598656, 102.38570145259155, 104.00087970916164, 102.21016012266541, 103.58634853055503, 101.6888104920005, 102.6989990279086, 102.64030059138359, 103.263356060114, 100.96952446855572, 104.46870950870208, 101.96259793705099, 100.9587840431152, 103.81666631137188, 102.42158082714286, 103.65546531233238, 102.32294535677077, 101.02504363773444, 101.56217987521241, 101.34667882316239, 102.21144775277145, 101.66872252645705, 103.5316788676121, 100.13562465342486, 102.07707293743283, 103.41387640499345, 102.20343140090415, 105.18019970556732, 102.94652281227359, 104.29859277518956, 105.92244056913754, 103.27409145021272, 103.28339741228362, 104.73003991569668, 104.23562915387514, 105.10369267399759, 106.3140165565001, 107.23920323740886, 102.64030059138359, 103.58634853055503, 100.99072785645984, 104.00087970916164, 101.56217987521241, 102.72273362814063, 101.62694504403808, 102.21144775277145, 101.96040937052733, 101.02504363773444, 103.263356060114, 101.62144531391081, 101.65479321206986, 101.34667882316239, 101.18189075745367, 103.65546531233238, 101.96259793705099, 102.26715050865263, 105.92244056913754, 101.78780439287331, 102.97312958729627, 101.30279206019017, 103.41387640499345, 100.95524430961103, 102.94652281227359, 103.83420484873838, 102.13437737060272, 103.28339741228362, 102.31815732211825, 101.66872252645705, 102.96915662858936, 104.61570435753313, 104.41599429445182, 103.55882819770717, 103.67805792688296, 104.2951286598656], \"Category\": [\"Default\", \"Default\", \"Default\", \"Default\", \"Default\", \"Default\", \"Default\", \"Default\", \"Default\", \"Default\", \"Default\", \"Default\", \"Default\", \"Default\", \"Default\", \"Default\", \"Default\", \"Default\", \"Default\", \"Default\", \"Default\", \"Default\", \"Default\", \"Default\", \"Default\", \"Default\", \"Default\", \"Default\", \"Default\", \"Default\", \"Topic1\", \"Topic1\", \"Topic1\", \"Topic1\", \"Topic1\", \"Topic1\", \"Topic1\", \"Topic1\", \"Topic1\", \"Topic1\", \"Topic1\", \"Topic1\", \"Topic1\", \"Topic1\", \"Topic1\", \"Topic1\", \"Topic1\", \"Topic1\", \"Topic1\", \"Topic1\", \"Topic1\", \"Topic1\", \"Topic1\", \"Topic1\", \"Topic1\", \"Topic1\", \"Topic1\", \"Topic1\", \"Topic1\", \"Topic1\", \"Topic1\", \"Topic1\", \"Topic1\", \"Topic1\", \"Topic1\", \"Topic1\", \"Topic1\", \"Topic1\", \"Topic1\", \"Topic1\", \"Topic1\", \"Topic1\", \"Topic1\", \"Topic1\", \"Topic1\", \"Topic2\", \"Topic2\", \"Topic2\", \"Topic2\", \"Topic2\", \"Topic2\", \"Topic2\", \"Topic2\", \"Topic2\", \"Topic2\", \"Topic2\", \"Topic2\", \"Topic2\", \"Topic2\", \"Topic2\", \"Topic2\", \"Topic2\", \"Topic2\", \"Topic2\", \"Topic2\", \"Topic2\", \"Topic2\", \"Topic2\", \"Topic2\", \"Topic2\", \"Topic2\", \"Topic2\", \"Topic2\", \"Topic2\", \"Topic2\", \"Topic2\", \"Topic2\", \"Topic2\", \"Topic2\", \"Topic2\", \"Topic2\", \"Topic2\", \"Topic2\", \"Topic2\", \"Topic2\", \"Topic3\", \"Topic3\", \"Topic3\", \"Topic3\", \"Topic3\", \"Topic3\", \"Topic3\", \"Topic3\", \"Topic3\", \"Topic3\", \"Topic3\", \"Topic3\", \"Topic3\", \"Topic3\", \"Topic3\", \"Topic3\", \"Topic3\", \"Topic3\", \"Topic3\", \"Topic3\", \"Topic3\", \"Topic3\", \"Topic3\", \"Topic3\", \"Topic3\", \"Topic3\", \"Topic3\", \"Topic3\", \"Topic3\", \"Topic3\", \"Topic3\", \"Topic3\", \"Topic3\", \"Topic3\", \"Topic3\", \"Topic3\", \"Topic3\", \"Topic3\", \"Topic3\", \"Topic3\", \"Topic4\", \"Topic4\", \"Topic4\", \"Topic4\", \"Topic4\", \"Topic4\", \"Topic4\", \"Topic4\", \"Topic4\", \"Topic4\", \"Topic4\", \"Topic4\", \"Topic4\", \"Topic4\", \"Topic4\", \"Topic4\", \"Topic4\", \"Topic4\", \"Topic4\", \"Topic4\", \"Topic4\", \"Topic4\", \"Topic4\", \"Topic4\", \"Topic4\", \"Topic4\", \"Topic4\", \"Topic4\", \"Topic4\", \"Topic4\", \"Topic4\", \"Topic4\", \"Topic4\", \"Topic4\", \"Topic4\", \"Topic4\", \"Topic4\", \"Topic4\", \"Topic4\", \"Topic4\", \"Topic5\", \"Topic5\", \"Topic5\", \"Topic5\", \"Topic5\", \"Topic5\", \"Topic5\", \"Topic5\", \"Topic5\", \"Topic5\", \"Topic5\", \"Topic5\", \"Topic5\", \"Topic5\", \"Topic5\", \"Topic5\", \"Topic5\", \"Topic5\", \"Topic5\", \"Topic5\", \"Topic5\", \"Topic5\", \"Topic5\", \"Topic5\", \"Topic5\", \"Topic5\", \"Topic5\", \"Topic5\", \"Topic5\", \"Topic5\", \"Topic5\", \"Topic5\", \"Topic5\", \"Topic5\", \"Topic5\", \"Topic5\"], \"logprob\": [30.0, 29.0, 28.0, 27.0, 26.0, 25.0, 24.0, 23.0, 22.0, 21.0, 20.0, 19.0, 18.0, 17.0, 16.0, 15.0, 14.0, 13.0, 12.0, 11.0, 10.0, 9.0, 8.0, 7.0, 6.0, 5.0, 4.0, 3.0, 2.0, 1.0, -7.5094, -7.5426, -7.5262, -7.4971, -7.5331, -7.544, -7.5401, -7.5511, -7.5041, -7.5379, -7.5404, -7.5275, -7.5152, -7.552, -7.5165, -7.5479, -7.5453, -7.5377, -7.5396, -7.5273, -7.5252, -7.5475, -7.5443, -7.5253, -7.5548, -7.5515, -7.5528, -7.5245, -7.5195, -7.5577, -7.5476, -7.5331, -7.5318, -7.5252, -7.5441, -7.5378, -7.5134, -7.5373, -7.5371, -7.5362, -7.5323, -7.5361, -7.5373, -7.5404, -7.5401, -7.4992, -7.5015, -7.4853, -7.4956, -7.4991, -7.5047, -7.4927, -7.5061, -7.5009, -7.5002, -7.5134, -7.4943, -7.5015, -7.489, -7.5037, -7.4957, -7.4946, -7.5076, -7.5085, -7.5168, -7.5038, -7.5111, -7.5043, -7.5204, -7.5215, -7.5001, -7.5314, -7.5093, -7.5156, -7.5134, -7.5012, -7.5126, -7.5066, -7.5024, -7.5094, -7.5018, -7.5084, -7.5077, -7.5066, -7.5092, -7.5061, -7.4876, -7.495, -7.4807, -7.5038, -7.5007, -7.4771, -7.5024, -7.4916, -7.5208, -7.5091, -7.4896, -7.4985, -7.5057, -7.5129, -7.5055, -7.5026, -7.5126, -7.5016, -7.5014, -7.496, -7.4939, -7.499, -7.4841, -7.5198, -7.5099, -7.5228, -7.5006, -7.5054, -7.4916, -7.4993, -7.503, -7.4992, -7.497, -7.502, -7.5024, -7.5028, -7.5025, -7.5031, -7.5051, -7.453, -7.4833, -7.4532, -7.4856, -7.472, -7.4952, -7.4853, -7.5051, -7.4952, -7.498, -7.4942, -7.518, -7.4901, -7.5175, -7.5278, -7.5, -7.5136, -7.5034, -7.5164, -7.5318, -7.5266, -7.5292, -7.5212, -7.5269, -7.511, -7.5444, -7.5256, -7.513, -7.5247, -7.4963, -7.5186, -7.5101, -7.5088, -7.5208, -7.5209, -7.5159, -7.5204, -7.5191, -7.5173, -7.5196, -7.4293, -7.4419, -7.4839, -7.4555, -7.4963, -7.4921, -7.5034, -7.5008, -7.5056, -7.5167, -7.4952, -7.512, -7.5132, -7.5205, -7.5229, -7.5006, -7.5181, -7.5152, -7.4806, -7.5217, -7.5123, -7.5287, -7.5081, -7.5323, -7.5138, -7.5093, -7.5263, -7.517, -7.5266, -7.533, -7.5236, -7.5131, -7.5151, -7.5218, -7.5241, -7.5236], \"loglift\": [30.0, 29.0, 28.0, 27.0, 26.0, 25.0, 24.0, 23.0, 22.0, 21.0, 20.0, 19.0, 18.0, 17.0, 16.0, 15.0, 14.0, 13.0, 12.0, 11.0, 10.0, 9.0, 8.0, 7.0, 6.0, 5.0, 4.0, 3.0, 2.0, 1.0, 0.1201, 0.1025, 0.1019, 0.0993, 0.0961, 0.0948, 0.0948, 0.0942, 0.0934, 0.0923, 0.0919, 0.0913, 0.0913, 0.0909, 0.0888, 0.0887, 0.0873, 0.0862, 0.0857, 0.0854, 0.0829, 0.0807, 0.0806, 0.0796, 0.0791, 0.0773, 0.0771, 0.0769, 0.0767, 0.0767, 0.076, 0.074, 0.0706, 0.0663, 0.0739, 0.0674, 0.0386, 0.0664, 0.063, 0.0603, 0.0484, 0.0584, 0.0552, 0.0633, 0.0554, 0.1024, 0.1015, 0.101, 0.1006, 0.1001, 0.0988, 0.0973, 0.0969, 0.0956, 0.095, 0.0947, 0.0943, 0.0936, 0.0926, 0.0922, 0.0916, 0.0914, 0.0908, 0.09, 0.0898, 0.0896, 0.0889, 0.0888, 0.0885, 0.088, 0.0877, 0.0873, 0.0871, 0.0865, 0.0864, 0.085, 0.0848, 0.0822, 0.0783, 0.0824, 0.0684, 0.076, 0.0692, 0.0634, 0.0678, 0.1217, 0.1156, 0.1147, 0.1141, 0.1138, 0.1132, 0.1102, 0.1096, 0.1093, 0.1066, 0.1065, 0.1056, 0.1047, 0.1046, 0.103, 0.1028, 0.1019, 0.1017, 0.1, 0.0997, 0.0997, 0.0995, 0.0982, 0.0978, 0.0976, 0.0975, 0.0975, 0.097, 0.0968, 0.0962, 0.096, 0.0951, 0.093, 0.0881, 0.0914, 0.0911, 0.0901, 0.0744, 0.0718, 0.0586, 0.1773, 0.1502, 0.1501, 0.1361, 0.134, 0.1282, 0.1248, 0.1235, 0.1234, 0.1212, 0.1189, 0.1177, 0.1115, 0.1083, 0.1079, 0.1078, 0.1077, 0.1059, 0.1059, 0.1033, 0.1032, 0.1027, 0.1022, 0.1019, 0.0996, 0.0995, 0.0992, 0.0988, 0.0988, 0.0985, 0.0977, 0.0931, 0.0789, 0.0922, 0.0921, 0.0831, 0.0834, 0.0764, 0.0667, 0.0558, 0.19, 0.1682, 0.1515, 0.1506, 0.1335, 0.1263, 0.1257, 0.1226, 0.1203, 0.1183, 0.118, 0.1172, 0.1156, 0.1114, 0.1106, 0.1088, 0.1078, 0.1077, 0.1071, 0.1058, 0.1037, 0.1037, 0.1036, 0.1035, 0.1025, 0.0983, 0.0978, 0.0959, 0.0958, 0.0958, 0.0924, 0.087, 0.0869, 0.0885, 0.085, 0.0797]}, \"token.table\": {\"Topic\": [1, 2, 3, 4, 5, 1, 2, 3, 4, 5, 1, 2, 3, 4, 5, 1, 2, 3, 4, 5, 1, 2, 3, 4, 5, 1, 2, 3, 4, 5, 1, 2, 3, 4, 5, 1, 2, 3, 4, 5, 1, 2, 3, 4, 5, 1, 2, 3, 4, 5, 1, 2, 3, 4, 5, 1, 2, 3, 4, 5, 1, 2, 3, 4, 5, 1, 2, 3, 4, 5, 1, 2, 3, 4, 5, 1, 2, 3, 4, 5, 1, 2, 3, 4, 5, 1, 2, 3, 4, 5, 1, 2, 3, 4, 5, 1, 2, 3, 4, 5, 1, 2, 3, 4, 5, 1, 2, 3, 4, 5, 1, 2, 3, 4, 5, 1, 2, 3, 4, 5, 1, 2, 3, 4, 5, 1, 2, 3, 4, 5, 1, 2, 3, 4, 5, 1, 2, 3, 4, 5, 1, 2, 3, 4, 5, 1, 2, 3, 4, 5, 1, 2, 3, 4, 5, 1, 2, 3, 4, 5, 1, 2, 3, 4, 5, 1, 2, 3, 4, 5, 1, 2, 3, 4, 5, 1, 2, 3, 4, 5, 1, 2, 3, 4, 5, 1, 2, 3, 4, 5, 1, 2, 3, 4, 5, 1, 2, 3, 4, 5, 1, 2, 3, 4, 5, 1, 2, 3, 4, 5, 1, 2, 3, 4, 5, 1, 2, 3, 4, 5, 1, 2, 3, 4, 5, 1, 2, 3, 4, 5, 1, 2, 3, 4, 5, 1, 2, 3, 4, 5, 1, 2, 3, 4, 5, 1, 2, 3, 4, 5, 1, 2, 3, 4, 5, 1, 2, 3, 4, 5, 1, 2, 3, 4, 5, 1, 2, 3, 4, 5, 1, 2, 3, 4, 5, 1, 2, 3, 4, 5, 1, 2, 3, 4, 5, 1, 2, 3, 4, 5, 1, 2, 3, 4, 5, 1, 2, 3, 4, 5, 1, 2, 3, 4, 5, 1, 2, 3, 4, 5, 1, 2, 3, 4, 5, 1, 2, 3, 4, 5, 1, 2, 3, 4, 5, 1, 2, 3, 4, 5, 1, 2, 3, 4, 5, 1, 2, 3, 4, 5, 1, 2, 3, 4, 5, 1, 2, 3, 4, 5, 1, 2, 3, 4, 5, 1, 2, 3, 4, 5, 1, 2, 3, 4, 5, 1, 2, 3, 4, 5, 1, 2, 3, 4, 5, 1, 2, 3, 4, 5, 1, 2, 3, 4, 5, 1, 2, 3, 4, 5, 1, 2, 3, 4, 5, 1, 2, 3, 4, 5, 1, 2, 3, 4, 5, 1, 2, 3, 4, 5, 1, 2, 3, 4, 5, 1, 2, 3, 4, 5, 1, 2, 3, 4, 5, 1, 2, 3, 4, 5, 1, 2, 3, 4, 5, 1, 2, 3, 4, 5, 1, 2, 3, 4, 5, 1, 2, 3, 4, 5, 1, 2, 3, 4, 5, 1, 2, 3, 4, 5, 1, 2, 3, 4, 5, 1, 2, 3, 4, 5, 1, 2, 3, 4, 5, 1, 2, 3, 4, 5, 1, 2, 3, 4, 5, 1, 2, 3, 4, 5, 1, 2, 3, 4, 5, 1, 2, 3, 4, 5, 1, 2, 3, 4, 5, 1, 2, 3, 4, 5, 1, 2, 3, 4, 5, 1, 2, 3, 4, 5, 1, 2, 3, 4, 5, 1, 2, 3, 4, 5, 1, 2, 3, 4, 5, 1, 2, 3, 4, 5, 1, 2, 3, 4, 5, 1, 2, 3, 4, 5, 1, 2, 3, 4, 5, 1, 2, 3, 4, 5, 1, 2, 3, 4, 5, 1, 2, 3, 4, 5, 1, 2, 3, 4, 5, 1, 2, 3, 4, 5, 1, 2, 3, 4, 5, 1, 2, 3, 4, 5, 1, 2, 3, 4, 5, 1, 2, 3, 4, 5, 1, 2, 3, 4, 5, 1, 2, 3, 4, 5, 1, 2, 3, 4, 5, 1, 2, 3, 4, 5, 1, 2, 3, 4, 5, 1, 2, 3, 4, 5, 1, 2, 3, 4, 5, 1, 2, 3, 4, 5, 1, 2, 3, 4, 5, 1, 2, 3, 4, 5, 1, 2, 3, 4, 5, 1, 2, 3, 4, 5, 1, 2, 3, 4, 5, 1, 2, 3, 4, 5, 1, 2, 3, 4, 5, 1, 2, 3, 4, 5, 1, 2, 3, 4, 5, 1, 2, 3, 4, 5, 1, 2, 3, 4, 5, 1, 2, 3, 4, 5, 1, 2, 3, 4, 5, 1, 2, 3, 4, 5, 1, 2, 3, 4, 5, 1, 2, 3, 4, 5, 1, 2, 3, 4, 5, 1, 2, 3, 4, 5, 1, 2, 3, 4, 5, 1, 2, 3, 4, 5, 1, 2, 3, 4, 5, 1, 2, 3, 4, 5, 1, 2, 3, 4, 5, 1, 2, 3, 4, 5, 1, 2, 3, 4, 5, 1, 2, 3, 4, 5, 1, 2, 3, 4, 5, 1, 2, 3, 4, 5, 1, 2, 3, 4, 5, 1, 2, 3, 4, 5, 1, 2, 3, 4, 5, 1, 2, 3, 4, 5, 1, 2, 3, 4, 5, 1, 2, 3, 4, 5, 1, 2, 3, 4, 5, 1, 2, 3, 4, 5, 1, 2, 3, 4, 5, 1, 2, 3, 4, 5, 1, 2, 3, 4, 5, 1, 2, 3, 4, 5, 1, 2, 3, 4, 5, 1, 2, 3, 4, 5, 1, 2, 3, 4, 5, 1, 2, 3, 4, 5, 1, 2, 3, 4, 5, 1, 2, 3, 4, 5, 1, 2, 3, 4, 5, 1, 2, 3, 4, 5, 1, 2, 3, 4, 5, 1, 2, 3, 4, 5, 1, 2, 3, 4, 5, 1, 2, 3, 4, 5, 1, 2, 3, 4, 5], \"Freq\": [0.27821804696581603, 0.21859989404456973, 0.18879081758394659, 0.16891809994353116, 0.15898174112332344, 0.26898023560173523, 0.24016092464440647, 0.1825223027297489, 0.15370299177242014, 0.15370299177242014, 0.23141121494119693, 0.26033761680884654, 0.19284267911766412, 0.16391627725001448, 0.14463200933824807, 0.27646482301487024, 0.2073486172611527, 0.2073486172611527, 0.15797989886564015, 0.14810615518653764, 0.2528995524454071, 0.21399192899226757, 0.23344574071883736, 0.15563049381255822, 0.14590358794927336, 0.2520716176974684, 0.21329136882093477, 0.22298643104006818, 0.1551209955061344, 0.14542593328700099, 0.2575034411308633, 0.2079835486056973, 0.1980795701006641, 0.17827161309059766, 0.15846365608053126, 0.246271648824167, 0.20686818501230028, 0.1970173190593336, 0.18716645310636693, 0.15761385524746688, 0.2563754986838495, 0.21839394332327924, 0.2278893321634218, 0.1519262214422812, 0.14243083260213862, 0.26763279020721675, 0.2102829065913846, 0.19116627871944053, 0.1720496508474965, 0.16249133691152445, 0.24284453051015947, 0.22341696806934672, 0.19427562440812757, 0.1748480619673148, 0.16513428074690845, 0.285471703086139, 0.2264085921027999, 0.1771893329500173, 0.1673454811194608, 0.15750162928890427, 0.2638704340053811, 0.21500553881919943, 0.1856866017074904, 0.17591362267025407, 0.15636766459578139, 0.25518406083668965, 0.25518406083668965, 0.17957396873692977, 0.16067144571198977, 0.1417689226870498, 0.26141665239982564, 0.22268825945170334, 0.17427776826655045, 0.17427776826655045, 0.16459567002951986, 0.2541093455988143, 0.2247890364912588, 0.18569529101451815, 0.16614841827614782, 0.16614841827614782, 0.2488636021139944, 0.23964643166532792, 0.221212090767995, 0.14747472717866333, 0.13825755672999687, 0.22984984400302022, 0.2394269208364794, 0.20111861350264268, 0.17238738300226517, 0.16281030616880598, 0.24721855977340554, 0.2186933413380126, 0.22820174748314356, 0.15213449832209572, 0.14262609217696473, 0.26644915966896615, 0.20935291116847343, 0.22838499400197101, 0.15225666266798066, 0.15225666266798066, 0.2582741893341991, 0.2200113464698733, 0.22957705718595475, 0.15305137145730316, 0.1434856607412217, 0.26666918647991356, 0.23809748792849425, 0.19047799034279542, 0.15238239227423633, 0.15238239227423633, 0.25480475604020264, 0.2642419692268768, 0.17930705054680926, 0.16043262417346094, 0.15099541098678676, 0.25425029665516663, 0.21658358603958638, 0.22600026369348145, 0.16008352011621602, 0.15066684246232095, 0.2317575879505839, 0.24141415411519157, 0.2317575879505839, 0.1545050586337226, 0.14484849246911494, 0.24311298872123688, 0.22366394962353794, 0.22366394962353794, 0.1653168323304411, 0.14586779323274213, 0.25733874195850337, 0.21921448389057696, 0.22874554840755856, 0.15249703227170572, 0.14296596775472412, 0.27446527237212787, 0.22545361659139077, 0.18624429196680106, 0.15683729849835878, 0.15683729849835878, 0.2771124255867046, 0.2276280638747931, 0.17814370216288156, 0.15834995747811695, 0.15834995747811695, 0.256063611916247, 0.21812826200272892, 0.22761209948110844, 0.1517413996540723, 0.14225756217569277, 0.2614402084865244, 0.22270832574778004, 0.18397644300903568, 0.17429347232434958, 0.1549275309549774, 0.266586467144239, 0.20946079561333067, 0.19041890510302786, 0.16185606933757368, 0.1523351240824223, 0.2588807391767476, 0.22052803707648871, 0.18217533497622979, 0.18217533497622979, 0.16299898392610035, 0.24890689769699534, 0.2201868710396497, 0.22976021325876492, 0.1531734755058433, 0.14360013328672808, 0.24887834952947555, 0.210589372678787, 0.20101712846611486, 0.18187264004077058, 0.15315590740275417, 0.25165619520737353, 0.2330149955623829, 0.22369439573988759, 0.14912959715992505, 0.13980899733742974, 0.2563321638036061, 0.21835702842529406, 0.22785081226987206, 0.15190054151324803, 0.14240675766867003, 0.24848539213067652, 0.25804252259724103, 0.19114260933128963, 0.1529140874650317, 0.14335695699846723, 0.24599775176914676, 0.22631793162761502, 0.19679820141531743, 0.1672784712030198, 0.1672784712030198, 0.2620983082926688, 0.2038542397831868, 0.22326892928634745, 0.15531751602528518, 0.14561017127370487, 0.25680125092944284, 0.218756621162118, 0.2282677786039492, 0.15217851906929947, 0.14266736162746826, 0.24408918313995326, 0.224562048488757, 0.1855077791863645, 0.17574421186076636, 0.16598064453516823, 0.256225048598439, 0.22775559875416795, 0.22775559875416795, 0.15183706583611198, 0.14234724922135497, 0.2758164386516134, 0.21671291608341053, 0.20686232898871004, 0.15760939351520767, 0.14775880642050718, 0.25885960200057184, 0.2109226386671326, 0.23009742400050828, 0.15339828266700553, 0.1438108900003177, 0.2574342074070216, 0.2192958063096851, 0.22883040658401924, 0.15255360438934615, 0.143019004115012, 0.2625034171877411, 0.2531282951453218, 0.18750244084838652, 0.15000195267870922, 0.1406268306362899, 0.2653232589946825, 0.2084682749243934, 0.2084682749243934, 0.17056495221086732, 0.1516132908541043, 0.2550699159305288, 0.24596027607586707, 0.19130243694789661, 0.15486387752924963, 0.1457542376745879, 0.25443790568118246, 0.26386153181752253, 0.18847252272680182, 0.15077801818144146, 0.14135439204510136, 0.2693427804523856, 0.20200708533928918, 0.21162647035544582, 0.16352954527466268, 0.15391016025850604, 0.22781573904631894, 0.22781573904631894, 0.19810064264897298, 0.1782905783840757, 0.15848051411917838, 0.26540475298638483, 0.24574514165406, 0.1769365019909232, 0.1671066963247608, 0.147447084992436, 0.270000750389008, 0.2100005836358951, 0.2100005836358951, 0.1600004446749677, 0.15000041688278223, 0.25178341080512906, 0.22273147878915264, 0.1839955694345174, 0.1839955694345174, 0.16462761475719978, 0.27269104499604446, 0.21425724963974924, 0.21425724963974924, 0.15582345428345398, 0.14608448839073812, 0.25682499204042347, 0.21877684507147183, 0.22828888181370974, 0.1521925878758065, 0.1426805511335686, 0.2693613121197278, 0.23943227743975806, 0.17957420807981853, 0.15962151829317203, 0.14964517339984879, 0.2724626217165743, 0.22380858212432891, 0.19461615836898166, 0.1654237346136344, 0.15569292669518534, 0.2755374335350439, 0.20665307515128295, 0.20665307515128295, 0.1574499620200251, 0.1574499620200251, 0.23887602609983646, 0.2579861081878234, 0.2102109029678561, 0.15288065670389533, 0.14332561565990187, 0.255477599751251, 0.26493973307537144, 0.18924266648240815, 0.15139413318592654, 0.14193199986180613, 0.2554959475925701, 0.20636211151707584, 0.2358424131623724, 0.15722827544158158, 0.14740150822648274, 0.2743585583499776, 0.20576891876248318, 0.20576891876248318, 0.16657483899820066, 0.1469777991160594, 0.25055326262896765, 0.2216432707871637, 0.2312799347344317, 0.1541866231562878, 0.1445499592090198, 0.236308437151392, 0.216616067388776, 0.19692369762616, 0.177231327863544, 0.167385142982236, 0.2277436799216891, 0.2277436799216891, 0.18813608341356924, 0.17823418428653928, 0.16833228515950932, 0.23538042856476613, 0.21576539285103563, 0.1961503571373051, 0.1765353214235746, 0.16672780356670935, 0.24707978683585086, 0.21743021241554875, 0.18778063799524664, 0.18778063799524664, 0.16801425504837858, 0.2656026293737747, 0.21641695726752014, 0.1967426884250183, 0.16723128516126556, 0.15739415074001464, 0.2580874464862865, 0.21985226922905884, 0.19117588628613813, 0.1720582976575243, 0.16249950334321742, 0.2301085696499358, 0.2301085696499358, 0.21093285551244118, 0.17258142723745187, 0.1534057130999572, 0.24417472015441477, 0.21487375373588502, 0.19533977612353182, 0.18557278731735524, 0.15627182089882546, 0.24810610489804302, 0.2576486473941216, 0.19085084992157156, 0.15268067993725723, 0.14313813744117865, 0.2669599910239199, 0.23729776979903988, 0.17797332734927993, 0.16808592027431993, 0.14831110612439993, 0.2764447752138749, 0.21924930447996976, 0.1811189906573663, 0.1620538337460646, 0.15252125529041374, 0.2549208540294117, 0.26436236714161215, 0.18883026224400867, 0.15106420979520693, 0.1416226966830065, 0.25310852896614666, 0.22390369870082205, 0.18496392501372255, 0.1752289815919477, 0.1654940381701728, 0.25015205527505957, 0.2597732881702542, 0.192424657903892, 0.1539397263231136, 0.13469726053272438, 0.2437580276547428, 0.2625086451666461, 0.18750617511903292, 0.159380248851178, 0.15000494009522636, 0.24229223570705646, 0.22290885685049194, 0.2326005462787742, 0.15506703085251614, 0.14537534142423386, 0.24900979815067173, 0.2585870980795437, 0.21070059843518377, 0.15323679886195185, 0.13408219900420787, 0.257122219904623, 0.257122219904623, 0.18093785845140134, 0.15236872290644324, 0.14284567772479054, 0.2645060171009154, 0.20572690218960088, 0.19593038303771512, 0.1763373447339436, 0.1567443064301721, 0.24678490584095622, 0.22704211337367974, 0.18755652843912674, 0.17768513220548848, 0.16781373597185023, 0.25439458972773776, 0.215256960538855, 0.19568814594441364, 0.1761193313499723, 0.1663349240527516, 0.265882392306023, 0.2067974162380179, 0.2067974162380179, 0.15755993618134695, 0.14771244017001278, 0.2514169365257887, 0.21273740782951356, 0.19339764348137597, 0.17405787913323836, 0.16438799695916956, 0.2689162370987455, 0.23049963179892471, 0.18247887517414874, 0.16327057252423835, 0.15366642119928314, 0.2559435283245763, 0.2559435283245763, 0.1895877987589454, 0.15167023900715632, 0.14219084906920906, 0.24812300579008117, 0.2576661983204689, 0.19086385060775474, 0.15269108048620378, 0.14314788795581607, 0.26862216141724177, 0.21106026968497568, 0.19187297244088697, 0.17268567519679828, 0.1534983779527096, 0.25753712439910853, 0.21938347633998131, 0.22892188835476313, 0.16215300425129053, 0.14307618022172694, 0.2557325336042663, 0.20655320021883045, 0.19671733354174328, 0.17704560018756896, 0.1672097335104818, 0.24686190970711758, 0.2278725320373393, 0.2278725320373393, 0.1519150213582262, 0.14242033252333705, 0.250441484241264, 0.22154438990573352, 0.19264729557020305, 0.17338256601318275, 0.1637502012346726, 0.2605186608723041, 0.2605186608723041, 0.18332794653976953, 0.15438142866506907, 0.14473258937350225, 0.23481031603117436, 0.23481031603117436, 0.19567526335931196, 0.17610773702338076, 0.16632397385541517, 0.2642328486822605, 0.20551443786398038, 0.21530083966702707, 0.15658242884874696, 0.15658242884874696, 0.26859925328971906, 0.22063510091655497, 0.18226377901802365, 0.17267094854339085, 0.1534852875941252, 0.25490349216771113, 0.21714001184656875, 0.19825827168599758, 0.16993566144514077, 0.16049479136485517, 0.22519352045925406, 0.2349845430879173, 0.20561147520192763, 0.16644738468727474, 0.16644738468727474, 0.24960826506414613, 0.2208073114028985, 0.23040762928998104, 0.1536050861933207, 0.1536050861933207, 0.26904882548961967, 0.2306132789911026, 0.18256884586795621, 0.17295995924332694, 0.1537421859940684, 0.254938686387885, 0.22661216567812, 0.22661216567812, 0.15107477711874667, 0.141632603548825, 0.22766632086273247, 0.22766632086273247, 0.19797071379368042, 0.17817364241431238, 0.16827510672462836, 0.25970832150861034, 0.2504330243118743, 0.1855059439347217, 0.15768005234451343, 0.13912945795104126, 0.24278178297772388, 0.22335924033950597, 0.20393669770128806, 0.1748028837439612, 0.16509161242485224, 0.24356904506278004, 0.21434075965524643, 0.17536971244520164, 0.17536971244520164, 0.17536971244520164, 0.24134454351024556, 0.22203698002942593, 0.18342185306778663, 0.18342185306778663, 0.17376807132737682, 0.2664035800040652, 0.21883151214619645, 0.19028827143147517, 0.17125944428832765, 0.15223061714518013, 0.2296215475582191, 0.248756676521404, 0.2296215475582191, 0.1530810317054794, 0.14351346722388694, 0.27523420885803157, 0.20642565664352366, 0.20642565664352366, 0.15727669077601802, 0.15727669077601802, 0.26979583152339076, 0.24088913528874173, 0.17344017740789405, 0.16380461199634438, 0.15416904658479472, 0.26616277862927834, 0.23764533806185567, 0.19011627044948454, 0.16159882988206187, 0.15209301635958763, 0.26706533135275656, 0.24728271421551534, 0.17804355423517104, 0.15826093709792982, 0.1483696285293092, 0.25882564370001154, 0.25882564370001154, 0.18213656408519333, 0.1533781592296365, 0.1437920242777842, 0.2763937998157256, 0.21716655699807008, 0.19742414272551828, 0.15793931418041462, 0.1480681070441387, 0.2589570841448573, 0.2589570841448573, 0.18222905921304772, 0.15345604986361913, 0.14386504674714293, 0.25113086433425547, 0.22215422614184138, 0.1931775879494273, 0.17385982915448456, 0.15454207035954184, 0.2655925996804814, 0.2561071496918928, 0.1897089997717724, 0.15176719981741793, 0.14228174982882932, 0.254517171296584, 0.26394373319645753, 0.18853123799746965, 0.15082499039797573, 0.14139842849810225, 0.23515243624262716, 0.22574633879292208, 0.2069341438935119, 0.16930975409469157, 0.15990365664498646, 0.2360141679687363, 0.2360141679687363, 0.18684454964191624, 0.17701062597655223, 0.1573427786458242, 0.2545343379253072, 0.2639615356262445, 0.18854395401874607, 0.15083516321499685, 0.14140796551405954, 0.24786142906329442, 0.25739456095034424, 0.2001957696280455, 0.15253011019279658, 0.14299697830574679, 0.23768732204334006, 0.22817982916160645, 0.20916484339813926, 0.17113487187120485, 0.15211988610773763, 0.24756424177247116, 0.2666076449857382, 0.19043403213267013, 0.1523472257061361, 0.14282552409950258, 0.2467996473191999, 0.25629194144686146, 0.1898458825532307, 0.1613690001702461, 0.14238441191492301, 0.24763448566703114, 0.2179183473869874, 0.18820220910694366, 0.17829682968026242, 0.16839145025358118, 0.25998131278102943, 0.21183662522898694, 0.22146556273939544, 0.15406300016653596, 0.14443406265612746, 0.24889575034013697, 0.2680415772893783, 0.1818853560177924, 0.15316661559393044, 0.1435937021193098, 0.2596478534985675, 0.21970202988340326, 0.17975620626823904, 0.17975620626823904, 0.15978329446065692, 0.2543746377889948, 0.21524007812914941, 0.1858891583842654, 0.17610551846930406, 0.16632187855434272, 0.2514935690052094, 0.21280225069671563, 0.2321479098509625, 0.15476527323397501, 0.14509244365685156, 0.2521777824661054, 0.2521777824661054, 0.1961382752514153, 0.14943868590584022, 0.14009876803672522, 0.257840023954981, 0.26738965447183216, 0.190992610337023, 0.1527940882696184, 0.14324445775276726, 0.26798206608757136, 0.22012812571479076, 0.19141576149112238, 0.16270339726745403, 0.15313260919289792, 0.2359367378485797, 0.2359367378485797, 0.2264992683346365, 0.150999512223091, 0.150999512223091, 0.2508309612200125, 0.21224158257077985, 0.19294689324616351, 0.17365220392154715, 0.16400485925923897, 0.2534278720589819, 0.22526921960798388, 0.22526921960798388, 0.15956569722232192, 0.14079326225498992, 0.24038258205038723, 0.22115197548635626, 0.1826907623582943, 0.1826907623582943, 0.1730754590762788, 0.27103329519145913, 0.22263449247869854, 0.1839154503084901, 0.16455592922338588, 0.1548761686808338, 0.2517735975735172, 0.23312370145696037, 0.1958239092238467, 0.16784906504901145, 0.15852411699073304, 0.25780568805028503, 0.2291606116002534, 0.20051553515022172, 0.17187045870019005, 0.14322538225015835, 0.2533457370079657, 0.2627289124527052, 0.18766350889478942, 0.15013080711583154, 0.14074763167109205, 0.24748428394224764, 0.2570029102477187, 0.19037252610942126, 0.152298020887537, 0.14277939458206595, 0.2524502891820586, 0.21361178315404958, 0.22332140966105182, 0.15535402411203605, 0.15535402411203605, 0.2531799529146621, 0.26291764341137985, 0.1752784289409199, 0.15580304794748437, 0.1460653574507666, 0.2504822702677946, 0.2597593913888241, 0.19481954354161807, 0.15771105905750032, 0.14843393793647092, 0.25423608529896596, 0.21512284140681734, 0.18578790848770588, 0.17600959751466874, 0.16623128654163158, 0.22591114720013727, 0.24555559478275793, 0.22591114720013727, 0.15715558066096508, 0.14733335686965476, 0.2568169545643797, 0.2663286936223197, 0.1807230421008598, 0.15218782492703983, 0.14267608586909983, 0.2676628550650483, 0.20818222060614866, 0.20818222060614866, 0.1586150252237323, 0.14870158614724904, 0.2334729808162395, 0.25215081928153865, 0.22413406158358992, 0.14942270772239327, 0.1400837884897437, 0.2510650270236994, 0.21243963825082263, 0.2027832910576034, 0.17381424947794577, 0.16415790228472657, 0.22694379595933478, 0.2368109175227841, 0.19734243126898676, 0.1776081881420881, 0.16774106657863874, 0.2316247724163477, 0.2412758046003622, 0.2316247724163477, 0.1447654827602173, 0.1447654827602173, 0.26952502532915934, 0.22139555652038087, 0.2021437689968695, 0.15401430018809104, 0.15401430018809104, 0.24762101594716499, 0.2666687864046392, 0.1904777045747423, 0.15238216365979385, 0.14285827843105672, 0.24923282356642681, 0.2684045792253827, 0.19171755658955908, 0.15337404527164727, 0.14378816744216932, 0.250507969313163, 0.2601428912098231, 0.18306351603654217, 0.15415875034656182, 0.14452382844990172, 0.2588776414351719, 0.21093733746569562, 0.23011345905348612, 0.1534089727023241, 0.14382091190842883, 0.27994804610041363, 0.2099610345753102, 0.199962890071724, 0.15997031205737922, 0.149972167553793, 0.26824484974315166, 0.23950433012781397, 0.18202329089713862, 0.16286294448691352, 0.15328277128180096, 0.25405161675072296, 0.25405161675072296, 0.18818638277831332, 0.15054910622265064, 0.14113978708373498, 0.23148581753841838, 0.2411310599358525, 0.2025500903461161, 0.1736143631538138, 0.16396912075637968, 0.27409198288541137, 0.20556898716405853, 0.2153579865528232, 0.15662399022023507, 0.14683499083147036, 0.255767575521593, 0.21641871774904026, 0.18690707441962567, 0.1672326455333493, 0.1672326455333493, 0.24382760896441547, 0.21456829588868562, 0.22432140024726224, 0.1560496697372259, 0.1462965653786493, 0.2531670244705546, 0.22395544472395215, 0.1850066717284822, 0.17526947847961472, 0.15579509198187977, 0.23736407868404225, 0.2563532049787656, 0.20888038924195718, 0.15191301035778704, 0.14241844721042535, 0.26002992019183413, 0.21187623126742042, 0.19261475569765493, 0.17335328012788945, 0.16372254234300668, 0.27618714138804346, 0.23809236326555472, 0.1714265015511994, 0.16190280702057722, 0.152379112489955, 0.24903183365037343, 0.22029739130609957, 0.22987553875419087, 0.1532503591694606, 0.1436722117213693, 0.2472838241795976, 0.2663056568087974, 0.19021832629199814, 0.16168557734819844, 0.14266374471899862, 0.24601106511302281, 0.21648973729946008, 0.20664929469493917, 0.17712796688137641, 0.1672875242768555, 0.25512265454178806, 0.2645716417470395, 0.1889797441050282, 0.15118379528402257, 0.14173480807877117, 0.22557775260020071, 0.23538548097412249, 0.1961545674784354, 0.17653911073059186, 0.1667313823566701, 0.26525771099047707, 0.2259602723252212, 0.17683847399365138, 0.17683847399365138, 0.1670141143273374, 0.24279115046241678, 0.22336785842542345, 0.19423292036993342, 0.1748096283329401, 0.16509798231444342], \"Term\": [\"act\", \"act\", \"act\", \"act\", \"act\", \"afraid\", \"afraid\", \"afraid\", \"afraid\", \"afraid\", \"alive\", \"alive\", \"alive\", \"alive\", \"alive\", \"alot\", \"alot\", \"alot\", \"alot\", \"alot\", \"approach\", \"approach\", \"approach\", \"approach\", \"approach\", \"arf\", \"arf\", \"arf\", \"arf\", \"arf\", \"arm\", \"arm\", \"arm\", \"arm\", \"arm\", \"asked\", \"asked\", \"asked\", \"asked\", \"asked\", \"askin\", \"askin\", \"askin\", \"askin\", \"askin\", \"aw\", \"aw\", \"aw\", \"aw\", \"aw\", \"away\", \"away\", \"away\", \"away\", \"away\", \"beat\", \"beat\", \"beat\", \"beat\", \"beat\", \"bid\", \"bid\", \"bid\", \"bid\", \"bid\", \"bitches\", \"bitches\", \"bitches\", \"bitches\", \"bitches\", \"bite\", \"bite\", \"bite\", \"bite\", \"bite\", \"biz\", \"biz\", \"biz\", \"biz\", \"biz\", \"blaze\", \"blaze\", \"blaze\", \"blaze\", \"blaze\", \"blow\", \"blow\", \"blow\", \"blow\", \"blow\", \"boots\", \"boots\", \"boots\", \"boots\", \"boots\", \"born\", \"born\", \"born\", \"born\", \"born\", \"bought\", \"bought\", \"bought\", \"bought\", \"bought\", \"box\", \"box\", \"box\", \"box\", \"box\", \"break\", \"break\", \"break\", \"break\", \"break\", \"buddy\", \"buddy\", \"buddy\", \"buddy\", \"buddy\", \"bug\", \"bug\", \"bug\", \"bug\", \"bug\", \"burnin\", \"burnin\", \"burnin\", \"burnin\", \"burnin\", \"busy\", \"busy\", \"busy\", \"busy\", \"busy\", \"buy\", \"buy\", \"buy\", \"buy\", \"buy\", \"bye\", \"bye\", \"bye\", \"bye\", \"bye\", \"cake\", \"cake\", \"cake\", \"cake\", \"cake\", \"cats\", \"cats\", \"cats\", \"cats\", \"cats\", \"caught\", \"caught\", \"caught\", \"caught\", \"caught\", \"cause\", \"cause\", \"cause\", \"cause\", \"cause\", \"chain\", \"chain\", \"chain\", \"chain\", \"chain\", \"chase\", \"chase\", \"chase\", \"chase\", \"chase\", \"chill\", \"chill\", \"chill\", \"chill\", \"chill\", \"chips\", \"chips\", \"chips\", \"chips\", \"chips\", \"chrome\", \"chrome\", \"chrome\", \"chrome\", \"chrome\", \"cocked\", \"cocked\", \"cocked\", \"cocked\", \"cocked\", \"cough\", \"cough\", \"cough\", \"cough\", \"cough\", \"course\", \"course\", \"course\", \"course\", \"course\", \"creator\", \"creator\", \"creator\", \"creator\", \"creator\", \"crush\", \"crush\", \"crush\", \"crush\", \"crush\", \"da\", \"da\", \"da\", \"da\", \"da\", \"def\", \"def\", \"def\", \"def\", \"def\", \"dice\", \"dice\", \"dice\", \"dice\", \"dice\", \"dj\", \"dj\", \"dj\", \"dj\", \"dj\", \"dope\", \"dope\", \"dope\", \"dope\", \"dope\", \"dream\", \"dream\", \"dream\", \"dream\", \"dream\", \"drop\", \"drop\", \"drop\", \"drop\", \"drop\", \"drugs\", \"drugs\", \"drugs\", \"drugs\", \"drugs\", \"duke\", \"duke\", \"duke\", \"duke\", \"duke\", \"em\", \"em\", \"em\", \"em\", \"em\", \"entire\", \"entire\", \"entire\", \"entire\", \"entire\", \"every\", \"every\", \"every\", \"every\", \"every\", \"everyday\", \"everyday\", \"everyday\", \"everyday\", \"everyday\", \"explode\", \"explode\", \"explode\", \"explode\", \"explode\", \"fair\", \"fair\", \"fair\", \"fair\", \"fair\", \"fear\", \"fear\", \"fear\", \"fear\", \"fear\", \"feed\", \"feed\", \"feed\", \"feed\", \"feed\", \"fellas\", \"fellas\", \"fellas\", \"fellas\", \"fellas\", \"figured\", \"figured\", \"figured\", \"figured\", \"figured\", \"fire\", \"fire\", \"fire\", \"fire\", \"fire\", \"floor\", \"floor\", \"floor\", \"floor\", \"floor\", \"fo\", \"fo\", \"fo\", \"fo\", \"fo\", \"game\", \"game\", \"game\", \"game\", \"game\", \"gang\", \"gang\", \"gang\", \"gang\", \"gang\", \"gets\", \"gets\", \"gets\", \"gets\", \"gets\", \"gives\", \"gives\", \"gives\", \"gives\", \"gives\", \"goes\", \"goes\", \"goes\", \"goes\", \"goes\", \"goin\", \"goin\", \"goin\", \"goin\", \"goin\", \"gotti\", \"gotti\", \"gotti\", \"gotti\", \"gotti\", \"grill\", \"grill\", \"grill\", \"grill\", \"grill\", \"grow\", \"grow\", \"grow\", \"grow\", \"grow\", \"ham\", \"ham\", \"ham\", \"ham\", \"ham\", \"holdin\", \"holdin\", \"holdin\", \"holdin\", \"holdin\", \"holla\", \"holla\", \"holla\", \"holla\", \"holla\", \"hollywood\", \"hollywood\", \"hollywood\", \"hollywood\", \"hollywood\", \"hour\", \"hour\", \"hour\", \"hour\", \"hour\", \"hype\", \"hype\", \"hype\", \"hype\", \"hype\", \"jack\", \"jack\", \"jack\", \"jack\", \"jack\", \"joke\", \"joke\", \"joke\", \"joke\", \"joke\", \"juice\", \"juice\", \"juice\", \"juice\", \"juice\", \"keepin\", \"keepin\", \"keepin\", \"keepin\", \"keepin\", \"knockin\", \"knockin\", \"knockin\", \"knockin\", \"knockin\", \"knowin\", \"knowin\", \"knowin\", \"knowin\", \"knowin\", \"laced\", \"laced\", \"laced\", \"laced\", \"laced\", \"late\", \"late\", \"late\", \"late\", \"late\", \"lean\", \"lean\", \"lean\", \"lean\", \"lean\", \"least\", \"least\", \"least\", \"least\", \"least\", \"lettin\", \"lettin\", \"lettin\", \"lettin\", \"lettin\", \"like\", \"like\", \"like\", \"like\", \"like\", \"lips\", \"lips\", \"lips\", \"lips\", \"lips\", \"lit\", \"lit\", \"lit\", \"lit\", \"lit\", \"little\", \"little\", \"little\", \"little\", \"little\", \"load\", \"load\", \"load\", \"load\", \"load\", \"looking\", \"looking\", \"looking\", \"looking\", \"looking\", \"lord\", \"lord\", \"lord\", \"lord\", \"lord\", \"lover\", \"lover\", \"lover\", \"lover\", \"lover\", \"make\", \"make\", \"make\", \"make\", \"make\", \"matter\", \"matter\", \"matter\", \"matter\", \"matter\", \"mean\", \"mean\", \"mean\", \"mean\", \"mean\", \"missin\", \"missin\", \"missin\", \"missin\", \"missin\", \"mo\", \"mo\", \"mo\", \"mo\", \"mo\", \"moms\", \"moms\", \"moms\", \"moms\", \"moms\", \"movin\", \"movin\", \"movin\", \"movin\", \"movin\", \"needs\", \"needs\", \"needs\", \"needs\", \"needs\", \"nonstop\", \"nonstop\", \"nonstop\", \"nonstop\", \"nonstop\", \"nowadays\", \"nowadays\", \"nowadays\", \"nowadays\", \"nowadays\", \"nowhere\", \"nowhere\", \"nowhere\", \"nowhere\", \"nowhere\", \"nuff\", \"nuff\", \"nuff\", \"nuff\", \"nuff\", \"original\", \"original\", \"original\", \"original\", \"original\", \"packin\", \"packin\", \"packin\", \"packin\", \"packin\", \"pay\", \"pay\", \"pay\", \"pay\", \"pay\", \"peace\", \"peace\", \"peace\", \"peace\", \"peace\", \"picked\", \"picked\", \"picked\", \"picked\", \"picked\", \"pocket\", \"pocket\", \"pocket\", \"pocket\", \"pocket\", \"position\", \"position\", \"position\", \"position\", \"position\", \"positive\", \"positive\", \"positive\", \"positive\", \"positive\", \"presidents\", \"presidents\", \"presidents\", \"presidents\", \"presidents\", \"probably\", \"probably\", \"probably\", \"probably\", \"probably\", \"queen\", \"queen\", \"queen\", \"queen\", \"queen\", \"queensbridge\", \"queensbridge\", \"queensbridge\", \"queensbridge\", \"queensbridge\", \"raise\", \"raise\", \"raise\", \"raise\", \"raise\", \"raw\", \"raw\", \"raw\", \"raw\", \"raw\", \"read\", \"read\", \"read\", \"read\", \"read\", \"rear\", \"rear\", \"rear\", \"rear\", \"rear\", \"relate\", \"relate\", \"relate\", \"relate\", \"relate\", \"relax\", \"relax\", \"relax\", \"relax\", \"relax\", \"remains\", \"remains\", \"remains\", \"remains\", \"remains\", \"representin\", \"representin\", \"representin\", \"representin\", \"representin\", \"rise\", \"rise\", \"rise\", \"rise\", \"rise\", \"rocking\", \"rocking\", \"rocking\", \"rocking\", \"rocking\", \"rocks\", \"rocks\", \"rocks\", \"rocks\", \"rocks\", \"rolling\", \"rolling\", \"rolling\", \"rolling\", \"rolling\", \"sat\", \"sat\", \"sat\", \"sat\", \"sat\", \"scene\", \"scene\", \"scene\", \"scene\", \"scene\", \"screamin\", \"screamin\", \"screamin\", \"screamin\", \"screamin\", \"seems\", \"seems\", \"seems\", \"seems\", \"seems\", \"send\", \"send\", \"send\", \"send\", \"send\", \"sendin\", \"sendin\", \"sendin\", \"sendin\", \"sendin\", \"show\", \"show\", \"show\", \"show\", \"show\", \"sink\", \"sink\", \"sink\", \"sink\", \"sink\", \"sit\", \"sit\", \"sit\", \"sit\", \"sit\", \"slide\", \"slide\", \"slide\", \"slide\", \"slide\", \"snap\", \"snap\", \"snap\", \"snap\", \"snap\", \"sometimes\", \"sometimes\", \"sometimes\", \"sometimes\", \"sometimes\", \"spit\", \"spit\", \"spit\", \"spit\", \"spit\", \"start\", \"start\", \"start\", \"start\", \"start\", \"steppin\", \"steppin\", \"steppin\", \"steppin\", \"steppin\", \"stop\", \"stop\", \"stop\", \"stop\", \"stop\", \"street\", \"street\", \"street\", \"street\", \"street\", \"strike\", \"strike\", \"strike\", \"strike\", \"strike\", \"stronger\", \"stronger\", \"stronger\", \"stronger\", \"stronger\", \"swing\", \"swing\", \"swing\", \"swing\", \"swing\", \"take\", \"take\", \"take\", \"take\", \"take\", \"thick\", \"thick\", \"thick\", \"thick\", \"thick\", \"though\", \"though\", \"though\", \"though\", \"though\", \"thought\", \"thought\", \"thought\", \"thought\", \"thought\", \"thousand\", \"thousand\", \"thousand\", \"thousand\", \"thousand\", \"title\", \"title\", \"title\", \"title\", \"title\", \"trash\", \"trash\", \"trash\", \"trash\", \"trash\", \"travel\", \"travel\", \"travel\", \"travel\", \"travel\", \"treat\", \"treat\", \"treat\", \"treat\", \"treat\", \"tree\", \"tree\", \"tree\", \"tree\", \"tree\", \"tribe\", \"tribe\", \"tribe\", \"tribe\", \"tribe\", \"trust\", \"trust\", \"trust\", \"trust\", \"trust\", \"tryna\", \"tryna\", \"tryna\", \"tryna\", \"tryna\", \"twenty\", \"twenty\", \"twenty\", \"twenty\", \"twenty\", \"type\", \"type\", \"type\", \"type\", \"type\", \"uncle\", \"uncle\", \"uncle\", \"uncle\", \"uncle\", \"vibrations\", \"vibrations\", \"vibrations\", \"vibrations\", \"vibrations\", \"waitin\", \"waitin\", \"waitin\", \"waitin\", \"waitin\", \"watchin\", \"watchin\", \"watchin\", \"watchin\", \"watchin\", \"watching\", \"watching\", \"watching\", \"watching\", \"watching\", \"water\", \"water\", \"water\", \"water\", \"water\", \"white\", \"white\", \"white\", \"white\", \"white\", \"whose\", \"whose\", \"whose\", \"whose\", \"whose\", \"wrote\", \"wrote\", \"wrote\", \"wrote\", \"wrote\", \"yeahhrd\", \"yeahhrd\", \"yeahhrd\", \"yeahhrd\", \"yeahhrd\", \"yeahrself\", \"yeahrself\", \"yeahrself\", \"yeahrself\", \"yeahrself\"]}, \"R\": 30, \"lambda.step\": 0.01, \"plot.opts\": {\"xlab\": \"PC1\", \"ylab\": \"PC2\"}, \"topic.order\": [1, 2, 5, 4, 3]};\n\nfunction LDAvis_load_lib(url, callback){\n  var s = document.createElement('script');\n  s.src = url;\n  s.async = true;\n  s.onreadystatechange = s.onload = callback;\n  s.onerror = function(){console.warn(\"failed to load library \" + url);};\n  document.getElementsByTagName(\"head\")[0].appendChild(s);\n}\n\nif(typeof(LDAvis) !== \"undefined\"){\n   // already loaded: just create the visualization\n   !function(LDAvis){\n       new LDAvis(\"#\" + \"ldavis_el1771161055349766059014019\", ldavis_el1771161055349766059014019_data);\n   }(LDAvis);\n}else if(typeof define === \"function\" && define.amd){\n   // require.js is available: use it to load d3/LDAvis\n   require.config({paths: {d3: \"https://d3js.org/d3.v5\"}});\n   require([\"d3\"], function(d3){\n      window.d3 = d3;\n      LDAvis_load_lib(\"https://cdn.jsdelivr.net/gh/bmabey/pyLDAvis@3.4.0/pyLDAvis/js/ldavis.v3.0.0.js\", function(){\n        new LDAvis(\"#\" + \"ldavis_el1771161055349766059014019\", ldavis_el1771161055349766059014019_data);\n      });\n    });\n}else{\n    // require.js not available: dynamically load d3 & LDAvis\n    LDAvis_load_lib(\"https://d3js.org/d3.v5.js\", function(){\n         LDAvis_load_lib(\"https://cdn.jsdelivr.net/gh/bmabey/pyLDAvis@3.4.0/pyLDAvis/js/ldavis.v3.0.0.js\", function(){\n                 new LDAvis(\"#\" + \"ldavis_el1771161055349766059014019\", ldavis_el1771161055349766059014019_data);\n            })\n         });\n}\n</script>"
     },
     "execution_count": 10,
     "metadata": {},
     "output_type": "execute_result"
    }
   ],
   "source": [
    "vis.display(ctm_pd_east)"
   ],
   "metadata": {
    "collapsed": false,
    "ExecuteTime": {
     "end_time": "2024-03-27T13:39:27.128404Z",
     "start_time": "2024-03-27T13:39:27.121331Z"
    }
   },
   "id": "be4ff454225be61"
  },
  {
   "cell_type": "code",
   "execution_count": 11,
   "outputs": [
    {
     "data": {
      "text/plain": "<IPython.core.display.HTML object>",
      "text/html": "\n<link rel=\"stylesheet\" type=\"text/css\" href=\"https://cdn.jsdelivr.net/gh/bmabey/pyLDAvis@3.4.0/pyLDAvis/js/ldavis.v1.0.0.css\">\n\n\n<div id=\"ldavis_el1771161055366563157293524\" style=\"background-color:white;\"></div>\n<script type=\"text/javascript\">\n\nvar ldavis_el1771161055366563157293524_data = {\"mdsDat\": {\"x\": [-4.8694923207914384e-05, -2.235012678401773e-05, 0.0005681781244576184, -0.00050077295267797, 3.6398782122834395e-06], \"y\": [-0.0002638802412711761, -0.0002964378482917316, 0.0003138165134038298, 0.0003938757167477494, -0.00014737414058867157], \"topics\": [1, 2, 3, 4, 5], \"cluster\": [1, 1, 1, 1, 1], \"Freq\": [23.454579852473064, 21.878619203860534, 21.229043472075908, 17.901186250296483, 15.53657122129401]}, \"tinfo\": {\"Term\": [\"bathroom\", \"feels\", \"relax\", \"bone\", \"news\", \"twelve\", \"deal\", \"released\", \"done\", \"cos\", \"pro\", \"set\", \"eazy\", \"pain\", \"oak\", \"busted\", \"train\", \"gang\", \"dust\", \"shot\", \"rules\", \"book\", \"help\", \"busy\", \"lived\", \"win\", \"dedicated\", \"man\", \"sunrise\", \"sex\", \"negro\", \"neighborhood\", \"funny\", \"shows\", \"funk\", \"history\", \"cocked\", \"rockin\", \"uh\", \"whether\", \"eat\", \"yeah\", \"motel\", \"yeahhy\", \"stroll\", \"lyrical\", \"serious\", \"kiss\", \"girl\", \"gats\", \"rebel\", \"threw\", \"naw\", \"ki\", \"wanna\", \"bucket\", \"baby\", \"hearts\", \"bill\", \"mad\", \"bills\", \"go\", \"bleed\", \"team\", \"yeahth\", \"turned\", \"cash\", \"asshole\", \"cash\", \"girl\", \"greed\", \"use\", \"shows\", \"liquor\", \"around\", \"queen\", \"chain\", \"eat\", \"neighborhood\", \"better\", \"lies\", \"crazy\", \"negro\", \"rocked\", \"jaw\", \"serious\", \"po\", \"dopeman\", \"gats\", \"letter\", \"slugs\", \"cars\", \"kicked\", \"rappers\", \"rockin\", \"list\", \"devil\", \"kiss\", \"good\", \"baby\", \"bill\", \"lyrical\", \"leavin\", \"new\", \"pulling\", \"sitting\", \"radio\", \"scooby\", \"tonight\", \"plans\", \"reality\", \"rings\", \"fate\", \"suicide\", \"pictures\", \"holler\", \"whore\", \"solo\", \"insane\", \"tried\", \"dogs\", \"til\", \"women\", \"later\", \"grill\", \"line\", \"rain\", \"box\", \"souls\", \"hill\", \"wear\", \"choke\", \"instead\", \"pulled\", \"triple\", \"voice\", \"realize\", \"bilingual\", \"known\", \"honey\", \"strapped\", \"trouble\", \"task\", \"murder\", \"save\", \"feels\", \"deal\", \"tie\", \"body\", \"huh\", \"book\", \"area\", \"sellin\", \"roll\", \"county\", \"cos\", \"flip\", \"trigger\", \"relax\", \"bone\", \"miss\", \"shot\", \"chillin\", \"busted\", \"army\", \"dedicated\", \"bud\", \"catchin\", \"suck\", \"weapon\", \"em\", \"microphone\", \"serve\", \"bathroom\", \"stack\", \"busy\", \"nowhere\", \"attack\", \"lettin\", \"bucks\", \"lench\", \"cross\", \"task\", \"child\", \"bitches\", \"battle\", \"trip\", \"wealth\", \"oak\", \"dying\", \"face\", \"escape\", \"eazy\", \"cuss\", \"planet\", \"affair\", \"busting\", \"hi\", \"done\", \"sunrise\", \"twelve\", \"also\", \"mind\", \"bustin\", \"ounce\", \"drunk\", \"sir\", \"fish\", \"pro\", \"panic\", \"knowin\", \"killed\", \"gutfest\", \"pay\", \"lived\", \"tiempo\", \"screen\", \"case\", \"trippin\", \"dirty\", \"dj\", \"ahead\", \"die\", \"bottle\", \"popped\", \"outlaw\", \"loop\", \"babies\", \"new\"], \"Freq\": [125.0, 124.0, 126.0, 128.0, 125.0, 125.0, 127.0, 125.0, 127.0, 126.0, 124.0, 126.0, 125.0, 125.0, 125.0, 128.0, 125.0, 127.0, 124.0, 127.0, 126.0, 127.0, 127.0, 128.0, 125.0, 128.0, 128.0, 124.0, 123.0, 123.0, 35.82290571030943, 35.3743814789305, 33.91896267496774, 34.896382998781114, 33.49997591920684, 33.64095773885305, 33.26302277017121, 33.34814718260161, 32.938057849333326, 32.97710042770107, 33.537922565550225, 33.18983066891628, 32.82254942404815, 32.659009670233914, 32.874490279317946, 34.02889659985979, 33.35686546235947, 33.10614642356918, 32.61970364666801, 32.778248479525075, 32.31647822358252, 32.699657508009125, 32.96997686954274, 32.433363589103436, 33.06684742520856, 31.62644851014372, 32.91977826518347, 32.389016980746014, 32.812819514729334, 32.508603537698754, 32.50186285322843, 32.94100141034747, 32.87519982505166, 32.65656489879496, 32.59836809821946, 32.58088236226673, 32.59900387929769, 32.63243484536098, 32.626782738361726, 31.657860875834977, 31.586369094607797, 31.283471861371428, 32.01780998563433, 31.284536751095928, 30.57969443390975, 30.976190559053894, 31.44432591169476, 31.313957196745996, 31.59517982835911, 30.627460472075107, 31.133754919274466, 30.71309071225986, 31.195682352483768, 29.782108413179174, 30.348259492646655, 31.02664339590875, 30.79370777928005, 30.279264468250453, 30.592722130970078, 30.308901168429188, 30.641294208742284, 30.49255696519186, 30.373410549647428, 31.24948713453297, 30.479358885775614, 30.27328470287442, 30.357673117811224, 30.73315978783695, 30.8205954256777, 30.56132918189186, 30.490807269459914, 30.861287319488614, 30.504827771401853, 30.545506558877698, 30.59879036410784, 30.52926453314127, 30.657237255598382, 30.23650749594745, 30.163892236751572, 30.066325814938825, 30.341465795064504, 30.23243481000043, 30.429974385290162, 30.203102569136107, 30.025274666657864, 29.704715177212034, 30.383184596779405, 30.544461052700125, 29.741744508379035, 29.80657683611644, 30.37441290237829, 30.181699507625307, 29.63209355941202, 29.952999592783087, 29.980106322200953, 29.56585598016128, 29.830281712323295, 30.3382896723002, 30.09756881634504, 30.20695270393848, 30.163790499085447, 29.876117710214142, 29.928938634744803, 30.172085298176604, 29.75765373591915, 30.09343254435669, 30.07852797626955, 30.010500449955444, 29.927158225587636, 30.13559962766295, 30.15495203934094, 29.956484107847828, 29.97734986730941, 30.01045276042445, 29.932922300233965, 25.319866544325553, 25.792597792268165, 25.601108018167054, 25.969733943082037, 25.454928402298584, 25.68883294554937, 25.377562533635338, 26.063029813533248, 25.412969388837897, 25.74138157648943, 25.24327546033358, 25.335013718694785, 25.512147188592845, 25.22208282079574, 25.57538463089753, 25.687773983801428, 25.260677284905384, 25.630812565425657, 25.499308282742533, 25.1541966704634, 25.45855300048393, 25.327992400168586, 25.431918101836438, 24.950409535507124, 25.337777742902695, 25.49292770309673, 25.40701239389127, 25.88196075921501, 24.866368186458143, 25.14839248771837, 25.493378096954082, 25.438009142573943, 25.413862133805146, 25.422194420166136, 25.549261787171194, 25.398578232729218, 25.403476265927907, 25.409604839486857, 25.395414752064493, 25.343930444704004, 21.901774289171634, 21.187585769513003, 22.17234699084499, 21.537236639143558, 21.007099263002328, 21.38925766763347, 20.988557100922325, 21.508500825153344, 21.28631132316521, 21.23306746636051, 21.156204399206445, 21.239421920450166, 22.019458499697706, 21.775788104206928, 21.07492509116546, 21.290850883739697, 21.13025374872605, 21.74622162741554, 21.25064168523242, 21.558210293176575, 21.084350903511563, 21.512635524866752, 21.150606150748107, 21.061376213038738, 20.86983747037798, 21.556265099614162, 20.972467371874362, 20.929312461584768, 20.79633428301354, 21.080327889552933, 21.388745774590728, 21.573255295060036, 21.68224663100575, 21.417088361652656, 21.559299229285678, 21.81385433229437, 21.28935475998296, 21.405607996775917, 21.323500352720316, 21.300504721168473, 21.32398897789748, 21.298985329546156, 21.30409960640045, 21.240852894183284], \"Total\": [125.0, 124.0, 126.0, 128.0, 125.0, 125.0, 127.0, 125.0, 127.0, 126.0, 124.0, 126.0, 125.0, 125.0, 125.0, 128.0, 125.0, 127.0, 124.0, 127.0, 126.0, 127.0, 127.0, 128.0, 125.0, 128.0, 128.0, 124.0, 123.0, 123.0, 130.57137370443922, 131.44906038277898, 128.07927865016768, 131.80404367893925, 128.1641267866134, 129.12149502426075, 127.79628734836649, 128.3295773871166, 127.12758864673208, 127.71945010850988, 129.93018757664652, 128.80375240596786, 127.62936201645009, 127.11781227295286, 128.00373300004384, 132.63155422076704, 130.07912313294017, 129.57725542238796, 127.70732615115048, 128.3640835980509, 126.58087433994189, 128.11816777030728, 129.3068272002224, 127.2080432448523, 129.70950504348977, 124.08910599964689, 129.25652398121173, 127.17812916250021, 128.97720905919448, 127.92325416231188, 127.9005326047697, 130.27392933479533, 131.0173584727248, 129.4767995073568, 129.00065563875233, 130.1528787727014, 130.88556068065665, 128.19983205176652, 130.88556068065665, 127.70732615115048, 128.55413409853742, 128.68606890379237, 131.80404367893925, 128.90323605117922, 126.35062435509012, 128.0334618829118, 129.98812051742695, 129.93018757664652, 131.44906038277898, 127.44891476245616, 129.96968099513148, 128.42860546906707, 130.57137370443922, 124.7021167664603, 127.08552148645941, 130.07912313294017, 129.16214497035202, 127.00478325793827, 128.3640835980509, 127.25758845161288, 128.7542273422186, 128.16282143681755, 127.72817825442984, 131.55757130672677, 128.3295773871166, 127.5296472808539, 127.94371486683542, 129.57725542238796, 130.7473427642206, 129.25652398121173, 128.97720905919448, 132.63155422076704, 129.27814340382386, 130.43391732279775, 132.65636116199727, 133.29183780844477, 129.1763887899534, 127.41960644001057, 127.50173118558487, 127.09780109176025, 128.4023262725292, 128.02020196356605, 128.95979710547263, 128.27851333929874, 127.69862720294708, 126.41772877786065, 129.40051570590433, 130.26241446166372, 127.03070862098207, 127.32036065335338, 129.76877776551007, 128.99495445121056, 126.6612134387889, 128.1159294832575, 128.26604191255723, 126.53906678751642, 127.7787411741367, 129.9827538264269, 128.97510949684388, 129.44745654164126, 129.34368345216535, 128.16009840656284, 128.457809167712, 129.5113016300727, 127.8008384477888, 129.28409895809176, 129.28570447050748, 129.47280649713994, 129.16394682439108, 131.32863542856614, 132.12827229498257, 129.96738933100315, 131.00572532294834, 131.79498727656568, 130.9557600915565, 124.62564385062225, 127.38868013263281, 126.86708967347437, 128.79541989690244, 126.5657553861367, 127.90585667593575, 126.42906214589858, 130.0774722966957, 126.92938348320624, 128.69348573411554, 126.36068786117886, 126.89320259748533, 127.82937156566112, 126.69267115153295, 128.49807108255467, 129.09227345321523, 127.10892559420623, 128.98655472496927, 128.33230976780433, 126.59729496805382, 128.16164913716136, 127.57779518230899, 128.12464359220562, 125.70787529124993, 127.74155417417259, 128.54788641169924, 128.20094991830146, 130.6327455165522, 125.58286025049561, 127.03236880065387, 128.79157017749228, 128.73517152955216, 128.62110445932905, 128.79860724982186, 130.21402568502495, 128.63390519309047, 128.94398089183397, 131.00572532294834, 130.83418635148308, 132.27443821087112, 124.78215597428346, 122.42703610245907, 128.71344300257311, 125.07412771887837, 122.29444088516755, 124.7664564304292, 122.4856299957664, 125.59303163256392, 124.32175686570635, 124.39852043063816, 124.00653919089892, 124.4999955601988, 129.22431002467752, 127.81966842985071, 123.8070417819223, 125.18929406898833, 124.35310204364461, 128.0426602644261, 125.22494241532792, 127.23736083819655, 124.71943997646497, 127.43479390840355, 125.4434217995258, 124.94154304880499, 123.85353933750474, 127.97014219650742, 124.59425152313796, 124.44173237496102, 123.87208731353853, 125.5960701281427, 127.57725412475834, 128.82243806850605, 129.73198361050663, 128.2613922756419, 130.49413863432738, 134.4412461488588, 127.9109941290146, 130.11311879746293, 128.63725999272003, 128.24165796083, 128.93891714785195, 129.10845811622707, 129.8211182551251, 130.43391732279775], \"Category\": [\"Default\", \"Default\", \"Default\", \"Default\", \"Default\", \"Default\", \"Default\", \"Default\", \"Default\", \"Default\", \"Default\", \"Default\", \"Default\", \"Default\", \"Default\", \"Default\", \"Default\", \"Default\", \"Default\", \"Default\", \"Default\", \"Default\", \"Default\", \"Default\", \"Default\", \"Default\", \"Default\", \"Default\", \"Default\", \"Default\", \"Topic1\", \"Topic1\", \"Topic1\", \"Topic1\", \"Topic1\", \"Topic1\", \"Topic1\", \"Topic1\", \"Topic1\", \"Topic1\", \"Topic1\", \"Topic1\", \"Topic1\", \"Topic1\", \"Topic1\", \"Topic1\", \"Topic1\", \"Topic1\", \"Topic1\", \"Topic1\", \"Topic1\", \"Topic1\", \"Topic1\", \"Topic1\", \"Topic1\", \"Topic1\", \"Topic1\", \"Topic1\", \"Topic1\", \"Topic1\", \"Topic1\", \"Topic1\", \"Topic1\", \"Topic1\", \"Topic1\", \"Topic1\", \"Topic1\", \"Topic2\", \"Topic2\", \"Topic2\", \"Topic2\", \"Topic2\", \"Topic2\", \"Topic2\", \"Topic2\", \"Topic2\", \"Topic2\", \"Topic2\", \"Topic2\", \"Topic2\", \"Topic2\", \"Topic2\", \"Topic2\", \"Topic2\", \"Topic2\", \"Topic2\", \"Topic2\", \"Topic2\", \"Topic2\", \"Topic2\", \"Topic2\", \"Topic2\", \"Topic2\", \"Topic2\", \"Topic2\", \"Topic2\", \"Topic2\", \"Topic2\", \"Topic2\", \"Topic2\", \"Topic2\", \"Topic2\", \"Topic2\", \"Topic2\", \"Topic2\", \"Topic2\", \"Topic3\", \"Topic3\", \"Topic3\", \"Topic3\", \"Topic3\", \"Topic3\", \"Topic3\", \"Topic3\", \"Topic3\", \"Topic3\", \"Topic3\", \"Topic3\", \"Topic3\", \"Topic3\", \"Topic3\", \"Topic3\", \"Topic3\", \"Topic3\", \"Topic3\", \"Topic3\", \"Topic3\", \"Topic3\", \"Topic3\", \"Topic3\", \"Topic3\", \"Topic3\", \"Topic3\", \"Topic3\", \"Topic3\", \"Topic3\", \"Topic3\", \"Topic3\", \"Topic3\", \"Topic3\", \"Topic3\", \"Topic3\", \"Topic3\", \"Topic3\", \"Topic3\", \"Topic4\", \"Topic4\", \"Topic4\", \"Topic4\", \"Topic4\", \"Topic4\", \"Topic4\", \"Topic4\", \"Topic4\", \"Topic4\", \"Topic4\", \"Topic4\", \"Topic4\", \"Topic4\", \"Topic4\", \"Topic4\", \"Topic4\", \"Topic4\", \"Topic4\", \"Topic4\", \"Topic4\", \"Topic4\", \"Topic4\", \"Topic4\", \"Topic4\", \"Topic4\", \"Topic4\", \"Topic4\", \"Topic4\", \"Topic4\", \"Topic4\", \"Topic4\", \"Topic4\", \"Topic4\", \"Topic4\", \"Topic4\", \"Topic4\", \"Topic4\", \"Topic4\", \"Topic4\", \"Topic5\", \"Topic5\", \"Topic5\", \"Topic5\", \"Topic5\", \"Topic5\", \"Topic5\", \"Topic5\", \"Topic5\", \"Topic5\", \"Topic5\", \"Topic5\", \"Topic5\", \"Topic5\", \"Topic5\", \"Topic5\", \"Topic5\", \"Topic5\", \"Topic5\", \"Topic5\", \"Topic5\", \"Topic5\", \"Topic5\", \"Topic5\", \"Topic5\", \"Topic5\", \"Topic5\", \"Topic5\", \"Topic5\", \"Topic5\", \"Topic5\", \"Topic5\", \"Topic5\", \"Topic5\", \"Topic5\", \"Topic5\", \"Topic5\", \"Topic5\", \"Topic5\", \"Topic5\", \"Topic5\", \"Topic5\", \"Topic5\", \"Topic5\"], \"logprob\": [30.0, 29.0, 28.0, 27.0, 26.0, 25.0, 24.0, 23.0, 22.0, 21.0, 20.0, 19.0, 18.0, 17.0, 16.0, 15.0, 14.0, 13.0, 12.0, 11.0, 10.0, 9.0, 8.0, 7.0, 6.0, 5.0, 4.0, 3.0, 2.0, 1.0, -7.4293, -7.4419, -7.4839, -7.4555, -7.4963, -7.4921, -7.5034, -7.5008, -7.5132, -7.512, -7.4952, -7.5056, -7.5167, -7.5217, -7.5152, -7.4806, -7.5006, -7.5081, -7.5229, -7.5181, -7.5323, -7.5205, -7.5123, -7.5287, -7.5093, -7.5539, -7.5138, -7.53, -7.517, -7.5263, -7.5266, -7.5131, -7.5151, -7.5218, -7.5236, -7.5241, -7.5236, -7.453, -7.4532, -7.4833, -7.4856, -7.4952, -7.472, -7.4952, -7.518, -7.5051, -7.4901, -7.4942, -7.4853, -7.5164, -7.5, -7.5136, -7.498, -7.5444, -7.5256, -7.5034, -7.511, -7.5278, -7.5175, -7.5269, -7.5159, -7.5208, -7.5247, -7.4963, -7.5212, -7.528, -7.5252, -7.513, -7.5101, -7.5186, -7.5209, -7.5088, -7.5204, -7.5191, -7.5173, -7.5196, -7.4853, -7.4991, -7.5015, -7.5047, -7.4956, -7.4992, -7.4927, -7.5002, -7.5061, -7.5168, -7.4943, -7.489, -7.5156, -7.5134, -7.4946, -7.5009, -7.5193, -7.5085, -7.5076, -7.5215, -7.5126, -7.4957, -7.5037, -7.5001, -7.5015, -7.5111, -7.5093, -7.5012, -7.5151, -7.5038, -7.5043, -7.5066, -7.5094, -7.5024, -7.5018, -7.5084, -7.5077, -7.5066, -7.5092, -7.5061, -7.4876, -7.495, -7.4807, -7.5007, -7.4916, -7.5038, -7.4771, -7.5024, -7.4896, -7.5091, -7.5055, -7.4985, -7.5099, -7.496, -7.4916, -7.5084, -7.4939, -7.499, -7.5126, -7.5006, -7.5057, -7.5016, -7.5208, -7.5054, -7.4993, -7.5026, -7.4841, -7.5241, -7.5129, -7.4992, -7.5014, -7.5024, -7.502, -7.497, -7.503, -7.5028, -7.5025, -7.5031, -7.5051, -7.5094, -7.5426, -7.4971, -7.5262, -7.5511, -7.5331, -7.552, -7.5275, -7.5379, -7.5404, -7.544, -7.5401, -7.5041, -7.5152, -7.5479, -7.5377, -7.5453, -7.5165, -7.5396, -7.5252, -7.5475, -7.5273, -7.5443, -7.5485, -7.5577, -7.5253, -7.5528, -7.5548, -7.5612, -7.5476, -7.5331, -7.5245, -7.5195, -7.5318, -7.5252, -7.5134, -7.5378, -7.5323, -7.5362, -7.5373, -7.5361, -7.5373, -7.5371, -7.5401], \"loglift\": [30.0, 29.0, 28.0, 27.0, 26.0, 25.0, 24.0, 23.0, 22.0, 21.0, 20.0, 19.0, 18.0, 17.0, 16.0, 15.0, 14.0, 13.0, 12.0, 11.0, 10.0, 9.0, 8.0, 7.0, 6.0, 5.0, 4.0, 3.0, 2.0, 1.0, 0.1568, 0.1375, 0.1214, 0.1212, 0.1083, 0.1051, 0.1041, 0.1025, 0.0995, 0.0961, 0.0958, 0.0941, 0.0921, 0.0911, 0.0907, 0.0897, 0.0892, 0.0855, 0.0853, 0.085, 0.0848, 0.0845, 0.0835, 0.0835, 0.0833, 0.0831, 0.0824, 0.0823, 0.0813, 0.0802, 0.0801, 0.0752, 0.0675, 0.0726, 0.0745, 0.0651, 0.0601, 0.1514, 0.1305, 0.1249, 0.116, 0.1054, 0.1046, 0.1037, 0.1009, 0.1006, 0.1004, 0.0967, 0.094, 0.0938, 0.0907, 0.089, 0.088, 0.0876, 0.0875, 0.0864, 0.0859, 0.0859, 0.0856, 0.0849, 0.0841, 0.0838, 0.0833, 0.0822, 0.0821, 0.0816, 0.0811, 0.0807, 0.0746, 0.0776, 0.0774, 0.0616, 0.0756, 0.068, 0.0529, 0.0458, 0.1115, 0.1114, 0.1083, 0.1082, 0.1071, 0.1065, 0.1057, 0.1035, 0.1022, 0.1015, 0.1008, 0.0994, 0.0979, 0.0978, 0.0976, 0.0973, 0.0971, 0.0965, 0.0962, 0.0959, 0.095, 0.0948, 0.0946, 0.0946, 0.094, 0.0936, 0.093, 0.0929, 0.0924, 0.0921, 0.0916, 0.0879, 0.0875, 0.0778, 0.0724, 0.0823, 0.075, 0.0701, 0.0739, 0.1266, 0.1231, 0.1198, 0.119, 0.1165, 0.1151, 0.1145, 0.1127, 0.1119, 0.111, 0.1097, 0.1091, 0.1088, 0.1063, 0.106, 0.1058, 0.1045, 0.1044, 0.1043, 0.1043, 0.1041, 0.1035, 0.1033, 0.1032, 0.1026, 0.1024, 0.1017, 0.1015, 0.1009, 0.1007, 0.1005, 0.0988, 0.0987, 0.0977, 0.0917, 0.098, 0.0958, 0.0802, 0.0809, 0.068, 0.122, 0.1079, 0.1032, 0.1029, 0.1004, 0.0984, 0.098, 0.0974, 0.0972, 0.094, 0.0936, 0.0935, 0.0924, 0.0922, 0.0913, 0.0904, 0.0896, 0.0891, 0.0882, 0.0867, 0.0844, 0.083, 0.0818, 0.0816, 0.0812, 0.0808, 0.0801, 0.0793, 0.0775, 0.0772, 0.0761, 0.075, 0.073, 0.0721, 0.0615, 0.0434, 0.0688, 0.0572, 0.0648, 0.0668, 0.0625, 0.06, 0.0547, 0.047]}, \"token.table\": {\"Topic\": [1, 2, 3, 4, 5, 1, 2, 3, 4, 5, 1, 2, 3, 4, 5, 1, 2, 3, 4, 5, 1, 2, 3, 4, 5, 1, 2, 3, 4, 5, 1, 2, 3, 4, 5, 1, 2, 3, 4, 5, 1, 2, 3, 4, 5, 1, 2, 3, 4, 5, 1, 2, 3, 4, 5, 1, 2, 3, 4, 5, 1, 2, 3, 4, 5, 1, 2, 3, 4, 5, 1, 2, 3, 4, 5, 1, 2, 3, 4, 5, 1, 2, 3, 4, 5, 1, 2, 3, 4, 5, 1, 2, 3, 4, 5, 1, 2, 3, 4, 5, 1, 2, 3, 4, 5, 1, 2, 3, 4, 5, 1, 2, 3, 4, 5, 1, 2, 3, 4, 5, 1, 2, 3, 4, 5, 1, 2, 3, 4, 5, 1, 2, 3, 4, 5, 1, 2, 3, 4, 5, 1, 2, 3, 4, 5, 1, 2, 3, 4, 5, 1, 2, 3, 4, 5, 1, 2, 3, 4, 5, 1, 2, 3, 4, 5, 1, 2, 3, 4, 5, 1, 2, 3, 4, 5, 1, 2, 3, 4, 5, 1, 2, 3, 4, 5, 1, 2, 3, 4, 5, 1, 2, 3, 4, 5, 1, 2, 3, 4, 5, 1, 2, 3, 4, 5, 1, 2, 3, 4, 5, 1, 2, 3, 4, 5, 1, 2, 3, 4, 5, 1, 2, 3, 4, 5, 1, 2, 3, 4, 5, 1, 2, 3, 4, 5, 1, 2, 3, 4, 5, 1, 2, 3, 4, 5, 1, 2, 3, 4, 5, 1, 2, 3, 4, 5, 1, 2, 3, 4, 5, 1, 2, 3, 4, 5, 1, 2, 3, 4, 5, 1, 2, 3, 4, 5, 1, 2, 3, 4, 5, 1, 2, 3, 4, 5, 1, 2, 3, 4, 5, 1, 2, 3, 4, 5, 1, 2, 3, 4, 5, 1, 2, 3, 4, 5, 1, 2, 3, 4, 5, 1, 2, 3, 4, 5, 1, 2, 3, 4, 5, 1, 2, 3, 4, 5, 1, 2, 3, 4, 5, 1, 2, 3, 4, 5, 1, 2, 3, 4, 5, 1, 2, 3, 4, 5, 1, 2, 3, 4, 5, 1, 2, 3, 4, 5, 1, 2, 3, 4, 5, 1, 2, 3, 4, 5, 1, 2, 3, 4, 5, 1, 2, 3, 4, 5, 1, 2, 3, 4, 5, 1, 2, 3, 4, 5, 1, 2, 3, 4, 5, 1, 2, 3, 4, 5, 1, 2, 3, 4, 5, 1, 2, 3, 4, 5, 1, 2, 3, 4, 5, 1, 2, 3, 4, 5, 1, 2, 3, 4, 5, 1, 2, 3, 4, 5, 1, 2, 3, 4, 5, 1, 2, 3, 4, 5, 1, 2, 3, 4, 5, 1, 2, 3, 4, 5, 1, 2, 3, 4, 5, 1, 2, 3, 4, 5, 1, 2, 3, 4, 5, 1, 2, 3, 4, 5, 1, 2, 3, 4, 5, 1, 2, 3, 4, 5, 1, 2, 3, 4, 5, 1, 2, 3, 4, 5, 1, 2, 3, 4, 5, 1, 2, 3, 4, 5, 1, 2, 3, 4, 5, 1, 2, 3, 4, 5, 1, 2, 3, 4, 5, 1, 2, 3, 4, 5, 1, 2, 3, 4, 5, 1, 2, 3, 4, 5, 1, 2, 3, 4, 5, 1, 2, 3, 4, 5, 1, 2, 3, 4, 5, 1, 2, 3, 4, 5, 1, 2, 3, 4, 5, 1, 2, 3, 4, 5, 1, 2, 3, 4, 5, 1, 2, 3, 4, 5, 1, 2, 3, 4, 5, 1, 2, 3, 4, 5, 1, 2, 3, 4, 5, 1, 2, 3, 4, 5, 1, 2, 3, 4, 5, 1, 2, 3, 4, 5, 1, 2, 3, 4, 5, 1, 2, 3, 4, 5, 1, 2, 3, 4, 5, 1, 2, 3, 4, 5, 1, 2, 3, 4, 5, 1, 2, 3, 4, 5, 1, 2, 3, 4, 5, 1, 2, 3, 4, 5, 1, 2, 3, 4, 5, 1, 2, 3, 4, 5, 1, 2, 3, 4, 5, 1, 2, 3, 4, 5, 1, 2, 3, 4, 5, 1, 2, 3, 4, 5, 1, 2, 3, 4, 5, 1, 2, 3, 4, 5, 1, 2, 3, 4, 5, 1, 2, 3, 4, 5, 1, 2, 3, 4, 5, 1, 2, 3, 4, 5, 1, 2, 3, 4, 5, 1, 2, 3, 4, 5, 1, 2, 3, 4, 5, 1, 2, 3, 4, 5, 1, 2, 3, 4, 5, 1, 2, 3, 4, 5, 1, 2, 3, 4, 5, 1, 2, 3, 4, 5, 1, 2, 3, 4, 5, 1, 2, 3, 4, 5, 1, 2, 3, 4, 5, 1, 2, 3, 4, 5, 1, 2, 3, 4, 5, 1, 2, 3, 4, 5, 1, 2, 3, 4, 5, 1, 2, 3, 4, 5, 1, 2, 3, 4, 5, 1, 2, 3, 4, 5, 1, 2, 3, 4, 5, 1, 2, 3, 4, 5, 1, 2, 3, 4, 5, 1, 2, 3, 4, 5, 1, 2, 3, 4, 5, 1, 2, 3, 4, 5, 1, 2, 3, 4, 5, 1, 2, 3, 4, 5, 1, 2, 3, 4, 5, 1, 2, 3, 4, 5, 1, 2, 3, 4, 5, 1, 2, 3, 4, 5, 1, 2, 3, 4, 5, 1, 2, 3, 4, 5, 1, 2, 3, 4, 5, 1, 2, 3, 4, 5, 1, 2, 3, 4, 5, 1, 2, 3, 4, 5, 1, 2, 3, 4, 5, 1, 2, 3, 4, 5, 1, 2, 3, 4, 5, 1, 2, 3, 4, 5, 1, 2, 3, 4, 5, 1, 2, 3, 4, 5, 1, 2, 3, 4, 5, 1, 2, 3, 4, 5, 1, 2, 3, 4, 5, 1, 2, 3, 4, 5, 1, 2, 3, 4, 5, 1, 2, 3, 4, 5, 1, 2, 3, 4, 5, 1, 2, 3, 4, 5, 1, 2, 3, 4, 5, 1, 2, 3, 4, 5, 1, 2, 3, 4, 5, 1, 2, 3, 4, 5, 1, 2, 3, 4, 5, 1, 2, 3, 4, 5, 1, 2, 3, 4, 5], \"Freq\": [0.24998681684260043, 0.22579454424492942, 0.19353818078136809, 0.16128181731780672, 0.16934590818369707, 0.24235602428930023, 0.2189022154871099, 0.2110842792197131, 0.1641766616153324, 0.1641766616153324, 0.2412485053205251, 0.22516527163249012, 0.18495718741240258, 0.17691557056838508, 0.1688739537243676, 0.23728721459137403, 0.2214680669519491, 0.18982977167309922, 0.1977393454928117, 0.15819147639424935, 0.23697188796625038, 0.21327469916962533, 0.1895775103730003, 0.19747657330520862, 0.1579812586441669, 0.25326348930471954, 0.24534900526394704, 0.18203313293776716, 0.1662041648562222, 0.1582896808154497, 0.24961031140102075, 0.25741063363230265, 0.18720773355076556, 0.16380676685691986, 0.14820612239435607, 0.23324321561463673, 0.20991889405317307, 0.20214412019935185, 0.19436934634553063, 0.16327025093024572, 0.25419593085886255, 0.23108720987169323, 0.1848697678973546, 0.16946395390590838, 0.16176104691018525, 0.2553062621798244, 0.23983315538104716, 0.19341383498471545, 0.16246762138716098, 0.14699451458838375, 0.23092323221620167, 0.20703462198693942, 0.19110888183409794, 0.19907175191051868, 0.16722027160483569, 0.24041899072638837, 0.2243910580112958, 0.20034915893865696, 0.1522653607933793, 0.17630725986601814, 0.24323471139616143, 0.24323471139616143, 0.1883107443067056, 0.156925620255588, 0.1647719012683674, 0.23170888784791038, 0.21626162865804968, 0.23170888784791038, 0.16219622149353727, 0.16219622149353727, 0.2558591571387977, 0.23259923376254335, 0.19383269480211945, 0.15506615584169556, 0.16281946363378033, 0.2580129990699457, 0.2345572718817688, 0.19546439323480733, 0.16419009031723816, 0.15637151458784587, 0.22680119005437904, 0.21168111071742043, 0.21168111071742043, 0.18900099171198254, 0.15876083303806535, 0.25187502163593034, 0.22897729239630032, 0.20607956315667028, 0.16791668109062025, 0.13738637543778018, 0.23292753751658452, 0.2173990350154789, 0.19410628126382043, 0.20187053251437326, 0.15528502501105634, 0.2334665395928492, 0.21011988563356426, 0.18677323167427934, 0.20233766764713595, 0.16342657771499444, 0.22672925817208547, 0.21891100789028942, 0.19545625704490127, 0.20327450732669733, 0.156365005635921, 0.24098772005680455, 0.21766632779324283, 0.20989253037205557, 0.17102354326611938, 0.16324974584493213, 0.2307998493404798, 0.21541319271778114, 0.2307998493404798, 0.16155989453833586, 0.16155989453833586, 0.2578792049649472, 0.2256443043443288, 0.1772919534134012, 0.1772919534134012, 0.161174503103092, 0.2303899279833885, 0.2150305994511626, 0.19199160665282375, 0.19967127091893672, 0.16127294958837196, 0.22731228391711056, 0.21163557468144775, 0.21163557468144775, 0.19595886544578495, 0.14109038312096517, 0.23376809826208178, 0.2103912884358736, 0.19480674855173483, 0.19480674855173483, 0.16363766878345723, 0.24755451591411956, 0.21561199773165252, 0.199640738640419, 0.16769822045795196, 0.16769822045795196, 0.2489959928152025, 0.22489960641373127, 0.20080322001226006, 0.16064257600980805, 0.16867470481029845, 0.23293449997275384, 0.20964104997547847, 0.1941120833106282, 0.1941120833106282, 0.16305414998092768, 0.24187981859686633, 0.23407724380341902, 0.19506436983618253, 0.16385407066239333, 0.16385407066239333, 0.2466623812372542, 0.2312459824099258, 0.19270498534160485, 0.16958038710061227, 0.16958038710061227, 0.25212865214762387, 0.25212865214762387, 0.19100655465729083, 0.15280524372583265, 0.15280524372583265, 0.2341469927946401, 0.21853719327499743, 0.1951224939955334, 0.1951224939955334, 0.15609799519642673, 0.23848333121982454, 0.23848333121982454, 0.18463225642825126, 0.1769392457437408, 0.15386021369020939, 0.22929786806183575, 0.21401134352438003, 0.20636808125565217, 0.19108155671819646, 0.16050850764328503, 0.23258238088432784, 0.21707688882537265, 0.19381865073693988, 0.20157139676641747, 0.1550549205895519, 0.23408221726571143, 0.2106739955391403, 0.23408221726571143, 0.163857552085998, 0.1560548115104743, 0.25822346395747475, 0.2347486035977043, 0.19562383633142025, 0.164324022518393, 0.1486741156118794, 0.23741561167313607, 0.22158790422826033, 0.18201863561607098, 0.19784634306094673, 0.15827707444875738, 0.2331120322747405, 0.21757123012309115, 0.19426002689561708, 0.20203042797144177, 0.1554080215164937, 0.24916567366845252, 0.24137924636631336, 0.20244710985561767, 0.15572854604278283, 0.15572854604278283, 0.23265917332865516, 0.20939325599578965, 0.2016379502181678, 0.19388264444054598, 0.15510611555243678, 0.23326568680433066, 0.22522204243176752, 0.193047464941515, 0.17696017619638876, 0.16891653182382563, 0.22764974069757354, 0.21979974963903653, 0.19624977646342548, 0.2040997675219625, 0.16484981222927741, 0.23407938491719432, 0.2106714464254749, 0.19506615409766193, 0.19506615409766193, 0.16385556944203603, 0.25010998026206904, 0.23447810649568976, 0.1875824851965518, 0.16413467454698283, 0.15631873766379317, 0.2305686027455747, 0.2151973625625364, 0.2305686027455747, 0.1613980219219023, 0.1613980219219023, 0.24522174202529415, 0.22989538314871327, 0.18391630651897062, 0.17625312708068017, 0.16858994764238971, 0.23058399775375144, 0.21570761080189652, 0.21570761080189652, 0.1710784499463317, 0.16364025647040426, 0.23118041578698909, 0.20806237420829016, 0.23118041578698909, 0.16953230491045865, 0.15412027719132604, 0.2425291849118921, 0.2268821407240281, 0.17994100816043607, 0.17994100816043607, 0.17211748606650407, 0.24408529509507576, 0.2362115758984604, 0.20471669911199902, 0.17322182232553762, 0.14172694553907625, 0.23252189077719088, 0.22450389454349462, 0.2164858983097984, 0.1523419284402285, 0.16837792090762096, 0.2402990479977765, 0.2242791114645914, 0.18422927013162865, 0.19223923839822118, 0.16820933359844353, 0.23713261036313596, 0.22077863723464383, 0.18807069097765955, 0.17989370441341349, 0.17171671784916742, 0.26167898803304057, 0.23858966555953698, 0.19241102061252982, 0.15392881649002385, 0.15392881649002385, 0.23886675566338955, 0.21498008009705058, 0.19109340453071164, 0.183131179341932, 0.17516895415315234, 0.23337606581814385, 0.21003845923632947, 0.1944800548484532, 0.1944800548484532, 0.1633632460727007, 0.23676246757274594, 0.2204340215332462, 0.21226979851349637, 0.1632844603949972, 0.17144868341474706, 0.2404492429960792, 0.22441929346300726, 0.18434441963032738, 0.17632944486379143, 0.16831447009725545, 0.22487628432201787, 0.21712192969022415, 0.23263063895381159, 0.17059580189946183, 0.1550870926358744, 0.23269689209998975, 0.21664883057585255, 0.1845527075275781, 0.2006007690517153, 0.16048061524137225, 0.23915163959688324, 0.22320819695709104, 0.1833495903576105, 0.1833495903576105, 0.16740614771781828, 0.2285386404186689, 0.21277735487255378, 0.20489671209949625, 0.1970160693264387, 0.15761285546115095, 0.2574823457030475, 0.2340748597300432, 0.19506238310836932, 0.16385240181103022, 0.14824741116236068, 0.26546058315074283, 0.23422992630947898, 0.20299926946821512, 0.16396094841663528, 0.1405379557856874, 0.23586007461047587, 0.22013606963644416, 0.1886880596883807, 0.1886880596883807, 0.16510205222733312, 0.25708125727235026, 0.24150057501341993, 0.1869681871071638, 0.1713875048482335, 0.148016481459838, 0.25840334297612816, 0.2505729386435182, 0.18792970398263867, 0.15660808665219889, 0.14877768231958893, 0.2533123869718568, 0.23028398815623344, 0.19957945640206898, 0.1611987917093634, 0.1611987917093634, 0.24474684780176575, 0.23709850880796057, 0.1988568138389347, 0.17591179685751915, 0.13767010188849324, 0.24892237207612344, 0.24892237207612344, 0.19447060318447146, 0.163355306674956, 0.1477976584201983, 0.23388887310058176, 0.2104999857905236, 0.23388887310058176, 0.16372221117040725, 0.15592591540038786, 0.24107668245573471, 0.2250049036253524, 0.2089331247949701, 0.16071778830382313, 0.1687536777190143, 0.25161558996604216, 0.2280266284067257, 0.19657467966097042, 0.14939675654233753, 0.16512273091521515, 0.22694511154969943, 0.2112937245462719, 0.20346803104455813, 0.19564233754284435, 0.16433956353598925, 0.247631424721007, 0.2244159786534126, 0.19346205056328672, 0.16250812247316082, 0.17024660449569232, 0.2317542638649641, 0.21630397960729983, 0.2317542638649641, 0.169953126834307, 0.16222798470547486, 0.2633178929163708, 0.23233931727915072, 0.19361609773262559, 0.1626375220954055, 0.15489287818610048, 0.21357763868265658, 0.21357763868265658, 0.237308487425174, 0.17402622411179428, 0.15820565828344932, 0.2360490528119581, 0.2208200816627995, 0.2284345672373788, 0.16751868264074446, 0.15228971149158588, 0.22912990888826548, 0.22122887754729081, 0.1975257835243668, 0.1975257835243668, 0.15802062681949344, 0.212547031289569, 0.212547031289569, 0.23616336809952113, 0.18105858220963286, 0.15744224539968074, 0.23353971389028272, 0.21018574250125444, 0.23353971389028272, 0.1634777997231979, 0.1634777997231979, 0.24393022617688953, 0.2360615092034415, 0.18098049038930514, 0.1731117734158571, 0.15737433946896098, 0.2515564203625539, 0.23583414408989428, 0.19652845340824524, 0.165083900862926, 0.14936162459026636, 0.2505320316732082, 0.2348737796936327, 0.18789902375490616, 0.1644116457855429, 0.15658251979575513, 0.24078157405543552, 0.22472946911840647, 0.18459920677583389, 0.18459920677583389, 0.16854710183880486, 0.25467432453657574, 0.23923951698890447, 0.1852176905720551, 0.1620654792505482, 0.15434807547671256, 0.24224400682775873, 0.22661536122596784, 0.2031723928232815, 0.1641007788188043, 0.17191510161969975, 0.23226295524081073, 0.21677875822475667, 0.23226295524081073, 0.1625840686685675, 0.1625840686685675, 0.2263574882293602, 0.21074662697216293, 0.2341629188579588, 0.1717194738291698, 0.15610861257197253, 0.24752830724093988, 0.23979304763966053, 0.1856462304307049, 0.17017571122814618, 0.1624404516268668, 0.2332200049043636, 0.21767200457740601, 0.19435000408696965, 0.19435000408696965, 0.15548000326957573, 0.2514584818819457, 0.2357423267643241, 0.1807357838526485, 0.16501962873502687, 0.15716155117621608, 0.22515771419601363, 0.21739365508580627, 0.20186553686539155, 0.19410147775518416, 0.15528118220414733, 0.24621126831263582, 0.23851716617786595, 0.19235255336924673, 0.16927024696493712, 0.15388204269539738, 0.22917823511925067, 0.21337283959378509, 0.23708093288198345, 0.15805395525465563, 0.1659566530173884, 0.24824822851844347, 0.2404904713772421, 0.2017016856712353, 0.16291289996522854, 0.13963962854162446, 0.24308073190016616, 0.23523941796790274, 0.18819153437432218, 0.17250890650979533, 0.1646675925775319, 0.23886097685534038, 0.222936911731651, 0.1831267489224276, 0.1831267489224276, 0.16720268379873826, 0.24785362993950946, 0.23236277806829012, 0.19363564839024175, 0.16265394464780308, 0.16265394464780308, 0.25634925414058357, 0.23373020230464972, 0.18849209863278205, 0.1658730467968482, 0.15079367890622564, 0.2579671711456688, 0.21888123612359778, 0.2032468621147694, 0.17979530110152675, 0.14070936607945572, 0.23274881375645412, 0.20867135026440714, 0.1926197079363758, 0.1926197079363758, 0.16051642328031318, 0.2340076264576673, 0.21840711802715615, 0.1950063553813894, 0.1950063553813894, 0.15600508430511154, 0.23429691274803086, 0.23429691274803086, 0.20305732438162674, 0.15619794183202057, 0.17181773601522263, 0.22464551304466715, 0.20915271904158667, 0.2014063220400464, 0.2014063220400464, 0.16267433703234518, 0.2585611921788549, 0.23505562925350448, 0.19587969104458708, 0.17237412811923664, 0.14103337755210268, 0.22762625969261174, 0.22003871770285802, 0.22762625969261174, 0.16692592377458196, 0.15933838178482823, 0.2552069423906122, 0.2320063112641929, 0.19333859272016074, 0.17013796159374145, 0.14693733046732216, 0.2757112755931437, 0.23741804287187374, 0.1914661636063498, 0.15317293088507983, 0.14551428434082583, 0.26626283898934067, 0.24344030993311147, 0.19018774213524334, 0.15215019370819466, 0.14454268402278495, 0.24533496085076112, 0.23766824332417483, 0.19166793816465713, 0.16866778558489828, 0.161001068058312, 0.23915282618334713, 0.2152375435650124, 0.18335050007389947, 0.1913222609466777, 0.16740697832834298, 0.22526866322109046, 0.21750077828243217, 0.21750077828243217, 0.1941971234664573, 0.13982192889584927, 0.24785301776940508, 0.22386724185623683, 0.18389094866762312, 0.17589569002990038, 0.17589569002990038, 0.2357798040007289, 0.2200611504006803, 0.212201823600656, 0.15718653600048593, 0.17290518960053453, 0.23266831041864217, 0.217157089724066, 0.20940147937677794, 0.17062342764033758, 0.1628678172930495, 0.23146301092869287, 0.21550004465774852, 0.18357411211585986, 0.191555595251332, 0.16761114584491552, 0.242221580105588, 0.2179994220950292, 0.2179994220950292, 0.15340700073353908, 0.1695551060739116, 0.2341124673760984, 0.21796677997085023, 0.21796677997085023, 0.16145687405248166, 0.16952971775510572, 0.2270971946621735, 0.21926625691520202, 0.23492813240914504, 0.15661875493943, 0.16444969268640153, 0.24116042454642642, 0.225083062909998, 0.19292833963714115, 0.1688122971824985, 0.1688122971824985, 0.22817074529136028, 0.2124348318229906, 0.2360387020255451, 0.16522709141788158, 0.16522709141788158, 0.24775060841042323, 0.2400084018975975, 0.19355516282064317, 0.16258633676934026, 0.15484413025651453, 0.2261355667193396, 0.2105400103938679, 0.2261355667193396, 0.16375334141745282, 0.16375334141745282, 0.24011228985927702, 0.21610106087334932, 0.18408608889211237, 0.1920898318874216, 0.1680786029014939, 0.23164001614075325, 0.2084760145266779, 0.23164001614075325, 0.16214801129852727, 0.16214801129852727, 0.24122476841440152, 0.23368649440145148, 0.20353339834965128, 0.18091857631080113, 0.1432272062460509, 0.2499346618407022, 0.24212420365818027, 0.20307191274557054, 0.16401962183296084, 0.14058824728539498, 0.22449923141260206, 0.21675787860527093, 0.23998193702726425, 0.16256840895395322, 0.16256840895395322, 0.2269548105852666, 0.2113027546828344, 0.23478083853648268, 0.17217261492675398, 0.1565205590243218, 0.2432395162220799, 0.2356382813401399, 0.20523334181237993, 0.17482840228461993, 0.14442346275685994, 0.22585260596017998, 0.21027656416982274, 0.23364062685535858, 0.17133645969392963, 0.1557604179035724, 0.2243094092944781, 0.21657460207742713, 0.23204421651152907, 0.16243095155807036, 0.1546961443410194, 0.2528028042693222, 0.23700262900248958, 0.197502190835408, 0.1580017526683264, 0.15010166503491007, 0.22890037550249495, 0.21311414270921944, 0.18943479351930614, 0.19732790991594393, 0.16575544432939288, 0.23031496288213116, 0.2223730676103335, 0.1826635912513454, 0.19854738179494064, 0.16677980070775014, 0.22652674777261533, 0.21090421344346943, 0.23433801493718825, 0.1640366104560318, 0.15622534329145885, 0.2485924120923801, 0.24057330202488394, 0.19245864161990717, 0.16038220134992262, 0.16038220134992262, 0.257150383192277, 0.23377307562934277, 0.1870184605034742, 0.1558487170862285, 0.1558487170862285, 0.23635189249910157, 0.22059509966582813, 0.18908151399928128, 0.19695991041591798, 0.1575679283327344, 0.2286808096548723, 0.21290971933384661, 0.2050241741733338, 0.19713862901282095, 0.1655964483707696, 0.22908499770476518, 0.2138126645244475, 0.22908499770476518, 0.16799566498349447, 0.16035949839333563, 0.22759448730249582, 0.2040502299953411, 0.2354425730715474, 0.16480980115008317, 0.16480980115008317, 0.24840393086632026, 0.22511606234760273, 0.1940655709893127, 0.17077770247059518, 0.17077770247059518, 0.23063178789000865, 0.2075686091010078, 0.2075686091010078, 0.1998808828380075, 0.14606679899700548, 0.2536917470321058, 0.2383164896362206, 0.192190717448565, 0.1614402026567946, 0.153752573958852, 0.2296514543989184, 0.22199640591895445, 0.1990312604790626, 0.1990312604790626, 0.15310096959927894, 0.23773219104843415, 0.21395897194359073, 0.18226134647046618, 0.19811015920702846, 0.1664125337339039, 0.23398176533233112, 0.21784509186113585, 0.18557174491874537, 0.2017084183899406, 0.16136673471195248, 0.2281507759146841, 0.21241623964470588, 0.19668170337472768, 0.19668170337472768, 0.16521263083477125, 0.26554572244578706, 0.24278466052186248, 0.18967551603270505, 0.15932743346747225, 0.14415339218485584, 0.24326166386145612, 0.22756736296716862, 0.19617876117859365, 0.16479015939001865, 0.1726373098371624, 0.24007471519739693, 0.23257238034747826, 0.2100653757977223, 0.16505136669821038, 0.15004669699837309, 0.21746858785131928, 0.24076879369253207, 0.20970185257091503, 0.17863491144929797, 0.1553347056080852, 0.23030434468746172, 0.2149507217082976, 0.23798115617704377, 0.1612130412812232, 0.1612130412812232, 0.2326030202031666, 0.21709615218962214, 0.2326030202031666, 0.17057554814898881, 0.1550686801354444, 0.2440322910820225, 0.22041626291279454, 0.1889282253538239, 0.19680023474356653, 0.15744018779485322, 0.23462049008550603, 0.21191528136755386, 0.22705208717952197, 0.16650486393164945, 0.1589364610256654, 0.2578049813593225, 0.2343681648721114, 0.1874945318976891, 0.16405771541047798, 0.15624544324807427, 0.23069358170926452, 0.2147836795224187, 0.2147836795224187, 0.19887377733557285, 0.13523416858818954, 0.22607059627589018, 0.21827505847327328, 0.2338661340785071, 0.16370629385495497, 0.16370629385495497, 0.24231254998276242, 0.22615837998391158, 0.1857729549867845, 0.1857729549867845, 0.16961878498793367, 0.2213643711258477, 0.20609786277234096, 0.22899762530260107, 0.19083135441883423, 0.14503182935831402, 0.25487191624724215, 0.23170174204294738, 0.1853613936343579, 0.16991461083149476, 0.1544678280286316, 0.2575747107089686, 0.23415882791724416, 0.2029376508616116, 0.17171647380597904, 0.13269000248643836, 0.22858568029454354, 0.20493888578131492, 0.22070341545680067, 0.20493888578131492, 0.14976303191711474, 0.24299002367369474, 0.2116364722319277, 0.19595969651104414, 0.17244453292971884, 0.1646061450692771, 0.23256723588632164, 0.2170627534939002, 0.23256723588632164, 0.16279706512042513, 0.15504482392421443, 0.22744789212147332, 0.2117618305958545, 0.23529092288428274, 0.16470364601899792, 0.1568606152561885, 0.2392576229600188, 0.2153318606640169, 0.19140609836801503, 0.19140609836801503, 0.16748033607201315, 0.23562609975382487, 0.21206348977844236, 0.23562609975382487, 0.1649382698276774, 0.1570840665025499, 0.23468784703044662, 0.21121906232740195, 0.1877502776243573, 0.20339613409305374, 0.15645856468696442, 0.23687578269664167, 0.22870765225882644, 0.1878670000697503, 0.17969886963193507, 0.17153073919411985, 0.22691556919517028, 0.21126621959550337, 0.23474024399500373, 0.17214284559633608, 0.15649349599666917, 0.23389735186663255, 0.22610077347107815, 0.2105076166799693, 0.15593156791108836, 0.16372814630664279, 0.23082713405587837, 0.21543865845215315, 0.23082713405587837, 0.16927323164097746, 0.16157899383911487, 0.2535479838108775, 0.23049816710079776, 0.21513162262741123, 0.16903198920725168, 0.13829890026047864, 0.2396371049386047, 0.22366129794269773, 0.18372178045293028, 0.19170968395088375, 0.1677459734570233, 0.259581734785373, 0.22811728208411566, 0.19665282938285833, 0.15732226350628667, 0.15732226350628667, 0.24866716554939353, 0.24089631662597497, 0.20204207200888225, 0.15541697846837094, 0.15541697846837094, 0.22431219487711732, 0.21657729160549258, 0.23204709814874205, 0.17790277524736892, 0.14696316216086996, 0.2544146628956418, 0.2312860571778562, 0.19273838098154683, 0.16190024002449932, 0.16190024002449932, 0.2408450840630553, 0.21753749528275965, 0.2097682990226611, 0.15538392520197117, 0.1709223177221683, 0.2270208796775651, 0.219192573481787, 0.1957076548944527, 0.1957076548944527, 0.15656612391556213, 0.23194020147953168, 0.21647752138089624, 0.23194020147953168, 0.1700894810849899, 0.15462680098635445, 0.2583788136573039, 0.23488983059754903, 0.18791186447803923, 0.17225254243820262, 0.1487635593784477, 0.23183833415457672, 0.20865450073911904, 0.23183833415457672, 0.1622868339082037, 0.1622868339082037, 0.23408677321908586, 0.21067809589717726, 0.1950723110159049, 0.1950723110159049, 0.1638607412533601, 0.22895722544150995, 0.21316707196278512, 0.23685230218087236, 0.16579661152661065, 0.16579661152661065, 0.25620371599104913, 0.23291246908277194, 0.20185747320506903, 0.1708024773273661, 0.13974748144966317, 0.2596016986914546, 0.23600154426495873, 0.19666795355413227, 0.14946764470114055, 0.16520108098547112, 0.25581265332799336, 0.23255695757090303, 0.1937974646424192, 0.1705417688853289, 0.14728607312823858], \"Term\": [\"affair\", \"affair\", \"affair\", \"affair\", \"affair\", \"ahead\", \"ahead\", \"ahead\", \"ahead\", \"ahead\", \"also\", \"also\", \"also\", \"also\", \"also\", \"area\", \"area\", \"area\", \"area\", \"area\", \"army\", \"army\", \"army\", \"army\", \"army\", \"around\", \"around\", \"around\", \"around\", \"around\", \"asshole\", \"asshole\", \"asshole\", \"asshole\", \"asshole\", \"attack\", \"attack\", \"attack\", \"attack\", \"attack\", \"babies\", \"babies\", \"babies\", \"babies\", \"babies\", \"baby\", \"baby\", \"baby\", \"baby\", \"baby\", \"bathroom\", \"bathroom\", \"bathroom\", \"bathroom\", \"bathroom\", \"battle\", \"battle\", \"battle\", \"battle\", \"battle\", \"better\", \"better\", \"better\", \"better\", \"better\", \"bilingual\", \"bilingual\", \"bilingual\", \"bilingual\", \"bilingual\", \"bill\", \"bill\", \"bill\", \"bill\", \"bill\", \"bills\", \"bills\", \"bills\", \"bills\", \"bills\", \"bitches\", \"bitches\", \"bitches\", \"bitches\", \"bitches\", \"bleed\", \"bleed\", \"bleed\", \"bleed\", \"bleed\", \"body\", \"body\", \"body\", \"body\", \"body\", \"bone\", \"bone\", \"bone\", \"bone\", \"bone\", \"book\", \"book\", \"book\", \"book\", \"book\", \"bottle\", \"bottle\", \"bottle\", \"bottle\", \"bottle\", \"box\", \"box\", \"box\", \"box\", \"box\", \"bucket\", \"bucket\", \"bucket\", \"bucket\", \"bucket\", \"bucks\", \"bucks\", \"bucks\", \"bucks\", \"bucks\", \"bud\", \"bud\", \"bud\", \"bud\", \"bud\", \"busted\", \"busted\", \"busted\", \"busted\", \"busted\", \"bustin\", \"bustin\", \"bustin\", \"bustin\", \"bustin\", \"busting\", \"busting\", \"busting\", \"busting\", \"busting\", \"busy\", \"busy\", \"busy\", \"busy\", \"busy\", \"cars\", \"cars\", \"cars\", \"cars\", \"cars\", \"case\", \"case\", \"case\", \"case\", \"case\", \"cash\", \"cash\", \"cash\", \"cash\", \"cash\", \"catchin\", \"catchin\", \"catchin\", \"catchin\", \"catchin\", \"chain\", \"chain\", \"chain\", \"chain\", \"chain\", \"child\", \"child\", \"child\", \"child\", \"child\", \"chillin\", \"chillin\", \"chillin\", \"chillin\", \"chillin\", \"choke\", \"choke\", \"choke\", \"choke\", \"choke\", \"cocked\", \"cocked\", \"cocked\", \"cocked\", \"cocked\", \"cos\", \"cos\", \"cos\", \"cos\", \"cos\", \"county\", \"county\", \"county\", \"county\", \"county\", \"crazy\", \"crazy\", \"crazy\", \"crazy\", \"crazy\", \"cross\", \"cross\", \"cross\", \"cross\", \"cross\", \"cuss\", \"cuss\", \"cuss\", \"cuss\", \"cuss\", \"deal\", \"deal\", \"deal\", \"deal\", \"deal\", \"dedicated\", \"dedicated\", \"dedicated\", \"dedicated\", \"dedicated\", \"devil\", \"devil\", \"devil\", \"devil\", \"devil\", \"die\", \"die\", \"die\", \"die\", \"die\", \"dirty\", \"dirty\", \"dirty\", \"dirty\", \"dirty\", \"dj\", \"dj\", \"dj\", \"dj\", \"dj\", \"dogs\", \"dogs\", \"dogs\", \"dogs\", \"dogs\", \"done\", \"done\", \"done\", \"done\", \"done\", \"dopeman\", \"dopeman\", \"dopeman\", \"dopeman\", \"dopeman\", \"drunk\", \"drunk\", \"drunk\", \"drunk\", \"drunk\", \"dust\", \"dust\", \"dust\", \"dust\", \"dust\", \"dying\", \"dying\", \"dying\", \"dying\", \"dying\", \"eat\", \"eat\", \"eat\", \"eat\", \"eat\", \"eazy\", \"eazy\", \"eazy\", \"eazy\", \"eazy\", \"em\", \"em\", \"em\", \"em\", \"em\", \"escape\", \"escape\", \"escape\", \"escape\", \"escape\", \"face\", \"face\", \"face\", \"face\", \"face\", \"fate\", \"fate\", \"fate\", \"fate\", \"fate\", \"feels\", \"feels\", \"feels\", \"feels\", \"feels\", \"fish\", \"fish\", \"fish\", \"fish\", \"fish\", \"flip\", \"flip\", \"flip\", \"flip\", \"flip\", \"funk\", \"funk\", \"funk\", \"funk\", \"funk\", \"funny\", \"funny\", \"funny\", \"funny\", \"funny\", \"gang\", \"gang\", \"gang\", \"gang\", \"gang\", \"gats\", \"gats\", \"gats\", \"gats\", \"gats\", \"girl\", \"girl\", \"girl\", \"girl\", \"girl\", \"go\", \"go\", \"go\", \"go\", \"go\", \"good\", \"good\", \"good\", \"good\", \"good\", \"greed\", \"greed\", \"greed\", \"greed\", \"greed\", \"grill\", \"grill\", \"grill\", \"grill\", \"grill\", \"gutfest\", \"gutfest\", \"gutfest\", \"gutfest\", \"gutfest\", \"hearts\", \"hearts\", \"hearts\", \"hearts\", \"hearts\", \"help\", \"help\", \"help\", \"help\", \"help\", \"hi\", \"hi\", \"hi\", \"hi\", \"hi\", \"hill\", \"hill\", \"hill\", \"hill\", \"hill\", \"history\", \"history\", \"history\", \"history\", \"history\", \"holler\", \"holler\", \"holler\", \"holler\", \"holler\", \"honey\", \"honey\", \"honey\", \"honey\", \"honey\", \"huh\", \"huh\", \"huh\", \"huh\", \"huh\", \"insane\", \"insane\", \"insane\", \"insane\", \"insane\", \"instead\", \"instead\", \"instead\", \"instead\", \"instead\", \"jaw\", \"jaw\", \"jaw\", \"jaw\", \"jaw\", \"ki\", \"ki\", \"ki\", \"ki\", \"ki\", \"kicked\", \"kicked\", \"kicked\", \"kicked\", \"kicked\", \"killed\", \"killed\", \"killed\", \"killed\", \"killed\", \"kiss\", \"kiss\", \"kiss\", \"kiss\", \"kiss\", \"knowin\", \"knowin\", \"knowin\", \"knowin\", \"knowin\", \"known\", \"known\", \"known\", \"known\", \"known\", \"later\", \"later\", \"later\", \"later\", \"later\", \"leavin\", \"leavin\", \"leavin\", \"leavin\", \"leavin\", \"lench\", \"lench\", \"lench\", \"lench\", \"lench\", \"letter\", \"letter\", \"letter\", \"letter\", \"letter\", \"lettin\", \"lettin\", \"lettin\", \"lettin\", \"lettin\", \"lies\", \"lies\", \"lies\", \"lies\", \"lies\", \"line\", \"line\", \"line\", \"line\", \"line\", \"liquor\", \"liquor\", \"liquor\", \"liquor\", \"liquor\", \"list\", \"list\", \"list\", \"list\", \"list\", \"lived\", \"lived\", \"lived\", \"lived\", \"lived\", \"loop\", \"loop\", \"loop\", \"loop\", \"loop\", \"lyrical\", \"lyrical\", \"lyrical\", \"lyrical\", \"lyrical\", \"mad\", \"mad\", \"mad\", \"mad\", \"mad\", \"man\", \"man\", \"man\", \"man\", \"man\", \"microphone\", \"microphone\", \"microphone\", \"microphone\", \"microphone\", \"mind\", \"mind\", \"mind\", \"mind\", \"mind\", \"miss\", \"miss\", \"miss\", \"miss\", \"miss\", \"motel\", \"motel\", \"motel\", \"motel\", \"motel\", \"murder\", \"murder\", \"murder\", \"murder\", \"murder\", \"naw\", \"naw\", \"naw\", \"naw\", \"naw\", \"negro\", \"negro\", \"negro\", \"negro\", \"negro\", \"neighborhood\", \"neighborhood\", \"neighborhood\", \"neighborhood\", \"neighborhood\", \"new\", \"new\", \"new\", \"new\", \"new\", \"news\", \"news\", \"news\", \"news\", \"news\", \"nowhere\", \"nowhere\", \"nowhere\", \"nowhere\", \"nowhere\", \"oak\", \"oak\", \"oak\", \"oak\", \"oak\", \"ounce\", \"ounce\", \"ounce\", \"ounce\", \"ounce\", \"outlaw\", \"outlaw\", \"outlaw\", \"outlaw\", \"outlaw\", \"pain\", \"pain\", \"pain\", \"pain\", \"pain\", \"panic\", \"panic\", \"panic\", \"panic\", \"panic\", \"pay\", \"pay\", \"pay\", \"pay\", \"pay\", \"pictures\", \"pictures\", \"pictures\", \"pictures\", \"pictures\", \"planet\", \"planet\", \"planet\", \"planet\", \"planet\", \"plans\", \"plans\", \"plans\", \"plans\", \"plans\", \"po\", \"po\", \"po\", \"po\", \"po\", \"popped\", \"popped\", \"popped\", \"popped\", \"popped\", \"pro\", \"pro\", \"pro\", \"pro\", \"pro\", \"pulled\", \"pulled\", \"pulled\", \"pulled\", \"pulled\", \"pulling\", \"pulling\", \"pulling\", \"pulling\", \"pulling\", \"queen\", \"queen\", \"queen\", \"queen\", \"queen\", \"radio\", \"radio\", \"radio\", \"radio\", \"radio\", \"rain\", \"rain\", \"rain\", \"rain\", \"rain\", \"rappers\", \"rappers\", \"rappers\", \"rappers\", \"rappers\", \"reality\", \"reality\", \"reality\", \"reality\", \"reality\", \"realize\", \"realize\", \"realize\", \"realize\", \"realize\", \"rebel\", \"rebel\", \"rebel\", \"rebel\", \"rebel\", \"relax\", \"relax\", \"relax\", \"relax\", \"relax\", \"released\", \"released\", \"released\", \"released\", \"released\", \"rings\", \"rings\", \"rings\", \"rings\", \"rings\", \"rocked\", \"rocked\", \"rocked\", \"rocked\", \"rocked\", \"rockin\", \"rockin\", \"rockin\", \"rockin\", \"rockin\", \"roll\", \"roll\", \"roll\", \"roll\", \"roll\", \"rules\", \"rules\", \"rules\", \"rules\", \"rules\", \"save\", \"save\", \"save\", \"save\", \"save\", \"scooby\", \"scooby\", \"scooby\", \"scooby\", \"scooby\", \"screen\", \"screen\", \"screen\", \"screen\", \"screen\", \"sellin\", \"sellin\", \"sellin\", \"sellin\", \"sellin\", \"serious\", \"serious\", \"serious\", \"serious\", \"serious\", \"serve\", \"serve\", \"serve\", \"serve\", \"serve\", \"set\", \"set\", \"set\", \"set\", \"set\", \"sex\", \"sex\", \"sex\", \"sex\", \"sex\", \"shot\", \"shot\", \"shot\", \"shot\", \"shot\", \"shows\", \"shows\", \"shows\", \"shows\", \"shows\", \"sir\", \"sir\", \"sir\", \"sir\", \"sir\", \"sitting\", \"sitting\", \"sitting\", \"sitting\", \"sitting\", \"slugs\", \"slugs\", \"slugs\", \"slugs\", \"slugs\", \"solo\", \"solo\", \"solo\", \"solo\", \"solo\", \"souls\", \"souls\", \"souls\", \"souls\", \"souls\", \"stack\", \"stack\", \"stack\", \"stack\", \"stack\", \"strapped\", \"strapped\", \"strapped\", \"strapped\", \"strapped\", \"stroll\", \"stroll\", \"stroll\", \"stroll\", \"stroll\", \"suck\", \"suck\", \"suck\", \"suck\", \"suck\", \"suicide\", \"suicide\", \"suicide\", \"suicide\", \"suicide\", \"sunrise\", \"sunrise\", \"sunrise\", \"sunrise\", \"sunrise\", \"task\", \"task\", \"task\", \"task\", \"task\", \"team\", \"team\", \"team\", \"team\", \"team\", \"threw\", \"threw\", \"threw\", \"threw\", \"threw\", \"tie\", \"tie\", \"tie\", \"tie\", \"tie\", \"tiempo\", \"tiempo\", \"tiempo\", \"tiempo\", \"tiempo\", \"til\", \"til\", \"til\", \"til\", \"til\", \"tonight\", \"tonight\", \"tonight\", \"tonight\", \"tonight\", \"train\", \"train\", \"train\", \"train\", \"train\", \"tried\", \"tried\", \"tried\", \"tried\", \"tried\", \"trigger\", \"trigger\", \"trigger\", \"trigger\", \"trigger\", \"trip\", \"trip\", \"trip\", \"trip\", \"trip\", \"triple\", \"triple\", \"triple\", \"triple\", \"triple\", \"trippin\", \"trippin\", \"trippin\", \"trippin\", \"trippin\", \"trouble\", \"trouble\", \"trouble\", \"trouble\", \"trouble\", \"turned\", \"turned\", \"turned\", \"turned\", \"turned\", \"twelve\", \"twelve\", \"twelve\", \"twelve\", \"twelve\", \"uh\", \"uh\", \"uh\", \"uh\", \"uh\", \"use\", \"use\", \"use\", \"use\", \"use\", \"voice\", \"voice\", \"voice\", \"voice\", \"voice\", \"wanna\", \"wanna\", \"wanna\", \"wanna\", \"wanna\", \"wealth\", \"wealth\", \"wealth\", \"wealth\", \"wealth\", \"weapon\", \"weapon\", \"weapon\", \"weapon\", \"weapon\", \"wear\", \"wear\", \"wear\", \"wear\", \"wear\", \"whether\", \"whether\", \"whether\", \"whether\", \"whether\", \"whore\", \"whore\", \"whore\", \"whore\", \"whore\", \"win\", \"win\", \"win\", \"win\", \"win\", \"women\", \"women\", \"women\", \"women\", \"women\", \"yeah\", \"yeah\", \"yeah\", \"yeah\", \"yeah\", \"yeahhy\", \"yeahhy\", \"yeahhy\", \"yeahhy\", \"yeahhy\", \"yeahth\", \"yeahth\", \"yeahth\", \"yeahth\", \"yeahth\"]}, \"R\": 30, \"lambda.step\": 0.01, \"plot.opts\": {\"xlab\": \"PC1\", \"ylab\": \"PC2\"}, \"topic.order\": [3, 4, 2, 5, 1]};\n\nfunction LDAvis_load_lib(url, callback){\n  var s = document.createElement('script');\n  s.src = url;\n  s.async = true;\n  s.onreadystatechange = s.onload = callback;\n  s.onerror = function(){console.warn(\"failed to load library \" + url);};\n  document.getElementsByTagName(\"head\")[0].appendChild(s);\n}\n\nif(typeof(LDAvis) !== \"undefined\"){\n   // already loaded: just create the visualization\n   !function(LDAvis){\n       new LDAvis(\"#\" + \"ldavis_el1771161055366563157293524\", ldavis_el1771161055366563157293524_data);\n   }(LDAvis);\n}else if(typeof define === \"function\" && define.amd){\n   // require.js is available: use it to load d3/LDAvis\n   require.config({paths: {d3: \"https://d3js.org/d3.v5\"}});\n   require([\"d3\"], function(d3){\n      window.d3 = d3;\n      LDAvis_load_lib(\"https://cdn.jsdelivr.net/gh/bmabey/pyLDAvis@3.4.0/pyLDAvis/js/ldavis.v3.0.0.js\", function(){\n        new LDAvis(\"#\" + \"ldavis_el1771161055366563157293524\", ldavis_el1771161055366563157293524_data);\n      });\n    });\n}else{\n    // require.js not available: dynamically load d3 & LDAvis\n    LDAvis_load_lib(\"https://d3js.org/d3.v5.js\", function(){\n         LDAvis_load_lib(\"https://cdn.jsdelivr.net/gh/bmabey/pyLDAvis@3.4.0/pyLDAvis/js/ldavis.v3.0.0.js\", function(){\n                 new LDAvis(\"#\" + \"ldavis_el1771161055366563157293524\", ldavis_el1771161055366563157293524_data);\n            })\n         });\n}\n</script>"
     },
     "execution_count": 11,
     "metadata": {},
     "output_type": "execute_result"
    }
   ],
   "source": [
    "vis.display(ctm_pd_west)"
   ],
   "metadata": {
    "collapsed": false,
    "ExecuteTime": {
     "end_time": "2024-03-27T13:39:27.137967Z",
     "start_time": "2024-03-27T13:39:27.129770Z"
    }
   },
   "id": "997aa465d5a72785"
  },
  {
   "cell_type": "code",
   "execution_count": 216,
   "outputs": [
    {
     "name": "stderr",
     "output_type": "stream",
     "text": [
      "0it [00:00, ?it/s]huggingface/tokenizers: The current process just got forked, after parallelism has already been used. Disabling parallelism to avoid deadlocks...\n",
      "To disable this warning, you can either:\n",
      "\t- Avoid using `tokenizers` before the fork if possible\n",
      "\t- Explicitly set the environment variable TOKENIZERS_PARALLELISM=(true | false)\n",
      "huggingface/tokenizers: The current process just got forked, after parallelism has already been used. Disabling parallelism to avoid deadlocks...\n",
      "To disable this warning, you can either:\n",
      "\t- Avoid using `tokenizers` before the fork if possible\n",
      "\t- Explicitly set the environment variable TOKENIZERS_PARALLELISM=(true | false)\n",
      "huggingface/tokenizers: The current process just got forked, after parallelism has already been used. Disabling parallelism to avoid deadlocks...\n",
      "To disable this warning, you can either:\n",
      "\t- Avoid using `tokenizers` before the fork if possible\n",
      "\t- Explicitly set the environment variable TOKENIZERS_PARALLELISM=(true | false)\n",
      "huggingface/tokenizers: The current process just got forked, after parallelism has already been used. Disabling parallelism to avoid deadlocks...\n",
      "To disable this warning, you can either:\n",
      "\t- Avoid using `tokenizers` before the fork if possible\n",
      "\t- Explicitly set the environment variable TOKENIZERS_PARALLELISM=(true | false)\n",
      "huggingface/tokenizers: The current process just got forked, after parallelism has already been used. Disabling parallelism to avoid deadlocks...\n",
      "To disable this warning, you can either:\n",
      "\t- Avoid using `tokenizers` before the fork if possible\n",
      "\t- Explicitly set the environment variable TOKENIZERS_PARALLELISM=(true | false)\n",
      "huggingface/tokenizers: The current process just got forked, after parallelism has already been used. Disabling parallelism to avoid deadlocks...\n",
      "To disable this warning, you can either:\n",
      "\t- Avoid using `tokenizers` before the fork if possible\n",
      "\t- Explicitly set the environment variable TOKENIZERS_PARALLELISM=(true | false)\n",
      "huggingface/tokenizers: The current process just got forked, after parallelism has already been used. Disabling parallelism to avoid deadlocks...\n",
      "To disable this warning, you can either:\n",
      "\t- Avoid using `tokenizers` before the fork if possible\n",
      "\t- Explicitly set the environment variable TOKENIZERS_PARALLELISM=(true | false)\n",
      "huggingface/tokenizers: The current process just got forked, after parallelism has already been used. Disabling parallelism to avoid deadlocks...\n",
      "To disable this warning, you can either:\n",
      "\t- Avoid using `tokenizers` before the fork if possible\n",
      "\t- Explicitly set the environment variable TOKENIZERS_PARALLELISM=(true | false)\n",
      "Epoch: [1/10]\t Seen Samples: [640/6680]\tTrain Loss: 1769.9920776367187\tTime: 0:00:47.842756: : 1it [00:47, 47.84s/it]huggingface/tokenizers: The current process just got forked, after parallelism has already been used. Disabling parallelism to avoid deadlocks...\n",
      "To disable this warning, you can either:\n",
      "\t- Avoid using `tokenizers` before the fork if possible\n",
      "\t- Explicitly set the environment variable TOKENIZERS_PARALLELISM=(true | false)\n",
      "huggingface/tokenizers: The current process just got forked, after parallelism has already been used. Disabling parallelism to avoid deadlocks...\n",
      "To disable this warning, you can either:\n",
      "\t- Avoid using `tokenizers` before the fork if possible\n",
      "\t- Explicitly set the environment variable TOKENIZERS_PARALLELISM=(true | false)\n",
      "huggingface/tokenizers: The current process just got forked, after parallelism has already been used. Disabling parallelism to avoid deadlocks...\n",
      "To disable this warning, you can either:\n",
      "\t- Avoid using `tokenizers` before the fork if possible\n",
      "\t- Explicitly set the environment variable TOKENIZERS_PARALLELISM=(true | false)\n",
      "huggingface/tokenizers: The current process just got forked, after parallelism has already been used. Disabling parallelism to avoid deadlocks...\n",
      "To disable this warning, you can either:\n",
      "\t- Avoid using `tokenizers` before the fork if possible\n",
      "\t- Explicitly set the environment variable TOKENIZERS_PARALLELISM=(true | false)\n",
      "huggingface/tokenizers: The current process just got forked, after parallelism has already been used. Disabling parallelism to avoid deadlocks...\n",
      "To disable this warning, you can either:\n",
      "\t- Avoid using `tokenizers` before the fork if possible\n",
      "\t- Explicitly set the environment variable TOKENIZERS_PARALLELISM=(true | false)\n",
      "huggingface/tokenizers: The current process just got forked, after parallelism has already been used. Disabling parallelism to avoid deadlocks...\n",
      "To disable this warning, you can either:\n",
      "\t- Avoid using `tokenizers` before the fork if possible\n",
      "\t- Explicitly set the environment variable TOKENIZERS_PARALLELISM=(true | false)\n",
      "huggingface/tokenizers: The current process just got forked, after parallelism has already been used. Disabling parallelism to avoid deadlocks...\n",
      "To disable this warning, you can either:\n",
      "\t- Avoid using `tokenizers` before the fork if possible\n",
      "\t- Explicitly set the environment variable TOKENIZERS_PARALLELISM=(true | false)\n",
      "huggingface/tokenizers: The current process just got forked, after parallelism has already been used. Disabling parallelism to avoid deadlocks...\n",
      "To disable this warning, you can either:\n",
      "\t- Avoid using `tokenizers` before the fork if possible\n",
      "\t- Explicitly set the environment variable TOKENIZERS_PARALLELISM=(true | false)\n",
      "Epoch: [2/10]\t Seen Samples: [1280/6680]\tTrain Loss: 1766.45400390625\tTime: 0:00:47.301301: : 2it [01:35, 47.53s/it] huggingface/tokenizers: The current process just got forked, after parallelism has already been used. Disabling parallelism to avoid deadlocks...\n",
      "To disable this warning, you can either:\n",
      "\t- Avoid using `tokenizers` before the fork if possible\n",
      "\t- Explicitly set the environment variable TOKENIZERS_PARALLELISM=(true | false)\n",
      "huggingface/tokenizers: The current process just got forked, after parallelism has already been used. Disabling parallelism to avoid deadlocks...\n",
      "To disable this warning, you can either:\n",
      "\t- Avoid using `tokenizers` before the fork if possible\n",
      "\t- Explicitly set the environment variable TOKENIZERS_PARALLELISM=(true | false)\n",
      "huggingface/tokenizers: The current process just got forked, after parallelism has already been used. Disabling parallelism to avoid deadlocks...\n",
      "To disable this warning, you can either:\n",
      "\t- Avoid using `tokenizers` before the fork if possible\n",
      "\t- Explicitly set the environment variable TOKENIZERS_PARALLELISM=(true | false)\n",
      "huggingface/tokenizers: The current process just got forked, after parallelism has already been used. Disabling parallelism to avoid deadlocks...\n",
      "To disable this warning, you can either:\n",
      "\t- Avoid using `tokenizers` before the fork if possible\n",
      "\t- Explicitly set the environment variable TOKENIZERS_PARALLELISM=(true | false)\n",
      "huggingface/tokenizers: The current process just got forked, after parallelism has already been used. Disabling parallelism to avoid deadlocks...\n",
      "To disable this warning, you can either:\n",
      "\t- Avoid using `tokenizers` before the fork if possible\n",
      "\t- Explicitly set the environment variable TOKENIZERS_PARALLELISM=(true | false)\n",
      "huggingface/tokenizers: The current process just got forked, after parallelism has already been used. Disabling parallelism to avoid deadlocks...\n",
      "To disable this warning, you can either:\n",
      "\t- Avoid using `tokenizers` before the fork if possible\n",
      "\t- Explicitly set the environment variable TOKENIZERS_PARALLELISM=(true | false)\n",
      "huggingface/tokenizers: The current process just got forked, after parallelism has already been used. Disabling parallelism to avoid deadlocks...\n",
      "To disable this warning, you can either:\n",
      "\t- Avoid using `tokenizers` before the fork if possible\n",
      "\t- Explicitly set the environment variable TOKENIZERS_PARALLELISM=(true | false)\n",
      "huggingface/tokenizers: The current process just got forked, after parallelism has already been used. Disabling parallelism to avoid deadlocks...\n",
      "To disable this warning, you can either:\n",
      "\t- Avoid using `tokenizers` before the fork if possible\n",
      "\t- Explicitly set the environment variable TOKENIZERS_PARALLELISM=(true | false)\n",
      "Epoch: [3/10]\t Seen Samples: [1920/6680]\tTrain Loss: 1746.265673828125\tTime: 0:00:48.231527: : 3it [02:23, 47.85s/it]huggingface/tokenizers: The current process just got forked, after parallelism has already been used. Disabling parallelism to avoid deadlocks...\n",
      "To disable this warning, you can either:\n",
      "\t- Avoid using `tokenizers` before the fork if possible\n",
      "\t- Explicitly set the environment variable TOKENIZERS_PARALLELISM=(true | false)\n",
      "huggingface/tokenizers: The current process just got forked, after parallelism has already been used. Disabling parallelism to avoid deadlocks...\n",
      "To disable this warning, you can either:\n",
      "\t- Avoid using `tokenizers` before the fork if possible\n",
      "\t- Explicitly set the environment variable TOKENIZERS_PARALLELISM=(true | false)\n",
      "huggingface/tokenizers: The current process just got forked, after parallelism has already been used. Disabling parallelism to avoid deadlocks...\n",
      "To disable this warning, you can either:\n",
      "\t- Avoid using `tokenizers` before the fork if possible\n",
      "\t- Explicitly set the environment variable TOKENIZERS_PARALLELISM=(true | false)\n",
      "huggingface/tokenizers: The current process just got forked, after parallelism has already been used. Disabling parallelism to avoid deadlocks...\n",
      "To disable this warning, you can either:\n",
      "\t- Avoid using `tokenizers` before the fork if possible\n",
      "\t- Explicitly set the environment variable TOKENIZERS_PARALLELISM=(true | false)\n",
      "huggingface/tokenizers: The current process just got forked, after parallelism has already been used. Disabling parallelism to avoid deadlocks...\n",
      "To disable this warning, you can either:\n",
      "\t- Avoid using `tokenizers` before the fork if possible\n",
      "\t- Explicitly set the environment variable TOKENIZERS_PARALLELISM=(true | false)\n",
      "huggingface/tokenizers: The current process just got forked, after parallelism has already been used. Disabling parallelism to avoid deadlocks...\n",
      "To disable this warning, you can either:\n",
      "\t- Avoid using `tokenizers` before the fork if possible\n",
      "\t- Explicitly set the environment variable TOKENIZERS_PARALLELISM=(true | false)\n",
      "huggingface/tokenizers: The current process just got forked, after parallelism has already been used. Disabling parallelism to avoid deadlocks...\n",
      "To disable this warning, you can either:\n",
      "\t- Avoid using `tokenizers` before the fork if possible\n",
      "\t- Explicitly set the environment variable TOKENIZERS_PARALLELISM=(true | false)\n",
      "huggingface/tokenizers: The current process just got forked, after parallelism has already been used. Disabling parallelism to avoid deadlocks...\n",
      "To disable this warning, you can either:\n",
      "\t- Avoid using `tokenizers` before the fork if possible\n",
      "\t- Explicitly set the environment variable TOKENIZERS_PARALLELISM=(true | false)\n",
      "Epoch: [4/10]\t Seen Samples: [2560/6680]\tTrain Loss: 1759.8069213867188\tTime: 0:00:47.771300: : 4it [03:11, 47.82s/it]huggingface/tokenizers: The current process just got forked, after parallelism has already been used. Disabling parallelism to avoid deadlocks...\n",
      "To disable this warning, you can either:\n",
      "\t- Avoid using `tokenizers` before the fork if possible\n",
      "\t- Explicitly set the environment variable TOKENIZERS_PARALLELISM=(true | false)\n",
      "huggingface/tokenizers: The current process just got forked, after parallelism has already been used. Disabling parallelism to avoid deadlocks...\n",
      "To disable this warning, you can either:\n",
      "\t- Avoid using `tokenizers` before the fork if possible\n",
      "\t- Explicitly set the environment variable TOKENIZERS_PARALLELISM=(true | false)\n",
      "huggingface/tokenizers: The current process just got forked, after parallelism has already been used. Disabling parallelism to avoid deadlocks...\n",
      "To disable this warning, you can either:\n",
      "\t- Avoid using `tokenizers` before the fork if possible\n",
      "\t- Explicitly set the environment variable TOKENIZERS_PARALLELISM=(true | false)\n",
      "huggingface/tokenizers: The current process just got forked, after parallelism has already been used. Disabling parallelism to avoid deadlocks...\n",
      "To disable this warning, you can either:\n",
      "\t- Avoid using `tokenizers` before the fork if possible\n",
      "\t- Explicitly set the environment variable TOKENIZERS_PARALLELISM=(true | false)\n",
      "huggingface/tokenizers: The current process just got forked, after parallelism has already been used. Disabling parallelism to avoid deadlocks...\n",
      "To disable this warning, you can either:\n",
      "\t- Avoid using `tokenizers` before the fork if possible\n",
      "\t- Explicitly set the environment variable TOKENIZERS_PARALLELISM=(true | false)\n",
      "huggingface/tokenizers: The current process just got forked, after parallelism has already been used. Disabling parallelism to avoid deadlocks...\n",
      "To disable this warning, you can either:\n",
      "\t- Avoid using `tokenizers` before the fork if possible\n",
      "\t- Explicitly set the environment variable TOKENIZERS_PARALLELISM=(true | false)\n",
      "huggingface/tokenizers: The current process just got forked, after parallelism has already been used. Disabling parallelism to avoid deadlocks...\n",
      "To disable this warning, you can either:\n",
      "\t- Avoid using `tokenizers` before the fork if possible\n",
      "\t- Explicitly set the environment variable TOKENIZERS_PARALLELISM=(true | false)\n",
      "huggingface/tokenizers: The current process just got forked, after parallelism has already been used. Disabling parallelism to avoid deadlocks...\n",
      "To disable this warning, you can either:\n",
      "\t- Avoid using `tokenizers` before the fork if possible\n",
      "\t- Explicitly set the environment variable TOKENIZERS_PARALLELISM=(true | false)\n",
      "Epoch: [5/10]\t Seen Samples: [3200/6680]\tTrain Loss: 1757.9619262695312\tTime: 0:00:47.721613: : 5it [03:58, 47.79s/it]huggingface/tokenizers: The current process just got forked, after parallelism has already been used. Disabling parallelism to avoid deadlocks...\n",
      "To disable this warning, you can either:\n",
      "\t- Avoid using `tokenizers` before the fork if possible\n",
      "\t- Explicitly set the environment variable TOKENIZERS_PARALLELISM=(true | false)\n",
      "huggingface/tokenizers: The current process just got forked, after parallelism has already been used. Disabling parallelism to avoid deadlocks...\n",
      "To disable this warning, you can either:\n",
      "\t- Avoid using `tokenizers` before the fork if possible\n",
      "\t- Explicitly set the environment variable TOKENIZERS_PARALLELISM=(true | false)\n",
      "huggingface/tokenizers: The current process just got forked, after parallelism has already been used. Disabling parallelism to avoid deadlocks...\n",
      "To disable this warning, you can either:\n",
      "\t- Avoid using `tokenizers` before the fork if possible\n",
      "\t- Explicitly set the environment variable TOKENIZERS_PARALLELISM=(true | false)\n",
      "huggingface/tokenizers: The current process just got forked, after parallelism has already been used. Disabling parallelism to avoid deadlocks...\n",
      "To disable this warning, you can either:\n",
      "\t- Avoid using `tokenizers` before the fork if possible\n",
      "\t- Explicitly set the environment variable TOKENIZERS_PARALLELISM=(true | false)\n",
      "huggingface/tokenizers: The current process just got forked, after parallelism has already been used. Disabling parallelism to avoid deadlocks...\n",
      "To disable this warning, you can either:\n",
      "\t- Avoid using `tokenizers` before the fork if possible\n",
      "\t- Explicitly set the environment variable TOKENIZERS_PARALLELISM=(true | false)\n",
      "huggingface/tokenizers: The current process just got forked, after parallelism has already been used. Disabling parallelism to avoid deadlocks...\n",
      "To disable this warning, you can either:\n",
      "\t- Avoid using `tokenizers` before the fork if possible\n",
      "\t- Explicitly set the environment variable TOKENIZERS_PARALLELISM=(true | false)\n",
      "huggingface/tokenizers: The current process just got forked, after parallelism has already been used. Disabling parallelism to avoid deadlocks...\n",
      "To disable this warning, you can either:\n",
      "\t- Avoid using `tokenizers` before the fork if possible\n",
      "\t- Explicitly set the environment variable TOKENIZERS_PARALLELISM=(true | false)\n",
      "huggingface/tokenizers: The current process just got forked, after parallelism has already been used. Disabling parallelism to avoid deadlocks...\n",
      "To disable this warning, you can either:\n",
      "\t- Avoid using `tokenizers` before the fork if possible\n",
      "\t- Explicitly set the environment variable TOKENIZERS_PARALLELISM=(true | false)\n",
      "Epoch: [6/10]\t Seen Samples: [3840/6680]\tTrain Loss: 1740.8302001953125\tTime: 0:00:48.444493: : 6it [04:47, 48.02s/it]huggingface/tokenizers: The current process just got forked, after parallelism has already been used. Disabling parallelism to avoid deadlocks...\n",
      "To disable this warning, you can either:\n",
      "\t- Avoid using `tokenizers` before the fork if possible\n",
      "\t- Explicitly set the environment variable TOKENIZERS_PARALLELISM=(true | false)\n",
      "huggingface/tokenizers: The current process just got forked, after parallelism has already been used. Disabling parallelism to avoid deadlocks...\n",
      "To disable this warning, you can either:\n",
      "\t- Avoid using `tokenizers` before the fork if possible\n",
      "\t- Explicitly set the environment variable TOKENIZERS_PARALLELISM=(true | false)\n",
      "huggingface/tokenizers: The current process just got forked, after parallelism has already been used. Disabling parallelism to avoid deadlocks...\n",
      "To disable this warning, you can either:\n",
      "\t- Avoid using `tokenizers` before the fork if possible\n",
      "\t- Explicitly set the environment variable TOKENIZERS_PARALLELISM=(true | false)\n",
      "huggingface/tokenizers: The current process just got forked, after parallelism has already been used. Disabling parallelism to avoid deadlocks...\n",
      "To disable this warning, you can either:\n",
      "\t- Avoid using `tokenizers` before the fork if possible\n",
      "\t- Explicitly set the environment variable TOKENIZERS_PARALLELISM=(true | false)\n",
      "huggingface/tokenizers: The current process just got forked, after parallelism has already been used. Disabling parallelism to avoid deadlocks...\n",
      "To disable this warning, you can either:\n",
      "\t- Avoid using `tokenizers` before the fork if possible\n",
      "\t- Explicitly set the environment variable TOKENIZERS_PARALLELISM=(true | false)\n",
      "huggingface/tokenizers: The current process just got forked, after parallelism has already been used. Disabling parallelism to avoid deadlocks...\n",
      "To disable this warning, you can either:\n",
      "\t- Avoid using `tokenizers` before the fork if possible\n",
      "\t- Explicitly set the environment variable TOKENIZERS_PARALLELISM=(true | false)\n",
      "huggingface/tokenizers: The current process just got forked, after parallelism has already been used. Disabling parallelism to avoid deadlocks...\n",
      "To disable this warning, you can either:\n",
      "\t- Avoid using `tokenizers` before the fork if possible\n",
      "\t- Explicitly set the environment variable TOKENIZERS_PARALLELISM=(true | false)\n",
      "huggingface/tokenizers: The current process just got forked, after parallelism has already been used. Disabling parallelism to avoid deadlocks...\n",
      "To disable this warning, you can either:\n",
      "\t- Avoid using `tokenizers` before the fork if possible\n",
      "\t- Explicitly set the environment variable TOKENIZERS_PARALLELISM=(true | false)\n",
      "Epoch: [7/10]\t Seen Samples: [4480/6680]\tTrain Loss: 1757.7905639648438\tTime: 0:00:47.206961: : 7it [05:34, 47.75s/it]huggingface/tokenizers: The current process just got forked, after parallelism has already been used. Disabling parallelism to avoid deadlocks...\n",
      "To disable this warning, you can either:\n",
      "\t- Avoid using `tokenizers` before the fork if possible\n",
      "\t- Explicitly set the environment variable TOKENIZERS_PARALLELISM=(true | false)\n",
      "huggingface/tokenizers: The current process just got forked, after parallelism has already been used. Disabling parallelism to avoid deadlocks...\n",
      "To disable this warning, you can either:\n",
      "\t- Avoid using `tokenizers` before the fork if possible\n",
      "\t- Explicitly set the environment variable TOKENIZERS_PARALLELISM=(true | false)\n",
      "huggingface/tokenizers: The current process just got forked, after parallelism has already been used. Disabling parallelism to avoid deadlocks...\n",
      "To disable this warning, you can either:\n",
      "\t- Avoid using `tokenizers` before the fork if possible\n",
      "\t- Explicitly set the environment variable TOKENIZERS_PARALLELISM=(true | false)\n",
      "huggingface/tokenizers: The current process just got forked, after parallelism has already been used. Disabling parallelism to avoid deadlocks...\n",
      "To disable this warning, you can either:\n",
      "\t- Avoid using `tokenizers` before the fork if possible\n",
      "\t- Explicitly set the environment variable TOKENIZERS_PARALLELISM=(true | false)\n",
      "huggingface/tokenizers: The current process just got forked, after parallelism has already been used. Disabling parallelism to avoid deadlocks...\n",
      "To disable this warning, you can either:\n",
      "\t- Avoid using `tokenizers` before the fork if possible\n",
      "\t- Explicitly set the environment variable TOKENIZERS_PARALLELISM=(true | false)\n",
      "huggingface/tokenizers: The current process just got forked, after parallelism has already been used. Disabling parallelism to avoid deadlocks...\n",
      "To disable this warning, you can either:\n",
      "\t- Avoid using `tokenizers` before the fork if possible\n",
      "\t- Explicitly set the environment variable TOKENIZERS_PARALLELISM=(true | false)\n",
      "huggingface/tokenizers: The current process just got forked, after parallelism has already been used. Disabling parallelism to avoid deadlocks...\n",
      "To disable this warning, you can either:\n",
      "\t- Avoid using `tokenizers` before the fork if possible\n",
      "\t- Explicitly set the environment variable TOKENIZERS_PARALLELISM=(true | false)\n",
      "huggingface/tokenizers: The current process just got forked, after parallelism has already been used. Disabling parallelism to avoid deadlocks...\n",
      "To disable this warning, you can either:\n",
      "\t- Avoid using `tokenizers` before the fork if possible\n",
      "\t- Explicitly set the environment variable TOKENIZERS_PARALLELISM=(true | false)\n",
      "Epoch: [8/10]\t Seen Samples: [5120/6680]\tTrain Loss: 1721.5473876953124\tTime: 0:00:47.265867: : 8it [06:21, 47.60s/it]huggingface/tokenizers: The current process just got forked, after parallelism has already been used. Disabling parallelism to avoid deadlocks...\n",
      "To disable this warning, you can either:\n",
      "\t- Avoid using `tokenizers` before the fork if possible\n",
      "\t- Explicitly set the environment variable TOKENIZERS_PARALLELISM=(true | false)\n",
      "huggingface/tokenizers: The current process just got forked, after parallelism has already been used. Disabling parallelism to avoid deadlocks...\n",
      "To disable this warning, you can either:\n",
      "\t- Avoid using `tokenizers` before the fork if possible\n",
      "\t- Explicitly set the environment variable TOKENIZERS_PARALLELISM=(true | false)\n",
      "huggingface/tokenizers: The current process just got forked, after parallelism has already been used. Disabling parallelism to avoid deadlocks...\n",
      "To disable this warning, you can either:\n",
      "\t- Avoid using `tokenizers` before the fork if possible\n",
      "\t- Explicitly set the environment variable TOKENIZERS_PARALLELISM=(true | false)\n",
      "huggingface/tokenizers: The current process just got forked, after parallelism has already been used. Disabling parallelism to avoid deadlocks...\n",
      "To disable this warning, you can either:\n",
      "\t- Avoid using `tokenizers` before the fork if possible\n",
      "\t- Explicitly set the environment variable TOKENIZERS_PARALLELISM=(true | false)\n",
      "huggingface/tokenizers: The current process just got forked, after parallelism has already been used. Disabling parallelism to avoid deadlocks...\n",
      "To disable this warning, you can either:\n",
      "\t- Avoid using `tokenizers` before the fork if possible\n",
      "\t- Explicitly set the environment variable TOKENIZERS_PARALLELISM=(true | false)\n",
      "huggingface/tokenizers: The current process just got forked, after parallelism has already been used. Disabling parallelism to avoid deadlocks...\n",
      "To disable this warning, you can either:\n",
      "\t- Avoid using `tokenizers` before the fork if possible\n",
      "\t- Explicitly set the environment variable TOKENIZERS_PARALLELISM=(true | false)\n",
      "huggingface/tokenizers: The current process just got forked, after parallelism has already been used. Disabling parallelism to avoid deadlocks...\n",
      "To disable this warning, you can either:\n",
      "\t- Avoid using `tokenizers` before the fork if possible\n",
      "\t- Explicitly set the environment variable TOKENIZERS_PARALLELISM=(true | false)\n",
      "huggingface/tokenizers: The current process just got forked, after parallelism has already been used. Disabling parallelism to avoid deadlocks...\n",
      "To disable this warning, you can either:\n",
      "\t- Avoid using `tokenizers` before the fork if possible\n",
      "\t- Explicitly set the environment variable TOKENIZERS_PARALLELISM=(true | false)\n",
      "Epoch: [9/10]\t Seen Samples: [5760/6680]\tTrain Loss: 1722.9330932617188\tTime: 0:00:47.149543: : 9it [07:09, 47.46s/it]huggingface/tokenizers: The current process just got forked, after parallelism has already been used. Disabling parallelism to avoid deadlocks...\n",
      "To disable this warning, you can either:\n",
      "\t- Avoid using `tokenizers` before the fork if possible\n",
      "\t- Explicitly set the environment variable TOKENIZERS_PARALLELISM=(true | false)\n",
      "huggingface/tokenizers: The current process just got forked, after parallelism has already been used. Disabling parallelism to avoid deadlocks...\n",
      "To disable this warning, you can either:\n",
      "\t- Avoid using `tokenizers` before the fork if possible\n",
      "\t- Explicitly set the environment variable TOKENIZERS_PARALLELISM=(true | false)\n",
      "huggingface/tokenizers: The current process just got forked, after parallelism has already been used. Disabling parallelism to avoid deadlocks...\n",
      "To disable this warning, you can either:\n",
      "\t- Avoid using `tokenizers` before the fork if possible\n",
      "\t- Explicitly set the environment variable TOKENIZERS_PARALLELISM=(true | false)\n",
      "huggingface/tokenizers: The current process just got forked, after parallelism has already been used. Disabling parallelism to avoid deadlocks...\n",
      "To disable this warning, you can either:\n",
      "\t- Avoid using `tokenizers` before the fork if possible\n",
      "\t- Explicitly set the environment variable TOKENIZERS_PARALLELISM=(true | false)\n",
      "huggingface/tokenizers: The current process just got forked, after parallelism has already been used. Disabling parallelism to avoid deadlocks...\n",
      "To disable this warning, you can either:\n",
      "\t- Avoid using `tokenizers` before the fork if possible\n",
      "\t- Explicitly set the environment variable TOKENIZERS_PARALLELISM=(true | false)\n",
      "huggingface/tokenizers: The current process just got forked, after parallelism has already been used. Disabling parallelism to avoid deadlocks...\n",
      "To disable this warning, you can either:\n",
      "\t- Avoid using `tokenizers` before the fork if possible\n",
      "\t- Explicitly set the environment variable TOKENIZERS_PARALLELISM=(true | false)\n",
      "huggingface/tokenizers: The current process just got forked, after parallelism has already been used. Disabling parallelism to avoid deadlocks...\n",
      "To disable this warning, you can either:\n",
      "\t- Avoid using `tokenizers` before the fork if possible\n",
      "\t- Explicitly set the environment variable TOKENIZERS_PARALLELISM=(true | false)\n",
      "huggingface/tokenizers: The current process just got forked, after parallelism has already been used. Disabling parallelism to avoid deadlocks...\n",
      "To disable this warning, you can either:\n",
      "\t- Avoid using `tokenizers` before the fork if possible\n",
      "\t- Explicitly set the environment variable TOKENIZERS_PARALLELISM=(true | false)\n",
      "Epoch: [10/10]\t Seen Samples: [6400/6680]\tTrain Loss: 1732.3716064453124\tTime: 0:00:47.088747: : 10it [07:56, 47.61s/it]\n",
      "  0%|          | 0/11 [00:00<?, ?it/s]huggingface/tokenizers: The current process just got forked, after parallelism has already been used. Disabling parallelism to avoid deadlocks...\n",
      "To disable this warning, you can either:\n",
      "\t- Avoid using `tokenizers` before the fork if possible\n",
      "\t- Explicitly set the environment variable TOKENIZERS_PARALLELISM=(true | false)\n",
      "huggingface/tokenizers: The current process just got forked, after parallelism has already been used. Disabling parallelism to avoid deadlocks...\n",
      "To disable this warning, you can either:\n",
      "\t- Avoid using `tokenizers` before the fork if possible\n",
      "\t- Explicitly set the environment variable TOKENIZERS_PARALLELISM=(true | false)\n",
      "huggingface/tokenizers: The current process just got forked, after parallelism has already been used. Disabling parallelism to avoid deadlocks...\n",
      "To disable this warning, you can either:\n",
      "\t- Avoid using `tokenizers` before the fork if possible\n",
      "\t- Explicitly set the environment variable TOKENIZERS_PARALLELISM=(true | false)\n",
      "huggingface/tokenizers: The current process just got forked, after parallelism has already been used. Disabling parallelism to avoid deadlocks...\n",
      "To disable this warning, you can either:\n",
      "\t- Avoid using `tokenizers` before the fork if possible\n",
      "\t- Explicitly set the environment variable TOKENIZERS_PARALLELISM=(true | false)\n",
      "huggingface/tokenizers: The current process just got forked, after parallelism has already been used. Disabling parallelism to avoid deadlocks...\n",
      "To disable this warning, you can either:\n",
      "\t- Avoid using `tokenizers` before the fork if possible\n",
      "\t- Explicitly set the environment variable TOKENIZERS_PARALLELISM=(true | false)\n",
      "huggingface/tokenizers: The current process just got forked, after parallelism has already been used. Disabling parallelism to avoid deadlocks...\n",
      "To disable this warning, you can either:\n",
      "\t- Avoid using `tokenizers` before the fork if possible\n",
      "\t- Explicitly set the environment variable TOKENIZERS_PARALLELISM=(true | false)\n",
      "huggingface/tokenizers: The current process just got forked, after parallelism has already been used. Disabling parallelism to avoid deadlocks...\n",
      "To disable this warning, you can either:\n",
      "\t- Avoid using `tokenizers` before the fork if possible\n",
      "\t- Explicitly set the environment variable TOKENIZERS_PARALLELISM=(true | false)\n",
      "huggingface/tokenizers: The current process just got forked, after parallelism has already been used. Disabling parallelism to avoid deadlocks...\n",
      "To disable this warning, you can either:\n",
      "\t- Avoid using `tokenizers` before the fork if possible\n",
      "\t- Explicitly set the environment variable TOKENIZERS_PARALLELISM=(true | false)\n",
      "100%|██████████| 11/11 [00:46<00:00,  4.26s/it]\n"
     ]
    }
   ],
   "source": [
    "ctm_east = CombinedTM(bow_size=len(tp_east.vocab), contextual_size=768, n_components=2, num_epochs=10)\n",
    "ctm_east.fit(training_dataset_east) # run the model"
   ],
   "metadata": {
    "collapsed": false,
    "ExecuteTime": {
     "end_time": "2024-03-15T12:00:54.128437Z",
     "start_time": "2024-03-15T11:52:11.094864Z"
    }
   },
   "id": "172aae1ffe9793a0"
  },
  {
   "cell_type": "code",
   "execution_count": 217,
   "outputs": [
    {
     "name": "stderr",
     "output_type": "stream",
     "text": [
      "  0%|          | 0/11 [00:00<?, ?it/s]huggingface/tokenizers: The current process just got forked, after parallelism has already been used. Disabling parallelism to avoid deadlocks...\n",
      "To disable this warning, you can either:\n",
      "\t- Avoid using `tokenizers` before the fork if possible\n",
      "\t- Explicitly set the environment variable TOKENIZERS_PARALLELISM=(true | false)\n",
      "huggingface/tokenizers: The current process just got forked, after parallelism has already been used. Disabling parallelism to avoid deadlocks...\n",
      "To disable this warning, you can either:\n",
      "\t- Avoid using `tokenizers` before the fork if possible\n",
      "\t- Explicitly set the environment variable TOKENIZERS_PARALLELISM=(true | false)\n",
      "huggingface/tokenizers: The current process just got forked, after parallelism has already been used. Disabling parallelism to avoid deadlocks...\n",
      "To disable this warning, you can either:\n",
      "\t- Avoid using `tokenizers` before the fork if possible\n",
      "\t- Explicitly set the environment variable TOKENIZERS_PARALLELISM=(true | false)\n",
      "huggingface/tokenizers: The current process just got forked, after parallelism has already been used. Disabling parallelism to avoid deadlocks...\n",
      "To disable this warning, you can either:\n",
      "\t- Avoid using `tokenizers` before the fork if possible\n",
      "\t- Explicitly set the environment variable TOKENIZERS_PARALLELISM=(true | false)\n",
      "huggingface/tokenizers: The current process just got forked, after parallelism has already been used. Disabling parallelism to avoid deadlocks...\n",
      "To disable this warning, you can either:\n",
      "\t- Avoid using `tokenizers` before the fork if possible\n",
      "\t- Explicitly set the environment variable TOKENIZERS_PARALLELISM=(true | false)\n",
      "huggingface/tokenizers: The current process just got forked, after parallelism has already been used. Disabling parallelism to avoid deadlocks...\n",
      "To disable this warning, you can either:\n",
      "\t- Avoid using `tokenizers` before the fork if possible\n",
      "\t- Explicitly set the environment variable TOKENIZERS_PARALLELISM=(true | false)\n",
      "huggingface/tokenizers: The current process just got forked, after parallelism has already been used. Disabling parallelism to avoid deadlocks...\n",
      "To disable this warning, you can either:\n",
      "\t- Avoid using `tokenizers` before the fork if possible\n",
      "\t- Explicitly set the environment variable TOKENIZERS_PARALLELISM=(true | false)\n",
      "huggingface/tokenizers: The current process just got forked, after parallelism has already been used. Disabling parallelism to avoid deadlocks...\n",
      "To disable this warning, you can either:\n",
      "\t- Avoid using `tokenizers` before the fork if possible\n",
      "\t- Explicitly set the environment variable TOKENIZERS_PARALLELISM=(true | false)\n",
      "100%|██████████| 11/11 [00:47<00:00,  4.29s/it]\n",
      "huggingface/tokenizers: The current process just got forked, after parallelism has already been used. Disabling parallelism to avoid deadlocks...\n",
      "To disable this warning, you can either:\n",
      "\t- Avoid using `tokenizers` before the fork if possible\n",
      "\t- Explicitly set the environment variable TOKENIZERS_PARALLELISM=(true | false)\n",
      "huggingface/tokenizers: The current process just got forked, after parallelism has already been used. Disabling parallelism to avoid deadlocks...\n",
      "To disable this warning, you can either:\n",
      "\t- Avoid using `tokenizers` before the fork if possible\n",
      "\t- Explicitly set the environment variable TOKENIZERS_PARALLELISM=(true | false)\n",
      "huggingface/tokenizers: The current process just got forked, after parallelism has already been used. Disabling parallelism to avoid deadlocks...\n",
      "To disable this warning, you can either:\n",
      "\t- Avoid using `tokenizers` before the fork if possible\n",
      "\t- Explicitly set the environment variable TOKENIZERS_PARALLELISM=(true | false)\n",
      "huggingface/tokenizers: The current process just got forked, after parallelism has already been used. Disabling parallelism to avoid deadlocks...\n",
      "To disable this warning, you can either:\n",
      "\t- Avoid using `tokenizers` before the fork if possible\n",
      "\t- Explicitly set the environment variable TOKENIZERS_PARALLELISM=(true | false)\n",
      "huggingface/tokenizers: The current process just got forked, after parallelism has already been used. Disabling parallelism to avoid deadlocks...\n",
      "To disable this warning, you can either:\n",
      "\t- Avoid using `tokenizers` before the fork if possible\n",
      "\t- Explicitly set the environment variable TOKENIZERS_PARALLELISM=(true | false)\n",
      "huggingface/tokenizers: The current process just got forked, after parallelism has already been used. Disabling parallelism to avoid deadlocks...\n",
      "To disable this warning, you can either:\n",
      "\t- Avoid using `tokenizers` before the fork if possible\n",
      "\t- Explicitly set the environment variable TOKENIZERS_PARALLELISM=(true | false)\n",
      "huggingface/tokenizers: The current process just got forked, after parallelism has already been used. Disabling parallelism to avoid deadlocks...\n",
      "To disable this warning, you can either:\n",
      "\t- Avoid using `tokenizers` before the fork if possible\n",
      "\t- Explicitly set the environment variable TOKENIZERS_PARALLELISM=(true | false)\n",
      "huggingface/tokenizers: The current process just got forked, after parallelism has already been used. Disabling parallelism to avoid deadlocks...\n",
      "To disable this warning, you can either:\n",
      "\t- Avoid using `tokenizers` before the fork if possible\n",
      "\t- Explicitly set the environment variable TOKENIZERS_PARALLELISM=(true | false)\n"
     ]
    }
   ],
   "source": [
    "lda_vis_data_east = ctm_east.get_ldavis_data_format(tp_east.vocab, training_dataset_east, n_samples=5)\n",
    "ctm_pd_east = vis.prepare(**lda_vis_data_east)"
   ],
   "metadata": {
    "collapsed": false,
    "ExecuteTime": {
     "end_time": "2024-03-15T12:05:57.295614Z",
     "start_time": "2024-03-15T12:05:08.655257Z"
    }
   },
   "id": "842dc6981d25910a"
  },
  {
   "cell_type": "code",
   "execution_count": 218,
   "outputs": [
    {
     "data": {
      "text/plain": "<IPython.core.display.HTML object>",
      "text/html": "\n<link rel=\"stylesheet\" type=\"text/css\" href=\"https://cdn.jsdelivr.net/gh/bmabey/pyLDAvis@3.4.0/pyLDAvis/js/ldavis.v1.0.0.css\">\n\n\n<div id=\"ldavis_el25157112766210725185262462\" style=\"background-color:white;\"></div>\n<script type=\"text/javascript\">\n\nvar ldavis_el25157112766210725185262462_data = {\"mdsDat\": {\"x\": [0.00010742726848502771, -0.00010742726848502771], \"y\": [0.0, 0.0], \"topics\": [1, 2], \"cluster\": [1, 1], \"Freq\": [52.95308376577409, 47.04691623422591]}, \"tinfo\": {\"Term\": [\"mcs\", \"mc\", \"super\", \"blown\", \"smooth\", \"drug\", \"homicide\", \"easily\", \"got\", \"breaks\", \"hits\", \"goal\", \"shed\", \"styles\", \"house\", \"ha\", \"mr\", \"sayin\", \"jock\", \"mad\", \"mase\", \"slay\", \"cha\", \"bone\", \"plays\", \"nice\", \"pockets\", \"bloody\", \"dues\", \"talk\", \"life\", \"map\", \"niggas\", \"blowing\", \"high\", \"seat\", \"streets\", \"ninety\", \"know\", \"thought\", \"sky\", \"think\", \"say\", \"slippin\", \"huh\", \"killin\", \"flow\", \"around\", \"spread\", \"lighten\", \"meet\", \"die\", \"ass\", \"gonna\", \"hoes\", \"everyday\", \"everything\", \"long\", \"much\", \"strapped\", \"soft\", \"get\", \"ya\", \"mine\", \"mind\", \"motherfuckers\", \"gots\", \"hand\", \"would\", \"go\", \"friend\", \"hate\", \"choose\", \"outside\", \"little\", \"bounce\", \"niggaz\", \"ladies\", \"dang\", \"anything\", \"diggy\", \"dough\", \"shots\", \"unbelievable\", \"big\", \"hurt\", \"start\", \"fella\", \"first\", \"tried\", \"movin\", \"tryna\", \"mcs\", \"mc\", \"super\", \"blown\", \"easily\", \"smooth\", \"drug\", \"homicide\", \"breaks\", \"goal\", \"shed\", \"got\", \"hits\", \"styles\", \"house\", \"jock\", \"ha\", \"slay\", \"plays\", \"bone\", \"mase\", \"cha\", \"pockets\", \"bloody\", \"nice\", \"mr\", \"sayin\", \"dues\", \"mad\", \"brings\", \"place\", \"talk\", \"piece\", \"taking\", \"yo\", \"man\", \"funky\", \"nas\", \"yes\", \"tip\", \"radio\", \"pass\", \"well\", \"charge\", \"mike\", \"right\", \"beatbox\", \"rhymes\", \"bigger\", \"skip\", \"leather\", \"pot\", \"fame\", \"group\", \"strictly\", \"supposed\", \"boys\", \"roll\", \"woulda\", \"appeal\", \"health\", \"homie\", \"laid\", \"project\", \"jumped\", \"crash\"], \"Freq\": [72.0, 74.0, 71.0, 70.0, 72.0, 72.0, 70.0, 69.0, 72.0, 70.0, 72.0, 70.0, 70.0, 72.0, 72.0, 74.0, 78.0, 78.0, 70.0, 79.0, 72.0, 70.0, 73.0, 71.0, 70.0, 72.0, 71.0, 70.0, 71.0, 72.0, 45.885245303407146, 39.79878582171675, 41.80409558921577, 40.299899126308915, 40.859866975157175, 39.728805299719355, 40.78412879403223, 39.5933468642547, 41.06721141089851, 40.45648730048112, 39.91058151489586, 40.92716791832432, 43.89512897689945, 41.383145206175925, 43.981493863812716, 39.959226176737225, 40.398736651093564, 44.6415084832767, 40.37391504821989, 40.29472318771374, 44.10567974628381, 41.233006343102836, 40.04167017565273, 43.89957661970999, 40.85942724940042, 39.82916812322276, 40.53380574604442, 40.663905023848585, 39.915107025809164, 39.5955042687488, 43.90338299579193, 44.23613630126534, 43.67858694407926, 43.910734660787725, 41.5258041509075, 42.23658877337051, 42.83225227661893, 43.46088605067094, 41.83832549109341, 42.77028300825247, 42.95354787833467, 43.113035494215495, 41.79192068232553, 41.94912264036655, 43.16468036825141, 42.62404671127061, 42.84210030137966, 42.69387607753912, 42.69154461493297, 42.69414632566046, 42.724721007185046, 42.43616930121909, 42.171294078968565, 42.77541772255795, 42.3744886028805, 42.64912940131235, 42.613667351220464, 42.540718680364954, 42.53681153379709, 42.514216042567014, 42.500273071696476, 42.46291012380193, 36.94191617695341, 37.89230363292103, 36.162439260728505, 35.54948993662377, 35.06982373005394, 36.21408641790341, 36.294350926686064, 35.489764644787115, 35.490586701815666, 35.55652625643745, 35.47290840611259, 36.45098534733889, 36.25330911909731, 36.43412503907511, 36.27562674654567, 35.2678784300958, 37.05011027676053, 35.10350772027825, 35.23574902296509, 35.69660558802027, 36.21789555344164, 36.30090296537897, 35.64463286370534, 34.8508432020873, 35.99931384522153, 38.8714061106384, 38.76926755963565, 35.47158578960626, 39.23016075099409, 35.10531054831611, 35.40228475426377, 36.0724931991195, 38.39521533328828, 38.81646665576004, 37.73547387198419, 37.70019053318453, 38.193335219351184, 37.89293034966557, 37.789717427100754, 38.186258203645004, 37.75580553987843, 38.41220179881882, 37.63074706221828, 38.4879246459982, 37.88665911263093, 37.97079380079058, 38.32133601003926, 37.998064118356496, 38.2009575600169, 38.05469245277371, 38.00857586738989, 38.10142354613431, 37.934228541377095, 37.98438622888641, 38.01964921973982, 38.2344217924217, 37.990022609998, 38.047070112107995, 37.99209810051563, 37.9866855468128, 37.96579227560202, 37.924681284996005, 37.922402315015866, 37.90398742365849, 37.92308193642066, 37.89878648859668], \"Total\": [72.0, 74.0, 71.0, 70.0, 72.0, 72.0, 70.0, 69.0, 72.0, 70.0, 72.0, 70.0, 70.0, 72.0, 72.0, 74.0, 78.0, 78.0, 70.0, 79.0, 72.0, 70.0, 73.0, 71.0, 70.0, 72.0, 71.0, 70.0, 71.0, 72.0, 79.89057436450574, 70.22828279191532, 73.78695070664507, 71.17597450767816, 72.217482608946, 70.47453784178701, 72.35118176899586, 70.4895524688503, 73.37462441021366, 72.33022655613813, 71.38450397466217, 73.21664623781362, 78.53097984848534, 74.0586708663277, 78.78227297894345, 71.58937406343671, 72.41690155965264, 80.05210740837873, 72.41737652355853, 72.29191139848243, 79.13325707033093, 74.0203358287267, 71.90314368930949, 78.85045846474691, 73.39304633239603, 71.55976161179689, 72.83768837668498, 73.07703374311745, 71.74610948995468, 71.19511599250905, 78.98909440227885, 79.74578088953993, 78.83138552935652, 79.43509895338046, 74.80562515362337, 76.24408285595024, 77.48708371246799, 78.80854063883937, 75.51072756001302, 77.5315626901203, 78.19221479679217, 78.64617382123177, 75.57298078422679, 75.97406915644598, 79.0708046892315, 77.8482787966575, 78.61638620900868, 78.32713036970077, 78.40739122092842, 78.72688777698353, 78.86426475879165, 78.34876426910706, 77.3375670742534, 79.9395945164137, 78.23721075450666, 79.50533188947702, 79.34574736725256, 79.01964989708532, 79.16473041296905, 79.19623197164253, 79.66582945630807, 79.29836177637958, 72.55305391252563, 74.68473942140236, 71.46059989868982, 70.6744673335719, 69.83114792616314, 72.12996555410055, 72.31323124092715, 70.72193893637493, 70.7868968272173, 70.98447240955359, 70.83364751583255, 72.80675513745291, 72.44968748333977, 72.92574718564421, 72.67455149725652, 70.70672382735992, 74.3471382418367, 70.49283816514075, 70.84143828158247, 71.77368772859725, 72.85799614030441, 73.05062809949683, 71.77269570920647, 70.18516212258871, 72.52417422047725, 78.31706924729525, 78.12061410194451, 71.56082909564358, 79.20046710070629, 70.93671195397275, 71.5427263378653, 72.92960073718069, 77.90075446049035, 78.81897833667813, 76.50107822343149, 76.46046779030777, 77.65853408884733, 77.00398508781268, 76.81272166293368, 77.89070910910725, 77.13916503337461, 78.89397333031354, 77.08063339833066, 79.72607028388315, 78.11613341070907, 78.41953551528547, 79.5404726698977, 78.51534350470942, 79.46984735706185, 78.96974959088065, 78.86366540541894, 79.22442058194487, 78.62148941557683, 78.88392013168448, 79.09619564201617, 79.99353710110242, 79.08161589801341, 79.38181800218074, 79.19391139774845, 79.17881113596704, 79.07969248481965, 78.93447642130116, 78.94292034711863, 78.70493572788672, 79.41733576428076, 79.31195671910125], \"Category\": [\"Default\", \"Default\", \"Default\", \"Default\", \"Default\", \"Default\", \"Default\", \"Default\", \"Default\", \"Default\", \"Default\", \"Default\", \"Default\", \"Default\", \"Default\", \"Default\", \"Default\", \"Default\", \"Default\", \"Default\", \"Default\", \"Default\", \"Default\", \"Default\", \"Default\", \"Default\", \"Default\", \"Default\", \"Default\", \"Default\", \"Topic1\", \"Topic1\", \"Topic1\", \"Topic1\", \"Topic1\", \"Topic1\", \"Topic1\", \"Topic1\", \"Topic1\", \"Topic1\", \"Topic1\", \"Topic1\", \"Topic1\", \"Topic1\", \"Topic1\", \"Topic1\", \"Topic1\", \"Topic1\", \"Topic1\", \"Topic1\", \"Topic1\", \"Topic1\", \"Topic1\", \"Topic1\", \"Topic1\", \"Topic1\", \"Topic1\", \"Topic1\", \"Topic1\", \"Topic1\", \"Topic1\", \"Topic1\", \"Topic1\", \"Topic1\", \"Topic1\", \"Topic1\", \"Topic1\", \"Topic1\", \"Topic1\", \"Topic1\", \"Topic1\", \"Topic1\", \"Topic1\", \"Topic1\", \"Topic1\", \"Topic1\", \"Topic1\", \"Topic1\", \"Topic1\", \"Topic1\", \"Topic1\", \"Topic1\", \"Topic1\", \"Topic1\", \"Topic1\", \"Topic1\", \"Topic1\", \"Topic1\", \"Topic1\", \"Topic1\", \"Topic1\", \"Topic1\", \"Topic2\", \"Topic2\", \"Topic2\", \"Topic2\", \"Topic2\", \"Topic2\", \"Topic2\", \"Topic2\", \"Topic2\", \"Topic2\", \"Topic2\", \"Topic2\", \"Topic2\", \"Topic2\", \"Topic2\", \"Topic2\", \"Topic2\", \"Topic2\", \"Topic2\", \"Topic2\", \"Topic2\", \"Topic2\", \"Topic2\", \"Topic2\", \"Topic2\", \"Topic2\", \"Topic2\", \"Topic2\", \"Topic2\", \"Topic2\", \"Topic2\", \"Topic2\", \"Topic2\", \"Topic2\", \"Topic2\", \"Topic2\", \"Topic2\", \"Topic2\", \"Topic2\", \"Topic2\", \"Topic2\", \"Topic2\", \"Topic2\", \"Topic2\", \"Topic2\", \"Topic2\", \"Topic2\", \"Topic2\", \"Topic2\", \"Topic2\", \"Topic2\", \"Topic2\", \"Topic2\", \"Topic2\", \"Topic2\", \"Topic2\", \"Topic2\", \"Topic2\", \"Topic2\", \"Topic2\", \"Topic2\", \"Topic2\", \"Topic2\", \"Topic2\", \"Topic2\", \"Topic2\"], \"logprob\": [30.0, 29.0, 28.0, 27.0, 26.0, 25.0, 24.0, 23.0, 22.0, 21.0, 20.0, 19.0, 18.0, 17.0, 16.0, 15.0, 14.0, 13.0, 12.0, 11.0, 10.0, 9.0, 8.0, 7.0, 6.0, 5.0, 4.0, 3.0, 2.0, 1.0, -7.4472, -7.5895, -7.5403, -7.5769, -7.5631, -7.5912, -7.565, -7.5946, -7.5581, -7.5731, -7.5867, -7.5615, -7.4915, -7.5504, -7.4895, -7.5854, -7.5745, -7.4746, -7.5751, -7.5771, -7.4867, -7.5541, -7.5834, -7.4914, -7.5632, -7.5887, -7.5712, -7.568, -7.5865, -7.5946, -7.4913, -7.4838, -7.4964, -7.4911, -7.547, -7.53, -7.516, -7.5014, -7.5395, -7.5175, -7.5132, -7.5095, -7.5406, -7.5368, -7.5083, -7.5209, -7.5158, -7.5192, -7.5193, -7.5192, -7.5185, -7.5253, -7.5316, -7.5173, -7.5268, -7.5203, -7.5211, -7.5228, -7.5229, -7.5235, -7.5238, -7.5247, -7.5457, -7.5203, -7.567, -7.5841, -7.5977, -7.5656, -7.5634, -7.5858, -7.5858, -7.5839, -7.5863, -7.5591, -7.5645, -7.5595, -7.5639, -7.5921, -7.5428, -7.5967, -7.593, -7.58, -7.5655, -7.5632, -7.5814, -7.604, -7.5715, -7.4948, -7.4974, -7.5863, -7.4856, -7.5967, -7.5883, -7.5695, -7.5071, -7.4962, -7.5244, -7.5254, -7.5124, -7.5203, -7.523, -7.5126, -7.5239, -7.5067, -7.5272, -7.5047, -7.5204, -7.5182, -7.509, -7.5175, -7.5122, -7.516, -7.5172, -7.5148, -7.5192, -7.5179, -7.5169, -7.5113, -7.5177, -7.5162, -7.5177, -7.5178, -7.5184, -7.5194, -7.5195, -7.52, -7.5195, -7.5201], \"loglift\": [30.0, 29.0, 28.0, 27.0, 26.0, 25.0, 24.0, 23.0, 22.0, 21.0, 20.0, 19.0, 18.0, 17.0, 16.0, 15.0, 14.0, 13.0, 12.0, 11.0, 10.0, 9.0, 8.0, 7.0, 6.0, 5.0, 4.0, 3.0, 2.0, 1.0, 0.0812, 0.0678, 0.0676, 0.067, 0.0662, 0.0626, 0.0625, 0.059, 0.0554, 0.0547, 0.0543, 0.0541, 0.0541, 0.0538, 0.0528, 0.0527, 0.0521, 0.0518, 0.0515, 0.0513, 0.0512, 0.0507, 0.0504, 0.0501, 0.0501, 0.0498, 0.0497, 0.0496, 0.0494, 0.0491, 0.0484, 0.0465, 0.0453, 0.043, 0.0472, 0.0451, 0.0429, 0.0406, 0.0453, 0.0409, 0.0367, 0.0346, 0.0434, 0.0418, 0.0304, 0.0334, 0.0287, 0.0289, 0.0278, 0.0238, 0.0228, 0.0226, 0.0293, 0.0105, 0.0226, 0.0129, 0.0141, 0.0165, 0.0146, 0.0137, 0.0074, 0.0112, 0.0791, 0.0755, 0.0729, 0.0669, 0.0653, 0.065, 0.0647, 0.0645, 0.0636, 0.0627, 0.0625, 0.0622, 0.0617, 0.0601, 0.0592, 0.0585, 0.0576, 0.0568, 0.0556, 0.0556, 0.0551, 0.0547, 0.0541, 0.054, 0.0536, 0.0535, 0.0534, 0.0522, 0.0515, 0.0506, 0.0505, 0.0501, 0.0465, 0.0457, 0.0473, 0.0469, 0.0444, 0.0449, 0.0447, 0.0412, 0.0396, 0.0343, 0.037, 0.0258, 0.0304, 0.0288, 0.0238, 0.0283, 0.0215, 0.024, 0.0241, 0.022, 0.0252, 0.0232, 0.0215, 0.0158, 0.0209, 0.0186, 0.0195, 0.0196, 0.0203, 0.021, 0.0208, 0.0234, 0.0149, 0.0156]}, \"token.table\": {\"Topic\": [1, 2, 1, 2, 1, 2, 1, 2, 1, 2, 1, 2, 1, 2, 1, 2, 1, 2, 1, 2, 1, 2, 1, 2, 1, 2, 1, 2, 1, 2, 1, 2, 1, 2, 1, 2, 1, 2, 1, 2, 1, 2, 1, 2, 1, 2, 1, 2, 1, 2, 1, 2, 1, 2, 1, 2, 1, 2, 1, 2, 1, 2, 1, 2, 1, 2, 1, 2, 1, 2, 1, 2, 1, 2, 1, 2, 1, 2, 1, 2, 1, 2, 1, 2, 1, 2, 1, 2, 1, 2, 1, 2, 1, 2, 1, 2, 1, 2, 1, 2, 1, 2, 1, 2, 1, 2, 1, 2, 1, 2, 1, 2, 1, 2, 1, 2, 1, 2, 1, 2, 1, 2, 1, 2, 1, 2, 1, 2, 1, 2, 1, 2, 1, 2, 1, 2, 1, 2, 1, 2, 1, 2, 1, 2, 1, 2, 1, 2, 1, 2, 1, 2, 1, 2, 1, 2, 1, 2, 1, 2, 1, 2, 1, 2, 1, 2, 1, 2, 1, 2, 1, 2, 1, 2, 1, 2, 1, 2, 1, 2, 1, 2, 1, 2, 1, 2, 1, 2, 1, 2, 1, 2, 1, 2, 1, 2, 1, 2, 1, 2, 1, 2, 1, 2, 1, 2, 1, 2, 1, 2, 1, 2, 1, 2, 1, 2, 1, 2, 1, 2, 1, 2, 1, 2, 1, 2, 1, 2, 1, 2, 1, 2, 1, 2, 1, 2, 1, 2, 1, 2, 1, 2, 1, 2, 1, 2, 1, 2, 1, 2, 1, 2, 1, 2, 1, 2], \"Freq\": [0.5461920471416299, 0.4572770627232251, 0.5178153019953051, 0.4799263774590633, 0.5621338582685461, 0.43721522309775807, 0.5563039103385847, 0.4450431282708678, 0.5154608543773032, 0.4777442064960371, 0.5368289538310348, 0.46013910328374413, 0.5159189474189503, 0.47816878053463685, 0.4986809026510098, 0.4986809026510098, 0.5619873879729594, 0.4355402256790436, 0.49522835219692196, 0.5093777336882626, 0.5015765685069612, 0.5015765685069612, 0.5523564639408091, 0.44959247064949576, 0.5184517227477385, 0.4805162308393674, 0.49444179034194685, 0.49444179034194685, 0.5074946245515098, 0.49339755164730126, 0.5064980406411435, 0.492808904407599, 0.5142608917510922, 0.4766320460132074, 0.5557541804513026, 0.44989624131772116, 0.5169460154060943, 0.4791206972056484, 0.5484176852516232, 0.4591403876525217, 0.5539018371230927, 0.4458234298795624, 0.545240612228068, 0.4564805125630336, 0.5360646130389655, 0.4594839540333989, 0.4978342051962555, 0.4978342051962555, 0.503068514646256, 0.4890943892394156, 0.50120900256441, 0.50120900256441, 0.5589733545647511, 0.4471786836518008, 0.562895403653748, 0.439332997973657, 0.5214859233114058, 0.48332841672764437, 0.5441684448868468, 0.4555828840913136, 0.5431711795857462, 0.46737985220168865, 0.552357241728306, 0.44188579338264483, 0.5499268707472917, 0.4476148947943072, 0.502198508606678, 0.4893216237706094, 0.5517533280029787, 0.45143454109334624, 0.5546128377659981, 0.45142905399557987, 0.4930655791602313, 0.5071531671362379, 0.5580183153871181, 0.44387820542157125, 0.49445961342508793, 0.49445961342508793, 0.5549311954952452, 0.4516881823798507, 0.5197510459870257, 0.4817204816465116, 0.49766542297359495, 0.49766542297359495, 0.5456261421850035, 0.4441143017784912, 0.5467525997862527, 0.45774636261174645, 0.5184643327725442, 0.48052791817943125, 0.5677295651803999, 0.4292589395266438, 0.49689655332576016, 0.49689655332576016, 0.5586360295539663, 0.4496338774458753, 0.49489593365769835, 0.49489593365769835, 0.5194181536236274, 0.48141194726092296, 0.495359094185246, 0.495359094185246, 0.5585012761914105, 0.44426237878862207, 0.5408442299162491, 0.4653775931837492, 0.49500242841766023, 0.49500242841766023, 0.5162600785512679, 0.47848495085239456, 0.5587421390855469, 0.44699371126843757, 0.5587762844383685, 0.4361180756592144, 0.5489796421373003, 0.4596108631847166, 0.5193625954008234, 0.48136045427393387, 0.5198845347756659, 0.4818442029628123, 0.5757875740149536, 0.4255821199240961, 0.5533122478878002, 0.4426497983102402, 0.5438163955583987, 0.4552881451186594, 0.5610517819336293, 0.437894073704296, 0.5050475264134305, 0.4924213382530948, 0.5100675045169379, 0.49698885055496517, 0.5695710960001545, 0.4271783220001159, 0.5078371896030218, 0.4941118601542915, 0.4954158009607641, 0.5088054172029469, 0.49618862416740983, 0.5099716415053934, 0.5560241247354991, 0.4422919174032379, 0.5120581146751477, 0.4864552089413903, 0.5614551033260852, 0.44114329547049547, 0.5539113135091969, 0.4532001655984338, 0.5508624200956237, 0.44593624483931443, 0.5397546262112657, 0.4644400272050425, 0.49797573344902585, 0.49797573344902585, 0.5575215197640854, 0.4460172158112683, 0.5064672945890495, 0.4934809537021508, 0.5101747161921221, 0.4963862103490918, 0.5692063379469289, 0.4336810193881363, 0.5469597633969165, 0.4579198019136976, 0.5674599795150665, 0.43978148412417656, 0.5528201986063627, 0.4475211131575317, 0.5070095764162855, 0.4816590975954713, 0.5134738460111727, 0.48780015371061414, 0.5031958081942194, 0.4892181468554911, 0.5081771470661878, 0.49406111520323814, 0.5015835011388904, 0.5015835011388904, 0.5175171960720384, 0.4796500841643283, 0.5209330218088583, 0.48281597143260035, 0.5055797529455559, 0.4926161695366955, 0.5221909268924078, 0.48398183468076816, 0.510076981930137, 0.48457313283363007, 0.5164910685073207, 0.4786990391043461, 0.5602884375681025, 0.44568398442917245, 0.4992280264093475, 0.4992280264093475, 0.5675808770793029, 0.4398751797364598, 0.4941154554010069, 0.4941154554010069, 0.5430737168092569, 0.45256143067438076, 0.5191861467512446, 0.48119691650115354, 0.5603457021176185, 0.4342679191411543, 0.49650433875292266, 0.49650433875292266, 0.553615120557632, 0.44559265800980136, 0.49909908764615263, 0.49909908764615263, 0.5570389220556831, 0.44309914254429333, 0.5523536189824186, 0.44188289518593493, 0.541932005517247, 0.4663135861427474, 0.5618362923126453, 0.4494690338501162, 0.5666804466429523, 0.4422871778676701, 0.5183561569201522, 0.4804276576333119, 0.49365280973201703, 0.49365280973201703, 0.48978038317086253, 0.5037741084043157, 0.5250424162006606, 0.4750383765625024, 0.5074919878958408, 0.49480468819844486, 0.5073385789309114, 0.49362672544629216, 0.5599819454558007, 0.4370590793801371, 0.553019144340085, 0.44241531547206797, 0.513540067326503, 0.48786306396017787, 0.5429551246250811, 0.4671939444448372, 0.5296452418328577, 0.4665922368527556, 0.5379061560184792, 0.4628494830856682, 0.505963667922384, 0.4929902405397588, 0.5562123602453706, 0.4502671487700619, 0.5177165678063183, 0.47983486772292916, 0.5581533256651255, 0.44398559996089537, 0.5077283964905988, 0.49470971965750654, 0.5097967362773026, 0.4967250250907051], \"Term\": [\"anything\", \"anything\", \"appeal\", \"appeal\", \"around\", \"around\", \"ass\", \"ass\", \"beatbox\", \"beatbox\", \"big\", \"big\", \"bigger\", \"bigger\", \"bloody\", \"bloody\", \"blowing\", \"blowing\", \"blown\", \"blown\", \"bone\", \"bone\", \"bounce\", \"bounce\", \"boys\", \"boys\", \"breaks\", \"breaks\", \"brings\", \"brings\", \"cha\", \"cha\", \"charge\", \"charge\", \"choose\", \"choose\", \"crash\", \"crash\", \"dang\", \"dang\", \"die\", \"die\", \"diggy\", \"diggy\", \"dough\", \"dough\", \"drug\", \"drug\", \"dues\", \"dues\", \"easily\", \"easily\", \"everyday\", \"everyday\", \"everything\", \"everything\", \"fame\", \"fame\", \"fella\", \"fella\", \"first\", \"first\", \"flow\", \"flow\", \"friend\", \"friend\", \"funky\", \"funky\", \"get\", \"get\", \"go\", \"go\", \"goal\", \"goal\", \"gonna\", \"gonna\", \"got\", \"got\", \"gots\", \"gots\", \"group\", \"group\", \"ha\", \"ha\", \"hand\", \"hand\", \"hate\", \"hate\", \"health\", \"health\", \"high\", \"high\", \"hits\", \"hits\", \"hoes\", \"hoes\", \"homicide\", \"homicide\", \"homie\", \"homie\", \"house\", \"house\", \"huh\", \"huh\", \"hurt\", \"hurt\", \"jock\", \"jock\", \"jumped\", \"jumped\", \"killin\", \"killin\", \"know\", \"know\", \"ladies\", \"ladies\", \"laid\", \"laid\", \"leather\", \"leather\", \"life\", \"life\", \"lighten\", \"lighten\", \"little\", \"little\", \"long\", \"long\", \"mad\", \"mad\", \"man\", \"man\", \"map\", \"map\", \"mase\", \"mase\", \"mc\", \"mc\", \"mcs\", \"mcs\", \"meet\", \"meet\", \"mike\", \"mike\", \"mind\", \"mind\", \"mine\", \"mine\", \"motherfuckers\", \"motherfuckers\", \"movin\", \"movin\", \"mr\", \"mr\", \"much\", \"much\", \"nas\", \"nas\", \"nice\", \"nice\", \"niggas\", \"niggas\", \"niggaz\", \"niggaz\", \"ninety\", \"ninety\", \"outside\", \"outside\", \"pass\", \"pass\", \"piece\", \"piece\", \"place\", \"place\", \"plays\", \"plays\", \"pockets\", \"pockets\", \"pot\", \"pot\", \"project\", \"project\", \"radio\", \"radio\", \"rhymes\", \"rhymes\", \"right\", \"right\", \"roll\", \"roll\", \"say\", \"say\", \"sayin\", \"sayin\", \"seat\", \"seat\", \"shed\", \"shed\", \"shots\", \"shots\", \"skip\", \"skip\", \"sky\", \"sky\", \"slay\", \"slay\", \"slippin\", \"slippin\", \"smooth\", \"smooth\", \"soft\", \"soft\", \"spread\", \"spread\", \"start\", \"start\", \"strapped\", \"strapped\", \"streets\", \"streets\", \"strictly\", \"strictly\", \"styles\", \"styles\", \"super\", \"super\", \"supposed\", \"supposed\", \"taking\", \"taking\", \"talk\", \"talk\", \"think\", \"think\", \"thought\", \"thought\", \"tip\", \"tip\", \"tried\", \"tried\", \"tryna\", \"tryna\", \"unbelievable\", \"unbelievable\", \"well\", \"well\", \"would\", \"would\", \"woulda\", \"woulda\", \"ya\", \"ya\", \"yes\", \"yes\", \"yo\", \"yo\"]}, \"R\": 30, \"lambda.step\": 0.01, \"plot.opts\": {\"xlab\": \"PC1\", \"ylab\": \"PC2\"}, \"topic.order\": [2, 1]};\n\nfunction LDAvis_load_lib(url, callback){\n  var s = document.createElement('script');\n  s.src = url;\n  s.async = true;\n  s.onreadystatechange = s.onload = callback;\n  s.onerror = function(){console.warn(\"failed to load library \" + url);};\n  document.getElementsByTagName(\"head\")[0].appendChild(s);\n}\n\nif(typeof(LDAvis) !== \"undefined\"){\n   // already loaded: just create the visualization\n   !function(LDAvis){\n       new LDAvis(\"#\" + \"ldavis_el25157112766210725185262462\", ldavis_el25157112766210725185262462_data);\n   }(LDAvis);\n}else if(typeof define === \"function\" && define.amd){\n   // require.js is available: use it to load d3/LDAvis\n   require.config({paths: {d3: \"https://d3js.org/d3.v5\"}});\n   require([\"d3\"], function(d3){\n      window.d3 = d3;\n      LDAvis_load_lib(\"https://cdn.jsdelivr.net/gh/bmabey/pyLDAvis@3.4.0/pyLDAvis/js/ldavis.v3.0.0.js\", function(){\n        new LDAvis(\"#\" + \"ldavis_el25157112766210725185262462\", ldavis_el25157112766210725185262462_data);\n      });\n    });\n}else{\n    // require.js not available: dynamically load d3 & LDAvis\n    LDAvis_load_lib(\"https://d3js.org/d3.v5.js\", function(){\n         LDAvis_load_lib(\"https://cdn.jsdelivr.net/gh/bmabey/pyLDAvis@3.4.0/pyLDAvis/js/ldavis.v3.0.0.js\", function(){\n                 new LDAvis(\"#\" + \"ldavis_el25157112766210725185262462\", ldavis_el25157112766210725185262462_data);\n            })\n         });\n}\n</script>"
     },
     "execution_count": 218,
     "metadata": {},
     "output_type": "execute_result"
    }
   ],
   "source": [
    "vis.display(ctm_pd_east)"
   ],
   "metadata": {
    "collapsed": false,
    "ExecuteTime": {
     "end_time": "2024-03-15T12:06:01.985271Z",
     "start_time": "2024-03-15T12:06:01.976284Z"
    }
   },
   "id": "ac6e839c0ce8671b"
  },
  {
   "cell_type": "code",
   "execution_count": 225,
   "outputs": [
    {
     "name": "stdout",
     "output_type": "stream",
     "text": [
      "1594\n"
     ]
    }
   ],
   "source": [
    "word_count = 0\n",
    "word = 'niggas'\n",
    "for song in preprocessed_documents_east:\n",
    "    word_count += song.count(word)\n",
    "    \n",
    "print(word_count)"
   ],
   "metadata": {
    "collapsed": false,
    "ExecuteTime": {
     "end_time": "2024-03-15T12:13:38.867805Z",
     "start_time": "2024-03-15T12:13:38.832815Z"
    }
   },
   "id": "b7fa9fa31d1534e0"
  },
  {
   "cell_type": "code",
   "execution_count": 219,
   "outputs": [
    {
     "name": "stderr",
     "output_type": "stream",
     "text": [
      "0it [00:00, ?it/s]huggingface/tokenizers: The current process just got forked, after parallelism has already been used. Disabling parallelism to avoid deadlocks...\n",
      "To disable this warning, you can either:\n",
      "\t- Avoid using `tokenizers` before the fork if possible\n",
      "\t- Explicitly set the environment variable TOKENIZERS_PARALLELISM=(true | false)\n",
      "huggingface/tokenizers: The current process just got forked, after parallelism has already been used. Disabling parallelism to avoid deadlocks...\n",
      "To disable this warning, you can either:\n",
      "\t- Avoid using `tokenizers` before the fork if possible\n",
      "\t- Explicitly set the environment variable TOKENIZERS_PARALLELISM=(true | false)\n",
      "huggingface/tokenizers: The current process just got forked, after parallelism has already been used. Disabling parallelism to avoid deadlocks...\n",
      "To disable this warning, you can either:\n",
      "\t- Avoid using `tokenizers` before the fork if possible\n",
      "\t- Explicitly set the environment variable TOKENIZERS_PARALLELISM=(true | false)\n",
      "huggingface/tokenizers: The current process just got forked, after parallelism has already been used. Disabling parallelism to avoid deadlocks...\n",
      "To disable this warning, you can either:\n",
      "\t- Avoid using `tokenizers` before the fork if possible\n",
      "\t- Explicitly set the environment variable TOKENIZERS_PARALLELISM=(true | false)\n",
      "huggingface/tokenizers: The current process just got forked, after parallelism has already been used. Disabling parallelism to avoid deadlocks...\n",
      "To disable this warning, you can either:\n",
      "\t- Avoid using `tokenizers` before the fork if possible\n",
      "\t- Explicitly set the environment variable TOKENIZERS_PARALLELISM=(true | false)\n",
      "huggingface/tokenizers: The current process just got forked, after parallelism has already been used. Disabling parallelism to avoid deadlocks...\n",
      "To disable this warning, you can either:\n",
      "\t- Avoid using `tokenizers` before the fork if possible\n",
      "\t- Explicitly set the environment variable TOKENIZERS_PARALLELISM=(true | false)\n",
      "huggingface/tokenizers: The current process just got forked, after parallelism has already been used. Disabling parallelism to avoid deadlocks...\n",
      "To disable this warning, you can either:\n",
      "\t- Avoid using `tokenizers` before the fork if possible\n",
      "\t- Explicitly set the environment variable TOKENIZERS_PARALLELISM=(true | false)\n",
      "huggingface/tokenizers: The current process just got forked, after parallelism has already been used. Disabling parallelism to avoid deadlocks...\n",
      "To disable this warning, you can either:\n",
      "\t- Avoid using `tokenizers` before the fork if possible\n",
      "\t- Explicitly set the environment variable TOKENIZERS_PARALLELISM=(true | false)\n",
      "Epoch: [1/1]\t Seen Samples: [640/642]\tTrain Loss: 1962.07392578125\tTime: 0:00:47.880846: : 1it [00:47, 47.90s/it]\n",
      "  0%|          | 0/11 [00:00<?, ?it/s]huggingface/tokenizers: The current process just got forked, after parallelism has already been used. Disabling parallelism to avoid deadlocks...\n",
      "To disable this warning, you can either:\n",
      "\t- Avoid using `tokenizers` before the fork if possible\n",
      "\t- Explicitly set the environment variable TOKENIZERS_PARALLELISM=(true | false)\n",
      "huggingface/tokenizers: The current process just got forked, after parallelism has already been used. Disabling parallelism to avoid deadlocks...\n",
      "To disable this warning, you can either:\n",
      "\t- Avoid using `tokenizers` before the fork if possible\n",
      "\t- Explicitly set the environment variable TOKENIZERS_PARALLELISM=(true | false)\n",
      "huggingface/tokenizers: The current process just got forked, after parallelism has already been used. Disabling parallelism to avoid deadlocks...\n",
      "To disable this warning, you can either:\n",
      "\t- Avoid using `tokenizers` before the fork if possible\n",
      "\t- Explicitly set the environment variable TOKENIZERS_PARALLELISM=(true | false)\n",
      "huggingface/tokenizers: The current process just got forked, after parallelism has already been used. Disabling parallelism to avoid deadlocks...\n",
      "To disable this warning, you can either:\n",
      "\t- Avoid using `tokenizers` before the fork if possible\n",
      "\t- Explicitly set the environment variable TOKENIZERS_PARALLELISM=(true | false)\n",
      "huggingface/tokenizers: The current process just got forked, after parallelism has already been used. Disabling parallelism to avoid deadlocks...\n",
      "To disable this warning, you can either:\n",
      "\t- Avoid using `tokenizers` before the fork if possible\n",
      "\t- Explicitly set the environment variable TOKENIZERS_PARALLELISM=(true | false)\n",
      "huggingface/tokenizers: The current process just got forked, after parallelism has already been used. Disabling parallelism to avoid deadlocks...\n",
      "To disable this warning, you can either:\n",
      "\t- Avoid using `tokenizers` before the fork if possible\n",
      "\t- Explicitly set the environment variable TOKENIZERS_PARALLELISM=(true | false)\n",
      "huggingface/tokenizers: The current process just got forked, after parallelism has already been used. Disabling parallelism to avoid deadlocks...\n",
      "To disable this warning, you can either:\n",
      "\t- Avoid using `tokenizers` before the fork if possible\n",
      "\t- Explicitly set the environment variable TOKENIZERS_PARALLELISM=(true | false)\n",
      "huggingface/tokenizers: The current process just got forked, after parallelism has already been used. Disabling parallelism to avoid deadlocks...\n",
      "To disable this warning, you can either:\n",
      "\t- Avoid using `tokenizers` before the fork if possible\n",
      "\t- Explicitly set the environment variable TOKENIZERS_PARALLELISM=(true | false)\n",
      "100%|██████████| 11/11 [00:47<00:00,  4.29s/it]\n"
     ]
    }
   ],
   "source": [
    "ctm_west = CombinedTM(bow_size=len(tp_west.vocab), contextual_size=768, n_components=2, num_epochs=1)\n",
    "ctm_west.fit(training_dataset_west) # run the model"
   ],
   "metadata": {
    "collapsed": false,
    "ExecuteTime": {
     "end_time": "2024-03-15T12:07:52.085563Z",
     "start_time": "2024-03-15T12:06:16.953830Z"
    }
   },
   "id": "5e820a3c20f24cca"
  },
  {
   "cell_type": "code",
   "execution_count": 220,
   "outputs": [
    {
     "name": "stderr",
     "output_type": "stream",
     "text": [
      "  0%|          | 0/11 [00:00<?, ?it/s]huggingface/tokenizers: The current process just got forked, after parallelism has already been used. Disabling parallelism to avoid deadlocks...\n",
      "To disable this warning, you can either:\n",
      "\t- Avoid using `tokenizers` before the fork if possible\n",
      "\t- Explicitly set the environment variable TOKENIZERS_PARALLELISM=(true | false)\n",
      "huggingface/tokenizers: The current process just got forked, after parallelism has already been used. Disabling parallelism to avoid deadlocks...\n",
      "To disable this warning, you can either:\n",
      "\t- Avoid using `tokenizers` before the fork if possible\n",
      "\t- Explicitly set the environment variable TOKENIZERS_PARALLELISM=(true | false)\n",
      "huggingface/tokenizers: The current process just got forked, after parallelism has already been used. Disabling parallelism to avoid deadlocks...\n",
      "To disable this warning, you can either:\n",
      "\t- Avoid using `tokenizers` before the fork if possible\n",
      "\t- Explicitly set the environment variable TOKENIZERS_PARALLELISM=(true | false)\n",
      "huggingface/tokenizers: The current process just got forked, after parallelism has already been used. Disabling parallelism to avoid deadlocks...\n",
      "To disable this warning, you can either:\n",
      "\t- Avoid using `tokenizers` before the fork if possible\n",
      "\t- Explicitly set the environment variable TOKENIZERS_PARALLELISM=(true | false)\n",
      "huggingface/tokenizers: The current process just got forked, after parallelism has already been used. Disabling parallelism to avoid deadlocks...\n",
      "To disable this warning, you can either:\n",
      "\t- Avoid using `tokenizers` before the fork if possible\n",
      "\t- Explicitly set the environment variable TOKENIZERS_PARALLELISM=(true | false)\n",
      "huggingface/tokenizers: The current process just got forked, after parallelism has already been used. Disabling parallelism to avoid deadlocks...\n",
      "To disable this warning, you can either:\n",
      "\t- Avoid using `tokenizers` before the fork if possible\n",
      "\t- Explicitly set the environment variable TOKENIZERS_PARALLELISM=(true | false)\n",
      "huggingface/tokenizers: The current process just got forked, after parallelism has already been used. Disabling parallelism to avoid deadlocks...\n",
      "To disable this warning, you can either:\n",
      "\t- Avoid using `tokenizers` before the fork if possible\n",
      "\t- Explicitly set the environment variable TOKENIZERS_PARALLELISM=(true | false)\n",
      "huggingface/tokenizers: The current process just got forked, after parallelism has already been used. Disabling parallelism to avoid deadlocks...\n",
      "To disable this warning, you can either:\n",
      "\t- Avoid using `tokenizers` before the fork if possible\n",
      "\t- Explicitly set the environment variable TOKENIZERS_PARALLELISM=(true | false)\n",
      "100%|██████████| 11/11 [00:49<00:00,  4.52s/it]\n"
     ]
    }
   ],
   "source": [
    "lda_vis_data_west = ctm_east.get_ldavis_data_format(tp_west.vocab, training_dataset_west, n_samples=5)\n",
    "ctm_pd_west = vis.prepare(**lda_vis_data_west)"
   ],
   "metadata": {
    "collapsed": false,
    "ExecuteTime": {
     "end_time": "2024-03-15T12:08:47.396409Z",
     "start_time": "2024-03-15T12:07:57.444717Z"
    }
   },
   "id": "72864fe2ff5468ce"
  },
  {
   "cell_type": "code",
   "execution_count": 221,
   "outputs": [
    {
     "data": {
      "text/plain": "<IPython.core.display.HTML object>",
      "text/html": "\n<link rel=\"stylesheet\" type=\"text/css\" href=\"https://cdn.jsdelivr.net/gh/bmabey/pyLDAvis@3.4.0/pyLDAvis/js/ldavis.v1.0.0.css\">\n\n\n<div id=\"ldavis_el25157112766233125932634818\" style=\"background-color:white;\"></div>\n<script type=\"text/javascript\">\n\nvar ldavis_el25157112766233125932634818_data = {\"mdsDat\": {\"x\": [0.00010742726848502771, -0.00010742726848502771], \"y\": [0.0, 0.0], \"topics\": [1, 2], \"cluster\": [1, 1], \"Freq\": [59.717586570345624, 40.282413429654376]}, \"tinfo\": {\"Term\": [\"light\", \"night\", \"hips\", \"blue\", \"mash\", \"searchin\", \"ass\", \"hour\", \"strong\", \"mess\", \"grind\", \"send\", \"somewhere\", \"glass\", \"knocked\", \"smoke\", \"nobody\", \"three\", \"yah\", \"thug\", \"mix\", \"direction\", \"slip\", \"food\", \"hold\", \"stars\", \"killers\", \"limit\", \"moved\", \"missin\", \"mellow\", \"meet\", \"swingin\", \"blunt\", \"eazy\", \"soldiers\", \"droppin\", \"homicide\", \"bro\", \"grave\", \"short\", \"ground\", \"hitting\", \"sunrise\", \"hot\", \"jimmy\", \"hangin\", \"smacked\", \"playa\", \"booty\", \"may\", \"charge\", \"plus\", \"blowin\", \"nigga\", \"music\", \"season\", \"dude\", \"magic\", \"bucket\", \"pieces\", \"te\", \"physical\", \"taught\", \"yo\", \"many\", \"gave\", \"nate\", \"yet\", \"toes\", \"paradise\", \"rape\", \"wearing\", \"chest\", \"mischief\", \"rocks\", \"beatin\", \"river\", \"bit\", \"slide\", \"learned\", \"pound\", \"far\", \"hacer\", \"stuff\", \"switch\", \"breaks\", \"rules\", \"worst\", \"around\", \"heaven\", \"homie\", \"lady\", \"jumped\", \"prove\", \"crazy\", \"light\", \"mash\", \"night\", \"blue\", \"hips\", \"send\", \"strong\", \"nobody\", \"knocked\", \"thug\", \"slip\", \"three\", \"searchin\", \"smoke\", \"hour\", \"killers\", \"food\", \"ass\", \"stars\", \"limit\", \"mess\", \"direction\", \"away\", \"grind\", \"hold\", \"everytime\", \"evil\", \"longer\", \"mutha\", \"strikes\", \"somewhere\", \"glass\", \"yah\", \"mix\", \"missin\", \"moved\", \"groupie\", \"hard\", \"worse\", \"grass\", \"funky\", \"hearin\", \"church\", \"outlaw\", \"lo\", \"boys\", \"nightmare\", \"lack\", \"de\", \"aqui\", \"diss\", \"doubt\", \"sign\", \"um\", \"bird\", \"hum\", \"step\", \"fiends\", \"flavor\", \"trouble\", \"murda\", \"turned\"], \"Freq\": [82.0, 76.0, 75.0, 74.0, 73.0, 82.0, 83.0, 82.0, 75.0, 82.0, 82.0, 73.0, 82.0, 83.0, 76.0, 77.0, 73.0, 76.0, 82.0, 75.0, 83.0, 77.0, 74.0, 75.0, 76.0, 75.0, 74.0, 75.0, 79.0, 78.0, 49.815196904054474, 51.09676925204507, 48.76409289856887, 47.93754694664195, 47.29072975356403, 48.833737724026186, 48.94197229123875, 47.85700897024832, 47.8581174924091, 47.94703523781016, 47.834278778218994, 49.15318966473387, 48.886628499202104, 49.130453984971076, 48.91672322954707, 47.55780127830843, 49.961093786065994, 47.3361517234884, 47.514475622569286, 48.13592851155268, 48.83887424255333, 48.950807542124124, 48.06584466741783, 46.995440303321125, 48.54412259019041, 52.41706304739418, 52.2793319127848, 47.83249526484151, 52.90083419136941, 47.33858278941525, 47.73904465159491, 48.64280301343314, 51.774932378698935, 52.3429786455603, 50.88528846734343, 50.83770981816567, 51.50270238449351, 51.09761436299933, 50.95843446675408, 51.49315921599061, 51.79783817819928, 50.912705183755435, 50.74406713424765, 51.899948434860235, 51.08915776572333, 51.20261116746508, 51.67530806529951, 51.23938446944203, 51.512980909281275, 51.315746280665614, 51.25355928499291, 51.37876192409217, 51.15330388224453, 51.220940197252126, 51.26849140776254, 51.55810654159831, 51.228540708106934, 51.30546775587785, 51.231339452176215, 51.224040766662206, 51.19586674303146, 51.14042965952584, 51.1373565287831, 51.138272980272454, 51.11252453483508, 51.105511211461476, 37.08246800295299, 32.16365504927581, 33.78425955509437, 32.56863311925277, 33.02117488295684, 32.10709982219488, 32.95996656512838, 31.997628181242902, 33.188741676010416, 32.69518089991704, 32.25400348672602, 33.07556459047747, 35.4741421781285, 33.4440656865275, 35.543938539341426, 32.293315995666944, 32.64850932621391, 36.0773337701159, 32.62844958177409, 32.56445014984568, 35.64430019116877, 33.32272995977932, 32.35994366501043, 35.47773657042433, 33.020819515644384, 32.18820870952112, 32.75766631902465, 32.862806920856016, 32.257660808650094, 31.99937170211966, 35.48081271872282, 35.749729528941515, 35.29914228545597, 35.48675401597801, 33.55935646722102, 34.13378181561332, 34.61517126125493, 35.12320585184539, 33.81192267932371, 34.565090382397884, 34.71319711335142, 34.84208809723222, 33.774420322630625, 33.9014641368352, 34.88382524773212, 34.44690854054779, 34.62313000835691, 34.503341610115065, 34.50145742301046, 34.503560012942515, 34.52826914638702, 34.29507415455627, 34.0810134714558, 34.56924003611943, 34.24522648549802, 34.46717928432938, 34.43852039127659, 34.379566434836555, 34.37640884819563, 34.358148150775136, 34.34688004557587, 34.31668492924526], \"Total\": [82.0, 76.0, 75.0, 74.0, 73.0, 82.0, 83.0, 82.0, 75.0, 82.0, 82.0, 73.0, 82.0, 83.0, 76.0, 77.0, 73.0, 76.0, 82.0, 75.0, 83.0, 77.0, 74.0, 75.0, 76.0, 75.0, 74.0, 75.0, 79.0, 78.0, 78.59457613361376, 80.8308224069435, 77.29053759261308, 76.32403244571935, 75.38332648523671, 77.85939575547759, 78.05087141389114, 76.33012635696645, 76.38306668234671, 76.57836696430132, 76.41129668291771, 78.5343482713878, 78.13897385857483, 78.62140258246106, 78.33275780635043, 76.19794130188292, 80.10293648462692, 75.93627590698271, 76.28945162902261, 77.29186382957776, 78.44981668501268, 78.6503437959284, 77.26298038323128, 75.55110655532951, 78.06193288458527, 84.29533963605013, 84.08138591466084, 76.99825871010182, 85.2031047029618, 76.29596957770305, 76.94618432742841, 78.42912107546309, 83.7015981497349, 84.67127611104756, 82.21397099856526, 82.16208722246675, 83.39676690635409, 82.70547493558715, 82.49513643676454, 83.58057687151516, 84.5134526985828, 82.74063066632716, 82.62575672980036, 85.22683175010394, 83.60087658883987, 83.89153242024284, 84.98682914776498, 83.98369490030672, 84.8647103224545, 84.38152346307908, 84.27087325016959, 84.61258712612815, 84.03498598983217, 84.27417217318717, 84.46477723567706, 85.30601498202226, 84.4369867612447, 84.71042082757768, 84.52886054322788, 84.51373267161122, 84.42234028379092, 84.28276998906031, 84.28836263830163, 84.67213184282446, 84.08608389966508, 84.5738418222929, 82.9377548497842, 73.19702689714573, 76.91229378041538, 74.20420414322949, 75.30609020127403, 73.56690697475409, 75.52730259870326, 73.6603442788249, 76.75443362096519, 75.67607527159578, 74.69575548372553, 76.61707209403357, 82.17967101000653, 77.50614781856987, 82.47186874552474, 74.94573384894792, 75.82415787098023, 83.82758986118833, 75.83820987778482, 75.71181217244515, 82.87806178358929, 77.53557659342036, 75.32429800801306, 82.60807633788474, 76.89154438161657, 74.97607480028832, 76.3185976551949, 76.57105371813957, 75.18092574730227, 74.61061234731469, 82.79296658375051, 83.63354607718676, 82.70176143672305, 83.39041969618127, 78.4363148859681, 79.99198813665012, 81.34629488203319, 82.78858316935009, 79.2182662826418, 81.43975664752938, 82.2316074408181, 82.75758533079502, 79.32728640957572, 79.78320460285457, 83.30228422921186, 81.9458538773993, 82.86380837636922, 82.55384257475308, 82.6633319384054, 83.09275884584873, 83.2614880564583, 82.722258632252, 81.50180250823931, 84.68414950359298, 82.605158789529, 84.16679354605607, 83.9707587821934, 83.57044036530326, 83.76818870096888, 83.82287644455414, 84.46364985469546, 83.98831723801263], \"Category\": [\"Default\", \"Default\", \"Default\", \"Default\", \"Default\", \"Default\", \"Default\", \"Default\", \"Default\", \"Default\", \"Default\", \"Default\", \"Default\", \"Default\", \"Default\", \"Default\", \"Default\", \"Default\", \"Default\", \"Default\", \"Default\", \"Default\", \"Default\", \"Default\", \"Default\", \"Default\", \"Default\", \"Default\", \"Default\", \"Default\", \"Topic1\", \"Topic1\", \"Topic1\", \"Topic1\", \"Topic1\", \"Topic1\", \"Topic1\", \"Topic1\", \"Topic1\", \"Topic1\", \"Topic1\", \"Topic1\", \"Topic1\", \"Topic1\", \"Topic1\", \"Topic1\", \"Topic1\", \"Topic1\", \"Topic1\", \"Topic1\", \"Topic1\", \"Topic1\", \"Topic1\", \"Topic1\", \"Topic1\", \"Topic1\", \"Topic1\", \"Topic1\", \"Topic1\", \"Topic1\", \"Topic1\", \"Topic1\", \"Topic1\", \"Topic1\", \"Topic1\", \"Topic1\", \"Topic1\", \"Topic1\", \"Topic1\", \"Topic1\", \"Topic1\", \"Topic1\", \"Topic1\", \"Topic1\", \"Topic1\", \"Topic1\", \"Topic1\", \"Topic1\", \"Topic1\", \"Topic1\", \"Topic1\", \"Topic1\", \"Topic1\", \"Topic1\", \"Topic1\", \"Topic1\", \"Topic1\", \"Topic1\", \"Topic1\", \"Topic1\", \"Topic1\", \"Topic1\", \"Topic1\", \"Topic1\", \"Topic1\", \"Topic1\", \"Topic2\", \"Topic2\", \"Topic2\", \"Topic2\", \"Topic2\", \"Topic2\", \"Topic2\", \"Topic2\", \"Topic2\", \"Topic2\", \"Topic2\", \"Topic2\", \"Topic2\", \"Topic2\", \"Topic2\", \"Topic2\", \"Topic2\", \"Topic2\", \"Topic2\", \"Topic2\", \"Topic2\", \"Topic2\", \"Topic2\", \"Topic2\", \"Topic2\", \"Topic2\", \"Topic2\", \"Topic2\", \"Topic2\", \"Topic2\", \"Topic2\", \"Topic2\", \"Topic2\", \"Topic2\", \"Topic2\", \"Topic2\", \"Topic2\", \"Topic2\", \"Topic2\", \"Topic2\", \"Topic2\", \"Topic2\", \"Topic2\", \"Topic2\", \"Topic2\", \"Topic2\", \"Topic2\", \"Topic2\", \"Topic2\", \"Topic2\", \"Topic2\", \"Topic2\", \"Topic2\", \"Topic2\", \"Topic2\", \"Topic2\", \"Topic2\", \"Topic2\", \"Topic2\", \"Topic2\", \"Topic2\", \"Topic2\"], \"logprob\": [30.0, 29.0, 28.0, 27.0, 26.0, 25.0, 24.0, 23.0, 22.0, 21.0, 20.0, 19.0, 18.0, 17.0, 16.0, 15.0, 14.0, 13.0, 12.0, 11.0, 10.0, 9.0, 8.0, 7.0, 6.0, 5.0, 4.0, 3.0, 2.0, 1.0, -7.5457, -7.5203, -7.567, -7.5841, -7.5977, -7.5656, -7.5634, -7.5858, -7.5858, -7.5839, -7.5863, -7.5591, -7.5645, -7.5595, -7.5639, -7.5921, -7.5428, -7.5967, -7.593, -7.58, -7.5655, -7.5632, -7.5814, -7.604, -7.5715, -7.4948, -7.4974, -7.5863, -7.4856, -7.5967, -7.5883, -7.5695, -7.5071, -7.4962, -7.5244, -7.5254, -7.5124, -7.5203, -7.523, -7.5126, -7.5067, -7.5239, -7.5272, -7.5047, -7.5204, -7.5182, -7.509, -7.5175, -7.5122, -7.516, -7.5172, -7.5148, -7.5192, -7.5179, -7.5169, -7.5113, -7.5177, -7.5162, -7.5177, -7.5178, -7.5184, -7.5194, -7.5195, -7.5195, -7.52, -7.5201, -7.4472, -7.5895, -7.5403, -7.5769, -7.5631, -7.5912, -7.565, -7.5946, -7.5581, -7.5731, -7.5867, -7.5615, -7.4915, -7.5504, -7.4895, -7.5854, -7.5745, -7.4746, -7.5751, -7.5771, -7.4867, -7.5541, -7.5834, -7.4914, -7.5632, -7.5887, -7.5712, -7.568, -7.5865, -7.5946, -7.4913, -7.4838, -7.4964, -7.4911, -7.547, -7.53, -7.516, -7.5014, -7.5395, -7.5175, -7.5132, -7.5095, -7.5406, -7.5368, -7.5083, -7.5209, -7.5158, -7.5192, -7.5193, -7.5192, -7.5185, -7.5253, -7.5316, -7.5173, -7.5268, -7.5203, -7.5211, -7.5228, -7.5229, -7.5235, -7.5238, -7.5247], \"loglift\": [30.0, 29.0, 28.0, 27.0, 26.0, 25.0, 24.0, 23.0, 22.0, 21.0, 20.0, 19.0, 18.0, 17.0, 16.0, 15.0, 14.0, 13.0, 12.0, 11.0, 10.0, 9.0, 8.0, 7.0, 6.0, 5.0, 4.0, 3.0, 2.0, 1.0, 0.0596, 0.0569, 0.055, 0.0505, 0.0493, 0.0491, 0.0488, 0.0487, 0.048, 0.0473, 0.0472, 0.0469, 0.0466, 0.0454, 0.0447, 0.0442, 0.0435, 0.0429, 0.042, 0.042, 0.0416, 0.0413, 0.0409, 0.0408, 0.0405, 0.0404, 0.0404, 0.0395, 0.0389, 0.0382, 0.0382, 0.0379, 0.0352, 0.0346, 0.0358, 0.0355, 0.0336, 0.034, 0.0338, 0.0312, 0.026, 0.0299, 0.028, 0.0195, 0.0231, 0.0218, 0.018, 0.0214, 0.0163, 0.0182, 0.0183, 0.0167, 0.0191, 0.0176, 0.0163, 0.012, 0.0158, 0.0141, 0.0148, 0.0148, 0.0154, 0.0159, 0.0158, 0.0113, 0.0177, 0.0118, 0.1043, 0.0869, 0.0866, 0.0858, 0.0848, 0.0801, 0.0801, 0.0755, 0.0709, 0.07, 0.0695, 0.0692, 0.0692, 0.0688, 0.0676, 0.0674, 0.0666, 0.0662, 0.0658, 0.0655, 0.0655, 0.0648, 0.0644, 0.0641, 0.064, 0.0637, 0.0635, 0.0634, 0.0631, 0.0627, 0.0619, 0.0594, 0.0579, 0.0549, 0.0603, 0.0576, 0.0548, 0.0518, 0.0579, 0.0522, 0.0468, 0.0442, 0.0554, 0.0534, 0.0388, 0.0426, 0.0366, 0.0369, 0.0355, 0.0304, 0.029, 0.0288, 0.0374, 0.0133, 0.0287, 0.0165, 0.018, 0.021, 0.0186, 0.0174, 0.0094, 0.0142]}, \"token.table\": {\"Topic\": [1, 2, 1, 2, 1, 2, 1, 2, 1, 2, 1, 2, 1, 2, 1, 2, 1, 2, 1, 2, 1, 2, 1, 2, 1, 2, 1, 2, 1, 2, 1, 2, 1, 2, 1, 2, 1, 2, 1, 2, 1, 2, 1, 2, 1, 2, 1, 2, 1, 2, 1, 2, 1, 2, 1, 2, 1, 2, 1, 2, 1, 2, 1, 2, 1, 2, 1, 2, 1, 2, 1, 2, 1, 2, 1, 2, 1, 2, 1, 2, 1, 2, 1, 2, 1, 2, 1, 2, 1, 2, 1, 2, 1, 2, 1, 2, 1, 2, 1, 2, 1, 2, 1, 2, 1, 2, 1, 2, 1, 2, 1, 2, 1, 2, 1, 2, 1, 2, 1, 2, 1, 2, 1, 2, 1, 2, 1, 2, 1, 2, 1, 2, 1, 2, 1, 2, 1, 2, 1, 2, 1, 2, 1, 2, 1, 2, 1, 2, 1, 2, 1, 2, 1, 2, 1, 2, 1, 2, 1, 2, 1, 2, 1, 2, 1, 2, 1, 2, 1, 2, 1, 2, 1, 2, 1, 2, 1, 2, 1, 2, 1, 2, 1, 2, 1, 2, 1, 2, 1, 2, 1, 2, 1, 2, 1, 2, 1, 2, 1, 2, 1, 2, 1, 2, 1, 2, 1, 2, 1, 2, 1, 2, 1, 2, 1, 2, 1, 2, 1, 2, 1, 2, 1, 2, 1, 2, 1, 2, 1, 2, 1, 2, 1, 2, 1, 2, 1, 2, 1, 2, 1, 2, 1, 2, 1, 2, 1, 2, 1, 2, 1, 2, 1, 2, 1, 2], \"Freq\": [0.5897024082556144, 0.42121600589686736, 0.6034522247191109, 0.3904690865829541, 0.5726038417600231, 0.42945288132001735, 0.5708649285443805, 0.4248297142655855, 0.6118595142500092, 0.388295460966352, 0.5810775102109539, 0.411596569732759, 0.6127399693278778, 0.3888542113042301, 0.6220954548902571, 0.38384613174079696, 0.566005666187475, 0.4447187377187304, 0.6288975891589188, 0.36685692700936934, 0.6210226745965923, 0.3752011992354412, 0.5735494570636552, 0.41490811787583576, 0.6040007105441644, 0.39082398917563577, 0.6284115326190947, 0.37966530095736967, 0.6160220554263119, 0.3800987150502776, 0.6230106269737202, 0.38143507773901236, 0.6101364902601414, 0.3872020034343205, 0.5798761319339327, 0.42860409751638506, 0.6030233332330052, 0.39019156856253273, 0.5806685851444513, 0.4234041766678291, 0.5674814315333772, 0.4256110736500329, 0.5885073777059313, 0.42036241264709384, 0.5802549494373407, 0.4110139225181163, 0.6277956813596728, 0.3715525461108268, 0.6233907208307117, 0.37663189383522166, 0.6234800477955111, 0.37143492209094275, 0.5735162865559167, 0.4268028179020776, 0.5765305096248055, 0.4323978822186041, 0.6068900874948769, 0.39269358602609683, 0.5863317195148322, 0.40684241762253665, 0.5849475888146219, 0.4058820004019825, 0.5671015835502891, 0.4352174943525474, 0.5837171556514384, 0.4256270926625072, 0.6235253706944132, 0.38370792042733115, 0.5739323782313381, 0.4304492836735036, 0.5771137087677659, 0.42976552780578314, 0.6268088743962932, 0.3786970282810938, 0.5689516338300861, 0.423687386894745, 0.6239308159873281, 0.3692651768088268, 0.5777767760431927, 0.4302593013087605, 0.6051676176087821, 0.3915790466880355, 0.6241968421419335, 0.3745181052851601, 0.5797900889523921, 0.4227636065277859, 0.5800072562307912, 0.4229219576682853, 0.6041054989539539, 0.3908917934407937, 0.5577238160651373, 0.43821156976546505, 0.6270878356898569, 0.3711336170409357, 0.5722345721348215, 0.4291759291011162, 0.6288473803321455, 0.36682763852708483, 0.605105883523046, 0.3915391011031474, 0.6255365108060522, 0.3702154859872554, 0.5698912940244295, 0.43651248052935027, 0.5940585104105219, 0.4039597870791549, 0.6299382789074628, 0.38058771017325876, 0.6023233251605203, 0.4015488834403469, 0.5737484682806082, 0.42697560430184794, 0.5732567869275705, 0.42994259019567793, 0.5814387132438525, 0.42396572840697583, 0.6050657339121805, 0.39151312194317567, 0.6051913078982764, 0.39159437569888467, 0.554632809669307, 0.44611769473400775, 0.5679430826732951, 0.4358632960050869, 0.576214691399395, 0.4201565458120588, 0.5746296787551778, 0.4309722590663833, 0.622043060341176, 0.37557316850787986, 0.6207242503699972, 0.37730297571509636, 0.5601320400296035, 0.4371762263645686, 0.6246031166234851, 0.38241007140213373, 0.630947434176038, 0.3711455495153165, 0.6361762154553529, 0.36898220496410467, 0.5670982041390655, 0.43437309253205014, 0.610041450292737, 0.39473270313059455, 0.5737138475388814, 0.43347268480715484, 0.5756056891772435, 0.4197124816917401, 0.575057591035471, 0.42504256728708734, 0.5919706298036613, 0.4025400282664897, 0.6168787055667956, 0.37961766496418187, 0.5719535849363092, 0.4256398771619045, 0.6166459964073712, 0.3869151350007035, 0.627706721949181, 0.38431023792807, 0.5590783720839871, 0.44206196862454794, 0.5792637454216798, 0.42237981436997485, 0.5701846822900842, 0.434426424601969, 0.5765624510694844, 0.4261548551383146, 0.6152866595742809, 0.39047038011444746, 0.621254565617451, 0.3823105019184314, 0.6238126090274474, 0.3768867846207495, 0.6291826586119997, 0.3801311895780832, 0.6212548333227079, 0.375341461799136, 0.6027472002951123, 0.39001289430860203, 0.6065212890738884, 0.3924549517536925, 0.6163839892116679, 0.3867507383288897, 0.6072607315091318, 0.39293341450590885, 0.607927862665837, 0.39336508760730626, 0.602051075909622, 0.38956246088269664, 0.5719175974101562, 0.4258960831777759, 0.6184484167848739, 0.380583641098384, 0.5573158052447406, 0.4349781894593097, 0.6281793672365561, 0.37952503437208596, 0.5766743624504329, 0.4171686877301004, 0.6043977153637777, 0.3910808746471503, 0.5622809452559968, 0.42840452971885473, 0.6189400183065616, 0.3818991602317083, 0.5676969019670197, 0.4257726764752648, 0.629339587400442, 0.3724662864206698, 0.567681071706211, 0.42274122361100813, 0.5669965057099262, 0.43513685321924567, 0.5954453755704642, 0.40490285538791565, 0.5763255205550878, 0.4288934106456468, 0.5693305403540028, 0.4369280891088858, 0.6038019831354995, 0.390695400852382, 0.6232399625357354, 0.3688563043578842, 0.63397152518555, 0.37520763735471324, 0.6095701459147833, 0.39856509540581986, 0.6141397931903291, 0.3779321804248179, 0.6247679347681722, 0.3825109804703095, 0.5742845399521137, 0.4307134049640853, 0.5682112853458139, 0.43606912596306646, 0.6101896147283131, 0.3828640719863926, 0.5845659571514676, 0.4056171947581612, 0.595320892765432, 0.40481820708049376, 0.5904292632457577, 0.4133004842720304, 0.6172409430001141, 0.38728843482360104, 0.5680508058513309, 0.42919394219878343, 0.6033442267202775, 0.39039920552488544, 0.5683071216803616, 0.4232074310385671, 0.6182182635590077, 0.3879016555664362, 0.6203325223262847, 0.37706486651205534], \"Term\": [\"aqui\", \"aqui\", \"around\", \"around\", \"ass\", \"ass\", \"away\", \"away\", \"beatin\", \"beatin\", \"bird\", \"bird\", \"bit\", \"bit\", \"blowin\", \"blowin\", \"blue\", \"blue\", \"blunt\", \"blunt\", \"booty\", \"booty\", \"boys\", \"boys\", \"breaks\", \"breaks\", \"bro\", \"bro\", \"bucket\", \"bucket\", \"charge\", \"charge\", \"chest\", \"chest\", \"church\", \"church\", \"crazy\", \"crazy\", \"de\", \"de\", \"direction\", \"direction\", \"diss\", \"diss\", \"doubt\", \"doubt\", \"droppin\", \"droppin\", \"dude\", \"dude\", \"eazy\", \"eazy\", \"everytime\", \"everytime\", \"evil\", \"evil\", \"far\", \"far\", \"fiends\", \"fiends\", \"flavor\", \"flavor\", \"food\", \"food\", \"funky\", \"funky\", \"gave\", \"gave\", \"glass\", \"glass\", \"grass\", \"grass\", \"grave\", \"grave\", \"grind\", \"grind\", \"ground\", \"ground\", \"groupie\", \"groupie\", \"hacer\", \"hacer\", \"hangin\", \"hangin\", \"hard\", \"hard\", \"hearin\", \"hearin\", \"heaven\", \"heaven\", \"hips\", \"hips\", \"hitting\", \"hitting\", \"hold\", \"hold\", \"homicide\", \"homicide\", \"homie\", \"homie\", \"hot\", \"hot\", \"hour\", \"hour\", \"hum\", \"hum\", \"jimmy\", \"jimmy\", \"jumped\", \"jumped\", \"killers\", \"killers\", \"knocked\", \"knocked\", \"lack\", \"lack\", \"lady\", \"lady\", \"learned\", \"learned\", \"light\", \"light\", \"limit\", \"limit\", \"lo\", \"lo\", \"longer\", \"longer\", \"magic\", \"magic\", \"many\", \"many\", \"mash\", \"mash\", \"may\", \"may\", \"meet\", \"meet\", \"mellow\", \"mellow\", \"mess\", \"mess\", \"mischief\", \"mischief\", \"missin\", \"missin\", \"mix\", \"mix\", \"moved\", \"moved\", \"murda\", \"murda\", \"music\", \"music\", \"mutha\", \"mutha\", \"nate\", \"nate\", \"nigga\", \"nigga\", \"night\", \"night\", \"nightmare\", \"nightmare\", \"nobody\", \"nobody\", \"outlaw\", \"outlaw\", \"paradise\", \"paradise\", \"physical\", \"physical\", \"pieces\", \"pieces\", \"playa\", \"playa\", \"plus\", \"plus\", \"pound\", \"pound\", \"prove\", \"prove\", \"rape\", \"rape\", \"river\", \"river\", \"rocks\", \"rocks\", \"rules\", \"rules\", \"searchin\", \"searchin\", \"season\", \"season\", \"send\", \"send\", \"short\", \"short\", \"sign\", \"sign\", \"slide\", \"slide\", \"slip\", \"slip\", \"smacked\", \"smacked\", \"smoke\", \"smoke\", \"soldiers\", \"soldiers\", \"somewhere\", \"somewhere\", \"stars\", \"stars\", \"step\", \"step\", \"strikes\", \"strikes\", \"strong\", \"strong\", \"stuff\", \"stuff\", \"sunrise\", \"sunrise\", \"swingin\", \"swingin\", \"switch\", \"switch\", \"taught\", \"taught\", \"te\", \"te\", \"three\", \"three\", \"thug\", \"thug\", \"toes\", \"toes\", \"trouble\", \"trouble\", \"turned\", \"turned\", \"um\", \"um\", \"wearing\", \"wearing\", \"worse\", \"worse\", \"worst\", \"worst\", \"yah\", \"yah\", \"yet\", \"yet\", \"yo\", \"yo\"]}, \"R\": 30, \"lambda.step\": 0.01, \"plot.opts\": {\"xlab\": \"PC1\", \"ylab\": \"PC2\"}, \"topic.order\": [1, 2]};\n\nfunction LDAvis_load_lib(url, callback){\n  var s = document.createElement('script');\n  s.src = url;\n  s.async = true;\n  s.onreadystatechange = s.onload = callback;\n  s.onerror = function(){console.warn(\"failed to load library \" + url);};\n  document.getElementsByTagName(\"head\")[0].appendChild(s);\n}\n\nif(typeof(LDAvis) !== \"undefined\"){\n   // already loaded: just create the visualization\n   !function(LDAvis){\n       new LDAvis(\"#\" + \"ldavis_el25157112766233125932634818\", ldavis_el25157112766233125932634818_data);\n   }(LDAvis);\n}else if(typeof define === \"function\" && define.amd){\n   // require.js is available: use it to load d3/LDAvis\n   require.config({paths: {d3: \"https://d3js.org/d3.v5\"}});\n   require([\"d3\"], function(d3){\n      window.d3 = d3;\n      LDAvis_load_lib(\"https://cdn.jsdelivr.net/gh/bmabey/pyLDAvis@3.4.0/pyLDAvis/js/ldavis.v3.0.0.js\", function(){\n        new LDAvis(\"#\" + \"ldavis_el25157112766233125932634818\", ldavis_el25157112766233125932634818_data);\n      });\n    });\n}else{\n    // require.js not available: dynamically load d3 & LDAvis\n    LDAvis_load_lib(\"https://d3js.org/d3.v5.js\", function(){\n         LDAvis_load_lib(\"https://cdn.jsdelivr.net/gh/bmabey/pyLDAvis@3.4.0/pyLDAvis/js/ldavis.v3.0.0.js\", function(){\n                 new LDAvis(\"#\" + \"ldavis_el25157112766233125932634818\", ldavis_el25157112766233125932634818_data);\n            })\n         });\n}\n</script>"
     },
     "execution_count": 221,
     "metadata": {},
     "output_type": "execute_result"
    }
   ],
   "source": [
    "vis.display(ctm_pd_west)"
   ],
   "metadata": {
    "collapsed": false,
    "ExecuteTime": {
     "end_time": "2024-03-15T12:09:38.229179Z",
     "start_time": "2024-03-15T12:09:38.224647Z"
    }
   },
   "id": "acf6e570662c2ee6"
  },
  {
   "cell_type": "code",
   "execution_count": 6,
   "outputs": [],
   "source": [
    "combined_df = pd.concat([east_coast_df, west_coast_df], ignore_index=True)"
   ],
   "metadata": {
    "collapsed": false,
    "ExecuteTime": {
     "end_time": "2024-03-27T14:16:50.818908Z",
     "start_time": "2024-03-27T14:16:50.815288Z"
    }
   },
   "id": "7cf2fcbfb83426a4"
  },
  {
   "cell_type": "code",
   "execution_count": 7,
   "outputs": [],
   "source": [
    "# Clean up lyrics column\n",
    "combined_df['Lyrics'] = combined_df['Lyrics'].apply(utils.cleanup)"
   ],
   "metadata": {
    "collapsed": false,
    "ExecuteTime": {
     "end_time": "2024-03-27T14:16:52.140738Z",
     "start_time": "2024-03-27T14:16:51.640747Z"
    }
   },
   "id": "97164a6982e02f2f"
  },
  {
   "cell_type": "code",
   "execution_count": 8,
   "outputs": [],
   "source": [
    "combined_df.to_csv('combined_lyrics_line_by_line.txt', columns=['Lyrics'], index=False, header=False, encoding='utf-8')"
   ],
   "metadata": {
    "collapsed": false,
    "ExecuteTime": {
     "end_time": "2024-03-27T14:16:54.060486Z",
     "start_time": "2024-03-27T14:16:53.998367Z"
    }
   },
   "id": "cf21a2cc7a514e30"
  },
  {
   "cell_type": "code",
   "execution_count": 9,
   "outputs": [],
   "source": [
    "text_file_combined = 'combined_lyrics_line_by_line.txt'\n",
    "\n",
    "documents_combined = [line.strip() for line in open(text_file_combined, encoding=\"utf-8\").readlines()[0:2000]]\n",
    "\n",
    "stopwords = list(stop_words.words(\"english\"))\n",
    "\n",
    "sp_combined = WhiteSpacePreprocessingStopwords(documents_combined, stopwords_list=stopwords)\n",
    "\n",
    "preprocessed_documents_combined, unpreprocessed_corpus_combined, vocab_combined, retained_indices_combined = sp_combined.preprocess()\n",
    "tp_combined = TopicModelDataPreparation(\"all-mpnet-base-v2\")\n",
    "\n",
    "training_dataset_combined = tp_combined.fit(text_for_contextual=unpreprocessed_corpus_combined, text_for_bow=preprocessed_documents_combined)\n",
    "model_path = '/Users/borosabel/Documents/Uni/Thesis/PopMIR/Code/Lyrics/contextualized_topic_model_combined/epoch_9.pth'\n",
    "ctm_combined = CombinedTM(bow_size=len(tp_combined.vocab), contextual_size=768, n_components=5, num_epochs=10)\n",
    "\n",
    "if os.path.exists(model_path):\n",
    "    ctm_combined.load(\"/Users/borosabel/Documents/Uni/Thesis/PopMIR/Code/Lyrics/contextualized_topic_model_combined\", epoch=9)\n",
    "else:\n",
    "    ctm_combined.fit(training_dataset_combined)\n",
    "    \n",
    "lda_vis_data_combined = ctm_combined.get_ldavis_data_format(tp_combined.vocab, training_dataset_combined, n_samples=5)\n",
    "ctm_pd_combined = vis.prepare(**lda_vis_data_combined)\n",
    "vis.display(ctm_pd_combined)"
   ],
   "metadata": {
    "collapsed": false,
    "ExecuteTime": {
     "end_time": "2024-03-27T14:16:58.665411Z",
     "start_time": "2024-03-27T14:16:57.604977Z"
    }
   },
   "id": "57a9fabbfc33d30b"
  },
  {
   "cell_type": "code",
   "execution_count": 10,
   "outputs": [
    {
     "name": "stderr",
     "output_type": "stream",
     "text": [
      "/Users/borosabel/lib/python3.9/site-packages/transformers/utils/generic.py:309: UserWarning: torch.utils._pytree._register_pytree_node is deprecated. Please use torch.utils._pytree.register_pytree_node instead.\n",
      "  _torch_pytree._register_pytree_node(\n",
      "/Users/borosabel/lib/python3.9/site-packages/contextualized_topic_models/utils/data_preparation.py:64: UserWarning: the longest document in your collection has 1916 words, the model instead truncates to 128 tokens.\n",
      "  warnings.warn(\n",
      "Batches: 100%|██████████| 10/10 [00:29<00:00,  2.99s/it]\n"
     ]
    }
   ],
   "source": [],
   "metadata": {
    "collapsed": false,
    "ExecuteTime": {
     "end_time": "2024-03-27T14:17:45.572250Z",
     "start_time": "2024-03-27T14:17:12.029858Z"
    }
   },
   "id": "5aa304c6f3a99ad7"
  },
  {
   "cell_type": "code",
   "execution_count": 12,
   "outputs": [
    {
     "name": "stderr",
     "output_type": "stream",
     "text": [
      "/Users/borosabel/lib/python3.9/site-packages/contextualized_topic_models/models/ctm.py:669: Warning: This is an experimental feature that we has not been fully tested. Refer to the following issue:https://github.com/MilaNLProc/contextualized-topic-models/issues/38\n",
      "  warnings.warn(\n"
     ]
    }
   ],
   "source": [],
   "metadata": {
    "collapsed": false,
    "ExecuteTime": {
     "end_time": "2024-03-27T14:18:08.793284Z",
     "start_time": "2024-03-27T14:18:08.767860Z"
    }
   },
   "id": "81199063c3ac291b"
  },
  {
   "cell_type": "code",
   "execution_count": 13,
   "outputs": [
    {
     "name": "stderr",
     "output_type": "stream",
     "text": [
      "  0%|          | 0/29 [00:00<?, ?it/s]huggingface/tokenizers: The current process just got forked, after parallelism has already been used. Disabling parallelism to avoid deadlocks...\n",
      "To disable this warning, you can either:\n",
      "\t- Avoid using `tokenizers` before the fork if possible\n",
      "\t- Explicitly set the environment variable TOKENIZERS_PARALLELISM=(true | false)\n",
      "huggingface/tokenizers: The current process just got forked, after parallelism has already been used. Disabling parallelism to avoid deadlocks...\n",
      "To disable this warning, you can either:\n",
      "\t- Avoid using `tokenizers` before the fork if possible\n",
      "\t- Explicitly set the environment variable TOKENIZERS_PARALLELISM=(true | false)\n",
      "huggingface/tokenizers: The current process just got forked, after parallelism has already been used. Disabling parallelism to avoid deadlocks...\n",
      "To disable this warning, you can either:\n",
      "\t- Avoid using `tokenizers` before the fork if possible\n",
      "\t- Explicitly set the environment variable TOKENIZERS_PARALLELISM=(true | false)\n",
      "huggingface/tokenizers: The current process just got forked, after parallelism has already been used. Disabling parallelism to avoid deadlocks...\n",
      "To disable this warning, you can either:\n",
      "\t- Avoid using `tokenizers` before the fork if possible\n",
      "\t- Explicitly set the environment variable TOKENIZERS_PARALLELISM=(true | false)\n",
      "huggingface/tokenizers: The current process just got forked, after parallelism has already been used. Disabling parallelism to avoid deadlocks...\n",
      "To disable this warning, you can either:\n",
      "\t- Avoid using `tokenizers` before the fork if possible\n",
      "\t- Explicitly set the environment variable TOKENIZERS_PARALLELISM=(true | false)\n",
      "huggingface/tokenizers: The current process just got forked, after parallelism has already been used. Disabling parallelism to avoid deadlocks...\n",
      "To disable this warning, you can either:\n",
      "\t- Avoid using `tokenizers` before the fork if possible\n",
      "\t- Explicitly set the environment variable TOKENIZERS_PARALLELISM=(true | false)\n",
      "huggingface/tokenizers: The current process just got forked, after parallelism has already been used. Disabling parallelism to avoid deadlocks...\n",
      "To disable this warning, you can either:\n",
      "\t- Avoid using `tokenizers` before the fork if possible\n",
      "\t- Explicitly set the environment variable TOKENIZERS_PARALLELISM=(true | false)\n",
      "huggingface/tokenizers: The current process just got forked, after parallelism has already been used. Disabling parallelism to avoid deadlocks...\n",
      "To disable this warning, you can either:\n",
      "\t- Avoid using `tokenizers` before the fork if possible\n",
      "\t- Explicitly set the environment variable TOKENIZERS_PARALLELISM=(true | false)\n",
      "100%|██████████| 29/29 [00:47<00:00,  1.64s/it]\n",
      "huggingface/tokenizers: The current process just got forked, after parallelism has already been used. Disabling parallelism to avoid deadlocks...\n",
      "To disable this warning, you can either:\n",
      "\t- Avoid using `tokenizers` before the fork if possible\n",
      "\t- Explicitly set the environment variable TOKENIZERS_PARALLELISM=(true | false)\n",
      "huggingface/tokenizers: The current process just got forked, after parallelism has already been used. Disabling parallelism to avoid deadlocks...\n",
      "To disable this warning, you can either:\n",
      "\t- Avoid using `tokenizers` before the fork if possible\n",
      "\t- Explicitly set the environment variable TOKENIZERS_PARALLELISM=(true | false)\n",
      "huggingface/tokenizers: The current process just got forked, after parallelism has already been used. Disabling parallelism to avoid deadlocks...\n",
      "To disable this warning, you can either:\n",
      "\t- Avoid using `tokenizers` before the fork if possible\n",
      "\t- Explicitly set the environment variable TOKENIZERS_PARALLELISM=(true | false)\n",
      "huggingface/tokenizers: The current process just got forked, after parallelism has already been used. Disabling parallelism to avoid deadlocks...\n",
      "To disable this warning, you can either:\n",
      "\t- Avoid using `tokenizers` before the fork if possible\n",
      "\t- Explicitly set the environment variable TOKENIZERS_PARALLELISM=(true | false)\n",
      "huggingface/tokenizers: The current process just got forked, after parallelism has already been used. Disabling parallelism to avoid deadlocks...\n",
      "To disable this warning, you can either:\n",
      "\t- Avoid using `tokenizers` before the fork if possible\n",
      "\t- Explicitly set the environment variable TOKENIZERS_PARALLELISM=(true | false)\n",
      "huggingface/tokenizers: The current process just got forked, after parallelism has already been used. Disabling parallelism to avoid deadlocks...\n",
      "To disable this warning, you can either:\n",
      "\t- Avoid using `tokenizers` before the fork if possible\n",
      "\t- Explicitly set the environment variable TOKENIZERS_PARALLELISM=(true | false)\n",
      "huggingface/tokenizers: The current process just got forked, after parallelism has already been used. Disabling parallelism to avoid deadlocks...\n",
      "To disable this warning, you can either:\n",
      "\t- Avoid using `tokenizers` before the fork if possible\n",
      "\t- Explicitly set the environment variable TOKENIZERS_PARALLELISM=(true | false)\n",
      "huggingface/tokenizers: The current process just got forked, after parallelism has already been used. Disabling parallelism to avoid deadlocks...\n",
      "To disable this warning, you can either:\n",
      "\t- Avoid using `tokenizers` before the fork if possible\n",
      "\t- Explicitly set the environment variable TOKENIZERS_PARALLELISM=(true | false)\n",
      "huggingface/tokenizers: The current process just got forked, after parallelism has already been used. Disabling parallelism to avoid deadlocks...\n",
      "To disable this warning, you can either:\n",
      "\t- Avoid using `tokenizers` before the fork if possible\n",
      "\t- Explicitly set the environment variable TOKENIZERS_PARALLELISM=(true | false)\n"
     ]
    }
   ],
   "source": [],
   "metadata": {
    "collapsed": false,
    "ExecuteTime": {
     "end_time": "2024-03-27T14:19:04.485433Z",
     "start_time": "2024-03-27T14:18:15.404370Z"
    }
   },
   "id": "55daec1a6b95d7ec"
  },
  {
   "cell_type": "code",
   "execution_count": 14,
   "outputs": [
    {
     "data": {
      "text/plain": "<IPython.core.display.HTML object>",
      "text/html": "\n<link rel=\"stylesheet\" type=\"text/css\" href=\"https://cdn.jsdelivr.net/gh/bmabey/pyLDAvis@3.4.0/pyLDAvis/js/ldavis.v1.0.0.css\">\n\n\n<div id=\"ldavis_el18554111113684004221720407\" style=\"background-color:white;\"></div>\n<script type=\"text/javascript\">\n\nvar ldavis_el18554111113684004221720407_data = {\"mdsDat\": {\"x\": [0.001106865750129449, 0.0007397637413702232, 9.533510854062647e-06, -0.0006691607384973089, -0.0011870022638564254], \"y\": [-6.298298297337544e-05, 2.5261805025512222e-05, -9.681361739139281e-05, 0.00040870036340825657, -0.00027416556806900074], \"topics\": [1, 2, 3, 4, 5], \"cluster\": [1, 1, 1, 1, 1], \"Freq\": [28.716308734649076, 24.97523228459245, 19.33433596638146, 14.045183110723535, 12.92893990365348]}, \"tinfo\": {\"Term\": [\"plain\", \"facts\", \"breaking\", \"mics\", \"max\", \"stash\", \"match\", \"proof\", \"brew\", \"curb\", \"telling\", \"layin\", \"calm\", \"thru\", \"claimin\", \"acting\", \"sho\", \"guilty\", \"says\", \"poppin\", \"pullin\", \"leg\", \"booty\", \"stressin\", \"worth\", \"representin\", \"happens\", \"morning\", \"homicide\", \"book\", \"nigga\", \"get\", \"know\", \"yeah\", \"fuck\", \"bitch\", \"shit\", \"yeahr\", \"wanna\", \"love\", \"make\", \"ass\", \"bitches\", \"got\", \"hoes\", \"uh\", \"like\", \"gonna\", \"cause\", \"tell\", \"see\", \"keep\", \"say\", \"real\", \"give\", \"baby\", \"em\", \"let\", \"money\", \"us\", \"go\", \"feel\", \"fuckin\", \"one\", \"motherfuckin\", \"pain\", \"motherfuckers\", \"say\", \"wanna\", \"cause\", \"right\", \"know\", \"hit\", \"get\", \"back\", \"got\", \"come\", \"give\", \"yeahr\", \"make\", \"go\", \"game\", \"tell\", \"time\", \"baby\", \"like\", \"real\", \"want\", \"said\", \"ass\", \"still\", \"need\", \"let\", \"way\", \"life\", \"day\", \"love\", \"keep\", \"yeah\", \"nigga\", \"stop\", \"chocolate\", \"whip\", \"max\", \"every\", \"means\", \"match\", \"drinkin\", \"bum\", \"rollin\", \"brand\", \"ugly\", \"floor\", \"di\", \"book\", \"harder\", \"guilty\", \"plot\", \"weight\", \"vision\", \"maybe\", \"thug\", \"close\", \"story\", \"prison\", \"deuce\", \"dirt\", \"hustlers\", \"quit\", \"job\", \"mics\", \"run\", \"must\", \"wear\", \"new\", \"shame\", \"seeing\", \"leg\", \"forgive\", \"clips\", \"press\", \"next\", \"shakin\", \"searchin\", \"expect\", \"history\", \"gun\", \"sitting\", \"match\", \"sir\", \"book\", \"bum\", \"ugly\", \"passed\", \"max\", \"seven\", \"facts\", \"proceed\", \"doggy\", \"nowhere\", \"breaks\", \"toe\", \"pow\", \"plain\", \"chose\", \"hustlers\", \"spit\", \"dare\", \"weight\", \"drinking\", \"begin\", \"tank\", \"rappers\", \"finish\", \"sad\", \"naked\", \"bail\", \"jewels\", \"nuthin\", \"tone\", \"reach\", \"diss\", \"cowards\", \"grass\", \"whip\", \"chocolate\", \"mics\", \"path\", \"treat\", \"facts\", \"dice\", \"breaking\", \"morning\", \"worth\", \"plain\", \"curb\", \"pullin\", \"rear\", \"happens\", \"quit\", \"lethal\", \"forgive\", \"screamin\", \"news\", \"dip\", \"representin\", \"van\", \"rhythm\", \"booty\", \"planet\", \"split\", \"bar\", \"calm\", \"acting\", \"stash\", \"sho\", \"given\", \"table\", \"bat\", \"claimin\"], \"Freq\": [223.0, 216.0, 224.0, 222.0, 222.0, 226.0, 219.0, 224.0, 224.0, 221.0, 226.0, 225.0, 226.0, 224.0, 227.0, 225.0, 226.0, 227.0, 222.0, 225.0, 226.0, 227.0, 218.0, 224.0, 224.0, 225.0, 223.0, 221.0, 224.0, 221.0, 94.57524925101508, 89.64666753444332, 89.04520161382119, 85.71596845004657, 80.08182020456057, 81.07602932919382, 77.92886102771878, 79.33921950462508, 79.91382050474867, 77.25230677235464, 77.32797796006778, 78.03559214349904, 74.15436653958648, 77.97775932434988, 75.65686946975855, 76.36558800618774, 77.48297850479976, 76.46740321730354, 77.36844789597153, 74.74570922439413, 73.85148239166483, 77.77540197571311, 78.59671083410609, 73.6523460726054, 73.80220830824972, 74.71803904650126, 75.05416115201373, 74.71161232558268, 72.28939808343019, 73.35900230752709, 75.88672827569128, 77.20407568899314, 74.70854467836618, 74.19926922571807, 74.55574517051205, 74.53229300754187, 74.4497196135916, 71.88607623415935, 70.32267308568133, 69.75284097558942, 67.16854643659804, 71.57066490325259, 66.0127007773857, 70.79333551915504, 67.00033550879103, 68.12957450671536, 68.0062860817348, 65.16033380504798, 66.92181617645652, 65.99989436232605, 66.80505768915482, 64.05880201970585, 64.22543882566178, 65.11863958601784, 64.71817231508986, 66.24309618831832, 63.56525478932086, 64.52400838676353, 63.86873347619547, 65.57862333693399, 63.91624394206522, 65.11610498303727, 64.36029971425093, 64.90738042758842, 64.21616084475137, 63.89617388846392, 64.30361798759627, 66.11825365151022, 65.96142842709217, 64.64871752341476, 64.04855021765029, 49.58105648935531, 47.30871934804319, 48.26177650388637, 48.934423409667396, 46.14918842007106, 46.795041807869325, 47.09152610331215, 46.18577197661528, 48.083557526592976, 46.812009142633514, 46.71735661263887, 47.448986435343635, 49.406952839453, 46.74176974677311, 46.49115302123604, 47.907471084070615, 47.160097681421846, 46.08769086771515, 47.76764289617825, 47.20052806218984, 48.49191986291704, 46.23174281697, 46.67793311874824, 48.50065654289909, 46.95244662617475, 45.96007441041235, 46.41544029158073, 45.63030088574715, 46.82856339560187, 46.470514422011306, 47.40092436839747, 47.35751463517697, 47.31553519767457, 47.54623621712963, 47.15414930356173, 47.28615991846779, 47.34524094231803, 47.426303081229484, 47.6047182723759, 47.615417090888194, 47.33091216752477, 47.528871291136944, 47.72004554625241, 47.402297865368645, 47.188068482522766, 47.31660404682131, 47.204059911544284, 38.30344897984979, 38.54304628348769, 37.92841145704104, 37.02253589786751, 37.5301553966044, 37.11296441242858, 37.52790106039853, 37.10272049865447, 36.26318093914962, 36.25076521062809, 36.08510338278715, 36.997314339384495, 37.17421033850096, 36.84729032792008, 36.20136861579423, 36.91881017556965, 36.885786588287594, 36.686666060020045, 36.68952805423815, 36.41138197657735, 35.68331390353865, 36.198795446680705, 36.220944956324104, 36.32180868440387, 35.7588848046031, 35.665519276316246, 36.372574385252946, 36.15143938245583, 36.10738417656899, 36.56195363044786, 36.53443647502974, 36.03047042631702, 36.22437334782522, 36.10989357910099, 36.35968603383301, 36.274051265812886, 34.87016923287107, 34.478110109267426, 35.47952412001217, 35.01151575572382, 34.91585065014051, 34.002757498982696, 34.16320182371884, 34.999848521486975, 34.56015711132007, 34.881829561375895, 34.6847917627001, 34.35442844890526, 34.86604305799299, 33.84869407062704, 34.395531365849735, 33.52867209052244, 33.8916753466792, 35.00818028716129, 34.53556234675391, 34.28715280762953, 34.06629023350709, 34.3621628687604, 34.112658771111875, 32.96665944920004, 33.097650826898516, 34.61344519240241, 33.58256787602197, 34.2544507136795, 34.27196365006579, 34.106160477287155, 34.13525432626012, 34.088039836483674, 34.0635900922898, 34.11181281894022, 34.15331281547548, 33.96839457648341], \"Total\": [223.0, 216.0, 224.0, 222.0, 222.0, 226.0, 219.0, 224.0, 224.0, 221.0, 226.0, 225.0, 226.0, 224.0, 227.0, 225.0, 226.0, 227.0, 222.0, 225.0, 226.0, 227.0, 218.0, 224.0, 224.0, 225.0, 223.0, 221.0, 224.0, 221.0, 244.8962581285611, 242.68299895525217, 244.44652250642378, 240.93552851523438, 229.39072964013923, 233.4905107319607, 228.6489157303744, 233.56159412500952, 237.09294186649873, 230.72231664890512, 231.03936493293799, 233.4618425133936, 223.40479850714897, 235.05482697616102, 228.86518676291468, 231.0773879872949, 235.2188139276802, 232.48337696047858, 235.41898472041137, 227.69655697715575, 225.7575922283847, 237.90343920220374, 240.6718697810092, 225.75167225699735, 226.82563859529338, 229.7644856322599, 230.87069657694036, 229.88895000183652, 222.46247805626868, 226.54897498621136, 234.68164551364868, 239.83043882313547, 233.56261617153834, 230.6064540620728, 236.03000545917718, 236.10549392203285, 234.73685704206042, 240.6718697810092, 237.09294186649873, 235.41898472041137, 229.38496434505643, 244.44652250642378, 225.78031483264596, 242.68299895525217, 230.26379798209706, 235.05482697616102, 236.10810760845413, 226.82563859529338, 233.56159412500952, 231.03936493293799, 234.68164551364868, 225.67396416617493, 227.69655697715575, 230.8878594659467, 229.7644856322599, 235.2188139276802, 225.75167225699735, 229.25334877221204, 226.9699168926443, 233.4618425133936, 227.66461930507705, 232.28218949901066, 229.88895000183652, 232.22511349272858, 230.09216944495353, 229.21613685245677, 230.72231664890512, 237.90343920220374, 240.93552851523438, 244.8962581285611, 231.84143898092915, 215.49989902038493, 215.9016106606407, 222.1726351407142, 229.17550293687714, 216.6740909730779, 219.87790894371798, 221.7350515726849, 217.4980317405804, 226.8665493449525, 221.31470017568228, 221.00003294882887, 224.49664275784986, 233.98412598850683, 221.73835151151843, 220.84249867592172, 227.96516600453228, 224.58003993591925, 219.5263863044768, 227.88017763276383, 225.28200016630163, 231.45039888660656, 220.8809585043317, 223.05881672614836, 231.82448384523175, 224.44776160902404, 219.88255577871928, 222.13369077364143, 218.4419471558263, 224.36222908618706, 222.83672026871773, 227.4494997206215, 227.3653579664878, 227.1735428595922, 228.59929908402773, 226.36198773487845, 227.27729363137178, 227.81554976984657, 228.46356419918618, 230.39724273606998, 230.86722003253686, 228.4788535774586, 230.60228097592096, 233.94077382973626, 232.32698713741863, 228.67191719621536, 233.41904040180444, 231.69503048759617, 219.87790894371798, 222.13142496399956, 221.73835151151843, 217.4980317405804, 221.00003294882887, 219.21248835492833, 222.1726351407142, 220.63641378696687, 216.991033377878, 218.07587284411352, 217.20688219430684, 222.8788434913353, 224.36377832669163, 222.41290012494704, 218.60077949858265, 223.49906826964963, 223.33759499242137, 222.13369077364143, 224.55475873988095, 223.5904158043844, 219.5263863044768, 222.9737944705714, 223.52149729420844, 224.25471400701176, 221.23952014677823, 220.8042039283763, 225.4533925102319, 224.29482361112434, 224.50562343299794, 227.47840015964414, 228.64035360744256, 224.4223000555618, 226.93355958779244, 225.6588128551558, 233.81642192276973, 232.74421214216244, 215.9016106606407, 215.49989902038493, 222.83672026871773, 222.34689708018294, 222.58420623465486, 216.991033377878, 218.61076302930445, 224.26792689685837, 221.71275822978848, 224.1416471832478, 223.49906826964963, 221.57503850853948, 226.06452168810694, 219.58867334235717, 223.67148164951206, 218.4419471558263, 220.90363228005145, 228.46356419918618, 225.66708585214658, 224.04810814563177, 222.9628329932412, 225.53269817529429, 224.04667834023192, 216.694848145714, 218.0943448529644, 228.24306624091895, 221.80911649059334, 226.54546872617954, 226.87497099339242, 225.79110515456878, 226.413949350936, 226.44946682817067, 226.66473939629992, 227.92038847197918, 229.76860395428906, 227.4100935796271], \"Category\": [\"Default\", \"Default\", \"Default\", \"Default\", \"Default\", \"Default\", \"Default\", \"Default\", \"Default\", \"Default\", \"Default\", \"Default\", \"Default\", \"Default\", \"Default\", \"Default\", \"Default\", \"Default\", \"Default\", \"Default\", \"Default\", \"Default\", \"Default\", \"Default\", \"Default\", \"Default\", \"Default\", \"Default\", \"Default\", \"Default\", \"Topic1\", \"Topic1\", \"Topic1\", \"Topic1\", \"Topic1\", \"Topic1\", \"Topic1\", \"Topic1\", \"Topic1\", \"Topic1\", \"Topic1\", \"Topic1\", \"Topic1\", \"Topic1\", \"Topic1\", \"Topic1\", \"Topic1\", \"Topic1\", \"Topic1\", \"Topic1\", \"Topic1\", \"Topic1\", \"Topic1\", \"Topic1\", \"Topic1\", \"Topic1\", \"Topic1\", \"Topic1\", \"Topic1\", \"Topic1\", \"Topic1\", \"Topic1\", \"Topic1\", \"Topic1\", \"Topic1\", \"Topic1\", \"Topic1\", \"Topic2\", \"Topic2\", \"Topic2\", \"Topic2\", \"Topic2\", \"Topic2\", \"Topic2\", \"Topic2\", \"Topic2\", \"Topic2\", \"Topic2\", \"Topic2\", \"Topic2\", \"Topic2\", \"Topic2\", \"Topic2\", \"Topic2\", \"Topic2\", \"Topic2\", \"Topic2\", \"Topic2\", \"Topic2\", \"Topic2\", \"Topic2\", \"Topic2\", \"Topic2\", \"Topic2\", \"Topic2\", \"Topic2\", \"Topic2\", \"Topic2\", \"Topic2\", \"Topic2\", \"Topic2\", \"Topic3\", \"Topic3\", \"Topic3\", \"Topic3\", \"Topic3\", \"Topic3\", \"Topic3\", \"Topic3\", \"Topic3\", \"Topic3\", \"Topic3\", \"Topic3\", \"Topic3\", \"Topic3\", \"Topic3\", \"Topic3\", \"Topic3\", \"Topic3\", \"Topic3\", \"Topic3\", \"Topic3\", \"Topic3\", \"Topic3\", \"Topic3\", \"Topic3\", \"Topic3\", \"Topic3\", \"Topic3\", \"Topic3\", \"Topic3\", \"Topic3\", \"Topic3\", \"Topic3\", \"Topic3\", \"Topic3\", \"Topic3\", \"Topic3\", \"Topic3\", \"Topic3\", \"Topic3\", \"Topic3\", \"Topic3\", \"Topic3\", \"Topic3\", \"Topic3\", \"Topic3\", \"Topic3\", \"Topic4\", \"Topic4\", \"Topic4\", \"Topic4\", \"Topic4\", \"Topic4\", \"Topic4\", \"Topic4\", \"Topic4\", \"Topic4\", \"Topic4\", \"Topic4\", \"Topic4\", \"Topic4\", \"Topic4\", \"Topic4\", \"Topic4\", \"Topic4\", \"Topic4\", \"Topic4\", \"Topic4\", \"Topic4\", \"Topic4\", \"Topic4\", \"Topic4\", \"Topic4\", \"Topic4\", \"Topic4\", \"Topic4\", \"Topic4\", \"Topic4\", \"Topic4\", \"Topic4\", \"Topic4\", \"Topic4\", \"Topic4\", \"Topic5\", \"Topic5\", \"Topic5\", \"Topic5\", \"Topic5\", \"Topic5\", \"Topic5\", \"Topic5\", \"Topic5\", \"Topic5\", \"Topic5\", \"Topic5\", \"Topic5\", \"Topic5\", \"Topic5\", \"Topic5\", \"Topic5\", \"Topic5\", \"Topic5\", \"Topic5\", \"Topic5\", \"Topic5\", \"Topic5\", \"Topic5\", \"Topic5\", \"Topic5\", \"Topic5\", \"Topic5\", \"Topic5\", \"Topic5\", \"Topic5\", \"Topic5\", \"Topic5\", \"Topic5\", \"Topic5\", \"Topic5\"], \"logprob\": [30.0, 29.0, 28.0, 27.0, 26.0, 25.0, 24.0, 23.0, 22.0, 21.0, 20.0, 19.0, 18.0, 17.0, 16.0, 15.0, 14.0, 13.0, 12.0, 11.0, 10.0, 9.0, 8.0, 7.0, 6.0, 5.0, 4.0, 3.0, 2.0, 1.0, -7.2393, -7.2928, -7.2996, -7.3377, -7.4056, -7.3933, -7.4329, -7.415, -7.4077, -7.4416, -7.4406, -7.4315, -7.4825, -7.4323, -7.4625, -7.4532, -7.4386, -7.4518, -7.4401, -7.4746, -7.4866, -7.4349, -7.4244, -7.4893, -7.4873, -7.475, -7.4705, -7.4751, -7.508, -7.4933, -7.4595, -7.4422, -7.4751, -7.4819, -7.4771, -7.4775, -7.4786, -7.374, -7.396, -7.4042, -7.4419, -7.3784, -7.4593, -7.3893, -7.4444, -7.4277, -7.4295, -7.4723, -7.4456, -7.4595, -7.4473, -7.4893, -7.4867, -7.4729, -7.4791, -7.4558, -7.497, -7.4821, -7.4923, -7.4659, -7.4915, -7.4729, -7.4846, -7.4762, -7.4869, -7.4919, -7.4855, -7.4577, -7.46, -7.4801, -7.4895, -7.4895, -7.5364, -7.5165, -7.5026, -7.5612, -7.5473, -7.541, -7.5604, -7.5202, -7.547, -7.549, -7.5335, -7.493, -7.5485, -7.5539, -7.5238, -7.5396, -7.5626, -7.5268, -7.5387, -7.5117, -7.5594, -7.5498, -7.5115, -7.544, -7.5653, -7.5555, -7.5725, -7.5466, -7.5543, -7.5345, -7.5354, -7.5363, -7.5314, -7.5397, -7.5369, -7.5356, -7.5339, -7.5302, -7.53, -7.5359, -7.5318, -7.5278, -7.5344, -7.539, -7.5363, -7.5386, -7.428, -7.4217, -7.4378, -7.462, -7.4484, -7.4595, -7.4484, -7.4598, -7.4827, -7.483, -7.4876, -7.4627, -7.4579, -7.4667, -7.4844, -7.4648, -7.4657, -7.4711, -7.471, -7.4786, -7.4988, -7.4845, -7.4839, -7.4811, -7.4967, -7.4993, -7.4797, -7.4858, -7.487, -7.4745, -7.4753, -7.4891, -7.4838, -7.4869, -7.48, -7.4824, -7.4391, -7.4504, -7.4217, -7.435, -7.4378, -7.4643, -7.4595, -7.4354, -7.448, -7.4387, -7.4444, -7.454, -7.4392, -7.4688, -7.4528, -7.4783, -7.4675, -7.4351, -7.4487, -7.4559, -7.4624, -7.4537, -7.461, -7.4952, -7.4912, -7.4465, -7.4767, -7.4569, -7.4564, -7.4612, -7.4604, -7.4618, -7.4625, -7.4611, -7.4598, -7.4653], \"loglift\": [30.0, 29.0, 28.0, 27.0, 26.0, 25.0, 24.0, 23.0, 22.0, 21.0, 20.0, 19.0, 18.0, 17.0, 16.0, 15.0, 14.0, 13.0, 12.0, 11.0, 10.0, 9.0, 8.0, 7.0, 6.0, 5.0, 4.0, 3.0, 2.0, 1.0, 0.2963, 0.2518, 0.2379, 0.2142, 0.1953, 0.19, 0.1713, 0.168, 0.1602, 0.1536, 0.1532, 0.1519, 0.1449, 0.1443, 0.1408, 0.1405, 0.1372, 0.1358, 0.1349, 0.1338, 0.1303, 0.1297, 0.1286, 0.1276, 0.1249, 0.1244, 0.1241, 0.1237, 0.1236, 0.1201, 0.1187, 0.1142, 0.1078, 0.1137, 0.0953, 0.0947, 0.0994, 0.1789, 0.1719, 0.1709, 0.1591, 0.159, 0.1576, 0.1553, 0.1528, 0.1489, 0.1426, 0.14, 0.1374, 0.1344, 0.1308, 0.128, 0.1217, 0.1216, 0.1203, 0.1201, 0.1199, 0.1195, 0.1193, 0.1175, 0.117, 0.1155, 0.1142, 0.1125, 0.1111, 0.1099, 0.1097, 0.1069, 0.0918, 0.0554, 0.1009, 0.1739, 0.1252, 0.1165, 0.0993, 0.0968, 0.096, 0.0939, 0.0938, 0.0919, 0.0898, 0.0892, 0.0891, 0.0881, 0.0864, 0.0851, 0.0834, 0.0826, 0.0824, 0.0808, 0.0803, 0.0803, 0.0793, 0.0791, 0.0789, 0.0788, 0.078, 0.0776, 0.0773, 0.0765, 0.0757, 0.075, 0.0745, 0.0744, 0.073, 0.0746, 0.0733, 0.0722, 0.0711, 0.0664, 0.0646, 0.069, 0.0639, 0.0536, 0.0538, 0.0651, 0.0473, 0.0523, 0.2154, 0.2114, 0.1971, 0.1922, 0.1899, 0.1868, 0.1845, 0.1801, 0.1738, 0.1685, 0.1679, 0.1671, 0.1652, 0.1651, 0.1647, 0.1622, 0.162, 0.162, 0.1513, 0.148, 0.1461, 0.1449, 0.143, 0.1425, 0.1404, 0.1398, 0.1386, 0.1376, 0.1355, 0.1348, 0.129, 0.1337, 0.128, 0.1304, 0.1018, 0.1041, 0.2225, 0.2131, 0.2082, 0.1971, 0.1933, 0.1923, 0.1896, 0.1882, 0.187, 0.1854, 0.1826, 0.1817, 0.1764, 0.1758, 0.1735, 0.1716, 0.1711, 0.1699, 0.1686, 0.1686, 0.167, 0.1642, 0.1635, 0.1627, 0.1602, 0.1595, 0.1579, 0.1566, 0.1556, 0.1556, 0.1537, 0.1521, 0.1505, 0.1463, 0.1395, 0.1444]}, \"token.table\": {\"Topic\": [1, 2, 3, 4, 5, 1, 2, 3, 4, 5, 1, 2, 3, 4, 5, 1, 2, 3, 4, 5, 1, 2, 3, 4, 5, 1, 2, 3, 4, 5, 1, 2, 3, 4, 5, 1, 2, 3, 4, 5, 1, 2, 3, 4, 5, 1, 2, 3, 4, 5, 1, 2, 3, 4, 5, 1, 2, 3, 4, 5, 1, 2, 3, 4, 5, 1, 2, 3, 4, 5, 1, 2, 3, 4, 5, 1, 2, 3, 4, 5, 1, 2, 3, 4, 5, 1, 2, 3, 4, 5, 1, 2, 3, 4, 5, 1, 2, 3, 4, 5, 1, 2, 3, 4, 5, 1, 2, 3, 4, 5, 1, 2, 3, 4, 5, 1, 2, 3, 4, 5, 1, 2, 3, 4, 5, 1, 2, 3, 4, 5, 1, 2, 3, 4, 5, 1, 2, 3, 4, 5, 1, 2, 3, 4, 5, 1, 2, 3, 4, 5, 1, 2, 3, 4, 5, 1, 2, 3, 4, 5, 1, 2, 3, 4, 5, 1, 2, 3, 4, 5, 1, 2, 3, 4, 5, 1, 2, 3, 4, 5, 1, 2, 3, 4, 5, 1, 2, 3, 4, 5, 1, 2, 3, 4, 5, 1, 2, 3, 4, 5, 1, 2, 3, 4, 5, 1, 2, 3, 4, 5, 1, 2, 3, 4, 5, 1, 2, 3, 4, 5, 1, 2, 3, 4, 5, 1, 2, 3, 4, 5, 1, 2, 3, 4, 5, 1, 2, 3, 4, 5, 1, 2, 3, 4, 5, 1, 2, 3, 4, 5, 1, 2, 3, 4, 5, 1, 2, 3, 4, 5, 1, 2, 3, 4, 5, 1, 2, 3, 4, 5, 1, 2, 3, 4, 5, 1, 2, 3, 4, 5, 1, 2, 3, 4, 5, 1, 2, 3, 4, 5, 1, 2, 3, 4, 5, 1, 2, 3, 4, 5, 1, 2, 3, 4, 5, 1, 2, 3, 4, 5, 1, 2, 3, 4, 5, 1, 2, 3, 4, 5, 1, 2, 3, 4, 5, 1, 2, 3, 4, 5, 1, 2, 3, 4, 5, 1, 2, 3, 4, 5, 1, 2, 3, 4, 5, 1, 2, 3, 4, 5, 1, 2, 3, 4, 5, 1, 2, 3, 4, 5, 1, 2, 3, 4, 5, 1, 2, 3, 4, 5, 1, 2, 3, 4, 5, 1, 2, 3, 4, 5, 1, 2, 3, 4, 5, 1, 2, 3, 4, 5, 1, 2, 3, 4, 5, 1, 2, 3, 4, 5, 1, 2, 3, 4, 5, 1, 2, 3, 4, 5, 1, 2, 3, 4, 5, 1, 2, 3, 4, 5, 1, 2, 3, 4, 5, 1, 2, 3, 4, 5, 1, 2, 3, 4, 5, 1, 2, 3, 4, 5, 1, 2, 3, 4, 5, 1, 2, 3, 4, 5, 1, 2, 3, 4, 5, 1, 2, 3, 4, 5, 1, 2, 3, 4, 5, 1, 2, 3, 4, 5, 1, 2, 3, 4, 5, 1, 2, 3, 4, 5, 1, 2, 3, 4, 5, 1, 2, 3, 4, 5, 1, 2, 3, 4, 5, 1, 2, 3, 4, 5, 1, 2, 3, 4, 5, 1, 2, 3, 4, 5, 1, 2, 3, 4, 5, 1, 2, 3, 4, 5, 1, 2, 3, 4, 5, 1, 2, 3, 4, 5, 1, 2, 3, 4, 5, 1, 2, 3, 4, 5, 1, 2, 3, 4, 5, 1, 2, 3, 4, 5, 1, 2, 3, 4, 5, 1, 2, 3, 4, 5, 1, 2, 3, 4, 5, 1, 2, 3, 4, 5, 1, 2, 3, 4, 5, 1, 2, 3, 4, 5, 1, 2, 3, 4, 5, 1, 2, 3, 4, 5, 1, 2, 3, 4, 5, 1, 2, 3, 4, 5, 1, 2, 3, 4, 5, 1, 2, 3, 4, 5, 1, 2, 3, 4, 5, 1, 2, 3, 4, 5, 1, 2, 3, 4, 5, 1, 2, 3, 4, 5, 1, 2, 3, 4, 5, 1, 2, 3, 4, 5, 1, 2, 3, 4, 5, 1, 2, 3, 4, 5, 1, 2, 3, 4, 5, 1, 2, 3, 4, 5, 1, 2, 3, 4, 5, 1, 2, 3, 4, 5, 1, 2, 3, 4, 5, 1, 2, 3, 4, 5, 1, 2, 3, 4, 5, 1, 2, 3, 4, 5, 1, 2, 3, 4, 5, 1, 2, 3, 4, 5, 1, 2, 3, 4, 5, 1, 2, 3, 4, 5, 1, 2, 3, 4, 5, 1, 2, 3, 4, 5, 1, 2, 3, 4, 5, 1, 2, 3, 4, 5, 1, 2, 3, 4, 5, 1, 2, 3, 4, 5, 1, 2, 3, 4, 5, 1, 2, 3, 4, 5, 1, 2, 3, 4, 5, 1, 2, 3, 4, 5, 1, 2, 3, 4, 5, 1, 2, 3, 4, 5, 1, 2, 3, 4, 5, 1, 2, 3, 4, 5, 1, 2, 3, 4, 5, 1, 2, 3, 4, 5, 1, 2, 3, 4, 5, 1, 2, 3, 4, 5, 1, 2, 3, 4, 5, 1, 2, 3, 4, 5, 1, 2, 3, 4, 5, 1, 2, 3, 4, 5, 1, 2, 3, 4, 5], \"Freq\": [0.2613034732241141, 0.2303013662314226, 0.20372813166625847, 0.15058166253593017, 0.15058166253593017, 0.334101706558429, 0.2827014440109784, 0.17990091891607718, 0.1070838803071888, 0.09851716988261369, 0.3264212038410417, 0.2828983766622361, 0.17409130871522224, 0.12186391610065557, 0.10010250251125279, 0.3170276901524734, 0.29097061972898247, 0.18674233803501858, 0.1085711267645457, 0.0955425915528002, 0.26725388470238726, 0.23162003340873563, 0.2048946449384969, 0.16035233082143235, 0.13362694235119363, 0.26484749546026304, 0.23836274591423676, 0.1986356215951973, 0.15008024742748238, 0.15008024742748238, 0.26113228251121984, 0.23501905426009786, 0.20020141659193522, 0.1523271647982116, 0.14797496008969124, 0.26395671429465106, 0.2371136586036696, 0.201322917682361, 0.1610583341458888, 0.1386891210700709, 0.34690917307978003, 0.27410107502599906, 0.16703034259396818, 0.10707073243203089, 0.10278790313474964, 0.3312372898634583, 0.27304695515771565, 0.17904718370997746, 0.11190448981873591, 0.10295213063323704, 0.252549906762931, 0.23451062770843592, 0.21196152889031708, 0.17137315101770317, 0.13078477314508927, 0.2659399538264169, 0.23842892412023584, 0.18340686470787373, 0.16048100661938952, 0.15131066338399582, 0.2665887080847548, 0.2439964446877417, 0.21236727593192334, 0.1310351277026761, 0.1491089384202866, 0.24970133168330666, 0.2363244746288438, 0.20511180816843047, 0.15160437995057904, 0.15606333230206665, 0.25850875053257194, 0.23176646599471967, 0.2050241814568674, 0.164910754650089, 0.13816847011223674, 0.2541121504376782, 0.23182161092560116, 0.20507296351110874, 0.16049188448695464, 0.14711756077970845, 0.2528758516104686, 0.23908262334080668, 0.21149616680148284, 0.17011648199249707, 0.12413905442695733, 0.25564741560535215, 0.2336088452945459, 0.20716256092157845, 0.15426999217564352, 0.14986227811348227, 0.32707642542697585, 0.2973422049336144, 0.17840532296016864, 0.106193644619148, 0.09345040726485025, 0.2598609106294883, 0.22737829680080227, 0.23201867020490027, 0.12529008191064614, 0.15777269573933217, 0.2552190104936619, 0.23730890449410666, 0.20148869249499624, 0.16566848049588578, 0.13880332149655297, 0.25944318948772294, 0.2374564785141871, 0.20227774095652976, 0.1539069768147509, 0.14950963462004374, 0.269100442625625, 0.2300374751477117, 0.20833582654887098, 0.15191154019188507, 0.13889055103258066, 0.28522150766909365, 0.2580575545577514, 0.20825697385362393, 0.1403470910752683, 0.10865581244536901, 0.313415751579004, 0.2880036636131388, 0.17364926776674544, 0.12706043982932594, 0.09741300386914989, 0.27371901200823007, 0.22667355681931553, 0.20101239944354396, 0.15396694425462942, 0.14541322512937224, 0.2572491936983381, 0.23017033120377622, 0.2030914687092143, 0.15344688746918414, 0.15344688746918414, 0.2594028898391747, 0.2370405717495907, 0.20573332642417305, 0.161008690245005, 0.13864637215542097, 0.3097513158321035, 0.2792124537078116, 0.20504664569167416, 0.11343005931879847, 0.09597928096206025, 0.25395664270107954, 0.23613512391503888, 0.2094028457359779, 0.15593828937785587, 0.14257215028832537, 0.2863442112448731, 0.2692490344541344, 0.20941591568654896, 0.11539244333748618, 0.11966623753517085, 0.2653117312079698, 0.23786569004852462, 0.2058453086958386, 0.13723020579722575, 0.15552756657018918, 0.2691031468990117, 0.2466778846574274, 0.1973423077259419, 0.13455157344950586, 0.1524917832427733, 0.26377717775105725, 0.24103776587596612, 0.2092025892508385, 0.15917588312563802, 0.12279282412549218, 0.2703195998782207, 0.2437307867754449, 0.19941609827081855, 0.15953287861665486, 0.12408112781295377, 0.2808382468536665, 0.2624226241091638, 0.17034451038665016, 0.16574060470052449, 0.11970154783926767, 0.2615734390599384, 0.2390240046582196, 0.211964683376157, 0.1578460408120318, 0.1307867195299692, 0.2601202537621746, 0.23769609395509061, 0.19733260630233937, 0.16145395061100495, 0.14351462276533772, 0.32485716512318563, 0.27721144757178506, 0.19058287020560222, 0.10828572170772854, 0.1039542928394194, 0.3054427681098203, 0.2618080869512745, 0.2138099376768742, 0.11345017101221896, 0.10472323478050981, 0.26256097387394445, 0.24103958257280145, 0.20230107823074409, 0.15064973910800092, 0.14204118258754372, 0.2580751800120656, 0.2304242678679157, 0.18433941429433257, 0.16590547286489932, 0.15668850215018268, 0.32106016391348957, 0.26685520117484846, 0.19597178836277934, 0.09590108792221116, 0.1209187630323532, 0.26267615818951456, 0.23097386323560762, 0.19927156828170067, 0.1630403740486642, 0.1403958776530164, 0.27171898541840017, 0.2405381182392395, 0.20935725106007883, 0.13808669750771158, 0.13808669750771158, 0.2670009995415159, 0.2363615405777354, 0.2057220816139549, 0.13568903255388515, 0.15319729481890257, 0.3487499260563032, 0.2746405667693388, 0.16565621487674403, 0.10462497781689097, 0.10462497781689097, 0.32111303268206587, 0.26973494745293536, 0.20123083381409462, 0.10275617045826109, 0.10703767756068863, 0.3234755071092139, 0.28359496513684507, 0.18167802454079138, 0.1152104545868433, 0.09305459793552728, 0.3708541611379828, 0.2925627271199642, 0.1565828680360372, 0.09889444297012874, 0.08653263759886265, 0.3262417796254162, 0.28656372534664937, 0.18075558060327113, 0.11021681744101898, 0.0969907993480967, 0.2647081330770914, 0.23382551755143072, 0.194119297589867, 0.1544130776283033, 0.1500012754103518, 0.323842965365521, 0.285493140519604, 0.18322694093049213, 0.10226619958911189, 0.11078838288820454, 0.3269050931453037, 0.26668573388169514, 0.19356222620445612, 0.11183595291813021, 0.09463042169995634, 0.33183747384992296, 0.2892942079717277, 0.17442739010060054, 0.10635816469548813, 0.09359518493202955, 0.2706834228879513, 0.24060748701151224, 0.19764186433088507, 0.15467624165025787, 0.137489992578007, 0.2544248361122281, 0.2324916605853119, 0.21055848505839567, 0.1535322286884135, 0.14914559358303028, 0.30845812696367936, 0.24848015783185284, 0.20135461065684626, 0.13280836022047307, 0.11138765695910645, 0.25930887376551937, 0.23695466050987113, 0.201187919300834, 0.14753780748727824, 0.1520086501384079, 0.26263060936071403, 0.2354619256337436, 0.2082932419067732, 0.14489964654384221, 0.14942776049833728, 0.2623846458090265, 0.23614618122812384, 0.20553463921707074, 0.148684632625115, 0.14431155519496455, 0.31446497030809345, 0.2923195498638615, 0.17273427946500908, 0.12844343857654522, 0.08858168177692773, 0.3320732221223741, 0.2752712236014417, 0.19225291807084818, 0.10923461254025464, 0.09612645903542409, 0.2676048904335775, 0.22746415686854085, 0.19624358631795683, 0.15610285275292018, 0.14718268973846763, 0.25660222815135286, 0.23409326076965523, 0.2070824999116181, 0.16656635862456237, 0.1350538042901857, 0.2681573281559491, 0.24178119751765903, 0.20221700156022393, 0.1626528056027888, 0.12748463141840205, 0.2674246919562894, 0.23622514456138893, 0.20948267536576, 0.15599773697450214, 0.1292552677788732, 0.3278641126902947, 0.2774234799687109, 0.19335575876607122, 0.10508465150329958, 0.09667787938303561, 0.3640878139211867, 0.29454295058792634, 0.15545322392140556, 0.10227185784302997, 0.08590836058814517, 0.25755196508907363, 0.23090865835572122, 0.20870590274459416, 0.15541928927788928, 0.15097873815566387, 0.25898144380225785, 0.23264434782236723, 0.2063072518424766, 0.15363305988269535, 0.1492435438860469, 0.32624447586280614, 0.27839528606959457, 0.18269690648317144, 0.11744801131061021, 0.09569837958642313, 0.26255792809450174, 0.2308699022899929, 0.20823559814391515, 0.1448595465348975, 0.1539132681933286, 0.31726416494788306, 0.2781494048858153, 0.19557380031033889, 0.10430602683218074, 0.10430602683218074, 0.32735476688388637, 0.28058980018618834, 0.17855714557302893, 0.11053537583092267, 0.1020326546131594, 0.3337345130647785, 0.277389725144751, 0.18203700712624285, 0.1126895758400551, 0.09101850356312143, 0.33327653935661655, 0.2856656051628142, 0.17313066979564495, 0.1082066686222781, 0.09522186838760473, 0.25013881687440603, 0.23194690291990377, 0.21375498896540154, 0.17282318256777146, 0.13189137617014138, 0.2520562443008884, 0.2250502181257932, 0.2160482094007615, 0.17103816577560285, 0.13503013087547594, 0.2707717436589262, 0.2441384573973925, 0.20862740904868085, 0.15536083652561342, 0.11541090713331281, 0.2676831352540742, 0.2446070029045851, 0.21230041761530025, 0.1338415676270371, 0.1476872470367306, 0.25579267156357344, 0.22886712718846045, 0.20642917354253296, 0.14360290333393597, 0.15706567552149245, 0.32365008530467165, 0.2786986845679117, 0.1887958830943918, 0.10788336176822388, 0.10338822169454788, 0.26159974041677564, 0.2345376983046954, 0.2029653158406018, 0.14433089126442794, 0.15786191232046806, 0.3152466167114975, 0.25560536490121416, 0.19170402367591063, 0.13632286128064755, 0.10224214596048567, 0.31775621008055144, 0.24573146912895977, 0.19912722498381222, 0.11862898509673919, 0.11862898509673919, 0.28148527362481135, 0.26829065142364833, 0.20671574781822083, 0.12314980721085496, 0.11435339241007961, 0.25858822359876954, 0.24521297065400563, 0.2050872118197138, 0.1605030353371673, 0.12929411179938477, 0.3056626948158778, 0.2798320445497473, 0.1894247686182905, 0.13345835970834102, 0.09040727593145682, 0.29746372920856945, 0.26246799636050244, 0.20997439708840196, 0.1356084647862596, 0.09623826533218423, 0.26779962793080075, 0.23209301087336065, 0.2097763752124606, 0.13836314109758038, 0.15175312249412043, 0.2976205409615587, 0.2626063596719636, 0.20570831507637147, 0.10504254386878543, 0.1269264071747824, 0.3879193611448676, 0.26541851025701463, 0.155167744457947, 0.10208404240654409, 0.09391731901402056, 0.2647178129416923, 0.23331061479606777, 0.20190341665044326, 0.16600947591258666, 0.13460227776696215, 0.2886629545426473, 0.2361787809894387, 0.20118933195396632, 0.16182620178905985, 0.1137157093652853, 0.3208930136017844, 0.27319270076908675, 0.19080125133079073, 0.11274619396819452, 0.09973701774109515, 0.3176546159691084, 0.24565290301611048, 0.17365119006311258, 0.13553263614681957, 0.12706184638764337, 0.2554598983855794, 0.23721276278660947, 0.20071849158866953, 0.1687860042904721, 0.1368535169922747, 0.2608536514862359, 0.23386879098765975, 0.20688393048908363, 0.13942177924264332, 0.15741168624169408, 0.24608603707306284, 0.22818887074047645, 0.20581741282474347, 0.16554878857642408, 0.1566002054101309, 0.27164023433928425, 0.2409711756235586, 0.2015395287033399, 0.14020141127188865, 0.1533452935786282, 0.2671653278587009, 0.2315432841442074, 0.209279506822649, 0.16029919671522053, 0.13358266392935045, 0.2613738431143245, 0.23036338715160803, 0.2037829963264225, 0.15505227981358233, 0.14619214953852047, 0.26074929893088317, 0.23330200430657966, 0.196705611474175, 0.16468376774582094, 0.14181102222556802, 0.2598896456220333, 0.23823217515353057, 0.20791171649762666, 0.15160229327951943, 0.14293930509211833, 0.26313010165364664, 0.23293484408683476, 0.2113668029676834, 0.15528989605788984, 0.13803546316256873, 0.2659624801385523, 0.24303468012660814, 0.1971790801027198, 0.165080160085998, 0.1283956800668873, 0.2578613336538089, 0.2311860232758287, 0.20895659796084518, 0.1556059772048847, 0.151160092141888, 0.2609874365045222, 0.23444634126677422, 0.19905821428311019, 0.15039953968057213, 0.15482305555353015, 0.28382827019836115, 0.23804951694056098, 0.21058226498588087, 0.11444688314450047, 0.15564776107652065, 0.2711992864574731, 0.2440793578117258, 0.20791945295072936, 0.16271957187448385, 0.1129997026906138, 0.26439456600859496, 0.24236168550787868, 0.20270250060658945, 0.15863673960515695, 0.12779070690415423, 0.32779380662021346, 0.28349734626613055, 0.18604513348714818, 0.11074115088520725, 0.09745221277898239, 0.2595762301051485, 0.23680638535908288, 0.2003746337653778, 0.15028097532403337, 0.15483494427324648, 0.26160286502732527, 0.23499918383810575, 0.2039615557840163, 0.15075419340557727, 0.15075419340557727, 0.258427925163885, 0.23996878765217894, 0.19843572825084027, 0.1522878844715751, 0.1522878844715751, 0.31824230593505004, 0.2920854040773747, 0.18745779664667334, 0.09590864014480961, 0.10462760743070139, 0.29091992711383136, 0.26888053869611683, 0.21157812881005916, 0.11460481977211538, 0.11460481977211538, 0.303364043819632, 0.27698456174835967, 0.20663927622496672, 0.12310424966593762, 0.09232818724945321, 0.25725938010610216, 0.23951735389188825, 0.20403330146346035, 0.1596782359279255, 0.14193620971371154, 0.3084109161176178, 0.2819756947361077, 0.19826416036132571, 0.1013350152957887, 0.11014675575629206, 0.3282477510640659, 0.29916250729889554, 0.17035642776742663, 0.10803090541349004, 0.09556580094270274, 0.25607962637098897, 0.23810912627477923, 0.19767550105830728, 0.15724187584183533, 0.14825662579373045, 0.2658783835198325, 0.23485923877585205, 0.2082714004238688, 0.13737049815191346, 0.1550957237199023, 0.273573515861667, 0.2479259987496357, 0.20518013689625023, 0.1538851026721877, 0.1196884131894793, 0.32778521098479324, 0.27463085244671864, 0.18161072500508815, 0.11073824695432204, 0.10187918719797627, 0.2595947842272971, 0.2331953146448601, 0.2067958450624231, 0.15399690589754914, 0.14519708270340345, 0.2628759188227256, 0.24021420168283547, 0.20395545425901124, 0.16769670683518703, 0.12237327255540675, 0.26886117404222, 0.23416940964967548, 0.2081505863552671, 0.14743999866831417, 0.13876705757017804, 0.2606444685805749, 0.24297365715138336, 0.2076320342930003, 0.14578419429083, 0.14136649143353214, 0.34113435329813047, 0.27553159304849, 0.17056717664906523, 0.10933793374940079, 0.10496441639942476, 0.2561277834405778, 0.23846379837571036, 0.20313582824597548, 0.15455986931759005, 0.1501438730513732, 0.26110668496994494, 0.22509196980167667, 0.20708461221754254, 0.17557173644530782, 0.13055334248497247, 0.2675931368468396, 0.24169702682940353, 0.20285286180324938, 0.14674462343213784, 0.13811258675965915, 0.2850084333956873, 0.2449291224494188, 0.20484981150315026, 0.16477050055688175, 0.10242490575157513, 0.2705028582652712, 0.23894419146765622, 0.19836876272786555, 0.13975981010372346, 0.15328495301698702, 0.2605846511186087, 0.2340845171065468, 0.19875100509046426, 0.1590008040723714, 0.15016742606835076, 0.3074698221167076, 0.2811152659352755, 0.1976591713607406, 0.10981065075596701, 0.10102579869548964, 0.3148703714093357, 0.27605073657804774, 0.19409817415643982, 0.11645890449386388, 0.09489244069870391, 0.26898734997622903, 0.24657173747820996, 0.2107067574813794, 0.15690928748613361, 0.12104430748930306, 0.25860114434485576, 0.23630794224616133, 0.20509745930798906, 0.15159377427112236, 0.15159377427112236, 0.26324981456135277, 0.23692483310521747, 0.19743736092101455, 0.15356239182745576, 0.1491748949180999, 0.27201211921053625, 0.23633839865833478, 0.19620546303710812, 0.16053174248490665, 0.13377645207075553, 0.3293857447634773, 0.2810758355315007, 0.188847826997727, 0.09661981846395336, 0.10540343832431275, 0.2565887903558385, 0.23004512238799313, 0.20350145442014778, 0.15926200780707217, 0.1459901738231495, 0.25891758229823525, 0.23659710106562873, 0.20088433109345838, 0.1562433686282454, 0.1517792723817241, 0.31540235122154425, 0.2592348092231871, 0.20738784737854965, 0.10369392368927483, 0.1123350839967144, 0.30750858951278764, 0.2815219481455098, 0.19489981025458372, 0.12127099304729654, 0.09528435168001871, 0.265272382882715, 0.2382955303861677, 0.20232639372410466, 0.1663572570620416, 0.13038812039997855, 0.2584413402128065, 0.24507368468455792, 0.2005148329237292, 0.16041186633898336, 0.13367655528248615, 0.269560904679581, 0.23811213246696322, 0.19767799676502606, 0.1392731340844502, 0.15724386106308894, 0.2533936273799852, 0.23529408256712914, 0.21266965155105902, 0.17194567572213282, 0.1266968136899926, 0.3288941452124196, 0.2726359361629268, 0.1904123998598219, 0.1038613090144483, 0.1038613090144483, 0.3222261323603122, 0.2692574530682061, 0.17214820769934489, 0.11035141519188774, 0.1280076416225898, 0.2588746257238529, 0.23655784764421042, 0.20085100271678244, 0.15175409094156894, 0.15175409094156894, 0.2589079954776952, 0.23257836881894656, 0.21063701326998932, 0.14920121773290912, 0.14920121773290912, 0.33742041990033617, 0.29524286741279415, 0.17292796519892228, 0.10544388121885506, 0.08857286022383824, 0.3227869969896361, 0.28352911897738303, 0.18756541716965341, 0.10032568825353555, 0.10904966114514733, 0.31435015318567505, 0.27990082132971067, 0.18947132520780413, 0.12487882797787091, 0.09042949612190651, 0.26411526291635046, 0.24210565767332123, 0.2068902892844745, 0.14966531565259858, 0.1408614735553869, 0.26420514169788983, 0.24142883637910625, 0.2095420089328092, 0.16398939829524198, 0.12299204872143149, 0.2547456678609513, 0.231586970782683, 0.21769175253572204, 0.12968870363830248, 0.16211087954787812, 0.2632264050052436, 0.2409190825471721, 0.1918429731394148, 0.1516897927148861, 0.15615125720650042, 0.3569419609053723, 0.2739322025552857, 0.16601951670017315, 0.10791268585511256, 0.0996117100201039, 0.33824054119838176, 0.28686223114293136, 0.16697950768021377, 0.10703814594885498, 0.09847509427294658], \"Term\": [\"acting\", \"acting\", \"acting\", \"acting\", \"acting\", \"ass\", \"ass\", \"ass\", \"ass\", \"ass\", \"baby\", \"baby\", \"baby\", \"baby\", \"baby\", \"back\", \"back\", \"back\", \"back\", \"back\", \"bail\", \"bail\", \"bail\", \"bail\", \"bail\", \"bar\", \"bar\", \"bar\", \"bar\", \"bar\", \"bat\", \"bat\", \"bat\", \"bat\", \"bat\", \"begin\", \"begin\", \"begin\", \"begin\", \"begin\", \"bitch\", \"bitch\", \"bitch\", \"bitch\", \"bitch\", \"bitches\", \"bitches\", \"bitches\", \"bitches\", \"bitches\", \"book\", \"book\", \"book\", \"book\", \"book\", \"booty\", \"booty\", \"booty\", \"booty\", \"booty\", \"brand\", \"brand\", \"brand\", \"brand\", \"brand\", \"breaking\", \"breaking\", \"breaking\", \"breaking\", \"breaking\", \"breaks\", \"breaks\", \"breaks\", \"breaks\", \"breaks\", \"brew\", \"brew\", \"brew\", \"brew\", \"brew\", \"bum\", \"bum\", \"bum\", \"bum\", \"bum\", \"calm\", \"calm\", \"calm\", \"calm\", \"calm\", \"cause\", \"cause\", \"cause\", \"cause\", \"cause\", \"chocolate\", \"chocolate\", \"chocolate\", \"chocolate\", \"chocolate\", \"chose\", \"chose\", \"chose\", \"chose\", \"chose\", \"claimin\", \"claimin\", \"claimin\", \"claimin\", \"claimin\", \"clips\", \"clips\", \"clips\", \"clips\", \"clips\", \"close\", \"close\", \"close\", \"close\", \"close\", \"come\", \"come\", \"come\", \"come\", \"come\", \"cowards\", \"cowards\", \"cowards\", \"cowards\", \"cowards\", \"curb\", \"curb\", \"curb\", \"curb\", \"curb\", \"dare\", \"dare\", \"dare\", \"dare\", \"dare\", \"day\", \"day\", \"day\", \"day\", \"day\", \"deuce\", \"deuce\", \"deuce\", \"deuce\", \"deuce\", \"di\", \"di\", \"di\", \"di\", \"di\", \"dice\", \"dice\", \"dice\", \"dice\", \"dice\", \"dip\", \"dip\", \"dip\", \"dip\", \"dip\", \"dirt\", \"dirt\", \"dirt\", \"dirt\", \"dirt\", \"diss\", \"diss\", \"diss\", \"diss\", \"diss\", \"doggy\", \"doggy\", \"doggy\", \"doggy\", \"doggy\", \"drinkin\", \"drinkin\", \"drinkin\", \"drinkin\", \"drinkin\", \"drinking\", \"drinking\", \"drinking\", \"drinking\", \"drinking\", \"em\", \"em\", \"em\", \"em\", \"em\", \"every\", \"every\", \"every\", \"every\", \"every\", \"expect\", \"expect\", \"expect\", \"expect\", \"expect\", \"facts\", \"facts\", \"facts\", \"facts\", \"facts\", \"feel\", \"feel\", \"feel\", \"feel\", \"feel\", \"finish\", \"finish\", \"finish\", \"finish\", \"finish\", \"floor\", \"floor\", \"floor\", \"floor\", \"floor\", \"forgive\", \"forgive\", \"forgive\", \"forgive\", \"forgive\", \"fuck\", \"fuck\", \"fuck\", \"fuck\", \"fuck\", \"fuckin\", \"fuckin\", \"fuckin\", \"fuckin\", \"fuckin\", \"game\", \"game\", \"game\", \"game\", \"game\", \"get\", \"get\", \"get\", \"get\", \"get\", \"give\", \"give\", \"give\", \"give\", \"give\", \"given\", \"given\", \"given\", \"given\", \"given\", \"go\", \"go\", \"go\", \"go\", \"go\", \"gonna\", \"gonna\", \"gonna\", \"gonna\", \"gonna\", \"got\", \"got\", \"got\", \"got\", \"got\", \"grass\", \"grass\", \"grass\", \"grass\", \"grass\", \"guilty\", \"guilty\", \"guilty\", \"guilty\", \"guilty\", \"gun\", \"gun\", \"gun\", \"gun\", \"gun\", \"happens\", \"happens\", \"happens\", \"happens\", \"happens\", \"harder\", \"harder\", \"harder\", \"harder\", \"harder\", \"history\", \"history\", \"history\", \"history\", \"history\", \"hit\", \"hit\", \"hit\", \"hit\", \"hit\", \"hoes\", \"hoes\", \"hoes\", \"hoes\", \"hoes\", \"homicide\", \"homicide\", \"homicide\", \"homicide\", \"homicide\", \"hustlers\", \"hustlers\", \"hustlers\", \"hustlers\", \"hustlers\", \"jewels\", \"jewels\", \"jewels\", \"jewels\", \"jewels\", \"job\", \"job\", \"job\", \"job\", \"job\", \"keep\", \"keep\", \"keep\", \"keep\", \"keep\", \"know\", \"know\", \"know\", \"know\", \"know\", \"layin\", \"layin\", \"layin\", \"layin\", \"layin\", \"leg\", \"leg\", \"leg\", \"leg\", \"leg\", \"let\", \"let\", \"let\", \"let\", \"let\", \"lethal\", \"lethal\", \"lethal\", \"lethal\", \"lethal\", \"life\", \"life\", \"life\", \"life\", \"life\", \"like\", \"like\", \"like\", \"like\", \"like\", \"love\", \"love\", \"love\", \"love\", \"love\", \"make\", \"make\", \"make\", \"make\", \"make\", \"match\", \"match\", \"match\", \"match\", \"match\", \"max\", \"max\", \"max\", \"max\", \"max\", \"maybe\", \"maybe\", \"maybe\", \"maybe\", \"maybe\", \"means\", \"means\", \"means\", \"means\", \"means\", \"mics\", \"mics\", \"mics\", \"mics\", \"mics\", \"money\", \"money\", \"money\", \"money\", \"money\", \"morning\", \"morning\", \"morning\", \"morning\", \"morning\", \"motherfuckers\", \"motherfuckers\", \"motherfuckers\", \"motherfuckers\", \"motherfuckers\", \"motherfuckin\", \"motherfuckin\", \"motherfuckin\", \"motherfuckin\", \"motherfuckin\", \"must\", \"must\", \"must\", \"must\", \"must\", \"naked\", \"naked\", \"naked\", \"naked\", \"naked\", \"need\", \"need\", \"need\", \"need\", \"need\", \"new\", \"new\", \"new\", \"new\", \"new\", \"news\", \"news\", \"news\", \"news\", \"news\", \"next\", \"next\", \"next\", \"next\", \"next\", \"nigga\", \"nigga\", \"nigga\", \"nigga\", \"nigga\", \"nowhere\", \"nowhere\", \"nowhere\", \"nowhere\", \"nowhere\", \"nuthin\", \"nuthin\", \"nuthin\", \"nuthin\", \"nuthin\", \"one\", \"one\", \"one\", \"one\", \"one\", \"pain\", \"pain\", \"pain\", \"pain\", \"pain\", \"passed\", \"passed\", \"passed\", \"passed\", \"passed\", \"path\", \"path\", \"path\", \"path\", \"path\", \"plain\", \"plain\", \"plain\", \"plain\", \"plain\", \"planet\", \"planet\", \"planet\", \"planet\", \"planet\", \"plot\", \"plot\", \"plot\", \"plot\", \"plot\", \"poppin\", \"poppin\", \"poppin\", \"poppin\", \"poppin\", \"pow\", \"pow\", \"pow\", \"pow\", \"pow\", \"press\", \"press\", \"press\", \"press\", \"press\", \"prison\", \"prison\", \"prison\", \"prison\", \"prison\", \"proceed\", \"proceed\", \"proceed\", \"proceed\", \"proceed\", \"proof\", \"proof\", \"proof\", \"proof\", \"proof\", \"pullin\", \"pullin\", \"pullin\", \"pullin\", \"pullin\", \"quit\", \"quit\", \"quit\", \"quit\", \"quit\", \"rappers\", \"rappers\", \"rappers\", \"rappers\", \"rappers\", \"reach\", \"reach\", \"reach\", \"reach\", \"reach\", \"real\", \"real\", \"real\", \"real\", \"real\", \"rear\", \"rear\", \"rear\", \"rear\", \"rear\", \"representin\", \"representin\", \"representin\", \"representin\", \"representin\", \"rhythm\", \"rhythm\", \"rhythm\", \"rhythm\", \"rhythm\", \"right\", \"right\", \"right\", \"right\", \"right\", \"rollin\", \"rollin\", \"rollin\", \"rollin\", \"rollin\", \"run\", \"run\", \"run\", \"run\", \"run\", \"sad\", \"sad\", \"sad\", \"sad\", \"sad\", \"said\", \"said\", \"said\", \"said\", \"said\", \"say\", \"say\", \"say\", \"say\", \"say\", \"says\", \"says\", \"says\", \"says\", \"says\", \"screamin\", \"screamin\", \"screamin\", \"screamin\", \"screamin\", \"searchin\", \"searchin\", \"searchin\", \"searchin\", \"searchin\", \"see\", \"see\", \"see\", \"see\", \"see\", \"seeing\", \"seeing\", \"seeing\", \"seeing\", \"seeing\", \"seven\", \"seven\", \"seven\", \"seven\", \"seven\", \"shakin\", \"shakin\", \"shakin\", \"shakin\", \"shakin\", \"shame\", \"shame\", \"shame\", \"shame\", \"shame\", \"shit\", \"shit\", \"shit\", \"shit\", \"shit\", \"sho\", \"sho\", \"sho\", \"sho\", \"sho\", \"sir\", \"sir\", \"sir\", \"sir\", \"sir\", \"sitting\", \"sitting\", \"sitting\", \"sitting\", \"sitting\", \"spit\", \"spit\", \"spit\", \"spit\", \"spit\", \"split\", \"split\", \"split\", \"split\", \"split\", \"stash\", \"stash\", \"stash\", \"stash\", \"stash\", \"still\", \"still\", \"still\", \"still\", \"still\", \"stop\", \"stop\", \"stop\", \"stop\", \"stop\", \"story\", \"story\", \"story\", \"story\", \"story\", \"stressin\", \"stressin\", \"stressin\", \"stressin\", \"stressin\", \"table\", \"table\", \"table\", \"table\", \"table\", \"tank\", \"tank\", \"tank\", \"tank\", \"tank\", \"tell\", \"tell\", \"tell\", \"tell\", \"tell\", \"telling\", \"telling\", \"telling\", \"telling\", \"telling\", \"thru\", \"thru\", \"thru\", \"thru\", \"thru\", \"thug\", \"thug\", \"thug\", \"thug\", \"thug\", \"time\", \"time\", \"time\", \"time\", \"time\", \"toe\", \"toe\", \"toe\", \"toe\", \"toe\", \"tone\", \"tone\", \"tone\", \"tone\", \"tone\", \"treat\", \"treat\", \"treat\", \"treat\", \"treat\", \"ugly\", \"ugly\", \"ugly\", \"ugly\", \"ugly\", \"uh\", \"uh\", \"uh\", \"uh\", \"uh\", \"us\", \"us\", \"us\", \"us\", \"us\", \"van\", \"van\", \"van\", \"van\", \"van\", \"vision\", \"vision\", \"vision\", \"vision\", \"vision\", \"wanna\", \"wanna\", \"wanna\", \"wanna\", \"wanna\", \"want\", \"want\", \"want\", \"want\", \"want\", \"way\", \"way\", \"way\", \"way\", \"way\", \"wear\", \"wear\", \"wear\", \"wear\", \"wear\", \"weight\", \"weight\", \"weight\", \"weight\", \"weight\", \"whip\", \"whip\", \"whip\", \"whip\", \"whip\", \"worth\", \"worth\", \"worth\", \"worth\", \"worth\", \"yeah\", \"yeah\", \"yeah\", \"yeah\", \"yeah\", \"yeahr\", \"yeahr\", \"yeahr\", \"yeahr\", \"yeahr\"]}, \"R\": 30, \"lambda.step\": 0.01, \"plot.opts\": {\"xlab\": \"PC1\", \"ylab\": \"PC2\"}, \"topic.order\": [1, 3, 5, 2, 4]};\n\nfunction LDAvis_load_lib(url, callback){\n  var s = document.createElement('script');\n  s.src = url;\n  s.async = true;\n  s.onreadystatechange = s.onload = callback;\n  s.onerror = function(){console.warn(\"failed to load library \" + url);};\n  document.getElementsByTagName(\"head\")[0].appendChild(s);\n}\n\nif(typeof(LDAvis) !== \"undefined\"){\n   // already loaded: just create the visualization\n   !function(LDAvis){\n       new LDAvis(\"#\" + \"ldavis_el18554111113684004221720407\", ldavis_el18554111113684004221720407_data);\n   }(LDAvis);\n}else if(typeof define === \"function\" && define.amd){\n   // require.js is available: use it to load d3/LDAvis\n   require.config({paths: {d3: \"https://d3js.org/d3.v5\"}});\n   require([\"d3\"], function(d3){\n      window.d3 = d3;\n      LDAvis_load_lib(\"https://cdn.jsdelivr.net/gh/bmabey/pyLDAvis@3.4.0/pyLDAvis/js/ldavis.v3.0.0.js\", function(){\n        new LDAvis(\"#\" + \"ldavis_el18554111113684004221720407\", ldavis_el18554111113684004221720407_data);\n      });\n    });\n}else{\n    // require.js not available: dynamically load d3 & LDAvis\n    LDAvis_load_lib(\"https://d3js.org/d3.v5.js\", function(){\n         LDAvis_load_lib(\"https://cdn.jsdelivr.net/gh/bmabey/pyLDAvis@3.4.0/pyLDAvis/js/ldavis.v3.0.0.js\", function(){\n                 new LDAvis(\"#\" + \"ldavis_el18554111113684004221720407\", ldavis_el18554111113684004221720407_data);\n            })\n         });\n}\n</script>"
     },
     "execution_count": 14,
     "metadata": {},
     "output_type": "execute_result"
    }
   ],
   "source": [],
   "metadata": {
    "collapsed": false,
    "ExecuteTime": {
     "end_time": "2024-03-27T14:20:48.949537Z",
     "start_time": "2024-03-27T14:20:48.937788Z"
    }
   },
   "id": "237883b9ec8cb740"
  },
  {
   "cell_type": "code",
   "execution_count": 15,
   "outputs": [
    {
     "name": "stderr",
     "output_type": "stream",
     "text": [
      "  0%|          | 0/29 [00:00<?, ?it/s]huggingface/tokenizers: The current process just got forked, after parallelism has already been used. Disabling parallelism to avoid deadlocks...\n",
      "To disable this warning, you can either:\n",
      "\t- Avoid using `tokenizers` before the fork if possible\n",
      "\t- Explicitly set the environment variable TOKENIZERS_PARALLELISM=(true | false)\n",
      "huggingface/tokenizers: The current process just got forked, after parallelism has already been used. Disabling parallelism to avoid deadlocks...\n",
      "To disable this warning, you can either:\n",
      "\t- Avoid using `tokenizers` before the fork if possible\n",
      "\t- Explicitly set the environment variable TOKENIZERS_PARALLELISM=(true | false)\n",
      "huggingface/tokenizers: The current process just got forked, after parallelism has already been used. Disabling parallelism to avoid deadlocks...\n",
      "To disable this warning, you can either:\n",
      "\t- Avoid using `tokenizers` before the fork if possible\n",
      "\t- Explicitly set the environment variable TOKENIZERS_PARALLELISM=(true | false)\n",
      "huggingface/tokenizers: The current process just got forked, after parallelism has already been used. Disabling parallelism to avoid deadlocks...\n",
      "To disable this warning, you can either:\n",
      "\t- Avoid using `tokenizers` before the fork if possible\n",
      "\t- Explicitly set the environment variable TOKENIZERS_PARALLELISM=(true | false)\n",
      "huggingface/tokenizers: The current process just got forked, after parallelism has already been used. Disabling parallelism to avoid deadlocks...\n",
      "To disable this warning, you can either:\n",
      "\t- Avoid using `tokenizers` before the fork if possible\n",
      "\t- Explicitly set the environment variable TOKENIZERS_PARALLELISM=(true | false)\n",
      "huggingface/tokenizers: The current process just got forked, after parallelism has already been used. Disabling parallelism to avoid deadlocks...\n",
      "To disable this warning, you can either:\n",
      "\t- Avoid using `tokenizers` before the fork if possible\n",
      "\t- Explicitly set the environment variable TOKENIZERS_PARALLELISM=(true | false)\n",
      "huggingface/tokenizers: The current process just got forked, after parallelism has already been used. Disabling parallelism to avoid deadlocks...\n",
      "To disable this warning, you can either:\n",
      "\t- Avoid using `tokenizers` before the fork if possible\n",
      "\t- Explicitly set the environment variable TOKENIZERS_PARALLELISM=(true | false)\n",
      "huggingface/tokenizers: The current process just got forked, after parallelism has already been used. Disabling parallelism to avoid deadlocks...\n",
      "To disable this warning, you can either:\n",
      "\t- Avoid using `tokenizers` before the fork if possible\n",
      "\t- Explicitly set the environment variable TOKENIZERS_PARALLELISM=(true | false)\n",
      "100%|██████████| 29/29 [00:47<00:00,  1.65s/it]\n"
     ]
    }
   ],
   "source": [
    "topics_predictions = ctm_combined.get_thetas(training_dataset_combined, n_samples=5)"
   ],
   "metadata": {
    "collapsed": false,
    "ExecuteTime": {
     "end_time": "2024-03-27T14:22:21.377914Z",
     "start_time": "2024-03-27T14:21:33.481716Z"
    }
   },
   "id": "9c33080705dce358"
  },
  {
   "cell_type": "code",
   "execution_count": 16,
   "outputs": [],
   "source": [
    "topic_number = np.argmax(topics_predictions[1])"
   ],
   "metadata": {
    "collapsed": false,
    "ExecuteTime": {
     "end_time": "2024-03-27T14:22:44.400460Z",
     "start_time": "2024-03-27T14:22:44.390959Z"
    }
   },
   "id": "1050ae5fe6ce5a22"
  },
  {
   "cell_type": "code",
   "execution_count": 17,
   "outputs": [
    {
     "data": {
      "text/plain": "4"
     },
     "execution_count": 17,
     "metadata": {},
     "output_type": "execute_result"
    }
   ],
   "source": [
    "topic_number"
   ],
   "metadata": {
    "collapsed": false,
    "ExecuteTime": {
     "end_time": "2024-03-27T14:22:45.044974Z",
     "start_time": "2024-03-27T14:22:45.039763Z"
    }
   },
   "id": "42109fbeb3e41985"
  },
  {
   "cell_type": "code",
   "execution_count": 18,
   "outputs": [],
   "source": [
    "east_coast_artists = list(set(east_coast_df['Artist']))\n",
    "west_coast_artists = list(set(west_coast_df['Artist']))\n",
    "east_contribution = {0: 0, 1: 0, 2:0, 3:0, 4:0}\n",
    "west_contribution = {0: 0, 1: 0, 2:0, 3:0, 4:0}\n",
    "\n",
    "number_of_east_coast_music = 0\n",
    "number_of_west_coast_music = 0\n",
    "for index, predictions in enumerate(topics_predictions):\n",
    "    predicted_topic = np.argmax(predictions)\n",
    "    song_artist = combined_df.at[index, 'Artist']\n",
    "    if song_artist in east_coast_artists:\n",
    "        number_of_east_coast_music += 1\n",
    "        east_contribution[predicted_topic] += 1\n",
    "    else:\n",
    "        number_of_west_coast_music += 1\n",
    "        west_contribution[predicted_topic] += 1\n",
    "\n",
    "for key in east_contribution.keys():\n",
    "    east_contribution[key] /= number_of_east_coast_music\n",
    "\n",
    "for key in west_contribution.keys():\n",
    "    west_contribution[key] /= number_of_west_coast_music"
   ],
   "metadata": {
    "collapsed": false,
    "ExecuteTime": {
     "end_time": "2024-03-27T14:22:46.654663Z",
     "start_time": "2024-03-27T14:22:46.635566Z"
    }
   },
   "id": "990ff9e83bfc839f"
  },
  {
   "cell_type": "code",
   "execution_count": 19,
   "outputs": [
    {
     "data": {
      "text/plain": "<Figure size 1000x600 with 1 Axes>",
      "image/png": "[encoded data removed]"
     },
     "metadata": {},
     "output_type": "display_data"
    }
   ],
   "source": [
    "data = {\n",
    "    'Class': ['Class 1', 'Class 2', 'Class 3', 'Class 4', 'Class 5'] * 2,\n",
    "    'Contribution': [east_contribution[i] for i in range(5)] + [west_contribution[i] for i in range(5)],\n",
    "    'Coast': ['East'] * 5 + ['West'] * 5\n",
    "}\n",
    "\n",
    "df = pd.DataFrame(data)\n",
    "plt.figure(figsize=(10, 6))\n",
    "sns.barplot(x='Class', y='Contribution', hue='Coast', data=df)\n",
    "plt.title('Normalized Contributions by Class and Coast')\n",
    "plt.ylabel('Normalized Contribution')\n",
    "plt.xlabel('Class')\n",
    "plt.legend(title='Coast')\n",
    "\n",
    "plt.show()"
   ],
   "metadata": {
    "collapsed": false,
    "ExecuteTime": {
     "end_time": "2024-03-27T14:22:48.313686Z",
     "start_time": "2024-03-27T14:22:48.114051Z"
    }
   },
   "id": "64e9452ade8b8002"
  },
  {
   "cell_type": "code",
   "execution_count": 23,
   "outputs": [
    {
     "data": {
      "text/plain": "     Class  Contribution Coast\n0  Class 1      0.234753  East\n1  Class 2      0.205984  East\n2  Class 3      0.201381  East\n3  Class 4      0.148446  East\n4  Class 5      0.209436  East\n5  Class 1      0.285266  West\n6  Class 2      0.143156  West\n7  Class 3      0.228840  West\n8  Class 4      0.138976  West\n9  Class 5      0.203762  West",
      "text/html": "<div>\n<style scoped>\n    .dataframe tbody tr th:only-of-type {\n        vertical-align: middle;\n    }\n\n    .dataframe tbody tr th {\n        vertical-align: top;\n    }\n\n    .dataframe thead th {\n        text-align: right;\n    }\n</style>\n<table border=\"1\" class=\"dataframe\">\n  <thead>\n    <tr style=\"text-align: right;\">\n      <th></th>\n      <th>Class</th>\n      <th>Contribution</th>\n      <th>Coast</th>\n    </tr>\n  </thead>\n  <tbody>\n    <tr>\n      <th>0</th>\n      <td>Class 1</td>\n      <td>0.234753</td>\n      <td>East</td>\n    </tr>\n    <tr>\n      <th>1</th>\n      <td>Class 2</td>\n      <td>0.205984</td>\n      <td>East</td>\n    </tr>\n    <tr>\n      <th>2</th>\n      <td>Class 3</td>\n      <td>0.201381</td>\n      <td>East</td>\n    </tr>\n    <tr>\n      <th>3</th>\n      <td>Class 4</td>\n      <td>0.148446</td>\n      <td>East</td>\n    </tr>\n    <tr>\n      <th>4</th>\n      <td>Class 5</td>\n      <td>0.209436</td>\n      <td>East</td>\n    </tr>\n    <tr>\n      <th>5</th>\n      <td>Class 1</td>\n      <td>0.285266</td>\n      <td>West</td>\n    </tr>\n    <tr>\n      <th>6</th>\n      <td>Class 2</td>\n      <td>0.143156</td>\n      <td>West</td>\n    </tr>\n    <tr>\n      <th>7</th>\n      <td>Class 3</td>\n      <td>0.228840</td>\n      <td>West</td>\n    </tr>\n    <tr>\n      <th>8</th>\n      <td>Class 4</td>\n      <td>0.138976</td>\n      <td>West</td>\n    </tr>\n    <tr>\n      <th>9</th>\n      <td>Class 5</td>\n      <td>0.203762</td>\n      <td>West</td>\n    </tr>\n  </tbody>\n</table>\n</div>"
     },
     "execution_count": 23,
     "metadata": {},
     "output_type": "execute_result"
    }
   ],
   "source": [
    "df"
   ],
   "metadata": {
    "collapsed": false,
    "ExecuteTime": {
     "end_time": "2024-03-27T14:23:52.397489Z",
     "start_time": "2024-03-27T14:23:52.388179Z"
    }
   },
   "id": "5ea4dc9cfee95199"
  },
  {
   "cell_type": "code",
   "execution_count": null,
   "outputs": [],
   "source": [],
   "metadata": {
    "collapsed": false
   },
   "id": "d769dd0167028e93"
  }
 ],
 "metadata": {
  "kernelspec": {
   "display_name": "Python 3",
   "language": "python",
   "name": "python3"
  },
  "language_info": {
   "codemirror_mode": {
    "name": "ipython",
    "version": 2
   },
   "file_extension": ".py",
   "mimetype": "text/x-python",
   "name": "python",
   "nbconvert_exporter": "python",
   "pygments_lexer": "ipython2",
   "version": "2.7.6"
  }
 },
 "nbformat": 4,
 "nbformat_minor": 5
}
