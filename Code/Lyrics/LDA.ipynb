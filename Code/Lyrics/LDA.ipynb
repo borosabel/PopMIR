{
 "cells": [
  {
   "cell_type": "code",
   "execution_count": 120,
   "outputs": [
    {
     "data": {
      "text/plain": "<module 'utility_functions' from '/Users/borosabel/Documents/Uni/Thesis/PopMIR/Code/Lyrics/utility_functions.py'>"
     },
     "execution_count": 120,
     "metadata": {},
     "output_type": "execute_result"
    }
   ],
   "source": [
    "import utility_functions as utils\n",
    "import importlib\n",
    "import pandas as pd\n",
    "import numpy as np\n",
    "import nltk\n",
    "from nltk.corpus import stopwords\n",
    "import itertools\n",
    "from collections import Counter\n",
    "import os\n",
    "\n",
    "from sklearn.decomposition import LatentDirichletAllocation\n",
    "from sklearn.feature_extraction.text import CountVectorizer\n",
    "\n",
    "importlib.reload(utils)"
   ],
   "metadata": {
    "collapsed": false,
    "ExecuteTime": {
     "end_time": "2024-03-03T17:53:46.385058Z",
     "start_time": "2024-03-03T17:53:46.378830Z"
    }
   },
   "id": "initial_id"
  },
  {
   "cell_type": "code",
   "execution_count": 121,
   "outputs": [],
   "source": [
    "# Base directory containing your artist folders\n",
    "base_dir = '../../Data/Lyrics'  # Change this to the path where the Lyrics folder is located\n",
    "\n",
    "# List to hold file contents\n",
    "lyrics_data = []\n",
    "\n",
    "# Iterate over each artist directory in the base directory\n",
    "for artist_folder in os.listdir(base_dir):\n",
    "    artist_folder_path = os.path.join(base_dir, artist_folder)\n",
    "\n",
    "    # Check if it's a directory (to account for artist folders)\n",
    "    if os.path.isdir(artist_folder_path):\n",
    "        # Iterate over each album in the artist directory\n",
    "        for album_folder in os.listdir(artist_folder_path):\n",
    "            album_folder_path = os.path.join(artist_folder_path, album_folder)\n",
    "\n",
    "            # Check if it's a directory (to account for album folders)\n",
    "            if os.path.isdir(album_folder_path):\n",
    "                # Iterate over each file (song) in the album directory\n",
    "                for song_file in os.listdir(album_folder_path):\n",
    "                    song_file_path = os.path.join(album_folder_path, song_file)\n",
    "\n",
    "                    # Check if it's a file (to account for song files)\n",
    "                    if os.path.isfile(song_file_path):\n",
    "                        # Read the contents of the file\n",
    "                        with open(song_file_path, 'r', encoding='utf-8') as file:\n",
    "                            lyrics_content = file.read()\n",
    "\n",
    "                        # Append the contents to the list with artist and album name\n",
    "                        lyrics_data.append((artist_folder, album_folder, lyrics_content))\n",
    "\n",
    "# Create a DataFrame with artist, album, and lyrics columns\n",
    "df = pd.DataFrame(lyrics_data, columns=['Artist', 'Album', 'Lyrics'])"
   ],
   "metadata": {
    "collapsed": false,
    "ExecuteTime": {
     "end_time": "2024-03-03T17:53:48.861626Z",
     "start_time": "2024-03-03T17:53:48.740704Z"
    }
   },
   "id": "7a40acee66ef27b0"
  },
  {
   "cell_type": "code",
   "execution_count": 122,
   "outputs": [],
   "source": [
    "df['Lyrics'] = df['Lyrics'].apply(utils.cleanup)"
   ],
   "metadata": {
    "collapsed": false,
    "ExecuteTime": {
     "end_time": "2024-03-03T17:53:53.168867Z",
     "start_time": "2024-03-03T17:53:53.154582Z"
    }
   },
   "id": "3931200cc5a12deb"
  },
  {
   "cell_type": "code",
   "execution_count": 123,
   "outputs": [
    {
     "data": {
      "text/plain": "              Artist                    Album  \\\n0    soulsofmischief  93 'Til Infinity (1993)   \n1    soulsofmischief  93 'Til Infinity (1993)   \n2    soulsofmischief  93 'Til Infinity (1993)   \n3    soulsofmischief  93 'Til Infinity (1993)   \n4    soulsofmischief  93 'Til Infinity (1993)   \n..               ...                      ...   \n637           Dr.Dre       The Chronic (1992)   \n638           Dr.Dre       The Chronic (1992)   \n639           Dr.Dre       The Chronic (1992)   \n640           Dr.Dre       The Chronic (1992)   \n641           Dr.Dre       The Chronic (1992)   \n\n                                                Lyrics  \n0      haha yo man crews be lost man no sense of di...  \n1      yo 1993  new year new world champions hahaha...  \n2       yo whassup this is tajai of the mighty soul...  \n3      hah hah souls of mischief in the house rippi...  \n4      hmmmmm i could give a damn about you and you...  \n..                                                 ...  \n637    yeah nigga what's up with all that motherfuc...  \n638    let me call this old bitch see what this bit...  \n639    bitches ain't shit but hoes and tricks  bitc...  \n640    cannabis sativa ha ha or in the heart of la ...  \n641    you really don't understand do you hey man d...  \n\n[642 rows x 3 columns]",
      "text/html": "<div>\n<style scoped>\n    .dataframe tbody tr th:only-of-type {\n        vertical-align: middle;\n    }\n\n    .dataframe tbody tr th {\n        vertical-align: top;\n    }\n\n    .dataframe thead th {\n        text-align: right;\n    }\n</style>\n<table border=\"1\" class=\"dataframe\">\n  <thead>\n    <tr style=\"text-align: right;\">\n      <th></th>\n      <th>Artist</th>\n      <th>Album</th>\n      <th>Lyrics</th>\n    </tr>\n  </thead>\n  <tbody>\n    <tr>\n      <th>0</th>\n      <td>soulsofmischief</td>\n      <td>93 'Til Infinity (1993)</td>\n      <td>haha yo man crews be lost man no sense of di...</td>\n    </tr>\n    <tr>\n      <th>1</th>\n      <td>soulsofmischief</td>\n      <td>93 'Til Infinity (1993)</td>\n      <td>yo 1993  new year new world champions hahaha...</td>\n    </tr>\n    <tr>\n      <th>2</th>\n      <td>soulsofmischief</td>\n      <td>93 'Til Infinity (1993)</td>\n      <td>yo whassup this is tajai of the mighty soul...</td>\n    </tr>\n    <tr>\n      <th>3</th>\n      <td>soulsofmischief</td>\n      <td>93 'Til Infinity (1993)</td>\n      <td>hah hah souls of mischief in the house rippi...</td>\n    </tr>\n    <tr>\n      <th>4</th>\n      <td>soulsofmischief</td>\n      <td>93 'Til Infinity (1993)</td>\n      <td>hmmmmm i could give a damn about you and you...</td>\n    </tr>\n    <tr>\n      <th>...</th>\n      <td>...</td>\n      <td>...</td>\n      <td>...</td>\n    </tr>\n    <tr>\n      <th>637</th>\n      <td>Dr.Dre</td>\n      <td>The Chronic (1992)</td>\n      <td>yeah nigga what's up with all that motherfuc...</td>\n    </tr>\n    <tr>\n      <th>638</th>\n      <td>Dr.Dre</td>\n      <td>The Chronic (1992)</td>\n      <td>let me call this old bitch see what this bit...</td>\n    </tr>\n    <tr>\n      <th>639</th>\n      <td>Dr.Dre</td>\n      <td>The Chronic (1992)</td>\n      <td>bitches ain't shit but hoes and tricks  bitc...</td>\n    </tr>\n    <tr>\n      <th>640</th>\n      <td>Dr.Dre</td>\n      <td>The Chronic (1992)</td>\n      <td>cannabis sativa ha ha or in the heart of la ...</td>\n    </tr>\n    <tr>\n      <th>641</th>\n      <td>Dr.Dre</td>\n      <td>The Chronic (1992)</td>\n      <td>you really don't understand do you hey man d...</td>\n    </tr>\n  </tbody>\n</table>\n<p>642 rows × 3 columns</p>\n</div>"
     },
     "execution_count": 123,
     "metadata": {},
     "output_type": "execute_result"
    }
   ],
   "source": [
    "df"
   ],
   "metadata": {
    "collapsed": false,
    "ExecuteTime": {
     "end_time": "2024-03-03T17:53:53.377372Z",
     "start_time": "2024-03-03T17:53:53.372113Z"
    }
   },
   "id": "90ab188eaee5471f"
  },
  {
   "cell_type": "code",
   "execution_count": 131,
   "outputs": [],
   "source": [
    "cv = CountVectorizer(max_df=0.9, min_df=2, stop_words=\"english\")"
   ],
   "metadata": {
    "collapsed": false,
    "ExecuteTime": {
     "end_time": "2024-03-03T18:02:57.730256Z",
     "start_time": "2024-03-03T18:02:57.722903Z"
    }
   },
   "id": "b0ddf3eb8da2ec3f"
  },
  {
   "cell_type": "code",
   "execution_count": 132,
   "outputs": [],
   "source": [
    "dtm = cv.fit_transform(df['Lyrics'])"
   ],
   "metadata": {
    "collapsed": false,
    "ExecuteTime": {
     "end_time": "2024-03-03T18:02:58.016393Z",
     "start_time": "2024-03-03T18:02:57.932296Z"
    }
   },
   "id": "aba7a87fb76b510"
  },
  {
   "cell_type": "code",
   "execution_count": 133,
   "outputs": [
    {
     "data": {
      "text/plain": "<642x8271 sparse matrix of type '<class 'numpy.int64'>'\n\twith 105967 stored elements in Compressed Sparse Row format>"
     },
     "execution_count": 133,
     "metadata": {},
     "output_type": "execute_result"
    }
   ],
   "source": [
    "dtm"
   ],
   "metadata": {
    "collapsed": false,
    "ExecuteTime": {
     "end_time": "2024-03-03T18:02:58.094760Z",
     "start_time": "2024-03-03T18:02:58.087383Z"
    }
   },
   "id": "b295e3ecbdce7b5d"
  },
  {
   "cell_type": "code",
   "execution_count": 138,
   "outputs": [],
   "source": [
    "lda = LatentDirichletAllocation(n_components=7, random_state=42)"
   ],
   "metadata": {
    "collapsed": false,
    "ExecuteTime": {
     "end_time": "2024-03-03T18:03:12.024273Z",
     "start_time": "2024-03-03T18:03:12.019154Z"
    }
   },
   "id": "f673d3eafd6c7cfc"
  },
  {
   "cell_type": "code",
   "execution_count": 139,
   "outputs": [
    {
     "data": {
      "text/plain": "LatentDirichletAllocation(n_components=7, random_state=42)",
      "text/html": "<style>#sk-container-id-4 {color: black;}#sk-container-id-4 pre{padding: 0;}#sk-container-id-4 div.sk-toggleable {background-color: white;}#sk-container-id-4 label.sk-toggleable__label {cursor: pointer;display: block;width: 100%;margin-bottom: 0;padding: 0.3em;box-sizing: border-box;text-align: center;}#sk-container-id-4 label.sk-toggleable__label-arrow:before {content: \"▸\";float: left;margin-right: 0.25em;color: #696969;}#sk-container-id-4 label.sk-toggleable__label-arrow:hover:before {color: black;}#sk-container-id-4 div.sk-estimator:hover label.sk-toggleable__label-arrow:before {color: black;}#sk-container-id-4 div.sk-toggleable__content {max-height: 0;max-width: 0;overflow: hidden;text-align: left;background-color: #f0f8ff;}#sk-container-id-4 div.sk-toggleable__content pre {margin: 0.2em;color: black;border-radius: 0.25em;background-color: #f0f8ff;}#sk-container-id-4 input.sk-toggleable__control:checked~div.sk-toggleable__content {max-height: 200px;max-width: 100%;overflow: auto;}#sk-container-id-4 input.sk-toggleable__control:checked~label.sk-toggleable__label-arrow:before {content: \"▾\";}#sk-container-id-4 div.sk-estimator input.sk-toggleable__control:checked~label.sk-toggleable__label {background-color: #d4ebff;}#sk-container-id-4 div.sk-label input.sk-toggleable__control:checked~label.sk-toggleable__label {background-color: #d4ebff;}#sk-container-id-4 input.sk-hidden--visually {border: 0;clip: rect(1px 1px 1px 1px);clip: rect(1px, 1px, 1px, 1px);height: 1px;margin: -1px;overflow: hidden;padding: 0;position: absolute;width: 1px;}#sk-container-id-4 div.sk-estimator {font-family: monospace;background-color: #f0f8ff;border: 1px dotted black;border-radius: 0.25em;box-sizing: border-box;margin-bottom: 0.5em;}#sk-container-id-4 div.sk-estimator:hover {background-color: #d4ebff;}#sk-container-id-4 div.sk-parallel-item::after {content: \"\";width: 100%;border-bottom: 1px solid gray;flex-grow: 1;}#sk-container-id-4 div.sk-label:hover label.sk-toggleable__label {background-color: #d4ebff;}#sk-container-id-4 div.sk-serial::before {content: \"\";position: absolute;border-left: 1px solid gray;box-sizing: border-box;top: 0;bottom: 0;left: 50%;z-index: 0;}#sk-container-id-4 div.sk-serial {display: flex;flex-direction: column;align-items: center;background-color: white;padding-right: 0.2em;padding-left: 0.2em;position: relative;}#sk-container-id-4 div.sk-item {position: relative;z-index: 1;}#sk-container-id-4 div.sk-parallel {display: flex;align-items: stretch;justify-content: center;background-color: white;position: relative;}#sk-container-id-4 div.sk-item::before, #sk-container-id-4 div.sk-parallel-item::before {content: \"\";position: absolute;border-left: 1px solid gray;box-sizing: border-box;top: 0;bottom: 0;left: 50%;z-index: -1;}#sk-container-id-4 div.sk-parallel-item {display: flex;flex-direction: column;z-index: 1;position: relative;background-color: white;}#sk-container-id-4 div.sk-parallel-item:first-child::after {align-self: flex-end;width: 50%;}#sk-container-id-4 div.sk-parallel-item:last-child::after {align-self: flex-start;width: 50%;}#sk-container-id-4 div.sk-parallel-item:only-child::after {width: 0;}#sk-container-id-4 div.sk-dashed-wrapped {border: 1px dashed gray;margin: 0 0.4em 0.5em 0.4em;box-sizing: border-box;padding-bottom: 0.4em;background-color: white;}#sk-container-id-4 div.sk-label label {font-family: monospace;font-weight: bold;display: inline-block;line-height: 1.2em;}#sk-container-id-4 div.sk-label-container {text-align: center;}#sk-container-id-4 div.sk-container {/* jupyter's `normalize.less` sets `[hidden] { display: none; }` but bootstrap.min.css set `[hidden] { display: none !important; }` so we also need the `!important` here to be able to override the default hidden behavior on the sphinx rendered scikit-learn.org. See: https://github.com/scikit-learn/scikit-learn/issues/21755 */display: inline-block !important;position: relative;}#sk-container-id-4 div.sk-text-repr-fallback {display: none;}</style><div id=\"sk-container-id-4\" class=\"sk-top-container\"><div class=\"sk-text-repr-fallback\"><pre>LatentDirichletAllocation(n_components=7, random_state=42)</pre><b>In a Jupyter environment, please rerun this cell to show the HTML representation or trust the notebook. <br />On GitHub, the HTML representation is unable to render, please try loading this page with nbviewer.org.</b></div><div class=\"sk-container\" hidden><div class=\"sk-item\"><div class=\"sk-estimator sk-toggleable\"><input class=\"sk-toggleable__control sk-hidden--visually\" id=\"sk-estimator-id-4\" type=\"checkbox\" checked><label for=\"sk-estimator-id-4\" class=\"sk-toggleable__label sk-toggleable__label-arrow\">LatentDirichletAllocation</label><div class=\"sk-toggleable__content\"><pre>LatentDirichletAllocation(n_components=7, random_state=42)</pre></div></div></div></div></div>"
     },
     "execution_count": 139,
     "metadata": {},
     "output_type": "execute_result"
    }
   ],
   "source": [
    "lda.fit(dtm)"
   ],
   "metadata": {
    "collapsed": false,
    "ExecuteTime": {
     "end_time": "2024-03-03T18:03:14.369221Z",
     "start_time": "2024-03-03T18:03:12.326560Z"
    }
   },
   "id": "b450c4600ff26ae3"
  },
  {
   "cell_type": "code",
   "execution_count": 140,
   "outputs": [
    {
     "data": {
      "text/plain": "8271"
     },
     "execution_count": 140,
     "metadata": {},
     "output_type": "execute_result"
    }
   ],
   "source": [
    "len(cv.get_feature_names_out())"
   ],
   "metadata": {
    "collapsed": false,
    "ExecuteTime": {
     "end_time": "2024-03-03T18:03:14.375276Z",
     "start_time": "2024-03-03T18:03:14.372441Z"
    }
   },
   "id": "97c53f3ed5d0c831"
  },
  {
   "cell_type": "code",
   "execution_count": 141,
   "outputs": [
    {
     "data": {
      "text/plain": "8271"
     },
     "execution_count": 141,
     "metadata": {},
     "output_type": "execute_result"
    }
   ],
   "source": [
    "len(lda.components_[0])"
   ],
   "metadata": {
    "collapsed": false,
    "ExecuteTime": {
     "end_time": "2024-03-03T18:03:14.379259Z",
     "start_time": "2024-03-03T18:03:14.375746Z"
    }
   },
   "id": "2dcaad00d9df0c33"
  },
  {
   "cell_type": "code",
   "execution_count": 142,
   "outputs": [
    {
     "name": "stdout",
     "output_type": "stream",
     "text": [
      "The top 15 words for topic #0\n",
      "['just', 'make', 'let', 'life', 'ya', 'know', 'cause', 'fuck', 'like', 'ain', 'shit', 'got', 'don', 'nigga', 'niggas']\n",
      "The top 15 words for topic #1\n",
      "['em', 'ya', 'ain', 'just', 'man', 'll', 'ass', 'fuck', 'nigga', 'cause', 'know', 'don', 'shit', 'like', 'got']\n",
      "The top 15 words for topic #2\n",
      "['ain', 'just', 'know', 'goin', 'cause', 'make', 'hear', 'lord', 'hard', 'way', 'god', 'got', 'don', 'ya', 'baby']\n",
      "The top 15 words for topic #3\n",
      "['bye', 'world', 'man', 'ain', 'snoop', 'shit', 'know', 'say', 'yo', 'dogg', 'cause', 'got', 'just', 'don', 'like']\n",
      "The top 15 words for topic #4\n",
      "['make', 'just', 'love', 'shit', 'ass', 'ain', 'fuck', 'don', 'bitch', 'know', 'cause', 'like', 'ya', 'got', 'nigga']\n",
      "The top 15 words for topic #5\n",
      "['just', 'gotta', 'man', 'yeah', 'em', 'niggas', 'shit', 'ain', 'cause', 'know', 'don', 'let', 'time', 'got', 'like']\n",
      "The top 15 words for topic #6\n",
      "['por', 'lo', 'los', 'tu', 'como', 'ah', 'hill', 'yo', 'cypress', 'mi', 'en', 'te', 'el', 'que', 'la']\n"
     ]
    }
   ],
   "source": [
    "n = 15\n",
    "\n",
    "for index, topic in enumerate(lda.components_):\n",
    "    print(f'The top {15} words for topic #{index}')\n",
    "    print([cv.get_feature_names_out()[i] for i in topic.argsort()[-15:]])"
   ],
   "metadata": {
    "collapsed": false,
    "ExecuteTime": {
     "end_time": "2024-03-03T18:03:14.538254Z",
     "start_time": "2024-03-03T18:03:14.379699Z"
    }
   },
   "id": "8c0f7287268ca39a"
  },
  {
   "cell_type": "code",
   "execution_count": 142,
   "outputs": [],
   "source": [],
   "metadata": {
    "collapsed": false,
    "ExecuteTime": {
     "end_time": "2024-03-03T20:54:43.864650Z",
     "start_time": "2024-03-03T20:54:43.849950Z"
    }
   },
   "id": "10274e0854e81de3"
  },
  {
   "cell_type": "code",
   "execution_count": 145,
   "outputs": [
    {
     "name": "stdout",
     "output_type": "stream",
     "text": [
      "The top words for topic #0\n",
      "['just', 'make', 'let', 'life', 'ya', 'know', 'cause', 'fuck', 'like', 'ain', 'shit', 'got', 'don', 'nigga', 'niggas']\n",
      "The top words for topic #1\n",
      "['em', 'ya', 'ain', 'just', 'man', 'll', 'ass', 'fuck', 'nigga', 'cause', 'know', 'don', 'shit', 'like', 'got']\n",
      "The top words for topic #2\n",
      "['ain', 'just', 'know', 'goin', 'cause', 'make', 'hear', 'lord', 'hard', 'way', 'god', 'got', 'don', 'ya', 'baby']\n",
      "The top words for topic #3\n",
      "['bye', 'world', 'man', 'ain', 'snoop', 'shit', 'know', 'say', 'yo', 'dogg', 'cause', 'got', 'just', 'don', 'like']\n",
      "The top words for topic #4\n",
      "['make', 'just', 'love', 'shit', 'ass', 'ain', 'fuck', 'don', 'bitch', 'know', 'cause', 'like', 'ya', 'got', 'nigga']\n",
      "The top words for topic #5\n",
      "['just', 'gotta', 'man', 'yeah', 'em', 'niggas', 'shit', 'ain', 'cause', 'know', 'don', 'let', 'time', 'got', 'like']\n",
      "The top words for topic #6\n",
      "['por', 'lo', 'los', 'tu', 'como', 'ah', 'hill', 'yo', 'cypress', 'mi', 'en', 'te', 'el', 'que', 'la']\n"
     ]
    }
   ],
   "source": [
    "cv = CountVectorizer(max_df=0.9, min_df=2, stop_words=\"english\")\n",
    "dtm = cv.fit_transform(df['Lyrics'])\n",
    "\n",
    "# Step 3: Create and Train the LDA Model\n",
    "# Choose the number of topics (K)\n",
    "K = 7\n",
    "# Create an instance of LDA\n",
    "lda = LatentDirichletAllocation(n_components=K, random_state=42)\n",
    "# Fit the model to the document-term matrix\n",
    "lda.fit(dtm)\n",
    "\n",
    "# Step 4: View the Topics\n",
    "# For each topic, print out the top words\n",
    "for index, topic in enumerate(lda.components_):\n",
    "    print(f'The top words for topic #{index}')\n",
    "    print([cv.get_feature_names_out()[i] for i in topic.argsort()[-15:]])\n"
   ],
   "metadata": {
    "collapsed": false,
    "ExecuteTime": {
     "end_time": "2024-03-03T20:58:18.628355Z",
     "start_time": "2024-03-03T20:58:16.597569Z"
    }
   },
   "id": "6bcc308185ff1768"
  },
  {
   "cell_type": "code",
   "execution_count": null,
   "outputs": [],
   "source": [],
   "metadata": {
    "collapsed": false
   },
   "id": "6728985488bc33fe"
  }
 ],
 "metadata": {
  "kernelspec": {
   "display_name": "Python 3",
   "language": "python",
   "name": "python3"
  },
  "language_info": {
   "codemirror_mode": {
    "name": "ipython",
    "version": 2
   },
   "file_extension": ".py",
   "mimetype": "text/x-python",
   "name": "python",
   "nbconvert_exporter": "python",
   "pygments_lexer": "ipython2",
   "version": "2.7.6"
  }
 },
 "nbformat": 4,
 "nbformat_minor": 5
}
