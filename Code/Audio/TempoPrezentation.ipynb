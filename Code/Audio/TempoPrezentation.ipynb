{
 "cells": [
  {
   "cell_type": "code",
   "execution_count": 40,
   "id": "initial_id",
   "metadata": {
    "collapsed": true,
    "ExecuteTime": {
     "end_time": "2024-05-05T21:35:54.740422Z",
     "start_time": "2024-05-05T21:35:54.733805Z"
    }
   },
   "source": [
    "import numpy as np\n",
    "\n",
    "# Create monkey patches\n",
    "np.float = float\n",
    "np.int = int\n",
    "np.object = object\n",
    "np.bool = bool"
   ],
   "outputs": []
  },
  {
   "cell_type": "code",
   "execution_count": 66,
   "source": [
    "from madmom.features.tempo import TempoEstimationProcessor\n",
    "from madmom.features.beats import RNNBeatProcessor\n",
    "from madmom.processors import SequentialProcessor\n",
    "from madmom.features.onsets import \n",
    "\n",
    "import librosa\n",
    "import librosa.display\n",
    "import pandas as pd\n",
    "import utility_functions as utils\n",
    "import importlib\n",
    "import numpy as np\n",
    "import seaborn as sns\n",
    "import matplotlib.pyplot as plt\n",
    "import plotly.express as px\n",
    "from ipywidgets import interact, widgets\n",
    "\n",
    "importlib.reload(utils)"
   ],
   "metadata": {
    "collapsed": false,
    "ExecuteTime": {
     "end_time": "2024-05-05T21:52:36.676341Z",
     "start_time": "2024-05-05T21:52:36.666971Z"
    }
   },
   "id": "868d4ee3f6e7dcbc",
   "outputs": []
  },
  {
   "cell_type": "code",
   "execution_count": 42,
   "source": [
    "FRAME_LENGTH = 2048\n",
    "HOP_LENGTH = 512"
   ],
   "metadata": {
    "collapsed": false,
    "ExecuteTime": {
     "end_time": "2024-05-05T21:35:56.456448Z",
     "start_time": "2024-05-05T21:35:56.448683Z"
    }
   },
   "id": "2dffd00c53c2d5a2",
   "outputs": []
  },
  {
   "cell_type": "code",
   "execution_count": 43,
   "source": [
    "# Utility functions\n",
    "\n",
    "def calculate_spectral_features(audio_file):\n",
    "    # Load the audio file\n",
    "    y, sr = librosa.load(audio_file)\n",
    "\n",
    "    # Define the frame and hop length for STFT calculations\n",
    "    FRAME_LENGTH = 2048\n",
    "    HOP_LENGTH = 512\n",
    "\n",
    "    # Calculate spectral centroid\n",
    "    spectral_centroids = librosa.feature.spectral_centroid(y=y, sr=sr, n_fft=FRAME_LENGTH, hop_length=HOP_LENGTH)[0]\n",
    "    # Calculate spectral rolloff\n",
    "    spectral_rolloff = librosa.feature.spectral_rolloff(y=y, sr=sr, n_fft=FRAME_LENGTH, hop_length=HOP_LENGTH)[0]\n",
    "    # Calculate spectral bandwidth\n",
    "    spectral_bandwidth = librosa.feature.spectral_bandwidth(y=y, sr=sr, n_fft=FRAME_LENGTH, hop_length=HOP_LENGTH)[0]\n",
    "\n",
    "    return spectral_centroids, spectral_rolloff, spectral_bandwidth\n",
    "\n",
    "def calculate_tempo(audio_file):\n",
    "    pipeline = SequentialProcessor([\n",
    "        RNNBeatProcessor(),\n",
    "        TempoEstimationProcessor(fps=100)\n",
    "    ])\n",
    "    \n",
    "    tempo_histogram = pipeline(audio_file)\n",
    "    sorted_tempo_histogram = tempo_histogram[tempo_histogram[:, 1].argsort()[::-1]]\n",
    "    \n",
    "    # We need the two most probable tempos because it's always the tempo and the half tempo (not necessarily in this order we will need\n",
    "    # to sort it later in the dataframe.)\n",
    "    top_two_tempos = sorted_tempo_histogram[:2, :]\n",
    "    \n",
    "    return top_two_tempos\n",
    "\n",
    "def calculate_energy_of_frames(audio_file, frame_length=2048, hop_length=512):\n",
    "    # Load the audio file\n",
    "    y, sr = librosa.load(audio_file)\n",
    "\n",
    "    # Initialize an array to store energy values\n",
    "    energy = np.array([\n",
    "        np.sum(np.square(y[i: i + frame_length]))\n",
    "        for i in range(0, len(y) - frame_length + 1, hop_length)\n",
    "    ])\n",
    "\n",
    "    return energy\n",
    "\n",
    "def std_of_local_tempos(df):\n",
    "    stds = []\n",
    "    \n",
    "    for index, row in df.iterrows():\n",
    "        print(index)\n",
    "        std = np.std(row['Local Tempos'])\n",
    "        stds.append(std)\n",
    "        \n",
    "    df['Std Local Tempo'] = std\n",
    "    return df\n",
    "\n",
    "def convert_tempo(tempo_string):\n",
    "    if isinstance(tempo_string, str):\n",
    "        tempo_list_str = tempo_string.strip('[]').split()\n",
    "        tempo_list = []\n",
    "        \n",
    "        for tempo in tempo_list_str:\n",
    "            try:\n",
    "                # Try converting the string to float and add to the list\n",
    "                tempo_list.append(float(tempo))\n",
    "            except ValueError:\n",
    "                # If conversion fails, print the problematic part and skip it\n",
    "                print(f\"Cannot convert '{tempo}' to float.\")\n",
    "        return tempo_list\n",
    "    return tempo_string  # Return the input if it's not a string"
   ],
   "metadata": {
    "collapsed": false,
    "ExecuteTime": {
     "end_time": "2024-05-05T21:35:57.913111Z",
     "start_time": "2024-05-05T21:35:57.907582Z"
    }
   },
   "id": "c9ec7f3f542ff3e0",
   "outputs": []
  },
  {
   "cell_type": "code",
   "execution_count": 44,
   "source": [
    "# Here I am just loading the saved progress because calculating everything would take like 2 days but above you can see the utility functions I used to calculate the features.\n",
    "df = pd.read_excel('/Users/borosabel/Documents/Uni/Thesis/PopMIR/Code/Audio/baseline_data.xlsx', engine='openpyxl')"
   ],
   "metadata": {
    "collapsed": false,
    "ExecuteTime": {
     "end_time": "2024-05-05T21:36:07.644674Z",
     "start_time": "2024-05-05T21:36:07.198588Z"
    }
   },
   "id": "a6aa33e924677b35",
   "outputs": []
  },
  {
   "cell_type": "markdown",
   "source": [
    "<b>We have numerous columns in the dataframe:</b>"
   ],
   "metadata": {
    "collapsed": false
   },
   "id": "a9d350391fb9e8ec"
  },
  {
   "cell_type": "code",
   "execution_count": 45,
   "source": [
    "df.columns"
   ],
   "metadata": {
    "collapsed": false,
    "ExecuteTime": {
     "end_time": "2024-05-05T21:36:46.346065Z",
     "start_time": "2024-05-05T21:36:46.327240Z"
    }
   },
   "id": "db5bdb66399210b5",
   "outputs": []
  },
  {
   "cell_type": "markdown",
   "source": [
    "<b>Compare tempo every song.</b>"
   ],
   "metadata": {
    "collapsed": false
   },
   "id": "3942dd2c35f7853f"
  },
  {
   "cell_type": "code",
   "execution_count": 58,
   "source": [
    "# Set up the figure\n",
    "plt.figure(figsize=(16, 6))\n",
    "\n",
    "# Create density plot with 'Tempo1' for each 'Coast', setting custom colors\n",
    "sns.kdeplot(data=df, x='Tempo1', hue='Coast', fill=True, palette=['red', 'blue'], common_norm=False, alpha=0.5)\n",
    "\n",
    "# Adding plot title and labels\n",
    "plt.title('Density Plot of Tempo by Coast')\n",
    "plt.xlabel('Tempo (BPM)')\n",
    "plt.ylabel('Density')\n",
    "\n",
    "# Show the plot\n",
    "plt.show()"
   ],
   "metadata": {
    "collapsed": false,
    "ExecuteTime": {
     "end_time": "2024-05-05T21:44:10.945334Z",
     "start_time": "2024-05-05T21:44:10.688939Z"
    }
   },
   "id": "e3ee1625744ebee5",
   "outputs": []
  },
  {
   "cell_type": "markdown",
   "source": [
    "<b>Compare tempo with mean energy of the different artsits</b>"
   ],
   "metadata": {
    "collapsed": false
   },
   "id": "32663cb22278095b"
  },
  {
   "cell_type": "code",
   "execution_count": 65,
   "source": [
    "# Assuming df is already defined and loaded with data\n",
    "only_tempo = df[['Artist', 'Coast', 'Tempo1', 'Tempo2', 'Release Year']].copy()\n",
    "only_tempo.rename(columns={'Release Year': 'Release_Year'}, inplace=True)  # Renaming for consistency\n",
    "\n",
    "years = sorted(only_tempo['Release_Year'].unique())\n",
    "start_year_widget = widgets.IntSlider(min=min(years), max=max(years), value=min(years), description='Start Year:')\n",
    "end_year_widget = widgets.IntSlider(min=min(years), max=max(years), value=max(years), description='End Year:')\n",
    "\n",
    "ui = widgets.HBox([start_year_widget, end_year_widget])\n",
    "\n",
    "def update_range(*args):\n",
    "    end_year_widget.min = start_year_widget.value  # Ensure end year is always >= start year\n",
    "\n",
    "start_year_widget.observe(update_range, 'value')\n",
    "\n",
    "def plot_filtered_data_by_year_range(start_year, end_year):\n",
    "    try:\n",
    "        # Filter the DataFrame for songs released within the selected year range\n",
    "        filtered_df = only_tempo[(only_tempo['Release_Year'] >= start_year) & (only_tempo['Release_Year'] <= end_year)]\n",
    "\n",
    "        # Group by 'Artist' and 'Coast', calculate the mean for 'Tempo1'\n",
    "        artist_means = filtered_df.groupby(['Artist', 'Coast']).agg({'Tempo1': 'mean'}).reset_index()\n",
    "\n",
    "        # Sort the DataFrame by 'Tempo1' in descending order\n",
    "        artist_means = artist_means.sort_values(by='Tempo1', ascending=False)\n",
    "\n",
    "        # Create a scatter plot using Plotly Express\n",
    "        fig = px.scatter(artist_means, x='Artist', y='Tempo1', color='Coast',\n",
    "                         hover_name='Artist', labels={\"Tempo1\": \"Mean Tempo (BPM)\"},\n",
    "                         category_orders={\"Artist\": sorted(filtered_df['Artist'].unique())})\n",
    "\n",
    "        fig.update_layout(title=f'Mean Tempo by Artist (Years {start_year} to {end_year})',\n",
    "                          xaxis_title='Artist',\n",
    "                          yaxis_title='Mean Tempo (BPM)',\n",
    "                          legend_title='Coast')\n",
    "        fig.show()\n",
    "    except Exception as e:\n",
    "        print(f\"Error: {e}\")\n",
    "\n",
    "interact(plot_filtered_data_by_year_range, start_year=start_year_widget, end_year=end_year_widget)"
   ],
   "metadata": {
    "collapsed": false,
    "ExecuteTime": {
     "end_time": "2024-05-05T21:51:21.439160Z",
     "start_time": "2024-05-05T21:51:21.338697Z"
    }
   },
   "id": "6cdd936801fbbc0d",
   "outputs": []
  },
  {
   "cell_type": "markdown",
   "source": [
    "<b>This is just the regular, not interactive plot</b>"
   ],
   "metadata": {
    "collapsed": false
   },
   "id": "8e8a319c08f86c3b"
  },
  {
   "cell_type": "code",
   "execution_count": 69,
   "source": [
    "# Calculate the mean tempo for each Coast and Release Year\n",
    "average_tempo = df.groupby(['Coast', 'Release Year'])['Tempo1'].mean().reset_index()\n",
    "\n",
    "colors = {\n",
    "    'east_coast': 'blue',\n",
    "    'west_coast': 'red',\n",
    "}\n",
    "\n",
    "# Set up the figure with a larger size\n",
    "plt.figure(figsize=(16, 8))  # Width, height in inches\n",
    "\n",
    "# Plot each coast's average tempo over the years\n",
    "for coast, color in colors.items():\n",
    "    # Select the subset of the data for the current coast\n",
    "    subset = average_tempo[average_tempo['Coast'] == coast]\n",
    "\n",
    "    # Ensure the data is sorted by year (important if the data isn't sorted in the dataframe)\n",
    "    subset = subset.sort_values('Release Year')\n",
    "\n",
    "    # Plotting\n",
    "    plt.plot(subset['Release Year'], subset['Tempo1'], label=coast, color=color)\n",
    "\n",
    "# Add legend, labels, and title\n",
    "plt.legend(title='Coast')\n",
    "plt.xlabel('Release Year')\n",
    "plt.ylabel('Average Tempo')\n",
    "plt.title('Average Tempo by Year and Coast')\n",
    "plt.grid(True)  # Optionally add a grid for easier visualization\n",
    "\n",
    "# Show the plot\n",
    "plt.show()"
   ],
   "metadata": {
    "collapsed": false,
    "ExecuteTime": {
     "end_time": "2024-05-05T21:55:01.946356Z",
     "start_time": "2024-05-05T21:55:01.775158Z"
    }
   },
   "id": "1b8ec373bc4c0491",
   "outputs": []
  },
  {
   "cell_type": "markdown",
   "source": [
    "<b>Let's check the different topics</b>"
   ],
   "metadata": {
    "collapsed": false
   },
   "id": "2458368e6a1fcca7"
  },
  {
   "cell_type": "code",
   "execution_count": 70,
   "source": [
    "# Here I am just loading the saved progress because calculating everything would take like 2 days but above you can see the utility functions I used to calculate the features.\n",
    "df_topics = pd.read_excel('/Users/borosabel/Documents/Uni/Thesis/PopMIR/Code/Audio/baseline_data_w_topics.xlsx', engine='openpyxl')"
   ],
   "metadata": {
    "collapsed": false,
    "ExecuteTime": {
     "end_time": "2024-05-05T21:58:56.890796Z",
     "start_time": "2024-05-05T21:58:56.724636Z"
    }
   },
   "id": "fa52545125719a74",
   "outputs": []
  },
  {
   "cell_type": "code",
   "execution_count": 72,
   "source": [
    "df_topics"
   ],
   "metadata": {
    "collapsed": false,
    "ExecuteTime": {
     "end_time": "2024-05-05T21:59:41.342952Z",
     "start_time": "2024-05-05T21:59:41.327390Z"
    }
   },
   "id": "95e71494026216a1",
   "outputs": []
  },
  {
   "cell_type": "code",
   "execution_count": 76,
   "source": [
    "# Calculate the mean tempo for each Coast and Release Year\n",
    "average_tempo = df_topics.groupby(['Topic Model', 'Release Year'])['Tempo1'].mean().reset_index()\n",
    "\n",
    "colors = {\n",
    "    0: 'blue',\n",
    "    1: 'red',\n",
    "}\n",
    "\n",
    "# Set up the figure with a larger size\n",
    "plt.figure(figsize=(16, 8))  # Width, height in inches\n",
    "\n",
    "# Plot each coast's average tempo over the years\n",
    "for topic, color in colors.items():\n",
    "    # Select the subset of the data for the current coast\n",
    "    subset = average_tempo[average_tempo['Topic Model'] == topic]\n",
    "\n",
    "    # Ensure the data is sorted by year (important if the data isn't sorted in the dataframe)\n",
    "    subset = subset.sort_values('Release Year')\n",
    "\n",
    "    # Plotting\n",
    "    plt.plot(subset['Release Year'], subset['Tempo1'], label=topic, color=color)\n",
    "\n",
    "# Add legend, labels, and title\n",
    "plt.legend(title='Topic Model')\n",
    "plt.xlabel('Release Year')\n",
    "plt.ylabel('Average Tempo')\n",
    "plt.title('Average Tempo by Year and Topic')\n",
    "plt.grid(True)  # Optionally add a grid for easier visualization\n",
    "\n",
    "# Show the plot\n",
    "plt.show()"
   ],
   "metadata": {
    "collapsed": false,
    "ExecuteTime": {
     "end_time": "2024-05-05T22:02:14.921902Z",
     "start_time": "2024-05-05T22:02:14.756088Z"
    }
   },
   "id": "a89fe986fbf15db9",
   "outputs": []
  },
  {
   "cell_type": "code",
   "execution_count": null,
   "source": [],
   "metadata": {
    "collapsed": false
   },
   "id": "85abce70c60f94a1",
   "outputs": []
  }
 ],
 "metadata": {
  "kernelspec": {
   "display_name": "Python 3",
   "language": "python",
   "name": "python3"
  },
  "language_info": {
   "codemirror_mode": {
    "name": "ipython",
    "version": 2
   },
   "file_extension": ".py",
   "mimetype": "text/x-python",
   "name": "python",
   "nbconvert_exporter": "python",
   "pygments_lexer": "ipython2",
   "version": "2.7.6"
  }
 },
 "nbformat": 4,
 "nbformat_minor": 5
}
