{
 "cells": [
  {
   "cell_type": "code",
   "execution_count": 45,
   "id": "initial_id",
   "metadata": {
    "collapsed": true,
    "ExecuteTime": {
     "end_time": "2024-04-29T16:44:30.223853Z",
     "start_time": "2024-04-29T16:44:30.216459Z"
    }
   },
   "outputs": [
    {
     "data": {
      "text/plain": "<module 'utility_functions' from '/Users/borosabel/Documents/Uni/Thesis/PopMIR/Code/Audio/utility_functions.py'>"
     },
     "execution_count": 45,
     "metadata": {},
     "output_type": "execute_result"
    }
   ],
   "source": [
    "import librosa\n",
    "import librosa.display\n",
    "import seaborn as sns\n",
    "import numpy as np\n",
    "import utility_functions as utils\n",
    "import importlib\n",
    "import pandas as pd\n",
    "import matplotlib.pyplot as plt\n",
    "import warnings\n",
    "\n",
    "from sklearn.model_selection import StratifiedKFold\n",
    "from sklearn.metrics import confusion_matrix\n",
    "from sklearn.model_selection import train_test_split\n",
    "from sklearn.ensemble import RandomForestClassifier  # or RandomForestRegressor for regression tasks\n",
    "from sklearn.metrics import accuracy_score\n",
    "from sklearn.preprocessing import LabelEncoder\n",
    "from sklearn.neighbors import KNeighborsClassifier\n",
    "from sklearn.model_selection import GridSearchCV\n",
    "\n",
    "warnings.filterwarnings(\"ignore\", category=FutureWarning)\n",
    "importlib.reload(utils)"
   ]
  },
  {
   "cell_type": "code",
   "execution_count": 3,
   "outputs": [],
   "source": [
    "FRAME_LENGTH = 2048\n",
    "HOP_LENGTH = 512"
   ],
   "metadata": {
    "collapsed": false,
    "ExecuteTime": {
     "end_time": "2024-04-29T16:21:49.020208Z",
     "start_time": "2024-04-29T16:21:49.011875Z"
    }
   },
   "id": "9d1e83558272470a"
  },
  {
   "cell_type": "markdown",
   "source": [
    "<b>Utility Functions, Data Loading and Data Preparation</b>"
   ],
   "metadata": {
    "collapsed": false
   },
   "id": "88f8dd9ae1f66c00"
  },
  {
   "cell_type": "code",
   "execution_count": 23,
   "outputs": [],
   "source": [
    "def compute_features(audio_path):\n",
    "    y, sr = librosa.load(audio_path)\n",
    "\n",
    "    #-- ZERO-CROSSING-RATE --\n",
    "    zcrs = librosa.feature.zero_crossing_rate(y, frame_length=FRAME_LENGTH, hop_length=HOP_LENGTH)\n",
    "    zcr_mean = np.mean(zcrs)\n",
    "    zcr_std = np.std(zcrs)\n",
    "    # Create dictionary for DataFrame\n",
    "    features_dict = {\n",
    "        'ZCR Mean': zcr_mean,\n",
    "        'ZCR Std': zcr_std\n",
    "    }\n",
    "    #-- ZERO-CROSSING-RATE --\n",
    "    #-- RAW MEL SPECTOGRAM MEANs & STDs --\n",
    "    S = librosa.feature.melspectrogram(y=y, sr=sr)\n",
    "    S_dB = librosa.power_to_db(S, ref=np.max)\n",
    "    mel_mean = np.mean(S_dB, axis=1)\n",
    "    mel_std = np.std(S_dB, axis=1)\n",
    "\n",
    "    # Add Mel features\n",
    "    for i, (mean, std) in enumerate(zip(mel_mean, mel_std)):\n",
    "        features_dict[f'Raw_Melspect_Mean_{i}'] = mean\n",
    "        features_dict[f'Raw_Melspect_Std_{i}'] = std\n",
    "\n",
    "    #-- RAW MEL SPECTOGRAM MEANs & STDs --\n",
    "    #-- RAW MFCC MEANs & STDs --\n",
    "    mfccs = librosa.feature.mfcc(y=y, sr=sr)\n",
    "    delta_mfccs = librosa.feature.delta(mfccs)\n",
    "    delta2_mfccs = librosa.feature.delta(mfccs, order=2)\n",
    "\n",
    "    mfcc_means = np.mean(mfccs, axis=1)\n",
    "    mfcc_stds = np.std(mfccs, axis=1)\n",
    "\n",
    "    delta_mfccs_means = np.mean(delta_mfccs, axis=1)\n",
    "    delta2_mfccs_means = np.mean(delta2_mfccs, axis=1)\n",
    "\n",
    "    delta_mfccs_stds = np.std(delta_mfccs, axis=1)\n",
    "    delta2_mfccs_stds = np.std(delta2_mfccs, axis=1)\n",
    "\n",
    "    # Add MFCC features\n",
    "    for i, (mean, std, delta_mean, delta_std, delta2_mean, delta2_std) in enumerate(zip(\n",
    "            mfcc_means, mfcc_stds, delta_mfccs_means, delta_mfccs_stds, delta2_mfccs_means, delta2_mfccs_stds\n",
    "    )):\n",
    "        features_dict[f'Raw_MFCC_Mean_{i}'] = mean\n",
    "        features_dict[f'Raw_MFCC_Std_{i}'] = std\n",
    "        features_dict[f'Delta_MFCC_Mean_{i}'] = delta_mean\n",
    "        features_dict[f'Delta_MFCC_Std_{i}'] = delta_std\n",
    "        features_dict[f'Delta2_MFCC_Mean_{i}'] = delta2_mean\n",
    "        features_dict[f'Delta2_MFCC_Std_{i}'] = delta2_std\n",
    "\n",
    "    # Create a single-row DataFrame\n",
    "    df_features = pd.DataFrame([features_dict])\n",
    "\n",
    "    return df_features\n",
    "    #-- RAW MFCC MEANs & STDs --"
   ],
   "metadata": {
    "collapsed": false,
    "ExecuteTime": {
     "end_time": "2024-04-29T16:33:29.462267Z",
     "start_time": "2024-04-29T16:33:29.456916Z"
    }
   },
   "id": "f3fbd4b10e5b0ff5"
  },
  {
   "cell_type": "code",
   "execution_count": 35,
   "outputs": [],
   "source": [
    "# Here I am just loading the saved progress because calculating everything would take like 2 days but above you can see the utility functions I used to calculate the features.\n",
    "df = pd.read_excel('/Users/borosabel/Documents/Uni/Thesis/PopMIR/Code/Audio/output_w_everything.xlsx', engine='openpyxl')"
   ],
   "metadata": {
    "collapsed": false,
    "ExecuteTime": {
     "end_time": "2024-04-29T16:38:33.145842Z",
     "start_time": "2024-04-29T16:38:30.657594Z"
    }
   },
   "id": "2a7739008c6ab814"
  },
  {
   "cell_type": "code",
   "execution_count": 36,
   "outputs": [],
   "source": [
    "labels = df[['Coast']]\n",
    "\n",
    "# We need to drop columns which are not useful as a feature\n",
    "columns_to_drop = ['FilePath', 'FileName', 'Duration (s)', 'Sample Rate (Hz)', 'Coast','Tempo2', 'Energy', 'Spectral Centroid', 'Spectral Rolloff', 'Spectral Bandwidth']\n",
    "features = df.drop(columns_to_drop, axis=1)"
   ],
   "metadata": {
    "collapsed": false,
    "ExecuteTime": {
     "end_time": "2024-04-29T16:38:33.150979Z",
     "start_time": "2024-04-29T16:38:33.147913Z"
    }
   },
   "id": "ff146879828561cf"
  },
  {
   "cell_type": "markdown",
   "source": [
    "We need to encode our labels as numbers because currently the look like this: "
   ],
   "metadata": {
    "collapsed": false
   },
   "id": "2cb2920cb05cc44b"
  },
  {
   "cell_type": "code",
   "execution_count": 37,
   "outputs": [
    {
     "data": {
      "text/plain": "        Coast\n0  east_coast\n1  east_coast\n2  east_coast\n3  east_coast\n4  east_coast",
      "text/html": "<div>\n<style scoped>\n    .dataframe tbody tr th:only-of-type {\n        vertical-align: middle;\n    }\n\n    .dataframe tbody tr th {\n        vertical-align: top;\n    }\n\n    .dataframe thead th {\n        text-align: right;\n    }\n</style>\n<table border=\"1\" class=\"dataframe\">\n  <thead>\n    <tr style=\"text-align: right;\">\n      <th></th>\n      <th>Coast</th>\n    </tr>\n  </thead>\n  <tbody>\n    <tr>\n      <th>0</th>\n      <td>east_coast</td>\n    </tr>\n    <tr>\n      <th>1</th>\n      <td>east_coast</td>\n    </tr>\n    <tr>\n      <th>2</th>\n      <td>east_coast</td>\n    </tr>\n    <tr>\n      <th>3</th>\n      <td>east_coast</td>\n    </tr>\n    <tr>\n      <th>4</th>\n      <td>east_coast</td>\n    </tr>\n  </tbody>\n</table>\n</div>"
     },
     "execution_count": 37,
     "metadata": {},
     "output_type": "execute_result"
    }
   ],
   "source": [
    "labels.head()"
   ],
   "metadata": {
    "collapsed": false,
    "ExecuteTime": {
     "end_time": "2024-04-29T16:38:34.560608Z",
     "start_time": "2024-04-29T16:38:34.543524Z"
    }
   },
   "id": "4cd6209178b7b26e"
  },
  {
   "cell_type": "code",
   "execution_count": 38,
   "outputs": [
    {
     "name": "stderr",
     "output_type": "stream",
     "text": [
      "/var/folders/99/617f3z715_g8nc26tll89ddc0000gn/T/ipykernel_25554/2124155649.py:2: SettingWithCopyWarning: \n",
      "A value is trying to be set on a copy of a slice from a DataFrame.\n",
      "Try using .loc[row_indexer,col_indexer] = value instead\n",
      "\n",
      "See the caveats in the documentation: https://pandas.pydata.org/pandas-docs/stable/user_guide/indexing.html#returning-a-view-versus-a-copy\n",
      "  labels['Coast'] = le.fit_transform(labels['Coast'])\n"
     ]
    }
   ],
   "source": [
    "le = LabelEncoder()\n",
    "labels['Coast'] = le.fit_transform(labels['Coast'])"
   ],
   "metadata": {
    "collapsed": false,
    "ExecuteTime": {
     "end_time": "2024-04-29T16:38:35.673203Z",
     "start_time": "2024-04-29T16:38:35.671103Z"
    }
   },
   "id": "681c9930de06fc89"
  },
  {
   "cell_type": "code",
   "execution_count": 39,
   "outputs": [
    {
     "data": {
      "text/plain": "      Coast\n0         0\n1         0\n2         0\n3         0\n4         0\n...     ...\n1044      1\n1045      1\n1046      1\n1047      1\n1048      1\n\n[1049 rows x 1 columns]",
      "text/html": "<div>\n<style scoped>\n    .dataframe tbody tr th:only-of-type {\n        vertical-align: middle;\n    }\n\n    .dataframe tbody tr th {\n        vertical-align: top;\n    }\n\n    .dataframe thead th {\n        text-align: right;\n    }\n</style>\n<table border=\"1\" class=\"dataframe\">\n  <thead>\n    <tr style=\"text-align: right;\">\n      <th></th>\n      <th>Coast</th>\n    </tr>\n  </thead>\n  <tbody>\n    <tr>\n      <th>0</th>\n      <td>0</td>\n    </tr>\n    <tr>\n      <th>1</th>\n      <td>0</td>\n    </tr>\n    <tr>\n      <th>2</th>\n      <td>0</td>\n    </tr>\n    <tr>\n      <th>3</th>\n      <td>0</td>\n    </tr>\n    <tr>\n      <th>4</th>\n      <td>0</td>\n    </tr>\n    <tr>\n      <th>...</th>\n      <td>...</td>\n    </tr>\n    <tr>\n      <th>1044</th>\n      <td>1</td>\n    </tr>\n    <tr>\n      <th>1045</th>\n      <td>1</td>\n    </tr>\n    <tr>\n      <th>1046</th>\n      <td>1</td>\n    </tr>\n    <tr>\n      <th>1047</th>\n      <td>1</td>\n    </tr>\n    <tr>\n      <th>1048</th>\n      <td>1</td>\n    </tr>\n  </tbody>\n</table>\n<p>1049 rows × 1 columns</p>\n</div>"
     },
     "execution_count": 39,
     "metadata": {},
     "output_type": "execute_result"
    }
   ],
   "source": [
    "labels"
   ],
   "metadata": {
    "collapsed": false,
    "ExecuteTime": {
     "end_time": "2024-04-29T16:38:36.340159Z",
     "start_time": "2024-04-29T16:38:36.336880Z"
    }
   },
   "id": "7d5b031829e9a05b"
  },
  {
   "cell_type": "markdown",
   "source": [
    "<b>Model Training</b>"
   ],
   "metadata": {
    "collapsed": false
   },
   "id": "3803eb001806bbd1"
  },
  {
   "cell_type": "code",
   "execution_count": 40,
   "outputs": [],
   "source": [
    "k = 10\n",
    "# I use StratifiedKFold to keep the balance of the dataset consistent.\n",
    "skf = StratifiedKFold(n_splits=k, shuffle=True, random_state=42)"
   ],
   "metadata": {
    "collapsed": false,
    "ExecuteTime": {
     "end_time": "2024-04-29T16:38:39.696956Z",
     "start_time": "2024-04-29T16:38:39.695039Z"
    }
   },
   "id": "459be6c527a93864"
  },
  {
   "cell_type": "markdown",
   "source": [
    "<b>Nearest Neighbors</b>"
   ],
   "metadata": {
    "collapsed": false
   },
   "id": "c52b50daa3a6ecb1"
  },
  {
   "cell_type": "code",
   "execution_count": 47,
   "outputs": [
    {
     "name": "stdout",
     "output_type": "stream",
     "text": [
      "Best k value: 3\n",
      "Validation accuracy with best k: 0.6904761904761905\n"
     ]
    }
   ],
   "source": [
    "# Split the data into training and validation sets\n",
    "X_train, X_val, y_train, y_val = train_test_split(features, labels, test_size=0.2, random_state=42)\n",
    "\n",
    "y_train = np.ravel(y_train)\n",
    "\n",
    "# Define the range of k values to explore\n",
    "k_values = np.arange(1, 16, 2)  # Odd integers from 1 to 15\n",
    "\n",
    "# Define the KNN model\n",
    "knn = KNeighborsClassifier()\n",
    "\n",
    "# Perform grid search with cross-validation\n",
    "param_grid = {'n_neighbors': k_values}\n",
    "grid_search = GridSearchCV(knn, param_grid, cv=5, scoring='accuracy')\n",
    "grid_search.fit(X_train, y_train)\n",
    "\n",
    "# Retrieve the best k value\n",
    "best_k = grid_search.best_params_['n_neighbors']\n",
    "print(\"Best k value:\", best_k)\n",
    "\n",
    "# Evaluate the model with the best k value\n",
    "best_model = grid_search.best_estimator_\n",
    "y_pred = best_model.predict(X_val)\n",
    "accuracy = accuracy_score(y_val, y_pred)\n",
    "print(\"Validation accuracy with best k:\", accuracy)"
   ],
   "metadata": {
    "collapsed": false,
    "ExecuteTime": {
     "end_time": "2024-04-29T16:45:18.634720Z",
     "start_time": "2024-04-29T16:45:17.705565Z"
    }
   },
   "id": "741a8d9334052bba"
  },
  {
   "cell_type": "markdown",
   "source": [
    "<b>Random Forest</b>"
   ],
   "metadata": {
    "collapsed": false
   },
   "id": "c1eb8d3559b12e0c"
  },
  {
   "cell_type": "code",
   "execution_count": 48,
   "outputs": [
    {
     "name": "stdout",
     "output_type": "stream",
     "text": [
      "Fitting 5 folds for each of 36 candidates, totalling 180 fits\n",
      "Fitting 5 folds for each of 36 candidates, totalling 180 fits\n",
      "Fitting 5 folds for each of 36 candidates, totalling 180 fits\n",
      "Fitting 5 folds for each of 36 candidates, totalling 180 fits\n",
      "Fitting 5 folds for each of 36 candidates, totalling 180 fits\n",
      "Fitting 5 folds for each of 36 candidates, totalling 180 fits\n",
      "Fitting 5 folds for each of 36 candidates, totalling 180 fits\n",
      "Fitting 5 folds for each of 36 candidates, totalling 180 fits\n",
      "Fitting 5 folds for each of 36 candidates, totalling 180 fits\n",
      "Fitting 5 folds for each of 36 candidates, totalling 180 fits\n",
      "Best parameters found:  {'max_depth': 20, 'min_samples_split': 2, 'n_estimators': 100}\n",
      "Cumulative Confusion Matrix:\n",
      "[[375. 149.]\n",
      " [149. 376.]]\n"
     ]
    },
    {
     "data": {
      "text/plain": "<Figure size 800x600 with 1 Axes>",
      "image/png": "[encoded data removed]"
     },
     "metadata": {},
     "output_type": "display_data"
    }
   ],
   "source": [
    "# Initialize your model\n",
    "model = RandomForestClassifier(random_state=42)\n",
    "\n",
    "# List to store each fold's accuracy\n",
    "accuracy_scores = []\n",
    "\n",
    "# Initialize an empty array to hold the sum of all confusion matrices\n",
    "cumulative_conf_matrix = np.zeros((2, 2))  # Adjust the size if not binary classification\n",
    "\n",
    "# Define the parameter grid\n",
    "param_grid = {\n",
    "    'n_estimators': [100, 200, 300],\n",
    "    'max_depth': [None, 10, 20, 30],\n",
    "    'min_samples_split': [2, 5, 10]\n",
    "}\n",
    "\n",
    "# Setup Grid Search\n",
    "grid_search = GridSearchCV(model, param_grid, cv=5, scoring='accuracy', verbose=1)\n",
    "\n",
    "# Split your data\n",
    "# Assuming features and labels are defined, and skf is your StratifiedKFold instance\n",
    "for train_index, test_index in skf.split(features, labels):\n",
    "    X_train, X_test = features.iloc[train_index], features.iloc[test_index]\n",
    "    y_train, y_test = labels.iloc[train_index], labels.iloc[test_index]\n",
    "\n",
    "    y_train = np.ravel(y_train)\n",
    "\n",
    "    # Fit the grid search to the data\n",
    "    grid_search.fit(X_train, y_train)\n",
    "\n",
    "    # Get the best model\n",
    "    best_model = grid_search.best_estimator_\n",
    "\n",
    "    # Predict using the best model\n",
    "    y_pred = best_model.predict(X_test)\n",
    "\n",
    "    # Compute the confusion matrix and add it to the cumulative matrix\n",
    "    conf_mat = confusion_matrix(y_test, y_pred)\n",
    "    cumulative_conf_matrix += conf_mat\n",
    "\n",
    "# Print the best parameters\n",
    "print(\"Best parameters found: \", grid_search.best_params_)\n",
    "\n",
    "# Print the cumulative confusion matrix\n",
    "print(\"Cumulative Confusion Matrix:\")\n",
    "print(cumulative_conf_matrix)\n",
    "\n",
    "# Plotting the confusion matrix\n",
    "plt.figure(figsize=(8, 6))\n",
    "sns.heatmap(cumulative_conf_matrix, annot=True, fmt='g', cmap='Blues', cbar=False)\n",
    "plt.xlabel('Predicted labels')\n",
    "plt.ylabel('True labels')\n",
    "plt.title('Aggregated Confusion Matrix')\n",
    "plt.show()"
   ],
   "metadata": {
    "collapsed": false,
    "ExecuteTime": {
     "end_time": "2024-04-29T17:30:45.654616Z",
     "start_time": "2024-04-29T17:08:49.942230Z"
    }
   },
   "id": "9f64157e25cdba7"
  },
  {
   "cell_type": "code",
   "execution_count": 42,
   "outputs": [
    {
     "name": "stdout",
     "output_type": "stream",
     "text": [
      "                  Feature  Importance\n",
      "0                  Tempo1    0.032820\n",
      "3     Raw_Melspect_Mean_0    0.014671\n",
      "331      Raw_MFCC_Mean_12    0.010559\n",
      "270     Delta2_MFCC_Std_1    0.009515\n",
      "349      Raw_MFCC_Mean_15    0.007608\n",
      "..                    ...         ...\n",
      "80    Raw_Melspect_Std_38    0.000897\n",
      "136   Raw_Melspect_Std_66    0.000879\n",
      "179  Raw_Melspect_Mean_88    0.000877\n",
      "81   Raw_Melspect_Mean_39    0.000866\n",
      "63   Raw_Melspect_Mean_30    0.000776\n",
      "\n",
      "[380 rows x 2 columns]\n"
     ]
    }
   ],
   "source": [
    "importances = model.feature_importances_\n",
    "feature_names = features.columns\n",
    "feature_importance_dict = dict(zip(feature_names, importances))\n",
    "\n",
    "# Optionally, convert to a DataFrame for better visualization\n",
    "importance_df = pd.DataFrame({'Feature': feature_names, 'Importance': importances}).sort_values(by='Importance', ascending=False)\n",
    "print(importance_df)"
   ],
   "metadata": {
    "collapsed": false,
    "ExecuteTime": {
     "end_time": "2024-04-29T16:39:16.527989Z",
     "start_time": "2024-04-29T16:39:16.521966Z"
    }
   },
   "id": "d3f6e9ba2bcf36a6"
  },
  {
   "cell_type": "code",
   "execution_count": null,
   "outputs": [],
   "source": [],
   "metadata": {
    "collapsed": false
   },
   "id": "3b9e44db9fb43bea"
  }
 ],
 "metadata": {
  "kernelspec": {
   "display_name": "Python 3",
   "language": "python",
   "name": "python3"
  },
  "language_info": {
   "codemirror_mode": {
    "name": "ipython",
    "version": 2
   },
   "file_extension": ".py",
   "mimetype": "text/x-python",
   "name": "python",
   "nbconvert_exporter": "python",
   "pygments_lexer": "ipython2",
   "version": "2.7.6"
  }
 },
 "nbformat": 4,
 "nbformat_minor": 5
}
