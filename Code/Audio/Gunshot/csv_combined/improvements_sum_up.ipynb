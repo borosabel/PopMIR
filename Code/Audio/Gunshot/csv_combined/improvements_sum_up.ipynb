{
 "cells": [
  {
   "cell_type": "code",
   "id": "initial_id",
   "metadata": {
    "collapsed": true,
    "ExecuteTime": {
     "end_time": "2024-09-06T08:19:03.439990Z",
     "start_time": "2024-09-06T08:19:03.234500Z"
    }
   },
   "source": [
    "import numpy as np\n",
    "\n",
    "# Create monkey patches\n",
    "np.float = float\n",
    "np.int = int\n",
    "np.object = object\n",
    "np.bool = bool"
   ],
   "execution_count": 1,
   "outputs": []
  },
  {
   "metadata": {
    "ExecuteTime": {
     "end_time": "2024-09-06T08:22:42.538638Z",
     "start_time": "2024-09-06T08:22:42.484055Z"
    }
   },
   "cell_type": "code",
   "source": [
    "import pandas as pd\n",
    "\n",
    "from sklearn.model_selection import train_test_split\n",
    "from sklearn.metrics import confusion_matrix, ConfusionMatrixDisplay\n",
    "\n",
    "import matplotlib.pyplot as plt\n",
    "import gunshot_utils as utils\n",
    "import importlib\n",
    "import ast\n",
    "import re\n",
    "import os\n",
    "import pickle\n",
    "from glob import glob\n",
    "import librosa.display\n",
    "import IPython.display as ipd\n",
    "import random\n",
    "from IPython.display import Audio, display\n",
    "\n",
    "import torch as th\n",
    "import torchaudio\n",
    "from torch.utils.data import DataLoader\n",
    "from torch.utils.data import Dataset\n",
    "import torch.nn as nn\n",
    "import torch.nn.functional as F\n",
    "from torch import optim\n",
    "from pydub import AudioSegment\n",
    "from pydub.playback import play\n",
    "\n",
    "importlib.reload(utils)"
   ],
   "id": "8922774829f998a5",
   "execution_count": 3,
   "outputs": []
  },
  {
   "metadata": {
    "ExecuteTime": {
     "end_time": "2024-09-06T08:22:43.194102Z",
     "start_time": "2024-09-06T08:22:42.999584Z"
    }
   },
   "cell_type": "code",
   "source": [
    "# Longer timeframes by modifying the model architecture so it can take any number of frames.\n",
    "class GunshotDetectionCNN(nn.Module):\n",
    "    def __init__(self, num_frames):\n",
    "        super(GunshotDetectionCNN, self).__init__()\n",
    "        self.conv1 = nn.Conv2d(3, 10, kernel_size=(3, 7))\n",
    "        self.pool1 = nn.MaxPool2d(kernel_size=(3, 1))\n",
    "        self.conv2 = nn.Conv2d(10, 20, kernel_size=(3, 3))\n",
    "        self.pool2 = nn.MaxPool2d(kernel_size=(3, 1))\n",
    "\n",
    "        dummy_input = th.zeros(1, 3, 80, num_frames)  # Shape: (batch_size, channels, height, width)\n",
    "        dummy_output = self.pool2(F.relu(self.conv2(self.pool1(F.relu(self.conv1(dummy_input))))))\n",
    "        output_size = dummy_output.view(-1).shape[0]\n",
    "\n",
    "        self.fc1 = nn.Linear(output_size, 256)\n",
    "        self.fc2 = nn.Linear(256, 1)\n",
    "        self.dropout = nn.Dropout(0.5)\n",
    "        self.sigmoid = nn.Sigmoid()\n",
    "\n",
    "    def forward(self, x):\n",
    "        x = self.pool1(F.relu(self.conv1(x)))\n",
    "        x = self.pool2(F.relu(self.conv2(x)))\n",
    "\n",
    "        # Flatten the tensor\n",
    "        x = x.view(x.size(0), -1)\n",
    "\n",
    "        x = self.dropout(F.relu(self.fc1(x)))  # Apply dropout\n",
    "        x = self.sigmoid(self.fc2(x))\n",
    "        return x\n",
    "\n",
    "# Example usage\n",
    "model = GunshotDetectionCNN(num_frames=150)"
   ],
   "id": "a64bd84864c0e3b7",
   "execution_count": 4,
   "outputs": []
  },
  {
   "metadata": {
    "ExecuteTime": {
     "end_time": "2024-09-06T08:22:52.833309Z",
     "start_time": "2024-09-06T08:22:43.772902Z"
    }
   },
   "cell_type": "code",
   "source": [
    "# Filter out the gunshots where the decibel levels are too low\n",
    "\n",
    "df = pd.read_csv('/Users/borosabel/Documents/Uni/Thesis/PopMIR/Data/Audio/Gunshots/csv/edge-collected-gunshot-audio/updated_gunshot_metadata.csv') # Gunshot metadata \n",
    "audio_dir = '/Users/borosabel/Documents/Uni/Thesis/PopMIR/Data/Audio/Gunshots/csv/edge-collected-gunshot-audio/edge-collected-gunshot-audio' # Gunshot folder\n",
    "\n",
    "def get_max_decibel_level(audio_segment):\n",
    "    return audio_segment.max_dBFS\n",
    "\n",
    "def filter_gunshots_by_decibel(df, audio_dir, threshold_db=-20.0):\n",
    "    filtered_records = []\n",
    "    low_db_files = []\n",
    "\n",
    "    for index, row in df.iterrows():\n",
    "        file_path = row['filename']\n",
    "        full_path = os.path.join(audio_dir, file_path)\n",
    "\n",
    "        # Load the audio file\n",
    "        try:\n",
    "            audio = AudioSegment.from_file(full_path)\n",
    "        except Exception as e:\n",
    "            print(f\"Error loading {full_path}: {e}\")\n",
    "            continue\n",
    "\n",
    "        # Get the maximum decibel level\n",
    "        max_db = get_max_decibel_level(audio)\n",
    "        \n",
    "        if max_db > threshold_db:\n",
    "            filtered_records.append(row)\n",
    "        else:\n",
    "            low_db_files.append(full_path)\n",
    "\n",
    "    filtered_df = pd.DataFrame(filtered_records)\n",
    "    return filtered_df, low_db_files\n",
    "\n",
    "threshold_db = -5.0\n",
    "\n",
    "# Filter the DataFrame based on max decibel level and get the low decibel files\n",
    "filtered_df, low_db_files = filter_gunshots_by_decibel(df, audio_dir, threshold_db=threshold_db)\n",
    "\n",
    "print(f\"Number of files with low decibel levels:{len(low_db_files)}\")"
   ],
   "id": "dd5a1425dd1d1e24",
   "execution_count": 5,
   "outputs": []
  },
  {
   "metadata": {
    "ExecuteTime": {
     "end_time": "2024-09-06T08:24:00.956980Z",
     "start_time": "2024-09-06T08:23:58.595299Z"
    }
   },
   "cell_type": "code",
   "source": [
    "# Since we have the gunshots at 2 seconds hard, it produces all the time the same patterns. To generalize the model a bit more we shift the gunshots randomly and generate multiple samples.\n",
    "\n",
    "# Load the audio file\n",
    "def load_audio(audio_path):\n",
    "    waveform, sample_rate = torchaudio.load(audio_path)\n",
    "    return waveform, sample_rate\n",
    "\n",
    "# Function to plot multiple waveforms\n",
    "def plot_waveforms(waveforms, sample_rate):\n",
    "    fig, axes = plt.subplots(len(waveforms), 1, figsize=(10, 10), sharex=True)\n",
    "    if len(waveforms) == 1:\n",
    "        axes = [axes]\n",
    "\n",
    "    for i, waveform in enumerate(waveforms):\n",
    "        axes[i].plot(waveform[0].numpy())\n",
    "        axes[i].set_title(f\"Waveform {i+1}\")\n",
    "        axes[i].set_xlabel('Time (samples)')\n",
    "        axes[i].set_ylabel('Amplitude')\n",
    "\n",
    "    plt.tight_layout()\n",
    "    plt.show()\n",
    "\n",
    "# The modified function from earlier\n",
    "def select_gunshot_segment(waveform, sample_rate, gunshot_time, frame_length, max_shift_sec=0.9):\n",
    "    random_shift = random.uniform(-max_shift_sec, max_shift_sec)\n",
    "    shifted_gunshot_time = gunshot_time + random_shift\n",
    "    start_time = max(0, shifted_gunshot_time - (frame_length / sample_rate) / 2)\n",
    "    start_sample = int(start_time * sample_rate)\n",
    "    end_sample = start_sample + int(frame_length)\n",
    "    end_sample = min(end_sample, waveform.size(1))\n",
    "    start_sample = max(0, end_sample - int(frame_length))\n",
    "\n",
    "    return waveform[:, start_sample:end_sample]\n",
    "\n",
    "# Function to play multiple audio segments\n",
    "def play_audio_segments(waveforms, sample_rate):\n",
    "    for i, waveform in enumerate(waveforms):\n",
    "        display(Audio(waveform.numpy(), rate=sample_rate))  # Convert waveform to numpy array and play\n",
    "\n",
    "# Example usage\n",
    "audio_path = \"/Users/borosabel/Documents/Uni/Thesis/PopMIR/Code/Audio/Gunshot/csv_combined/gunshot_dataset/with_gunshot_And Me (Remastered 2009)_glock_17_9mm(34)_6394.mp3\"\n",
    "waveform, sample_rate = load_audio(audio_path)\n",
    "\n",
    "# Parameters\n",
    "gunshot_time = 2.0\n",
    "frame_length = utils.FRAME_LENGTH\n",
    "\n",
    "# Run the selection 5 times and plot + play\n",
    "waveforms = []\n",
    "for _ in range(5):\n",
    "    selected_segment = select_gunshot_segment(waveform, sample_rate, gunshot_time, frame_length)\n",
    "    waveforms.append(selected_segment)\n",
    "\n",
    "# Plot the waveforms\n",
    "plot_waveforms(waveforms, sample_rate)\n",
    "\n",
    "# Play the waveforms\n",
    "play_audio_segments(waveforms, sample_rate)"
   ],
   "id": "f9ee1516e8c263db",
   "execution_count": 8,
   "outputs": []
  },
  {
   "metadata": {},
   "cell_type": "code",
   "execution_count": null,
   "source": "",
   "id": "f7bb3ed506fac658",
   "outputs": []
  }
 ],
 "metadata": {
  "kernelspec": {
   "display_name": "Python 3",
   "language": "python",
   "name": "python3"
  },
  "language_info": {
   "codemirror_mode": {
    "name": "ipython",
    "version": 2
   },
   "file_extension": ".py",
   "mimetype": "text/x-python",
   "name": "python",
   "nbconvert_exporter": "python",
   "pygments_lexer": "ipython2",
   "version": "2.7.6"
  }
 },
 "nbformat": 4,
 "nbformat_minor": 5
}
