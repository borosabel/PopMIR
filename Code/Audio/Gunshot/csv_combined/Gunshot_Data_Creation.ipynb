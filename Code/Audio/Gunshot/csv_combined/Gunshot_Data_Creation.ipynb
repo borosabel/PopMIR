{
 "cells": [
  {
   "cell_type": "code",
   "id": "initial_id",
   "metadata": {
    "collapsed": true,
    "ExecuteTime": {
     "end_time": "2024-09-20T17:41:17.115742Z",
     "start_time": "2024-09-20T17:41:17.029269Z"
    }
   },
   "source": [
    "import numpy as np\n",
    "\n",
    "# Create monkey patches\n",
    "np.float = float\n",
    "np.int = int\n",
    "np.object = object\n",
    "np.bool = bool"
   ],
   "execution_count": 1,
   "outputs": []
  },
  {
   "metadata": {
    "ExecuteTime": {
     "end_time": "2024-09-20T17:41:18.295081Z",
     "start_time": "2024-09-20T17:41:17.116814Z"
    }
   },
   "cell_type": "code",
   "source": [
    "import pandas as pd\n",
    "import re\n",
    "import ast\n",
    "import gunshot_utils as utils\n",
    "import importlib\n",
    "import os\n",
    "import random\n",
    "import pandas as pd\n",
    "import torchaudio\n",
    "\n",
    "importlib.reload(utils)"
   ],
   "id": "72f01366c83dad15",
   "execution_count": 2,
   "outputs": []
  },
  {
   "metadata": {
    "ExecuteTime": {
     "end_time": "2024-09-20T17:41:18.320414Z",
     "start_time": "2024-09-20T17:41:18.296014Z"
    }
   },
   "cell_type": "code",
   "source": [
    "gunshots_paths = pd.read_csv('./filtered_gunshot_metadata.csv')\n",
    "gunshots = gunshots_paths[['filename', 'num_gunshots', 'gunshot_location_in_seconds']].copy()  # Create a copy to avoid SettingWithCopyWarning\n",
    "\n",
    "# Function to preprocess gunshot start times, converting strings to lists of floats\n",
    "def preprocess_gunshot_times(gunshot_times, include_first_gunshot_only=False):\n",
    "    # Remove multiple spaces\n",
    "    gunshot_times = re.sub(r'\\s+', ' ', gunshot_times).strip()\n",
    "\n",
    "    # Insert commas between numbers if missing\n",
    "    gunshot_times = re.sub(r'(?<=\\d)\\s(?=\\d)', ', ', gunshot_times)\n",
    "\n",
    "    # Ensure there are no trailing commas\n",
    "    gunshot_times = gunshot_times.replace(', ]', ']')\n",
    "\n",
    "    # Safely evaluate the string as a list\n",
    "    try:\n",
    "        gunshot_list = ast.literal_eval(gunshot_times)\n",
    "        if include_first_gunshot_only and isinstance(gunshot_list, list) and gunshot_list:\n",
    "            return [gunshot_list[0]]  # Return only the first gunshot time\n",
    "        return gunshot_list\n",
    "    except (ValueError, SyntaxError):\n",
    "        # Return an empty list if the string is not a valid list\n",
    "        return []\n",
    "\n",
    "# Define the root path\n",
    "root_path = '/Users/borosabel/Documents/Uni/Thesis/PopMIR/Data/Audio/Gunshots/csv/edge-collected-gunshot-audio/edge-collected-gunshot-audio/'\n",
    "\n",
    "# Boolean flag to control if only the first gunshot time should be included\n",
    "include_first_gunshot_only = False\n",
    "\n",
    "# Apply the function to preprocess the 'gunshot_location_in_seconds' column with the boolean flag\n",
    "gunshots['gunshot_location_in_seconds'] = gunshots['gunshot_location_in_seconds'].apply(\n",
    "    lambda x: preprocess_gunshot_times(x, include_first_gunshot_only)\n",
    ")\n",
    "\n",
    "# If include_first_gunshot_only is True, set 'num_gunshots' to 1\n",
    "if include_first_gunshot_only:\n",
    "    gunshots['num_gunshots'] = gunshots['gunshot_location_in_seconds'].apply(lambda x: len(x))\n",
    "\n",
    "# Add the label column\n",
    "gunshots['label'] = 1"
   ],
   "id": "3e1b93ed3d79afc3",
   "execution_count": 3,
   "outputs": []
  },
  {
   "metadata": {
    "ExecuteTime": {
     "end_time": "2024-09-04T18:36:33.320257Z",
     "start_time": "2024-09-04T18:36:29.942052Z"
    }
   },
   "cell_type": "code",
   "source": [
    "music_df = pd.read_excel('/Users/borosabel/Documents/Uni/Thesis/PopMIR/Data/Excel/baseline_data_w_topics_w_features.xlsx', engine='openpyxl')\n",
    "\n",
    "music = music_df.rename(columns={'Path': 'filename'})\n",
    "music['label'] = 0\n",
    "\n",
    "music_labels = music[['label']]\n",
    "music_paths_df = music[['filename']]"
   ],
   "id": "392f265207653360",
   "execution_count": 72,
   "outputs": []
  },
  {
   "metadata": {
    "ExecuteTime": {
     "end_time": "2024-09-05T10:12:07.691728Z",
     "start_time": "2024-09-05T08:49:41.246126Z"
    }
   },
   "cell_type": "code",
   "source": "df = utils.generate_data_samples(music, gunshots, number_of_samples_w_gunshots=5000, number_of_samples_wo_gunshots=0)",
   "id": "4d38db39b882fa29",
   "execution_count": 79,
   "outputs": []
  },
  {
   "metadata": {
    "ExecuteTime": {
     "end_time": "2024-09-03T16:38:41.015032Z",
     "start_time": "2024-09-03T16:38:40.994588Z"
    }
   },
   "cell_type": "code",
   "source": "gunshots_paths",
   "id": "98444996da1c0ecb",
   "execution_count": 45,
   "outputs": []
  },
  {
   "metadata": {
    "ExecuteTime": {
     "end_time": "2024-09-03T16:39:59.612206Z",
     "start_time": "2024-09-03T16:39:59.605540Z"
    }
   },
   "cell_type": "code",
   "source": "set(gunshots_paths['firearm'])",
   "id": "882e94adb9cb874c",
   "execution_count": 46,
   "outputs": []
  },
  {
   "metadata": {
    "ExecuteTime": {
     "end_time": "2024-09-03T16:40:07.136069Z",
     "start_time": "2024-09-03T16:40:07.132569Z"
    }
   },
   "cell_type": "code",
   "source": "set(gunshots_paths['caliber'])",
   "id": "5d680fabe8158498",
   "execution_count": 47,
   "outputs": []
  },
  {
   "metadata": {
    "ExecuteTime": {
     "end_time": "2024-09-03T16:45:03.602132Z",
     "start_time": "2024-09-03T16:45:03.592511Z"
    }
   },
   "cell_type": "code",
   "source": [
    "gun_type_mapping = {\n",
    "    'Glock 17': 'glock_17',\n",
    "    'Remington 870': 'remington_870',\n",
    "    'Ruger 556': 'ruger_556',\n",
    "    'Smith & Wesson': 'smith_wesson'\n",
    "}\n",
    "\n",
    "caliber_mapping = {\n",
    "    '.223 mm': '223mm',\n",
    "    '.38 cal': '38cal',\n",
    "    '12 guage': '12gauge',\n",
    "    '9mm': '9mm'\n",
    "}\n",
    "\n",
    "df = pd.read_csv('/Users/borosabel/Documents/Uni/Thesis/PopMIR/Data/Audio/Gunshots/csv/edge-collected-gunshot-audio/gunshot-audio-all-metadata.csv')\n",
    "\n",
    "audio_dir = '/Users/borosabel/Documents/Uni/Thesis/PopMIR/Data/Audio/Gunshots/csv/edge-collected-gunshot-audio/edge-collected-gunshot-audio'"
   ],
   "id": "234d2a9e17321e1a",
   "execution_count": 48,
   "outputs": []
  },
  {
   "metadata": {
    "ExecuteTime": {
     "end_time": "2024-09-04T18:34:30.504994Z",
     "start_time": "2024-09-04T18:32:06.882168Z"
    }
   },
   "cell_type": "code",
   "source": [
    "# This cell was used to clean the csv data because some of the gunshot samples were too low in decibels to even hear something.\n",
    "\n",
    "import os\n",
    "import pandas as pd\n",
    "from pydub import AudioSegment\n",
    "\n",
    "# Load your data\n",
    "df = pd.read_csv('/Users/borosabel/Documents/Uni/Thesis/PopMIR/Data/Audio/Gunshots/csv/edge-collected-gunshot-audio/updated_gunshot_metadata.csv')\n",
    "\n",
    "audio_dir = '/Users/borosabel/Documents/Uni/Thesis/PopMIR/Data/Audio/Gunshots/csv/edge-collected-gunshot-audio/edge-collected-gunshot-audio'\n",
    "\n",
    "def get_max_decibel_level(audio_segment):\n",
    "    \"\"\"\n",
    "    Calculate the maximum decibel level of the audio segment.\n",
    "    \n",
    "    Parameters:\n",
    "        audio_segment (AudioSegment): The audio segment to analyze.\n",
    "        \n",
    "    Returns:\n",
    "        max_db (float): The maximum decibel level of the audio.\n",
    "    \"\"\"\n",
    "    return audio_segment.max_dBFS\n",
    "\n",
    "def filter_gunshots_by_decibel(df, audio_dir, threshold_db=-20.0):\n",
    "    \"\"\"\n",
    "    Filter out gunshot audio files based on their maximum decibel levels and return\n",
    "    a list of files with low decibel levels for manual review.\n",
    "    \n",
    "    Parameters:\n",
    "        df (DataFrame): DataFrame containing the file paths and other metadata.\n",
    "        audio_dir (str): Directory where the audio files are stored.\n",
    "        threshold_db (float): Decibel threshold below which files will be listed for review.\n",
    "        \n",
    "    Returns:\n",
    "        filtered_df (DataFrame): DataFrame containing only the files above the decibel threshold.\n",
    "        low_db_files (list): List of file paths with low decibel levels.\n",
    "    \"\"\"\n",
    "    filtered_records = []\n",
    "    low_db_files = []\n",
    "\n",
    "    for index, row in df.iterrows():\n",
    "        file_path = row['filename']\n",
    "        full_path = os.path.join(audio_dir, file_path)\n",
    "\n",
    "        # Load the audio file\n",
    "        try:\n",
    "            audio = AudioSegment.from_file(full_path)\n",
    "        except Exception as e:\n",
    "            print(f\"Error loading {full_path}: {e}\")\n",
    "            continue\n",
    "\n",
    "        # Get the maximum decibel level\n",
    "        max_db = get_max_decibel_level(audio)\n",
    "        # print(f\"{file_path} - Max dB: {max_db:.2f}\")\n",
    "\n",
    "        # Filter based on the decibel threshold\n",
    "        if max_db > threshold_db:\n",
    "            filtered_records.append(row)\n",
    "        else:\n",
    "            # print(f\"File {file_path} has low dB ({max_db:.2f}) and will be excluded.\")\n",
    "            low_db_files.append(full_path)\n",
    "\n",
    "    # Create a new DataFrame with filtered records\n",
    "    filtered_df = pd.DataFrame(filtered_records)\n",
    "    return filtered_df, low_db_files\n",
    "\n",
    "# Define your threshold (e.g., -20 dBFS)\n",
    "threshold_db = -1.0\n",
    "\n",
    "# Filter the DataFrame based on max decibel level and get the low decibel files\n",
    "filtered_df, low_db_files = filter_gunshots_by_decibel(df, audio_dir, threshold_db=threshold_db)\n",
    "\n",
    "# Save the filtered DataFrame to a new CSV file\n",
    "filtered_df.to_csv('filtered_gunshot_metadata.csv', index=False)\n",
    "\n",
    "# Print the list of files with low decibel levels\n",
    "print(\"Files with low decibel levels:\")\n",
    "for file in low_db_files:\n",
    "    print(file)"
   ],
   "id": "ab0e9f4a62b93f29",
   "execution_count": 63,
   "outputs": []
  },
  {
   "metadata": {
    "ExecuteTime": {
     "end_time": "2024-09-04T18:34:54.609607Z",
     "start_time": "2024-09-04T18:34:54.596759Z"
    }
   },
   "cell_type": "code",
   "source": "len(low_db_files)",
   "id": "980ce74faff01b5c",
   "execution_count": 64,
   "outputs": []
  },
  {
   "metadata": {
    "ExecuteTime": {
     "end_time": "2024-09-04T18:35:00.145743Z",
     "start_time": "2024-09-04T18:35:00.132023Z"
    }
   },
   "cell_type": "code",
   "source": "df = pd.read_csv('/Users/borosabel/Documents/Uni/Thesis/PopMIR/Data/Audio/Gunshots/csv/edge-collected-gunshot-audio/filtered_gunshot_metadata.csv')",
   "id": "f1354ad401855412",
   "execution_count": 65,
   "outputs": []
  },
  {
   "metadata": {
    "ExecuteTime": {
     "end_time": "2024-09-04T18:35:01.269782Z",
     "start_time": "2024-09-04T18:35:01.257251Z"
    }
   },
   "cell_type": "code",
   "source": "df",
   "id": "192ae45e8a047be2",
   "execution_count": 66,
   "outputs": []
  },
  {
   "metadata": {
    "ExecuteTime": {
     "end_time": "2024-09-09T18:30:29.446240Z",
     "start_time": "2024-09-09T18:30:29.359888Z"
    }
   },
   "cell_type": "code",
   "source": "df2 = pd.read_csv('./filtered_gunshot_metadata.csv')",
   "id": "b4422869a5274980",
   "execution_count": 1,
   "outputs": []
  },
  {
   "metadata": {
    "ExecuteTime": {
     "end_time": "2024-09-04T15:10:47.711692Z",
     "start_time": "2024-09-04T15:10:47.700113Z"
    }
   },
   "cell_type": "code",
   "source": "",
   "id": "f37111217b5737fd",
   "execution_count": 44,
   "outputs": []
  },
  {
   "metadata": {
    "ExecuteTime": {
     "end_time": "2024-09-04T18:35:06.423456Z",
     "start_time": "2024-09-04T18:35:06.416934Z"
    }
   },
   "cell_type": "code",
   "source": "df2 = df2[df2['filename'].str.contains('glock', case=False, na=False)]",
   "id": "5bbe2d89c1a13527",
   "execution_count": 68,
   "outputs": []
  },
  {
   "metadata": {
    "ExecuteTime": {
     "end_time": "2024-09-04T19:39:56.034746Z",
     "start_time": "2024-09-04T19:39:56.009969Z"
    }
   },
   "cell_type": "code",
   "source": "df2.to_csv('glock_gunshot_metadata.csv', index=False)",
   "id": "475d4bc61302b41",
   "execution_count": 77,
   "outputs": []
  },
  {
   "metadata": {
    "ExecuteTime": {
     "end_time": "2024-09-05T10:17:29.085558Z",
     "start_time": "2024-09-05T10:17:29.044616Z"
    }
   },
   "cell_type": "code",
   "source": "df2",
   "id": "77c797936a77720",
   "execution_count": 80,
   "outputs": []
  },
  {
   "metadata": {},
   "cell_type": "code",
   "execution_count": null,
   "source": [
    "# Define the source column and the destination directory\n",
    "source_column = 'filepath'  # Column containing the file paths\n",
    "destination_dir = '/path/to/new/location'  # The destination folder where you want to copy files\n",
    "\n",
    "# Make sure the destination directory exists\n",
    "os.makedirs(destination_dir, exist_ok=True)\n",
    "\n",
    "# Iterate over each row in the DataFrame\n",
    "for index, row in df.iterrows():\n",
    "    source_file = row[source_column]  # Extract the file path from the DataFrame\n",
    "\n",
    "    # Get just the filename, not the full path\n",
    "    filename = os.path.basename(source_file)\n",
    "\n",
    "    # Define the destination file path\n",
    "    destination_file = os.path.join(destination_dir, filename)\n",
    "\n",
    "    try:\n",
    "        # Copy the file\n",
    "        shutil.copy(source_file, destination_file)\n",
    "        print(f\"Copied: {source_file} to {destination_file}\")\n",
    "    except Exception as e:\n",
    "        print(f\"Error copying {source_file}: {e}\")"
   ],
   "id": "60828b0995745af1",
   "outputs": []
  }
 ],
 "metadata": {
  "kernelspec": {
   "display_name": "Python 3",
   "language": "python",
   "name": "python3"
  },
  "language_info": {
   "codemirror_mode": {
    "name": "ipython",
    "version": 2
   },
   "file_extension": ".py",
   "mimetype": "text/x-python",
   "name": "python",
   "nbconvert_exporter": "python",
   "pygments_lexer": "ipython2",
   "version": "2.7.6"
  }
 },
 "nbformat": 4,
 "nbformat_minor": 5
}
