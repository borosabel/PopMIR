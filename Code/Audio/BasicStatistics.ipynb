{
 "cells": [
  {
   "cell_type": "code",
   "execution_count": 3,
   "source": [
    "import numpy as np\n",
    "\n",
    "# Create monkey patches\n",
    "np.float = float\n",
    "np.int = int\n",
    "np.object = object\n",
    "np.bool = bool"
   ],
   "metadata": {
    "collapsed": false,
    "ExecuteTime": {
     "end_time": "2024-05-17T10:03:25.311624Z",
     "start_time": "2024-05-17T10:03:25.307848Z"
    }
   },
   "id": "89a30f54603b1283",
   "outputs": []
  },
  {
   "cell_type": "code",
   "execution_count": 4,
   "id": "initial_id",
   "metadata": {
    "collapsed": true,
    "ExecuteTime": {
     "end_time": "2024-05-17T10:03:26.331393Z",
     "start_time": "2024-05-17T10:03:25.714819Z"
    }
   },
   "source": [
    "import spacy\n",
    "spacy_nlp = spacy.load(\"en_core_web_sm\")\n",
    "\n",
    "import utility_functions as utils\n",
    "import importlib\n",
    "import pandas as pd\n",
    "import matplotlib.pyplot as plt\n",
    "import seaborn as sns\n",
    "import numpy as np\n",
    "\n",
    "from spacy.lang.en.stop_words import STOP_WORDS\n",
    "\n",
    "importlib.reload(utils)\n",
    "\n",
    "custom_stop_words = list(STOP_WORDS)  # Existing stop words\n",
    "custom_stop_words.extend([\"ll\", \"ve\", \"'em\", \"em\", \"ho\", \"fo\", \"ah\", \"de\"])  # Tokens which doesn't really make sense to have them."
   ],
   "outputs": []
  },
  {
   "cell_type": "code",
   "execution_count": 5,
   "source": [
    "df = pd.read_excel('/Users/borosabel/Documents/Uni/Thesis/PopMIR/Data/Excel/baseline_data_w_topics_w_features.xlsx', engine='openpyxl')"
   ],
   "metadata": {
    "collapsed": false,
    "ExecuteTime": {
     "end_time": "2024-05-17T10:04:55.323918Z",
     "start_time": "2024-05-17T10:04:51.988758Z"
    }
   },
   "id": "da188bc981d789fc",
   "outputs": []
  },
  {
   "cell_type": "code",
   "execution_count": 6,
   "source": [
    "df['Release Year'] = pd.to_numeric(df['Release Year'], errors='coerce')"
   ],
   "metadata": {
    "collapsed": false,
    "ExecuteTime": {
     "end_time": "2024-05-17T10:08:58.294117Z",
     "start_time": "2024-05-17T10:08:58.291256Z"
    }
   },
   "id": "47b46a6459e468ed",
   "outputs": []
  },
  {
   "cell_type": "code",
   "execution_count": 11,
   "source": [
    "average_tempo_by_coast_year = df.groupby(['Release Year', 'Coast'])['Tempo1'].mean().reset_index()\n",
    "overall_mean_tempo = df.groupby('Release Year')['Tempo1'].mean().reset_index()\n",
    "overall_mean_tempo.rename(columns={'Tempo1': 'Overall Average Tempo'}, inplace=True)"
   ],
   "metadata": {
    "collapsed": false,
    "ExecuteTime": {
     "end_time": "2024-05-17T10:14:24.502081Z",
     "start_time": "2024-05-17T10:14:24.494359Z"
    }
   },
   "id": "56e3101e529ebafe",
   "outputs": []
  },
  {
   "cell_type": "code",
   "execution_count": 12,
   "source": [
    "plt.figure(figsize=(12, 8))\n",
    "\n",
    "# Plot the average tempo by coast\n",
    "sns.lineplot(data=average_tempo_by_coast_year, x='Release Year', y='Tempo1', hue='Coast', palette={'east_coast': 'red', 'west_coast': 'blue'}, marker='o')\n",
    "\n",
    "# Plot the overall average tempo per year\n",
    "sns.lineplot(data=overall_mean_tempo, x='Release Year', y='Overall Average Tempo', color='green', marker='o', label='Overall Average')\n",
    "\n",
    "plt.title('Average Tempo by Coast and Overall Average Over Years')\n",
    "plt.xlabel('Release Year')\n",
    "plt.ylabel('Average Tempo')\n",
    "plt.legend(title='Legend')\n",
    "plt.grid(True)\n",
    "plt.savefig('coast_topic_contribution_with_overall.png', dpi=300, bbox_inches='tight')\n",
    "plt.show()"
   ],
   "metadata": {
    "collapsed": false,
    "ExecuteTime": {
     "end_time": "2024-05-17T10:14:35.662266Z",
     "start_time": "2024-05-17T10:14:34.899647Z"
    }
   },
   "id": "15dfefc723bf3c42",
   "outputs": []
  },
  {
   "cell_type": "code",
   "execution_count": null,
   "source": [],
   "metadata": {
    "collapsed": false
   },
   "id": "e8f5d4d5d06eecd3",
   "outputs": []
  }
 ],
 "metadata": {
  "kernelspec": {
   "display_name": "Python 3",
   "language": "python",
   "name": "python3"
  },
  "language_info": {
   "codemirror_mode": {
    "name": "ipython",
    "version": 2
   },
   "file_extension": ".py",
   "mimetype": "text/x-python",
   "name": "python",
   "nbconvert_exporter": "python",
   "pygments_lexer": "ipython2",
   "version": "2.7.6"
  }
 },
 "nbformat": 4,
 "nbformat_minor": 5
}
