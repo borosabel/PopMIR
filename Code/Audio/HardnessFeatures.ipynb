{
 "cells": [
  {
   "cell_type": "code",
   "execution_count": 1,
   "outputs": [],
   "source": [
    "import numpy as np\n",
    "\n",
    "# Create monkey patches\n",
    "np.float = float\n",
    "np.int = int\n",
    "np.object = object\n",
    "np.bool = bool"
   ],
   "metadata": {
    "collapsed": false,
    "ExecuteTime": {
     "end_time": "2024-05-09T08:57:56.743118Z",
     "start_time": "2024-05-09T08:57:56.740962Z"
    }
   },
   "id": "90fd4bc6ba1d44e4"
  },
  {
   "cell_type": "code",
   "execution_count": 1,
   "outputs": [],
   "source": [],
   "metadata": {
    "collapsed": false,
    "ExecuteTime": {
     "end_time": "2024-05-09T08:57:56.744449Z",
     "start_time": "2024-05-09T08:57:56.742800Z"
    }
   },
   "id": "928095a3da1d6a56"
  },
  {
   "cell_type": "code",
   "execution_count": 2,
   "id": "initial_id",
   "metadata": {
    "collapsed": true,
    "ExecuteTime": {
     "end_time": "2024-05-09T08:57:59.945677Z",
     "start_time": "2024-05-09T08:57:56.746593Z"
    }
   },
   "outputs": [
    {
     "name": "stderr",
     "output_type": "stream",
     "text": [
      "/Users/borosabel/lib/python3.9/site-packages/urllib3/__init__.py:35: NotOpenSSLWarning: urllib3 v2 only supports OpenSSL 1.1.1+, currently the 'ssl' module is compiled with 'LibreSSL 2.8.3'. See: https://github.com/urllib3/urllib3/issues/3020\n",
      "  warnings.warn(\n"
     ]
    },
    {
     "data": {
      "text/plain": "<module 'utility_functions' from '/Users/borosabel/Documents/Uni/Thesis/PopMIR/Code/Audio/utility_functions.py'>"
     },
     "execution_count": 2,
     "metadata": {},
     "output_type": "execute_result"
    }
   ],
   "source": [
    "import librosa\n",
    "import librosa.display\n",
    "import seaborn as sns\n",
    "import numpy as np\n",
    "import utility_functions as utils\n",
    "import importlib\n",
    "import pandas as pd\n",
    "import matplotlib.pyplot as plt\n",
    "from tqdm.auto import tqdm\n",
    "import warnings\n",
    "\n",
    "from sklearn.model_selection import StratifiedKFold\n",
    "from sklearn.metrics import confusion_matrix\n",
    "from sklearn.model_selection import train_test_split\n",
    "from sklearn.ensemble import RandomForestClassifier  # or RandomForestRegressor for regression tasks\n",
    "from sklearn.metrics import accuracy_score\n",
    "from sklearn.preprocessing import LabelEncoder\n",
    "from sklearn.neighbors import KNeighborsClassifier\n",
    "from sklearn.model_selection import GridSearchCV\n",
    "\n",
    "warnings.filterwarnings(\"ignore\", category=FutureWarning)\n",
    "importlib.reload(utils)"
   ]
  },
  {
   "cell_type": "code",
   "execution_count": 4,
   "outputs": [],
   "source": [
    "def compute_features(row):\n",
    "    audio_path = row['Path']\n",
    "    features_dict = {}\n",
    "\n",
    "    try:\n",
    "        # Load audio file\n",
    "        y, sr = librosa.load(audio_path)\n",
    "\n",
    "        # MEL SPECTROGRAM FEATURES\n",
    "        S = librosa.feature.melspectrogram(y=y, sr=sr)\n",
    "        S_dB = librosa.power_to_db(S, ref=np.max)\n",
    "        mel_mean = np.mean(S_dB, axis=1)\n",
    "        mel_std = np.std(S_dB, axis=1)\n",
    "\n",
    "        for i, (mean, std) in enumerate(zip(mel_mean, mel_std)):\n",
    "            features_dict[f'Raw_Melspect_Mean_{i}'] = mean\n",
    "            features_dict[f'Raw_Melspect_Std_{i}'] = std\n",
    "\n",
    "        # MFCC FEATURES\n",
    "        mfccs = librosa.feature.mfcc(y=y, sr=sr)\n",
    "        delta_mfccs = librosa.feature.delta(mfccs)\n",
    "        delta2_mfccs = librosa.feature.delta(mfccs, order=2)\n",
    "\n",
    "        mfcc_means = np.mean(mfccs, axis=1)\n",
    "        mfcc_stds = np.std(mfccs, axis=1)\n",
    "        delta_mfccs_means = np.mean(delta_mfccs, axis=1)\n",
    "        delta2_mfccs_means = np.mean(delta2_mfccs, axis=1)\n",
    "        delta_mfccs_stds = np.std(delta_mfccs, axis=1)\n",
    "        delta2_mfccs_stds = np.std(delta2_mfccs, axis=1)\n",
    "\n",
    "        for i, (mean, std, delta_mean, delta_std, delta2_mean, delta2_std) in enumerate(zip(\n",
    "                mfcc_means, mfcc_stds, delta_mfccs_means, delta_mfccs_stds, delta2_mfccs_means, delta2_mfccs_stds)):\n",
    "            features_dict[f'Raw_MFCC_Mean_{i}'] = mean\n",
    "            features_dict[f'Raw_MFCC_Std_{i}'] = std\n",
    "            features_dict[f'Delta_MFCC_Mean_{i}'] = delta_mean\n",
    "            features_dict[f'Delta_MFCC_Std_{i}'] = delta_std\n",
    "            features_dict[f'Delta2_MFCC_Mean_{i}'] = delta2_mean\n",
    "            features_dict[f'Delta2_MFCC_Std_{i}'] = delta2_std\n",
    "\n",
    "        # Additional Features\n",
    "        # Utilize utility functions to calculate additional features\n",
    "        features_dict.update({\n",
    "            'brightness': utils.calculate_brightness(y, sr),\n",
    "            'band_energy': utils.band_energy(y, sr),\n",
    "            'envelope_flatness': utils.envelope_flatness(y),\n",
    "            'envelope_kurtosis': utils.envelope_kurtosis(y),\n",
    "            'envelope_quantile_range': utils.calculate_envelope_quantile_range(y),\n",
    "            'harmonic_energy': utils.calculate_harmonic_energy(y),\n",
    "            'harmonic_percussive_ratio': utils.calculate_harmonic_percussive_ratio(y),\n",
    "            'high_frequency_ratio': utils.calculate_high_frequency_ratio(y, sr),\n",
    "            'loudness_sone': utils.calculate_loudness_sone(audio_path),\n",
    "            'low_energy': utils.calculate_low_energy(y),\n",
    "            'max_rms_position': utils.find_max_rms_position(y, sr),\n",
    "            'max_rms_value': utils.find_max_rms_value(y),\n",
    "            'segments_based_on_rms': utils.count_segments_based_on_rms(y),\n",
    "            'percussive_energy': utils.calculate_percussive_energy(y),\n",
    "            'mean_rms_energy': utils.calculate_average_rms_energy(y),\n",
    "            'mean_average_spectral_centroid': utils.calculate_average_spectral_centroid(y, sr),\n",
    "            'spectral_entropy': utils.calculate_spectral_entropy(y),\n",
    "            'spectral_flatness': utils.average_calculate_spectral_flatness(y),\n",
    "            'zero_crossing_rate': utils.zero_crossing_rate(y)  # This needs to be defined similarly in your utils\n",
    "        })\n",
    "\n",
    "    except Exception as e:\n",
    "        print(f\"Failed to process: {audio_path}\")\n",
    "        print(e)\n",
    "        # features_dict['error'] = str(e)  # You might want to return an error indicator\n",
    "\n",
    "    return pd.Series(features_dict)"
   ],
   "metadata": {
    "collapsed": false,
    "ExecuteTime": {
     "end_time": "2024-05-09T08:58:00.195316Z",
     "start_time": "2024-05-09T08:58:00.193955Z"
    }
   },
   "id": "9ccb4526656d6171"
  },
  {
   "cell_type": "code",
   "execution_count": 5,
   "outputs": [
    {
     "data": {
      "text/plain": "Computing features:   0%|          | 0/1368 [00:00<?, ?it/s]",
      "application/vnd.jupyter.widget-view+json": {
       "version_major": 2,
       "version_minor": 0,
       "model_id": "31649e40b6c744e39264a2eadf67f958"
      }
     },
     "metadata": {},
     "output_type": "display_data"
    }
   ],
   "source": [
    "tqdm.pandas(desc=\"Computing features\")\n",
    "result = df.progress_apply(compute_features, axis=1)"
   ],
   "metadata": {
    "collapsed": false,
    "ExecuteTime": {
     "end_time": "2024-05-10T01:10:52.711673Z",
     "start_time": "2024-05-09T08:58:00.196681Z"
    }
   },
   "id": "c602dfb250470ce"
  },
  {
   "cell_type": "code",
   "execution_count": 44,
   "outputs": [],
   "source": [
    "# Here I am just loading the saved progress because calculating everything would take like 2 days but above you can see the utility functions I used to calculate the features.\n",
    "df = pd.read_excel('/Users/borosabel/Documents/Uni/Thesis/PopMIR/Code/Audio/baseline_data.xlsx', engine='openpyxl')"
   ],
   "metadata": {
    "collapsed": false,
    "ExecuteTime": {
     "end_time": "2024-05-10T09:14:18.050981Z",
     "start_time": "2024-05-10T09:14:17.872237Z"
    }
   },
   "id": "90a72ac400089db0"
  },
  {
   "cell_type": "code",
   "execution_count": 45,
   "outputs": [],
   "source": [
    "# Here I am just loading the saved progress because calculating everything would take like 2 days but above you can see the utility functions I used to calculate the features.\n",
    "features = pd.read_excel('/Users/borosabel/Documents/Uni/Thesis/PopMIR/Code/Audio/output.xlsx', engine='openpyxl')"
   ],
   "metadata": {
    "collapsed": false,
    "ExecuteTime": {
     "end_time": "2024-05-10T09:14:22.483422Z",
     "start_time": "2024-05-10T09:14:19.450805Z"
    }
   },
   "id": "b904127cb8ccf729"
  },
  {
   "cell_type": "code",
   "execution_count": 52,
   "outputs": [],
   "source": [
    "le = LabelEncoder()\n",
    "labels = pd.DataFrame(le.fit_transform(df['Coast']))"
   ],
   "metadata": {
    "collapsed": false,
    "ExecuteTime": {
     "end_time": "2024-05-10T09:24:39.933816Z",
     "start_time": "2024-05-10T09:24:39.925871Z"
    }
   },
   "id": "e5609f42fd1fcf57"
  },
  {
   "cell_type": "code",
   "execution_count": 86,
   "outputs": [],
   "source": [
    "features.drop('Unnamed: 0', axis=1, inplace=True)"
   ],
   "metadata": {
    "collapsed": false,
    "ExecuteTime": {
     "end_time": "2024-05-10T10:31:32.062543Z",
     "start_time": "2024-05-10T10:31:32.037835Z"
    }
   },
   "id": "df0383d581e5e909"
  },
  {
   "cell_type": "code",
   "execution_count": 95,
   "outputs": [],
   "source": [
    "features['Tempo'] = df['Tempo1']"
   ],
   "metadata": {
    "collapsed": false,
    "ExecuteTime": {
     "end_time": "2024-05-10T10:47:24.265173Z",
     "start_time": "2024-05-10T10:47:24.254268Z"
    }
   },
   "id": "6216ebd3dda4ba50"
  },
  {
   "cell_type": "code",
   "execution_count": 102,
   "outputs": [],
   "source": [
    "features.to_excel('hardness_features.xlsx', index=False)"
   ],
   "metadata": {
    "collapsed": false,
    "ExecuteTime": {
     "end_time": "2024-05-10T11:59:23.825841Z",
     "start_time": "2024-05-10T11:59:17.073425Z"
    }
   },
   "id": "5707d01a82574b59"
  },
  {
   "cell_type": "code",
   "execution_count": 97,
   "outputs": [],
   "source": [
    "k = 10\n",
    "# I use StratifiedKFold to keep the balance of the dataset consistent.\n",
    "skf = StratifiedKFold(n_splits=k, shuffle=True, random_state=42)"
   ],
   "metadata": {
    "collapsed": false,
    "ExecuteTime": {
     "end_time": "2024-05-10T10:47:35.882410Z",
     "start_time": "2024-05-10T10:47:35.870495Z"
    }
   },
   "id": "25d2e36ee0593b1e"
  },
  {
   "cell_type": "code",
   "execution_count": 98,
   "outputs": [
    {
     "name": "stderr",
     "output_type": "stream",
     "text": [
      "Folds: 100%|██████████| 5/5 [14:28<00:00, 173.61s/it]"
     ]
    },
    {
     "name": "stdout",
     "output_type": "stream",
     "text": [
      "Best parameters found:  {'max_depth': None, 'min_samples_split': 10, 'n_estimators': 100}\n",
      "Cumulative Confusion Matrix:\n",
      "[[531. 171.]\n",
      " [189. 477.]]\n",
      "Average F1 Score: 0.7360056728576334\n"
     ]
    },
    {
     "name": "stderr",
     "output_type": "stream",
     "text": [
      "\n"
     ]
    },
    {
     "data": {
      "text/plain": "<Figure size 800x600 with 1 Axes>",
      "image/png": "[encoded data removed]"
     },
     "metadata": {},
     "output_type": "display_data"
    }
   ],
   "source": [
    "import numpy as np\n",
    "import matplotlib.pyplot as plt\n",
    "import seaborn as sns\n",
    "from sklearn.ensemble import RandomForestClassifier\n",
    "from sklearn.model_selection import GridSearchCV, StratifiedKFold\n",
    "from sklearn.metrics import confusion_matrix, f1_score\n",
    "from tqdm import tqdm\n",
    "\n",
    "# Initialize your model\n",
    "model = RandomForestClassifier(random_state=42)\n",
    "\n",
    "# List to store each fold's F1 score\n",
    "f1_scores = []\n",
    "\n",
    "# Initialize an empty array to hold the sum of all confusion matrices\n",
    "cumulative_conf_matrix = np.zeros((2, 2))  # Adjust the size if not binary classification\n",
    "\n",
    "# Define the parameter grid\n",
    "param_grid = {\n",
    "    'n_estimators': [100, 200, 300],\n",
    "    'max_depth': [None, 10, 20, 30],\n",
    "    'min_samples_split': [2, 5, 10]\n",
    "}\n",
    "\n",
    "# Setup Grid Search\n",
    "grid_search = GridSearchCV(model, param_grid, cv=5, scoring='accuracy', verbose=0)\n",
    "\n",
    "# Assuming 'features' and 'labels' are defined, and 'skf' is your StratifiedKFold instance\n",
    "skf = StratifiedKFold(n_splits=5, random_state=42, shuffle=True)  # Example definition\n",
    "\n",
    "# Split your data and use tqdm for the progress bar\n",
    "for train_index, test_index in tqdm(skf.split(features, labels), total=skf.get_n_splits(), desc=\"Folds\"):\n",
    "    X_train, X_test = features.iloc[train_index], features.iloc[test_index]\n",
    "    y_train, y_test = labels.iloc[train_index], labels.iloc[test_index]\n",
    "\n",
    "    y_train = np.ravel(y_train)\n",
    "\n",
    "    # Fit the grid search to the data\n",
    "    grid_search.fit(X_train, y_train)\n",
    "\n",
    "    # Get the best model\n",
    "    best_model = grid_search.best_estimator_\n",
    "\n",
    "    # Predict using the best model\n",
    "    y_pred = best_model.predict(X_test)\n",
    "\n",
    "    # Compute the confusion matrix and add it to the cumulative matrix\n",
    "    conf_mat = confusion_matrix(y_test, y_pred)\n",
    "    cumulative_conf_matrix += conf_mat\n",
    "\n",
    "    # Calculate F1 score and append to list\n",
    "    f1 = f1_score(y_test, y_pred, average='macro')  # Change 'macro' as needed for your classification scheme\n",
    "    f1_scores.append(f1)\n",
    "\n",
    "# Print the best parameters\n",
    "print(\"Best parameters found: \", grid_search.best_params_)\n",
    "\n",
    "# Print the cumulative confusion matrix\n",
    "print(\"Cumulative Confusion Matrix:\")\n",
    "print(cumulative_conf_matrix)\n",
    "\n",
    "# Print average F1 score\n",
    "print(\"Average F1 Score:\", np.mean(f1_scores))\n",
    "\n",
    "# Plotting the confusion matrix\n",
    "plt.figure(figsize=(8, 6))\n",
    "sns.heatmap(cumulative_conf_matrix, annot=True, fmt='g', cmap='Blues', cbar=False)\n",
    "plt.xlabel('Predicted labels')\n",
    "plt.ylabel('True labels')\n",
    "plt.title('Aggregated Confusion Matrix')\n",
    "plt.show()"
   ],
   "metadata": {
    "collapsed": false,
    "ExecuteTime": {
     "end_time": "2024-05-10T11:02:05.400186Z",
     "start_time": "2024-05-10T10:47:37.267808Z"
    }
   },
   "id": "727e4198d4a54fb5"
  },
  {
   "cell_type": "code",
   "execution_count": 99,
   "outputs": [
    {
     "name": "stderr",
     "output_type": "stream",
     "text": [
      "Folds: 100%|██████████| 5/5 [00:03<00:00,  1.54it/s]"
     ]
    },
    {
     "name": "stdout",
     "output_type": "stream",
     "text": [
      "Length of all_y_test: 1368\n",
      "Length of all_y_pred: 1368\n",
      "Classification Report:\n",
      "              precision    recall  f1-score   support\n",
      "\n",
      "           0       0.72      0.74      0.73       702\n",
      "           1       0.72      0.70      0.71       666\n",
      "\n",
      "    accuracy                           0.72      1368\n",
      "   macro avg       0.72      0.72      0.72      1368\n",
      "weighted avg       0.72      0.72      0.72      1368\n"
     ]
    },
    {
     "name": "stderr",
     "output_type": "stream",
     "text": [
      "\n"
     ]
    }
   ],
   "source": [
    "from sklearn.metrics import classification_report\n",
    "from tqdm import tqdm\n",
    "import numpy as np\n",
    "\n",
    "best_model = RandomForestClassifier(random_state=42, **grid_search.best_params_)\n",
    "\n",
    "skf = StratifiedKFold(n_splits=5, random_state=42, shuffle=True)\n",
    "all_y_pred = []\n",
    "all_y_test = []\n",
    "\n",
    "for train_index, test_index in tqdm(skf.split(features, labels), total=skf.get_n_splits(), desc=\"Folds\"):\n",
    "    X_train, X_test = features.iloc[train_index], features.iloc[test_index]\n",
    "    y_train, y_test = labels.iloc[train_index], labels.iloc[test_index]\n",
    "\n",
    "    y_train = np.ravel(y_train)\n",
    "\n",
    "    best_model.fit(X_train, y_train)\n",
    "    \n",
    "    y_pred = best_model.predict(X_test)\n",
    "    y_test = np.ravel(y_test.to_numpy())\n",
    "    all_y_pred.extend(y_pred)\n",
    "    all_y_test.extend(y_test)\n",
    "\n",
    "print(\"Length of all_y_test:\", len(all_y_test))\n",
    "print(\"Length of all_y_pred:\", len(all_y_pred))\n",
    "\n",
    "print(\"Classification Report:\")\n",
    "print(classification_report(all_y_test, all_y_pred))"
   ],
   "metadata": {
    "collapsed": false,
    "ExecuteTime": {
     "end_time": "2024-05-10T11:02:25.469081Z",
     "start_time": "2024-05-10T11:02:22.223610Z"
    }
   },
   "id": "40a2555da271c1df"
  },
  {
   "cell_type": "code",
   "execution_count": 100,
   "outputs": [
    {
     "name": "stdout",
     "output_type": "stream",
     "text": [
      "                     Feature  Importance\n",
      "0        Raw_Melspect_Mean_0    0.020104\n",
      "396                    Tempo    0.015028\n",
      "328         Raw_MFCC_Mean_12    0.013482\n",
      "387            max_rms_value    0.013223\n",
      "380  envelope_quantile_range    0.010872\n",
      "..                       ...         ...\n",
      "135      Raw_Melspect_Std_67    0.000791\n",
      "65       Raw_Melspect_Std_32    0.000788\n",
      "143      Raw_Melspect_Std_71    0.000658\n",
      "81       Raw_Melspect_Std_40    0.000638\n",
      "122     Raw_Melspect_Mean_61    0.000508\n",
      "\n",
      "[397 rows x 2 columns]\n"
     ]
    }
   ],
   "source": [
    "importances = best_model.feature_importances_\n",
    "feature_names = features.columns\n",
    "feature_importance_dict = dict(zip(feature_names, importances))\n",
    "\n",
    "# Optionally, convert to a DataFrame for better visualization\n",
    "importance_df = pd.DataFrame({'Feature': feature_names, 'Importance': importances}).sort_values(by='Importance', ascending=False)\n",
    "print(importance_df)"
   ],
   "metadata": {
    "collapsed": false,
    "ExecuteTime": {
     "end_time": "2024-05-10T11:02:30.757111Z",
     "start_time": "2024-05-10T11:02:30.743098Z"
    }
   },
   "id": "33d7aca6d25ccccb"
  },
  {
   "cell_type": "code",
   "execution_count": 101,
   "outputs": [
    {
     "data": {
      "text/plain": "                     Feature  Importance\n0        Raw_Melspect_Mean_0    0.020104\n396                    Tempo    0.015028\n328         Raw_MFCC_Mean_12    0.013482\n387            max_rms_value    0.013223\n380  envelope_quantile_range    0.010872\n2        Raw_Melspect_Mean_1    0.010856\n388    segments_based_on_rms    0.010114\n346         Raw_MFCC_Mean_15    0.008836\n340         Raw_MFCC_Mean_14    0.007660\n384            loudness_sone    0.007150",
      "text/html": "<div>\n<style scoped>\n    .dataframe tbody tr th:only-of-type {\n        vertical-align: middle;\n    }\n\n    .dataframe tbody tr th {\n        vertical-align: top;\n    }\n\n    .dataframe thead th {\n        text-align: right;\n    }\n</style>\n<table border=\"1\" class=\"dataframe\">\n  <thead>\n    <tr style=\"text-align: right;\">\n      <th></th>\n      <th>Feature</th>\n      <th>Importance</th>\n    </tr>\n  </thead>\n  <tbody>\n    <tr>\n      <th>0</th>\n      <td>Raw_Melspect_Mean_0</td>\n      <td>0.020104</td>\n    </tr>\n    <tr>\n      <th>396</th>\n      <td>Tempo</td>\n      <td>0.015028</td>\n    </tr>\n    <tr>\n      <th>328</th>\n      <td>Raw_MFCC_Mean_12</td>\n      <td>0.013482</td>\n    </tr>\n    <tr>\n      <th>387</th>\n      <td>max_rms_value</td>\n      <td>0.013223</td>\n    </tr>\n    <tr>\n      <th>380</th>\n      <td>envelope_quantile_range</td>\n      <td>0.010872</td>\n    </tr>\n    <tr>\n      <th>2</th>\n      <td>Raw_Melspect_Mean_1</td>\n      <td>0.010856</td>\n    </tr>\n    <tr>\n      <th>388</th>\n      <td>segments_based_on_rms</td>\n      <td>0.010114</td>\n    </tr>\n    <tr>\n      <th>346</th>\n      <td>Raw_MFCC_Mean_15</td>\n      <td>0.008836</td>\n    </tr>\n    <tr>\n      <th>340</th>\n      <td>Raw_MFCC_Mean_14</td>\n      <td>0.007660</td>\n    </tr>\n    <tr>\n      <th>384</th>\n      <td>loudness_sone</td>\n      <td>0.007150</td>\n    </tr>\n  </tbody>\n</table>\n</div>"
     },
     "execution_count": 101,
     "metadata": {},
     "output_type": "execute_result"
    }
   ],
   "source": [
    "importance_df.head(10)"
   ],
   "metadata": {
    "collapsed": false,
    "ExecuteTime": {
     "end_time": "2024-05-10T11:02:49.246775Z",
     "start_time": "2024-05-10T11:02:49.227442Z"
    }
   },
   "id": "5066b062d12dd448"
  },
  {
   "cell_type": "code",
   "execution_count": null,
   "outputs": [],
   "source": [],
   "metadata": {
    "collapsed": false
   },
   "id": "2ff660e0252a3194"
  }
 ],
 "metadata": {
  "kernelspec": {
   "display_name": "Python 3",
   "language": "python",
   "name": "python3"
  },
  "language_info": {
   "codemirror_mode": {
    "name": "ipython",
    "version": 2
   },
   "file_extension": ".py",
   "mimetype": "text/x-python",
   "name": "python",
   "nbconvert_exporter": "python",
   "pygments_lexer": "ipython2",
   "version": "2.7.6"
  }
 },
 "nbformat": 4,
 "nbformat_minor": 5
}
