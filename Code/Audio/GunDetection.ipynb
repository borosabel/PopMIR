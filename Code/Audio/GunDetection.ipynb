{
 "cells": [
  {
   "cell_type": "code",
   "source": [
    "import numpy as np\n",
    "\n",
    "# Create monkey patches\n",
    "np.float = float\n",
    "np.int = int\n",
    "np.object = object\n",
    "np.bool = bool"
   ],
   "metadata": {
    "collapsed": false,
    "ExecuteTime": {
     "end_time": "2024-06-27T14:33:24.927921Z",
     "start_time": "2024-06-27T14:33:24.721201Z"
    }
   },
   "id": "80871a597a4f8e33",
   "outputs": [],
   "execution_count": 1
  },
  {
   "cell_type": "code",
   "source": [
    "import pandas as pd\n",
    "\n",
    "from sklearn.model_selection import train_test_split\n",
    "from sklearn.metrics import confusion_matrix, ConfusionMatrixDisplay\n",
    "\n",
    "import matplotlib.pyplot as plt\n",
    "import gunshot_utils as utils\n",
    "import importlib\n",
    "import ast\n",
    "import re\n",
    "import pickle\n",
    "\n",
    "import torch as th\n",
    "from torch.utils.data import DataLoader\n",
    "from torch.utils.data import Dataset\n",
    "import torch.nn as nn\n",
    "import torch.nn.functional as F\n",
    "from torch import optim\n",
    "\n",
    "importlib.reload(utils)"
   ],
   "metadata": {
    "collapsed": false,
    "ExecuteTime": {
     "end_time": "2024-06-28T07:28:48.169600Z",
     "start_time": "2024-06-28T07:28:47.724478Z"
    }
   },
   "id": "initial_id",
   "outputs": [
    {
     "data": {
      "text/plain": [
       "<module 'gunshot_utils' from '/Users/borosabel/Documents/Uni/Thesis/PopMIR/Code/Audio/gunshot_utils.py'>"
      ]
     },
     "execution_count": 103,
     "metadata": {},
     "output_type": "execute_result"
    }
   ],
   "execution_count": 103
  },
  {
   "cell_type": "code",
   "source": [
    "# Model descrbied in the paper plus droput\n",
    "class OnsetDetectionCNN(nn.Module):\n",
    "    def __init__(self):\n",
    "        super(OnsetDetectionCNN, self).__init__()\n",
    "        self.conv1 = nn.Conv2d(3, 10, kernel_size=(3, 7))\n",
    "        self.pool1 = nn.MaxPool2d(kernel_size=(3, 1))\n",
    "        self.conv2 = nn.Conv2d(10, 20, kernel_size=(3, 3))\n",
    "        self.pool2 = nn.MaxPool2d(kernel_size=(3, 1))\n",
    "        self.fc1 = nn.Linear(20 * 7 * 8, 256)\n",
    "        self.fc2 = nn.Linear(256, 1)\n",
    "        self.dropout = nn.Dropout(0.5)\n",
    "        self.sigmoid = nn.Sigmoid()\n",
    "\n",
    "    def forward(self, x):\n",
    "        x = self.pool1(F.relu(self.conv1(x)))\n",
    "        x = self.pool2(F.relu(self.conv2(x)))\n",
    "        x = x.view(-1, 20 * 7 * 8)\n",
    "        x = self.dropout(F.relu(self.fc1(x)))  # Apply dropout\n",
    "        x = self.sigmoid(self.fc2(x))\n",
    "        return x\n",
    "\n",
    "# Initialize the model\n",
    "model = OnsetDetectionCNN()"
   ],
   "metadata": {
    "collapsed": false,
    "ExecuteTime": {
     "end_time": "2024-06-27T14:33:27.500243Z",
     "start_time": "2024-06-27T14:33:27.491197Z"
    }
   },
   "id": "da9a11b4e35dea17",
   "outputs": [],
   "execution_count": 3
  },
  {
   "cell_type": "code",
   "source": [
    "class GunshotDataset(th.utils.data.Dataset):\n",
    "    def __init__(self, spectograms, sample_rates, targets):\n",
    "        self.X = []\n",
    "        self.y = []\n",
    "\n",
    "        for X, sample_rate, y in zip(spectograms, sample_rates, targets):\n",
    "            X_frames, y_frames = utils.make_frames(X, y)\n",
    "            self.X += X_frames\n",
    "            self.y += y_frames\n",
    "\n",
    "        tmp = th.cat(self.X)\n",
    "        self.mean = th.mean(tmp, dim=(0, 2)).unsqueeze(1)\n",
    "        self.std = th.std(tmp, dim=(0, 2)).unsqueeze(1)\n",
    "        del tmp\n",
    "\n",
    "        self.X = [(x - self.mean)/self.std for x in self.X]\n",
    "\n",
    "    def __len__(self):\n",
    "        return len(self.X)\n",
    "\n",
    "    def __getitem__(self, i):\n",
    "        return self.X[i], self.y[i]"
   ],
   "metadata": {
    "collapsed": false,
    "ExecuteTime": {
     "end_time": "2024-06-27T14:34:28.734453Z",
     "start_time": "2024-06-27T14:34:28.729481Z"
    }
   },
   "id": "9fb31ced3956af05",
   "outputs": [],
   "execution_count": 4
  },
  {
   "cell_type": "markdown",
   "source": [
    "<b>Gunshot dataset</b>"
   ],
   "metadata": {
    "collapsed": false
   },
   "id": "aa72f23e406f856"
  },
  {
   "cell_type": "code",
   "source": [
    "gunshots = pd.read_csv('/Users/borosabel/Documents/Uni/Thesis/PopMIR/Data/Audio/Gunshots/7004819/edge-collected-gunshot-audio/gunshot-audio-all-metadata.csv')\n",
    "gunshots = gunshots[['filename', 'num_gunshots', 'gunshot_location_in_seconds']]\n",
    "\n",
    "# This function is needed because for some reason the gunshots start list is treated as string for some reason.\n",
    "def preprocess_gunshot_times(gunshot_times):\n",
    "    # Remove multiple spaceS\n",
    "    gunshot_times = re.sub(r'\\s+', ' ', gunshot_times).strip()\n",
    "\n",
    "    # Insert commas between numbers if missing\n",
    "    gunshot_times = re.sub(r'(?<=\\d)\\s(?=\\d)', ', ', gunshot_times)\n",
    "\n",
    "    # Ensure there are no trailing commas\n",
    "    gunshot_times = gunshot_times.replace(', ]', ']')\n",
    "\n",
    "    # Safely evaluate the string as a list\n",
    "    try:\n",
    "        return ast.literal_eval(gunshot_times)\n",
    "    except (ValueError, SyntaxError):\n",
    "        # Return an empty list if the string is not a valid list\n",
    "        return []\n",
    "    \n",
    "# # Apply the function to the 'gunshot_location_in_seconds' column\n",
    "gunshots['gunshot_location_in_seconds'] = gunshots['gunshot_location_in_seconds'].apply(preprocess_gunshot_times)"
   ],
   "metadata": {
    "collapsed": false,
    "ExecuteTime": {
     "end_time": "2024-06-27T14:34:32.134046Z",
     "start_time": "2024-06-27T14:34:32.040462Z"
    }
   },
   "id": "e11c20fa2767a414",
   "outputs": [],
   "execution_count": 5
  },
  {
   "cell_type": "code",
   "source": [
    "root_path = '/Users/borosabel/Documents/Uni/Thesis/PopMIR/Data/Audio/Gunshots/7004819/edge-collected-gunshot-audio/edge-collected-gunshot-audio/'\n",
    "\n",
    "def change_filename(filename):\n",
    "    return root_path + filename + '.wav'"
   ],
   "metadata": {
    "collapsed": false,
    "ExecuteTime": {
     "end_time": "2024-06-27T14:34:32.935008Z",
     "start_time": "2024-06-27T14:34:32.931964Z"
    }
   },
   "id": "c915dea7d6057747",
   "outputs": [],
   "execution_count": 6
  },
  {
   "cell_type": "code",
   "source": [
    "gunshots['filename'] = gunshots['filename'].apply(change_filename)"
   ],
   "metadata": {
    "collapsed": false,
    "ExecuteTime": {
     "end_time": "2024-06-27T14:34:33.753976Z",
     "start_time": "2024-06-27T14:34:33.750642Z"
    }
   },
   "id": "e668202ae47c20ee",
   "outputs": [],
   "execution_count": 7
  },
  {
   "cell_type": "code",
   "source": [
    "gunshots['label'] = 1"
   ],
   "metadata": {
    "collapsed": false,
    "ExecuteTime": {
     "end_time": "2024-06-27T14:34:33.920466Z",
     "start_time": "2024-06-27T14:34:33.917583Z"
    }
   },
   "id": "b0634e583fa281ec",
   "outputs": [],
   "execution_count": 8
  },
  {
   "cell_type": "markdown",
   "source": [
    "<b>Musical dataset</b>"
   ],
   "metadata": {
    "collapsed": false
   },
   "id": "be75c080983e55b3"
  },
  {
   "cell_type": "code",
   "source": [
    "music = pd.read_excel('/Users/borosabel/Documents/Uni/Thesis/PopMIR/Data/Excel/baseline_data_w_topics_w_features.xlsx', engine='openpyxl')"
   ],
   "metadata": {
    "collapsed": false,
    "ExecuteTime": {
     "end_time": "2024-06-27T14:34:39.012995Z",
     "start_time": "2024-06-27T14:34:35.433116Z"
    }
   },
   "id": "7659d3474dfc6d2c",
   "outputs": [],
   "execution_count": 9
  },
  {
   "cell_type": "code",
   "source": [
    "music = music.rename(columns={'Path': 'filename'})\n",
    "music = music[['filename']]\n",
    "music['num_gunshots'] = 0\n",
    "music['gunshot_location_in_seconds'] = 0\n",
    "music['label'] = 0"
   ],
   "metadata": {
    "collapsed": false,
    "ExecuteTime": {
     "end_time": "2024-06-27T14:34:39.018100Z",
     "start_time": "2024-06-27T14:34:39.014242Z"
    }
   },
   "id": "559406d7ecdfd9b9",
   "outputs": [],
   "execution_count": 10
  },
  {
   "cell_type": "code",
   "source": [
    "df = pd.concat([gunshots, music])"
   ],
   "metadata": {
    "collapsed": false,
    "ExecuteTime": {
     "end_time": "2024-06-27T14:34:39.020599Z",
     "start_time": "2024-06-27T14:34:39.018754Z"
    }
   },
   "id": "28367129fd2310a2",
   "outputs": [],
   "execution_count": 11
  },
  {
   "cell_type": "code",
   "source": [
    "files = df[['filename', 'num_gunshots', 'gunshot_location_in_seconds']]\n",
    "labels = df[['label']]"
   ],
   "metadata": {
    "collapsed": false,
    "ExecuteTime": {
     "end_time": "2024-06-27T14:34:39.024211Z",
     "start_time": "2024-06-27T14:34:39.021731Z"
    }
   },
   "id": "ba80043decfa612a",
   "outputs": [],
   "execution_count": 12
  },
  {
   "cell_type": "code",
   "source": [
    "X_train_paths, X_test_paths, y_train_paths, y_test_paths = train_test_split(files, labels, test_size=0.3, random_state=42)"
   ],
   "metadata": {
    "collapsed": false,
    "ExecuteTime": {
     "end_time": "2024-06-27T14:34:39.028904Z",
     "start_time": "2024-06-27T14:34:39.024936Z"
    }
   },
   "id": "dc3cb8c12a9379a4",
   "outputs": [],
   "execution_count": 13
  },
  {
   "cell_type": "code",
   "source": [
    "spectrograms_train, sample_rates_train, labels_train = utils.preprocess_audio_train(X_train_paths, max_non_gunshot_samples=10)\n",
    "spectrograms_test, sample_rates_test, labels_test = utils.preprocess_audio_train(X_test_paths, max_non_gunshot_samples=10)"
   ],
   "metadata": {
    "collapsed": false,
    "ExecuteTime": {
     "end_time": "2024-06-28T07:23:55.107268Z",
     "start_time": "2024-06-28T07:17:33.531767Z"
    }
   },
   "id": "f484d44998fcc03c",
   "outputs": [
    {
     "name": "stderr",
     "output_type": "stream",
     "text": [
      "100%|██████████| 2458/2458 [03:37<00:00, 11.31it/s]\n",
      "100%|██████████| 1054/1054 [02:44<00:00,  6.42it/s]\n"
     ]
    }
   ],
   "execution_count": 93
  },
  {
   "cell_type": "code",
   "source": [
    "# 3 dimensions of mel-spectograms with 80 mel bands and 15 frames.\n",
    "spectrograms_train[0].shape"
   ],
   "metadata": {
    "collapsed": false,
    "ExecuteTime": {
     "end_time": "2024-06-28T07:25:17.490804Z",
     "start_time": "2024-06-28T07:25:17.485883Z"
    }
   },
   "id": "7c041a7be15c005c",
   "outputs": [
    {
     "data": {
      "text/plain": [
       "torch.Size([3, 80, 15])"
      ]
     },
     "execution_count": 94,
     "metadata": {},
     "output_type": "execute_result"
    }
   ],
   "execution_count": 94
  },
  {
   "cell_type": "code",
   "source": [
    "dataset = GunshotDataset(spectrograms_train, sample_rates_train, labels_train)\n",
    "dataloader = DataLoader(dataset, batch_size=256, shuffle=True)"
   ],
   "metadata": {
    "collapsed": false,
    "ExecuteTime": {
     "end_time": "2024-06-28T07:25:51.621231Z",
     "start_time": "2024-06-28T07:25:51.076474Z"
    }
   },
   "id": "35f3b64e4e4ff809",
   "outputs": [],
   "execution_count": 95
  },
  {
   "metadata": {
    "ExecuteTime": {
     "end_time": "2024-06-28T07:25:51.624815Z",
     "start_time": "2024-06-28T07:25:51.622405Z"
    }
   },
   "cell_type": "code",
   "source": [
    "print(len(dataset.X))\n",
    "print(dataset.X[0].shape)"
   ],
   "id": "2ec0a4c17a5c76d6",
   "outputs": [
    {
     "name": "stdout",
     "output_type": "stream",
     "text": [
      "14021\n",
      "torch.Size([3, 80, 15])\n"
     ]
    }
   ],
   "execution_count": 96
  },
  {
   "cell_type": "code",
   "source": [
    "mean_std = {'mean': dataset.mean, 'std': dataset.std}\n",
    "with open('mean_std.pkl', 'wb') as f:\n",
    "    pickle.dump(mean_std, f)\n",
    "\n",
    "# Save using torch\n",
    "th.save({'mean': dataset.mean, 'std': dataset.std}, 'mean_std.pth')"
   ],
   "metadata": {
    "collapsed": false,
    "ExecuteTime": {
     "end_time": "2024-06-28T07:26:10.668437Z",
     "start_time": "2024-06-28T07:26:10.662651Z"
    }
   },
   "id": "196f40f845536c3e",
   "outputs": [],
   "execution_count": 98
  },
  {
   "cell_type": "code",
   "source": [
    "device = 'cuda' if th.cuda.is_available() else 'cpu'\n",
    "print(device)"
   ],
   "metadata": {
    "collapsed": false,
    "ExecuteTime": {
     "end_time": "2024-06-28T07:26:10.920810Z",
     "start_time": "2024-06-28T07:26:10.917295Z"
    }
   },
   "id": "63632490d4e25d04",
   "outputs": [
    {
     "name": "stdout",
     "output_type": "stream",
     "text": [
      "cpu\n"
     ]
    }
   ],
   "execution_count": 99
  },
  {
   "cell_type": "code",
   "source": [
    "import torch as th\n",
    "import numpy as np\n",
    "from sklearn.metrics import accuracy_score\n",
    "from sklearn.metrics import f1_score\n",
    "import warnings\n",
    "\n",
    "device = th.device(\"cuda\" if th.cuda.is_available() else \"cpu\")\n",
    "\n",
    "def train_model(model, optimizer, criterion, train_loader, valid_features, valid_labels, epochs=10, thresholds=None, mean=None, std=None):\n",
    "    if thresholds is None:\n",
    "        thresholds = np.arange(0.1, 1.0, 0.05)  # Define a range of thresholds to test\n",
    "\n",
    "    if mean is None or std is None:\n",
    "        raise ValueError(\"Mean and std must be provided for normalization.\")\n",
    "\n",
    "    mean = mean.to(device)\n",
    "    std = std.to(device)\n",
    "\n",
    "    model = model.to(device)\n",
    "    best_threshold = 0.0\n",
    "\n",
    "    # I wrote score here because it depends on the metric we want to use.\n",
    "    best_score = 0.0\n",
    "\n",
    "    for epoch in range(epochs):\n",
    "        model.train()\n",
    "        running_loss = 0.0\n",
    "\n",
    "        # Training phase\n",
    "        for features, labels in train_loader:\n",
    "            features, labels = features.to(device), labels.to(device).float()\n",
    "\n",
    "            optimizer.zero_grad()\n",
    "\n",
    "            # Normalize features\n",
    "            features = (features - mean) / std\n",
    "\n",
    "            outputs = model(features)\n",
    "            outputs = outputs.squeeze()\n",
    "            loss = criterion(outputs, labels)\n",
    "            loss.backward()\n",
    "            optimizer.step()\n",
    "\n",
    "            running_loss += loss.item() * features.size(0)\n",
    "\n",
    "        epoch_loss = running_loss / len(train_loader.dataset)\n",
    "\n",
    "        print(f\"Epoch [{epoch+1}/{epochs}], Loss: {running_loss/len(train_loader):.4f}\")\n",
    "\n",
    "        # Validation phase\n",
    "        model.eval()\n",
    "        best_epoch_threshold, current_score = evaluate_model(model, valid_features, valid_labels, thresholds, mean, std)\n",
    "\n",
    "        if current_score > best_score:\n",
    "            best_score = current_score\n",
    "            best_threshold = best_epoch_threshold\n",
    "            print(f\"New best F1 score: {best_score:.4f}, model saved.\")\n",
    "\n",
    "        print(f\"TEST best_f1: {best_score} with best threshold: {best_threshold}\")\n",
    "\n",
    "    # Compute and display the confusion matrix on the validation set\n",
    "    cm = compute_confusion_matrix(model, valid_features, valid_labels, best_threshold, mean, std)\n",
    "    display_confusion_matrix(cm)\n",
    "\n",
    "    return best_threshold, best_score\n",
    "\n",
    "def evaluate_model(model, features, labels, thresholds, mean, std):\n",
    "    best_threshold = 0.0\n",
    "    best_f1_score = 0.0\n",
    "\n",
    "    with th.no_grad():\n",
    "        for threshold in thresholds:\n",
    "            all_predictions = []\n",
    "            all_labels = []\n",
    "\n",
    "            for feature, label in zip(features, labels):\n",
    "                feature = feature.to(device)\n",
    "                label = th.tensor(label).float().to(device)  # Ensure label is a float tensor\n",
    "\n",
    "                # Normalize feature\n",
    "                feature = (feature - mean) / std\n",
    "\n",
    "                # Get model predictions\n",
    "                output = model(feature.unsqueeze(0)).squeeze().cpu().numpy()  # Add batch dimension\n",
    "\n",
    "                # Apply threshold\n",
    "                predictions = (output >= threshold).astype(float)\n",
    "\n",
    "                all_predictions.append(predictions)\n",
    "                all_labels.append(label.item())\n",
    "\n",
    "            # Calculate F1 score\n",
    "            avg_f1_score = f1_score(all_labels, all_predictions)\n",
    "\n",
    "            if avg_f1_score > best_f1_score:\n",
    "                best_f1_score = avg_f1_score\n",
    "                best_threshold = threshold\n",
    "\n",
    "    return best_threshold, best_f1_score\n",
    "\n",
    "def compute_confusion_matrix(model, features, labels, threshold, mean, std):\n",
    "    all_predictions = []\n",
    "    all_labels = []\n",
    "\n",
    "    model.eval()\n",
    "    with th.no_grad():\n",
    "        for feature, label in zip(features, labels):\n",
    "            feature = feature.to(device)\n",
    "            label = th.tensor(label).float().to(device)  # Ensure label is a float tensor\n",
    "\n",
    "            # Normalize feature\n",
    "            feature = (feature - mean) / std\n",
    "\n",
    "            # Get model predictions\n",
    "            output = model(feature.unsqueeze(0)).squeeze().cpu().numpy()  # Add batch dimension\n",
    "\n",
    "            # Apply threshold\n",
    "            predictions = (output >= threshold).astype(float)\n",
    "\n",
    "            all_predictions.append(predictions)\n",
    "            all_labels.append(label.item())\n",
    "\n",
    "    cm = confusion_matrix(all_labels, all_predictions)\n",
    "    return cm\n",
    "\n",
    "def display_confusion_matrix(cm):\n",
    "    disp = ConfusionMatrixDisplay(confusion_matrix=cm, display_labels=[0, 1])\n",
    "    disp.plot()\n",
    "    plt.show()\n",
    "\n",
    "def evaluate_model_accuracy(model, features, labels, thresholds, mean, std):\n",
    "    best_threshold = 0.0\n",
    "    best_accuracy = 0.0\n",
    "\n",
    "    with th.no_grad():\n",
    "        for threshold in thresholds:\n",
    "            all_accuracies = []\n",
    "\n",
    "            for feature, label in zip(features, labels):\n",
    "                feature = feature.to(device)\n",
    "                label = th.tensor(label).to(device)  # Ensure label is a tensor\n",
    "\n",
    "                # Normalize feature\n",
    "                feature = (feature - mean) / std\n",
    "\n",
    "                # Get model predictions\n",
    "                output = model(feature).squeeze().cpu().numpy()  # Add batch dimension\n",
    "\n",
    "                # Apply threshold\n",
    "                predictions = (output >= threshold).astype(float)\n",
    "\n",
    "                # Calculate accuracy\n",
    "                accuracy = accuracy_score([label.item()], [predictions.item()])\n",
    "\n",
    "                all_accuracies.append(accuracy)\n",
    "\n",
    "            avg_accuracy = np.mean(all_accuracies)\n",
    "            if avg_accuracy > best_accuracy:\n",
    "                best_accuracy = avg_accuracy\n",
    "                best_threshold = threshold\n",
    "\n",
    "    return best_threshold, best_accuracy\n",
    "\n",
    "# Example usage:\n",
    "# Assuming you have your model, optimizer, criterion, and data loaders defined\n",
    "# mean and std should be calculated from the training data\n",
    "# train_loader\n"
   ],
   "metadata": {
    "collapsed": false,
    "ExecuteTime": {
     "end_time": "2024-06-28T07:29:30.371266Z",
     "start_time": "2024-06-28T07:29:30.356059Z"
    }
   },
   "id": "27e392794ea3699f",
   "outputs": [],
   "execution_count": 104
  },
  {
   "cell_type": "code",
   "source": [
    "epochs = 100\n",
    "lr = 3e-4\n",
    "\n",
    "criterion = nn.BCELoss()\n",
    "optimizer = optim.Adam(model.parameters(), lr=0.0001, weight_decay=1e-5)\n",
    "\n",
    "best_threshold, best_f1 = train_model(model, optimizer, criterion, dataloader, spectrograms_test, labels_test, epochs=50, thresholds=None, mean=dataset.mean, std=dataset.std)"
   ],
   "metadata": {
    "collapsed": false,
    "ExecuteTime": {
     "end_time": "2024-06-28T08:11:52.723244Z",
     "start_time": "2024-06-28T07:29:31.899959Z"
    }
   },
   "id": "ccaaa0383e69f93b",
   "outputs": [
    {
     "name": "stdout",
     "output_type": "stream",
     "text": [
      "Epoch [1/50], Loss: 7.7661\n",
      "New best F1 score: 0.9823, model saved.\n",
      "TEST best_f1: 0.9823434991974317 with best threshold: 0.15000000000000002\n",
      "Epoch [2/50], Loss: 6.3476\n",
      "TEST best_f1: 0.9823434991974317 with best threshold: 0.15000000000000002\n",
      "Epoch [3/50], Loss: 5.6378\n",
      "New best F1 score: 0.9859, model saved.\n",
      "TEST best_f1: 0.985945945945946 with best threshold: 0.7000000000000002\n",
      "Epoch [4/50], Loss: 5.1058\n",
      "TEST best_f1: 0.985945945945946 with best threshold: 0.7000000000000002\n",
      "Epoch [5/50], Loss: 4.8235\n",
      "TEST best_f1: 0.985945945945946 with best threshold: 0.7000000000000002\n",
      "Epoch [6/50], Loss: 4.4873\n",
      "New best F1 score: 0.9887, model saved.\n",
      "TEST best_f1: 0.9887036040882194 with best threshold: 0.1\n",
      "Epoch [7/50], Loss: 4.0676\n",
      "New best F1 score: 0.9909, model saved.\n",
      "TEST best_f1: 0.9908651262761956 with best threshold: 0.1\n",
      "Epoch [8/50], Loss: 3.9632\n",
      "New best F1 score: 0.9914, model saved.\n",
      "TEST best_f1: 0.991393222162453 with best threshold: 0.1\n",
      "Epoch [9/50], Loss: 3.8576\n",
      "TEST best_f1: 0.991393222162453 with best threshold: 0.1\n",
      "Epoch [10/50], Loss: 3.6163\n",
      "TEST best_f1: 0.991393222162453 with best threshold: 0.1\n",
      "Epoch [11/50], Loss: 3.8358\n",
      "New best F1 score: 0.9919, model saved.\n",
      "TEST best_f1: 0.9919398173025256 with best threshold: 0.15000000000000002\n",
      "Epoch [12/50], Loss: 3.4894\n",
      "TEST best_f1: 0.9919398173025256 with best threshold: 0.15000000000000002\n",
      "Epoch [13/50], Loss: 3.3944\n",
      "TEST best_f1: 0.9919398173025256 with best threshold: 0.15000000000000002\n",
      "Epoch [14/50], Loss: 3.4325\n",
      "TEST best_f1: 0.9919398173025256 with best threshold: 0.15000000000000002\n",
      "Epoch [15/50], Loss: 2.9890\n",
      "TEST best_f1: 0.9919398173025256 with best threshold: 0.15000000000000002\n",
      "Epoch [16/50], Loss: 3.0359\n",
      "TEST best_f1: 0.9919398173025256 with best threshold: 0.15000000000000002\n",
      "Epoch [17/50], Loss: 2.9533\n",
      "TEST best_f1: 0.9919398173025256 with best threshold: 0.15000000000000002\n",
      "Epoch [18/50], Loss: 3.0286\n",
      "TEST best_f1: 0.9919398173025256 with best threshold: 0.15000000000000002\n",
      "Epoch [19/50], Loss: 2.9292\n",
      "TEST best_f1: 0.9919398173025256 with best threshold: 0.15000000000000002\n",
      "Epoch [20/50], Loss: 2.9278\n",
      "TEST best_f1: 0.9919398173025256 with best threshold: 0.15000000000000002\n",
      "Epoch [21/50], Loss: 2.7162\n",
      "TEST best_f1: 0.9919398173025256 with best threshold: 0.15000000000000002\n",
      "Epoch [22/50], Loss: 2.7758\n",
      "TEST best_f1: 0.9919398173025256 with best threshold: 0.15000000000000002\n",
      "Epoch [23/50], Loss: 2.7458\n",
      "TEST best_f1: 0.9919398173025256 with best threshold: 0.15000000000000002\n",
      "Epoch [24/50], Loss: 2.5603\n",
      "TEST best_f1: 0.9919398173025256 with best threshold: 0.15000000000000002\n",
      "Epoch [25/50], Loss: 2.4540\n",
      "New best F1 score: 0.9927, model saved.\n",
      "TEST best_f1: 0.992728252087261 with best threshold: 0.15000000000000002\n",
      "Epoch [26/50], Loss: 2.4481\n",
      "TEST best_f1: 0.992728252087261 with best threshold: 0.15000000000000002\n",
      "Epoch [27/50], Loss: 2.2987\n",
      "TEST best_f1: 0.992728252087261 with best threshold: 0.15000000000000002\n",
      "Epoch [28/50], Loss: 2.2908\n",
      "TEST best_f1: 0.992728252087261 with best threshold: 0.15000000000000002\n",
      "Epoch [29/50], Loss: 2.2516\n",
      "TEST best_f1: 0.992728252087261 with best threshold: 0.15000000000000002\n",
      "Epoch [30/50], Loss: 2.2144\n",
      "TEST best_f1: 0.992728252087261 with best threshold: 0.15000000000000002\n",
      "Epoch [31/50], Loss: 2.1134\n",
      "TEST best_f1: 0.992728252087261 with best threshold: 0.15000000000000002\n",
      "Epoch [32/50], Loss: 2.2497\n",
      "TEST best_f1: 0.992728252087261 with best threshold: 0.15000000000000002\n",
      "Epoch [33/50], Loss: 2.0225\n",
      "New best F1 score: 0.9933, model saved.\n",
      "TEST best_f1: 0.9932741458165186 with best threshold: 0.15000000000000002\n",
      "Epoch [34/50], Loss: 1.9540\n",
      "TEST best_f1: 0.9932741458165186 with best threshold: 0.15000000000000002\n",
      "Epoch [35/50], Loss: 2.1308\n",
      "New best F1 score: 0.9938, model saved.\n",
      "TEST best_f1: 0.99382218640881 with best threshold: 0.20000000000000004\n",
      "Epoch [36/50], Loss: 2.2140\n",
      "TEST best_f1: 0.99382218640881 with best threshold: 0.20000000000000004\n",
      "Epoch [37/50], Loss: 1.9979\n",
      "TEST best_f1: 0.99382218640881 with best threshold: 0.20000000000000004\n",
      "Epoch [38/50], Loss: 1.9563\n",
      "TEST best_f1: 0.99382218640881 with best threshold: 0.20000000000000004\n",
      "Epoch [39/50], Loss: 1.7943\n",
      "TEST best_f1: 0.99382218640881 with best threshold: 0.20000000000000004\n",
      "Epoch [40/50], Loss: 2.0416\n",
      "TEST best_f1: 0.99382218640881 with best threshold: 0.20000000000000004\n",
      "Epoch [41/50], Loss: 1.9131\n",
      "TEST best_f1: 0.99382218640881 with best threshold: 0.20000000000000004\n",
      "Epoch [42/50], Loss: 1.8870\n",
      "TEST best_f1: 0.99382218640881 with best threshold: 0.20000000000000004\n",
      "Epoch [43/50], Loss: 1.5991\n",
      "TEST best_f1: 0.99382218640881 with best threshold: 0.20000000000000004\n",
      "Epoch [44/50], Loss: 1.6175\n",
      "New best F1 score: 0.9941, model saved.\n",
      "TEST best_f1: 0.9940764674205709 with best threshold: 0.1\n",
      "Epoch [45/50], Loss: 1.5991\n",
      "TEST best_f1: 0.9940764674205709 with best threshold: 0.1\n",
      "Epoch [46/50], Loss: 1.6911\n",
      "TEST best_f1: 0.9940764674205709 with best threshold: 0.1\n",
      "Epoch [47/50], Loss: 2.0122\n",
      "TEST best_f1: 0.9940764674205709 with best threshold: 0.1\n",
      "Epoch [48/50], Loss: 1.6846\n",
      "New best F1 score: 0.9946, model saved.\n",
      "TEST best_f1: 0.9946149703823373 with best threshold: 0.6500000000000001\n",
      "Epoch [49/50], Loss: 1.6255\n",
      "TEST best_f1: 0.9946149703823373 with best threshold: 0.6500000000000001\n",
      "Epoch [50/50], Loss: 1.6556\n",
      "TEST best_f1: 0.9946149703823373 with best threshold: 0.6500000000000001\n"
     ]
    },
    {
     "data": {
      "text/plain": [
       "<Figure size 640x480 with 2 Axes>"
      ],
      "image/png": "[encoded data removed]"
     },
     "metadata": {},
     "output_type": "display_data"
    }
   ],
   "execution_count": 105
  },
  {
   "metadata": {
    "ExecuteTime": {
     "end_time": "2024-06-28T08:40:46.222135Z",
     "start_time": "2024-06-28T08:40:46.212373Z"
    }
   },
   "cell_type": "code",
   "source": [
    "def manual_evaluate_test(model, feature, threshold, frame_size=15, mean=None, std=None):\n",
    "    if mean is None or std is None:\n",
    "        raise ValueError(\"Mean and std must be provided for normalization.\")\n",
    "\n",
    "    mean = mean.to(device)\n",
    "    std = std.to(device)\n",
    "\n",
    "    model = model.to(device)\n",
    "    model.eval()\n",
    "\n",
    "    with th.no_grad():\n",
    "        predictions = []\n",
    "\n",
    "        # Prepare features\n",
    "        num_frames = feature.shape[2]\n",
    "        feature = feature.to(device)\n",
    "        feature = (feature - mean) / std  # Normalize the feature\n",
    "\n",
    "        # Loop through non-overlapping frames\n",
    "        for j in range(0, num_frames - frame_size + 1, frame_size):\n",
    "            start = j\n",
    "            end = j + frame_size\n",
    "\n",
    "            input_frame = feature[:, :, start:end].unsqueeze(0).float()  # Add batch dimension\n",
    "            output = model(input_frame).squeeze().item()\n",
    "            predictions.append(output)\n",
    "\n",
    "        res = []\n",
    "        for idx in range(len(predictions)):\n",
    "            if predictions[idx] >= threshold:\n",
    "                time_in_seconds = idx * frame_size * utils.HOP_LENGTH / utils.SAMPLING_RATE\n",
    "                minutes = int(time_in_seconds // 60)\n",
    "                seconds = time_in_seconds % 60\n",
    "                res.append((minutes, seconds))\n",
    "\n",
    "    return res"
   ],
   "id": "985ab6805de740ae",
   "outputs": [],
   "execution_count": 106
  },
  {
   "metadata": {
    "ExecuteTime": {
     "end_time": "2024-06-28T08:40:47.195878Z",
     "start_time": "2024-06-28T08:40:47.190321Z"
    }
   },
   "cell_type": "code",
   "source": "best_threshold",
   "id": "a778454f3ee73858",
   "outputs": [
    {
     "data": {
      "text/plain": [
       "0.6500000000000001"
      ]
     },
     "execution_count": 107,
     "metadata": {},
     "output_type": "execute_result"
    }
   ],
   "execution_count": 107
  },
  {
   "metadata": {
    "ExecuteTime": {
     "end_time": "2024-06-28T09:12:49.568670Z",
     "start_time": "2024-06-28T09:12:48.651748Z"
    }
   },
   "cell_type": "code",
   "source": "spectrograms, sample_rates = utils.preprocess_audio(['/Users/borosabel/Downloads/50 Cent - Heat (Official Music Video).mp3'])",
   "id": "492f665d8ff02918",
   "outputs": [
    {
     "name": "stderr",
     "output_type": "stream",
     "text": [
      "100%|██████████| 1/1 [00:00<00:00,  1.10it/s]\n"
     ]
    }
   ],
   "execution_count": 146
  },
  {
   "metadata": {
    "ExecuteTime": {
     "end_time": "2024-06-28T09:12:50.101653Z",
     "start_time": "2024-06-28T09:12:50.097346Z"
    }
   },
   "cell_type": "code",
   "source": "spectrograms[0].shape",
   "id": "824786626cc88f0",
   "outputs": [
    {
     "data": {
      "text/plain": [
       "torch.Size([3, 80, 22537])"
      ]
     },
     "execution_count": 147,
     "metadata": {},
     "output_type": "execute_result"
    }
   ],
   "execution_count": 147
  },
  {
   "metadata": {
    "ExecuteTime": {
     "end_time": "2024-06-28T09:12:50.624819Z",
     "start_time": "2024-06-28T09:12:50.622959Z"
    }
   },
   "cell_type": "code",
   "source": [
    "# model.load_state_dict(th.load('./best_model.pth'))\n",
    "# model.eval()"
   ],
   "id": "899d32e59ab2d09b",
   "outputs": [],
   "execution_count": 148
  },
  {
   "metadata": {
    "ExecuteTime": {
     "end_time": "2024-06-28T09:12:50.839683Z",
     "start_time": "2024-06-28T09:12:50.835734Z"
    }
   },
   "cell_type": "code",
   "source": [
    "# Load mean and std from file\n",
    "with open('./mean_std.pkl', 'rb') as f:\n",
    "    data = pickle.load(f)\n",
    "    mean = data['mean']\n",
    "    std = data['std']"
   ],
   "id": "58e9ed30cdd0fc7f",
   "outputs": [],
   "execution_count": 149
  },
  {
   "metadata": {
    "ExecuteTime": {
     "end_time": "2024-06-28T09:12:51.356661Z",
     "start_time": "2024-06-28T09:12:51.059094Z"
    }
   },
   "cell_type": "code",
   "source": [
    "for spectogram in spectrograms:\n",
    "    predicted_times = manual_evaluate_test(model, spectogram, threshold=best_threshold, mean=mean, std=std)"
   ],
   "id": "c16622cf4a6453ec",
   "outputs": [],
   "execution_count": 150
  },
  {
   "metadata": {
    "ExecuteTime": {
     "end_time": "2024-06-28T09:12:51.810682Z",
     "start_time": "2024-06-28T09:12:51.807939Z"
    }
   },
   "cell_type": "code",
   "source": [
    "for time in predicted_times:\n",
    "    print(f\"Prediction at {time[0]} minutes and {time[1]} seconds\")"
   ],
   "id": "1fb007081e53954",
   "outputs": [
    {
     "name": "stdout",
     "output_type": "stream",
     "text": [
      "Prediction at 0 minutes and 31.172789115646257 seconds\n",
      "Prediction at 0 minutes and 33.262585034013604 seconds\n",
      "Prediction at 1 minutes and 21.15374149659864 seconds\n",
      "Prediction at 1 minutes and 36.82721088435375 seconds\n",
      "Prediction at 2 minutes and 53.278911564625844 seconds\n",
      "Prediction at 3 minutes and 26.889795918367355 seconds\n"
     ]
    }
   ],
   "execution_count": 151
  },
  {
   "metadata": {
    "ExecuteTime": {
     "end_time": "2024-06-28T09:03:15.990114Z",
     "start_time": "2024-06-28T09:03:15.987172Z"
    }
   },
   "cell_type": "code",
   "source": "",
   "id": "62b9226f9fa67ce0",
   "outputs": [
    {
     "data": {
      "text/plain": [
       "0.6500000000000001"
      ]
     },
     "execution_count": 127,
     "metadata": {},
     "output_type": "execute_result"
    }
   ],
   "execution_count": 127
  },
  {
   "metadata": {},
   "cell_type": "code",
   "outputs": [],
   "execution_count": null,
   "source": "",
   "id": "dfec6e23c72a49c5"
  }
 ],
 "metadata": {
  "kernelspec": {
   "display_name": "Python 3",
   "language": "python",
   "name": "python3"
  },
  "language_info": {
   "codemirror_mode": {
    "name": "ipython",
    "version": 2
   },
   "file_extension": ".py",
   "mimetype": "text/x-python",
   "name": "python",
   "nbconvert_exporter": "python",
   "pygments_lexer": "ipython2",
   "version": "2.7.6"
  }
 },
 "nbformat": 4,
 "nbformat_minor": 5
}
