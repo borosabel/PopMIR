{
 "cells": [
  {
   "cell_type": "code",
   "execution_count": 33,
   "source": [
    "import numpy as np\n",
    "\n",
    "# Create monkey patches\n",
    "np.float = float\n",
    "np.int = int\n",
    "np.object = object\n",
    "np.bool = bool"
   ],
   "metadata": {
    "collapsed": false,
    "ExecuteTime": {
     "end_time": "2024-05-05T11:38:38.756825Z",
     "start_time": "2024-05-05T11:38:38.750788Z"
    }
   },
   "id": "a1c4074ac2a86380",
   "outputs": []
  },
  {
   "cell_type": "code",
   "execution_count": 53,
   "id": "initial_id",
   "metadata": {
    "collapsed": true,
    "ExecuteTime": {
     "end_time": "2024-05-05T11:50:31.283464Z",
     "start_time": "2024-05-05T11:50:31.264537Z"
    }
   },
   "source": [
    "import librosa.display\n",
    "import utility_functions as utils\n",
    "import importlib\n",
    "from scipy.spatial.distance import jensenshannon\n",
    "import pandas as pd\n",
    "import numpy as np\n",
    "import madmom\n",
    "# Import the necessary processors\n",
    "from madmom.features.tempo import TempoEstimationProcessor\n",
    "from madmom.features.beats import RNNBeatProcessor\n",
    "from madmom.processors import IOProcessor\n",
    "from madmom.features.beats import RNNBeatProcessor, DBNBeatTrackingProcessor\n",
    "from madmom.processors import SequentialProcessor\n",
    "import matplotlib.pylab as plt\n",
    "from glob import glob\n",
    "import librosa\n",
    "from scipy.stats import ttest_ind\n",
    "import librosa.display\n",
    "import seaborn as sns\n",
    "import pandas as pd\n",
    "import utility_functions as utils\n",
    "import importlib\n",
    "from scipy.stats import norm\n",
    "import numpy, scipy, matplotlib.pyplot as plt, IPython.display as ipd\n",
    "from IPython.display import Audio\n",
    "\n",
    "importlib.reload(utils)\n",
    "\n",
    "data = '/Users/borosabel/Documents/Uni/Thesis/PopMIR/Data/Audio/test.json'"
   ],
   "outputs": []
  },
  {
   "cell_type": "code",
   "execution_count": 35,
   "source": [
    "data_audio = utils.get_all_artist_audio(data)"
   ],
   "metadata": {
    "collapsed": false,
    "ExecuteTime": {
     "end_time": "2024-05-05T11:44:35.428031Z",
     "start_time": "2024-05-05T11:38:40.431783Z"
    }
   },
   "id": "d4bc17c74e987399",
   "outputs": []
  },
  {
   "cell_type": "code",
   "execution_count": 36,
   "source": [
    "# Here I am just loading the saved progress because calculating everything would take like 2 days but above you can see the utility functions I used to calculate the features.\n",
    "df = pd.read_excel('/Users/borosabel/Documents/Uni/Thesis/PopMIR/Code/Audio/output_w_tempos_and_local_tempos.xlsx', engine='openpyxl')"
   ],
   "metadata": {
    "collapsed": false,
    "ExecuteTime": {
     "end_time": "2024-05-05T11:45:22.492462Z",
     "start_time": "2024-05-05T11:45:22.298157Z"
    }
   },
   "id": "1c52420137d3f395",
   "outputs": []
  },
  {
   "cell_type": "code",
   "execution_count": 43,
   "source": [
    "df.rename(columns={'FilePath': 'Path', 'FileName': 'Song', 'Release_Year': 'Release Year'}, inplace=True)\n",
    "df['Release Year'] = df['Release Year'].astype(int)"
   ],
   "metadata": {
    "collapsed": false,
    "ExecuteTime": {
     "end_time": "2024-05-05T11:48:01.449922Z",
     "start_time": "2024-05-05T11:48:01.443056Z"
    }
   },
   "id": "ae4277f4f262d24f",
   "outputs": []
  },
  {
   "cell_type": "code",
   "execution_count": 44,
   "source": [
    "df"
   ],
   "metadata": {
    "collapsed": false,
    "ExecuteTime": {
     "end_time": "2024-05-05T11:48:01.830018Z",
     "start_time": "2024-05-05T11:48:01.819156Z"
    }
   },
   "id": "afb0a3890d9d451f",
   "outputs": []
  },
  {
   "cell_type": "code",
   "execution_count": 45,
   "source": [
    "data_audio['Release Year'] = data_audio['Release Year'].astype(int)"
   ],
   "metadata": {
    "collapsed": false,
    "ExecuteTime": {
     "end_time": "2024-05-05T11:48:19.461834Z",
     "start_time": "2024-05-05T11:48:19.453190Z"
    }
   },
   "id": "ce5bb95b12f5e0fe",
   "outputs": []
  },
  {
   "cell_type": "code",
   "execution_count": 46,
   "source": [
    "data_audio"
   ],
   "metadata": {
    "collapsed": false,
    "ExecuteTime": {
     "end_time": "2024-05-05T11:48:24.255061Z",
     "start_time": "2024-05-05T11:48:24.248362Z"
    }
   },
   "id": "e3bfbf3d98d4b4c",
   "outputs": []
  },
  {
   "cell_type": "code",
   "execution_count": 92,
   "source": [
    "result = pd.merge(df, data_audio, on=['Path', 'Song'], how='right')"
   ],
   "metadata": {
    "collapsed": false,
    "ExecuteTime": {
     "end_time": "2024-05-05T12:08:52.736748Z",
     "start_time": "2024-05-05T12:08:52.729771Z"
    }
   },
   "id": "f3d25a14973fc770",
   "outputs": []
  },
  {
   "cell_type": "code",
   "execution_count": 93,
   "source": [
    "result = result[['Path', 'Song', 'Tempo1', 'Tempo2']]"
   ],
   "metadata": {
    "collapsed": false,
    "ExecuteTime": {
     "end_time": "2024-05-05T12:08:55.816532Z",
     "start_time": "2024-05-05T12:08:55.808281Z"
    }
   },
   "id": "7bfc12112e187b66",
   "outputs": []
  },
  {
   "cell_type": "code",
   "execution_count": 96,
   "source": [
    "def process_audio(audio_file):\n",
    "    # Processing pipeline: from raw audio to beat activations to tempo estimation\n",
    "    pipeline = SequentialProcessor([\n",
    "        RNNBeatProcessor(),\n",
    "        TempoEstimationProcessor(fps=100)\n",
    "    ])\n",
    "    tempo_histogram = pipeline(audio_file)\n",
    "    sorted_tempo_histogram = tempo_histogram[tempo_histogram[:, 1].argsort()[::-1]]\n",
    "    top_two_tempos = sorted_tempo_histogram[:2, :]\n",
    "    return top_two_tempos"
   ],
   "metadata": {
    "collapsed": false,
    "ExecuteTime": {
     "end_time": "2024-05-05T12:09:01.688181Z",
     "start_time": "2024-05-05T12:09:01.676283Z"
    }
   },
   "id": "850ef57d4efafa3f",
   "outputs": []
  },
  {
   "cell_type": "code",
   "execution_count": 97,
   "source": [
    "from tqdm import tqdm  # Import tqdm for the progress bar functionality\n",
    "\n",
    "# Assuming 'result' is your DataFrame\n",
    "# Filtering the DataFrame to find rows where both 'Tempo1' and 'Tempo2' are NaN\n",
    "nan_tempo_rows = result[result['Tempo1'].isna()]\n",
    "\n",
    "# Initialize a tqdm progress bar over the DataFrame iterrows()\n",
    "for index, row in tqdm(nan_tempo_rows.iterrows(), total=nan_tempo_rows.shape[0], desc='Processing Audio'):\n",
    "    top_two_tempos = process_audio(row['Path'])  # Call your audio processing function\n",
    "    # Update the DataFrame with new tempo values, assuming top_two_tempos returns an array with tempos\n",
    "    result.at[index, 'Tempo1'] = top_two_tempos[0][0]\n",
    "    result.at[index, 'Tempo2'] = top_two_tempos[0][1]"
   ],
   "metadata": {
    "collapsed": false,
    "ExecuteTime": {
     "end_time": "2024-05-05T16:28:33.007258Z",
     "start_time": "2024-05-05T12:09:09.564004Z"
    }
   },
   "id": "79e9515f89218e80",
   "outputs": []
  },
  {
   "cell_type": "code",
   "execution_count": 99,
   "source": [
    "result"
   ],
   "metadata": {
    "collapsed": false,
    "ExecuteTime": {
     "end_time": "2024-05-05T20:14:00.069700Z",
     "start_time": "2024-05-05T20:14:00.052656Z"
    }
   },
   "id": "cfeab176b5f3fbf3",
   "outputs": []
  },
  {
   "cell_type": "code",
   "execution_count": 156,
   "source": [
    "data_audio = utils.get_all_artist_audio(data)"
   ],
   "metadata": {
    "collapsed": false,
    "ExecuteTime": {
     "end_time": "2024-05-05T20:56:01.142261Z",
     "start_time": "2024-05-05T20:50:48.594808Z"
    }
   },
   "id": "a3619d41889f3c8f",
   "outputs": []
  },
  {
   "cell_type": "code",
   "execution_count": 157,
   "source": [
    "data_audio"
   ],
   "metadata": {
    "collapsed": false,
    "ExecuteTime": {
     "end_time": "2024-05-05T20:56:58.912733Z",
     "start_time": "2024-05-05T20:56:58.897504Z"
    }
   },
   "id": "5dc2c54fc63b0aba",
   "outputs": []
  },
  {
   "cell_type": "code",
   "execution_count": 158,
   "source": [
    "result_final = pd.merge(result, data_audio, on=['Path', 'Song'], how='right')"
   ],
   "metadata": {
    "collapsed": false,
    "ExecuteTime": {
     "end_time": "2024-05-05T20:56:59.857278Z",
     "start_time": "2024-05-05T20:56:59.846336Z"
    }
   },
   "id": "e37d84592f429979",
   "outputs": []
  },
  {
   "cell_type": "code",
   "execution_count": 159,
   "source": [
    "result_final = result_final[['Artist', 'Album', 'Song', 'Coast', 'Release Year', 'Tempo1', 'Tempo2', 'Duration (s)', 'Sample Rate (Hz)', 'Path']]"
   ],
   "metadata": {
    "collapsed": false,
    "ExecuteTime": {
     "end_time": "2024-05-05T20:57:00.274630Z",
     "start_time": "2024-05-05T20:57:00.262770Z"
    }
   },
   "id": "a520c58e275be591",
   "outputs": []
  },
  {
   "cell_type": "code",
   "execution_count": 160,
   "source": [
    "result_final"
   ],
   "metadata": {
    "collapsed": false,
    "ExecuteTime": {
     "end_time": "2024-05-05T20:57:02.107670Z",
     "start_time": "2024-05-05T20:57:02.101149Z"
    }
   },
   "id": "ff97944a050ba25a",
   "outputs": []
  },
  {
   "cell_type": "code",
   "execution_count": 161,
   "source": [
    "lyricses = []\n",
    "for index, item in result_final.iterrows():\n",
    "    lyrics_path = item['Path'].replace('mp3', 'txt')\n",
    "    try:\n",
    "        with open(lyrics_path, 'r', encoding='utf-8') as f:\n",
    "            content = f.read()\n",
    "            lyricses.append(content)\n",
    "    except FileNotFoundError:\n",
    "        print(lyrics_path)"
   ],
   "metadata": {
    "collapsed": false,
    "ExecuteTime": {
     "end_time": "2024-05-05T20:57:04.470069Z",
     "start_time": "2024-05-05T20:57:04.253354Z"
    }
   },
   "id": "310651056e74e123",
   "outputs": []
  },
  {
   "cell_type": "code",
   "execution_count": 163,
   "source": [
    "result_final['Lyrics'] = lyricses"
   ],
   "metadata": {
    "collapsed": false,
    "ExecuteTime": {
     "end_time": "2024-05-05T20:57:18.407754Z",
     "start_time": "2024-05-05T20:57:18.392999Z"
    }
   },
   "id": "7213de1117d1822",
   "outputs": []
  },
  {
   "cell_type": "code",
   "execution_count": 164,
   "source": [
    "result_final"
   ],
   "metadata": {
    "collapsed": false,
    "ExecuteTime": {
     "end_time": "2024-05-05T20:57:20.406408Z",
     "start_time": "2024-05-05T20:57:20.387662Z"
    }
   },
   "id": "4effd385ac3f6bd4",
   "outputs": []
  },
  {
   "cell_type": "code",
   "execution_count": 165,
   "source": [
    "result_final[result_final['Tempo1'].isna()]"
   ],
   "metadata": {
    "collapsed": false,
    "ExecuteTime": {
     "end_time": "2024-05-05T20:57:41.071857Z",
     "start_time": "2024-05-05T20:57:41.026477Z"
    }
   },
   "id": "36666b1dd80bd49d",
   "outputs": []
  },
  {
   "cell_type": "code",
   "execution_count": 166,
   "source": [
    "a = '/Users/borosabel/Documents/Uni/Thesis/PopMIR/Data/Audio/east_coast/Public Enemy/Yo Bum Rush the Show/MPE.mp3'"
   ],
   "metadata": {
    "collapsed": false,
    "ExecuteTime": {
     "end_time": "2024-05-05T20:57:51.224299Z",
     "start_time": "2024-05-05T20:57:51.210346Z"
    }
   },
   "id": "d21901a46751f4b6",
   "outputs": []
  },
  {
   "cell_type": "code",
   "execution_count": 167,
   "source": [
    "t1, t2 = process_audio(a)"
   ],
   "metadata": {
    "collapsed": false,
    "ExecuteTime": {
     "end_time": "2024-05-05T20:58:27.471571Z",
     "start_time": "2024-05-05T20:58:09.366558Z"
    }
   },
   "id": "b6cb8bf1961d68f5",
   "outputs": []
  },
  {
   "cell_type": "code",
   "execution_count": 169,
   "source": [
    "result_final.loc[442, 'Tempo1'] = t1[0]"
   ],
   "metadata": {
    "collapsed": false,
    "ExecuteTime": {
     "end_time": "2024-05-05T20:58:37.772507Z",
     "start_time": "2024-05-05T20:58:37.762727Z"
    }
   },
   "id": "36d6298e28b901fa",
   "outputs": []
  },
  {
   "cell_type": "code",
   "execution_count": 170,
   "source": [
    "result_final.loc[442, 'Tempo2'] = t2[0]"
   ],
   "metadata": {
    "collapsed": false,
    "ExecuteTime": {
     "end_time": "2024-05-05T20:58:42.714749Z",
     "start_time": "2024-05-05T20:58:42.697147Z"
    }
   },
   "id": "1a033540f24dec57",
   "outputs": []
  },
  {
   "cell_type": "code",
   "execution_count": 171,
   "source": [
    "result_final"
   ],
   "metadata": {
    "collapsed": false,
    "ExecuteTime": {
     "end_time": "2024-05-05T20:58:46.489298Z",
     "start_time": "2024-05-05T20:58:46.469398Z"
    }
   },
   "id": "9a57fb582a3674cf",
   "outputs": []
  },
  {
   "cell_type": "code",
   "execution_count": 172,
   "source": [
    "result_final.to_excel(\"baseline_data.xlsx\", sheet_name=\"Sheet1\", index=False)"
   ],
   "metadata": {
    "collapsed": false,
    "ExecuteTime": {
     "end_time": "2024-05-05T21:01:02.179068Z",
     "start_time": "2024-05-05T21:01:01.782032Z"
    }
   },
   "id": "e37b346e5e363365",
   "outputs": []
  },
  {
   "cell_type": "code",
   "execution_count": 173,
   "source": [
    "result_final['Sample Rate (Hz)'].unique()"
   ],
   "metadata": {
    "collapsed": false,
    "ExecuteTime": {
     "end_time": "2024-05-05T21:29:45.650062Z",
     "start_time": "2024-05-05T21:29:45.639266Z"
    }
   },
   "id": "5fee49e5966182ca",
   "outputs": []
  },
  {
   "cell_type": "code",
   "execution_count": null,
   "source": [],
   "metadata": {
    "collapsed": false
   },
   "id": "2f5b0f3e9186ceb2",
   "outputs": []
  }
 ],
 "metadata": {
  "kernelspec": {
   "display_name": "Python 3",
   "language": "python",
   "name": "python3"
  },
  "language_info": {
   "codemirror_mode": {
    "name": "ipython",
    "version": 2
   },
   "file_extension": ".py",
   "mimetype": "text/x-python",
   "name": "python",
   "nbconvert_exporter": "python",
   "pygments_lexer": "ipython2",
   "version": "2.7.6"
  }
 },
 "nbformat": 4,
 "nbformat_minor": 5
}
