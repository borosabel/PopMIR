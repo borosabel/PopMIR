{
 "cells": [
  {
   "cell_type": "code",
   "execution_count": 33,
   "outputs": [],
   "source": [
    "import numpy as np\n",
    "\n",
    "# Create monkey patches\n",
    "np.float = float\n",
    "np.int = int\n",
    "np.object = object\n",
    "np.bool = bool"
   ],
   "metadata": {
    "collapsed": false,
    "ExecuteTime": {
     "end_time": "2024-05-05T11:38:38.756825Z",
     "start_time": "2024-05-05T11:38:38.750788Z"
    }
   },
   "id": "a1c4074ac2a86380"
  },
  {
   "cell_type": "code",
   "execution_count": 53,
   "id": "initial_id",
   "metadata": {
    "collapsed": true,
    "ExecuteTime": {
     "end_time": "2024-05-05T11:50:31.283464Z",
     "start_time": "2024-05-05T11:50:31.264537Z"
    }
   },
   "outputs": [],
   "source": [
    "import librosa.display\n",
    "import utility_functions as utils\n",
    "import importlib\n",
    "from scipy.spatial.distance import jensenshannon\n",
    "import pandas as pd\n",
    "import numpy as np\n",
    "import madmom\n",
    "# Import the necessary processors\n",
    "from madmom.features.tempo import TempoEstimationProcessor\n",
    "from madmom.features.beats import RNNBeatProcessor\n",
    "from madmom.processors import IOProcessor\n",
    "from madmom.features.beats import RNNBeatProcessor, DBNBeatTrackingProcessor\n",
    "from madmom.processors import SequentialProcessor\n",
    "import matplotlib.pylab as plt\n",
    "from glob import glob\n",
    "import librosa\n",
    "from scipy.stats import ttest_ind\n",
    "import librosa.display\n",
    "import seaborn as sns\n",
    "import pandas as pd\n",
    "import utility_functions as utils\n",
    "import importlib\n",
    "from scipy.stats import norm\n",
    "import numpy, scipy, matplotlib.pyplot as plt, IPython.display as ipd\n",
    "from IPython.display import Audio\n",
    "\n",
    "importlib.reload(utils)\n",
    "\n",
    "data = '/Users/borosabel/Documents/Uni/Thesis/PopMIR/Data/Audio/test.json'"
   ]
  },
  {
   "cell_type": "code",
   "execution_count": 35,
   "outputs": [],
   "source": [
    "data_audio = utils.get_all_artist_audio(data)"
   ],
   "metadata": {
    "collapsed": false,
    "ExecuteTime": {
     "end_time": "2024-05-05T11:44:35.428031Z",
     "start_time": "2024-05-05T11:38:40.431783Z"
    }
   },
   "id": "d4bc17c74e987399"
  },
  {
   "cell_type": "code",
   "execution_count": 36,
   "outputs": [],
   "source": [
    "# Here I am just loading the saved progress because calculating everything would take like 2 days but above you can see the utility functions I used to calculate the features.\n",
    "df = pd.read_excel('/Users/borosabel/Documents/Uni/Thesis/PopMIR/Code/Audio/output_w_tempos_and_local_tempos.xlsx', engine='openpyxl')"
   ],
   "metadata": {
    "collapsed": false,
    "ExecuteTime": {
     "end_time": "2024-05-05T11:45:22.492462Z",
     "start_time": "2024-05-05T11:45:22.298157Z"
    }
   },
   "id": "1c52420137d3f395"
  },
  {
   "cell_type": "code",
   "execution_count": 43,
   "outputs": [],
   "source": [
    "df.rename(columns={'FilePath': 'Path', 'FileName': 'Song', 'Release_Year': 'Release Year'}, inplace=True)\n",
    "df['Release Year'] = df['Release Year'].astype(int)"
   ],
   "metadata": {
    "collapsed": false,
    "ExecuteTime": {
     "end_time": "2024-05-05T11:48:01.449922Z",
     "start_time": "2024-05-05T11:48:01.443056Z"
    }
   },
   "id": "ae4277f4f262d24f"
  },
  {
   "cell_type": "code",
   "execution_count": 44,
   "outputs": [
    {
     "data": {
      "text/plain": "                                                   Path  \\\n0     /Users/borosabel/Documents/Uni/Thesis/PopMIR/D...   \n1     /Users/borosabel/Documents/Uni/Thesis/PopMIR/D...   \n2     /Users/borosabel/Documents/Uni/Thesis/PopMIR/D...   \n3     /Users/borosabel/Documents/Uni/Thesis/PopMIR/D...   \n4     /Users/borosabel/Documents/Uni/Thesis/PopMIR/D...   \n...                                                 ...   \n1044  /Users/borosabel/Documents/Uni/Thesis/PopMIR/D...   \n1045  /Users/borosabel/Documents/Uni/Thesis/PopMIR/D...   \n1046  /Users/borosabel/Documents/Uni/Thesis/PopMIR/D...   \n1047  /Users/borosabel/Documents/Uni/Thesis/PopMIR/D...   \n1048  /Users/borosabel/Documents/Uni/Thesis/PopMIR/D...   \n\n                                                   Song  Duration (s)  \\\n0                                        8 Iz Enuff.mp3    298.840000   \n1                                      Da Graveyard.mp3    323.760000   \n2                             I Don't Understand It.mp3    260.226667   \n3                                 No Endz, No Skinz.mp3    208.733333   \n4                                               MVP.mp3    218.866667   \n...                                                 ...           ...   \n1044  Dr. Dre - Stranded On Death Row (feat. Bushwic...    287.335333   \n1045  Dr. Dre - Nuthin' but a ＂G＂ Thang (feat. Snoop...    238.677917   \n1046                 Dr. Dre - The $20 Sack Pyramid.mp3    173.302146   \n1047  Dr. Dre - The Doctor's Office (Skit) (feat. Je...     64.005813   \n1048  Dr. Dre - The Roach (ft. Ruben Cruz, Daz Dilli...    277.072125   \n\n      Sample Rate (Hz)       Coast      Tempo1     Tempo2  \\\n0                48000  east_coast   96.774194  48.000000   \n1                48000  east_coast   93.750000  46.511628   \n2                48000  east_coast   93.750000  47.244094   \n3                48000  east_coast  100.000000  50.420168   \n4                48000  east_coast   86.956522  43.478261   \n...                ...         ...         ...        ...   \n1044             48000  west_coast   90.909091  45.801527   \n1045             48000  west_coast   95.238095  47.244094   \n1046             48000  west_coast   88.235294  44.444444   \n1047             48000  west_coast  153.846154  75.949367   \n1048             48000  west_coast   89.552239  44.117647   \n\n                                                 Energy  \\\n0     [2.83611564e-12 8.44120896e-06 3.05945038e-02 ...   \n1     [4.19618698e-16 2.46109548e-05 1.51773983e+00 ...   \n2     [1.95996759e-07 1.04421464e-05 6.28235600e+00 ...   \n3     [1.10115048e-13 1.51645769e-06 1.48360256e-05 ...   \n4     [1.13744059e-14 1.56197807e-05 4.88470117e-01 ...   \n...                                                 ...   \n1044  [5.50258228e-05 7.65438136e-05 8.96513493e-05 ...   \n1045  [1.46632022e+01 2.31116456e+01 2.80170195e+01 ...   \n1046  [9.04275746e-01 1.35645008e+00 1.45811050e+00 ...   \n1047  [9.69122675e-05 1.65903563e-04 2.26628188e-04 ...   \n1048  [6.58959944e-05 9.18917162e-05 1.06305811e-04 ...   \n\n                                      Spectral Centroid  \\\n0     [   0.         5720.41652667 4653.92652369 ......   \n1     [   0.         5581.59937729 5299.67443541 ......   \n2     [4201.80888552 4710.90931902 5145.42186013 ......   \n3     [   0.         6512.52478217 4965.18006511 ......   \n4     [   0.         5282.25973485 4470.70845932 ......   \n...                                                 ...   \n1044  [5256.72368159 5186.02306958 2075.71661933 ......   \n1045  [5156.91532791 4546.06915737 2341.52560784 ......   \n1046  [4849.00084212 2765.61969196 3362.34043196 ......   \n1047  [5918.01709252 5863.26473045 3110.05546721 ......   \n1048  [5150.84902265 4920.20925227 2506.25012839 ......   \n\n                                       Spectral Rolloff  \\\n0     [   0.         9463.84277344 8225.68359375 ......   \n1     [   0.         8871.6796875  8990.11230469 ......   \n2     [8494.84863281 8828.61328125 8947.04589844 ......   \n3     [   0.         9829.90722656 8397.94921875 ......   \n4     [   0.         8537.91503906 8171.85058594 ......   \n...                                                 ...   \n1044  [9011.64550781 8850.14648438 5749.36523438 ......   \n1045  [9571.50878906 8204.15039062 5361.76757812 ......   \n1046  [8828.61328125 7192.08984375 5824.73144531 ......   \n1047  [9463.84277344 9248.51074219 7816.55273438 ......   \n1048  [8720.94726562 8710.18066406 6912.15820312 ......   \n\n                                     Spectral Bandwidth  Release Year  \\\n0     [   0.         3127.49309623 3015.70241681 ......          1995   \n1     [   0.         3101.9549724  3021.8278237  ......          1995   \n2     [3351.40752362 3297.55375379 3166.14191736 ......          1995   \n3     [   0.         3211.25127137 3290.84736116 ......          1995   \n4     [   0.         3037.57586169 3185.42508717 ......          1995   \n...                                                 ...           ...   \n1044  [3081.17114124 3103.73938201 2874.89764785 ......          1992   \n1045  [3265.29656454 3080.35198304 2505.12598391 ......          1992   \n1046  [3143.54023249 3093.20079096 2333.2456014  ......          1992   \n1047  [3130.557495   3082.55156403 3306.97612112 ......          1992   \n1048  [3049.25113259 3157.7322795  3187.95176002 ......          1992   \n\n      Mean Energy  Artist                                              Beats  \\\n0      137.862976   Big L  [1.5000e-01 7.7000e-01 1.4200e+00 2.0800e+00 2...   \n1      116.031082   Big L  [1.2000e-01 7.7000e-01 1.4200e+00 2.0700e+00 2...   \n2       98.776779   Big L  [1.3000e-01 7.7000e-01 1.4000e+00 2.0000e+00 2...   \n3       73.517921   Big L  [1.5000e-01 7.5000e-01 1.3800e+00 1.9700e+00 2...   \n4       76.011833   Big L  [  0.57   1.26   1.95   2.64   3.34   4.03   4...   \n...           ...     ...                                                ...   \n1044    50.338806  Dr.Dre  [  0.3    1.02   1.79   2.44   3.09   3.75   4...   \n1045    69.311768  Dr.Dre  [2.2000e-01 8.6000e-01 1.5100e+00 2.1500e+00 2...   \n1046    15.749063  Dr.Dre  [7.0000e-02 6.5000e-01 1.2400e+00 1.8000e+00 2...   \n1047     9.230774  Dr.Dre  [ 0.1   0.49  0.89  1.28  1.7   2.09  2.48  2....   \n1048    22.435303  Dr.Dre  [2.7000e-01 9.6000e-01 1.6700e+00 2.3400e+00 2...   \n\n                                           Local Tempos  \n0     [ 96.77419355  92.30769231  90.90909091  95.23...  \n1     [ 92.30769231  92.30769231  92.30769231  95.23...  \n2     [ 93.75        95.23809524 100.          93.75...  \n3     [100.          95.23809524 101.69491525  96.77...  \n4     [86.95652174 86.95652174 86.95652174 85.714285...  \n...                                                 ...  \n1044  [83.33333333 77.92207792 92.30769231 92.307692...  \n1045  [93.75       92.30769231 93.75       95.238095...  \n1046  [103.44827586 101.69491525 107.14285714 100.  ...  \n1047  [153.84615385 150.         153.84615385 142.85...  \n1048  [ 86.95652174  84.50704225  89.55223881  92.30...  \n\n[1049 rows x 16 columns]",
      "text/html": "<div>\n<style scoped>\n    .dataframe tbody tr th:only-of-type {\n        vertical-align: middle;\n    }\n\n    .dataframe tbody tr th {\n        vertical-align: top;\n    }\n\n    .dataframe thead th {\n        text-align: right;\n    }\n</style>\n<table border=\"1\" class=\"dataframe\">\n  <thead>\n    <tr style=\"text-align: right;\">\n      <th></th>\n      <th>Path</th>\n      <th>Song</th>\n      <th>Duration (s)</th>\n      <th>Sample Rate (Hz)</th>\n      <th>Coast</th>\n      <th>Tempo1</th>\n      <th>Tempo2</th>\n      <th>Energy</th>\n      <th>Spectral Centroid</th>\n      <th>Spectral Rolloff</th>\n      <th>Spectral Bandwidth</th>\n      <th>Release Year</th>\n      <th>Mean Energy</th>\n      <th>Artist</th>\n      <th>Beats</th>\n      <th>Local Tempos</th>\n    </tr>\n  </thead>\n  <tbody>\n    <tr>\n      <th>0</th>\n      <td>/Users/borosabel/Documents/Uni/Thesis/PopMIR/D...</td>\n      <td>8 Iz Enuff.mp3</td>\n      <td>298.840000</td>\n      <td>48000</td>\n      <td>east_coast</td>\n      <td>96.774194</td>\n      <td>48.000000</td>\n      <td>[2.83611564e-12 8.44120896e-06 3.05945038e-02 ...</td>\n      <td>[   0.         5720.41652667 4653.92652369 ......</td>\n      <td>[   0.         9463.84277344 8225.68359375 ......</td>\n      <td>[   0.         3127.49309623 3015.70241681 ......</td>\n      <td>1995</td>\n      <td>137.862976</td>\n      <td>Big L</td>\n      <td>[1.5000e-01 7.7000e-01 1.4200e+00 2.0800e+00 2...</td>\n      <td>[ 96.77419355  92.30769231  90.90909091  95.23...</td>\n    </tr>\n    <tr>\n      <th>1</th>\n      <td>/Users/borosabel/Documents/Uni/Thesis/PopMIR/D...</td>\n      <td>Da Graveyard.mp3</td>\n      <td>323.760000</td>\n      <td>48000</td>\n      <td>east_coast</td>\n      <td>93.750000</td>\n      <td>46.511628</td>\n      <td>[4.19618698e-16 2.46109548e-05 1.51773983e+00 ...</td>\n      <td>[   0.         5581.59937729 5299.67443541 ......</td>\n      <td>[   0.         8871.6796875  8990.11230469 ......</td>\n      <td>[   0.         3101.9549724  3021.8278237  ......</td>\n      <td>1995</td>\n      <td>116.031082</td>\n      <td>Big L</td>\n      <td>[1.2000e-01 7.7000e-01 1.4200e+00 2.0700e+00 2...</td>\n      <td>[ 92.30769231  92.30769231  92.30769231  95.23...</td>\n    </tr>\n    <tr>\n      <th>2</th>\n      <td>/Users/borosabel/Documents/Uni/Thesis/PopMIR/D...</td>\n      <td>I Don't Understand It.mp3</td>\n      <td>260.226667</td>\n      <td>48000</td>\n      <td>east_coast</td>\n      <td>93.750000</td>\n      <td>47.244094</td>\n      <td>[1.95996759e-07 1.04421464e-05 6.28235600e+00 ...</td>\n      <td>[4201.80888552 4710.90931902 5145.42186013 ......</td>\n      <td>[8494.84863281 8828.61328125 8947.04589844 ......</td>\n      <td>[3351.40752362 3297.55375379 3166.14191736 ......</td>\n      <td>1995</td>\n      <td>98.776779</td>\n      <td>Big L</td>\n      <td>[1.3000e-01 7.7000e-01 1.4000e+00 2.0000e+00 2...</td>\n      <td>[ 93.75        95.23809524 100.          93.75...</td>\n    </tr>\n    <tr>\n      <th>3</th>\n      <td>/Users/borosabel/Documents/Uni/Thesis/PopMIR/D...</td>\n      <td>No Endz, No Skinz.mp3</td>\n      <td>208.733333</td>\n      <td>48000</td>\n      <td>east_coast</td>\n      <td>100.000000</td>\n      <td>50.420168</td>\n      <td>[1.10115048e-13 1.51645769e-06 1.48360256e-05 ...</td>\n      <td>[   0.         6512.52478217 4965.18006511 ......</td>\n      <td>[   0.         9829.90722656 8397.94921875 ......</td>\n      <td>[   0.         3211.25127137 3290.84736116 ......</td>\n      <td>1995</td>\n      <td>73.517921</td>\n      <td>Big L</td>\n      <td>[1.5000e-01 7.5000e-01 1.3800e+00 1.9700e+00 2...</td>\n      <td>[100.          95.23809524 101.69491525  96.77...</td>\n    </tr>\n    <tr>\n      <th>4</th>\n      <td>/Users/borosabel/Documents/Uni/Thesis/PopMIR/D...</td>\n      <td>MVP.mp3</td>\n      <td>218.866667</td>\n      <td>48000</td>\n      <td>east_coast</td>\n      <td>86.956522</td>\n      <td>43.478261</td>\n      <td>[1.13744059e-14 1.56197807e-05 4.88470117e-01 ...</td>\n      <td>[   0.         5282.25973485 4470.70845932 ......</td>\n      <td>[   0.         8537.91503906 8171.85058594 ......</td>\n      <td>[   0.         3037.57586169 3185.42508717 ......</td>\n      <td>1995</td>\n      <td>76.011833</td>\n      <td>Big L</td>\n      <td>[  0.57   1.26   1.95   2.64   3.34   4.03   4...</td>\n      <td>[86.95652174 86.95652174 86.95652174 85.714285...</td>\n    </tr>\n    <tr>\n      <th>...</th>\n      <td>...</td>\n      <td>...</td>\n      <td>...</td>\n      <td>...</td>\n      <td>...</td>\n      <td>...</td>\n      <td>...</td>\n      <td>...</td>\n      <td>...</td>\n      <td>...</td>\n      <td>...</td>\n      <td>...</td>\n      <td>...</td>\n      <td>...</td>\n      <td>...</td>\n      <td>...</td>\n    </tr>\n    <tr>\n      <th>1044</th>\n      <td>/Users/borosabel/Documents/Uni/Thesis/PopMIR/D...</td>\n      <td>Dr. Dre - Stranded On Death Row (feat. Bushwic...</td>\n      <td>287.335333</td>\n      <td>48000</td>\n      <td>west_coast</td>\n      <td>90.909091</td>\n      <td>45.801527</td>\n      <td>[5.50258228e-05 7.65438136e-05 8.96513493e-05 ...</td>\n      <td>[5256.72368159 5186.02306958 2075.71661933 ......</td>\n      <td>[9011.64550781 8850.14648438 5749.36523438 ......</td>\n      <td>[3081.17114124 3103.73938201 2874.89764785 ......</td>\n      <td>1992</td>\n      <td>50.338806</td>\n      <td>Dr.Dre</td>\n      <td>[  0.3    1.02   1.79   2.44   3.09   3.75   4...</td>\n      <td>[83.33333333 77.92207792 92.30769231 92.307692...</td>\n    </tr>\n    <tr>\n      <th>1045</th>\n      <td>/Users/borosabel/Documents/Uni/Thesis/PopMIR/D...</td>\n      <td>Dr. Dre - Nuthin' but a ＂G＂ Thang (feat. Snoop...</td>\n      <td>238.677917</td>\n      <td>48000</td>\n      <td>west_coast</td>\n      <td>95.238095</td>\n      <td>47.244094</td>\n      <td>[1.46632022e+01 2.31116456e+01 2.80170195e+01 ...</td>\n      <td>[5156.91532791 4546.06915737 2341.52560784 ......</td>\n      <td>[9571.50878906 8204.15039062 5361.76757812 ......</td>\n      <td>[3265.29656454 3080.35198304 2505.12598391 ......</td>\n      <td>1992</td>\n      <td>69.311768</td>\n      <td>Dr.Dre</td>\n      <td>[2.2000e-01 8.6000e-01 1.5100e+00 2.1500e+00 2...</td>\n      <td>[93.75       92.30769231 93.75       95.238095...</td>\n    </tr>\n    <tr>\n      <th>1046</th>\n      <td>/Users/borosabel/Documents/Uni/Thesis/PopMIR/D...</td>\n      <td>Dr. Dre - The $20 Sack Pyramid.mp3</td>\n      <td>173.302146</td>\n      <td>48000</td>\n      <td>west_coast</td>\n      <td>88.235294</td>\n      <td>44.444444</td>\n      <td>[9.04275746e-01 1.35645008e+00 1.45811050e+00 ...</td>\n      <td>[4849.00084212 2765.61969196 3362.34043196 ......</td>\n      <td>[8828.61328125 7192.08984375 5824.73144531 ......</td>\n      <td>[3143.54023249 3093.20079096 2333.2456014  ......</td>\n      <td>1992</td>\n      <td>15.749063</td>\n      <td>Dr.Dre</td>\n      <td>[7.0000e-02 6.5000e-01 1.2400e+00 1.8000e+00 2...</td>\n      <td>[103.44827586 101.69491525 107.14285714 100.  ...</td>\n    </tr>\n    <tr>\n      <th>1047</th>\n      <td>/Users/borosabel/Documents/Uni/Thesis/PopMIR/D...</td>\n      <td>Dr. Dre - The Doctor's Office (Skit) (feat. Je...</td>\n      <td>64.005813</td>\n      <td>48000</td>\n      <td>west_coast</td>\n      <td>153.846154</td>\n      <td>75.949367</td>\n      <td>[9.69122675e-05 1.65903563e-04 2.26628188e-04 ...</td>\n      <td>[5918.01709252 5863.26473045 3110.05546721 ......</td>\n      <td>[9463.84277344 9248.51074219 7816.55273438 ......</td>\n      <td>[3130.557495   3082.55156403 3306.97612112 ......</td>\n      <td>1992</td>\n      <td>9.230774</td>\n      <td>Dr.Dre</td>\n      <td>[ 0.1   0.49  0.89  1.28  1.7   2.09  2.48  2....</td>\n      <td>[153.84615385 150.         153.84615385 142.85...</td>\n    </tr>\n    <tr>\n      <th>1048</th>\n      <td>/Users/borosabel/Documents/Uni/Thesis/PopMIR/D...</td>\n      <td>Dr. Dre - The Roach (ft. Ruben Cruz, Daz Dilli...</td>\n      <td>277.072125</td>\n      <td>48000</td>\n      <td>west_coast</td>\n      <td>89.552239</td>\n      <td>44.117647</td>\n      <td>[6.58959944e-05 9.18917162e-05 1.06305811e-04 ...</td>\n      <td>[5150.84902265 4920.20925227 2506.25012839 ......</td>\n      <td>[8720.94726562 8710.18066406 6912.15820312 ......</td>\n      <td>[3049.25113259 3157.7322795  3187.95176002 ......</td>\n      <td>1992</td>\n      <td>22.435303</td>\n      <td>Dr.Dre</td>\n      <td>[2.7000e-01 9.6000e-01 1.6700e+00 2.3400e+00 2...</td>\n      <td>[ 86.95652174  84.50704225  89.55223881  92.30...</td>\n    </tr>\n  </tbody>\n</table>\n<p>1049 rows × 16 columns</p>\n</div>"
     },
     "execution_count": 44,
     "metadata": {},
     "output_type": "execute_result"
    }
   ],
   "source": [
    "df"
   ],
   "metadata": {
    "collapsed": false,
    "ExecuteTime": {
     "end_time": "2024-05-05T11:48:01.830018Z",
     "start_time": "2024-05-05T11:48:01.819156Z"
    }
   },
   "id": "afb0a3890d9d451f"
  },
  {
   "cell_type": "code",
   "execution_count": 45,
   "outputs": [],
   "source": [
    "data_audio['Release Year'] = data_audio['Release Year'].astype(int)"
   ],
   "metadata": {
    "collapsed": false,
    "ExecuteTime": {
     "end_time": "2024-05-05T11:48:19.461834Z",
     "start_time": "2024-05-05T11:48:19.453190Z"
    }
   },
   "id": "ce5bb95b12f5e0fe"
  },
  {
   "cell_type": "code",
   "execution_count": 46,
   "outputs": [
    {
     "data": {
      "text/plain": "      Artist                                Album       Coast  \\\n0      Big L  Lifestylez Ov Da Poor and Dangerous  east_coast   \n1      Big L  Lifestylez Ov Da Poor and Dangerous  east_coast   \n2      Big L  Lifestylez Ov Da Poor and Dangerous  east_coast   \n3      Big L  Lifestylez Ov Da Poor and Dangerous  east_coast   \n4      Big L  Lifestylez Ov Da Poor and Dangerous  east_coast   \n...      ...                                  ...         ...   \n1529  Dr.Dre                          The Chronic  west_coast   \n1530  Dr.Dre                          The Chronic  west_coast   \n1531  Dr.Dre                          The Chronic  west_coast   \n1532  Dr.Dre                          The Chronic  west_coast   \n1533  Dr.Dre                          The Chronic  west_coast   \n\n                                                   Path  \\\n0     /Users/borosabel/Documents/Uni/Thesis/PopMIR/D...   \n1     /Users/borosabel/Documents/Uni/Thesis/PopMIR/D...   \n2     /Users/borosabel/Documents/Uni/Thesis/PopMIR/D...   \n3     /Users/borosabel/Documents/Uni/Thesis/PopMIR/D...   \n4     /Users/borosabel/Documents/Uni/Thesis/PopMIR/D...   \n...                                                 ...   \n1529  /Users/borosabel/Documents/Uni/Thesis/PopMIR/D...   \n1530  /Users/borosabel/Documents/Uni/Thesis/PopMIR/D...   \n1531  /Users/borosabel/Documents/Uni/Thesis/PopMIR/D...   \n1532  /Users/borosabel/Documents/Uni/Thesis/PopMIR/D...   \n1533  /Users/borosabel/Documents/Uni/Thesis/PopMIR/D...   \n\n                                                   Song  Duration (s)  \\\n0                                        8 Iz Enuff.mp3    298.840000   \n1                                      Da Graveyard.mp3    323.760000   \n2                             I Don't Understand It.mp3    260.226667   \n3                                 No Endz, No Skinz.mp3    208.733333   \n4                                               MVP.mp3    218.866667   \n...                                                 ...           ...   \n1529  Dr. Dre - Stranded On Death Row (feat. Bushwic...    287.335333   \n1530  Dr. Dre - Nuthin' but a ＂G＂ Thang (feat. Snoop...    238.677917   \n1531                 Dr. Dre - The $20 Sack Pyramid.mp3    173.302146   \n1532  Dr. Dre - The Doctor's Office (Skit) (feat. Je...     64.005813   \n1533  Dr. Dre - The Roach (ft. Ruben Cruz, Daz Dilli...    277.072125   \n\n      Sample Rate (Hz)  Release Year  \n0                48000          1995  \n1                48000          1995  \n2                48000          1995  \n3                48000          1995  \n4                48000          1995  \n...                ...           ...  \n1529             48000          1992  \n1530             48000          1992  \n1531             48000          1992  \n1532             48000          1992  \n1533             48000          1992  \n\n[1534 rows x 8 columns]",
      "text/html": "<div>\n<style scoped>\n    .dataframe tbody tr th:only-of-type {\n        vertical-align: middle;\n    }\n\n    .dataframe tbody tr th {\n        vertical-align: top;\n    }\n\n    .dataframe thead th {\n        text-align: right;\n    }\n</style>\n<table border=\"1\" class=\"dataframe\">\n  <thead>\n    <tr style=\"text-align: right;\">\n      <th></th>\n      <th>Artist</th>\n      <th>Album</th>\n      <th>Coast</th>\n      <th>Path</th>\n      <th>Song</th>\n      <th>Duration (s)</th>\n      <th>Sample Rate (Hz)</th>\n      <th>Release Year</th>\n    </tr>\n  </thead>\n  <tbody>\n    <tr>\n      <th>0</th>\n      <td>Big L</td>\n      <td>Lifestylez Ov Da Poor and Dangerous</td>\n      <td>east_coast</td>\n      <td>/Users/borosabel/Documents/Uni/Thesis/PopMIR/D...</td>\n      <td>8 Iz Enuff.mp3</td>\n      <td>298.840000</td>\n      <td>48000</td>\n      <td>1995</td>\n    </tr>\n    <tr>\n      <th>1</th>\n      <td>Big L</td>\n      <td>Lifestylez Ov Da Poor and Dangerous</td>\n      <td>east_coast</td>\n      <td>/Users/borosabel/Documents/Uni/Thesis/PopMIR/D...</td>\n      <td>Da Graveyard.mp3</td>\n      <td>323.760000</td>\n      <td>48000</td>\n      <td>1995</td>\n    </tr>\n    <tr>\n      <th>2</th>\n      <td>Big L</td>\n      <td>Lifestylez Ov Da Poor and Dangerous</td>\n      <td>east_coast</td>\n      <td>/Users/borosabel/Documents/Uni/Thesis/PopMIR/D...</td>\n      <td>I Don't Understand It.mp3</td>\n      <td>260.226667</td>\n      <td>48000</td>\n      <td>1995</td>\n    </tr>\n    <tr>\n      <th>3</th>\n      <td>Big L</td>\n      <td>Lifestylez Ov Da Poor and Dangerous</td>\n      <td>east_coast</td>\n      <td>/Users/borosabel/Documents/Uni/Thesis/PopMIR/D...</td>\n      <td>No Endz, No Skinz.mp3</td>\n      <td>208.733333</td>\n      <td>48000</td>\n      <td>1995</td>\n    </tr>\n    <tr>\n      <th>4</th>\n      <td>Big L</td>\n      <td>Lifestylez Ov Da Poor and Dangerous</td>\n      <td>east_coast</td>\n      <td>/Users/borosabel/Documents/Uni/Thesis/PopMIR/D...</td>\n      <td>MVP.mp3</td>\n      <td>218.866667</td>\n      <td>48000</td>\n      <td>1995</td>\n    </tr>\n    <tr>\n      <th>...</th>\n      <td>...</td>\n      <td>...</td>\n      <td>...</td>\n      <td>...</td>\n      <td>...</td>\n      <td>...</td>\n      <td>...</td>\n      <td>...</td>\n    </tr>\n    <tr>\n      <th>1529</th>\n      <td>Dr.Dre</td>\n      <td>The Chronic</td>\n      <td>west_coast</td>\n      <td>/Users/borosabel/Documents/Uni/Thesis/PopMIR/D...</td>\n      <td>Dr. Dre - Stranded On Death Row (feat. Bushwic...</td>\n      <td>287.335333</td>\n      <td>48000</td>\n      <td>1992</td>\n    </tr>\n    <tr>\n      <th>1530</th>\n      <td>Dr.Dre</td>\n      <td>The Chronic</td>\n      <td>west_coast</td>\n      <td>/Users/borosabel/Documents/Uni/Thesis/PopMIR/D...</td>\n      <td>Dr. Dre - Nuthin' but a ＂G＂ Thang (feat. Snoop...</td>\n      <td>238.677917</td>\n      <td>48000</td>\n      <td>1992</td>\n    </tr>\n    <tr>\n      <th>1531</th>\n      <td>Dr.Dre</td>\n      <td>The Chronic</td>\n      <td>west_coast</td>\n      <td>/Users/borosabel/Documents/Uni/Thesis/PopMIR/D...</td>\n      <td>Dr. Dre - The $20 Sack Pyramid.mp3</td>\n      <td>173.302146</td>\n      <td>48000</td>\n      <td>1992</td>\n    </tr>\n    <tr>\n      <th>1532</th>\n      <td>Dr.Dre</td>\n      <td>The Chronic</td>\n      <td>west_coast</td>\n      <td>/Users/borosabel/Documents/Uni/Thesis/PopMIR/D...</td>\n      <td>Dr. Dre - The Doctor's Office (Skit) (feat. Je...</td>\n      <td>64.005813</td>\n      <td>48000</td>\n      <td>1992</td>\n    </tr>\n    <tr>\n      <th>1533</th>\n      <td>Dr.Dre</td>\n      <td>The Chronic</td>\n      <td>west_coast</td>\n      <td>/Users/borosabel/Documents/Uni/Thesis/PopMIR/D...</td>\n      <td>Dr. Dre - The Roach (ft. Ruben Cruz, Daz Dilli...</td>\n      <td>277.072125</td>\n      <td>48000</td>\n      <td>1992</td>\n    </tr>\n  </tbody>\n</table>\n<p>1534 rows × 8 columns</p>\n</div>"
     },
     "execution_count": 46,
     "metadata": {},
     "output_type": "execute_result"
    }
   ],
   "source": [
    "data_audio"
   ],
   "metadata": {
    "collapsed": false,
    "ExecuteTime": {
     "end_time": "2024-05-05T11:48:24.255061Z",
     "start_time": "2024-05-05T11:48:24.248362Z"
    }
   },
   "id": "e3bfbf3d98d4b4c"
  },
  {
   "cell_type": "code",
   "execution_count": 92,
   "outputs": [],
   "source": [
    "result = pd.merge(df, data_audio, on=['Path', 'Song'], how='right')"
   ],
   "metadata": {
    "collapsed": false,
    "ExecuteTime": {
     "end_time": "2024-05-05T12:08:52.736748Z",
     "start_time": "2024-05-05T12:08:52.729771Z"
    }
   },
   "id": "f3d25a14973fc770"
  },
  {
   "cell_type": "code",
   "execution_count": 93,
   "outputs": [],
   "source": [
    "result = result[['Path', 'Song', 'Tempo1', 'Tempo2']]"
   ],
   "metadata": {
    "collapsed": false,
    "ExecuteTime": {
     "end_time": "2024-05-05T12:08:55.816532Z",
     "start_time": "2024-05-05T12:08:55.808281Z"
    }
   },
   "id": "7bfc12112e187b66"
  },
  {
   "cell_type": "code",
   "execution_count": 96,
   "outputs": [],
   "source": [
    "def process_audio(audio_file):\n",
    "    # Processing pipeline: from raw audio to beat activations to tempo estimation\n",
    "    pipeline = SequentialProcessor([\n",
    "        RNNBeatProcessor(),\n",
    "        TempoEstimationProcessor(fps=100)\n",
    "    ])\n",
    "    tempo_histogram = pipeline(audio_file)\n",
    "    sorted_tempo_histogram = tempo_histogram[tempo_histogram[:, 1].argsort()[::-1]]\n",
    "    top_two_tempos = sorted_tempo_histogram[:2, :]\n",
    "    return top_two_tempos"
   ],
   "metadata": {
    "collapsed": false,
    "ExecuteTime": {
     "end_time": "2024-05-05T12:09:01.688181Z",
     "start_time": "2024-05-05T12:09:01.676283Z"
    }
   },
   "id": "850ef57d4efafa3f"
  },
  {
   "cell_type": "code",
   "execution_count": 97,
   "outputs": [
    {
     "name": "stderr",
     "output_type": "stream",
     "text": [
      "Processing Audio: 100%|██████████| 487/487 [4:19:23<00:00, 31.96s/it]    \n"
     ]
    }
   ],
   "source": [
    "from tqdm import tqdm  # Import tqdm for the progress bar functionality\n",
    "\n",
    "# Assuming 'result' is your DataFrame\n",
    "# Filtering the DataFrame to find rows where both 'Tempo1' and 'Tempo2' are NaN\n",
    "nan_tempo_rows = result[result['Tempo1'].isna()]\n",
    "\n",
    "# Initialize a tqdm progress bar over the DataFrame iterrows()\n",
    "for index, row in tqdm(nan_tempo_rows.iterrows(), total=nan_tempo_rows.shape[0], desc='Processing Audio'):\n",
    "    top_two_tempos = process_audio(row['Path'])  # Call your audio processing function\n",
    "    # Update the DataFrame with new tempo values, assuming top_two_tempos returns an array with tempos\n",
    "    result.at[index, 'Tempo1'] = top_two_tempos[0][0]\n",
    "    result.at[index, 'Tempo2'] = top_two_tempos[0][1]"
   ],
   "metadata": {
    "collapsed": false,
    "ExecuteTime": {
     "end_time": "2024-05-05T16:28:33.007258Z",
     "start_time": "2024-05-05T12:09:09.564004Z"
    }
   },
   "id": "79e9515f89218e80"
  },
  {
   "cell_type": "code",
   "execution_count": 99,
   "outputs": [
    {
     "data": {
      "text/plain": "                                                   Path  \\\n0     /Users/borosabel/Documents/Uni/Thesis/PopMIR/D...   \n1     /Users/borosabel/Documents/Uni/Thesis/PopMIR/D...   \n2     /Users/borosabel/Documents/Uni/Thesis/PopMIR/D...   \n3     /Users/borosabel/Documents/Uni/Thesis/PopMIR/D...   \n4     /Users/borosabel/Documents/Uni/Thesis/PopMIR/D...   \n...                                                 ...   \n1529  /Users/borosabel/Documents/Uni/Thesis/PopMIR/D...   \n1530  /Users/borosabel/Documents/Uni/Thesis/PopMIR/D...   \n1531  /Users/borosabel/Documents/Uni/Thesis/PopMIR/D...   \n1532  /Users/borosabel/Documents/Uni/Thesis/PopMIR/D...   \n1533  /Users/borosabel/Documents/Uni/Thesis/PopMIR/D...   \n\n                                                   Song      Tempo1     Tempo2  \n0                                        8 Iz Enuff.mp3   96.774194  48.000000  \n1                                      Da Graveyard.mp3   93.750000  46.511628  \n2                             I Don't Understand It.mp3   93.750000  47.244094  \n3                                 No Endz, No Skinz.mp3  100.000000  50.420168  \n4                                               MVP.mp3   86.956522  43.478261  \n...                                                 ...         ...        ...  \n1529  Dr. Dre - Stranded On Death Row (feat. Bushwic...   90.909091  45.801527  \n1530  Dr. Dre - Nuthin' but a ＂G＂ Thang (feat. Snoop...   95.238095  47.244094  \n1531                 Dr. Dre - The $20 Sack Pyramid.mp3   88.235294  44.444444  \n1532  Dr. Dre - The Doctor's Office (Skit) (feat. Je...  153.846154  75.949367  \n1533  Dr. Dre - The Roach (ft. Ruben Cruz, Daz Dilli...   89.552239  44.117647  \n\n[1534 rows x 4 columns]",
      "text/html": "<div>\n<style scoped>\n    .dataframe tbody tr th:only-of-type {\n        vertical-align: middle;\n    }\n\n    .dataframe tbody tr th {\n        vertical-align: top;\n    }\n\n    .dataframe thead th {\n        text-align: right;\n    }\n</style>\n<table border=\"1\" class=\"dataframe\">\n  <thead>\n    <tr style=\"text-align: right;\">\n      <th></th>\n      <th>Path</th>\n      <th>Song</th>\n      <th>Tempo1</th>\n      <th>Tempo2</th>\n    </tr>\n  </thead>\n  <tbody>\n    <tr>\n      <th>0</th>\n      <td>/Users/borosabel/Documents/Uni/Thesis/PopMIR/D...</td>\n      <td>8 Iz Enuff.mp3</td>\n      <td>96.774194</td>\n      <td>48.000000</td>\n    </tr>\n    <tr>\n      <th>1</th>\n      <td>/Users/borosabel/Documents/Uni/Thesis/PopMIR/D...</td>\n      <td>Da Graveyard.mp3</td>\n      <td>93.750000</td>\n      <td>46.511628</td>\n    </tr>\n    <tr>\n      <th>2</th>\n      <td>/Users/borosabel/Documents/Uni/Thesis/PopMIR/D...</td>\n      <td>I Don't Understand It.mp3</td>\n      <td>93.750000</td>\n      <td>47.244094</td>\n    </tr>\n    <tr>\n      <th>3</th>\n      <td>/Users/borosabel/Documents/Uni/Thesis/PopMIR/D...</td>\n      <td>No Endz, No Skinz.mp3</td>\n      <td>100.000000</td>\n      <td>50.420168</td>\n    </tr>\n    <tr>\n      <th>4</th>\n      <td>/Users/borosabel/Documents/Uni/Thesis/PopMIR/D...</td>\n      <td>MVP.mp3</td>\n      <td>86.956522</td>\n      <td>43.478261</td>\n    </tr>\n    <tr>\n      <th>...</th>\n      <td>...</td>\n      <td>...</td>\n      <td>...</td>\n      <td>...</td>\n    </tr>\n    <tr>\n      <th>1529</th>\n      <td>/Users/borosabel/Documents/Uni/Thesis/PopMIR/D...</td>\n      <td>Dr. Dre - Stranded On Death Row (feat. Bushwic...</td>\n      <td>90.909091</td>\n      <td>45.801527</td>\n    </tr>\n    <tr>\n      <th>1530</th>\n      <td>/Users/borosabel/Documents/Uni/Thesis/PopMIR/D...</td>\n      <td>Dr. Dre - Nuthin' but a ＂G＂ Thang (feat. Snoop...</td>\n      <td>95.238095</td>\n      <td>47.244094</td>\n    </tr>\n    <tr>\n      <th>1531</th>\n      <td>/Users/borosabel/Documents/Uni/Thesis/PopMIR/D...</td>\n      <td>Dr. Dre - The $20 Sack Pyramid.mp3</td>\n      <td>88.235294</td>\n      <td>44.444444</td>\n    </tr>\n    <tr>\n      <th>1532</th>\n      <td>/Users/borosabel/Documents/Uni/Thesis/PopMIR/D...</td>\n      <td>Dr. Dre - The Doctor's Office (Skit) (feat. Je...</td>\n      <td>153.846154</td>\n      <td>75.949367</td>\n    </tr>\n    <tr>\n      <th>1533</th>\n      <td>/Users/borosabel/Documents/Uni/Thesis/PopMIR/D...</td>\n      <td>Dr. Dre - The Roach (ft. Ruben Cruz, Daz Dilli...</td>\n      <td>89.552239</td>\n      <td>44.117647</td>\n    </tr>\n  </tbody>\n</table>\n<p>1534 rows × 4 columns</p>\n</div>"
     },
     "execution_count": 99,
     "metadata": {},
     "output_type": "execute_result"
    }
   ],
   "source": [
    "result"
   ],
   "metadata": {
    "collapsed": false,
    "ExecuteTime": {
     "end_time": "2024-05-05T20:14:00.069700Z",
     "start_time": "2024-05-05T20:14:00.052656Z"
    }
   },
   "id": "cfeab176b5f3fbf3"
  },
  {
   "cell_type": "code",
   "execution_count": 156,
   "outputs": [],
   "source": [
    "data_audio = utils.get_all_artist_audio(data)"
   ],
   "metadata": {
    "collapsed": false,
    "ExecuteTime": {
     "end_time": "2024-05-05T20:56:01.142261Z",
     "start_time": "2024-05-05T20:50:48.594808Z"
    }
   },
   "id": "a3619d41889f3c8f"
  },
  {
   "cell_type": "code",
   "execution_count": 157,
   "outputs": [
    {
     "data": {
      "text/plain": "      Artist                                Album       Coast  \\\n0      Big L  Lifestylez Ov Da Poor and Dangerous  east_coast   \n1      Big L  Lifestylez Ov Da Poor and Dangerous  east_coast   \n2      Big L  Lifestylez Ov Da Poor and Dangerous  east_coast   \n3      Big L  Lifestylez Ov Da Poor and Dangerous  east_coast   \n4      Big L  Lifestylez Ov Da Poor and Dangerous  east_coast   \n...      ...                                  ...         ...   \n1363  Dr.Dre                          The Chronic  west_coast   \n1364  Dr.Dre                          The Chronic  west_coast   \n1365  Dr.Dre                          The Chronic  west_coast   \n1366  Dr.Dre                          The Chronic  west_coast   \n1367  Dr.Dre                          The Chronic  west_coast   \n\n                                                   Path  \\\n0     /Users/borosabel/Documents/Uni/Thesis/PopMIR/D...   \n1     /Users/borosabel/Documents/Uni/Thesis/PopMIR/D...   \n2     /Users/borosabel/Documents/Uni/Thesis/PopMIR/D...   \n3     /Users/borosabel/Documents/Uni/Thesis/PopMIR/D...   \n4     /Users/borosabel/Documents/Uni/Thesis/PopMIR/D...   \n...                                                 ...   \n1363  /Users/borosabel/Documents/Uni/Thesis/PopMIR/D...   \n1364  /Users/borosabel/Documents/Uni/Thesis/PopMIR/D...   \n1365  /Users/borosabel/Documents/Uni/Thesis/PopMIR/D...   \n1366  /Users/borosabel/Documents/Uni/Thesis/PopMIR/D...   \n1367  /Users/borosabel/Documents/Uni/Thesis/PopMIR/D...   \n\n                                                   Song  Duration (s)  \\\n0                                        8 Iz Enuff.mp3    298.840000   \n1                                      Da Graveyard.mp3    323.760000   \n2                             I Don't Understand It.mp3    260.226667   \n3                                 No Endz, No Skinz.mp3    208.733333   \n4                                               MVP.mp3    218.866667   \n...                                                 ...           ...   \n1363  Dr. Dre - The Day the Niggaz Took Over (feat. ...    273.206000   \n1364  Dr. Dre - Bitches Ain't Shit (feat. Jewell, Sn...    287.207625   \n1365  Dr. Dre - Stranded On Death Row (feat. Bushwic...    287.335333   \n1366  Dr. Dre - Nuthin' but a ＂G＂ Thang (feat. Snoop...    238.677917   \n1367  Dr. Dre - The Roach (ft. Ruben Cruz, Daz Dilli...    277.072125   \n\n      Sample Rate (Hz) Release Year  \n0                48000         1995  \n1                48000         1995  \n2                48000         1995  \n3                48000         1995  \n4                48000         1995  \n...                ...          ...  \n1363             48000         1992  \n1364             48000         1992  \n1365             48000         1992  \n1366             48000         1992  \n1367             48000         1992  \n\n[1368 rows x 8 columns]",
      "text/html": "<div>\n<style scoped>\n    .dataframe tbody tr th:only-of-type {\n        vertical-align: middle;\n    }\n\n    .dataframe tbody tr th {\n        vertical-align: top;\n    }\n\n    .dataframe thead th {\n        text-align: right;\n    }\n</style>\n<table border=\"1\" class=\"dataframe\">\n  <thead>\n    <tr style=\"text-align: right;\">\n      <th></th>\n      <th>Artist</th>\n      <th>Album</th>\n      <th>Coast</th>\n      <th>Path</th>\n      <th>Song</th>\n      <th>Duration (s)</th>\n      <th>Sample Rate (Hz)</th>\n      <th>Release Year</th>\n    </tr>\n  </thead>\n  <tbody>\n    <tr>\n      <th>0</th>\n      <td>Big L</td>\n      <td>Lifestylez Ov Da Poor and Dangerous</td>\n      <td>east_coast</td>\n      <td>/Users/borosabel/Documents/Uni/Thesis/PopMIR/D...</td>\n      <td>8 Iz Enuff.mp3</td>\n      <td>298.840000</td>\n      <td>48000</td>\n      <td>1995</td>\n    </tr>\n    <tr>\n      <th>1</th>\n      <td>Big L</td>\n      <td>Lifestylez Ov Da Poor and Dangerous</td>\n      <td>east_coast</td>\n      <td>/Users/borosabel/Documents/Uni/Thesis/PopMIR/D...</td>\n      <td>Da Graveyard.mp3</td>\n      <td>323.760000</td>\n      <td>48000</td>\n      <td>1995</td>\n    </tr>\n    <tr>\n      <th>2</th>\n      <td>Big L</td>\n      <td>Lifestylez Ov Da Poor and Dangerous</td>\n      <td>east_coast</td>\n      <td>/Users/borosabel/Documents/Uni/Thesis/PopMIR/D...</td>\n      <td>I Don't Understand It.mp3</td>\n      <td>260.226667</td>\n      <td>48000</td>\n      <td>1995</td>\n    </tr>\n    <tr>\n      <th>3</th>\n      <td>Big L</td>\n      <td>Lifestylez Ov Da Poor and Dangerous</td>\n      <td>east_coast</td>\n      <td>/Users/borosabel/Documents/Uni/Thesis/PopMIR/D...</td>\n      <td>No Endz, No Skinz.mp3</td>\n      <td>208.733333</td>\n      <td>48000</td>\n      <td>1995</td>\n    </tr>\n    <tr>\n      <th>4</th>\n      <td>Big L</td>\n      <td>Lifestylez Ov Da Poor and Dangerous</td>\n      <td>east_coast</td>\n      <td>/Users/borosabel/Documents/Uni/Thesis/PopMIR/D...</td>\n      <td>MVP.mp3</td>\n      <td>218.866667</td>\n      <td>48000</td>\n      <td>1995</td>\n    </tr>\n    <tr>\n      <th>...</th>\n      <td>...</td>\n      <td>...</td>\n      <td>...</td>\n      <td>...</td>\n      <td>...</td>\n      <td>...</td>\n      <td>...</td>\n      <td>...</td>\n    </tr>\n    <tr>\n      <th>1363</th>\n      <td>Dr.Dre</td>\n      <td>The Chronic</td>\n      <td>west_coast</td>\n      <td>/Users/borosabel/Documents/Uni/Thesis/PopMIR/D...</td>\n      <td>Dr. Dre - The Day the Niggaz Took Over (feat. ...</td>\n      <td>273.206000</td>\n      <td>48000</td>\n      <td>1992</td>\n    </tr>\n    <tr>\n      <th>1364</th>\n      <td>Dr.Dre</td>\n      <td>The Chronic</td>\n      <td>west_coast</td>\n      <td>/Users/borosabel/Documents/Uni/Thesis/PopMIR/D...</td>\n      <td>Dr. Dre - Bitches Ain't Shit (feat. Jewell, Sn...</td>\n      <td>287.207625</td>\n      <td>48000</td>\n      <td>1992</td>\n    </tr>\n    <tr>\n      <th>1365</th>\n      <td>Dr.Dre</td>\n      <td>The Chronic</td>\n      <td>west_coast</td>\n      <td>/Users/borosabel/Documents/Uni/Thesis/PopMIR/D...</td>\n      <td>Dr. Dre - Stranded On Death Row (feat. Bushwic...</td>\n      <td>287.335333</td>\n      <td>48000</td>\n      <td>1992</td>\n    </tr>\n    <tr>\n      <th>1366</th>\n      <td>Dr.Dre</td>\n      <td>The Chronic</td>\n      <td>west_coast</td>\n      <td>/Users/borosabel/Documents/Uni/Thesis/PopMIR/D...</td>\n      <td>Dr. Dre - Nuthin' but a ＂G＂ Thang (feat. Snoop...</td>\n      <td>238.677917</td>\n      <td>48000</td>\n      <td>1992</td>\n    </tr>\n    <tr>\n      <th>1367</th>\n      <td>Dr.Dre</td>\n      <td>The Chronic</td>\n      <td>west_coast</td>\n      <td>/Users/borosabel/Documents/Uni/Thesis/PopMIR/D...</td>\n      <td>Dr. Dre - The Roach (ft. Ruben Cruz, Daz Dilli...</td>\n      <td>277.072125</td>\n      <td>48000</td>\n      <td>1992</td>\n    </tr>\n  </tbody>\n</table>\n<p>1368 rows × 8 columns</p>\n</div>"
     },
     "execution_count": 157,
     "metadata": {},
     "output_type": "execute_result"
    }
   ],
   "source": [
    "data_audio"
   ],
   "metadata": {
    "collapsed": false,
    "ExecuteTime": {
     "end_time": "2024-05-05T20:56:58.912733Z",
     "start_time": "2024-05-05T20:56:58.897504Z"
    }
   },
   "id": "5dc2c54fc63b0aba"
  },
  {
   "cell_type": "code",
   "execution_count": 158,
   "outputs": [],
   "source": [
    "result_final = pd.merge(result, data_audio, on=['Path', 'Song'], how='right')"
   ],
   "metadata": {
    "collapsed": false,
    "ExecuteTime": {
     "end_time": "2024-05-05T20:56:59.857278Z",
     "start_time": "2024-05-05T20:56:59.846336Z"
    }
   },
   "id": "e37d84592f429979"
  },
  {
   "cell_type": "code",
   "execution_count": 159,
   "outputs": [],
   "source": [
    "result_final = result_final[['Artist', 'Album', 'Song', 'Coast', 'Release Year', 'Tempo1', 'Tempo2', 'Duration (s)', 'Sample Rate (Hz)', 'Path']]"
   ],
   "metadata": {
    "collapsed": false,
    "ExecuteTime": {
     "end_time": "2024-05-05T20:57:00.274630Z",
     "start_time": "2024-05-05T20:57:00.262770Z"
    }
   },
   "id": "a520c58e275be591"
  },
  {
   "cell_type": "code",
   "execution_count": 160,
   "outputs": [
    {
     "data": {
      "text/plain": "      Artist                                Album  \\\n0      Big L  Lifestylez Ov Da Poor and Dangerous   \n1      Big L  Lifestylez Ov Da Poor and Dangerous   \n2      Big L  Lifestylez Ov Da Poor and Dangerous   \n3      Big L  Lifestylez Ov Da Poor and Dangerous   \n4      Big L  Lifestylez Ov Da Poor and Dangerous   \n...      ...                                  ...   \n1363  Dr.Dre                          The Chronic   \n1364  Dr.Dre                          The Chronic   \n1365  Dr.Dre                          The Chronic   \n1366  Dr.Dre                          The Chronic   \n1367  Dr.Dre                          The Chronic   \n\n                                                   Song       Coast  \\\n0                                        8 Iz Enuff.mp3  east_coast   \n1                                      Da Graveyard.mp3  east_coast   \n2                             I Don't Understand It.mp3  east_coast   \n3                                 No Endz, No Skinz.mp3  east_coast   \n4                                               MVP.mp3  east_coast   \n...                                                 ...         ...   \n1363  Dr. Dre - The Day the Niggaz Took Over (feat. ...  west_coast   \n1364  Dr. Dre - Bitches Ain't Shit (feat. Jewell, Sn...  west_coast   \n1365  Dr. Dre - Stranded On Death Row (feat. Bushwic...  west_coast   \n1366  Dr. Dre - Nuthin' but a ＂G＂ Thang (feat. Snoop...  west_coast   \n1367  Dr. Dre - The Roach (ft. Ruben Cruz, Daz Dilli...  west_coast   \n\n     Release Year      Tempo1     Tempo2  Duration (s)  Sample Rate (Hz)  \\\n0            1995   96.774194  48.000000    298.840000             48000   \n1            1995   93.750000  46.511628    323.760000             48000   \n2            1995   93.750000  47.244094    260.226667             48000   \n3            1995  100.000000  50.420168    208.733333             48000   \n4            1995   86.956522  43.478261    218.866667             48000   \n...           ...         ...        ...           ...               ...   \n1363         1992   93.750000  46.875000    273.206000             48000   \n1364         1992   92.307692  46.153846    287.207625             48000   \n1365         1992   90.909091  45.801527    287.335333             48000   \n1366         1992   95.238095  47.244094    238.677917             48000   \n1367         1992   89.552239  44.117647    277.072125             48000   \n\n                                                   Path  \n0     /Users/borosabel/Documents/Uni/Thesis/PopMIR/D...  \n1     /Users/borosabel/Documents/Uni/Thesis/PopMIR/D...  \n2     /Users/borosabel/Documents/Uni/Thesis/PopMIR/D...  \n3     /Users/borosabel/Documents/Uni/Thesis/PopMIR/D...  \n4     /Users/borosabel/Documents/Uni/Thesis/PopMIR/D...  \n...                                                 ...  \n1363  /Users/borosabel/Documents/Uni/Thesis/PopMIR/D...  \n1364  /Users/borosabel/Documents/Uni/Thesis/PopMIR/D...  \n1365  /Users/borosabel/Documents/Uni/Thesis/PopMIR/D...  \n1366  /Users/borosabel/Documents/Uni/Thesis/PopMIR/D...  \n1367  /Users/borosabel/Documents/Uni/Thesis/PopMIR/D...  \n\n[1368 rows x 10 columns]",
      "text/html": "<div>\n<style scoped>\n    .dataframe tbody tr th:only-of-type {\n        vertical-align: middle;\n    }\n\n    .dataframe tbody tr th {\n        vertical-align: top;\n    }\n\n    .dataframe thead th {\n        text-align: right;\n    }\n</style>\n<table border=\"1\" class=\"dataframe\">\n  <thead>\n    <tr style=\"text-align: right;\">\n      <th></th>\n      <th>Artist</th>\n      <th>Album</th>\n      <th>Song</th>\n      <th>Coast</th>\n      <th>Release Year</th>\n      <th>Tempo1</th>\n      <th>Tempo2</th>\n      <th>Duration (s)</th>\n      <th>Sample Rate (Hz)</th>\n      <th>Path</th>\n    </tr>\n  </thead>\n  <tbody>\n    <tr>\n      <th>0</th>\n      <td>Big L</td>\n      <td>Lifestylez Ov Da Poor and Dangerous</td>\n      <td>8 Iz Enuff.mp3</td>\n      <td>east_coast</td>\n      <td>1995</td>\n      <td>96.774194</td>\n      <td>48.000000</td>\n      <td>298.840000</td>\n      <td>48000</td>\n      <td>/Users/borosabel/Documents/Uni/Thesis/PopMIR/D...</td>\n    </tr>\n    <tr>\n      <th>1</th>\n      <td>Big L</td>\n      <td>Lifestylez Ov Da Poor and Dangerous</td>\n      <td>Da Graveyard.mp3</td>\n      <td>east_coast</td>\n      <td>1995</td>\n      <td>93.750000</td>\n      <td>46.511628</td>\n      <td>323.760000</td>\n      <td>48000</td>\n      <td>/Users/borosabel/Documents/Uni/Thesis/PopMIR/D...</td>\n    </tr>\n    <tr>\n      <th>2</th>\n      <td>Big L</td>\n      <td>Lifestylez Ov Da Poor and Dangerous</td>\n      <td>I Don't Understand It.mp3</td>\n      <td>east_coast</td>\n      <td>1995</td>\n      <td>93.750000</td>\n      <td>47.244094</td>\n      <td>260.226667</td>\n      <td>48000</td>\n      <td>/Users/borosabel/Documents/Uni/Thesis/PopMIR/D...</td>\n    </tr>\n    <tr>\n      <th>3</th>\n      <td>Big L</td>\n      <td>Lifestylez Ov Da Poor and Dangerous</td>\n      <td>No Endz, No Skinz.mp3</td>\n      <td>east_coast</td>\n      <td>1995</td>\n      <td>100.000000</td>\n      <td>50.420168</td>\n      <td>208.733333</td>\n      <td>48000</td>\n      <td>/Users/borosabel/Documents/Uni/Thesis/PopMIR/D...</td>\n    </tr>\n    <tr>\n      <th>4</th>\n      <td>Big L</td>\n      <td>Lifestylez Ov Da Poor and Dangerous</td>\n      <td>MVP.mp3</td>\n      <td>east_coast</td>\n      <td>1995</td>\n      <td>86.956522</td>\n      <td>43.478261</td>\n      <td>218.866667</td>\n      <td>48000</td>\n      <td>/Users/borosabel/Documents/Uni/Thesis/PopMIR/D...</td>\n    </tr>\n    <tr>\n      <th>...</th>\n      <td>...</td>\n      <td>...</td>\n      <td>...</td>\n      <td>...</td>\n      <td>...</td>\n      <td>...</td>\n      <td>...</td>\n      <td>...</td>\n      <td>...</td>\n      <td>...</td>\n    </tr>\n    <tr>\n      <th>1363</th>\n      <td>Dr.Dre</td>\n      <td>The Chronic</td>\n      <td>Dr. Dre - The Day the Niggaz Took Over (feat. ...</td>\n      <td>west_coast</td>\n      <td>1992</td>\n      <td>93.750000</td>\n      <td>46.875000</td>\n      <td>273.206000</td>\n      <td>48000</td>\n      <td>/Users/borosabel/Documents/Uni/Thesis/PopMIR/D...</td>\n    </tr>\n    <tr>\n      <th>1364</th>\n      <td>Dr.Dre</td>\n      <td>The Chronic</td>\n      <td>Dr. Dre - Bitches Ain't Shit (feat. Jewell, Sn...</td>\n      <td>west_coast</td>\n      <td>1992</td>\n      <td>92.307692</td>\n      <td>46.153846</td>\n      <td>287.207625</td>\n      <td>48000</td>\n      <td>/Users/borosabel/Documents/Uni/Thesis/PopMIR/D...</td>\n    </tr>\n    <tr>\n      <th>1365</th>\n      <td>Dr.Dre</td>\n      <td>The Chronic</td>\n      <td>Dr. Dre - Stranded On Death Row (feat. Bushwic...</td>\n      <td>west_coast</td>\n      <td>1992</td>\n      <td>90.909091</td>\n      <td>45.801527</td>\n      <td>287.335333</td>\n      <td>48000</td>\n      <td>/Users/borosabel/Documents/Uni/Thesis/PopMIR/D...</td>\n    </tr>\n    <tr>\n      <th>1366</th>\n      <td>Dr.Dre</td>\n      <td>The Chronic</td>\n      <td>Dr. Dre - Nuthin' but a ＂G＂ Thang (feat. Snoop...</td>\n      <td>west_coast</td>\n      <td>1992</td>\n      <td>95.238095</td>\n      <td>47.244094</td>\n      <td>238.677917</td>\n      <td>48000</td>\n      <td>/Users/borosabel/Documents/Uni/Thesis/PopMIR/D...</td>\n    </tr>\n    <tr>\n      <th>1367</th>\n      <td>Dr.Dre</td>\n      <td>The Chronic</td>\n      <td>Dr. Dre - The Roach (ft. Ruben Cruz, Daz Dilli...</td>\n      <td>west_coast</td>\n      <td>1992</td>\n      <td>89.552239</td>\n      <td>44.117647</td>\n      <td>277.072125</td>\n      <td>48000</td>\n      <td>/Users/borosabel/Documents/Uni/Thesis/PopMIR/D...</td>\n    </tr>\n  </tbody>\n</table>\n<p>1368 rows × 10 columns</p>\n</div>"
     },
     "execution_count": 160,
     "metadata": {},
     "output_type": "execute_result"
    }
   ],
   "source": [
    "result_final"
   ],
   "metadata": {
    "collapsed": false,
    "ExecuteTime": {
     "end_time": "2024-05-05T20:57:02.107670Z",
     "start_time": "2024-05-05T20:57:02.101149Z"
    }
   },
   "id": "ff97944a050ba25a"
  },
  {
   "cell_type": "code",
   "execution_count": 161,
   "outputs": [],
   "source": [
    "lyricses = []\n",
    "for index, item in result_final.iterrows():\n",
    "    lyrics_path = item['Path'].replace('mp3', 'txt')\n",
    "    try:\n",
    "        with open(lyrics_path, 'r', encoding='utf-8') as f:\n",
    "            content = f.read()\n",
    "            lyricses.append(content)\n",
    "    except FileNotFoundError:\n",
    "        print(lyrics_path)"
   ],
   "metadata": {
    "collapsed": false,
    "ExecuteTime": {
     "end_time": "2024-05-05T20:57:04.470069Z",
     "start_time": "2024-05-05T20:57:04.253354Z"
    }
   },
   "id": "310651056e74e123"
  },
  {
   "cell_type": "code",
   "execution_count": 163,
   "outputs": [],
   "source": [
    "result_final['Lyrics'] = lyricses"
   ],
   "metadata": {
    "collapsed": false,
    "ExecuteTime": {
     "end_time": "2024-05-05T20:57:18.407754Z",
     "start_time": "2024-05-05T20:57:18.392999Z"
    }
   },
   "id": "7213de1117d1822"
  },
  {
   "cell_type": "code",
   "execution_count": 164,
   "outputs": [
    {
     "data": {
      "text/plain": "      Artist                                Album  \\\n0      Big L  Lifestylez Ov Da Poor and Dangerous   \n1      Big L  Lifestylez Ov Da Poor and Dangerous   \n2      Big L  Lifestylez Ov Da Poor and Dangerous   \n3      Big L  Lifestylez Ov Da Poor and Dangerous   \n4      Big L  Lifestylez Ov Da Poor and Dangerous   \n...      ...                                  ...   \n1363  Dr.Dre                          The Chronic   \n1364  Dr.Dre                          The Chronic   \n1365  Dr.Dre                          The Chronic   \n1366  Dr.Dre                          The Chronic   \n1367  Dr.Dre                          The Chronic   \n\n                                                   Song       Coast  \\\n0                                        8 Iz Enuff.mp3  east_coast   \n1                                      Da Graveyard.mp3  east_coast   \n2                             I Don't Understand It.mp3  east_coast   \n3                                 No Endz, No Skinz.mp3  east_coast   \n4                                               MVP.mp3  east_coast   \n...                                                 ...         ...   \n1363  Dr. Dre - The Day the Niggaz Took Over (feat. ...  west_coast   \n1364  Dr. Dre - Bitches Ain't Shit (feat. Jewell, Sn...  west_coast   \n1365  Dr. Dre - Stranded On Death Row (feat. Bushwic...  west_coast   \n1366  Dr. Dre - Nuthin' but a ＂G＂ Thang (feat. Snoop...  west_coast   \n1367  Dr. Dre - The Roach (ft. Ruben Cruz, Daz Dilli...  west_coast   \n\n     Release Year      Tempo1     Tempo2  Duration (s)  Sample Rate (Hz)  \\\n0            1995   96.774194  48.000000    298.840000             48000   \n1            1995   93.750000  46.511628    323.760000             48000   \n2            1995   93.750000  47.244094    260.226667             48000   \n3            1995  100.000000  50.420168    208.733333             48000   \n4            1995   86.956522  43.478261    218.866667             48000   \n...           ...         ...        ...           ...               ...   \n1363         1992   93.750000  46.875000    273.206000             48000   \n1364         1992   92.307692  46.153846    287.207625             48000   \n1365         1992   90.909091  45.801527    287.335333             48000   \n1366         1992   95.238095  47.244094    238.677917             48000   \n1367         1992   89.552239  44.117647    277.072125             48000   \n\n                                                   Path  \\\n0     /Users/borosabel/Documents/Uni/Thesis/PopMIR/D...   \n1     /Users/borosabel/Documents/Uni/Thesis/PopMIR/D...   \n2     /Users/borosabel/Documents/Uni/Thesis/PopMIR/D...   \n3     /Users/borosabel/Documents/Uni/Thesis/PopMIR/D...   \n4     /Users/borosabel/Documents/Uni/Thesis/PopMIR/D...   \n...                                                 ...   \n1363  /Users/borosabel/Documents/Uni/Thesis/PopMIR/D...   \n1364  /Users/borosabel/Documents/Uni/Thesis/PopMIR/D...   \n1365  /Users/borosabel/Documents/Uni/Thesis/PopMIR/D...   \n1366  /Users/borosabel/Documents/Uni/Thesis/PopMIR/D...   \n1367  /Users/borosabel/Documents/Uni/Thesis/PopMIR/D...   \n\n                                                 Lyrics  \n0     \\n\\nYo\\nMy crew is in the house\\nTerra, Herb M...  \n1     \\n\\n[Intro:]\\nIt's the number one crew in the ...  \n2     \\n\\n[Verse 1]\\nThere are too many MC's who are...  \n3     \\n\\n[Verse 1:]\\nLet me get to the point real q...  \n4     \\n\\n[Big L]\\n A yo spark up the phillies and p...  \n...                                                 ...  \n1363  \\n\\nI'ma say this and I'ma end mine\\nIf you ai...  \n1364  \\n\\nBitches ain't shit but hoes and tricks\\n\\n...  \n1365  \\n\\n\"Yes, it is I,\" says me\\nAnd all who agree...  \n1366  \\n\\nOne, two, three and to the four\\nSnoop Dog...  \n1367  \\n\\nCannabis Sativa, ha ha\\nOr in the heart of...  \n\n[1368 rows x 11 columns]",
      "text/html": "<div>\n<style scoped>\n    .dataframe tbody tr th:only-of-type {\n        vertical-align: middle;\n    }\n\n    .dataframe tbody tr th {\n        vertical-align: top;\n    }\n\n    .dataframe thead th {\n        text-align: right;\n    }\n</style>\n<table border=\"1\" class=\"dataframe\">\n  <thead>\n    <tr style=\"text-align: right;\">\n      <th></th>\n      <th>Artist</th>\n      <th>Album</th>\n      <th>Song</th>\n      <th>Coast</th>\n      <th>Release Year</th>\n      <th>Tempo1</th>\n      <th>Tempo2</th>\n      <th>Duration (s)</th>\n      <th>Sample Rate (Hz)</th>\n      <th>Path</th>\n      <th>Lyrics</th>\n    </tr>\n  </thead>\n  <tbody>\n    <tr>\n      <th>0</th>\n      <td>Big L</td>\n      <td>Lifestylez Ov Da Poor and Dangerous</td>\n      <td>8 Iz Enuff.mp3</td>\n      <td>east_coast</td>\n      <td>1995</td>\n      <td>96.774194</td>\n      <td>48.000000</td>\n      <td>298.840000</td>\n      <td>48000</td>\n      <td>/Users/borosabel/Documents/Uni/Thesis/PopMIR/D...</td>\n      <td>\\n\\nYo\\nMy crew is in the house\\nTerra, Herb M...</td>\n    </tr>\n    <tr>\n      <th>1</th>\n      <td>Big L</td>\n      <td>Lifestylez Ov Da Poor and Dangerous</td>\n      <td>Da Graveyard.mp3</td>\n      <td>east_coast</td>\n      <td>1995</td>\n      <td>93.750000</td>\n      <td>46.511628</td>\n      <td>323.760000</td>\n      <td>48000</td>\n      <td>/Users/borosabel/Documents/Uni/Thesis/PopMIR/D...</td>\n      <td>\\n\\n[Intro:]\\nIt's the number one crew in the ...</td>\n    </tr>\n    <tr>\n      <th>2</th>\n      <td>Big L</td>\n      <td>Lifestylez Ov Da Poor and Dangerous</td>\n      <td>I Don't Understand It.mp3</td>\n      <td>east_coast</td>\n      <td>1995</td>\n      <td>93.750000</td>\n      <td>47.244094</td>\n      <td>260.226667</td>\n      <td>48000</td>\n      <td>/Users/borosabel/Documents/Uni/Thesis/PopMIR/D...</td>\n      <td>\\n\\n[Verse 1]\\nThere are too many MC's who are...</td>\n    </tr>\n    <tr>\n      <th>3</th>\n      <td>Big L</td>\n      <td>Lifestylez Ov Da Poor and Dangerous</td>\n      <td>No Endz, No Skinz.mp3</td>\n      <td>east_coast</td>\n      <td>1995</td>\n      <td>100.000000</td>\n      <td>50.420168</td>\n      <td>208.733333</td>\n      <td>48000</td>\n      <td>/Users/borosabel/Documents/Uni/Thesis/PopMIR/D...</td>\n      <td>\\n\\n[Verse 1:]\\nLet me get to the point real q...</td>\n    </tr>\n    <tr>\n      <th>4</th>\n      <td>Big L</td>\n      <td>Lifestylez Ov Da Poor and Dangerous</td>\n      <td>MVP.mp3</td>\n      <td>east_coast</td>\n      <td>1995</td>\n      <td>86.956522</td>\n      <td>43.478261</td>\n      <td>218.866667</td>\n      <td>48000</td>\n      <td>/Users/borosabel/Documents/Uni/Thesis/PopMIR/D...</td>\n      <td>\\n\\n[Big L]\\n A yo spark up the phillies and p...</td>\n    </tr>\n    <tr>\n      <th>...</th>\n      <td>...</td>\n      <td>...</td>\n      <td>...</td>\n      <td>...</td>\n      <td>...</td>\n      <td>...</td>\n      <td>...</td>\n      <td>...</td>\n      <td>...</td>\n      <td>...</td>\n      <td>...</td>\n    </tr>\n    <tr>\n      <th>1363</th>\n      <td>Dr.Dre</td>\n      <td>The Chronic</td>\n      <td>Dr. Dre - The Day the Niggaz Took Over (feat. ...</td>\n      <td>west_coast</td>\n      <td>1992</td>\n      <td>93.750000</td>\n      <td>46.875000</td>\n      <td>273.206000</td>\n      <td>48000</td>\n      <td>/Users/borosabel/Documents/Uni/Thesis/PopMIR/D...</td>\n      <td>\\n\\nI'ma say this and I'ma end mine\\nIf you ai...</td>\n    </tr>\n    <tr>\n      <th>1364</th>\n      <td>Dr.Dre</td>\n      <td>The Chronic</td>\n      <td>Dr. Dre - Bitches Ain't Shit (feat. Jewell, Sn...</td>\n      <td>west_coast</td>\n      <td>1992</td>\n      <td>92.307692</td>\n      <td>46.153846</td>\n      <td>287.207625</td>\n      <td>48000</td>\n      <td>/Users/borosabel/Documents/Uni/Thesis/PopMIR/D...</td>\n      <td>\\n\\nBitches ain't shit but hoes and tricks\\n\\n...</td>\n    </tr>\n    <tr>\n      <th>1365</th>\n      <td>Dr.Dre</td>\n      <td>The Chronic</td>\n      <td>Dr. Dre - Stranded On Death Row (feat. Bushwic...</td>\n      <td>west_coast</td>\n      <td>1992</td>\n      <td>90.909091</td>\n      <td>45.801527</td>\n      <td>287.335333</td>\n      <td>48000</td>\n      <td>/Users/borosabel/Documents/Uni/Thesis/PopMIR/D...</td>\n      <td>\\n\\n\"Yes, it is I,\" says me\\nAnd all who agree...</td>\n    </tr>\n    <tr>\n      <th>1366</th>\n      <td>Dr.Dre</td>\n      <td>The Chronic</td>\n      <td>Dr. Dre - Nuthin' but a ＂G＂ Thang (feat. Snoop...</td>\n      <td>west_coast</td>\n      <td>1992</td>\n      <td>95.238095</td>\n      <td>47.244094</td>\n      <td>238.677917</td>\n      <td>48000</td>\n      <td>/Users/borosabel/Documents/Uni/Thesis/PopMIR/D...</td>\n      <td>\\n\\nOne, two, three and to the four\\nSnoop Dog...</td>\n    </tr>\n    <tr>\n      <th>1367</th>\n      <td>Dr.Dre</td>\n      <td>The Chronic</td>\n      <td>Dr. Dre - The Roach (ft. Ruben Cruz, Daz Dilli...</td>\n      <td>west_coast</td>\n      <td>1992</td>\n      <td>89.552239</td>\n      <td>44.117647</td>\n      <td>277.072125</td>\n      <td>48000</td>\n      <td>/Users/borosabel/Documents/Uni/Thesis/PopMIR/D...</td>\n      <td>\\n\\nCannabis Sativa, ha ha\\nOr in the heart of...</td>\n    </tr>\n  </tbody>\n</table>\n<p>1368 rows × 11 columns</p>\n</div>"
     },
     "execution_count": 164,
     "metadata": {},
     "output_type": "execute_result"
    }
   ],
   "source": [
    "result_final"
   ],
   "metadata": {
    "collapsed": false,
    "ExecuteTime": {
     "end_time": "2024-05-05T20:57:20.406408Z",
     "start_time": "2024-05-05T20:57:20.387662Z"
    }
   },
   "id": "4effd385ac3f6bd4"
  },
  {
   "cell_type": "code",
   "execution_count": 165,
   "outputs": [
    {
     "data": {
      "text/plain": "           Artist                 Album     Song       Coast Release Year  \\\n442  Public Enemy  Yo Bum Rush the Show  MPE.mp3  east_coast         1987   \n\n     Tempo1  Tempo2  Duration (s)  Sample Rate (Hz)  \\\n442     NaN     NaN    224.333333             48000   \n\n                                                  Path  \\\n442  /Users/borosabel/Documents/Uni/Thesis/PopMIR/D...   \n\n                                                Lyrics  \n442  \\n\\nPublic Enemy\\n\\nI'm cold gettin' busy whil...  ",
      "text/html": "<div>\n<style scoped>\n    .dataframe tbody tr th:only-of-type {\n        vertical-align: middle;\n    }\n\n    .dataframe tbody tr th {\n        vertical-align: top;\n    }\n\n    .dataframe thead th {\n        text-align: right;\n    }\n</style>\n<table border=\"1\" class=\"dataframe\">\n  <thead>\n    <tr style=\"text-align: right;\">\n      <th></th>\n      <th>Artist</th>\n      <th>Album</th>\n      <th>Song</th>\n      <th>Coast</th>\n      <th>Release Year</th>\n      <th>Tempo1</th>\n      <th>Tempo2</th>\n      <th>Duration (s)</th>\n      <th>Sample Rate (Hz)</th>\n      <th>Path</th>\n      <th>Lyrics</th>\n    </tr>\n  </thead>\n  <tbody>\n    <tr>\n      <th>442</th>\n      <td>Public Enemy</td>\n      <td>Yo Bum Rush the Show</td>\n      <td>MPE.mp3</td>\n      <td>east_coast</td>\n      <td>1987</td>\n      <td>NaN</td>\n      <td>NaN</td>\n      <td>224.333333</td>\n      <td>48000</td>\n      <td>/Users/borosabel/Documents/Uni/Thesis/PopMIR/D...</td>\n      <td>\\n\\nPublic Enemy\\n\\nI'm cold gettin' busy whil...</td>\n    </tr>\n  </tbody>\n</table>\n</div>"
     },
     "execution_count": 165,
     "metadata": {},
     "output_type": "execute_result"
    }
   ],
   "source": [
    "result_final[result_final['Tempo1'].isna()]"
   ],
   "metadata": {
    "collapsed": false,
    "ExecuteTime": {
     "end_time": "2024-05-05T20:57:41.071857Z",
     "start_time": "2024-05-05T20:57:41.026477Z"
    }
   },
   "id": "36666b1dd80bd49d"
  },
  {
   "cell_type": "code",
   "execution_count": 166,
   "outputs": [],
   "source": [
    "a = '/Users/borosabel/Documents/Uni/Thesis/PopMIR/Data/Audio/east_coast/Public Enemy/Yo Bum Rush the Show/MPE.mp3'"
   ],
   "metadata": {
    "collapsed": false,
    "ExecuteTime": {
     "end_time": "2024-05-05T20:57:51.224299Z",
     "start_time": "2024-05-05T20:57:51.210346Z"
    }
   },
   "id": "d21901a46751f4b6"
  },
  {
   "cell_type": "code",
   "execution_count": 167,
   "outputs": [],
   "source": [
    "t1, t2 = process_audio(a)"
   ],
   "metadata": {
    "collapsed": false,
    "ExecuteTime": {
     "end_time": "2024-05-05T20:58:27.471571Z",
     "start_time": "2024-05-05T20:58:09.366558Z"
    }
   },
   "id": "b6cb8bf1961d68f5"
  },
  {
   "cell_type": "code",
   "execution_count": 169,
   "outputs": [],
   "source": [
    "result_final.loc[442, 'Tempo1'] = t1[0]"
   ],
   "metadata": {
    "collapsed": false,
    "ExecuteTime": {
     "end_time": "2024-05-05T20:58:37.772507Z",
     "start_time": "2024-05-05T20:58:37.762727Z"
    }
   },
   "id": "36d6298e28b901fa"
  },
  {
   "cell_type": "code",
   "execution_count": 170,
   "outputs": [],
   "source": [
    "result_final.loc[442, 'Tempo2'] = t2[0]"
   ],
   "metadata": {
    "collapsed": false,
    "ExecuteTime": {
     "end_time": "2024-05-05T20:58:42.714749Z",
     "start_time": "2024-05-05T20:58:42.697147Z"
    }
   },
   "id": "1a033540f24dec57"
  },
  {
   "cell_type": "code",
   "execution_count": 171,
   "outputs": [
    {
     "data": {
      "text/plain": "      Artist                                Album  \\\n0      Big L  Lifestylez Ov Da Poor and Dangerous   \n1      Big L  Lifestylez Ov Da Poor and Dangerous   \n2      Big L  Lifestylez Ov Da Poor and Dangerous   \n3      Big L  Lifestylez Ov Da Poor and Dangerous   \n4      Big L  Lifestylez Ov Da Poor and Dangerous   \n...      ...                                  ...   \n1363  Dr.Dre                          The Chronic   \n1364  Dr.Dre                          The Chronic   \n1365  Dr.Dre                          The Chronic   \n1366  Dr.Dre                          The Chronic   \n1367  Dr.Dre                          The Chronic   \n\n                                                   Song       Coast  \\\n0                                        8 Iz Enuff.mp3  east_coast   \n1                                      Da Graveyard.mp3  east_coast   \n2                             I Don't Understand It.mp3  east_coast   \n3                                 No Endz, No Skinz.mp3  east_coast   \n4                                               MVP.mp3  east_coast   \n...                                                 ...         ...   \n1363  Dr. Dre - The Day the Niggaz Took Over (feat. ...  west_coast   \n1364  Dr. Dre - Bitches Ain't Shit (feat. Jewell, Sn...  west_coast   \n1365  Dr. Dre - Stranded On Death Row (feat. Bushwic...  west_coast   \n1366  Dr. Dre - Nuthin' but a ＂G＂ Thang (feat. Snoop...  west_coast   \n1367  Dr. Dre - The Roach (ft. Ruben Cruz, Daz Dilli...  west_coast   \n\n     Release Year      Tempo1     Tempo2  Duration (s)  Sample Rate (Hz)  \\\n0            1995   96.774194  48.000000    298.840000             48000   \n1            1995   93.750000  46.511628    323.760000             48000   \n2            1995   93.750000  47.244094    260.226667             48000   \n3            1995  100.000000  50.420168    208.733333             48000   \n4            1995   86.956522  43.478261    218.866667             48000   \n...           ...         ...        ...           ...               ...   \n1363         1992   93.750000  46.875000    273.206000             48000   \n1364         1992   92.307692  46.153846    287.207625             48000   \n1365         1992   90.909091  45.801527    287.335333             48000   \n1366         1992   95.238095  47.244094    238.677917             48000   \n1367         1992   89.552239  44.117647    277.072125             48000   \n\n                                                   Path  \\\n0     /Users/borosabel/Documents/Uni/Thesis/PopMIR/D...   \n1     /Users/borosabel/Documents/Uni/Thesis/PopMIR/D...   \n2     /Users/borosabel/Documents/Uni/Thesis/PopMIR/D...   \n3     /Users/borosabel/Documents/Uni/Thesis/PopMIR/D...   \n4     /Users/borosabel/Documents/Uni/Thesis/PopMIR/D...   \n...                                                 ...   \n1363  /Users/borosabel/Documents/Uni/Thesis/PopMIR/D...   \n1364  /Users/borosabel/Documents/Uni/Thesis/PopMIR/D...   \n1365  /Users/borosabel/Documents/Uni/Thesis/PopMIR/D...   \n1366  /Users/borosabel/Documents/Uni/Thesis/PopMIR/D...   \n1367  /Users/borosabel/Documents/Uni/Thesis/PopMIR/D...   \n\n                                                 Lyrics  \n0     \\n\\nYo\\nMy crew is in the house\\nTerra, Herb M...  \n1     \\n\\n[Intro:]\\nIt's the number one crew in the ...  \n2     \\n\\n[Verse 1]\\nThere are too many MC's who are...  \n3     \\n\\n[Verse 1:]\\nLet me get to the point real q...  \n4     \\n\\n[Big L]\\n A yo spark up the phillies and p...  \n...                                                 ...  \n1363  \\n\\nI'ma say this and I'ma end mine\\nIf you ai...  \n1364  \\n\\nBitches ain't shit but hoes and tricks\\n\\n...  \n1365  \\n\\n\"Yes, it is I,\" says me\\nAnd all who agree...  \n1366  \\n\\nOne, two, three and to the four\\nSnoop Dog...  \n1367  \\n\\nCannabis Sativa, ha ha\\nOr in the heart of...  \n\n[1368 rows x 11 columns]",
      "text/html": "<div>\n<style scoped>\n    .dataframe tbody tr th:only-of-type {\n        vertical-align: middle;\n    }\n\n    .dataframe tbody tr th {\n        vertical-align: top;\n    }\n\n    .dataframe thead th {\n        text-align: right;\n    }\n</style>\n<table border=\"1\" class=\"dataframe\">\n  <thead>\n    <tr style=\"text-align: right;\">\n      <th></th>\n      <th>Artist</th>\n      <th>Album</th>\n      <th>Song</th>\n      <th>Coast</th>\n      <th>Release Year</th>\n      <th>Tempo1</th>\n      <th>Tempo2</th>\n      <th>Duration (s)</th>\n      <th>Sample Rate (Hz)</th>\n      <th>Path</th>\n      <th>Lyrics</th>\n    </tr>\n  </thead>\n  <tbody>\n    <tr>\n      <th>0</th>\n      <td>Big L</td>\n      <td>Lifestylez Ov Da Poor and Dangerous</td>\n      <td>8 Iz Enuff.mp3</td>\n      <td>east_coast</td>\n      <td>1995</td>\n      <td>96.774194</td>\n      <td>48.000000</td>\n      <td>298.840000</td>\n      <td>48000</td>\n      <td>/Users/borosabel/Documents/Uni/Thesis/PopMIR/D...</td>\n      <td>\\n\\nYo\\nMy crew is in the house\\nTerra, Herb M...</td>\n    </tr>\n    <tr>\n      <th>1</th>\n      <td>Big L</td>\n      <td>Lifestylez Ov Da Poor and Dangerous</td>\n      <td>Da Graveyard.mp3</td>\n      <td>east_coast</td>\n      <td>1995</td>\n      <td>93.750000</td>\n      <td>46.511628</td>\n      <td>323.760000</td>\n      <td>48000</td>\n      <td>/Users/borosabel/Documents/Uni/Thesis/PopMIR/D...</td>\n      <td>\\n\\n[Intro:]\\nIt's the number one crew in the ...</td>\n    </tr>\n    <tr>\n      <th>2</th>\n      <td>Big L</td>\n      <td>Lifestylez Ov Da Poor and Dangerous</td>\n      <td>I Don't Understand It.mp3</td>\n      <td>east_coast</td>\n      <td>1995</td>\n      <td>93.750000</td>\n      <td>47.244094</td>\n      <td>260.226667</td>\n      <td>48000</td>\n      <td>/Users/borosabel/Documents/Uni/Thesis/PopMIR/D...</td>\n      <td>\\n\\n[Verse 1]\\nThere are too many MC's who are...</td>\n    </tr>\n    <tr>\n      <th>3</th>\n      <td>Big L</td>\n      <td>Lifestylez Ov Da Poor and Dangerous</td>\n      <td>No Endz, No Skinz.mp3</td>\n      <td>east_coast</td>\n      <td>1995</td>\n      <td>100.000000</td>\n      <td>50.420168</td>\n      <td>208.733333</td>\n      <td>48000</td>\n      <td>/Users/borosabel/Documents/Uni/Thesis/PopMIR/D...</td>\n      <td>\\n\\n[Verse 1:]\\nLet me get to the point real q...</td>\n    </tr>\n    <tr>\n      <th>4</th>\n      <td>Big L</td>\n      <td>Lifestylez Ov Da Poor and Dangerous</td>\n      <td>MVP.mp3</td>\n      <td>east_coast</td>\n      <td>1995</td>\n      <td>86.956522</td>\n      <td>43.478261</td>\n      <td>218.866667</td>\n      <td>48000</td>\n      <td>/Users/borosabel/Documents/Uni/Thesis/PopMIR/D...</td>\n      <td>\\n\\n[Big L]\\n A yo spark up the phillies and p...</td>\n    </tr>\n    <tr>\n      <th>...</th>\n      <td>...</td>\n      <td>...</td>\n      <td>...</td>\n      <td>...</td>\n      <td>...</td>\n      <td>...</td>\n      <td>...</td>\n      <td>...</td>\n      <td>...</td>\n      <td>...</td>\n      <td>...</td>\n    </tr>\n    <tr>\n      <th>1363</th>\n      <td>Dr.Dre</td>\n      <td>The Chronic</td>\n      <td>Dr. Dre - The Day the Niggaz Took Over (feat. ...</td>\n      <td>west_coast</td>\n      <td>1992</td>\n      <td>93.750000</td>\n      <td>46.875000</td>\n      <td>273.206000</td>\n      <td>48000</td>\n      <td>/Users/borosabel/Documents/Uni/Thesis/PopMIR/D...</td>\n      <td>\\n\\nI'ma say this and I'ma end mine\\nIf you ai...</td>\n    </tr>\n    <tr>\n      <th>1364</th>\n      <td>Dr.Dre</td>\n      <td>The Chronic</td>\n      <td>Dr. Dre - Bitches Ain't Shit (feat. Jewell, Sn...</td>\n      <td>west_coast</td>\n      <td>1992</td>\n      <td>92.307692</td>\n      <td>46.153846</td>\n      <td>287.207625</td>\n      <td>48000</td>\n      <td>/Users/borosabel/Documents/Uni/Thesis/PopMIR/D...</td>\n      <td>\\n\\nBitches ain't shit but hoes and tricks\\n\\n...</td>\n    </tr>\n    <tr>\n      <th>1365</th>\n      <td>Dr.Dre</td>\n      <td>The Chronic</td>\n      <td>Dr. Dre - Stranded On Death Row (feat. Bushwic...</td>\n      <td>west_coast</td>\n      <td>1992</td>\n      <td>90.909091</td>\n      <td>45.801527</td>\n      <td>287.335333</td>\n      <td>48000</td>\n      <td>/Users/borosabel/Documents/Uni/Thesis/PopMIR/D...</td>\n      <td>\\n\\n\"Yes, it is I,\" says me\\nAnd all who agree...</td>\n    </tr>\n    <tr>\n      <th>1366</th>\n      <td>Dr.Dre</td>\n      <td>The Chronic</td>\n      <td>Dr. Dre - Nuthin' but a ＂G＂ Thang (feat. Snoop...</td>\n      <td>west_coast</td>\n      <td>1992</td>\n      <td>95.238095</td>\n      <td>47.244094</td>\n      <td>238.677917</td>\n      <td>48000</td>\n      <td>/Users/borosabel/Documents/Uni/Thesis/PopMIR/D...</td>\n      <td>\\n\\nOne, two, three and to the four\\nSnoop Dog...</td>\n    </tr>\n    <tr>\n      <th>1367</th>\n      <td>Dr.Dre</td>\n      <td>The Chronic</td>\n      <td>Dr. Dre - The Roach (ft. Ruben Cruz, Daz Dilli...</td>\n      <td>west_coast</td>\n      <td>1992</td>\n      <td>89.552239</td>\n      <td>44.117647</td>\n      <td>277.072125</td>\n      <td>48000</td>\n      <td>/Users/borosabel/Documents/Uni/Thesis/PopMIR/D...</td>\n      <td>\\n\\nCannabis Sativa, ha ha\\nOr in the heart of...</td>\n    </tr>\n  </tbody>\n</table>\n<p>1368 rows × 11 columns</p>\n</div>"
     },
     "execution_count": 171,
     "metadata": {},
     "output_type": "execute_result"
    }
   ],
   "source": [
    "result_final"
   ],
   "metadata": {
    "collapsed": false,
    "ExecuteTime": {
     "end_time": "2024-05-05T20:58:46.489298Z",
     "start_time": "2024-05-05T20:58:46.469398Z"
    }
   },
   "id": "9a57fb582a3674cf"
  },
  {
   "cell_type": "code",
   "execution_count": 172,
   "outputs": [],
   "source": [
    "result_final.to_excel(\"baseline_data.xlsx\", sheet_name=\"Sheet1\", index=False)"
   ],
   "metadata": {
    "collapsed": false,
    "ExecuteTime": {
     "end_time": "2024-05-05T21:01:02.179068Z",
     "start_time": "2024-05-05T21:01:01.782032Z"
    }
   },
   "id": "e37b346e5e363365"
  },
  {
   "cell_type": "code",
   "execution_count": 173,
   "outputs": [
    {
     "data": {
      "text/plain": "array([48000, 44100])"
     },
     "execution_count": 173,
     "metadata": {},
     "output_type": "execute_result"
    }
   ],
   "source": [
    "result_final['Sample Rate (Hz)'].unique()"
   ],
   "metadata": {
    "collapsed": false,
    "ExecuteTime": {
     "end_time": "2024-05-05T21:29:45.650062Z",
     "start_time": "2024-05-05T21:29:45.639266Z"
    }
   },
   "id": "5fee49e5966182ca"
  },
  {
   "cell_type": "code",
   "execution_count": null,
   "outputs": [],
   "source": [],
   "metadata": {
    "collapsed": false
   },
   "id": "2f5b0f3e9186ceb2"
  }
 ],
 "metadata": {
  "kernelspec": {
   "display_name": "Python 3",
   "language": "python",
   "name": "python3"
  },
  "language_info": {
   "codemirror_mode": {
    "name": "ipython",
    "version": 2
   },
   "file_extension": ".py",
   "mimetype": "text/x-python",
   "name": "python",
   "nbconvert_exporter": "python",
   "pygments_lexer": "ipython2",
   "version": "2.7.6"
  }
 },
 "nbformat": 4,
 "nbformat_minor": 5
}
