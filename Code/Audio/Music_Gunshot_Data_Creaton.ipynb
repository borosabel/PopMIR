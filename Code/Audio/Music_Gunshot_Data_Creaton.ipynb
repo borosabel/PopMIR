{
 "cells": [
  {
   "cell_type": "code",
   "id": "initial_id",
   "metadata": {
    "collapsed": true,
    "ExecuteTime": {
     "end_time": "2024-09-02T15:49:42.807943Z",
     "start_time": "2024-09-02T15:49:42.799107Z"
    }
   },
   "source": [
    "import numpy as np\n",
    "\n",
    "# Create monkey patches\n",
    "np.float = float\n",
    "np.int = int\n",
    "np.object = object\n",
    "np.bool = bool"
   ],
   "execution_count": 19,
   "outputs": []
  },
  {
   "metadata": {
    "ExecuteTime": {
     "end_time": "2024-09-02T15:49:42.960800Z",
     "start_time": "2024-09-02T15:49:42.951831Z"
    }
   },
   "cell_type": "code",
   "source": [
    "import pandas as pd\n",
    "import re\n",
    "import ast\n",
    "import gunshot_utils as utils\n",
    "import importlib\n",
    "import os\n",
    "import random\n",
    "import pandas as pd\n",
    "import torchaudio\n",
    "\n",
    "importlib.reload(utils)"
   ],
   "id": "3af221682ce84d65",
   "execution_count": 20,
   "outputs": []
  },
  {
   "metadata": {
    "ExecuteTime": {
     "end_time": "2024-09-02T15:49:11.712680Z",
     "start_time": "2024-09-02T15:49:11.706750Z"
    }
   },
   "cell_type": "code",
   "source": [
    "# This function is needed because for some reason the gunshots start list is treated as string due to the saving types of excel.\n",
    "# INPUT gunshot_times as a string [time1, time2]\n",
    "# OUTPUT gunshot_times as actual list of numbers\n",
    "def preprocess_gunshot_times(gunshot_times):    \n",
    "    # Remove multiple spaces\n",
    "    gunshot_times = re.sub(r'\\s+', ' ', gunshot_times).strip()\n",
    "    \n",
    "    # Insert commas between numbers if missing\n",
    "    gunshot_times = re.sub(r'(?<=\\d)\\s(?=\\d)', ', ', gunshot_times)\n",
    "    \n",
    "    # Ensure there are no trailing commas\n",
    "    gunshot_times = gunshot_times.replace(', ]', ']')\n",
    "    \n",
    "    try:\n",
    "        return ast.literal_eval(gunshot_times)\n",
    "    except (ValueError, SyntaxError):\n",
    "        return []"
   ],
   "id": "f2bf71cc32af1696",
   "execution_count": 12,
   "outputs": []
  },
  {
   "metadata": {
    "ExecuteTime": {
     "end_time": "2024-09-02T15:49:13.259863Z",
     "start_time": "2024-09-02T15:49:13.197602Z"
    }
   },
   "cell_type": "code",
   "source": [
    "gunshots = pd.read_csv('/Users/borosabel/Documents/Uni/Thesis/PopMIR/Data/Audio/Gunshots/7004819/edge-collected-gunshot-audio/gunshot-audio-all-metadata.csv')\n",
    "gunshots = gunshots[['filename', 'num_gunshots', 'gunshot_location_in_seconds']]\n",
    "\n",
    "# Apply the preprocessing function to the 'gunshot_location_in_seconds' column so we have proper numbers\n",
    "gunshots['gunshot_location_in_seconds'] = gunshots['gunshot_location_in_seconds'].apply(preprocess_gunshot_times)"
   ],
   "id": "f468e0132a1a3f0f",
   "execution_count": 13,
   "outputs": []
  },
  {
   "metadata": {
    "ExecuteTime": {
     "end_time": "2024-09-02T15:49:13.597574Z",
     "start_time": "2024-09-02T15:49:13.586944Z"
    }
   },
   "cell_type": "code",
   "source": [
    "# Since the previously gunshot data is not really good. I will try to build up my on from the arcive folder which contains good and correct gunshots.\n",
    "\n",
    "def get_random_timestamp(file_path):\n",
    "    waveform, sample_rate = torchaudio.load(file_path)\n",
    "    duration_seconds = waveform.shape[1] / sample_rate\n",
    "    random_timestamp = random.uniform(0, duration_seconds)\n",
    "    return [random_timestamp]\n",
    "\n",
    "def find_wav_files_and_generate_timestamps(directory):\n",
    "    records = []\n",
    "\n",
    "    for root, _, files in os.walk(directory):\n",
    "        for file in files:\n",
    "            if file.endswith('.wav'):\n",
    "                file_path = os.path.join(root, file)\n",
    "                random_timestamp = [0.10]\n",
    "                records.append({\n",
    "                    'filename': file_path,\n",
    "                    'gunshot_location_in_seconds': random_timestamp\n",
    "                })\n",
    "\n",
    "    return pd.DataFrame(records)\n",
    "\n",
    "# Example usage\n",
    "\n",
    "# Replace with the path to your directory with gunshots\n",
    "gunshot_directory = '/Users/borosabel/Documents/Uni/Thesis/PopMIR/Data/Audio/Gunshots/archive' \n",
    "gunshots_timestamps_df = find_wav_files_and_generate_timestamps(gunshot_directory)"
   ],
   "id": "2bcc86405209d818",
   "execution_count": 14,
   "outputs": []
  },
  {
   "metadata": {
    "ExecuteTime": {
     "end_time": "2024-09-02T15:49:17.900593Z",
     "start_time": "2024-09-02T15:49:14.343089Z"
    }
   },
   "cell_type": "code",
   "source": [
    "music_df = pd.read_excel('/Users/borosabel/Documents/Uni/Thesis/PopMIR/Data/Excel/baseline_data_w_topics_w_features.xlsx', engine='openpyxl')\n",
    "\n",
    "music = music_df.rename(columns={'Path': 'filename'})\n",
    "music['label'] = 0\n",
    "\n",
    "music_labels = music[['label']]\n",
    "music_paths_df = music[['filename']]"
   ],
   "id": "f1c9197e1aaa643a",
   "execution_count": 15,
   "outputs": []
  },
  {
   "metadata": {
    "ExecuteTime": {
     "end_time": "2024-09-03T16:18:29.027281Z",
     "start_time": "2024-09-03T16:18:28.941108Z"
    }
   },
   "cell_type": "code",
   "source": "gunshots_timestamps_df.head()",
   "id": "333af58e7f07ed80",
   "execution_count": 1,
   "outputs": []
  },
  {
   "metadata": {
    "ExecuteTime": {
     "end_time": "2024-09-02T15:49:17.909350Z",
     "start_time": "2024-09-02T15:49:17.907525Z"
    }
   },
   "cell_type": "code",
   "source": "# At this point we have gunshot_timestamps_df and music_paths_df ",
   "id": "715382d5cf76333a",
   "execution_count": 17,
   "outputs": []
  },
  {
   "metadata": {
    "ExecuteTime": {
     "end_time": "2024-09-02T16:13:51.159946Z",
     "start_time": "2024-09-02T15:49:45.830182Z"
    }
   },
   "cell_type": "code",
   "source": "df = utils.generate_data_samples(music, gunshots_timestamps_df, number_of_samples_w_gunshots=2000, number_of_samples_wo_gunshots=0)",
   "id": "b25e88ae2829c955",
   "execution_count": 21,
   "outputs": []
  },
  {
   "metadata": {
    "ExecuteTime": {
     "end_time": "2024-08-31T09:51:46.158544Z",
     "start_time": "2024-08-31T09:51:46.147679Z"
    }
   },
   "cell_type": "code",
   "source": "df",
   "id": "f59bbeda5b8af42f",
   "execution_count": 87,
   "outputs": []
  },
  {
   "metadata": {
    "ExecuteTime": {
     "end_time": "2024-09-02T21:46:14.990494Z",
     "start_time": "2024-09-02T21:46:14.955957Z"
    }
   },
   "cell_type": "code",
   "source": [
    "import os\n",
    "import shutil\n",
    "import glob\n",
    "\n",
    "def get_next_file_index(destination_folder, prefix):\n",
    "    \"\"\"\n",
    "    Get the next available file index in the destination folder with a specific prefix.\n",
    "    \"\"\"\n",
    "    existing_files = [f for f in os.listdir(destination_folder) if f.startswith(prefix) and f.endswith('.mp3')]\n",
    "    if not existing_files:\n",
    "        return 0\n",
    "    indices = [int(f[len(prefix):-4]) for f in existing_files if f[len(prefix):-4].isdigit()]\n",
    "    return max(indices) + 1\n",
    "\n",
    "def copy_files_incrementally(source_folder, destination_folder, start_index):\n",
    "    \"\"\"\n",
    "    Recursively copy .wav files from the source_folder to the destination_folder, renaming them\n",
    "    incrementally starting from start_index.\n",
    "    \"\"\"\n",
    "    # Define the file prefix\n",
    "    prefix = 'with_gunshot_'\n",
    "\n",
    "    # Find all .wav files recursively in the source folder\n",
    "    wav_files = glob.glob(os.path.join(source_folder, '**', '*.wav'), recursive=True)\n",
    "\n",
    "    # Get the starting index for the new files\n",
    "    next_index = max(start_index, get_next_file_index(destination_folder, prefix))\n",
    "\n",
    "    # Copy and rename files\n",
    "    for wav_file in wav_files:\n",
    "        # Create the new filename\n",
    "        new_filename = f'{prefix}{next_index}.wav'\n",
    "        destination_path = os.path.join(destination_folder, new_filename)\n",
    "\n",
    "        # Copy the file to the destination directory with the new name\n",
    "        shutil.copy2(wav_file, destination_path)\n",
    "        print(f'Copied {wav_file} to {destination_path}')\n",
    "\n",
    "        # Increment the index for the next file\n",
    "        next_index += 1"
   ],
   "id": "22c4064127bd3ab8",
   "execution_count": 24,
   "outputs": []
  },
  {
   "metadata": {
    "ExecuteTime": {
     "end_time": "2024-09-02T21:46:15.583163Z",
     "start_time": "2024-09-02T21:46:15.568934Z"
    }
   },
   "cell_type": "code",
   "source": "get_next_file_index('/Users/borosabel/Documents/Uni/Thesis/PopMIR/Data/Audio/Gunshots/Combined', 'with_gunshot_')",
   "id": "d0e27d999088c14c",
   "execution_count": 25,
   "outputs": []
  },
  {
   "metadata": {},
   "cell_type": "code",
   "execution_count": null,
   "source": "/Users/borosabel/Documents/Uni/Thesis/PopMIR/Data/Audio/Gunshots/Combined_test",
   "id": "980c00a05b758ca2",
   "outputs": []
  },
  {
   "metadata": {
    "ExecuteTime": {
     "end_time": "2024-09-02T21:48:17.394188Z",
     "start_time": "2024-09-02T21:48:15.912023Z"
    }
   },
   "cell_type": "code",
   "source": "copy_files_incrementally('/Users/borosabel/Documents/Uni/Thesis/PopMIR/Data/Audio/Gunshots/archive', '/Users/borosabel/Documents/Uni/Thesis/PopMIR/Data/Audio/Gunshots/Combined', 7026)",
   "id": "794a2347a45001a9",
   "execution_count": 27,
   "outputs": []
  },
  {
   "metadata": {},
   "cell_type": "code",
   "execution_count": null,
   "source": "",
   "id": "40c804bfd6c38808",
   "outputs": []
  }
 ],
 "metadata": {
  "kernelspec": {
   "display_name": "Python 3",
   "language": "python",
   "name": "python3"
  },
  "language_info": {
   "codemirror_mode": {
    "name": "ipython",
    "version": 2
   },
   "file_extension": ".py",
   "mimetype": "text/x-python",
   "name": "python",
   "nbconvert_exporter": "python",
   "pygments_lexer": "ipython2",
   "version": "2.7.6"
  }
 },
 "nbformat": 4,
 "nbformat_minor": 5
}
