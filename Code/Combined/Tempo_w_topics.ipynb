{
 "cells": [
  {
   "cell_type": "code",
   "execution_count": 1,
   "id": "initial_id",
   "metadata": {
    "collapsed": true,
    "ExecuteTime": {
     "end_time": "2024-06-03T11:05:03.711948Z",
     "start_time": "2024-06-03T11:05:03.710262Z"
    }
   },
   "source": [
    "import numpy as np\n",
    "\n",
    "# Create monkey patches\n",
    "np.float = float\n",
    "np.int = int\n",
    "np.object = object\n",
    "np.bool = bool"
   ],
   "outputs": []
  },
  {
   "cell_type": "code",
   "execution_count": 2,
   "source": [
    "from madmom.features.tempo import TempoEstimationProcessor\n",
    "from madmom.features.beats import RNNBeatProcessor\n",
    "from madmom.processors import SequentialProcessor\n",
    "\n",
    "import librosa\n",
    "import librosa.display\n",
    "import pandas as pd\n",
    "import utility_functions as utils\n",
    "import importlib\n",
    "import numpy as np\n",
    "import seaborn as sns\n",
    "import matplotlib.pyplot as plt\n",
    "import plotly.express as px\n",
    "from ipywidgets import interact, widgets\n",
    "\n",
    "importlib.reload(utils)"
   ],
   "metadata": {
    "collapsed": false,
    "ExecuteTime": {
     "end_time": "2024-06-03T11:06:19.293183Z",
     "start_time": "2024-06-03T11:06:16.286554Z"
    }
   },
   "id": "2a3a4aac296c5fa4",
   "outputs": []
  },
  {
   "cell_type": "code",
   "execution_count": 3,
   "source": [
    "# Here I am just loading the saved progress because calculating everything would take like 2 days but above you can see the utility functions I used to calculate the features.\n",
    "df = pd.read_excel('/Users/borosabel/Documents/Uni/Thesis/PopMIR/Data/Excel/baseline_data_w_topics_w_features.xlsx', engine='openpyxl')"
   ],
   "metadata": {
    "collapsed": false,
    "ExecuteTime": {
     "end_time": "2024-06-03T11:06:22.506561Z",
     "start_time": "2024-06-03T11:06:19.293021Z"
    }
   },
   "id": "135e43415b47e2bb",
   "outputs": []
  },
  {
   "cell_type": "code",
   "execution_count": 4,
   "source": [
    "df"
   ],
   "metadata": {
    "collapsed": false,
    "ExecuteTime": {
     "end_time": "2024-06-03T11:06:22.543572Z",
     "start_time": "2024-06-03T11:06:22.510198Z"
    }
   },
   "id": "4b4804efb005e375",
   "outputs": []
  },
  {
   "cell_type": "code",
   "execution_count": 7,
   "source": [
    "features = ['Tempo1', 'Duration (s)'] + [col for col in df.columns if 'MFCC_Mean' in col][:10]\n",
    "correlation_matrix = df[features].corr()\n",
    "\n",
    "plt.figure(figsize=(10, 8))\n",
    "sns.heatmap(correlation_matrix, annot=True, fmt=\".2f\", cmap='coolwarm')\n",
    "plt.title('Correlation Matrix of Selected Features')\n",
    "plt.show()"
   ],
   "metadata": {
    "collapsed": false,
    "ExecuteTime": {
     "end_time": "2024-06-03T11:07:45.798459Z",
     "start_time": "2024-06-03T11:07:45.405529Z"
    }
   },
   "id": "a874a69dd3a542b6",
   "outputs": []
  },
  {
   "cell_type": "code",
   "execution_count": 8,
   "source": [
    "import matplotlib.pyplot as plt\n",
    "import seaborn as sns\n",
    "import pandas as pd\n",
    "\n",
    "# Assume 'df' is your DataFrame and it's already been loaded\n",
    "# Calculate mean tempo for each topic\n",
    "mean_tempos = df.groupby('Topic Model')['Tempo1'].mean().reset_index()\n",
    "\n",
    "# Create a repeating color list\n",
    "colors = ['red', 'blue'] * (len(mean_tempos) // 2 + 1)  # Ensures the list is long enough\n",
    "\n",
    "plt.figure(figsize=(12, 8))\n",
    "sns.barplot(x='Topic Model', y='Tempo1', data=mean_tempos, palette=colors)\n",
    "plt.title('Average Tempo by Topic Model')\n",
    "plt.xlabel('Topic Model')\n",
    "plt.ylabel('Average Tempo')\n",
    "plt.xticks(rotation=45)  # Rotate the labels for better readability\n",
    "plt.show()"
   ],
   "metadata": {
    "collapsed": false,
    "ExecuteTime": {
     "end_time": "2024-06-03T11:08:29.718997Z",
     "start_time": "2024-06-03T11:08:29.619283Z"
    }
   },
   "id": "578fa074c50f3ba8",
   "outputs": []
  },
  {
   "cell_type": "code",
   "execution_count": 9,
   "source": [
    "# Group by 'Release Year' and 'Topic Model', then calculate the mean tempo\n",
    "tempo_per_topic_per_year = df.groupby(['Release Year', 'Topic Model'])['Tempo1'].mean().reset_index()"
   ],
   "metadata": {
    "collapsed": false,
    "ExecuteTime": {
     "end_time": "2024-06-03T11:08:33.088686Z",
     "start_time": "2024-06-03T11:08:33.083218Z"
    }
   },
   "id": "588e4c6ecf7dc363",
   "outputs": []
  },
  {
   "cell_type": "code",
   "execution_count": 12,
   "source": [
    "df"
   ],
   "metadata": {
    "collapsed": false,
    "ExecuteTime": {
     "end_time": "2024-06-03T11:24:11.323954Z",
     "start_time": "2024-06-03T11:24:11.264672Z"
    }
   },
   "id": "a7125a4a7c17ccb9",
   "outputs": []
  },
  {
   "cell_type": "code",
   "execution_count": 15,
   "source": [
    "import matplotlib.pyplot as plt\n",
    "import seaborn as sns\n",
    "\n",
    "topic_label_mapping = {\n",
    "    0: 'Violent',\n",
    "    1: 'Street Life'\n",
    "    # Add more mappings as needed\n",
    "}\n",
    "\n",
    "# Replace the 'Topic Model' column with the new labels\n",
    "tempo_per_topic_per_year['Topic Model'] = tempo_per_topic_per_year['Topic Model'].replace(topic_label_mapping)\n",
    "\n",
    "palette = {'Violent': 'red', 'Street Life': 'blue'}\n",
    "\n",
    "# Plotting\n",
    "plt.figure(figsize=(14, 8))\n",
    "sns.lineplot(\n",
    "    x='Release Year',\n",
    "    y='Tempo1',\n",
    "    hue='Topic Model',\n",
    "    data=tempo_per_topic_per_year,\n",
    "    marker='o',\n",
    "    palette=palette  # Use the custom palette\n",
    ")\n",
    "plt.title('Tempo per Topic Over Time')\n",
    "plt.xlabel('Release Year')\n",
    "plt.ylabel('Average Tempo')\n",
    "plt.legend(title='Topic Model', loc='upper left')\n",
    "plt.grid(True)\n",
    "plt.savefig('tempo_per_topic_model_over_time')\n",
    "plt.show()"
   ],
   "metadata": {
    "collapsed": false,
    "ExecuteTime": {
     "end_time": "2024-06-03T11:26:57.391345Z",
     "start_time": "2024-06-03T11:26:57.113734Z"
    }
   },
   "id": "465119b1897d15b1",
   "outputs": []
  },
  {
   "cell_type": "code",
   "execution_count": 13,
   "source": [
    "df['Topic Model']"
   ],
   "metadata": {
    "collapsed": false,
    "ExecuteTime": {
     "end_time": "2024-05-25T19:32:48.912946Z",
     "start_time": "2024-05-25T19:32:48.909325Z"
    }
   },
   "id": "94903f78a032ac70",
   "outputs": []
  },
  {
   "cell_type": "code",
   "execution_count": 14,
   "source": [
    "# Group by 'Release Year' and 'Topic Model', then calculate the mean tempo\n",
    "df_1 = df[df['Topic Model'] == 1]\n",
    "tempo_per_topic_per_year_1 = df_1.groupby(['Release Year', 'Coast'])['Tempo1'].mean().reset_index()"
   ],
   "metadata": {
    "collapsed": false,
    "ExecuteTime": {
     "end_time": "2024-05-25T19:32:49.123307Z",
     "start_time": "2024-05-25T19:32:49.119659Z"
    }
   },
   "id": "218932100e11a1a7",
   "outputs": []
  },
  {
   "cell_type": "code",
   "execution_count": 15,
   "source": [
    "import matplotlib.pyplot as plt\n",
    "import seaborn as sns\n",
    "\n",
    "palette = {'east_coast': 'red', 'west_coast': 'blue'}  # Add more topics and colors as needed\n",
    "\n",
    "plt.figure(figsize=(14, 8))\n",
    "sns.lineplot(\n",
    "    x='Release Year',\n",
    "    y='Tempo1',\n",
    "    hue='Coast',\n",
    "    data=tempo_per_topic_per_year_1,\n",
    "    marker='o',\n",
    "    palette=palette  # Use the custom palette\n",
    ")\n",
    "plt.title('Tempo per Topic Over Time')\n",
    "plt.xlabel('Release Year')\n",
    "plt.ylabel('Average Tempo')\n",
    "plt.legend(title='Topic Model', bbox_to_anchor=(1.05, 1), loc='upper left')\n",
    "plt.grid(True)\n",
    "plt.show()"
   ],
   "metadata": {
    "collapsed": false,
    "ExecuteTime": {
     "end_time": "2024-05-25T19:32:50.040454Z",
     "start_time": "2024-05-25T19:32:49.880975Z"
    }
   },
   "id": "18aa8a7a990a326f",
   "outputs": []
  },
  {
   "cell_type": "code",
   "execution_count": 18,
   "source": [
    "df.columns"
   ],
   "metadata": {
    "collapsed": false,
    "ExecuteTime": {
     "end_time": "2024-05-25T19:38:02.680794Z",
     "start_time": "2024-05-25T19:38:02.642051Z"
    }
   },
   "id": "54668ef1d979d5de",
   "outputs": []
  },
  {
   "cell_type": "code",
   "execution_count": 16,
   "source": [
    "# Group by 'Release Year' and 'Topic Model', then calculate the mean tempo\n",
    "df_0 = df[df['Topic Model'] == 0]\n",
    "tempo_per_topic_per_year_0 = df_0.groupby(['Release Year', 'Coast'])['Tempo1'].mean().reset_index()"
   ],
   "metadata": {
    "collapsed": false,
    "ExecuteTime": {
     "end_time": "2024-05-25T19:33:26.083251Z",
     "start_time": "2024-05-25T19:33:26.071792Z"
    }
   },
   "id": "d035b2bb5faba665",
   "outputs": []
  },
  {
   "cell_type": "code",
   "execution_count": 17,
   "source": [
    "import matplotlib.pyplot as plt\n",
    "import seaborn as sns\n",
    "\n",
    "palette = {'east_coast': 'red', 'west_coast': 'blue'}  # Add more topics and colors as needed\n",
    "\n",
    "plt.figure(figsize=(14, 8))\n",
    "sns.lineplot(\n",
    "    x='Release Year',\n",
    "    y='Tempo1',\n",
    "    hue='Coast',\n",
    "    data=tempo_per_topic_per_year_0,\n",
    "    marker='o',\n",
    "    palette=palette  # Use the custom palette\n",
    ")\n",
    "plt.title('Tempo per Topic Over Time')\n",
    "plt.xlabel('Release Year')\n",
    "plt.ylabel('Average Tempo')\n",
    "plt.legend(title='Topic Model', bbox_to_anchor=(1.05, 1), loc='upper left')\n",
    "plt.grid(True)\n",
    "plt.show()"
   ],
   "metadata": {
    "collapsed": false,
    "ExecuteTime": {
     "end_time": "2024-05-25T19:33:26.472601Z",
     "start_time": "2024-05-25T19:33:26.306854Z"
    }
   },
   "id": "2abc1159eed69a26",
   "outputs": []
  },
  {
   "cell_type": "code",
   "execution_count": null,
   "source": [
    "topic_columns = [col for col in df.columns if col.startswith('Topic')]\n",
    "audio_columns = ['Tempo1', 'ZCR Mean', 'Raw_MFCC_Mean_0', 'Raw_MFCC_Mean_1']  # extend this list based on your features\n",
    "\n",
    "# Calculate correlation matrix\n",
    "correlation_matrix = df[topic_columns + audio_columns].corr()\n",
    "\n",
    "# Plot heatmap\n",
    "plt.figure(figsize=(12, 10))\n",
    "sns.heatmap(correlation_matrix, annot=True, cmap='coolwarm')\n",
    "plt.title('Correlation between Topic Proportions and Audio Features')\n",
    "plt.show()"
   ],
   "metadata": {
    "collapsed": false,
    "ExecuteTime": {
     "start_time": "2024-05-25T19:02:09.939748Z"
    }
   },
   "id": "ebf525d5d2f9c314",
   "outputs": []
  },
  {
   "cell_type": "code",
   "execution_count": null,
   "source": [
    "from sklearn.preprocessing import StandardScaler\n",
    "from sklearn.cluster import KMeans\n",
    "\n",
    "scaler = StandardScaler()\n",
    "features_scaled = scaler.fit_transform(df[topic_columns + audio_columns])\n",
    "\n",
    "# Apply KMeans clustering\n",
    "kmeans = KMeans(n_clusters=5, random_state=0).fit(features_scaled)\n",
    "df['Cluster'] = kmeans.labels_\n",
    "\n",
    "# Visualize clusters in a reduced dimensional space\n",
    "from sklearn.decomposition import PCA\n",
    "pca = PCA(n_components=2)\n",
    "reduced_features = pca.fit_transform(features_scaled)\n",
    "\n",
    "plt.figure(figsize=(10, 8))\n",
    "sns.scatterplot(x=reduced_features[:, 0], y=reduced_features[:, 1], hue=df['Cluster'], palette='viridis')\n",
    "plt.title('Song Clusters based on Topics and Audio Features')\n",
    "plt.xlabel('PCA 1')\n",
    "plt.ylabel('PCA 2')\n",
    "plt.legend(title='Cluster')\n",
    "plt.show()"
   ],
   "metadata": {
    "collapsed": false,
    "ExecuteTime": {
     "start_time": "2024-05-25T19:02:09.940801Z"
    }
   },
   "id": "6a3cdd4845ad3e4c",
   "outputs": []
  },
  {
   "cell_type": "code",
   "execution_count": null,
   "source": [
    "from sklearn.linear_model import LinearRegression\n",
    "\n",
    "# Example: Predicting Topic_1 weight from Tempo1 and MFCC\n",
    "X = df[['Tempo1', 'Raw_MFCC_Mean_0']]\n",
    "y = df['Topic Model']\n",
    "model = LinearRegression()\n",
    "model.fit(X, y)\n",
    "print(\"Coefficients:\", model.coef_)"
   ],
   "metadata": {
    "collapsed": false,
    "ExecuteTime": {
     "start_time": "2024-05-25T19:02:09.941795Z"
    }
   },
   "id": "3eba1bc20670ee49",
   "outputs": []
  },
  {
   "cell_type": "code",
   "execution_count": 12,
   "source": [
    "# Assuming 'df' is your DataFrame with relevant data\n",
    "df['Release Year'] = pd.to_numeric(df['Release Year'])\n",
    "\n",
    "# Define topic columns and audio columns\n",
    "topic_columns = ['Topic Model']  # Replace with actual topic columns if there are multiple\n",
    "audio_columns = ['Tempo1']       # Replace with actual audio feature columns\n",
    "\n",
    "# Group by 'Release Year' and calculate the mean for each year\n",
    "avg_features_by_year = df.groupby('Release Year')[topic_columns + audio_columns].mean().reset_index()\n",
    "\n",
    "# Scatter plot with trend line\n",
    "plt.figure(figsize=(14, 7))\n",
    "sns.scatterplot(data=avg_features_by_year, x='Tempo1', y='Topic Model', label='Data Points')\n",
    "sns.regplot(data=avg_features_by_year, x='Tempo1', y='Topic Model', scatter=False, color='r', label='Trend Line')\n",
    "\n",
    "plt.title('Relationship Between Tempo and Topic Proportion')\n",
    "plt.xlabel('Average Tempo (BPM)')\n",
    "plt.ylabel('Topic 1 Proportion')\n",
    "plt.legend()\n",
    "plt.grid(True)\n",
    "plt.tight_layout()\n",
    "# plt.savefig('relationship_between_tempo_and_topic_proportion.png', dpi=300, bbox_inches='tight')\n",
    "plt.show()"
   ],
   "metadata": {
    "collapsed": false,
    "ExecuteTime": {
     "end_time": "2024-05-25T19:32:05.842646Z",
     "start_time": "2024-05-25T19:32:05.623456Z"
    }
   },
   "id": "3a9c102f4622a59d",
   "outputs": []
  },
  {
   "cell_type": "code",
   "execution_count": 2,
   "source": [
    "# Assuming 'df' is your DataFrame with relevant data\n",
    "\n",
    "# Define the tempo value and tolerance\n",
    "target_tempo = 95\n",
    "tolerance = 1  # Adjust tolerance as needed\n",
    "\n",
    "# Filter rows where tempo is close to the target tempo\n",
    "filtered_df = df[(df['Tempo1'] >= target_tempo - tolerance) & (df['Tempo1'] <= target_tempo + tolerance)]\n",
    "\n",
    "# Calculate the average topic proportion for the filtered rows\n",
    "average_topic_proportion = filtered_df['Topic Model'].mean()\n",
    "\n",
    "print(f\"Average Topic Proportion for songs with tempo around {target_tempo} BPM: {average_topic_proportion}\")\n",
    "\n",
    "# Optional: Check the distribution of topic proportions\n",
    "topic_proportion_distribution = filtered_df['Topic Model'].value_counts(normalize=True)\n",
    "print(topic_proportion_distribution)"
   ],
   "metadata": {
    "collapsed": false,
    "ExecuteTime": {
     "end_time": "2024-05-25T19:02:10.141321Z",
     "start_time": "2024-05-25T19:02:10.134513Z"
    }
   },
   "id": "c0dc7651efce10a",
   "outputs": []
  },
  {
   "cell_type": "code",
   "execution_count": null,
   "source": [],
   "metadata": {
    "collapsed": false
   },
   "id": "1d22e714c90b30f3",
   "outputs": []
  }
 ],
 "metadata": {
  "kernelspec": {
   "display_name": "Python 3",
   "language": "python",
   "name": "python3"
  },
  "language_info": {
   "codemirror_mode": {
    "name": "ipython",
    "version": 2
   },
   "file_extension": ".py",
   "mimetype": "text/x-python",
   "name": "python",
   "nbconvert_exporter": "python",
   "pygments_lexer": "ipython2",
   "version": "2.7.6"
  }
 },
 "nbformat": 4,
 "nbformat_minor": 5
}
