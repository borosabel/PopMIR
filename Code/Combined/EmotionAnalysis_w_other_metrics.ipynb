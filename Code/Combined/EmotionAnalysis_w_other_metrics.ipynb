{
 "cells": [
  {
   "cell_type": "code",
   "id": "initial_id",
   "metadata": {
    "collapsed": true,
    "ExecuteTime": {
     "end_time": "2024-06-10T17:47:14.267182Z",
     "start_time": "2024-06-10T17:47:11.476078Z"
    }
   },
   "source": [
    "import spacy\n",
    "spacy_nlp = spacy.load(\"en_core_web_sm\")\n",
    "\n",
    "from spacy.lang.en.stop_words import STOP_WORDS\n",
    "import utility_functions as utils\n",
    "import importlib\n",
    "import pandas as pd\n",
    "from collections import Counter\n",
    "\n",
    "importlib.reload(utils)\n",
    "\n",
    "custom_stop_words = list(STOP_WORDS)  # Existing stop words\n",
    "custom_stop_words.extend([\"ll\", \"ve\", \"'em\", \"em\", \"ho\", \"fo\", \"ah\", \"de\"])  # Tokens which doesn't really make sense to have them.\n",
    "\n",
    "# Topic Model 0 - Street\n",
    "# Topic Model 1 - Violence"
   ],
   "outputs": [
    {
     "name": "stderr",
     "output_type": "stream",
     "text": [
      "/Users/borosabel/lib/python3.9/site-packages/urllib3/__init__.py:35: NotOpenSSLWarning: urllib3 v2 only supports OpenSSL 1.1.1+, currently the 'ssl' module is compiled with 'LibreSSL 2.8.3'. See: https://github.com/urllib3/urllib3/issues/3020\n",
      "  warnings.warn(\n"
     ]
    }
   ],
   "execution_count": 1
  },
  {
   "cell_type": "code",
   "execution_count": 30,
   "outputs": [],
   "source": [
    "exclude_words = {'the', 'be', 'in', 'j', 'and', 'it', 'this', 'i', 'a', 'to', \"'\", 'so', 'or', \"'s\", 'l'}\n",
    "\n",
    "def count_all_words(text):\n",
    "    words = text.lower().split()\n",
    "    filtered_words = [word for word in words if word not in exclude_words]\n",
    "    return Counter(filtered_words)"
   ],
   "metadata": {
    "collapsed": false,
    "ExecuteTime": {
     "end_time": "2024-06-04T21:32:22.807204Z",
     "start_time": "2024-06-04T21:32:22.802Z"
    }
   },
   "id": "97c0d8844939990f"
  },
  {
   "cell_type": "code",
   "execution_count": 31,
   "outputs": [],
   "source": [
    "df = pd.read_pickle('/Users/borosabel/Documents/Uni/Thesis/PopMIR/Data/Excel/df_w_emotion.pkl')"
   ],
   "metadata": {
    "collapsed": false,
    "ExecuteTime": {
     "end_time": "2024-06-04T21:32:23.350231Z",
     "start_time": "2024-06-04T21:32:23.343779Z"
    }
   },
   "id": "9a40c5f523604ef7"
  },
  {
   "cell_type": "code",
   "execution_count": 32,
   "outputs": [],
   "source": [
    "df['word_counts'] = df['Lyrics'].apply(count_all_words)"
   ],
   "metadata": {
    "collapsed": false,
    "ExecuteTime": {
     "end_time": "2024-06-04T21:32:23.706433Z",
     "start_time": "2024-06-04T21:32:23.606632Z"
    }
   },
   "id": "32051a0b5d7f53c3"
  },
  {
   "cell_type": "code",
   "execution_count": 33,
   "outputs": [
    {
     "data": {
      "text/plain": "      Artist                                Album  \\\n0      Big L  Lifestylez Ov Da Poor and Dangerous   \n1      Big L  Lifestylez Ov Da Poor and Dangerous   \n2      Big L  Lifestylez Ov Da Poor and Dangerous   \n3      Big L  Lifestylez Ov Da Poor and Dangerous   \n4      Big L  Lifestylez Ov Da Poor and Dangerous   \n...      ...                                  ...   \n1355  Dr.Dre                          The Chronic   \n1356  Dr.Dre                          The Chronic   \n1357  Dr.Dre                          The Chronic   \n1358  Dr.Dre                          The Chronic   \n1359  Dr.Dre                          The Chronic   \n\n                                                   Song       Coast  \\\n0                                        8 Iz Enuff.mp3  east_coast   \n1                                      Da Graveyard.mp3  east_coast   \n2                             I Don't Understand It.mp3  east_coast   \n3                                 No Endz, No Skinz.mp3  east_coast   \n4                                               MVP.mp3  east_coast   \n...                                                 ...         ...   \n1355  Dr. Dre - The Day the Niggaz Took Over (feat. ...  west_coast   \n1356  Dr. Dre - Bitches Ain't Shit (feat. Jewell, Sn...  west_coast   \n1357  Dr. Dre - Stranded On Death Row (feat. Bushwic...  west_coast   \n1358  Dr. Dre - Nuthin' but a ＂G＂ Thang (feat. Snoop...  west_coast   \n1359  Dr. Dre - The Roach (ft. Ruben Cruz, Daz Dilli...  west_coast   \n\n      Release Year      Tempo1     Tempo2  Duration (s)  Sample Rate (Hz)  \\\n0             1995   96.774194  48.000000    298.840000             48000   \n1             1995   93.750000  46.511628    323.760000             48000   \n2             1995   93.750000  47.244094    260.226667             48000   \n3             1995  100.000000  50.420168    208.733333             48000   \n4             1995   86.956522  43.478261    218.866667             48000   \n...            ...         ...        ...           ...               ...   \n1355          1992   93.750000  46.875000    273.206000             48000   \n1356          1992   92.307692  46.153846    287.207625             48000   \n1357          1992   90.909091  45.801527    287.335333             48000   \n1358          1992   95.238095  47.244094    238.677917             48000   \n1359          1992   89.552239  44.117647    277.072125             48000   \n\n                                                   Path  ...  \\\n0     /Users/borosabel/Documents/Uni/Thesis/PopMIR/D...  ...   \n1     /Users/borosabel/Documents/Uni/Thesis/PopMIR/D...  ...   \n2     /Users/borosabel/Documents/Uni/Thesis/PopMIR/D...  ...   \n3     /Users/borosabel/Documents/Uni/Thesis/PopMIR/D...  ...   \n4     /Users/borosabel/Documents/Uni/Thesis/PopMIR/D...  ...   \n...                                                 ...  ...   \n1355  /Users/borosabel/Documents/Uni/Thesis/PopMIR/D...  ...   \n1356  /Users/borosabel/Documents/Uni/Thesis/PopMIR/D...  ...   \n1357  /Users/borosabel/Documents/Uni/Thesis/PopMIR/D...  ...   \n1358  /Users/borosabel/Documents/Uni/Thesis/PopMIR/D...  ...   \n1359  /Users/borosabel/Documents/Uni/Thesis/PopMIR/D...  ...   \n\n                                            Topic Model  \\\n0     ['nigga', 'shit', 'ride', 'dick', 'bitch', 'di...   \n1     ['nigga', 'shit', 'ride', 'dick', 'bitch', 'di...   \n2     ['rhyme', 'cuz', 'soul', 'rhythm', 'stage', 'l...   \n3     ['rhyme', 'cuz', 'soul', 'rhythm', 'stage', 'l...   \n4     ['rhyme', 'cuz', 'soul', 'rhythm', 'stage', 'l...   \n...                                                 ...   \n1355  ['nigga', 'shit', 'ride', 'dick', 'bitch', 'di...   \n1356  ['nigga', 'shit', 'ride', 'dick', 'bitch', 'di...   \n1357  ['nigga', 'shit', 'ride', 'dick', 'bitch', 'di...   \n1358  ['nigga', 'shit', 'ride', 'dick', 'bitch', 'di...   \n1359  ['nigga', 'shit', 'ride', 'dick', 'bitch', 'di...   \n\n                                         Named_Entities Topic Model Index  \\\n0     [{'entity': 'Terra', 'type': 'PER', 'score': 0...                 1   \n1     [{'entity': 'Big', 'type': 'PER', 'score': 0.5...                 1   \n2     [{'entity': 'L', 'type': 'PER', 'score': 0.571...                 0   \n3     [{'entity': 'Benz', 'type': 'MISC', 'score': 0...                 0   \n4     [{'entity': 'L', 'type': 'PER', 'score': 0.444...                 0   \n...                                                 ...               ...   \n1355  [{'entity': 'Lucifer', 'type': 'PER', 'score':...                 1   \n1356  [{'entity': 'Africans', 'type': 'MISC', 'score...                 1   \n1357  [{'entity': 'Death Row', 'type': 'ORG', 'score...                 1   \n1358  [{'entity': 'RBX', 'type': 'ORG', 'score': 0.7...                 1   \n1359  [{'entity': 'Africans', 'type': 'MISC', 'score...                 1   \n\n           joy     anger   sadness      fear      love  surprise  \\\n0     0.391312  0.322842  0.031455  0.240503  0.006392  0.007497   \n1     0.589780  0.064791  0.007301  0.007067  0.328468  0.002593   \n2     0.118868  0.243809  0.593209  0.038575  0.003464  0.002075   \n3     0.994099  0.002589  0.001196  0.000524  0.000969  0.000623   \n4     0.164897  0.818634  0.005583  0.004752  0.003524  0.002610   \n...        ...       ...       ...       ...       ...       ...   \n1355  0.306460  0.661105  0.022412  0.005062  0.003681  0.001280   \n1356  0.638882  0.312282  0.033750  0.009971  0.003279  0.001837   \n1357  0.121620  0.648577  0.018858  0.203552  0.003240  0.004152   \n1358  0.220978  0.716446  0.041098  0.014734  0.004774  0.001970   \n1359  0.284277  0.689420  0.014450  0.005951  0.004433  0.001468   \n\n                                            word_counts  \n0     {'yeah': 24, 'my': 11, 'crew': 11, 'house': 1,...  \n1     {'number': 2, 'one': 6, 'crew': 2, 'area': 2, ...  \n2     {'there': 1, 'too': 1, 'many': 1, 'mc': 9, 'wh...  \n3     {'let': 1, 'get': 13, 'point': 1, 'real': 1, '...  \n4     {'yeah': 15, 'spark': 1, 'up': 1, 'phillie': 1...  \n...                                                 ...  \n1355  {'yeah': 32, 'nigga': 29, 'what': 5, 'up': 7, ...  \n1356  {'—': 5, 'all': 4, 'of': 4, 'yeah': 32, 'afric...  \n1357  {'yeah': 30, 'really': 1, 'do': 8, 'not': 11, ...  \n1358  {'yeah': 25, 'what': 10, 'up': 2, 'man': 1, 'g...  \n1359  {'say': 4, 'end': 4, 'mine': 2, 'if': 4, 'yeah...  \n\n[1360 rows x 21 columns]",
      "text/html": "<div>\n<style scoped>\n    .dataframe tbody tr th:only-of-type {\n        vertical-align: middle;\n    }\n\n    .dataframe tbody tr th {\n        vertical-align: top;\n    }\n\n    .dataframe thead th {\n        text-align: right;\n    }\n</style>\n<table border=\"1\" class=\"dataframe\">\n  <thead>\n    <tr style=\"text-align: right;\">\n      <th></th>\n      <th>Artist</th>\n      <th>Album</th>\n      <th>Song</th>\n      <th>Coast</th>\n      <th>Release Year</th>\n      <th>Tempo1</th>\n      <th>Tempo2</th>\n      <th>Duration (s)</th>\n      <th>Sample Rate (Hz)</th>\n      <th>Path</th>\n      <th>...</th>\n      <th>Topic Model</th>\n      <th>Named_Entities</th>\n      <th>Topic Model Index</th>\n      <th>joy</th>\n      <th>anger</th>\n      <th>sadness</th>\n      <th>fear</th>\n      <th>love</th>\n      <th>surprise</th>\n      <th>word_counts</th>\n    </tr>\n  </thead>\n  <tbody>\n    <tr>\n      <th>0</th>\n      <td>Big L</td>\n      <td>Lifestylez Ov Da Poor and Dangerous</td>\n      <td>8 Iz Enuff.mp3</td>\n      <td>east_coast</td>\n      <td>1995</td>\n      <td>96.774194</td>\n      <td>48.000000</td>\n      <td>298.840000</td>\n      <td>48000</td>\n      <td>/Users/borosabel/Documents/Uni/Thesis/PopMIR/D...</td>\n      <td>...</td>\n      <td>['nigga', 'shit', 'ride', 'dick', 'bitch', 'di...</td>\n      <td>[{'entity': 'Terra', 'type': 'PER', 'score': 0...</td>\n      <td>1</td>\n      <td>0.391312</td>\n      <td>0.322842</td>\n      <td>0.031455</td>\n      <td>0.240503</td>\n      <td>0.006392</td>\n      <td>0.007497</td>\n      <td>{'yeah': 24, 'my': 11, 'crew': 11, 'house': 1,...</td>\n    </tr>\n    <tr>\n      <th>1</th>\n      <td>Big L</td>\n      <td>Lifestylez Ov Da Poor and Dangerous</td>\n      <td>Da Graveyard.mp3</td>\n      <td>east_coast</td>\n      <td>1995</td>\n      <td>93.750000</td>\n      <td>46.511628</td>\n      <td>323.760000</td>\n      <td>48000</td>\n      <td>/Users/borosabel/Documents/Uni/Thesis/PopMIR/D...</td>\n      <td>...</td>\n      <td>['nigga', 'shit', 'ride', 'dick', 'bitch', 'di...</td>\n      <td>[{'entity': 'Big', 'type': 'PER', 'score': 0.5...</td>\n      <td>1</td>\n      <td>0.589780</td>\n      <td>0.064791</td>\n      <td>0.007301</td>\n      <td>0.007067</td>\n      <td>0.328468</td>\n      <td>0.002593</td>\n      <td>{'number': 2, 'one': 6, 'crew': 2, 'area': 2, ...</td>\n    </tr>\n    <tr>\n      <th>2</th>\n      <td>Big L</td>\n      <td>Lifestylez Ov Da Poor and Dangerous</td>\n      <td>I Don't Understand It.mp3</td>\n      <td>east_coast</td>\n      <td>1995</td>\n      <td>93.750000</td>\n      <td>47.244094</td>\n      <td>260.226667</td>\n      <td>48000</td>\n      <td>/Users/borosabel/Documents/Uni/Thesis/PopMIR/D...</td>\n      <td>...</td>\n      <td>['rhyme', 'cuz', 'soul', 'rhythm', 'stage', 'l...</td>\n      <td>[{'entity': 'L', 'type': 'PER', 'score': 0.571...</td>\n      <td>0</td>\n      <td>0.118868</td>\n      <td>0.243809</td>\n      <td>0.593209</td>\n      <td>0.038575</td>\n      <td>0.003464</td>\n      <td>0.002075</td>\n      <td>{'there': 1, 'too': 1, 'many': 1, 'mc': 9, 'wh...</td>\n    </tr>\n    <tr>\n      <th>3</th>\n      <td>Big L</td>\n      <td>Lifestylez Ov Da Poor and Dangerous</td>\n      <td>No Endz, No Skinz.mp3</td>\n      <td>east_coast</td>\n      <td>1995</td>\n      <td>100.000000</td>\n      <td>50.420168</td>\n      <td>208.733333</td>\n      <td>48000</td>\n      <td>/Users/borosabel/Documents/Uni/Thesis/PopMIR/D...</td>\n      <td>...</td>\n      <td>['rhyme', 'cuz', 'soul', 'rhythm', 'stage', 'l...</td>\n      <td>[{'entity': 'Benz', 'type': 'MISC', 'score': 0...</td>\n      <td>0</td>\n      <td>0.994099</td>\n      <td>0.002589</td>\n      <td>0.001196</td>\n      <td>0.000524</td>\n      <td>0.000969</td>\n      <td>0.000623</td>\n      <td>{'let': 1, 'get': 13, 'point': 1, 'real': 1, '...</td>\n    </tr>\n    <tr>\n      <th>4</th>\n      <td>Big L</td>\n      <td>Lifestylez Ov Da Poor and Dangerous</td>\n      <td>MVP.mp3</td>\n      <td>east_coast</td>\n      <td>1995</td>\n      <td>86.956522</td>\n      <td>43.478261</td>\n      <td>218.866667</td>\n      <td>48000</td>\n      <td>/Users/borosabel/Documents/Uni/Thesis/PopMIR/D...</td>\n      <td>...</td>\n      <td>['rhyme', 'cuz', 'soul', 'rhythm', 'stage', 'l...</td>\n      <td>[{'entity': 'L', 'type': 'PER', 'score': 0.444...</td>\n      <td>0</td>\n      <td>0.164897</td>\n      <td>0.818634</td>\n      <td>0.005583</td>\n      <td>0.004752</td>\n      <td>0.003524</td>\n      <td>0.002610</td>\n      <td>{'yeah': 15, 'spark': 1, 'up': 1, 'phillie': 1...</td>\n    </tr>\n    <tr>\n      <th>...</th>\n      <td>...</td>\n      <td>...</td>\n      <td>...</td>\n      <td>...</td>\n      <td>...</td>\n      <td>...</td>\n      <td>...</td>\n      <td>...</td>\n      <td>...</td>\n      <td>...</td>\n      <td>...</td>\n      <td>...</td>\n      <td>...</td>\n      <td>...</td>\n      <td>...</td>\n      <td>...</td>\n      <td>...</td>\n      <td>...</td>\n      <td>...</td>\n      <td>...</td>\n      <td>...</td>\n    </tr>\n    <tr>\n      <th>1355</th>\n      <td>Dr.Dre</td>\n      <td>The Chronic</td>\n      <td>Dr. Dre - The Day the Niggaz Took Over (feat. ...</td>\n      <td>west_coast</td>\n      <td>1992</td>\n      <td>93.750000</td>\n      <td>46.875000</td>\n      <td>273.206000</td>\n      <td>48000</td>\n      <td>/Users/borosabel/Documents/Uni/Thesis/PopMIR/D...</td>\n      <td>...</td>\n      <td>['nigga', 'shit', 'ride', 'dick', 'bitch', 'di...</td>\n      <td>[{'entity': 'Lucifer', 'type': 'PER', 'score':...</td>\n      <td>1</td>\n      <td>0.306460</td>\n      <td>0.661105</td>\n      <td>0.022412</td>\n      <td>0.005062</td>\n      <td>0.003681</td>\n      <td>0.001280</td>\n      <td>{'yeah': 32, 'nigga': 29, 'what': 5, 'up': 7, ...</td>\n    </tr>\n    <tr>\n      <th>1356</th>\n      <td>Dr.Dre</td>\n      <td>The Chronic</td>\n      <td>Dr. Dre - Bitches Ain't Shit (feat. Jewell, Sn...</td>\n      <td>west_coast</td>\n      <td>1992</td>\n      <td>92.307692</td>\n      <td>46.153846</td>\n      <td>287.207625</td>\n      <td>48000</td>\n      <td>/Users/borosabel/Documents/Uni/Thesis/PopMIR/D...</td>\n      <td>...</td>\n      <td>['nigga', 'shit', 'ride', 'dick', 'bitch', 'di...</td>\n      <td>[{'entity': 'Africans', 'type': 'MISC', 'score...</td>\n      <td>1</td>\n      <td>0.638882</td>\n      <td>0.312282</td>\n      <td>0.033750</td>\n      <td>0.009971</td>\n      <td>0.003279</td>\n      <td>0.001837</td>\n      <td>{'—': 5, 'all': 4, 'of': 4, 'yeah': 32, 'afric...</td>\n    </tr>\n    <tr>\n      <th>1357</th>\n      <td>Dr.Dre</td>\n      <td>The Chronic</td>\n      <td>Dr. Dre - Stranded On Death Row (feat. Bushwic...</td>\n      <td>west_coast</td>\n      <td>1992</td>\n      <td>90.909091</td>\n      <td>45.801527</td>\n      <td>287.335333</td>\n      <td>48000</td>\n      <td>/Users/borosabel/Documents/Uni/Thesis/PopMIR/D...</td>\n      <td>...</td>\n      <td>['nigga', 'shit', 'ride', 'dick', 'bitch', 'di...</td>\n      <td>[{'entity': 'Death Row', 'type': 'ORG', 'score...</td>\n      <td>1</td>\n      <td>0.121620</td>\n      <td>0.648577</td>\n      <td>0.018858</td>\n      <td>0.203552</td>\n      <td>0.003240</td>\n      <td>0.004152</td>\n      <td>{'yeah': 30, 'really': 1, 'do': 8, 'not': 11, ...</td>\n    </tr>\n    <tr>\n      <th>1358</th>\n      <td>Dr.Dre</td>\n      <td>The Chronic</td>\n      <td>Dr. Dre - Nuthin' but a ＂G＂ Thang (feat. Snoop...</td>\n      <td>west_coast</td>\n      <td>1992</td>\n      <td>95.238095</td>\n      <td>47.244094</td>\n      <td>238.677917</td>\n      <td>48000</td>\n      <td>/Users/borosabel/Documents/Uni/Thesis/PopMIR/D...</td>\n      <td>...</td>\n      <td>['nigga', 'shit', 'ride', 'dick', 'bitch', 'di...</td>\n      <td>[{'entity': 'RBX', 'type': 'ORG', 'score': 0.7...</td>\n      <td>1</td>\n      <td>0.220978</td>\n      <td>0.716446</td>\n      <td>0.041098</td>\n      <td>0.014734</td>\n      <td>0.004774</td>\n      <td>0.001970</td>\n      <td>{'yeah': 25, 'what': 10, 'up': 2, 'man': 1, 'g...</td>\n    </tr>\n    <tr>\n      <th>1359</th>\n      <td>Dr.Dre</td>\n      <td>The Chronic</td>\n      <td>Dr. Dre - The Roach (ft. Ruben Cruz, Daz Dilli...</td>\n      <td>west_coast</td>\n      <td>1992</td>\n      <td>89.552239</td>\n      <td>44.117647</td>\n      <td>277.072125</td>\n      <td>48000</td>\n      <td>/Users/borosabel/Documents/Uni/Thesis/PopMIR/D...</td>\n      <td>...</td>\n      <td>['nigga', 'shit', 'ride', 'dick', 'bitch', 'di...</td>\n      <td>[{'entity': 'Africans', 'type': 'MISC', 'score...</td>\n      <td>1</td>\n      <td>0.284277</td>\n      <td>0.689420</td>\n      <td>0.014450</td>\n      <td>0.005951</td>\n      <td>0.004433</td>\n      <td>0.001468</td>\n      <td>{'say': 4, 'end': 4, 'mine': 2, 'if': 4, 'yeah...</td>\n    </tr>\n  </tbody>\n</table>\n<p>1360 rows × 21 columns</p>\n</div>"
     },
     "execution_count": 33,
     "metadata": {},
     "output_type": "execute_result"
    }
   ],
   "source": [
    "df"
   ],
   "metadata": {
    "collapsed": false,
    "ExecuteTime": {
     "end_time": "2024-06-04T21:32:23.842262Z",
     "start_time": "2024-06-04T21:32:23.823509Z"
    }
   },
   "id": "ada5952d8dc8db5a"
  },
  {
   "cell_type": "code",
   "execution_count": 34,
   "outputs": [
    {
     "data": {
      "text/plain": "Counter({'yeah': 24,\n         'my': 11,\n         'crew': 11,\n         'house': 1,\n         'terra': 4,\n         'herb': 3,\n         'mcgruff': 2,\n         'buddah': 1,\n         'bless': 2,\n         'big': 4,\n         'twan': 1,\n         'killa': 2,\n         'cam': 1,\n         'trooper': 1,\n         'mike': 3,\n         'boogie': 2,\n         \"i'mma\": 1,\n         'set': 1,\n         'like': 12,\n         'aiyeah': 6,\n         'folk': 1,\n         'who': 3,\n         'quote': 1,\n         'what': 3,\n         'write': 1,\n         'get': 24,\n         'choke': 1,\n         'well': 2,\n         'surrender': 1,\n         'before': 2,\n         'smoke': 1,\n         'nigga': 11,\n         'thinkin': 1,\n         'kid': 3,\n         'joke': 1,\n         'put': 3,\n         'chump': 2,\n         'rest': 1,\n         'fast': 2,\n         'when': 11,\n         'smith': 1,\n         'wes': 1,\n         'blast': 1,\n         'just': 5,\n         'dash': 1,\n         'trespass': 1,\n         'chest': 1,\n         'smash': 1,\n         'rap': 2,\n         'new': 1,\n         'yeahk': 1,\n         'rule': 1,\n         'sport': 1,\n         'jewel': 1,\n         'extort': 1,\n         'do': 7,\n         'not': 12,\n         'piss': 1,\n         'short': 2,\n         'fuse': 3,\n         'go': 1,\n         'bezerk': 1,\n         'work': 1,\n         'dirt': 1,\n         'jerk': 1,\n         'stay': 1,\n         'alert': 1,\n         'no': 6,\n         'smirk': 1,\n         'cause': 10,\n         'these': 2,\n         'knuckle': 1,\n         'hurt': 1,\n         'from': 7,\n         'alley': 2,\n         'valley': 2,\n         'hot': 1,\n         'than': 5,\n         'cali': 2,\n         'wicked': 1,\n         'harry': 1,\n         'fuck': 3,\n         'sally': 1,\n         'rather': 1,\n         'marry': 1,\n         'halle': 1,\n         'revive': 1,\n         'crowd': 1,\n         'with': 11,\n         'live': 3,\n         'style': 1,\n         'hang': 1,\n         'jive': 1,\n         'pal': 1,\n         'adio': 1,\n         'ghost': 1,\n         '5': 1,\n         'thous': 1,\n         'flave': 1,\n         'down': 1,\n         'crime': 2,\n         'wave': 1,\n         'now': 4,\n         'time': 4,\n         'save': 1,\n         'rhyme': 5,\n         'slave': 1,\n         '87': 1,\n         'sell': 1,\n         'crack': 1,\n         'collect': 1,\n         'some': 4,\n         'dough': 1,\n         'stack': 1,\n         'hold': 1,\n         'gat': 2,\n         'joker': 1,\n         'his': 3,\n         'soul': 1,\n         'tax': 1,\n         'innovate': 1,\n         'rapper': 2,\n         'know': 5,\n         'make': 3,\n         'tell': 1,\n         'rotate': 1,\n         'gold': 1,\n         'plate': 1,\n         'past': 1,\n         'butter': 1,\n         'sharp': 2,\n         'glass': 1,\n         'cutter': 1,\n         'ass': 3,\n         'brother': 3,\n         'leave': 2,\n         'trash': 2,\n         'gutter': 1,\n         'more': 3,\n         'rare': 1,\n         'mc': 2,\n         'warfare': 1,\n         'morgue': 1,\n         'where': 1,\n         'too': 2,\n         'late': 1,\n         'for': 7,\n         'that': 10,\n         'lord': 1,\n         'prayer': 1,\n         'power': 1,\n         'strike': 1,\n         'drop': 2,\n         'follow': 1,\n         'up': 9,\n         'sour': 1,\n         'luck': 1,\n         'prop': 1,\n         'swallow': 1,\n         'nut': 1,\n         'those': 1,\n         'on': 5,\n         'murder': 2,\n         'stuff': 1,\n         'talk': 2,\n         'every': 3,\n         'verb': 1,\n         'rough': 1,\n         'front': 2,\n         'beat': 1,\n         'bad': 2,\n         'bat': 1,\n         'bruise': 2,\n         'break': 2,\n         'bone': 2,\n         'then': 1,\n         'wind': 1,\n         'bloody': 1,\n         'bodybag': 1,\n         'but': 6,\n         'mad': 3,\n         'liver': 1,\n         'funky': 1,\n         'african': 1,\n         'cab': 1,\n         'driver': 1,\n         'step': 3,\n         'slice': 1,\n         'ease': 1,\n         'eat': 1,\n         'rice': 1,\n         'pea': 1,\n         'nice': 4,\n         'ask': 2,\n         'last': 2,\n         'bout': 2,\n         'he': 1,\n         'think': 1,\n         'gun': 2,\n         'shit': 1,\n         'have': 2,\n         'knock': 1,\n         'out': 4,\n         'microphone': 1,\n         'tear': 1,\n         'peace': 6,\n         'straight': 2,\n         'hell': 1,\n         'outta': 2,\n         'here': 3,\n         'drastic': 1,\n         'god': 2,\n         'fantastic': 1,\n         'pass': 1,\n         'melt': 1,\n         'mic': 1,\n         'plastic': 1,\n         'rag': 1,\n         'news': 1,\n         'mood': 1,\n         'serve': 1,\n         'quick': 2,\n         'food': 1,\n         'body': 1,\n         'blow': 3,\n         'maricon': 1,\n         'poem': 2,\n         'slide': 1,\n         'hottie': 1,\n         'home': 2,\n         'advice': 1,\n         'lick': 1,\n         'mag': 1,\n         'twice': 1,\n         'cold': 1,\n         'take': 2,\n         'fag': 2,\n         'life': 2,\n         'swellin': 1,\n         'melon': 1,\n         'jealin': 1,\n         'bribe': 1,\n         'takin': 1,\n         'felon': 1,\n         'bust': 1,\n         'glock': 1,\n         '10': 2,\n         'top': 1,\n         'ten': 1,\n         'rock': 2,\n         'lock': 1,\n         'abuse': 1,\n         'flow': 1,\n         'need': 3,\n         'groove': 1,\n         'slow': 1,\n         'kill': 2,\n         'show': 1,\n         'line': 1,\n         'deep': 1,\n         'jail': 2,\n         'bid': 1,\n         'frail': 1,\n         'nail': 2,\n         'read': 1,\n         'braille': 1,\n         'they': 6,\n         'fail': 1,\n         'nasty': 2,\n         'bash': 1,\n         'dead': 3,\n         \"yeah'd\": 1,\n         'bump': 1,\n         'off': 3,\n         'if': 3,\n         'beef': 1,\n         'ever': 1,\n         'jump': 1,\n         'never': 3,\n         'come': 4,\n         'soft': 1,\n         'pump': 1,\n         'see': 2,\n         'let': 1,\n         'slug': 1,\n         'will': 2,\n         'rub': 1,\n         'dissin': 1,\n         'miss': 1,\n         'cub': 1,\n         'scout': 1,\n         'funny': 1,\n         'fletch': 1,\n         'section': 1,\n         'say': 3,\n         'slaughter': 1,\n         'son': 1,\n         'about': 1,\n         'nine': 2,\n         'tecs': 1,\n         'shoot': 2,\n         'watergun': 1,\n         'kam': 1,\n         'erratic': 1,\n         'static': 1,\n         'there': 2,\n         'trigger': 1,\n         'fanatic': 1,\n         'automatic': 1,\n         'increase': 1,\n         'cease': 1,\n         'once': 1,\n         'release': 1,\n         'east': 1,\n         'we': 1,\n         'leavin': 1,\n         'at': 1,\n         'least': 2,\n         '20': 1,\n         'police': 1,\n         'decease': 1,\n         'beast': 1,\n         'attack': 1,\n         'track': 1,\n         'back': 2,\n         'jack': 1,\n         'def': 1,\n         'black': 1,\n         'mac': 2,\n         'lenox': 1,\n         'ave': 1,\n         'light': 1,\n         'look': 1,\n         'fight': 1,\n         'crook': 1,\n         'right': 1,\n         'hook': 1,\n         'havin': 1,\n         'pain': 1,\n         'brain': 1,\n         'hellraiser': 1,\n         'blazin': 1,\n         'trail': 1,\n         'cell': 1,\n         'trailblazer': 1,\n         'find': 2,\n         'fill': 1,\n         'nothin': 1,\n         'lead': 3,\n         'boom': 1,\n         'bye': 2,\n         'dem': 1,\n         'another': 1,\n         'batty': 1,\n         'bwoy': 1,\n         'backyeahd': 1,\n         'call': 1,\n         'em': 1,\n         'crackyeahd': 1,\n         'pack': 2,\n         'rally': 1,\n         'riot': 1,\n         'people': 1,\n         'wanna': 1,\n         'reason': 1,\n         'why': 1,\n         'daze': 1,\n         'confused': 1,\n         'seein': 1,\n         'head': 2,\n         'shake': 1,\n         'many': 1,\n         'next': 1,\n         'keep': 1,\n         'should': 1,\n         'into': 1,\n         'contest': 1,\n         'evacuate': 1,\n         'premise': 1,\n         'bomb': 1,\n         'threat': 1,\n         'start': 1,\n         'droppin': 1,\n         'knockin': 1,\n         'dome': 1,\n         'poppin': 1,\n         'sendin': 1,\n         'hoppin': 1,\n         'word': 2,\n         'kinda': 1,\n         'hard': 2,\n         'touch': 1,\n         \"yeah're\": 1,\n         'bring': 1,\n         'cast': 1,\n         'crutch': 1,\n         'none': 1,\n         'of': 1,\n         'can': 1,\n         'number': 1,\n         '2': 1,\n         'death': 1,\n         'paragraph': 1,\n         'learn': 1,\n         'burn': 1,\n         'their': 1,\n         'muthafuckin': 1,\n         'ash': 1,\n         'question': 1,\n         'fact': 1,\n         'friend': 1,\n         'gift': 1,\n         'santa': 1,\n         'claus': 1,\n         'half': 1,\n         'as': 1,\n         'sacrifice': 1,\n         'send': 1,\n         'afterlife': 1,\n         'match': 1,\n         'skate': 1,\n         'rush': 1,\n         'finish': 1,\n         'makin': 1,\n         'tough': 1,\n         'ayeah': 1,\n         '8': 1,\n         'enough': 1,\n         'true': 2,\n         'd': 1,\n         'whiz': 1,\n         'man': 1,\n         'since': 1,\n         'beginning': 1,\n         'n': 1,\n         'mase': 1,\n         'b': 2,\n         'o': 1,\n         'good': 1,\n         'm&m': 1,\n         'all': 1,\n         'other': 1,\n         'representin': 1,\n         'harlem': 1,\n         'sayin': 1,\n         '139th': 1,\n         'street': 1,\n         'nfl': 1})"
     },
     "execution_count": 34,
     "metadata": {},
     "output_type": "execute_result"
    }
   ],
   "source": [
    "df.iloc[0]['word_counts']"
   ],
   "metadata": {
    "collapsed": false,
    "ExecuteTime": {
     "end_time": "2024-06-04T21:32:26.168843Z",
     "start_time": "2024-06-04T21:32:26.157356Z"
    }
   },
   "id": "47f007cf9601e25c"
  },
  {
   "cell_type": "code",
   "execution_count": null,
   "outputs": [],
   "source": [],
   "metadata": {
    "collapsed": false
   },
   "id": "265e96a99cfdfd8b"
  }
 ],
 "metadata": {
  "kernelspec": {
   "display_name": "Python 3",
   "language": "python",
   "name": "python3"
  },
  "language_info": {
   "codemirror_mode": {
    "name": "ipython",
    "version": 2
   },
   "file_extension": ".py",
   "mimetype": "text/x-python",
   "name": "python",
   "nbconvert_exporter": "python",
   "pygments_lexer": "ipython2",
   "version": "2.7.6"
  }
 },
 "nbformat": 4,
 "nbformat_minor": 5
}
