{
 "cells": [
  {
   "cell_type": "code",
   "execution_count": 1,
   "id": "initial_id",
   "metadata": {
    "collapsed": true,
    "ExecuteTime": {
     "end_time": "2024-01-09T17:00:14.092355Z",
     "start_time": "2024-01-09T17:00:14.081212Z"
    }
   },
   "source": [
    "import numpy as np\n",
    "import matplotlib.pylab as plt\n",
    "from glob import glob\n",
    "import librosa\n",
    "from scipy.stats import ttest_ind\n",
    "import librosa.display\n",
    "import seaborn as sns"
   ],
   "outputs": []
  },
  {
   "cell_type": "code",
   "execution_count": 19,
   "source": [
    "# Load an audio file\n",
    "audio_files_east_coast = glob('./east_coast/*.mp3')\n",
    "audio_files_west_coast = glob('./west_coast/*.mp3')\n",
    "\n",
    "NUMBER_OF_MFCCs = 20\n",
    "SAMPLING_RATE = 22050\n",
    "HOPLENGTH = 512\n",
    "DCT_NORMALIZATION = None"
   ],
   "metadata": {
    "collapsed": false,
    "ExecuteTime": {
     "end_time": "2024-01-09T18:35:19.796670Z",
     "start_time": "2024-01-09T18:35:19.788009Z"
    }
   },
   "id": "87201794dac29e19",
   "outputs": []
  },
  {
   "cell_type": "code",
   "execution_count": 26,
   "source": [
    "# Utility functions\n",
    "\n",
    "def compute_mfccs(audio_path, n_mfcc=20, compute_avg=True):\n",
    "    # Load audio file\n",
    "    y, sr = librosa.load(audio_path, sr=SAMPLING_RATE)\n",
    "    \n",
    "    # Compute MFCCs\n",
    "    return librosa.feature.mfcc(y=y, sr=sr, n_mfcc=n_mfcc, hop_length=HOPLENGTH, norm=DCT_NORMALIZATION)\n",
    "\n",
    "def plot_mfcc_distributions(mfccs_list_1, mfccs_list_2, legend, title):\n",
    "    plt.figure(figsize=(16, 8))\n",
    "    sns.histplot(mfccs_list_1, bins=20, kde=True, color='red', alpha=0.5)\n",
    "    sns.histplot(mfccs_list_2, bins=20, kde=True, color='yellow', alpha=0.5)\n",
    "    plt.xlabel('MFCC Values')\n",
    "    plt.ylabel('Frequency')\n",
    "    plt.legend(labels=legend)\n",
    "    plt.title(title)\n",
    "    plt.show()"
   ],
   "metadata": {
    "collapsed": false,
    "ExecuteTime": {
     "end_time": "2024-01-09T19:38:06.719067Z",
     "start_time": "2024-01-09T19:38:06.626035Z"
    }
   },
   "id": "4a3419f4cc5922d3",
   "outputs": []
  },
  {
   "cell_type": "code",
   "execution_count": 27,
   "source": [
    "# ------------EAST-----------------\n",
    "# List to store aggregated MFCCs and labels\n",
    "avg_mfccs_list_east_coast = []\n",
    "for file in audio_files_east_coast:\n",
    "    avg_mfccs = compute_mfccs(file, NUMBER_OF_MFCCs).reshape(1, NUMBER_OF_MFCCs)\n",
    "    avg_mfccs_list_east_coast.append(avg_mfccs)\n",
    "\n",
    "east_coast_mfccs = np.vstack(avg_mfccs_list_east_coast)\n",
    "\n",
    "# -------------WEST----------------\n",
    "# List to store aggregated MFCCs and labels\n",
    "avg_mfccs_list_west_coast = []\n",
    "for file in audio_files_west_coast:\n",
    "    mfccs = compute_mfccs(file, NUMBER_OF_MFCCs).reshape(1, NUMBER_OF_MFCCs)\n",
    "    avg_mfccs_list_west_coast.append(mfccs)\n",
    "\n",
    "west_coast_mfccs = np.vstack(avg_mfccs_list_west_coast)"
   ],
   "metadata": {
    "collapsed": false,
    "ExecuteTime": {
     "end_time": "2024-01-09T19:40:05.122791Z",
     "start_time": "2024-01-09T19:38:07.479610Z"
    }
   },
   "id": "f11f3697a5308ed",
   "outputs": []
  },
  {
   "cell_type": "markdown",
   "source": [
    "<h2>Statistical Testing</h2>"
   ],
   "metadata": {
    "collapsed": false
   },
   "id": "71dc458ce8253bea"
  },
  {
   "cell_type": "code",
   "execution_count": 28,
   "source": [
    "ttest_results = []\n",
    "for i in range(NUMBER_OF_MFCCs):\n",
    "    east = east_coast_mfccs[:, i]\n",
    "    west = west_coast_mfccs[:, i]\n",
    "    test_result = ttest_ind(east, west)\n",
    "    ttest_results.append({\n",
    "        'MFCC': i + 1,\n",
    "        'P-Value': test_result.pvalue\n",
    "    })\n",
    "\n",
    "for test in ttest_results:\n",
    "    if test['P-Value'] < 0.05:\n",
    "        print(f'''At a 0.05 threshold there is a significant difference between the mfccs at MFCC no. {test['MFCC']}''')"
   ],
   "metadata": {
    "collapsed": false,
    "ExecuteTime": {
     "end_time": "2024-01-09T19:40:08.449658Z",
     "start_time": "2024-01-09T19:40:08.437348Z"
    }
   },
   "id": "b74c16788715e771",
   "outputs": []
  },
  {
   "cell_type": "code",
   "execution_count": 29,
   "source": [
    "no_mfcc_component = east_coast_mfccs.shape[1]\n",
    "\n",
    "for mfcc_coefficient in range(no_mfcc_component):\n",
    "    plot_mfcc_distributions(west_coast_mfccs[:, mfcc_coefficient], east_coast_mfccs[:, mfcc_coefficient], ['West Coast', 'East Coast'], f'{mfcc_coefficient + 1} MFCC coefficient')"
   ],
   "metadata": {
    "collapsed": false,
    "ExecuteTime": {
     "end_time": "2024-01-09T19:40:19.175266Z",
     "start_time": "2024-01-09T19:40:10.728509Z"
    }
   },
   "id": "b075b749ed91015b",
   "outputs": []
  },
  {
   "cell_type": "code",
   "execution_count": null,
   "source": [],
   "metadata": {
    "collapsed": false
   },
   "id": "bdc263678a959d53",
   "outputs": []
  }
 ],
 "metadata": {
  "kernelspec": {
   "display_name": "Python 3",
   "language": "python",
   "name": "python3"
  },
  "language_info": {
   "codemirror_mode": {
    "name": "ipython",
    "version": 2
   },
   "file_extension": ".py",
   "mimetype": "text/x-python",
   "name": "python",
   "nbconvert_exporter": "python",
   "pygments_lexer": "ipython2",
   "version": "2.7.6"
  }
 },
 "nbformat": 4,
 "nbformat_minor": 5
}
