{
 "cells": [
  {
   "cell_type": "code",
   "execution_count": 1,
   "id": "initial_id",
   "metadata": {
    "collapsed": true,
    "ExecuteTime": {
     "end_time": "2024-03-27T14:03:12.973290Z",
     "start_time": "2024-03-27T14:03:12.520309Z"
    }
   },
   "source": [
    "import librosa\n",
    "%matplotlib qt5\n",
    "import matplotlib.pyplot as plt\n",
    "import librosa.display\n",
    "import numpy as np\n",
    "import os\n",
    "import librosa\n",
    "import pandas as pd\n",
    "import seaborn as sns\n",
    "from IPython.display import Audio\n",
    "from scipy.signal import find_peaks"
   ],
   "outputs": []
  },
  {
   "cell_type": "code",
   "execution_count": 2,
   "source": [
    "FRAME_SIZE = 1024\n",
    "HOP_LENGTH = 512\n",
    "\n",
    "def amplitude_envelope(signal, frame_size, hop_length):\n",
    "    \"\"\"Calculate the amplitude envelope of a signal with a given frame size nad hop length.\"\"\"\n",
    "    amplitude_envelope = []\n",
    "\n",
    "    # calculate amplitude envelope for each frame\n",
    "    for i in range(0, len(signal), hop_length):\n",
    "        amplitude_envelope_current_frame = max(signal[i:i+frame_size])\n",
    "        amplitude_envelope.append(amplitude_envelope_current_frame)\n",
    "\n",
    "    return np.array(amplitude_envelope)"
   ],
   "metadata": {
    "collapsed": false,
    "ExecuteTime": {
     "end_time": "2024-03-27T14:03:16.139663Z",
     "start_time": "2024-03-27T14:03:16.136681Z"
    }
   },
   "id": "79eea12b92034073",
   "outputs": []
  },
  {
   "cell_type": "code",
   "execution_count": 3,
   "source": [
    "audio = '/Users/borosabel/Documents/Uni/Thesis/PopMIR/Audio/west_coast/ dna_ kendrick lamar.mp3'"
   ],
   "metadata": {
    "collapsed": false,
    "ExecuteTime": {
     "end_time": "2024-03-27T14:03:17.199720Z",
     "start_time": "2024-03-27T14:03:17.145723Z"
    }
   },
   "id": "ca1db1df1823ab47",
   "outputs": []
  },
  {
   "cell_type": "code",
   "execution_count": 4,
   "source": [
    "# Load the audio file\n",
    "y, sr = librosa.load(audio)\n",
    "\n",
    "# start_time = 5000\n",
    "# end_time = start_time + 100000\n",
    "# y = y[start_time:end_time]"
   ],
   "metadata": {
    "collapsed": false,
    "ExecuteTime": {
     "end_time": "2024-03-26T18:30:56.733932Z",
     "start_time": "2024-03-26T18:30:55.427701Z"
    }
   },
   "id": "a7c0cec76548d6cd",
   "outputs": []
  },
  {
   "cell_type": "code",
   "execution_count": 5,
   "source": [
    "# Plot the waveform\n",
    "plt.figure(figsize=(14, 5))\n",
    "librosa.display.waveshow(y, sr=sr)\n",
    "\n",
    "# Provide labels and title\n",
    "plt.title('Waveform')\n",
    "plt.xlabel('Time (seconds)')\n",
    "plt.ylabel('Amplitude')\n",
    "\n",
    "# Display the plot\n",
    "plt.show()"
   ],
   "metadata": {
    "collapsed": false,
    "ExecuteTime": {
     "end_time": "2024-03-26T18:30:58.341298Z",
     "start_time": "2024-03-26T18:30:58.231272Z"
    }
   },
   "id": "199c84d858990e98",
   "outputs": []
  },
  {
   "cell_type": "code",
   "execution_count": 12,
   "source": [
    "onset_env = librosa.onset.onset_strength(y=y, sr=sr)\n",
    "\n",
    "# Default delta value from librosa, modify it for your use case\n",
    "delta = 0.5\n",
    "\n",
    "# Detect onsets with the chosen delta\n",
    "onsets = librosa.onset.onset_detect(onset_envelope=onset_env, sr=sr, delta=delta, backtrack=True)\n",
    "\n",
    "# Convert frame indices to time\n",
    "onset_times = librosa.frames_to_time(onsets, sr=sr)\n",
    "\n",
    "# Prepare the plots\n",
    "fig, ax = plt.subplots(nrows=2, ncols=1, figsize=(14, 10), sharex=True)\n",
    "\n",
    "# Plot the waveform on the first subplot and mark the onsets\n",
    "librosa.display.waveshow(y, sr=sr, ax=ax[0])\n",
    "ax[0].vlines(onset_times, ymin=ax[0].get_ylim()[0], ymax=ax[0].get_ylim()[1], color='r', alpha=0.9, linestyle='--', label='Onsets')\n",
    "ax[0].set(title='Waveform with Onsets')\n",
    "ax[0].legend()\n",
    "\n",
    "# Plot the onset strength on the second subplot\n",
    "ax[1].plot(librosa.times_like(onset_env), onset_env, label='Onset Strength')\n",
    "ax[1].set(title='Onset Strength')\n",
    "ax[1].label_outer()  # Hides x-labels for all but the bottom plot\n",
    "ax[1].legend()\n",
    "\n",
    "plt.show()"
   ],
   "metadata": {
    "collapsed": false,
    "ExecuteTime": {
     "end_time": "2024-03-26T18:32:24.589114Z",
     "start_time": "2024-03-26T18:32:24.335059Z"
    }
   },
   "id": "47a80ad3b0773d7c",
   "outputs": []
  },
  {
   "cell_type": "code",
   "execution_count": 13,
   "source": [
    "tempo, beats = librosa.beat.beat_track(y=y, sr=sr, onset_envelope=onset_env)\n",
    "\n",
    "# Convert the beat frames to timestamps\n",
    "beat_times = librosa.frames_to_time(beats, sr=sr)\n",
    "\n",
    "print(f\"Estimated Tempo: {tempo} BPM\")"
   ],
   "metadata": {
    "collapsed": false,
    "ExecuteTime": {
     "end_time": "2024-03-26T18:32:27.693357Z",
     "start_time": "2024-03-26T18:32:26.958940Z"
    }
   },
   "id": "ddfaf4ce447b437f",
   "outputs": []
  },
  {
   "cell_type": "code",
   "execution_count": 12,
   "source": [
    "import os\n",
    "import pandas as pd\n",
    "import librosa\n",
    "import numpy as np\n",
    "\n",
    "def compute_temporal_stability(beats, sr):\n",
    "    beat_times = librosa.frames_to_time(beats, sr=sr)\n",
    "    beat_intervals = np.diff(beat_times)\n",
    "    stability = np.std(beat_intervals)\n",
    "    return stability\n",
    "\n",
    "def process_audio_files(folder_path):\n",
    "    metrics = []\n",
    "\n",
    "    for filename in os.listdir(folder_path):\n",
    "        if filename.endswith(\".mp3\"):  # Assuming the files are MP3 format\n",
    "            file_path = os.path.join(folder_path, filename)\n",
    "            print('Current file path:', file_path)\n",
    "            # Load the audio file\n",
    "            y, sr = librosa.load(file_path, sr=None)  # Use the native sampling rate\n",
    "\n",
    "            # Compute the onset envelope and detect onsets\n",
    "            onset_env = librosa.onset.onset_strength(y=y, sr=sr)\n",
    "            onsets = librosa.onset.onset_detect(y=y, sr=sr, onset_envelope=onset_env, backtrack=True)\n",
    "            onset_times = librosa.frames_to_time(onsets, sr=sr)\n",
    "\n",
    "            # Compute tempo and beats\n",
    "            tempo, beats = librosa.beat.beat_track(y=y, sr=sr, onset_envelope=onset_env)\n",
    "\n",
    "            # Calculate temporal stability\n",
    "            temporal_stability = compute_temporal_stability(beats, sr)\n",
    "\n",
    "            # Append metrics for the current file to the list\n",
    "            metrics.append({\n",
    "                'Filename': filename,\n",
    "                'Tempo': tempo,\n",
    "                'Total Onsets': len(onset_times),\n",
    "                'Onset Rate': len(onset_times) / (len(y) / sr),  # Total onsets divided by the duration of the audio in seconds\n",
    "                'Temporal Stability': temporal_stability,\n",
    "            })\n",
    "\n",
    "    # Create a DataFrame from the metrics\n",
    "    df = pd.DataFrame(metrics)\n",
    "    return df\n",
    "\n",
    "east_coast = '/Users/borosabel/Documents/Uni/Thesis/PopMIR/Audio/east_coast'\n",
    "west_coast = '/Users/borosabel/Documents/Uni/Thesis/PopMIR/Audio/west_coast'\n",
    "\n",
    "df1 = process_audio_files(east_coast)\n",
    "df2 = process_audio_files(west_coast)"
   ],
   "metadata": {
    "collapsed": false,
    "ExecuteTime": {
     "end_time": "2024-03-27T14:40:32.473544Z",
     "start_time": "2024-03-27T14:29:38.760822Z"
    }
   },
   "id": "7d2fe9b279708971",
   "outputs": []
  },
  {
   "cell_type": "code",
   "execution_count": 13,
   "source": [
    "df1"
   ],
   "metadata": {
    "collapsed": false,
    "ExecuteTime": {
     "end_time": "2024-03-27T14:41:47.433858Z",
     "start_time": "2024-03-27T14:41:47.426275Z"
    }
   },
   "id": "8ed7df6c15da8765",
   "outputs": []
  },
  {
   "cell_type": "code",
   "execution_count": 14,
   "source": [
    "df2"
   ],
   "metadata": {
    "collapsed": false,
    "ExecuteTime": {
     "end_time": "2024-03-27T14:41:53.859042Z",
     "start_time": "2024-03-27T14:41:53.853611Z"
    }
   },
   "id": "2600f4bdb529f653",
   "outputs": []
  },
  {
   "cell_type": "code",
   "execution_count": 15,
   "source": [
    "# Calculate average tempos\n",
    "average_tempo_df1 = df1['Tempo'].mean()\n",
    "average_tempo_df2 = df2['Tempo'].mean()\n",
    "\n",
    "# Create a new DataFrame for plotting\n",
    "tempo_data = {\n",
    "    'Dataset': ['Dataset 1', 'Dataset 2'],\n",
    "    'Average Tempo': [average_tempo_df1, average_tempo_df2]\n",
    "}\n",
    "average_tempo_df = pd.DataFrame(tempo_data)\n",
    "\n",
    "# Plot using seaborn\n",
    "plt.figure(figsize=(10, 6))\n",
    "sns.barplot(x='Dataset', y='Average Tempo', data=average_tempo_df)\n",
    "plt.title('Average Tempo Comparison')\n",
    "plt.ylabel('Tempo (BPM)')\n",
    "plt.xlabel('Dataset')\n",
    "\n",
    "plt.show()"
   ],
   "metadata": {
    "collapsed": false,
    "ExecuteTime": {
     "end_time": "2024-03-27T14:42:00.139311Z",
     "start_time": "2024-03-27T14:42:00.094382Z"
    }
   },
   "id": "5889f88eb67c899a",
   "outputs": []
  },
  {
   "cell_type": "code",
   "execution_count": 23,
   "source": [
    "average_tempo_df1 = df1['Tempo'].mean()\n",
    "average_tempo_df2 = df2['Tempo'].mean()\n",
    "print(f'East Coast     vs    West Coast avg.Tempo\\n{average_tempo_df1} - {average_tempo_df2}')"
   ],
   "metadata": {
    "collapsed": false,
    "ExecuteTime": {
     "end_time": "2024-03-27T14:44:01.188685Z",
     "start_time": "2024-03-27T14:44:01.177548Z"
    }
   },
   "id": "d6ed97f1c7586710",
   "outputs": []
  },
  {
   "cell_type": "code",
   "execution_count": 24,
   "source": [
    "average_number_of_onset_df1 = df1['Onset Rate'].mean()\n",
    "average_number_of_onset_df2 = df2['Onset Rate'].mean()\n",
    "print(f'East Coast     vs    West Coast avg.Tempo\\n{average_number_of_onset_df1} - {average_number_of_onset_df2}')"
   ],
   "metadata": {
    "collapsed": false,
    "ExecuteTime": {
     "end_time": "2024-03-27T14:44:54.932054Z",
     "start_time": "2024-03-27T14:44:54.930468Z"
    }
   },
   "id": "b89250b1e26e3adc",
   "outputs": []
  },
  {
   "cell_type": "code",
   "execution_count": 25,
   "source": [
    "average_tempo_stability_df1 = df1['Temporal Stability'].mean()\n",
    "average_tempo_stability_df2 = df2['Temporal Stability'].mean()\n",
    "print(f'East Coast     vs    West Coast avg.Tempo\\n{average_tempo_stability_df1} - {average_tempo_stability_df2}')"
   ],
   "metadata": {
    "collapsed": false,
    "ExecuteTime": {
     "end_time": "2024-03-27T14:48:35.196344Z",
     "start_time": "2024-03-27T14:48:35.185294Z"
    }
   },
   "id": "4745d49f60fec7b9",
   "outputs": []
  },
  {
   "cell_type": "code",
   "execution_count": null,
   "source": [],
   "metadata": {
    "collapsed": false
   },
   "id": "9b21cb6b07a7ac86",
   "outputs": []
  }
 ],
 "metadata": {
  "kernelspec": {
   "display_name": "Python 3",
   "language": "python",
   "name": "python3"
  },
  "language_info": {
   "codemirror_mode": {
    "name": "ipython",
    "version": 2
   },
   "file_extension": ".py",
   "mimetype": "text/x-python",
   "name": "python",
   "nbconvert_exporter": "python",
   "pygments_lexer": "ipython2",
   "version": "2.7.6"
  }
 },
 "nbformat": 4,
 "nbformat_minor": 5
}
