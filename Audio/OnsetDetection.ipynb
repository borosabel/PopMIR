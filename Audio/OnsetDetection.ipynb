{
 "cells": [
  {
   "cell_type": "code",
   "execution_count": 1,
   "id": "initial_id",
   "metadata": {
    "collapsed": true,
    "ExecuteTime": {
     "end_time": "2024-03-27T14:03:12.973290Z",
     "start_time": "2024-03-27T14:03:12.520309Z"
    }
   },
   "outputs": [],
   "source": [
    "import librosa\n",
    "%matplotlib qt5\n",
    "import matplotlib.pyplot as plt\n",
    "import librosa.display\n",
    "import numpy as np\n",
    "import os\n",
    "import librosa\n",
    "import pandas as pd\n",
    "import seaborn as sns\n",
    "from IPython.display import Audio\n",
    "from scipy.signal import find_peaks"
   ]
  },
  {
   "cell_type": "code",
   "execution_count": 2,
   "outputs": [],
   "source": [
    "FRAME_SIZE = 1024\n",
    "HOP_LENGTH = 512\n",
    "\n",
    "def amplitude_envelope(signal, frame_size, hop_length):\n",
    "    \"\"\"Calculate the amplitude envelope of a signal with a given frame size nad hop length.\"\"\"\n",
    "    amplitude_envelope = []\n",
    "\n",
    "    # calculate amplitude envelope for each frame\n",
    "    for i in range(0, len(signal), hop_length):\n",
    "        amplitude_envelope_current_frame = max(signal[i:i+frame_size])\n",
    "        amplitude_envelope.append(amplitude_envelope_current_frame)\n",
    "\n",
    "    return np.array(amplitude_envelope)"
   ],
   "metadata": {
    "collapsed": false,
    "ExecuteTime": {
     "end_time": "2024-03-27T14:03:16.139663Z",
     "start_time": "2024-03-27T14:03:16.136681Z"
    }
   },
   "id": "79eea12b92034073"
  },
  {
   "cell_type": "code",
   "execution_count": 3,
   "outputs": [],
   "source": [
    "audio = '/Users/borosabel/Documents/Uni/Thesis/PopMIR/Audio/west_coast/ dna_ kendrick lamar.mp3'"
   ],
   "metadata": {
    "collapsed": false,
    "ExecuteTime": {
     "end_time": "2024-03-27T14:03:17.199720Z",
     "start_time": "2024-03-27T14:03:17.145723Z"
    }
   },
   "id": "ca1db1df1823ab47"
  },
  {
   "cell_type": "code",
   "execution_count": 4,
   "outputs": [],
   "source": [
    "# Load the audio file\n",
    "y, sr = librosa.load(audio)\n",
    "\n",
    "# start_time = 5000\n",
    "# end_time = start_time + 100000\n",
    "# y = y[start_time:end_time]"
   ],
   "metadata": {
    "collapsed": false,
    "ExecuteTime": {
     "end_time": "2024-03-26T18:30:56.733932Z",
     "start_time": "2024-03-26T18:30:55.427701Z"
    }
   },
   "id": "a7c0cec76548d6cd"
  },
  {
   "cell_type": "code",
   "execution_count": 5,
   "outputs": [],
   "source": [
    "# Plot the waveform\n",
    "plt.figure(figsize=(14, 5))\n",
    "librosa.display.waveshow(y, sr=sr)\n",
    "\n",
    "# Provide labels and title\n",
    "plt.title('Waveform')\n",
    "plt.xlabel('Time (seconds)')\n",
    "plt.ylabel('Amplitude')\n",
    "\n",
    "# Display the plot\n",
    "plt.show()"
   ],
   "metadata": {
    "collapsed": false,
    "ExecuteTime": {
     "end_time": "2024-03-26T18:30:58.341298Z",
     "start_time": "2024-03-26T18:30:58.231272Z"
    }
   },
   "id": "199c84d858990e98"
  },
  {
   "cell_type": "code",
   "execution_count": 12,
   "outputs": [],
   "source": [
    "onset_env = librosa.onset.onset_strength(y=y, sr=sr)\n",
    "\n",
    "# Default delta value from librosa, modify it for your use case\n",
    "delta = 0.5\n",
    "\n",
    "# Detect onsets with the chosen delta\n",
    "onsets = librosa.onset.onset_detect(onset_envelope=onset_env, sr=sr, delta=delta, backtrack=True)\n",
    "\n",
    "# Convert frame indices to time\n",
    "onset_times = librosa.frames_to_time(onsets, sr=sr)\n",
    "\n",
    "# Prepare the plots\n",
    "fig, ax = plt.subplots(nrows=2, ncols=1, figsize=(14, 10), sharex=True)\n",
    "\n",
    "# Plot the waveform on the first subplot and mark the onsets\n",
    "librosa.display.waveshow(y, sr=sr, ax=ax[0])\n",
    "ax[0].vlines(onset_times, ymin=ax[0].get_ylim()[0], ymax=ax[0].get_ylim()[1], color='r', alpha=0.9, linestyle='--', label='Onsets')\n",
    "ax[0].set(title='Waveform with Onsets')\n",
    "ax[0].legend()\n",
    "\n",
    "# Plot the onset strength on the second subplot\n",
    "ax[1].plot(librosa.times_like(onset_env), onset_env, label='Onset Strength')\n",
    "ax[1].set(title='Onset Strength')\n",
    "ax[1].label_outer()  # Hides x-labels for all but the bottom plot\n",
    "ax[1].legend()\n",
    "\n",
    "plt.show()"
   ],
   "metadata": {
    "collapsed": false,
    "ExecuteTime": {
     "end_time": "2024-03-26T18:32:24.589114Z",
     "start_time": "2024-03-26T18:32:24.335059Z"
    }
   },
   "id": "47a80ad3b0773d7c"
  },
  {
   "cell_type": "code",
   "execution_count": 13,
   "outputs": [
    {
     "name": "stdout",
     "output_type": "stream",
     "text": [
      "Estimated Tempo: 135.99917763157896 BPM\n"
     ]
    }
   ],
   "source": [
    "tempo, beats = librosa.beat.beat_track(y=y, sr=sr, onset_envelope=onset_env)\n",
    "\n",
    "# Convert the beat frames to timestamps\n",
    "beat_times = librosa.frames_to_time(beats, sr=sr)\n",
    "\n",
    "print(f\"Estimated Tempo: {tempo} BPM\")"
   ],
   "metadata": {
    "collapsed": false,
    "ExecuteTime": {
     "end_time": "2024-03-26T18:32:27.693357Z",
     "start_time": "2024-03-26T18:32:26.958940Z"
    }
   },
   "id": "ddfaf4ce447b437f"
  },
  {
   "cell_type": "code",
   "execution_count": 12,
   "outputs": [
    {
     "name": "stdout",
     "output_type": "stream",
     "text": [
      "Current file path: /Users/borosabel/Documents/Uni/Thesis/PopMIR/Audio/east_coast/ pretty girls_ wale.mp3\n",
      "Current file path: /Users/borosabel/Documents/Uni/Thesis/PopMIR/Audio/east_coast/ time 4 sum aksion_ redman.mp3\n",
      "Current file path: /Users/borosabel/Documents/Uni/Thesis/PopMIR/Audio/east_coast/ what we do_ freeway feat jay z and beanie sigel.mp3\n",
      "Current file path: /Users/borosabel/Documents/Uni/Thesis/PopMIR/Audio/east_coast/ who got da props_ black moon.mp3\n",
      "Current file path: /Users/borosabel/Documents/Uni/Thesis/PopMIR/Audio/east_coast/ itty bitty piggy_ nicki minaj.mp3\n",
      "Current file path: /Users/borosabel/Documents/Uni/Thesis/PopMIR/Audio/east_coast/ shot caller_ french montana feat charlie rock.mp3\n",
      "Current file path: /Users/borosabel/Documents/Uni/Thesis/PopMIR/Audio/east_coast/ 5 oclock_ nonchalant.mp3\n",
      "Current file path: /Users/borosabel/Documents/Uni/Thesis/PopMIR/Audio/east_coast/ just a friend_ biz markie.mp3\n",
      "Current file path: /Users/borosabel/Documents/Uni/Thesis/PopMIR/Audio/east_coast/ peter piper_ run dmc.mp3\n",
      "Current file path: /Users/borosabel/Documents/Uni/Thesis/PopMIR/Audio/east_coast/ ooouuu_ young ma.mp3\n",
      "Current file path: /Users/borosabel/Documents/Uni/Thesis/PopMIR/Audio/east_coast/ road to the riches_ kool g rap & dj polo.mp3\n",
      "Current file path: /Users/borosabel/Documents/Uni/Thesis/PopMIR/Audio/east_coast/ the message_ grandmaster flash and the furious five feat duke bootee.mp3\n",
      "Current file path: /Users/borosabel/Documents/Uni/Thesis/PopMIR/Audio/east_coast/ rhymes like dimes_ mf doom.mp3\n",
      "Current file path: /Users/borosabel/Documents/Uni/Thesis/PopMIR/Audio/east_coast/ ready or not_ fugees.mp3\n",
      "Current file path: /Users/borosabel/Documents/Uni/Thesis/PopMIR/Audio/east_coast/ superthug_ nore feat tammy lucas.mp3\n",
      "Current file path: /Users/borosabel/Documents/Uni/Thesis/PopMIR/Audio/east_coast/ hot nigga_ bobby shmurda.mp3\n",
      "Current file path: /Users/borosabel/Documents/Uni/Thesis/PopMIR/Audio/east_coast/ computers_ rowdy rebel feat bobby shmurda.mp3\n",
      "Current file path: /Users/borosabel/Documents/Uni/Thesis/PopMIR/Audio/east_coast/ cuffin season_ fabolous.mp3\n",
      "Current file path: /Users/borosabel/Documents/Uni/Thesis/PopMIR/Audio/east_coast/ rappers delight_ the sugarhill gang.mp3\n",
      "Current file path: /Users/borosabel/Documents/Uni/Thesis/PopMIR/Audio/east_coast/ day one_ ditc.mp3\n",
      "Current file path: /Users/borosabel/Documents/Uni/Thesis/PopMIR/Audio/east_coast/ nutmeg_ ghostface killah.mp3\n",
      "Current file path: /Users/borosabel/Documents/Uni/Thesis/PopMIR/Audio/east_coast/ psk what does it mean_ schoolly d.mp3\n",
      "Current file path: /Users/borosabel/Documents/Uni/Thesis/PopMIR/Audio/east_coast/ dipset anthem_ the diplomats.mp3\n",
      "Current file path: /Users/borosabel/Documents/Uni/Thesis/PopMIR/Audio/east_coast/ big drip_ fivio foreign.mp3\n",
      "Current file path: /Users/borosabel/Documents/Uni/Thesis/PopMIR/Audio/east_coast/ put your hands where my eyes could see_ busta rhymes.mp3\n",
      "Current file path: /Users/borosabel/Documents/Uni/Thesis/PopMIR/Audio/east_coast/ xo tour llif3_ lil uzi vert.mp3\n",
      "Current file path: /Users/borosabel/Documents/Uni/Thesis/PopMIR/Audio/east_coast/ the breaks_ kurtis blow.mp3\n",
      "Current file path: /Users/borosabel/Documents/Uni/Thesis/PopMIR/Audio/east_coast/ fight the power_ public enemy.mp3\n",
      "Current file path: /Users/borosabel/Documents/Uni/Thesis/PopMIR/Audio/east_coast/ vacant_ cash cobain and chow lee.mp3\n",
      "Current file path: /Users/borosabel/Documents/Uni/Thesis/PopMIR/Audio/east_coast/ 212_ azealia banks.mp3\n",
      "Current file path: /Users/borosabel/Documents/Uni/Thesis/PopMIR/Audio/east_coast/ it takes two_ rob base and dj e z rock.mp3\n",
      "Current file path: /Users/borosabel/Documents/Uni/Thesis/PopMIR/Audio/east_coast/ opp_ naughty by nature.mp3\n",
      "Current file path: /Users/borosabel/Documents/Uni/Thesis/PopMIR/Audio/east_coast/ the show_ slick rick feat doug e fresh.mp3\n",
      "Current file path: /Users/borosabel/Documents/Uni/Thesis/PopMIR/Audio/east_coast/ all about the benjamins_ puff daddy and the family feat the notorious big lil kim and the lox.mp3\n",
      "Current file path: /Users/borosabel/Documents/Uni/Thesis/PopMIR/Audio/east_coast/ eric b is president_ eric b and rakim.mp3\n",
      "Current file path: /Users/borosabel/Documents/Uni/Thesis/PopMIR/Audio/east_coast/ paper thin_ mc lyte.mp3\n",
      "Current file path: /Users/borosabel/Documents/Uni/Thesis/PopMIR/Audio/east_coast/ suburban_ 22gz.mp3\n",
      "Current file path: /Users/borosabel/Documents/Uni/Thesis/PopMIR/Audio/east_coast/ brooklyn zoo_ ol dirty bastard.mp3\n",
      "Current file path: /Users/borosabel/Documents/Uni/Thesis/PopMIR/Audio/east_coast/ paid in full (seven minutes of madness   the coldcut remix)_ eric b and rakim.mp3\n",
      "Current file path: /Users/borosabel/Documents/Uni/Thesis/PopMIR/Audio/east_coast/ the next movement_ the roots feat dj jazzy jeff and the jazzyfatnastees.mp3\n",
      "Current file path: /Users/borosabel/Documents/Uni/Thesis/PopMIR/Audio/east_coast/ so wat cha sayin_ epmd.mp3\n",
      "Current file path: /Users/borosabel/Documents/Uni/Thesis/PopMIR/Audio/east_coast/ dior_ pop smoke.mp3\n",
      "Current file path: /Users/borosabel/Documents/Uni/Thesis/PopMIR/Audio/east_coast/ scenario_ a tribe called quest feat leaders of the new school.mp3\n",
      "Current file path: /Users/borosabel/Documents/Uni/Thesis/PopMIR/Audio/east_coast/ gotta man_ eve.mp3\n",
      "Current file path: /Users/borosabel/Documents/Uni/Thesis/PopMIR/Audio/east_coast/ aint no half steppin_ big daddy kane.mp3\n",
      "Current file path: /Users/borosabel/Documents/Uni/Thesis/PopMIR/Audio/east_coast/ hall_ westside gunn.mp3\n",
      "Current file path: /Users/borosabel/Documents/Uni/Thesis/PopMIR/Audio/east_coast/ oh boy_ camron feat juelz santana.mp3\n",
      "Current file path: /Users/borosabel/Documents/Uni/Thesis/PopMIR/Audio/east_coast/ childrens story_ slick rick.mp3\n",
      "Current file path: /Users/borosabel/Documents/Uni/Thesis/PopMIR/Audio/east_coast/ still not a player_ big pun feat joe.mp3\n",
      "Current file path: /Users/borosabel/Documents/Uni/Thesis/PopMIR/Audio/east_coast/ cream_ wu tang clan.mp3\n",
      "Current file path: /Users/borosabel/Documents/Uni/Thesis/PopMIR/Audio/east_coast/ lean back_ terror squad feat fat joe and remy ma.mp3\n",
      "Current file path: /Users/borosabel/Documents/Uni/Thesis/PopMIR/Audio/east_coast/ hit different_ a boogie wit da hoodie feat b lovee.mp3\n",
      "Current file path: /Users/borosabel/Documents/Uni/Thesis/PopMIR/Audio/east_coast/ rock the bells_ ll cool j.mp3\n",
      "Current file path: /Users/borosabel/Documents/Uni/Thesis/PopMIR/Audio/east_coast/ shook ones pt ii_ mobb deep.mp3\n",
      "Current file path: /Users/borosabel/Documents/Uni/Thesis/PopMIR/Audio/east_coast/ mangosteen_ elucid feat billy woods.mp3\n",
      "Current file path: /Users/borosabel/Documents/Uni/Thesis/PopMIR/Audio/east_coast/ stakes is high_ de la soul.mp3\n",
      "Current file path: /Users/borosabel/Documents/Uni/Thesis/PopMIR/Audio/east_coast/ sometimes i rhyme slow_ nice & smooth.mp3\n",
      "Current file path: /Users/borosabel/Documents/Uni/Thesis/PopMIR/Audio/east_coast/ bonita applebum_ a tribe called quest.mp3\n",
      "Current file path: /Users/borosabel/Documents/Uni/Thesis/PopMIR/Audio/east_coast/ flava in ya ear (remix)_ craig mack feat the notorious big busta rhymes ll cool j and rampage.mp3\n",
      "Current file path: /Users/borosabel/Documents/Uni/Thesis/PopMIR/Audio/east_coast/ dreams and nightmares (intro)_ meek mill.mp3\n",
      "Current file path: /Users/borosabel/Documents/Uni/Thesis/PopMIR/Audio/east_coast/ so ghetto_ jay z.mp3\n",
      "Current file path: /Users/borosabel/Documents/Uni/Thesis/PopMIR/Audio/east_coast/ the symphony_ marley marl feat big daddy kane masta ace kool g rap and craig g.mp3\n",
      "Current file path: /Users/borosabel/Documents/Uni/Thesis/PopMIR/Audio/east_coast/ wanksta_ 50 cent.mp3\n",
      "Current file path: /Users/borosabel/Documents/Uni/Thesis/PopMIR/Audio/east_coast/ ego trippin_ ultramagenetic mcs.mp3\n",
      "Current file path: /Users/borosabel/Documents/Uni/Thesis/PopMIR/Audio/east_coast/ déjà vu (uptown baby)_ lord tariq and peter gunz.mp3\n",
      "Current file path: /Users/borosabel/Documents/Uni/Thesis/PopMIR/Audio/east_coast/ juicy_ the notorious big.mp3\n",
      "Current file path: /Users/borosabel/Documents/Uni/Thesis/PopMIR/Audio/east_coast/ 8 steps to perfection_ company flow.mp3\n",
      "Current file path: /Users/borosabel/Documents/Uni/Thesis/PopMIR/Audio/east_coast/ the bridge is over_ boogie down productions.mp3\n",
      "Current file path: /Users/borosabel/Documents/Uni/Thesis/PopMIR/Audio/east_coast/ rebel without a pause_ public enemy.mp3\n",
      "Current file path: /Users/borosabel/Documents/Uni/Thesis/PopMIR/Audio/east_coast/ ice cream_ raekwon feat ghostface killah method man and cappadonna.mp3\n",
      "Current file path: /Users/borosabel/Documents/Uni/Thesis/PopMIR/Audio/east_coast/ the bridge_ mc shan.mp3\n",
      "Current file path: /Users/borosabel/Documents/Uni/Thesis/PopMIR/Audio/east_coast/ ill be_ foxy brown feat jay z.mp3\n",
      "Current file path: /Users/borosabel/Documents/Uni/Thesis/PopMIR/Audio/east_coast/ get at me dog_ dmx feat sheek louch.mp3\n",
      "Current file path: /Users/borosabel/Documents/Uni/Thesis/PopMIR/Audio/east_coast/ top billin_ audio two.mp3\n",
      "Current file path: /Users/borosabel/Documents/Uni/Thesis/PopMIR/Audio/east_coast/ ladies first_ queen latifah feat monie love.mp3\n",
      "Current file path: /Users/borosabel/Documents/Uni/Thesis/PopMIR/Audio/east_coast/ can i get a _ jay z feat amil and ja rule.mp3\n",
      "Current file path: /Users/borosabel/Documents/Uni/Thesis/PopMIR/Audio/east_coast/ planet rock_ afrika bambaataa and the soulsonic force.mp3\n",
      "Current file path: /Users/borosabel/Documents/Uni/Thesis/PopMIR/Audio/east_coast/ big momma thang_ lil kim feat jay z and lil cease.mp3\n",
      "Current file path: /Users/borosabel/Documents/Uni/Thesis/PopMIR/Audio/east_coast/ definition_ mos def and talib kweli are black star.mp3\n",
      "Current file path: /Users/borosabel/Documents/Uni/Thesis/PopMIR/Audio/east_coast/ panic_ roc marciano.mp3\n",
      "Current file path: /Users/borosabel/Documents/Uni/Thesis/PopMIR/Audio/east_coast/ ante up (remix)_ mop feat remy ma busta rhymes and teflon.mp3\n",
      "Current file path: /Users/borosabel/Documents/Uni/Thesis/PopMIR/Audio/east_coast/ smack a bitch_ rico nasty.mp3\n",
      "Current file path: /Users/borosabel/Documents/Uni/Thesis/PopMIR/Audio/east_coast/ have a nice day_ roxanne shante.mp3\n",
      "Current file path: /Users/borosabel/Documents/Uni/Thesis/PopMIR/Audio/east_coast/ lost ones_ lauryn hill.mp3\n",
      "Current file path: /Users/borosabel/Documents/Uni/Thesis/PopMIR/Audio/east_coast/ they reminisce over you (troy)_ pete rock and cl smooth.mp3\n",
      "Current file path: /Users/borosabel/Documents/Uni/Thesis/PopMIR/Audio/east_coast/ hypnotize_ the notorious big.mp3\n",
      "Current file path: /Users/borosabel/Documents/Uni/Thesis/PopMIR/Audio/east_coast/ sucker mcs (krush groove 1)_ run dmc.mp3\n",
      "Current file path: /Users/borosabel/Documents/Uni/Thesis/PopMIR/Audio/east_coast/ plug tunin _ de la soul.mp3\n",
      "Current file path: /Users/borosabel/Documents/Uni/Thesis/PopMIR/Audio/east_coast/ munch_ ice spice.mp3\n",
      "Current file path: /Users/borosabel/Documents/Uni/Thesis/PopMIR/Audio/east_coast/ made you look_ nas.mp3\n",
      "Current file path: /Users/borosabel/Documents/Uni/Thesis/PopMIR/Audio/east_coast/ 1 train_ a$ap rocky feat yelawolf big krit danny brown kendrick lamar action bronson and joey bada$$.mp3\n",
      "Current file path: /Users/borosabel/Documents/Uni/Thesis/PopMIR/Audio/east_coast/ mass appeal_ gang starr.mp3\n",
      "Current file path: /Users/borosabel/Documents/Uni/Thesis/PopMIR/Audio/east_coast/ paul revere_ beastie boys.mp3\n",
      "Current file path: /Users/borosabel/Documents/Uni/Thesis/PopMIR/Audio/east_coast/ stress_ organized konfusion.mp3\n",
      "Current file path: /Users/borosabel/Documents/Uni/Thesis/PopMIR/Audio/east_coast/ thats the joint_ funky 4+1.mp3\n",
      "Current file path: /Users/borosabel/Documents/Uni/Thesis/PopMIR/Audio/east_coast/ ny state of mind_ nas.mp3\n",
      "Current file path: /Users/borosabel/Documents/Uni/Thesis/PopMIR/Audio/east_coast/ push it_ salt n pepa.mp3\n",
      "Current file path: /Users/borosabel/Documents/Uni/Thesis/PopMIR/Audio/east_coast/ come clean_ jeru the damaja.mp3\n",
      "Current file path: /Users/borosabel/Documents/Uni/Thesis/PopMIR/Audio/east_coast/ bodak yellow_ cardi b.mp3\n",
      "Current file path: /Users/borosabel/Documents/Uni/Thesis/PopMIR/Audio/east_coast/ we gonna make it_ jadakiss feat styles p.mp3\n",
      "Current file path: /Users/borosabel/Documents/Uni/Thesis/PopMIR/Audio/west_coast/ like whaaat_ problem feat bad luc.mp3\n",
      "Current file path: /Users/borosabel/Documents/Uni/Thesis/PopMIR/Audio/west_coast/ call it what u want_ above the law.mp3\n",
      "Current file path: /Users/borosabel/Documents/Uni/Thesis/PopMIR/Audio/west_coast/ la raza_ kid frost.mp3\n",
      "Current file path: /Users/borosabel/Documents/Uni/Thesis/PopMIR/Audio/west_coast/ dead homiez_ ice cube.mp3\n",
      "Current file path: /Users/borosabel/Documents/Uni/Thesis/PopMIR/Audio/west_coast/ 6 in the mornin_ ice t.mp3\n",
      "Current file path: /Users/borosabel/Documents/Uni/Thesis/PopMIR/Audio/west_coast/ yonkers_ tyler the creator.mp3\n",
      "Current file path: /Users/borosabel/Documents/Uni/Thesis/PopMIR/Audio/west_coast/ i get around_ 2pac feat digital underground.mp3\n",
      "Current file path: /Users/borosabel/Documents/Uni/Thesis/PopMIR/Audio/west_coast/ tonite_ dj quik.mp3\n",
      "Current file path: /Users/borosabel/Documents/Uni/Thesis/PopMIR/Audio/west_coast/ egypt egypt_ egyptian lover.mp3\n",
      "Current file path: /Users/borosabel/Documents/Uni/Thesis/PopMIR/Audio/west_coast/ at your own risk (buddha mix)_ king tee.mp3\n",
      "Current file path: /Users/borosabel/Documents/Uni/Thesis/PopMIR/Audio/west_coast/ triggas got no heart_ spice 1.mp3\n",
      "Current file path: /Users/borosabel/Documents/Uni/Thesis/PopMIR/Audio/west_coast/ regulate_ warren g feat nate dogg.mp3\n",
      "Current file path: /Users/borosabel/Documents/Uni/Thesis/PopMIR/Audio/west_coast/ midnight in a perfect world_ dj shadow.mp3\n",
      "Current file path: /Users/borosabel/Documents/Uni/Thesis/PopMIR/Audio/west_coast/ qualifiers_ open mike eagle.mp3\n",
      "Current file path: /Users/borosabel/Documents/Uni/Thesis/PopMIR/Audio/west_coast/ callin out_ lyrics born.mp3\n",
      "Current file path: /Users/borosabel/Documents/Uni/Thesis/PopMIR/Audio/west_coast/ colors_ ice t.mp3\n",
      "Current file path: /Users/borosabel/Documents/Uni/Thesis/PopMIR/Audio/west_coast/ same love_ macklemore and ryan lewis.mp3\n",
      "Current file path: /Users/borosabel/Documents/Uni/Thesis/PopMIR/Audio/west_coast/ light sleeper_ saafir.mp3\n",
      "Current file path: /Users/borosabel/Documents/Uni/Thesis/PopMIR/Audio/west_coast/ batteram_ toddy tee.mp3\n",
      "Current file path: /Users/borosabel/Documents/Uni/Thesis/PopMIR/Audio/west_coast/ lets get it started_ mc hammer.mp3\n",
      "Current file path: /Users/borosabel/Documents/Uni/Thesis/PopMIR/Audio/west_coast/ dont give me no bammer_ rbl posse.mp3\n",
      "Current file path: /Users/borosabel/Documents/Uni/Thesis/PopMIR/Audio/west_coast/ feelin myself_ mac dre.mp3\n",
      "Current file path: /Users/borosabel/Documents/Uni/Thesis/PopMIR/Audio/west_coast/ aint no fun (if the homies cant have none)_ snoop dogg feat kurupt nate dogg & warren g.mp3\n",
      "Current file path: /Users/borosabel/Documents/Uni/Thesis/PopMIR/Audio/west_coast/ anti_ sob x rbe.mp3\n",
      "Current file path: /Users/borosabel/Documents/Uni/Thesis/PopMIR/Audio/west_coast/ california love_ 2pac.mp3\n",
      "Current file path: /Users/borosabel/Documents/Uni/Thesis/PopMIR/Audio/west_coast/ everlasting bass_ rodney o and dj joe cooley.mp3\n",
      "Current file path: /Users/borosabel/Documents/Uni/Thesis/PopMIR/Audio/west_coast/ get your walk on_ xzbit.mp3\n",
      "Current file path: /Users/borosabel/Documents/Uni/Thesis/PopMIR/Audio/west_coast/ never bend_ 03 greedo.mp3\n",
      "Current file path: /Users/borosabel/Documents/Uni/Thesis/PopMIR/Audio/west_coast/ hail mary_ makaveli feat outlawz.mp3\n",
      "Current file path: /Users/borosabel/Documents/Uni/Thesis/PopMIR/Audio/west_coast/ bow down_ westside connection.mp3\n",
      "Current file path: /Users/borosabel/Documents/Uni/Thesis/PopMIR/Audio/west_coast/ how i could just kill a man_ cypress hill.mp3\n",
      "Current file path: /Users/borosabel/Documents/Uni/Thesis/PopMIR/Audio/west_coast/ glamorous lifestyle_ the jacka feat andre nickatina.mp3\n",
      "Current file path: /Users/borosabel/Documents/Uni/Thesis/PopMIR/Audio/west_coast/ passin me by_ the pharcyde.mp3\n",
      "Current file path: /Users/borosabel/Documents/Uni/Thesis/PopMIR/Audio/west_coast/ put me on somethin _ p lo.mp3\n",
      "Current file path: /Users/borosabel/Documents/Uni/Thesis/PopMIR/Audio/west_coast/ maad city_ kendrick lamar feat mc eiht.mp3\n",
      "Current file path: /Users/borosabel/Documents/Uni/Thesis/PopMIR/Audio/west_coast/ turn off the lights_ world class wreckin cru.mp3\n",
      "Current file path: /Users/borosabel/Documents/Uni/Thesis/PopMIR/Audio/west_coast/ boyz n the hood_ eazy e.mp3\n",
      "Current file path: /Users/borosabel/Documents/Uni/Thesis/PopMIR/Audio/west_coast/ alphabet aerobics (the cut chemist 2 ½ minute workout)_ blackalicious.mp3\n",
      "Current file path: /Users/borosabel/Documents/Uni/Thesis/PopMIR/Audio/west_coast/Power Of The P (feat. S.I.N.).mp3\n",
      "Current file path: /Users/borosabel/Documents/Uni/Thesis/PopMIR/Audio/west_coast/ somethin to ride to (fonky expedition)_ the conscious daughters.mp3\n",
      "Current file path: /Users/borosabel/Documents/Uni/Thesis/PopMIR/Audio/west_coast/ bust a move_ young mc.mp3\n",
      "Current file path: /Users/borosabel/Documents/Uni/Thesis/PopMIR/Audio/west_coast/ straight outta compton_ nwa.mp3\n",
      "Current file path: /Users/borosabel/Documents/Uni/Thesis/PopMIR/Audio/west_coast/ when i come around_ dom kennedy.mp3\n",
      "Current file path: /Users/borosabel/Documents/Uni/Thesis/PopMIR/Audio/west_coast/ inner light_ zion i.mp3\n",
      "Current file path: /Users/borosabel/Documents/Uni/Thesis/PopMIR/Audio/west_coast/ you cant play with my yo yo_ yo yo feat ice cube.mp3\n",
      "Current file path: /Users/borosabel/Documents/Uni/Thesis/PopMIR/Audio/west_coast/ still dre_ dr dre.mp3\n",
      "Current file path: /Users/borosabel/Documents/Uni/Thesis/PopMIR/Audio/west_coast/ microphone mathematics_ quasimoto.mp3\n",
      "Current file path: /Users/borosabel/Documents/Uni/Thesis/PopMIR/Audio/west_coast/ ayo_ san quinn & andre nickatina.mp3\n",
      "Current file path: /Users/borosabel/Documents/Uni/Thesis/PopMIR/Audio/west_coast/ rack city_ tyga.mp3\n",
      "Current file path: /Users/borosabel/Documents/Uni/Thesis/PopMIR/Audio/west_coast/ the dream team is in the house_ la dream team.mp3\n",
      "Current file path: /Users/borosabel/Documents/Uni/Thesis/PopMIR/Audio/west_coast/ concrete schoolyard_ jurassic 5.mp3\n",
      "Current file path: /Users/borosabel/Documents/Uni/Thesis/PopMIR/Audio/west_coast/ 7th seal_ freestyle fellowship.mp3\n",
      "Current file path: /Users/borosabel/Documents/Uni/Thesis/PopMIR/Audio/west_coast/ fuck tha police_ nwa.mp3\n",
      "Current file path: /Users/borosabel/Documents/Uni/Thesis/PopMIR/Audio/west_coast/ game recognize game_ jt the bigga figga.mp3\n",
      "Current file path: /Users/borosabel/Documents/Uni/Thesis/PopMIR/Audio/west_coast/ yeah yeah yeah_ oaktowns 3 5 7.mp3\n",
      "Current file path: /Users/borosabel/Documents/Uni/Thesis/PopMIR/Audio/west_coast/ fantastic voyage_ coolio.mp3\n",
      "Current file path: /Users/borosabel/Documents/Uni/Thesis/PopMIR/Audio/west_coast/ flu flamming_ drakeo the ruler.mp3\n",
      "Current file path: /Users/borosabel/Documents/Uni/Thesis/PopMIR/Audio/west_coast/ acid raindrops_ people under the stairs.mp3\n",
      "Current file path: /Users/borosabel/Documents/Uni/Thesis/PopMIR/Audio/west_coast/ gin and juice_ snoop doggy dogg.mp3\n",
      "Current file path: /Users/borosabel/Documents/Uni/Thesis/PopMIR/Audio/west_coast/ super hyphy_ keak da sneak.mp3\n",
      "Current file path: /Users/borosabel/Documents/Uni/Thesis/PopMIR/Audio/west_coast/ nothin but the cavi hit_ mack 10 & tha dogg pound.mp3\n",
      "Current file path: /Users/borosabel/Documents/Uni/Thesis/PopMIR/Audio/west_coast/ how does it feel_ kamaiyah.mp3\n",
      "Current file path: /Users/borosabel/Documents/Uni/Thesis/PopMIR/Audio/west_coast/ fat cats bigga fish_ the coup.mp3\n",
      "Current file path: /Users/borosabel/Documents/Uni/Thesis/PopMIR/Audio/west_coast/ rules_ doja cat.mp3\n",
      "Current file path: /Users/borosabel/Documents/Uni/Thesis/PopMIR/Audio/west_coast/ the box_ roddy ricch.mp3\n",
      "Current file path: /Users/borosabel/Documents/Uni/Thesis/PopMIR/Audio/west_coast/ i got 5 on it_ luniz.mp3\n",
      "Current file path: /Users/borosabel/Documents/Uni/Thesis/PopMIR/Audio/west_coast/ last time that i checcd_ nipsey hussle feat yg.mp3\n",
      "Current file path: /Users/borosabel/Documents/Uni/Thesis/PopMIR/Audio/west_coast/ blow the whistle_ too $hort.mp3\n",
      "Current file path: /Users/borosabel/Documents/Uni/Thesis/PopMIR/Audio/west_coast/ im god_ lil b.mp3\n",
      "Current file path: /Users/borosabel/Documents/Uni/Thesis/PopMIR/Audio/west_coast/ bad times (i cant stand it)_ captain rapp.mp3\n",
      "Current file path: /Users/borosabel/Documents/Uni/Thesis/PopMIR/Audio/west_coast/ runnin_ the pharcyde.mp3\n",
      "Current file path: /Users/borosabel/Documents/Uni/Thesis/PopMIR/Audio/west_coast/ real muthaphuckkin gs_ eazy e.mp3\n",
      "Current file path: /Users/borosabel/Documents/Uni/Thesis/PopMIR/Audio/west_coast/ make room_ the alkaholiks.mp3\n",
      "Current file path: /Users/borosabel/Documents/Uni/Thesis/PopMIR/Audio/west_coast/ hate it or love it_ the game feat 50 cent.mp3\n",
      "Current file path: /Users/borosabel/Documents/Uni/Thesis/PopMIR/Audio/west_coast/ why u bullshittin _ suga free.mp3\n",
      "Current file path: /Users/borosabel/Documents/Uni/Thesis/PopMIR/Audio/west_coast/ its funky enough_ the doc.mp3\n",
      "Current file path: /Users/borosabel/Documents/Uni/Thesis/PopMIR/Audio/west_coast/ freaky tales_ too $hort.mp3\n",
      "Current file path: /Users/borosabel/Documents/Uni/Thesis/PopMIR/Audio/west_coast/ captain save a hoe_ e 40 feat the click.mp3\n",
      "Current file path: /Users/borosabel/Documents/Uni/Thesis/PopMIR/Audio/west_coast/ “so(ul) amazin (steel blazin)”_ blu and exile.mp3\n",
      "Current file path: /Users/borosabel/Documents/Uni/Thesis/PopMIR/Audio/west_coast/ streiht up menace_ mc eiht.mp3\n",
      "Current file path: /Users/borosabel/Documents/Uni/Thesis/PopMIR/Audio/west_coast/ 3030_ deltron 3030.mp3\n",
      "Current file path: /Users/borosabel/Documents/Uni/Thesis/PopMIR/Audio/west_coast/ chum_ earl sweatshirt.mp3\n",
      "Current file path: /Users/borosabel/Documents/Uni/Thesis/PopMIR/Audio/west_coast/ norf norf_ vince staples.mp3\n",
      "Current file path: /Users/borosabel/Documents/Uni/Thesis/PopMIR/Audio/west_coast/ dna_ kendrick lamar.mp3\n",
      "Current file path: /Users/borosabel/Documents/Uni/Thesis/PopMIR/Audio/west_coast/ doowutchyalike_ digital underground.mp3\n",
      "Current file path: /Users/borosabel/Documents/Uni/Thesis/PopMIR/Audio/west_coast/ supersonic_ jj fad.mp3\n",
      "Current file path: /Users/borosabel/Documents/Uni/Thesis/PopMIR/Audio/west_coast/ work the angles_ dilated peoples.mp3\n",
      "Current file path: /Users/borosabel/Documents/Uni/Thesis/PopMIR/Audio/west_coast/ 93 til infinity_ souls of mischief.mp3\n",
      "Current file path: /Users/borosabel/Documents/Uni/Thesis/PopMIR/Audio/west_coast/ nuthin but a _ dr  dre  feat snoop doggy dogg.mp3\n",
      "Current file path: /Users/borosabel/Documents/Uni/Thesis/PopMIR/Audio/west_coast/ joints and jams_ black eyed peas.mp3\n",
      "Current file path: /Users/borosabel/Documents/Uni/Thesis/PopMIR/Audio/west_coast/ icy grl_ saweetie.mp3\n",
      "Current file path: /Users/borosabel/Documents/Uni/Thesis/PopMIR/Audio/west_coast/ fdt_ yg feat nispey hussle.mp3\n",
      "Current file path: /Users/borosabel/Documents/Uni/Thesis/PopMIR/Audio/west_coast/ it was a good day_ ice cube.mp3\n",
      "Current file path: /Users/borosabel/Documents/Uni/Thesis/PopMIR/Audio/west_coast/ man of the year_ schoolboy q.mp3\n",
      "Current file path: /Users/borosabel/Documents/Uni/Thesis/PopMIR/Audio/west_coast/ i wish_ skee lo.mp3\n",
      "Current file path: /Users/borosabel/Documents/Uni/Thesis/PopMIR/Audio/west_coast/ posse on broadway_ sir mix a lot.mp3\n",
      "Current file path: /Users/borosabel/Documents/Uni/Thesis/PopMIR/Audio/west_coast/ gucci gucci_ kreayshawn.mp3\n",
      "Current file path: /Users/borosabel/Documents/Uni/Thesis/PopMIR/Audio/west_coast/ bladadah_ mozzy.mp3\n",
      "Current file path: /Users/borosabel/Documents/Uni/Thesis/PopMIR/Audio/west_coast/ rest in piss_ brotha lynch hung.mp3\n",
      "Current file path: /Users/borosabel/Documents/Uni/Thesis/PopMIR/Audio/west_coast/ afro puffs_ the lady of rage.mp3\n"
     ]
    }
   ],
   "source": [
    "import os\n",
    "import pandas as pd\n",
    "import librosa\n",
    "import numpy as np\n",
    "\n",
    "def compute_temporal_stability(beats, sr):\n",
    "    beat_times = librosa.frames_to_time(beats, sr=sr)\n",
    "    beat_intervals = np.diff(beat_times)\n",
    "    stability = np.std(beat_intervals)\n",
    "    return stability\n",
    "\n",
    "def process_audio_files(folder_path):\n",
    "    metrics = []\n",
    "\n",
    "    for filename in os.listdir(folder_path):\n",
    "        if filename.endswith(\".mp3\"):  # Assuming the files are MP3 format\n",
    "            file_path = os.path.join(folder_path, filename)\n",
    "            print('Current file path:', file_path)\n",
    "            # Load the audio file\n",
    "            y, sr = librosa.load(file_path, sr=None)  # Use the native sampling rate\n",
    "\n",
    "            # Compute the onset envelope and detect onsets\n",
    "            onset_env = librosa.onset.onset_strength(y=y, sr=sr)\n",
    "            onsets = librosa.onset.onset_detect(y=y, sr=sr, onset_envelope=onset_env, backtrack=True)\n",
    "            onset_times = librosa.frames_to_time(onsets, sr=sr)\n",
    "\n",
    "            # Compute tempo and beats\n",
    "            tempo, beats = librosa.beat.beat_track(y=y, sr=sr, onset_envelope=onset_env)\n",
    "\n",
    "            # Calculate temporal stability\n",
    "            temporal_stability = compute_temporal_stability(beats, sr)\n",
    "\n",
    "            # Append metrics for the current file to the list\n",
    "            metrics.append({\n",
    "                'Filename': filename,\n",
    "                'Tempo': tempo,\n",
    "                'Total Onsets': len(onset_times),\n",
    "                'Onset Rate': len(onset_times) / (len(y) / sr),  # Total onsets divided by the duration of the audio in seconds\n",
    "                'Temporal Stability': temporal_stability,\n",
    "            })\n",
    "\n",
    "    # Create a DataFrame from the metrics\n",
    "    df = pd.DataFrame(metrics)\n",
    "    return df\n",
    "\n",
    "east_coast = '/Users/borosabel/Documents/Uni/Thesis/PopMIR/Audio/east_coast'\n",
    "west_coast = '/Users/borosabel/Documents/Uni/Thesis/PopMIR/Audio/west_coast'\n",
    "\n",
    "df1 = process_audio_files(east_coast)\n",
    "df2 = process_audio_files(west_coast)"
   ],
   "metadata": {
    "collapsed": false,
    "ExecuteTime": {
     "end_time": "2024-03-27T14:40:32.473544Z",
     "start_time": "2024-03-27T14:29:38.760822Z"
    }
   },
   "id": "7d2fe9b279708971"
  },
  {
   "cell_type": "code",
   "execution_count": 13,
   "outputs": [
    {
     "data": {
      "text/plain": "                                             Filename       Tempo  \\\n0                              pretty girls_ wale.mp3  119.680851   \n1                       time 4 sum aksion_ redman.mp3  104.166667   \n2    what we do_ freeway feat jay z and beanie sig...   93.750000   \n3                    who got da props_ black moon.mp3  100.446429   \n4                   itty bitty piggy_ nicki minaj.mp3   92.213115   \n..                                                ...         ...   \n95                          ny state of mind_ nas.mp3  125.000000   \n96                           push it_ salt n pepa.mp3  130.813953   \n97                    come clean_ jeru the damaja.mp3   87.890625   \n98                          bodak yellow_ cardi b.mp3  125.000000   \n99       we gonna make it_ jadakiss feat styles p.mp3   86.538462   \n\n    Total Onsets  Onset Rate  Temporal Stability  \n0            714    2.750395            0.038107  \n1           1203    5.571447            0.031565  \n2           1445    6.403679            0.018628  \n3           1197    4.925755            0.013856  \n4           1110    4.496845            0.023270  \n..           ...         ...                 ...  \n95          1418    4.797939            0.040543  \n96          1148    4.340480            0.009336  \n97          1016    4.272369            0.035547  \n98          1608    6.880697            0.011244  \n99          1040    4.892573            0.019898  \n\n[100 rows x 5 columns]",
      "text/html": "<div>\n<style scoped>\n    .dataframe tbody tr th:only-of-type {\n        vertical-align: middle;\n    }\n\n    .dataframe tbody tr th {\n        vertical-align: top;\n    }\n\n    .dataframe thead th {\n        text-align: right;\n    }\n</style>\n<table border=\"1\" class=\"dataframe\">\n  <thead>\n    <tr style=\"text-align: right;\">\n      <th></th>\n      <th>Filename</th>\n      <th>Tempo</th>\n      <th>Total Onsets</th>\n      <th>Onset Rate</th>\n      <th>Temporal Stability</th>\n    </tr>\n  </thead>\n  <tbody>\n    <tr>\n      <th>0</th>\n      <td>pretty girls_ wale.mp3</td>\n      <td>119.680851</td>\n      <td>714</td>\n      <td>2.750395</td>\n      <td>0.038107</td>\n    </tr>\n    <tr>\n      <th>1</th>\n      <td>time 4 sum aksion_ redman.mp3</td>\n      <td>104.166667</td>\n      <td>1203</td>\n      <td>5.571447</td>\n      <td>0.031565</td>\n    </tr>\n    <tr>\n      <th>2</th>\n      <td>what we do_ freeway feat jay z and beanie sig...</td>\n      <td>93.750000</td>\n      <td>1445</td>\n      <td>6.403679</td>\n      <td>0.018628</td>\n    </tr>\n    <tr>\n      <th>3</th>\n      <td>who got da props_ black moon.mp3</td>\n      <td>100.446429</td>\n      <td>1197</td>\n      <td>4.925755</td>\n      <td>0.013856</td>\n    </tr>\n    <tr>\n      <th>4</th>\n      <td>itty bitty piggy_ nicki minaj.mp3</td>\n      <td>92.213115</td>\n      <td>1110</td>\n      <td>4.496845</td>\n      <td>0.023270</td>\n    </tr>\n    <tr>\n      <th>...</th>\n      <td>...</td>\n      <td>...</td>\n      <td>...</td>\n      <td>...</td>\n      <td>...</td>\n    </tr>\n    <tr>\n      <th>95</th>\n      <td>ny state of mind_ nas.mp3</td>\n      <td>125.000000</td>\n      <td>1418</td>\n      <td>4.797939</td>\n      <td>0.040543</td>\n    </tr>\n    <tr>\n      <th>96</th>\n      <td>push it_ salt n pepa.mp3</td>\n      <td>130.813953</td>\n      <td>1148</td>\n      <td>4.340480</td>\n      <td>0.009336</td>\n    </tr>\n    <tr>\n      <th>97</th>\n      <td>come clean_ jeru the damaja.mp3</td>\n      <td>87.890625</td>\n      <td>1016</td>\n      <td>4.272369</td>\n      <td>0.035547</td>\n    </tr>\n    <tr>\n      <th>98</th>\n      <td>bodak yellow_ cardi b.mp3</td>\n      <td>125.000000</td>\n      <td>1608</td>\n      <td>6.880697</td>\n      <td>0.011244</td>\n    </tr>\n    <tr>\n      <th>99</th>\n      <td>we gonna make it_ jadakiss feat styles p.mp3</td>\n      <td>86.538462</td>\n      <td>1040</td>\n      <td>4.892573</td>\n      <td>0.019898</td>\n    </tr>\n  </tbody>\n</table>\n<p>100 rows × 5 columns</p>\n</div>"
     },
     "execution_count": 13,
     "metadata": {},
     "output_type": "execute_result"
    }
   ],
   "source": [
    "df1"
   ],
   "metadata": {
    "collapsed": false,
    "ExecuteTime": {
     "end_time": "2024-03-27T14:41:47.433858Z",
     "start_time": "2024-03-27T14:41:47.426275Z"
    }
   },
   "id": "8ed7df6c15da8765"
  },
  {
   "cell_type": "code",
   "execution_count": 14,
   "outputs": [
    {
     "data": {
      "text/plain": "                                   Filename       Tempo  Total Onsets  \\\n0     like whaaat_ problem feat bad luc.mp3   93.750000          1033   \n1    call it what u want_ above the law.mp3   98.684211          1256   \n2                    la raza_ kid frost.mp3  108.173077          1145   \n3                 dead homiez_ ice cube.mp3  112.500000          1062   \n4                6 in the mornin_ ice t.mp3   92.213115           906   \n..                                      ...         ...           ...   \n95     posse on broadway_ sir mix a lot.mp3   86.538462          1496   \n96              gucci gucci_ kreayshawn.mp3  156.250000           765   \n97                      bladadah_ mozzy.mp3  122.282609          1005   \n98      rest in piss_ brotha lynch hung.mp3  137.195122          1367   \n99         afro puffs_ the lady of rage.mp3   90.725806          1185   \n\n    Onset Rate  Temporal Stability  \n0     3.822123            0.032995  \n1     4.521558            0.012759  \n2     4.045204            0.014563  \n3     4.805266            0.027877  \n4     4.043961            0.035895  \n..         ...                 ...  \n95    5.319738            0.015024  \n96    4.008736            0.009111  \n97    4.573061            0.042773  \n98    4.833281            0.013049  \n99    3.315921            0.017562  \n\n[100 rows x 5 columns]",
      "text/html": "<div>\n<style scoped>\n    .dataframe tbody tr th:only-of-type {\n        vertical-align: middle;\n    }\n\n    .dataframe tbody tr th {\n        vertical-align: top;\n    }\n\n    .dataframe thead th {\n        text-align: right;\n    }\n</style>\n<table border=\"1\" class=\"dataframe\">\n  <thead>\n    <tr style=\"text-align: right;\">\n      <th></th>\n      <th>Filename</th>\n      <th>Tempo</th>\n      <th>Total Onsets</th>\n      <th>Onset Rate</th>\n      <th>Temporal Stability</th>\n    </tr>\n  </thead>\n  <tbody>\n    <tr>\n      <th>0</th>\n      <td>like whaaat_ problem feat bad luc.mp3</td>\n      <td>93.750000</td>\n      <td>1033</td>\n      <td>3.822123</td>\n      <td>0.032995</td>\n    </tr>\n    <tr>\n      <th>1</th>\n      <td>call it what u want_ above the law.mp3</td>\n      <td>98.684211</td>\n      <td>1256</td>\n      <td>4.521558</td>\n      <td>0.012759</td>\n    </tr>\n    <tr>\n      <th>2</th>\n      <td>la raza_ kid frost.mp3</td>\n      <td>108.173077</td>\n      <td>1145</td>\n      <td>4.045204</td>\n      <td>0.014563</td>\n    </tr>\n    <tr>\n      <th>3</th>\n      <td>dead homiez_ ice cube.mp3</td>\n      <td>112.500000</td>\n      <td>1062</td>\n      <td>4.805266</td>\n      <td>0.027877</td>\n    </tr>\n    <tr>\n      <th>4</th>\n      <td>6 in the mornin_ ice t.mp3</td>\n      <td>92.213115</td>\n      <td>906</td>\n      <td>4.043961</td>\n      <td>0.035895</td>\n    </tr>\n    <tr>\n      <th>...</th>\n      <td>...</td>\n      <td>...</td>\n      <td>...</td>\n      <td>...</td>\n      <td>...</td>\n    </tr>\n    <tr>\n      <th>95</th>\n      <td>posse on broadway_ sir mix a lot.mp3</td>\n      <td>86.538462</td>\n      <td>1496</td>\n      <td>5.319738</td>\n      <td>0.015024</td>\n    </tr>\n    <tr>\n      <th>96</th>\n      <td>gucci gucci_ kreayshawn.mp3</td>\n      <td>156.250000</td>\n      <td>765</td>\n      <td>4.008736</td>\n      <td>0.009111</td>\n    </tr>\n    <tr>\n      <th>97</th>\n      <td>bladadah_ mozzy.mp3</td>\n      <td>122.282609</td>\n      <td>1005</td>\n      <td>4.573061</td>\n      <td>0.042773</td>\n    </tr>\n    <tr>\n      <th>98</th>\n      <td>rest in piss_ brotha lynch hung.mp3</td>\n      <td>137.195122</td>\n      <td>1367</td>\n      <td>4.833281</td>\n      <td>0.013049</td>\n    </tr>\n    <tr>\n      <th>99</th>\n      <td>afro puffs_ the lady of rage.mp3</td>\n      <td>90.725806</td>\n      <td>1185</td>\n      <td>3.315921</td>\n      <td>0.017562</td>\n    </tr>\n  </tbody>\n</table>\n<p>100 rows × 5 columns</p>\n</div>"
     },
     "execution_count": 14,
     "metadata": {},
     "output_type": "execute_result"
    }
   ],
   "source": [
    "df2"
   ],
   "metadata": {
    "collapsed": false,
    "ExecuteTime": {
     "end_time": "2024-03-27T14:41:53.859042Z",
     "start_time": "2024-03-27T14:41:53.853611Z"
    }
   },
   "id": "2600f4bdb529f653"
  },
  {
   "cell_type": "code",
   "execution_count": 15,
   "outputs": [],
   "source": [
    "# Calculate average tempos\n",
    "average_tempo_df1 = df1['Tempo'].mean()\n",
    "average_tempo_df2 = df2['Tempo'].mean()\n",
    "\n",
    "# Create a new DataFrame for plotting\n",
    "tempo_data = {\n",
    "    'Dataset': ['Dataset 1', 'Dataset 2'],\n",
    "    'Average Tempo': [average_tempo_df1, average_tempo_df2]\n",
    "}\n",
    "average_tempo_df = pd.DataFrame(tempo_data)\n",
    "\n",
    "# Plot using seaborn\n",
    "plt.figure(figsize=(10, 6))\n",
    "sns.barplot(x='Dataset', y='Average Tempo', data=average_tempo_df)\n",
    "plt.title('Average Tempo Comparison')\n",
    "plt.ylabel('Tempo (BPM)')\n",
    "plt.xlabel('Dataset')\n",
    "\n",
    "plt.show()"
   ],
   "metadata": {
    "collapsed": false,
    "ExecuteTime": {
     "end_time": "2024-03-27T14:42:00.139311Z",
     "start_time": "2024-03-27T14:42:00.094382Z"
    }
   },
   "id": "5889f88eb67c899a"
  },
  {
   "cell_type": "code",
   "execution_count": 23,
   "outputs": [
    {
     "name": "stdout",
     "output_type": "stream",
     "text": [
      "East Coast     vs    West Coast avg.Tempo\n",
      "110.1164768291291 - 115.12923026478063\n"
     ]
    }
   ],
   "source": [
    "average_tempo_df1 = df1['Tempo'].mean()\n",
    "average_tempo_df2 = df2['Tempo'].mean()\n",
    "print(f'East Coast     vs    West Coast avg.Tempo\\n{average_tempo_df1} - {average_tempo_df2}')"
   ],
   "metadata": {
    "collapsed": false,
    "ExecuteTime": {
     "end_time": "2024-03-27T14:44:01.188685Z",
     "start_time": "2024-03-27T14:44:01.177548Z"
    }
   },
   "id": "d6ed97f1c7586710"
  },
  {
   "cell_type": "code",
   "execution_count": 24,
   "outputs": [
    {
     "name": "stdout",
     "output_type": "stream",
     "text": [
      "East Coast     vs    West Coast avg.Tempo\n",
      "4.777115293474848 - 4.72658460262237\n"
     ]
    }
   ],
   "source": [
    "average_number_of_onset_df1 = df1['Onset Rate'].mean()\n",
    "average_number_of_onset_df2 = df2['Onset Rate'].mean()\n",
    "print(f'East Coast     vs    West Coast avg.Tempo\\n{average_number_of_onset_df1} - {average_number_of_onset_df2}')"
   ],
   "metadata": {
    "collapsed": false,
    "ExecuteTime": {
     "end_time": "2024-03-27T14:44:54.932054Z",
     "start_time": "2024-03-27T14:44:54.930468Z"
    }
   },
   "id": "b89250b1e26e3adc"
  },
  {
   "cell_type": "code",
   "execution_count": 25,
   "outputs": [
    {
     "name": "stdout",
     "output_type": "stream",
     "text": [
      "East Coast     vs    West Coast avg.Tempo\n",
      "0.02641595873943965 - 0.020638804569234996\n"
     ]
    }
   ],
   "source": [
    "average_tempo_stability_df1 = df1['Temporal Stability'].mean()\n",
    "average_tempo_stability_df2 = df2['Temporal Stability'].mean()\n",
    "print(f'East Coast     vs    West Coast avg.Tempo\\n{average_tempo_stability_df1} - {average_tempo_stability_df2}')"
   ],
   "metadata": {
    "collapsed": false,
    "ExecuteTime": {
     "end_time": "2024-03-27T14:48:35.196344Z",
     "start_time": "2024-03-27T14:48:35.185294Z"
    }
   },
   "id": "4745d49f60fec7b9"
  },
  {
   "cell_type": "code",
   "execution_count": null,
   "outputs": [],
   "source": [],
   "metadata": {
    "collapsed": false
   },
   "id": "9b21cb6b07a7ac86"
  }
 ],
 "metadata": {
  "kernelspec": {
   "display_name": "Python 3",
   "language": "python",
   "name": "python3"
  },
  "language_info": {
   "codemirror_mode": {
    "name": "ipython",
    "version": 2
   },
   "file_extension": ".py",
   "mimetype": "text/x-python",
   "name": "python",
   "nbconvert_exporter": "python",
   "pygments_lexer": "ipython2",
   "version": "2.7.6"
  }
 },
 "nbformat": 4,
 "nbformat_minor": 5
}
